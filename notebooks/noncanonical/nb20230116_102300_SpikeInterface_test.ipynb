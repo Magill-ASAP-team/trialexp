{
 "cells": [
  {
   "attachments": {},
   "cell_type": "markdown",
   "metadata": {},
   "source": [
    "# SpikeInterface test and implementation workflow\n"
   ]
  },
  {
   "attachments": {},
   "cell_type": "markdown",
   "metadata": {},
   "source": [
    "### Extracting Variables"
   ]
  },
  {
   "cell_type": "code",
   "execution_count": 3,
   "metadata": {},
   "outputs": [],
   "source": [
    "from pathlib import Path\n",
    "\n",
    "# Extractors from SpikeInterface\n",
    "import spikeinterface.extractors as se\n",
    "import spikeinterface.sorters as ss\n",
    "from spikeinterface import concatenate_recordings\n",
    "# from spikeinterface.sorters.kilosort3 import Kilosort3Sorter\n",
    "\n",
    "\n",
    "# Neo class and methods for openephys data extraction/exploration\n",
    "from neo.rawio.openephysbinaryrawio import explore_folder\n",
    "# Kilosort3Sorter.set_kilosort3_path('/home/MRC.OX.AC.UK/phar0732/Documents/GitHub/Kilosort')\n",
    "\n"
   ]
  },
  {
   "cell_type": "code",
   "execution_count": 4,
   "metadata": {},
   "outputs": [
    {
     "name": "stdout",
     "output_type": "stream",
     "text": [
      "Nb of Experiments (blocks): 1\n",
      "Nb of segments per block: {0: 3}\n",
      "Default exp name: ['experiment1']\n"
     ]
    }
   ],
   "source": [
    "## Folder to Analyze\n",
    "rec_directory = Path('/home/MRC.OX.AC.UK/phar0732/ettin/Data/head-fixed/neuropixels/JC318L_2022-12-15_14-55-31_dual') \n",
    "\n",
    "# Explore folder with neo utilities for openephys\n",
    "folder_structure, all_streams, nb_block, nb_segment_per_block,\\\n",
    "    possible_experiment_names = explore_folder(rec_directory)\n",
    "\n",
    "print(f'Nb of Experiments (blocks): {nb_block}\\nNb of segments per block: {nb_segment_per_block}\\nDefault exp name: {possible_experiment_names}')"
   ]
  },
  {
   "attachments": {},
   "cell_type": "markdown",
   "metadata": {},
   "source": [
    "Resulting folder structure for openephys recordings is quite complex and results in heavily nested dictionary:"
   ]
  },
  {
   "cell_type": "code",
   "execution_count": 5,
   "metadata": {},
   "outputs": [
    {
     "data": {
      "text/plain": [
       "'/home/MRC.OX.AC.UK/phar0732/ettin/Data/head-fixed/neuropixels/JC318L_2022-12-15_14-55-31_dual/Record Node 101/experiment1/recording3/continuous/Neuropix-PXI-100.ProbeA-AP/continuous.dat'"
      ]
     },
     "execution_count": 5,
     "metadata": {},
     "output_type": "execute_result"
    }
   ],
   "source": [
    "folder_structure['Record Node 101']['experiments'][1]['recordings'][3]['streams']['continuous']['Record Node 101#Neuropix-PXI-100.ProbeA-AP']['raw_filename']"
   ]
  },
  {
   "cell_type": "code",
   "execution_count": 6,
   "metadata": {},
   "outputs": [
    {
     "data": {
      "text/plain": [
       "0.10264274666666667"
      ]
     },
     "execution_count": 6,
     "metadata": {},
     "output_type": "execute_result"
    }
   ],
   "source": [
    "folder_structure['Record Node 101']['experiments'][1]['recordings'][2]['streams']['continuous']['Record Node 101#Neuropix-PXI-100.ProbeA-AP']['t_start'] "
   ]
  },
  {
   "cell_type": "code",
   "execution_count": 7,
   "metadata": {},
   "outputs": [
    {
     "data": {
      "text/plain": [
       "['spike_templates.npy',\n",
       " 'templates_ind.npy',\n",
       " 'kilosort3_master.m',\n",
       " 'channel_positions.npy',\n",
       " 'params.py',\n",
       " 'run_kilosort3.sh',\n",
       " 'kilosort3.log',\n",
       " 'cluster_Amplitude.tsv',\n",
       " 'temp_wh.dat',\n",
       " 'writeNPY.m',\n",
       " 'whitening_mat.npy',\n",
       " 'cluster_ContamPct.tsv',\n",
       " 'whitening_mat_inv.npy',\n",
       " 'amplitudes.npy',\n",
       " 'spike_clusters.npy',\n",
       " 'spike_times.npy',\n",
       " 'constructNPYheader.m',\n",
       " 'cluster_KSLabel.tsv',\n",
       " 'templates.npy',\n",
       " 'chanMap.mat',\n",
       " 'similar_templates.npy',\n",
       " 'cluster_group.tsv',\n",
       " 'channel_map.npy',\n",
       " 'ops.mat']"
      ]
     },
     "execution_count": 7,
     "metadata": {},
     "output_type": "execute_result"
    }
   ],
   "source": [
    "output_path = '/home/MRC.OX.AC.UK/phar0732/ettin/Data/head-fixed/neuropixels/JC318L_2022-12-15_14-55-31_dual/sorted/recording1/Record Node 101#Neuropix-PXI-100.ProbeA-AP/sorter_output'\n",
    "import os\n",
    "os.listdir(output_path)"
   ]
  },
  {
   "cell_type": "code",
   "execution_count": 8,
   "metadata": {},
   "outputs": [
    {
     "ename": "IndexError",
     "evalue": "list index out of range",
     "output_type": "error",
     "traceback": [
      "\u001b[0;31m---------------------------------------------------------------------------\u001b[0m",
      "\u001b[0;31mIndexError\u001b[0m                                Traceback (most recent call last)",
      "\u001b[0;32m/tmp/ipykernel_1682437/1655365600.py\u001b[0m in \u001b[0;36m<module>\u001b[0;34m\u001b[0m\n\u001b[1;32m      4\u001b[0m \u001b[0;31m# Explore folder with neo utilities for openephys\u001b[0m\u001b[0;34m\u001b[0m\u001b[0;34m\u001b[0m\u001b[0;34m\u001b[0m\u001b[0m\n\u001b[1;32m      5\u001b[0m \u001b[0mfolder_structure\u001b[0m\u001b[0;34m,\u001b[0m \u001b[0mall_streams\u001b[0m\u001b[0;34m,\u001b[0m \u001b[0mnb_block\u001b[0m\u001b[0;34m,\u001b[0m \u001b[0mnb_segment_per_block\u001b[0m\u001b[0;34m,\u001b[0m\u001b[0;31m\\\u001b[0m\u001b[0;34m\u001b[0m\u001b[0;34m\u001b[0m\u001b[0m\n\u001b[0;32m----> 6\u001b[0;31m     \u001b[0mpossible_experiment_names\u001b[0m \u001b[0;34m=\u001b[0m \u001b[0mexplore_folder\u001b[0m\u001b[0;34m(\u001b[0m\u001b[0mrec_directory\u001b[0m\u001b[0;34m)\u001b[0m\u001b[0;34m\u001b[0m\u001b[0;34m\u001b[0m\u001b[0m\n\u001b[0m\u001b[1;32m      7\u001b[0m \u001b[0;34m\u001b[0m\u001b[0m\n\u001b[1;32m      8\u001b[0m \u001b[0mprint\u001b[0m\u001b[0;34m(\u001b[0m\u001b[0;34mf'Nb of Experiments (blocks): {nb_block}\\nNb of segments per block: {nb_segment_per_block}\\nDefault exp name: {possible_experiment_names}\\n'\u001b[0m\u001b[0;34m)\u001b[0m\u001b[0;34m\u001b[0m\u001b[0;34m\u001b[0m\u001b[0m\n",
      "\u001b[0;32m~/Documents/GitHub/python-neo/neo/rawio/openephysbinaryrawio.py\u001b[0m in \u001b[0;36mexplore_folder\u001b[0;34m(dirname, experiment_names)\u001b[0m\n\u001b[1;32m    564\u001b[0m     \u001b[0mall_streams\u001b[0m \u001b[0;34m=\u001b[0m \u001b[0;34m{\u001b[0m\u001b[0;34m}\u001b[0m\u001b[0;34m\u001b[0m\u001b[0;34m\u001b[0m\u001b[0m\n\u001b[1;32m    565\u001b[0m     \u001b[0mnb_segment_per_block\u001b[0m \u001b[0;34m=\u001b[0m \u001b[0;34m{\u001b[0m\u001b[0;34m}\u001b[0m\u001b[0;34m\u001b[0m\u001b[0;34m\u001b[0m\u001b[0m\n\u001b[0;32m--> 566\u001b[0;31m     \u001b[0mrecording_node\u001b[0m \u001b[0;34m=\u001b[0m \u001b[0mfolder_structure\u001b[0m\u001b[0;34m[\u001b[0m\u001b[0mlist\u001b[0m\u001b[0;34m(\u001b[0m\u001b[0mfolder_structure\u001b[0m\u001b[0;34m.\u001b[0m\u001b[0mkeys\u001b[0m\u001b[0;34m(\u001b[0m\u001b[0;34m)\u001b[0m\u001b[0;34m)\u001b[0m\u001b[0;34m[\u001b[0m\u001b[0;36m0\u001b[0m\u001b[0;34m]\u001b[0m\u001b[0;34m]\u001b[0m\u001b[0;34m\u001b[0m\u001b[0;34m\u001b[0m\u001b[0m\n\u001b[0m\u001b[1;32m    567\u001b[0m \u001b[0;34m\u001b[0m\u001b[0m\n\u001b[1;32m    568\u001b[0m     \u001b[0;31m# nb_block needs to be consistent across record nodes. Use the first one\u001b[0m\u001b[0;34m\u001b[0m\u001b[0;34m\u001b[0m\u001b[0;34m\u001b[0m\u001b[0m\n",
      "\u001b[0;31mIndexError\u001b[0m: list index out of range"
     ]
    }
   ],
   "source": [
    "## Folder to Analyze\n",
    "rec_directory = Path('/home/MRC.OX.AC.UK/phar0732/ettin/Data/Recordings/JC318L_2022-12-15_14-55-31_dual') \n",
    "\n",
    "# Explore folder with neo utilities for openephys\n",
    "folder_structure, all_streams, nb_block, nb_segment_per_block,\\\n",
    "    possible_experiment_names = explore_folder(rec_directory)\n",
    "\n",
    "print(f'Nb of Experiments (blocks): {nb_block}\\nNb of segments per block: {nb_segment_per_block}\\nDefault exp name: {possible_experiment_names}\\n')\n",
    "\n",
    "\n",
    "\n",
    "# List continuous streams names\n",
    "continuous_streams = list(folder_structure['Record Node 101']['experiments'][1]['recordings'][1]['streams']['continuous'].keys())\n",
    "# Only select action potentials streams\n",
    "AP_streams = [AP_stream for AP_stream in continuous_streams if 'AP' in AP_stream]\n",
    "print(f'Spike streams:{AP_streams}\\n')"
   ]
  },
  {
   "cell_type": "code",
   "execution_count": 44,
   "metadata": {},
   "outputs": [
    {
     "data": {
      "text/plain": [
       "dict_keys(['folder_name', 'sample_rate', 'source_processor_name', 'source_processor_id', 'stream_name', 'recorded_processor', 'recorded_processor_id', 'num_channels', 'channels', 'raw_filename', 'dtype', 'timestamp0', 't_start'])"
      ]
     },
     "execution_count": 44,
     "metadata": {},
     "output_type": "execute_result"
    }
   ],
   "source": [
    "folder_structure['Record Node 101']['experiments'][1]['recordings'][1]['streams']['continuous']['Record Node 101#Neuropix-PXI-100.ProbeA-AP'].keys()"
   ]
  },
  {
   "cell_type": "code",
   "execution_count": 60,
   "metadata": {},
   "outputs": [],
   "source": [
    "from datetime import datetime, timedelta\n",
    "import re\n",
    "import os\n",
    "import pandas as pd\n",
    "\n",
    "def parse_openephys_folder(fn):\n",
    "    m = re.split('_', fn)\n",
    "    if m:\n",
    "        animal_id = m[0]\n",
    "        date_string = m[1]\n",
    "        time_string = m[2]\n",
    "        expt_datetime = datetime.strptime(date_string+'_'+time_string, \"%Y-%m-%d_%H-%M-%S\")\n",
    "        \n",
    "        return {'animal_id':animal_id,\n",
    "                'foldername':fn, \n",
    "                'exp_datetime':expt_datetime}\n",
    "\n",
    "def get_recordings_properties(ephys_base_path, fn):\n",
    "    exp_dict = parse_openephys_folder(fn)\n",
    "\n",
    "    # Explore folder with neo utilities for openephys\n",
    "    folder_structure, all_streams, nb_block, nb_segment_per_block,\\\n",
    "        experiment_names = explore_folder(Path(ephys_base_path) / fn)\n",
    "\n",
    "\n",
    "    # List continuous streams names\n",
    "    continuous_streams = list(folder_structure['Record Node 101']['experiments'][1]['recordings'][1]['streams']['continuous'].keys())\n",
    "    # Only select action potentials streams\n",
    "    AP_streams = [AP_stream for AP_stream in continuous_streams if 'AP' in AP_stream]\n",
    "    print(f'Nb of Experiments (blocks): {nb_block}\\nNb of segments per block: {nb_segment_per_block}\\nDefault exp name: {possible_experiment_names}\\n')\n",
    "    print(f'Spike streams:{AP_streams}\\n')\n",
    "\n",
    "    if len(experiment_names) > 1:\n",
    "        raise NotImplementedError('More than one experiment in the open-ephys folder')\n",
    "    \n",
    "    recordings_properties = dict()\n",
    "\n",
    "    for k in exp_dict.keys():\n",
    "        recordings_properties[k] = list()\n",
    "\n",
    "    recordings_properties['AP_stream'] = list()\n",
    "    recordings_properties['AP_folder'] = list()\n",
    "    recordings_properties['rec_nb'] = list()\n",
    "    recordings_properties['tstart'] = list()\n",
    "    recordings_properties['rec_start_datetime'] = list()\n",
    "    recordings_properties['full_path'] = list()\n",
    "    recordings_properties['nidaq_TTL_path'] = list()\n",
    "\n",
    "    rec_keys = list(folder_structure['Record Node 101']['experiments'][1]['recordings'].keys())\n",
    "\n",
    "    for idx, rec_nb in enumerate(rec_keys):\n",
    "\n",
    "        for AP_stream in AP_streams:\n",
    "            for k, v in exp_dict.items():\n",
    "                recordings_properties[k].append(v)\n",
    "\n",
    "            recordings_properties['AP_stream'].append(AP_stream)\n",
    "            recordings_properties['AP_folder'].append(re.split('#',AP_stream)[1])\n",
    "\n",
    "            recordings_properties['rec_nb'].append(rec_nb)\n",
    "            recordings_properties['tstart'].append(\n",
    "                folder_structure['Record Node 101']['experiments'][1]['recordings'][rec_nb]['streams']['continuous'][AP_streams[0]]['t_start']\n",
    "            )\n",
    "            recordings_properties['rec_start_datetime'].append(\n",
    "                exp_dict['exp_datetime'] + timedelta(0,recordings_properties['tstart'][idx])\n",
    "            )\n",
    "            recordings_properties['full_path'].append(\n",
    "                Path(ephys_base_path) / fn / 'Record Node 101' / experiment_names[0] / ('recording' + str(rec_nb)) / 'continuous' / recordings_properties['AP_folder'][idx]\n",
    "            )\n",
    "\n",
    "            recordings_properties['nidaq_TTL_path'].append(\n",
    "                Path(ephys_base_path) / fn / 'Record Node 104' / experiment_names[0] / ('recording' + str(rec_nb)) / 'events' / 'NI-DAQmx-103.PXIe-6341' / 'TTL'\n",
    "            )\n",
    "\n",
    "    return pd.DataFrame(recordings_properties)\n",
    "\n",
    "def get_ephys_rsync(recordings_properties: pd.DataFrame, rsync_ephys_chan_idx: int = 2):\n",
    "    ..."
   ]
  },
  {
   "cell_type": "code",
   "execution_count": 29,
   "metadata": {},
   "outputs": [],
   "source": [
    "ephys_base_path = '/home/MRC.OX.AC.UK/phar0732/ettin/Data/head-fixed/_Other/test_folder_ephys'\n",
    "open_ephys_folders = os.listdir(Path(ephys_base_path))"
   ]
  },
  {
   "cell_type": "code",
   "execution_count": 61,
   "metadata": {},
   "outputs": [
    {
     "name": "stdout",
     "output_type": "stream",
     "text": [
      "Nb of Experiments (blocks): 1\n",
      "Nb of segments per block: {0: 3}\n",
      "Default exp name: ['experiment1']\n",
      "\n",
      "Spike streams:['Record Node 101#Neuropix-PXI-100.ProbeA-AP', 'Record Node 101#Neuropix-PXI-100.ProbeB-AP']\n",
      "\n"
     ]
    },
    {
     "data": {
      "text/plain": [
       "['full_words.npy', 'timestamps.npy', 'states.npy', 'sample_numbers.npy']"
      ]
     },
     "execution_count": 61,
     "metadata": {},
     "output_type": "execute_result"
    }
   ],
   "source": [
    "recordings_properties = get_recordings_properties(ephys_base_path, open_ephys_folders[-1])\n",
    "os.listdir(recordings_properties.nidaq_TTL_path.iloc[0])"
   ]
  },
  {
   "cell_type": "code",
   "execution_count": null,
   "metadata": {},
   "outputs": [],
   "source": [
    "def "
   ]
  },
  {
   "cell_type": "code",
   "execution_count": 33,
   "metadata": {},
   "outputs": [
    {
     "data": {
      "text/plain": [
       "['JC317L', '2023-03-07', '14-54-46', 'dual', 'reward', 'only']"
      ]
     },
     "execution_count": 33,
     "metadata": {},
     "output_type": "execute_result"
    }
   ],
   "source": [
    "re.split('_',open_ephys_folders[-1])"
   ]
  },
  {
   "cell_type": "code",
   "execution_count": 16,
   "metadata": {},
   "outputs": [
    {
     "data": {
      "text/plain": [
       "2769.8652"
      ]
     },
     "execution_count": 16,
     "metadata": {},
     "output_type": "execute_result"
    }
   ],
   "source": [
    "folder_structure['Record Node 101']['experiments'][1]['recordings'][1]['streams']['continuous']['Record Node 101#Neuropix-PXI-100.ProbeA-AP']['t_start']"
   ]
  },
  {
   "cell_type": "code",
   "execution_count": 19,
   "metadata": {},
   "outputs": [
    {
     "data": {
      "text/plain": [
       "PosixPath('/home/MRC.OX.AC.UK/phar0732/ettin/Data/head-fixed/neuropixels/JC318L_2022-12-15_14-55-31_dual/Record Node 101/settings.xml')"
      ]
     },
     "execution_count": 19,
     "metadata": {},
     "output_type": "execute_result"
    }
   ],
   "source": [
    "folder_structure['Record Node 101']['experiments'][1]['settings_file']"
   ]
  },
  {
   "cell_type": "code",
   "execution_count": 13,
   "metadata": {},
   "outputs": [
    {
     "data": {
      "text/plain": [
       "datetime.datetime(1972, 8, 19, 19, 12, 36)"
      ]
     },
     "execution_count": 13,
     "metadata": {},
     "output_type": "execute_result"
    }
   ],
   "source": [
    "datetime.fromtimestamp(folder_structure['Record Node 101']['experiments'][1]['recordings'][1]['streams']['continuous']['Record Node 101#Neuropix-PXI-100.ProbeA-AP']['timestamp0'])"
   ]
  },
  {
   "attachments": {},
   "cell_type": "markdown",
   "metadata": {},
   "source": [
    "## Sorting\n",
    "\n",
    "- all sorters must be installed separately, see https://spikeinterface.readthedocs.io/en/latest/install_sorters.html\n",
    "\n",
    "### Kilosort3\n",
    "- Kilosort3 is installed on matlab, it requires to previously sort out NVIDIA drivers, and properly setup CUDA (when GPU allows), see https://github.com/MouseLand/Kilosort\n",
    "- It should be tested on Matlab separately to see if everything works correctly\n",
    "- then, in the conda environment, you need to set the environement variables indicating the location of the install:\n",
    "  - e.g:\n",
    "  ```\n",
    "  conda activate trialexp\n",
    "  conda env config vars set KILOSORT3_PATH=\"C:\\Users\\phar0732\\OneDrive - Nexus365\\Documents\\GitHub\\Kilosort\" \n",
    "  ```\n",
    "- Alternatively to the environment variable, you can use the following command in the notebook or else:  \n",
    "  ```\n",
    "  Kilosort3Sorter.set_kilosort3_path('/home/MRC.OX.AC.UK/phar0732/Documents/GitHub/Kilosort')\n",
    "  ```\n",
    "\n"
   ]
  },
  {
   "attachments": {},
   "cell_type": "markdown",
   "metadata": {},
   "source": [
    "The following cell highlight how to get default params for one specific sorter and how to change them to pass as argument to the sorter."
   ]
  },
  {
   "cell_type": "code",
   "execution_count": 5,
   "metadata": {},
   "outputs": [],
   "source": [
    "sorter_name = 'kilosort3'\n",
    "# Print parameters names and default values for the selected sorter\n",
    "print(f'default params for selected sorter:\\n{ss.get_default_sorter_params(sorter_name)}\\n')\n",
    "\n",
    "# Kilosort3\n",
    "sorter_specific_params = {\n",
    "    'n_jobs': 24, \n",
    "    'total_memory': 512000000000, \n",
    "    'chunk_size': None, \n",
    "    'chunk_memory': 12800000000,\n",
    "    'chunk_duration': '30s', \n",
    "    'progress_bar': True}"
   ]
  },
  {
   "attachments": {},
   "cell_type": "markdown",
   "metadata": {},
   "source": [
    "Here we loop among the streams (High-pass filtered files for the two probes), and the recordings (potentially baseline + experiment, or task1/task2...)"
   ]
  },
  {
   "cell_type": "code",
   "execution_count": null,
   "metadata": {},
   "outputs": [],
   "source": [
    "\n",
    "\n",
    "for AP_stream in AP_streams:\n",
    "    recordings = se.read_openephys(rec_directory, block_index=0, stream_name=AP_stream)\n",
    "    rec_list = []\n",
    "    # loop over all segments\n",
    "    for i in [1,2]: #range(recordings.get_num_segments()-1): #first segement useless\n",
    "        # rec_list.append(recordings._select_segments(i))\n",
    "    \n",
    "        # concatenated_folder = Path(rec_directory) / 'concatenated' / AP_stream\n",
    "        sorted_folder = Path(rec_directory) / 'sorted' / f'recording{i}' / AP_stream\n",
    "        temp_folder = Path(rec_directory) / 'temp' / f'recording{i}' / AP_stream\n",
    "\n",
    "        # saved_rec = recordings._select_segments(i).save(folder= temp_folder, n_jobs = 24, chunk_size = 300000)\n",
    "\n",
    "    # concatenate all segments to perform sorting on the full recording day (baseline + different tasks)\n",
    "    # concat_recordings = concatenate_recordings(rec_list)\n",
    "    # concat_recordings.save()\n",
    "    # concat_recordings.save(folder=concatenated_folder, n_jobs=32, total_memory=\"32G\")\n",
    "        print(f'sorting dir: {rec_directory}\\nStream: {AP_stream}\\nRecording #{i}\\nSorted in: {sorted_folder}')\n",
    "        \n",
    "        sorting = ss.run_sorter(\n",
    "            sorter_name = sorter_name,\n",
    "            recording = saved_rec, \n",
    "            output_folder = sorted_folder,\n",
    "            remove_existing_folder = True, \n",
    "            delete_output_folder = False, \n",
    "            verbose = True,\n",
    "            docker_image=False,\n",
    "            **sorter_specific_params)\n",
    "        "
   ]
  },
  {
   "cell_type": "code",
   "execution_count": 21,
   "metadata": {},
   "outputs": [
    {
     "name": "stdout",
     "output_type": "stream",
     "text": [
      "/home/MRC.OX.AC.UK/phar0732/ettin/Data/Recordings/JC318L_2022-12-15_14-55-31_dual \n",
      " ['Messages' 'Event Translator output' 'Messages' 'Event Translator output']\n"
     ]
    },
    {
     "data": {
      "text/plain": [
       "array([], dtype=float64)"
      ]
     },
     "execution_count": 21,
     "metadata": {},
     "output_type": "execute_result"
    }
   ],
   "source": [
    "events = se.read_openephys_event(rec_directory)\n",
    "events.get_num_segments()\n",
    "events.get_num_channels()\n",
    "print(rec_directory, '\\n', events.channel_ids)\n",
    "events.get_event_times(channel_id = events.channel_ids[3], segment_index=2)"
   ]
  },
  {
   "attachments": {},
   "cell_type": "markdown",
   "metadata": {},
   "source": [
    "Recovering Ephys timestamps of Rsync signals from PyControl"
   ]
  },
  {
   "cell_type": "code",
   "execution_count": null,
   "metadata": {},
   "outputs": [],
   "source": [
    "import numpy as np\n",
    "\n",
    "rsync_ephys_chan_idx = 2\n",
    "\n",
    "ev_folder = Path(rec_directory , 'Record Node 104', 'experiment1', 'recording2', \\\n",
    "    'events', 'NI-DAQmx-103.PXIe-6341','TTL')\n",
    "ev_array = np.load(Path(ev_folder, 'states.npy'))\n",
    "ts_array = np.load(Path(ev_folder, 'timestamps.npy'))\n",
    "# ev_array.\n",
    "# unique_val_count = {val:np.count_nonzero(ev_array == val) for val in set(ev_array)}\n",
    "# unique_val_count\n",
    "rsync_ephys_ts = ts_array[ev_array == rsync_ephys_chan_idx]"
   ]
  },
  {
   "cell_type": "code",
   "execution_count": null,
   "metadata": {},
   "outputs": [],
   "source": [
    "import os \n",
    "\n",
    "sessions_folder = '/home/MRC.OX.AC.UK/phar0732/ettin/Data/head-fixed/by_sessions/{task}')\n"
   ]
  },
  {
   "attachments": {},
   "cell_type": "markdown",
   "metadata": {},
   "source": [
    "### Concatenate / Append recordings\n",
    "\n",
    "- Some sorters, at least Kilosort3, does not support sorting on separate recordings, like baseline and behaviour, one task then another, or simply a failed attempt to launch the task (yet ephys has been recorded due to the pycontrol triggering of ephys)\n",
    "- These recordings must be concatenated (see: https://spikeinterface.readthedocs.io/en/latest/modules/core/plot_5_append_concatenate_segments.html#append-and-or-concatenate-segments)"
   ]
  },
  {
   "cell_type": "code",
   "execution_count": null,
   "metadata": {},
   "outputs": [],
   "source": [
    "from spikeinterface import append_recordings, concatenate_recordings\n",
    "rec_list = []\n",
    "for i in range(recording_OE.get_num_segments()):\n",
    "    rec_list.append(recording_OE._select_segments(i))\n",
    "\n",
    "concat_recordings = concatenate_recordings(rec_list)\n"
   ]
  },
  {
   "cell_type": "code",
   "execution_count": null,
   "metadata": {},
   "outputs": [
    {
     "data": {
      "text/plain": [
       "WindowsPath('T:/Data/Recordings/JC318L_2022-12-15_14-55-31_dual/sorted/Record Node 101#Neuropix-PXI-100.ProbeA-AP')"
      ]
     },
     "execution_count": 17,
     "metadata": {},
     "output_type": "execute_result"
    }
   ],
   "source": [
    "Path(rec_directory) / 'sorted' / stream_name"
   ]
  },
  {
   "cell_type": "code",
   "execution_count": null,
   "metadata": {},
   "outputs": [],
   "source": [
    "output_folder = Path(rec_directory) / 'sorted' / stream_name\n",
    "concat_recordings.save(folder=output_folder, n_jobs=32, total_memory=\"48G\")"
   ]
  },
  {
   "attachments": {},
   "cell_type": "markdown",
   "metadata": {},
   "source": [
    "### API ref to run sorters\n",
    "```\n",
    "spikeinterface.sorters.run_sorter(sorter_name: str, recording: BaseRecording, output_folder: Optional[str] = None, remove_existing_folder: bool = True, delete_output_folder: bool = False, verbose: bool = False, raise_error: bool = True, docker_image: Optional[Union[bool, str]] = False, singularity_image: Optional[Union[bool, str]] = False, with_output: bool = True, **sorter_params)\n",
    "```"
   ]
  },
  {
   "attachments": {},
   "cell_type": "markdown",
   "metadata": {},
   "source": [
    "### Sorting variables"
   ]
  },
  {
   "cell_type": "code",
   "execution_count": null,
   "metadata": {},
   "outputs": [],
   "source": [
    "## Sorting Variables\n",
    "\n",
    "\n",
    "sorter_name = 'kilosort3'\n",
    "recording = concat_recordings\n",
    "output_folder = Path(rec_directory) / 'sorted' / stream_name\n",
    "# remove_existing_folder: bool = True, \n",
    "# delete_output_folder: bool = False, \n",
    "verbose = True \n",
    "# raise_error: bool = True, \n",
    "# docker_image: Optional[Union[bool, str]] = False, \n",
    "# singularity_image: Optional[Union[bool, str]] = False, \n",
    "# with_output: bool = True, "
   ]
  },
  {
   "attachments": {},
   "cell_type": "markdown",
   "metadata": {},
   "source": [
    "### Run the sorting"
   ]
  },
  {
   "cell_type": "code",
   "execution_count": null,
   "metadata": {},
   "outputs": [],
   "source": [
    "from spikeinterface import sorters\n",
    "sorting = sorters.run_sorter(\n",
    "    sorter_name = sorter_name,\n",
    "    recording = recording, \n",
    "    output_folder = output_folder,\n",
    "    # remove_existing_folder: bool = True, \n",
    "    # delete_output_folder: bool = False, \n",
    "    verbose = verbose)\n",
    "    # raise_error: bool = True, \n",
    "    # docker_image: Optional[Union[bool, str]] = False, \n",
    "    # singularity_image: Optional[Union[bool, str]] = False, \n",
    "    # with_output: bool = True, \n",
    "    # **sorter_params)\n",
    "\n",
    "    # ValueError: This sorter kilosort3 do not handle multi segment, use si.concatenate_recordings(...)\n",
    "\n",
    "\n"
   ]
  },
  {
   "cell_type": "code",
   "execution_count": null,
   "metadata": {},
   "outputs": [
    {
     "name": "stdout",
     "output_type": "stream",
     "text": [
      "Probe - 384ch - 1shanks\n"
     ]
    },
    {
     "data": {
      "text/plain": [
       "(<matplotlib.collections.PolyCollection at 0x1c16051b1f0>,\n",
       " <matplotlib.collections.PolyCollection at 0x1c1605bcc10>)"
      ]
     },
     "execution_count": 12,
     "metadata": {},
     "output_type": "execute_result"
    },
    {
     "data": {
      "image/png": "[encoded data removed]",
      "text/plain": [
       "<Figure size 640x480 with 1 Axes>"
      ]
     },
     "metadata": {},
     "output_type": "display_data"
    }
   ],
   "source": [
    "probe = recording.get_probe()\n",
    "print(probe)\n",
    "\n",
    "from probeinterface.plotting import plot_probe\n",
    "\n",
    "plot_probe(probe)"
   ]
  },
  {
   "cell_type": "code",
   "execution_count": null,
   "metadata": {},
   "outputs": [
    {
     "ename": "ImportError",
     "evalue": "Numba needs NumPy 1.22 or less",
     "output_type": "error",
     "traceback": [
      "\u001b[1;31m---------------------------------------------------------------------------\u001b[0m",
      "\u001b[1;31mImportError\u001b[0m                               Traceback (most recent call last)",
      "Cell \u001b[1;32mIn [13], line 3\u001b[0m\n\u001b[0;32m      1\u001b[0m \u001b[39mimport\u001b[39;00m \u001b[39mspikeinterface\u001b[39;00m \u001b[39mas\u001b[39;00m \u001b[39msi\u001b[39;00m\n\u001b[0;32m      2\u001b[0m \u001b[39mimport\u001b[39;00m \u001b[39mspikeinterface\u001b[39;00m\u001b[39m.\u001b[39;00m\u001b[39mextractors\u001b[39;00m \u001b[39mas\u001b[39;00m \u001b[39mse\u001b[39;00m\n\u001b[1;32m----> 3\u001b[0m \u001b[39mfrom\u001b[39;00m \u001b[39mspikeinterface\u001b[39;00m\u001b[39m.\u001b[39;00m\u001b[39mpostprocessing\u001b[39;00m \u001b[39mimport\u001b[39;00m get_template_extremum_channel, compute_principal_components\n\u001b[0;32m      4\u001b[0m \u001b[39mprint\u001b[39m(recording)\n\u001b[0;32m      5\u001b[0m \u001b[39mprint\u001b[39m(sorting)\n",
      "File \u001b[1;32m~\\Documents\\GitHub\\spikeinterface\\spikeinterface\\postprocessing\\__init__.py:22\u001b[0m\n\u001b[0;32m     18\u001b[0m \u001b[39mfrom\u001b[39;00m \u001b[39m.\u001b[39;00m\u001b[39mprincipal_component\u001b[39;00m \u001b[39mimport\u001b[39;00m WaveformPrincipalComponent, compute_principal_components\n\u001b[0;32m     20\u001b[0m \u001b[39mfrom\u001b[39;00m \u001b[39m.\u001b[39;00m\u001b[39mspike_amplitudes\u001b[39;00m \u001b[39mimport\u001b[39;00m compute_spike_amplitudes, SpikeAmplitudesCalculator\n\u001b[1;32m---> 22\u001b[0m \u001b[39mfrom\u001b[39;00m \u001b[39m.\u001b[39;00m\u001b[39mcorrelograms\u001b[39;00m \u001b[39mimport\u001b[39;00m (CorrelogramsCalculator,\n\u001b[0;32m     23\u001b[0m                            compute_autocorrelogram_from_spiketrain,\n\u001b[0;32m     24\u001b[0m                            compute_crosscorrelogram_from_spiketrain,\n\u001b[0;32m     25\u001b[0m                            compute_correlograms,\n\u001b[0;32m     26\u001b[0m                            compute_correlograms_numba, compute_correlograms_numpy)\n\u001b[0;32m     28\u001b[0m \u001b[39mfrom\u001b[39;00m \u001b[39m.\u001b[39;00m\u001b[39misi\u001b[39;00m \u001b[39mimport\u001b[39;00m (ISIHistogramsCalculator,\n\u001b[0;32m     29\u001b[0m                   compute_isi_histograms_from_spiketrain, compute_isi_histograms,\n\u001b[0;32m     30\u001b[0m                   compute_isi_histograms_numpy, compute_isi_histograms_numba)\n\u001b[0;32m     32\u001b[0m \u001b[39mfrom\u001b[39;00m \u001b[39m.\u001b[39;00m\u001b[39mspike_locations\u001b[39;00m \u001b[39mimport\u001b[39;00m compute_spike_locations, SpikeLocationsCalculator\n",
      "File \u001b[1;32m~\\Documents\\GitHub\\spikeinterface\\spikeinterface\\postprocessing\\correlograms.py:8\u001b[0m\n\u001b[0;32m      5\u001b[0m \u001b[39mfrom\u001b[39;00m \u001b[39m.\u001b[39;00m\u001b[39m.\u001b[39;00m\u001b[39mcore\u001b[39;00m\u001b[39m.\u001b[39;00m\u001b[39mwaveform_extractor\u001b[39;00m \u001b[39mimport\u001b[39;00m BaseWaveformExtractorExtension\n\u001b[0;32m      7\u001b[0m \u001b[39mtry\u001b[39;00m:\n\u001b[1;32m----> 8\u001b[0m     \u001b[39mimport\u001b[39;00m \u001b[39mnumba\u001b[39;00m\n\u001b[0;32m      9\u001b[0m     HAVE_NUMBA \u001b[39m=\u001b[39m \u001b[39mTrue\u001b[39;00m\n\u001b[0;32m     10\u001b[0m \u001b[39mexcept\u001b[39;00m \u001b[39mModuleNotFoundError\u001b[39;00m \u001b[39mas\u001b[39;00m err:\n",
      "File \u001b[1;32m~\\AppData\\Roaming\\Python\\Python38\\site-packages\\numba\\__init__.py:206\u001b[0m\n\u001b[0;32m    203\u001b[0m     \u001b[39mreturn\u001b[39;00m \u001b[39mFalse\u001b[39;00m\n\u001b[0;32m    205\u001b[0m _ensure_llvm()\n\u001b[1;32m--> 206\u001b[0m _ensure_critical_deps()\n\u001b[0;32m    208\u001b[0m \u001b[39m# we know llvmlite is working as the above tests passed, import it now as SVML\u001b[39;00m\n\u001b[0;32m    209\u001b[0m \u001b[39m# needs to mutate runtime options (sets the `-vector-library`).\u001b[39;00m\n\u001b[0;32m    210\u001b[0m \u001b[39mimport\u001b[39;00m \u001b[39mllvmlite\u001b[39;00m\n",
      "File \u001b[1;32m~\\AppData\\Roaming\\Python\\Python38\\site-packages\\numba\\__init__.py:146\u001b[0m, in \u001b[0;36m_ensure_critical_deps\u001b[1;34m()\u001b[0m\n\u001b[0;32m    144\u001b[0m     \u001b[39mraise\u001b[39;00m \u001b[39mImportError\u001b[39;00m(\u001b[39m\"\u001b[39m\u001b[39mNumba needs NumPy 1.18 or greater\u001b[39m\u001b[39m\"\u001b[39m)\n\u001b[0;32m    145\u001b[0m \u001b[39melif\u001b[39;00m numpy_version \u001b[39m>\u001b[39m (\u001b[39m1\u001b[39m, \u001b[39m22\u001b[39m):\n\u001b[1;32m--> 146\u001b[0m     \u001b[39mraise\u001b[39;00m \u001b[39mImportError\u001b[39;00m(\u001b[39m\"\u001b[39m\u001b[39mNumba needs NumPy 1.22 or less\u001b[39m\u001b[39m\"\u001b[39m)\n\u001b[0;32m    148\u001b[0m \u001b[39mtry\u001b[39;00m:\n\u001b[0;32m    149\u001b[0m     \u001b[39mimport\u001b[39;00m \u001b[39mscipy\u001b[39;00m\n",
      "\u001b[1;31mImportError\u001b[0m: Numba needs NumPy 1.22 or less"
     ]
    }
   ],
   "source": [
    "import spikeinterface as si\n",
    "import spikeinterface.extractors as se\n",
    "from spikeinterface.postprocessing import get_template_extremum_channel, compute_principal_components\n",
    "print(recording)\n",
    "print(sorting)\n",
    "# test_rec.continuous[0].samples"
   ]
  }
 ],
 "metadata": {
  "kernelspec": {
   "display_name": "trialexp",
   "language": "python",
   "name": "python3"
  },
  "language_info": {
   "codemirror_mode": {
    "name": "ipython",
    "version": 3
   },
   "file_extension": ".py",
   "mimetype": "text/x-python",
   "name": "python",
   "nbconvert_exporter": "python",
   "pygments_lexer": "ipython3",
   "version": "3.8.13"
  },
  "orig_nbformat": 4,
  "vscode": {
   "interpreter": {
    "hash": "6d2740b3c99f072bcf17b64e2c8d851198f809889c254713e552dbe75180aaee"
   }
  }
 },
 "nbformat": 4,
 "nbformat_minor": 2
}
