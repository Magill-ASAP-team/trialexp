{
 "cells": [
  {
   "attachments": {},
   "cell_type": "markdown",
   "metadata": {},
   "source": [
    "# Delayed tasks analysis\n"
   ]
  },
  {
   "cell_type": "markdown",
   "metadata": {},
   "source": []
  },
  {
   "cell_type": "code",
   "execution_count": 1,
   "metadata": {},
   "outputs": [],
   "source": [
    "# allow for automatic reloading of classes and function when updating the code\n",
    "%load_ext autoreload\n",
    "%autoreload 2 \n",
    "\n",
    "# Import Session and Experiment class with helper functions\n",
    "from trialexp.process.data_import import *\n",
    "from trialexp.utils.data_organisation import *\n"
   ]
  },
  {
   "cell_type": "markdown",
   "metadata": {},
   "source": [
    "### Variables"
   ]
  },
  {
   "cell_type": "code",
   "execution_count": 3,
   "metadata": {},
   "outputs": [],
   "source": [
    "import pandas as pd\n",
    "from pathlib import Path\n",
    "trial_window = [-2000, 6000] # in ms\n",
    "\n",
    "# time limit around trigger to perform an event\n",
    "# determine successful trials\n",
    "# timelim = [1000, 4000] # in ms\n",
    "\n",
    "# Digital channel nb of the pyphotometry device\n",
    "# on which rsync signal is sent (from pycontrol device)\n",
    "rsync_chan = 2\n",
    "\n",
    "basefolder = Path(os.getcwd()).parent.parent\n",
    "\n",
    "# These must be absolute paths\n",
    "# use this to use within package tasks files (in params)\n",
    "tasksfile = Path(basefolder,'params','tasks_params.csv')\n",
    "# use this to put a local full path\n",
    "#tasksfile = -r'C:/.../tasks_params.csv' \n",
    "\n",
    "# from sample_data\n",
    "\n",
    "# # From jade\n",
    "# photometry_dir = '/home/MRC.OX.AC.UK/phar0732/ettin/Data/head-fixed/photometry'\n",
    "# pycontrol_dir = '/home/MRC.OX.AC.UK/phar0732/ettin/Data/head-fixed/pycontrol'\n",
    "\n",
    "# # # From julien-pc\n",
    "photometry_dir = r'\\\\ettin\\Magill_Lab\\Julien\\Data\\head-fixed\\_Other\\test_folder\\delayed_go\\pyphotometry\\delayed_go_dual_2022'\n",
    "pycontrol_dir = r'\\\\ettin\\Magill_Lab\\Julien\\Data\\head-fixed\\_Other\\test_folder\\delayed_go\\pycontrol\\delayed_go_dual_2022'\n",
    "\n",
    "#From laptop\n",
    "# photometry_dir = r'C:\\Users\\phar0732\\Documents\\GitHub\\trialexp\\sample_data\\pyphotometry\\reaching_go_spout_incr_break2_nov22'\n",
    "# pycontrol_dir = r'C:\\Users\\phar0732\\Documents\\GitHub\\trialexp\\sample_data\\pycontrol\\reaching_go_spout_incr_break2_nov22'\n",
    "\n",
    "video_dir = r'\\\\ettin\\Magill_Lab\\Julien\\Data\\head-fixed\\videos'\n",
    "tasks = pd.read_csv(tasksfile, usecols=[1, 2, 3, 4], index_col=False)\n"
   ]
  },
  {
   "cell_type": "markdown",
   "metadata": {},
   "source": [
    "### Create an experiment object\n"
   ]
  },
  {
   "cell_type": "code",
   "execution_count": 4,
   "metadata": {},
   "outputs": [],
   "source": [
    "# Load all raw text sessions in the indicated folder or a sessions.pkl file\n",
    "# if already existing in folder_path\n",
    "exp_cohort = Experiment(path=pycontrol_dir, int_subject_IDs=True, update=True, verbose=False)"
   ]
  },
  {
   "attachments": {},
   "cell_type": "markdown",
   "metadata": {},
   "source": [
    "### Find matching files \n",
    "\n",
    "- pycontrol\n",
    "- pyphotometry\n",
    "- videos\n",
    "- deeplabcut outputs"
   ]
  },
  {
   "cell_type": "code",
   "execution_count": 5,
   "metadata": {},
   "outputs": [],
   "source": [
    "exp_cohort = match_sessions_to_files(exp_cohort, pycontrol_dir, ext='txt')\n",
    "exp_cohort = match_sessions_to_files(exp_cohort, photometry_dir, ext='ppd')\n",
    "exp_cohort = match_sessions_to_files(exp_cohort, video_dir, ext='mp4')\n",
    "exp_cohort = match_sessions_to_files(exp_cohort, video_dir, ext='h5')"
   ]
  },
  {
   "attachments": {},
   "cell_type": "markdown",
   "metadata": {},
   "source": [
    "### Reorganisation of data by single session folders, including all files from all data modalities\n",
    "\n",
    "- sessions_folder is "
   ]
  },
  {
   "cell_type": "code",
   "execution_count": 6,
   "metadata": {},
   "outputs": [],
   "source": [
    "\n",
    "sessions_folder = r'\\\\ettin\\Magill_Lab\\Julien\\Data\\head-fixed\\_Other\\test_folder\\by_session_folder'\n",
    "\n",
    " # if multiple streams for the data modality (e.g. 2 cameras / 2 probes etc.)\n",
    "multi_stream_keywords = {\n",
    "    'video': ('Side','Down'),\n",
    "    'dlc': ('Side','Down'),\n",
    "    'lfp': ('probeA','probeB'), # Not yet implemented\n",
    "    'spikes': ('probeA','probeB') # Not yet implemented\n",
    "    }                               # Should be usable for multi-site photometry\n",
    "\n",
    "\n",
    "reorg_to_sessions_folder(exp_cohort, sessions_folder, multi_stream_keywords)"
   ]
  }
 ],
 "metadata": {
  "kernelspec": {
   "display_name": "trialexp",
   "language": "python",
   "name": "python3"
  },
  "language_info": {
   "codemirror_mode": {
    "name": "ipython",
    "version": 3
   },
   "file_extension": ".py",
   "mimetype": "text/x-python",
   "name": "python",
   "nbconvert_exporter": "python",
   "pygments_lexer": "ipython3",
   "version": "3.8.13"
  },
  "orig_nbformat": 4,
  "vscode": {
   "interpreter": {
    "hash": "f8dbe4d204ab54e7ae98709358ed3437388b3add0590ff012afcdf169e30a7e9"
   }
  }
 },
 "nbformat": 4,
 "nbformat_minor": 2
}
