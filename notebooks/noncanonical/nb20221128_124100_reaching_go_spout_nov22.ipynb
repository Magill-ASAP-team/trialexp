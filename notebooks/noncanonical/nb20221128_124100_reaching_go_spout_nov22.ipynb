{
 "cells": [
  {
   "cell_type": "markdown",
   "metadata": {},
   "source": [
    "# Simple instrumentral\n",
    "\n",
    "```bash\n",
    "jupyter nbconvert \"D:\\OneDrive - Nexus365\\Private_Dropbox\\Projects\\trialexp\\notebooks\\noncanonical\\nb20221128_124100_reaching_go_spout_nov22.ipynb\" --to=\"python\" --output-dir=\"D:\\OneDrive - Nexus365\\Private_Dropbox\\Projects\\trialexp\\notebooks\\noncanonical\" --output=\"nb20221128_124100_reaching_go_spout_nov22\"\n",
    "```"
   ]
  },
  {
   "cell_type": "markdown",
   "metadata": {},
   "source": [
    "Quick analysis of instrumental reaching"
   ]
  },
  {
   "cell_type": "code",
   "execution_count": 1,
   "metadata": {},
   "outputs": [],
   "source": [
    "# allow for automatic reloading of classes and function when updating the code\n",
    "%load_ext autoreload\n",
    "%autoreload 2 \n",
    "\n",
    "# Import Session and Experiment class with helper functions\n",
    "from trialexp.process.data_import import *\n",
    "\n"
   ]
  },
  {
   "cell_type": "markdown",
   "metadata": {},
   "source": [
    "### Variables"
   ]
  },
  {
   "cell_type": "code",
   "execution_count": 2,
   "metadata": {},
   "outputs": [],
   "source": [
    "import pandas as pd\n",
    "\n",
    "trial_window = [-2000, 6000] # in ms\n",
    "\n",
    "# time limit around trigger to perform an event\n",
    "# determine successful trials\n",
    "timelim = [0, 2000] # in ms\n",
    "\n",
    "# Digital channel nb of the pyphotometry device\n",
    "# on which rsync signal is sent (from pycontrol device)\n",
    "rsync_chan = 2\n",
    "\n",
    "basefolder, _ = os.path.split(os.path.split(os.getcwd())[0])\n",
    "\n",
    "# These must be absolute paths\n",
    "# use this to use within package tasks files (in params)\n",
    "tasksfile = os.path.join(basefolder,'params\\\\tasks_params.csv')\n",
    "# use this to put a local full path\n",
    "#tasksfile = -r'C:/.../tasks_params.csv' \n",
    "\n",
    "# photometry_dir = r'\\\\ettin\\Magill_Lab\\Julien\\Data\\head-fixed\\test_folder\\photometry'\n",
    "photometry_dir = r'\\\\ettin\\Magill_Lab\\Julien\\Data\\head-fixed\\kms_pyphotometry'\n",
    "video_dir = r'\\\\ettin\\Magill_Lab\\Julien\\Data\\head-fixed\\videos'"
   ]
  },
  {
   "cell_type": "code",
   "execution_count": 3,
   "metadata": {},
   "outputs": [
    {
     "data": {
      "text/html": [
       "<div>\n",
       "<style scoped>\n",
       "    .dataframe tbody tr th:only-of-type {\n",
       "        vertical-align: middle;\n",
       "    }\n",
       "\n",
       "    .dataframe tbody tr th {\n",
       "        vertical-align: top;\n",
       "    }\n",
       "\n",
       "    .dataframe thead th {\n",
       "        text-align: right;\n",
       "    }\n",
       "</style>\n",
       "<table border=\"1\" class=\"dataframe\">\n",
       "  <thead>\n",
       "    <tr style=\"text-align: right;\">\n",
       "      <th></th>\n",
       "      <th>task</th>\n",
       "      <th>triggers</th>\n",
       "      <th>events</th>\n",
       "      <th>conditions</th>\n",
       "    </tr>\n",
       "  </thead>\n",
       "  <tbody>\n",
       "    <tr>\n",
       "      <th>0</th>\n",
       "      <td>lick_go_nogo</td>\n",
       "      <td>go; nogo</td>\n",
       "      <td>bar; bar_off; spout</td>\n",
       "      <td>free_reward</td>\n",
       "    </tr>\n",
       "    <tr>\n",
       "      <th>1</th>\n",
       "      <td>lick_go_nogo_unconditionned</td>\n",
       "      <td>go; nogo</td>\n",
       "      <td>bar; bar_off; spout</td>\n",
       "      <td>free_reward</td>\n",
       "    </tr>\n",
       "    <tr>\n",
       "      <th>2</th>\n",
       "      <td>lick_go_nogo_unconditionned_opto</td>\n",
       "      <td>go; nogo</td>\n",
       "      <td>bar; bar_off; spout</td>\n",
       "      <td>free_reward</td>\n",
       "    </tr>\n",
       "    <tr>\n",
       "      <th>3</th>\n",
       "      <td>reaching_go_nogo</td>\n",
       "      <td>CS_Go; CS_NoGo</td>\n",
       "      <td>bar; bar_off; spout</td>\n",
       "      <td>error bar_off; reward bar_off; error free; rew...</td>\n",
       "    </tr>\n",
       "    <tr>\n",
       "      <th>4</th>\n",
       "      <td>reaching_go_nogo_jc</td>\n",
       "      <td>CS_plus; CS_minus</td>\n",
       "      <td>bar; bar_off; spout</td>\n",
       "      <td>error bar_off; reward bar_off; error free; rew...</td>\n",
       "    </tr>\n",
       "    <tr>\n",
       "      <th>5</th>\n",
       "      <td>reaching_go_nogo_opto_continuous</td>\n",
       "      <td>CS_Go; CS_NoGo</td>\n",
       "      <td>bar; bar_off; spout</td>\n",
       "      <td>s_nogo_sham; s_nogo_cs_onset; s_go_sham; s_go_...</td>\n",
       "    </tr>\n",
       "    <tr>\n",
       "      <th>6</th>\n",
       "      <td>reaching_go_nogo_opto_sinusoid</td>\n",
       "      <td>CS_Go; CS_NoGo</td>\n",
       "      <td>bar; bar_off; spout</td>\n",
       "      <td>s_nogo_sham; s_nogo_cs_onset_2; s_nogo_cs_onse...</td>\n",
       "    </tr>\n",
       "    <tr>\n",
       "      <th>7</th>\n",
       "      <td>reaching_go_nogo_opto_sinusoid_spout</td>\n",
       "      <td>CS_Go; CS_NoGo</td>\n",
       "      <td>bar; bar_off; spout</td>\n",
       "      <td>s_nogo_sham; s_nogo_cs_onset_2; s_nogo_cs_onse...</td>\n",
       "    </tr>\n",
       "    <tr>\n",
       "      <th>8</th>\n",
       "      <td>reaching_go_nogo_reversal</td>\n",
       "      <td>CS_Go; CS_NoGo</td>\n",
       "      <td>bar; bar_off; spout</td>\n",
       "      <td>error bar_off; reward bar_off; error free; rew...</td>\n",
       "    </tr>\n",
       "    <tr>\n",
       "      <th>9</th>\n",
       "      <td>reaching_go_nogo_reversal_incentive</td>\n",
       "      <td>CS_Go; CS_NoGo</td>\n",
       "      <td>bar; bar_off; spout</td>\n",
       "      <td>error bar_off; reward bar_off; error free; rew...</td>\n",
       "    </tr>\n",
       "    <tr>\n",
       "      <th>10</th>\n",
       "      <td>reaching_go_nogo_touch_spout</td>\n",
       "      <td>CS_Go; CS_NoGo</td>\n",
       "      <td>bar; bar_off; spout</td>\n",
       "      <td>error bar_off; reward bar_off; error free; rew...</td>\n",
       "    </tr>\n",
       "    <tr>\n",
       "      <th>11</th>\n",
       "      <td>reaching_test</td>\n",
       "      <td>us_deliver</td>\n",
       "      <td>bar; bar_off; spout</td>\n",
       "      <td>free_reward</td>\n",
       "    </tr>\n",
       "    <tr>\n",
       "      <th>12</th>\n",
       "      <td>reaching_test_CS</td>\n",
       "      <td>CS_plus; CS_minus</td>\n",
       "      <td>bar; bar_off; spout</td>\n",
       "      <td>free_reward</td>\n",
       "    </tr>\n",
       "    <tr>\n",
       "      <th>13</th>\n",
       "      <td>reaching_yp</td>\n",
       "      <td>reward_presentation</td>\n",
       "      <td>bar; bar_off; spout</td>\n",
       "      <td>free_reward</td>\n",
       "    </tr>\n",
       "    <tr>\n",
       "      <th>14</th>\n",
       "      <td>train_CSgo_US_coterminated</td>\n",
       "      <td>Go</td>\n",
       "      <td>bar; bar_off; spout</td>\n",
       "      <td>free_reward</td>\n",
       "    </tr>\n",
       "    <tr>\n",
       "      <th>15</th>\n",
       "      <td>train_Go_CS-US_pavlovian</td>\n",
       "      <td>Go</td>\n",
       "      <td>bar; bar_off; spout</td>\n",
       "      <td>free_reward</td>\n",
       "    </tr>\n",
       "    <tr>\n",
       "      <th>16</th>\n",
       "      <td>train_Go_CS-US_pavlovian_with_bar</td>\n",
       "      <td>CS_Go</td>\n",
       "      <td>bar; bar_off; spout</td>\n",
       "      <td>free_reward</td>\n",
       "    </tr>\n",
       "    <tr>\n",
       "      <th>17</th>\n",
       "      <td>reaching_go_spout_cued_uncued</td>\n",
       "      <td>CS_Go</td>\n",
       "      <td>bar; bar_off; spout; hold_start</td>\n",
       "      <td>free_reward_timer; reward spout cued; reward b...</td>\n",
       "    </tr>\n",
       "    <tr>\n",
       "      <th>18</th>\n",
       "      <td>pavlovian_nobar_nodelay</td>\n",
       "      <td>CS_Go</td>\n",
       "      <td>bar; bar_off; spout</td>\n",
       "      <td>NaN</td>\n",
       "    </tr>\n",
       "    <tr>\n",
       "      <th>19</th>\n",
       "      <td>cued_uncued_oct22</td>\n",
       "      <td>Cued; UnCued</td>\n",
       "      <td>bar; bar_off; spout; reward_delay_timer</td>\n",
       "      <td>delayed reward spout cued; delayed reward spou...</td>\n",
       "    </tr>\n",
       "    <tr>\n",
       "      <th>20</th>\n",
       "      <td>go_rewarding_aversive</td>\n",
       "      <td>Go_water; Go_air</td>\n",
       "      <td>bar; bar_off; spout</td>\n",
       "      <td>free_reward; Go_water spout success; Go_air sp...</td>\n",
       "    </tr>\n",
       "    <tr>\n",
       "      <th>21</th>\n",
       "      <td>reaching_go_spout_nov22</td>\n",
       "      <td>busy_win</td>\n",
       "      <td>bar, bar_off, spout</td>\n",
       "      <td>water_on; water success</td>\n",
       "    </tr>\n",
       "    <tr>\n",
       "      <th>22</th>\n",
       "      <td>reaching_go_spout_nov22_timewin</td>\n",
       "      <td>busy_win</td>\n",
       "      <td>bar, bar_off, spout, button_release, US_end_ti...</td>\n",
       "      <td>water by bar_off; water success; water_on</td>\n",
       "    </tr>\n",
       "    <tr>\n",
       "      <th>23</th>\n",
       "      <td>reaching_go_spout_bar_nov22</td>\n",
       "      <td>hold_for_water</td>\n",
       "      <td>bar, bar_off, spout, button_release, free_wate...</td>\n",
       "      <td>water_on; water success</td>\n",
       "    </tr>\n",
       "  </tbody>\n",
       "</table>\n",
       "</div>"
      ],
      "text/plain": [
       "                                    task             triggers  \\\n",
       "0                           lick_go_nogo             go; nogo   \n",
       "1            lick_go_nogo_unconditionned             go; nogo   \n",
       "2       lick_go_nogo_unconditionned_opto             go; nogo   \n",
       "3                       reaching_go_nogo       CS_Go; CS_NoGo   \n",
       "4                    reaching_go_nogo_jc    CS_plus; CS_minus   \n",
       "5       reaching_go_nogo_opto_continuous       CS_Go; CS_NoGo   \n",
       "6         reaching_go_nogo_opto_sinusoid       CS_Go; CS_NoGo   \n",
       "7   reaching_go_nogo_opto_sinusoid_spout       CS_Go; CS_NoGo   \n",
       "8              reaching_go_nogo_reversal       CS_Go; CS_NoGo   \n",
       "9    reaching_go_nogo_reversal_incentive       CS_Go; CS_NoGo   \n",
       "10          reaching_go_nogo_touch_spout       CS_Go; CS_NoGo   \n",
       "11                         reaching_test           us_deliver   \n",
       "12                      reaching_test_CS    CS_plus; CS_minus   \n",
       "13                           reaching_yp  reward_presentation   \n",
       "14            train_CSgo_US_coterminated                   Go   \n",
       "15              train_Go_CS-US_pavlovian                   Go   \n",
       "16     train_Go_CS-US_pavlovian_with_bar                CS_Go   \n",
       "17         reaching_go_spout_cued_uncued                CS_Go   \n",
       "18               pavlovian_nobar_nodelay                CS_Go   \n",
       "19                     cued_uncued_oct22         Cued; UnCued   \n",
       "20                 go_rewarding_aversive     Go_water; Go_air   \n",
       "21               reaching_go_spout_nov22             busy_win   \n",
       "22       reaching_go_spout_nov22_timewin             busy_win   \n",
       "23           reaching_go_spout_bar_nov22      hold_for_water    \n",
       "\n",
       "                                               events  \\\n",
       "0                                 bar; bar_off; spout   \n",
       "1                                 bar; bar_off; spout   \n",
       "2                                 bar; bar_off; spout   \n",
       "3                                 bar; bar_off; spout   \n",
       "4                                 bar; bar_off; spout   \n",
       "5                                 bar; bar_off; spout   \n",
       "6                                 bar; bar_off; spout   \n",
       "7                                 bar; bar_off; spout   \n",
       "8                                 bar; bar_off; spout   \n",
       "9                                 bar; bar_off; spout   \n",
       "10                                bar; bar_off; spout   \n",
       "11                                bar; bar_off; spout   \n",
       "12                                bar; bar_off; spout   \n",
       "13                                bar; bar_off; spout   \n",
       "14                                bar; bar_off; spout   \n",
       "15                                bar; bar_off; spout   \n",
       "16                                bar; bar_off; spout   \n",
       "17                    bar; bar_off; spout; hold_start   \n",
       "18                                bar; bar_off; spout   \n",
       "19            bar; bar_off; spout; reward_delay_timer   \n",
       "20                                bar; bar_off; spout   \n",
       "21                                bar, bar_off, spout   \n",
       "22  bar, bar_off, spout, button_release, US_end_ti...   \n",
       "23  bar, bar_off, spout, button_release, free_wate...   \n",
       "\n",
       "                                           conditions  \n",
       "0                                         free_reward  \n",
       "1                                         free_reward  \n",
       "2                                         free_reward  \n",
       "3   error bar_off; reward bar_off; error free; rew...  \n",
       "4   error bar_off; reward bar_off; error free; rew...  \n",
       "5   s_nogo_sham; s_nogo_cs_onset; s_go_sham; s_go_...  \n",
       "6   s_nogo_sham; s_nogo_cs_onset_2; s_nogo_cs_onse...  \n",
       "7   s_nogo_sham; s_nogo_cs_onset_2; s_nogo_cs_onse...  \n",
       "8   error bar_off; reward bar_off; error free; rew...  \n",
       "9   error bar_off; reward bar_off; error free; rew...  \n",
       "10  error bar_off; reward bar_off; error free; rew...  \n",
       "11                                        free_reward  \n",
       "12                                        free_reward  \n",
       "13                                        free_reward  \n",
       "14                                        free_reward  \n",
       "15                                        free_reward  \n",
       "16                                        free_reward  \n",
       "17  free_reward_timer; reward spout cued; reward b...  \n",
       "18                                                NaN  \n",
       "19  delayed reward spout cued; delayed reward spou...  \n",
       "20  free_reward; Go_water spout success; Go_air sp...  \n",
       "21                            water_on; water success  \n",
       "22          water by bar_off; water success; water_on  \n",
       "23                            water_on; water success  "
      ]
     },
     "execution_count": 3,
     "metadata": {},
     "output_type": "execute_result"
    }
   ],
   "source": [
    "tasks = pd.read_csv(tasksfile, usecols=[1, 2, 3, 4], index_col=False)\n",
    "tasks\n"
   ]
  },
  {
   "cell_type": "code",
   "execution_count": 4,
   "metadata": {},
   "outputs": [],
   "source": [
    "photo_root_dir = 'T:\\\\Data\\\\head-fixed\\\\pyphotometry\\\\data'\n",
    "pycontrol_root_dir = 'T:\\\\Data\\\\head-fixed\\\\pycontrol'\n",
    "\n",
    "root_folders = [photo_root_dir, pycontrol_root_dir]\n",
    "horizontal_folder_pycontrol = 'T:\\\\Data\\\\head-fixed\\\\test_folder\\\\pycontrol'\n",
    "horizontal_folder_photometry = 'T:\\\\Data\\\\head-fixed\\\\test_folder\\\\photometry'\n",
    "\n",
    "copy_files_to_horizontal_folders(\n",
    "    root_folders, horizontal_folder_pycontrol, horizontal_folder_photometry)\n"
   ]
  },
  {
   "cell_type": "markdown",
   "metadata": {},
   "source": [
    "### Create an experiment object\n"
   ]
  },
  {
   "cell_type": "code",
   "execution_count": 5,
   "metadata": {},
   "outputs": [
    {
     "name": "stdout",
     "output_type": "stream",
     "text": [
      "Saved sessions loaded from: sessions.pkl\n"
     ]
    }
   ],
   "source": [
    "# Folder of a full experimental batch, all animals included\n",
    "\n",
    "# Enter absolute path like this\n",
    "# pycontrol_files_path = r'T:\\Data\\head-fixed\\test_folder\\pycontrol'\n",
    "\n",
    "# or this if you want to use data from the sample_data folder within the package\n",
    "pycontrol_files_path = os.path.join(basefolder, 'sample_data/pycontrol')\n",
    "pycontrol_files_path = r'T:\\Data\\head-fixed\\kms_pycontrol'\n",
    "\n",
    "# Load all raw text sessions in the indicated folder or a sessions.pkl file\n",
    "# if already existing in folder_path\n",
    "exp_cohort = Experiment(pycontrol_files_path, update = True) #TODO\n",
    "\n",
    "# Only use if the Experiment cohort as been processed by trials before\n",
    "# TODO: assess whether this can be removed or not\n",
    "exp_cohort.by_trial = True\n"
   ]
  },
  {
   "cell_type": "markdown",
   "metadata": {},
   "source": [
    "## Select sessions"
   ]
  },
  {
   "cell_type": "code",
   "execution_count": 6,
   "metadata": {},
   "outputs": [
    {
     "data": {
      "text/plain": [
       "[<trialexp.process.data_import.Session at 0x1cc1d44f910>,\n",
       " <trialexp.process.data_import.Session at 0x1cc1d44f460>,\n",
       " <trialexp.process.data_import.Session at 0x1cc1d44f1f0>,\n",
       " <trialexp.process.data_import.Session at 0x1cc1d4880d0>,\n",
       " <trialexp.process.data_import.Session at 0x1cc1d44f5b0>,\n",
       " <trialexp.process.data_import.Session at 0x1cc1b76f9d0>,\n",
       " <trialexp.process.data_import.Session at 0x1cc1d44ff10>,\n",
       " <trialexp.process.data_import.Session at 0x1cc1d44f610>,\n",
       " <trialexp.process.data_import.Session at 0x1cc1b6fcc10>,\n",
       " <trialexp.process.data_import.Session at 0x1cc34e51f10>]"
      ]
     },
     "execution_count": 6,
     "metadata": {},
     "output_type": "execute_result"
    }
   ],
   "source": [
    "ss = exp_cohort.sessions\n",
    "\n",
    "ss_ = [this_ss for this_ss in ss \n",
    "    if this_ss.subject_ID in [313, 314, 315, 316, 317, 318] \n",
    "    and this_ss.experiment_name == 'reaching_go_spout_nov22']\n",
    "ss_\n"
   ]
  },
  {
   "cell_type": "code",
   "execution_count": 7,
   "metadata": {},
   "outputs": [],
   "source": [
    "exp_cohort.sessions = ss_"
   ]
  },
  {
   "cell_type": "code",
   "execution_count": 8,
   "metadata": {},
   "outputs": [
    {
     "data": {
      "text/plain": [
       "[<trialexp.process.data_import.Session at 0x1cc1d44f910>,\n",
       " <trialexp.process.data_import.Session at 0x1cc1d44f460>,\n",
       " <trialexp.process.data_import.Session at 0x1cc1d44f1f0>,\n",
       " <trialexp.process.data_import.Session at 0x1cc1d4880d0>,\n",
       " <trialexp.process.data_import.Session at 0x1cc1d44f5b0>,\n",
       " <trialexp.process.data_import.Session at 0x1cc1b76f9d0>,\n",
       " <trialexp.process.data_import.Session at 0x1cc1d44ff10>,\n",
       " <trialexp.process.data_import.Session at 0x1cc1d44f610>,\n",
       " <trialexp.process.data_import.Session at 0x1cc1b6fcc10>,\n",
       " <trialexp.process.data_import.Session at 0x1cc34e51f10>]"
      ]
     },
     "execution_count": 8,
     "metadata": {},
     "output_type": "execute_result"
    }
   ],
   "source": [
    "ss_\n"
   ]
  },
  {
   "cell_type": "markdown",
   "metadata": {},
   "source": [
    "# SLOW 3m"
   ]
  },
  {
   "cell_type": "code",
   "execution_count": 9,
   "metadata": {},
   "outputs": [],
   "source": [
    "\n",
    "# # Process the whole experimental folder by trials\n",
    "\n",
    "# exp_cohort.process_exp_by_trial(\n",
    "#     trial_window, timelim, tasksfile, blank_spurious_event='spout', blank_timelim=[0, 65])\n",
    "#     # not working\n",
    "\n",
    "# # Find if there is a matching photometry file and if it can be used:\n",
    "# # rsync synchronization pulses matching between behaviour and photometry\n",
    "\n",
    "# # Find if there is a matching photometry file:\n",
    "# exp_cohort.match_sessions_to_files(photometry_dir, ext='ppd')\n",
    "\n",
    "# # rsync synchronization pulses matching between behaviour and photometry\n",
    "# exp_cohort.sync_photometry_files(2)\n",
    "\n",
    "# # Find matching videos\n",
    "# exp_cohort.match_sessions_to_files(video_dir, ext='mp4')\n",
    "\n",
    "# # FInd matching DeepLabCut outputs files\n",
    "# exp_cohort.match_sessions_to_files(video_dir, ext='h5', verbose=True)\n",
    "\n",
    "\n",
    "# # exp_cohort.save()\n"
   ]
  },
  {
   "cell_type": "code",
   "execution_count": 10,
   "metadata": {},
   "outputs": [
    {
     "data": {
      "text/plain": [
       "[313, 314, 315, 316, 317, 318]"
      ]
     },
     "execution_count": 10,
     "metadata": {},
     "output_type": "execute_result"
    }
   ],
   "source": [
    "exp_cohort.subject_IDs\n"
   ]
  },
  {
   "cell_type": "code",
   "execution_count": 11,
   "metadata": {},
   "outputs": [],
   "source": [
    "# Many combinations possible\n",
    "conditions_dict0 = {'trigger': 'busy_win', 'valid': True}\n",
    "\n",
    "\n",
    "# Aggregate all condition dictionaries in a list\n",
    "condition_list = [conditions_dict0]\n",
    "# Aliases for conditions\n",
    "cond_aliases = [\n",
    "    'any_trial',\n",
    "]\n",
    "\n",
    "# Groups as a list of lists\n",
    "groups = None\n",
    "\n",
    "# right_handed = [281]\n",
    "# groups = [[280, 282, 299, 300, 301],\\\n",
    "#     [284, 285, 296, 297, 306, 307]]\n",
    "# Window to exctract (in ms)\n"
   ]
  },
  {
   "cell_type": "code",
   "execution_count": 12,
   "metadata": {},
   "outputs": [
    {
     "data": {
      "text/plain": [
       "dict_keys(['waiting_for_spout', 'short_break', 'busy_win', 'button_release', 'US_delay_timer', 'CS_offset_timer', 'bar_off', 'hold_timer', 'spout_off', 'busy_win_timer', 'spout_ana', 'spout_ana_off', 'bar', 'US_end_timer', 'spout', 'button_press', 'block_timer', 'rsync'])"
      ]
     },
     "execution_count": 12,
     "metadata": {},
     "output_type": "execute_result"
    }
   ],
   "source": [
    "exp_cohort.sessions[0].times.keys()"
   ]
  },
  {
   "cell_type": "markdown",
   "metadata": {},
   "source": [
    "# Session plot\n",
    "\n",
    "I realised that this plot can never tell if a water drop was triggered by bar_off or spout.\n"
   ]
  },
  {
   "cell_type": "code",
   "execution_count": 13,
   "metadata": {},
   "outputs": [
    {
     "data": {
      "text/plain": [
       "['13933 water_on',\n",
       " '13933 water success',\n",
       " '15734 Timestamp:0 Success:False, Light:False',\n",
       " '60835 water_on',\n",
       " '60835 water success',\n",
       " '62636 Timestamp:0 Success:False, Light:False',\n",
       " '108497 water_on',\n",
       " '108497 water success',\n",
       " '110298 Timestamp:0 Success:False, Light:False',\n",
       " '170552 water_on',\n",
       " '170552 water success',\n",
       " '172353 Timestamp:0 Success:False, Light:False',\n",
       " '209820 water_on',\n",
       " '209820 water success',\n",
       " '211621 Timestamp:0 Success:False, Light:False',\n",
       " '217552 water_on',\n",
       " '217552 water success',\n",
       " '218488 water_on',\n",
       " '218488 water success',\n",
       " '218892 water_on',\n",
       " '218892 water success',\n",
       " '219310 water_on',\n",
       " '219310 water success',\n",
       " '219352 Timestamp:0 Success:False, Light:False',\n",
       " '254348 water_on',\n",
       " '254348 water success',\n",
       " '256150 Timestamp:0 Success:False, Light:False',\n",
       " '256993 water_on',\n",
       " '256993 water success',\n",
       " '257286 water_on']"
      ]
     },
     "execution_count": 13,
     "metadata": {},
     "output_type": "execute_result"
    }
   ],
   "source": [
    "exp_cohort.sessions[0].print_lines[0:30]"
   ]
  },
  {
   "cell_type": "code",
   "execution_count": 14,
   "metadata": {},
   "outputs": [
    {
     "data": {
      "text/plain": [
       "15734"
      ]
     },
     "execution_count": 14,
     "metadata": {},
     "output_type": "execute_result"
    }
   ],
   "source": [
    "import re\n",
    "\n",
    "re.match('abc ','abc de')\n",
    "\n",
    "expr = '^\\d+(?= ' + '.?Timestamp' + ')'\n",
    "a = [re.match(expr, L) for L in exp_cohort.sessions[0].print_lines if re.match(expr , L) is not None]\n",
    "int(a[0].group(0))"
   ]
  },
  {
   "cell_type": "code",
   "execution_count": 17,
   "metadata": {},
   "outputs": [
    {
     "data": {
      "text/plain": [
       "dict_keys(['waiting_for_spout', 'short_break', 'busy_win', 'button_release', 'US_delay_timer', 'CS_offset_timer', 'bar_off', 'hold_timer', 'spout_off', 'busy_win_timer', 'spout_ana', 'spout_ana_off', 'bar', 'US_end_timer', 'spout', 'button_press', 'block_timer', 'rsync'])"
      ]
     },
     "execution_count": 17,
     "metadata": {},
     "output_type": "execute_result"
    }
   ],
   "source": [
    "exp_cohort.sessions[0].times.keys()"
   ]
  },
  {
   "cell_type": "code",
   "execution_count": 18,
   "metadata": {},
   "outputs": [
    {
     "data": {
      "application/vnd.plotly.v1+json": {
       "config": {
        "plotlyServerURL": "https://plot.ly"
       },
       "data": [
        {
         "marker": {
          "symbol": "square"
         },
         "mode": "markers",
         "name": "button_press",
         "type": "scatter",
         "x": [
          217.35
         ],
         "y": [
          "button_press"
         ]
        },
        {
         "marker": {
          "symbol": "diamond"
         },
         "mode": "markers",
         "name": "bar",
         "type": "scatter",
         "x": [
          7.569,
          8.468,
          10.194,
          10.485,
          11.011,
          12.212,
          12.371,
          12.596,
          12.62,
          12.753,
          13.897,
          20.927,
          26.567,
          28.547,
          28.985,
          29.06,
          29.475,
          48.237,
          49.572,
          50.075,
          53.303,
          59.542,
          59.81,
          59.897,
          60.963,
          64.364,
          64.599,
          65.391,
          69.6,
          83.661,
          101.94,
          103.14,
          103.368,
          108.047,
          108.356,
          109.01,
          109.036,
          110.055,
          110.861,
          130.395,
          159.089,
          164.731,
          169.8,
          170.836,
          171.727,
          171.772,
          171.802,
          172.337,
          172.751,
          173.747,
          177.985,
          178.077,
          178.542,
          187.537,
          193.883,
          194.318,
          206.284,
          207.253,
          207.874,
          208.096,
          208.273,
          208.382,
          208.86,
          208.977,
          209.03,
          209.126,
          209.633,
          209.838,
          209.918,
          215.238,
          215.569,
          215.713,
          219.457,
          220.208,
          220.415,
          233.213,
          246.712,
          247.137,
          247.6,
          247.638,
          252.42,
          252.701,
          252.773,
          252.935,
          253.084,
          253.34,
          253.665,
          253.818,
          253.948,
          257.572,
          257.622,
          257.682,
          258.118,
          258.416,
          263.408,
          263.611,
          263.788,
          264.103,
          264.521,
          265.842,
          266.507,
          266.525,
          266.663,
          266.795,
          267.8,
          271.692,
          271.722,
          271.771,
          272.689,
          272.837,
          272.897,
          275.785,
          275.842,
          276.6,
          276.878,
          277.023,
          278.62,
          287.238,
          293.076,
          293.85,
          311.759,
          311.789,
          312.045,
          312.6,
          313.683,
          313.755,
          313.999,
          314.265,
          314.399,
          314.584,
          323.553,
          323.759,
          324.295,
          324.513,
          325.512,
          326.054,
          326.152,
          326.881,
          327.325,
          327.404,
          331.877,
          332.07,
          332.84,
          332.956,
          332.999,
          333.046,
          335.234,
          341.264,
          341.717,
          344.982,
          365.175,
          365.224,
          365.449,
          365.793,
          365.96,
          366.904,
          367.252,
          371.194,
          398.106,
          406.641,
          407.004,
          411.226,
          413.857,
          414.034,
          422.835,
          422.996,
          423.142,
          423.456,
          424.787,
          425.818,
          427.021,
          427.184,
          428.335,
          428.371,
          429.42,
          443.802,
          449.306,
          455.342,
          479.183,
          480.48,
          484.031,
          485.271,
          502.573
         ],
         "y": [
          "bar",
          "bar",
          "bar",
          "bar",
          "bar",
          "bar",
          "bar",
          "bar",
          "bar",
          "bar",
          "bar",
          "bar",
          "bar",
          "bar",
          "bar",
          "bar",
          "bar",
          "bar",
          "bar",
          "bar",
          "bar",
          "bar",
          "bar",
          "bar",
          "bar",
          "bar",
          "bar",
          "bar",
          "bar",
          "bar",
          "bar",
          "bar",
          "bar",
          "bar",
          "bar",
          "bar",
          "bar",
          "bar",
          "bar",
          "bar",
          "bar",
          "bar",
          "bar",
          "bar",
          "bar",
          "bar",
          "bar",
          "bar",
          "bar",
          "bar",
          "bar",
          "bar",
          "bar",
          "bar",
          "bar",
          "bar",
          "bar",
          "bar",
          "bar",
          "bar",
          "bar",
          "bar",
          "bar",
          "bar",
          "bar",
          "bar",
          "bar",
          "bar",
          "bar",
          "bar",
          "bar",
          "bar",
          "bar",
          "bar",
          "bar",
          "bar",
          "bar",
          "bar",
          "bar",
          "bar",
          "bar",
          "bar",
          "bar",
          "bar",
          "bar",
          "bar",
          "bar",
          "bar",
          "bar",
          "bar",
          "bar",
          "bar",
          "bar",
          "bar",
          "bar",
          "bar",
          "bar",
          "bar",
          "bar",
          "bar",
          "bar",
          "bar",
          "bar",
          "bar",
          "bar",
          "bar",
          "bar",
          "bar",
          "bar",
          "bar",
          "bar",
          "bar",
          "bar",
          "bar",
          "bar",
          "bar",
          "bar",
          "bar",
          "bar",
          "bar",
          "bar",
          "bar",
          "bar",
          "bar",
          "bar",
          "bar",
          "bar",
          "bar",
          "bar",
          "bar",
          "bar",
          "bar",
          "bar",
          "bar",
          "bar",
          "bar",
          "bar",
          "bar",
          "bar",
          "bar",
          "bar",
          "bar",
          "bar",
          "bar",
          "bar",
          "bar",
          "bar",
          "bar",
          "bar",
          "bar",
          "bar",
          "bar",
          "bar",
          "bar",
          "bar",
          "bar",
          "bar",
          "bar",
          "bar",
          "bar",
          "bar",
          "bar",
          "bar",
          "bar",
          "bar",
          "bar",
          "bar",
          "bar",
          "bar",
          "bar",
          "bar",
          "bar",
          "bar",
          "bar",
          "bar",
          "bar",
          "bar",
          "bar",
          "bar",
          "bar",
          "bar",
          "bar",
          "bar"
         ]
        },
        {
         "marker": {
          "symbol": "cross"
         },
         "mode": "markers",
         "name": "bar_off",
         "type": "scatter",
         "x": [
          7.443,
          7.894,
          10.169,
          10.469,
          10.991,
          12.193,
          12.355,
          12.58,
          12.604,
          12.671,
          12.768,
          20.894,
          26.55,
          28.526,
          28.968,
          29.045,
          29.46,
          48.16,
          49.54,
          50.048,
          53.135,
          59.207,
          59.567,
          59.881,
          60.162,
          64.346,
          64.576,
          65.376,
          69.561,
          83.646,
          100.933,
          103.105,
          103.319,
          107.995,
          108.123,
          108.756,
          109.025,
          110.033,
          110.802,
          130.373,
          159.045,
          164.706,
          169.018,
          170.167,
          170.902,
          171.747,
          171.788,
          172.322,
          172.735,
          173.732,
          177.937,
          178.053,
          178.527,
          187.522,
          193.868,
          194.303,
          206.266,
          206.654,
          207.855,
          208.016,
          208.248,
          208.345,
          208.563,
          208.959,
          208.993,
          209.08,
          209.371,
          209.769,
          209.867,
          215.22,
          215.547,
          215.698,
          217.652,
          220.189,
          220.4,
          233.194,
          246.697,
          247.12,
          247.584,
          247.616,
          252.405,
          252.68,
          252.758,
          252.912,
          253.061,
          253.099,
          253.645,
          253.803,
          253.928,
          253.963,
          257.607,
          257.666,
          258.095,
          258.388,
          263.393,
          263.589,
          263.773,
          264.044,
          264.502,
          264.536,
          266.082,
          266.522,
          266.63,
          266.766,
          267.757,
          271.677,
          271.704,
          271.737,
          272.662,
          272.822,
          272.881,
          272.931,
          275.8,
          275.857,
          276.862,
          276.975,
          277.038,
          286.947,
          293.057,
          293.835,
          311.566,
          311.775,
          312.03,
          312.269,
          313.652,
          313.734,
          313.798,
          314.015,
          314.28,
          314.569,
          323.529,
          323.736,
          324.195,
          324.391,
          324.92,
          325.744,
          326.136,
          326.179,
          327.303,
          327.343,
          327.425,
          332.047,
          332.085,
          332.935,
          332.971,
          333.014,
          333.061,
          341.249,
          341.7,
          344.548,
          364.74,
          365.19,
          365.426,
          365.76,
          365.917,
          366.873,
          367.237,
          367.322,
          398.074,
          406.003,
          406.973,
          411.211,
          411.247,
          413.99,
          422.819,
          422.922,
          423.121,
          423.421,
          424.76,
          425.066,
          426.986,
          427.152,
          427.218,
          428.356,
          429.357,
          443.784,
          449.263,
          455.307,
          479.138,
          480.465,
          484.007,
          485.238,
          502.321
         ],
         "y": [
          "bar_off",
          "bar_off",
          "bar_off",
          "bar_off",
          "bar_off",
          "bar_off",
          "bar_off",
          "bar_off",
          "bar_off",
          "bar_off",
          "bar_off",
          "bar_off",
          "bar_off",
          "bar_off",
          "bar_off",
          "bar_off",
          "bar_off",
          "bar_off",
          "bar_off",
          "bar_off",
          "bar_off",
          "bar_off",
          "bar_off",
          "bar_off",
          "bar_off",
          "bar_off",
          "bar_off",
          "bar_off",
          "bar_off",
          "bar_off",
          "bar_off",
          "bar_off",
          "bar_off",
          "bar_off",
          "bar_off",
          "bar_off",
          "bar_off",
          "bar_off",
          "bar_off",
          "bar_off",
          "bar_off",
          "bar_off",
          "bar_off",
          "bar_off",
          "bar_off",
          "bar_off",
          "bar_off",
          "bar_off",
          "bar_off",
          "bar_off",
          "bar_off",
          "bar_off",
          "bar_off",
          "bar_off",
          "bar_off",
          "bar_off",
          "bar_off",
          "bar_off",
          "bar_off",
          "bar_off",
          "bar_off",
          "bar_off",
          "bar_off",
          "bar_off",
          "bar_off",
          "bar_off",
          "bar_off",
          "bar_off",
          "bar_off",
          "bar_off",
          "bar_off",
          "bar_off",
          "bar_off",
          "bar_off",
          "bar_off",
          "bar_off",
          "bar_off",
          "bar_off",
          "bar_off",
          "bar_off",
          "bar_off",
          "bar_off",
          "bar_off",
          "bar_off",
          "bar_off",
          "bar_off",
          "bar_off",
          "bar_off",
          "bar_off",
          "bar_off",
          "bar_off",
          "bar_off",
          "bar_off",
          "bar_off",
          "bar_off",
          "bar_off",
          "bar_off",
          "bar_off",
          "bar_off",
          "bar_off",
          "bar_off",
          "bar_off",
          "bar_off",
          "bar_off",
          "bar_off",
          "bar_off",
          "bar_off",
          "bar_off",
          "bar_off",
          "bar_off",
          "bar_off",
          "bar_off",
          "bar_off",
          "bar_off",
          "bar_off",
          "bar_off",
          "bar_off",
          "bar_off",
          "bar_off",
          "bar_off",
          "bar_off",
          "bar_off",
          "bar_off",
          "bar_off",
          "bar_off",
          "bar_off",
          "bar_off",
          "bar_off",
          "bar_off",
          "bar_off",
          "bar_off",
          "bar_off",
          "bar_off",
          "bar_off",
          "bar_off",
          "bar_off",
          "bar_off",
          "bar_off",
          "bar_off",
          "bar_off",
          "bar_off",
          "bar_off",
          "bar_off",
          "bar_off",
          "bar_off",
          "bar_off",
          "bar_off",
          "bar_off",
          "bar_off",
          "bar_off",
          "bar_off",
          "bar_off",
          "bar_off",
          "bar_off",
          "bar_off",
          "bar_off",
          "bar_off",
          "bar_off",
          "bar_off",
          "bar_off",
          "bar_off",
          "bar_off",
          "bar_off",
          "bar_off",
          "bar_off",
          "bar_off",
          "bar_off",
          "bar_off",
          "bar_off",
          "bar_off",
          "bar_off",
          "bar_off",
          "bar_off",
          "bar_off",
          "bar_off",
          "bar_off",
          "bar_off",
          "bar_off",
          "bar_off",
          "bar_off",
          "bar_off",
          "bar_off",
          "bar_off"
         ]
        },
        {
         "marker": {
          "symbol": "x"
         },
         "mode": "markers",
         "name": "spout",
         "type": "scatter",
         "x": [
          13.732,
          60.634,
          108.296,
          108.497,
          170.351,
          170.552,
          209.618,
          217.35,
          217.552,
          218.288,
          218.491,
          218.691,
          218.892,
          219.109,
          254.147,
          256.791,
          257.085,
          257.286,
          257.418,
          273.065,
          273.194,
          273.443,
          273.574,
          273.59,
          275.034,
          275.285,
          275.301,
          275.335,
          276.096,
          276.337,
          277.38,
          313.958,
          314.159,
          324.791,
          324.963,
          325.314,
          325.353,
          325.554,
          325.878,
          326.078,
          326.333,
          326.683,
          327.58,
          332.402,
          332.603,
          333.165,
          333.366,
          333.635,
          425.203,
          425.418,
          427.644,
          428.039,
          428.24
         ],
         "y": [
          "spout",
          "spout",
          "spout",
          "spout",
          "spout",
          "spout",
          "spout",
          "spout",
          "spout",
          "spout",
          "spout",
          "spout",
          "spout",
          "spout",
          "spout",
          "spout",
          "spout",
          "spout",
          "spout",
          "spout",
          "spout",
          "spout",
          "spout",
          "spout",
          "spout",
          "spout",
          "spout",
          "spout",
          "spout",
          "spout",
          "spout",
          "spout",
          "spout",
          "spout",
          "spout",
          "spout",
          "spout",
          "spout",
          "spout",
          "spout",
          "spout",
          "spout",
          "spout",
          "spout",
          "spout",
          "spout",
          "spout",
          "spout",
          "spout",
          "spout",
          "spout",
          "spout",
          "spout"
         ]
        },
        {
         "marker": {
          "symbol": "triangle-up"
         },
         "mode": "markers",
         "name": "US_delay_timer",
         "type": "scatter",
         "x": [
          13.933,
          60.835,
          108.497,
          170.552,
          209.82,
          217.552,
          218.488,
          218.892,
          219.31,
          254.348,
          256.993,
          257.286,
          257.619,
          273.266,
          273.395,
          273.774,
          273.79,
          275.235,
          276.538,
          277.581,
          314.159,
          324.992,
          325.164,
          325.514,
          325.554,
          326.078,
          326.533,
          326.883,
          332.603,
          333.366,
          333.836,
          425.404,
          427.845,
          428.24
         ],
         "y": [
          "US_delay_timer",
          "US_delay_timer",
          "US_delay_timer",
          "US_delay_timer",
          "US_delay_timer",
          "US_delay_timer",
          "US_delay_timer",
          "US_delay_timer",
          "US_delay_timer",
          "US_delay_timer",
          "US_delay_timer",
          "US_delay_timer",
          "US_delay_timer",
          "US_delay_timer",
          "US_delay_timer",
          "US_delay_timer",
          "US_delay_timer",
          "US_delay_timer",
          "US_delay_timer",
          "US_delay_timer",
          "US_delay_timer",
          "US_delay_timer",
          "US_delay_timer",
          "US_delay_timer",
          "US_delay_timer",
          "US_delay_timer",
          "US_delay_timer",
          "US_delay_timer",
          "US_delay_timer",
          "US_delay_timer",
          "US_delay_timer",
          "US_delay_timer",
          "US_delay_timer",
          "US_delay_timer"
         ]
        },
        {
         "marker": {
          "symbol": "triangle-down"
         },
         "mode": "markers",
         "name": "CS_offset_timer",
         "type": "scatter",
         "x": [
          2,
          14.033,
          60.935,
          108.597,
          170.652,
          209.919,
          217.652,
          218.588,
          218.992,
          219.41,
          254.448,
          257.092,
          257.386,
          257.719,
          273.366,
          273.495,
          273.874,
          273.89,
          275.335,
          276.638,
          277.681,
          314.259,
          325.092,
          325.264,
          325.614,
          325.654,
          326.178,
          326.633,
          326.983,
          332.703,
          333.466,
          333.936,
          425.504,
          427.945,
          428.34
         ],
         "y": [
          "CS_offset_timer",
          "CS_offset_timer",
          "CS_offset_timer",
          "CS_offset_timer",
          "CS_offset_timer",
          "CS_offset_timer",
          "CS_offset_timer",
          "CS_offset_timer",
          "CS_offset_timer",
          "CS_offset_timer",
          "CS_offset_timer",
          "CS_offset_timer",
          "CS_offset_timer",
          "CS_offset_timer",
          "CS_offset_timer",
          "CS_offset_timer",
          "CS_offset_timer",
          "CS_offset_timer",
          "CS_offset_timer",
          "CS_offset_timer",
          "CS_offset_timer",
          "CS_offset_timer",
          "CS_offset_timer",
          "CS_offset_timer",
          "CS_offset_timer",
          "CS_offset_timer",
          "CS_offset_timer",
          "CS_offset_timer",
          "CS_offset_timer",
          "CS_offset_timer",
          "CS_offset_timer",
          "CS_offset_timer",
          "CS_offset_timer",
          "CS_offset_timer",
          "CS_offset_timer"
         ]
        },
        {
         "marker": {
          "symbol": "triangle-left"
         },
         "mode": "markers",
         "name": "water",
         "type": "scatter",
         "x": [
          13.933,
          60.835,
          108.497,
          170.552,
          209.82,
          217.552,
          218.488,
          218.892,
          219.31,
          254.348,
          256.993,
          257.286,
          257.619,
          273.266,
          273.395,
          273.774,
          273.79,
          275.235,
          276.538,
          277.581,
          314.159,
          324.992,
          325.164,
          325.514,
          325.554,
          326.078,
          326.533,
          326.883,
          332.603,
          333.366,
          333.836,
          425.404,
          427.845,
          428.24
         ],
         "y": [
          "water",
          "water",
          "water",
          "water",
          "water",
          "water",
          "water",
          "water",
          "water",
          "water",
          "water",
          "water",
          "water",
          "water",
          "water",
          "water",
          "water",
          "water",
          "water",
          "water",
          "water",
          "water",
          "water",
          "water",
          "water",
          "water",
          "water",
          "water",
          "water",
          "water",
          "water",
          "water",
          "water",
          "water"
         ]
        },
        {
         "line": {
          "width": 5
         },
         "mode": "lines",
         "name": "waiting_for_spout",
         "type": "scatter",
         "x": [],
         "y": []
        },
        {
         "line": {
          "width": 5
         },
         "mode": "lines",
         "name": "busy_win",
         "type": "scatter",
         "x": [
          273.066,
          275.068,
          null,
          324.791,
          326.794,
          null
         ],
         "y": [
          "busy_win",
          "busy_win",
          "busy_win",
          "busy_win",
          "busy_win",
          "busy_win"
         ]
        },
        {
         "line": {
          "width": 5
         },
         "mode": "lines",
         "name": "short_break",
         "type": "scatter",
         "x": [
          0,
          1.883,
          null,
          275.068,
          276.101,
          null,
          326.794,
          327.846,
          null
         ],
         "y": [
          "short_break",
          "short_break",
          "short_break",
          "short_break",
          "short_break",
          "short_break",
          "short_break",
          "short_break",
          "short_break"
         ]
        }
       ],
       "layout": {
        "template": {
         "data": {
          "bar": [
           {
            "error_x": {
             "color": "#2a3f5f"
            },
            "error_y": {
             "color": "#2a3f5f"
            },
            "marker": {
             "line": {
              "color": "#E5ECF6",
              "width": 0.5
             },
             "pattern": {
              "fillmode": "overlay",
              "size": 10,
              "solidity": 0.2
             }
            },
            "type": "bar"
           }
          ],
          "barpolar": [
           {
            "marker": {
             "line": {
              "color": "#E5ECF6",
              "width": 0.5
             },
             "pattern": {
              "fillmode": "overlay",
              "size": 10,
              "solidity": 0.2
             }
            },
            "type": "barpolar"
           }
          ],
          "carpet": [
           {
            "aaxis": {
             "endlinecolor": "#2a3f5f",
             "gridcolor": "white",
             "linecolor": "white",
             "minorgridcolor": "white",
             "startlinecolor": "#2a3f5f"
            },
            "baxis": {
             "endlinecolor": "#2a3f5f",
             "gridcolor": "white",
             "linecolor": "white",
             "minorgridcolor": "white",
             "startlinecolor": "#2a3f5f"
            },
            "type": "carpet"
           }
          ],
          "choropleth": [
           {
            "colorbar": {
             "outlinewidth": 0,
             "ticks": ""
            },
            "type": "choropleth"
           }
          ],
          "contour": [
           {
            "colorbar": {
             "outlinewidth": 0,
             "ticks": ""
            },
            "colorscale": [
             [
              0,
              "#0d0887"
             ],
             [
              0.1111111111111111,
              "#46039f"
             ],
             [
              0.2222222222222222,
              "#7201a8"
             ],
             [
              0.3333333333333333,
              "#9c179e"
             ],
             [
              0.4444444444444444,
              "#bd3786"
             ],
             [
              0.5555555555555556,
              "#d8576b"
             ],
             [
              0.6666666666666666,
              "#ed7953"
             ],
             [
              0.7777777777777778,
              "#fb9f3a"
             ],
             [
              0.8888888888888888,
              "#fdca26"
             ],
             [
              1,
              "#f0f921"
             ]
            ],
            "type": "contour"
           }
          ],
          "contourcarpet": [
           {
            "colorbar": {
             "outlinewidth": 0,
             "ticks": ""
            },
            "type": "contourcarpet"
           }
          ],
          "heatmap": [
           {
            "colorbar": {
             "outlinewidth": 0,
             "ticks": ""
            },
            "colorscale": [
             [
              0,
              "#0d0887"
             ],
             [
              0.1111111111111111,
              "#46039f"
             ],
             [
              0.2222222222222222,
              "#7201a8"
             ],
             [
              0.3333333333333333,
              "#9c179e"
             ],
             [
              0.4444444444444444,
              "#bd3786"
             ],
             [
              0.5555555555555556,
              "#d8576b"
             ],
             [
              0.6666666666666666,
              "#ed7953"
             ],
             [
              0.7777777777777778,
              "#fb9f3a"
             ],
             [
              0.8888888888888888,
              "#fdca26"
             ],
             [
              1,
              "#f0f921"
             ]
            ],
            "type": "heatmap"
           }
          ],
          "heatmapgl": [
           {
            "colorbar": {
             "outlinewidth": 0,
             "ticks": ""
            },
            "colorscale": [
             [
              0,
              "#0d0887"
             ],
             [
              0.1111111111111111,
              "#46039f"
             ],
             [
              0.2222222222222222,
              "#7201a8"
             ],
             [
              0.3333333333333333,
              "#9c179e"
             ],
             [
              0.4444444444444444,
              "#bd3786"
             ],
             [
              0.5555555555555556,
              "#d8576b"
             ],
             [
              0.6666666666666666,
              "#ed7953"
             ],
             [
              0.7777777777777778,
              "#fb9f3a"
             ],
             [
              0.8888888888888888,
              "#fdca26"
             ],
             [
              1,
              "#f0f921"
             ]
            ],
            "type": "heatmapgl"
           }
          ],
          "histogram": [
           {
            "marker": {
             "pattern": {
              "fillmode": "overlay",
              "size": 10,
              "solidity": 0.2
             }
            },
            "type": "histogram"
           }
          ],
          "histogram2d": [
           {
            "colorbar": {
             "outlinewidth": 0,
             "ticks": ""
            },
            "colorscale": [
             [
              0,
              "#0d0887"
             ],
             [
              0.1111111111111111,
              "#46039f"
             ],
             [
              0.2222222222222222,
              "#7201a8"
             ],
             [
              0.3333333333333333,
              "#9c179e"
             ],
             [
              0.4444444444444444,
              "#bd3786"
             ],
             [
              0.5555555555555556,
              "#d8576b"
             ],
             [
              0.6666666666666666,
              "#ed7953"
             ],
             [
              0.7777777777777778,
              "#fb9f3a"
             ],
             [
              0.8888888888888888,
              "#fdca26"
             ],
             [
              1,
              "#f0f921"
             ]
            ],
            "type": "histogram2d"
           }
          ],
          "histogram2dcontour": [
           {
            "colorbar": {
             "outlinewidth": 0,
             "ticks": ""
            },
            "colorscale": [
             [
              0,
              "#0d0887"
             ],
             [
              0.1111111111111111,
              "#46039f"
             ],
             [
              0.2222222222222222,
              "#7201a8"
             ],
             [
              0.3333333333333333,
              "#9c179e"
             ],
             [
              0.4444444444444444,
              "#bd3786"
             ],
             [
              0.5555555555555556,
              "#d8576b"
             ],
             [
              0.6666666666666666,
              "#ed7953"
             ],
             [
              0.7777777777777778,
              "#fb9f3a"
             ],
             [
              0.8888888888888888,
              "#fdca26"
             ],
             [
              1,
              "#f0f921"
             ]
            ],
            "type": "histogram2dcontour"
           }
          ],
          "mesh3d": [
           {
            "colorbar": {
             "outlinewidth": 0,
             "ticks": ""
            },
            "type": "mesh3d"
           }
          ],
          "parcoords": [
           {
            "line": {
             "colorbar": {
              "outlinewidth": 0,
              "ticks": ""
             }
            },
            "type": "parcoords"
           }
          ],
          "pie": [
           {
            "automargin": true,
            "type": "pie"
           }
          ],
          "scatter": [
           {
            "fillpattern": {
             "fillmode": "overlay",
             "size": 10,
             "solidity": 0.2
            },
            "type": "scatter"
           }
          ],
          "scatter3d": [
           {
            "line": {
             "colorbar": {
              "outlinewidth": 0,
              "ticks": ""
             }
            },
            "marker": {
             "colorbar": {
              "outlinewidth": 0,
              "ticks": ""
             }
            },
            "type": "scatter3d"
           }
          ],
          "scattercarpet": [
           {
            "marker": {
             "colorbar": {
              "outlinewidth": 0,
              "ticks": ""
             }
            },
            "type": "scattercarpet"
           }
          ],
          "scattergeo": [
           {
            "marker": {
             "colorbar": {
              "outlinewidth": 0,
              "ticks": ""
             }
            },
            "type": "scattergeo"
           }
          ],
          "scattergl": [
           {
            "marker": {
             "colorbar": {
              "outlinewidth": 0,
              "ticks": ""
             }
            },
            "type": "scattergl"
           }
          ],
          "scattermapbox": [
           {
            "marker": {
             "colorbar": {
              "outlinewidth": 0,
              "ticks": ""
             }
            },
            "type": "scattermapbox"
           }
          ],
          "scatterpolar": [
           {
            "marker": {
             "colorbar": {
              "outlinewidth": 0,
              "ticks": ""
             }
            },
            "type": "scatterpolar"
           }
          ],
          "scatterpolargl": [
           {
            "marker": {
             "colorbar": {
              "outlinewidth": 0,
              "ticks": ""
             }
            },
            "type": "scatterpolargl"
           }
          ],
          "scatterternary": [
           {
            "marker": {
             "colorbar": {
              "outlinewidth": 0,
              "ticks": ""
             }
            },
            "type": "scatterternary"
           }
          ],
          "surface": [
           {
            "colorbar": {
             "outlinewidth": 0,
             "ticks": ""
            },
            "colorscale": [
             [
              0,
              "#0d0887"
             ],
             [
              0.1111111111111111,
              "#46039f"
             ],
             [
              0.2222222222222222,
              "#7201a8"
             ],
             [
              0.3333333333333333,
              "#9c179e"
             ],
             [
              0.4444444444444444,
              "#bd3786"
             ],
             [
              0.5555555555555556,
              "#d8576b"
             ],
             [
              0.6666666666666666,
              "#ed7953"
             ],
             [
              0.7777777777777778,
              "#fb9f3a"
             ],
             [
              0.8888888888888888,
              "#fdca26"
             ],
             [
              1,
              "#f0f921"
             ]
            ],
            "type": "surface"
           }
          ],
          "table": [
           {
            "cells": {
             "fill": {
              "color": "#EBF0F8"
             },
             "line": {
              "color": "white"
             }
            },
            "header": {
             "fill": {
              "color": "#C8D4E3"
             },
             "line": {
              "color": "white"
             }
            },
            "type": "table"
           }
          ]
         },
         "layout": {
          "annotationdefaults": {
           "arrowcolor": "#2a3f5f",
           "arrowhead": 0,
           "arrowwidth": 1
          },
          "autotypenumbers": "strict",
          "coloraxis": {
           "colorbar": {
            "outlinewidth": 0,
            "ticks": ""
           }
          },
          "colorscale": {
           "diverging": [
            [
             0,
             "#8e0152"
            ],
            [
             0.1,
             "#c51b7d"
            ],
            [
             0.2,
             "#de77ae"
            ],
            [
             0.3,
             "#f1b6da"
            ],
            [
             0.4,
             "#fde0ef"
            ],
            [
             0.5,
             "#f7f7f7"
            ],
            [
             0.6,
             "#e6f5d0"
            ],
            [
             0.7,
             "#b8e186"
            ],
            [
             0.8,
             "#7fbc41"
            ],
            [
             0.9,
             "#4d9221"
            ],
            [
             1,
             "#276419"
            ]
           ],
           "sequential": [
            [
             0,
             "#0d0887"
            ],
            [
             0.1111111111111111,
             "#46039f"
            ],
            [
             0.2222222222222222,
             "#7201a8"
            ],
            [
             0.3333333333333333,
             "#9c179e"
            ],
            [
             0.4444444444444444,
             "#bd3786"
            ],
            [
             0.5555555555555556,
             "#d8576b"
            ],
            [
             0.6666666666666666,
             "#ed7953"
            ],
            [
             0.7777777777777778,
             "#fb9f3a"
            ],
            [
             0.8888888888888888,
             "#fdca26"
            ],
            [
             1,
             "#f0f921"
            ]
           ],
           "sequentialminus": [
            [
             0,
             "#0d0887"
            ],
            [
             0.1111111111111111,
             "#46039f"
            ],
            [
             0.2222222222222222,
             "#7201a8"
            ],
            [
             0.3333333333333333,
             "#9c179e"
            ],
            [
             0.4444444444444444,
             "#bd3786"
            ],
            [
             0.5555555555555556,
             "#d8576b"
            ],
            [
             0.6666666666666666,
             "#ed7953"
            ],
            [
             0.7777777777777778,
             "#fb9f3a"
            ],
            [
             0.8888888888888888,
             "#fdca26"
            ],
            [
             1,
             "#f0f921"
            ]
           ]
          },
          "colorway": [
           "#636efa",
           "#EF553B",
           "#00cc96",
           "#ab63fa",
           "#FFA15A",
           "#19d3f3",
           "#FF6692",
           "#B6E880",
           "#FF97FF",
           "#FECB52"
          ],
          "font": {
           "color": "#2a3f5f"
          },
          "geo": {
           "bgcolor": "white",
           "lakecolor": "white",
           "landcolor": "#E5ECF6",
           "showlakes": true,
           "showland": true,
           "subunitcolor": "white"
          },
          "hoverlabel": {
           "align": "left"
          },
          "hovermode": "closest",
          "mapbox": {
           "style": "light"
          },
          "paper_bgcolor": "white",
          "plot_bgcolor": "#E5ECF6",
          "polar": {
           "angularaxis": {
            "gridcolor": "white",
            "linecolor": "white",
            "ticks": ""
           },
           "bgcolor": "#E5ECF6",
           "radialaxis": {
            "gridcolor": "white",
            "linecolor": "white",
            "ticks": ""
           }
          },
          "scene": {
           "xaxis": {
            "backgroundcolor": "#E5ECF6",
            "gridcolor": "white",
            "gridwidth": 2,
            "linecolor": "white",
            "showbackground": true,
            "ticks": "",
            "zerolinecolor": "white"
           },
           "yaxis": {
            "backgroundcolor": "#E5ECF6",
            "gridcolor": "white",
            "gridwidth": 2,
            "linecolor": "white",
            "showbackground": true,
            "ticks": "",
            "zerolinecolor": "white"
           },
           "zaxis": {
            "backgroundcolor": "#E5ECF6",
            "gridcolor": "white",
            "gridwidth": 2,
            "linecolor": "white",
            "showbackground": true,
            "ticks": "",
            "zerolinecolor": "white"
           }
          },
          "shapedefaults": {
           "line": {
            "color": "#2a3f5f"
           }
          },
          "ternary": {
           "aaxis": {
            "gridcolor": "white",
            "linecolor": "white",
            "ticks": ""
           },
           "baxis": {
            "gridcolor": "white",
            "linecolor": "white",
            "ticks": ""
           },
           "bgcolor": "#E5ECF6",
           "caxis": {
            "gridcolor": "white",
            "linecolor": "white",
            "ticks": ""
           }
          },
          "title": {
           "x": 0.05
          },
          "xaxis": {
           "automargin": true,
           "gridcolor": "white",
           "linecolor": "white",
           "ticks": "",
           "title": {
            "standoff": 15
           },
           "zerolinecolor": "white",
           "zerolinewidth": 2
          },
          "yaxis": {
           "automargin": true,
           "gridcolor": "white",
           "linecolor": "white",
           "ticks": "",
           "title": {
            "standoff": 15
           },
           "zerolinecolor": "white",
           "zerolinewidth": 2
          }
         }
        },
        "title": {
         "text": "reaching_go_spout_nov22, 313 #3, on 2022-11-23 15:22:33 via COM3"
        },
        "xaxis": {
         "title": {
          "text": "Time (s)"
         }
        },
        "yaxis": {
         "fixedrange": true
        }
       }
      }
     },
     "metadata": {},
     "output_type": "display_data"
    }
   ],
   "source": [
    "keys = [\n",
    "        'button_press', 'bar', 'bar_off', 'spout', 'US_delay_timer', 'CS_offset_timer']\n",
    "state_def = [{'name': 'waiting_for_spout', \n",
    "        'onset': 'waiting_for_spout',\n",
    "        'offset': 'waiting_for_spout'},\n",
    "        {'name':'busy_win', \n",
    "        'onset':'busy_win', \n",
    "        'offset':'short_break'},\n",
    "        {'name':'short_break', \n",
    "        'onset':'short_break', \n",
    "        'offset':'waiting_for_spout'}]\n",
    "\n",
    "exp_cohort.sessions[0].plot_session(keys, state_def, \n",
    "        print_expr=dict(name='water', expr='.?water success')) \n"
   ]
  },
  {
   "cell_type": "code",
   "execution_count": null,
   "metadata": {},
   "outputs": [
    {
     "data": {
      "application/vnd.plotly.v1+json": {
       "config": {
        "plotlyServerURL": "https://plot.ly"
       },
       "data": [
        {
         "marker": {
          "symbol": "square"
         },
         "mode": "markers",
         "name": "button_press",
         "type": "scatter",
         "x": [
          2.807,
          48.999,
          808.871,
          809.382,
          816.266,
          824.897,
          873.191,
          1000.272
         ],
         "y": [
          "button_press",
          "button_press",
          "button_press",
          "button_press",
          "button_press",
          "button_press",
          "button_press",
          "button_press"
         ]
        },
        {
         "marker": {
          "symbol": "diamond"
         },
         "mode": "markers",
         "name": "bar",
         "type": "scatter",
         "x": [
          0.767,
          3.082,
          5.815,
          6.868,
          7.59,
          9.099,
          9.141,
          12.935,
          13.239,
          18.985,
          19.025,
          39.83,
          40.467,
          51.659,
          51.706,
          52.544,
          53.135,
          53.32,
          62.667,
          89.941,
          90.87,
          104.355,
          104.658,
          117.901,
          118.3,
          118.341,
          118.547,
          118.562,
          118.66,
          125.946,
          128.652,
          139.645,
          140.595,
          140.624,
          149.762,
          150.089,
          150.185,
          150.201,
          150.235,
          150.266,
          150.755,
          166.283,
          166.459,
          212.658,
          213.192,
          213.264,
          213.35,
          213.722,
          225.655,
          238.375,
          238.458,
          238.563,
          238.642,
          238.706,
          238.772,
          238.788,
          238.82,
          238.903,
          241.42,
          241.681,
          241.784,
          242.321,
          253.441,
          253.835,
          259.155,
          259.172,
          259.215,
          259.246,
          259.262,
          259.381,
          277.669,
          278.074,
          292.617,
          292.798,
          292.905,
          292.921,
          292.94,
          293.125,
          293.158,
          293.177,
          293.295,
          293.716,
          294.085,
          294.277,
          300.738,
          300.891,
          302.212,
          304.611,
          304.673,
          307.628,
          307.953,
          308.415,
          308.464,
          308.595,
          317.386,
          319.111,
          325.457,
          332.721,
          338.964,
          344.202,
          345.577,
          348.37,
          348.553,
          363.121,
          363.469,
          363.595,
          363.629,
          364.207,
          364.326,
          364.367,
          368.094,
          368.307,
          368.369,
          368.394,
          368.616,
          368.67,
          368.686,
          368.725,
          368.76,
          369.145,
          369.445,
          370.134,
          370.203,
          370.235,
          370.255,
          370.31,
          370.475,
          370.495,
          371.051,
          371.112,
          371.313,
          377.499,
          377.685,
          377.785,
          377.825,
          377.845,
          377.865,
          379.018,
          379.645,
          379.685,
          379.705,
          384.282,
          384.339,
          394.634,
          405.485,
          405.593,
          419.663,
          419.773,
          419.835,
          419.893,
          420.43,
          420.847,
          421.414,
          421.713,
          422.211,
          422.247,
          424.779,
          427.102,
          427.477,
          429.925,
          429.955,
          429.975,
          429.995,
          430.015,
          430.035,
          430.065,
          430.095,
          430.125,
          430.155,
          430.185,
          430.215,
          430.245,
          430.275,
          430.305,
          430.325,
          430.345,
          430.365,
          430.385,
          430.405,
          430.425,
          430.445,
          430.465,
          430.485,
          430.505,
          430.525,
          430.545,
          430.565,
          430.585,
          430.605,
          430.665,
          430.685,
          430.705,
          430.725,
          430.745,
          430.765,
          430.785,
          430.807,
          430.865,
          430.885,
          430.907,
          430.931,
          430.969,
          432.735,
          432.836,
          434.055,
          434.075,
          434.095,
          434.115,
          434.135,
          434.155,
          434.185,
          434.205,
          434.225,
          434.245,
          434.265,
          436.734,
          438.236,
          438.392,
          438.553,
          446.633,
          446.657,
          447.49,
          447.848,
          448.079,
          454.125,
          457.204,
          457.395,
          463.435,
          463.515,
          463.596,
          463.921,
          468.303,
          478.69,
          479.305,
          480.058,
          488.364,
          488.44,
          488.485,
          488.545,
          488.912,
          489.258,
          489.547,
          489.582,
          490.197,
          490.405,
          490.425,
          490.445,
          490.465,
          490.495,
          490.525,
          490.545,
          490.565,
          499.684,
          500.001,
          500.442,
          502.278,
          502.514,
          502.813,
          506.876,
          510.903,
          510.995,
          532.206,
          532.236,
          532.269,
          533.036,
          537.179,
          537.251,
          537.484,
          537.516,
          537.695,
          543.529,
          543.634,
          543.884,
          544.32,
          544.772,
          545.218,
          545.304,
          551.665,
          551.695,
          551.725,
          551.755,
          551.775,
          551.795,
          551.815,
          551.835,
          554.606,
          558.97,
          565.121,
          568.391,
          569.143,
          569.35,
          572.425,
          572.473,
          578.693,
          578.749,
          578.972,
          579.172,
          579.846,
          580.784,
          586.27,
          586.645,
          587.993,
          588.239,
          591.946,
          596.692,
          596.807,
          596.913,
          599.332,
          599.387,
          601.605,
          606.148,
          606.185,
          606.209,
          608.512,
          608.798,
          608.839,
          621.9,
          621.97,
          622.043,
          622.621,
          622.77,
          623.348,
          623.612,
          632.199,
          632.247,
          632.295,
          632.613,
          632.677,
          633.325,
          633.704,
          633.789,
          633.864,
          634.057,
          640.772,
          655.507,
          670.717,
          672.587,
          672.656,
          672.926,
          673.349,
          673.642,
          682.799,
          691.326,
          691.646,
          691.809,
          698.536,
          698.816,
          699.046,
          700.469,
          709.092,
          709.193,
          709.615,
          711.341,
          711.704,
          711.99,
          712.49,
          712.594,
          712.787,
          719.558,
          719.697,
          724.08,
          725.955,
          729.596,
          729.63,
          734.204,
          734.564,
          735.082,
          743.574,
          767.628,
          768.332,
          768.724,
          769.04,
          769.406,
          769.698,
          783.078,
          783.458,
          784.413,
          808.253,
          808.832,
          809.011,
          809.382,
          809.411,
          809.936,
          810.138,
          816.916,
          820.826,
          820.997,
          821.247,
          822.048,
          822.78,
          823.111,
          823.296,
          825.112,
          825.498,
          826.116,
          826.923,
          855.662,
          856.595,
          856.705,
          856.722,
          856.772,
          856.812,
          873.399,
          873.584,
          877.258,
          877.376,
          878.408,
          878.678,
          882.285,
          882.484,
          883.129,
          886.582,
          887.635,
          910.989,
          956.368,
          961.278,
          961.33,
          961.345,
          963.471,
          963.645,
          963.826,
          964.315,
          964.409,
          964.533,
          965.399,
          965.565,
          996.699,
          1000.366,
          1000.384,
          1000.477,
          1000.676,
          1001.122,
          1001.22,
          1001.359,
          1024.163,
          1025.098,
          1033.57,
          1050.113,
          1050.207,
          1051.126,
          1051.357,
          1051.565,
          1051.618,
          1054.162,
          1061.365,
          1068.863,
          1069.22,
          1069.273,
          1069.561,
          1069.688,
          1069.843,
          1073.716,
          1073.968,
          1074.129,
          1082.592,
          1099.255,
          1099.418,
          1099.731,
          1125.125,
          1125.446,
          1125.604,
          1132.025,
          1142.546,
          1142.629,
          1142.693,
          1143.872,
          1144.178,
          1144.51,
          1151.94,
          1174.231,
          1174.609,
          1174.676,
          1175.326,
          1182.011,
          1190.81,
          1191.561,
          1192.914,
          1193.125,
          1193.553,
          1193.735,
          1193.99,
          1199.355,
          1199.427,
          1206.851
         ],
         "y": [
          "bar",
          "bar",
          "bar",
          "bar",
          "bar",
          "bar",
          "bar",
          "bar",
          "bar",
          "bar",
          "bar",
          "bar",
          "bar",
          "bar",
          "bar",
          "bar",
          "bar",
          "bar",
          "bar",
          "bar",
          "bar",
          "bar",
          "bar",
          "bar",
          "bar",
          "bar",
          "bar",
          "bar",
          "bar",
          "bar",
          "bar",
          "bar",
          "bar",
          "bar",
          "bar",
          "bar",
          "bar",
          "bar",
          "bar",
          "bar",
          "bar",
          "bar",
          "bar",
          "bar",
          "bar",
          "bar",
          "bar",
          "bar",
          "bar",
          "bar",
          "bar",
          "bar",
          "bar",
          "bar",
          "bar",
          "bar",
          "bar",
          "bar",
          "bar",
          "bar",
          "bar",
          "bar",
          "bar",
          "bar",
          "bar",
          "bar",
          "bar",
          "bar",
          "bar",
          "bar",
          "bar",
          "bar",
          "bar",
          "bar",
          "bar",
          "bar",
          "bar",
          "bar",
          "bar",
          "bar",
          "bar",
          "bar",
          "bar",
          "bar",
          "bar",
          "bar",
          "bar",
          "bar",
          "bar",
          "bar",
          "bar",
          "bar",
          "bar",
          "bar",
          "bar",
          "bar",
          "bar",
          "bar",
          "bar",
          "bar",
          "bar",
          "bar",
          "bar",
          "bar",
          "bar",
          "bar",
          "bar",
          "bar",
          "bar",
          "bar",
          "bar",
          "bar",
          "bar",
          "bar",
          "bar",
          "bar",
          "bar",
          "bar",
          "bar",
          "bar",
          "bar",
          "bar",
          "bar",
          "bar",
          "bar",
          "bar",
          "bar",
          "bar",
          "bar",
          "bar",
          "bar",
          "bar",
          "bar",
          "bar",
          "bar",
          "bar",
          "bar",
          "bar",
          "bar",
          "bar",
          "bar",
          "bar",
          "bar",
          "bar",
          "bar",
          "bar",
          "bar",
          "bar",
          "bar",
          "bar",
          "bar",
          "bar",
          "bar",
          "bar",
          "bar",
          "bar",
          "bar",
          "bar",
          "bar",
          "bar",
          "bar",
          "bar",
          "bar",
          "bar",
          "bar",
          "bar",
          "bar",
          "bar",
          "bar",
          "bar",
          "bar",
          "bar",
          "bar",
          "bar",
          "bar",
          "bar",
          "bar",
          "bar",
          "bar",
          "bar",
          "bar",
          "bar",
          "bar",
          "bar",
          "bar",
          "bar",
          "bar",
          "bar",
          "bar",
          "bar",
          "bar",
          "bar",
          "bar",
          "bar",
          "bar",
          "bar",
          "bar",
          "bar",
          "bar",
          "bar",
          "bar",
          "bar",
          "bar",
          "bar",
          "bar",
          "bar",
          "bar",
          "bar",
          "bar",
          "bar",
          "bar",
          "bar",
          "bar",
          "bar",
          "bar",
          "bar",
          "bar",
          "bar",
          "bar",
          "bar",
          "bar",
          "bar",
          "bar",
          "bar",
          "bar",
          "bar",
          "bar",
          "bar",
          "bar",
          "bar",
          "bar",
          "bar",
          "bar",
          "bar",
          "bar",
          "bar",
          "bar",
          "bar",
          "bar",
          "bar",
          "bar",
          "bar",
          "bar",
          "bar",
          "bar",
          "bar",
          "bar",
          "bar",
          "bar",
          "bar",
          "bar",
          "bar",
          "bar",
          "bar",
          "bar",
          "bar",
          "bar",
          "bar",
          "bar",
          "bar",
          "bar",
          "bar",
          "bar",
          "bar",
          "bar",
          "bar",
          "bar",
          "bar",
          "bar",
          "bar",
          "bar",
          "bar",
          "bar",
          "bar",
          "bar",
          "bar",
          "bar",
          "bar",
          "bar",
          "bar",
          "bar",
          "bar",
          "bar",
          "bar",
          "bar",
          "bar",
          "bar",
          "bar",
          "bar",
          "bar",
          "bar",
          "bar",
          "bar",
          "bar",
          "bar",
          "bar",
          "bar",
          "bar",
          "bar",
          "bar",
          "bar",
          "bar",
          "bar",
          "bar",
          "bar",
          "bar",
          "bar",
          "bar",
          "bar",
          "bar",
          "bar",
          "bar",
          "bar",
          "bar",
          "bar",
          "bar",
          "bar",
          "bar",
          "bar",
          "bar",
          "bar",
          "bar",
          "bar",
          "bar",
          "bar",
          "bar",
          "bar",
          "bar",
          "bar",
          "bar",
          "bar",
          "bar",
          "bar",
          "bar",
          "bar",
          "bar",
          "bar",
          "bar",
          "bar",
          "bar",
          "bar",
          "bar",
          "bar",
          "bar",
          "bar",
          "bar",
          "bar",
          "bar",
          "bar",
          "bar",
          "bar",
          "bar",
          "bar",
          "bar",
          "bar",
          "bar",
          "bar",
          "bar",
          "bar",
          "bar",
          "bar",
          "bar",
          "bar",
          "bar",
          "bar",
          "bar",
          "bar",
          "bar",
          "bar",
          "bar",
          "bar",
          "bar",
          "bar",
          "bar",
          "bar",
          "bar",
          "bar",
          "bar",
          "bar",
          "bar",
          "bar",
          "bar",
          "bar",
          "bar",
          "bar",
          "bar",
          "bar",
          "bar",
          "bar",
          "bar",
          "bar",
          "bar",
          "bar",
          "bar",
          "bar",
          "bar",
          "bar",
          "bar",
          "bar",
          "bar",
          "bar",
          "bar",
          "bar",
          "bar",
          "bar",
          "bar",
          "bar",
          "bar",
          "bar",
          "bar",
          "bar",
          "bar",
          "bar",
          "bar",
          "bar",
          "bar",
          "bar",
          "bar",
          "bar",
          "bar",
          "bar",
          "bar",
          "bar",
          "bar",
          "bar",
          "bar",
          "bar",
          "bar",
          "bar",
          "bar",
          "bar",
          "bar",
          "bar",
          "bar",
          "bar",
          "bar",
          "bar",
          "bar",
          "bar",
          "bar",
          "bar",
          "bar",
          "bar",
          "bar",
          "bar",
          "bar",
          "bar",
          "bar",
          "bar",
          "bar",
          "bar",
          "bar",
          "bar",
          "bar",
          "bar",
          "bar",
          "bar",
          "bar",
          "bar",
          "bar",
          "bar",
          "bar",
          "bar",
          "bar",
          "bar",
          "bar",
          "bar",
          "bar",
          "bar",
          "bar",
          "bar",
          "bar",
          "bar",
          "bar",
          "bar",
          "bar",
          "bar",
          "bar",
          "bar",
          "bar",
          "bar",
          "bar",
          "bar",
          "bar"
         ]
        },
        {
         "marker": {
          "symbol": "cross"
         },
         "mode": "markers",
         "name": "bar_off",
         "type": "scatter",
         "x": [
          0.717,
          3.064,
          3.097,
          6.361,
          7.074,
          9.004,
          9.115,
          12.882,
          13.154,
          18.924,
          19.01,
          39.77,
          40.425,
          49.097,
          51.675,
          52.474,
          53.039,
          53.15,
          62.624,
          88.407,
          90.785,
          104.309,
          104.629,
          117.855,
          118.206,
          118.316,
          118.487,
          118.562,
          118.577,
          125.882,
          128.594,
          139.563,
          140.421,
          140.61,
          149.714,
          150.014,
          150.133,
          150.201,
          150.22,
          150.235,
          150.672,
          166.231,
          166.41,
          212.585,
          213.125,
          213.21,
          213.303,
          213.644,
          225.616,
          238.356,
          238.391,
          238.473,
          238.582,
          238.691,
          238.706,
          238.787,
          238.803,
          238.862,
          239.208,
          241.666,
          241.696,
          241.902,
          253.336,
          253.657,
          253.919,
          259.17,
          259.19,
          259.23,
          259.261,
          259.277,
          277.622,
          278.039,
          292.566,
          292.782,
          292.834,
          292.92,
          292.936,
          292.955,
          293.142,
          293.174,
          293.279,
          293.295,
          293.732,
          294.101,
          294.292,
          300.839,
          302.116,
          304.587,
          304.626,
          307.57,
          307.888,
          308.4,
          308.418,
          308.556,
          317.343,
          319.051,
          325.429,
          332.684,
          338.904,
          344.155,
          345.536,
          348.258,
          348.498,
          363.055,
          363.393,
          363.575,
          363.61,
          364.167,
          364.232,
          364.352,
          364.464,
          368.274,
          368.322,
          368.385,
          368.409,
          368.631,
          368.685,
          368.701,
          368.745,
          368.775,
          369.16,
          369.46,
          370.15,
          370.22,
          370.24,
          370.29,
          370.325,
          370.49,
          370.898,
          371.097,
          371.116,
          371.34,
          377.579,
          377.77,
          377.81,
          377.83,
          377.85,
          378.924,
          379.153,
          379.67,
          379.69,
          384.261,
          384.298,
          394.509,
          405.47,
          405.494,
          419.648,
          419.668,
          419.788,
          419.878,
          419.903,
          420.446,
          420.862,
          421.43,
          421.729,
          422.232,
          422.254,
          426.625,
          427.117,
          427.492,
          429.94,
          429.97,
          429.99,
          430.01,
          430.03,
          430.05,
          430.08,
          430.11,
          430.14,
          430.17,
          430.2,
          430.23,
          430.26,
          430.29,
          430.31,
          430.33,
          430.35,
          430.37,
          430.39,
          430.41,
          430.43,
          430.45,
          430.47,
          430.49,
          430.51,
          430.53,
          430.55,
          430.57,
          430.59,
          430.65,
          430.67,
          430.69,
          430.71,
          430.73,
          430.75,
          430.77,
          430.79,
          430.85,
          430.87,
          430.89,
          430.91,
          430.95,
          432.715,
          432.815,
          433.143,
          434.07,
          434.09,
          434.11,
          434.13,
          434.15,
          434.17,
          434.19,
          434.21,
          434.23,
          434.25,
          436.19,
          436.749,
          438.251,
          438.407,
          438.569,
          446.648,
          447.447,
          447.833,
          448.019,
          454.107,
          457.145,
          457.322,
          463.42,
          463.446,
          463.581,
          463.836,
          468.274,
          478.648,
          479.247,
          479.957,
          488.312,
          488.38,
          488.47,
          488.511,
          488.56,
          488.927,
          489.273,
          489.563,
          489.598,
          490.212,
          490.42,
          490.44,
          490.46,
          490.48,
          490.51,
          490.53,
          490.55,
          492.07,
          499.963,
          500.321,
          502.222,
          502.418,
          502.529,
          506.831,
          510.864,
          510.929,
          532.129,
          532.221,
          532.254,
          532.276,
          537.158,
          537.194,
          537.387,
          537.501,
          537.542,
          543.513,
          543.545,
          543.806,
          543.9,
          544.336,
          544.788,
          545.233,
          545.319,
          551.68,
          551.71,
          551.74,
          551.76,
          551.78,
          551.8,
          551.82,
          554.53,
          558.862,
          565.027,
          568.294,
          569.082,
          569.305,
          572.41,
          572.436,
          572.543,
          578.734,
          578.76,
          579.113,
          579.815,
          580.633,
          586.195,
          586.556,
          586.78,
          588.05,
          589.313,
          596.677,
          596.703,
          596.891,
          597.225,
          599.353,
          601.589,
          601.635,
          606.163,
          606.2,
          608.45,
          608.62,
          608.813,
          621.653,
          621.915,
          622.009,
          622.564,
          622.723,
          623.277,
          623.539,
          632.177,
          632.214,
          632.269,
          632.31,
          632.628,
          632.693,
          633.341,
          633.719,
          633.804,
          633.987,
          640.742,
          655.482,
          670.697,
          670.732,
          672.602,
          672.882,
          673.294,
          673.61,
          682.775,
          683.158,
          691.564,
          691.717,
          692.007,
          698.751,
          698.97,
          700.425,
          700.489,
          709.152,
          709.555,
          710.715,
          711.356,
          711.719,
          712.006,
          712.506,
          712.609,
          712.803,
          719.592,
          719.813,
          725.847,
          729.352,
          729.611,
          734.17,
          734.508,
          735.038,
          743.541,
          767.586,
          767.97,
          768.347,
          768.74,
          769.056,
          769.421,
          769.714,
          783.271,
          784.333,
          808.212,
          808.787,
          808.968,
          809.129,
          809.398,
          809.511,
          810.102,
          816.42,
          816.932,
          820.895,
          821.232,
          821.247,
          822.707,
          823.096,
          823.253,
          825.088,
          825.128,
          825.513,
          826.131,
          855.61,
          856.544,
          856.69,
          856.707,
          856.757,
          856.773,
          873.383,
          873.415,
          873.599,
          877.274,
          878.344,
          878.606,
          882.243,
          882.426,
          883.06,
          886.543,
          887.591,
          910.939,
          956.328,
          961.1,
          961.306,
          961.345,
          961.361,
          963.53,
          963.785,
          964.246,
          964.394,
          964.454,
          965.383,
          965.414,
          996.683,
          1000.351,
          1000.369,
          1000.386,
          1000.654,
          1001.061,
          1001.181,
          1001.331,
          1024.117,
          1024.95,
          1033.484,
          1049.862,
          1050.143,
          1050.268,
          1051.261,
          1051.55,
          1051.565,
          1053.057,
          1059.506,
          1068.84,
          1068.879,
          1069.236,
          1069.289,
          1069.576,
          1069.711,
          1073.679,
          1073.922,
          1074.084,
          1082.553,
          1099.213,
          1099.387,
          1099.695,
          1125.073,
          1125.402,
          1125.468,
          1131.986,
          1142.501,
          1142.61,
          1142.646,
          1143.84,
          1144.131,
          1144.464,
          1151.89,
          1174.203,
          1174.537,
          1174.624,
          1175.284,
          1181.925,
          1190.778,
          1191.546,
          1192.899,
          1192.921,
          1193.522,
          1193.686,
          1193.937,
          1199.307,
          1199.38,
          1206.812
         ],
         "y": [
          "bar_off",
          "bar_off",
          "bar_off",
          "bar_off",
          "bar_off",
          "bar_off",
          "bar_off",
          "bar_off",
          "bar_off",
          "bar_off",
          "bar_off",
          "bar_off",
          "bar_off",
          "bar_off",
          "bar_off",
          "bar_off",
          "bar_off",
          "bar_off",
          "bar_off",
          "bar_off",
          "bar_off",
          "bar_off",
          "bar_off",
          "bar_off",
          "bar_off",
          "bar_off",
          "bar_off",
          "bar_off",
          "bar_off",
          "bar_off",
          "bar_off",
          "bar_off",
          "bar_off",
          "bar_off",
          "bar_off",
          "bar_off",
          "bar_off",
          "bar_off",
          "bar_off",
          "bar_off",
          "bar_off",
          "bar_off",
          "bar_off",
          "bar_off",
          "bar_off",
          "bar_off",
          "bar_off",
          "bar_off",
          "bar_off",
          "bar_off",
          "bar_off",
          "bar_off",
          "bar_off",
          "bar_off",
          "bar_off",
          "bar_off",
          "bar_off",
          "bar_off",
          "bar_off",
          "bar_off",
          "bar_off",
          "bar_off",
          "bar_off",
          "bar_off",
          "bar_off",
          "bar_off",
          "bar_off",
          "bar_off",
          "bar_off",
          "bar_off",
          "bar_off",
          "bar_off",
          "bar_off",
          "bar_off",
          "bar_off",
          "bar_off",
          "bar_off",
          "bar_off",
          "bar_off",
          "bar_off",
          "bar_off",
          "bar_off",
          "bar_off",
          "bar_off",
          "bar_off",
          "bar_off",
          "bar_off",
          "bar_off",
          "bar_off",
          "bar_off",
          "bar_off",
          "bar_off",
          "bar_off",
          "bar_off",
          "bar_off",
          "bar_off",
          "bar_off",
          "bar_off",
          "bar_off",
          "bar_off",
          "bar_off",
          "bar_off",
          "bar_off",
          "bar_off",
          "bar_off",
          "bar_off",
          "bar_off",
          "bar_off",
          "bar_off",
          "bar_off",
          "bar_off",
          "bar_off",
          "bar_off",
          "bar_off",
          "bar_off",
          "bar_off",
          "bar_off",
          "bar_off",
          "bar_off",
          "bar_off",
          "bar_off",
          "bar_off",
          "bar_off",
          "bar_off",
          "bar_off",
          "bar_off",
          "bar_off",
          "bar_off",
          "bar_off",
          "bar_off",
          "bar_off",
          "bar_off",
          "bar_off",
          "bar_off",
          "bar_off",
          "bar_off",
          "bar_off",
          "bar_off",
          "bar_off",
          "bar_off",
          "bar_off",
          "bar_off",
          "bar_off",
          "bar_off",
          "bar_off",
          "bar_off",
          "bar_off",
          "bar_off",
          "bar_off",
          "bar_off",
          "bar_off",
          "bar_off",
          "bar_off",
          "bar_off",
          "bar_off",
          "bar_off",
          "bar_off",
          "bar_off",
          "bar_off",
          "bar_off",
          "bar_off",
          "bar_off",
          "bar_off",
          "bar_off",
          "bar_off",
          "bar_off",
          "bar_off",
          "bar_off",
          "bar_off",
          "bar_off",
          "bar_off",
          "bar_off",
          "bar_off",
          "bar_off",
          "bar_off",
          "bar_off",
          "bar_off",
          "bar_off",
          "bar_off",
          "bar_off",
          "bar_off",
          "bar_off",
          "bar_off",
          "bar_off",
          "bar_off",
          "bar_off",
          "bar_off",
          "bar_off",
          "bar_off",
          "bar_off",
          "bar_off",
          "bar_off",
          "bar_off",
          "bar_off",
          "bar_off",
          "bar_off",
          "bar_off",
          "bar_off",
          "bar_off",
          "bar_off",
          "bar_off",
          "bar_off",
          "bar_off",
          "bar_off",
          "bar_off",
          "bar_off",
          "bar_off",
          "bar_off",
          "bar_off",
          "bar_off",
          "bar_off",
          "bar_off",
          "bar_off",
          "bar_off",
          "bar_off",
          "bar_off",
          "bar_off",
          "bar_off",
          "bar_off",
          "bar_off",
          "bar_off",
          "bar_off",
          "bar_off",
          "bar_off",
          "bar_off",
          "bar_off",
          "bar_off",
          "bar_off",
          "bar_off",
          "bar_off",
          "bar_off",
          "bar_off",
          "bar_off",
          "bar_off",
          "bar_off",
          "bar_off",
          "bar_off",
          "bar_off",
          "bar_off",
          "bar_off",
          "bar_off",
          "bar_off",
          "bar_off",
          "bar_off",
          "bar_off",
          "bar_off",
          "bar_off",
          "bar_off",
          "bar_off",
          "bar_off",
          "bar_off",
          "bar_off",
          "bar_off",
          "bar_off",
          "bar_off",
          "bar_off",
          "bar_off",
          "bar_off",
          "bar_off",
          "bar_off",
          "bar_off",
          "bar_off",
          "bar_off",
          "bar_off",
          "bar_off",
          "bar_off",
          "bar_off",
          "bar_off",
          "bar_off",
          "bar_off",
          "bar_off",
          "bar_off",
          "bar_off",
          "bar_off",
          "bar_off",
          "bar_off",
          "bar_off",
          "bar_off",
          "bar_off",
          "bar_off",
          "bar_off",
          "bar_off",
          "bar_off",
          "bar_off",
          "bar_off",
          "bar_off",
          "bar_off",
          "bar_off",
          "bar_off",
          "bar_off",
          "bar_off",
          "bar_off",
          "bar_off",
          "bar_off",
          "bar_off",
          "bar_off",
          "bar_off",
          "bar_off",
          "bar_off",
          "bar_off",
          "bar_off",
          "bar_off",
          "bar_off",
          "bar_off",
          "bar_off",
          "bar_off",
          "bar_off",
          "bar_off",
          "bar_off",
          "bar_off",
          "bar_off",
          "bar_off",
          "bar_off",
          "bar_off",
          "bar_off",
          "bar_off",
          "bar_off",
          "bar_off",
          "bar_off",
          "bar_off",
          "bar_off",
          "bar_off",
          "bar_off",
          "bar_off",
          "bar_off",
          "bar_off",
          "bar_off",
          "bar_off",
          "bar_off",
          "bar_off",
          "bar_off",
          "bar_off",
          "bar_off",
          "bar_off",
          "bar_off",
          "bar_off",
          "bar_off",
          "bar_off",
          "bar_off",
          "bar_off",
          "bar_off",
          "bar_off",
          "bar_off",
          "bar_off",
          "bar_off",
          "bar_off",
          "bar_off",
          "bar_off",
          "bar_off",
          "bar_off",
          "bar_off",
          "bar_off",
          "bar_off",
          "bar_off",
          "bar_off",
          "bar_off",
          "bar_off",
          "bar_off",
          "bar_off",
          "bar_off",
          "bar_off",
          "bar_off",
          "bar_off",
          "bar_off",
          "bar_off",
          "bar_off",
          "bar_off",
          "bar_off",
          "bar_off",
          "bar_off",
          "bar_off",
          "bar_off",
          "bar_off",
          "bar_off",
          "bar_off",
          "bar_off",
          "bar_off",
          "bar_off",
          "bar_off",
          "bar_off",
          "bar_off",
          "bar_off",
          "bar_off",
          "bar_off",
          "bar_off",
          "bar_off",
          "bar_off",
          "bar_off",
          "bar_off",
          "bar_off",
          "bar_off",
          "bar_off",
          "bar_off",
          "bar_off",
          "bar_off",
          "bar_off",
          "bar_off",
          "bar_off",
          "bar_off",
          "bar_off",
          "bar_off",
          "bar_off",
          "bar_off",
          "bar_off",
          "bar_off",
          "bar_off",
          "bar_off",
          "bar_off",
          "bar_off",
          "bar_off",
          "bar_off",
          "bar_off",
          "bar_off",
          "bar_off",
          "bar_off",
          "bar_off",
          "bar_off",
          "bar_off",
          "bar_off",
          "bar_off",
          "bar_off",
          "bar_off",
          "bar_off",
          "bar_off",
          "bar_off",
          "bar_off",
          "bar_off",
          "bar_off",
          "bar_off",
          "bar_off",
          "bar_off",
          "bar_off",
          "bar_off",
          "bar_off",
          "bar_off",
          "bar_off",
          "bar_off",
          "bar_off",
          "bar_off",
          "bar_off",
          "bar_off",
          "bar_off",
          "bar_off",
          "bar_off",
          "bar_off",
          "bar_off",
          "bar_off",
          "bar_off",
          "bar_off",
          "bar_off",
          "bar_off",
          "bar_off",
          "bar_off",
          "bar_off",
          "bar_off",
          "bar_off",
          "bar_off",
          "bar_off",
          "bar_off",
          "bar_off",
          "bar_off",
          "bar_off",
          "bar_off",
          "bar_off",
          "bar_off",
          "bar_off",
          "bar_off",
          "bar_off",
          "bar_off",
          "bar_off",
          "bar_off",
          "bar_off",
          "bar_off",
          "bar_off",
          "bar_off",
          "bar_off",
          "bar_off",
          "bar_off",
          "bar_off",
          "bar_off",
          "bar_off",
          "bar_off",
          "bar_off",
          "bar_off"
         ]
        },
        {
         "marker": {
          "symbol": "x"
         },
         "mode": "markers",
         "name": "spout",
         "type": "scatter",
         "x": [
          3.236,
          4.337,
          4.67,
          4.826,
          5.222,
          5.298,
          49.366,
          49.737,
          49.84,
          50.013,
          50.118,
          50.498,
          51.085,
          51.177,
          88.59,
          88.841,
          88.925,
          89.236,
          89.354,
          89.576,
          149.93,
          238.326,
          239.456,
          239.905,
          240.531,
          293.515,
          293.716,
          293.783,
          293.885,
          294.076,
          294.152,
          294.59,
          294.679,
          364.368,
          371.602,
          372.204,
          372.566,
          372.659,
          372.922,
          373.046,
          373.063,
          420.23,
          420.255,
          420.541,
          420.646,
          421.214,
          421.414,
          421.513,
          421.713,
          422.383,
          422.436,
          422.704,
          426.901,
          427.123,
          427.276,
          427.544,
          436.533,
          438.035,
          438.191,
          438.352,
          443.89,
          444.07,
          444.181,
          446.433,
          488.528,
          488.711,
          488.951,
          489.057,
          489.295,
          489.325,
          489.346,
          489.382,
          489.547,
          489.582,
          489.618,
          492.357,
          492.388,
          492.737,
          492.844,
          492.951,
          493.015,
          496.69,
          496.949,
          544.12,
          544.571,
          544.772,
          544.797,
          545.017,
          545.104,
          545.342,
          545.96,
          586.916,
          587.008,
          587.464,
          589.669,
          590.203,
          590.917,
          591.32,
          591.476,
          591.515,
          591.716,
          597.568,
          597.67,
          597.769,
          598.821,
          599.089,
          601.97,
          632.412,
          632.476,
          632.677,
          632.741,
          633.125,
          633.37,
          633.503,
          670.93,
          671.905,
          683.043,
          683.325,
          683.525,
          683.565,
          683.654,
          683.877,
          684.001,
          684.467,
          684.594,
          684.777,
          692.153,
          692.489,
          692.69,
          692.731,
          692.834,
          693.046,
          693.238,
          700.99,
          701.191,
          701.48,
          701.672,
          701.786,
          704.665,
          711.14,
          711.354,
          711.504,
          711.708,
          711.749,
          711.789,
          712.289,
          712.393,
          712.587,
          712.854,
          719.997,
          720.026,
          723.736,
          768.132,
          768.523,
          768.724,
          768.839,
          769.04,
          769.105,
          769.206,
          769.498,
          769.631,
          770.801,
          776.512,
          777.106,
          780.364,
          816.715,
          816.916,
          821.406,
          824.911,
          825.112,
          825.297,
          825.916,
          873.623,
          961.022,
          961.603,
          962.045,
          962.247,
          962.76,
          1050.408,
          1050.609,
          1050.764,
          1053.273,
          1053.604,
          1059.648,
          1059.678,
          1059.965,
          1060.707,
          1061.018,
          1069.019,
          1069.072,
          1069.273,
          1069.361,
          1125.274,
          1193.022
         ],
         "y": [
          "spout",
          "spout",
          "spout",
          "spout",
          "spout",
          "spout",
          "spout",
          "spout",
          "spout",
          "spout",
          "spout",
          "spout",
          "spout",
          "spout",
          "spout",
          "spout",
          "spout",
          "spout",
          "spout",
          "spout",
          "spout",
          "spout",
          "spout",
          "spout",
          "spout",
          "spout",
          "spout",
          "spout",
          "spout",
          "spout",
          "spout",
          "spout",
          "spout",
          "spout",
          "spout",
          "spout",
          "spout",
          "spout",
          "spout",
          "spout",
          "spout",
          "spout",
          "spout",
          "spout",
          "spout",
          "spout",
          "spout",
          "spout",
          "spout",
          "spout",
          "spout",
          "spout",
          "spout",
          "spout",
          "spout",
          "spout",
          "spout",
          "spout",
          "spout",
          "spout",
          "spout",
          "spout",
          "spout",
          "spout",
          "spout",
          "spout",
          "spout",
          "spout",
          "spout",
          "spout",
          "spout",
          "spout",
          "spout",
          "spout",
          "spout",
          "spout",
          "spout",
          "spout",
          "spout",
          "spout",
          "spout",
          "spout",
          "spout",
          "spout",
          "spout",
          "spout",
          "spout",
          "spout",
          "spout",
          "spout",
          "spout",
          "spout",
          "spout",
          "spout",
          "spout",
          "spout",
          "spout",
          "spout",
          "spout",
          "spout",
          "spout",
          "spout",
          "spout",
          "spout",
          "spout",
          "spout",
          "spout",
          "spout",
          "spout",
          "spout",
          "spout",
          "spout",
          "spout",
          "spout",
          "spout",
          "spout",
          "spout",
          "spout",
          "spout",
          "spout",
          "spout",
          "spout",
          "spout",
          "spout",
          "spout",
          "spout",
          "spout",
          "spout",
          "spout",
          "spout",
          "spout",
          "spout",
          "spout",
          "spout",
          "spout",
          "spout",
          "spout",
          "spout",
          "spout",
          "spout",
          "spout",
          "spout",
          "spout",
          "spout",
          "spout",
          "spout",
          "spout",
          "spout",
          "spout",
          "spout",
          "spout",
          "spout",
          "spout",
          "spout",
          "spout",
          "spout",
          "spout",
          "spout",
          "spout",
          "spout",
          "spout",
          "spout",
          "spout",
          "spout",
          "spout",
          "spout",
          "spout",
          "spout",
          "spout",
          "spout",
          "spout",
          "spout",
          "spout",
          "spout",
          "spout",
          "spout",
          "spout",
          "spout",
          "spout",
          "spout",
          "spout",
          "spout",
          "spout",
          "spout",
          "spout",
          "spout",
          "spout",
          "spout",
          "spout",
          "spout",
          "spout",
          "spout",
          "spout",
          "spout"
         ]
        },
        {
         "marker": {
          "symbol": "triangle-up"
         },
         "mode": "markers",
         "name": "US_delay_timer",
         "type": "scatter",
         "x": [
          149.915,
          292.767,
          293.716,
          294.085,
          294.277,
          364.368,
          419.849,
          420.43,
          420.456,
          420.847,
          421.414,
          421.713,
          427.102,
          427.477,
          436.734,
          438.236,
          438.392,
          438.553,
          488.513,
          488.912,
          489.258,
          489.547,
          489.582,
          543.714,
          544.32,
          544.772,
          545.218,
          545.304,
          589.87,
          590.403,
          591.117,
          591.52,
          591.677,
          591.716,
          597.769,
          597.87,
          599.022,
          632.613,
          632.677,
          633.325,
          633.704,
          682.976,
          683.525,
          683.855,
          684.201,
          684.668,
          684.794,
          692.354,
          692.69,
          693.035,
          693.439,
          701.191,
          701.681,
          701.873,
          701.986,
          711.341,
          711.704,
          711.99,
          712.49,
          712.594,
          712.787,
          767.787,
          768.332,
          768.724,
          769.04,
          769.406,
          769.698,
          816.916,
          825.112,
          825.498,
          826.116,
          873.584,
          1024.318,
          1050.609,
          1050.964,
          1059.849,
          1059.878,
          1060.165,
          1060.907,
          1061.219,
          1069.22,
          1069.273,
          1069.561,
          1125.274,
          1174.404
         ],
         "y": [
          "US_delay_timer",
          "US_delay_timer",
          "US_delay_timer",
          "US_delay_timer",
          "US_delay_timer",
          "US_delay_timer",
          "US_delay_timer",
          "US_delay_timer",
          "US_delay_timer",
          "US_delay_timer",
          "US_delay_timer",
          "US_delay_timer",
          "US_delay_timer",
          "US_delay_timer",
          "US_delay_timer",
          "US_delay_timer",
          "US_delay_timer",
          "US_delay_timer",
          "US_delay_timer",
          "US_delay_timer",
          "US_delay_timer",
          "US_delay_timer",
          "US_delay_timer",
          "US_delay_timer",
          "US_delay_timer",
          "US_delay_timer",
          "US_delay_timer",
          "US_delay_timer",
          "US_delay_timer",
          "US_delay_timer",
          "US_delay_timer",
          "US_delay_timer",
          "US_delay_timer",
          "US_delay_timer",
          "US_delay_timer",
          "US_delay_timer",
          "US_delay_timer",
          "US_delay_timer",
          "US_delay_timer",
          "US_delay_timer",
          "US_delay_timer",
          "US_delay_timer",
          "US_delay_timer",
          "US_delay_timer",
          "US_delay_timer",
          "US_delay_timer",
          "US_delay_timer",
          "US_delay_timer",
          "US_delay_timer",
          "US_delay_timer",
          "US_delay_timer",
          "US_delay_timer",
          "US_delay_timer",
          "US_delay_timer",
          "US_delay_timer",
          "US_delay_timer",
          "US_delay_timer",
          "US_delay_timer",
          "US_delay_timer",
          "US_delay_timer",
          "US_delay_timer",
          "US_delay_timer",
          "US_delay_timer",
          "US_delay_timer",
          "US_delay_timer",
          "US_delay_timer",
          "US_delay_timer",
          "US_delay_timer",
          "US_delay_timer",
          "US_delay_timer",
          "US_delay_timer",
          "US_delay_timer",
          "US_delay_timer",
          "US_delay_timer",
          "US_delay_timer",
          "US_delay_timer",
          "US_delay_timer",
          "US_delay_timer",
          "US_delay_timer",
          "US_delay_timer",
          "US_delay_timer",
          "US_delay_timer",
          "US_delay_timer",
          "US_delay_timer",
          "US_delay_timer"
         ]
        },
        {
         "marker": {
          "symbol": "triangle-down"
         },
         "mode": "markers",
         "name": "CS_offset_timer",
         "type": "scatter",
         "x": [
          2,
          88.277,
          238.341,
          961.037
         ],
         "y": [
          "CS_offset_timer",
          "CS_offset_timer",
          "CS_offset_timer",
          "CS_offset_timer"
         ]
        },
        {
         "line": {
          "width": 5
         },
         "mode": "lines",
         "name": "hold_for_water",
         "type": "scatter",
         "x": [
          5.816,
          6.016,
          null,
          13.431,
          13.631,
          null,
          20.905,
          21.105,
          null,
          30.1,
          30.3,
          null,
          37.647,
          37.847,
          null,
          45.563,
          45.763,
          null,
          53.321,
          53.521,
          null,
          62.668,
          62.868,
          null,
          71.193,
          71.393,
          null,
          78.692,
          78.892,
          null,
          87.547,
          87.747,
          null,
          92.262,
          92.462,
          null,
          99.988,
          100.188,
          null,
          108.162,
          108.362,
          null,
          117.073,
          117.273,
          null,
          125.353,
          125.553,
          null,
          132.793,
          132.993,
          null,
          141.016,
          141.216,
          null,
          148.589,
          148.789,
          null,
          156.02,
          156.22,
          null,
          164.679,
          164.879,
          null,
          172.392,
          172.592,
          null,
          180.494,
          180.694,
          null,
          187.83,
          188.03,
          null,
          196.804,
          197.004,
          null,
          205.502,
          205.702,
          null,
          213.984,
          214.184,
          null,
          222.284,
          222.484,
          null,
          229.599,
          229.799,
          null,
          237.611,
          237.811,
          null,
          243.186,
          243.386,
          null,
          250.413,
          250.613,
          null,
          259.382,
          259.582,
          null,
          267.221,
          267.421,
          null,
          275.8,
          276,
          null,
          284.156,
          284.356,
          null,
          291.387,
          291.587,
          null,
          300.891,
          301.092,
          null,
          308.69,
          308.89,
          null,
          317.055,
          317.255,
          null,
          324.858,
          325.058,
          null,
          332.345,
          332.545,
          null,
          340.403,
          340.603,
          null,
          348.554,
          348.754,
          null,
          356.258,
          356.458,
          null,
          363.756,
          363.956,
          null,
          377.865,
          378.065,
          null,
          386.646,
          386.846,
          null,
          394.083,
          394.283,
          null,
          402.551,
          402.751,
          null,
          411.467,
          411.667,
          null,
          419.373,
          419.573,
          null,
          425.903,
          426.103,
          null,
          434.265,
          434.465,
          null,
          446.658,
          446.858,
          null,
          455.507,
          455.707,
          null,
          463.175,
          463.375,
          null,
          471.313,
          471.513,
          null,
          480.377,
          480.577,
          null,
          487.85,
          488.05,
          null,
          499.685,
          499.885,
          null,
          508.166,
          508.366,
          null,
          517.35,
          517.55,
          null,
          526.019,
          526.219,
          null,
          534.366,
          534.566,
          null,
          543.275,
          543.475,
          null,
          551.835,
          552.035,
          null,
          560.249,
          560.449,
          null,
          568.504,
          568.704,
          null,
          579.172,
          579.373,
          null,
          588.24,
          588.44,
          null,
          595.706,
          595.906,
          null,
          606.21,
          606.41,
          null,
          613.846,
          614.046,
          null,
          622.771,
          622.971,
          null,
          630.374,
          630.574,
          null,
          640.101,
          640.301,
          null,
          648.545,
          648.745,
          null,
          655.772,
          655.972,
          null,
          664.405,
          664.605,
          null,
          673.642,
          673.843,
          null,
          681.578,
          681.778,
          null,
          691.327,
          691.527,
          null,
          699.047,
          699.247,
          null,
          709.194,
          709.394,
          null,
          724.081,
          724.281,
          null,
          732.342,
          732.542,
          null,
          740.997,
          741.197,
          null,
          748.824,
          749.024,
          null,
          757.724,
          757.924,
          null,
          766.752,
          766.952,
          null,
          783.459,
          783.659,
          null,
          791.314,
          791.514,
          null,
          799.142,
          799.342,
          null,
          807.697,
          807.897,
          null,
          815.001,
          815.201,
          null,
          823.745,
          823.945,
          null,
          831.314,
          831.514,
          null,
          839.306,
          839.506,
          null,
          847.399,
          847.599,
          null,
          855.255,
          855.455,
          null,
          863.652,
          863.852,
          null,
          872.3,
          872.5,
          null,
          879.901,
          880.101,
          null,
          887.278,
          887.478,
          null,
          895.957,
          896.157,
          null,
          903.259,
          903.459,
          null,
          910.541,
          910.741,
          null,
          919.39,
          919.59,
          null,
          926.862,
          927.062,
          null,
          935.898,
          936.101,
          null,
          944.187,
          944.387,
          null,
          952.15,
          952.35,
          null,
          960.307,
          960.507,
          null,
          965.566,
          965.766,
          null,
          973.977,
          974.177,
          null,
          982.807,
          983.007,
          null,
          990.928,
          991.128,
          null,
          999.622,
          999.822,
          null,
          1008.083,
          1008.283,
          null,
          1015.59,
          1015.79,
          null,
          1023.232,
          1023.432,
          null,
          1030.717,
          1030.917,
          null,
          1039.436,
          1039.636,
          null,
          1047.458,
          1047.658,
          null,
          1057.504,
          1057.704,
          null,
          1067.152,
          1067.352,
          null,
          1075.839,
          1076.039,
          null,
          1084.087,
          1084.287,
          null,
          1091.981,
          1092.181,
          null,
          1100.968,
          1101.168,
          null,
          1108.871,
          1109.071,
          null,
          1116.314,
          1116.514,
          null,
          1123.639,
          1123.839,
          null,
          1131.478,
          1131.678,
          null,
          1140.487,
          1140.687,
          null,
          1148.647,
          1148.847,
          null,
          1155.937,
          1156.137,
          null,
          1164.64,
          1164.84,
          null,
          1172.729,
          1172.929,
          null,
          1182.083,
          1182.283,
          null,
          1189.652,
          1189.852,
          null,
          1197.601,
          1197.801,
          null,
          1205.502,
          1205.702,
          null,
          1214.196,
          1214.396,
          null
         ],
         "y": [
          "hold_for_water",
          "hold_for_water",
          "hold_for_water",
          "hold_for_water",
          "hold_for_water",
          "hold_for_water",
          "hold_for_water",
          "hold_for_water",
          "hold_for_water",
          "hold_for_water",
          "hold_for_water",
          "hold_for_water",
          "hold_for_water",
          "hold_for_water",
          "hold_for_water",
          "hold_for_water",
          "hold_for_water",
          "hold_for_water",
          "hold_for_water",
          "hold_for_water",
          "hold_for_water",
          "hold_for_water",
          "hold_for_water",
          "hold_for_water",
          "hold_for_water",
          "hold_for_water",
          "hold_for_water",
          "hold_for_water",
          "hold_for_water",
          "hold_for_water",
          "hold_for_water",
          "hold_for_water",
          "hold_for_water",
          "hold_for_water",
          "hold_for_water",
          "hold_for_water",
          "hold_for_water",
          "hold_for_water",
          "hold_for_water",
          "hold_for_water",
          "hold_for_water",
          "hold_for_water",
          "hold_for_water",
          "hold_for_water",
          "hold_for_water",
          "hold_for_water",
          "hold_for_water",
          "hold_for_water",
          "hold_for_water",
          "hold_for_water",
          "hold_for_water",
          "hold_for_water",
          "hold_for_water",
          "hold_for_water",
          "hold_for_water",
          "hold_for_water",
          "hold_for_water",
          "hold_for_water",
          "hold_for_water",
          "hold_for_water",
          "hold_for_water",
          "hold_for_water",
          "hold_for_water",
          "hold_for_water",
          "hold_for_water",
          "hold_for_water",
          "hold_for_water",
          "hold_for_water",
          "hold_for_water",
          "hold_for_water",
          "hold_for_water",
          "hold_for_water",
          "hold_for_water",
          "hold_for_water",
          "hold_for_water",
          "hold_for_water",
          "hold_for_water",
          "hold_for_water",
          "hold_for_water",
          "hold_for_water",
          "hold_for_water",
          "hold_for_water",
          "hold_for_water",
          "hold_for_water",
          "hold_for_water",
          "hold_for_water",
          "hold_for_water",
          "hold_for_water",
          "hold_for_water",
          "hold_for_water",
          "hold_for_water",
          "hold_for_water",
          "hold_for_water",
          "hold_for_water",
          "hold_for_water",
          "hold_for_water",
          "hold_for_water",
          "hold_for_water",
          "hold_for_water",
          "hold_for_water",
          "hold_for_water",
          "hold_for_water",
          "hold_for_water",
          "hold_for_water",
          "hold_for_water",
          "hold_for_water",
          "hold_for_water",
          "hold_for_water",
          "hold_for_water",
          "hold_for_water",
          "hold_for_water",
          "hold_for_water",
          "hold_for_water",
          "hold_for_water",
          "hold_for_water",
          "hold_for_water",
          "hold_for_water",
          "hold_for_water",
          "hold_for_water",
          "hold_for_water",
          "hold_for_water",
          "hold_for_water",
          "hold_for_water",
          "hold_for_water",
          "hold_for_water",
          "hold_for_water",
          "hold_for_water",
          "hold_for_water",
          "hold_for_water",
          "hold_for_water",
          "hold_for_water",
          "hold_for_water",
          "hold_for_water",
          "hold_for_water",
          "hold_for_water",
          "hold_for_water",
          "hold_for_water",
          "hold_for_water",
          "hold_for_water",
          "hold_for_water",
          "hold_for_water",
          "hold_for_water",
          "hold_for_water",
          "hold_for_water",
          "hold_for_water",
          "hold_for_water",
          "hold_for_water",
          "hold_for_water",
          "hold_for_water",
          "hold_for_water",
          "hold_for_water",
          "hold_for_water",
          "hold_for_water",
          "hold_for_water",
          "hold_for_water",
          "hold_for_water",
          "hold_for_water",
          "hold_for_water",
          "hold_for_water",
          "hold_for_water",
          "hold_for_water",
          "hold_for_water",
          "hold_for_water",
          "hold_for_water",
          "hold_for_water",
          "hold_for_water",
          "hold_for_water",
          "hold_for_water",
          "hold_for_water",
          "hold_for_water",
          "hold_for_water",
          "hold_for_water",
          "hold_for_water",
          "hold_for_water",
          "hold_for_water",
          "hold_for_water",
          "hold_for_water",
          "hold_for_water",
          "hold_for_water",
          "hold_for_water",
          "hold_for_water",
          "hold_for_water",
          "hold_for_water",
          "hold_for_water",
          "hold_for_water",
          "hold_for_water",
          "hold_for_water",
          "hold_for_water",
          "hold_for_water",
          "hold_for_water",
          "hold_for_water",
          "hold_for_water",
          "hold_for_water",
          "hold_for_water",
          "hold_for_water",
          "hold_for_water",
          "hold_for_water",
          "hold_for_water",
          "hold_for_water",
          "hold_for_water",
          "hold_for_water",
          "hold_for_water",
          "hold_for_water",
          "hold_for_water",
          "hold_for_water",
          "hold_for_water",
          "hold_for_water",
          "hold_for_water",
          "hold_for_water",
          "hold_for_water",
          "hold_for_water",
          "hold_for_water",
          "hold_for_water",
          "hold_for_water",
          "hold_for_water",
          "hold_for_water",
          "hold_for_water",
          "hold_for_water",
          "hold_for_water",
          "hold_for_water",
          "hold_for_water",
          "hold_for_water",
          "hold_for_water",
          "hold_for_water",
          "hold_for_water",
          "hold_for_water",
          "hold_for_water",
          "hold_for_water",
          "hold_for_water",
          "hold_for_water",
          "hold_for_water",
          "hold_for_water",
          "hold_for_water",
          "hold_for_water",
          "hold_for_water",
          "hold_for_water",
          "hold_for_water",
          "hold_for_water",
          "hold_for_water",
          "hold_for_water",
          "hold_for_water",
          "hold_for_water",
          "hold_for_water",
          "hold_for_water",
          "hold_for_water",
          "hold_for_water",
          "hold_for_water",
          "hold_for_water",
          "hold_for_water",
          "hold_for_water",
          "hold_for_water",
          "hold_for_water",
          "hold_for_water",
          "hold_for_water",
          "hold_for_water",
          "hold_for_water",
          "hold_for_water",
          "hold_for_water",
          "hold_for_water",
          "hold_for_water",
          "hold_for_water",
          "hold_for_water",
          "hold_for_water",
          "hold_for_water",
          "hold_for_water",
          "hold_for_water",
          "hold_for_water",
          "hold_for_water",
          "hold_for_water",
          "hold_for_water",
          "hold_for_water",
          "hold_for_water",
          "hold_for_water",
          "hold_for_water",
          "hold_for_water",
          "hold_for_water",
          "hold_for_water",
          "hold_for_water",
          "hold_for_water",
          "hold_for_water",
          "hold_for_water",
          "hold_for_water",
          "hold_for_water",
          "hold_for_water",
          "hold_for_water",
          "hold_for_water",
          "hold_for_water",
          "hold_for_water",
          "hold_for_water",
          "hold_for_water",
          "hold_for_water",
          "hold_for_water",
          "hold_for_water",
          "hold_for_water",
          "hold_for_water",
          "hold_for_water",
          "hold_for_water",
          "hold_for_water",
          "hold_for_water",
          "hold_for_water",
          "hold_for_water",
          "hold_for_water",
          "hold_for_water",
          "hold_for_water",
          "hold_for_water",
          "hold_for_water",
          "hold_for_water",
          "hold_for_water",
          "hold_for_water",
          "hold_for_water",
          "hold_for_water",
          "hold_for_water",
          "hold_for_water",
          "hold_for_water",
          "hold_for_water",
          "hold_for_water",
          "hold_for_water",
          "hold_for_water",
          "hold_for_water",
          "hold_for_water",
          "hold_for_water",
          "hold_for_water",
          "hold_for_water",
          "hold_for_water",
          "hold_for_water",
          "hold_for_water",
          "hold_for_water",
          "hold_for_water",
          "hold_for_water",
          "hold_for_water",
          "hold_for_water",
          "hold_for_water",
          "hold_for_water",
          "hold_for_water",
          "hold_for_water",
          "hold_for_water",
          "hold_for_water",
          "hold_for_water",
          "hold_for_water",
          "hold_for_water",
          "hold_for_water",
          "hold_for_water",
          "hold_for_water",
          "hold_for_water",
          "hold_for_water",
          "hold_for_water",
          "hold_for_water",
          "hold_for_water",
          "hold_for_water",
          "hold_for_water",
          "hold_for_water",
          "hold_for_water",
          "hold_for_water",
          "hold_for_water",
          "hold_for_water",
          "hold_for_water",
          "hold_for_water",
          "hold_for_water",
          "hold_for_water",
          "hold_for_water",
          "hold_for_water",
          "hold_for_water",
          "hold_for_water",
          "hold_for_water",
          "hold_for_water",
          "hold_for_water",
          "hold_for_water",
          "hold_for_water",
          "hold_for_water",
          "hold_for_water",
          "hold_for_water",
          "hold_for_water",
          "hold_for_water",
          "hold_for_water",
          "hold_for_water",
          "hold_for_water",
          "hold_for_water",
          "hold_for_water",
          "hold_for_water",
          "hold_for_water",
          "hold_for_water",
          "hold_for_water",
          "hold_for_water",
          "hold_for_water",
          "hold_for_water",
          "hold_for_water",
          "hold_for_water",
          "hold_for_water",
          "hold_for_water",
          "hold_for_water",
          "hold_for_water",
          "hold_for_water",
          "hold_for_water",
          "hold_for_water",
          "hold_for_water",
          "hold_for_water",
          "hold_for_water",
          "hold_for_water",
          "hold_for_water",
          "hold_for_water",
          "hold_for_water",
          "hold_for_water",
          "hold_for_water",
          "hold_for_water",
          "hold_for_water",
          "hold_for_water",
          "hold_for_water",
          "hold_for_water",
          "hold_for_water",
          "hold_for_water",
          "hold_for_water",
          "hold_for_water",
          "hold_for_water",
          "hold_for_water",
          "hold_for_water",
          "hold_for_water",
          "hold_for_water",
          "hold_for_water",
          "hold_for_water",
          "hold_for_water",
          "hold_for_water",
          "hold_for_water",
          "hold_for_water",
          "hold_for_water",
          "hold_for_water",
          "hold_for_water",
          "hold_for_water",
          "hold_for_water",
          "hold_for_water",
          "hold_for_water",
          "hold_for_water",
          "hold_for_water",
          "hold_for_water",
          "hold_for_water",
          "hold_for_water"
         ]
        },
        {
         "line": {
          "width": 5
         },
         "mode": "lines",
         "name": "waiting_for_spout",
         "type": "scatter",
         "x": [],
         "y": []
        },
        {
         "line": {
          "width": 5
         },
         "mode": "lines",
         "name": "busy_win",
         "type": "scatter",
         "x": [
          149.714,
          151.718,
          null,
          292.567,
          294.569,
          null,
          364.168,
          366.171,
          null,
          419.648,
          421.651,
          null,
          426.902,
          428.904,
          null,
          436.533,
          438.535,
          null,
          488.312,
          490.314,
          null,
          543.513,
          545.516,
          null,
          589.669,
          591.673,
          null,
          597.569,
          599.572,
          null,
          632.413,
          634.415,
          null,
          682.776,
          684.779,
          null,
          692.154,
          694.156,
          null,
          700.991,
          702.993,
          null,
          711.141,
          713.143,
          null,
          767.586,
          769.59,
          null,
          816.715,
          818.718,
          null,
          824.912,
          826.914,
          null,
          873.383,
          875.386,
          null,
          1024.117,
          1026.121,
          null,
          1050.408,
          1052.411,
          null,
          1059.648,
          1061.651,
          null,
          1069.02,
          1071.023,
          null,
          1125.073,
          1127.077,
          null,
          1174.204,
          1176.207,
          null
         ],
         "y": [
          "busy_win",
          "busy_win",
          "busy_win",
          "busy_win",
          "busy_win",
          "busy_win",
          "busy_win",
          "busy_win",
          "busy_win",
          "busy_win",
          "busy_win",
          "busy_win",
          "busy_win",
          "busy_win",
          "busy_win",
          "busy_win",
          "busy_win",
          "busy_win",
          "busy_win",
          "busy_win",
          "busy_win",
          "busy_win",
          "busy_win",
          "busy_win",
          "busy_win",
          "busy_win",
          "busy_win",
          "busy_win",
          "busy_win",
          "busy_win",
          "busy_win",
          "busy_win",
          "busy_win",
          "busy_win",
          "busy_win",
          "busy_win",
          "busy_win",
          "busy_win",
          "busy_win",
          "busy_win",
          "busy_win",
          "busy_win",
          "busy_win",
          "busy_win",
          "busy_win",
          "busy_win",
          "busy_win",
          "busy_win",
          "busy_win",
          "busy_win",
          "busy_win",
          "busy_win",
          "busy_win",
          "busy_win",
          "busy_win",
          "busy_win",
          "busy_win",
          "busy_win",
          "busy_win",
          "busy_win",
          "busy_win",
          "busy_win",
          "busy_win",
          "busy_win",
          "busy_win",
          "busy_win",
          "busy_win",
          "busy_win",
          "busy_win",
          "busy_win",
          "busy_win",
          "busy_win",
          "busy_win",
          "busy_win",
          "busy_win"
         ]
        },
        {
         "line": {
          "width": 5
         },
         "mode": "lines",
         "name": "short_break",
         "type": "scatter",
         "x": [
          0,
          5.057,
          null,
          9.018,
          13.421,
          null,
          16.633,
          20.895,
          null,
          24.108,
          30.09,
          null,
          33.302,
          37.637,
          null,
          40.85,
          45.553,
          null,
          48.766,
          53.053,
          null,
          56.523,
          62.444,
          null,
          65.871,
          71.183,
          null,
          74.396,
          78.682,
          null,
          81.894,
          87.537,
          null,
          88.25,
          92.252,
          null,
          95.465,
          99.978,
          null,
          103.191,
          108.152,
          null,
          111.365,
          117.063,
          null,
          120.276,
          125.343,
          null,
          128.556,
          132.783,
          null,
          135.996,
          141.006,
          null,
          144.219,
          148.579,
          null,
          151.718,
          156.01,
          null,
          159.223,
          164.669,
          null,
          167.882,
          172.382,
          null,
          175.594,
          180.484,
          null,
          183.697,
          187.82,
          null,
          191.033,
          196.794,
          null,
          200.007,
          205.492,
          null,
          208.704,
          213.974,
          null,
          217.186,
          222.274,
          null,
          225.487,
          229.589,
          null,
          232.802,
          237.601,
          null,
          238.314,
          243.176,
          null,
          246.389,
          250.403,
          null,
          253.616,
          259.025,
          null,
          262.585,
          267.211,
          null,
          270.424,
          275.79,
          null,
          279.003,
          284.146,
          null,
          287.359,
          291.377,
          null,
          294.569,
          298.994,
          null,
          304.094,
          308.679,
          null,
          311.892,
          317.045,
          null,
          320.258,
          324.848,
          null,
          328.061,
          332.335,
          null,
          335.548,
          340.393,
          null,
          343.606,
          348.374,
          null,
          351.756,
          356.248,
          null,
          359.461,
          363.746,
          null,
          366.171,
          372.071,
          null,
          381.068,
          386.636,
          null,
          389.848,
          394.073,
          null,
          397.286,
          402.541,
          null,
          405.753,
          411.457,
          null,
          414.67,
          419.363,
          null,
          421.651,
          425.893,
          null,
          428.904,
          433.197,
          null,
          438.535,
          443.295,
          null,
          449.861,
          455.497,
          null,
          458.71,
          463.165,
          null,
          466.377,
          471.303,
          null,
          474.516,
          480.367,
          null,
          483.58,
          487.84,
          null,
          490.314,
          494.621,
          null,
          502.888,
          508.156,
          null,
          511.368,
          517.34,
          null,
          520.552,
          526.009,
          null,
          529.222,
          534.356,
          null,
          537.568,
          543.265,
          null,
          545.516,
          549.968,
          null,
          555.037,
          560.239,
          null,
          563.452,
          568.494,
          null,
          571.706,
          576.783,
          null,
          582.375,
          586.98,
          null,
          591.673,
          595.696,
          null,
          599.572,
          604.993,
          null,
          609.413,
          613.836,
          null,
          617.048,
          622.595,
          null,
          625.973,
          630.364,
          null,
          634.415,
          640.091,
          null,
          643.303,
          648.535,
          null,
          651.748,
          655.762,
          null,
          658.974,
          664.395,
          null,
          667.608,
          673.485,
          null,
          676.845,
          681.568,
          null,
          684.779,
          689.636,
          null,
          694.156,
          698.568,
          null,
          702.993,
          708.339,
          null,
          713.143,
          717.407,
          null,
          727.283,
          732.332,
          null,
          735.544,
          740.987,
          null,
          744.2,
          748.814,
          null,
          752.027,
          757.714,
          null,
          760.926,
          766.742,
          null,
          769.59,
          773.758,
          null,
          786.662,
          791.304,
          null,
          794.516,
          799.132,
          null,
          802.344,
          807.687,
          null,
          810.9,
          814.991,
          null,
          818.718,
          823.734,
          null,
          826.914,
          831.304,
          null,
          834.517,
          839.296,
          null,
          842.513,
          847.389,
          null,
          850.602,
          855.245,
          null,
          858.457,
          863.642,
          null,
          866.854,
          872.29,
          null,
          875.386,
          879.891,
          null,
          883.103,
          887.268,
          null,
          890.481,
          895.947,
          null,
          899.16,
          903.249,
          null,
          906.462,
          910.531,
          null,
          913.743,
          919.38,
          null,
          922.593,
          926.852,
          null,
          930.064,
          935.888,
          null,
          939.103,
          944.177,
          null,
          947.39,
          952.14,
          null,
          955.353,
          960.297,
          null,
          961.01,
          965.298,
          null,
          968.769,
          973.967,
          null,
          977.18,
          982.797,
          null,
          986.01,
          990.918,
          null,
          994.131,
          999.612,
          null,
          1002.825,
          1008.073,
          null,
          1011.286,
          1015.58,
          null,
          1018.793,
          1023.222,
          null,
          1026.121,
          1030.707,
          null,
          1033.92,
          1039.426,
          null,
          1042.638,
          1047.448,
          null,
          1052.411,
          1057.494,
          null,
          1061.651,
          1067.142,
          null,
          1071.023,
          1075.829,
          null,
          1079.042,
          1084.077,
          null,
          1087.29,
          1091.971,
          null,
          1095.183,
          1100.958,
          null,
          1104.171,
          1108.861,
          null,
          1112.073,
          1116.304,
          null,
          1119.517,
          1123.629,
          null,
          1127.077,
          1131.468,
          null,
          1134.681,
          1140.477,
          null,
          1143.69,
          1148.637,
          null,
          1151.85,
          1155.927,
          null,
          1159.14,
          1164.63,
          null,
          1167.843,
          1172.719,
          null,
          1176.207,
          1182.073,
          null,
          1185.286,
          1189.642,
          null,
          1192.854,
          1197.591,
          null,
          1200.804,
          1205.492,
          null,
          1208.704,
          1214.186,
          null
         ],
         "y": [
          "short_break",
          "short_break",
          "short_break",
          "short_break",
          "short_break",
          "short_break",
          "short_break",
          "short_break",
          "short_break",
          "short_break",
          "short_break",
          "short_break",
          "short_break",
          "short_break",
          "short_break",
          "short_break",
          "short_break",
          "short_break",
          "short_break",
          "short_break",
          "short_break",
          "short_break",
          "short_break",
          "short_break",
          "short_break",
          "short_break",
          "short_break",
          "short_break",
          "short_break",
          "short_break",
          "short_break",
          "short_break",
          "short_break",
          "short_break",
          "short_break",
          "short_break",
          "short_break",
          "short_break",
          "short_break",
          "short_break",
          "short_break",
          "short_break",
          "short_break",
          "short_break",
          "short_break",
          "short_break",
          "short_break",
          "short_break",
          "short_break",
          "short_break",
          "short_break",
          "short_break",
          "short_break",
          "short_break",
          "short_break",
          "short_break",
          "short_break",
          "short_break",
          "short_break",
          "short_break",
          "short_break",
          "short_break",
          "short_break",
          "short_break",
          "short_break",
          "short_break",
          "short_break",
          "short_break",
          "short_break",
          "short_break",
          "short_break",
          "short_break",
          "short_break",
          "short_break",
          "short_break",
          "short_break",
          "short_break",
          "short_break",
          "short_break",
          "short_break",
          "short_break",
          "short_break",
          "short_break",
          "short_break",
          "short_break",
          "short_break",
          "short_break",
          "short_break",
          "short_break",
          "short_break",
          "short_break",
          "short_break",
          "short_break",
          "short_break",
          "short_break",
          "short_break",
          "short_break",
          "short_break",
          "short_break",
          "short_break",
          "short_break",
          "short_break",
          "short_break",
          "short_break",
          "short_break",
          "short_break",
          "short_break",
          "short_break",
          "short_break",
          "short_break",
          "short_break",
          "short_break",
          "short_break",
          "short_break",
          "short_break",
          "short_break",
          "short_break",
          "short_break",
          "short_break",
          "short_break",
          "short_break",
          "short_break",
          "short_break",
          "short_break",
          "short_break",
          "short_break",
          "short_break",
          "short_break",
          "short_break",
          "short_break",
          "short_break",
          "short_break",
          "short_break",
          "short_break",
          "short_break",
          "short_break",
          "short_break",
          "short_break",
          "short_break",
          "short_break",
          "short_break",
          "short_break",
          "short_break",
          "short_break",
          "short_break",
          "short_break",
          "short_break",
          "short_break",
          "short_break",
          "short_break",
          "short_break",
          "short_break",
          "short_break",
          "short_break",
          "short_break",
          "short_break",
          "short_break",
          "short_break",
          "short_break",
          "short_break",
          "short_break",
          "short_break",
          "short_break",
          "short_break",
          "short_break",
          "short_break",
          "short_break",
          "short_break",
          "short_break",
          "short_break",
          "short_break",
          "short_break",
          "short_break",
          "short_break",
          "short_break",
          "short_break",
          "short_break",
          "short_break",
          "short_break",
          "short_break",
          "short_break",
          "short_break",
          "short_break",
          "short_break",
          "short_break",
          "short_break",
          "short_break",
          "short_break",
          "short_break",
          "short_break",
          "short_break",
          "short_break",
          "short_break",
          "short_break",
          "short_break",
          "short_break",
          "short_break",
          "short_break",
          "short_break",
          "short_break",
          "short_break",
          "short_break",
          "short_break",
          "short_break",
          "short_break",
          "short_break",
          "short_break",
          "short_break",
          "short_break",
          "short_break",
          "short_break",
          "short_break",
          "short_break",
          "short_break",
          "short_break",
          "short_break",
          "short_break",
          "short_break",
          "short_break",
          "short_break",
          "short_break",
          "short_break",
          "short_break",
          "short_break",
          "short_break",
          "short_break",
          "short_break",
          "short_break",
          "short_break",
          "short_break",
          "short_break",
          "short_break",
          "short_break",
          "short_break",
          "short_break",
          "short_break",
          "short_break",
          "short_break",
          "short_break",
          "short_break",
          "short_break",
          "short_break",
          "short_break",
          "short_break",
          "short_break",
          "short_break",
          "short_break",
          "short_break",
          "short_break",
          "short_break",
          "short_break",
          "short_break",
          "short_break",
          "short_break",
          "short_break",
          "short_break",
          "short_break",
          "short_break",
          "short_break",
          "short_break",
          "short_break",
          "short_break",
          "short_break",
          "short_break",
          "short_break",
          "short_break",
          "short_break",
          "short_break",
          "short_break",
          "short_break",
          "short_break",
          "short_break",
          "short_break",
          "short_break",
          "short_break",
          "short_break",
          "short_break",
          "short_break",
          "short_break",
          "short_break",
          "short_break",
          "short_break",
          "short_break",
          "short_break",
          "short_break",
          "short_break",
          "short_break",
          "short_break",
          "short_break",
          "short_break",
          "short_break",
          "short_break",
          "short_break",
          "short_break",
          "short_break",
          "short_break",
          "short_break",
          "short_break",
          "short_break",
          "short_break",
          "short_break",
          "short_break",
          "short_break",
          "short_break",
          "short_break",
          "short_break",
          "short_break",
          "short_break",
          "short_break",
          "short_break",
          "short_break",
          "short_break",
          "short_break",
          "short_break",
          "short_break",
          "short_break",
          "short_break",
          "short_break",
          "short_break",
          "short_break",
          "short_break",
          "short_break",
          "short_break",
          "short_break",
          "short_break",
          "short_break",
          "short_break",
          "short_break",
          "short_break",
          "short_break",
          "short_break",
          "short_break",
          "short_break",
          "short_break",
          "short_break",
          "short_break",
          "short_break",
          "short_break",
          "short_break",
          "short_break",
          "short_break",
          "short_break",
          "short_break",
          "short_break",
          "short_break",
          "short_break",
          "short_break",
          "short_break",
          "short_break",
          "short_break",
          "short_break",
          "short_break",
          "short_break",
          "short_break",
          "short_break",
          "short_break",
          "short_break",
          "short_break",
          "short_break",
          "short_break",
          "short_break",
          "short_break",
          "short_break",
          "short_break",
          "short_break",
          "short_break",
          "short_break",
          "short_break",
          "short_break",
          "short_break",
          "short_break",
          "short_break",
          "short_break",
          "short_break",
          "short_break",
          "short_break",
          "short_break",
          "short_break",
          "short_break",
          "short_break",
          "short_break",
          "short_break",
          "short_break",
          "short_break",
          "short_break",
          "short_break",
          "short_break",
          "short_break",
          "short_break",
          "short_break",
          "short_break",
          "short_break",
          "short_break",
          "short_break",
          "short_break",
          "short_break",
          "short_break",
          "short_break",
          "short_break",
          "short_break",
          "short_break",
          "short_break",
          "short_break",
          "short_break",
          "short_break",
          "short_break",
          "short_break",
          "short_break",
          "short_break",
          "short_break",
          "short_break",
          "short_break",
          "short_break",
          "short_break",
          "short_break",
          "short_break",
          "short_break",
          "short_break",
          "short_break",
          "short_break",
          "short_break",
          "short_break",
          "short_break",
          "short_break",
          "short_break",
          "short_break",
          "short_break",
          "short_break",
          "short_break",
          "short_break",
          "short_break",
          "short_break",
          "short_break",
          "short_break",
          "short_break"
         ]
        }
       ],
       "layout": {
        "template": {
         "data": {
          "bar": [
           {
            "error_x": {
             "color": "#2a3f5f"
            },
            "error_y": {
             "color": "#2a3f5f"
            },
            "marker": {
             "line": {
              "color": "#E5ECF6",
              "width": 0.5
             },
             "pattern": {
              "fillmode": "overlay",
              "size": 10,
              "solidity": 0.2
             }
            },
            "type": "bar"
           }
          ],
          "barpolar": [
           {
            "marker": {
             "line": {
              "color": "#E5ECF6",
              "width": 0.5
             },
             "pattern": {
              "fillmode": "overlay",
              "size": 10,
              "solidity": 0.2
             }
            },
            "type": "barpolar"
           }
          ],
          "carpet": [
           {
            "aaxis": {
             "endlinecolor": "#2a3f5f",
             "gridcolor": "white",
             "linecolor": "white",
             "minorgridcolor": "white",
             "startlinecolor": "#2a3f5f"
            },
            "baxis": {
             "endlinecolor": "#2a3f5f",
             "gridcolor": "white",
             "linecolor": "white",
             "minorgridcolor": "white",
             "startlinecolor": "#2a3f5f"
            },
            "type": "carpet"
           }
          ],
          "choropleth": [
           {
            "colorbar": {
             "outlinewidth": 0,
             "ticks": ""
            },
            "type": "choropleth"
           }
          ],
          "contour": [
           {
            "colorbar": {
             "outlinewidth": 0,
             "ticks": ""
            },
            "colorscale": [
             [
              0,
              "#0d0887"
             ],
             [
              0.1111111111111111,
              "#46039f"
             ],
             [
              0.2222222222222222,
              "#7201a8"
             ],
             [
              0.3333333333333333,
              "#9c179e"
             ],
             [
              0.4444444444444444,
              "#bd3786"
             ],
             [
              0.5555555555555556,
              "#d8576b"
             ],
             [
              0.6666666666666666,
              "#ed7953"
             ],
             [
              0.7777777777777778,
              "#fb9f3a"
             ],
             [
              0.8888888888888888,
              "#fdca26"
             ],
             [
              1,
              "#f0f921"
             ]
            ],
            "type": "contour"
           }
          ],
          "contourcarpet": [
           {
            "colorbar": {
             "outlinewidth": 0,
             "ticks": ""
            },
            "type": "contourcarpet"
           }
          ],
          "heatmap": [
           {
            "colorbar": {
             "outlinewidth": 0,
             "ticks": ""
            },
            "colorscale": [
             [
              0,
              "#0d0887"
             ],
             [
              0.1111111111111111,
              "#46039f"
             ],
             [
              0.2222222222222222,
              "#7201a8"
             ],
             [
              0.3333333333333333,
              "#9c179e"
             ],
             [
              0.4444444444444444,
              "#bd3786"
             ],
             [
              0.5555555555555556,
              "#d8576b"
             ],
             [
              0.6666666666666666,
              "#ed7953"
             ],
             [
              0.7777777777777778,
              "#fb9f3a"
             ],
             [
              0.8888888888888888,
              "#fdca26"
             ],
             [
              1,
              "#f0f921"
             ]
            ],
            "type": "heatmap"
           }
          ],
          "heatmapgl": [
           {
            "colorbar": {
             "outlinewidth": 0,
             "ticks": ""
            },
            "colorscale": [
             [
              0,
              "#0d0887"
             ],
             [
              0.1111111111111111,
              "#46039f"
             ],
             [
              0.2222222222222222,
              "#7201a8"
             ],
             [
              0.3333333333333333,
              "#9c179e"
             ],
             [
              0.4444444444444444,
              "#bd3786"
             ],
             [
              0.5555555555555556,
              "#d8576b"
             ],
             [
              0.6666666666666666,
              "#ed7953"
             ],
             [
              0.7777777777777778,
              "#fb9f3a"
             ],
             [
              0.8888888888888888,
              "#fdca26"
             ],
             [
              1,
              "#f0f921"
             ]
            ],
            "type": "heatmapgl"
           }
          ],
          "histogram": [
           {
            "marker": {
             "pattern": {
              "fillmode": "overlay",
              "size": 10,
              "solidity": 0.2
             }
            },
            "type": "histogram"
           }
          ],
          "histogram2d": [
           {
            "colorbar": {
             "outlinewidth": 0,
             "ticks": ""
            },
            "colorscale": [
             [
              0,
              "#0d0887"
             ],
             [
              0.1111111111111111,
              "#46039f"
             ],
             [
              0.2222222222222222,
              "#7201a8"
             ],
             [
              0.3333333333333333,
              "#9c179e"
             ],
             [
              0.4444444444444444,
              "#bd3786"
             ],
             [
              0.5555555555555556,
              "#d8576b"
             ],
             [
              0.6666666666666666,
              "#ed7953"
             ],
             [
              0.7777777777777778,
              "#fb9f3a"
             ],
             [
              0.8888888888888888,
              "#fdca26"
             ],
             [
              1,
              "#f0f921"
             ]
            ],
            "type": "histogram2d"
           }
          ],
          "histogram2dcontour": [
           {
            "colorbar": {
             "outlinewidth": 0,
             "ticks": ""
            },
            "colorscale": [
             [
              0,
              "#0d0887"
             ],
             [
              0.1111111111111111,
              "#46039f"
             ],
             [
              0.2222222222222222,
              "#7201a8"
             ],
             [
              0.3333333333333333,
              "#9c179e"
             ],
             [
              0.4444444444444444,
              "#bd3786"
             ],
             [
              0.5555555555555556,
              "#d8576b"
             ],
             [
              0.6666666666666666,
              "#ed7953"
             ],
             [
              0.7777777777777778,
              "#fb9f3a"
             ],
             [
              0.8888888888888888,
              "#fdca26"
             ],
             [
              1,
              "#f0f921"
             ]
            ],
            "type": "histogram2dcontour"
           }
          ],
          "mesh3d": [
           {
            "colorbar": {
             "outlinewidth": 0,
             "ticks": ""
            },
            "type": "mesh3d"
           }
          ],
          "parcoords": [
           {
            "line": {
             "colorbar": {
              "outlinewidth": 0,
              "ticks": ""
             }
            },
            "type": "parcoords"
           }
          ],
          "pie": [
           {
            "automargin": true,
            "type": "pie"
           }
          ],
          "scatter": [
           {
            "fillpattern": {
             "fillmode": "overlay",
             "size": 10,
             "solidity": 0.2
            },
            "type": "scatter"
           }
          ],
          "scatter3d": [
           {
            "line": {
             "colorbar": {
              "outlinewidth": 0,
              "ticks": ""
             }
            },
            "marker": {
             "colorbar": {
              "outlinewidth": 0,
              "ticks": ""
             }
            },
            "type": "scatter3d"
           }
          ],
          "scattercarpet": [
           {
            "marker": {
             "colorbar": {
              "outlinewidth": 0,
              "ticks": ""
             }
            },
            "type": "scattercarpet"
           }
          ],
          "scattergeo": [
           {
            "marker": {
             "colorbar": {
              "outlinewidth": 0,
              "ticks": ""
             }
            },
            "type": "scattergeo"
           }
          ],
          "scattergl": [
           {
            "marker": {
             "colorbar": {
              "outlinewidth": 0,
              "ticks": ""
             }
            },
            "type": "scattergl"
           }
          ],
          "scattermapbox": [
           {
            "marker": {
             "colorbar": {
              "outlinewidth": 0,
              "ticks": ""
             }
            },
            "type": "scattermapbox"
           }
          ],
          "scatterpolar": [
           {
            "marker": {
             "colorbar": {
              "outlinewidth": 0,
              "ticks": ""
             }
            },
            "type": "scatterpolar"
           }
          ],
          "scatterpolargl": [
           {
            "marker": {
             "colorbar": {
              "outlinewidth": 0,
              "ticks": ""
             }
            },
            "type": "scatterpolargl"
           }
          ],
          "scatterternary": [
           {
            "marker": {
             "colorbar": {
              "outlinewidth": 0,
              "ticks": ""
             }
            },
            "type": "scatterternary"
           }
          ],
          "surface": [
           {
            "colorbar": {
             "outlinewidth": 0,
             "ticks": ""
            },
            "colorscale": [
             [
              0,
              "#0d0887"
             ],
             [
              0.1111111111111111,
              "#46039f"
             ],
             [
              0.2222222222222222,
              "#7201a8"
             ],
             [
              0.3333333333333333,
              "#9c179e"
             ],
             [
              0.4444444444444444,
              "#bd3786"
             ],
             [
              0.5555555555555556,
              "#d8576b"
             ],
             [
              0.6666666666666666,
              "#ed7953"
             ],
             [
              0.7777777777777778,
              "#fb9f3a"
             ],
             [
              0.8888888888888888,
              "#fdca26"
             ],
             [
              1,
              "#f0f921"
             ]
            ],
            "type": "surface"
           }
          ],
          "table": [
           {
            "cells": {
             "fill": {
              "color": "#EBF0F8"
             },
             "line": {
              "color": "white"
             }
            },
            "header": {
             "fill": {
              "color": "#C8D4E3"
             },
             "line": {
              "color": "white"
             }
            },
            "type": "table"
           }
          ]
         },
         "layout": {
          "annotationdefaults": {
           "arrowcolor": "#2a3f5f",
           "arrowhead": 0,
           "arrowwidth": 1
          },
          "autotypenumbers": "strict",
          "coloraxis": {
           "colorbar": {
            "outlinewidth": 0,
            "ticks": ""
           }
          },
          "colorscale": {
           "diverging": [
            [
             0,
             "#8e0152"
            ],
            [
             0.1,
             "#c51b7d"
            ],
            [
             0.2,
             "#de77ae"
            ],
            [
             0.3,
             "#f1b6da"
            ],
            [
             0.4,
             "#fde0ef"
            ],
            [
             0.5,
             "#f7f7f7"
            ],
            [
             0.6,
             "#e6f5d0"
            ],
            [
             0.7,
             "#b8e186"
            ],
            [
             0.8,
             "#7fbc41"
            ],
            [
             0.9,
             "#4d9221"
            ],
            [
             1,
             "#276419"
            ]
           ],
           "sequential": [
            [
             0,
             "#0d0887"
            ],
            [
             0.1111111111111111,
             "#46039f"
            ],
            [
             0.2222222222222222,
             "#7201a8"
            ],
            [
             0.3333333333333333,
             "#9c179e"
            ],
            [
             0.4444444444444444,
             "#bd3786"
            ],
            [
             0.5555555555555556,
             "#d8576b"
            ],
            [
             0.6666666666666666,
             "#ed7953"
            ],
            [
             0.7777777777777778,
             "#fb9f3a"
            ],
            [
             0.8888888888888888,
             "#fdca26"
            ],
            [
             1,
             "#f0f921"
            ]
           ],
           "sequentialminus": [
            [
             0,
             "#0d0887"
            ],
            [
             0.1111111111111111,
             "#46039f"
            ],
            [
             0.2222222222222222,
             "#7201a8"
            ],
            [
             0.3333333333333333,
             "#9c179e"
            ],
            [
             0.4444444444444444,
             "#bd3786"
            ],
            [
             0.5555555555555556,
             "#d8576b"
            ],
            [
             0.6666666666666666,
             "#ed7953"
            ],
            [
             0.7777777777777778,
             "#fb9f3a"
            ],
            [
             0.8888888888888888,
             "#fdca26"
            ],
            [
             1,
             "#f0f921"
            ]
           ]
          },
          "colorway": [
           "#636efa",
           "#EF553B",
           "#00cc96",
           "#ab63fa",
           "#FFA15A",
           "#19d3f3",
           "#FF6692",
           "#B6E880",
           "#FF97FF",
           "#FECB52"
          ],
          "font": {
           "color": "#2a3f5f"
          },
          "geo": {
           "bgcolor": "white",
           "lakecolor": "white",
           "landcolor": "#E5ECF6",
           "showlakes": true,
           "showland": true,
           "subunitcolor": "white"
          },
          "hoverlabel": {
           "align": "left"
          },
          "hovermode": "closest",
          "mapbox": {
           "style": "light"
          },
          "paper_bgcolor": "white",
          "plot_bgcolor": "#E5ECF6",
          "polar": {
           "angularaxis": {
            "gridcolor": "white",
            "linecolor": "white",
            "ticks": ""
           },
           "bgcolor": "#E5ECF6",
           "radialaxis": {
            "gridcolor": "white",
            "linecolor": "white",
            "ticks": ""
           }
          },
          "scene": {
           "xaxis": {
            "backgroundcolor": "#E5ECF6",
            "gridcolor": "white",
            "gridwidth": 2,
            "linecolor": "white",
            "showbackground": true,
            "ticks": "",
            "zerolinecolor": "white"
           },
           "yaxis": {
            "backgroundcolor": "#E5ECF6",
            "gridcolor": "white",
            "gridwidth": 2,
            "linecolor": "white",
            "showbackground": true,
            "ticks": "",
            "zerolinecolor": "white"
           },
           "zaxis": {
            "backgroundcolor": "#E5ECF6",
            "gridcolor": "white",
            "gridwidth": 2,
            "linecolor": "white",
            "showbackground": true,
            "ticks": "",
            "zerolinecolor": "white"
           }
          },
          "shapedefaults": {
           "line": {
            "color": "#2a3f5f"
           }
          },
          "ternary": {
           "aaxis": {
            "gridcolor": "white",
            "linecolor": "white",
            "ticks": ""
           },
           "baxis": {
            "gridcolor": "white",
            "linecolor": "white",
            "ticks": ""
           },
           "bgcolor": "#E5ECF6",
           "caxis": {
            "gridcolor": "white",
            "linecolor": "white",
            "ticks": ""
           }
          },
          "title": {
           "x": 0.05
          },
          "xaxis": {
           "automargin": true,
           "gridcolor": "white",
           "linecolor": "white",
           "ticks": "",
           "title": {
            "standoff": 15
           },
           "zerolinecolor": "white",
           "zerolinewidth": 2
          },
          "yaxis": {
           "automargin": true,
           "gridcolor": "white",
           "linecolor": "white",
           "ticks": "",
           "title": {
            "standoff": 15
           },
           "zerolinecolor": "white",
           "zerolinewidth": 2
          }
         }
        },
        "title": {
         "text": "reaching_go_spout_bar_nov22, 316 #3, on 2022-11-23 16:34:30 via COM3"
        },
        "xaxis": {
         "title": {
          "text": "Time (s)"
         }
        },
        "yaxis": {
         "fixedrange": true
        }
       }
      }
     },
     "metadata": {},
     "output_type": "display_data"
    },
    {
     "name": "stdout",
     "output_type": "stream",
     "text": [
      "saved temp.smrx\n"
     ]
    }
   ],
   "source": [
    "exp_cohort.sessions[0].plot_session(keys, state_def,\n",
    "                                    export_son=True, son_filename='temp.smrx')\n"
   ]
  },
  {
   "cell_type": "code",
   "execution_count": null,
   "metadata": {},
   "outputs": [
    {
     "name": "stdout",
     "output_type": "stream",
     "text": [
      "JC313L-2022-11-23-152233_reaching_go_spout_nov22.smrx\n",
      "JC316L-2022-11-23-161757_reaching_go_spout_nov22.smrx\n",
      "JC317L-2022-11-23-161757_reaching_go_spout_nov22.smrx\n",
      "JC318L-2022-11-23-163842_reaching_go_spout_nov22.smrx\n",
      "JC314L-2022-11-24-111101_reaching_go_spout_nov22.smrx\n",
      "JC314L-2022-11-24-111938_reaching_go_spout_nov22.smrx\n",
      "JC313L-2022-11-24-113006_reaching_go_spout_nov22.smrx\n",
      "JC314L-2022-11-24-113006_reaching_go_spout_nov22.smrx\n",
      "JC315L-2022-11-24-121833_reaching_go_spout_nov22.smrx\n",
      "JC315L-2022-11-24-122143_reaching_go_spout_nov22.smrx\n"
     ]
    }
   ],
   "source": [
    "for ss in exp_cohort.sessions:\n",
    "    smrxname = re.sub('\\.txt', f'_{ss.task_name}.smrx', ss.file_name)\n",
    "    print(smrxname)\n"
   ]
  },
  {
   "cell_type": "markdown",
   "metadata": {},
   "source": [
    "\n",
    "\n",
    "#TODO JC314L-2022-11-24-111452_reaching_go_spout_bar_nov22.smrx is broken without error"
   ]
  },
  {
   "cell_type": "code",
   "execution_count": 24,
   "metadata": {},
   "outputs": [
    {
     "name": "stdout",
     "output_type": "stream",
     "text": [
      "JC313L-2022-11-23-152233_reaching_go_spout_nov22.smrx\n"
     ]
    },
    {
     "data": {
      "application/vnd.plotly.v1+json": {
       "config": {
        "plotlyServerURL": "https://plot.ly"
       },
       "data": [
        {
         "marker": {
          "symbol": "square"
         },
         "mode": "markers",
         "name": "button_press",
         "type": "scatter",
         "x": [
          217.35
         ],
         "y": [
          "button_press"
         ]
        },
        {
         "marker": {
          "symbol": "diamond"
         },
         "mode": "markers",
         "name": "bar",
         "type": "scatter",
         "x": [
          7.569,
          8.468,
          10.194,
          10.485,
          11.011,
          12.212,
          12.371,
          12.596,
          12.62,
          12.753,
          13.897,
          20.927,
          26.567,
          28.547,
          28.985,
          29.06,
          29.475,
          48.237,
          49.572,
          50.075,
          53.303,
          59.542,
          59.81,
          59.897,
          60.963,
          64.364,
          64.599,
          65.391,
          69.6,
          83.661,
          101.94,
          103.14,
          103.368,
          108.047,
          108.356,
          109.01,
          109.036,
          110.055,
          110.861,
          130.395,
          159.089,
          164.731,
          169.8,
          170.836,
          171.727,
          171.772,
          171.802,
          172.337,
          172.751,
          173.747,
          177.985,
          178.077,
          178.542,
          187.537,
          193.883,
          194.318,
          206.284,
          207.253,
          207.874,
          208.096,
          208.273,
          208.382,
          208.86,
          208.977,
          209.03,
          209.126,
          209.633,
          209.838,
          209.918,
          215.238,
          215.569,
          215.713,
          219.457,
          220.208,
          220.415,
          233.213,
          246.712,
          247.137,
          247.6,
          247.638,
          252.42,
          252.701,
          252.773,
          252.935,
          253.084,
          253.34,
          253.665,
          253.818,
          253.948,
          257.572,
          257.622,
          257.682,
          258.118,
          258.416,
          263.408,
          263.611,
          263.788,
          264.103,
          264.521,
          265.842,
          266.507,
          266.525,
          266.663,
          266.795,
          267.8,
          271.692,
          271.722,
          271.771,
          272.689,
          272.837,
          272.897,
          275.785,
          275.842,
          276.6,
          276.878,
          277.023,
          278.62,
          287.238,
          293.076,
          293.85,
          311.759,
          311.789,
          312.045,
          312.6,
          313.683,
          313.755,
          313.999,
          314.265,
          314.399,
          314.584,
          323.553,
          323.759,
          324.295,
          324.513,
          325.512,
          326.054,
          326.152,
          326.881,
          327.325,
          327.404,
          331.877,
          332.07,
          332.84,
          332.956,
          332.999,
          333.046,
          335.234,
          341.264,
          341.717,
          344.982,
          365.175,
          365.224,
          365.449,
          365.793,
          365.96,
          366.904,
          367.252,
          371.194,
          398.106,
          406.641,
          407.004,
          411.226,
          413.857,
          414.034,
          422.835,
          422.996,
          423.142,
          423.456,
          424.787,
          425.818,
          427.021,
          427.184,
          428.335,
          428.371,
          429.42,
          443.802,
          449.306,
          455.342,
          479.183,
          480.48,
          484.031,
          485.271,
          502.573
         ],
         "y": [
          "bar",
          "bar",
          "bar",
          "bar",
          "bar",
          "bar",
          "bar",
          "bar",
          "bar",
          "bar",
          "bar",
          "bar",
          "bar",
          "bar",
          "bar",
          "bar",
          "bar",
          "bar",
          "bar",
          "bar",
          "bar",
          "bar",
          "bar",
          "bar",
          "bar",
          "bar",
          "bar",
          "bar",
          "bar",
          "bar",
          "bar",
          "bar",
          "bar",
          "bar",
          "bar",
          "bar",
          "bar",
          "bar",
          "bar",
          "bar",
          "bar",
          "bar",
          "bar",
          "bar",
          "bar",
          "bar",
          "bar",
          "bar",
          "bar",
          "bar",
          "bar",
          "bar",
          "bar",
          "bar",
          "bar",
          "bar",
          "bar",
          "bar",
          "bar",
          "bar",
          "bar",
          "bar",
          "bar",
          "bar",
          "bar",
          "bar",
          "bar",
          "bar",
          "bar",
          "bar",
          "bar",
          "bar",
          "bar",
          "bar",
          "bar",
          "bar",
          "bar",
          "bar",
          "bar",
          "bar",
          "bar",
          "bar",
          "bar",
          "bar",
          "bar",
          "bar",
          "bar",
          "bar",
          "bar",
          "bar",
          "bar",
          "bar",
          "bar",
          "bar",
          "bar",
          "bar",
          "bar",
          "bar",
          "bar",
          "bar",
          "bar",
          "bar",
          "bar",
          "bar",
          "bar",
          "bar",
          "bar",
          "bar",
          "bar",
          "bar",
          "bar",
          "bar",
          "bar",
          "bar",
          "bar",
          "bar",
          "bar",
          "bar",
          "bar",
          "bar",
          "bar",
          "bar",
          "bar",
          "bar",
          "bar",
          "bar",
          "bar",
          "bar",
          "bar",
          "bar",
          "bar",
          "bar",
          "bar",
          "bar",
          "bar",
          "bar",
          "bar",
          "bar",
          "bar",
          "bar",
          "bar",
          "bar",
          "bar",
          "bar",
          "bar",
          "bar",
          "bar",
          "bar",
          "bar",
          "bar",
          "bar",
          "bar",
          "bar",
          "bar",
          "bar",
          "bar",
          "bar",
          "bar",
          "bar",
          "bar",
          "bar",
          "bar",
          "bar",
          "bar",
          "bar",
          "bar",
          "bar",
          "bar",
          "bar",
          "bar",
          "bar",
          "bar",
          "bar",
          "bar",
          "bar",
          "bar",
          "bar",
          "bar",
          "bar",
          "bar",
          "bar",
          "bar",
          "bar"
         ]
        },
        {
         "marker": {
          "symbol": "cross"
         },
         "mode": "markers",
         "name": "bar_off",
         "type": "scatter",
         "x": [
          7.443,
          7.894,
          10.169,
          10.469,
          10.991,
          12.193,
          12.355,
          12.58,
          12.604,
          12.671,
          12.768,
          20.894,
          26.55,
          28.526,
          28.968,
          29.045,
          29.46,
          48.16,
          49.54,
          50.048,
          53.135,
          59.207,
          59.567,
          59.881,
          60.162,
          64.346,
          64.576,
          65.376,
          69.561,
          83.646,
          100.933,
          103.105,
          103.319,
          107.995,
          108.123,
          108.756,
          109.025,
          110.033,
          110.802,
          130.373,
          159.045,
          164.706,
          169.018,
          170.167,
          170.902,
          171.747,
          171.788,
          172.322,
          172.735,
          173.732,
          177.937,
          178.053,
          178.527,
          187.522,
          193.868,
          194.303,
          206.266,
          206.654,
          207.855,
          208.016,
          208.248,
          208.345,
          208.563,
          208.959,
          208.993,
          209.08,
          209.371,
          209.769,
          209.867,
          215.22,
          215.547,
          215.698,
          217.652,
          220.189,
          220.4,
          233.194,
          246.697,
          247.12,
          247.584,
          247.616,
          252.405,
          252.68,
          252.758,
          252.912,
          253.061,
          253.099,
          253.645,
          253.803,
          253.928,
          253.963,
          257.607,
          257.666,
          258.095,
          258.388,
          263.393,
          263.589,
          263.773,
          264.044,
          264.502,
          264.536,
          266.082,
          266.522,
          266.63,
          266.766,
          267.757,
          271.677,
          271.704,
          271.737,
          272.662,
          272.822,
          272.881,
          272.931,
          275.8,
          275.857,
          276.862,
          276.975,
          277.038,
          286.947,
          293.057,
          293.835,
          311.566,
          311.775,
          312.03,
          312.269,
          313.652,
          313.734,
          313.798,
          314.015,
          314.28,
          314.569,
          323.529,
          323.736,
          324.195,
          324.391,
          324.92,
          325.744,
          326.136,
          326.179,
          327.303,
          327.343,
          327.425,
          332.047,
          332.085,
          332.935,
          332.971,
          333.014,
          333.061,
          341.249,
          341.7,
          344.548,
          364.74,
          365.19,
          365.426,
          365.76,
          365.917,
          366.873,
          367.237,
          367.322,
          398.074,
          406.003,
          406.973,
          411.211,
          411.247,
          413.99,
          422.819,
          422.922,
          423.121,
          423.421,
          424.76,
          425.066,
          426.986,
          427.152,
          427.218,
          428.356,
          429.357,
          443.784,
          449.263,
          455.307,
          479.138,
          480.465,
          484.007,
          485.238,
          502.321
         ],
         "y": [
          "bar_off",
          "bar_off",
          "bar_off",
          "bar_off",
          "bar_off",
          "bar_off",
          "bar_off",
          "bar_off",
          "bar_off",
          "bar_off",
          "bar_off",
          "bar_off",
          "bar_off",
          "bar_off",
          "bar_off",
          "bar_off",
          "bar_off",
          "bar_off",
          "bar_off",
          "bar_off",
          "bar_off",
          "bar_off",
          "bar_off",
          "bar_off",
          "bar_off",
          "bar_off",
          "bar_off",
          "bar_off",
          "bar_off",
          "bar_off",
          "bar_off",
          "bar_off",
          "bar_off",
          "bar_off",
          "bar_off",
          "bar_off",
          "bar_off",
          "bar_off",
          "bar_off",
          "bar_off",
          "bar_off",
          "bar_off",
          "bar_off",
          "bar_off",
          "bar_off",
          "bar_off",
          "bar_off",
          "bar_off",
          "bar_off",
          "bar_off",
          "bar_off",
          "bar_off",
          "bar_off",
          "bar_off",
          "bar_off",
          "bar_off",
          "bar_off",
          "bar_off",
          "bar_off",
          "bar_off",
          "bar_off",
          "bar_off",
          "bar_off",
          "bar_off",
          "bar_off",
          "bar_off",
          "bar_off",
          "bar_off",
          "bar_off",
          "bar_off",
          "bar_off",
          "bar_off",
          "bar_off",
          "bar_off",
          "bar_off",
          "bar_off",
          "bar_off",
          "bar_off",
          "bar_off",
          "bar_off",
          "bar_off",
          "bar_off",
          "bar_off",
          "bar_off",
          "bar_off",
          "bar_off",
          "bar_off",
          "bar_off",
          "bar_off",
          "bar_off",
          "bar_off",
          "bar_off",
          "bar_off",
          "bar_off",
          "bar_off",
          "bar_off",
          "bar_off",
          "bar_off",
          "bar_off",
          "bar_off",
          "bar_off",
          "bar_off",
          "bar_off",
          "bar_off",
          "bar_off",
          "bar_off",
          "bar_off",
          "bar_off",
          "bar_off",
          "bar_off",
          "bar_off",
          "bar_off",
          "bar_off",
          "bar_off",
          "bar_off",
          "bar_off",
          "bar_off",
          "bar_off",
          "bar_off",
          "bar_off",
          "bar_off",
          "bar_off",
          "bar_off",
          "bar_off",
          "bar_off",
          "bar_off",
          "bar_off",
          "bar_off",
          "bar_off",
          "bar_off",
          "bar_off",
          "bar_off",
          "bar_off",
          "bar_off",
          "bar_off",
          "bar_off",
          "bar_off",
          "bar_off",
          "bar_off",
          "bar_off",
          "bar_off",
          "bar_off",
          "bar_off",
          "bar_off",
          "bar_off",
          "bar_off",
          "bar_off",
          "bar_off",
          "bar_off",
          "bar_off",
          "bar_off",
          "bar_off",
          "bar_off",
          "bar_off",
          "bar_off",
          "bar_off",
          "bar_off",
          "bar_off",
          "bar_off",
          "bar_off",
          "bar_off",
          "bar_off",
          "bar_off",
          "bar_off",
          "bar_off",
          "bar_off",
          "bar_off",
          "bar_off",
          "bar_off",
          "bar_off",
          "bar_off",
          "bar_off",
          "bar_off",
          "bar_off",
          "bar_off",
          "bar_off",
          "bar_off",
          "bar_off",
          "bar_off",
          "bar_off",
          "bar_off",
          "bar_off",
          "bar_off"
         ]
        },
        {
         "marker": {
          "symbol": "x"
         },
         "mode": "markers",
         "name": "spout",
         "type": "scatter",
         "x": [
          13.732,
          60.634,
          108.296,
          108.497,
          170.351,
          170.552,
          209.618,
          217.35,
          217.552,
          218.288,
          218.491,
          218.691,
          218.892,
          219.109,
          254.147,
          256.791,
          257.085,
          257.286,
          257.418,
          273.065,
          273.194,
          273.443,
          273.574,
          273.59,
          275.034,
          275.285,
          275.301,
          275.335,
          276.096,
          276.337,
          277.38,
          313.958,
          314.159,
          324.791,
          324.963,
          325.314,
          325.353,
          325.554,
          325.878,
          326.078,
          326.333,
          326.683,
          327.58,
          332.402,
          332.603,
          333.165,
          333.366,
          333.635,
          425.203,
          425.418,
          427.644,
          428.039,
          428.24
         ],
         "y": [
          "spout",
          "spout",
          "spout",
          "spout",
          "spout",
          "spout",
          "spout",
          "spout",
          "spout",
          "spout",
          "spout",
          "spout",
          "spout",
          "spout",
          "spout",
          "spout",
          "spout",
          "spout",
          "spout",
          "spout",
          "spout",
          "spout",
          "spout",
          "spout",
          "spout",
          "spout",
          "spout",
          "spout",
          "spout",
          "spout",
          "spout",
          "spout",
          "spout",
          "spout",
          "spout",
          "spout",
          "spout",
          "spout",
          "spout",
          "spout",
          "spout",
          "spout",
          "spout",
          "spout",
          "spout",
          "spout",
          "spout",
          "spout",
          "spout",
          "spout",
          "spout",
          "spout",
          "spout"
         ]
        },
        {
         "marker": {
          "symbol": "triangle-up"
         },
         "mode": "markers",
         "name": "US_delay_timer",
         "type": "scatter",
         "x": [
          13.933,
          60.835,
          108.497,
          170.552,
          209.82,
          217.552,
          218.488,
          218.892,
          219.31,
          254.348,
          256.993,
          257.286,
          257.619,
          273.266,
          273.395,
          273.774,
          273.79,
          275.235,
          276.538,
          277.581,
          314.159,
          324.992,
          325.164,
          325.514,
          325.554,
          326.078,
          326.533,
          326.883,
          332.603,
          333.366,
          333.836,
          425.404,
          427.845,
          428.24
         ],
         "y": [
          "US_delay_timer",
          "US_delay_timer",
          "US_delay_timer",
          "US_delay_timer",
          "US_delay_timer",
          "US_delay_timer",
          "US_delay_timer",
          "US_delay_timer",
          "US_delay_timer",
          "US_delay_timer",
          "US_delay_timer",
          "US_delay_timer",
          "US_delay_timer",
          "US_delay_timer",
          "US_delay_timer",
          "US_delay_timer",
          "US_delay_timer",
          "US_delay_timer",
          "US_delay_timer",
          "US_delay_timer",
          "US_delay_timer",
          "US_delay_timer",
          "US_delay_timer",
          "US_delay_timer",
          "US_delay_timer",
          "US_delay_timer",
          "US_delay_timer",
          "US_delay_timer",
          "US_delay_timer",
          "US_delay_timer",
          "US_delay_timer",
          "US_delay_timer",
          "US_delay_timer",
          "US_delay_timer"
         ]
        },
        {
         "marker": {
          "symbol": "triangle-down"
         },
         "mode": "markers",
         "name": "CS_offset_timer",
         "type": "scatter",
         "x": [
          2,
          14.033,
          60.935,
          108.597,
          170.652,
          209.919,
          217.652,
          218.588,
          218.992,
          219.41,
          254.448,
          257.092,
          257.386,
          257.719,
          273.366,
          273.495,
          273.874,
          273.89,
          275.335,
          276.638,
          277.681,
          314.259,
          325.092,
          325.264,
          325.614,
          325.654,
          326.178,
          326.633,
          326.983,
          332.703,
          333.466,
          333.936,
          425.504,
          427.945,
          428.34
         ],
         "y": [
          "CS_offset_timer",
          "CS_offset_timer",
          "CS_offset_timer",
          "CS_offset_timer",
          "CS_offset_timer",
          "CS_offset_timer",
          "CS_offset_timer",
          "CS_offset_timer",
          "CS_offset_timer",
          "CS_offset_timer",
          "CS_offset_timer",
          "CS_offset_timer",
          "CS_offset_timer",
          "CS_offset_timer",
          "CS_offset_timer",
          "CS_offset_timer",
          "CS_offset_timer",
          "CS_offset_timer",
          "CS_offset_timer",
          "CS_offset_timer",
          "CS_offset_timer",
          "CS_offset_timer",
          "CS_offset_timer",
          "CS_offset_timer",
          "CS_offset_timer",
          "CS_offset_timer",
          "CS_offset_timer",
          "CS_offset_timer",
          "CS_offset_timer",
          "CS_offset_timer",
          "CS_offset_timer",
          "CS_offset_timer",
          "CS_offset_timer",
          "CS_offset_timer",
          "CS_offset_timer"
         ]
        },
        {
         "line": {
          "width": 5
         },
         "mode": "lines",
         "name": "waiting_for_spout",
         "type": "scatter",
         "x": [
          1.883,
          13.732,
          null,
          15.734,
          60.635,
          null,
          62.637,
          108.296,
          null,
          110.298,
          170.352,
          null,
          172.354,
          209.619,
          null,
          211.621,
          217.351,
          null,
          219.353,
          254.148,
          null,
          256.15,
          256.792,
          null,
          258.794,
          273.066,
          null,
          276.101,
          276.337,
          null,
          278.34,
          313.958,
          null,
          315.96,
          324.791,
          null,
          327.846,
          332.403,
          null,
          334.405,
          425.203,
          null,
          427.206,
          427.645,
          null
         ],
         "y": [
          "waiting_for_spout",
          "waiting_for_spout",
          "waiting_for_spout",
          "waiting_for_spout",
          "waiting_for_spout",
          "waiting_for_spout",
          "waiting_for_spout",
          "waiting_for_spout",
          "waiting_for_spout",
          "waiting_for_spout",
          "waiting_for_spout",
          "waiting_for_spout",
          "waiting_for_spout",
          "waiting_for_spout",
          "waiting_for_spout",
          "waiting_for_spout",
          "waiting_for_spout",
          "waiting_for_spout",
          "waiting_for_spout",
          "waiting_for_spout",
          "waiting_for_spout",
          "waiting_for_spout",
          "waiting_for_spout",
          "waiting_for_spout",
          "waiting_for_spout",
          "waiting_for_spout",
          "waiting_for_spout",
          "waiting_for_spout",
          "waiting_for_spout",
          "waiting_for_spout",
          "waiting_for_spout",
          "waiting_for_spout",
          "waiting_for_spout",
          "waiting_for_spout",
          "waiting_for_spout",
          "waiting_for_spout",
          "waiting_for_spout",
          "waiting_for_spout",
          "waiting_for_spout",
          "waiting_for_spout",
          "waiting_for_spout",
          "waiting_for_spout",
          "waiting_for_spout",
          "waiting_for_spout",
          "waiting_for_spout"
         ]
        },
        {
         "line": {
          "width": 5
         },
         "mode": "lines",
         "name": "busy_win",
         "type": "scatter",
         "x": [
          273.066,
          275.068,
          null,
          324.791,
          326.794,
          null
         ],
         "y": [
          "busy_win",
          "busy_win",
          "busy_win",
          "busy_win",
          "busy_win",
          "busy_win"
         ]
        },
        {
         "line": {
          "width": 5
         },
         "mode": "lines",
         "name": "short_break",
         "type": "scatter",
         "x": [
          0,
          1.883,
          null,
          275.068,
          276.101,
          null,
          326.794,
          327.846,
          null
         ],
         "y": [
          "short_break",
          "short_break",
          "short_break",
          "short_break",
          "short_break",
          "short_break",
          "short_break",
          "short_break",
          "short_break"
         ]
        }
       ],
       "layout": {
        "template": {
         "data": {
          "bar": [
           {
            "error_x": {
             "color": "#2a3f5f"
            },
            "error_y": {
             "color": "#2a3f5f"
            },
            "marker": {
             "line": {
              "color": "#E5ECF6",
              "width": 0.5
             },
             "pattern": {
              "fillmode": "overlay",
              "size": 10,
              "solidity": 0.2
             }
            },
            "type": "bar"
           }
          ],
          "barpolar": [
           {
            "marker": {
             "line": {
              "color": "#E5ECF6",
              "width": 0.5
             },
             "pattern": {
              "fillmode": "overlay",
              "size": 10,
              "solidity": 0.2
             }
            },
            "type": "barpolar"
           }
          ],
          "carpet": [
           {
            "aaxis": {
             "endlinecolor": "#2a3f5f",
             "gridcolor": "white",
             "linecolor": "white",
             "minorgridcolor": "white",
             "startlinecolor": "#2a3f5f"
            },
            "baxis": {
             "endlinecolor": "#2a3f5f",
             "gridcolor": "white",
             "linecolor": "white",
             "minorgridcolor": "white",
             "startlinecolor": "#2a3f5f"
            },
            "type": "carpet"
           }
          ],
          "choropleth": [
           {
            "colorbar": {
             "outlinewidth": 0,
             "ticks": ""
            },
            "type": "choropleth"
           }
          ],
          "contour": [
           {
            "colorbar": {
             "outlinewidth": 0,
             "ticks": ""
            },
            "colorscale": [
             [
              0,
              "#0d0887"
             ],
             [
              0.1111111111111111,
              "#46039f"
             ],
             [
              0.2222222222222222,
              "#7201a8"
             ],
             [
              0.3333333333333333,
              "#9c179e"
             ],
             [
              0.4444444444444444,
              "#bd3786"
             ],
             [
              0.5555555555555556,
              "#d8576b"
             ],
             [
              0.6666666666666666,
              "#ed7953"
             ],
             [
              0.7777777777777778,
              "#fb9f3a"
             ],
             [
              0.8888888888888888,
              "#fdca26"
             ],
             [
              1,
              "#f0f921"
             ]
            ],
            "type": "contour"
           }
          ],
          "contourcarpet": [
           {
            "colorbar": {
             "outlinewidth": 0,
             "ticks": ""
            },
            "type": "contourcarpet"
           }
          ],
          "heatmap": [
           {
            "colorbar": {
             "outlinewidth": 0,
             "ticks": ""
            },
            "colorscale": [
             [
              0,
              "#0d0887"
             ],
             [
              0.1111111111111111,
              "#46039f"
             ],
             [
              0.2222222222222222,
              "#7201a8"
             ],
             [
              0.3333333333333333,
              "#9c179e"
             ],
             [
              0.4444444444444444,
              "#bd3786"
             ],
             [
              0.5555555555555556,
              "#d8576b"
             ],
             [
              0.6666666666666666,
              "#ed7953"
             ],
             [
              0.7777777777777778,
              "#fb9f3a"
             ],
             [
              0.8888888888888888,
              "#fdca26"
             ],
             [
              1,
              "#f0f921"
             ]
            ],
            "type": "heatmap"
           }
          ],
          "heatmapgl": [
           {
            "colorbar": {
             "outlinewidth": 0,
             "ticks": ""
            },
            "colorscale": [
             [
              0,
              "#0d0887"
             ],
             [
              0.1111111111111111,
              "#46039f"
             ],
             [
              0.2222222222222222,
              "#7201a8"
             ],
             [
              0.3333333333333333,
              "#9c179e"
             ],
             [
              0.4444444444444444,
              "#bd3786"
             ],
             [
              0.5555555555555556,
              "#d8576b"
             ],
             [
              0.6666666666666666,
              "#ed7953"
             ],
             [
              0.7777777777777778,
              "#fb9f3a"
             ],
             [
              0.8888888888888888,
              "#fdca26"
             ],
             [
              1,
              "#f0f921"
             ]
            ],
            "type": "heatmapgl"
           }
          ],
          "histogram": [
           {
            "marker": {
             "pattern": {
              "fillmode": "overlay",
              "size": 10,
              "solidity": 0.2
             }
            },
            "type": "histogram"
           }
          ],
          "histogram2d": [
           {
            "colorbar": {
             "outlinewidth": 0,
             "ticks": ""
            },
            "colorscale": [
             [
              0,
              "#0d0887"
             ],
             [
              0.1111111111111111,
              "#46039f"
             ],
             [
              0.2222222222222222,
              "#7201a8"
             ],
             [
              0.3333333333333333,
              "#9c179e"
             ],
             [
              0.4444444444444444,
              "#bd3786"
             ],
             [
              0.5555555555555556,
              "#d8576b"
             ],
             [
              0.6666666666666666,
              "#ed7953"
             ],
             [
              0.7777777777777778,
              "#fb9f3a"
             ],
             [
              0.8888888888888888,
              "#fdca26"
             ],
             [
              1,
              "#f0f921"
             ]
            ],
            "type": "histogram2d"
           }
          ],
          "histogram2dcontour": [
           {
            "colorbar": {
             "outlinewidth": 0,
             "ticks": ""
            },
            "colorscale": [
             [
              0,
              "#0d0887"
             ],
             [
              0.1111111111111111,
              "#46039f"
             ],
             [
              0.2222222222222222,
              "#7201a8"
             ],
             [
              0.3333333333333333,
              "#9c179e"
             ],
             [
              0.4444444444444444,
              "#bd3786"
             ],
             [
              0.5555555555555556,
              "#d8576b"
             ],
             [
              0.6666666666666666,
              "#ed7953"
             ],
             [
              0.7777777777777778,
              "#fb9f3a"
             ],
             [
              0.8888888888888888,
              "#fdca26"
             ],
             [
              1,
              "#f0f921"
             ]
            ],
            "type": "histogram2dcontour"
           }
          ],
          "mesh3d": [
           {
            "colorbar": {
             "outlinewidth": 0,
             "ticks": ""
            },
            "type": "mesh3d"
           }
          ],
          "parcoords": [
           {
            "line": {
             "colorbar": {
              "outlinewidth": 0,
              "ticks": ""
             }
            },
            "type": "parcoords"
           }
          ],
          "pie": [
           {
            "automargin": true,
            "type": "pie"
           }
          ],
          "scatter": [
           {
            "fillpattern": {
             "fillmode": "overlay",
             "size": 10,
             "solidity": 0.2
            },
            "type": "scatter"
           }
          ],
          "scatter3d": [
           {
            "line": {
             "colorbar": {
              "outlinewidth": 0,
              "ticks": ""
             }
            },
            "marker": {
             "colorbar": {
              "outlinewidth": 0,
              "ticks": ""
             }
            },
            "type": "scatter3d"
           }
          ],
          "scattercarpet": [
           {
            "marker": {
             "colorbar": {
              "outlinewidth": 0,
              "ticks": ""
             }
            },
            "type": "scattercarpet"
           }
          ],
          "scattergeo": [
           {
            "marker": {
             "colorbar": {
              "outlinewidth": 0,
              "ticks": ""
             }
            },
            "type": "scattergeo"
           }
          ],
          "scattergl": [
           {
            "marker": {
             "colorbar": {
              "outlinewidth": 0,
              "ticks": ""
             }
            },
            "type": "scattergl"
           }
          ],
          "scattermapbox": [
           {
            "marker": {
             "colorbar": {
              "outlinewidth": 0,
              "ticks": ""
             }
            },
            "type": "scattermapbox"
           }
          ],
          "scatterpolar": [
           {
            "marker": {
             "colorbar": {
              "outlinewidth": 0,
              "ticks": ""
             }
            },
            "type": "scatterpolar"
           }
          ],
          "scatterpolargl": [
           {
            "marker": {
             "colorbar": {
              "outlinewidth": 0,
              "ticks": ""
             }
            },
            "type": "scatterpolargl"
           }
          ],
          "scatterternary": [
           {
            "marker": {
             "colorbar": {
              "outlinewidth": 0,
              "ticks": ""
             }
            },
            "type": "scatterternary"
           }
          ],
          "surface": [
           {
            "colorbar": {
             "outlinewidth": 0,
             "ticks": ""
            },
            "colorscale": [
             [
              0,
              "#0d0887"
             ],
             [
              0.1111111111111111,
              "#46039f"
             ],
             [
              0.2222222222222222,
              "#7201a8"
             ],
             [
              0.3333333333333333,
              "#9c179e"
             ],
             [
              0.4444444444444444,
              "#bd3786"
             ],
             [
              0.5555555555555556,
              "#d8576b"
             ],
             [
              0.6666666666666666,
              "#ed7953"
             ],
             [
              0.7777777777777778,
              "#fb9f3a"
             ],
             [
              0.8888888888888888,
              "#fdca26"
             ],
             [
              1,
              "#f0f921"
             ]
            ],
            "type": "surface"
           }
          ],
          "table": [
           {
            "cells": {
             "fill": {
              "color": "#EBF0F8"
             },
             "line": {
              "color": "white"
             }
            },
            "header": {
             "fill": {
              "color": "#C8D4E3"
             },
             "line": {
              "color": "white"
             }
            },
            "type": "table"
           }
          ]
         },
         "layout": {
          "annotationdefaults": {
           "arrowcolor": "#2a3f5f",
           "arrowhead": 0,
           "arrowwidth": 1
          },
          "autotypenumbers": "strict",
          "coloraxis": {
           "colorbar": {
            "outlinewidth": 0,
            "ticks": ""
           }
          },
          "colorscale": {
           "diverging": [
            [
             0,
             "#8e0152"
            ],
            [
             0.1,
             "#c51b7d"
            ],
            [
             0.2,
             "#de77ae"
            ],
            [
             0.3,
             "#f1b6da"
            ],
            [
             0.4,
             "#fde0ef"
            ],
            [
             0.5,
             "#f7f7f7"
            ],
            [
             0.6,
             "#e6f5d0"
            ],
            [
             0.7,
             "#b8e186"
            ],
            [
             0.8,
             "#7fbc41"
            ],
            [
             0.9,
             "#4d9221"
            ],
            [
             1,
             "#276419"
            ]
           ],
           "sequential": [
            [
             0,
             "#0d0887"
            ],
            [
             0.1111111111111111,
             "#46039f"
            ],
            [
             0.2222222222222222,
             "#7201a8"
            ],
            [
             0.3333333333333333,
             "#9c179e"
            ],
            [
             0.4444444444444444,
             "#bd3786"
            ],
            [
             0.5555555555555556,
             "#d8576b"
            ],
            [
             0.6666666666666666,
             "#ed7953"
            ],
            [
             0.7777777777777778,
             "#fb9f3a"
            ],
            [
             0.8888888888888888,
             "#fdca26"
            ],
            [
             1,
             "#f0f921"
            ]
           ],
           "sequentialminus": [
            [
             0,
             "#0d0887"
            ],
            [
             0.1111111111111111,
             "#46039f"
            ],
            [
             0.2222222222222222,
             "#7201a8"
            ],
            [
             0.3333333333333333,
             "#9c179e"
            ],
            [
             0.4444444444444444,
             "#bd3786"
            ],
            [
             0.5555555555555556,
             "#d8576b"
            ],
            [
             0.6666666666666666,
             "#ed7953"
            ],
            [
             0.7777777777777778,
             "#fb9f3a"
            ],
            [
             0.8888888888888888,
             "#fdca26"
            ],
            [
             1,
             "#f0f921"
            ]
           ]
          },
          "colorway": [
           "#636efa",
           "#EF553B",
           "#00cc96",
           "#ab63fa",
           "#FFA15A",
           "#19d3f3",
           "#FF6692",
           "#B6E880",
           "#FF97FF",
           "#FECB52"
          ],
          "font": {
           "color": "#2a3f5f"
          },
          "geo": {
           "bgcolor": "white",
           "lakecolor": "white",
           "landcolor": "#E5ECF6",
           "showlakes": true,
           "showland": true,
           "subunitcolor": "white"
          },
          "hoverlabel": {
           "align": "left"
          },
          "hovermode": "closest",
          "mapbox": {
           "style": "light"
          },
          "paper_bgcolor": "white",
          "plot_bgcolor": "#E5ECF6",
          "polar": {
           "angularaxis": {
            "gridcolor": "white",
            "linecolor": "white",
            "ticks": ""
           },
           "bgcolor": "#E5ECF6",
           "radialaxis": {
            "gridcolor": "white",
            "linecolor": "white",
            "ticks": ""
           }
          },
          "scene": {
           "xaxis": {
            "backgroundcolor": "#E5ECF6",
            "gridcolor": "white",
            "gridwidth": 2,
            "linecolor": "white",
            "showbackground": true,
            "ticks": "",
            "zerolinecolor": "white"
           },
           "yaxis": {
            "backgroundcolor": "#E5ECF6",
            "gridcolor": "white",
            "gridwidth": 2,
            "linecolor": "white",
            "showbackground": true,
            "ticks": "",
            "zerolinecolor": "white"
           },
           "zaxis": {
            "backgroundcolor": "#E5ECF6",
            "gridcolor": "white",
            "gridwidth": 2,
            "linecolor": "white",
            "showbackground": true,
            "ticks": "",
            "zerolinecolor": "white"
           }
          },
          "shapedefaults": {
           "line": {
            "color": "#2a3f5f"
           }
          },
          "ternary": {
           "aaxis": {
            "gridcolor": "white",
            "linecolor": "white",
            "ticks": ""
           },
           "baxis": {
            "gridcolor": "white",
            "linecolor": "white",
            "ticks": ""
           },
           "bgcolor": "#E5ECF6",
           "caxis": {
            "gridcolor": "white",
            "linecolor": "white",
            "ticks": ""
           }
          },
          "title": {
           "x": 0.05
          },
          "xaxis": {
           "automargin": true,
           "gridcolor": "white",
           "linecolor": "white",
           "ticks": "",
           "title": {
            "standoff": 15
           },
           "zerolinecolor": "white",
           "zerolinewidth": 2
          },
          "yaxis": {
           "automargin": true,
           "gridcolor": "white",
           "linecolor": "white",
           "ticks": "",
           "title": {
            "standoff": 15
           },
           "zerolinecolor": "white",
           "zerolinewidth": 2
          }
         }
        },
        "title": {
         "text": "reaching_go_spout_nov22, 313 #3, on 2022-11-23 15:22:33 via COM3"
        },
        "xaxis": {
         "title": {
          "text": "Time (s)"
         }
        },
        "yaxis": {
         "fixedrange": true
        }
       }
      }
     },
     "metadata": {},
     "output_type": "display_data"
    },
    {
     "name": "stdout",
     "output_type": "stream",
     "text": [
      "saved JC313L-2022-11-23-152233_reaching_go_spout_nov22.smrx\n",
      "JC316L-2022-11-23-161757_reaching_go_spout_nov22.smrx\n"
     ]
    },
    {
     "name": "stderr",
     "output_type": "stream",
     "text": [
      "C:\\Users\\phar0528\\AppData\\Local\\Temp\\ipykernel_43892\\4133634569.py:21: FutureWarning:\n",
      "\n",
      "The frame.append method is deprecated and will be removed from pandas in a future version. Use pandas.concat instead.\n",
      "\n"
     ]
    },
    {
     "data": {
      "application/vnd.plotly.v1+json": {
       "config": {
        "plotlyServerURL": "https://plot.ly"
       },
       "data": [
        {
         "marker": {
          "symbol": "square"
         },
         "mode": "markers",
         "name": "button_press",
         "type": "scatter",
         "x": [
          196.899,
          197.452,
          197.994,
          198.476,
          202.936
         ],
         "y": [
          "button_press",
          "button_press",
          "button_press",
          "button_press",
          "button_press"
         ]
        },
        {
         "marker": {
          "symbol": "diamond"
         },
         "mode": "markers",
         "name": "bar",
         "type": "scatter",
         "x": [
          15.789,
          15.819,
          16.022,
          16.069,
          26.109,
          27.103,
          33.812,
          34.011,
          38.197,
          45.858,
          45.909,
          45.94,
          46.017,
          52.84,
          89.325,
          89.402,
          89.728,
          134.608,
          135.749,
          135.909,
          136.294,
          136.928,
          137.041,
          137.231,
          151.335,
          151.858,
          165.157,
          165.204,
          171.008,
          178.366,
          178.41,
          178.601,
          188.681,
          188.769,
          190.446,
          190.474,
          190.502,
          193.738,
          193.838,
          194.007,
          195.657,
          204.85,
          204.922,
          208.41,
          208.504,
          218.644,
          218.673,
          218.903,
          219.65,
          219.68,
          222.127,
          227.95,
          228.192,
          229.023,
          229.16,
          229.766,
          235.091,
          238.087,
          266.925,
          277.008,
          277.137,
          289.781,
          293.575,
          293.692,
          293.846,
          294.046,
          299.791,
          300.694,
          303.812,
          304.135,
          304.155,
          304.175,
          304.195,
          304.225,
          304.258,
          306.074,
          306.222,
          306.293,
          308.919,
          309.005,
          311.559,
          311.577,
          311.758,
          311.794,
          314.873,
          314.907,
          314.951,
          315.248,
          317.719,
          317.876,
          324.028,
          324.063,
          325.699,
          325.72,
          334.858,
          334.93,
          351.891,
          351.936,
          352.126,
          361.385,
          361.636,
          362.234,
          367.843,
          379.487,
          379.505,
          379.544,
          379.908,
          381.338,
          381.402,
          389.698,
          389.805,
          390.232,
          390.776,
          390.834,
          397.957,
          405.719,
          409.068,
          412.161,
          412.317,
          414.168,
          417.321,
          417.348,
          418.58,
          419.619,
          425.293,
          430.302,
          430.759,
          430.801,
          431.497,
          431.616,
          441.08,
          449.931,
          450.74,
          463,
          463.295,
          466.676,
          466.76,
          470.606,
          471.902,
          475.766,
          478.426,
          478.545,
          482.495,
          482.814,
          485.526,
          500.649,
          504.787,
          508.235,
          513.022,
          513.736,
          513.791,
          513.91,
          514.093,
          514.128,
          519.612,
          519.765,
          525.929,
          529.771,
          534.762,
          542.619,
          542.638,
          552.076,
          557.849,
          575.22,
          575.377,
          580.204,
          591.184,
          591.252,
          591.389,
          591.438,
          591.66,
          592.315,
          592.459,
          592.513,
          592.683,
          592.737,
          592.916,
          592.932,
          592.959,
          593.355,
          593.568,
          593.721,
          593.885,
          594.194,
          594.681,
          595.03,
          595.814,
          595.912,
          602.794,
          602.949,
          603.063,
          607.383,
          611.298,
          618.599,
          618.976,
          620.784,
          620.844
         ],
         "y": [
          "bar",
          "bar",
          "bar",
          "bar",
          "bar",
          "bar",
          "bar",
          "bar",
          "bar",
          "bar",
          "bar",
          "bar",
          "bar",
          "bar",
          "bar",
          "bar",
          "bar",
          "bar",
          "bar",
          "bar",
          "bar",
          "bar",
          "bar",
          "bar",
          "bar",
          "bar",
          "bar",
          "bar",
          "bar",
          "bar",
          "bar",
          "bar",
          "bar",
          "bar",
          "bar",
          "bar",
          "bar",
          "bar",
          "bar",
          "bar",
          "bar",
          "bar",
          "bar",
          "bar",
          "bar",
          "bar",
          "bar",
          "bar",
          "bar",
          "bar",
          "bar",
          "bar",
          "bar",
          "bar",
          "bar",
          "bar",
          "bar",
          "bar",
          "bar",
          "bar",
          "bar",
          "bar",
          "bar",
          "bar",
          "bar",
          "bar",
          "bar",
          "bar",
          "bar",
          "bar",
          "bar",
          "bar",
          "bar",
          "bar",
          "bar",
          "bar",
          "bar",
          "bar",
          "bar",
          "bar",
          "bar",
          "bar",
          "bar",
          "bar",
          "bar",
          "bar",
          "bar",
          "bar",
          "bar",
          "bar",
          "bar",
          "bar",
          "bar",
          "bar",
          "bar",
          "bar",
          "bar",
          "bar",
          "bar",
          "bar",
          "bar",
          "bar",
          "bar",
          "bar",
          "bar",
          "bar",
          "bar",
          "bar",
          "bar",
          "bar",
          "bar",
          "bar",
          "bar",
          "bar",
          "bar",
          "bar",
          "bar",
          "bar",
          "bar",
          "bar",
          "bar",
          "bar",
          "bar",
          "bar",
          "bar",
          "bar",
          "bar",
          "bar",
          "bar",
          "bar",
          "bar",
          "bar",
          "bar",
          "bar",
          "bar",
          "bar",
          "bar",
          "bar",
          "bar",
          "bar",
          "bar",
          "bar",
          "bar",
          "bar",
          "bar",
          "bar",
          "bar",
          "bar",
          "bar",
          "bar",
          "bar",
          "bar",
          "bar",
          "bar",
          "bar",
          "bar",
          "bar",
          "bar",
          "bar",
          "bar",
          "bar",
          "bar",
          "bar",
          "bar",
          "bar",
          "bar",
          "bar",
          "bar",
          "bar",
          "bar",
          "bar",
          "bar",
          "bar",
          "bar",
          "bar",
          "bar",
          "bar",
          "bar",
          "bar",
          "bar",
          "bar",
          "bar",
          "bar",
          "bar",
          "bar",
          "bar",
          "bar",
          "bar",
          "bar",
          "bar",
          "bar",
          "bar",
          "bar",
          "bar",
          "bar",
          "bar",
          "bar"
         ]
        },
        {
         "marker": {
          "symbol": "cross"
         },
         "mode": "markers",
         "name": "bar_off",
         "type": "scatter",
         "x": [
          15.766,
          15.805,
          15.835,
          16.047,
          20.916,
          27.034,
          33.756,
          33.951,
          38.167,
          45.835,
          45.873,
          45.925,
          45.961,
          52.821,
          89.286,
          89.34,
          89.417,
          134.583,
          135.701,
          135.879,
          136.232,
          136.717,
          136.987,
          137.206,
          148.788,
          151.827,
          160.151,
          165.173,
          168.779,
          174.542,
          178.381,
          178.535,
          179.551,
          188.73,
          190.43,
          190.459,
          190.487,
          190.638,
          193.753,
          193.935,
          195.615,
          195.702,
          204.89,
          208.309,
          208.475,
          218.549,
          218.659,
          218.85,
          219.257,
          219.665,
          222.109,
          223.645,
          228.148,
          228.911,
          229.087,
          229.717,
          235.053,
          238.034,
          266.813,
          268.464,
          277.08,
          289.763,
          289.796,
          293.633,
          293.82,
          293.976,
          294.062,
          299.874,
          302.25,
          303.828,
          304.15,
          304.17,
          304.19,
          304.21,
          304.243,
          305.965,
          306.122,
          306.249,
          308.658,
          308.96,
          311.517,
          311.574,
          311.592,
          311.773,
          314.61,
          314.888,
          314.922,
          315.194,
          317.262,
          317.757,
          323.939,
          324.048,
          325.684,
          325.7,
          334.784,
          334.891,
          351.846,
          351.911,
          352.082,
          361.362,
          361.601,
          362.207,
          362.374,
          373.312,
          379.502,
          379.52,
          379.822,
          381.098,
          381.353,
          385.03,
          389.743,
          390.13,
          390.52,
          390.792,
          397.93,
          405.675,
          408.994,
          412.055,
          412.284,
          414.115,
          417.306,
          417.333,
          418.4,
          419.555,
          425.168,
          430.278,
          430.709,
          430.775,
          430.926,
          431.535,
          440.987,
          441.402,
          450.663,
          452.296,
          463.207,
          466.51,
          466.707,
          466.803,
          471.834,
          475.745,
          475.781,
          478.488,
          482.395,
          482.536,
          484.546,
          485.56,
          504.732,
          508.22,
          508.238,
          513.705,
          513.751,
          513.854,
          513.925,
          514.108,
          514.388,
          519.719,
          525.547,
          529.756,
          529.785,
          534.803,
          542.634,
          547.631,
          554.017,
          575.172,
          575.358,
          575.392,
          591.158,
          591.199,
          591.36,
          591.412,
          591.454,
          591.842,
          592.435,
          592.489,
          592.633,
          592.705,
          592.827,
          592.932,
          592.947,
          593.34,
          593.471,
          593.704,
          593.816,
          594.109,
          594.659,
          594.976,
          595.74,
          595.868,
          602.777,
          602.914,
          603.045,
          607.331,
          607.425,
          611.327,
          618.901,
          620.754,
          620.799,
          620.879
         ],
         "y": [
          "bar_off",
          "bar_off",
          "bar_off",
          "bar_off",
          "bar_off",
          "bar_off",
          "bar_off",
          "bar_off",
          "bar_off",
          "bar_off",
          "bar_off",
          "bar_off",
          "bar_off",
          "bar_off",
          "bar_off",
          "bar_off",
          "bar_off",
          "bar_off",
          "bar_off",
          "bar_off",
          "bar_off",
          "bar_off",
          "bar_off",
          "bar_off",
          "bar_off",
          "bar_off",
          "bar_off",
          "bar_off",
          "bar_off",
          "bar_off",
          "bar_off",
          "bar_off",
          "bar_off",
          "bar_off",
          "bar_off",
          "bar_off",
          "bar_off",
          "bar_off",
          "bar_off",
          "bar_off",
          "bar_off",
          "bar_off",
          "bar_off",
          "bar_off",
          "bar_off",
          "bar_off",
          "bar_off",
          "bar_off",
          "bar_off",
          "bar_off",
          "bar_off",
          "bar_off",
          "bar_off",
          "bar_off",
          "bar_off",
          "bar_off",
          "bar_off",
          "bar_off",
          "bar_off",
          "bar_off",
          "bar_off",
          "bar_off",
          "bar_off",
          "bar_off",
          "bar_off",
          "bar_off",
          "bar_off",
          "bar_off",
          "bar_off",
          "bar_off",
          "bar_off",
          "bar_off",
          "bar_off",
          "bar_off",
          "bar_off",
          "bar_off",
          "bar_off",
          "bar_off",
          "bar_off",
          "bar_off",
          "bar_off",
          "bar_off",
          "bar_off",
          "bar_off",
          "bar_off",
          "bar_off",
          "bar_off",
          "bar_off",
          "bar_off",
          "bar_off",
          "bar_off",
          "bar_off",
          "bar_off",
          "bar_off",
          "bar_off",
          "bar_off",
          "bar_off",
          "bar_off",
          "bar_off",
          "bar_off",
          "bar_off",
          "bar_off",
          "bar_off",
          "bar_off",
          "bar_off",
          "bar_off",
          "bar_off",
          "bar_off",
          "bar_off",
          "bar_off",
          "bar_off",
          "bar_off",
          "bar_off",
          "bar_off",
          "bar_off",
          "bar_off",
          "bar_off",
          "bar_off",
          "bar_off",
          "bar_off",
          "bar_off",
          "bar_off",
          "bar_off",
          "bar_off",
          "bar_off",
          "bar_off",
          "bar_off",
          "bar_off",
          "bar_off",
          "bar_off",
          "bar_off",
          "bar_off",
          "bar_off",
          "bar_off",
          "bar_off",
          "bar_off",
          "bar_off",
          "bar_off",
          "bar_off",
          "bar_off",
          "bar_off",
          "bar_off",
          "bar_off",
          "bar_off",
          "bar_off",
          "bar_off",
          "bar_off",
          "bar_off",
          "bar_off",
          "bar_off",
          "bar_off",
          "bar_off",
          "bar_off",
          "bar_off",
          "bar_off",
          "bar_off",
          "bar_off",
          "bar_off",
          "bar_off",
          "bar_off",
          "bar_off",
          "bar_off",
          "bar_off",
          "bar_off",
          "bar_off",
          "bar_off",
          "bar_off",
          "bar_off",
          "bar_off",
          "bar_off",
          "bar_off",
          "bar_off",
          "bar_off",
          "bar_off",
          "bar_off",
          "bar_off",
          "bar_off",
          "bar_off",
          "bar_off",
          "bar_off",
          "bar_off",
          "bar_off",
          "bar_off",
          "bar_off",
          "bar_off",
          "bar_off",
          "bar_off",
          "bar_off",
          "bar_off",
          "bar_off",
          "bar_off",
          "bar_off",
          "bar_off",
          "bar_off",
          "bar_off",
          "bar_off",
          "bar_off",
          "bar_off"
         ]
        },
        {
         "marker": {
          "symbol": "x"
         },
         "mode": "markers",
         "name": "spout",
         "type": "scatter",
         "x": [
          21.136,
          21.738,
          22.24,
          22.502,
          148.902,
          149.103,
          160.265,
          160.518,
          160.639,
          160.84,
          160.914,
          160.965,
          161.218,
          168.97,
          169.058,
          169.189,
          169.298,
          169.433,
          169.634,
          169.733,
          169.919,
          170.106,
          170.33,
          174.696,
          174.803,
          175.004,
          179.771,
          179.832,
          179.957,
          180.033,
          183.906,
          190.767,
          190.968,
          191.464,
          191.571,
          191.752,
          191.952,
          192.844,
          192.902,
          193.215,
          195.836,
          195.907,
          196.037,
          196.373,
          196.574,
          196.633,
          197.005,
          198.477,
          198.678,
          199.568,
          202.93,
          223.891,
          224.232,
          268.802,
          268.948,
          269.019,
          269.195,
          269.22,
          271.123,
          271.24,
          271.441,
          271.518,
          273.682,
          274.061,
          274.256,
          289.987,
          290.732,
          294.146,
          294.883,
          294.997,
          295.084,
          295.201,
          299.988,
          300.189,
          300.343,
          302.412,
          302.613,
          314.773,
          317.503,
          317.75,
          362.519,
          362.562,
          362.72,
          362.762,
          363.457,
          363.62,
          363.821,
          367.287,
          367.488,
          373.505,
          373.814,
          373.975,
          374.099,
          376.243,
          376.445,
          377.151,
          377.237,
          377.465,
          385.252,
          385.499,
          441.687,
          441.902,
          442.025,
          442.171,
          442.313,
          442.56,
          442.677,
          442.796,
          446.497,
          446.743,
          447.132,
          447.382,
          452.453,
          452.579,
          452.858,
          454.558,
          454.695,
          455.982,
          456.112,
          456.313,
          458.426,
          475.976,
          476.177,
          489.814,
          490.015,
          490.945,
          500.19,
          500.295,
          500.391,
          508.376,
          509.273,
          509.473,
          509.651,
          509.852,
          514.026,
          514.507,
          514.9,
          515.101,
          529.906,
          529.942,
          530.121,
          530.143,
          530.273,
          530.52,
          530.608,
          534.982,
          535.481,
          535.728,
          536.151,
          536.352,
          536.905,
          537.058,
          547.765,
          548.811,
          549.012,
          575.62,
          576.015,
          579.117,
          579.319,
          579.853,
          607.538,
          607.626,
          607.753,
          608.139,
          608.208,
          611.463,
          611.664,
          613.276,
          613.568,
          613.969,
          615.302,
          615.396,
          615.54,
          615.923,
          621.038,
          621.24,
          621.372,
          621.454,
          621.718
         ],
         "y": [
          "spout",
          "spout",
          "spout",
          "spout",
          "spout",
          "spout",
          "spout",
          "spout",
          "spout",
          "spout",
          "spout",
          "spout",
          "spout",
          "spout",
          "spout",
          "spout",
          "spout",
          "spout",
          "spout",
          "spout",
          "spout",
          "spout",
          "spout",
          "spout",
          "spout",
          "spout",
          "spout",
          "spout",
          "spout",
          "spout",
          "spout",
          "spout",
          "spout",
          "spout",
          "spout",
          "spout",
          "spout",
          "spout",
          "spout",
          "spout",
          "spout",
          "spout",
          "spout",
          "spout",
          "spout",
          "spout",
          "spout",
          "spout",
          "spout",
          "spout",
          "spout",
          "spout",
          "spout",
          "spout",
          "spout",
          "spout",
          "spout",
          "spout",
          "spout",
          "spout",
          "spout",
          "spout",
          "spout",
          "spout",
          "spout",
          "spout",
          "spout",
          "spout",
          "spout",
          "spout",
          "spout",
          "spout",
          "spout",
          "spout",
          "spout",
          "spout",
          "spout",
          "spout",
          "spout",
          "spout",
          "spout",
          "spout",
          "spout",
          "spout",
          "spout",
          "spout",
          "spout",
          "spout",
          "spout",
          "spout",
          "spout",
          "spout",
          "spout",
          "spout",
          "spout",
          "spout",
          "spout",
          "spout",
          "spout",
          "spout",
          "spout",
          "spout",
          "spout",
          "spout",
          "spout",
          "spout",
          "spout",
          "spout",
          "spout",
          "spout",
          "spout",
          "spout",
          "spout",
          "spout",
          "spout",
          "spout",
          "spout",
          "spout",
          "spout",
          "spout",
          "spout",
          "spout",
          "spout",
          "spout",
          "spout",
          "spout",
          "spout",
          "spout",
          "spout",
          "spout",
          "spout",
          "spout",
          "spout",
          "spout",
          "spout",
          "spout",
          "spout",
          "spout",
          "spout",
          "spout",
          "spout",
          "spout",
          "spout",
          "spout",
          "spout",
          "spout",
          "spout",
          "spout",
          "spout",
          "spout",
          "spout",
          "spout",
          "spout",
          "spout",
          "spout",
          "spout",
          "spout",
          "spout",
          "spout",
          "spout",
          "spout",
          "spout",
          "spout",
          "spout",
          "spout",
          "spout",
          "spout",
          "spout",
          "spout",
          "spout",
          "spout",
          "spout",
          "spout",
          "spout",
          "spout",
          "spout",
          "spout",
          "spout",
          "spout"
         ]
        },
        {
         "marker": {
          "symbol": "triangle-up"
         },
         "mode": "markers",
         "name": "US_delay_timer",
         "type": "scatter",
         "x": [
          21.337,
          21.939,
          22.441,
          149.103,
          160.466,
          160.84,
          161.166,
          169.171,
          169.259,
          169.634,
          169.934,
          170.119,
          170.307,
          174.897,
          175.004,
          179.972,
          180.033,
          180.158,
          184.107,
          190.968,
          191.665,
          191.772,
          191.952,
          193.045,
          193.103,
          193.416,
          196.037,
          196.108,
          196.574,
          197.206,
          198.678,
          199.769,
          203.131,
          224.092,
          224.433,
          269.005,
          269.149,
          271.324,
          271.441,
          273.883,
          274.261,
          274.457,
          290.188,
          290.932,
          294.347,
          295.084,
          295.197,
          300.189,
          300.544,
          302.613,
          314.975,
          317.704,
          362.72,
          362.762,
          363.657,
          363.821,
          367.488,
          373.706,
          374.015,
          374.175,
          376.445,
          377.352,
          377.438,
          385.454,
          441.888,
          442.226,
          442.371,
          442.514,
          442.877,
          442.997,
          446.698,
          447.332,
          452.654,
          452.779,
          454.759,
          454.895,
          456.182,
          456.313,
          458.627,
          476.177,
          490.015,
          491.146,
          500.391,
          500.496,
          508.578,
          509.473,
          509.852,
          514.227,
          514.708,
          515.101,
          530.108,
          530.143,
          530.474,
          530.809,
          535.184,
          535.682,
          536.352,
          537.106,
          537.259,
          547.966,
          549.012,
          575.821,
          576.216,
          579.319,
          580.054,
          607.739,
          607.827,
          608.34,
          608.408,
          611.664,
          613.477,
          613.77,
          614.17,
          615.503,
          615.597,
          616.125,
          621.24,
          621.573,
          621.655
         ],
         "y": [
          "US_delay_timer",
          "US_delay_timer",
          "US_delay_timer",
          "US_delay_timer",
          "US_delay_timer",
          "US_delay_timer",
          "US_delay_timer",
          "US_delay_timer",
          "US_delay_timer",
          "US_delay_timer",
          "US_delay_timer",
          "US_delay_timer",
          "US_delay_timer",
          "US_delay_timer",
          "US_delay_timer",
          "US_delay_timer",
          "US_delay_timer",
          "US_delay_timer",
          "US_delay_timer",
          "US_delay_timer",
          "US_delay_timer",
          "US_delay_timer",
          "US_delay_timer",
          "US_delay_timer",
          "US_delay_timer",
          "US_delay_timer",
          "US_delay_timer",
          "US_delay_timer",
          "US_delay_timer",
          "US_delay_timer",
          "US_delay_timer",
          "US_delay_timer",
          "US_delay_timer",
          "US_delay_timer",
          "US_delay_timer",
          "US_delay_timer",
          "US_delay_timer",
          "US_delay_timer",
          "US_delay_timer",
          "US_delay_timer",
          "US_delay_timer",
          "US_delay_timer",
          "US_delay_timer",
          "US_delay_timer",
          "US_delay_timer",
          "US_delay_timer",
          "US_delay_timer",
          "US_delay_timer",
          "US_delay_timer",
          "US_delay_timer",
          "US_delay_timer",
          "US_delay_timer",
          "US_delay_timer",
          "US_delay_timer",
          "US_delay_timer",
          "US_delay_timer",
          "US_delay_timer",
          "US_delay_timer",
          "US_delay_timer",
          "US_delay_timer",
          "US_delay_timer",
          "US_delay_timer",
          "US_delay_timer",
          "US_delay_timer",
          "US_delay_timer",
          "US_delay_timer",
          "US_delay_timer",
          "US_delay_timer",
          "US_delay_timer",
          "US_delay_timer",
          "US_delay_timer",
          "US_delay_timer",
          "US_delay_timer",
          "US_delay_timer",
          "US_delay_timer",
          "US_delay_timer",
          "US_delay_timer",
          "US_delay_timer",
          "US_delay_timer",
          "US_delay_timer",
          "US_delay_timer",
          "US_delay_timer",
          "US_delay_timer",
          "US_delay_timer",
          "US_delay_timer",
          "US_delay_timer",
          "US_delay_timer",
          "US_delay_timer",
          "US_delay_timer",
          "US_delay_timer",
          "US_delay_timer",
          "US_delay_timer",
          "US_delay_timer",
          "US_delay_timer",
          "US_delay_timer",
          "US_delay_timer",
          "US_delay_timer",
          "US_delay_timer",
          "US_delay_timer",
          "US_delay_timer",
          "US_delay_timer",
          "US_delay_timer",
          "US_delay_timer",
          "US_delay_timer",
          "US_delay_timer",
          "US_delay_timer",
          "US_delay_timer",
          "US_delay_timer",
          "US_delay_timer",
          "US_delay_timer",
          "US_delay_timer",
          "US_delay_timer",
          "US_delay_timer",
          "US_delay_timer",
          "US_delay_timer",
          "US_delay_timer",
          "US_delay_timer",
          "US_delay_timer",
          "US_delay_timer"
         ]
        },
        {
         "marker": {
          "symbol": "triangle-down"
         },
         "mode": "markers",
         "name": "CS_offset_timer",
         "type": "scatter",
         "x": [
          2,
          21.437,
          22.039,
          22.54,
          149.203,
          160.566,
          160.94,
          161.265,
          169.271,
          169.359,
          169.734,
          170.034,
          170.219,
          170.406,
          174.997,
          175.104,
          180.072,
          180.133,
          180.258,
          184.207,
          191.068,
          191.765,
          191.872,
          192.052,
          193.145,
          193.203,
          193.516,
          196.137,
          196.208,
          196.674,
          197.306,
          198.778,
          199.869,
          203.231,
          224.192,
          224.533,
          269.105,
          269.249,
          271.424,
          271.541,
          273.983,
          274.361,
          274.557,
          290.288,
          291.032,
          294.447,
          295.184,
          295.297,
          300.289,
          300.644,
          302.713,
          315.074,
          317.804,
          362.82,
          362.862,
          363.757,
          363.921,
          367.588,
          373.806,
          374.114,
          374.275,
          376.544,
          377.452,
          377.538,
          385.553,
          441.988,
          442.326,
          442.471,
          442.614,
          442.977,
          443.097,
          446.798,
          447.432,
          452.754,
          452.879,
          454.859,
          454.995,
          456.282,
          456.413,
          458.727,
          476.277,
          490.115,
          491.246,
          500.491,
          500.596,
          508.677,
          509.573,
          509.952,
          514.327,
          514.808,
          515.201,
          530.207,
          530.243,
          530.574,
          530.909,
          535.283,
          535.782,
          536.451,
          537.206,
          537.359,
          548.066,
          549.112,
          575.921,
          576.315,
          579.419,
          580.154,
          607.839,
          607.927,
          608.44,
          608.508,
          611.764,
          613.577,
          613.87,
          614.27,
          615.603,
          615.697,
          616.224,
          621.34,
          621.673
         ],
         "y": [
          "CS_offset_timer",
          "CS_offset_timer",
          "CS_offset_timer",
          "CS_offset_timer",
          "CS_offset_timer",
          "CS_offset_timer",
          "CS_offset_timer",
          "CS_offset_timer",
          "CS_offset_timer",
          "CS_offset_timer",
          "CS_offset_timer",
          "CS_offset_timer",
          "CS_offset_timer",
          "CS_offset_timer",
          "CS_offset_timer",
          "CS_offset_timer",
          "CS_offset_timer",
          "CS_offset_timer",
          "CS_offset_timer",
          "CS_offset_timer",
          "CS_offset_timer",
          "CS_offset_timer",
          "CS_offset_timer",
          "CS_offset_timer",
          "CS_offset_timer",
          "CS_offset_timer",
          "CS_offset_timer",
          "CS_offset_timer",
          "CS_offset_timer",
          "CS_offset_timer",
          "CS_offset_timer",
          "CS_offset_timer",
          "CS_offset_timer",
          "CS_offset_timer",
          "CS_offset_timer",
          "CS_offset_timer",
          "CS_offset_timer",
          "CS_offset_timer",
          "CS_offset_timer",
          "CS_offset_timer",
          "CS_offset_timer",
          "CS_offset_timer",
          "CS_offset_timer",
          "CS_offset_timer",
          "CS_offset_timer",
          "CS_offset_timer",
          "CS_offset_timer",
          "CS_offset_timer",
          "CS_offset_timer",
          "CS_offset_timer",
          "CS_offset_timer",
          "CS_offset_timer",
          "CS_offset_timer",
          "CS_offset_timer",
          "CS_offset_timer",
          "CS_offset_timer",
          "CS_offset_timer",
          "CS_offset_timer",
          "CS_offset_timer",
          "CS_offset_timer",
          "CS_offset_timer",
          "CS_offset_timer",
          "CS_offset_timer",
          "CS_offset_timer",
          "CS_offset_timer",
          "CS_offset_timer",
          "CS_offset_timer",
          "CS_offset_timer",
          "CS_offset_timer",
          "CS_offset_timer",
          "CS_offset_timer",
          "CS_offset_timer",
          "CS_offset_timer",
          "CS_offset_timer",
          "CS_offset_timer",
          "CS_offset_timer",
          "CS_offset_timer",
          "CS_offset_timer",
          "CS_offset_timer",
          "CS_offset_timer",
          "CS_offset_timer",
          "CS_offset_timer",
          "CS_offset_timer",
          "CS_offset_timer",
          "CS_offset_timer",
          "CS_offset_timer",
          "CS_offset_timer",
          "CS_offset_timer",
          "CS_offset_timer",
          "CS_offset_timer",
          "CS_offset_timer",
          "CS_offset_timer",
          "CS_offset_timer",
          "CS_offset_timer",
          "CS_offset_timer",
          "CS_offset_timer",
          "CS_offset_timer",
          "CS_offset_timer",
          "CS_offset_timer",
          "CS_offset_timer",
          "CS_offset_timer",
          "CS_offset_timer",
          "CS_offset_timer",
          "CS_offset_timer",
          "CS_offset_timer",
          "CS_offset_timer",
          "CS_offset_timer",
          "CS_offset_timer",
          "CS_offset_timer",
          "CS_offset_timer",
          "CS_offset_timer",
          "CS_offset_timer",
          "CS_offset_timer",
          "CS_offset_timer",
          "CS_offset_timer",
          "CS_offset_timer",
          "CS_offset_timer",
          "CS_offset_timer",
          "CS_offset_timer"
         ]
        },
        {
         "line": {
          "width": 5
         },
         "mode": "lines",
         "name": "waiting_for_spout",
         "type": "scatter",
         "x": [
          1.886,
          21.136,
          null,
          23.138,
          148.903,
          null,
          150.905,
          160.266,
          null,
          162.268,
          168.971,
          null,
          172.171,
          174.696,
          null,
          176.699,
          179.771,
          null,
          181.778,
          183.907,
          null,
          185.909,
          190.767,
          null,
          192.769,
          192.845,
          null,
          194.847,
          195.836,
          null,
          197.839,
          198.478,
          null,
          200.48,
          202.93,
          null,
          204.932,
          223.892,
          null,
          225.894,
          268.805,
          null,
          270.807,
          271.124,
          null,
          273.126,
          273.683,
          null,
          275.685,
          289.987,
          null,
          291.99,
          294.147,
          null,
          296.149,
          299.988,
          null,
          301.99,
          302.413,
          null,
          304.415,
          314.774,
          null,
          316.776,
          317.504,
          null,
          319.506,
          362.519,
          null,
          364.522,
          367.287,
          null,
          369.29,
          373.505,
          null,
          375.508,
          376.244,
          null,
          378.246,
          385.253,
          null,
          387.255,
          441.687,
          null,
          444.785,
          446.497,
          null,
          448.499,
          452.453,
          null,
          454.455,
          454.559,
          null,
          456.561,
          458.427,
          null,
          460.429,
          475.977,
          null,
          477.979,
          489.815,
          null,
          491.817,
          500.191,
          null,
          502.193,
          508.377,
          null,
          510.379,
          514.026,
          null,
          516.029,
          529.907,
          null,
          531.909,
          534.983,
          null,
          536.985,
          537.058,
          null,
          539.06,
          547.765,
          null,
          549.768,
          575.62,
          null,
          577.622,
          579.118,
          null,
          581.12,
          607.538,
          null,
          609.541,
          611.464,
          null,
          613.466,
          613.569,
          null,
          615.571,
          615.924,
          null,
          617.926,
          621.039,
          null
         ],
         "y": [
          "waiting_for_spout",
          "waiting_for_spout",
          "waiting_for_spout",
          "waiting_for_spout",
          "waiting_for_spout",
          "waiting_for_spout",
          "waiting_for_spout",
          "waiting_for_spout",
          "waiting_for_spout",
          "waiting_for_spout",
          "waiting_for_spout",
          "waiting_for_spout",
          "waiting_for_spout",
          "waiting_for_spout",
          "waiting_for_spout",
          "waiting_for_spout",
          "waiting_for_spout",
          "waiting_for_spout",
          "waiting_for_spout",
          "waiting_for_spout",
          "waiting_for_spout",
          "waiting_for_spout",
          "waiting_for_spout",
          "waiting_for_spout",
          "waiting_for_spout",
          "waiting_for_spout",
          "waiting_for_spout",
          "waiting_for_spout",
          "waiting_for_spout",
          "waiting_for_spout",
          "waiting_for_spout",
          "waiting_for_spout",
          "waiting_for_spout",
          "waiting_for_spout",
          "waiting_for_spout",
          "waiting_for_spout",
          "waiting_for_spout",
          "waiting_for_spout",
          "waiting_for_spout",
          "waiting_for_spout",
          "waiting_for_spout",
          "waiting_for_spout",
          "waiting_for_spout",
          "waiting_for_spout",
          "waiting_for_spout",
          "waiting_for_spout",
          "waiting_for_spout",
          "waiting_for_spout",
          "waiting_for_spout",
          "waiting_for_spout",
          "waiting_for_spout",
          "waiting_for_spout",
          "waiting_for_spout",
          "waiting_for_spout",
          "waiting_for_spout",
          "waiting_for_spout",
          "waiting_for_spout",
          "waiting_for_spout",
          "waiting_for_spout",
          "waiting_for_spout",
          "waiting_for_spout",
          "waiting_for_spout",
          "waiting_for_spout",
          "waiting_for_spout",
          "waiting_for_spout",
          "waiting_for_spout",
          "waiting_for_spout",
          "waiting_for_spout",
          "waiting_for_spout",
          "waiting_for_spout",
          "waiting_for_spout",
          "waiting_for_spout",
          "waiting_for_spout",
          "waiting_for_spout",
          "waiting_for_spout",
          "waiting_for_spout",
          "waiting_for_spout",
          "waiting_for_spout",
          "waiting_for_spout",
          "waiting_for_spout",
          "waiting_for_spout",
          "waiting_for_spout",
          "waiting_for_spout",
          "waiting_for_spout",
          "waiting_for_spout",
          "waiting_for_spout",
          "waiting_for_spout",
          "waiting_for_spout",
          "waiting_for_spout",
          "waiting_for_spout",
          "waiting_for_spout",
          "waiting_for_spout",
          "waiting_for_spout",
          "waiting_for_spout",
          "waiting_for_spout",
          "waiting_for_spout",
          "waiting_for_spout",
          "waiting_for_spout",
          "waiting_for_spout",
          "waiting_for_spout",
          "waiting_for_spout",
          "waiting_for_spout",
          "waiting_for_spout",
          "waiting_for_spout",
          "waiting_for_spout",
          "waiting_for_spout",
          "waiting_for_spout",
          "waiting_for_spout",
          "waiting_for_spout",
          "waiting_for_spout",
          "waiting_for_spout",
          "waiting_for_spout",
          "waiting_for_spout",
          "waiting_for_spout",
          "waiting_for_spout",
          "waiting_for_spout",
          "waiting_for_spout",
          "waiting_for_spout",
          "waiting_for_spout",
          "waiting_for_spout",
          "waiting_for_spout",
          "waiting_for_spout",
          "waiting_for_spout",
          "waiting_for_spout",
          "waiting_for_spout",
          "waiting_for_spout",
          "waiting_for_spout",
          "waiting_for_spout",
          "waiting_for_spout",
          "waiting_for_spout",
          "waiting_for_spout",
          "waiting_for_spout",
          "waiting_for_spout",
          "waiting_for_spout",
          "waiting_for_spout",
          "waiting_for_spout",
          "waiting_for_spout",
          "waiting_for_spout",
          "waiting_for_spout",
          "waiting_for_spout",
          "waiting_for_spout",
          "waiting_for_spout",
          "waiting_for_spout",
          "waiting_for_spout"
         ]
        },
        {
         "line": {
          "width": 5
         },
         "mode": "lines",
         "name": "busy_win",
         "type": "scatter",
         "x": [
          168.971,
          170.973,
          null,
          441.687,
          443.689,
          null
         ],
         "y": [
          "busy_win",
          "busy_win",
          "busy_win",
          "busy_win",
          "busy_win",
          "busy_win"
         ]
        },
        {
         "line": {
          "width": 5
         },
         "mode": "lines",
         "name": "short_break",
         "type": "scatter",
         "x": [
          0,
          1.886,
          null,
          170.973,
          172.171,
          null,
          443.689,
          444.785,
          null
         ],
         "y": [
          "short_break",
          "short_break",
          "short_break",
          "short_break",
          "short_break",
          "short_break",
          "short_break",
          "short_break",
          "short_break"
         ]
        }
       ],
       "layout": {
        "template": {
         "data": {
          "bar": [
           {
            "error_x": {
             "color": "#2a3f5f"
            },
            "error_y": {
             "color": "#2a3f5f"
            },
            "marker": {
             "line": {
              "color": "#E5ECF6",
              "width": 0.5
             },
             "pattern": {
              "fillmode": "overlay",
              "size": 10,
              "solidity": 0.2
             }
            },
            "type": "bar"
           }
          ],
          "barpolar": [
           {
            "marker": {
             "line": {
              "color": "#E5ECF6",
              "width": 0.5
             },
             "pattern": {
              "fillmode": "overlay",
              "size": 10,
              "solidity": 0.2
             }
            },
            "type": "barpolar"
           }
          ],
          "carpet": [
           {
            "aaxis": {
             "endlinecolor": "#2a3f5f",
             "gridcolor": "white",
             "linecolor": "white",
             "minorgridcolor": "white",
             "startlinecolor": "#2a3f5f"
            },
            "baxis": {
             "endlinecolor": "#2a3f5f",
             "gridcolor": "white",
             "linecolor": "white",
             "minorgridcolor": "white",
             "startlinecolor": "#2a3f5f"
            },
            "type": "carpet"
           }
          ],
          "choropleth": [
           {
            "colorbar": {
             "outlinewidth": 0,
             "ticks": ""
            },
            "type": "choropleth"
           }
          ],
          "contour": [
           {
            "colorbar": {
             "outlinewidth": 0,
             "ticks": ""
            },
            "colorscale": [
             [
              0,
              "#0d0887"
             ],
             [
              0.1111111111111111,
              "#46039f"
             ],
             [
              0.2222222222222222,
              "#7201a8"
             ],
             [
              0.3333333333333333,
              "#9c179e"
             ],
             [
              0.4444444444444444,
              "#bd3786"
             ],
             [
              0.5555555555555556,
              "#d8576b"
             ],
             [
              0.6666666666666666,
              "#ed7953"
             ],
             [
              0.7777777777777778,
              "#fb9f3a"
             ],
             [
              0.8888888888888888,
              "#fdca26"
             ],
             [
              1,
              "#f0f921"
             ]
            ],
            "type": "contour"
           }
          ],
          "contourcarpet": [
           {
            "colorbar": {
             "outlinewidth": 0,
             "ticks": ""
            },
            "type": "contourcarpet"
           }
          ],
          "heatmap": [
           {
            "colorbar": {
             "outlinewidth": 0,
             "ticks": ""
            },
            "colorscale": [
             [
              0,
              "#0d0887"
             ],
             [
              0.1111111111111111,
              "#46039f"
             ],
             [
              0.2222222222222222,
              "#7201a8"
             ],
             [
              0.3333333333333333,
              "#9c179e"
             ],
             [
              0.4444444444444444,
              "#bd3786"
             ],
             [
              0.5555555555555556,
              "#d8576b"
             ],
             [
              0.6666666666666666,
              "#ed7953"
             ],
             [
              0.7777777777777778,
              "#fb9f3a"
             ],
             [
              0.8888888888888888,
              "#fdca26"
             ],
             [
              1,
              "#f0f921"
             ]
            ],
            "type": "heatmap"
           }
          ],
          "heatmapgl": [
           {
            "colorbar": {
             "outlinewidth": 0,
             "ticks": ""
            },
            "colorscale": [
             [
              0,
              "#0d0887"
             ],
             [
              0.1111111111111111,
              "#46039f"
             ],
             [
              0.2222222222222222,
              "#7201a8"
             ],
             [
              0.3333333333333333,
              "#9c179e"
             ],
             [
              0.4444444444444444,
              "#bd3786"
             ],
             [
              0.5555555555555556,
              "#d8576b"
             ],
             [
              0.6666666666666666,
              "#ed7953"
             ],
             [
              0.7777777777777778,
              "#fb9f3a"
             ],
             [
              0.8888888888888888,
              "#fdca26"
             ],
             [
              1,
              "#f0f921"
             ]
            ],
            "type": "heatmapgl"
           }
          ],
          "histogram": [
           {
            "marker": {
             "pattern": {
              "fillmode": "overlay",
              "size": 10,
              "solidity": 0.2
             }
            },
            "type": "histogram"
           }
          ],
          "histogram2d": [
           {
            "colorbar": {
             "outlinewidth": 0,
             "ticks": ""
            },
            "colorscale": [
             [
              0,
              "#0d0887"
             ],
             [
              0.1111111111111111,
              "#46039f"
             ],
             [
              0.2222222222222222,
              "#7201a8"
             ],
             [
              0.3333333333333333,
              "#9c179e"
             ],
             [
              0.4444444444444444,
              "#bd3786"
             ],
             [
              0.5555555555555556,
              "#d8576b"
             ],
             [
              0.6666666666666666,
              "#ed7953"
             ],
             [
              0.7777777777777778,
              "#fb9f3a"
             ],
             [
              0.8888888888888888,
              "#fdca26"
             ],
             [
              1,
              "#f0f921"
             ]
            ],
            "type": "histogram2d"
           }
          ],
          "histogram2dcontour": [
           {
            "colorbar": {
             "outlinewidth": 0,
             "ticks": ""
            },
            "colorscale": [
             [
              0,
              "#0d0887"
             ],
             [
              0.1111111111111111,
              "#46039f"
             ],
             [
              0.2222222222222222,
              "#7201a8"
             ],
             [
              0.3333333333333333,
              "#9c179e"
             ],
             [
              0.4444444444444444,
              "#bd3786"
             ],
             [
              0.5555555555555556,
              "#d8576b"
             ],
             [
              0.6666666666666666,
              "#ed7953"
             ],
             [
              0.7777777777777778,
              "#fb9f3a"
             ],
             [
              0.8888888888888888,
              "#fdca26"
             ],
             [
              1,
              "#f0f921"
             ]
            ],
            "type": "histogram2dcontour"
           }
          ],
          "mesh3d": [
           {
            "colorbar": {
             "outlinewidth": 0,
             "ticks": ""
            },
            "type": "mesh3d"
           }
          ],
          "parcoords": [
           {
            "line": {
             "colorbar": {
              "outlinewidth": 0,
              "ticks": ""
             }
            },
            "type": "parcoords"
           }
          ],
          "pie": [
           {
            "automargin": true,
            "type": "pie"
           }
          ],
          "scatter": [
           {
            "fillpattern": {
             "fillmode": "overlay",
             "size": 10,
             "solidity": 0.2
            },
            "type": "scatter"
           }
          ],
          "scatter3d": [
           {
            "line": {
             "colorbar": {
              "outlinewidth": 0,
              "ticks": ""
             }
            },
            "marker": {
             "colorbar": {
              "outlinewidth": 0,
              "ticks": ""
             }
            },
            "type": "scatter3d"
           }
          ],
          "scattercarpet": [
           {
            "marker": {
             "colorbar": {
              "outlinewidth": 0,
              "ticks": ""
             }
            },
            "type": "scattercarpet"
           }
          ],
          "scattergeo": [
           {
            "marker": {
             "colorbar": {
              "outlinewidth": 0,
              "ticks": ""
             }
            },
            "type": "scattergeo"
           }
          ],
          "scattergl": [
           {
            "marker": {
             "colorbar": {
              "outlinewidth": 0,
              "ticks": ""
             }
            },
            "type": "scattergl"
           }
          ],
          "scattermapbox": [
           {
            "marker": {
             "colorbar": {
              "outlinewidth": 0,
              "ticks": ""
             }
            },
            "type": "scattermapbox"
           }
          ],
          "scatterpolar": [
           {
            "marker": {
             "colorbar": {
              "outlinewidth": 0,
              "ticks": ""
             }
            },
            "type": "scatterpolar"
           }
          ],
          "scatterpolargl": [
           {
            "marker": {
             "colorbar": {
              "outlinewidth": 0,
              "ticks": ""
             }
            },
            "type": "scatterpolargl"
           }
          ],
          "scatterternary": [
           {
            "marker": {
             "colorbar": {
              "outlinewidth": 0,
              "ticks": ""
             }
            },
            "type": "scatterternary"
           }
          ],
          "surface": [
           {
            "colorbar": {
             "outlinewidth": 0,
             "ticks": ""
            },
            "colorscale": [
             [
              0,
              "#0d0887"
             ],
             [
              0.1111111111111111,
              "#46039f"
             ],
             [
              0.2222222222222222,
              "#7201a8"
             ],
             [
              0.3333333333333333,
              "#9c179e"
             ],
             [
              0.4444444444444444,
              "#bd3786"
             ],
             [
              0.5555555555555556,
              "#d8576b"
             ],
             [
              0.6666666666666666,
              "#ed7953"
             ],
             [
              0.7777777777777778,
              "#fb9f3a"
             ],
             [
              0.8888888888888888,
              "#fdca26"
             ],
             [
              1,
              "#f0f921"
             ]
            ],
            "type": "surface"
           }
          ],
          "table": [
           {
            "cells": {
             "fill": {
              "color": "#EBF0F8"
             },
             "line": {
              "color": "white"
             }
            },
            "header": {
             "fill": {
              "color": "#C8D4E3"
             },
             "line": {
              "color": "white"
             }
            },
            "type": "table"
           }
          ]
         },
         "layout": {
          "annotationdefaults": {
           "arrowcolor": "#2a3f5f",
           "arrowhead": 0,
           "arrowwidth": 1
          },
          "autotypenumbers": "strict",
          "coloraxis": {
           "colorbar": {
            "outlinewidth": 0,
            "ticks": ""
           }
          },
          "colorscale": {
           "diverging": [
            [
             0,
             "#8e0152"
            ],
            [
             0.1,
             "#c51b7d"
            ],
            [
             0.2,
             "#de77ae"
            ],
            [
             0.3,
             "#f1b6da"
            ],
            [
             0.4,
             "#fde0ef"
            ],
            [
             0.5,
             "#f7f7f7"
            ],
            [
             0.6,
             "#e6f5d0"
            ],
            [
             0.7,
             "#b8e186"
            ],
            [
             0.8,
             "#7fbc41"
            ],
            [
             0.9,
             "#4d9221"
            ],
            [
             1,
             "#276419"
            ]
           ],
           "sequential": [
            [
             0,
             "#0d0887"
            ],
            [
             0.1111111111111111,
             "#46039f"
            ],
            [
             0.2222222222222222,
             "#7201a8"
            ],
            [
             0.3333333333333333,
             "#9c179e"
            ],
            [
             0.4444444444444444,
             "#bd3786"
            ],
            [
             0.5555555555555556,
             "#d8576b"
            ],
            [
             0.6666666666666666,
             "#ed7953"
            ],
            [
             0.7777777777777778,
             "#fb9f3a"
            ],
            [
             0.8888888888888888,
             "#fdca26"
            ],
            [
             1,
             "#f0f921"
            ]
           ],
           "sequentialminus": [
            [
             0,
             "#0d0887"
            ],
            [
             0.1111111111111111,
             "#46039f"
            ],
            [
             0.2222222222222222,
             "#7201a8"
            ],
            [
             0.3333333333333333,
             "#9c179e"
            ],
            [
             0.4444444444444444,
             "#bd3786"
            ],
            [
             0.5555555555555556,
             "#d8576b"
            ],
            [
             0.6666666666666666,
             "#ed7953"
            ],
            [
             0.7777777777777778,
             "#fb9f3a"
            ],
            [
             0.8888888888888888,
             "#fdca26"
            ],
            [
             1,
             "#f0f921"
            ]
           ]
          },
          "colorway": [
           "#636efa",
           "#EF553B",
           "#00cc96",
           "#ab63fa",
           "#FFA15A",
           "#19d3f3",
           "#FF6692",
           "#B6E880",
           "#FF97FF",
           "#FECB52"
          ],
          "font": {
           "color": "#2a3f5f"
          },
          "geo": {
           "bgcolor": "white",
           "lakecolor": "white",
           "landcolor": "#E5ECF6",
           "showlakes": true,
           "showland": true,
           "subunitcolor": "white"
          },
          "hoverlabel": {
           "align": "left"
          },
          "hovermode": "closest",
          "mapbox": {
           "style": "light"
          },
          "paper_bgcolor": "white",
          "plot_bgcolor": "#E5ECF6",
          "polar": {
           "angularaxis": {
            "gridcolor": "white",
            "linecolor": "white",
            "ticks": ""
           },
           "bgcolor": "#E5ECF6",
           "radialaxis": {
            "gridcolor": "white",
            "linecolor": "white",
            "ticks": ""
           }
          },
          "scene": {
           "xaxis": {
            "backgroundcolor": "#E5ECF6",
            "gridcolor": "white",
            "gridwidth": 2,
            "linecolor": "white",
            "showbackground": true,
            "ticks": "",
            "zerolinecolor": "white"
           },
           "yaxis": {
            "backgroundcolor": "#E5ECF6",
            "gridcolor": "white",
            "gridwidth": 2,
            "linecolor": "white",
            "showbackground": true,
            "ticks": "",
            "zerolinecolor": "white"
           },
           "zaxis": {
            "backgroundcolor": "#E5ECF6",
            "gridcolor": "white",
            "gridwidth": 2,
            "linecolor": "white",
            "showbackground": true,
            "ticks": "",
            "zerolinecolor": "white"
           }
          },
          "shapedefaults": {
           "line": {
            "color": "#2a3f5f"
           }
          },
          "ternary": {
           "aaxis": {
            "gridcolor": "white",
            "linecolor": "white",
            "ticks": ""
           },
           "baxis": {
            "gridcolor": "white",
            "linecolor": "white",
            "ticks": ""
           },
           "bgcolor": "#E5ECF6",
           "caxis": {
            "gridcolor": "white",
            "linecolor": "white",
            "ticks": ""
           }
          },
          "title": {
           "x": 0.05
          },
          "xaxis": {
           "automargin": true,
           "gridcolor": "white",
           "linecolor": "white",
           "ticks": "",
           "title": {
            "standoff": 15
           },
           "zerolinecolor": "white",
           "zerolinewidth": 2
          },
          "yaxis": {
           "automargin": true,
           "gridcolor": "white",
           "linecolor": "white",
           "ticks": "",
           "title": {
            "standoff": 15
           },
           "zerolinecolor": "white",
           "zerolinewidth": 2
          }
         }
        },
        "title": {
         "text": "reaching_go_spout_nov22, 316 #2, on 2022-11-23 16:17:57 via COM3"
        },
        "xaxis": {
         "title": {
          "text": "Time (s)"
         }
        },
        "yaxis": {
         "fixedrange": true
        }
       }
      }
     },
     "metadata": {},
     "output_type": "display_data"
    },
    {
     "name": "stdout",
     "output_type": "stream",
     "text": [
      "saved JC316L-2022-11-23-161757_reaching_go_spout_nov22.smrx\n",
      "JC317L-2022-11-23-161757_reaching_go_spout_nov22.smrx\n"
     ]
    },
    {
     "name": "stderr",
     "output_type": "stream",
     "text": [
      "C:\\Users\\phar0528\\AppData\\Local\\Temp\\ipykernel_43892\\4133634569.py:21: FutureWarning:\n",
      "\n",
      "The frame.append method is deprecated and will be removed from pandas in a future version. Use pandas.concat instead.\n",
      "\n"
     ]
    },
    {
     "data": {
      "application/vnd.plotly.v1+json": {
       "config": {
        "plotlyServerURL": "https://plot.ly"
       },
       "data": [
        {
         "marker": {
          "symbol": "square"
         },
         "mode": "markers",
         "name": "button_press",
         "type": "scatter",
         "x": [
          638.751
         ],
         "y": [
          "button_press"
         ]
        },
        {
         "marker": {
          "symbol": "diamond"
         },
         "mode": "markers",
         "name": "bar",
         "type": "scatter",
         "x": [
          22.939,
          31.112,
          31.82,
          34.203,
          34.489,
          34.517,
          34.544,
          34.564,
          34.596,
          35.049,
          41.432,
          41.723,
          42.089,
          43.096,
          43.23,
          47.483,
          48.727,
          52.217,
          53.944,
          53.976,
          54.028,
          54.711,
          58.289,
          58.313,
          58.386,
          58.748,
          58.784,
          59.944,
          59.96,
          63.33,
          63.374,
          63.6,
          63.769,
          65.952,
          66.245,
          66.264,
          70.932,
          70.975,
          75.956,
          76.027,
          76.191,
          76.281,
          78.133,
          78.379,
          78.556,
          78.853,
          78.904,
          79.02,
          83.681,
          83.991,
          87.272,
          87.302,
          87.336,
          87.366,
          87.898,
          89.051,
          89.087,
          89.152,
          89.517,
          89.541,
          89.579,
          95.324,
          95.47,
          108.548,
          119.215,
          120.082,
          120.197,
          120.369,
          135.222,
          135.272,
          139.824,
          140.542,
          140.558,
          140.843,
          141.601,
          141.699,
          141.772,
          141.795,
          141.842,
          142.01,
          142.163,
          142.19,
          142.293,
          142.435,
          142.455,
          142.49,
          142.532,
          142.551,
          142.963,
          143.763,
          144.175,
          145.614,
          152.226,
          160.882,
          179.135,
          179.222,
          179.95,
          179.972,
          180.01,
          182.711,
          188.688,
          194.776,
          194.842,
          196.764,
          211.439,
          211.498,
          212.225,
          212.805,
          212.873,
          226.532,
          230.259,
          230.385,
          243.602,
          243.658,
          256.884,
          256.9,
          263.487,
          304.862,
          305.073,
          305.289,
          306.107,
          306.384,
          306.471,
          307.05,
          307.143,
          317.203,
          317.6,
          318.622,
          354.415,
          361.392,
          371.609,
          371.69,
          371.905,
          371.921,
          371.988,
          373.758,
          382.018,
          382.035,
          382.569,
          382.841,
          383.305,
          387.833,
          417.225,
          418.759,
          424.401,
          432.456,
          433.829,
          443.183,
          443.966,
          444.592,
          452.925,
          453.875,
          489.226,
          489.4,
          489.853,
          489.9,
          491.192,
          531.152,
          531.828,
          532.683,
          598.732,
          615.043,
          615.346,
          649.004,
          650.203,
          650.3,
          653.038
         ],
         "y": [
          "bar",
          "bar",
          "bar",
          "bar",
          "bar",
          "bar",
          "bar",
          "bar",
          "bar",
          "bar",
          "bar",
          "bar",
          "bar",
          "bar",
          "bar",
          "bar",
          "bar",
          "bar",
          "bar",
          "bar",
          "bar",
          "bar",
          "bar",
          "bar",
          "bar",
          "bar",
          "bar",
          "bar",
          "bar",
          "bar",
          "bar",
          "bar",
          "bar",
          "bar",
          "bar",
          "bar",
          "bar",
          "bar",
          "bar",
          "bar",
          "bar",
          "bar",
          "bar",
          "bar",
          "bar",
          "bar",
          "bar",
          "bar",
          "bar",
          "bar",
          "bar",
          "bar",
          "bar",
          "bar",
          "bar",
          "bar",
          "bar",
          "bar",
          "bar",
          "bar",
          "bar",
          "bar",
          "bar",
          "bar",
          "bar",
          "bar",
          "bar",
          "bar",
          "bar",
          "bar",
          "bar",
          "bar",
          "bar",
          "bar",
          "bar",
          "bar",
          "bar",
          "bar",
          "bar",
          "bar",
          "bar",
          "bar",
          "bar",
          "bar",
          "bar",
          "bar",
          "bar",
          "bar",
          "bar",
          "bar",
          "bar",
          "bar",
          "bar",
          "bar",
          "bar",
          "bar",
          "bar",
          "bar",
          "bar",
          "bar",
          "bar",
          "bar",
          "bar",
          "bar",
          "bar",
          "bar",
          "bar",
          "bar",
          "bar",
          "bar",
          "bar",
          "bar",
          "bar",
          "bar",
          "bar",
          "bar",
          "bar",
          "bar",
          "bar",
          "bar",
          "bar",
          "bar",
          "bar",
          "bar",
          "bar",
          "bar",
          "bar",
          "bar",
          "bar",
          "bar",
          "bar",
          "bar",
          "bar",
          "bar",
          "bar",
          "bar",
          "bar",
          "bar",
          "bar",
          "bar",
          "bar",
          "bar",
          "bar",
          "bar",
          "bar",
          "bar",
          "bar",
          "bar",
          "bar",
          "bar",
          "bar",
          "bar",
          "bar",
          "bar",
          "bar",
          "bar",
          "bar",
          "bar",
          "bar",
          "bar",
          "bar",
          "bar",
          "bar",
          "bar",
          "bar",
          "bar",
          "bar"
         ]
        },
        {
         "marker": {
          "symbol": "cross"
         },
         "mode": "markers",
         "name": "bar_off",
         "type": "scatter",
         "x": [
          22.954,
          31.294,
          34.187,
          34.218,
          34.504,
          34.532,
          34.559,
          34.579,
          34.934,
          35.456,
          41.708,
          42.062,
          43.079,
          43.111,
          45.314,
          48.646,
          52.114,
          53.928,
          53.96,
          53.991,
          54.454,
          58.274,
          58.297,
          58.367,
          58.718,
          58.763,
          59.925,
          59.959,
          63.311,
          63.346,
          63.574,
          63.74,
          65.937,
          66.23,
          66.249,
          70.901,
          70.947,
          75.917,
          75.971,
          76.157,
          76.245,
          78.082,
          78.306,
          78.539,
          78.837,
          78.889,
          79.005,
          83.653,
          83.976,
          87.247,
          87.287,
          87.317,
          87.351,
          87.883,
          89.018,
          89.066,
          89.137,
          89.502,
          89.524,
          89.564,
          95.29,
          95.443,
          108.519,
          119.192,
          120.059,
          120.171,
          120.344,
          135.172,
          135.238,
          139.809,
          140.527,
          140.543,
          140.78,
          141.586,
          141.602,
          141.749,
          141.787,
          141.811,
          141.971,
          142.129,
          142.178,
          142.225,
          142.31,
          142.45,
          142.475,
          142.507,
          142.547,
          142.918,
          143.727,
          143.872,
          144.216,
          151.889,
          160.867,
          179.12,
          179.207,
          179.935,
          179.957,
          179.99,
          180.3,
          188.673,
          192.655,
          194.827,
          195.001,
          207.637,
          211.482,
          212.21,
          212.789,
          212.833,
          226.516,
          229.896,
          230.368,
          241.572,
          243.618,
          243.902,
          256.899,
          263.462,
          304.847,
          305.057,
          305.274,
          306.092,
          306.368,
          306.449,
          307.034,
          307.128,
          317.187,
          317.585,
          318.312,
          354.4,
          360.827,
          371.089,
          371.674,
          371.89,
          371.906,
          371.954,
          372.801,
          381.593,
          382.033,
          382.236,
          382.809,
          383.288,
          387.776,
          387.937,
          417.875,
          418.952,
          424.819,
          433.813,
          443.168,
          443.46,
          444.572,
          452.891,
          453.772,
          489.208,
          489.329,
          489.814,
          489.868,
          491.152,
          530.946,
          531.74,
          532.663,
          598.716,
          614.896,
          615.33,
          639.434,
          649.642,
          650.218,
          653.023,
          656.215
         ],
         "y": [
          "bar_off",
          "bar_off",
          "bar_off",
          "bar_off",
          "bar_off",
          "bar_off",
          "bar_off",
          "bar_off",
          "bar_off",
          "bar_off",
          "bar_off",
          "bar_off",
          "bar_off",
          "bar_off",
          "bar_off",
          "bar_off",
          "bar_off",
          "bar_off",
          "bar_off",
          "bar_off",
          "bar_off",
          "bar_off",
          "bar_off",
          "bar_off",
          "bar_off",
          "bar_off",
          "bar_off",
          "bar_off",
          "bar_off",
          "bar_off",
          "bar_off",
          "bar_off",
          "bar_off",
          "bar_off",
          "bar_off",
          "bar_off",
          "bar_off",
          "bar_off",
          "bar_off",
          "bar_off",
          "bar_off",
          "bar_off",
          "bar_off",
          "bar_off",
          "bar_off",
          "bar_off",
          "bar_off",
          "bar_off",
          "bar_off",
          "bar_off",
          "bar_off",
          "bar_off",
          "bar_off",
          "bar_off",
          "bar_off",
          "bar_off",
          "bar_off",
          "bar_off",
          "bar_off",
          "bar_off",
          "bar_off",
          "bar_off",
          "bar_off",
          "bar_off",
          "bar_off",
          "bar_off",
          "bar_off",
          "bar_off",
          "bar_off",
          "bar_off",
          "bar_off",
          "bar_off",
          "bar_off",
          "bar_off",
          "bar_off",
          "bar_off",
          "bar_off",
          "bar_off",
          "bar_off",
          "bar_off",
          "bar_off",
          "bar_off",
          "bar_off",
          "bar_off",
          "bar_off",
          "bar_off",
          "bar_off",
          "bar_off",
          "bar_off",
          "bar_off",
          "bar_off",
          "bar_off",
          "bar_off",
          "bar_off",
          "bar_off",
          "bar_off",
          "bar_off",
          "bar_off",
          "bar_off",
          "bar_off",
          "bar_off",
          "bar_off",
          "bar_off",
          "bar_off",
          "bar_off",
          "bar_off",
          "bar_off",
          "bar_off",
          "bar_off",
          "bar_off",
          "bar_off",
          "bar_off",
          "bar_off",
          "bar_off",
          "bar_off",
          "bar_off",
          "bar_off",
          "bar_off",
          "bar_off",
          "bar_off",
          "bar_off",
          "bar_off",
          "bar_off",
          "bar_off",
          "bar_off",
          "bar_off",
          "bar_off",
          "bar_off",
          "bar_off",
          "bar_off",
          "bar_off",
          "bar_off",
          "bar_off",
          "bar_off",
          "bar_off",
          "bar_off",
          "bar_off",
          "bar_off",
          "bar_off",
          "bar_off",
          "bar_off",
          "bar_off",
          "bar_off",
          "bar_off",
          "bar_off",
          "bar_off",
          "bar_off",
          "bar_off",
          "bar_off",
          "bar_off",
          "bar_off",
          "bar_off",
          "bar_off",
          "bar_off",
          "bar_off",
          "bar_off",
          "bar_off",
          "bar_off",
          "bar_off",
          "bar_off",
          "bar_off",
          "bar_off",
          "bar_off",
          "bar_off",
          "bar_off",
          "bar_off",
          "bar_off"
         ]
        },
        {
         "marker": {
          "symbol": "x"
         },
         "mode": "markers",
         "name": "spout",
         "type": "scatter",
         "x": [
          35.3,
          35.518,
          35.554,
          35.719,
          35.92,
          35.974,
          37.701,
          37.957,
          39.184,
          39.438,
          41.204,
          41.459,
          45.425,
          45.581,
          45.681,
          45.806,
          144.369,
          144.624,
          144.681,
          180.405,
          180.62,
          180.66,
          180.755,
          181.152,
          181.406,
          192.764,
          192.797,
          192.971,
          193.057,
          193.099,
          193.355,
          193.602,
          193.802,
          193.857,
          195.273,
          195.477,
          195.529,
          207.734,
          207.934,
          208.071,
          209.501,
          209.533,
          209.65,
          209.748,
          209.906,
          241.715,
          241.891,
          241.912,
          241.931,
          241.963,
          242.007,
          242.151,
          242.208,
          244.016,
          244.138,
          244.23,
          244.264,
          244.385,
          244.422,
          244.474,
          244.722,
          247.157,
          247.293,
          247.314,
          247.371,
          247.405,
          247.441,
          247.48,
          247.571,
          247.598,
          247.728,
          249.753,
          249.898,
          250.112,
          250.16,
          250.176,
          250.194,
          250.212,
          250.394,
          250.412,
          250.469,
          254.662,
          254.779,
          254.876,
          254.91,
          255.028,
          372.841,
          372.939,
          372.993,
          373.186,
          373.243,
          373.267,
          373.446,
          373.647,
          381.802,
          382.345,
          382.546,
          388.187,
          388.205,
          388.39,
          388.531,
          388.778,
          389.235,
          389.436,
          389.731,
          389.977,
          393.064,
          393.242,
          393.283,
          393.405,
          395.32,
          395.522,
          395.649,
          398.26,
          398.309,
          398.431,
          398.474,
          398.508,
          398.551,
          398.573,
          402.328,
          402.453,
          402.542,
          402.567,
          402.684,
          402.83,
          403.077,
          405.098,
          405.122,
          405.211,
          405.229,
          405.322,
          405.354,
          405.483,
          410.051,
          410.156,
          410.281,
          410.404,
          410.42,
          412.802,
          412.973,
          413.05,
          413.153,
          413.4,
          418.006,
          418.045,
          418.245,
          418.265,
          418.464,
          418.665,
          419.044,
          419.167,
          419.308,
          419.368,
          424.967,
          425.097,
          425.214,
          425.358,
          638.775,
          638.976,
          640.029,
          640.156,
          640.276,
          640.341,
          640.519,
          640.538,
          640.607,
          640.72,
          640.739,
          640.795,
          640.943,
          645.125,
          645.504,
          645.705,
          645.801,
          647.849,
          648.028,
          648.201,
          648.449,
          648.581,
          648.602,
          648.86,
          649.737,
          649.95,
          649.985,
          656.453,
          656.504,
          656.527,
          656.623,
          656.756,
          656.872,
          659.931,
          660.091,
          660.178,
          660.27,
          660.517,
          663.905,
          663.947,
          664.028,
          664.172,
          664.245,
          664.277,
          666.573,
          666.821
         ],
         "y": [
          "spout",
          "spout",
          "spout",
          "spout",
          "spout",
          "spout",
          "spout",
          "spout",
          "spout",
          "spout",
          "spout",
          "spout",
          "spout",
          "spout",
          "spout",
          "spout",
          "spout",
          "spout",
          "spout",
          "spout",
          "spout",
          "spout",
          "spout",
          "spout",
          "spout",
          "spout",
          "spout",
          "spout",
          "spout",
          "spout",
          "spout",
          "spout",
          "spout",
          "spout",
          "spout",
          "spout",
          "spout",
          "spout",
          "spout",
          "spout",
          "spout",
          "spout",
          "spout",
          "spout",
          "spout",
          "spout",
          "spout",
          "spout",
          "spout",
          "spout",
          "spout",
          "spout",
          "spout",
          "spout",
          "spout",
          "spout",
          "spout",
          "spout",
          "spout",
          "spout",
          "spout",
          "spout",
          "spout",
          "spout",
          "spout",
          "spout",
          "spout",
          "spout",
          "spout",
          "spout",
          "spout",
          "spout",
          "spout",
          "spout",
          "spout",
          "spout",
          "spout",
          "spout",
          "spout",
          "spout",
          "spout",
          "spout",
          "spout",
          "spout",
          "spout",
          "spout",
          "spout",
          "spout",
          "spout",
          "spout",
          "spout",
          "spout",
          "spout",
          "spout",
          "spout",
          "spout",
          "spout",
          "spout",
          "spout",
          "spout",
          "spout",
          "spout",
          "spout",
          "spout",
          "spout",
          "spout",
          "spout",
          "spout",
          "spout",
          "spout",
          "spout",
          "spout",
          "spout",
          "spout",
          "spout",
          "spout",
          "spout",
          "spout",
          "spout",
          "spout",
          "spout",
          "spout",
          "spout",
          "spout",
          "spout",
          "spout",
          "spout",
          "spout",
          "spout",
          "spout",
          "spout",
          "spout",
          "spout",
          "spout",
          "spout",
          "spout",
          "spout",
          "spout",
          "spout",
          "spout",
          "spout",
          "spout",
          "spout",
          "spout",
          "spout",
          "spout",
          "spout",
          "spout",
          "spout",
          "spout",
          "spout",
          "spout",
          "spout",
          "spout",
          "spout",
          "spout",
          "spout",
          "spout",
          "spout",
          "spout",
          "spout",
          "spout",
          "spout",
          "spout",
          "spout",
          "spout",
          "spout",
          "spout",
          "spout",
          "spout",
          "spout",
          "spout",
          "spout",
          "spout",
          "spout",
          "spout",
          "spout",
          "spout",
          "spout",
          "spout",
          "spout",
          "spout",
          "spout",
          "spout",
          "spout",
          "spout",
          "spout",
          "spout",
          "spout",
          "spout",
          "spout",
          "spout",
          "spout",
          "spout",
          "spout",
          "spout",
          "spout",
          "spout",
          "spout",
          "spout",
          "spout",
          "spout",
          "spout",
          "spout"
         ]
        },
        {
         "marker": {
          "symbol": "triangle-up"
         },
         "mode": "markers",
         "name": "US_delay_timer",
         "type": "scatter",
         "x": [
          35.501,
          35.92,
          37.903,
          39.384,
          41.405,
          45.626,
          45.781,
          144.57,
          144.882,
          180.606,
          180.956,
          181.352,
          192.966,
          192.997,
          193.3,
          193.802,
          195.474,
          207.935,
          208.134,
          208.272,
          209.701,
          209.733,
          209.851,
          241.917,
          242.092,
          242.113,
          242.208,
          244.217,
          244.338,
          244.674,
          247.358,
          247.494,
          247.515,
          247.68,
          249.954,
          250.098,
          250.394,
          250.412,
          254.863,
          254.98,
          373.042,
          373.14,
          373.193,
          373.647,
          382.003,
          382.546,
          388.388,
          388.406,
          388.731,
          389.436,
          389.931,
          393.265,
          393.443,
          393.606,
          395.521,
          395.85,
          398.461,
          398.509,
          398.632,
          402.529,
          402.654,
          403.03,
          405.299,
          405.322,
          405.412,
          405.43,
          410.252,
          410.356,
          413.003,
          413.174,
          413.353,
          418.207,
          418.245,
          418.665,
          419.245,
          419.368,
          425.168,
          425.298,
          638.976,
          640.23,
          640.356,
          640.541,
          640.72,
          640.739,
          645.326,
          645.705,
          646.002,
          648.05,
          648.228,
          648.402,
          648.782,
          648.803,
          649.938,
          656.654,
          656.704,
          656.727,
          656.824,
          660.132,
          660.292,
          660.471,
          664.107,
          664.15,
          664.229,
          666.774
         ],
         "y": [
          "US_delay_timer",
          "US_delay_timer",
          "US_delay_timer",
          "US_delay_timer",
          "US_delay_timer",
          "US_delay_timer",
          "US_delay_timer",
          "US_delay_timer",
          "US_delay_timer",
          "US_delay_timer",
          "US_delay_timer",
          "US_delay_timer",
          "US_delay_timer",
          "US_delay_timer",
          "US_delay_timer",
          "US_delay_timer",
          "US_delay_timer",
          "US_delay_timer",
          "US_delay_timer",
          "US_delay_timer",
          "US_delay_timer",
          "US_delay_timer",
          "US_delay_timer",
          "US_delay_timer",
          "US_delay_timer",
          "US_delay_timer",
          "US_delay_timer",
          "US_delay_timer",
          "US_delay_timer",
          "US_delay_timer",
          "US_delay_timer",
          "US_delay_timer",
          "US_delay_timer",
          "US_delay_timer",
          "US_delay_timer",
          "US_delay_timer",
          "US_delay_timer",
          "US_delay_timer",
          "US_delay_timer",
          "US_delay_timer",
          "US_delay_timer",
          "US_delay_timer",
          "US_delay_timer",
          "US_delay_timer",
          "US_delay_timer",
          "US_delay_timer",
          "US_delay_timer",
          "US_delay_timer",
          "US_delay_timer",
          "US_delay_timer",
          "US_delay_timer",
          "US_delay_timer",
          "US_delay_timer",
          "US_delay_timer",
          "US_delay_timer",
          "US_delay_timer",
          "US_delay_timer",
          "US_delay_timer",
          "US_delay_timer",
          "US_delay_timer",
          "US_delay_timer",
          "US_delay_timer",
          "US_delay_timer",
          "US_delay_timer",
          "US_delay_timer",
          "US_delay_timer",
          "US_delay_timer",
          "US_delay_timer",
          "US_delay_timer",
          "US_delay_timer",
          "US_delay_timer",
          "US_delay_timer",
          "US_delay_timer",
          "US_delay_timer",
          "US_delay_timer",
          "US_delay_timer",
          "US_delay_timer",
          "US_delay_timer",
          "US_delay_timer",
          "US_delay_timer",
          "US_delay_timer",
          "US_delay_timer",
          "US_delay_timer",
          "US_delay_timer",
          "US_delay_timer",
          "US_delay_timer",
          "US_delay_timer",
          "US_delay_timer",
          "US_delay_timer",
          "US_delay_timer",
          "US_delay_timer",
          "US_delay_timer",
          "US_delay_timer",
          "US_delay_timer",
          "US_delay_timer",
          "US_delay_timer",
          "US_delay_timer",
          "US_delay_timer",
          "US_delay_timer",
          "US_delay_timer",
          "US_delay_timer",
          "US_delay_timer",
          "US_delay_timer",
          "US_delay_timer"
         ]
        },
        {
         "marker": {
          "symbol": "triangle-down"
         },
         "mode": "markers",
         "name": "CS_offset_timer",
         "type": "scatter",
         "x": [
          2,
          35.601,
          36.02,
          38.002,
          39.484,
          41.505,
          45.726,
          45.881,
          144.67,
          144.982,
          180.706,
          181.056,
          181.452,
          193.065,
          193.097,
          193.4,
          193.902,
          195.574,
          208.035,
          208.234,
          208.372,
          209.801,
          209.833,
          209.951,
          242.016,
          242.192,
          242.213,
          242.308,
          244.317,
          244.438,
          244.774,
          247.458,
          247.594,
          247.615,
          247.78,
          250.054,
          250.198,
          250.494,
          250.512,
          254.963,
          255.08,
          373.142,
          373.24,
          373.293,
          373.747,
          382.103,
          382.646,
          388.488,
          388.506,
          388.831,
          389.536,
          390.031,
          393.365,
          393.543,
          393.706,
          395.621,
          395.949,
          398.561,
          398.609,
          398.732,
          402.629,
          402.754,
          403.13,
          405.399,
          405.422,
          405.512,
          405.53,
          410.352,
          410.456,
          413.103,
          413.274,
          413.453,
          418.307,
          418.345,
          418.765,
          419.344,
          419.468,
          425.268,
          425.397,
          639.076,
          640.33,
          640.456,
          640.641,
          640.82,
          640.839,
          645.426,
          645.805,
          646.102,
          648.15,
          648.328,
          648.502,
          648.882,
          648.903,
          650.038,
          656.754,
          656.804,
          656.827,
          656.924,
          660.232,
          660.392,
          660.571,
          664.206,
          664.247,
          664.329,
          666.874
         ],
         "y": [
          "CS_offset_timer",
          "CS_offset_timer",
          "CS_offset_timer",
          "CS_offset_timer",
          "CS_offset_timer",
          "CS_offset_timer",
          "CS_offset_timer",
          "CS_offset_timer",
          "CS_offset_timer",
          "CS_offset_timer",
          "CS_offset_timer",
          "CS_offset_timer",
          "CS_offset_timer",
          "CS_offset_timer",
          "CS_offset_timer",
          "CS_offset_timer",
          "CS_offset_timer",
          "CS_offset_timer",
          "CS_offset_timer",
          "CS_offset_timer",
          "CS_offset_timer",
          "CS_offset_timer",
          "CS_offset_timer",
          "CS_offset_timer",
          "CS_offset_timer",
          "CS_offset_timer",
          "CS_offset_timer",
          "CS_offset_timer",
          "CS_offset_timer",
          "CS_offset_timer",
          "CS_offset_timer",
          "CS_offset_timer",
          "CS_offset_timer",
          "CS_offset_timer",
          "CS_offset_timer",
          "CS_offset_timer",
          "CS_offset_timer",
          "CS_offset_timer",
          "CS_offset_timer",
          "CS_offset_timer",
          "CS_offset_timer",
          "CS_offset_timer",
          "CS_offset_timer",
          "CS_offset_timer",
          "CS_offset_timer",
          "CS_offset_timer",
          "CS_offset_timer",
          "CS_offset_timer",
          "CS_offset_timer",
          "CS_offset_timer",
          "CS_offset_timer",
          "CS_offset_timer",
          "CS_offset_timer",
          "CS_offset_timer",
          "CS_offset_timer",
          "CS_offset_timer",
          "CS_offset_timer",
          "CS_offset_timer",
          "CS_offset_timer",
          "CS_offset_timer",
          "CS_offset_timer",
          "CS_offset_timer",
          "CS_offset_timer",
          "CS_offset_timer",
          "CS_offset_timer",
          "CS_offset_timer",
          "CS_offset_timer",
          "CS_offset_timer",
          "CS_offset_timer",
          "CS_offset_timer",
          "CS_offset_timer",
          "CS_offset_timer",
          "CS_offset_timer",
          "CS_offset_timer",
          "CS_offset_timer",
          "CS_offset_timer",
          "CS_offset_timer",
          "CS_offset_timer",
          "CS_offset_timer",
          "CS_offset_timer",
          "CS_offset_timer",
          "CS_offset_timer",
          "CS_offset_timer",
          "CS_offset_timer",
          "CS_offset_timer",
          "CS_offset_timer",
          "CS_offset_timer",
          "CS_offset_timer",
          "CS_offset_timer",
          "CS_offset_timer",
          "CS_offset_timer",
          "CS_offset_timer",
          "CS_offset_timer",
          "CS_offset_timer",
          "CS_offset_timer",
          "CS_offset_timer",
          "CS_offset_timer",
          "CS_offset_timer",
          "CS_offset_timer",
          "CS_offset_timer",
          "CS_offset_timer",
          "CS_offset_timer",
          "CS_offset_timer",
          "CS_offset_timer",
          "CS_offset_timer"
         ]
        },
        {
         "line": {
          "width": 5
         },
         "mode": "lines",
         "name": "waiting_for_spout",
         "type": "scatter",
         "x": [
          1.03,
          35.3,
          null,
          37.303,
          37.702,
          null,
          39.703,
          41.205,
          null,
          43.207,
          45.425,
          null,
          47.427,
          144.369,
          null,
          146.372,
          180.405,
          null,
          182.408,
          192.765,
          null,
          194.767,
          195.273,
          null,
          197.276,
          207.735,
          null,
          210.799,
          241.716,
          null,
          243.718,
          244.017,
          null,
          246.019,
          247.158,
          null,
          249.16,
          249.754,
          null,
          251.756,
          254.662,
          null,
          256.664,
          372.842,
          null,
          374.844,
          381.802,
          null,
          383.804,
          388.187,
          null,
          391.966,
          393.065,
          null,
          395.067,
          395.321,
          null,
          397.323,
          398.261,
          null,
          400.263,
          402.328,
          null,
          404.331,
          405.099,
          null,
          407.101,
          410.052,
          null,
          412.054,
          412.802,
          null,
          414.805,
          418.007,
          null,
          421.363,
          424.968,
          null,
          426.97,
          638.776,
          null,
          641.795,
          645.126,
          null,
          647.128,
          647.849,
          null,
          651.418,
          656.454,
          null,
          658.456,
          659.932,
          null,
          661.934,
          663.906,
          null,
          665.908,
          666.573,
          null
         ],
         "y": [
          "waiting_for_spout",
          "waiting_for_spout",
          "waiting_for_spout",
          "waiting_for_spout",
          "waiting_for_spout",
          "waiting_for_spout",
          "waiting_for_spout",
          "waiting_for_spout",
          "waiting_for_spout",
          "waiting_for_spout",
          "waiting_for_spout",
          "waiting_for_spout",
          "waiting_for_spout",
          "waiting_for_spout",
          "waiting_for_spout",
          "waiting_for_spout",
          "waiting_for_spout",
          "waiting_for_spout",
          "waiting_for_spout",
          "waiting_for_spout",
          "waiting_for_spout",
          "waiting_for_spout",
          "waiting_for_spout",
          "waiting_for_spout",
          "waiting_for_spout",
          "waiting_for_spout",
          "waiting_for_spout",
          "waiting_for_spout",
          "waiting_for_spout",
          "waiting_for_spout",
          "waiting_for_spout",
          "waiting_for_spout",
          "waiting_for_spout",
          "waiting_for_spout",
          "waiting_for_spout",
          "waiting_for_spout",
          "waiting_for_spout",
          "waiting_for_spout",
          "waiting_for_spout",
          "waiting_for_spout",
          "waiting_for_spout",
          "waiting_for_spout",
          "waiting_for_spout",
          "waiting_for_spout",
          "waiting_for_spout",
          "waiting_for_spout",
          "waiting_for_spout",
          "waiting_for_spout",
          "waiting_for_spout",
          "waiting_for_spout",
          "waiting_for_spout",
          "waiting_for_spout",
          "waiting_for_spout",
          "waiting_for_spout",
          "waiting_for_spout",
          "waiting_for_spout",
          "waiting_for_spout",
          "waiting_for_spout",
          "waiting_for_spout",
          "waiting_for_spout",
          "waiting_for_spout",
          "waiting_for_spout",
          "waiting_for_spout",
          "waiting_for_spout",
          "waiting_for_spout",
          "waiting_for_spout",
          "waiting_for_spout",
          "waiting_for_spout",
          "waiting_for_spout",
          "waiting_for_spout",
          "waiting_for_spout",
          "waiting_for_spout",
          "waiting_for_spout",
          "waiting_for_spout",
          "waiting_for_spout",
          "waiting_for_spout",
          "waiting_for_spout",
          "waiting_for_spout",
          "waiting_for_spout",
          "waiting_for_spout",
          "waiting_for_spout",
          "waiting_for_spout",
          "waiting_for_spout",
          "waiting_for_spout",
          "waiting_for_spout",
          "waiting_for_spout",
          "waiting_for_spout",
          "waiting_for_spout",
          "waiting_for_spout",
          "waiting_for_spout",
          "waiting_for_spout",
          "waiting_for_spout",
          "waiting_for_spout",
          "waiting_for_spout",
          "waiting_for_spout",
          "waiting_for_spout",
          "waiting_for_spout",
          "waiting_for_spout",
          "waiting_for_spout"
         ]
        },
        {
         "line": {
          "width": 5
         },
         "mode": "lines",
         "name": "busy_win",
         "type": "scatter",
         "x": [
          207.735,
          209.737,
          null,
          388.187,
          390.19,
          null,
          418.007,
          420.009,
          null,
          638.776,
          640.778,
          null,
          647.849,
          649.851,
          null
         ],
         "y": [
          "busy_win",
          "busy_win",
          "busy_win",
          "busy_win",
          "busy_win",
          "busy_win",
          "busy_win",
          "busy_win",
          "busy_win",
          "busy_win",
          "busy_win",
          "busy_win",
          "busy_win",
          "busy_win",
          "busy_win"
         ]
        },
        {
         "line": {
          "width": 5
         },
         "mode": "lines",
         "name": "short_break",
         "type": "scatter",
         "x": [
          0,
          1.03,
          null,
          209.737,
          210.799,
          null,
          390.19,
          391.966,
          null,
          420.009,
          421.363,
          null,
          640.778,
          641.795,
          null,
          649.851,
          651.418,
          null
         ],
         "y": [
          "short_break",
          "short_break",
          "short_break",
          "short_break",
          "short_break",
          "short_break",
          "short_break",
          "short_break",
          "short_break",
          "short_break",
          "short_break",
          "short_break",
          "short_break",
          "short_break",
          "short_break",
          "short_break",
          "short_break",
          "short_break"
         ]
        }
       ],
       "layout": {
        "template": {
         "data": {
          "bar": [
           {
            "error_x": {
             "color": "#2a3f5f"
            },
            "error_y": {
             "color": "#2a3f5f"
            },
            "marker": {
             "line": {
              "color": "#E5ECF6",
              "width": 0.5
             },
             "pattern": {
              "fillmode": "overlay",
              "size": 10,
              "solidity": 0.2
             }
            },
            "type": "bar"
           }
          ],
          "barpolar": [
           {
            "marker": {
             "line": {
              "color": "#E5ECF6",
              "width": 0.5
             },
             "pattern": {
              "fillmode": "overlay",
              "size": 10,
              "solidity": 0.2
             }
            },
            "type": "barpolar"
           }
          ],
          "carpet": [
           {
            "aaxis": {
             "endlinecolor": "#2a3f5f",
             "gridcolor": "white",
             "linecolor": "white",
             "minorgridcolor": "white",
             "startlinecolor": "#2a3f5f"
            },
            "baxis": {
             "endlinecolor": "#2a3f5f",
             "gridcolor": "white",
             "linecolor": "white",
             "minorgridcolor": "white",
             "startlinecolor": "#2a3f5f"
            },
            "type": "carpet"
           }
          ],
          "choropleth": [
           {
            "colorbar": {
             "outlinewidth": 0,
             "ticks": ""
            },
            "type": "choropleth"
           }
          ],
          "contour": [
           {
            "colorbar": {
             "outlinewidth": 0,
             "ticks": ""
            },
            "colorscale": [
             [
              0,
              "#0d0887"
             ],
             [
              0.1111111111111111,
              "#46039f"
             ],
             [
              0.2222222222222222,
              "#7201a8"
             ],
             [
              0.3333333333333333,
              "#9c179e"
             ],
             [
              0.4444444444444444,
              "#bd3786"
             ],
             [
              0.5555555555555556,
              "#d8576b"
             ],
             [
              0.6666666666666666,
              "#ed7953"
             ],
             [
              0.7777777777777778,
              "#fb9f3a"
             ],
             [
              0.8888888888888888,
              "#fdca26"
             ],
             [
              1,
              "#f0f921"
             ]
            ],
            "type": "contour"
           }
          ],
          "contourcarpet": [
           {
            "colorbar": {
             "outlinewidth": 0,
             "ticks": ""
            },
            "type": "contourcarpet"
           }
          ],
          "heatmap": [
           {
            "colorbar": {
             "outlinewidth": 0,
             "ticks": ""
            },
            "colorscale": [
             [
              0,
              "#0d0887"
             ],
             [
              0.1111111111111111,
              "#46039f"
             ],
             [
              0.2222222222222222,
              "#7201a8"
             ],
             [
              0.3333333333333333,
              "#9c179e"
             ],
             [
              0.4444444444444444,
              "#bd3786"
             ],
             [
              0.5555555555555556,
              "#d8576b"
             ],
             [
              0.6666666666666666,
              "#ed7953"
             ],
             [
              0.7777777777777778,
              "#fb9f3a"
             ],
             [
              0.8888888888888888,
              "#fdca26"
             ],
             [
              1,
              "#f0f921"
             ]
            ],
            "type": "heatmap"
           }
          ],
          "heatmapgl": [
           {
            "colorbar": {
             "outlinewidth": 0,
             "ticks": ""
            },
            "colorscale": [
             [
              0,
              "#0d0887"
             ],
             [
              0.1111111111111111,
              "#46039f"
             ],
             [
              0.2222222222222222,
              "#7201a8"
             ],
             [
              0.3333333333333333,
              "#9c179e"
             ],
             [
              0.4444444444444444,
              "#bd3786"
             ],
             [
              0.5555555555555556,
              "#d8576b"
             ],
             [
              0.6666666666666666,
              "#ed7953"
             ],
             [
              0.7777777777777778,
              "#fb9f3a"
             ],
             [
              0.8888888888888888,
              "#fdca26"
             ],
             [
              1,
              "#f0f921"
             ]
            ],
            "type": "heatmapgl"
           }
          ],
          "histogram": [
           {
            "marker": {
             "pattern": {
              "fillmode": "overlay",
              "size": 10,
              "solidity": 0.2
             }
            },
            "type": "histogram"
           }
          ],
          "histogram2d": [
           {
            "colorbar": {
             "outlinewidth": 0,
             "ticks": ""
            },
            "colorscale": [
             [
              0,
              "#0d0887"
             ],
             [
              0.1111111111111111,
              "#46039f"
             ],
             [
              0.2222222222222222,
              "#7201a8"
             ],
             [
              0.3333333333333333,
              "#9c179e"
             ],
             [
              0.4444444444444444,
              "#bd3786"
             ],
             [
              0.5555555555555556,
              "#d8576b"
             ],
             [
              0.6666666666666666,
              "#ed7953"
             ],
             [
              0.7777777777777778,
              "#fb9f3a"
             ],
             [
              0.8888888888888888,
              "#fdca26"
             ],
             [
              1,
              "#f0f921"
             ]
            ],
            "type": "histogram2d"
           }
          ],
          "histogram2dcontour": [
           {
            "colorbar": {
             "outlinewidth": 0,
             "ticks": ""
            },
            "colorscale": [
             [
              0,
              "#0d0887"
             ],
             [
              0.1111111111111111,
              "#46039f"
             ],
             [
              0.2222222222222222,
              "#7201a8"
             ],
             [
              0.3333333333333333,
              "#9c179e"
             ],
             [
              0.4444444444444444,
              "#bd3786"
             ],
             [
              0.5555555555555556,
              "#d8576b"
             ],
             [
              0.6666666666666666,
              "#ed7953"
             ],
             [
              0.7777777777777778,
              "#fb9f3a"
             ],
             [
              0.8888888888888888,
              "#fdca26"
             ],
             [
              1,
              "#f0f921"
             ]
            ],
            "type": "histogram2dcontour"
           }
          ],
          "mesh3d": [
           {
            "colorbar": {
             "outlinewidth": 0,
             "ticks": ""
            },
            "type": "mesh3d"
           }
          ],
          "parcoords": [
           {
            "line": {
             "colorbar": {
              "outlinewidth": 0,
              "ticks": ""
             }
            },
            "type": "parcoords"
           }
          ],
          "pie": [
           {
            "automargin": true,
            "type": "pie"
           }
          ],
          "scatter": [
           {
            "fillpattern": {
             "fillmode": "overlay",
             "size": 10,
             "solidity": 0.2
            },
            "type": "scatter"
           }
          ],
          "scatter3d": [
           {
            "line": {
             "colorbar": {
              "outlinewidth": 0,
              "ticks": ""
             }
            },
            "marker": {
             "colorbar": {
              "outlinewidth": 0,
              "ticks": ""
             }
            },
            "type": "scatter3d"
           }
          ],
          "scattercarpet": [
           {
            "marker": {
             "colorbar": {
              "outlinewidth": 0,
              "ticks": ""
             }
            },
            "type": "scattercarpet"
           }
          ],
          "scattergeo": [
           {
            "marker": {
             "colorbar": {
              "outlinewidth": 0,
              "ticks": ""
             }
            },
            "type": "scattergeo"
           }
          ],
          "scattergl": [
           {
            "marker": {
             "colorbar": {
              "outlinewidth": 0,
              "ticks": ""
             }
            },
            "type": "scattergl"
           }
          ],
          "scattermapbox": [
           {
            "marker": {
             "colorbar": {
              "outlinewidth": 0,
              "ticks": ""
             }
            },
            "type": "scattermapbox"
           }
          ],
          "scatterpolar": [
           {
            "marker": {
             "colorbar": {
              "outlinewidth": 0,
              "ticks": ""
             }
            },
            "type": "scatterpolar"
           }
          ],
          "scatterpolargl": [
           {
            "marker": {
             "colorbar": {
              "outlinewidth": 0,
              "ticks": ""
             }
            },
            "type": "scatterpolargl"
           }
          ],
          "scatterternary": [
           {
            "marker": {
             "colorbar": {
              "outlinewidth": 0,
              "ticks": ""
             }
            },
            "type": "scatterternary"
           }
          ],
          "surface": [
           {
            "colorbar": {
             "outlinewidth": 0,
             "ticks": ""
            },
            "colorscale": [
             [
              0,
              "#0d0887"
             ],
             [
              0.1111111111111111,
              "#46039f"
             ],
             [
              0.2222222222222222,
              "#7201a8"
             ],
             [
              0.3333333333333333,
              "#9c179e"
             ],
             [
              0.4444444444444444,
              "#bd3786"
             ],
             [
              0.5555555555555556,
              "#d8576b"
             ],
             [
              0.6666666666666666,
              "#ed7953"
             ],
             [
              0.7777777777777778,
              "#fb9f3a"
             ],
             [
              0.8888888888888888,
              "#fdca26"
             ],
             [
              1,
              "#f0f921"
             ]
            ],
            "type": "surface"
           }
          ],
          "table": [
           {
            "cells": {
             "fill": {
              "color": "#EBF0F8"
             },
             "line": {
              "color": "white"
             }
            },
            "header": {
             "fill": {
              "color": "#C8D4E3"
             },
             "line": {
              "color": "white"
             }
            },
            "type": "table"
           }
          ]
         },
         "layout": {
          "annotationdefaults": {
           "arrowcolor": "#2a3f5f",
           "arrowhead": 0,
           "arrowwidth": 1
          },
          "autotypenumbers": "strict",
          "coloraxis": {
           "colorbar": {
            "outlinewidth": 0,
            "ticks": ""
           }
          },
          "colorscale": {
           "diverging": [
            [
             0,
             "#8e0152"
            ],
            [
             0.1,
             "#c51b7d"
            ],
            [
             0.2,
             "#de77ae"
            ],
            [
             0.3,
             "#f1b6da"
            ],
            [
             0.4,
             "#fde0ef"
            ],
            [
             0.5,
             "#f7f7f7"
            ],
            [
             0.6,
             "#e6f5d0"
            ],
            [
             0.7,
             "#b8e186"
            ],
            [
             0.8,
             "#7fbc41"
            ],
            [
             0.9,
             "#4d9221"
            ],
            [
             1,
             "#276419"
            ]
           ],
           "sequential": [
            [
             0,
             "#0d0887"
            ],
            [
             0.1111111111111111,
             "#46039f"
            ],
            [
             0.2222222222222222,
             "#7201a8"
            ],
            [
             0.3333333333333333,
             "#9c179e"
            ],
            [
             0.4444444444444444,
             "#bd3786"
            ],
            [
             0.5555555555555556,
             "#d8576b"
            ],
            [
             0.6666666666666666,
             "#ed7953"
            ],
            [
             0.7777777777777778,
             "#fb9f3a"
            ],
            [
             0.8888888888888888,
             "#fdca26"
            ],
            [
             1,
             "#f0f921"
            ]
           ],
           "sequentialminus": [
            [
             0,
             "#0d0887"
            ],
            [
             0.1111111111111111,
             "#46039f"
            ],
            [
             0.2222222222222222,
             "#7201a8"
            ],
            [
             0.3333333333333333,
             "#9c179e"
            ],
            [
             0.4444444444444444,
             "#bd3786"
            ],
            [
             0.5555555555555556,
             "#d8576b"
            ],
            [
             0.6666666666666666,
             "#ed7953"
            ],
            [
             0.7777777777777778,
             "#fb9f3a"
            ],
            [
             0.8888888888888888,
             "#fdca26"
            ],
            [
             1,
             "#f0f921"
            ]
           ]
          },
          "colorway": [
           "#636efa",
           "#EF553B",
           "#00cc96",
           "#ab63fa",
           "#FFA15A",
           "#19d3f3",
           "#FF6692",
           "#B6E880",
           "#FF97FF",
           "#FECB52"
          ],
          "font": {
           "color": "#2a3f5f"
          },
          "geo": {
           "bgcolor": "white",
           "lakecolor": "white",
           "landcolor": "#E5ECF6",
           "showlakes": true,
           "showland": true,
           "subunitcolor": "white"
          },
          "hoverlabel": {
           "align": "left"
          },
          "hovermode": "closest",
          "mapbox": {
           "style": "light"
          },
          "paper_bgcolor": "white",
          "plot_bgcolor": "#E5ECF6",
          "polar": {
           "angularaxis": {
            "gridcolor": "white",
            "linecolor": "white",
            "ticks": ""
           },
           "bgcolor": "#E5ECF6",
           "radialaxis": {
            "gridcolor": "white",
            "linecolor": "white",
            "ticks": ""
           }
          },
          "scene": {
           "xaxis": {
            "backgroundcolor": "#E5ECF6",
            "gridcolor": "white",
            "gridwidth": 2,
            "linecolor": "white",
            "showbackground": true,
            "ticks": "",
            "zerolinecolor": "white"
           },
           "yaxis": {
            "backgroundcolor": "#E5ECF6",
            "gridcolor": "white",
            "gridwidth": 2,
            "linecolor": "white",
            "showbackground": true,
            "ticks": "",
            "zerolinecolor": "white"
           },
           "zaxis": {
            "backgroundcolor": "#E5ECF6",
            "gridcolor": "white",
            "gridwidth": 2,
            "linecolor": "white",
            "showbackground": true,
            "ticks": "",
            "zerolinecolor": "white"
           }
          },
          "shapedefaults": {
           "line": {
            "color": "#2a3f5f"
           }
          },
          "ternary": {
           "aaxis": {
            "gridcolor": "white",
            "linecolor": "white",
            "ticks": ""
           },
           "baxis": {
            "gridcolor": "white",
            "linecolor": "white",
            "ticks": ""
           },
           "bgcolor": "#E5ECF6",
           "caxis": {
            "gridcolor": "white",
            "linecolor": "white",
            "ticks": ""
           }
          },
          "title": {
           "x": 0.05
          },
          "xaxis": {
           "automargin": true,
           "gridcolor": "white",
           "linecolor": "white",
           "ticks": "",
           "title": {
            "standoff": 15
           },
           "zerolinecolor": "white",
           "zerolinewidth": 2
          },
          "yaxis": {
           "automargin": true,
           "gridcolor": "white",
           "linecolor": "white",
           "ticks": "",
           "title": {
            "standoff": 15
           },
           "zerolinecolor": "white",
           "zerolinewidth": 2
          }
         }
        },
        "title": {
         "text": "reaching_go_spout_nov22, 317 #2, on 2022-11-23 16:17:57 via COM8"
        },
        "xaxis": {
         "title": {
          "text": "Time (s)"
         }
        },
        "yaxis": {
         "fixedrange": true
        }
       }
      }
     },
     "metadata": {},
     "output_type": "display_data"
    },
    {
     "name": "stdout",
     "output_type": "stream",
     "text": [
      "saved JC317L-2022-11-23-161757_reaching_go_spout_nov22.smrx\n",
      "JC318L-2022-11-23-163842_reaching_go_spout_nov22.smrx\n"
     ]
    },
    {
     "name": "stderr",
     "output_type": "stream",
     "text": [
      "C:\\Users\\phar0528\\AppData\\Local\\Temp\\ipykernel_43892\\4133634569.py:21: FutureWarning:\n",
      "\n",
      "The frame.append method is deprecated and will be removed from pandas in a future version. Use pandas.concat instead.\n",
      "\n"
     ]
    },
    {
     "data": {
      "application/vnd.plotly.v1+json": {
       "config": {
        "plotlyServerURL": "https://plot.ly"
       },
       "data": [
        {
         "marker": {
          "symbol": "square"
         },
         "mode": "markers",
         "name": "button_press",
         "type": "scatter",
         "x": [
          32.317
         ],
         "y": [
          "button_press"
         ]
        },
        {
         "marker": {
          "symbol": "diamond"
         },
         "mode": "markers",
         "name": "bar",
         "type": "scatter",
         "x": [
          14.693,
          19.888,
          21.09,
          29.274,
          36.72,
          36.741,
          37.145,
          37.182,
          38.01,
          38.063,
          38.085,
          38.403,
          54.494,
          63.505,
          64.091,
          64.159,
          67.777,
          88.654,
          101.971,
          102.388,
          102.416,
          105.069,
          105.115,
          105.269,
          105.293,
          105.624,
          105.69,
          108.745,
          108.784,
          109.115,
          109.155,
          109.474,
          110.243,
          117.589,
          117.762,
          118.304,
          119.043,
          127.846,
          128.125,
          128.37,
          153.089,
          157.529,
          157.612,
          158.352,
          167.437,
          180.875,
          188.969,
          189.01
         ],
         "y": [
          "bar",
          "bar",
          "bar",
          "bar",
          "bar",
          "bar",
          "bar",
          "bar",
          "bar",
          "bar",
          "bar",
          "bar",
          "bar",
          "bar",
          "bar",
          "bar",
          "bar",
          "bar",
          "bar",
          "bar",
          "bar",
          "bar",
          "bar",
          "bar",
          "bar",
          "bar",
          "bar",
          "bar",
          "bar",
          "bar",
          "bar",
          "bar",
          "bar",
          "bar",
          "bar",
          "bar",
          "bar",
          "bar",
          "bar",
          "bar",
          "bar",
          "bar",
          "bar",
          "bar",
          "bar",
          "bar",
          "bar",
          "bar"
         ]
        },
        {
         "marker": {
          "symbol": "cross"
         },
         "mode": "markers",
         "name": "bar_off",
         "type": "scatter",
         "x": [
          8.616,
          16.253,
          21.008,
          24.643,
          36.699,
          36.735,
          36.933,
          37.167,
          37.978,
          38.025,
          38.078,
          38.376,
          50.132,
          63.469,
          64.058,
          64.133,
          64.182,
          67.873,
          95.627,
          102.067,
          102.404,
          104.98,
          105.088,
          105.197,
          105.284,
          105.312,
          105.667,
          108.707,
          108.76,
          108.819,
          109.131,
          109.431,
          110.228,
          117.551,
          117.708,
          118.251,
          118.988,
          127.805,
          128.004,
          128.203,
          152.987,
          153.125,
          157.566,
          158.336,
          167.422,
          177.947,
          186.252,
          188.995,
          189.234
         ],
         "y": [
          "bar_off",
          "bar_off",
          "bar_off",
          "bar_off",
          "bar_off",
          "bar_off",
          "bar_off",
          "bar_off",
          "bar_off",
          "bar_off",
          "bar_off",
          "bar_off",
          "bar_off",
          "bar_off",
          "bar_off",
          "bar_off",
          "bar_off",
          "bar_off",
          "bar_off",
          "bar_off",
          "bar_off",
          "bar_off",
          "bar_off",
          "bar_off",
          "bar_off",
          "bar_off",
          "bar_off",
          "bar_off",
          "bar_off",
          "bar_off",
          "bar_off",
          "bar_off",
          "bar_off",
          "bar_off",
          "bar_off",
          "bar_off",
          "bar_off",
          "bar_off",
          "bar_off",
          "bar_off",
          "bar_off",
          "bar_off",
          "bar_off",
          "bar_off",
          "bar_off",
          "bar_off",
          "bar_off",
          "bar_off",
          "bar_off"
         ]
        },
        {
         "marker": {
          "symbol": "x"
         },
         "mode": "markers",
         "name": "spout",
         "type": "scatter",
         "x": [
          25.493,
          25.742,
          32.366,
          32.616,
          45.17,
          49.802,
          50.053,
          50.143,
          50.393,
          50.419,
          64.108,
          64.358,
          64.377,
          65.226,
          65.475,
          65.743,
          65.992,
          66.318,
          66.568,
          68.178,
          68.428,
          68.508,
          68.758,
          72.638,
          72.888,
          73.301,
          73.551,
          75.673,
          75.923,
          75.975,
          76.224,
          78.208,
          78.458,
          78.541,
          78.791,
          78.82,
          79.126,
          79.376,
          79.536,
          79.786,
          79.961,
          80.211,
          80.36,
          80.611,
          80.627,
          80.658,
          80.907,
          81.044,
          81.059,
          83.198,
          83.448,
          83.511,
          83.76,
          83.779,
          86.45,
          86.7,
          86.848,
          87.098,
          87.271,
          95.874,
          96.049,
          96.116,
          96.144,
          96.268,
          96.312,
          96.521,
          96.698,
          96.77,
          96.785,
          98.046,
          98.066,
          98.086,
          98.136,
          98.166,
          98.196,
          98.226,
          98.276,
          98.306,
          98.483,
          101.71,
          101.862,
          101.961,
          102.112,
          102.163,
          102.413,
          105.273,
          105.393,
          105.516,
          105.6,
          108.775,
          108.973,
          109.026,
          109.223,
          128.182,
          128.432,
          128.616,
          128.865,
          153.251,
          153.389,
          153.502,
          153.597,
          153.639,
          153.661,
          153.822,
          154.072,
          154.095,
          178.146,
          178.279,
          178.396,
          178.499,
          178.53,
          178.546,
          178.707,
          178.957,
          178.978,
          186.432,
          186.55,
          186.682,
          186.797,
          189.67,
          189.847,
          189.92,
          190.015,
          190.096,
          190.242,
          190.265,
          190.284,
          192.384,
          192.599,
          192.634,
          192.811,
          193.061,
          193.728,
          193.903,
          193.928,
          193.956,
          193.993,
          194.026,
          197.473,
          197.723,
          197.884,
          198.134,
          198.165,
          198.863,
          199.113,
          199.216,
          199.236,
          199.411,
          199.661,
          199.751,
          199.776,
          200.017
         ],
         "y": [
          "spout",
          "spout",
          "spout",
          "spout",
          "spout",
          "spout",
          "spout",
          "spout",
          "spout",
          "spout",
          "spout",
          "spout",
          "spout",
          "spout",
          "spout",
          "spout",
          "spout",
          "spout",
          "spout",
          "spout",
          "spout",
          "spout",
          "spout",
          "spout",
          "spout",
          "spout",
          "spout",
          "spout",
          "spout",
          "spout",
          "spout",
          "spout",
          "spout",
          "spout",
          "spout",
          "spout",
          "spout",
          "spout",
          "spout",
          "spout",
          "spout",
          "spout",
          "spout",
          "spout",
          "spout",
          "spout",
          "spout",
          "spout",
          "spout",
          "spout",
          "spout",
          "spout",
          "spout",
          "spout",
          "spout",
          "spout",
          "spout",
          "spout",
          "spout",
          "spout",
          "spout",
          "spout",
          "spout",
          "spout",
          "spout",
          "spout",
          "spout",
          "spout",
          "spout",
          "spout",
          "spout",
          "spout",
          "spout",
          "spout",
          "spout",
          "spout",
          "spout",
          "spout",
          "spout",
          "spout",
          "spout",
          "spout",
          "spout",
          "spout",
          "spout",
          "spout",
          "spout",
          "spout",
          "spout",
          "spout",
          "spout",
          "spout",
          "spout",
          "spout",
          "spout",
          "spout",
          "spout",
          "spout",
          "spout",
          "spout",
          "spout",
          "spout",
          "spout",
          "spout",
          "spout",
          "spout",
          "spout",
          "spout",
          "spout",
          "spout",
          "spout",
          "spout",
          "spout",
          "spout",
          "spout",
          "spout",
          "spout",
          "spout",
          "spout",
          "spout",
          "spout",
          "spout",
          "spout",
          "spout",
          "spout",
          "spout",
          "spout",
          "spout",
          "spout",
          "spout",
          "spout",
          "spout",
          "spout",
          "spout",
          "spout",
          "spout",
          "spout",
          "spout",
          "spout",
          "spout",
          "spout",
          "spout",
          "spout",
          "spout",
          "spout",
          "spout",
          "spout",
          "spout",
          "spout",
          "spout",
          "spout",
          "spout"
         ]
        },
        {
         "marker": {
          "symbol": "triangle-up"
         },
         "mode": "markers",
         "name": "US_delay_timer",
         "type": "scatter",
         "x": [
          25.694,
          32.567,
          45.371,
          50.004,
          50.344,
          64.309,
          65.426,
          65.943,
          66.519,
          68.379,
          68.709,
          72.839,
          73.502,
          75.874,
          76.175,
          78.409,
          78.742,
          79.327,
          79.737,
          80.162,
          80.562,
          80.858,
          81.244,
          81.26,
          83.399,
          83.711,
          86.651,
          87.049,
          87.472,
          96.075,
          96.25,
          96.721,
          96.899,
          98.247,
          98.266,
          98.286,
          98.337,
          98.367,
          98.397,
          98.426,
          101.912,
          102.063,
          102.364,
          105.474,
          105.594,
          108.977,
          109.174,
          128.383,
          128.816,
          153.453,
          153.59,
          154.023,
          178.347,
          178.48,
          178.908,
          186.633,
          186.751,
          189.871,
          190.047,
          190.216,
          192.585,
          193.012,
          193.928,
          194.103,
          194.226,
          197.674,
          198.085,
          199.064,
          199.416,
          199.436,
          199.612,
          199.952,
          199.977
         ],
         "y": [
          "US_delay_timer",
          "US_delay_timer",
          "US_delay_timer",
          "US_delay_timer",
          "US_delay_timer",
          "US_delay_timer",
          "US_delay_timer",
          "US_delay_timer",
          "US_delay_timer",
          "US_delay_timer",
          "US_delay_timer",
          "US_delay_timer",
          "US_delay_timer",
          "US_delay_timer",
          "US_delay_timer",
          "US_delay_timer",
          "US_delay_timer",
          "US_delay_timer",
          "US_delay_timer",
          "US_delay_timer",
          "US_delay_timer",
          "US_delay_timer",
          "US_delay_timer",
          "US_delay_timer",
          "US_delay_timer",
          "US_delay_timer",
          "US_delay_timer",
          "US_delay_timer",
          "US_delay_timer",
          "US_delay_timer",
          "US_delay_timer",
          "US_delay_timer",
          "US_delay_timer",
          "US_delay_timer",
          "US_delay_timer",
          "US_delay_timer",
          "US_delay_timer",
          "US_delay_timer",
          "US_delay_timer",
          "US_delay_timer",
          "US_delay_timer",
          "US_delay_timer",
          "US_delay_timer",
          "US_delay_timer",
          "US_delay_timer",
          "US_delay_timer",
          "US_delay_timer",
          "US_delay_timer",
          "US_delay_timer",
          "US_delay_timer",
          "US_delay_timer",
          "US_delay_timer",
          "US_delay_timer",
          "US_delay_timer",
          "US_delay_timer",
          "US_delay_timer",
          "US_delay_timer",
          "US_delay_timer",
          "US_delay_timer",
          "US_delay_timer",
          "US_delay_timer",
          "US_delay_timer",
          "US_delay_timer",
          "US_delay_timer",
          "US_delay_timer",
          "US_delay_timer",
          "US_delay_timer",
          "US_delay_timer",
          "US_delay_timer",
          "US_delay_timer",
          "US_delay_timer",
          "US_delay_timer",
          "US_delay_timer"
         ]
        },
        {
         "marker": {
          "symbol": "triangle-down"
         },
         "mode": "markers",
         "name": "CS_offset_timer",
         "type": "scatter",
         "x": [
          2,
          25.794,
          32.667,
          45.471,
          50.104,
          50.444,
          64.409,
          65.526,
          66.043,
          66.619,
          68.478,
          68.809,
          72.939,
          73.601,
          75.974,
          76.275,
          78.509,
          78.842,
          79.427,
          79.836,
          80.262,
          80.661,
          80.958,
          81.344,
          81.36,
          83.499,
          83.811,
          86.751,
          87.149,
          87.572,
          96.175,
          96.35,
          96.821,
          96.999,
          98.347,
          98.366,
          98.386,
          98.437,
          98.467,
          98.497,
          98.526,
          102.011,
          102.163,
          102.464,
          105.574,
          105.694,
          109.076,
          109.273,
          128.483,
          128.916,
          153.552,
          153.689,
          154.123,
          178.447,
          178.58,
          179.008,
          186.733,
          186.851,
          189.971,
          190.147,
          190.316,
          192.685,
          193.112,
          194.028,
          194.203,
          194.326,
          197.773,
          198.185,
          199.164,
          199.516,
          199.536,
          199.712,
          200.052,
          200.077
         ],
         "y": [
          "CS_offset_timer",
          "CS_offset_timer",
          "CS_offset_timer",
          "CS_offset_timer",
          "CS_offset_timer",
          "CS_offset_timer",
          "CS_offset_timer",
          "CS_offset_timer",
          "CS_offset_timer",
          "CS_offset_timer",
          "CS_offset_timer",
          "CS_offset_timer",
          "CS_offset_timer",
          "CS_offset_timer",
          "CS_offset_timer",
          "CS_offset_timer",
          "CS_offset_timer",
          "CS_offset_timer",
          "CS_offset_timer",
          "CS_offset_timer",
          "CS_offset_timer",
          "CS_offset_timer",
          "CS_offset_timer",
          "CS_offset_timer",
          "CS_offset_timer",
          "CS_offset_timer",
          "CS_offset_timer",
          "CS_offset_timer",
          "CS_offset_timer",
          "CS_offset_timer",
          "CS_offset_timer",
          "CS_offset_timer",
          "CS_offset_timer",
          "CS_offset_timer",
          "CS_offset_timer",
          "CS_offset_timer",
          "CS_offset_timer",
          "CS_offset_timer",
          "CS_offset_timer",
          "CS_offset_timer",
          "CS_offset_timer",
          "CS_offset_timer",
          "CS_offset_timer",
          "CS_offset_timer",
          "CS_offset_timer",
          "CS_offset_timer",
          "CS_offset_timer",
          "CS_offset_timer",
          "CS_offset_timer",
          "CS_offset_timer",
          "CS_offset_timer",
          "CS_offset_timer",
          "CS_offset_timer",
          "CS_offset_timer",
          "CS_offset_timer",
          "CS_offset_timer",
          "CS_offset_timer",
          "CS_offset_timer",
          "CS_offset_timer",
          "CS_offset_timer",
          "CS_offset_timer",
          "CS_offset_timer",
          "CS_offset_timer",
          "CS_offset_timer",
          "CS_offset_timer",
          "CS_offset_timer",
          "CS_offset_timer",
          "CS_offset_timer",
          "CS_offset_timer",
          "CS_offset_timer",
          "CS_offset_timer",
          "CS_offset_timer",
          "CS_offset_timer",
          "CS_offset_timer"
         ]
        },
        {
         "line": {
          "width": 5
         },
         "mode": "lines",
         "name": "waiting_for_spout",
         "type": "scatter",
         "x": [
          1.903,
          25.494,
          null,
          27.496,
          32.367,
          null,
          34.369,
          45.171,
          null,
          47.173,
          49.803,
          null,
          51.805,
          64.109,
          null,
          66.111,
          66.318,
          null,
          68.32,
          68.508,
          null,
          70.511,
          72.638,
          null,
          74.641,
          75.674,
          null,
          77.676,
          78.208,
          null,
          80.21,
          80.361,
          null,
          82.363,
          83.198,
          null,
          85.201,
          86.45,
          null,
          88.458,
          95.874,
          null,
          97.876,
          98.046,
          null,
          101.516,
          101.711,
          null,
          103.713,
          105.273,
          null,
          107.276,
          108.776,
          null,
          110.778,
          128.182,
          null,
          130.185,
          153.252,
          null,
          155.254,
          178.147,
          null,
          180.149,
          186.432,
          null,
          188.435,
          189.671,
          null,
          191.673,
          192.385,
          null,
          194.387,
          197.473,
          null,
          199.475,
          199.752,
          null
         ],
         "y": [
          "waiting_for_spout",
          "waiting_for_spout",
          "waiting_for_spout",
          "waiting_for_spout",
          "waiting_for_spout",
          "waiting_for_spout",
          "waiting_for_spout",
          "waiting_for_spout",
          "waiting_for_spout",
          "waiting_for_spout",
          "waiting_for_spout",
          "waiting_for_spout",
          "waiting_for_spout",
          "waiting_for_spout",
          "waiting_for_spout",
          "waiting_for_spout",
          "waiting_for_spout",
          "waiting_for_spout",
          "waiting_for_spout",
          "waiting_for_spout",
          "waiting_for_spout",
          "waiting_for_spout",
          "waiting_for_spout",
          "waiting_for_spout",
          "waiting_for_spout",
          "waiting_for_spout",
          "waiting_for_spout",
          "waiting_for_spout",
          "waiting_for_spout",
          "waiting_for_spout",
          "waiting_for_spout",
          "waiting_for_spout",
          "waiting_for_spout",
          "waiting_for_spout",
          "waiting_for_spout",
          "waiting_for_spout",
          "waiting_for_spout",
          "waiting_for_spout",
          "waiting_for_spout",
          "waiting_for_spout",
          "waiting_for_spout",
          "waiting_for_spout",
          "waiting_for_spout",
          "waiting_for_spout",
          "waiting_for_spout",
          "waiting_for_spout",
          "waiting_for_spout",
          "waiting_for_spout",
          "waiting_for_spout",
          "waiting_for_spout",
          "waiting_for_spout",
          "waiting_for_spout",
          "waiting_for_spout",
          "waiting_for_spout",
          "waiting_for_spout",
          "waiting_for_spout",
          "waiting_for_spout",
          "waiting_for_spout",
          "waiting_for_spout",
          "waiting_for_spout",
          "waiting_for_spout",
          "waiting_for_spout",
          "waiting_for_spout",
          "waiting_for_spout",
          "waiting_for_spout",
          "waiting_for_spout",
          "waiting_for_spout",
          "waiting_for_spout",
          "waiting_for_spout",
          "waiting_for_spout",
          "waiting_for_spout",
          "waiting_for_spout",
          "waiting_for_spout",
          "waiting_for_spout",
          "waiting_for_spout",
          "waiting_for_spout",
          "waiting_for_spout",
          "waiting_for_spout"
         ]
        },
        {
         "line": {
          "width": 5
         },
         "mode": "lines",
         "name": "busy_win",
         "type": "scatter",
         "x": [
          98.046,
          100.048,
          null
         ],
         "y": [
          "busy_win",
          "busy_win",
          "busy_win"
         ]
        },
        {
         "line": {
          "width": 5
         },
         "mode": "lines",
         "name": "short_break",
         "type": "scatter",
         "x": [
          0,
          1.903,
          null,
          100.048,
          101.516,
          null
         ],
         "y": [
          "short_break",
          "short_break",
          "short_break",
          "short_break",
          "short_break",
          "short_break"
         ]
        }
       ],
       "layout": {
        "template": {
         "data": {
          "bar": [
           {
            "error_x": {
             "color": "#2a3f5f"
            },
            "error_y": {
             "color": "#2a3f5f"
            },
            "marker": {
             "line": {
              "color": "#E5ECF6",
              "width": 0.5
             },
             "pattern": {
              "fillmode": "overlay",
              "size": 10,
              "solidity": 0.2
             }
            },
            "type": "bar"
           }
          ],
          "barpolar": [
           {
            "marker": {
             "line": {
              "color": "#E5ECF6",
              "width": 0.5
             },
             "pattern": {
              "fillmode": "overlay",
              "size": 10,
              "solidity": 0.2
             }
            },
            "type": "barpolar"
           }
          ],
          "carpet": [
           {
            "aaxis": {
             "endlinecolor": "#2a3f5f",
             "gridcolor": "white",
             "linecolor": "white",
             "minorgridcolor": "white",
             "startlinecolor": "#2a3f5f"
            },
            "baxis": {
             "endlinecolor": "#2a3f5f",
             "gridcolor": "white",
             "linecolor": "white",
             "minorgridcolor": "white",
             "startlinecolor": "#2a3f5f"
            },
            "type": "carpet"
           }
          ],
          "choropleth": [
           {
            "colorbar": {
             "outlinewidth": 0,
             "ticks": ""
            },
            "type": "choropleth"
           }
          ],
          "contour": [
           {
            "colorbar": {
             "outlinewidth": 0,
             "ticks": ""
            },
            "colorscale": [
             [
              0,
              "#0d0887"
             ],
             [
              0.1111111111111111,
              "#46039f"
             ],
             [
              0.2222222222222222,
              "#7201a8"
             ],
             [
              0.3333333333333333,
              "#9c179e"
             ],
             [
              0.4444444444444444,
              "#bd3786"
             ],
             [
              0.5555555555555556,
              "#d8576b"
             ],
             [
              0.6666666666666666,
              "#ed7953"
             ],
             [
              0.7777777777777778,
              "#fb9f3a"
             ],
             [
              0.8888888888888888,
              "#fdca26"
             ],
             [
              1,
              "#f0f921"
             ]
            ],
            "type": "contour"
           }
          ],
          "contourcarpet": [
           {
            "colorbar": {
             "outlinewidth": 0,
             "ticks": ""
            },
            "type": "contourcarpet"
           }
          ],
          "heatmap": [
           {
            "colorbar": {
             "outlinewidth": 0,
             "ticks": ""
            },
            "colorscale": [
             [
              0,
              "#0d0887"
             ],
             [
              0.1111111111111111,
              "#46039f"
             ],
             [
              0.2222222222222222,
              "#7201a8"
             ],
             [
              0.3333333333333333,
              "#9c179e"
             ],
             [
              0.4444444444444444,
              "#bd3786"
             ],
             [
              0.5555555555555556,
              "#d8576b"
             ],
             [
              0.6666666666666666,
              "#ed7953"
             ],
             [
              0.7777777777777778,
              "#fb9f3a"
             ],
             [
              0.8888888888888888,
              "#fdca26"
             ],
             [
              1,
              "#f0f921"
             ]
            ],
            "type": "heatmap"
           }
          ],
          "heatmapgl": [
           {
            "colorbar": {
             "outlinewidth": 0,
             "ticks": ""
            },
            "colorscale": [
             [
              0,
              "#0d0887"
             ],
             [
              0.1111111111111111,
              "#46039f"
             ],
             [
              0.2222222222222222,
              "#7201a8"
             ],
             [
              0.3333333333333333,
              "#9c179e"
             ],
             [
              0.4444444444444444,
              "#bd3786"
             ],
             [
              0.5555555555555556,
              "#d8576b"
             ],
             [
              0.6666666666666666,
              "#ed7953"
             ],
             [
              0.7777777777777778,
              "#fb9f3a"
             ],
             [
              0.8888888888888888,
              "#fdca26"
             ],
             [
              1,
              "#f0f921"
             ]
            ],
            "type": "heatmapgl"
           }
          ],
          "histogram": [
           {
            "marker": {
             "pattern": {
              "fillmode": "overlay",
              "size": 10,
              "solidity": 0.2
             }
            },
            "type": "histogram"
           }
          ],
          "histogram2d": [
           {
            "colorbar": {
             "outlinewidth": 0,
             "ticks": ""
            },
            "colorscale": [
             [
              0,
              "#0d0887"
             ],
             [
              0.1111111111111111,
              "#46039f"
             ],
             [
              0.2222222222222222,
              "#7201a8"
             ],
             [
              0.3333333333333333,
              "#9c179e"
             ],
             [
              0.4444444444444444,
              "#bd3786"
             ],
             [
              0.5555555555555556,
              "#d8576b"
             ],
             [
              0.6666666666666666,
              "#ed7953"
             ],
             [
              0.7777777777777778,
              "#fb9f3a"
             ],
             [
              0.8888888888888888,
              "#fdca26"
             ],
             [
              1,
              "#f0f921"
             ]
            ],
            "type": "histogram2d"
           }
          ],
          "histogram2dcontour": [
           {
            "colorbar": {
             "outlinewidth": 0,
             "ticks": ""
            },
            "colorscale": [
             [
              0,
              "#0d0887"
             ],
             [
              0.1111111111111111,
              "#46039f"
             ],
             [
              0.2222222222222222,
              "#7201a8"
             ],
             [
              0.3333333333333333,
              "#9c179e"
             ],
             [
              0.4444444444444444,
              "#bd3786"
             ],
             [
              0.5555555555555556,
              "#d8576b"
             ],
             [
              0.6666666666666666,
              "#ed7953"
             ],
             [
              0.7777777777777778,
              "#fb9f3a"
             ],
             [
              0.8888888888888888,
              "#fdca26"
             ],
             [
              1,
              "#f0f921"
             ]
            ],
            "type": "histogram2dcontour"
           }
          ],
          "mesh3d": [
           {
            "colorbar": {
             "outlinewidth": 0,
             "ticks": ""
            },
            "type": "mesh3d"
           }
          ],
          "parcoords": [
           {
            "line": {
             "colorbar": {
              "outlinewidth": 0,
              "ticks": ""
             }
            },
            "type": "parcoords"
           }
          ],
          "pie": [
           {
            "automargin": true,
            "type": "pie"
           }
          ],
          "scatter": [
           {
            "fillpattern": {
             "fillmode": "overlay",
             "size": 10,
             "solidity": 0.2
            },
            "type": "scatter"
           }
          ],
          "scatter3d": [
           {
            "line": {
             "colorbar": {
              "outlinewidth": 0,
              "ticks": ""
             }
            },
            "marker": {
             "colorbar": {
              "outlinewidth": 0,
              "ticks": ""
             }
            },
            "type": "scatter3d"
           }
          ],
          "scattercarpet": [
           {
            "marker": {
             "colorbar": {
              "outlinewidth": 0,
              "ticks": ""
             }
            },
            "type": "scattercarpet"
           }
          ],
          "scattergeo": [
           {
            "marker": {
             "colorbar": {
              "outlinewidth": 0,
              "ticks": ""
             }
            },
            "type": "scattergeo"
           }
          ],
          "scattergl": [
           {
            "marker": {
             "colorbar": {
              "outlinewidth": 0,
              "ticks": ""
             }
            },
            "type": "scattergl"
           }
          ],
          "scattermapbox": [
           {
            "marker": {
             "colorbar": {
              "outlinewidth": 0,
              "ticks": ""
             }
            },
            "type": "scattermapbox"
           }
          ],
          "scatterpolar": [
           {
            "marker": {
             "colorbar": {
              "outlinewidth": 0,
              "ticks": ""
             }
            },
            "type": "scatterpolar"
           }
          ],
          "scatterpolargl": [
           {
            "marker": {
             "colorbar": {
              "outlinewidth": 0,
              "ticks": ""
             }
            },
            "type": "scatterpolargl"
           }
          ],
          "scatterternary": [
           {
            "marker": {
             "colorbar": {
              "outlinewidth": 0,
              "ticks": ""
             }
            },
            "type": "scatterternary"
           }
          ],
          "surface": [
           {
            "colorbar": {
             "outlinewidth": 0,
             "ticks": ""
            },
            "colorscale": [
             [
              0,
              "#0d0887"
             ],
             [
              0.1111111111111111,
              "#46039f"
             ],
             [
              0.2222222222222222,
              "#7201a8"
             ],
             [
              0.3333333333333333,
              "#9c179e"
             ],
             [
              0.4444444444444444,
              "#bd3786"
             ],
             [
              0.5555555555555556,
              "#d8576b"
             ],
             [
              0.6666666666666666,
              "#ed7953"
             ],
             [
              0.7777777777777778,
              "#fb9f3a"
             ],
             [
              0.8888888888888888,
              "#fdca26"
             ],
             [
              1,
              "#f0f921"
             ]
            ],
            "type": "surface"
           }
          ],
          "table": [
           {
            "cells": {
             "fill": {
              "color": "#EBF0F8"
             },
             "line": {
              "color": "white"
             }
            },
            "header": {
             "fill": {
              "color": "#C8D4E3"
             },
             "line": {
              "color": "white"
             }
            },
            "type": "table"
           }
          ]
         },
         "layout": {
          "annotationdefaults": {
           "arrowcolor": "#2a3f5f",
           "arrowhead": 0,
           "arrowwidth": 1
          },
          "autotypenumbers": "strict",
          "coloraxis": {
           "colorbar": {
            "outlinewidth": 0,
            "ticks": ""
           }
          },
          "colorscale": {
           "diverging": [
            [
             0,
             "#8e0152"
            ],
            [
             0.1,
             "#c51b7d"
            ],
            [
             0.2,
             "#de77ae"
            ],
            [
             0.3,
             "#f1b6da"
            ],
            [
             0.4,
             "#fde0ef"
            ],
            [
             0.5,
             "#f7f7f7"
            ],
            [
             0.6,
             "#e6f5d0"
            ],
            [
             0.7,
             "#b8e186"
            ],
            [
             0.8,
             "#7fbc41"
            ],
            [
             0.9,
             "#4d9221"
            ],
            [
             1,
             "#276419"
            ]
           ],
           "sequential": [
            [
             0,
             "#0d0887"
            ],
            [
             0.1111111111111111,
             "#46039f"
            ],
            [
             0.2222222222222222,
             "#7201a8"
            ],
            [
             0.3333333333333333,
             "#9c179e"
            ],
            [
             0.4444444444444444,
             "#bd3786"
            ],
            [
             0.5555555555555556,
             "#d8576b"
            ],
            [
             0.6666666666666666,
             "#ed7953"
            ],
            [
             0.7777777777777778,
             "#fb9f3a"
            ],
            [
             0.8888888888888888,
             "#fdca26"
            ],
            [
             1,
             "#f0f921"
            ]
           ],
           "sequentialminus": [
            [
             0,
             "#0d0887"
            ],
            [
             0.1111111111111111,
             "#46039f"
            ],
            [
             0.2222222222222222,
             "#7201a8"
            ],
            [
             0.3333333333333333,
             "#9c179e"
            ],
            [
             0.4444444444444444,
             "#bd3786"
            ],
            [
             0.5555555555555556,
             "#d8576b"
            ],
            [
             0.6666666666666666,
             "#ed7953"
            ],
            [
             0.7777777777777778,
             "#fb9f3a"
            ],
            [
             0.8888888888888888,
             "#fdca26"
            ],
            [
             1,
             "#f0f921"
            ]
           ]
          },
          "colorway": [
           "#636efa",
           "#EF553B",
           "#00cc96",
           "#ab63fa",
           "#FFA15A",
           "#19d3f3",
           "#FF6692",
           "#B6E880",
           "#FF97FF",
           "#FECB52"
          ],
          "font": {
           "color": "#2a3f5f"
          },
          "geo": {
           "bgcolor": "white",
           "lakecolor": "white",
           "landcolor": "#E5ECF6",
           "showlakes": true,
           "showland": true,
           "subunitcolor": "white"
          },
          "hoverlabel": {
           "align": "left"
          },
          "hovermode": "closest",
          "mapbox": {
           "style": "light"
          },
          "paper_bgcolor": "white",
          "plot_bgcolor": "#E5ECF6",
          "polar": {
           "angularaxis": {
            "gridcolor": "white",
            "linecolor": "white",
            "ticks": ""
           },
           "bgcolor": "#E5ECF6",
           "radialaxis": {
            "gridcolor": "white",
            "linecolor": "white",
            "ticks": ""
           }
          },
          "scene": {
           "xaxis": {
            "backgroundcolor": "#E5ECF6",
            "gridcolor": "white",
            "gridwidth": 2,
            "linecolor": "white",
            "showbackground": true,
            "ticks": "",
            "zerolinecolor": "white"
           },
           "yaxis": {
            "backgroundcolor": "#E5ECF6",
            "gridcolor": "white",
            "gridwidth": 2,
            "linecolor": "white",
            "showbackground": true,
            "ticks": "",
            "zerolinecolor": "white"
           },
           "zaxis": {
            "backgroundcolor": "#E5ECF6",
            "gridcolor": "white",
            "gridwidth": 2,
            "linecolor": "white",
            "showbackground": true,
            "ticks": "",
            "zerolinecolor": "white"
           }
          },
          "shapedefaults": {
           "line": {
            "color": "#2a3f5f"
           }
          },
          "ternary": {
           "aaxis": {
            "gridcolor": "white",
            "linecolor": "white",
            "ticks": ""
           },
           "baxis": {
            "gridcolor": "white",
            "linecolor": "white",
            "ticks": ""
           },
           "bgcolor": "#E5ECF6",
           "caxis": {
            "gridcolor": "white",
            "linecolor": "white",
            "ticks": ""
           }
          },
          "title": {
           "x": 0.05
          },
          "xaxis": {
           "automargin": true,
           "gridcolor": "white",
           "linecolor": "white",
           "ticks": "",
           "title": {
            "standoff": 15
           },
           "zerolinecolor": "white",
           "zerolinewidth": 2
          },
          "yaxis": {
           "automargin": true,
           "gridcolor": "white",
           "linecolor": "white",
           "ticks": "",
           "title": {
            "standoff": 15
           },
           "zerolinecolor": "white",
           "zerolinewidth": 2
          }
         }
        },
        "title": {
         "text": "reaching_go_spout_nov22, 318 #3, on 2022-11-23 16:38:42 via COM7"
        },
        "xaxis": {
         "title": {
          "text": "Time (s)"
         }
        },
        "yaxis": {
         "fixedrange": true
        }
       }
      }
     },
     "metadata": {},
     "output_type": "display_data"
    },
    {
     "name": "stdout",
     "output_type": "stream",
     "text": [
      "saved JC318L-2022-11-23-163842_reaching_go_spout_nov22.smrx\n",
      "JC314L-2022-11-24-111101_reaching_go_spout_nov22.smrx\n"
     ]
    },
    {
     "name": "stderr",
     "output_type": "stream",
     "text": [
      "C:\\Users\\phar0528\\AppData\\Local\\Temp\\ipykernel_43892\\4133634569.py:21: FutureWarning:\n",
      "\n",
      "The frame.append method is deprecated and will be removed from pandas in a future version. Use pandas.concat instead.\n",
      "\n"
     ]
    },
    {
     "data": {
      "application/vnd.plotly.v1+json": {
       "config": {
        "plotlyServerURL": "https://plot.ly"
       },
       "data": [
        {
         "marker": {
          "symbol": "square"
         },
         "mode": "markers",
         "name": "button_press",
         "type": "scatter",
         "x": [],
         "y": []
        },
        {
         "marker": {
          "symbol": "diamond"
         },
         "mode": "markers",
         "name": "bar",
         "type": "scatter",
         "x": [
          0.877,
          7.842,
          8.146,
          9.702,
          9.789,
          10.175,
          10.265,
          10.707,
          17.614,
          18.131,
          25.749,
          30.986,
          31.06,
          32.049,
          32.279,
          32.401,
          32.558,
          32.637,
          39.221,
          41.804,
          42.297,
          42.382,
          42.617,
          58.236,
          59.135,
          64.477,
          65.452,
          65.525,
          66.829,
          66.859,
          66.929,
          67.079,
          67.37,
          67.405,
          67.464,
          67.584,
          67.813,
          67.883,
          70.459,
          78.393,
          78.464,
          78.53,
          78.547,
          78.733,
          82.59,
          82.674,
          82.745,
          116.227,
          118.444,
          135.233,
          135.265,
          139.344
         ],
         "y": [
          "bar",
          "bar",
          "bar",
          "bar",
          "bar",
          "bar",
          "bar",
          "bar",
          "bar",
          "bar",
          "bar",
          "bar",
          "bar",
          "bar",
          "bar",
          "bar",
          "bar",
          "bar",
          "bar",
          "bar",
          "bar",
          "bar",
          "bar",
          "bar",
          "bar",
          "bar",
          "bar",
          "bar",
          "bar",
          "bar",
          "bar",
          "bar",
          "bar",
          "bar",
          "bar",
          "bar",
          "bar",
          "bar",
          "bar",
          "bar",
          "bar",
          "bar",
          "bar",
          "bar",
          "bar",
          "bar",
          "bar",
          "bar",
          "bar",
          "bar",
          "bar",
          "bar"
         ]
        },
        {
         "marker": {
          "symbol": "cross"
         },
         "mode": "markers",
         "name": "bar_off",
         "type": "scatter",
         "x": [
          0.838,
          7.823,
          8.093,
          8.169,
          9.735,
          10.063,
          10.225,
          10.67,
          17.593,
          18.111,
          25.706,
          28.334,
          31.01,
          31.995,
          32.264,
          32.385,
          32.416,
          32.584,
          32.652,
          41.782,
          42.237,
          42.354,
          42.578,
          42.647,
          59.084,
          59.15,
          65.405,
          65.469,
          66.798,
          66.844,
          66.903,
          67.053,
          67.296,
          67.389,
          67.431,
          67.559,
          67.644,
          67.868,
          70.436,
          70.7,
          78.419,
          78.509,
          78.545,
          78.694,
          78.88,
          82.639,
          82.721,
          82.962,
          118.414,
          119.286,
          135.25,
          138.716
         ],
         "y": [
          "bar_off",
          "bar_off",
          "bar_off",
          "bar_off",
          "bar_off",
          "bar_off",
          "bar_off",
          "bar_off",
          "bar_off",
          "bar_off",
          "bar_off",
          "bar_off",
          "bar_off",
          "bar_off",
          "bar_off",
          "bar_off",
          "bar_off",
          "bar_off",
          "bar_off",
          "bar_off",
          "bar_off",
          "bar_off",
          "bar_off",
          "bar_off",
          "bar_off",
          "bar_off",
          "bar_off",
          "bar_off",
          "bar_off",
          "bar_off",
          "bar_off",
          "bar_off",
          "bar_off",
          "bar_off",
          "bar_off",
          "bar_off",
          "bar_off",
          "bar_off",
          "bar_off",
          "bar_off",
          "bar_off",
          "bar_off",
          "bar_off",
          "bar_off",
          "bar_off",
          "bar_off",
          "bar_off",
          "bar_off",
          "bar_off",
          "bar_off",
          "bar_off",
          "bar_off"
         ]
        },
        {
         "marker": {
          "symbol": "x"
         },
         "mode": "markers",
         "name": "spout",
         "type": "scatter",
         "x": [
          29.998,
          30.199,
          32.834,
          33.035,
          33.18,
          33.284,
          33.429,
          33.533,
          34.171,
          34.372,
          34.647,
          34.84,
          34.894,
          34.999,
          36.2,
          36.448,
          36.614,
          36.705,
          36.739,
          37.839,
          38.087,
          38.21,
          38.384,
          38.834,
          43.016,
          43.241,
          43.266,
          43.329,
          43.577,
          44.249,
          44.498,
          44.583,
          45.746,
          45.994,
          46.832,
          47.081,
          47.656,
          47.857,
          47.875,
          47.895,
          47.915,
          47.935,
          47.955,
          47.975,
          47.995,
          48.015,
          48.035,
          48.055,
          48.075,
          48.095,
          48.135,
          48.155,
          48.175,
          48.195,
          48.215,
          48.235,
          48.255,
          48.275,
          48.296,
          48.357,
          48.413,
          49.008,
          49.22,
          49.257,
          49.438,
          49.648,
          49.687,
          50.383,
          50.723,
          51.23,
          51.431,
          51.582,
          51.757,
          51.83,
          52.005,
          52.42,
          52.667,
          53.935,
          54.165,
          54.183,
          54.285,
          54.325,
          54.345,
          54.365,
          54.385,
          54.405,
          54.425,
          54.445,
          54.465,
          54.485,
          54.525,
          54.541,
          54.626,
          54.646,
          54.666,
          54.687,
          54.743,
          54.991,
          55.239,
          55.437,
          55.587,
          55.685,
          55.794,
          55.836,
          56.619,
          59.635,
          59.857,
          60.154,
          60.515,
          60.686,
          60.895,
          61.281,
          61.53,
          61.735,
          61.795,
          61.815,
          61.835,
          61.855,
          61.875,
          61.895,
          61.915,
          61.935,
          61.955,
          61.975,
          61.995,
          62.015,
          62.035,
          62.055,
          62.075,
          62.095,
          62.115,
          62.135,
          62.155,
          62.175,
          62.195,
          62.215,
          62.235,
          62.255,
          62.275,
          62.295,
          62.315,
          62.335,
          62.375,
          62.499,
          70.145,
          70.346,
          70.966,
          71.101,
          71.276,
          71.523,
          72.029,
          72.277,
          73.434,
          73.682,
          74.065,
          74.314,
          74.446,
          74.601,
          74.694,
          75.131,
          75.377,
          76.53,
          78.107,
          78.354,
          79.31,
          79.472,
          79.672,
          79.719,
          82.327,
          82.529,
          83.106,
          83.142,
          83.327,
          83.575,
          83.824,
          84.902,
          85.15,
          85.63,
          86.292,
          86.541,
          86.726,
          86.765,
          86.885,
          86.905,
          86.925,
          86.945,
          86.965,
          86.985,
          87.005,
          87.022,
          87.045,
          87.065,
          87.085,
          87.125,
          87.145,
          87.165,
          87.185,
          87.285,
          87.305,
          87.325,
          87.345,
          87.365,
          87.385,
          87.425,
          87.465,
          87.485,
          87.505,
          87.525,
          87.545,
          87.665,
          89.311,
          89.56,
          89.646,
          90.594,
          90.841,
          91.181,
          91.382,
          91.947,
          92.195,
          92.34,
          92.541,
          92.876,
          93.963,
          94.212,
          95.247,
          95.495,
          95.541,
          95.79,
          97.389,
          97.637,
          97.996,
          98.36,
          98.609,
          99.078,
          99.327,
          100.49,
          100.945,
          101.193,
          102.065,
          102.313,
          102.46,
          102.707,
          103.768,
          103.969,
          104.147,
          104.348,
          104.366,
          104.431,
          105.005,
          105.065,
          105.206,
          105.225,
          105.266,
          105.372,
          105.62,
          107.378,
          107.98,
          108.181,
          108.324,
          108.524,
          108.633,
          108.88,
          109.959,
          110.159,
          110.284,
          110.533,
          112.395,
          112.415,
          112.435,
          112.475,
          112.495,
          112.515,
          112.575,
          112.595,
          112.615,
          112.655,
          112.675,
          112.695,
          112.716,
          112.735,
          112.755,
          112.773,
          112.795,
          112.853,
          113.287,
          113.535,
          114.689,
          115.083,
          119.661,
          119.862,
          120.02,
          120.086,
          120.287,
          120.351,
          122.521,
          122.722,
          122.864,
          123.087,
          123.113,
          123.221,
          123.422,
          124.042,
          124.242,
          124.312,
          125.215,
          125.416,
          125.544,
          125.771,
          125.792,
          125.851,
          126.098,
          126.415,
          126.435,
          126.455,
          126.475,
          126.495,
          126.515,
          126.535,
          126.555,
          126.575,
          126.595,
          126.615,
          126.636,
          126.655,
          126.675,
          126.695,
          126.715,
          126.735,
          126.755,
          126.815,
          126.855,
          126.873,
          126.895,
          126.915,
          126.935,
          126.955,
          126.975,
          127.116,
          127.136,
          127.156,
          127.176,
          127.233,
          128.877,
          128.979,
          129.126,
          129.227,
          130.214,
          130.463,
          130.569,
          130.77,
          131.693,
          131.941,
          132.098,
          132.325,
          132.345,
          132.365,
          132.385,
          132.405,
          132.425,
          132.445,
          132.485,
          132.545,
          132.565,
          132.586,
          132.605,
          132.625,
          132.645,
          132.665,
          132.685,
          132.705,
          132.725,
          132.742,
          132.765,
          132.785,
          132.805,
          132.823,
          132.845,
          132.865,
          132.885,
          132.905,
          132.925,
          132.945,
          132.965,
          133.066,
          133.086,
          133.106,
          133.126,
          133.146,
          133.166,
          133.223
         ],
         "y": [
          "spout",
          "spout",
          "spout",
          "spout",
          "spout",
          "spout",
          "spout",
          "spout",
          "spout",
          "spout",
          "spout",
          "spout",
          "spout",
          "spout",
          "spout",
          "spout",
          "spout",
          "spout",
          "spout",
          "spout",
          "spout",
          "spout",
          "spout",
          "spout",
          "spout",
          "spout",
          "spout",
          "spout",
          "spout",
          "spout",
          "spout",
          "spout",
          "spout",
          "spout",
          "spout",
          "spout",
          "spout",
          "spout",
          "spout",
          "spout",
          "spout",
          "spout",
          "spout",
          "spout",
          "spout",
          "spout",
          "spout",
          "spout",
          "spout",
          "spout",
          "spout",
          "spout",
          "spout",
          "spout",
          "spout",
          "spout",
          "spout",
          "spout",
          "spout",
          "spout",
          "spout",
          "spout",
          "spout",
          "spout",
          "spout",
          "spout",
          "spout",
          "spout",
          "spout",
          "spout",
          "spout",
          "spout",
          "spout",
          "spout",
          "spout",
          "spout",
          "spout",
          "spout",
          "spout",
          "spout",
          "spout",
          "spout",
          "spout",
          "spout",
          "spout",
          "spout",
          "spout",
          "spout",
          "spout",
          "spout",
          "spout",
          "spout",
          "spout",
          "spout",
          "spout",
          "spout",
          "spout",
          "spout",
          "spout",
          "spout",
          "spout",
          "spout",
          "spout",
          "spout",
          "spout",
          "spout",
          "spout",
          "spout",
          "spout",
          "spout",
          "spout",
          "spout",
          "spout",
          "spout",
          "spout",
          "spout",
          "spout",
          "spout",
          "spout",
          "spout",
          "spout",
          "spout",
          "spout",
          "spout",
          "spout",
          "spout",
          "spout",
          "spout",
          "spout",
          "spout",
          "spout",
          "spout",
          "spout",
          "spout",
          "spout",
          "spout",
          "spout",
          "spout",
          "spout",
          "spout",
          "spout",
          "spout",
          "spout",
          "spout",
          "spout",
          "spout",
          "spout",
          "spout",
          "spout",
          "spout",
          "spout",
          "spout",
          "spout",
          "spout",
          "spout",
          "spout",
          "spout",
          "spout",
          "spout",
          "spout",
          "spout",
          "spout",
          "spout",
          "spout",
          "spout",
          "spout",
          "spout",
          "spout",
          "spout",
          "spout",
          "spout",
          "spout",
          "spout",
          "spout",
          "spout",
          "spout",
          "spout",
          "spout",
          "spout",
          "spout",
          "spout",
          "spout",
          "spout",
          "spout",
          "spout",
          "spout",
          "spout",
          "spout",
          "spout",
          "spout",
          "spout",
          "spout",
          "spout",
          "spout",
          "spout",
          "spout",
          "spout",
          "spout",
          "spout",
          "spout",
          "spout",
          "spout",
          "spout",
          "spout",
          "spout",
          "spout",
          "spout",
          "spout",
          "spout",
          "spout",
          "spout",
          "spout",
          "spout",
          "spout",
          "spout",
          "spout",
          "spout",
          "spout",
          "spout",
          "spout",
          "spout",
          "spout",
          "spout",
          "spout",
          "spout",
          "spout",
          "spout",
          "spout",
          "spout",
          "spout",
          "spout",
          "spout",
          "spout",
          "spout",
          "spout",
          "spout",
          "spout",
          "spout",
          "spout",
          "spout",
          "spout",
          "spout",
          "spout",
          "spout",
          "spout",
          "spout",
          "spout",
          "spout",
          "spout",
          "spout",
          "spout",
          "spout",
          "spout",
          "spout",
          "spout",
          "spout",
          "spout",
          "spout",
          "spout",
          "spout",
          "spout",
          "spout",
          "spout",
          "spout",
          "spout",
          "spout",
          "spout",
          "spout",
          "spout",
          "spout",
          "spout",
          "spout",
          "spout",
          "spout",
          "spout",
          "spout",
          "spout",
          "spout",
          "spout",
          "spout",
          "spout",
          "spout",
          "spout",
          "spout",
          "spout",
          "spout",
          "spout",
          "spout",
          "spout",
          "spout",
          "spout",
          "spout",
          "spout",
          "spout",
          "spout",
          "spout",
          "spout",
          "spout",
          "spout",
          "spout",
          "spout",
          "spout",
          "spout",
          "spout",
          "spout",
          "spout",
          "spout",
          "spout",
          "spout",
          "spout",
          "spout",
          "spout",
          "spout",
          "spout",
          "spout",
          "spout",
          "spout",
          "spout",
          "spout",
          "spout",
          "spout",
          "spout",
          "spout",
          "spout",
          "spout",
          "spout",
          "spout",
          "spout",
          "spout",
          "spout",
          "spout",
          "spout",
          "spout",
          "spout",
          "spout",
          "spout",
          "spout",
          "spout",
          "spout",
          "spout",
          "spout",
          "spout",
          "spout",
          "spout",
          "spout",
          "spout",
          "spout",
          "spout",
          "spout",
          "spout",
          "spout",
          "spout",
          "spout",
          "spout",
          "spout",
          "spout",
          "spout",
          "spout",
          "spout",
          "spout",
          "spout",
          "spout",
          "spout",
          "spout",
          "spout",
          "spout",
          "spout",
          "spout",
          "spout",
          "spout",
          "spout",
          "spout",
          "spout",
          "spout",
          "spout",
          "spout",
          "spout",
          "spout",
          "spout",
          "spout",
          "spout",
          "spout",
          "spout",
          "spout",
          "spout",
          "spout",
          "spout",
          "spout",
          "spout",
          "spout"
         ]
        },
        {
         "marker": {
          "symbol": "triangle-up"
         },
         "mode": "markers",
         "name": "US_delay_timer",
         "type": "scatter",
         "x": [
          30.199,
          33.035,
          33.381,
          33.485,
          34.372,
          34.848,
          36.401,
          36.815,
          36.905,
          36.94,
          38.04,
          43.218,
          43.529,
          44.45,
          44.784,
          45.947,
          47.033,
          47.857,
          48.156,
          48.176,
          48.196,
          48.216,
          48.236,
          48.256,
          48.276,
          48.296,
          48.336,
          48.357,
          49.209,
          49.639,
          51.431,
          51.783,
          51.958,
          52.621,
          54.136,
          54.486,
          54.526,
          54.546,
          54.566,
          54.586,
          54.606,
          54.626,
          54.646,
          54.666,
          54.687,
          55.192,
          55.638,
          55.788,
          59.836,
          60.355,
          60.715,
          60.887,
          61.482,
          70.346,
          71.167,
          71.302,
          71.477,
          72.23,
          73.635,
          74.266,
          74.647,
          74.802,
          75.331,
          78.308,
          79.511,
          79.672,
          82.529,
          83.307,
          83.342,
          83.776,
          85.103,
          85.831,
          86.493,
          86.927,
          86.966,
          87.086,
          89.512,
          89.846,
          90.794,
          91.382,
          92.148,
          92.541,
          93.077,
          94.164,
          95.448,
          95.742,
          97.59,
          98.197,
          98.561,
          99.279,
          100.691,
          101.146,
          102.266,
          102.661,
          103.969,
          104.348,
          105.206,
          105.266,
          105.572,
          108.181,
          108.524,
          108.834,
          110.159,
          110.485,
          112.596,
          112.616,
          112.636,
          112.676,
          112.696,
          112.716,
          112.776,
          112.796,
          113.488,
          119.862,
          120.221,
          120.287,
          122.722,
          123.065,
          123.422,
          124.242,
          125.416,
          125.745,
          126.052,
          126.616,
          126.636,
          126.656,
          126.676,
          126.696,
          126.716,
          126.736,
          126.756,
          126.776,
          126.797,
          126.817,
          127.116,
          127.136,
          127.156,
          127.176,
          129.079,
          129.179,
          130.415,
          130.77,
          131.894,
          132.299,
          132.586,
          132.606,
          132.626,
          132.646,
          132.686,
          132.746,
          132.766,
          133.066,
          133.086,
          133.106,
          133.126,
          133.146,
          133.166
         ],
         "y": [
          "US_delay_timer",
          "US_delay_timer",
          "US_delay_timer",
          "US_delay_timer",
          "US_delay_timer",
          "US_delay_timer",
          "US_delay_timer",
          "US_delay_timer",
          "US_delay_timer",
          "US_delay_timer",
          "US_delay_timer",
          "US_delay_timer",
          "US_delay_timer",
          "US_delay_timer",
          "US_delay_timer",
          "US_delay_timer",
          "US_delay_timer",
          "US_delay_timer",
          "US_delay_timer",
          "US_delay_timer",
          "US_delay_timer",
          "US_delay_timer",
          "US_delay_timer",
          "US_delay_timer",
          "US_delay_timer",
          "US_delay_timer",
          "US_delay_timer",
          "US_delay_timer",
          "US_delay_timer",
          "US_delay_timer",
          "US_delay_timer",
          "US_delay_timer",
          "US_delay_timer",
          "US_delay_timer",
          "US_delay_timer",
          "US_delay_timer",
          "US_delay_timer",
          "US_delay_timer",
          "US_delay_timer",
          "US_delay_timer",
          "US_delay_timer",
          "US_delay_timer",
          "US_delay_timer",
          "US_delay_timer",
          "US_delay_timer",
          "US_delay_timer",
          "US_delay_timer",
          "US_delay_timer",
          "US_delay_timer",
          "US_delay_timer",
          "US_delay_timer",
          "US_delay_timer",
          "US_delay_timer",
          "US_delay_timer",
          "US_delay_timer",
          "US_delay_timer",
          "US_delay_timer",
          "US_delay_timer",
          "US_delay_timer",
          "US_delay_timer",
          "US_delay_timer",
          "US_delay_timer",
          "US_delay_timer",
          "US_delay_timer",
          "US_delay_timer",
          "US_delay_timer",
          "US_delay_timer",
          "US_delay_timer",
          "US_delay_timer",
          "US_delay_timer",
          "US_delay_timer",
          "US_delay_timer",
          "US_delay_timer",
          "US_delay_timer",
          "US_delay_timer",
          "US_delay_timer",
          "US_delay_timer",
          "US_delay_timer",
          "US_delay_timer",
          "US_delay_timer",
          "US_delay_timer",
          "US_delay_timer",
          "US_delay_timer",
          "US_delay_timer",
          "US_delay_timer",
          "US_delay_timer",
          "US_delay_timer",
          "US_delay_timer",
          "US_delay_timer",
          "US_delay_timer",
          "US_delay_timer",
          "US_delay_timer",
          "US_delay_timer",
          "US_delay_timer",
          "US_delay_timer",
          "US_delay_timer",
          "US_delay_timer",
          "US_delay_timer",
          "US_delay_timer",
          "US_delay_timer",
          "US_delay_timer",
          "US_delay_timer",
          "US_delay_timer",
          "US_delay_timer",
          "US_delay_timer",
          "US_delay_timer",
          "US_delay_timer",
          "US_delay_timer",
          "US_delay_timer",
          "US_delay_timer",
          "US_delay_timer",
          "US_delay_timer",
          "US_delay_timer",
          "US_delay_timer",
          "US_delay_timer",
          "US_delay_timer",
          "US_delay_timer",
          "US_delay_timer",
          "US_delay_timer",
          "US_delay_timer",
          "US_delay_timer",
          "US_delay_timer",
          "US_delay_timer",
          "US_delay_timer",
          "US_delay_timer",
          "US_delay_timer",
          "US_delay_timer",
          "US_delay_timer",
          "US_delay_timer",
          "US_delay_timer",
          "US_delay_timer",
          "US_delay_timer",
          "US_delay_timer",
          "US_delay_timer",
          "US_delay_timer",
          "US_delay_timer",
          "US_delay_timer",
          "US_delay_timer",
          "US_delay_timer",
          "US_delay_timer",
          "US_delay_timer",
          "US_delay_timer",
          "US_delay_timer",
          "US_delay_timer",
          "US_delay_timer",
          "US_delay_timer",
          "US_delay_timer",
          "US_delay_timer",
          "US_delay_timer",
          "US_delay_timer",
          "US_delay_timer",
          "US_delay_timer",
          "US_delay_timer",
          "US_delay_timer",
          "US_delay_timer",
          "US_delay_timer",
          "US_delay_timer"
         ]
        },
        {
         "marker": {
          "symbol": "triangle-down"
         },
         "mode": "markers",
         "name": "CS_offset_timer",
         "type": "scatter",
         "x": [
          2,
          30.299,
          33.135,
          33.481,
          33.585,
          34.471,
          34.948,
          36.501,
          36.914,
          37.005,
          37.04,
          38.14,
          43.317,
          43.629,
          44.55,
          44.884,
          46.047,
          47.132,
          47.956,
          48.256,
          48.276,
          48.296,
          48.316,
          48.336,
          48.356,
          48.376,
          48.396,
          48.436,
          48.456,
          49.309,
          49.739,
          51.531,
          51.882,
          52.058,
          52.72,
          54.236,
          54.585,
          54.626,
          54.646,
          54.666,
          54.686,
          54.706,
          54.726,
          54.746,
          54.766,
          54.786,
          55.292,
          55.738,
          55.888,
          59.936,
          60.455,
          60.815,
          60.987,
          61.582,
          70.446,
          71.267,
          71.402,
          71.577,
          72.33,
          73.735,
          74.366,
          74.747,
          74.902,
          75.431,
          78.408,
          79.611,
          79.772,
          82.628,
          83.406,
          83.442,
          83.876,
          85.203,
          85.931,
          86.593,
          87.027,
          87.066,
          87.186,
          89.612,
          89.946,
          90.894,
          91.482,
          92.248,
          92.641,
          93.177,
          94.264,
          95.548,
          95.842,
          97.69,
          98.297,
          98.661,
          99.379,
          100.791,
          101.245,
          102.365,
          102.761,
          104.069,
          104.448,
          105.305,
          105.366,
          105.672,
          108.281,
          108.624,
          108.934,
          110.259,
          110.585,
          112.696,
          112.716,
          112.736,
          112.776,
          112.796,
          112.816,
          112.876,
          112.896,
          113.588,
          119.962,
          120.321,
          120.387,
          122.822,
          123.165,
          123.522,
          124.342,
          125.516,
          125.845,
          126.152,
          126.716,
          126.736,
          126.756,
          126.776,
          126.796,
          126.816,
          126.836,
          126.856,
          126.876,
          126.896,
          126.916,
          127.216,
          127.236,
          127.256,
          127.276,
          129.178,
          129.279,
          130.514,
          130.87,
          131.994,
          132.398,
          132.686,
          132.706,
          132.726,
          132.746,
          132.786,
          132.846,
          132.866,
          133.166,
          133.186,
          133.206,
          133.226,
          133.246,
          133.266
         ],
         "y": [
          "CS_offset_timer",
          "CS_offset_timer",
          "CS_offset_timer",
          "CS_offset_timer",
          "CS_offset_timer",
          "CS_offset_timer",
          "CS_offset_timer",
          "CS_offset_timer",
          "CS_offset_timer",
          "CS_offset_timer",
          "CS_offset_timer",
          "CS_offset_timer",
          "CS_offset_timer",
          "CS_offset_timer",
          "CS_offset_timer",
          "CS_offset_timer",
          "CS_offset_timer",
          "CS_offset_timer",
          "CS_offset_timer",
          "CS_offset_timer",
          "CS_offset_timer",
          "CS_offset_timer",
          "CS_offset_timer",
          "CS_offset_timer",
          "CS_offset_timer",
          "CS_offset_timer",
          "CS_offset_timer",
          "CS_offset_timer",
          "CS_offset_timer",
          "CS_offset_timer",
          "CS_offset_timer",
          "CS_offset_timer",
          "CS_offset_timer",
          "CS_offset_timer",
          "CS_offset_timer",
          "CS_offset_timer",
          "CS_offset_timer",
          "CS_offset_timer",
          "CS_offset_timer",
          "CS_offset_timer",
          "CS_offset_timer",
          "CS_offset_timer",
          "CS_offset_timer",
          "CS_offset_timer",
          "CS_offset_timer",
          "CS_offset_timer",
          "CS_offset_timer",
          "CS_offset_timer",
          "CS_offset_timer",
          "CS_offset_timer",
          "CS_offset_timer",
          "CS_offset_timer",
          "CS_offset_timer",
          "CS_offset_timer",
          "CS_offset_timer",
          "CS_offset_timer",
          "CS_offset_timer",
          "CS_offset_timer",
          "CS_offset_timer",
          "CS_offset_timer",
          "CS_offset_timer",
          "CS_offset_timer",
          "CS_offset_timer",
          "CS_offset_timer",
          "CS_offset_timer",
          "CS_offset_timer",
          "CS_offset_timer",
          "CS_offset_timer",
          "CS_offset_timer",
          "CS_offset_timer",
          "CS_offset_timer",
          "CS_offset_timer",
          "CS_offset_timer",
          "CS_offset_timer",
          "CS_offset_timer",
          "CS_offset_timer",
          "CS_offset_timer",
          "CS_offset_timer",
          "CS_offset_timer",
          "CS_offset_timer",
          "CS_offset_timer",
          "CS_offset_timer",
          "CS_offset_timer",
          "CS_offset_timer",
          "CS_offset_timer",
          "CS_offset_timer",
          "CS_offset_timer",
          "CS_offset_timer",
          "CS_offset_timer",
          "CS_offset_timer",
          "CS_offset_timer",
          "CS_offset_timer",
          "CS_offset_timer",
          "CS_offset_timer",
          "CS_offset_timer",
          "CS_offset_timer",
          "CS_offset_timer",
          "CS_offset_timer",
          "CS_offset_timer",
          "CS_offset_timer",
          "CS_offset_timer",
          "CS_offset_timer",
          "CS_offset_timer",
          "CS_offset_timer",
          "CS_offset_timer",
          "CS_offset_timer",
          "CS_offset_timer",
          "CS_offset_timer",
          "CS_offset_timer",
          "CS_offset_timer",
          "CS_offset_timer",
          "CS_offset_timer",
          "CS_offset_timer",
          "CS_offset_timer",
          "CS_offset_timer",
          "CS_offset_timer",
          "CS_offset_timer",
          "CS_offset_timer",
          "CS_offset_timer",
          "CS_offset_timer",
          "CS_offset_timer",
          "CS_offset_timer",
          "CS_offset_timer",
          "CS_offset_timer",
          "CS_offset_timer",
          "CS_offset_timer",
          "CS_offset_timer",
          "CS_offset_timer",
          "CS_offset_timer",
          "CS_offset_timer",
          "CS_offset_timer",
          "CS_offset_timer",
          "CS_offset_timer",
          "CS_offset_timer",
          "CS_offset_timer",
          "CS_offset_timer",
          "CS_offset_timer",
          "CS_offset_timer",
          "CS_offset_timer",
          "CS_offset_timer",
          "CS_offset_timer",
          "CS_offset_timer",
          "CS_offset_timer",
          "CS_offset_timer",
          "CS_offset_timer",
          "CS_offset_timer",
          "CS_offset_timer",
          "CS_offset_timer",
          "CS_offset_timer",
          "CS_offset_timer",
          "CS_offset_timer",
          "CS_offset_timer",
          "CS_offset_timer",
          "CS_offset_timer",
          "CS_offset_timer",
          "CS_offset_timer",
          "CS_offset_timer",
          "CS_offset_timer"
         ]
        },
        {
         "line": {
          "width": 5
         },
         "mode": "lines",
         "name": "waiting_for_spout",
         "type": "scatter",
         "x": [
          1.633,
          29.998,
          null,
          32.001,
          32.835,
          null,
          35.955,
          36.2,
          null,
          39.355,
          43.017,
          null,
          45.019,
          45.747,
          null,
          47.749,
          47.956,
          null,
          50.997,
          51.23,
          null,
          53.233,
          53.936,
          null,
          57.27,
          59.636,
          null,
          62.775,
          70.146,
          null,
          73.394,
          73.435,
          null,
          77.287,
          78.107,
          null,
          80.11,
          82.328,
          null,
          84.33,
          84.902,
          null,
          87.957,
          89.312,
          null,
          91.314,
          91.947,
          null,
          93.95,
          93.964,
          null,
          95.966,
          97.389,
          null,
          99.392,
          100.491,
          null,
          102.493,
          103.768,
          null,
          107.739,
          107.981,
          null,
          109.983,
          110.285,
          null,
          112.287,
          112.396,
          null,
          115.671,
          119.662,
          null,
          121.664,
          122.521,
          null,
          124.524,
          125.215,
          null,
          128.269,
          128.878,
          null,
          130.88,
          131.694,
          null
         ],
         "y": [
          "waiting_for_spout",
          "waiting_for_spout",
          "waiting_for_spout",
          "waiting_for_spout",
          "waiting_for_spout",
          "waiting_for_spout",
          "waiting_for_spout",
          "waiting_for_spout",
          "waiting_for_spout",
          "waiting_for_spout",
          "waiting_for_spout",
          "waiting_for_spout",
          "waiting_for_spout",
          "waiting_for_spout",
          "waiting_for_spout",
          "waiting_for_spout",
          "waiting_for_spout",
          "waiting_for_spout",
          "waiting_for_spout",
          "waiting_for_spout",
          "waiting_for_spout",
          "waiting_for_spout",
          "waiting_for_spout",
          "waiting_for_spout",
          "waiting_for_spout",
          "waiting_for_spout",
          "waiting_for_spout",
          "waiting_for_spout",
          "waiting_for_spout",
          "waiting_for_spout",
          "waiting_for_spout",
          "waiting_for_spout",
          "waiting_for_spout",
          "waiting_for_spout",
          "waiting_for_spout",
          "waiting_for_spout",
          "waiting_for_spout",
          "waiting_for_spout",
          "waiting_for_spout",
          "waiting_for_spout",
          "waiting_for_spout",
          "waiting_for_spout",
          "waiting_for_spout",
          "waiting_for_spout",
          "waiting_for_spout",
          "waiting_for_spout",
          "waiting_for_spout",
          "waiting_for_spout",
          "waiting_for_spout",
          "waiting_for_spout",
          "waiting_for_spout",
          "waiting_for_spout",
          "waiting_for_spout",
          "waiting_for_spout",
          "waiting_for_spout",
          "waiting_for_spout",
          "waiting_for_spout",
          "waiting_for_spout",
          "waiting_for_spout",
          "waiting_for_spout",
          "waiting_for_spout",
          "waiting_for_spout",
          "waiting_for_spout",
          "waiting_for_spout",
          "waiting_for_spout",
          "waiting_for_spout",
          "waiting_for_spout",
          "waiting_for_spout",
          "waiting_for_spout",
          "waiting_for_spout",
          "waiting_for_spout",
          "waiting_for_spout",
          "waiting_for_spout",
          "waiting_for_spout",
          "waiting_for_spout",
          "waiting_for_spout",
          "waiting_for_spout",
          "waiting_for_spout",
          "waiting_for_spout",
          "waiting_for_spout",
          "waiting_for_spout",
          "waiting_for_spout",
          "waiting_for_spout",
          "waiting_for_spout"
         ]
        },
        {
         "line": {
          "width": 5
         },
         "mode": "lines",
         "name": "busy_win",
         "type": "scatter",
         "x": [
          32.835,
          34.837,
          null,
          36.2,
          38.203,
          null,
          47.956,
          49.958,
          null,
          53.936,
          55.938,
          null,
          59.636,
          61.638,
          null,
          70.146,
          72.148,
          null,
          73.435,
          75.437,
          null,
          84.902,
          86.905,
          null,
          103.768,
          105.77,
          null,
          112.396,
          114.398,
          null,
          125.215,
          127.217,
          null,
          131.694,
          133.696,
          null
         ],
         "y": [
          "busy_win",
          "busy_win",
          "busy_win",
          "busy_win",
          "busy_win",
          "busy_win",
          "busy_win",
          "busy_win",
          "busy_win",
          "busy_win",
          "busy_win",
          "busy_win",
          "busy_win",
          "busy_win",
          "busy_win",
          "busy_win",
          "busy_win",
          "busy_win",
          "busy_win",
          "busy_win",
          "busy_win",
          "busy_win",
          "busy_win",
          "busy_win",
          "busy_win",
          "busy_win",
          "busy_win",
          "busy_win",
          "busy_win",
          "busy_win",
          "busy_win",
          "busy_win",
          "busy_win",
          "busy_win",
          "busy_win",
          "busy_win"
         ]
        },
        {
         "line": {
          "width": 5
         },
         "mode": "lines",
         "name": "short_break",
         "type": "scatter",
         "x": [
          0,
          1.633,
          null,
          34.837,
          35.955,
          null,
          38.203,
          39.355,
          null,
          49.958,
          50.997,
          null,
          55.938,
          57.27,
          null,
          61.638,
          62.775,
          null,
          72.148,
          73.394,
          null,
          75.437,
          77.287,
          null,
          86.905,
          87.957,
          null,
          105.77,
          107.739,
          null,
          114.398,
          115.671,
          null,
          127.217,
          128.269,
          null,
          133.696,
          134.802,
          null
         ],
         "y": [
          "short_break",
          "short_break",
          "short_break",
          "short_break",
          "short_break",
          "short_break",
          "short_break",
          "short_break",
          "short_break",
          "short_break",
          "short_break",
          "short_break",
          "short_break",
          "short_break",
          "short_break",
          "short_break",
          "short_break",
          "short_break",
          "short_break",
          "short_break",
          "short_break",
          "short_break",
          "short_break",
          "short_break",
          "short_break",
          "short_break",
          "short_break",
          "short_break",
          "short_break",
          "short_break",
          "short_break",
          "short_break",
          "short_break",
          "short_break",
          "short_break",
          "short_break",
          "short_break",
          "short_break",
          "short_break"
         ]
        }
       ],
       "layout": {
        "template": {
         "data": {
          "bar": [
           {
            "error_x": {
             "color": "#2a3f5f"
            },
            "error_y": {
             "color": "#2a3f5f"
            },
            "marker": {
             "line": {
              "color": "#E5ECF6",
              "width": 0.5
             },
             "pattern": {
              "fillmode": "overlay",
              "size": 10,
              "solidity": 0.2
             }
            },
            "type": "bar"
           }
          ],
          "barpolar": [
           {
            "marker": {
             "line": {
              "color": "#E5ECF6",
              "width": 0.5
             },
             "pattern": {
              "fillmode": "overlay",
              "size": 10,
              "solidity": 0.2
             }
            },
            "type": "barpolar"
           }
          ],
          "carpet": [
           {
            "aaxis": {
             "endlinecolor": "#2a3f5f",
             "gridcolor": "white",
             "linecolor": "white",
             "minorgridcolor": "white",
             "startlinecolor": "#2a3f5f"
            },
            "baxis": {
             "endlinecolor": "#2a3f5f",
             "gridcolor": "white",
             "linecolor": "white",
             "minorgridcolor": "white",
             "startlinecolor": "#2a3f5f"
            },
            "type": "carpet"
           }
          ],
          "choropleth": [
           {
            "colorbar": {
             "outlinewidth": 0,
             "ticks": ""
            },
            "type": "choropleth"
           }
          ],
          "contour": [
           {
            "colorbar": {
             "outlinewidth": 0,
             "ticks": ""
            },
            "colorscale": [
             [
              0,
              "#0d0887"
             ],
             [
              0.1111111111111111,
              "#46039f"
             ],
             [
              0.2222222222222222,
              "#7201a8"
             ],
             [
              0.3333333333333333,
              "#9c179e"
             ],
             [
              0.4444444444444444,
              "#bd3786"
             ],
             [
              0.5555555555555556,
              "#d8576b"
             ],
             [
              0.6666666666666666,
              "#ed7953"
             ],
             [
              0.7777777777777778,
              "#fb9f3a"
             ],
             [
              0.8888888888888888,
              "#fdca26"
             ],
             [
              1,
              "#f0f921"
             ]
            ],
            "type": "contour"
           }
          ],
          "contourcarpet": [
           {
            "colorbar": {
             "outlinewidth": 0,
             "ticks": ""
            },
            "type": "contourcarpet"
           }
          ],
          "heatmap": [
           {
            "colorbar": {
             "outlinewidth": 0,
             "ticks": ""
            },
            "colorscale": [
             [
              0,
              "#0d0887"
             ],
             [
              0.1111111111111111,
              "#46039f"
             ],
             [
              0.2222222222222222,
              "#7201a8"
             ],
             [
              0.3333333333333333,
              "#9c179e"
             ],
             [
              0.4444444444444444,
              "#bd3786"
             ],
             [
              0.5555555555555556,
              "#d8576b"
             ],
             [
              0.6666666666666666,
              "#ed7953"
             ],
             [
              0.7777777777777778,
              "#fb9f3a"
             ],
             [
              0.8888888888888888,
              "#fdca26"
             ],
             [
              1,
              "#f0f921"
             ]
            ],
            "type": "heatmap"
           }
          ],
          "heatmapgl": [
           {
            "colorbar": {
             "outlinewidth": 0,
             "ticks": ""
            },
            "colorscale": [
             [
              0,
              "#0d0887"
             ],
             [
              0.1111111111111111,
              "#46039f"
             ],
             [
              0.2222222222222222,
              "#7201a8"
             ],
             [
              0.3333333333333333,
              "#9c179e"
             ],
             [
              0.4444444444444444,
              "#bd3786"
             ],
             [
              0.5555555555555556,
              "#d8576b"
             ],
             [
              0.6666666666666666,
              "#ed7953"
             ],
             [
              0.7777777777777778,
              "#fb9f3a"
             ],
             [
              0.8888888888888888,
              "#fdca26"
             ],
             [
              1,
              "#f0f921"
             ]
            ],
            "type": "heatmapgl"
           }
          ],
          "histogram": [
           {
            "marker": {
             "pattern": {
              "fillmode": "overlay",
              "size": 10,
              "solidity": 0.2
             }
            },
            "type": "histogram"
           }
          ],
          "histogram2d": [
           {
            "colorbar": {
             "outlinewidth": 0,
             "ticks": ""
            },
            "colorscale": [
             [
              0,
              "#0d0887"
             ],
             [
              0.1111111111111111,
              "#46039f"
             ],
             [
              0.2222222222222222,
              "#7201a8"
             ],
             [
              0.3333333333333333,
              "#9c179e"
             ],
             [
              0.4444444444444444,
              "#bd3786"
             ],
             [
              0.5555555555555556,
              "#d8576b"
             ],
             [
              0.6666666666666666,
              "#ed7953"
             ],
             [
              0.7777777777777778,
              "#fb9f3a"
             ],
             [
              0.8888888888888888,
              "#fdca26"
             ],
             [
              1,
              "#f0f921"
             ]
            ],
            "type": "histogram2d"
           }
          ],
          "histogram2dcontour": [
           {
            "colorbar": {
             "outlinewidth": 0,
             "ticks": ""
            },
            "colorscale": [
             [
              0,
              "#0d0887"
             ],
             [
              0.1111111111111111,
              "#46039f"
             ],
             [
              0.2222222222222222,
              "#7201a8"
             ],
             [
              0.3333333333333333,
              "#9c179e"
             ],
             [
              0.4444444444444444,
              "#bd3786"
             ],
             [
              0.5555555555555556,
              "#d8576b"
             ],
             [
              0.6666666666666666,
              "#ed7953"
             ],
             [
              0.7777777777777778,
              "#fb9f3a"
             ],
             [
              0.8888888888888888,
              "#fdca26"
             ],
             [
              1,
              "#f0f921"
             ]
            ],
            "type": "histogram2dcontour"
           }
          ],
          "mesh3d": [
           {
            "colorbar": {
             "outlinewidth": 0,
             "ticks": ""
            },
            "type": "mesh3d"
           }
          ],
          "parcoords": [
           {
            "line": {
             "colorbar": {
              "outlinewidth": 0,
              "ticks": ""
             }
            },
            "type": "parcoords"
           }
          ],
          "pie": [
           {
            "automargin": true,
            "type": "pie"
           }
          ],
          "scatter": [
           {
            "fillpattern": {
             "fillmode": "overlay",
             "size": 10,
             "solidity": 0.2
            },
            "type": "scatter"
           }
          ],
          "scatter3d": [
           {
            "line": {
             "colorbar": {
              "outlinewidth": 0,
              "ticks": ""
             }
            },
            "marker": {
             "colorbar": {
              "outlinewidth": 0,
              "ticks": ""
             }
            },
            "type": "scatter3d"
           }
          ],
          "scattercarpet": [
           {
            "marker": {
             "colorbar": {
              "outlinewidth": 0,
              "ticks": ""
             }
            },
            "type": "scattercarpet"
           }
          ],
          "scattergeo": [
           {
            "marker": {
             "colorbar": {
              "outlinewidth": 0,
              "ticks": ""
             }
            },
            "type": "scattergeo"
           }
          ],
          "scattergl": [
           {
            "marker": {
             "colorbar": {
              "outlinewidth": 0,
              "ticks": ""
             }
            },
            "type": "scattergl"
           }
          ],
          "scattermapbox": [
           {
            "marker": {
             "colorbar": {
              "outlinewidth": 0,
              "ticks": ""
             }
            },
            "type": "scattermapbox"
           }
          ],
          "scatterpolar": [
           {
            "marker": {
             "colorbar": {
              "outlinewidth": 0,
              "ticks": ""
             }
            },
            "type": "scatterpolar"
           }
          ],
          "scatterpolargl": [
           {
            "marker": {
             "colorbar": {
              "outlinewidth": 0,
              "ticks": ""
             }
            },
            "type": "scatterpolargl"
           }
          ],
          "scatterternary": [
           {
            "marker": {
             "colorbar": {
              "outlinewidth": 0,
              "ticks": ""
             }
            },
            "type": "scatterternary"
           }
          ],
          "surface": [
           {
            "colorbar": {
             "outlinewidth": 0,
             "ticks": ""
            },
            "colorscale": [
             [
              0,
              "#0d0887"
             ],
             [
              0.1111111111111111,
              "#46039f"
             ],
             [
              0.2222222222222222,
              "#7201a8"
             ],
             [
              0.3333333333333333,
              "#9c179e"
             ],
             [
              0.4444444444444444,
              "#bd3786"
             ],
             [
              0.5555555555555556,
              "#d8576b"
             ],
             [
              0.6666666666666666,
              "#ed7953"
             ],
             [
              0.7777777777777778,
              "#fb9f3a"
             ],
             [
              0.8888888888888888,
              "#fdca26"
             ],
             [
              1,
              "#f0f921"
             ]
            ],
            "type": "surface"
           }
          ],
          "table": [
           {
            "cells": {
             "fill": {
              "color": "#EBF0F8"
             },
             "line": {
              "color": "white"
             }
            },
            "header": {
             "fill": {
              "color": "#C8D4E3"
             },
             "line": {
              "color": "white"
             }
            },
            "type": "table"
           }
          ]
         },
         "layout": {
          "annotationdefaults": {
           "arrowcolor": "#2a3f5f",
           "arrowhead": 0,
           "arrowwidth": 1
          },
          "autotypenumbers": "strict",
          "coloraxis": {
           "colorbar": {
            "outlinewidth": 0,
            "ticks": ""
           }
          },
          "colorscale": {
           "diverging": [
            [
             0,
             "#8e0152"
            ],
            [
             0.1,
             "#c51b7d"
            ],
            [
             0.2,
             "#de77ae"
            ],
            [
             0.3,
             "#f1b6da"
            ],
            [
             0.4,
             "#fde0ef"
            ],
            [
             0.5,
             "#f7f7f7"
            ],
            [
             0.6,
             "#e6f5d0"
            ],
            [
             0.7,
             "#b8e186"
            ],
            [
             0.8,
             "#7fbc41"
            ],
            [
             0.9,
             "#4d9221"
            ],
            [
             1,
             "#276419"
            ]
           ],
           "sequential": [
            [
             0,
             "#0d0887"
            ],
            [
             0.1111111111111111,
             "#46039f"
            ],
            [
             0.2222222222222222,
             "#7201a8"
            ],
            [
             0.3333333333333333,
             "#9c179e"
            ],
            [
             0.4444444444444444,
             "#bd3786"
            ],
            [
             0.5555555555555556,
             "#d8576b"
            ],
            [
             0.6666666666666666,
             "#ed7953"
            ],
            [
             0.7777777777777778,
             "#fb9f3a"
            ],
            [
             0.8888888888888888,
             "#fdca26"
            ],
            [
             1,
             "#f0f921"
            ]
           ],
           "sequentialminus": [
            [
             0,
             "#0d0887"
            ],
            [
             0.1111111111111111,
             "#46039f"
            ],
            [
             0.2222222222222222,
             "#7201a8"
            ],
            [
             0.3333333333333333,
             "#9c179e"
            ],
            [
             0.4444444444444444,
             "#bd3786"
            ],
            [
             0.5555555555555556,
             "#d8576b"
            ],
            [
             0.6666666666666666,
             "#ed7953"
            ],
            [
             0.7777777777777778,
             "#fb9f3a"
            ],
            [
             0.8888888888888888,
             "#fdca26"
            ],
            [
             1,
             "#f0f921"
            ]
           ]
          },
          "colorway": [
           "#636efa",
           "#EF553B",
           "#00cc96",
           "#ab63fa",
           "#FFA15A",
           "#19d3f3",
           "#FF6692",
           "#B6E880",
           "#FF97FF",
           "#FECB52"
          ],
          "font": {
           "color": "#2a3f5f"
          },
          "geo": {
           "bgcolor": "white",
           "lakecolor": "white",
           "landcolor": "#E5ECF6",
           "showlakes": true,
           "showland": true,
           "subunitcolor": "white"
          },
          "hoverlabel": {
           "align": "left"
          },
          "hovermode": "closest",
          "mapbox": {
           "style": "light"
          },
          "paper_bgcolor": "white",
          "plot_bgcolor": "#E5ECF6",
          "polar": {
           "angularaxis": {
            "gridcolor": "white",
            "linecolor": "white",
            "ticks": ""
           },
           "bgcolor": "#E5ECF6",
           "radialaxis": {
            "gridcolor": "white",
            "linecolor": "white",
            "ticks": ""
           }
          },
          "scene": {
           "xaxis": {
            "backgroundcolor": "#E5ECF6",
            "gridcolor": "white",
            "gridwidth": 2,
            "linecolor": "white",
            "showbackground": true,
            "ticks": "",
            "zerolinecolor": "white"
           },
           "yaxis": {
            "backgroundcolor": "#E5ECF6",
            "gridcolor": "white",
            "gridwidth": 2,
            "linecolor": "white",
            "showbackground": true,
            "ticks": "",
            "zerolinecolor": "white"
           },
           "zaxis": {
            "backgroundcolor": "#E5ECF6",
            "gridcolor": "white",
            "gridwidth": 2,
            "linecolor": "white",
            "showbackground": true,
            "ticks": "",
            "zerolinecolor": "white"
           }
          },
          "shapedefaults": {
           "line": {
            "color": "#2a3f5f"
           }
          },
          "ternary": {
           "aaxis": {
            "gridcolor": "white",
            "linecolor": "white",
            "ticks": ""
           },
           "baxis": {
            "gridcolor": "white",
            "linecolor": "white",
            "ticks": ""
           },
           "bgcolor": "#E5ECF6",
           "caxis": {
            "gridcolor": "white",
            "linecolor": "white",
            "ticks": ""
           }
          },
          "title": {
           "x": 0.05
          },
          "xaxis": {
           "automargin": true,
           "gridcolor": "white",
           "linecolor": "white",
           "ticks": "",
           "title": {
            "standoff": 15
           },
           "zerolinecolor": "white",
           "zerolinewidth": 2
          },
          "yaxis": {
           "automargin": true,
           "gridcolor": "white",
           "linecolor": "white",
           "ticks": "",
           "title": {
            "standoff": 15
           },
           "zerolinecolor": "white",
           "zerolinewidth": 2
          }
         }
        },
        "title": {
         "text": "reaching_go_spout_nov22, 314 #3, on 2022-11-24 11:11:01 via COM8"
        },
        "xaxis": {
         "title": {
          "text": "Time (s)"
         }
        },
        "yaxis": {
         "fixedrange": true
        }
       }
      }
     },
     "metadata": {},
     "output_type": "display_data"
    },
    {
     "name": "stdout",
     "output_type": "stream",
     "text": [
      "saved JC314L-2022-11-24-111101_reaching_go_spout_nov22.smrx\n",
      "JC314L-2022-11-24-111938_reaching_go_spout_nov22.smrx\n"
     ]
    },
    {
     "name": "stderr",
     "output_type": "stream",
     "text": [
      "C:\\Users\\phar0528\\AppData\\Local\\Temp\\ipykernel_43892\\4133634569.py:21: FutureWarning:\n",
      "\n",
      "The frame.append method is deprecated and will be removed from pandas in a future version. Use pandas.concat instead.\n",
      "\n"
     ]
    },
    {
     "data": {
      "application/vnd.plotly.v1+json": {
       "config": {
        "plotlyServerURL": "https://plot.ly"
       },
       "data": [
        {
         "marker": {
          "symbol": "square"
         },
         "mode": "markers",
         "name": "button_press",
         "type": "scatter",
         "x": [],
         "y": []
        },
        {
         "marker": {
          "symbol": "diamond"
         },
         "mode": "markers",
         "name": "bar",
         "type": "scatter",
         "x": [
          9.185,
          9.81,
          10.304,
          10.384,
          10.459,
          31.994,
          39.115,
          57.564,
          58.835,
          60.273,
          67.688,
          73.088,
          73.119,
          88.773,
          91.362,
          91.507,
          95.604,
          96.447,
          105.299,
          113.04,
          122.55,
          122.931,
          123.014,
          123.084,
          124.322
         ],
         "y": [
          "bar",
          "bar",
          "bar",
          "bar",
          "bar",
          "bar",
          "bar",
          "bar",
          "bar",
          "bar",
          "bar",
          "bar",
          "bar",
          "bar",
          "bar",
          "bar",
          "bar",
          "bar",
          "bar",
          "bar",
          "bar",
          "bar",
          "bar",
          "bar",
          "bar"
         ]
        },
        {
         "marker": {
          "symbol": "cross"
         },
         "mode": "markers",
         "name": "bar_off",
         "type": "scatter",
         "x": [
          9.142,
          9.795,
          10.279,
          10.357,
          10.438,
          10.955,
          39.083,
          57.549,
          58.811,
          60.227,
          67.645,
          72.483,
          73.103,
          73.254,
          88.804,
          91.484,
          95.569,
          96.411,
          105.278,
          113.021,
          122.516,
          122.915,
          122.985,
          123.036,
          124.285
         ],
         "y": [
          "bar_off",
          "bar_off",
          "bar_off",
          "bar_off",
          "bar_off",
          "bar_off",
          "bar_off",
          "bar_off",
          "bar_off",
          "bar_off",
          "bar_off",
          "bar_off",
          "bar_off",
          "bar_off",
          "bar_off",
          "bar_off",
          "bar_off",
          "bar_off",
          "bar_off",
          "bar_off",
          "bar_off",
          "bar_off",
          "bar_off",
          "bar_off",
          "bar_off"
         ]
        },
        {
         "marker": {
          "symbol": "x"
         },
         "mode": "markers",
         "name": "spout",
         "type": "scatter",
         "x": [
          11.248,
          11.393,
          11.64,
          12.703,
          12.904,
          12.951,
          13.885,
          14.098,
          14.134,
          14.206,
          14.454,
          14.88,
          15.736,
          15.816,
          15.937,
          15.955,
          16.017,
          18.783,
          19.031,
          19.151,
          19.285,
          19.37,
          19.447,
          19.533,
          19.648,
          20.234,
          20.482,
          21.364,
          22.003,
          22.208,
          22.455,
          22.702,
          22.803,
          22.993,
          23.162,
          23.241,
          23.363,
          23.977,
          24.224,
          25.274,
          25.965,
          26.157,
          26.384,
          26.405,
          26.544,
          26.793,
          26.986,
          27.234,
          27.61,
          27.858,
          27.951,
          28.383,
          28.829,
          29.095,
          72.671,
          72.886,
          72.918,
          73.434,
          73.557,
          73.681,
          73.724,
          73.805,
          73.925,
          74.483,
          74.683,
          74.701,
          75.794,
          76.644,
          76.892,
          76.991,
          77.133,
          77.238,
          77.295,
          77.38,
          77.496,
          78.042,
          78.29,
          78.972,
          79.156,
          80.051,
          80.237,
          80.299,
          80.412,
          80.551,
          80.717,
          80.965,
          82.146,
          83.784,
          83.939,
          84.03,
          84.12,
          84.19,
          84.27,
          84.367,
          84.471,
          84.792,
          84.992,
          85.883,
          86.814,
          86.986,
          87.221,
          87.419,
          87.468,
          87.561,
          87.666,
          87.807,
          87.911,
          88.162,
          88.98,
          89.181,
          89.227,
          89.272
         ],
         "y": [
          "spout",
          "spout",
          "spout",
          "spout",
          "spout",
          "spout",
          "spout",
          "spout",
          "spout",
          "spout",
          "spout",
          "spout",
          "spout",
          "spout",
          "spout",
          "spout",
          "spout",
          "spout",
          "spout",
          "spout",
          "spout",
          "spout",
          "spout",
          "spout",
          "spout",
          "spout",
          "spout",
          "spout",
          "spout",
          "spout",
          "spout",
          "spout",
          "spout",
          "spout",
          "spout",
          "spout",
          "spout",
          "spout",
          "spout",
          "spout",
          "spout",
          "spout",
          "spout",
          "spout",
          "spout",
          "spout",
          "spout",
          "spout",
          "spout",
          "spout",
          "spout",
          "spout",
          "spout",
          "spout",
          "spout",
          "spout",
          "spout",
          "spout",
          "spout",
          "spout",
          "spout",
          "spout",
          "spout",
          "spout",
          "spout",
          "spout",
          "spout",
          "spout",
          "spout",
          "spout",
          "spout",
          "spout",
          "spout",
          "spout",
          "spout",
          "spout",
          "spout",
          "spout",
          "spout",
          "spout",
          "spout",
          "spout",
          "spout",
          "spout",
          "spout",
          "spout",
          "spout",
          "spout",
          "spout",
          "spout",
          "spout",
          "spout",
          "spout",
          "spout",
          "spout",
          "spout",
          "spout",
          "spout",
          "spout",
          "spout",
          "spout",
          "spout",
          "spout",
          "spout",
          "spout",
          "spout",
          "spout",
          "spout",
          "spout",
          "spout",
          "spout",
          "spout"
         ]
        },
        {
         "marker": {
          "symbol": "triangle-up"
         },
         "mode": "markers",
         "name": "US_delay_timer",
         "type": "scatter",
         "x": [
          11.449,
          11.594,
          12.904,
          14.087,
          14.407,
          15.081,
          15.937,
          16.017,
          18.985,
          19.352,
          19.486,
          19.648,
          20.435,
          22.656,
          23.003,
          23.194,
          23.363,
          24.178,
          26.358,
          26.745,
          27.187,
          27.811,
          28.152,
          72.872,
          73.635,
          73.758,
          73.925,
          74.683,
          76.845,
          77.192,
          77.334,
          77.496,
          78.243,
          80.252,
          80.437,
          80.613,
          80.752,
          80.918,
          83.985,
          84.14,
          84.32,
          84.471,
          84.992,
          87.422,
          87.62,
          87.761,
          88.115,
          89.181
         ],
         "y": [
          "US_delay_timer",
          "US_delay_timer",
          "US_delay_timer",
          "US_delay_timer",
          "US_delay_timer",
          "US_delay_timer",
          "US_delay_timer",
          "US_delay_timer",
          "US_delay_timer",
          "US_delay_timer",
          "US_delay_timer",
          "US_delay_timer",
          "US_delay_timer",
          "US_delay_timer",
          "US_delay_timer",
          "US_delay_timer",
          "US_delay_timer",
          "US_delay_timer",
          "US_delay_timer",
          "US_delay_timer",
          "US_delay_timer",
          "US_delay_timer",
          "US_delay_timer",
          "US_delay_timer",
          "US_delay_timer",
          "US_delay_timer",
          "US_delay_timer",
          "US_delay_timer",
          "US_delay_timer",
          "US_delay_timer",
          "US_delay_timer",
          "US_delay_timer",
          "US_delay_timer",
          "US_delay_timer",
          "US_delay_timer",
          "US_delay_timer",
          "US_delay_timer",
          "US_delay_timer",
          "US_delay_timer",
          "US_delay_timer",
          "US_delay_timer",
          "US_delay_timer",
          "US_delay_timer",
          "US_delay_timer",
          "US_delay_timer",
          "US_delay_timer",
          "US_delay_timer",
          "US_delay_timer"
         ]
        },
        {
         "marker": {
          "symbol": "triangle-down"
         },
         "mode": "markers",
         "name": "CS_offset_timer",
         "type": "scatter",
         "x": [
          2,
          11.549,
          11.694,
          13.004,
          14.186,
          14.507,
          15.181,
          16.037,
          16.117,
          19.084,
          19.452,
          19.586,
          19.748,
          20.535,
          22.756,
          23.103,
          23.294,
          23.463,
          24.277,
          26.458,
          26.844,
          27.287,
          27.911,
          28.252,
          72.972,
          73.734,
          73.857,
          74.025,
          74.783,
          76.945,
          77.292,
          77.434,
          77.596,
          78.342,
          80.352,
          80.537,
          80.713,
          80.852,
          81.018,
          84.085,
          84.24,
          84.42,
          84.571,
          85.092,
          87.522,
          87.72,
          87.861,
          88.212,
          89.281
         ],
         "y": [
          "CS_offset_timer",
          "CS_offset_timer",
          "CS_offset_timer",
          "CS_offset_timer",
          "CS_offset_timer",
          "CS_offset_timer",
          "CS_offset_timer",
          "CS_offset_timer",
          "CS_offset_timer",
          "CS_offset_timer",
          "CS_offset_timer",
          "CS_offset_timer",
          "CS_offset_timer",
          "CS_offset_timer",
          "CS_offset_timer",
          "CS_offset_timer",
          "CS_offset_timer",
          "CS_offset_timer",
          "CS_offset_timer",
          "CS_offset_timer",
          "CS_offset_timer",
          "CS_offset_timer",
          "CS_offset_timer",
          "CS_offset_timer",
          "CS_offset_timer",
          "CS_offset_timer",
          "CS_offset_timer",
          "CS_offset_timer",
          "CS_offset_timer",
          "CS_offset_timer",
          "CS_offset_timer",
          "CS_offset_timer",
          "CS_offset_timer",
          "CS_offset_timer",
          "CS_offset_timer",
          "CS_offset_timer",
          "CS_offset_timer",
          "CS_offset_timer",
          "CS_offset_timer",
          "CS_offset_timer",
          "CS_offset_timer",
          "CS_offset_timer",
          "CS_offset_timer",
          "CS_offset_timer",
          "CS_offset_timer",
          "CS_offset_timer",
          "CS_offset_timer",
          "CS_offset_timer",
          "CS_offset_timer"
         ]
        },
        {
         "line": {
          "width": 5
         },
         "mode": "lines",
         "name": "waiting_for_spout",
         "type": "scatter",
         "x": [
          1.711,
          11.249,
          null,
          13.251,
          13.886,
          null,
          17.024,
          18.784,
          null,
          22.441,
          22.456,
          null,
          26.072,
          26.158,
          null,
          29.403,
          72.671,
          null,
          75.859,
          76.645,
          null,
          79.976,
          80.052,
          null,
          83.147,
          83.785,
          null,
          87.037,
          87.221,
          null
         ],
         "y": [
          "waiting_for_spout",
          "waiting_for_spout",
          "waiting_for_spout",
          "waiting_for_spout",
          "waiting_for_spout",
          "waiting_for_spout",
          "waiting_for_spout",
          "waiting_for_spout",
          "waiting_for_spout",
          "waiting_for_spout",
          "waiting_for_spout",
          "waiting_for_spout",
          "waiting_for_spout",
          "waiting_for_spout",
          "waiting_for_spout",
          "waiting_for_spout",
          "waiting_for_spout",
          "waiting_for_spout",
          "waiting_for_spout",
          "waiting_for_spout",
          "waiting_for_spout",
          "waiting_for_spout",
          "waiting_for_spout",
          "waiting_for_spout",
          "waiting_for_spout",
          "waiting_for_spout",
          "waiting_for_spout",
          "waiting_for_spout",
          "waiting_for_spout",
          "waiting_for_spout"
         ]
        },
        {
         "line": {
          "width": 5
         },
         "mode": "lines",
         "name": "busy_win",
         "type": "scatter",
         "x": [
          13.886,
          15.888,
          null,
          18.784,
          20.786,
          null,
          22.456,
          24.458,
          null,
          26.158,
          28.16,
          null,
          72.671,
          74.674,
          null,
          76.645,
          78.647,
          null,
          80.052,
          82.054,
          null,
          83.785,
          85.787,
          null,
          87.221,
          89.224,
          null
         ],
         "y": [
          "busy_win",
          "busy_win",
          "busy_win",
          "busy_win",
          "busy_win",
          "busy_win",
          "busy_win",
          "busy_win",
          "busy_win",
          "busy_win",
          "busy_win",
          "busy_win",
          "busy_win",
          "busy_win",
          "busy_win",
          "busy_win",
          "busy_win",
          "busy_win",
          "busy_win",
          "busy_win",
          "busy_win",
          "busy_win",
          "busy_win",
          "busy_win",
          "busy_win",
          "busy_win",
          "busy_win"
         ]
        },
        {
         "line": {
          "width": 5
         },
         "mode": "lines",
         "name": "short_break",
         "type": "scatter",
         "x": [
          0,
          1.711,
          null,
          15.888,
          17.024,
          null,
          20.786,
          22.441,
          null,
          24.458,
          26.072,
          null,
          28.16,
          29.403,
          null,
          74.674,
          75.859,
          null,
          78.647,
          79.976,
          null,
          82.054,
          83.147,
          null,
          85.787,
          87.037,
          null,
          89.224,
          90.304,
          null
         ],
         "y": [
          "short_break",
          "short_break",
          "short_break",
          "short_break",
          "short_break",
          "short_break",
          "short_break",
          "short_break",
          "short_break",
          "short_break",
          "short_break",
          "short_break",
          "short_break",
          "short_break",
          "short_break",
          "short_break",
          "short_break",
          "short_break",
          "short_break",
          "short_break",
          "short_break",
          "short_break",
          "short_break",
          "short_break",
          "short_break",
          "short_break",
          "short_break",
          "short_break",
          "short_break",
          "short_break"
         ]
        }
       ],
       "layout": {
        "template": {
         "data": {
          "bar": [
           {
            "error_x": {
             "color": "#2a3f5f"
            },
            "error_y": {
             "color": "#2a3f5f"
            },
            "marker": {
             "line": {
              "color": "#E5ECF6",
              "width": 0.5
             },
             "pattern": {
              "fillmode": "overlay",
              "size": 10,
              "solidity": 0.2
             }
            },
            "type": "bar"
           }
          ],
          "barpolar": [
           {
            "marker": {
             "line": {
              "color": "#E5ECF6",
              "width": 0.5
             },
             "pattern": {
              "fillmode": "overlay",
              "size": 10,
              "solidity": 0.2
             }
            },
            "type": "barpolar"
           }
          ],
          "carpet": [
           {
            "aaxis": {
             "endlinecolor": "#2a3f5f",
             "gridcolor": "white",
             "linecolor": "white",
             "minorgridcolor": "white",
             "startlinecolor": "#2a3f5f"
            },
            "baxis": {
             "endlinecolor": "#2a3f5f",
             "gridcolor": "white",
             "linecolor": "white",
             "minorgridcolor": "white",
             "startlinecolor": "#2a3f5f"
            },
            "type": "carpet"
           }
          ],
          "choropleth": [
           {
            "colorbar": {
             "outlinewidth": 0,
             "ticks": ""
            },
            "type": "choropleth"
           }
          ],
          "contour": [
           {
            "colorbar": {
             "outlinewidth": 0,
             "ticks": ""
            },
            "colorscale": [
             [
              0,
              "#0d0887"
             ],
             [
              0.1111111111111111,
              "#46039f"
             ],
             [
              0.2222222222222222,
              "#7201a8"
             ],
             [
              0.3333333333333333,
              "#9c179e"
             ],
             [
              0.4444444444444444,
              "#bd3786"
             ],
             [
              0.5555555555555556,
              "#d8576b"
             ],
             [
              0.6666666666666666,
              "#ed7953"
             ],
             [
              0.7777777777777778,
              "#fb9f3a"
             ],
             [
              0.8888888888888888,
              "#fdca26"
             ],
             [
              1,
              "#f0f921"
             ]
            ],
            "type": "contour"
           }
          ],
          "contourcarpet": [
           {
            "colorbar": {
             "outlinewidth": 0,
             "ticks": ""
            },
            "type": "contourcarpet"
           }
          ],
          "heatmap": [
           {
            "colorbar": {
             "outlinewidth": 0,
             "ticks": ""
            },
            "colorscale": [
             [
              0,
              "#0d0887"
             ],
             [
              0.1111111111111111,
              "#46039f"
             ],
             [
              0.2222222222222222,
              "#7201a8"
             ],
             [
              0.3333333333333333,
              "#9c179e"
             ],
             [
              0.4444444444444444,
              "#bd3786"
             ],
             [
              0.5555555555555556,
              "#d8576b"
             ],
             [
              0.6666666666666666,
              "#ed7953"
             ],
             [
              0.7777777777777778,
              "#fb9f3a"
             ],
             [
              0.8888888888888888,
              "#fdca26"
             ],
             [
              1,
              "#f0f921"
             ]
            ],
            "type": "heatmap"
           }
          ],
          "heatmapgl": [
           {
            "colorbar": {
             "outlinewidth": 0,
             "ticks": ""
            },
            "colorscale": [
             [
              0,
              "#0d0887"
             ],
             [
              0.1111111111111111,
              "#46039f"
             ],
             [
              0.2222222222222222,
              "#7201a8"
             ],
             [
              0.3333333333333333,
              "#9c179e"
             ],
             [
              0.4444444444444444,
              "#bd3786"
             ],
             [
              0.5555555555555556,
              "#d8576b"
             ],
             [
              0.6666666666666666,
              "#ed7953"
             ],
             [
              0.7777777777777778,
              "#fb9f3a"
             ],
             [
              0.8888888888888888,
              "#fdca26"
             ],
             [
              1,
              "#f0f921"
             ]
            ],
            "type": "heatmapgl"
           }
          ],
          "histogram": [
           {
            "marker": {
             "pattern": {
              "fillmode": "overlay",
              "size": 10,
              "solidity": 0.2
             }
            },
            "type": "histogram"
           }
          ],
          "histogram2d": [
           {
            "colorbar": {
             "outlinewidth": 0,
             "ticks": ""
            },
            "colorscale": [
             [
              0,
              "#0d0887"
             ],
             [
              0.1111111111111111,
              "#46039f"
             ],
             [
              0.2222222222222222,
              "#7201a8"
             ],
             [
              0.3333333333333333,
              "#9c179e"
             ],
             [
              0.4444444444444444,
              "#bd3786"
             ],
             [
              0.5555555555555556,
              "#d8576b"
             ],
             [
              0.6666666666666666,
              "#ed7953"
             ],
             [
              0.7777777777777778,
              "#fb9f3a"
             ],
             [
              0.8888888888888888,
              "#fdca26"
             ],
             [
              1,
              "#f0f921"
             ]
            ],
            "type": "histogram2d"
           }
          ],
          "histogram2dcontour": [
           {
            "colorbar": {
             "outlinewidth": 0,
             "ticks": ""
            },
            "colorscale": [
             [
              0,
              "#0d0887"
             ],
             [
              0.1111111111111111,
              "#46039f"
             ],
             [
              0.2222222222222222,
              "#7201a8"
             ],
             [
              0.3333333333333333,
              "#9c179e"
             ],
             [
              0.4444444444444444,
              "#bd3786"
             ],
             [
              0.5555555555555556,
              "#d8576b"
             ],
             [
              0.6666666666666666,
              "#ed7953"
             ],
             [
              0.7777777777777778,
              "#fb9f3a"
             ],
             [
              0.8888888888888888,
              "#fdca26"
             ],
             [
              1,
              "#f0f921"
             ]
            ],
            "type": "histogram2dcontour"
           }
          ],
          "mesh3d": [
           {
            "colorbar": {
             "outlinewidth": 0,
             "ticks": ""
            },
            "type": "mesh3d"
           }
          ],
          "parcoords": [
           {
            "line": {
             "colorbar": {
              "outlinewidth": 0,
              "ticks": ""
             }
            },
            "type": "parcoords"
           }
          ],
          "pie": [
           {
            "automargin": true,
            "type": "pie"
           }
          ],
          "scatter": [
           {
            "fillpattern": {
             "fillmode": "overlay",
             "size": 10,
             "solidity": 0.2
            },
            "type": "scatter"
           }
          ],
          "scatter3d": [
           {
            "line": {
             "colorbar": {
              "outlinewidth": 0,
              "ticks": ""
             }
            },
            "marker": {
             "colorbar": {
              "outlinewidth": 0,
              "ticks": ""
             }
            },
            "type": "scatter3d"
           }
          ],
          "scattercarpet": [
           {
            "marker": {
             "colorbar": {
              "outlinewidth": 0,
              "ticks": ""
             }
            },
            "type": "scattercarpet"
           }
          ],
          "scattergeo": [
           {
            "marker": {
             "colorbar": {
              "outlinewidth": 0,
              "ticks": ""
             }
            },
            "type": "scattergeo"
           }
          ],
          "scattergl": [
           {
            "marker": {
             "colorbar": {
              "outlinewidth": 0,
              "ticks": ""
             }
            },
            "type": "scattergl"
           }
          ],
          "scattermapbox": [
           {
            "marker": {
             "colorbar": {
              "outlinewidth": 0,
              "ticks": ""
             }
            },
            "type": "scattermapbox"
           }
          ],
          "scatterpolar": [
           {
            "marker": {
             "colorbar": {
              "outlinewidth": 0,
              "ticks": ""
             }
            },
            "type": "scatterpolar"
           }
          ],
          "scatterpolargl": [
           {
            "marker": {
             "colorbar": {
              "outlinewidth": 0,
              "ticks": ""
             }
            },
            "type": "scatterpolargl"
           }
          ],
          "scatterternary": [
           {
            "marker": {
             "colorbar": {
              "outlinewidth": 0,
              "ticks": ""
             }
            },
            "type": "scatterternary"
           }
          ],
          "surface": [
           {
            "colorbar": {
             "outlinewidth": 0,
             "ticks": ""
            },
            "colorscale": [
             [
              0,
              "#0d0887"
             ],
             [
              0.1111111111111111,
              "#46039f"
             ],
             [
              0.2222222222222222,
              "#7201a8"
             ],
             [
              0.3333333333333333,
              "#9c179e"
             ],
             [
              0.4444444444444444,
              "#bd3786"
             ],
             [
              0.5555555555555556,
              "#d8576b"
             ],
             [
              0.6666666666666666,
              "#ed7953"
             ],
             [
              0.7777777777777778,
              "#fb9f3a"
             ],
             [
              0.8888888888888888,
              "#fdca26"
             ],
             [
              1,
              "#f0f921"
             ]
            ],
            "type": "surface"
           }
          ],
          "table": [
           {
            "cells": {
             "fill": {
              "color": "#EBF0F8"
             },
             "line": {
              "color": "white"
             }
            },
            "header": {
             "fill": {
              "color": "#C8D4E3"
             },
             "line": {
              "color": "white"
             }
            },
            "type": "table"
           }
          ]
         },
         "layout": {
          "annotationdefaults": {
           "arrowcolor": "#2a3f5f",
           "arrowhead": 0,
           "arrowwidth": 1
          },
          "autotypenumbers": "strict",
          "coloraxis": {
           "colorbar": {
            "outlinewidth": 0,
            "ticks": ""
           }
          },
          "colorscale": {
           "diverging": [
            [
             0,
             "#8e0152"
            ],
            [
             0.1,
             "#c51b7d"
            ],
            [
             0.2,
             "#de77ae"
            ],
            [
             0.3,
             "#f1b6da"
            ],
            [
             0.4,
             "#fde0ef"
            ],
            [
             0.5,
             "#f7f7f7"
            ],
            [
             0.6,
             "#e6f5d0"
            ],
            [
             0.7,
             "#b8e186"
            ],
            [
             0.8,
             "#7fbc41"
            ],
            [
             0.9,
             "#4d9221"
            ],
            [
             1,
             "#276419"
            ]
           ],
           "sequential": [
            [
             0,
             "#0d0887"
            ],
            [
             0.1111111111111111,
             "#46039f"
            ],
            [
             0.2222222222222222,
             "#7201a8"
            ],
            [
             0.3333333333333333,
             "#9c179e"
            ],
            [
             0.4444444444444444,
             "#bd3786"
            ],
            [
             0.5555555555555556,
             "#d8576b"
            ],
            [
             0.6666666666666666,
             "#ed7953"
            ],
            [
             0.7777777777777778,
             "#fb9f3a"
            ],
            [
             0.8888888888888888,
             "#fdca26"
            ],
            [
             1,
             "#f0f921"
            ]
           ],
           "sequentialminus": [
            [
             0,
             "#0d0887"
            ],
            [
             0.1111111111111111,
             "#46039f"
            ],
            [
             0.2222222222222222,
             "#7201a8"
            ],
            [
             0.3333333333333333,
             "#9c179e"
            ],
            [
             0.4444444444444444,
             "#bd3786"
            ],
            [
             0.5555555555555556,
             "#d8576b"
            ],
            [
             0.6666666666666666,
             "#ed7953"
            ],
            [
             0.7777777777777778,
             "#fb9f3a"
            ],
            [
             0.8888888888888888,
             "#fdca26"
            ],
            [
             1,
             "#f0f921"
            ]
           ]
          },
          "colorway": [
           "#636efa",
           "#EF553B",
           "#00cc96",
           "#ab63fa",
           "#FFA15A",
           "#19d3f3",
           "#FF6692",
           "#B6E880",
           "#FF97FF",
           "#FECB52"
          ],
          "font": {
           "color": "#2a3f5f"
          },
          "geo": {
           "bgcolor": "white",
           "lakecolor": "white",
           "landcolor": "#E5ECF6",
           "showlakes": true,
           "showland": true,
           "subunitcolor": "white"
          },
          "hoverlabel": {
           "align": "left"
          },
          "hovermode": "closest",
          "mapbox": {
           "style": "light"
          },
          "paper_bgcolor": "white",
          "plot_bgcolor": "#E5ECF6",
          "polar": {
           "angularaxis": {
            "gridcolor": "white",
            "linecolor": "white",
            "ticks": ""
           },
           "bgcolor": "#E5ECF6",
           "radialaxis": {
            "gridcolor": "white",
            "linecolor": "white",
            "ticks": ""
           }
          },
          "scene": {
           "xaxis": {
            "backgroundcolor": "#E5ECF6",
            "gridcolor": "white",
            "gridwidth": 2,
            "linecolor": "white",
            "showbackground": true,
            "ticks": "",
            "zerolinecolor": "white"
           },
           "yaxis": {
            "backgroundcolor": "#E5ECF6",
            "gridcolor": "white",
            "gridwidth": 2,
            "linecolor": "white",
            "showbackground": true,
            "ticks": "",
            "zerolinecolor": "white"
           },
           "zaxis": {
            "backgroundcolor": "#E5ECF6",
            "gridcolor": "white",
            "gridwidth": 2,
            "linecolor": "white",
            "showbackground": true,
            "ticks": "",
            "zerolinecolor": "white"
           }
          },
          "shapedefaults": {
           "line": {
            "color": "#2a3f5f"
           }
          },
          "ternary": {
           "aaxis": {
            "gridcolor": "white",
            "linecolor": "white",
            "ticks": ""
           },
           "baxis": {
            "gridcolor": "white",
            "linecolor": "white",
            "ticks": ""
           },
           "bgcolor": "#E5ECF6",
           "caxis": {
            "gridcolor": "white",
            "linecolor": "white",
            "ticks": ""
           }
          },
          "title": {
           "x": 0.05
          },
          "xaxis": {
           "automargin": true,
           "gridcolor": "white",
           "linecolor": "white",
           "ticks": "",
           "title": {
            "standoff": 15
           },
           "zerolinecolor": "white",
           "zerolinewidth": 2
          },
          "yaxis": {
           "automargin": true,
           "gridcolor": "white",
           "linecolor": "white",
           "ticks": "",
           "title": {
            "standoff": 15
           },
           "zerolinecolor": "white",
           "zerolinewidth": 2
          }
         }
        },
        "title": {
         "text": "reaching_go_spout_nov22, 314 #5, on 2022-11-24 11:19:38 via COM8"
        },
        "xaxis": {
         "title": {
          "text": "Time (s)"
         }
        },
        "yaxis": {
         "fixedrange": true
        }
       }
      }
     },
     "metadata": {},
     "output_type": "display_data"
    },
    {
     "name": "stdout",
     "output_type": "stream",
     "text": [
      "saved JC314L-2022-11-24-111938_reaching_go_spout_nov22.smrx\n",
      "JC313L-2022-11-24-113006_reaching_go_spout_nov22.smrx\n"
     ]
    },
    {
     "name": "stderr",
     "output_type": "stream",
     "text": [
      "C:\\Users\\phar0528\\AppData\\Local\\Temp\\ipykernel_43892\\4133634569.py:21: FutureWarning:\n",
      "\n",
      "The frame.append method is deprecated and will be removed from pandas in a future version. Use pandas.concat instead.\n",
      "\n"
     ]
    },
    {
     "data": {
      "application/vnd.plotly.v1+json": {
       "config": {
        "plotlyServerURL": "https://plot.ly"
       },
       "data": [
        {
         "marker": {
          "symbol": "square"
         },
         "mode": "markers",
         "name": "button_press",
         "type": "scatter",
         "x": [],
         "y": []
        },
        {
         "marker": {
          "symbol": "diamond"
         },
         "mode": "markers",
         "name": "bar",
         "type": "scatter",
         "x": [
          1.872,
          2.178,
          2.2,
          4.563,
          4.6,
          5.019,
          5.411,
          5.623,
          6.645,
          6.72,
          6.879,
          6.909,
          6.927,
          6.985,
          7.048,
          7.084,
          7.377,
          7.478,
          9.592,
          12.981,
          13.922,
          15.925,
          17.016,
          17.053,
          18.525,
          21.732,
          21.876,
          26.915,
          28.975,
          29.018,
          64.546,
          64.621,
          70.231,
          70.816,
          70.856,
          76.315,
          77.596,
          77.655,
          106.447,
          106.549,
          109.984
         ],
         "y": [
          "bar",
          "bar",
          "bar",
          "bar",
          "bar",
          "bar",
          "bar",
          "bar",
          "bar",
          "bar",
          "bar",
          "bar",
          "bar",
          "bar",
          "bar",
          "bar",
          "bar",
          "bar",
          "bar",
          "bar",
          "bar",
          "bar",
          "bar",
          "bar",
          "bar",
          "bar",
          "bar",
          "bar",
          "bar",
          "bar",
          "bar",
          "bar",
          "bar",
          "bar",
          "bar",
          "bar",
          "bar",
          "bar",
          "bar",
          "bar",
          "bar"
         ]
        },
        {
         "marker": {
          "symbol": "cross"
         },
         "mode": "markers",
         "name": "bar_off",
         "type": "scatter",
         "x": [
          1.847,
          2.155,
          2.193,
          2.215,
          4.579,
          5.004,
          5.071,
          5.599,
          6.08,
          6.678,
          6.821,
          6.895,
          6.924,
          6.969,
          7.033,
          7.065,
          7.11,
          7.448,
          8.614,
          12.964,
          13.151,
          13.944,
          16.439,
          17.031,
          18.433,
          18.54,
          21.86,
          22.342,
          28.932,
          28.99,
          33.553,
          64.58,
          65.89,
          70.586,
          70.841,
          72.295,
          77.534,
          77.62,
          79.575,
          106.516,
          107.242,
          112.421
         ],
         "y": [
          "bar_off",
          "bar_off",
          "bar_off",
          "bar_off",
          "bar_off",
          "bar_off",
          "bar_off",
          "bar_off",
          "bar_off",
          "bar_off",
          "bar_off",
          "bar_off",
          "bar_off",
          "bar_off",
          "bar_off",
          "bar_off",
          "bar_off",
          "bar_off",
          "bar_off",
          "bar_off",
          "bar_off",
          "bar_off",
          "bar_off",
          "bar_off",
          "bar_off",
          "bar_off",
          "bar_off",
          "bar_off",
          "bar_off",
          "bar_off",
          "bar_off",
          "bar_off",
          "bar_off",
          "bar_off",
          "bar_off",
          "bar_off",
          "bar_off",
          "bar_off",
          "bar_off",
          "bar_off",
          "bar_off",
          "bar_off"
         ]
        },
        {
         "marker": {
          "symbol": "x"
         },
         "mode": "markers",
         "name": "spout",
         "type": "scatter",
         "x": [
          14.174,
          14.39,
          14.742,
          15.186,
          15.229,
          15.248,
          15.302,
          15.429,
          15.448,
          15.503,
          16.621,
          18.642,
          18.822,
          19.022,
          19.403,
          19.598,
          19.825,
          20.349,
          20.638,
          22.657,
          22.858,
          24.361,
          25.858,
          33.696,
          33.89,
          34.049,
          34.25,
          35.523,
          36.752,
          37.726,
          38.919,
          39.875,
          41.121,
          41.322,
          42.083,
          43.016,
          43.217,
          44.033,
          44.948,
          46.13,
          47.395,
          47.596,
          48.013,
          48.214,
          49.217,
          50.296,
          51.355,
          52.254,
          52.455,
          52.581,
          53.565,
          54.556,
          55.533,
          56.347,
          56.85,
          57.051,
          58.498,
          58.951,
          59.984,
          60.185,
          60.244,
          62.45,
          63.738,
          66.048,
          66.244,
          67.197,
          67.471,
          72.499,
          72.708,
          72.879,
          73.146,
          74.29,
          74.549,
          79.718,
          79.806,
          80.049,
          80.926,
          80.967,
          81.167,
          81.228,
          82.167,
          82.357,
          82.429,
          82.629,
          83.502,
          83.787,
          84.675,
          85.469,
          85.67,
          85.826,
          86.737,
          87.617,
          88.53,
          89.059,
          89.565,
          91.973,
          93.05,
          93.308,
          94.319,
          95.246,
          95.446,
          95.954,
          96.93,
          97.876,
          98.068,
          98.696,
          99.647,
          100.713,
          101.034,
          101.219,
          101.419,
          101.461,
          103.927,
          104.191,
          104.361,
          105.819,
          106.02,
          107.416,
          107.617,
          107.969,
          108.241,
          112.671,
          112.899,
          113.16,
          114.007,
          114.86,
          115.642,
          116.399,
          117.053,
          117.254,
          117.698
         ],
         "y": [
          "spout",
          "spout",
          "spout",
          "spout",
          "spout",
          "spout",
          "spout",
          "spout",
          "spout",
          "spout",
          "spout",
          "spout",
          "spout",
          "spout",
          "spout",
          "spout",
          "spout",
          "spout",
          "spout",
          "spout",
          "spout",
          "spout",
          "spout",
          "spout",
          "spout",
          "spout",
          "spout",
          "spout",
          "spout",
          "spout",
          "spout",
          "spout",
          "spout",
          "spout",
          "spout",
          "spout",
          "spout",
          "spout",
          "spout",
          "spout",
          "spout",
          "spout",
          "spout",
          "spout",
          "spout",
          "spout",
          "spout",
          "spout",
          "spout",
          "spout",
          "spout",
          "spout",
          "spout",
          "spout",
          "spout",
          "spout",
          "spout",
          "spout",
          "spout",
          "spout",
          "spout",
          "spout",
          "spout",
          "spout",
          "spout",
          "spout",
          "spout",
          "spout",
          "spout",
          "spout",
          "spout",
          "spout",
          "spout",
          "spout",
          "spout",
          "spout",
          "spout",
          "spout",
          "spout",
          "spout",
          "spout",
          "spout",
          "spout",
          "spout",
          "spout",
          "spout",
          "spout",
          "spout",
          "spout",
          "spout",
          "spout",
          "spout",
          "spout",
          "spout",
          "spout",
          "spout",
          "spout",
          "spout",
          "spout",
          "spout",
          "spout",
          "spout",
          "spout",
          "spout",
          "spout",
          "spout",
          "spout",
          "spout",
          "spout",
          "spout",
          "spout",
          "spout",
          "spout",
          "spout",
          "spout",
          "spout",
          "spout",
          "spout",
          "spout",
          "spout",
          "spout",
          "spout",
          "spout",
          "spout",
          "spout",
          "spout",
          "spout",
          "spout",
          "spout",
          "spout",
          "spout"
         ]
        },
        {
         "marker": {
          "symbol": "triangle-up"
         },
         "mode": "markers",
         "name": "US_delay_timer",
         "type": "scatter",
         "x": [
          14.375,
          14.943,
          15.386,
          15.429,
          15.448,
          15.503,
          18.843,
          19.022,
          19.603,
          19.799,
          20.55,
          20.838,
          22.858,
          24.561,
          26.059,
          33.897,
          34.09,
          34.25,
          35.724,
          36.953,
          37.927,
          39.12,
          40.076,
          41.322,
          42.284,
          43.217,
          44.234,
          45.148,
          46.331,
          47.596,
          48.214,
          49.419,
          50.497,
          51.556,
          52.455,
          52.782,
          53.766,
          54.757,
          55.733,
          56.548,
          57.051,
          58.7,
          59.151,
          60.185,
          62.651,
          63.939,
          66.249,
          66.445,
          67.397,
          72.701,
          73.08,
          74.49,
          79.919,
          80.007,
          81.127,
          81.167,
          82.368,
          82.558,
          83.703,
          84.876,
          85.67,
          86.027,
          86.938,
          87.818,
          88.731,
          89.26,
          89.765,
          92.174,
          93.251,
          94.521,
          95.446,
          96.155,
          97.132,
          98.076,
          98.269,
          98.897,
          99.848,
          100.914,
          101.235,
          101.419,
          104.128,
          104.561,
          106.02,
          107.617,
          108.17,
          112.872,
          113.361,
          114.208,
          115.061,
          115.842,
          116.599,
          117.254,
          117.898
         ],
         "y": [
          "US_delay_timer",
          "US_delay_timer",
          "US_delay_timer",
          "US_delay_timer",
          "US_delay_timer",
          "US_delay_timer",
          "US_delay_timer",
          "US_delay_timer",
          "US_delay_timer",
          "US_delay_timer",
          "US_delay_timer",
          "US_delay_timer",
          "US_delay_timer",
          "US_delay_timer",
          "US_delay_timer",
          "US_delay_timer",
          "US_delay_timer",
          "US_delay_timer",
          "US_delay_timer",
          "US_delay_timer",
          "US_delay_timer",
          "US_delay_timer",
          "US_delay_timer",
          "US_delay_timer",
          "US_delay_timer",
          "US_delay_timer",
          "US_delay_timer",
          "US_delay_timer",
          "US_delay_timer",
          "US_delay_timer",
          "US_delay_timer",
          "US_delay_timer",
          "US_delay_timer",
          "US_delay_timer",
          "US_delay_timer",
          "US_delay_timer",
          "US_delay_timer",
          "US_delay_timer",
          "US_delay_timer",
          "US_delay_timer",
          "US_delay_timer",
          "US_delay_timer",
          "US_delay_timer",
          "US_delay_timer",
          "US_delay_timer",
          "US_delay_timer",
          "US_delay_timer",
          "US_delay_timer",
          "US_delay_timer",
          "US_delay_timer",
          "US_delay_timer",
          "US_delay_timer",
          "US_delay_timer",
          "US_delay_timer",
          "US_delay_timer",
          "US_delay_timer",
          "US_delay_timer",
          "US_delay_timer",
          "US_delay_timer",
          "US_delay_timer",
          "US_delay_timer",
          "US_delay_timer",
          "US_delay_timer",
          "US_delay_timer",
          "US_delay_timer",
          "US_delay_timer",
          "US_delay_timer",
          "US_delay_timer",
          "US_delay_timer",
          "US_delay_timer",
          "US_delay_timer",
          "US_delay_timer",
          "US_delay_timer",
          "US_delay_timer",
          "US_delay_timer",
          "US_delay_timer",
          "US_delay_timer",
          "US_delay_timer",
          "US_delay_timer",
          "US_delay_timer",
          "US_delay_timer",
          "US_delay_timer",
          "US_delay_timer",
          "US_delay_timer",
          "US_delay_timer",
          "US_delay_timer",
          "US_delay_timer",
          "US_delay_timer",
          "US_delay_timer",
          "US_delay_timer",
          "US_delay_timer",
          "US_delay_timer",
          "US_delay_timer"
         ]
        },
        {
         "marker": {
          "symbol": "triangle-down"
         },
         "mode": "markers",
         "name": "CS_offset_timer",
         "type": "scatter",
         "x": [
          2,
          14.475,
          15.043,
          15.486,
          15.529,
          15.548,
          15.603,
          18.943,
          19.122,
          19.703,
          19.899,
          20.65,
          20.938,
          22.958,
          24.661,
          26.159,
          33.997,
          34.19,
          34.349,
          35.824,
          37.053,
          38.027,
          39.22,
          40.176,
          41.422,
          42.384,
          43.317,
          44.334,
          45.248,
          46.431,
          47.696,
          48.314,
          49.519,
          50.597,
          51.656,
          52.555,
          52.881,
          53.866,
          54.857,
          55.833,
          56.648,
          57.151,
          58.8,
          59.251,
          60.285,
          62.751,
          64.039,
          66.349,
          66.545,
          67.497,
          72.801,
          73.18,
          74.59,
          80.019,
          80.107,
          81.227,
          81.267,
          82.468,
          82.658,
          83.803,
          84.976,
          85.77,
          86.127,
          87.038,
          87.918,
          88.83,
          89.36,
          89.865,
          92.274,
          93.351,
          94.62,
          95.546,
          96.255,
          97.231,
          98.176,
          98.369,
          98.997,
          99.948,
          101.014,
          101.335,
          101.519,
          104.228,
          104.661,
          106.12,
          107.717,
          108.27,
          112.972,
          113.46,
          114.308,
          115.161,
          115.942,
          116.699,
          117.354,
          117.998
         ],
         "y": [
          "CS_offset_timer",
          "CS_offset_timer",
          "CS_offset_timer",
          "CS_offset_timer",
          "CS_offset_timer",
          "CS_offset_timer",
          "CS_offset_timer",
          "CS_offset_timer",
          "CS_offset_timer",
          "CS_offset_timer",
          "CS_offset_timer",
          "CS_offset_timer",
          "CS_offset_timer",
          "CS_offset_timer",
          "CS_offset_timer",
          "CS_offset_timer",
          "CS_offset_timer",
          "CS_offset_timer",
          "CS_offset_timer",
          "CS_offset_timer",
          "CS_offset_timer",
          "CS_offset_timer",
          "CS_offset_timer",
          "CS_offset_timer",
          "CS_offset_timer",
          "CS_offset_timer",
          "CS_offset_timer",
          "CS_offset_timer",
          "CS_offset_timer",
          "CS_offset_timer",
          "CS_offset_timer",
          "CS_offset_timer",
          "CS_offset_timer",
          "CS_offset_timer",
          "CS_offset_timer",
          "CS_offset_timer",
          "CS_offset_timer",
          "CS_offset_timer",
          "CS_offset_timer",
          "CS_offset_timer",
          "CS_offset_timer",
          "CS_offset_timer",
          "CS_offset_timer",
          "CS_offset_timer",
          "CS_offset_timer",
          "CS_offset_timer",
          "CS_offset_timer",
          "CS_offset_timer",
          "CS_offset_timer",
          "CS_offset_timer",
          "CS_offset_timer",
          "CS_offset_timer",
          "CS_offset_timer",
          "CS_offset_timer",
          "CS_offset_timer",
          "CS_offset_timer",
          "CS_offset_timer",
          "CS_offset_timer",
          "CS_offset_timer",
          "CS_offset_timer",
          "CS_offset_timer",
          "CS_offset_timer",
          "CS_offset_timer",
          "CS_offset_timer",
          "CS_offset_timer",
          "CS_offset_timer",
          "CS_offset_timer",
          "CS_offset_timer",
          "CS_offset_timer",
          "CS_offset_timer",
          "CS_offset_timer",
          "CS_offset_timer",
          "CS_offset_timer",
          "CS_offset_timer",
          "CS_offset_timer",
          "CS_offset_timer",
          "CS_offset_timer",
          "CS_offset_timer",
          "CS_offset_timer",
          "CS_offset_timer",
          "CS_offset_timer",
          "CS_offset_timer",
          "CS_offset_timer",
          "CS_offset_timer",
          "CS_offset_timer",
          "CS_offset_timer",
          "CS_offset_timer",
          "CS_offset_timer",
          "CS_offset_timer",
          "CS_offset_timer",
          "CS_offset_timer",
          "CS_offset_timer",
          "CS_offset_timer",
          "CS_offset_timer"
         ]
        },
        {
         "line": {
          "width": 5
         },
         "mode": "lines",
         "name": "waiting_for_spout",
         "type": "scatter",
         "x": [
          1.288,
          14.175,
          null,
          17.736,
          18.643,
          null,
          21.79,
          22.657,
          null,
          24.66,
          25.858,
          null,
          27.86,
          33.696,
          null,
          35.699,
          36.753,
          null,
          38.755,
          38.919,
          null,
          40.921,
          41.122,
          null,
          43.124,
          44.033,
          null,
          46.036,
          46.131,
          null,
          48.133,
          49.218,
          null,
          51.22,
          51.356,
          null,
          53.358,
          53.565,
          null,
          55.568,
          56.348,
          null,
          58.35,
          58.499,
          null,
          60.501,
          62.451,
          null,
          64.453,
          66.049,
          null,
          68.051,
          72.5,
          null,
          74.503,
          79.718,
          null,
          81.72,
          82.168,
          null,
          84.17,
          84.676,
          null,
          86.678,
          86.738,
          null,
          88.74,
          89.06,
          null,
          91.062,
          91.973,
          null,
          93.976,
          94.32,
          null,
          96.322,
          96.931,
          null,
          98.933,
          99.648,
          null,
          101.65,
          103.927,
          null,
          105.93,
          107.417,
          null,
          109.419,
          112.672,
          null,
          114.674,
          114.861,
          null,
          116.863,
          117.053,
          null
         ],
         "y": [
          "waiting_for_spout",
          "waiting_for_spout",
          "waiting_for_spout",
          "waiting_for_spout",
          "waiting_for_spout",
          "waiting_for_spout",
          "waiting_for_spout",
          "waiting_for_spout",
          "waiting_for_spout",
          "waiting_for_spout",
          "waiting_for_spout",
          "waiting_for_spout",
          "waiting_for_spout",
          "waiting_for_spout",
          "waiting_for_spout",
          "waiting_for_spout",
          "waiting_for_spout",
          "waiting_for_spout",
          "waiting_for_spout",
          "waiting_for_spout",
          "waiting_for_spout",
          "waiting_for_spout",
          "waiting_for_spout",
          "waiting_for_spout",
          "waiting_for_spout",
          "waiting_for_spout",
          "waiting_for_spout",
          "waiting_for_spout",
          "waiting_for_spout",
          "waiting_for_spout",
          "waiting_for_spout",
          "waiting_for_spout",
          "waiting_for_spout",
          "waiting_for_spout",
          "waiting_for_spout",
          "waiting_for_spout",
          "waiting_for_spout",
          "waiting_for_spout",
          "waiting_for_spout",
          "waiting_for_spout",
          "waiting_for_spout",
          "waiting_for_spout",
          "waiting_for_spout",
          "waiting_for_spout",
          "waiting_for_spout",
          "waiting_for_spout",
          "waiting_for_spout",
          "waiting_for_spout",
          "waiting_for_spout",
          "waiting_for_spout",
          "waiting_for_spout",
          "waiting_for_spout",
          "waiting_for_spout",
          "waiting_for_spout",
          "waiting_for_spout",
          "waiting_for_spout",
          "waiting_for_spout",
          "waiting_for_spout",
          "waiting_for_spout",
          "waiting_for_spout",
          "waiting_for_spout",
          "waiting_for_spout",
          "waiting_for_spout",
          "waiting_for_spout",
          "waiting_for_spout",
          "waiting_for_spout",
          "waiting_for_spout",
          "waiting_for_spout",
          "waiting_for_spout",
          "waiting_for_spout",
          "waiting_for_spout",
          "waiting_for_spout",
          "waiting_for_spout",
          "waiting_for_spout",
          "waiting_for_spout",
          "waiting_for_spout",
          "waiting_for_spout",
          "waiting_for_spout",
          "waiting_for_spout",
          "waiting_for_spout",
          "waiting_for_spout",
          "waiting_for_spout",
          "waiting_for_spout",
          "waiting_for_spout",
          "waiting_for_spout",
          "waiting_for_spout",
          "waiting_for_spout",
          "waiting_for_spout",
          "waiting_for_spout",
          "waiting_for_spout",
          "waiting_for_spout",
          "waiting_for_spout",
          "waiting_for_spout",
          "waiting_for_spout",
          "waiting_for_spout",
          "waiting_for_spout"
         ]
        },
        {
         "line": {
          "width": 5
         },
         "mode": "lines",
         "name": "busy_win",
         "type": "scatter",
         "x": [
          14.175,
          16.177,
          null,
          18.643,
          20.645,
          null
         ],
         "y": [
          "busy_win",
          "busy_win",
          "busy_win",
          "busy_win",
          "busy_win",
          "busy_win"
         ]
        },
        {
         "line": {
          "width": 5
         },
         "mode": "lines",
         "name": "short_break",
         "type": "scatter",
         "x": [
          0,
          1.288,
          null,
          16.177,
          17.736,
          null,
          20.645,
          21.79,
          null
         ],
         "y": [
          "short_break",
          "short_break",
          "short_break",
          "short_break",
          "short_break",
          "short_break",
          "short_break",
          "short_break",
          "short_break"
         ]
        }
       ],
       "layout": {
        "template": {
         "data": {
          "bar": [
           {
            "error_x": {
             "color": "#2a3f5f"
            },
            "error_y": {
             "color": "#2a3f5f"
            },
            "marker": {
             "line": {
              "color": "#E5ECF6",
              "width": 0.5
             },
             "pattern": {
              "fillmode": "overlay",
              "size": 10,
              "solidity": 0.2
             }
            },
            "type": "bar"
           }
          ],
          "barpolar": [
           {
            "marker": {
             "line": {
              "color": "#E5ECF6",
              "width": 0.5
             },
             "pattern": {
              "fillmode": "overlay",
              "size": 10,
              "solidity": 0.2
             }
            },
            "type": "barpolar"
           }
          ],
          "carpet": [
           {
            "aaxis": {
             "endlinecolor": "#2a3f5f",
             "gridcolor": "white",
             "linecolor": "white",
             "minorgridcolor": "white",
             "startlinecolor": "#2a3f5f"
            },
            "baxis": {
             "endlinecolor": "#2a3f5f",
             "gridcolor": "white",
             "linecolor": "white",
             "minorgridcolor": "white",
             "startlinecolor": "#2a3f5f"
            },
            "type": "carpet"
           }
          ],
          "choropleth": [
           {
            "colorbar": {
             "outlinewidth": 0,
             "ticks": ""
            },
            "type": "choropleth"
           }
          ],
          "contour": [
           {
            "colorbar": {
             "outlinewidth": 0,
             "ticks": ""
            },
            "colorscale": [
             [
              0,
              "#0d0887"
             ],
             [
              0.1111111111111111,
              "#46039f"
             ],
             [
              0.2222222222222222,
              "#7201a8"
             ],
             [
              0.3333333333333333,
              "#9c179e"
             ],
             [
              0.4444444444444444,
              "#bd3786"
             ],
             [
              0.5555555555555556,
              "#d8576b"
             ],
             [
              0.6666666666666666,
              "#ed7953"
             ],
             [
              0.7777777777777778,
              "#fb9f3a"
             ],
             [
              0.8888888888888888,
              "#fdca26"
             ],
             [
              1,
              "#f0f921"
             ]
            ],
            "type": "contour"
           }
          ],
          "contourcarpet": [
           {
            "colorbar": {
             "outlinewidth": 0,
             "ticks": ""
            },
            "type": "contourcarpet"
           }
          ],
          "heatmap": [
           {
            "colorbar": {
             "outlinewidth": 0,
             "ticks": ""
            },
            "colorscale": [
             [
              0,
              "#0d0887"
             ],
             [
              0.1111111111111111,
              "#46039f"
             ],
             [
              0.2222222222222222,
              "#7201a8"
             ],
             [
              0.3333333333333333,
              "#9c179e"
             ],
             [
              0.4444444444444444,
              "#bd3786"
             ],
             [
              0.5555555555555556,
              "#d8576b"
             ],
             [
              0.6666666666666666,
              "#ed7953"
             ],
             [
              0.7777777777777778,
              "#fb9f3a"
             ],
             [
              0.8888888888888888,
              "#fdca26"
             ],
             [
              1,
              "#f0f921"
             ]
            ],
            "type": "heatmap"
           }
          ],
          "heatmapgl": [
           {
            "colorbar": {
             "outlinewidth": 0,
             "ticks": ""
            },
            "colorscale": [
             [
              0,
              "#0d0887"
             ],
             [
              0.1111111111111111,
              "#46039f"
             ],
             [
              0.2222222222222222,
              "#7201a8"
             ],
             [
              0.3333333333333333,
              "#9c179e"
             ],
             [
              0.4444444444444444,
              "#bd3786"
             ],
             [
              0.5555555555555556,
              "#d8576b"
             ],
             [
              0.6666666666666666,
              "#ed7953"
             ],
             [
              0.7777777777777778,
              "#fb9f3a"
             ],
             [
              0.8888888888888888,
              "#fdca26"
             ],
             [
              1,
              "#f0f921"
             ]
            ],
            "type": "heatmapgl"
           }
          ],
          "histogram": [
           {
            "marker": {
             "pattern": {
              "fillmode": "overlay",
              "size": 10,
              "solidity": 0.2
             }
            },
            "type": "histogram"
           }
          ],
          "histogram2d": [
           {
            "colorbar": {
             "outlinewidth": 0,
             "ticks": ""
            },
            "colorscale": [
             [
              0,
              "#0d0887"
             ],
             [
              0.1111111111111111,
              "#46039f"
             ],
             [
              0.2222222222222222,
              "#7201a8"
             ],
             [
              0.3333333333333333,
              "#9c179e"
             ],
             [
              0.4444444444444444,
              "#bd3786"
             ],
             [
              0.5555555555555556,
              "#d8576b"
             ],
             [
              0.6666666666666666,
              "#ed7953"
             ],
             [
              0.7777777777777778,
              "#fb9f3a"
             ],
             [
              0.8888888888888888,
              "#fdca26"
             ],
             [
              1,
              "#f0f921"
             ]
            ],
            "type": "histogram2d"
           }
          ],
          "histogram2dcontour": [
           {
            "colorbar": {
             "outlinewidth": 0,
             "ticks": ""
            },
            "colorscale": [
             [
              0,
              "#0d0887"
             ],
             [
              0.1111111111111111,
              "#46039f"
             ],
             [
              0.2222222222222222,
              "#7201a8"
             ],
             [
              0.3333333333333333,
              "#9c179e"
             ],
             [
              0.4444444444444444,
              "#bd3786"
             ],
             [
              0.5555555555555556,
              "#d8576b"
             ],
             [
              0.6666666666666666,
              "#ed7953"
             ],
             [
              0.7777777777777778,
              "#fb9f3a"
             ],
             [
              0.8888888888888888,
              "#fdca26"
             ],
             [
              1,
              "#f0f921"
             ]
            ],
            "type": "histogram2dcontour"
           }
          ],
          "mesh3d": [
           {
            "colorbar": {
             "outlinewidth": 0,
             "ticks": ""
            },
            "type": "mesh3d"
           }
          ],
          "parcoords": [
           {
            "line": {
             "colorbar": {
              "outlinewidth": 0,
              "ticks": ""
             }
            },
            "type": "parcoords"
           }
          ],
          "pie": [
           {
            "automargin": true,
            "type": "pie"
           }
          ],
          "scatter": [
           {
            "fillpattern": {
             "fillmode": "overlay",
             "size": 10,
             "solidity": 0.2
            },
            "type": "scatter"
           }
          ],
          "scatter3d": [
           {
            "line": {
             "colorbar": {
              "outlinewidth": 0,
              "ticks": ""
             }
            },
            "marker": {
             "colorbar": {
              "outlinewidth": 0,
              "ticks": ""
             }
            },
            "type": "scatter3d"
           }
          ],
          "scattercarpet": [
           {
            "marker": {
             "colorbar": {
              "outlinewidth": 0,
              "ticks": ""
             }
            },
            "type": "scattercarpet"
           }
          ],
          "scattergeo": [
           {
            "marker": {
             "colorbar": {
              "outlinewidth": 0,
              "ticks": ""
             }
            },
            "type": "scattergeo"
           }
          ],
          "scattergl": [
           {
            "marker": {
             "colorbar": {
              "outlinewidth": 0,
              "ticks": ""
             }
            },
            "type": "scattergl"
           }
          ],
          "scattermapbox": [
           {
            "marker": {
             "colorbar": {
              "outlinewidth": 0,
              "ticks": ""
             }
            },
            "type": "scattermapbox"
           }
          ],
          "scatterpolar": [
           {
            "marker": {
             "colorbar": {
              "outlinewidth": 0,
              "ticks": ""
             }
            },
            "type": "scatterpolar"
           }
          ],
          "scatterpolargl": [
           {
            "marker": {
             "colorbar": {
              "outlinewidth": 0,
              "ticks": ""
             }
            },
            "type": "scatterpolargl"
           }
          ],
          "scatterternary": [
           {
            "marker": {
             "colorbar": {
              "outlinewidth": 0,
              "ticks": ""
             }
            },
            "type": "scatterternary"
           }
          ],
          "surface": [
           {
            "colorbar": {
             "outlinewidth": 0,
             "ticks": ""
            },
            "colorscale": [
             [
              0,
              "#0d0887"
             ],
             [
              0.1111111111111111,
              "#46039f"
             ],
             [
              0.2222222222222222,
              "#7201a8"
             ],
             [
              0.3333333333333333,
              "#9c179e"
             ],
             [
              0.4444444444444444,
              "#bd3786"
             ],
             [
              0.5555555555555556,
              "#d8576b"
             ],
             [
              0.6666666666666666,
              "#ed7953"
             ],
             [
              0.7777777777777778,
              "#fb9f3a"
             ],
             [
              0.8888888888888888,
              "#fdca26"
             ],
             [
              1,
              "#f0f921"
             ]
            ],
            "type": "surface"
           }
          ],
          "table": [
           {
            "cells": {
             "fill": {
              "color": "#EBF0F8"
             },
             "line": {
              "color": "white"
             }
            },
            "header": {
             "fill": {
              "color": "#C8D4E3"
             },
             "line": {
              "color": "white"
             }
            },
            "type": "table"
           }
          ]
         },
         "layout": {
          "annotationdefaults": {
           "arrowcolor": "#2a3f5f",
           "arrowhead": 0,
           "arrowwidth": 1
          },
          "autotypenumbers": "strict",
          "coloraxis": {
           "colorbar": {
            "outlinewidth": 0,
            "ticks": ""
           }
          },
          "colorscale": {
           "diverging": [
            [
             0,
             "#8e0152"
            ],
            [
             0.1,
             "#c51b7d"
            ],
            [
             0.2,
             "#de77ae"
            ],
            [
             0.3,
             "#f1b6da"
            ],
            [
             0.4,
             "#fde0ef"
            ],
            [
             0.5,
             "#f7f7f7"
            ],
            [
             0.6,
             "#e6f5d0"
            ],
            [
             0.7,
             "#b8e186"
            ],
            [
             0.8,
             "#7fbc41"
            ],
            [
             0.9,
             "#4d9221"
            ],
            [
             1,
             "#276419"
            ]
           ],
           "sequential": [
            [
             0,
             "#0d0887"
            ],
            [
             0.1111111111111111,
             "#46039f"
            ],
            [
             0.2222222222222222,
             "#7201a8"
            ],
            [
             0.3333333333333333,
             "#9c179e"
            ],
            [
             0.4444444444444444,
             "#bd3786"
            ],
            [
             0.5555555555555556,
             "#d8576b"
            ],
            [
             0.6666666666666666,
             "#ed7953"
            ],
            [
             0.7777777777777778,
             "#fb9f3a"
            ],
            [
             0.8888888888888888,
             "#fdca26"
            ],
            [
             1,
             "#f0f921"
            ]
           ],
           "sequentialminus": [
            [
             0,
             "#0d0887"
            ],
            [
             0.1111111111111111,
             "#46039f"
            ],
            [
             0.2222222222222222,
             "#7201a8"
            ],
            [
             0.3333333333333333,
             "#9c179e"
            ],
            [
             0.4444444444444444,
             "#bd3786"
            ],
            [
             0.5555555555555556,
             "#d8576b"
            ],
            [
             0.6666666666666666,
             "#ed7953"
            ],
            [
             0.7777777777777778,
             "#fb9f3a"
            ],
            [
             0.8888888888888888,
             "#fdca26"
            ],
            [
             1,
             "#f0f921"
            ]
           ]
          },
          "colorway": [
           "#636efa",
           "#EF553B",
           "#00cc96",
           "#ab63fa",
           "#FFA15A",
           "#19d3f3",
           "#FF6692",
           "#B6E880",
           "#FF97FF",
           "#FECB52"
          ],
          "font": {
           "color": "#2a3f5f"
          },
          "geo": {
           "bgcolor": "white",
           "lakecolor": "white",
           "landcolor": "#E5ECF6",
           "showlakes": true,
           "showland": true,
           "subunitcolor": "white"
          },
          "hoverlabel": {
           "align": "left"
          },
          "hovermode": "closest",
          "mapbox": {
           "style": "light"
          },
          "paper_bgcolor": "white",
          "plot_bgcolor": "#E5ECF6",
          "polar": {
           "angularaxis": {
            "gridcolor": "white",
            "linecolor": "white",
            "ticks": ""
           },
           "bgcolor": "#E5ECF6",
           "radialaxis": {
            "gridcolor": "white",
            "linecolor": "white",
            "ticks": ""
           }
          },
          "scene": {
           "xaxis": {
            "backgroundcolor": "#E5ECF6",
            "gridcolor": "white",
            "gridwidth": 2,
            "linecolor": "white",
            "showbackground": true,
            "ticks": "",
            "zerolinecolor": "white"
           },
           "yaxis": {
            "backgroundcolor": "#E5ECF6",
            "gridcolor": "white",
            "gridwidth": 2,
            "linecolor": "white",
            "showbackground": true,
            "ticks": "",
            "zerolinecolor": "white"
           },
           "zaxis": {
            "backgroundcolor": "#E5ECF6",
            "gridcolor": "white",
            "gridwidth": 2,
            "linecolor": "white",
            "showbackground": true,
            "ticks": "",
            "zerolinecolor": "white"
           }
          },
          "shapedefaults": {
           "line": {
            "color": "#2a3f5f"
           }
          },
          "ternary": {
           "aaxis": {
            "gridcolor": "white",
            "linecolor": "white",
            "ticks": ""
           },
           "baxis": {
            "gridcolor": "white",
            "linecolor": "white",
            "ticks": ""
           },
           "bgcolor": "#E5ECF6",
           "caxis": {
            "gridcolor": "white",
            "linecolor": "white",
            "ticks": ""
           }
          },
          "title": {
           "x": 0.05
          },
          "xaxis": {
           "automargin": true,
           "gridcolor": "white",
           "linecolor": "white",
           "ticks": "",
           "title": {
            "standoff": 15
           },
           "zerolinecolor": "white",
           "zerolinewidth": 2
          },
          "yaxis": {
           "automargin": true,
           "gridcolor": "white",
           "linecolor": "white",
           "ticks": "",
           "title": {
            "standoff": 15
           },
           "zerolinecolor": "white",
           "zerolinewidth": 2
          }
         }
        },
        "title": {
         "text": "reaching_go_spout_nov22, 313 #4, on 2022-11-24 11:30:06 via COM3"
        },
        "xaxis": {
         "title": {
          "text": "Time (s)"
         }
        },
        "yaxis": {
         "fixedrange": true
        }
       }
      }
     },
     "metadata": {},
     "output_type": "display_data"
    },
    {
     "name": "stdout",
     "output_type": "stream",
     "text": [
      "saved JC313L-2022-11-24-113006_reaching_go_spout_nov22.smrx\n",
      "JC314L-2022-11-24-113006_reaching_go_spout_nov22.smrx\n"
     ]
    },
    {
     "name": "stderr",
     "output_type": "stream",
     "text": [
      "C:\\Users\\phar0528\\AppData\\Local\\Temp\\ipykernel_43892\\4133634569.py:21: FutureWarning:\n",
      "\n",
      "The frame.append method is deprecated and will be removed from pandas in a future version. Use pandas.concat instead.\n",
      "\n"
     ]
    },
    {
     "data": {
      "application/vnd.plotly.v1+json": {
       "config": {
        "plotlyServerURL": "https://plot.ly"
       },
       "data": [
        {
         "marker": {
          "symbol": "square"
         },
         "mode": "markers",
         "name": "button_press",
         "type": "scatter",
         "x": [
          49.108,
          90.351,
          93.835
         ],
         "y": [
          "button_press",
          "button_press",
          "button_press"
         ]
        },
        {
         "marker": {
          "symbol": "diamond"
         },
         "mode": "markers",
         "name": "bar",
         "type": "scatter",
         "x": [
          21.553,
          23.737,
          23.808,
          24.93,
          25.407,
          27.354,
          27.371,
          27.838,
          27.884,
          28.781,
          29.023,
          29.496,
          30.007,
          30.521,
          35.33,
          35.712,
          36.542,
          37.331,
          38.267,
          38.291,
          39.215,
          39.749,
          49.439,
          49.602,
          49.69,
          50.159,
          50.794,
          50.928,
          55.77,
          68.808,
          69.262,
          90.759,
          102.557,
          106.681,
          113.892,
          117.479
         ],
         "y": [
          "bar",
          "bar",
          "bar",
          "bar",
          "bar",
          "bar",
          "bar",
          "bar",
          "bar",
          "bar",
          "bar",
          "bar",
          "bar",
          "bar",
          "bar",
          "bar",
          "bar",
          "bar",
          "bar",
          "bar",
          "bar",
          "bar",
          "bar",
          "bar",
          "bar",
          "bar",
          "bar",
          "bar",
          "bar",
          "bar",
          "bar",
          "bar",
          "bar",
          "bar",
          "bar",
          "bar"
         ]
        },
        {
         "marker": {
          "symbol": "cross"
         },
         "mode": "markers",
         "name": "bar_off",
         "type": "scatter",
         "x": [
          21.506,
          23.692,
          23.77,
          24.885,
          25.359,
          26.532,
          27.369,
          27.786,
          27.854,
          28.338,
          28.994,
          29.481,
          29.992,
          30.479,
          35.315,
          35.685,
          36.527,
          37.265,
          37.347,
          38.282,
          39.199,
          39.734,
          49.424,
          49.543,
          49.622,
          49.764,
          50.769,
          50.893,
          50.943,
          68.747,
          69.235,
          90.739,
          94.251,
          106.665,
          113.876,
          117.464
         ],
         "y": [
          "bar_off",
          "bar_off",
          "bar_off",
          "bar_off",
          "bar_off",
          "bar_off",
          "bar_off",
          "bar_off",
          "bar_off",
          "bar_off",
          "bar_off",
          "bar_off",
          "bar_off",
          "bar_off",
          "bar_off",
          "bar_off",
          "bar_off",
          "bar_off",
          "bar_off",
          "bar_off",
          "bar_off",
          "bar_off",
          "bar_off",
          "bar_off",
          "bar_off",
          "bar_off",
          "bar_off",
          "bar_off",
          "bar_off",
          "bar_off",
          "bar_off",
          "bar_off",
          "bar_off",
          "bar_off",
          "bar_off",
          "bar_off"
         ]
        },
        {
         "marker": {
          "symbol": "x"
         },
         "mode": "markers",
         "name": "spout",
         "type": "scatter",
         "x": [
          26.604,
          26.694,
          26.805,
          26.825,
          26.941,
          49.156,
          49.403,
          49.947,
          50.148,
          50.195,
          51.068,
          51.316,
          51.376,
          51.623,
          52.864,
          52.987,
          53.065,
          53.112,
          53.234,
          90.397,
          90.598,
          93.836,
          94.037,
          94.085,
          94.57,
          94.771,
          94.818,
          95.062,
          95.273,
          95.309,
          95.413,
          95.613,
          95.733,
          95.933,
          95.989,
          97.72,
          97.933,
          97.968,
          98.09,
          98.24,
          98.29,
          98.488,
          98.631,
          98.832,
          99.801,
          100.049,
          100.147,
          100.347,
          100.394,
          100.515,
          100.619,
          100.762,
          100.867,
          100.897
         ],
         "y": [
          "spout",
          "spout",
          "spout",
          "spout",
          "spout",
          "spout",
          "spout",
          "spout",
          "spout",
          "spout",
          "spout",
          "spout",
          "spout",
          "spout",
          "spout",
          "spout",
          "spout",
          "spout",
          "spout",
          "spout",
          "spout",
          "spout",
          "spout",
          "spout",
          "spout",
          "spout",
          "spout",
          "spout",
          "spout",
          "spout",
          "spout",
          "spout",
          "spout",
          "spout",
          "spout",
          "spout",
          "spout",
          "spout",
          "spout",
          "spout",
          "spout",
          "spout",
          "spout",
          "spout",
          "spout",
          "spout",
          "spout",
          "spout",
          "spout",
          "spout",
          "spout",
          "spout",
          "spout",
          "spout"
         ]
        },
        {
         "marker": {
          "symbol": "triangle-up"
         },
         "mode": "markers",
         "name": "US_delay_timer",
         "type": "scatter",
         "x": [
          26.805,
          26.895,
          49.357,
          50.148,
          51.269,
          51.577,
          53.065,
          53.187,
          90.598,
          94.037,
          94.771,
          95.262,
          95.613,
          95.933,
          97.921,
          98.29,
          98.441,
          98.832,
          100.002,
          100.347,
          100.715,
          100.82
         ],
         "y": [
          "US_delay_timer",
          "US_delay_timer",
          "US_delay_timer",
          "US_delay_timer",
          "US_delay_timer",
          "US_delay_timer",
          "US_delay_timer",
          "US_delay_timer",
          "US_delay_timer",
          "US_delay_timer",
          "US_delay_timer",
          "US_delay_timer",
          "US_delay_timer",
          "US_delay_timer",
          "US_delay_timer",
          "US_delay_timer",
          "US_delay_timer",
          "US_delay_timer",
          "US_delay_timer",
          "US_delay_timer",
          "US_delay_timer",
          "US_delay_timer"
         ]
        },
        {
         "marker": {
          "symbol": "triangle-down"
         },
         "mode": "markers",
         "name": "CS_offset_timer",
         "type": "scatter",
         "x": [
          2,
          26.905,
          26.995,
          49.457,
          50.248,
          51.369,
          51.677,
          53.165,
          53.287,
          90.698,
          94.137,
          94.871,
          95.362,
          95.713,
          96.033,
          98.021,
          98.39,
          98.541,
          98.932,
          100.102,
          100.447,
          100.815,
          100.92
         ],
         "y": [
          "CS_offset_timer",
          "CS_offset_timer",
          "CS_offset_timer",
          "CS_offset_timer",
          "CS_offset_timer",
          "CS_offset_timer",
          "CS_offset_timer",
          "CS_offset_timer",
          "CS_offset_timer",
          "CS_offset_timer",
          "CS_offset_timer",
          "CS_offset_timer",
          "CS_offset_timer",
          "CS_offset_timer",
          "CS_offset_timer",
          "CS_offset_timer",
          "CS_offset_timer",
          "CS_offset_timer",
          "CS_offset_timer",
          "CS_offset_timer",
          "CS_offset_timer",
          "CS_offset_timer",
          "CS_offset_timer"
         ]
        },
        {
         "line": {
          "width": 5
         },
         "mode": "lines",
         "name": "waiting_for_spout",
         "type": "scatter",
         "x": [
          1.246,
          26.605,
          null,
          28.607,
          49.156,
          null,
          51.159,
          51.376,
          null,
          53.378,
          90.398,
          null,
          92.4,
          93.837,
          null,
          97.341,
          97.72,
          null,
          99.723,
          99.801,
          null
         ],
         "y": [
          "waiting_for_spout",
          "waiting_for_spout",
          "waiting_for_spout",
          "waiting_for_spout",
          "waiting_for_spout",
          "waiting_for_spout",
          "waiting_for_spout",
          "waiting_for_spout",
          "waiting_for_spout",
          "waiting_for_spout",
          "waiting_for_spout",
          "waiting_for_spout",
          "waiting_for_spout",
          "waiting_for_spout",
          "waiting_for_spout",
          "waiting_for_spout",
          "waiting_for_spout",
          "waiting_for_spout",
          "waiting_for_spout",
          "waiting_for_spout",
          "waiting_for_spout"
         ]
        },
        {
         "line": {
          "width": 5
         },
         "mode": "lines",
         "name": "busy_win",
         "type": "scatter",
         "x": [
          93.837,
          95.839,
          null
         ],
         "y": [
          "busy_win",
          "busy_win",
          "busy_win"
         ]
        },
        {
         "line": {
          "width": 5
         },
         "mode": "lines",
         "name": "short_break",
         "type": "scatter",
         "x": [
          0,
          1.246,
          null,
          95.839,
          97.341,
          null
         ],
         "y": [
          "short_break",
          "short_break",
          "short_break",
          "short_break",
          "short_break",
          "short_break"
         ]
        }
       ],
       "layout": {
        "template": {
         "data": {
          "bar": [
           {
            "error_x": {
             "color": "#2a3f5f"
            },
            "error_y": {
             "color": "#2a3f5f"
            },
            "marker": {
             "line": {
              "color": "#E5ECF6",
              "width": 0.5
             },
             "pattern": {
              "fillmode": "overlay",
              "size": 10,
              "solidity": 0.2
             }
            },
            "type": "bar"
           }
          ],
          "barpolar": [
           {
            "marker": {
             "line": {
              "color": "#E5ECF6",
              "width": 0.5
             },
             "pattern": {
              "fillmode": "overlay",
              "size": 10,
              "solidity": 0.2
             }
            },
            "type": "barpolar"
           }
          ],
          "carpet": [
           {
            "aaxis": {
             "endlinecolor": "#2a3f5f",
             "gridcolor": "white",
             "linecolor": "white",
             "minorgridcolor": "white",
             "startlinecolor": "#2a3f5f"
            },
            "baxis": {
             "endlinecolor": "#2a3f5f",
             "gridcolor": "white",
             "linecolor": "white",
             "minorgridcolor": "white",
             "startlinecolor": "#2a3f5f"
            },
            "type": "carpet"
           }
          ],
          "choropleth": [
           {
            "colorbar": {
             "outlinewidth": 0,
             "ticks": ""
            },
            "type": "choropleth"
           }
          ],
          "contour": [
           {
            "colorbar": {
             "outlinewidth": 0,
             "ticks": ""
            },
            "colorscale": [
             [
              0,
              "#0d0887"
             ],
             [
              0.1111111111111111,
              "#46039f"
             ],
             [
              0.2222222222222222,
              "#7201a8"
             ],
             [
              0.3333333333333333,
              "#9c179e"
             ],
             [
              0.4444444444444444,
              "#bd3786"
             ],
             [
              0.5555555555555556,
              "#d8576b"
             ],
             [
              0.6666666666666666,
              "#ed7953"
             ],
             [
              0.7777777777777778,
              "#fb9f3a"
             ],
             [
              0.8888888888888888,
              "#fdca26"
             ],
             [
              1,
              "#f0f921"
             ]
            ],
            "type": "contour"
           }
          ],
          "contourcarpet": [
           {
            "colorbar": {
             "outlinewidth": 0,
             "ticks": ""
            },
            "type": "contourcarpet"
           }
          ],
          "heatmap": [
           {
            "colorbar": {
             "outlinewidth": 0,
             "ticks": ""
            },
            "colorscale": [
             [
              0,
              "#0d0887"
             ],
             [
              0.1111111111111111,
              "#46039f"
             ],
             [
              0.2222222222222222,
              "#7201a8"
             ],
             [
              0.3333333333333333,
              "#9c179e"
             ],
             [
              0.4444444444444444,
              "#bd3786"
             ],
             [
              0.5555555555555556,
              "#d8576b"
             ],
             [
              0.6666666666666666,
              "#ed7953"
             ],
             [
              0.7777777777777778,
              "#fb9f3a"
             ],
             [
              0.8888888888888888,
              "#fdca26"
             ],
             [
              1,
              "#f0f921"
             ]
            ],
            "type": "heatmap"
           }
          ],
          "heatmapgl": [
           {
            "colorbar": {
             "outlinewidth": 0,
             "ticks": ""
            },
            "colorscale": [
             [
              0,
              "#0d0887"
             ],
             [
              0.1111111111111111,
              "#46039f"
             ],
             [
              0.2222222222222222,
              "#7201a8"
             ],
             [
              0.3333333333333333,
              "#9c179e"
             ],
             [
              0.4444444444444444,
              "#bd3786"
             ],
             [
              0.5555555555555556,
              "#d8576b"
             ],
             [
              0.6666666666666666,
              "#ed7953"
             ],
             [
              0.7777777777777778,
              "#fb9f3a"
             ],
             [
              0.8888888888888888,
              "#fdca26"
             ],
             [
              1,
              "#f0f921"
             ]
            ],
            "type": "heatmapgl"
           }
          ],
          "histogram": [
           {
            "marker": {
             "pattern": {
              "fillmode": "overlay",
              "size": 10,
              "solidity": 0.2
             }
            },
            "type": "histogram"
           }
          ],
          "histogram2d": [
           {
            "colorbar": {
             "outlinewidth": 0,
             "ticks": ""
            },
            "colorscale": [
             [
              0,
              "#0d0887"
             ],
             [
              0.1111111111111111,
              "#46039f"
             ],
             [
              0.2222222222222222,
              "#7201a8"
             ],
             [
              0.3333333333333333,
              "#9c179e"
             ],
             [
              0.4444444444444444,
              "#bd3786"
             ],
             [
              0.5555555555555556,
              "#d8576b"
             ],
             [
              0.6666666666666666,
              "#ed7953"
             ],
             [
              0.7777777777777778,
              "#fb9f3a"
             ],
             [
              0.8888888888888888,
              "#fdca26"
             ],
             [
              1,
              "#f0f921"
             ]
            ],
            "type": "histogram2d"
           }
          ],
          "histogram2dcontour": [
           {
            "colorbar": {
             "outlinewidth": 0,
             "ticks": ""
            },
            "colorscale": [
             [
              0,
              "#0d0887"
             ],
             [
              0.1111111111111111,
              "#46039f"
             ],
             [
              0.2222222222222222,
              "#7201a8"
             ],
             [
              0.3333333333333333,
              "#9c179e"
             ],
             [
              0.4444444444444444,
              "#bd3786"
             ],
             [
              0.5555555555555556,
              "#d8576b"
             ],
             [
              0.6666666666666666,
              "#ed7953"
             ],
             [
              0.7777777777777778,
              "#fb9f3a"
             ],
             [
              0.8888888888888888,
              "#fdca26"
             ],
             [
              1,
              "#f0f921"
             ]
            ],
            "type": "histogram2dcontour"
           }
          ],
          "mesh3d": [
           {
            "colorbar": {
             "outlinewidth": 0,
             "ticks": ""
            },
            "type": "mesh3d"
           }
          ],
          "parcoords": [
           {
            "line": {
             "colorbar": {
              "outlinewidth": 0,
              "ticks": ""
             }
            },
            "type": "parcoords"
           }
          ],
          "pie": [
           {
            "automargin": true,
            "type": "pie"
           }
          ],
          "scatter": [
           {
            "fillpattern": {
             "fillmode": "overlay",
             "size": 10,
             "solidity": 0.2
            },
            "type": "scatter"
           }
          ],
          "scatter3d": [
           {
            "line": {
             "colorbar": {
              "outlinewidth": 0,
              "ticks": ""
             }
            },
            "marker": {
             "colorbar": {
              "outlinewidth": 0,
              "ticks": ""
             }
            },
            "type": "scatter3d"
           }
          ],
          "scattercarpet": [
           {
            "marker": {
             "colorbar": {
              "outlinewidth": 0,
              "ticks": ""
             }
            },
            "type": "scattercarpet"
           }
          ],
          "scattergeo": [
           {
            "marker": {
             "colorbar": {
              "outlinewidth": 0,
              "ticks": ""
             }
            },
            "type": "scattergeo"
           }
          ],
          "scattergl": [
           {
            "marker": {
             "colorbar": {
              "outlinewidth": 0,
              "ticks": ""
             }
            },
            "type": "scattergl"
           }
          ],
          "scattermapbox": [
           {
            "marker": {
             "colorbar": {
              "outlinewidth": 0,
              "ticks": ""
             }
            },
            "type": "scattermapbox"
           }
          ],
          "scatterpolar": [
           {
            "marker": {
             "colorbar": {
              "outlinewidth": 0,
              "ticks": ""
             }
            },
            "type": "scatterpolar"
           }
          ],
          "scatterpolargl": [
           {
            "marker": {
             "colorbar": {
              "outlinewidth": 0,
              "ticks": ""
             }
            },
            "type": "scatterpolargl"
           }
          ],
          "scatterternary": [
           {
            "marker": {
             "colorbar": {
              "outlinewidth": 0,
              "ticks": ""
             }
            },
            "type": "scatterternary"
           }
          ],
          "surface": [
           {
            "colorbar": {
             "outlinewidth": 0,
             "ticks": ""
            },
            "colorscale": [
             [
              0,
              "#0d0887"
             ],
             [
              0.1111111111111111,
              "#46039f"
             ],
             [
              0.2222222222222222,
              "#7201a8"
             ],
             [
              0.3333333333333333,
              "#9c179e"
             ],
             [
              0.4444444444444444,
              "#bd3786"
             ],
             [
              0.5555555555555556,
              "#d8576b"
             ],
             [
              0.6666666666666666,
              "#ed7953"
             ],
             [
              0.7777777777777778,
              "#fb9f3a"
             ],
             [
              0.8888888888888888,
              "#fdca26"
             ],
             [
              1,
              "#f0f921"
             ]
            ],
            "type": "surface"
           }
          ],
          "table": [
           {
            "cells": {
             "fill": {
              "color": "#EBF0F8"
             },
             "line": {
              "color": "white"
             }
            },
            "header": {
             "fill": {
              "color": "#C8D4E3"
             },
             "line": {
              "color": "white"
             }
            },
            "type": "table"
           }
          ]
         },
         "layout": {
          "annotationdefaults": {
           "arrowcolor": "#2a3f5f",
           "arrowhead": 0,
           "arrowwidth": 1
          },
          "autotypenumbers": "strict",
          "coloraxis": {
           "colorbar": {
            "outlinewidth": 0,
            "ticks": ""
           }
          },
          "colorscale": {
           "diverging": [
            [
             0,
             "#8e0152"
            ],
            [
             0.1,
             "#c51b7d"
            ],
            [
             0.2,
             "#de77ae"
            ],
            [
             0.3,
             "#f1b6da"
            ],
            [
             0.4,
             "#fde0ef"
            ],
            [
             0.5,
             "#f7f7f7"
            ],
            [
             0.6,
             "#e6f5d0"
            ],
            [
             0.7,
             "#b8e186"
            ],
            [
             0.8,
             "#7fbc41"
            ],
            [
             0.9,
             "#4d9221"
            ],
            [
             1,
             "#276419"
            ]
           ],
           "sequential": [
            [
             0,
             "#0d0887"
            ],
            [
             0.1111111111111111,
             "#46039f"
            ],
            [
             0.2222222222222222,
             "#7201a8"
            ],
            [
             0.3333333333333333,
             "#9c179e"
            ],
            [
             0.4444444444444444,
             "#bd3786"
            ],
            [
             0.5555555555555556,
             "#d8576b"
            ],
            [
             0.6666666666666666,
             "#ed7953"
            ],
            [
             0.7777777777777778,
             "#fb9f3a"
            ],
            [
             0.8888888888888888,
             "#fdca26"
            ],
            [
             1,
             "#f0f921"
            ]
           ],
           "sequentialminus": [
            [
             0,
             "#0d0887"
            ],
            [
             0.1111111111111111,
             "#46039f"
            ],
            [
             0.2222222222222222,
             "#7201a8"
            ],
            [
             0.3333333333333333,
             "#9c179e"
            ],
            [
             0.4444444444444444,
             "#bd3786"
            ],
            [
             0.5555555555555556,
             "#d8576b"
            ],
            [
             0.6666666666666666,
             "#ed7953"
            ],
            [
             0.7777777777777778,
             "#fb9f3a"
            ],
            [
             0.8888888888888888,
             "#fdca26"
            ],
            [
             1,
             "#f0f921"
            ]
           ]
          },
          "colorway": [
           "#636efa",
           "#EF553B",
           "#00cc96",
           "#ab63fa",
           "#FFA15A",
           "#19d3f3",
           "#FF6692",
           "#B6E880",
           "#FF97FF",
           "#FECB52"
          ],
          "font": {
           "color": "#2a3f5f"
          },
          "geo": {
           "bgcolor": "white",
           "lakecolor": "white",
           "landcolor": "#E5ECF6",
           "showlakes": true,
           "showland": true,
           "subunitcolor": "white"
          },
          "hoverlabel": {
           "align": "left"
          },
          "hovermode": "closest",
          "mapbox": {
           "style": "light"
          },
          "paper_bgcolor": "white",
          "plot_bgcolor": "#E5ECF6",
          "polar": {
           "angularaxis": {
            "gridcolor": "white",
            "linecolor": "white",
            "ticks": ""
           },
           "bgcolor": "#E5ECF6",
           "radialaxis": {
            "gridcolor": "white",
            "linecolor": "white",
            "ticks": ""
           }
          },
          "scene": {
           "xaxis": {
            "backgroundcolor": "#E5ECF6",
            "gridcolor": "white",
            "gridwidth": 2,
            "linecolor": "white",
            "showbackground": true,
            "ticks": "",
            "zerolinecolor": "white"
           },
           "yaxis": {
            "backgroundcolor": "#E5ECF6",
            "gridcolor": "white",
            "gridwidth": 2,
            "linecolor": "white",
            "showbackground": true,
            "ticks": "",
            "zerolinecolor": "white"
           },
           "zaxis": {
            "backgroundcolor": "#E5ECF6",
            "gridcolor": "white",
            "gridwidth": 2,
            "linecolor": "white",
            "showbackground": true,
            "ticks": "",
            "zerolinecolor": "white"
           }
          },
          "shapedefaults": {
           "line": {
            "color": "#2a3f5f"
           }
          },
          "ternary": {
           "aaxis": {
            "gridcolor": "white",
            "linecolor": "white",
            "ticks": ""
           },
           "baxis": {
            "gridcolor": "white",
            "linecolor": "white",
            "ticks": ""
           },
           "bgcolor": "#E5ECF6",
           "caxis": {
            "gridcolor": "white",
            "linecolor": "white",
            "ticks": ""
           }
          },
          "title": {
           "x": 0.05
          },
          "xaxis": {
           "automargin": true,
           "gridcolor": "white",
           "linecolor": "white",
           "ticks": "",
           "title": {
            "standoff": 15
           },
           "zerolinecolor": "white",
           "zerolinewidth": 2
          },
          "yaxis": {
           "automargin": true,
           "gridcolor": "white",
           "linecolor": "white",
           "ticks": "",
           "title": {
            "standoff": 15
           },
           "zerolinecolor": "white",
           "zerolinewidth": 2
          }
         }
        },
        "title": {
         "text": "reaching_go_spout_nov22, 314 #6, on 2022-11-24 11:30:06 via COM8"
        },
        "xaxis": {
         "title": {
          "text": "Time (s)"
         }
        },
        "yaxis": {
         "fixedrange": true
        }
       }
      }
     },
     "metadata": {},
     "output_type": "display_data"
    },
    {
     "name": "stdout",
     "output_type": "stream",
     "text": [
      "saved JC314L-2022-11-24-113006_reaching_go_spout_nov22.smrx\n",
      "JC315L-2022-11-24-121833_reaching_go_spout_nov22.smrx\n"
     ]
    },
    {
     "name": "stderr",
     "output_type": "stream",
     "text": [
      "C:\\Users\\phar0528\\AppData\\Local\\Temp\\ipykernel_43892\\4133634569.py:21: FutureWarning:\n",
      "\n",
      "The frame.append method is deprecated and will be removed from pandas in a future version. Use pandas.concat instead.\n",
      "\n"
     ]
    },
    {
     "data": {
      "application/vnd.plotly.v1+json": {
       "config": {
        "plotlyServerURL": "https://plot.ly"
       },
       "data": [
        {
         "marker": {
          "symbol": "square"
         },
         "mode": "markers",
         "name": "button_press",
         "type": "scatter",
         "x": [],
         "y": []
        },
        {
         "marker": {
          "symbol": "diamond"
         },
         "mode": "markers",
         "name": "bar",
         "type": "scatter",
         "x": [
          4.213,
          8.351,
          13.545,
          14.03,
          16.948,
          17.613,
          21.104,
          21.461,
          21.658,
          27.88,
          28.791,
          30.927,
          35.279,
          37.69,
          38.085,
          38.384,
          39.196,
          48.933,
          51.115,
          59.582,
          63.824
         ],
         "y": [
          "bar",
          "bar",
          "bar",
          "bar",
          "bar",
          "bar",
          "bar",
          "bar",
          "bar",
          "bar",
          "bar",
          "bar",
          "bar",
          "bar",
          "bar",
          "bar",
          "bar",
          "bar",
          "bar",
          "bar",
          "bar"
         ]
        },
        {
         "marker": {
          "symbol": "cross"
         },
         "mode": "markers",
         "name": "bar_off",
         "type": "scatter",
         "x": [
          4.161,
          8.308,
          13.513,
          13.973,
          16.893,
          17.593,
          21.078,
          21.384,
          21.584,
          27.865,
          28.444,
          28.846,
          35.115,
          36.489,
          38.059,
          38.185,
          39.096,
          47.529,
          50.984,
          59.418,
          59.633,
          64.032
         ],
         "y": [
          "bar_off",
          "bar_off",
          "bar_off",
          "bar_off",
          "bar_off",
          "bar_off",
          "bar_off",
          "bar_off",
          "bar_off",
          "bar_off",
          "bar_off",
          "bar_off",
          "bar_off",
          "bar_off",
          "bar_off",
          "bar_off",
          "bar_off",
          "bar_off",
          "bar_off",
          "bar_off",
          "bar_off",
          "bar_off"
         ]
        },
        {
         "marker": {
          "symbol": "x"
         },
         "mode": "markers",
         "name": "spout",
         "type": "scatter",
         "x": [
          18.284,
          18.535,
          28.163,
          28.189,
          28.447,
          28.598,
          28.845,
          28.899,
          29.15,
          31.097,
          31.203,
          31.349,
          31.389,
          31.455,
          31.641,
          32.741,
          32.993,
          33.066,
          33.318,
          35.16,
          35.412,
          36.629,
          36.881,
          39.334,
          39.374,
          39.632,
          40.369,
          40.621,
          40.701,
          40.953,
          42.636,
          42.888,
          42.965,
          43.216,
          44.526,
          44.778,
          45.391,
          45.644,
          47.701,
          47.953,
          48.59,
          48.763,
          49.014,
          50.419,
          50.671,
          51.365,
          51.617,
          52.413,
          52.664,
          52.713,
          52.965,
          53.942,
          54.193,
          54.33,
          54.582,
          55.632,
          55.884,
          56.873,
          57.124,
          57.236,
          57.486,
          59.771,
          59.857,
          60.023,
          60.108,
          60.138,
          60.833,
          61.084,
          62.485,
          62.737,
          64.277,
          64.836,
          65.088,
          65.291,
          65.543,
          65.742,
          65.853,
          65.994,
          66.104,
          66.128,
          68.489,
          68.741,
          69.11,
          69.362,
          69.696,
          69.948,
          70.1,
          70.352,
          72.194,
          72.446,
          73.142,
          73.394,
          73.805,
          74.057
         ],
         "y": [
          "spout",
          "spout",
          "spout",
          "spout",
          "spout",
          "spout",
          "spout",
          "spout",
          "spout",
          "spout",
          "spout",
          "spout",
          "spout",
          "spout",
          "spout",
          "spout",
          "spout",
          "spout",
          "spout",
          "spout",
          "spout",
          "spout",
          "spout",
          "spout",
          "spout",
          "spout",
          "spout",
          "spout",
          "spout",
          "spout",
          "spout",
          "spout",
          "spout",
          "spout",
          "spout",
          "spout",
          "spout",
          "spout",
          "spout",
          "spout",
          "spout",
          "spout",
          "spout",
          "spout",
          "spout",
          "spout",
          "spout",
          "spout",
          "spout",
          "spout",
          "spout",
          "spout",
          "spout",
          "spout",
          "spout",
          "spout",
          "spout",
          "spout",
          "spout",
          "spout",
          "spout",
          "spout",
          "spout",
          "spout",
          "spout",
          "spout",
          "spout",
          "spout",
          "spout",
          "spout",
          "spout",
          "spout",
          "spout",
          "spout",
          "spout",
          "spout",
          "spout",
          "spout",
          "spout",
          "spout",
          "spout",
          "spout",
          "spout",
          "spout",
          "spout",
          "spout",
          "spout",
          "spout",
          "spout",
          "spout",
          "spout",
          "spout",
          "spout",
          "spout"
         ]
        },
        {
         "marker": {
          "symbol": "triangle-up"
         },
         "mode": "markers",
         "name": "US_delay_timer",
         "type": "scatter",
         "x": [
          18.485,
          28.364,
          28.389,
          28.798,
          29.099,
          31.298,
          31.404,
          31.59,
          32.942,
          33.267,
          35.361,
          36.83,
          39.535,
          39.575,
          40.57,
          40.902,
          42.837,
          43.165,
          44.727,
          45.593,
          47.902,
          48.791,
          48.963,
          50.62,
          51.566,
          52.613,
          52.914,
          54.143,
          54.531,
          55.833,
          57.073,
          57.436,
          59.972,
          60.057,
          61.033,
          62.686,
          64.478,
          65.037,
          65.492,
          65.943,
          66.053,
          68.691,
          69.311,
          69.897,
          70.301,
          72.395,
          73.343,
          74.006
         ],
         "y": [
          "US_delay_timer",
          "US_delay_timer",
          "US_delay_timer",
          "US_delay_timer",
          "US_delay_timer",
          "US_delay_timer",
          "US_delay_timer",
          "US_delay_timer",
          "US_delay_timer",
          "US_delay_timer",
          "US_delay_timer",
          "US_delay_timer",
          "US_delay_timer",
          "US_delay_timer",
          "US_delay_timer",
          "US_delay_timer",
          "US_delay_timer",
          "US_delay_timer",
          "US_delay_timer",
          "US_delay_timer",
          "US_delay_timer",
          "US_delay_timer",
          "US_delay_timer",
          "US_delay_timer",
          "US_delay_timer",
          "US_delay_timer",
          "US_delay_timer",
          "US_delay_timer",
          "US_delay_timer",
          "US_delay_timer",
          "US_delay_timer",
          "US_delay_timer",
          "US_delay_timer",
          "US_delay_timer",
          "US_delay_timer",
          "US_delay_timer",
          "US_delay_timer",
          "US_delay_timer",
          "US_delay_timer",
          "US_delay_timer",
          "US_delay_timer",
          "US_delay_timer",
          "US_delay_timer",
          "US_delay_timer",
          "US_delay_timer",
          "US_delay_timer",
          "US_delay_timer",
          "US_delay_timer"
         ]
        },
        {
         "marker": {
          "symbol": "triangle-down"
         },
         "mode": "markers",
         "name": "CS_offset_timer",
         "type": "scatter",
         "x": [
          2,
          18.585,
          28.464,
          28.489,
          28.898,
          29.199,
          31.398,
          31.504,
          31.69,
          33.042,
          33.367,
          35.461,
          36.93,
          39.635,
          39.675,
          40.67,
          41.002,
          42.937,
          43.265,
          44.826,
          45.693,
          48.002,
          48.891,
          49.063,
          50.72,
          51.666,
          52.713,
          53.014,
          54.243,
          54.631,
          55.933,
          57.173,
          57.536,
          60.072,
          60.157,
          61.133,
          62.786,
          64.578,
          65.137,
          65.592,
          66.043,
          66.153,
          68.79,
          69.411,
          69.996,
          70.401,
          72.495,
          73.443,
          74.106
         ],
         "y": [
          "CS_offset_timer",
          "CS_offset_timer",
          "CS_offset_timer",
          "CS_offset_timer",
          "CS_offset_timer",
          "CS_offset_timer",
          "CS_offset_timer",
          "CS_offset_timer",
          "CS_offset_timer",
          "CS_offset_timer",
          "CS_offset_timer",
          "CS_offset_timer",
          "CS_offset_timer",
          "CS_offset_timer",
          "CS_offset_timer",
          "CS_offset_timer",
          "CS_offset_timer",
          "CS_offset_timer",
          "CS_offset_timer",
          "CS_offset_timer",
          "CS_offset_timer",
          "CS_offset_timer",
          "CS_offset_timer",
          "CS_offset_timer",
          "CS_offset_timer",
          "CS_offset_timer",
          "CS_offset_timer",
          "CS_offset_timer",
          "CS_offset_timer",
          "CS_offset_timer",
          "CS_offset_timer",
          "CS_offset_timer",
          "CS_offset_timer",
          "CS_offset_timer",
          "CS_offset_timer",
          "CS_offset_timer",
          "CS_offset_timer",
          "CS_offset_timer",
          "CS_offset_timer",
          "CS_offset_timer",
          "CS_offset_timer",
          "CS_offset_timer",
          "CS_offset_timer",
          "CS_offset_timer",
          "CS_offset_timer",
          "CS_offset_timer",
          "CS_offset_timer",
          "CS_offset_timer",
          "CS_offset_timer"
         ]
        },
        {
         "line": {
          "width": 5
         },
         "mode": "lines",
         "name": "waiting_for_spout",
         "type": "scatter",
         "x": [
          1.733,
          18.285,
          null,
          20.287,
          28.164,
          null,
          30.166,
          31.098,
          null,
          34.301,
          35.161,
          null,
          37.167,
          39.334,
          null,
          41.337,
          42.636,
          null,
          44.639,
          45.392,
          null,
          47.394,
          47.702,
          null,
          49.704,
          50.42,
          null,
          52.422,
          52.714,
          null,
          54.716,
          55.632,
          null,
          57.635,
          59.771,
          null,
          61.774,
          62.485,
          null,
          64.487,
          64.836,
          null,
          66.839,
          68.49,
          null,
          70.492,
          72.194,
          null
         ],
         "y": [
          "waiting_for_spout",
          "waiting_for_spout",
          "waiting_for_spout",
          "waiting_for_spout",
          "waiting_for_spout",
          "waiting_for_spout",
          "waiting_for_spout",
          "waiting_for_spout",
          "waiting_for_spout",
          "waiting_for_spout",
          "waiting_for_spout",
          "waiting_for_spout",
          "waiting_for_spout",
          "waiting_for_spout",
          "waiting_for_spout",
          "waiting_for_spout",
          "waiting_for_spout",
          "waiting_for_spout",
          "waiting_for_spout",
          "waiting_for_spout",
          "waiting_for_spout",
          "waiting_for_spout",
          "waiting_for_spout",
          "waiting_for_spout",
          "waiting_for_spout",
          "waiting_for_spout",
          "waiting_for_spout",
          "waiting_for_spout",
          "waiting_for_spout",
          "waiting_for_spout",
          "waiting_for_spout",
          "waiting_for_spout",
          "waiting_for_spout",
          "waiting_for_spout",
          "waiting_for_spout",
          "waiting_for_spout",
          "waiting_for_spout",
          "waiting_for_spout",
          "waiting_for_spout",
          "waiting_for_spout",
          "waiting_for_spout",
          "waiting_for_spout",
          "waiting_for_spout",
          "waiting_for_spout",
          "waiting_for_spout",
          "waiting_for_spout",
          "waiting_for_spout",
          "waiting_for_spout"
         ]
        },
        {
         "line": {
          "width": 5
         },
         "mode": "lines",
         "name": "busy_win",
         "type": "scatter",
         "x": [
          31.098,
          33.1,
          null
         ],
         "y": [
          "busy_win",
          "busy_win",
          "busy_win"
         ]
        },
        {
         "line": {
          "width": 5
         },
         "mode": "lines",
         "name": "short_break",
         "type": "scatter",
         "x": [
          0,
          1.733,
          null,
          33.1,
          34.301,
          null
         ],
         "y": [
          "short_break",
          "short_break",
          "short_break",
          "short_break",
          "short_break",
          "short_break"
         ]
        }
       ],
       "layout": {
        "template": {
         "data": {
          "bar": [
           {
            "error_x": {
             "color": "#2a3f5f"
            },
            "error_y": {
             "color": "#2a3f5f"
            },
            "marker": {
             "line": {
              "color": "#E5ECF6",
              "width": 0.5
             },
             "pattern": {
              "fillmode": "overlay",
              "size": 10,
              "solidity": 0.2
             }
            },
            "type": "bar"
           }
          ],
          "barpolar": [
           {
            "marker": {
             "line": {
              "color": "#E5ECF6",
              "width": 0.5
             },
             "pattern": {
              "fillmode": "overlay",
              "size": 10,
              "solidity": 0.2
             }
            },
            "type": "barpolar"
           }
          ],
          "carpet": [
           {
            "aaxis": {
             "endlinecolor": "#2a3f5f",
             "gridcolor": "white",
             "linecolor": "white",
             "minorgridcolor": "white",
             "startlinecolor": "#2a3f5f"
            },
            "baxis": {
             "endlinecolor": "#2a3f5f",
             "gridcolor": "white",
             "linecolor": "white",
             "minorgridcolor": "white",
             "startlinecolor": "#2a3f5f"
            },
            "type": "carpet"
           }
          ],
          "choropleth": [
           {
            "colorbar": {
             "outlinewidth": 0,
             "ticks": ""
            },
            "type": "choropleth"
           }
          ],
          "contour": [
           {
            "colorbar": {
             "outlinewidth": 0,
             "ticks": ""
            },
            "colorscale": [
             [
              0,
              "#0d0887"
             ],
             [
              0.1111111111111111,
              "#46039f"
             ],
             [
              0.2222222222222222,
              "#7201a8"
             ],
             [
              0.3333333333333333,
              "#9c179e"
             ],
             [
              0.4444444444444444,
              "#bd3786"
             ],
             [
              0.5555555555555556,
              "#d8576b"
             ],
             [
              0.6666666666666666,
              "#ed7953"
             ],
             [
              0.7777777777777778,
              "#fb9f3a"
             ],
             [
              0.8888888888888888,
              "#fdca26"
             ],
             [
              1,
              "#f0f921"
             ]
            ],
            "type": "contour"
           }
          ],
          "contourcarpet": [
           {
            "colorbar": {
             "outlinewidth": 0,
             "ticks": ""
            },
            "type": "contourcarpet"
           }
          ],
          "heatmap": [
           {
            "colorbar": {
             "outlinewidth": 0,
             "ticks": ""
            },
            "colorscale": [
             [
              0,
              "#0d0887"
             ],
             [
              0.1111111111111111,
              "#46039f"
             ],
             [
              0.2222222222222222,
              "#7201a8"
             ],
             [
              0.3333333333333333,
              "#9c179e"
             ],
             [
              0.4444444444444444,
              "#bd3786"
             ],
             [
              0.5555555555555556,
              "#d8576b"
             ],
             [
              0.6666666666666666,
              "#ed7953"
             ],
             [
              0.7777777777777778,
              "#fb9f3a"
             ],
             [
              0.8888888888888888,
              "#fdca26"
             ],
             [
              1,
              "#f0f921"
             ]
            ],
            "type": "heatmap"
           }
          ],
          "heatmapgl": [
           {
            "colorbar": {
             "outlinewidth": 0,
             "ticks": ""
            },
            "colorscale": [
             [
              0,
              "#0d0887"
             ],
             [
              0.1111111111111111,
              "#46039f"
             ],
             [
              0.2222222222222222,
              "#7201a8"
             ],
             [
              0.3333333333333333,
              "#9c179e"
             ],
             [
              0.4444444444444444,
              "#bd3786"
             ],
             [
              0.5555555555555556,
              "#d8576b"
             ],
             [
              0.6666666666666666,
              "#ed7953"
             ],
             [
              0.7777777777777778,
              "#fb9f3a"
             ],
             [
              0.8888888888888888,
              "#fdca26"
             ],
             [
              1,
              "#f0f921"
             ]
            ],
            "type": "heatmapgl"
           }
          ],
          "histogram": [
           {
            "marker": {
             "pattern": {
              "fillmode": "overlay",
              "size": 10,
              "solidity": 0.2
             }
            },
            "type": "histogram"
           }
          ],
          "histogram2d": [
           {
            "colorbar": {
             "outlinewidth": 0,
             "ticks": ""
            },
            "colorscale": [
             [
              0,
              "#0d0887"
             ],
             [
              0.1111111111111111,
              "#46039f"
             ],
             [
              0.2222222222222222,
              "#7201a8"
             ],
             [
              0.3333333333333333,
              "#9c179e"
             ],
             [
              0.4444444444444444,
              "#bd3786"
             ],
             [
              0.5555555555555556,
              "#d8576b"
             ],
             [
              0.6666666666666666,
              "#ed7953"
             ],
             [
              0.7777777777777778,
              "#fb9f3a"
             ],
             [
              0.8888888888888888,
              "#fdca26"
             ],
             [
              1,
              "#f0f921"
             ]
            ],
            "type": "histogram2d"
           }
          ],
          "histogram2dcontour": [
           {
            "colorbar": {
             "outlinewidth": 0,
             "ticks": ""
            },
            "colorscale": [
             [
              0,
              "#0d0887"
             ],
             [
              0.1111111111111111,
              "#46039f"
             ],
             [
              0.2222222222222222,
              "#7201a8"
             ],
             [
              0.3333333333333333,
              "#9c179e"
             ],
             [
              0.4444444444444444,
              "#bd3786"
             ],
             [
              0.5555555555555556,
              "#d8576b"
             ],
             [
              0.6666666666666666,
              "#ed7953"
             ],
             [
              0.7777777777777778,
              "#fb9f3a"
             ],
             [
              0.8888888888888888,
              "#fdca26"
             ],
             [
              1,
              "#f0f921"
             ]
            ],
            "type": "histogram2dcontour"
           }
          ],
          "mesh3d": [
           {
            "colorbar": {
             "outlinewidth": 0,
             "ticks": ""
            },
            "type": "mesh3d"
           }
          ],
          "parcoords": [
           {
            "line": {
             "colorbar": {
              "outlinewidth": 0,
              "ticks": ""
             }
            },
            "type": "parcoords"
           }
          ],
          "pie": [
           {
            "automargin": true,
            "type": "pie"
           }
          ],
          "scatter": [
           {
            "fillpattern": {
             "fillmode": "overlay",
             "size": 10,
             "solidity": 0.2
            },
            "type": "scatter"
           }
          ],
          "scatter3d": [
           {
            "line": {
             "colorbar": {
              "outlinewidth": 0,
              "ticks": ""
             }
            },
            "marker": {
             "colorbar": {
              "outlinewidth": 0,
              "ticks": ""
             }
            },
            "type": "scatter3d"
           }
          ],
          "scattercarpet": [
           {
            "marker": {
             "colorbar": {
              "outlinewidth": 0,
              "ticks": ""
             }
            },
            "type": "scattercarpet"
           }
          ],
          "scattergeo": [
           {
            "marker": {
             "colorbar": {
              "outlinewidth": 0,
              "ticks": ""
             }
            },
            "type": "scattergeo"
           }
          ],
          "scattergl": [
           {
            "marker": {
             "colorbar": {
              "outlinewidth": 0,
              "ticks": ""
             }
            },
            "type": "scattergl"
           }
          ],
          "scattermapbox": [
           {
            "marker": {
             "colorbar": {
              "outlinewidth": 0,
              "ticks": ""
             }
            },
            "type": "scattermapbox"
           }
          ],
          "scatterpolar": [
           {
            "marker": {
             "colorbar": {
              "outlinewidth": 0,
              "ticks": ""
             }
            },
            "type": "scatterpolar"
           }
          ],
          "scatterpolargl": [
           {
            "marker": {
             "colorbar": {
              "outlinewidth": 0,
              "ticks": ""
             }
            },
            "type": "scatterpolargl"
           }
          ],
          "scatterternary": [
           {
            "marker": {
             "colorbar": {
              "outlinewidth": 0,
              "ticks": ""
             }
            },
            "type": "scatterternary"
           }
          ],
          "surface": [
           {
            "colorbar": {
             "outlinewidth": 0,
             "ticks": ""
            },
            "colorscale": [
             [
              0,
              "#0d0887"
             ],
             [
              0.1111111111111111,
              "#46039f"
             ],
             [
              0.2222222222222222,
              "#7201a8"
             ],
             [
              0.3333333333333333,
              "#9c179e"
             ],
             [
              0.4444444444444444,
              "#bd3786"
             ],
             [
              0.5555555555555556,
              "#d8576b"
             ],
             [
              0.6666666666666666,
              "#ed7953"
             ],
             [
              0.7777777777777778,
              "#fb9f3a"
             ],
             [
              0.8888888888888888,
              "#fdca26"
             ],
             [
              1,
              "#f0f921"
             ]
            ],
            "type": "surface"
           }
          ],
          "table": [
           {
            "cells": {
             "fill": {
              "color": "#EBF0F8"
             },
             "line": {
              "color": "white"
             }
            },
            "header": {
             "fill": {
              "color": "#C8D4E3"
             },
             "line": {
              "color": "white"
             }
            },
            "type": "table"
           }
          ]
         },
         "layout": {
          "annotationdefaults": {
           "arrowcolor": "#2a3f5f",
           "arrowhead": 0,
           "arrowwidth": 1
          },
          "autotypenumbers": "strict",
          "coloraxis": {
           "colorbar": {
            "outlinewidth": 0,
            "ticks": ""
           }
          },
          "colorscale": {
           "diverging": [
            [
             0,
             "#8e0152"
            ],
            [
             0.1,
             "#c51b7d"
            ],
            [
             0.2,
             "#de77ae"
            ],
            [
             0.3,
             "#f1b6da"
            ],
            [
             0.4,
             "#fde0ef"
            ],
            [
             0.5,
             "#f7f7f7"
            ],
            [
             0.6,
             "#e6f5d0"
            ],
            [
             0.7,
             "#b8e186"
            ],
            [
             0.8,
             "#7fbc41"
            ],
            [
             0.9,
             "#4d9221"
            ],
            [
             1,
             "#276419"
            ]
           ],
           "sequential": [
            [
             0,
             "#0d0887"
            ],
            [
             0.1111111111111111,
             "#46039f"
            ],
            [
             0.2222222222222222,
             "#7201a8"
            ],
            [
             0.3333333333333333,
             "#9c179e"
            ],
            [
             0.4444444444444444,
             "#bd3786"
            ],
            [
             0.5555555555555556,
             "#d8576b"
            ],
            [
             0.6666666666666666,
             "#ed7953"
            ],
            [
             0.7777777777777778,
             "#fb9f3a"
            ],
            [
             0.8888888888888888,
             "#fdca26"
            ],
            [
             1,
             "#f0f921"
            ]
           ],
           "sequentialminus": [
            [
             0,
             "#0d0887"
            ],
            [
             0.1111111111111111,
             "#46039f"
            ],
            [
             0.2222222222222222,
             "#7201a8"
            ],
            [
             0.3333333333333333,
             "#9c179e"
            ],
            [
             0.4444444444444444,
             "#bd3786"
            ],
            [
             0.5555555555555556,
             "#d8576b"
            ],
            [
             0.6666666666666666,
             "#ed7953"
            ],
            [
             0.7777777777777778,
             "#fb9f3a"
            ],
            [
             0.8888888888888888,
             "#fdca26"
            ],
            [
             1,
             "#f0f921"
            ]
           ]
          },
          "colorway": [
           "#636efa",
           "#EF553B",
           "#00cc96",
           "#ab63fa",
           "#FFA15A",
           "#19d3f3",
           "#FF6692",
           "#B6E880",
           "#FF97FF",
           "#FECB52"
          ],
          "font": {
           "color": "#2a3f5f"
          },
          "geo": {
           "bgcolor": "white",
           "lakecolor": "white",
           "landcolor": "#E5ECF6",
           "showlakes": true,
           "showland": true,
           "subunitcolor": "white"
          },
          "hoverlabel": {
           "align": "left"
          },
          "hovermode": "closest",
          "mapbox": {
           "style": "light"
          },
          "paper_bgcolor": "white",
          "plot_bgcolor": "#E5ECF6",
          "polar": {
           "angularaxis": {
            "gridcolor": "white",
            "linecolor": "white",
            "ticks": ""
           },
           "bgcolor": "#E5ECF6",
           "radialaxis": {
            "gridcolor": "white",
            "linecolor": "white",
            "ticks": ""
           }
          },
          "scene": {
           "xaxis": {
            "backgroundcolor": "#E5ECF6",
            "gridcolor": "white",
            "gridwidth": 2,
            "linecolor": "white",
            "showbackground": true,
            "ticks": "",
            "zerolinecolor": "white"
           },
           "yaxis": {
            "backgroundcolor": "#E5ECF6",
            "gridcolor": "white",
            "gridwidth": 2,
            "linecolor": "white",
            "showbackground": true,
            "ticks": "",
            "zerolinecolor": "white"
           },
           "zaxis": {
            "backgroundcolor": "#E5ECF6",
            "gridcolor": "white",
            "gridwidth": 2,
            "linecolor": "white",
            "showbackground": true,
            "ticks": "",
            "zerolinecolor": "white"
           }
          },
          "shapedefaults": {
           "line": {
            "color": "#2a3f5f"
           }
          },
          "ternary": {
           "aaxis": {
            "gridcolor": "white",
            "linecolor": "white",
            "ticks": ""
           },
           "baxis": {
            "gridcolor": "white",
            "linecolor": "white",
            "ticks": ""
           },
           "bgcolor": "#E5ECF6",
           "caxis": {
            "gridcolor": "white",
            "linecolor": "white",
            "ticks": ""
           }
          },
          "title": {
           "x": 0.05
          },
          "xaxis": {
           "automargin": true,
           "gridcolor": "white",
           "linecolor": "white",
           "ticks": "",
           "title": {
            "standoff": 15
           },
           "zerolinecolor": "white",
           "zerolinewidth": 2
          },
          "yaxis": {
           "automargin": true,
           "gridcolor": "white",
           "linecolor": "white",
           "ticks": "",
           "title": {
            "standoff": 15
           },
           "zerolinecolor": "white",
           "zerolinewidth": 2
          }
         }
        },
        "title": {
         "text": "reaching_go_spout_nov22, 315 #2, on 2022-11-24 12:18:33 via COM7"
        },
        "xaxis": {
         "title": {
          "text": "Time (s)"
         }
        },
        "yaxis": {
         "fixedrange": true
        }
       }
      }
     },
     "metadata": {},
     "output_type": "display_data"
    },
    {
     "name": "stdout",
     "output_type": "stream",
     "text": [
      "saved JC315L-2022-11-24-121833_reaching_go_spout_nov22.smrx\n",
      "JC315L-2022-11-24-122143_reaching_go_spout_nov22.smrx\n"
     ]
    },
    {
     "name": "stderr",
     "output_type": "stream",
     "text": [
      "C:\\Users\\phar0528\\AppData\\Local\\Temp\\ipykernel_43892\\4133634569.py:21: FutureWarning:\n",
      "\n",
      "The frame.append method is deprecated and will be removed from pandas in a future version. Use pandas.concat instead.\n",
      "\n"
     ]
    },
    {
     "data": {
      "application/vnd.plotly.v1+json": {
       "config": {
        "plotlyServerURL": "https://plot.ly"
       },
       "data": [
        {
         "marker": {
          "symbol": "square"
         },
         "mode": "markers",
         "name": "button_press",
         "type": "scatter",
         "x": [
          3.937,
          39.312,
          144.306,
          218.206,
          505.937,
          508.596,
          639.541,
          646.252,
          647.559,
          648.569
         ],
         "y": [
          "button_press",
          "button_press",
          "button_press",
          "button_press",
          "button_press",
          "button_press",
          "button_press",
          "button_press",
          "button_press",
          "button_press"
         ]
        },
        {
         "marker": {
          "symbol": "diamond"
         },
         "mode": "markers",
         "name": "bar",
         "type": "scatter",
         "x": [
          0.722,
          0.796,
          0.975,
          2.984,
          4.879,
          10.057,
          22.742,
          23.663,
          23.692,
          24.462,
          48.955,
          49.16,
          49.278,
          65.831,
          68.334,
          68.647,
          75.304,
          80.311,
          97.934,
          144.559,
          154.289,
          154.413,
          154.497,
          163.873,
          166.5,
          194.777,
          229.383,
          229.489,
          230.302,
          239.676,
          240.468,
          250.5,
          252.511,
          252.532,
          252.669,
          257.452,
          264.535,
          264.629,
          268.446,
          268.559,
          269.1,
          269.899,
          281.319,
          281.863,
          286.266,
          286.514,
          289.93,
          296.345,
          311.965,
          317.119,
          317.882,
          318.138,
          319.311,
          329.05,
          329.477,
          329.681,
          330.65,
          385.369,
          385.387,
          410.685,
          418.15,
          419.37,
          419.414,
          419.484,
          419.54,
          419.877,
          419.938,
          420.393,
          433.923,
          434.711,
          439.149,
          440.26,
          441.43,
          441.954,
          441.997,
          442.84,
          451.33,
          452.113,
          452.673,
          455.684,
          457.309,
          472.985,
          479.261,
          499.669,
          500.176,
          506.134,
          508.857,
          509.143,
          509.573,
          513.491,
          513.869,
          513.898,
          514.558,
          514.821,
          535.155,
          555.641,
          568.113,
          568.445,
          568.794,
          639.723,
          646.437,
          691.08,
          692.001,
          699.768,
          700.188,
          701.217,
          705.555,
          705.987,
          706.027,
          709.41,
          710.155,
          710.794,
          713.052,
          713.385,
          713.989,
          714.534,
          719.534,
          719.89,
          721.48,
          723.008,
          724.656,
          724.881,
          725.358,
          725.466,
          725.866,
          725.963,
          727.49,
          727.948,
          728.382,
          732.269,
          732.913,
          732.992,
          735.886,
          738.54,
          748.918,
          754.138,
          754.213,
          754.28,
          764.725,
          764.754,
          787.356,
          795.624,
          795.706,
          795.917,
          796.411,
          796.707,
          797.989,
          798.352,
          798.462,
          798.818,
          798.881,
          800.291,
          826.147,
          826.896,
          826.959,
          827.222,
          827.59,
          827.742,
          828.062,
          828.707,
          845.025,
          845.105,
          847.098,
          849.077,
          849.11,
          851.507,
          851.772,
          852.145,
          852.561,
          882.741,
          884.886,
          892.223,
          893.457,
          905.019,
          907.979
         ],
         "y": [
          "bar",
          "bar",
          "bar",
          "bar",
          "bar",
          "bar",
          "bar",
          "bar",
          "bar",
          "bar",
          "bar",
          "bar",
          "bar",
          "bar",
          "bar",
          "bar",
          "bar",
          "bar",
          "bar",
          "bar",
          "bar",
          "bar",
          "bar",
          "bar",
          "bar",
          "bar",
          "bar",
          "bar",
          "bar",
          "bar",
          "bar",
          "bar",
          "bar",
          "bar",
          "bar",
          "bar",
          "bar",
          "bar",
          "bar",
          "bar",
          "bar",
          "bar",
          "bar",
          "bar",
          "bar",
          "bar",
          "bar",
          "bar",
          "bar",
          "bar",
          "bar",
          "bar",
          "bar",
          "bar",
          "bar",
          "bar",
          "bar",
          "bar",
          "bar",
          "bar",
          "bar",
          "bar",
          "bar",
          "bar",
          "bar",
          "bar",
          "bar",
          "bar",
          "bar",
          "bar",
          "bar",
          "bar",
          "bar",
          "bar",
          "bar",
          "bar",
          "bar",
          "bar",
          "bar",
          "bar",
          "bar",
          "bar",
          "bar",
          "bar",
          "bar",
          "bar",
          "bar",
          "bar",
          "bar",
          "bar",
          "bar",
          "bar",
          "bar",
          "bar",
          "bar",
          "bar",
          "bar",
          "bar",
          "bar",
          "bar",
          "bar",
          "bar",
          "bar",
          "bar",
          "bar",
          "bar",
          "bar",
          "bar",
          "bar",
          "bar",
          "bar",
          "bar",
          "bar",
          "bar",
          "bar",
          "bar",
          "bar",
          "bar",
          "bar",
          "bar",
          "bar",
          "bar",
          "bar",
          "bar",
          "bar",
          "bar",
          "bar",
          "bar",
          "bar",
          "bar",
          "bar",
          "bar",
          "bar",
          "bar",
          "bar",
          "bar",
          "bar",
          "bar",
          "bar",
          "bar",
          "bar",
          "bar",
          "bar",
          "bar",
          "bar",
          "bar",
          "bar",
          "bar",
          "bar",
          "bar",
          "bar",
          "bar",
          "bar",
          "bar",
          "bar",
          "bar",
          "bar",
          "bar",
          "bar",
          "bar",
          "bar",
          "bar",
          "bar",
          "bar",
          "bar",
          "bar",
          "bar",
          "bar",
          "bar",
          "bar",
          "bar",
          "bar",
          "bar",
          "bar",
          "bar"
         ]
        },
        {
         "marker": {
          "symbol": "cross"
         },
         "mode": "markers",
         "name": "bar_off",
         "type": "scatter",
         "x": [
          0.703,
          0.768,
          0.949,
          2.946,
          4.799,
          5.361,
          22.725,
          23.113,
          23.678,
          24.416,
          39.532,
          49.01,
          49.242,
          65.816,
          68.311,
          68.468,
          75.278,
          80.271,
          97.9,
          144.47,
          144.591,
          154.378,
          154.467,
          163.848,
          166.449,
          194.721,
          218.396,
          229.445,
          230.253,
          239.616,
          240.406,
          250.484,
          250.669,
          252.526,
          252.649,
          257.391,
          264.342,
          264.562,
          268.431,
          268.506,
          268.831,
          269.872,
          281.282,
          281.829,
          286.243,
          286.484,
          289.915,
          296.285,
          311.95,
          316.912,
          317.867,
          317.894,
          319.184,
          323,
          329.452,
          329.647,
          330.617,
          385.354,
          385.369,
          410.665,
          418.119,
          418.991,
          419.385,
          419.448,
          419.525,
          419.853,
          419.923,
          420.362,
          433.904,
          434.654,
          439.098,
          440.108,
          441.415,
          441.688,
          441.969,
          442.81,
          451.296,
          451.769,
          452.128,
          455.661,
          457.282,
          472.944,
          479.235,
          499.653,
          500.152,
          506.108,
          508.839,
          509.063,
          509.542,
          513.462,
          513.72,
          513.885,
          514.464,
          514.574,
          535.14,
          555.623,
          568.097,
          568.428,
          568.766,
          639.708,
          646.409,
          691.061,
          691.974,
          699.46,
          699.784,
          701.193,
          705.187,
          705.57,
          706.002,
          709.386,
          709.622,
          710.17,
          713.037,
          713.36,
          713.974,
          714.509,
          719.514,
          719.87,
          721.428,
          722.514,
          724.625,
          724.712,
          725.284,
          725.399,
          725.832,
          725.933,
          726.625,
          727.646,
          728.349,
          732.224,
          732.821,
          732.965,
          735.842,
          738.472,
          748.689,
          754.099,
          754.176,
          754.253,
          764.463,
          764.74,
          787.018,
          787.371,
          795.661,
          795.866,
          796.372,
          796.683,
          797.715,
          798.004,
          798.415,
          798.513,
          798.833,
          800.276,
          826.129,
          826.652,
          826.918,
          827.052,
          827.56,
          827.702,
          827.956,
          828.685,
          838.907,
          845.09,
          847.072,
          847.114,
          849.092,
          850.897,
          851.756,
          852.109,
          852.545,
          882.491,
          883.204,
          892.189,
          893.003,
          904.986,
          907.931
         ],
         "y": [
          "bar_off",
          "bar_off",
          "bar_off",
          "bar_off",
          "bar_off",
          "bar_off",
          "bar_off",
          "bar_off",
          "bar_off",
          "bar_off",
          "bar_off",
          "bar_off",
          "bar_off",
          "bar_off",
          "bar_off",
          "bar_off",
          "bar_off",
          "bar_off",
          "bar_off",
          "bar_off",
          "bar_off",
          "bar_off",
          "bar_off",
          "bar_off",
          "bar_off",
          "bar_off",
          "bar_off",
          "bar_off",
          "bar_off",
          "bar_off",
          "bar_off",
          "bar_off",
          "bar_off",
          "bar_off",
          "bar_off",
          "bar_off",
          "bar_off",
          "bar_off",
          "bar_off",
          "bar_off",
          "bar_off",
          "bar_off",
          "bar_off",
          "bar_off",
          "bar_off",
          "bar_off",
          "bar_off",
          "bar_off",
          "bar_off",
          "bar_off",
          "bar_off",
          "bar_off",
          "bar_off",
          "bar_off",
          "bar_off",
          "bar_off",
          "bar_off",
          "bar_off",
          "bar_off",
          "bar_off",
          "bar_off",
          "bar_off",
          "bar_off",
          "bar_off",
          "bar_off",
          "bar_off",
          "bar_off",
          "bar_off",
          "bar_off",
          "bar_off",
          "bar_off",
          "bar_off",
          "bar_off",
          "bar_off",
          "bar_off",
          "bar_off",
          "bar_off",
          "bar_off",
          "bar_off",
          "bar_off",
          "bar_off",
          "bar_off",
          "bar_off",
          "bar_off",
          "bar_off",
          "bar_off",
          "bar_off",
          "bar_off",
          "bar_off",
          "bar_off",
          "bar_off",
          "bar_off",
          "bar_off",
          "bar_off",
          "bar_off",
          "bar_off",
          "bar_off",
          "bar_off",
          "bar_off",
          "bar_off",
          "bar_off",
          "bar_off",
          "bar_off",
          "bar_off",
          "bar_off",
          "bar_off",
          "bar_off",
          "bar_off",
          "bar_off",
          "bar_off",
          "bar_off",
          "bar_off",
          "bar_off",
          "bar_off",
          "bar_off",
          "bar_off",
          "bar_off",
          "bar_off",
          "bar_off",
          "bar_off",
          "bar_off",
          "bar_off",
          "bar_off",
          "bar_off",
          "bar_off",
          "bar_off",
          "bar_off",
          "bar_off",
          "bar_off",
          "bar_off",
          "bar_off",
          "bar_off",
          "bar_off",
          "bar_off",
          "bar_off",
          "bar_off",
          "bar_off",
          "bar_off",
          "bar_off",
          "bar_off",
          "bar_off",
          "bar_off",
          "bar_off",
          "bar_off",
          "bar_off",
          "bar_off",
          "bar_off",
          "bar_off",
          "bar_off",
          "bar_off",
          "bar_off",
          "bar_off",
          "bar_off",
          "bar_off",
          "bar_off",
          "bar_off",
          "bar_off",
          "bar_off",
          "bar_off",
          "bar_off",
          "bar_off",
          "bar_off",
          "bar_off",
          "bar_off",
          "bar_off",
          "bar_off",
          "bar_off",
          "bar_off",
          "bar_off",
          "bar_off",
          "bar_off",
          "bar_off",
          "bar_off",
          "bar_off",
          "bar_off"
         ]
        },
        {
         "marker": {
          "symbol": "x"
         },
         "mode": "markers",
         "name": "spout",
         "type": "scatter",
         "x": [
          3.987,
          4.239,
          5.517,
          5.769,
          5.845,
          6.097,
          6.173,
          39.362,
          39.614,
          39.706,
          39.958,
          39.983,
          40.08,
          40.331,
          42.001,
          43.745,
          43.997,
          44.043,
          44.295,
          44.933,
          45.185,
          46.624,
          144.358,
          144.61,
          144.845,
          145.097,
          145.172,
          145.424,
          146.809,
          148.339,
          148.524,
          148.592,
          148.642,
          148.776,
          148.894,
          149.063,
          149.315,
          149.969,
          150.22,
          152.067,
          218.257,
          218.51,
          218.922,
          219.174,
          219.209,
          219.461,
          220.794,
          222.211,
          222.285,
          222.463,
          222.509,
          222.71,
          222.961,
          224.371,
          226.132,
          226.384,
          226.512,
          226.764,
          226.987,
          227.238,
          227.271,
          228.675,
          228.716,
          229.084,
          249.258,
          249.51,
          249.908,
          249.928,
          250.001,
          250.113,
          250.187,
          250.253,
          250.48,
          250.732,
          251.715,
          265.713,
          265.965,
          266.012,
          266.264,
          266.435,
          266.686,
          267.012,
          267.264,
          267.294,
          268.214,
          268.236,
          268.252,
          268.288,
          268.491,
          312.657,
          312.893,
          313.397,
          313.558,
          313.649,
          313.81,
          313.849,
          314.101,
          314.154,
          314.406,
          315.344,
          317.446,
          317.698,
          317.741,
          317.993,
          323.165,
          323.373,
          323.417,
          323.449,
          473.172,
          473.423,
          474.356,
          474.608,
          505.987,
          506.239,
          508.648,
          508.901,
          514.558,
          514.811,
          639.591,
          639.843,
          646.304,
          646.556,
          647.61,
          647.861,
          648.621,
          648.873,
          699.712,
          699.91,
          699.964,
          700.162,
          705.394,
          705.412,
          705.64,
          705.671,
          709.851,
          709.999,
          710.103,
          710.251,
          710.303,
          710.503,
          710.555,
          710.61,
          710.754,
          710.861,
          722.785,
          723.037,
          726.859,
          727.087,
          727.142,
          727.255,
          727.507,
          727.555,
          727.806,
          739.086,
          739.338,
          739.506,
          739.757,
          745.938,
          746.19,
          746.26,
          746.511,
          746.947,
          747.198,
          749.002,
          749.194,
          749.517,
          764.062,
          764.314,
          764.64,
          764.892,
          770.045,
          770.358,
          770.61,
          775.01,
          775.37,
          787.242,
          787.494,
          787.619,
          787.764,
          787.799,
          788.048,
          788.28,
          788.6,
          788.852,
          788.886,
          789.071,
          789.323,
          792.221,
          792.473,
          792.507,
          792.759,
          798.147,
          798.399,
          798.764,
          799.016,
          799.044,
          799.141,
          799.271,
          799.393,
          799.444,
          799.523,
          799.696,
          799.815,
          800.045,
          800.084,
          800.166,
          800.185,
          800.205,
          800.265,
          800.405,
          839.126,
          839.186,
          839.216,
          839.378,
          839.468,
          840.949,
          841.2,
          843.544,
          843.797,
          843.934,
          844.185,
          882.496,
          882.748,
          913.668,
          913.912,
          913.967,
          914.218
         ],
         "y": [
          "spout",
          "spout",
          "spout",
          "spout",
          "spout",
          "spout",
          "spout",
          "spout",
          "spout",
          "spout",
          "spout",
          "spout",
          "spout",
          "spout",
          "spout",
          "spout",
          "spout",
          "spout",
          "spout",
          "spout",
          "spout",
          "spout",
          "spout",
          "spout",
          "spout",
          "spout",
          "spout",
          "spout",
          "spout",
          "spout",
          "spout",
          "spout",
          "spout",
          "spout",
          "spout",
          "spout",
          "spout",
          "spout",
          "spout",
          "spout",
          "spout",
          "spout",
          "spout",
          "spout",
          "spout",
          "spout",
          "spout",
          "spout",
          "spout",
          "spout",
          "spout",
          "spout",
          "spout",
          "spout",
          "spout",
          "spout",
          "spout",
          "spout",
          "spout",
          "spout",
          "spout",
          "spout",
          "spout",
          "spout",
          "spout",
          "spout",
          "spout",
          "spout",
          "spout",
          "spout",
          "spout",
          "spout",
          "spout",
          "spout",
          "spout",
          "spout",
          "spout",
          "spout",
          "spout",
          "spout",
          "spout",
          "spout",
          "spout",
          "spout",
          "spout",
          "spout",
          "spout",
          "spout",
          "spout",
          "spout",
          "spout",
          "spout",
          "spout",
          "spout",
          "spout",
          "spout",
          "spout",
          "spout",
          "spout",
          "spout",
          "spout",
          "spout",
          "spout",
          "spout",
          "spout",
          "spout",
          "spout",
          "spout",
          "spout",
          "spout",
          "spout",
          "spout",
          "spout",
          "spout",
          "spout",
          "spout",
          "spout",
          "spout",
          "spout",
          "spout",
          "spout",
          "spout",
          "spout",
          "spout",
          "spout",
          "spout",
          "spout",
          "spout",
          "spout",
          "spout",
          "spout",
          "spout",
          "spout",
          "spout",
          "spout",
          "spout",
          "spout",
          "spout",
          "spout",
          "spout",
          "spout",
          "spout",
          "spout",
          "spout",
          "spout",
          "spout",
          "spout",
          "spout",
          "spout",
          "spout",
          "spout",
          "spout",
          "spout",
          "spout",
          "spout",
          "spout",
          "spout",
          "spout",
          "spout",
          "spout",
          "spout",
          "spout",
          "spout",
          "spout",
          "spout",
          "spout",
          "spout",
          "spout",
          "spout",
          "spout",
          "spout",
          "spout",
          "spout",
          "spout",
          "spout",
          "spout",
          "spout",
          "spout",
          "spout",
          "spout",
          "spout",
          "spout",
          "spout",
          "spout",
          "spout",
          "spout",
          "spout",
          "spout",
          "spout",
          "spout",
          "spout",
          "spout",
          "spout",
          "spout",
          "spout",
          "spout",
          "spout",
          "spout",
          "spout",
          "spout",
          "spout",
          "spout",
          "spout",
          "spout",
          "spout",
          "spout",
          "spout",
          "spout",
          "spout",
          "spout",
          "spout",
          "spout",
          "spout",
          "spout",
          "spout",
          "spout",
          "spout",
          "spout",
          "spout",
          "spout",
          "spout",
          "spout",
          "spout",
          "spout",
          "spout",
          "spout",
          "spout"
         ]
        },
        {
         "marker": {
          "symbol": "triangle-up"
         },
         "mode": "markers",
         "name": "US_delay_timer",
         "type": "scatter",
         "x": [
          4.188,
          5.718,
          6.046,
          39.563,
          39.907,
          40.28,
          43.946,
          44.244,
          45.134,
          144.559,
          145.046,
          145.373,
          148.541,
          148.725,
          148.843,
          149.264,
          150.169,
          218.459,
          219.123,
          219.41,
          222.412,
          222.486,
          222.91,
          226.333,
          226.713,
          227.187,
          249.459,
          250.109,
          250.129,
          250.201,
          250.681,
          265.914,
          266.213,
          266.635,
          267.213,
          312.858,
          313.598,
          313.759,
          314.05,
          314.355,
          317.647,
          317.942,
          323.366,
          473.373,
          474.557,
          506.188,
          508.85,
          514.76,
          639.792,
          646.505,
          647.81,
          648.822,
          699.913,
          700.111,
          705.595,
          705.613,
          710.052,
          710.2,
          710.504,
          710.703,
          710.81,
          722.986,
          727.06,
          727.456,
          727.755,
          739.287,
          739.706,
          746.139,
          746.46,
          747.147,
          764.263,
          764.841,
          770.246,
          770.559,
          775.212,
          775.57,
          787.443,
          787.82,
          787.965,
          788,
          788.481,
          788.801,
          789.272,
          792.422,
          792.708,
          798.348,
          798.965,
          799.342,
          799.472,
          799.645,
          800.016,
          839.327,
          839.386,
          839.416,
          841.149,
          843.746,
          844.134,
          882.697,
          913.87,
          914.167
         ],
         "y": [
          "US_delay_timer",
          "US_delay_timer",
          "US_delay_timer",
          "US_delay_timer",
          "US_delay_timer",
          "US_delay_timer",
          "US_delay_timer",
          "US_delay_timer",
          "US_delay_timer",
          "US_delay_timer",
          "US_delay_timer",
          "US_delay_timer",
          "US_delay_timer",
          "US_delay_timer",
          "US_delay_timer",
          "US_delay_timer",
          "US_delay_timer",
          "US_delay_timer",
          "US_delay_timer",
          "US_delay_timer",
          "US_delay_timer",
          "US_delay_timer",
          "US_delay_timer",
          "US_delay_timer",
          "US_delay_timer",
          "US_delay_timer",
          "US_delay_timer",
          "US_delay_timer",
          "US_delay_timer",
          "US_delay_timer",
          "US_delay_timer",
          "US_delay_timer",
          "US_delay_timer",
          "US_delay_timer",
          "US_delay_timer",
          "US_delay_timer",
          "US_delay_timer",
          "US_delay_timer",
          "US_delay_timer",
          "US_delay_timer",
          "US_delay_timer",
          "US_delay_timer",
          "US_delay_timer",
          "US_delay_timer",
          "US_delay_timer",
          "US_delay_timer",
          "US_delay_timer",
          "US_delay_timer",
          "US_delay_timer",
          "US_delay_timer",
          "US_delay_timer",
          "US_delay_timer",
          "US_delay_timer",
          "US_delay_timer",
          "US_delay_timer",
          "US_delay_timer",
          "US_delay_timer",
          "US_delay_timer",
          "US_delay_timer",
          "US_delay_timer",
          "US_delay_timer",
          "US_delay_timer",
          "US_delay_timer",
          "US_delay_timer",
          "US_delay_timer",
          "US_delay_timer",
          "US_delay_timer",
          "US_delay_timer",
          "US_delay_timer",
          "US_delay_timer",
          "US_delay_timer",
          "US_delay_timer",
          "US_delay_timer",
          "US_delay_timer",
          "US_delay_timer",
          "US_delay_timer",
          "US_delay_timer",
          "US_delay_timer",
          "US_delay_timer",
          "US_delay_timer",
          "US_delay_timer",
          "US_delay_timer",
          "US_delay_timer",
          "US_delay_timer",
          "US_delay_timer",
          "US_delay_timer",
          "US_delay_timer",
          "US_delay_timer",
          "US_delay_timer",
          "US_delay_timer",
          "US_delay_timer",
          "US_delay_timer",
          "US_delay_timer",
          "US_delay_timer",
          "US_delay_timer",
          "US_delay_timer",
          "US_delay_timer",
          "US_delay_timer",
          "US_delay_timer",
          "US_delay_timer"
         ]
        },
        {
         "marker": {
          "symbol": "triangle-down"
         },
         "mode": "markers",
         "name": "CS_offset_timer",
         "type": "scatter",
         "x": [
          2,
          4.288,
          5.818,
          6.146,
          39.663,
          40.007,
          40.38,
          44.046,
          44.344,
          45.234,
          144.659,
          145.146,
          145.473,
          148.641,
          148.825,
          148.943,
          149.364,
          150.269,
          218.558,
          219.223,
          219.51,
          222.512,
          222.586,
          223.01,
          226.432,
          226.813,
          227.287,
          249.559,
          250.209,
          250.229,
          250.301,
          250.781,
          266.014,
          266.313,
          266.735,
          267.313,
          312.958,
          313.698,
          313.858,
          314.15,
          314.455,
          317.747,
          318.042,
          323.466,
          473.473,
          474.656,
          506.288,
          508.949,
          514.86,
          639.892,
          646.605,
          647.91,
          648.922,
          700.013,
          700.211,
          705.695,
          705.713,
          710.152,
          710.3,
          710.604,
          710.803,
          710.91,
          723.086,
          727.16,
          727.556,
          727.855,
          739.387,
          739.806,
          746.239,
          746.56,
          747.247,
          764.363,
          764.941,
          770.346,
          770.659,
          775.312,
          775.67,
          787.543,
          787.92,
          788.065,
          788.099,
          788.58,
          788.9,
          789.372,
          792.522,
          792.808,
          798.448,
          799.065,
          799.442,
          799.572,
          799.745,
          800.116,
          839.427,
          839.486,
          839.516,
          841.249,
          843.845,
          844.234,
          882.797,
          913.969,
          914.267
         ],
         "y": [
          "CS_offset_timer",
          "CS_offset_timer",
          "CS_offset_timer",
          "CS_offset_timer",
          "CS_offset_timer",
          "CS_offset_timer",
          "CS_offset_timer",
          "CS_offset_timer",
          "CS_offset_timer",
          "CS_offset_timer",
          "CS_offset_timer",
          "CS_offset_timer",
          "CS_offset_timer",
          "CS_offset_timer",
          "CS_offset_timer",
          "CS_offset_timer",
          "CS_offset_timer",
          "CS_offset_timer",
          "CS_offset_timer",
          "CS_offset_timer",
          "CS_offset_timer",
          "CS_offset_timer",
          "CS_offset_timer",
          "CS_offset_timer",
          "CS_offset_timer",
          "CS_offset_timer",
          "CS_offset_timer",
          "CS_offset_timer",
          "CS_offset_timer",
          "CS_offset_timer",
          "CS_offset_timer",
          "CS_offset_timer",
          "CS_offset_timer",
          "CS_offset_timer",
          "CS_offset_timer",
          "CS_offset_timer",
          "CS_offset_timer",
          "CS_offset_timer",
          "CS_offset_timer",
          "CS_offset_timer",
          "CS_offset_timer",
          "CS_offset_timer",
          "CS_offset_timer",
          "CS_offset_timer",
          "CS_offset_timer",
          "CS_offset_timer",
          "CS_offset_timer",
          "CS_offset_timer",
          "CS_offset_timer",
          "CS_offset_timer",
          "CS_offset_timer",
          "CS_offset_timer",
          "CS_offset_timer",
          "CS_offset_timer",
          "CS_offset_timer",
          "CS_offset_timer",
          "CS_offset_timer",
          "CS_offset_timer",
          "CS_offset_timer",
          "CS_offset_timer",
          "CS_offset_timer",
          "CS_offset_timer",
          "CS_offset_timer",
          "CS_offset_timer",
          "CS_offset_timer",
          "CS_offset_timer",
          "CS_offset_timer",
          "CS_offset_timer",
          "CS_offset_timer",
          "CS_offset_timer",
          "CS_offset_timer",
          "CS_offset_timer",
          "CS_offset_timer",
          "CS_offset_timer",
          "CS_offset_timer",
          "CS_offset_timer",
          "CS_offset_timer",
          "CS_offset_timer",
          "CS_offset_timer",
          "CS_offset_timer",
          "CS_offset_timer",
          "CS_offset_timer",
          "CS_offset_timer",
          "CS_offset_timer",
          "CS_offset_timer",
          "CS_offset_timer",
          "CS_offset_timer",
          "CS_offset_timer",
          "CS_offset_timer",
          "CS_offset_timer",
          "CS_offset_timer",
          "CS_offset_timer",
          "CS_offset_timer",
          "CS_offset_timer",
          "CS_offset_timer",
          "CS_offset_timer",
          "CS_offset_timer",
          "CS_offset_timer",
          "CS_offset_timer",
          "CS_offset_timer",
          "CS_offset_timer"
         ]
        },
        {
         "line": {
          "width": 5
         },
         "mode": "lines",
         "name": "waiting_for_spout",
         "type": "scatter",
         "x": [
          1.149,
          3.987,
          null,
          7.238,
          39.363,
          null,
          42.461,
          43.746,
          null,
          47.36,
          144.359,
          null,
          147.988,
          148.34,
          null,
          152.317,
          218.258,
          null,
          221.968,
          222.212,
          null,
          225.759,
          226.132,
          null,
          230.13,
          249.258,
          null,
          252.722,
          265.713,
          null,
          269.308,
          312.658,
          null,
          316.218,
          317.446,
          null,
          319.449,
          323.166,
          null,
          325.168,
          473.173,
          null,
          475.175,
          505.988,
          null,
          507.99,
          508.649,
          null,
          510.651,
          514.559,
          null,
          516.561,
          639.592,
          null,
          641.594,
          646.305,
          null,
          648.307,
          648.622,
          null,
          650.624,
          699.712,
          null,
          701.715,
          705.395,
          null,
          707.397,
          709.852,
          null,
          713.583,
          722.786,
          null,
          724.788,
          726.86,
          null,
          730.037,
          739.086,
          null,
          741.088,
          745.938,
          null,
          749.72,
          764.062,
          null,
          766.064,
          770.046,
          null,
          772.048,
          775.011,
          null,
          777.013,
          787.242,
          null,
          790.317,
          792.222,
          null,
          794.224,
          798.148,
          null,
          801.223,
          839.126,
          null,
          842.28,
          843.545,
          null,
          845.547,
          882.497,
          null,
          884.499,
          913.669,
          null
         ],
         "y": [
          "waiting_for_spout",
          "waiting_for_spout",
          "waiting_for_spout",
          "waiting_for_spout",
          "waiting_for_spout",
          "waiting_for_spout",
          "waiting_for_spout",
          "waiting_for_spout",
          "waiting_for_spout",
          "waiting_for_spout",
          "waiting_for_spout",
          "waiting_for_spout",
          "waiting_for_spout",
          "waiting_for_spout",
          "waiting_for_spout",
          "waiting_for_spout",
          "waiting_for_spout",
          "waiting_for_spout",
          "waiting_for_spout",
          "waiting_for_spout",
          "waiting_for_spout",
          "waiting_for_spout",
          "waiting_for_spout",
          "waiting_for_spout",
          "waiting_for_spout",
          "waiting_for_spout",
          "waiting_for_spout",
          "waiting_for_spout",
          "waiting_for_spout",
          "waiting_for_spout",
          "waiting_for_spout",
          "waiting_for_spout",
          "waiting_for_spout",
          "waiting_for_spout",
          "waiting_for_spout",
          "waiting_for_spout",
          "waiting_for_spout",
          "waiting_for_spout",
          "waiting_for_spout",
          "waiting_for_spout",
          "waiting_for_spout",
          "waiting_for_spout",
          "waiting_for_spout",
          "waiting_for_spout",
          "waiting_for_spout",
          "waiting_for_spout",
          "waiting_for_spout",
          "waiting_for_spout",
          "waiting_for_spout",
          "waiting_for_spout",
          "waiting_for_spout",
          "waiting_for_spout",
          "waiting_for_spout",
          "waiting_for_spout",
          "waiting_for_spout",
          "waiting_for_spout",
          "waiting_for_spout",
          "waiting_for_spout",
          "waiting_for_spout",
          "waiting_for_spout",
          "waiting_for_spout",
          "waiting_for_spout",
          "waiting_for_spout",
          "waiting_for_spout",
          "waiting_for_spout",
          "waiting_for_spout",
          "waiting_for_spout",
          "waiting_for_spout",
          "waiting_for_spout",
          "waiting_for_spout",
          "waiting_for_spout",
          "waiting_for_spout",
          "waiting_for_spout",
          "waiting_for_spout",
          "waiting_for_spout",
          "waiting_for_spout",
          "waiting_for_spout",
          "waiting_for_spout",
          "waiting_for_spout",
          "waiting_for_spout",
          "waiting_for_spout",
          "waiting_for_spout",
          "waiting_for_spout",
          "waiting_for_spout",
          "waiting_for_spout",
          "waiting_for_spout",
          "waiting_for_spout",
          "waiting_for_spout",
          "waiting_for_spout",
          "waiting_for_spout",
          "waiting_for_spout",
          "waiting_for_spout",
          "waiting_for_spout",
          "waiting_for_spout",
          "waiting_for_spout",
          "waiting_for_spout",
          "waiting_for_spout",
          "waiting_for_spout",
          "waiting_for_spout",
          "waiting_for_spout",
          "waiting_for_spout",
          "waiting_for_spout",
          "waiting_for_spout",
          "waiting_for_spout",
          "waiting_for_spout",
          "waiting_for_spout",
          "waiting_for_spout",
          "waiting_for_spout",
          "waiting_for_spout",
          "waiting_for_spout",
          "waiting_for_spout"
         ]
        },
        {
         "line": {
          "width": 5
         },
         "mode": "lines",
         "name": "busy_win",
         "type": "scatter",
         "x": [
          3.987,
          5.99,
          null,
          39.363,
          41.365,
          null,
          43.746,
          45.748,
          null,
          144.359,
          146.361,
          null,
          148.34,
          150.342,
          null,
          218.258,
          220.26,
          null,
          222.212,
          224.214,
          null,
          226.132,
          228.134,
          null,
          249.258,
          251.26,
          null,
          265.713,
          267.715,
          null,
          312.658,
          314.66,
          null,
          709.852,
          711.854,
          null,
          726.86,
          728.862,
          null,
          745.938,
          747.94,
          null,
          787.242,
          789.245,
          null,
          798.148,
          800.15,
          null,
          839.126,
          841.128,
          null
         ],
         "y": [
          "busy_win",
          "busy_win",
          "busy_win",
          "busy_win",
          "busy_win",
          "busy_win",
          "busy_win",
          "busy_win",
          "busy_win",
          "busy_win",
          "busy_win",
          "busy_win",
          "busy_win",
          "busy_win",
          "busy_win",
          "busy_win",
          "busy_win",
          "busy_win",
          "busy_win",
          "busy_win",
          "busy_win",
          "busy_win",
          "busy_win",
          "busy_win",
          "busy_win",
          "busy_win",
          "busy_win",
          "busy_win",
          "busy_win",
          "busy_win",
          "busy_win",
          "busy_win",
          "busy_win",
          "busy_win",
          "busy_win",
          "busy_win",
          "busy_win",
          "busy_win",
          "busy_win",
          "busy_win",
          "busy_win",
          "busy_win",
          "busy_win",
          "busy_win",
          "busy_win",
          "busy_win",
          "busy_win",
          "busy_win",
          "busy_win",
          "busy_win",
          "busy_win"
         ]
        },
        {
         "line": {
          "width": 5
         },
         "mode": "lines",
         "name": "short_break",
         "type": "scatter",
         "x": [
          0,
          1.149,
          null,
          5.99,
          7.238,
          null,
          41.365,
          42.461,
          null,
          45.748,
          47.36,
          null,
          146.361,
          147.988,
          null,
          150.342,
          152.317,
          null,
          220.26,
          221.968,
          null,
          224.214,
          225.759,
          null,
          228.134,
          230.13,
          null,
          251.26,
          252.722,
          null,
          267.715,
          269.308,
          null,
          314.66,
          316.218,
          null,
          711.854,
          713.583,
          null,
          728.862,
          730.037,
          null,
          747.94,
          749.72,
          null,
          789.245,
          790.317,
          null,
          800.15,
          801.223,
          null,
          841.128,
          842.28,
          null
         ],
         "y": [
          "short_break",
          "short_break",
          "short_break",
          "short_break",
          "short_break",
          "short_break",
          "short_break",
          "short_break",
          "short_break",
          "short_break",
          "short_break",
          "short_break",
          "short_break",
          "short_break",
          "short_break",
          "short_break",
          "short_break",
          "short_break",
          "short_break",
          "short_break",
          "short_break",
          "short_break",
          "short_break",
          "short_break",
          "short_break",
          "short_break",
          "short_break",
          "short_break",
          "short_break",
          "short_break",
          "short_break",
          "short_break",
          "short_break",
          "short_break",
          "short_break",
          "short_break",
          "short_break",
          "short_break",
          "short_break",
          "short_break",
          "short_break",
          "short_break",
          "short_break",
          "short_break",
          "short_break",
          "short_break",
          "short_break",
          "short_break",
          "short_break",
          "short_break",
          "short_break",
          "short_break",
          "short_break",
          "short_break"
         ]
        }
       ],
       "layout": {
        "template": {
         "data": {
          "bar": [
           {
            "error_x": {
             "color": "#2a3f5f"
            },
            "error_y": {
             "color": "#2a3f5f"
            },
            "marker": {
             "line": {
              "color": "#E5ECF6",
              "width": 0.5
             },
             "pattern": {
              "fillmode": "overlay",
              "size": 10,
              "solidity": 0.2
             }
            },
            "type": "bar"
           }
          ],
          "barpolar": [
           {
            "marker": {
             "line": {
              "color": "#E5ECF6",
              "width": 0.5
             },
             "pattern": {
              "fillmode": "overlay",
              "size": 10,
              "solidity": 0.2
             }
            },
            "type": "barpolar"
           }
          ],
          "carpet": [
           {
            "aaxis": {
             "endlinecolor": "#2a3f5f",
             "gridcolor": "white",
             "linecolor": "white",
             "minorgridcolor": "white",
             "startlinecolor": "#2a3f5f"
            },
            "baxis": {
             "endlinecolor": "#2a3f5f",
             "gridcolor": "white",
             "linecolor": "white",
             "minorgridcolor": "white",
             "startlinecolor": "#2a3f5f"
            },
            "type": "carpet"
           }
          ],
          "choropleth": [
           {
            "colorbar": {
             "outlinewidth": 0,
             "ticks": ""
            },
            "type": "choropleth"
           }
          ],
          "contour": [
           {
            "colorbar": {
             "outlinewidth": 0,
             "ticks": ""
            },
            "colorscale": [
             [
              0,
              "#0d0887"
             ],
             [
              0.1111111111111111,
              "#46039f"
             ],
             [
              0.2222222222222222,
              "#7201a8"
             ],
             [
              0.3333333333333333,
              "#9c179e"
             ],
             [
              0.4444444444444444,
              "#bd3786"
             ],
             [
              0.5555555555555556,
              "#d8576b"
             ],
             [
              0.6666666666666666,
              "#ed7953"
             ],
             [
              0.7777777777777778,
              "#fb9f3a"
             ],
             [
              0.8888888888888888,
              "#fdca26"
             ],
             [
              1,
              "#f0f921"
             ]
            ],
            "type": "contour"
           }
          ],
          "contourcarpet": [
           {
            "colorbar": {
             "outlinewidth": 0,
             "ticks": ""
            },
            "type": "contourcarpet"
           }
          ],
          "heatmap": [
           {
            "colorbar": {
             "outlinewidth": 0,
             "ticks": ""
            },
            "colorscale": [
             [
              0,
              "#0d0887"
             ],
             [
              0.1111111111111111,
              "#46039f"
             ],
             [
              0.2222222222222222,
              "#7201a8"
             ],
             [
              0.3333333333333333,
              "#9c179e"
             ],
             [
              0.4444444444444444,
              "#bd3786"
             ],
             [
              0.5555555555555556,
              "#d8576b"
             ],
             [
              0.6666666666666666,
              "#ed7953"
             ],
             [
              0.7777777777777778,
              "#fb9f3a"
             ],
             [
              0.8888888888888888,
              "#fdca26"
             ],
             [
              1,
              "#f0f921"
             ]
            ],
            "type": "heatmap"
           }
          ],
          "heatmapgl": [
           {
            "colorbar": {
             "outlinewidth": 0,
             "ticks": ""
            },
            "colorscale": [
             [
              0,
              "#0d0887"
             ],
             [
              0.1111111111111111,
              "#46039f"
             ],
             [
              0.2222222222222222,
              "#7201a8"
             ],
             [
              0.3333333333333333,
              "#9c179e"
             ],
             [
              0.4444444444444444,
              "#bd3786"
             ],
             [
              0.5555555555555556,
              "#d8576b"
             ],
             [
              0.6666666666666666,
              "#ed7953"
             ],
             [
              0.7777777777777778,
              "#fb9f3a"
             ],
             [
              0.8888888888888888,
              "#fdca26"
             ],
             [
              1,
              "#f0f921"
             ]
            ],
            "type": "heatmapgl"
           }
          ],
          "histogram": [
           {
            "marker": {
             "pattern": {
              "fillmode": "overlay",
              "size": 10,
              "solidity": 0.2
             }
            },
            "type": "histogram"
           }
          ],
          "histogram2d": [
           {
            "colorbar": {
             "outlinewidth": 0,
             "ticks": ""
            },
            "colorscale": [
             [
              0,
              "#0d0887"
             ],
             [
              0.1111111111111111,
              "#46039f"
             ],
             [
              0.2222222222222222,
              "#7201a8"
             ],
             [
              0.3333333333333333,
              "#9c179e"
             ],
             [
              0.4444444444444444,
              "#bd3786"
             ],
             [
              0.5555555555555556,
              "#d8576b"
             ],
             [
              0.6666666666666666,
              "#ed7953"
             ],
             [
              0.7777777777777778,
              "#fb9f3a"
             ],
             [
              0.8888888888888888,
              "#fdca26"
             ],
             [
              1,
              "#f0f921"
             ]
            ],
            "type": "histogram2d"
           }
          ],
          "histogram2dcontour": [
           {
            "colorbar": {
             "outlinewidth": 0,
             "ticks": ""
            },
            "colorscale": [
             [
              0,
              "#0d0887"
             ],
             [
              0.1111111111111111,
              "#46039f"
             ],
             [
              0.2222222222222222,
              "#7201a8"
             ],
             [
              0.3333333333333333,
              "#9c179e"
             ],
             [
              0.4444444444444444,
              "#bd3786"
             ],
             [
              0.5555555555555556,
              "#d8576b"
             ],
             [
              0.6666666666666666,
              "#ed7953"
             ],
             [
              0.7777777777777778,
              "#fb9f3a"
             ],
             [
              0.8888888888888888,
              "#fdca26"
             ],
             [
              1,
              "#f0f921"
             ]
            ],
            "type": "histogram2dcontour"
           }
          ],
          "mesh3d": [
           {
            "colorbar": {
             "outlinewidth": 0,
             "ticks": ""
            },
            "type": "mesh3d"
           }
          ],
          "parcoords": [
           {
            "line": {
             "colorbar": {
              "outlinewidth": 0,
              "ticks": ""
             }
            },
            "type": "parcoords"
           }
          ],
          "pie": [
           {
            "automargin": true,
            "type": "pie"
           }
          ],
          "scatter": [
           {
            "fillpattern": {
             "fillmode": "overlay",
             "size": 10,
             "solidity": 0.2
            },
            "type": "scatter"
           }
          ],
          "scatter3d": [
           {
            "line": {
             "colorbar": {
              "outlinewidth": 0,
              "ticks": ""
             }
            },
            "marker": {
             "colorbar": {
              "outlinewidth": 0,
              "ticks": ""
             }
            },
            "type": "scatter3d"
           }
          ],
          "scattercarpet": [
           {
            "marker": {
             "colorbar": {
              "outlinewidth": 0,
              "ticks": ""
             }
            },
            "type": "scattercarpet"
           }
          ],
          "scattergeo": [
           {
            "marker": {
             "colorbar": {
              "outlinewidth": 0,
              "ticks": ""
             }
            },
            "type": "scattergeo"
           }
          ],
          "scattergl": [
           {
            "marker": {
             "colorbar": {
              "outlinewidth": 0,
              "ticks": ""
             }
            },
            "type": "scattergl"
           }
          ],
          "scattermapbox": [
           {
            "marker": {
             "colorbar": {
              "outlinewidth": 0,
              "ticks": ""
             }
            },
            "type": "scattermapbox"
           }
          ],
          "scatterpolar": [
           {
            "marker": {
             "colorbar": {
              "outlinewidth": 0,
              "ticks": ""
             }
            },
            "type": "scatterpolar"
           }
          ],
          "scatterpolargl": [
           {
            "marker": {
             "colorbar": {
              "outlinewidth": 0,
              "ticks": ""
             }
            },
            "type": "scatterpolargl"
           }
          ],
          "scatterternary": [
           {
            "marker": {
             "colorbar": {
              "outlinewidth": 0,
              "ticks": ""
             }
            },
            "type": "scatterternary"
           }
          ],
          "surface": [
           {
            "colorbar": {
             "outlinewidth": 0,
             "ticks": ""
            },
            "colorscale": [
             [
              0,
              "#0d0887"
             ],
             [
              0.1111111111111111,
              "#46039f"
             ],
             [
              0.2222222222222222,
              "#7201a8"
             ],
             [
              0.3333333333333333,
              "#9c179e"
             ],
             [
              0.4444444444444444,
              "#bd3786"
             ],
             [
              0.5555555555555556,
              "#d8576b"
             ],
             [
              0.6666666666666666,
              "#ed7953"
             ],
             [
              0.7777777777777778,
              "#fb9f3a"
             ],
             [
              0.8888888888888888,
              "#fdca26"
             ],
             [
              1,
              "#f0f921"
             ]
            ],
            "type": "surface"
           }
          ],
          "table": [
           {
            "cells": {
             "fill": {
              "color": "#EBF0F8"
             },
             "line": {
              "color": "white"
             }
            },
            "header": {
             "fill": {
              "color": "#C8D4E3"
             },
             "line": {
              "color": "white"
             }
            },
            "type": "table"
           }
          ]
         },
         "layout": {
          "annotationdefaults": {
           "arrowcolor": "#2a3f5f",
           "arrowhead": 0,
           "arrowwidth": 1
          },
          "autotypenumbers": "strict",
          "coloraxis": {
           "colorbar": {
            "outlinewidth": 0,
            "ticks": ""
           }
          },
          "colorscale": {
           "diverging": [
            [
             0,
             "#8e0152"
            ],
            [
             0.1,
             "#c51b7d"
            ],
            [
             0.2,
             "#de77ae"
            ],
            [
             0.3,
             "#f1b6da"
            ],
            [
             0.4,
             "#fde0ef"
            ],
            [
             0.5,
             "#f7f7f7"
            ],
            [
             0.6,
             "#e6f5d0"
            ],
            [
             0.7,
             "#b8e186"
            ],
            [
             0.8,
             "#7fbc41"
            ],
            [
             0.9,
             "#4d9221"
            ],
            [
             1,
             "#276419"
            ]
           ],
           "sequential": [
            [
             0,
             "#0d0887"
            ],
            [
             0.1111111111111111,
             "#46039f"
            ],
            [
             0.2222222222222222,
             "#7201a8"
            ],
            [
             0.3333333333333333,
             "#9c179e"
            ],
            [
             0.4444444444444444,
             "#bd3786"
            ],
            [
             0.5555555555555556,
             "#d8576b"
            ],
            [
             0.6666666666666666,
             "#ed7953"
            ],
            [
             0.7777777777777778,
             "#fb9f3a"
            ],
            [
             0.8888888888888888,
             "#fdca26"
            ],
            [
             1,
             "#f0f921"
            ]
           ],
           "sequentialminus": [
            [
             0,
             "#0d0887"
            ],
            [
             0.1111111111111111,
             "#46039f"
            ],
            [
             0.2222222222222222,
             "#7201a8"
            ],
            [
             0.3333333333333333,
             "#9c179e"
            ],
            [
             0.4444444444444444,
             "#bd3786"
            ],
            [
             0.5555555555555556,
             "#d8576b"
            ],
            [
             0.6666666666666666,
             "#ed7953"
            ],
            [
             0.7777777777777778,
             "#fb9f3a"
            ],
            [
             0.8888888888888888,
             "#fdca26"
            ],
            [
             1,
             "#f0f921"
            ]
           ]
          },
          "colorway": [
           "#636efa",
           "#EF553B",
           "#00cc96",
           "#ab63fa",
           "#FFA15A",
           "#19d3f3",
           "#FF6692",
           "#B6E880",
           "#FF97FF",
           "#FECB52"
          ],
          "font": {
           "color": "#2a3f5f"
          },
          "geo": {
           "bgcolor": "white",
           "lakecolor": "white",
           "landcolor": "#E5ECF6",
           "showlakes": true,
           "showland": true,
           "subunitcolor": "white"
          },
          "hoverlabel": {
           "align": "left"
          },
          "hovermode": "closest",
          "mapbox": {
           "style": "light"
          },
          "paper_bgcolor": "white",
          "plot_bgcolor": "#E5ECF6",
          "polar": {
           "angularaxis": {
            "gridcolor": "white",
            "linecolor": "white",
            "ticks": ""
           },
           "bgcolor": "#E5ECF6",
           "radialaxis": {
            "gridcolor": "white",
            "linecolor": "white",
            "ticks": ""
           }
          },
          "scene": {
           "xaxis": {
            "backgroundcolor": "#E5ECF6",
            "gridcolor": "white",
            "gridwidth": 2,
            "linecolor": "white",
            "showbackground": true,
            "ticks": "",
            "zerolinecolor": "white"
           },
           "yaxis": {
            "backgroundcolor": "#E5ECF6",
            "gridcolor": "white",
            "gridwidth": 2,
            "linecolor": "white",
            "showbackground": true,
            "ticks": "",
            "zerolinecolor": "white"
           },
           "zaxis": {
            "backgroundcolor": "#E5ECF6",
            "gridcolor": "white",
            "gridwidth": 2,
            "linecolor": "white",
            "showbackground": true,
            "ticks": "",
            "zerolinecolor": "white"
           }
          },
          "shapedefaults": {
           "line": {
            "color": "#2a3f5f"
           }
          },
          "ternary": {
           "aaxis": {
            "gridcolor": "white",
            "linecolor": "white",
            "ticks": ""
           },
           "baxis": {
            "gridcolor": "white",
            "linecolor": "white",
            "ticks": ""
           },
           "bgcolor": "#E5ECF6",
           "caxis": {
            "gridcolor": "white",
            "linecolor": "white",
            "ticks": ""
           }
          },
          "title": {
           "x": 0.05
          },
          "xaxis": {
           "automargin": true,
           "gridcolor": "white",
           "linecolor": "white",
           "ticks": "",
           "title": {
            "standoff": 15
           },
           "zerolinecolor": "white",
           "zerolinewidth": 2
          },
          "yaxis": {
           "automargin": true,
           "gridcolor": "white",
           "linecolor": "white",
           "ticks": "",
           "title": {
            "standoff": 15
           },
           "zerolinecolor": "white",
           "zerolinewidth": 2
          }
         }
        },
        "title": {
         "text": "reaching_go_spout_nov22, 315 #3, on 2022-11-24 12:21:43 via COM7"
        },
        "xaxis": {
         "title": {
          "text": "Time (s)"
         }
        },
        "yaxis": {
         "fixedrange": true
        }
       }
      }
     },
     "metadata": {},
     "output_type": "display_data"
    },
    {
     "name": "stdout",
     "output_type": "stream",
     "text": [
      "saved JC315L-2022-11-24-122143_reaching_go_spout_nov22.smrx\n"
     ]
    },
    {
     "name": "stderr",
     "output_type": "stream",
     "text": [
      "C:\\Users\\phar0528\\AppData\\Local\\Temp\\ipykernel_43892\\4133634569.py:21: FutureWarning:\n",
      "\n",
      "The frame.append method is deprecated and will be removed from pandas in a future version. Use pandas.concat instead.\n",
      "\n"
     ]
    }
   ],
   "source": [
    "keys = [ 'button_press', 'bar', 'bar_off', 'spout', 'US_delay_timer', 'CS_offset_timer']\n",
    "state_def = [{'name': 'waiting_for_spout', \n",
    "    'onset': 'waiting_for_spout',\n",
    "    'offset': 'busy_win'},\n",
    "    {'name': 'busy_win', \n",
    "    'onset': 'busy_win',\n",
    "    'offset': 'short_break'},\n",
    "    {'name': 'short_break', \n",
    "    'onset': 'short_break', \n",
    "    'offset': 'waiting_for_spout'}]\n",
    "\n",
    "summary_df = pd.DataFrame()\n",
    "\n",
    "for ss in exp_cohort.sessions:\n",
    "    smrxname = re.sub('\\.txt', f'_{ss.task_name}.smrx', ss.file_name)\n",
    "    print(smrxname)\n",
    "\n",
    "    ss.plot_session(\n",
    "        keys, state_def, export_son=True, son_filename= smrxname)\n",
    "\n",
    "    summary_df = summary_df.append({\n",
    "        'file':ss.file_name,\n",
    "        'task':ss.task_name,\n",
    "        'spout': len(ss.times['spout']),\n",
    "        'busy_win': len(ss.times['busy_win'])},\n",
    "        ignore_index=True)\n"
   ]
  },
  {
   "cell_type": "code",
   "execution_count": 25,
   "metadata": {},
   "outputs": [
    {
     "data": {
      "text/html": [
       "<div>\n",
       "<style scoped>\n",
       "    .dataframe tbody tr th:only-of-type {\n",
       "        vertical-align: middle;\n",
       "    }\n",
       "\n",
       "    .dataframe tbody tr th {\n",
       "        vertical-align: top;\n",
       "    }\n",
       "\n",
       "    .dataframe thead th {\n",
       "        text-align: right;\n",
       "    }\n",
       "</style>\n",
       "<table border=\"1\" class=\"dataframe\">\n",
       "  <thead>\n",
       "    <tr style=\"text-align: right;\">\n",
       "      <th></th>\n",
       "      <th>file</th>\n",
       "      <th>task</th>\n",
       "      <th>spout</th>\n",
       "      <th>busy_win</th>\n",
       "    </tr>\n",
       "  </thead>\n",
       "  <tbody>\n",
       "    <tr>\n",
       "      <th>0</th>\n",
       "      <td>JC313L-2022-11-23-152233.txt</td>\n",
       "      <td>reaching_go_spout_nov22</td>\n",
       "      <td>53</td>\n",
       "      <td>15</td>\n",
       "    </tr>\n",
       "    <tr>\n",
       "      <th>1</th>\n",
       "      <td>JC316L-2022-11-23-161757.txt</td>\n",
       "      <td>reaching_go_spout_nov22</td>\n",
       "      <td>179</td>\n",
       "      <td>48</td>\n",
       "    </tr>\n",
       "    <tr>\n",
       "      <th>2</th>\n",
       "      <td>JC317L-2022-11-23-161757.txt</td>\n",
       "      <td>reaching_go_spout_nov22</td>\n",
       "      <td>204</td>\n",
       "      <td>33</td>\n",
       "    </tr>\n",
       "    <tr>\n",
       "      <th>3</th>\n",
       "      <td>JC318L-2022-11-23-163842.txt</td>\n",
       "      <td>reaching_go_spout_nov22</td>\n",
       "      <td>152</td>\n",
       "      <td>26</td>\n",
       "    </tr>\n",
       "    <tr>\n",
       "      <th>4</th>\n",
       "      <td>JC314L-2022-11-24-111101.txt</td>\n",
       "      <td>reaching_go_spout_nov22</td>\n",
       "      <td>390</td>\n",
       "      <td>28</td>\n",
       "    </tr>\n",
       "    <tr>\n",
       "      <th>5</th>\n",
       "      <td>JC314L-2022-11-24-111938.txt</td>\n",
       "      <td>reaching_go_spout_nov22</td>\n",
       "      <td>112</td>\n",
       "      <td>10</td>\n",
       "    </tr>\n",
       "    <tr>\n",
       "      <th>6</th>\n",
       "      <td>JC313L-2022-11-24-113006.txt</td>\n",
       "      <td>reaching_go_spout_nov22</td>\n",
       "      <td>131</td>\n",
       "      <td>32</td>\n",
       "    </tr>\n",
       "    <tr>\n",
       "      <th>7</th>\n",
       "      <td>JC314L-2022-11-24-113006.txt</td>\n",
       "      <td>reaching_go_spout_nov22</td>\n",
       "      <td>54</td>\n",
       "      <td>7</td>\n",
       "    </tr>\n",
       "    <tr>\n",
       "      <th>8</th>\n",
       "      <td>JC315L-2022-11-24-121833.txt</td>\n",
       "      <td>reaching_go_spout_nov22</td>\n",
       "      <td>94</td>\n",
       "      <td>16</td>\n",
       "    </tr>\n",
       "    <tr>\n",
       "      <th>9</th>\n",
       "      <td>JC315L-2022-11-24-122143.txt</td>\n",
       "      <td>reaching_go_spout_nov22</td>\n",
       "      <td>227</td>\n",
       "      <td>37</td>\n",
       "    </tr>\n",
       "  </tbody>\n",
       "</table>\n",
       "</div>"
      ],
      "text/plain": [
       "                           file                     task  spout  busy_win\n",
       "0  JC313L-2022-11-23-152233.txt  reaching_go_spout_nov22     53        15\n",
       "1  JC316L-2022-11-23-161757.txt  reaching_go_spout_nov22    179        48\n",
       "2  JC317L-2022-11-23-161757.txt  reaching_go_spout_nov22    204        33\n",
       "3  JC318L-2022-11-23-163842.txt  reaching_go_spout_nov22    152        26\n",
       "4  JC314L-2022-11-24-111101.txt  reaching_go_spout_nov22    390        28\n",
       "5  JC314L-2022-11-24-111938.txt  reaching_go_spout_nov22    112        10\n",
       "6  JC313L-2022-11-24-113006.txt  reaching_go_spout_nov22    131        32\n",
       "7  JC314L-2022-11-24-113006.txt  reaching_go_spout_nov22     54         7\n",
       "8  JC315L-2022-11-24-121833.txt  reaching_go_spout_nov22     94        16\n",
       "9  JC315L-2022-11-24-122143.txt  reaching_go_spout_nov22    227        37"
      ]
     },
     "execution_count": 25,
     "metadata": {},
     "output_type": "execute_result"
    }
   ],
   "source": [
    "\n",
    "summary_df\n"
   ]
  }
 ],
 "metadata": {
  "kernelspec": {
   "display_name": "Python 3.8.13 ('trialexp')",
   "language": "python",
   "name": "python3"
  },
  "language_info": {
   "codemirror_mode": {
    "name": "ipython",
    "version": 3
   },
   "file_extension": ".py",
   "mimetype": "text/x-python",
   "name": "python",
   "nbconvert_exporter": "python",
   "pygments_lexer": "ipython3",
   "version": "3.8.13"
  },
  "orig_nbformat": 4,
  "vscode": {
   "interpreter": {
    "hash": "0d1e031f6f376662b97d9f481efb02d044bc4a5d17f5aae0c7d7abfcc2e5ac1c"
   }
  }
 },
 "nbformat": 4,
 "nbformat_minor": 2
}
