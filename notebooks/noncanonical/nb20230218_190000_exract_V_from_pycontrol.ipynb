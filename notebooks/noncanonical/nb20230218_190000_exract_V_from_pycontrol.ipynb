{
 "cells": [
  {
   "attachments": {},
   "cell_type": "markdown",
   "metadata": {},
   "source": [
    "This script will provide summary for the parameters used in a session and their changes, as well as session duration and sumary data from the last trial (the last line starting with #) for experiment notes"
   ]
  },
  {
   "cell_type": "code",
   "execution_count": null,
   "metadata": {},
   "outputs": [],
   "source": [
    "import re\n",
    "import tkinter as tk\n",
    "from tkinter import filedialog\n",
    "\n",
    "root = tk.Tk()\n",
    "root.withdraw()\n",
    "\n",
    "file_path = filedialog.askopenfilename(initialdir  = r\"\\\\ettin\\Magill_Lab\\Julien\\Data\\head-fixed\\pycontrol\",\n",
    "    filetypes = [('Text files','*.txt')])\n",
    "\n",
    "# file_path = r\"\\\\ettin\\Magill_Lab\\Julien\\Data\\head-fixed\\pycontrol\\reaching_go_spout_incr_break2_nov22\\kms061-2023-02-19-185920.txt\"\n",
    "\n",
    "if len(file_path) == 0:\n",
    "    raise Exception(\"Cancelled\")\n",
    "\n",
    "with open(file_path, 'r') as f:\n",
    "    all_lines = [line.strip() for line in f.readlines() if line.strip()]\n",
    "\n",
    "v_lines = [line for line in all_lines if bool(re.match('^V\\s\\d+\\s', line))]\n",
    "\n",
    "\n",
    "print(f'\"{file_path}\"')\n",
    "\n",
    "m = None\n",
    "i = 0\n",
    "while m is None:\n",
    "    m = re.match('^I\\sExperiment\\sname\\s+:\\s(.+)', all_lines[i])\n",
    "    i += 1\n",
    "exp_name = m.group(1)\n",
    "print(f\"Experiment name: {exp_name}\")\n",
    "\n",
    "\n",
    "m = None\n",
    "i = 0\n",
    "while m is None:\n",
    "    m = re.match('^I\\sTask\\sname\\s\\:\\s(.+)', all_lines[i])\n",
    "    i += 1\n",
    "task_name = m.group(1)\n",
    "print(f\"Task name: {task_name}\")\n",
    "\n",
    "i = -1\n",
    "m = None\n",
    "while m is None:\n",
    "    m = re.match('^\\w\\s(\\d+)',all_lines[i])\n",
    "    i -= 1\n",
    "print(f\"{float(m.group(1))/60000:.1f} min\\n\")\n",
    "\n",
    "\n",
    "print('```python')\n",
    "flag_notyet = True\n",
    "for string in v_lines:\n",
    "    if flag_notyet:\n",
    "        if not bool(re.match('^V\\s0\\s', string)):\n",
    "            flag_notyet = False\n",
    "            print('')\n",
    "\n",
    "    print(string)\n",
    "\n",
    "\n",
    "print()\n",
    "\n",
    "i = -1\n",
    "m = None\n",
    "while m is None:\n",
    "    m = re.match('^#.+',all_lines[i])\n",
    "    i -= 1\n",
    "print(f\"{m.group(0):s}\")\n",
    "\n",
    "print('```')\n",
    "\n"
   ]
  }
 ],
 "metadata": {
  "kernelspec": {
   "display_name": "trialexp",
   "language": "python",
   "name": "python3"
  },
  "language_info": {
   "codemirror_mode": {
    "name": "ipython",
    "version": 3
   },
   "file_extension": ".py",
   "mimetype": "text/x-python",
   "name": "python",
   "nbconvert_exporter": "python",
   "pygments_lexer": "ipython3",
   "version": "3.10.9"
  },
  "orig_nbformat": 4,
  "vscode": {
   "interpreter": {
    "hash": "750019a535f383b7da10bc1d0f90b9b65c0ad005e43722bb2bd36bfafd5493bf"
   }
  }
 },
 "nbformat": 4,
 "nbformat_minor": 2
}
