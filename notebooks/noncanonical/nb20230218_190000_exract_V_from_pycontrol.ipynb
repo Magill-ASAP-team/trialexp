{
 "cells": [
  {
   "cell_type": "code",
   "execution_count": 12,
   "metadata": {},
   "outputs": [
    {
     "ename": "Exception",
     "evalue": "Cancelled",
     "output_type": "error",
     "traceback": [
      "\u001b[1;31m---------------------------------------------------------------------------\u001b[0m",
      "\u001b[1;31mException\u001b[0m                                 Traceback (most recent call last)",
      "Cell \u001b[1;32mIn[12], line 14\u001b[0m\n\u001b[0;32m     11\u001b[0m \u001b[39m# file_path = r\"\\\\ettin\\Magill_Lab\\Julien\\Data\\head-fixed\\pycontrol\\reaching_go_spout_incr_break2_nov22\\kms061-2023-02-19-185920.txt\"\u001b[39;00m\n\u001b[0;32m     13\u001b[0m \u001b[39mif\u001b[39;00m \u001b[39mlen\u001b[39m(file_path) \u001b[39m==\u001b[39m \u001b[39m0\u001b[39m:\n\u001b[1;32m---> 14\u001b[0m     \u001b[39mraise\u001b[39;00m \u001b[39mException\u001b[39;00m(\u001b[39m\"\u001b[39m\u001b[39mCancelled\u001b[39m\u001b[39m\"\u001b[39m)\n\u001b[0;32m     16\u001b[0m \u001b[39mwith\u001b[39;00m \u001b[39mopen\u001b[39m(file_path, \u001b[39m'\u001b[39m\u001b[39mr\u001b[39m\u001b[39m'\u001b[39m) \u001b[39mas\u001b[39;00m f:\n\u001b[0;32m     17\u001b[0m     all_lines \u001b[39m=\u001b[39m [line\u001b[39m.\u001b[39mstrip() \u001b[39mfor\u001b[39;00m line \u001b[39min\u001b[39;00m f\u001b[39m.\u001b[39mreadlines() \u001b[39mif\u001b[39;00m line\u001b[39m.\u001b[39mstrip()]\n",
      "\u001b[1;31mException\u001b[0m: Cancelled"
     ]
    }
   ],
   "source": [
    "import re\n",
    "import tkinter as tk\n",
    "from tkinter import filedialog\n",
    "\n",
    "root = tk.Tk()\n",
    "root.withdraw()\n",
    "\n",
    "file_path = filedialog.askopenfilename(initialdir  = r\"\\\\ettin\\Magill_Lab\\Julien\\Data\\head-fixed\\pycontrol\",\n",
    "    filetypes = [('Text files','*.txt')])\n",
    "\n",
    "# file_path = r\"\\\\ettin\\Magill_Lab\\Julien\\Data\\head-fixed\\pycontrol\\reaching_go_spout_incr_break2_nov22\\kms061-2023-02-19-185920.txt\"\n",
    "\n",
    "if len(file_path) == 0:\n",
    "    raise Exception(\"Cancelled\")\n",
    "\n",
    "with open(file_path, 'r') as f:\n",
    "    all_lines = [line.strip() for line in f.readlines() if line.strip()]\n",
    "\n",
    "v_lines = [line for line in all_lines if bool(re.match('^V\\s\\d+\\s', line))]\n",
    "\n",
    "flag_notyet = True\n",
    "for string in v_lines:\n",
    "    if flag_notyet:\n",
    "        if not bool(re.match('^V\\s0\\s', string)):\n",
    "            flag_notyet = False\n",
    "            print('')\n",
    "\n",
    "    print(string)\n",
    "\n",
    "print('\\n' + file_path)\n"
   ]
  }
 ],
 "metadata": {
  "kernelspec": {
   "display_name": "trialexp",
   "language": "python",
   "name": "python3"
  },
  "language_info": {
   "codemirror_mode": {
    "name": "ipython",
    "version": 3
   },
   "file_extension": ".py",
   "mimetype": "text/x-python",
   "name": "python",
   "nbconvert_exporter": "python",
   "pygments_lexer": "ipython3",
   "version": "3.10.9"
  },
  "orig_nbformat": 4,
  "vscode": {
   "interpreter": {
    "hash": "750019a535f383b7da10bc1d0f90b9b65c0ad005e43722bb2bd36bfafd5493bf"
   }
  }
 },
 "nbformat": 4,
 "nbformat_minor": 2
}
