{
 "cells": [
  {
   "cell_type": "code",
   "execution_count": 7,
   "metadata": {},
   "outputs": [
    {
     "name": "stdout",
     "output_type": "stream",
     "text": [
      "V 0 water_duration_ms 20\n",
      "V 0 break_mode 'monotonic'\n",
      "V 0 short_break_ms [300, 2500]\n",
      "V 0 US_delay_ms 0\n",
      "V 0 max_valid_spout_touches 6\n",
      "V 0 consec_fail_for_free_water 20\n",
      "V 0 block_duration_min 40\n",
      "V 0 busy_win_ms 2000\n",
      "V 0 gradual_change_duration_min 10\n",
      "\n",
      "V 78856 short_break_ms [500, 2500]\n",
      "V 88195 short_break_ms [500, 2500]\n",
      "V 91414 short_break_ms [600, 2500]\n",
      "V 116511 short_break_ms [800, 2500]\n",
      "V 133635 short_break_ms [1200, 2500]\n",
      "V 231073 gradual_change_duration_min 20\n",
      "V 236491 short_break_ms [1200, 3000]\n",
      "V 241706 short_break_ms [1000, 3000]\n",
      "V 249436 short_break_ms [1200, 3000]\n",
      "V 256818 short_break_ms [1300, 3000]\n",
      "V 264834 short_break_ms [1500, 3000]\n",
      "V 277724 short_break_ms [1500, 600]\n",
      "V 281874 short_break_ms [1500, 6000]\n",
      "V 290623 short_break_ms [1000, 6000]\n",
      "V 374233 max_valid_spout_touches 5\n",
      "V 430424 busy_win_ms 2500\n",
      "V 566228 busy_win_ms 3000\n",
      "V 569300 max_valid_spout_touches 4\n",
      "V 602416 water_duration_ms 20\n",
      "V 626326 max_valid_spout_touches 3\n",
      "V 652135 gradual_change_duration_min 30\n",
      "V 661224 short_break_ms [1000, 8000]\n",
      "V 681129 gradual_change_duration_min 40\n",
      "V 685521 short_break_ms [1000, 10000]\n",
      "V 886740 water_duration_ms 21\n"
     ]
    }
   ],
   "source": [
    "import re\n",
    "\n",
    "file_path = r\"\\\\ettin\\Magill_Lab\\Julien\\Data\\head-fixed\\pycontrol\\reaching_go_spout_incr_break2_nov22\\kms058-2023-02-18-182705.txt\"\n",
    "\n",
    "with open(file_path, 'r') as f:\n",
    "    all_lines = [line.strip() for line in f.readlines() if line.strip()]\n",
    "\n",
    "v_lines = [line for line in all_lines if bool(re.match('^V\\s\\d+\\s', line))]\n",
    "\n",
    "flag_notyet = True\n",
    "for string in v_lines:\n",
    "    if flag_notyet:\n",
    "        if not bool(re.match('^V\\s0\\s', string)):\n",
    "            flag_notyet = False\n",
    "            print('')\n",
    "\n",
    "    print(string)\n"
   ]
  }
 ],
 "metadata": {
  "kernelspec": {
   "display_name": "trialexp",
   "language": "python",
   "name": "python3"
  },
  "language_info": {
   "codemirror_mode": {
    "name": "ipython",
    "version": 3
   },
   "file_extension": ".py",
   "mimetype": "text/x-python",
   "name": "python",
   "nbconvert_exporter": "python",
   "pygments_lexer": "ipython3",
   "version": "3.8.13"
  },
  "orig_nbformat": 4,
  "vscode": {
   "interpreter": {
    "hash": "0d1e031f6f376662b97d9f481efb02d044bc4a5d17f5aae0c7d7abfcc2e5ac1c"
   }
  }
 },
 "nbformat": 4,
 "nbformat_minor": 2
}
