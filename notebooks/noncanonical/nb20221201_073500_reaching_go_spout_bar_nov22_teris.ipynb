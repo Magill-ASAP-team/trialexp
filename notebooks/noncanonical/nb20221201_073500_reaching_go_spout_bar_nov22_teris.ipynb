{
 "cells": [
  {
   "cell_type": "markdown",
   "metadata": {
    "tags": []
   },
   "source": [
    "# reaching_go_spout_bar_nov22"
   ]
  },
  {
   "cell_type": "markdown",
   "metadata": {},
   "source": [
    "Quick analysis of instrumental reaching"
   ]
  },
  {
   "cell_type": "code",
   "execution_count": 84,
   "metadata": {
    "tags": []
   },
   "outputs": [
    {
     "name": "stdout",
     "output_type": "stream",
     "text": [
      "The autoreload extension is already loaded. To reload it, use:\n",
      "  %reload_ext autoreload\n"
     ]
    }
   ],
   "source": [
    "# allow for automatic reloading of classes and function when updating the code\n",
    "%load_ext autoreload\n",
    "%autoreload 2 \n",
    "\n",
    "# Import Session and Experiment class with helper functions\n",
    "from trialexp.process.data_import import *\n",
    "from trialexp.process.pycontrol_utils import *\n",
    "import seaborn as sns\n"
   ]
  },
  {
   "cell_type": "markdown",
   "metadata": {},
   "source": [
    "### Create an experiment object\n"
   ]
  },
  {
   "cell_type": "code",
   "execution_count": 12,
   "metadata": {
    "tags": []
   },
   "outputs": [],
   "source": [
    "# Only analyze an experimental session\n",
    "\n",
    "pycontrol_dir = 'Z:\\\\Teris\\\\ASAP\\\\pycontrol\\\\reaching_go_spout_nov22\\\\'\n",
    "# filename = 'kms060-2023-02-07-124852.txt'\n",
    "filename = 'kms062-2023-02-06-112451.txt'\n",
    "\n"
   ]
  },
  {
   "cell_type": "markdown",
   "metadata": {},
   "source": [
    "### Analyze events and state"
   ]
  },
  {
   "cell_type": "code",
   "execution_count": 13,
   "metadata": {
    "tags": []
   },
   "outputs": [
    {
     "data": {
      "text/html": [
       "<div>\n",
       "<style scoped>\n",
       "    .dataframe tbody tr th:only-of-type {\n",
       "        vertical-align: middle;\n",
       "    }\n",
       "\n",
       "    .dataframe tbody tr th {\n",
       "        vertical-align: top;\n",
       "    }\n",
       "\n",
       "    .dataframe thead th {\n",
       "        text-align: right;\n",
       "    }\n",
       "</style>\n",
       "<table border=\"1\" class=\"dataframe\">\n",
       "  <thead>\n",
       "    <tr style=\"text-align: right;\">\n",
       "      <th></th>\n",
       "      <th>state</th>\n",
       "      <th>event_name</th>\n",
       "      <th>time</th>\n",
       "      <th>trial_number</th>\n",
       "    </tr>\n",
       "  </thead>\n",
       "  <tbody>\n",
       "    <tr>\n",
       "      <th>1</th>\n",
       "      <td>short_break</td>\n",
       "      <td>state_change</td>\n",
       "      <td>0</td>\n",
       "      <td>0</td>\n",
       "    </tr>\n",
       "    <tr>\n",
       "      <th>2</th>\n",
       "      <td>short_break</td>\n",
       "      <td>bar_off</td>\n",
       "      <td>345</td>\n",
       "      <td>0</td>\n",
       "    </tr>\n",
       "    <tr>\n",
       "      <th>3</th>\n",
       "      <td>short_break</td>\n",
       "      <td>bar</td>\n",
       "      <td>425</td>\n",
       "      <td>0</td>\n",
       "    </tr>\n",
       "    <tr>\n",
       "      <th>4</th>\n",
       "      <td>short_break</td>\n",
       "      <td>bar_off</td>\n",
       "      <td>795</td>\n",
       "      <td>0</td>\n",
       "    </tr>\n",
       "    <tr>\n",
       "      <th>5</th>\n",
       "      <td>short_break</td>\n",
       "      <td>bar</td>\n",
       "      <td>1292</td>\n",
       "      <td>0</td>\n",
       "    </tr>\n",
       "    <tr>\n",
       "      <th>...</th>\n",
       "      <td>...</td>\n",
       "      <td>...</td>\n",
       "      <td>...</td>\n",
       "      <td>...</td>\n",
       "    </tr>\n",
       "    <tr>\n",
       "      <th>550</th>\n",
       "      <td>busy_win</td>\n",
       "      <td>bar</td>\n",
       "      <td>201003</td>\n",
       "      <td>20</td>\n",
       "    </tr>\n",
       "    <tr>\n",
       "      <th>551</th>\n",
       "      <td>busy_win</td>\n",
       "      <td>bar_off</td>\n",
       "      <td>201085</td>\n",
       "      <td>20</td>\n",
       "    </tr>\n",
       "    <tr>\n",
       "      <th>552</th>\n",
       "      <td>busy_win</td>\n",
       "      <td>bar</td>\n",
       "      <td>201102</td>\n",
       "      <td>20</td>\n",
       "    </tr>\n",
       "    <tr>\n",
       "      <th>553</th>\n",
       "      <td>busy_win</td>\n",
       "      <td>bar_off</td>\n",
       "      <td>201118</td>\n",
       "      <td>20</td>\n",
       "    </tr>\n",
       "    <tr>\n",
       "      <th>554</th>\n",
       "      <td>busy_win</td>\n",
       "      <td>bar</td>\n",
       "      <td>201153</td>\n",
       "      <td>20</td>\n",
       "    </tr>\n",
       "  </tbody>\n",
       "</table>\n",
       "<p>519 rows × 4 columns</p>\n",
       "</div>"
      ],
      "text/plain": [
       "           state    event_name    time  trial_number\n",
       "1    short_break  state_change       0             0\n",
       "2    short_break       bar_off     345             0\n",
       "3    short_break           bar     425             0\n",
       "4    short_break       bar_off     795             0\n",
       "5    short_break           bar    1292             0\n",
       "..           ...           ...     ...           ...\n",
       "550     busy_win           bar  201003            20\n",
       "551     busy_win       bar_off  201085            20\n",
       "552     busy_win           bar  201102            20\n",
       "553     busy_win       bar_off  201118            20\n",
       "554     busy_win           bar  201153            20\n",
       "\n",
       "[519 rows x 4 columns]"
      ]
     },
     "execution_count": 13,
     "metadata": {},
     "output_type": "execute_result"
    }
   ],
   "source": [
    "#Create experiment object\n",
    "exp_cohort = Experiment(pycontrol_dir+filename, update = True) #TODO\n",
    "session = exp_cohort.sessions[0]\n",
    "\n",
    "# Parse event data\n",
    "df_events = parse_events(session)\n",
    "\n",
    "# separate into trials\n",
    "trigger = ('waiting_for_spout','state_change')\n",
    "df_events = add_trial_number(df_events, trigger)\n",
    "df_events"
   ]
  },
  {
   "cell_type": "markdown",
   "metadata": {},
   "source": [
    "# Analyze rewards"
   ]
  },
  {
   "cell_type": "code",
   "execution_count": 70,
   "metadata": {
    "tags": []
   },
   "outputs": [],
   "source": [
    "df_reward = df_events[df_events.event_name == 'US_delay_timer']"
   ]
  },
  {
   "cell_type": "markdown",
   "metadata": {},
   "source": [
    "## Analyze the first spout time"
   ]
  },
  {
   "cell_type": "code",
   "execution_count": 81,
   "metadata": {
    "tags": []
   },
   "outputs": [],
   "source": [
    "df_first_spout = df_events[(df_events.state=='waiting_for_spout') & (df_events.event_name =='spout')].copy()\n",
    "df_trial_start = df_events[(df_events.state=='waiting_for_spout') & (df_events.event_name =='state_change')].copy()\n",
    "assert len(df_first_spout) == len(df_trial_start)\n",
    "\n",
    "df_first_spout['time_first_spout'] = (df_first_spout.time.values - df_trial_start.time.values)/1000 #time is in miliseconds\n",
    "df_first_spout.trial_number = df_first_spout.trial_number.astype(str) #hack to force seaborn to treat this as categoric variable"
   ]
  },
  {
   "cell_type": "markdown",
   "metadata": {},
   "source": [
    "## Plotting"
   ]
  },
  {
   "cell_type": "code",
   "execution_count": 82,
   "metadata": {
    "tags": []
   },
   "outputs": [
    {
     "data": {
      "image/png": "[encoded data removed]",
      "text/plain": [
       "<Figure size 800x1000 with 2 Axes>"
      ]
     },
     "metadata": {},
     "output_type": "display_data"
    },
    {
     "data": {
      "text/plain": [
       "<Figure size 800x1200 with 0 Axes>"
      ]
     },
     "metadata": {},
     "output_type": "display_data"
    }
   ],
   "source": [
    "fig,ax = plt.subplots(1,2,figsize=(8,10))\n",
    "\n",
    "sns.barplot( y='trial_number', x='time_first_spout', data=df_first_spout, ax=ax[0])\n",
    "ax[0].set(xlabel='Time (s)',title='Time for first spout');\n",
    "\n",
    "plt.figure(figsize=(8,12))\n",
    "sns.countplot(y='trial_number', data=df_reward, ax = ax[1])\n",
    "ax[1].set(title='Reward triggered in each trial');\n",
    "\n"
   ]
  },
  {
   "cell_type": "markdown",
   "metadata": {
    "tags": []
   },
   "source": [
    "### Summary statistics"
   ]
  },
  {
   "cell_type": "code",
   "execution_count": 83,
   "metadata": {
    "tags": []
   },
   "outputs": [
    {
     "name": "stdout",
     "output_type": "stream",
     "text": [
      "Total reward: 35\n",
      "Total trials: 20\n",
      "Success rate: 1.0\n",
      "Average reward per trial: 1.75\n",
      "Average first spout time 7.89s\n"
     ]
    }
   ],
   "source": [
    "print(f'Total reward: {len(df_reward)}')\n",
    "print(f'Total trials: {df_events.iloc[-1].trial_number}')\n",
    "\n",
    "#Calculate overall success rate\n",
    "success_rate = (df_reward.groupby('trial_number').event_name.count()>0).mean()\n",
    "print(f'Success rate: {success_rate}')\n",
    "\n",
    "#average reward recieved per trial\n",
    "average_reward = df_reward.groupby('trial_number').event_name.count().mean()\n",
    "print(f'Average reward per trial: {average_reward}')\n",
    "\n",
    "#average time to first spout in waiting_for_spout\n",
    "print(f'Average first spout time {df_first_spout.time_first_spout.mean():.2f}s')"
   ]
  },
  {
   "cell_type": "markdown",
   "metadata": {},
   "source": [
    "# Event plots"
   ]
  },
  {
   "cell_type": "code",
   "execution_count": 102,
   "metadata": {
    "tags": []
   },
   "outputs": [
    {
     "data": {
      "application/vnd.plotly.v1+json": {
       "config": {
        "plotlyServerURL": "https://plot.ly"
       },
       "data": [
        {
         "marker": {
          "symbol": "square"
         },
         "mode": "markers",
         "name": "state_change",
         "type": "scatter",
         "x": [
          0,
          1966,
          45572,
          47574,
          61651,
          63653,
          111702,
          113703,
          120058,
          122060,
          128554,
          130557,
          131850,
          133852,
          135177,
          135195,
          137197,
          137566,
          139568,
          141383,
          143384,
          147650,
          149652,
          151976,
          153978,
          155284,
          157286,
          160207,
          162209,
          165391,
          167393,
          170316,
          172318,
          172465,
          174467,
          180940,
          182942,
          193235,
          195237,
          196527,
          198529,
          199186
         ],
         "y": [
          "state_change",
          "state_change",
          "state_change",
          "state_change",
          "state_change",
          "state_change",
          "state_change",
          "state_change",
          "state_change",
          "state_change",
          "state_change",
          "state_change",
          "state_change",
          "state_change",
          "state_change",
          "state_change",
          "state_change",
          "state_change",
          "state_change",
          "state_change",
          "state_change",
          "state_change",
          "state_change",
          "state_change",
          "state_change",
          "state_change",
          "state_change",
          "state_change",
          "state_change",
          "state_change",
          "state_change",
          "state_change",
          "state_change",
          "state_change",
          "state_change",
          "state_change",
          "state_change",
          "state_change",
          "state_change",
          "state_change",
          "state_change",
          "state_change"
         ]
        },
        {
         "marker": {
          "symbol": "diamond"
         },
         "mode": "markers",
         "name": "bar_off",
         "type": "scatter",
         "x": [
          345,
          795,
          1307,
          2527,
          2612,
          26651,
          26846,
          27663,
          28177,
          37395,
          38063,
          38445,
          40344,
          40810,
          49453,
          61054,
          61524,
          62360,
          63227,
          63245,
          84966,
          85021,
          85091,
          85321,
          85382,
          93539,
          93849,
          93911,
          98949,
          99186,
          99396,
          99560,
          99908,
          100017,
          100141,
          101021,
          103433,
          103873,
          110984,
          111104,
          111141,
          111587,
          112020,
          112462,
          112505,
          114192,
          119992,
          121121,
          121497,
          121741,
          128454,
          129254,
          131284,
          131608,
          131648,
          131704,
          131746,
          132570,
          132708,
          162620,
          162641,
          162840,
          163445,
          163579,
          164085,
          165257,
          174753,
          180763,
          183432,
          187777,
          188768,
          190230,
          194349,
          194460,
          196364,
          200986,
          201085,
          201118
         ],
         "y": [
          "bar_off",
          "bar_off",
          "bar_off",
          "bar_off",
          "bar_off",
          "bar_off",
          "bar_off",
          "bar_off",
          "bar_off",
          "bar_off",
          "bar_off",
          "bar_off",
          "bar_off",
          "bar_off",
          "bar_off",
          "bar_off",
          "bar_off",
          "bar_off",
          "bar_off",
          "bar_off",
          "bar_off",
          "bar_off",
          "bar_off",
          "bar_off",
          "bar_off",
          "bar_off",
          "bar_off",
          "bar_off",
          "bar_off",
          "bar_off",
          "bar_off",
          "bar_off",
          "bar_off",
          "bar_off",
          "bar_off",
          "bar_off",
          "bar_off",
          "bar_off",
          "bar_off",
          "bar_off",
          "bar_off",
          "bar_off",
          "bar_off",
          "bar_off",
          "bar_off",
          "bar_off",
          "bar_off",
          "bar_off",
          "bar_off",
          "bar_off",
          "bar_off",
          "bar_off",
          "bar_off",
          "bar_off",
          "bar_off",
          "bar_off",
          "bar_off",
          "bar_off",
          "bar_off",
          "bar_off",
          "bar_off",
          "bar_off",
          "bar_off",
          "bar_off",
          "bar_off",
          "bar_off",
          "bar_off",
          "bar_off",
          "bar_off",
          "bar_off",
          "bar_off",
          "bar_off",
          "bar_off",
          "bar_off",
          "bar_off",
          "bar_off",
          "bar_off",
          "bar_off"
         ]
        },
        {
         "marker": {
          "symbol": "cross"
         },
         "mode": "markers",
         "name": "bar",
         "type": "scatter",
         "x": [
          425,
          1292,
          1374,
          2564,
          2684,
          26754,
          26868,
          27707,
          28215,
          37533,
          38430,
          39748,
          40391,
          40833,
          49536,
          61127,
          62314,
          62396,
          63242,
          63308,
          85006,
          85048,
          85126,
          85350,
          85447,
          93564,
          93866,
          93948,
          98994,
          99205,
          99412,
          99575,
          99923,
          100044,
          100156,
          101051,
          103460,
          103902,
          111053,
          111125,
          111191,
          111962,
          112035,
          112489,
          112532,
          114226,
          120440,
          121410,
          121513,
          121854,
          128904,
          129323,
          131351,
          131630,
          131689,
          131730,
          132555,
          132590,
          162585,
          162635,
          162681,
          162866,
          163527,
          163618,
          164111,
          174718,
          174768,
          182979,
          187749,
          187806,
          188822,
          194184,
          194416,
          194545,
          200971,
          201003,
          201102,
          201153
         ],
         "y": [
          "bar",
          "bar",
          "bar",
          "bar",
          "bar",
          "bar",
          "bar",
          "bar",
          "bar",
          "bar",
          "bar",
          "bar",
          "bar",
          "bar",
          "bar",
          "bar",
          "bar",
          "bar",
          "bar",
          "bar",
          "bar",
          "bar",
          "bar",
          "bar",
          "bar",
          "bar",
          "bar",
          "bar",
          "bar",
          "bar",
          "bar",
          "bar",
          "bar",
          "bar",
          "bar",
          "bar",
          "bar",
          "bar",
          "bar",
          "bar",
          "bar",
          "bar",
          "bar",
          "bar",
          "bar",
          "bar",
          "bar",
          "bar",
          "bar",
          "bar",
          "bar",
          "bar",
          "bar",
          "bar",
          "bar",
          "bar",
          "bar",
          "bar",
          "bar",
          "bar",
          "bar",
          "bar",
          "bar",
          "bar",
          "bar",
          "bar",
          "bar",
          "bar",
          "bar",
          "bar",
          "bar",
          "bar",
          "bar",
          "bar",
          "bar",
          "bar",
          "bar",
          "bar"
         ]
        },
        {
         "marker": {
          "symbol": "x"
         },
         "mode": "markers",
         "name": "CS_offset_timer",
         "type": "scatter",
         "x": [
          2000,
          45873,
          61951,
          112003,
          120359,
          121482,
          128855,
          129108,
          129199,
          130583,
          132151,
          132712,
          133087,
          133266,
          133501,
          133713,
          134022,
          135496,
          137866,
          138325,
          141683,
          147950,
          152277,
          155584,
          157412,
          160507,
          165691,
          165961,
          170616,
          171952,
          172766,
          181241,
          181528,
          193535,
          196827,
          199487
         ],
         "y": [
          "CS_offset_timer",
          "CS_offset_timer",
          "CS_offset_timer",
          "CS_offset_timer",
          "CS_offset_timer",
          "CS_offset_timer",
          "CS_offset_timer",
          "CS_offset_timer",
          "CS_offset_timer",
          "CS_offset_timer",
          "CS_offset_timer",
          "CS_offset_timer",
          "CS_offset_timer",
          "CS_offset_timer",
          "CS_offset_timer",
          "CS_offset_timer",
          "CS_offset_timer",
          "CS_offset_timer",
          "CS_offset_timer",
          "CS_offset_timer",
          "CS_offset_timer",
          "CS_offset_timer",
          "CS_offset_timer",
          "CS_offset_timer",
          "CS_offset_timer",
          "CS_offset_timer",
          "CS_offset_timer",
          "CS_offset_timer",
          "CS_offset_timer",
          "CS_offset_timer",
          "CS_offset_timer",
          "CS_offset_timer",
          "CS_offset_timer",
          "CS_offset_timer",
          "CS_offset_timer",
          "CS_offset_timer"
         ]
        },
        {
         "marker": {
          "symbol": "triangle-up"
         },
         "mode": "markers",
         "name": "button_press",
         "type": "scatter",
         "x": [
          45571
         ],
         "y": [
          "button_press"
         ]
        },
        {
         "marker": {
          "symbol": "triangle-down"
         },
         "mode": "markers",
         "name": "spout",
         "type": "scatter",
         "x": [
          45571,
          61650,
          61677,
          111702,
          120058,
          121182,
          128554,
          128808,
          128825,
          128846,
          128861,
          128881,
          128898,
          128918,
          128937,
          128968,
          130283,
          131850,
          132411,
          132787,
          132966,
          133200,
          133413,
          133721,
          135195,
          137565,
          138024,
          141382,
          141447,
          147649,
          147714,
          151976,
          152041,
          155283,
          155351,
          157111,
          157179,
          160206,
          160260,
          160275,
          165390,
          165661,
          170315,
          171651,
          172465,
          180940,
          181015,
          181228,
          181293,
          193234,
          196526,
          199186
         ],
         "y": [
          "spout",
          "spout",
          "spout",
          "spout",
          "spout",
          "spout",
          "spout",
          "spout",
          "spout",
          "spout",
          "spout",
          "spout",
          "spout",
          "spout",
          "spout",
          "spout",
          "spout",
          "spout",
          "spout",
          "spout",
          "spout",
          "spout",
          "spout",
          "spout",
          "spout",
          "spout",
          "spout",
          "spout",
          "spout",
          "spout",
          "spout",
          "spout",
          "spout",
          "spout",
          "spout",
          "spout",
          "spout",
          "spout",
          "spout",
          "spout",
          "spout",
          "spout",
          "spout",
          "spout",
          "spout",
          "spout",
          "spout",
          "spout",
          "spout",
          "spout",
          "spout",
          "spout"
         ]
        },
        {
         "marker": {
          "symbol": "triangle-left"
         },
         "mode": "markers",
         "name": "US_delay_timer",
         "type": "scatter",
         "x": [
          45573,
          61651,
          111703,
          120059,
          121182,
          128555,
          128808,
          128899,
          130283,
          131851,
          132412,
          132787,
          132967,
          133201,
          133413,
          133722,
          135196,
          137566,
          138025,
          141383,
          147650,
          151977,
          155284,
          157112,
          160207,
          165391,
          165661,
          170317,
          171652,
          172466,
          180941,
          181228,
          193236,
          196527,
          199187
         ],
         "y": [
          "US_delay_timer",
          "US_delay_timer",
          "US_delay_timer",
          "US_delay_timer",
          "US_delay_timer",
          "US_delay_timer",
          "US_delay_timer",
          "US_delay_timer",
          "US_delay_timer",
          "US_delay_timer",
          "US_delay_timer",
          "US_delay_timer",
          "US_delay_timer",
          "US_delay_timer",
          "US_delay_timer",
          "US_delay_timer",
          "US_delay_timer",
          "US_delay_timer",
          "US_delay_timer",
          "US_delay_timer",
          "US_delay_timer",
          "US_delay_timer",
          "US_delay_timer",
          "US_delay_timer",
          "US_delay_timer",
          "US_delay_timer",
          "US_delay_timer",
          "US_delay_timer",
          "US_delay_timer",
          "US_delay_timer",
          "US_delay_timer",
          "US_delay_timer",
          "US_delay_timer",
          "US_delay_timer",
          "US_delay_timer"
         ]
        },
        {
         "marker": {
          "symbol": "triangle-right"
         },
         "mode": "markers",
         "name": "water_on",
         "type": "scatter",
         "x": [
          45573,
          61651,
          111703,
          120059,
          121183,
          128555,
          128809,
          128899,
          130284,
          131851,
          132412,
          132788,
          132967,
          133201,
          133414,
          133722,
          135196,
          137566,
          138025,
          141384,
          147650,
          151977,
          155285,
          157112,
          160208,
          165392,
          165662,
          170317,
          171652,
          172466,
          180941,
          181229,
          193236,
          196528,
          199187
         ],
         "y": [
          "water_on",
          "water_on",
          "water_on",
          "water_on",
          "water_on",
          "water_on",
          "water_on",
          "water_on",
          "water_on",
          "water_on",
          "water_on",
          "water_on",
          "water_on",
          "water_on",
          "water_on",
          "water_on",
          "water_on",
          "water_on",
          "water_on",
          "water_on",
          "water_on",
          "water_on",
          "water_on",
          "water_on",
          "water_on",
          "water_on",
          "water_on",
          "water_on",
          "water_on",
          "water_on",
          "water_on",
          "water_on",
          "water_on",
          "water_on",
          "water_on"
         ]
        },
        {
         "marker": {
          "symbol": "triangle-ne"
         },
         "mode": "markers",
         "name": "water success",
         "type": "scatter",
         "x": [
          45573,
          61652,
          111703,
          120059,
          121183,
          128555,
          128809,
          128900,
          130284,
          131851,
          132412,
          132788,
          132967,
          133202,
          133414,
          133723,
          135196,
          137567,
          138026,
          141384,
          147651,
          151977,
          155285,
          157112,
          160208,
          165392,
          165662,
          170317,
          171652,
          172466,
          180941,
          181229,
          193236,
          196528,
          199187
         ],
         "y": [
          "water success",
          "water success",
          "water success",
          "water success",
          "water success",
          "water success",
          "water success",
          "water success",
          "water success",
          "water success",
          "water success",
          "water success",
          "water success",
          "water success",
          "water success",
          "water success",
          "water success",
          "water success",
          "water success",
          "water success",
          "water success",
          "water success",
          "water success",
          "water success",
          "water success",
          "water success",
          "water success",
          "water success",
          "water success",
          "water success",
          "water success",
          "water success",
          "water success",
          "water success",
          "water success"
         ]
        },
        {
         "marker": {
          "symbol": "triangle-se"
         },
         "mode": "markers",
         "name": "spout_off",
         "type": "scatter",
         "x": [
          45587,
          61665,
          62207,
          111875,
          120361,
          121270,
          128792,
          128810,
          128840,
          128861,
          128877,
          128896,
          128913,
          128933,
          128953,
          129345,
          130320,
          132365,
          132753,
          132951,
          133160,
          133318,
          133689,
          133936,
          135337,
          137656,
          138109,
          141397,
          141462,
          147664,
          147734,
          151991,
          152071,
          155299,
          155370,
          157126,
          157215,
          160222,
          160275,
          160294,
          165406,
          165676,
          170358,
          171691,
          172480,
          181000,
          181021,
          181252,
          181308,
          193250,
          196542,
          199201
         ],
         "y": [
          "spout_off",
          "spout_off",
          "spout_off",
          "spout_off",
          "spout_off",
          "spout_off",
          "spout_off",
          "spout_off",
          "spout_off",
          "spout_off",
          "spout_off",
          "spout_off",
          "spout_off",
          "spout_off",
          "spout_off",
          "spout_off",
          "spout_off",
          "spout_off",
          "spout_off",
          "spout_off",
          "spout_off",
          "spout_off",
          "spout_off",
          "spout_off",
          "spout_off",
          "spout_off",
          "spout_off",
          "spout_off",
          "spout_off",
          "spout_off",
          "spout_off",
          "spout_off",
          "spout_off",
          "spout_off",
          "spout_off",
          "spout_off",
          "spout_off",
          "spout_off",
          "spout_off",
          "spout_off",
          "spout_off",
          "spout_off",
          "spout_off",
          "spout_off",
          "spout_off",
          "spout_off",
          "spout_off",
          "spout_off",
          "spout_off",
          "spout_off",
          "spout_off",
          "spout_off"
         ]
        },
        {
         "marker": {
          "symbol": "triangle-sw"
         },
         "mode": "markers",
         "name": "US_end_timer",
         "type": "scatter",
         "x": [
          45591,
          45593,
          61671,
          111723,
          120079,
          121203,
          128575,
          128829,
          128919,
          130304,
          131871,
          132432,
          132808,
          132987,
          133221,
          133434,
          133743,
          135216,
          137587,
          138046,
          141404,
          147671,
          151997,
          155305,
          157132,
          160228,
          165411,
          165681,
          170336,
          171671,
          172485,
          180960,
          181248,
          193255,
          196547,
          199206
         ],
         "y": [
          "US_end_timer",
          "US_end_timer",
          "US_end_timer",
          "US_end_timer",
          "US_end_timer",
          "US_end_timer",
          "US_end_timer",
          "US_end_timer",
          "US_end_timer",
          "US_end_timer",
          "US_end_timer",
          "US_end_timer",
          "US_end_timer",
          "US_end_timer",
          "US_end_timer",
          "US_end_timer",
          "US_end_timer",
          "US_end_timer",
          "US_end_timer",
          "US_end_timer",
          "US_end_timer",
          "US_end_timer",
          "US_end_timer",
          "US_end_timer",
          "US_end_timer",
          "US_end_timer",
          "US_end_timer",
          "US_end_timer",
          "US_end_timer",
          "US_end_timer",
          "US_end_timer",
          "US_end_timer",
          "US_end_timer",
          "US_end_timer",
          "US_end_timer",
          "US_end_timer"
         ]
        },
        {
         "marker": {
          "symbol": "triangle-nw"
         },
         "mode": "markers",
         "name": "button_release",
         "type": "scatter",
         "x": [
          45629
         ],
         "y": [
          "button_release"
         ]
        },
        {
         "marker": {
          "symbol": "pentagon"
         },
         "mode": "markers",
         "name": "busy_win_timer",
         "type": "scatter",
         "x": [
          47572,
          63651,
          113702,
          122058,
          130555,
          133850,
          137195,
          139566,
          143383,
          149650,
          153976,
          157284,
          162207,
          167391,
          172316,
          174465,
          182940,
          195235,
          198527
         ],
         "y": [
          "busy_win_timer",
          "busy_win_timer",
          "busy_win_timer",
          "busy_win_timer",
          "busy_win_timer",
          "busy_win_timer",
          "busy_win_timer",
          "busy_win_timer",
          "busy_win_timer",
          "busy_win_timer",
          "busy_win_timer",
          "busy_win_timer",
          "busy_win_timer",
          "busy_win_timer",
          "busy_win_timer",
          "busy_win_timer",
          "busy_win_timer",
          "busy_win_timer",
          "busy_win_timer"
         ]
        },
        {
         "marker": {
          "symbol": "hexagon"
         },
         "mode": "markers",
         "name": "Timestamp:0 Success:False",
         "type": "scatter",
         "x": [
          47573,
          63652,
          113703,
          122059,
          130556,
          133851,
          137196,
          139567,
          143384,
          149651,
          153977,
          157285,
          162208,
          167392,
          172317,
          174466,
          182941,
          195236,
          198528
         ],
         "y": [
          "Timestamp:0 Success:False",
          "Timestamp:0 Success:False",
          "Timestamp:0 Success:False",
          "Timestamp:0 Success:False",
          "Timestamp:0 Success:False",
          "Timestamp:0 Success:False",
          "Timestamp:0 Success:False",
          "Timestamp:0 Success:False",
          "Timestamp:0 Success:False",
          "Timestamp:0 Success:False",
          "Timestamp:0 Success:False",
          "Timestamp:0 Success:False",
          "Timestamp:0 Success:False",
          "Timestamp:0 Success:False",
          "Timestamp:0 Success:False",
          "Timestamp:0 Success:False",
          "Timestamp:0 Success:False",
          "Timestamp:0 Success:False",
          "Timestamp:0 Success:False"
         ]
        }
       ],
       "layout": {
        "autosize": true,
        "template": {
         "data": {
          "bar": [
           {
            "error_x": {
             "color": "#2a3f5f"
            },
            "error_y": {
             "color": "#2a3f5f"
            },
            "marker": {
             "line": {
              "color": "#E5ECF6",
              "width": 0.5
             },
             "pattern": {
              "fillmode": "overlay",
              "size": 10,
              "solidity": 0.2
             }
            },
            "type": "bar"
           }
          ],
          "barpolar": [
           {
            "marker": {
             "line": {
              "color": "#E5ECF6",
              "width": 0.5
             },
             "pattern": {
              "fillmode": "overlay",
              "size": 10,
              "solidity": 0.2
             }
            },
            "type": "barpolar"
           }
          ],
          "carpet": [
           {
            "aaxis": {
             "endlinecolor": "#2a3f5f",
             "gridcolor": "white",
             "linecolor": "white",
             "minorgridcolor": "white",
             "startlinecolor": "#2a3f5f"
            },
            "baxis": {
             "endlinecolor": "#2a3f5f",
             "gridcolor": "white",
             "linecolor": "white",
             "minorgridcolor": "white",
             "startlinecolor": "#2a3f5f"
            },
            "type": "carpet"
           }
          ],
          "choropleth": [
           {
            "colorbar": {
             "outlinewidth": 0,
             "ticks": ""
            },
            "type": "choropleth"
           }
          ],
          "contour": [
           {
            "colorbar": {
             "outlinewidth": 0,
             "ticks": ""
            },
            "colorscale": [
             [
              0,
              "#0d0887"
             ],
             [
              0.1111111111111111,
              "#46039f"
             ],
             [
              0.2222222222222222,
              "#7201a8"
             ],
             [
              0.3333333333333333,
              "#9c179e"
             ],
             [
              0.4444444444444444,
              "#bd3786"
             ],
             [
              0.5555555555555556,
              "#d8576b"
             ],
             [
              0.6666666666666666,
              "#ed7953"
             ],
             [
              0.7777777777777778,
              "#fb9f3a"
             ],
             [
              0.8888888888888888,
              "#fdca26"
             ],
             [
              1,
              "#f0f921"
             ]
            ],
            "type": "contour"
           }
          ],
          "contourcarpet": [
           {
            "colorbar": {
             "outlinewidth": 0,
             "ticks": ""
            },
            "type": "contourcarpet"
           }
          ],
          "heatmap": [
           {
            "colorbar": {
             "outlinewidth": 0,
             "ticks": ""
            },
            "colorscale": [
             [
              0,
              "#0d0887"
             ],
             [
              0.1111111111111111,
              "#46039f"
             ],
             [
              0.2222222222222222,
              "#7201a8"
             ],
             [
              0.3333333333333333,
              "#9c179e"
             ],
             [
              0.4444444444444444,
              "#bd3786"
             ],
             [
              0.5555555555555556,
              "#d8576b"
             ],
             [
              0.6666666666666666,
              "#ed7953"
             ],
             [
              0.7777777777777778,
              "#fb9f3a"
             ],
             [
              0.8888888888888888,
              "#fdca26"
             ],
             [
              1,
              "#f0f921"
             ]
            ],
            "type": "heatmap"
           }
          ],
          "heatmapgl": [
           {
            "colorbar": {
             "outlinewidth": 0,
             "ticks": ""
            },
            "colorscale": [
             [
              0,
              "#0d0887"
             ],
             [
              0.1111111111111111,
              "#46039f"
             ],
             [
              0.2222222222222222,
              "#7201a8"
             ],
             [
              0.3333333333333333,
              "#9c179e"
             ],
             [
              0.4444444444444444,
              "#bd3786"
             ],
             [
              0.5555555555555556,
              "#d8576b"
             ],
             [
              0.6666666666666666,
              "#ed7953"
             ],
             [
              0.7777777777777778,
              "#fb9f3a"
             ],
             [
              0.8888888888888888,
              "#fdca26"
             ],
             [
              1,
              "#f0f921"
             ]
            ],
            "type": "heatmapgl"
           }
          ],
          "histogram": [
           {
            "marker": {
             "pattern": {
              "fillmode": "overlay",
              "size": 10,
              "solidity": 0.2
             }
            },
            "type": "histogram"
           }
          ],
          "histogram2d": [
           {
            "colorbar": {
             "outlinewidth": 0,
             "ticks": ""
            },
            "colorscale": [
             [
              0,
              "#0d0887"
             ],
             [
              0.1111111111111111,
              "#46039f"
             ],
             [
              0.2222222222222222,
              "#7201a8"
             ],
             [
              0.3333333333333333,
              "#9c179e"
             ],
             [
              0.4444444444444444,
              "#bd3786"
             ],
             [
              0.5555555555555556,
              "#d8576b"
             ],
             [
              0.6666666666666666,
              "#ed7953"
             ],
             [
              0.7777777777777778,
              "#fb9f3a"
             ],
             [
              0.8888888888888888,
              "#fdca26"
             ],
             [
              1,
              "#f0f921"
             ]
            ],
            "type": "histogram2d"
           }
          ],
          "histogram2dcontour": [
           {
            "colorbar": {
             "outlinewidth": 0,
             "ticks": ""
            },
            "colorscale": [
             [
              0,
              "#0d0887"
             ],
             [
              0.1111111111111111,
              "#46039f"
             ],
             [
              0.2222222222222222,
              "#7201a8"
             ],
             [
              0.3333333333333333,
              "#9c179e"
             ],
             [
              0.4444444444444444,
              "#bd3786"
             ],
             [
              0.5555555555555556,
              "#d8576b"
             ],
             [
              0.6666666666666666,
              "#ed7953"
             ],
             [
              0.7777777777777778,
              "#fb9f3a"
             ],
             [
              0.8888888888888888,
              "#fdca26"
             ],
             [
              1,
              "#f0f921"
             ]
            ],
            "type": "histogram2dcontour"
           }
          ],
          "mesh3d": [
           {
            "colorbar": {
             "outlinewidth": 0,
             "ticks": ""
            },
            "type": "mesh3d"
           }
          ],
          "parcoords": [
           {
            "line": {
             "colorbar": {
              "outlinewidth": 0,
              "ticks": ""
             }
            },
            "type": "parcoords"
           }
          ],
          "pie": [
           {
            "automargin": true,
            "type": "pie"
           }
          ],
          "scatter": [
           {
            "fillpattern": {
             "fillmode": "overlay",
             "size": 10,
             "solidity": 0.2
            },
            "type": "scatter"
           }
          ],
          "scatter3d": [
           {
            "line": {
             "colorbar": {
              "outlinewidth": 0,
              "ticks": ""
             }
            },
            "marker": {
             "colorbar": {
              "outlinewidth": 0,
              "ticks": ""
             }
            },
            "type": "scatter3d"
           }
          ],
          "scattercarpet": [
           {
            "marker": {
             "colorbar": {
              "outlinewidth": 0,
              "ticks": ""
             }
            },
            "type": "scattercarpet"
           }
          ],
          "scattergeo": [
           {
            "marker": {
             "colorbar": {
              "outlinewidth": 0,
              "ticks": ""
             }
            },
            "type": "scattergeo"
           }
          ],
          "scattergl": [
           {
            "marker": {
             "colorbar": {
              "outlinewidth": 0,
              "ticks": ""
             }
            },
            "type": "scattergl"
           }
          ],
          "scattermapbox": [
           {
            "marker": {
             "colorbar": {
              "outlinewidth": 0,
              "ticks": ""
             }
            },
            "type": "scattermapbox"
           }
          ],
          "scatterpolar": [
           {
            "marker": {
             "colorbar": {
              "outlinewidth": 0,
              "ticks": ""
             }
            },
            "type": "scatterpolar"
           }
          ],
          "scatterpolargl": [
           {
            "marker": {
             "colorbar": {
              "outlinewidth": 0,
              "ticks": ""
             }
            },
            "type": "scatterpolargl"
           }
          ],
          "scatterternary": [
           {
            "marker": {
             "colorbar": {
              "outlinewidth": 0,
              "ticks": ""
             }
            },
            "type": "scatterternary"
           }
          ],
          "surface": [
           {
            "colorbar": {
             "outlinewidth": 0,
             "ticks": ""
            },
            "colorscale": [
             [
              0,
              "#0d0887"
             ],
             [
              0.1111111111111111,
              "#46039f"
             ],
             [
              0.2222222222222222,
              "#7201a8"
             ],
             [
              0.3333333333333333,
              "#9c179e"
             ],
             [
              0.4444444444444444,
              "#bd3786"
             ],
             [
              0.5555555555555556,
              "#d8576b"
             ],
             [
              0.6666666666666666,
              "#ed7953"
             ],
             [
              0.7777777777777778,
              "#fb9f3a"
             ],
             [
              0.8888888888888888,
              "#fdca26"
             ],
             [
              1,
              "#f0f921"
             ]
            ],
            "type": "surface"
           }
          ],
          "table": [
           {
            "cells": {
             "fill": {
              "color": "#EBF0F8"
             },
             "line": {
              "color": "white"
             }
            },
            "header": {
             "fill": {
              "color": "#C8D4E3"
             },
             "line": {
              "color": "white"
             }
            },
            "type": "table"
           }
          ]
         },
         "layout": {
          "annotationdefaults": {
           "arrowcolor": "#2a3f5f",
           "arrowhead": 0,
           "arrowwidth": 1
          },
          "autotypenumbers": "strict",
          "coloraxis": {
           "colorbar": {
            "outlinewidth": 0,
            "ticks": ""
           }
          },
          "colorscale": {
           "diverging": [
            [
             0,
             "#8e0152"
            ],
            [
             0.1,
             "#c51b7d"
            ],
            [
             0.2,
             "#de77ae"
            ],
            [
             0.3,
             "#f1b6da"
            ],
            [
             0.4,
             "#fde0ef"
            ],
            [
             0.5,
             "#f7f7f7"
            ],
            [
             0.6,
             "#e6f5d0"
            ],
            [
             0.7,
             "#b8e186"
            ],
            [
             0.8,
             "#7fbc41"
            ],
            [
             0.9,
             "#4d9221"
            ],
            [
             1,
             "#276419"
            ]
           ],
           "sequential": [
            [
             0,
             "#0d0887"
            ],
            [
             0.1111111111111111,
             "#46039f"
            ],
            [
             0.2222222222222222,
             "#7201a8"
            ],
            [
             0.3333333333333333,
             "#9c179e"
            ],
            [
             0.4444444444444444,
             "#bd3786"
            ],
            [
             0.5555555555555556,
             "#d8576b"
            ],
            [
             0.6666666666666666,
             "#ed7953"
            ],
            [
             0.7777777777777778,
             "#fb9f3a"
            ],
            [
             0.8888888888888888,
             "#fdca26"
            ],
            [
             1,
             "#f0f921"
            ]
           ],
           "sequentialminus": [
            [
             0,
             "#0d0887"
            ],
            [
             0.1111111111111111,
             "#46039f"
            ],
            [
             0.2222222222222222,
             "#7201a8"
            ],
            [
             0.3333333333333333,
             "#9c179e"
            ],
            [
             0.4444444444444444,
             "#bd3786"
            ],
            [
             0.5555555555555556,
             "#d8576b"
            ],
            [
             0.6666666666666666,
             "#ed7953"
            ],
            [
             0.7777777777777778,
             "#fb9f3a"
            ],
            [
             0.8888888888888888,
             "#fdca26"
            ],
            [
             1,
             "#f0f921"
            ]
           ]
          },
          "colorway": [
           "#636efa",
           "#EF553B",
           "#00cc96",
           "#ab63fa",
           "#FFA15A",
           "#19d3f3",
           "#FF6692",
           "#B6E880",
           "#FF97FF",
           "#FECB52"
          ],
          "font": {
           "color": "#2a3f5f"
          },
          "geo": {
           "bgcolor": "white",
           "lakecolor": "white",
           "landcolor": "#E5ECF6",
           "showlakes": true,
           "showland": true,
           "subunitcolor": "white"
          },
          "hoverlabel": {
           "align": "left"
          },
          "hovermode": "closest",
          "mapbox": {
           "style": "light"
          },
          "paper_bgcolor": "white",
          "plot_bgcolor": "#E5ECF6",
          "polar": {
           "angularaxis": {
            "gridcolor": "white",
            "linecolor": "white",
            "ticks": ""
           },
           "bgcolor": "#E5ECF6",
           "radialaxis": {
            "gridcolor": "white",
            "linecolor": "white",
            "ticks": ""
           }
          },
          "scene": {
           "xaxis": {
            "backgroundcolor": "#E5ECF6",
            "gridcolor": "white",
            "gridwidth": 2,
            "linecolor": "white",
            "showbackground": true,
            "ticks": "",
            "zerolinecolor": "white"
           },
           "yaxis": {
            "backgroundcolor": "#E5ECF6",
            "gridcolor": "white",
            "gridwidth": 2,
            "linecolor": "white",
            "showbackground": true,
            "ticks": "",
            "zerolinecolor": "white"
           },
           "zaxis": {
            "backgroundcolor": "#E5ECF6",
            "gridcolor": "white",
            "gridwidth": 2,
            "linecolor": "white",
            "showbackground": true,
            "ticks": "",
            "zerolinecolor": "white"
           }
          },
          "shapedefaults": {
           "line": {
            "color": "#2a3f5f"
           }
          },
          "ternary": {
           "aaxis": {
            "gridcolor": "white",
            "linecolor": "white",
            "ticks": ""
           },
           "baxis": {
            "gridcolor": "white",
            "linecolor": "white",
            "ticks": ""
           },
           "bgcolor": "#E5ECF6",
           "caxis": {
            "gridcolor": "white",
            "linecolor": "white",
            "ticks": ""
           }
          },
          "title": {
           "x": 0.05
          },
          "xaxis": {
           "automargin": true,
           "gridcolor": "white",
           "linecolor": "white",
           "ticks": "",
           "title": {
            "standoff": 15
           },
           "zerolinecolor": "white",
           "zerolinewidth": 2
          },
          "yaxis": {
           "automargin": true,
           "gridcolor": "white",
           "linecolor": "white",
           "ticks": "",
           "title": {
            "standoff": 15
           },
           "zerolinecolor": "white",
           "zerolinewidth": 2
          }
         }
        },
        "xaxis": {
         "autorange": true,
         "range": [
          -12730.729955456572,
          213883.72995545657
         ],
         "title": {
          "text": "Time (s)"
         },
         "type": "linear"
        },
        "yaxis": {
         "autorange": true,
         "fixedrange": true,
         "range": [
          -1.0728155339805825,
          14.072815533980583
         ],
         "type": "category"
        }
       }
      },
      "image/png": "[encoded data removed]",
      "text/html": [
       "<div>                            <div id=\"6d30b690-8172-462b-adcc-a987200f76ff\" class=\"plotly-graph-div\" style=\"height:525px; width:100%;\"></div>            <script type=\"text/javascript\">                require([\"plotly\"], function(Plotly) {                    window.PLOTLYENV=window.PLOTLYENV || {};                                    if (document.getElementById(\"6d30b690-8172-462b-adcc-a987200f76ff\")) {                    Plotly.newPlot(                        \"6d30b690-8172-462b-adcc-a987200f76ff\",                        [{\"marker\":{\"symbol\":\"square\"},\"mode\":\"markers\",\"name\":\"state_change\",\"x\":[0,1966,45572,47574,61651,63653,111702,113703,120058,122060,128554,130557,131850,133852,135177,135195,137197,137566,139568,141383,143384,147650,149652,151976,153978,155284,157286,160207,162209,165391,167393,170316,172318,172465,174467,180940,182942,193235,195237,196527,198529,199186],\"y\":[\"state_change\",\"state_change\",\"state_change\",\"state_change\",\"state_change\",\"state_change\",\"state_change\",\"state_change\",\"state_change\",\"state_change\",\"state_change\",\"state_change\",\"state_change\",\"state_change\",\"state_change\",\"state_change\",\"state_change\",\"state_change\",\"state_change\",\"state_change\",\"state_change\",\"state_change\",\"state_change\",\"state_change\",\"state_change\",\"state_change\",\"state_change\",\"state_change\",\"state_change\",\"state_change\",\"state_change\",\"state_change\",\"state_change\",\"state_change\",\"state_change\",\"state_change\",\"state_change\",\"state_change\",\"state_change\",\"state_change\",\"state_change\",\"state_change\"],\"type\":\"scatter\"},{\"marker\":{\"symbol\":\"diamond\"},\"mode\":\"markers\",\"name\":\"bar_off\",\"x\":[345,795,1307,2527,2612,26651,26846,27663,28177,37395,38063,38445,40344,40810,49453,61054,61524,62360,63227,63245,84966,85021,85091,85321,85382,93539,93849,93911,98949,99186,99396,99560,99908,100017,100141,101021,103433,103873,110984,111104,111141,111587,112020,112462,112505,114192,119992,121121,121497,121741,128454,129254,131284,131608,131648,131704,131746,132570,132708,162620,162641,162840,163445,163579,164085,165257,174753,180763,183432,187777,188768,190230,194349,194460,196364,200986,201085,201118],\"y\":[\"bar_off\",\"bar_off\",\"bar_off\",\"bar_off\",\"bar_off\",\"bar_off\",\"bar_off\",\"bar_off\",\"bar_off\",\"bar_off\",\"bar_off\",\"bar_off\",\"bar_off\",\"bar_off\",\"bar_off\",\"bar_off\",\"bar_off\",\"bar_off\",\"bar_off\",\"bar_off\",\"bar_off\",\"bar_off\",\"bar_off\",\"bar_off\",\"bar_off\",\"bar_off\",\"bar_off\",\"bar_off\",\"bar_off\",\"bar_off\",\"bar_off\",\"bar_off\",\"bar_off\",\"bar_off\",\"bar_off\",\"bar_off\",\"bar_off\",\"bar_off\",\"bar_off\",\"bar_off\",\"bar_off\",\"bar_off\",\"bar_off\",\"bar_off\",\"bar_off\",\"bar_off\",\"bar_off\",\"bar_off\",\"bar_off\",\"bar_off\",\"bar_off\",\"bar_off\",\"bar_off\",\"bar_off\",\"bar_off\",\"bar_off\",\"bar_off\",\"bar_off\",\"bar_off\",\"bar_off\",\"bar_off\",\"bar_off\",\"bar_off\",\"bar_off\",\"bar_off\",\"bar_off\",\"bar_off\",\"bar_off\",\"bar_off\",\"bar_off\",\"bar_off\",\"bar_off\",\"bar_off\",\"bar_off\",\"bar_off\",\"bar_off\",\"bar_off\",\"bar_off\"],\"type\":\"scatter\"},{\"marker\":{\"symbol\":\"cross\"},\"mode\":\"markers\",\"name\":\"bar\",\"x\":[425,1292,1374,2564,2684,26754,26868,27707,28215,37533,38430,39748,40391,40833,49536,61127,62314,62396,63242,63308,85006,85048,85126,85350,85447,93564,93866,93948,98994,99205,99412,99575,99923,100044,100156,101051,103460,103902,111053,111125,111191,111962,112035,112489,112532,114226,120440,121410,121513,121854,128904,129323,131351,131630,131689,131730,132555,132590,162585,162635,162681,162866,163527,163618,164111,174718,174768,182979,187749,187806,188822,194184,194416,194545,200971,201003,201102,201153],\"y\":[\"bar\",\"bar\",\"bar\",\"bar\",\"bar\",\"bar\",\"bar\",\"bar\",\"bar\",\"bar\",\"bar\",\"bar\",\"bar\",\"bar\",\"bar\",\"bar\",\"bar\",\"bar\",\"bar\",\"bar\",\"bar\",\"bar\",\"bar\",\"bar\",\"bar\",\"bar\",\"bar\",\"bar\",\"bar\",\"bar\",\"bar\",\"bar\",\"bar\",\"bar\",\"bar\",\"bar\",\"bar\",\"bar\",\"bar\",\"bar\",\"bar\",\"bar\",\"bar\",\"bar\",\"bar\",\"bar\",\"bar\",\"bar\",\"bar\",\"bar\",\"bar\",\"bar\",\"bar\",\"bar\",\"bar\",\"bar\",\"bar\",\"bar\",\"bar\",\"bar\",\"bar\",\"bar\",\"bar\",\"bar\",\"bar\",\"bar\",\"bar\",\"bar\",\"bar\",\"bar\",\"bar\",\"bar\",\"bar\",\"bar\",\"bar\",\"bar\",\"bar\",\"bar\"],\"type\":\"scatter\"},{\"marker\":{\"symbol\":\"x\"},\"mode\":\"markers\",\"name\":\"CS_offset_timer\",\"x\":[2000,45873,61951,112003,120359,121482,128855,129108,129199,130583,132151,132712,133087,133266,133501,133713,134022,135496,137866,138325,141683,147950,152277,155584,157412,160507,165691,165961,170616,171952,172766,181241,181528,193535,196827,199487],\"y\":[\"CS_offset_timer\",\"CS_offset_timer\",\"CS_offset_timer\",\"CS_offset_timer\",\"CS_offset_timer\",\"CS_offset_timer\",\"CS_offset_timer\",\"CS_offset_timer\",\"CS_offset_timer\",\"CS_offset_timer\",\"CS_offset_timer\",\"CS_offset_timer\",\"CS_offset_timer\",\"CS_offset_timer\",\"CS_offset_timer\",\"CS_offset_timer\",\"CS_offset_timer\",\"CS_offset_timer\",\"CS_offset_timer\",\"CS_offset_timer\",\"CS_offset_timer\",\"CS_offset_timer\",\"CS_offset_timer\",\"CS_offset_timer\",\"CS_offset_timer\",\"CS_offset_timer\",\"CS_offset_timer\",\"CS_offset_timer\",\"CS_offset_timer\",\"CS_offset_timer\",\"CS_offset_timer\",\"CS_offset_timer\",\"CS_offset_timer\",\"CS_offset_timer\",\"CS_offset_timer\",\"CS_offset_timer\"],\"type\":\"scatter\"},{\"marker\":{\"symbol\":\"triangle-up\"},\"mode\":\"markers\",\"name\":\"button_press\",\"x\":[45571],\"y\":[\"button_press\"],\"type\":\"scatter\"},{\"marker\":{\"symbol\":\"triangle-down\"},\"mode\":\"markers\",\"name\":\"spout\",\"x\":[45571,61650,61677,111702,120058,121182,128554,128808,128825,128846,128861,128881,128898,128918,128937,128968,130283,131850,132411,132787,132966,133200,133413,133721,135195,137565,138024,141382,141447,147649,147714,151976,152041,155283,155351,157111,157179,160206,160260,160275,165390,165661,170315,171651,172465,180940,181015,181228,181293,193234,196526,199186],\"y\":[\"spout\",\"spout\",\"spout\",\"spout\",\"spout\",\"spout\",\"spout\",\"spout\",\"spout\",\"spout\",\"spout\",\"spout\",\"spout\",\"spout\",\"spout\",\"spout\",\"spout\",\"spout\",\"spout\",\"spout\",\"spout\",\"spout\",\"spout\",\"spout\",\"spout\",\"spout\",\"spout\",\"spout\",\"spout\",\"spout\",\"spout\",\"spout\",\"spout\",\"spout\",\"spout\",\"spout\",\"spout\",\"spout\",\"spout\",\"spout\",\"spout\",\"spout\",\"spout\",\"spout\",\"spout\",\"spout\",\"spout\",\"spout\",\"spout\",\"spout\",\"spout\",\"spout\"],\"type\":\"scatter\"},{\"marker\":{\"symbol\":\"triangle-left\"},\"mode\":\"markers\",\"name\":\"US_delay_timer\",\"x\":[45573,61651,111703,120059,121182,128555,128808,128899,130283,131851,132412,132787,132967,133201,133413,133722,135196,137566,138025,141383,147650,151977,155284,157112,160207,165391,165661,170317,171652,172466,180941,181228,193236,196527,199187],\"y\":[\"US_delay_timer\",\"US_delay_timer\",\"US_delay_timer\",\"US_delay_timer\",\"US_delay_timer\",\"US_delay_timer\",\"US_delay_timer\",\"US_delay_timer\",\"US_delay_timer\",\"US_delay_timer\",\"US_delay_timer\",\"US_delay_timer\",\"US_delay_timer\",\"US_delay_timer\",\"US_delay_timer\",\"US_delay_timer\",\"US_delay_timer\",\"US_delay_timer\",\"US_delay_timer\",\"US_delay_timer\",\"US_delay_timer\",\"US_delay_timer\",\"US_delay_timer\",\"US_delay_timer\",\"US_delay_timer\",\"US_delay_timer\",\"US_delay_timer\",\"US_delay_timer\",\"US_delay_timer\",\"US_delay_timer\",\"US_delay_timer\",\"US_delay_timer\",\"US_delay_timer\",\"US_delay_timer\",\"US_delay_timer\"],\"type\":\"scatter\"},{\"marker\":{\"symbol\":\"triangle-right\"},\"mode\":\"markers\",\"name\":\"water_on\",\"x\":[45573,61651,111703,120059,121183,128555,128809,128899,130284,131851,132412,132788,132967,133201,133414,133722,135196,137566,138025,141384,147650,151977,155285,157112,160208,165392,165662,170317,171652,172466,180941,181229,193236,196528,199187],\"y\":[\"water_on\",\"water_on\",\"water_on\",\"water_on\",\"water_on\",\"water_on\",\"water_on\",\"water_on\",\"water_on\",\"water_on\",\"water_on\",\"water_on\",\"water_on\",\"water_on\",\"water_on\",\"water_on\",\"water_on\",\"water_on\",\"water_on\",\"water_on\",\"water_on\",\"water_on\",\"water_on\",\"water_on\",\"water_on\",\"water_on\",\"water_on\",\"water_on\",\"water_on\",\"water_on\",\"water_on\",\"water_on\",\"water_on\",\"water_on\",\"water_on\"],\"type\":\"scatter\"},{\"marker\":{\"symbol\":\"triangle-ne\"},\"mode\":\"markers\",\"name\":\"water success\",\"x\":[45573,61652,111703,120059,121183,128555,128809,128900,130284,131851,132412,132788,132967,133202,133414,133723,135196,137567,138026,141384,147651,151977,155285,157112,160208,165392,165662,170317,171652,172466,180941,181229,193236,196528,199187],\"y\":[\"water success\",\"water success\",\"water success\",\"water success\",\"water success\",\"water success\",\"water success\",\"water success\",\"water success\",\"water success\",\"water success\",\"water success\",\"water success\",\"water success\",\"water success\",\"water success\",\"water success\",\"water success\",\"water success\",\"water success\",\"water success\",\"water success\",\"water success\",\"water success\",\"water success\",\"water success\",\"water success\",\"water success\",\"water success\",\"water success\",\"water success\",\"water success\",\"water success\",\"water success\",\"water success\"],\"type\":\"scatter\"},{\"marker\":{\"symbol\":\"triangle-se\"},\"mode\":\"markers\",\"name\":\"spout_off\",\"x\":[45587,61665,62207,111875,120361,121270,128792,128810,128840,128861,128877,128896,128913,128933,128953,129345,130320,132365,132753,132951,133160,133318,133689,133936,135337,137656,138109,141397,141462,147664,147734,151991,152071,155299,155370,157126,157215,160222,160275,160294,165406,165676,170358,171691,172480,181000,181021,181252,181308,193250,196542,199201],\"y\":[\"spout_off\",\"spout_off\",\"spout_off\",\"spout_off\",\"spout_off\",\"spout_off\",\"spout_off\",\"spout_off\",\"spout_off\",\"spout_off\",\"spout_off\",\"spout_off\",\"spout_off\",\"spout_off\",\"spout_off\",\"spout_off\",\"spout_off\",\"spout_off\",\"spout_off\",\"spout_off\",\"spout_off\",\"spout_off\",\"spout_off\",\"spout_off\",\"spout_off\",\"spout_off\",\"spout_off\",\"spout_off\",\"spout_off\",\"spout_off\",\"spout_off\",\"spout_off\",\"spout_off\",\"spout_off\",\"spout_off\",\"spout_off\",\"spout_off\",\"spout_off\",\"spout_off\",\"spout_off\",\"spout_off\",\"spout_off\",\"spout_off\",\"spout_off\",\"spout_off\",\"spout_off\",\"spout_off\",\"spout_off\",\"spout_off\",\"spout_off\",\"spout_off\",\"spout_off\"],\"type\":\"scatter\"},{\"marker\":{\"symbol\":\"triangle-sw\"},\"mode\":\"markers\",\"name\":\"US_end_timer\",\"x\":[45591,45593,61671,111723,120079,121203,128575,128829,128919,130304,131871,132432,132808,132987,133221,133434,133743,135216,137587,138046,141404,147671,151997,155305,157132,160228,165411,165681,170336,171671,172485,180960,181248,193255,196547,199206],\"y\":[\"US_end_timer\",\"US_end_timer\",\"US_end_timer\",\"US_end_timer\",\"US_end_timer\",\"US_end_timer\",\"US_end_timer\",\"US_end_timer\",\"US_end_timer\",\"US_end_timer\",\"US_end_timer\",\"US_end_timer\",\"US_end_timer\",\"US_end_timer\",\"US_end_timer\",\"US_end_timer\",\"US_end_timer\",\"US_end_timer\",\"US_end_timer\",\"US_end_timer\",\"US_end_timer\",\"US_end_timer\",\"US_end_timer\",\"US_end_timer\",\"US_end_timer\",\"US_end_timer\",\"US_end_timer\",\"US_end_timer\",\"US_end_timer\",\"US_end_timer\",\"US_end_timer\",\"US_end_timer\",\"US_end_timer\",\"US_end_timer\",\"US_end_timer\",\"US_end_timer\"],\"type\":\"scatter\"},{\"marker\":{\"symbol\":\"triangle-nw\"},\"mode\":\"markers\",\"name\":\"button_release\",\"x\":[45629],\"y\":[\"button_release\"],\"type\":\"scatter\"},{\"marker\":{\"symbol\":\"pentagon\"},\"mode\":\"markers\",\"name\":\"busy_win_timer\",\"x\":[47572,63651,113702,122058,130555,133850,137195,139566,143383,149650,153976,157284,162207,167391,172316,174465,182940,195235,198527],\"y\":[\"busy_win_timer\",\"busy_win_timer\",\"busy_win_timer\",\"busy_win_timer\",\"busy_win_timer\",\"busy_win_timer\",\"busy_win_timer\",\"busy_win_timer\",\"busy_win_timer\",\"busy_win_timer\",\"busy_win_timer\",\"busy_win_timer\",\"busy_win_timer\",\"busy_win_timer\",\"busy_win_timer\",\"busy_win_timer\",\"busy_win_timer\",\"busy_win_timer\",\"busy_win_timer\"],\"type\":\"scatter\"},{\"marker\":{\"symbol\":\"hexagon\"},\"mode\":\"markers\",\"name\":\"Timestamp:0 Success:False\",\"x\":[47573,63652,113703,122059,130556,133851,137196,139567,143384,149651,153977,157285,162208,167392,172317,174466,182941,195236,198528],\"y\":[\"Timestamp:0 Success:False\",\"Timestamp:0 Success:False\",\"Timestamp:0 Success:False\",\"Timestamp:0 Success:False\",\"Timestamp:0 Success:False\",\"Timestamp:0 Success:False\",\"Timestamp:0 Success:False\",\"Timestamp:0 Success:False\",\"Timestamp:0 Success:False\",\"Timestamp:0 Success:False\",\"Timestamp:0 Success:False\",\"Timestamp:0 Success:False\",\"Timestamp:0 Success:False\",\"Timestamp:0 Success:False\",\"Timestamp:0 Success:False\",\"Timestamp:0 Success:False\",\"Timestamp:0 Success:False\",\"Timestamp:0 Success:False\",\"Timestamp:0 Success:False\"],\"type\":\"scatter\"}],                        {\"template\":{\"data\":{\"histogram2dcontour\":[{\"type\":\"histogram2dcontour\",\"colorbar\":{\"outlinewidth\":0,\"ticks\":\"\"},\"colorscale\":[[0.0,\"#0d0887\"],[0.1111111111111111,\"#46039f\"],[0.2222222222222222,\"#7201a8\"],[0.3333333333333333,\"#9c179e\"],[0.4444444444444444,\"#bd3786\"],[0.5555555555555556,\"#d8576b\"],[0.6666666666666666,\"#ed7953\"],[0.7777777777777778,\"#fb9f3a\"],[0.8888888888888888,\"#fdca26\"],[1.0,\"#f0f921\"]]}],\"choropleth\":[{\"type\":\"choropleth\",\"colorbar\":{\"outlinewidth\":0,\"ticks\":\"\"}}],\"histogram2d\":[{\"type\":\"histogram2d\",\"colorbar\":{\"outlinewidth\":0,\"ticks\":\"\"},\"colorscale\":[[0.0,\"#0d0887\"],[0.1111111111111111,\"#46039f\"],[0.2222222222222222,\"#7201a8\"],[0.3333333333333333,\"#9c179e\"],[0.4444444444444444,\"#bd3786\"],[0.5555555555555556,\"#d8576b\"],[0.6666666666666666,\"#ed7953\"],[0.7777777777777778,\"#fb9f3a\"],[0.8888888888888888,\"#fdca26\"],[1.0,\"#f0f921\"]]}],\"heatmap\":[{\"type\":\"heatmap\",\"colorbar\":{\"outlinewidth\":0,\"ticks\":\"\"},\"colorscale\":[[0.0,\"#0d0887\"],[0.1111111111111111,\"#46039f\"],[0.2222222222222222,\"#7201a8\"],[0.3333333333333333,\"#9c179e\"],[0.4444444444444444,\"#bd3786\"],[0.5555555555555556,\"#d8576b\"],[0.6666666666666666,\"#ed7953\"],[0.7777777777777778,\"#fb9f3a\"],[0.8888888888888888,\"#fdca26\"],[1.0,\"#f0f921\"]]}],\"heatmapgl\":[{\"type\":\"heatmapgl\",\"colorbar\":{\"outlinewidth\":0,\"ticks\":\"\"},\"colorscale\":[[0.0,\"#0d0887\"],[0.1111111111111111,\"#46039f\"],[0.2222222222222222,\"#7201a8\"],[0.3333333333333333,\"#9c179e\"],[0.4444444444444444,\"#bd3786\"],[0.5555555555555556,\"#d8576b\"],[0.6666666666666666,\"#ed7953\"],[0.7777777777777778,\"#fb9f3a\"],[0.8888888888888888,\"#fdca26\"],[1.0,\"#f0f921\"]]}],\"contourcarpet\":[{\"type\":\"contourcarpet\",\"colorbar\":{\"outlinewidth\":0,\"ticks\":\"\"}}],\"contour\":[{\"type\":\"contour\",\"colorbar\":{\"outlinewidth\":0,\"ticks\":\"\"},\"colorscale\":[[0.0,\"#0d0887\"],[0.1111111111111111,\"#46039f\"],[0.2222222222222222,\"#7201a8\"],[0.3333333333333333,\"#9c179e\"],[0.4444444444444444,\"#bd3786\"],[0.5555555555555556,\"#d8576b\"],[0.6666666666666666,\"#ed7953\"],[0.7777777777777778,\"#fb9f3a\"],[0.8888888888888888,\"#fdca26\"],[1.0,\"#f0f921\"]]}],\"surface\":[{\"type\":\"surface\",\"colorbar\":{\"outlinewidth\":0,\"ticks\":\"\"},\"colorscale\":[[0.0,\"#0d0887\"],[0.1111111111111111,\"#46039f\"],[0.2222222222222222,\"#7201a8\"],[0.3333333333333333,\"#9c179e\"],[0.4444444444444444,\"#bd3786\"],[0.5555555555555556,\"#d8576b\"],[0.6666666666666666,\"#ed7953\"],[0.7777777777777778,\"#fb9f3a\"],[0.8888888888888888,\"#fdca26\"],[1.0,\"#f0f921\"]]}],\"mesh3d\":[{\"type\":\"mesh3d\",\"colorbar\":{\"outlinewidth\":0,\"ticks\":\"\"}}],\"scatter\":[{\"fillpattern\":{\"fillmode\":\"overlay\",\"size\":10,\"solidity\":0.2},\"type\":\"scatter\"}],\"parcoords\":[{\"type\":\"parcoords\",\"line\":{\"colorbar\":{\"outlinewidth\":0,\"ticks\":\"\"}}}],\"scatterpolargl\":[{\"type\":\"scatterpolargl\",\"marker\":{\"colorbar\":{\"outlinewidth\":0,\"ticks\":\"\"}}}],\"bar\":[{\"error_x\":{\"color\":\"#2a3f5f\"},\"error_y\":{\"color\":\"#2a3f5f\"},\"marker\":{\"line\":{\"color\":\"#E5ECF6\",\"width\":0.5},\"pattern\":{\"fillmode\":\"overlay\",\"size\":10,\"solidity\":0.2}},\"type\":\"bar\"}],\"scattergeo\":[{\"type\":\"scattergeo\",\"marker\":{\"colorbar\":{\"outlinewidth\":0,\"ticks\":\"\"}}}],\"scatterpolar\":[{\"type\":\"scatterpolar\",\"marker\":{\"colorbar\":{\"outlinewidth\":0,\"ticks\":\"\"}}}],\"histogram\":[{\"marker\":{\"pattern\":{\"fillmode\":\"overlay\",\"size\":10,\"solidity\":0.2}},\"type\":\"histogram\"}],\"scattergl\":[{\"type\":\"scattergl\",\"marker\":{\"colorbar\":{\"outlinewidth\":0,\"ticks\":\"\"}}}],\"scatter3d\":[{\"type\":\"scatter3d\",\"line\":{\"colorbar\":{\"outlinewidth\":0,\"ticks\":\"\"}},\"marker\":{\"colorbar\":{\"outlinewidth\":0,\"ticks\":\"\"}}}],\"scattermapbox\":[{\"type\":\"scattermapbox\",\"marker\":{\"colorbar\":{\"outlinewidth\":0,\"ticks\":\"\"}}}],\"scatterternary\":[{\"type\":\"scatterternary\",\"marker\":{\"colorbar\":{\"outlinewidth\":0,\"ticks\":\"\"}}}],\"scattercarpet\":[{\"type\":\"scattercarpet\",\"marker\":{\"colorbar\":{\"outlinewidth\":0,\"ticks\":\"\"}}}],\"carpet\":[{\"aaxis\":{\"endlinecolor\":\"#2a3f5f\",\"gridcolor\":\"white\",\"linecolor\":\"white\",\"minorgridcolor\":\"white\",\"startlinecolor\":\"#2a3f5f\"},\"baxis\":{\"endlinecolor\":\"#2a3f5f\",\"gridcolor\":\"white\",\"linecolor\":\"white\",\"minorgridcolor\":\"white\",\"startlinecolor\":\"#2a3f5f\"},\"type\":\"carpet\"}],\"table\":[{\"cells\":{\"fill\":{\"color\":\"#EBF0F8\"},\"line\":{\"color\":\"white\"}},\"header\":{\"fill\":{\"color\":\"#C8D4E3\"},\"line\":{\"color\":\"white\"}},\"type\":\"table\"}],\"barpolar\":[{\"marker\":{\"line\":{\"color\":\"#E5ECF6\",\"width\":0.5},\"pattern\":{\"fillmode\":\"overlay\",\"size\":10,\"solidity\":0.2}},\"type\":\"barpolar\"}],\"pie\":[{\"automargin\":true,\"type\":\"pie\"}]},\"layout\":{\"autotypenumbers\":\"strict\",\"colorway\":[\"#636efa\",\"#EF553B\",\"#00cc96\",\"#ab63fa\",\"#FFA15A\",\"#19d3f3\",\"#FF6692\",\"#B6E880\",\"#FF97FF\",\"#FECB52\"],\"font\":{\"color\":\"#2a3f5f\"},\"hovermode\":\"closest\",\"hoverlabel\":{\"align\":\"left\"},\"paper_bgcolor\":\"white\",\"plot_bgcolor\":\"#E5ECF6\",\"polar\":{\"bgcolor\":\"#E5ECF6\",\"angularaxis\":{\"gridcolor\":\"white\",\"linecolor\":\"white\",\"ticks\":\"\"},\"radialaxis\":{\"gridcolor\":\"white\",\"linecolor\":\"white\",\"ticks\":\"\"}},\"ternary\":{\"bgcolor\":\"#E5ECF6\",\"aaxis\":{\"gridcolor\":\"white\",\"linecolor\":\"white\",\"ticks\":\"\"},\"baxis\":{\"gridcolor\":\"white\",\"linecolor\":\"white\",\"ticks\":\"\"},\"caxis\":{\"gridcolor\":\"white\",\"linecolor\":\"white\",\"ticks\":\"\"}},\"coloraxis\":{\"colorbar\":{\"outlinewidth\":0,\"ticks\":\"\"}},\"colorscale\":{\"sequential\":[[0.0,\"#0d0887\"],[0.1111111111111111,\"#46039f\"],[0.2222222222222222,\"#7201a8\"],[0.3333333333333333,\"#9c179e\"],[0.4444444444444444,\"#bd3786\"],[0.5555555555555556,\"#d8576b\"],[0.6666666666666666,\"#ed7953\"],[0.7777777777777778,\"#fb9f3a\"],[0.8888888888888888,\"#fdca26\"],[1.0,\"#f0f921\"]],\"sequentialminus\":[[0.0,\"#0d0887\"],[0.1111111111111111,\"#46039f\"],[0.2222222222222222,\"#7201a8\"],[0.3333333333333333,\"#9c179e\"],[0.4444444444444444,\"#bd3786\"],[0.5555555555555556,\"#d8576b\"],[0.6666666666666666,\"#ed7953\"],[0.7777777777777778,\"#fb9f3a\"],[0.8888888888888888,\"#fdca26\"],[1.0,\"#f0f921\"]],\"diverging\":[[0,\"#8e0152\"],[0.1,\"#c51b7d\"],[0.2,\"#de77ae\"],[0.3,\"#f1b6da\"],[0.4,\"#fde0ef\"],[0.5,\"#f7f7f7\"],[0.6,\"#e6f5d0\"],[0.7,\"#b8e186\"],[0.8,\"#7fbc41\"],[0.9,\"#4d9221\"],[1,\"#276419\"]]},\"xaxis\":{\"gridcolor\":\"white\",\"linecolor\":\"white\",\"ticks\":\"\",\"title\":{\"standoff\":15},\"zerolinecolor\":\"white\",\"automargin\":true,\"zerolinewidth\":2},\"yaxis\":{\"gridcolor\":\"white\",\"linecolor\":\"white\",\"ticks\":\"\",\"title\":{\"standoff\":15},\"zerolinecolor\":\"white\",\"automargin\":true,\"zerolinewidth\":2},\"scene\":{\"xaxis\":{\"backgroundcolor\":\"#E5ECF6\",\"gridcolor\":\"white\",\"linecolor\":\"white\",\"showbackground\":true,\"ticks\":\"\",\"zerolinecolor\":\"white\",\"gridwidth\":2},\"yaxis\":{\"backgroundcolor\":\"#E5ECF6\",\"gridcolor\":\"white\",\"linecolor\":\"white\",\"showbackground\":true,\"ticks\":\"\",\"zerolinecolor\":\"white\",\"gridwidth\":2},\"zaxis\":{\"backgroundcolor\":\"#E5ECF6\",\"gridcolor\":\"white\",\"linecolor\":\"white\",\"showbackground\":true,\"ticks\":\"\",\"zerolinecolor\":\"white\",\"gridwidth\":2}},\"shapedefaults\":{\"line\":{\"color\":\"#2a3f5f\"}},\"annotationdefaults\":{\"arrowcolor\":\"#2a3f5f\",\"arrowhead\":0,\"arrowwidth\":1},\"geo\":{\"bgcolor\":\"white\",\"landcolor\":\"#E5ECF6\",\"subunitcolor\":\"white\",\"showland\":true,\"showlakes\":true,\"lakecolor\":\"white\"},\"title\":{\"x\":0.05},\"mapbox\":{\"style\":\"light\"}}},\"xaxis\":{\"title\":{\"text\":\"Time (s)\"}},\"yaxis\":{\"fixedrange\":true}},                        {\"responsive\": true}                    ).then(function(){\n",
       "                            \n",
       "var gd = document.getElementById('6d30b690-8172-462b-adcc-a987200f76ff');\n",
       "var x = new MutationObserver(function (mutations, observer) {{\n",
       "        var display = window.getComputedStyle(gd).display;\n",
       "        if (!display || display === 'none') {{\n",
       "            console.log([gd, 'removed!']);\n",
       "            Plotly.purge(gd);\n",
       "            observer.disconnect();\n",
       "        }}\n",
       "}});\n",
       "\n",
       "// Listen for the removal of the full notebook cells\n",
       "var notebookContainer = gd.closest('#notebook-container');\n",
       "if (notebookContainer) {{\n",
       "    x.observe(notebookContainer, {childList: true});\n",
       "}}\n",
       "\n",
       "// Listen for the clearing of the current output cell\n",
       "var outputEl = gd.closest('.output');\n",
       "if (outputEl) {{\n",
       "    x.observe(outputEl, {childList: true});\n",
       "}}\n",
       "\n",
       "                        })                };                });            </script>        </div>"
      ]
     },
     "metadata": {},
     "output_type": "display_data"
    }
   ],
   "source": [
    "keys = df_events.event_name.unique()\n",
    "state_def = [{'name': 'hold_for_water', 'onset': 'hold_for_water', 'offset': 'waiting_for_spout'},\n",
    "                    {'name': 'waiting_for_spout', 'onset': 'waiting_for_spout',\n",
    "                    'offset': 'busy_win'},\n",
    "                    {'name': 'busy_win', 'onset': 'busy_win',\n",
    "                        'offset': 'break_after_water'},\n",
    "                    {'name': 'break_after_water', 'onset': 'break_after_water',    'offset': 'waiting_for_bar'},\n",
    "                    {'name': 'break_after_no_water',       'onset': 'break_after_no_water', 'offset': 'waiting_for_bar'}]\n",
    "\n",
    "\n",
    "plot_session(df_events, keys, state_def)"
   ]
  },
  {
   "cell_type": "raw",
   "metadata": {
    "tags": []
   },
   "source": [
    "raw_symbols  = SymbolValidator().values\n",
    "symbols = [raw_symbols[i+2] for i in range(0, len(raw_symbols), 12)]\n",
    "y_index = 0 \n",
    "fig = go.Figure()\n",
    "\n",
    "df = df_events.copy()\n",
    "for kind, k in enumerate(keys):\n",
    "    y_index += 1\n",
    "    df_evt2plot = df[df.event_name==k]\n",
    "    line1 = go.Scatter(x=df_evt2plot.time, y=[k]\n",
    "                * len(df_evt2plot), \n",
    "                       name=k, mode='markers', marker_symbol=symbols[y_index % 40])\n",
    "    fig.add_trace(line1)\n",
    "    \n",
    "fig.show()"
   ]
  }
 ],
 "metadata": {
  "kernelspec": {
   "display_name": "Python 3 (ipykernel)",
   "language": "python",
   "name": "python3"
  },
  "language_info": {
   "codemirror_mode": {
    "name": "ipython",
    "version": 3
   },
   "file_extension": ".py",
   "mimetype": "text/x-python",
   "name": "python",
   "nbconvert_exporter": "python",
   "pygments_lexer": "ipython3",
   "version": "3.8.16"
  },
  "vscode": {
   "interpreter": {
    "hash": "0d1e031f6f376662b97d9f481efb02d044bc4a5d17f5aae0c7d7abfcc2e5ac1c"
   }
  }
 },
 "nbformat": 4,
 "nbformat_minor": 4
}
