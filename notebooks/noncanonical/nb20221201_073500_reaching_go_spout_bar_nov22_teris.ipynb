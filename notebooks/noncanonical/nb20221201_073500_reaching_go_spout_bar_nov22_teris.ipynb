{
 "cells": [
  {
   "cell_type": "markdown",
   "metadata": {
    "tags": []
   },
   "source": [
    "# reaching_go_spout_bar_nov22"
   ]
  },
  {
   "cell_type": "markdown",
   "metadata": {},
   "source": [
    "Quick analysis of instrumental reaching"
   ]
  },
  {
   "cell_type": "code",
   "execution_count": 84,
   "metadata": {
    "tags": []
   },
   "outputs": [
    {
     "name": "stdout",
     "output_type": "stream",
     "text": [
      "The autoreload extension is already loaded. To reload it, use:\n",
      "  %reload_ext autoreload\n"
     ]
    }
   ],
   "source": [
    "# allow for automatic reloading of classes and function when updating the code\n",
    "%load_ext autoreload\n",
    "%autoreload 2 \n",
    "\n",
    "# Import Session and Experiment class with helper functions\n",
    "from trialexp.process.data_import import *\n",
    "from trialexp.process.pycontrol_utils import *\n",
    "import seaborn as sns\n"
   ]
  },
  {
   "cell_type": "markdown",
   "metadata": {},
   "source": [
    "### Create an experiment object\n"
   ]
  },
  {
   "cell_type": "code",
   "execution_count": 12,
   "metadata": {
    "tags": []
   },
   "outputs": [],
   "source": [
    "# Only analyze an experimental session\n",
    "\n",
    "pycontrol_dir = 'Z:\\\\Teris\\\\ASAP\\\\pycontrol\\\\reaching_go_spout_nov22\\\\'\n",
    "# filename = 'kms060-2023-02-07-124852.txt'\n",
    "filename = 'kms062-2023-02-06-112451.txt'\n",
    "\n"
   ]
  },
  {
   "cell_type": "markdown",
   "metadata": {},
   "source": [
    "### Analyze events and state"
   ]
  },
  {
   "cell_type": "code",
   "execution_count": 132,
   "metadata": {
    "tags": []
   },
   "outputs": [
    {
     "data": {
      "text/html": [
       "<div>\n",
       "<style scoped>\n",
       "    .dataframe tbody tr th:only-of-type {\n",
       "        vertical-align: middle;\n",
       "    }\n",
       "\n",
       "    .dataframe tbody tr th {\n",
       "        vertical-align: top;\n",
       "    }\n",
       "\n",
       "    .dataframe thead th {\n",
       "        text-align: right;\n",
       "    }\n",
       "</style>\n",
       "<table border=\"1\" class=\"dataframe\">\n",
       "  <thead>\n",
       "    <tr style=\"text-align: right;\">\n",
       "      <th></th>\n",
       "      <th>state</th>\n",
       "      <th>event_name</th>\n",
       "      <th>time</th>\n",
       "      <th>trial_number</th>\n",
       "    </tr>\n",
       "  </thead>\n",
       "  <tbody>\n",
       "    <tr>\n",
       "      <th>1</th>\n",
       "      <td>short_break</td>\n",
       "      <td>state_change</td>\n",
       "      <td>0.000</td>\n",
       "      <td>0</td>\n",
       "    </tr>\n",
       "    <tr>\n",
       "      <th>2</th>\n",
       "      <td>short_break</td>\n",
       "      <td>bar_off</td>\n",
       "      <td>0.345</td>\n",
       "      <td>0</td>\n",
       "    </tr>\n",
       "    <tr>\n",
       "      <th>3</th>\n",
       "      <td>short_break</td>\n",
       "      <td>bar</td>\n",
       "      <td>0.425</td>\n",
       "      <td>0</td>\n",
       "    </tr>\n",
       "    <tr>\n",
       "      <th>4</th>\n",
       "      <td>short_break</td>\n",
       "      <td>bar_off</td>\n",
       "      <td>0.795</td>\n",
       "      <td>0</td>\n",
       "    </tr>\n",
       "    <tr>\n",
       "      <th>5</th>\n",
       "      <td>short_break</td>\n",
       "      <td>bar</td>\n",
       "      <td>1.292</td>\n",
       "      <td>0</td>\n",
       "    </tr>\n",
       "    <tr>\n",
       "      <th>...</th>\n",
       "      <td>...</td>\n",
       "      <td>...</td>\n",
       "      <td>...</td>\n",
       "      <td>...</td>\n",
       "    </tr>\n",
       "    <tr>\n",
       "      <th>550</th>\n",
       "      <td>busy_win</td>\n",
       "      <td>bar</td>\n",
       "      <td>201.003</td>\n",
       "      <td>20</td>\n",
       "    </tr>\n",
       "    <tr>\n",
       "      <th>551</th>\n",
       "      <td>busy_win</td>\n",
       "      <td>bar_off</td>\n",
       "      <td>201.085</td>\n",
       "      <td>20</td>\n",
       "    </tr>\n",
       "    <tr>\n",
       "      <th>552</th>\n",
       "      <td>busy_win</td>\n",
       "      <td>bar</td>\n",
       "      <td>201.102</td>\n",
       "      <td>20</td>\n",
       "    </tr>\n",
       "    <tr>\n",
       "      <th>553</th>\n",
       "      <td>busy_win</td>\n",
       "      <td>bar_off</td>\n",
       "      <td>201.118</td>\n",
       "      <td>20</td>\n",
       "    </tr>\n",
       "    <tr>\n",
       "      <th>554</th>\n",
       "      <td>busy_win</td>\n",
       "      <td>bar</td>\n",
       "      <td>201.153</td>\n",
       "      <td>20</td>\n",
       "    </tr>\n",
       "  </tbody>\n",
       "</table>\n",
       "<p>519 rows × 4 columns</p>\n",
       "</div>"
      ],
      "text/plain": [
       "           state    event_name     time  trial_number\n",
       "1    short_break  state_change    0.000             0\n",
       "2    short_break       bar_off    0.345             0\n",
       "3    short_break           bar    0.425             0\n",
       "4    short_break       bar_off    0.795             0\n",
       "5    short_break           bar    1.292             0\n",
       "..           ...           ...      ...           ...\n",
       "550     busy_win           bar  201.003            20\n",
       "551     busy_win       bar_off  201.085            20\n",
       "552     busy_win           bar  201.102            20\n",
       "553     busy_win       bar_off  201.118            20\n",
       "554     busy_win           bar  201.153            20\n",
       "\n",
       "[519 rows x 4 columns]"
      ]
     },
     "execution_count": 132,
     "metadata": {},
     "output_type": "execute_result"
    }
   ],
   "source": [
    "#Create experiment object\n",
    "exp_cohort = Experiment(pycontrol_dir+filename, update = True) #TODO\n",
    "session = exp_cohort.sessions[0]\n",
    "\n",
    "# Parse event data\n",
    "df_events = parse_events(session)\n",
    "\n",
    "# separate into trials\n",
    "trigger = ('waiting_for_spout','state_change')\n",
    "df_events = add_trial_number(df_events, trigger)\n",
    "df_events.time = df_events.time /1000 # convert time to s\n",
    "df_events"
   ]
  },
  {
   "cell_type": "markdown",
   "metadata": {},
   "source": [
    "# Analyze rewards"
   ]
  },
  {
   "cell_type": "code",
   "execution_count": 133,
   "metadata": {
    "tags": []
   },
   "outputs": [],
   "source": [
    "df_reward = df_events[df_events.event_name == 'US_delay_timer']"
   ]
  },
  {
   "cell_type": "markdown",
   "metadata": {},
   "source": [
    "## Analyze the first spout time"
   ]
  },
  {
   "cell_type": "code",
   "execution_count": 134,
   "metadata": {
    "tags": []
   },
   "outputs": [],
   "source": [
    "df_first_spout = df_events[(df_events.state=='waiting_for_spout') & (df_events.event_name =='spout')].copy()\n",
    "df_trial_start = df_events[(df_events.state=='waiting_for_spout') & (df_events.event_name =='state_change')].copy()\n",
    "assert len(df_first_spout) == len(df_trial_start)\n",
    "\n",
    "df_first_spout['time_first_spout'] = (df_first_spout.time.values - df_trial_start.time.values)\n",
    "df_first_spout.trial_number = df_first_spout.trial_number.astype(str) #hack to force seaborn to treat this as categoric variable"
   ]
  },
  {
   "cell_type": "markdown",
   "metadata": {},
   "source": [
    "## Plotting"
   ]
  },
  {
   "cell_type": "code",
   "execution_count": 135,
   "metadata": {
    "tags": []
   },
   "outputs": [
    {
     "data": {
      "image/png": "[encoded data removed]",
      "text/plain": [
       "<Figure size 800x1000 with 2 Axes>"
      ]
     },
     "metadata": {},
     "output_type": "display_data"
    },
    {
     "data": {
      "text/plain": [
       "<Figure size 800x1200 with 0 Axes>"
      ]
     },
     "metadata": {},
     "output_type": "display_data"
    }
   ],
   "source": [
    "fig,ax = plt.subplots(1,2,figsize=(8,10))\n",
    "\n",
    "sns.barplot( y='trial_number', x='time_first_spout', data=df_first_spout, ax=ax[0])\n",
    "ax[0].set(xlabel='Time (s)',title='Time for first spout');\n",
    "\n",
    "plt.figure(figsize=(8,12))\n",
    "sns.countplot(y='trial_number', data=df_reward, ax = ax[1])\n",
    "ax[1].set(title='Reward triggered in each trial');\n",
    "\n"
   ]
  },
  {
   "cell_type": "markdown",
   "metadata": {
    "tags": []
   },
   "source": [
    "### Summary statistics"
   ]
  },
  {
   "cell_type": "code",
   "execution_count": 136,
   "metadata": {
    "tags": []
   },
   "outputs": [
    {
     "name": "stdout",
     "output_type": "stream",
     "text": [
      "Total reward: 35\n",
      "Total trials: 20\n",
      "Success rate: 1.0\n",
      "Average reward per trial: 1.75\n",
      "Average first spout time 7.89s\n"
     ]
    }
   ],
   "source": [
    "print(f'Total reward: {len(df_reward)}')\n",
    "print(f'Total trials: {df_events.iloc[-1].trial_number}')\n",
    "\n",
    "#Calculate overall success rate\n",
    "success_rate = (df_reward.groupby('trial_number').event_name.count()>0).mean()\n",
    "print(f'Success rate: {success_rate}')\n",
    "\n",
    "#average reward recieved per trial\n",
    "average_reward = df_reward.groupby('trial_number').event_name.count().mean()\n",
    "print(f'Average reward per trial: {average_reward}')\n",
    "\n",
    "#average time to first spout in waiting_for_spout\n",
    "print(f'Average first spout time {df_first_spout.time_first_spout.mean():.2f}s')"
   ]
  },
  {
   "cell_type": "markdown",
   "metadata": {},
   "source": [
    "# Event plots"
   ]
  },
  {
   "cell_type": "code",
   "execution_count": 141,
   "metadata": {
    "tags": []
   },
   "outputs": [
    {
     "name": "stdout",
     "output_type": "stream",
     "text": [
      "waiting_for_spout [1.966, 45.572, nan, 47.574, 61.651, nan, 63.653, 111.702, nan, 113.703, 120.058, nan, 122.06, 128.554, nan, 130.557, 131.85, nan, 135.177, 135.195, nan, 137.197, 137.566, nan, 139.568, 141.383, nan, 143.384, 147.65, nan, 149.652, 151.976, nan, 153.978, 155.284, nan, 157.286, 160.207, nan, 162.209, 165.391, nan, 167.393, 170.316, nan, 172.318, 172.465, nan, 174.467, 180.94, nan, 182.942, 193.235, nan, 195.237, 196.527, nan, 198.529, 199.186, nan]\n",
      "['waiting_for_spout', 'waiting_for_spout', 'waiting_for_spout', 'waiting_for_spout', 'waiting_for_spout', 'waiting_for_spout', 'waiting_for_spout', 'waiting_for_spout', 'waiting_for_spout', 'waiting_for_spout', 'waiting_for_spout', 'waiting_for_spout', 'waiting_for_spout', 'waiting_for_spout', 'waiting_for_spout', 'waiting_for_spout', 'waiting_for_spout', 'waiting_for_spout', 'waiting_for_spout', 'waiting_for_spout', 'waiting_for_spout', 'waiting_for_spout', 'waiting_for_spout', 'waiting_for_spout', 'waiting_for_spout', 'waiting_for_spout', 'waiting_for_spout', 'waiting_for_spout', 'waiting_for_spout', 'waiting_for_spout', 'waiting_for_spout', 'waiting_for_spout', 'waiting_for_spout', 'waiting_for_spout', 'waiting_for_spout', 'waiting_for_spout', 'waiting_for_spout', 'waiting_for_spout', 'waiting_for_spout', 'waiting_for_spout', 'waiting_for_spout', 'waiting_for_spout', 'waiting_for_spout', 'waiting_for_spout', 'waiting_for_spout', 'waiting_for_spout', 'waiting_for_spout', 'waiting_for_spout', 'waiting_for_spout', 'waiting_for_spout', 'waiting_for_spout', 'waiting_for_spout', 'waiting_for_spout', 'waiting_for_spout', 'waiting_for_spout', 'waiting_for_spout', 'waiting_for_spout', 'waiting_for_spout', 'waiting_for_spout', 'waiting_for_spout']\n"
     ]
    },
    {
     "data": {
      "application/vnd.plotly.v1+json": {
       "config": {
        "plotlyServerURL": "https://plot.ly"
       },
       "data": [
        {
         "marker": {
          "symbol": "square"
         },
         "mode": "markers",
         "name": "bar_off",
         "type": "scatter",
         "x": [
          0.345,
          0.795,
          1.307,
          2.527,
          2.612,
          26.651,
          26.846,
          27.663,
          28.177,
          37.395,
          38.063,
          38.445,
          40.344,
          40.81,
          49.453,
          61.054,
          61.524,
          62.36,
          63.227,
          63.245,
          84.966,
          85.021,
          85.091,
          85.321,
          85.382,
          93.539,
          93.849,
          93.911,
          98.949,
          99.186,
          99.396,
          99.56,
          99.908,
          100.017,
          100.141,
          101.021,
          103.433,
          103.873,
          110.984,
          111.104,
          111.141,
          111.587,
          112.02,
          112.462,
          112.505,
          114.192,
          119.992,
          121.121,
          121.497,
          121.741,
          128.454,
          129.254,
          131.284,
          131.608,
          131.648,
          131.704,
          131.746,
          132.57,
          132.708,
          162.62,
          162.641,
          162.84,
          163.445,
          163.579,
          164.085,
          165.257,
          174.753,
          180.763,
          183.432,
          187.777,
          188.768,
          190.23,
          194.349,
          194.46,
          196.364,
          200.986,
          201.085,
          201.118
         ],
         "y": [
          "bar_off",
          "bar_off",
          "bar_off",
          "bar_off",
          "bar_off",
          "bar_off",
          "bar_off",
          "bar_off",
          "bar_off",
          "bar_off",
          "bar_off",
          "bar_off",
          "bar_off",
          "bar_off",
          "bar_off",
          "bar_off",
          "bar_off",
          "bar_off",
          "bar_off",
          "bar_off",
          "bar_off",
          "bar_off",
          "bar_off",
          "bar_off",
          "bar_off",
          "bar_off",
          "bar_off",
          "bar_off",
          "bar_off",
          "bar_off",
          "bar_off",
          "bar_off",
          "bar_off",
          "bar_off",
          "bar_off",
          "bar_off",
          "bar_off",
          "bar_off",
          "bar_off",
          "bar_off",
          "bar_off",
          "bar_off",
          "bar_off",
          "bar_off",
          "bar_off",
          "bar_off",
          "bar_off",
          "bar_off",
          "bar_off",
          "bar_off",
          "bar_off",
          "bar_off",
          "bar_off",
          "bar_off",
          "bar_off",
          "bar_off",
          "bar_off",
          "bar_off",
          "bar_off",
          "bar_off",
          "bar_off",
          "bar_off",
          "bar_off",
          "bar_off",
          "bar_off",
          "bar_off",
          "bar_off",
          "bar_off",
          "bar_off",
          "bar_off",
          "bar_off",
          "bar_off",
          "bar_off",
          "bar_off",
          "bar_off",
          "bar_off",
          "bar_off",
          "bar_off"
         ]
        },
        {
         "marker": {
          "symbol": "diamond"
         },
         "mode": "markers",
         "name": "bar",
         "type": "scatter",
         "x": [
          0.425,
          1.292,
          1.374,
          2.564,
          2.684,
          26.754,
          26.868,
          27.707,
          28.215,
          37.533,
          38.43,
          39.748,
          40.391,
          40.833,
          49.536,
          61.127,
          62.314,
          62.396,
          63.242,
          63.308,
          85.006,
          85.048,
          85.126,
          85.35,
          85.447,
          93.564,
          93.866,
          93.948,
          98.994,
          99.205,
          99.412,
          99.575,
          99.923,
          100.044,
          100.156,
          101.051,
          103.46,
          103.902,
          111.053,
          111.125,
          111.191,
          111.962,
          112.035,
          112.489,
          112.532,
          114.226,
          120.44,
          121.41,
          121.513,
          121.854,
          128.904,
          129.323,
          131.351,
          131.63,
          131.689,
          131.73,
          132.555,
          132.59,
          162.585,
          162.635,
          162.681,
          162.866,
          163.527,
          163.618,
          164.111,
          174.718,
          174.768,
          182.979,
          187.749,
          187.806,
          188.822,
          194.184,
          194.416,
          194.545,
          200.971,
          201.003,
          201.102,
          201.153
         ],
         "y": [
          "bar",
          "bar",
          "bar",
          "bar",
          "bar",
          "bar",
          "bar",
          "bar",
          "bar",
          "bar",
          "bar",
          "bar",
          "bar",
          "bar",
          "bar",
          "bar",
          "bar",
          "bar",
          "bar",
          "bar",
          "bar",
          "bar",
          "bar",
          "bar",
          "bar",
          "bar",
          "bar",
          "bar",
          "bar",
          "bar",
          "bar",
          "bar",
          "bar",
          "bar",
          "bar",
          "bar",
          "bar",
          "bar",
          "bar",
          "bar",
          "bar",
          "bar",
          "bar",
          "bar",
          "bar",
          "bar",
          "bar",
          "bar",
          "bar",
          "bar",
          "bar",
          "bar",
          "bar",
          "bar",
          "bar",
          "bar",
          "bar",
          "bar",
          "bar",
          "bar",
          "bar",
          "bar",
          "bar",
          "bar",
          "bar",
          "bar",
          "bar",
          "bar",
          "bar",
          "bar",
          "bar",
          "bar",
          "bar",
          "bar",
          "bar",
          "bar",
          "bar",
          "bar"
         ]
        },
        {
         "marker": {
          "symbol": "cross"
         },
         "mode": "markers",
         "name": "CS_offset_timer",
         "type": "scatter",
         "x": [
          2,
          45.873,
          61.951,
          112.003,
          120.359,
          121.482,
          128.855,
          129.108,
          129.199,
          130.583,
          132.151,
          132.712,
          133.087,
          133.266,
          133.501,
          133.713,
          134.022,
          135.496,
          137.866,
          138.325,
          141.683,
          147.95,
          152.277,
          155.584,
          157.412,
          160.507,
          165.691,
          165.961,
          170.616,
          171.952,
          172.766,
          181.241,
          181.528,
          193.535,
          196.827,
          199.487
         ],
         "y": [
          "CS_offset_timer",
          "CS_offset_timer",
          "CS_offset_timer",
          "CS_offset_timer",
          "CS_offset_timer",
          "CS_offset_timer",
          "CS_offset_timer",
          "CS_offset_timer",
          "CS_offset_timer",
          "CS_offset_timer",
          "CS_offset_timer",
          "CS_offset_timer",
          "CS_offset_timer",
          "CS_offset_timer",
          "CS_offset_timer",
          "CS_offset_timer",
          "CS_offset_timer",
          "CS_offset_timer",
          "CS_offset_timer",
          "CS_offset_timer",
          "CS_offset_timer",
          "CS_offset_timer",
          "CS_offset_timer",
          "CS_offset_timer",
          "CS_offset_timer",
          "CS_offset_timer",
          "CS_offset_timer",
          "CS_offset_timer",
          "CS_offset_timer",
          "CS_offset_timer",
          "CS_offset_timer",
          "CS_offset_timer",
          "CS_offset_timer",
          "CS_offset_timer",
          "CS_offset_timer",
          "CS_offset_timer"
         ]
        },
        {
         "marker": {
          "symbol": "x"
         },
         "mode": "markers",
         "name": "button_press",
         "type": "scatter",
         "x": [
          45.571
         ],
         "y": [
          "button_press"
         ]
        },
        {
         "marker": {
          "symbol": "triangle-up"
         },
         "mode": "markers",
         "name": "spout",
         "type": "scatter",
         "x": [
          45.571,
          61.65,
          61.677,
          111.702,
          120.058,
          121.182,
          128.554,
          128.808,
          128.825,
          128.846,
          128.861,
          128.881,
          128.898,
          128.918,
          128.937,
          128.968,
          130.283,
          131.85,
          132.411,
          132.787,
          132.966,
          133.2,
          133.413,
          133.721,
          135.195,
          137.565,
          138.024,
          141.382,
          141.447,
          147.649,
          147.714,
          151.976,
          152.041,
          155.283,
          155.351,
          157.111,
          157.179,
          160.206,
          160.26,
          160.275,
          165.39,
          165.661,
          170.315,
          171.651,
          172.465,
          180.94,
          181.015,
          181.228,
          181.293,
          193.234,
          196.526,
          199.186
         ],
         "y": [
          "spout",
          "spout",
          "spout",
          "spout",
          "spout",
          "spout",
          "spout",
          "spout",
          "spout",
          "spout",
          "spout",
          "spout",
          "spout",
          "spout",
          "spout",
          "spout",
          "spout",
          "spout",
          "spout",
          "spout",
          "spout",
          "spout",
          "spout",
          "spout",
          "spout",
          "spout",
          "spout",
          "spout",
          "spout",
          "spout",
          "spout",
          "spout",
          "spout",
          "spout",
          "spout",
          "spout",
          "spout",
          "spout",
          "spout",
          "spout",
          "spout",
          "spout",
          "spout",
          "spout",
          "spout",
          "spout",
          "spout",
          "spout",
          "spout",
          "spout",
          "spout",
          "spout"
         ]
        },
        {
         "marker": {
          "symbol": "triangle-down"
         },
         "mode": "markers",
         "name": "US_delay_timer",
         "type": "scatter",
         "x": [
          45.573,
          61.651,
          111.703,
          120.059,
          121.182,
          128.555,
          128.808,
          128.899,
          130.283,
          131.851,
          132.412,
          132.787,
          132.967,
          133.201,
          133.413,
          133.722,
          135.196,
          137.566,
          138.025,
          141.383,
          147.65,
          151.977,
          155.284,
          157.112,
          160.207,
          165.391,
          165.661,
          170.317,
          171.652,
          172.466,
          180.941,
          181.228,
          193.236,
          196.527,
          199.187
         ],
         "y": [
          "US_delay_timer",
          "US_delay_timer",
          "US_delay_timer",
          "US_delay_timer",
          "US_delay_timer",
          "US_delay_timer",
          "US_delay_timer",
          "US_delay_timer",
          "US_delay_timer",
          "US_delay_timer",
          "US_delay_timer",
          "US_delay_timer",
          "US_delay_timer",
          "US_delay_timer",
          "US_delay_timer",
          "US_delay_timer",
          "US_delay_timer",
          "US_delay_timer",
          "US_delay_timer",
          "US_delay_timer",
          "US_delay_timer",
          "US_delay_timer",
          "US_delay_timer",
          "US_delay_timer",
          "US_delay_timer",
          "US_delay_timer",
          "US_delay_timer",
          "US_delay_timer",
          "US_delay_timer",
          "US_delay_timer",
          "US_delay_timer",
          "US_delay_timer",
          "US_delay_timer",
          "US_delay_timer",
          "US_delay_timer"
         ]
        },
        {
         "marker": {
          "symbol": "triangle-left"
         },
         "mode": "markers",
         "name": "water_on",
         "type": "scatter",
         "x": [
          45.573,
          61.651,
          111.703,
          120.059,
          121.183,
          128.555,
          128.809,
          128.899,
          130.284,
          131.851,
          132.412,
          132.788,
          132.967,
          133.201,
          133.414,
          133.722,
          135.196,
          137.566,
          138.025,
          141.384,
          147.65,
          151.977,
          155.285,
          157.112,
          160.208,
          165.392,
          165.662,
          170.317,
          171.652,
          172.466,
          180.941,
          181.229,
          193.236,
          196.528,
          199.187
         ],
         "y": [
          "water_on",
          "water_on",
          "water_on",
          "water_on",
          "water_on",
          "water_on",
          "water_on",
          "water_on",
          "water_on",
          "water_on",
          "water_on",
          "water_on",
          "water_on",
          "water_on",
          "water_on",
          "water_on",
          "water_on",
          "water_on",
          "water_on",
          "water_on",
          "water_on",
          "water_on",
          "water_on",
          "water_on",
          "water_on",
          "water_on",
          "water_on",
          "water_on",
          "water_on",
          "water_on",
          "water_on",
          "water_on",
          "water_on",
          "water_on",
          "water_on"
         ]
        },
        {
         "marker": {
          "symbol": "triangle-right"
         },
         "mode": "markers",
         "name": "water success",
         "type": "scatter",
         "x": [
          45.573,
          61.652,
          111.703,
          120.059,
          121.183,
          128.555,
          128.809,
          128.9,
          130.284,
          131.851,
          132.412,
          132.788,
          132.967,
          133.202,
          133.414,
          133.723,
          135.196,
          137.567,
          138.026,
          141.384,
          147.651,
          151.977,
          155.285,
          157.112,
          160.208,
          165.392,
          165.662,
          170.317,
          171.652,
          172.466,
          180.941,
          181.229,
          193.236,
          196.528,
          199.187
         ],
         "y": [
          "water success",
          "water success",
          "water success",
          "water success",
          "water success",
          "water success",
          "water success",
          "water success",
          "water success",
          "water success",
          "water success",
          "water success",
          "water success",
          "water success",
          "water success",
          "water success",
          "water success",
          "water success",
          "water success",
          "water success",
          "water success",
          "water success",
          "water success",
          "water success",
          "water success",
          "water success",
          "water success",
          "water success",
          "water success",
          "water success",
          "water success",
          "water success",
          "water success",
          "water success",
          "water success"
         ]
        },
        {
         "marker": {
          "symbol": "triangle-ne"
         },
         "mode": "markers",
         "name": "spout_off",
         "type": "scatter",
         "x": [
          45.587,
          61.665,
          62.207,
          111.875,
          120.361,
          121.27,
          128.792,
          128.81,
          128.84,
          128.861,
          128.877,
          128.896,
          128.913,
          128.933,
          128.953,
          129.345,
          130.32,
          132.365,
          132.753,
          132.951,
          133.16,
          133.318,
          133.689,
          133.936,
          135.337,
          137.656,
          138.109,
          141.397,
          141.462,
          147.664,
          147.734,
          151.991,
          152.071,
          155.299,
          155.37,
          157.126,
          157.215,
          160.222,
          160.275,
          160.294,
          165.406,
          165.676,
          170.358,
          171.691,
          172.48,
          181,
          181.021,
          181.252,
          181.308,
          193.25,
          196.542,
          199.201
         ],
         "y": [
          "spout_off",
          "spout_off",
          "spout_off",
          "spout_off",
          "spout_off",
          "spout_off",
          "spout_off",
          "spout_off",
          "spout_off",
          "spout_off",
          "spout_off",
          "spout_off",
          "spout_off",
          "spout_off",
          "spout_off",
          "spout_off",
          "spout_off",
          "spout_off",
          "spout_off",
          "spout_off",
          "spout_off",
          "spout_off",
          "spout_off",
          "spout_off",
          "spout_off",
          "spout_off",
          "spout_off",
          "spout_off",
          "spout_off",
          "spout_off",
          "spout_off",
          "spout_off",
          "spout_off",
          "spout_off",
          "spout_off",
          "spout_off",
          "spout_off",
          "spout_off",
          "spout_off",
          "spout_off",
          "spout_off",
          "spout_off",
          "spout_off",
          "spout_off",
          "spout_off",
          "spout_off",
          "spout_off",
          "spout_off",
          "spout_off",
          "spout_off",
          "spout_off",
          "spout_off"
         ]
        },
        {
         "marker": {
          "symbol": "triangle-se"
         },
         "mode": "markers",
         "name": "US_end_timer",
         "type": "scatter",
         "x": [
          45.591,
          45.593,
          61.671,
          111.723,
          120.079,
          121.203,
          128.575,
          128.829,
          128.919,
          130.304,
          131.871,
          132.432,
          132.808,
          132.987,
          133.221,
          133.434,
          133.743,
          135.216,
          137.587,
          138.046,
          141.404,
          147.671,
          151.997,
          155.305,
          157.132,
          160.228,
          165.411,
          165.681,
          170.336,
          171.671,
          172.485,
          180.96,
          181.248,
          193.255,
          196.547,
          199.206
         ],
         "y": [
          "US_end_timer",
          "US_end_timer",
          "US_end_timer",
          "US_end_timer",
          "US_end_timer",
          "US_end_timer",
          "US_end_timer",
          "US_end_timer",
          "US_end_timer",
          "US_end_timer",
          "US_end_timer",
          "US_end_timer",
          "US_end_timer",
          "US_end_timer",
          "US_end_timer",
          "US_end_timer",
          "US_end_timer",
          "US_end_timer",
          "US_end_timer",
          "US_end_timer",
          "US_end_timer",
          "US_end_timer",
          "US_end_timer",
          "US_end_timer",
          "US_end_timer",
          "US_end_timer",
          "US_end_timer",
          "US_end_timer",
          "US_end_timer",
          "US_end_timer",
          "US_end_timer",
          "US_end_timer",
          "US_end_timer",
          "US_end_timer",
          "US_end_timer",
          "US_end_timer"
         ]
        },
        {
         "marker": {
          "symbol": "triangle-sw"
         },
         "mode": "markers",
         "name": "button_release",
         "type": "scatter",
         "x": [
          45.629
         ],
         "y": [
          "button_release"
         ]
        },
        {
         "marker": {
          "symbol": "triangle-nw"
         },
         "mode": "markers",
         "name": "busy_win_timer",
         "type": "scatter",
         "x": [
          47.572,
          63.651,
          113.702,
          122.058,
          130.555,
          133.85,
          137.195,
          139.566,
          143.383,
          149.65,
          153.976,
          157.284,
          162.207,
          167.391,
          172.316,
          174.465,
          182.94,
          195.235,
          198.527
         ],
         "y": [
          "busy_win_timer",
          "busy_win_timer",
          "busy_win_timer",
          "busy_win_timer",
          "busy_win_timer",
          "busy_win_timer",
          "busy_win_timer",
          "busy_win_timer",
          "busy_win_timer",
          "busy_win_timer",
          "busy_win_timer",
          "busy_win_timer",
          "busy_win_timer",
          "busy_win_timer",
          "busy_win_timer",
          "busy_win_timer",
          "busy_win_timer",
          "busy_win_timer",
          "busy_win_timer"
         ]
        },
        {
         "marker": {
          "symbol": "pentagon"
         },
         "mode": "markers",
         "name": "Timestamp:0 Success:False",
         "type": "scatter",
         "x": [
          47.573,
          63.652,
          113.703,
          122.059,
          130.556,
          133.851,
          137.196,
          139.567,
          143.384,
          149.651,
          153.977,
          157.285,
          162.208,
          167.392,
          172.317,
          174.466,
          182.941,
          195.236,
          198.528
         ],
         "y": [
          "Timestamp:0 Success:False",
          "Timestamp:0 Success:False",
          "Timestamp:0 Success:False",
          "Timestamp:0 Success:False",
          "Timestamp:0 Success:False",
          "Timestamp:0 Success:False",
          "Timestamp:0 Success:False",
          "Timestamp:0 Success:False",
          "Timestamp:0 Success:False",
          "Timestamp:0 Success:False",
          "Timestamp:0 Success:False",
          "Timestamp:0 Success:False",
          "Timestamp:0 Success:False",
          "Timestamp:0 Success:False",
          "Timestamp:0 Success:False",
          "Timestamp:0 Success:False",
          "Timestamp:0 Success:False",
          "Timestamp:0 Success:False",
          "Timestamp:0 Success:False"
         ]
        },
        {
         "line": {
          "width": 5
         },
         "mode": "lines",
         "name": "waiting_for_spout",
         "type": "scatter",
         "x": [
          0.001966,
          0.045572,
          null,
          0.047574,
          0.061651000000000004,
          null,
          0.063653,
          0.111702,
          null,
          0.113703,
          0.12005800000000001,
          null,
          0.12206,
          0.128554,
          null,
          0.13055699999999998,
          0.13185,
          null,
          0.135177,
          0.13519499999999998,
          null,
          0.137197,
          0.137566,
          null,
          0.13956800000000003,
          0.141383,
          null,
          0.14338399999999998,
          0.14765,
          null,
          0.14965199999999998,
          0.151976,
          null,
          0.153978,
          0.155284,
          null,
          0.157286,
          0.160207,
          null,
          0.162209,
          0.16539099999999998,
          null,
          0.16739300000000001,
          0.170316,
          null,
          0.172318,
          0.172465,
          null,
          0.174467,
          0.18094,
          null,
          0.182942,
          0.19323500000000002,
          null,
          0.195237,
          0.19652699999999998,
          null,
          0.19852899999999998,
          0.199186,
          null
         ],
         "y": [
          "waiting_for_spout",
          "waiting_for_spout",
          "waiting_for_spout",
          "waiting_for_spout",
          "waiting_for_spout",
          "waiting_for_spout",
          "waiting_for_spout",
          "waiting_for_spout",
          "waiting_for_spout",
          "waiting_for_spout",
          "waiting_for_spout",
          "waiting_for_spout",
          "waiting_for_spout",
          "waiting_for_spout",
          "waiting_for_spout",
          "waiting_for_spout",
          "waiting_for_spout",
          "waiting_for_spout",
          "waiting_for_spout",
          "waiting_for_spout",
          "waiting_for_spout",
          "waiting_for_spout",
          "waiting_for_spout",
          "waiting_for_spout",
          "waiting_for_spout",
          "waiting_for_spout",
          "waiting_for_spout",
          "waiting_for_spout",
          "waiting_for_spout",
          "waiting_for_spout",
          "waiting_for_spout",
          "waiting_for_spout",
          "waiting_for_spout",
          "waiting_for_spout",
          "waiting_for_spout",
          "waiting_for_spout",
          "waiting_for_spout",
          "waiting_for_spout",
          "waiting_for_spout",
          "waiting_for_spout",
          "waiting_for_spout",
          "waiting_for_spout",
          "waiting_for_spout",
          "waiting_for_spout",
          "waiting_for_spout",
          "waiting_for_spout",
          "waiting_for_spout",
          "waiting_for_spout",
          "waiting_for_spout",
          "waiting_for_spout",
          "waiting_for_spout",
          "waiting_for_spout",
          "waiting_for_spout",
          "waiting_for_spout",
          "waiting_for_spout",
          "waiting_for_spout",
          "waiting_for_spout",
          "waiting_for_spout",
          "waiting_for_spout",
          "waiting_for_spout"
         ]
        }
       ],
       "layout": {
        "autosize": true,
        "template": {
         "data": {
          "bar": [
           {
            "error_x": {
             "color": "#2a3f5f"
            },
            "error_y": {
             "color": "#2a3f5f"
            },
            "marker": {
             "line": {
              "color": "#E5ECF6",
              "width": 0.5
             },
             "pattern": {
              "fillmode": "overlay",
              "size": 10,
              "solidity": 0.2
             }
            },
            "type": "bar"
           }
          ],
          "barpolar": [
           {
            "marker": {
             "line": {
              "color": "#E5ECF6",
              "width": 0.5
             },
             "pattern": {
              "fillmode": "overlay",
              "size": 10,
              "solidity": 0.2
             }
            },
            "type": "barpolar"
           }
          ],
          "carpet": [
           {
            "aaxis": {
             "endlinecolor": "#2a3f5f",
             "gridcolor": "white",
             "linecolor": "white",
             "minorgridcolor": "white",
             "startlinecolor": "#2a3f5f"
            },
            "baxis": {
             "endlinecolor": "#2a3f5f",
             "gridcolor": "white",
             "linecolor": "white",
             "minorgridcolor": "white",
             "startlinecolor": "#2a3f5f"
            },
            "type": "carpet"
           }
          ],
          "choropleth": [
           {
            "colorbar": {
             "outlinewidth": 0,
             "ticks": ""
            },
            "type": "choropleth"
           }
          ],
          "contour": [
           {
            "colorbar": {
             "outlinewidth": 0,
             "ticks": ""
            },
            "colorscale": [
             [
              0,
              "#0d0887"
             ],
             [
              0.1111111111111111,
              "#46039f"
             ],
             [
              0.2222222222222222,
              "#7201a8"
             ],
             [
              0.3333333333333333,
              "#9c179e"
             ],
             [
              0.4444444444444444,
              "#bd3786"
             ],
             [
              0.5555555555555556,
              "#d8576b"
             ],
             [
              0.6666666666666666,
              "#ed7953"
             ],
             [
              0.7777777777777778,
              "#fb9f3a"
             ],
             [
              0.8888888888888888,
              "#fdca26"
             ],
             [
              1,
              "#f0f921"
             ]
            ],
            "type": "contour"
           }
          ],
          "contourcarpet": [
           {
            "colorbar": {
             "outlinewidth": 0,
             "ticks": ""
            },
            "type": "contourcarpet"
           }
          ],
          "heatmap": [
           {
            "colorbar": {
             "outlinewidth": 0,
             "ticks": ""
            },
            "colorscale": [
             [
              0,
              "#0d0887"
             ],
             [
              0.1111111111111111,
              "#46039f"
             ],
             [
              0.2222222222222222,
              "#7201a8"
             ],
             [
              0.3333333333333333,
              "#9c179e"
             ],
             [
              0.4444444444444444,
              "#bd3786"
             ],
             [
              0.5555555555555556,
              "#d8576b"
             ],
             [
              0.6666666666666666,
              "#ed7953"
             ],
             [
              0.7777777777777778,
              "#fb9f3a"
             ],
             [
              0.8888888888888888,
              "#fdca26"
             ],
             [
              1,
              "#f0f921"
             ]
            ],
            "type": "heatmap"
           }
          ],
          "heatmapgl": [
           {
            "colorbar": {
             "outlinewidth": 0,
             "ticks": ""
            },
            "colorscale": [
             [
              0,
              "#0d0887"
             ],
             [
              0.1111111111111111,
              "#46039f"
             ],
             [
              0.2222222222222222,
              "#7201a8"
             ],
             [
              0.3333333333333333,
              "#9c179e"
             ],
             [
              0.4444444444444444,
              "#bd3786"
             ],
             [
              0.5555555555555556,
              "#d8576b"
             ],
             [
              0.6666666666666666,
              "#ed7953"
             ],
             [
              0.7777777777777778,
              "#fb9f3a"
             ],
             [
              0.8888888888888888,
              "#fdca26"
             ],
             [
              1,
              "#f0f921"
             ]
            ],
            "type": "heatmapgl"
           }
          ],
          "histogram": [
           {
            "marker": {
             "pattern": {
              "fillmode": "overlay",
              "size": 10,
              "solidity": 0.2
             }
            },
            "type": "histogram"
           }
          ],
          "histogram2d": [
           {
            "colorbar": {
             "outlinewidth": 0,
             "ticks": ""
            },
            "colorscale": [
             [
              0,
              "#0d0887"
             ],
             [
              0.1111111111111111,
              "#46039f"
             ],
             [
              0.2222222222222222,
              "#7201a8"
             ],
             [
              0.3333333333333333,
              "#9c179e"
             ],
             [
              0.4444444444444444,
              "#bd3786"
             ],
             [
              0.5555555555555556,
              "#d8576b"
             ],
             [
              0.6666666666666666,
              "#ed7953"
             ],
             [
              0.7777777777777778,
              "#fb9f3a"
             ],
             [
              0.8888888888888888,
              "#fdca26"
             ],
             [
              1,
              "#f0f921"
             ]
            ],
            "type": "histogram2d"
           }
          ],
          "histogram2dcontour": [
           {
            "colorbar": {
             "outlinewidth": 0,
             "ticks": ""
            },
            "colorscale": [
             [
              0,
              "#0d0887"
             ],
             [
              0.1111111111111111,
              "#46039f"
             ],
             [
              0.2222222222222222,
              "#7201a8"
             ],
             [
              0.3333333333333333,
              "#9c179e"
             ],
             [
              0.4444444444444444,
              "#bd3786"
             ],
             [
              0.5555555555555556,
              "#d8576b"
             ],
             [
              0.6666666666666666,
              "#ed7953"
             ],
             [
              0.7777777777777778,
              "#fb9f3a"
             ],
             [
              0.8888888888888888,
              "#fdca26"
             ],
             [
              1,
              "#f0f921"
             ]
            ],
            "type": "histogram2dcontour"
           }
          ],
          "mesh3d": [
           {
            "colorbar": {
             "outlinewidth": 0,
             "ticks": ""
            },
            "type": "mesh3d"
           }
          ],
          "parcoords": [
           {
            "line": {
             "colorbar": {
              "outlinewidth": 0,
              "ticks": ""
             }
            },
            "type": "parcoords"
           }
          ],
          "pie": [
           {
            "automargin": true,
            "type": "pie"
           }
          ],
          "scatter": [
           {
            "fillpattern": {
             "fillmode": "overlay",
             "size": 10,
             "solidity": 0.2
            },
            "type": "scatter"
           }
          ],
          "scatter3d": [
           {
            "line": {
             "colorbar": {
              "outlinewidth": 0,
              "ticks": ""
             }
            },
            "marker": {
             "colorbar": {
              "outlinewidth": 0,
              "ticks": ""
             }
            },
            "type": "scatter3d"
           }
          ],
          "scattercarpet": [
           {
            "marker": {
             "colorbar": {
              "outlinewidth": 0,
              "ticks": ""
             }
            },
            "type": "scattercarpet"
           }
          ],
          "scattergeo": [
           {
            "marker": {
             "colorbar": {
              "outlinewidth": 0,
              "ticks": ""
             }
            },
            "type": "scattergeo"
           }
          ],
          "scattergl": [
           {
            "marker": {
             "colorbar": {
              "outlinewidth": 0,
              "ticks": ""
             }
            },
            "type": "scattergl"
           }
          ],
          "scattermapbox": [
           {
            "marker": {
             "colorbar": {
              "outlinewidth": 0,
              "ticks": ""
             }
            },
            "type": "scattermapbox"
           }
          ],
          "scatterpolar": [
           {
            "marker": {
             "colorbar": {
              "outlinewidth": 0,
              "ticks": ""
             }
            },
            "type": "scatterpolar"
           }
          ],
          "scatterpolargl": [
           {
            "marker": {
             "colorbar": {
              "outlinewidth": 0,
              "ticks": ""
             }
            },
            "type": "scatterpolargl"
           }
          ],
          "scatterternary": [
           {
            "marker": {
             "colorbar": {
              "outlinewidth": 0,
              "ticks": ""
             }
            },
            "type": "scatterternary"
           }
          ],
          "surface": [
           {
            "colorbar": {
             "outlinewidth": 0,
             "ticks": ""
            },
            "colorscale": [
             [
              0,
              "#0d0887"
             ],
             [
              0.1111111111111111,
              "#46039f"
             ],
             [
              0.2222222222222222,
              "#7201a8"
             ],
             [
              0.3333333333333333,
              "#9c179e"
             ],
             [
              0.4444444444444444,
              "#bd3786"
             ],
             [
              0.5555555555555556,
              "#d8576b"
             ],
             [
              0.6666666666666666,
              "#ed7953"
             ],
             [
              0.7777777777777778,
              "#fb9f3a"
             ],
             [
              0.8888888888888888,
              "#fdca26"
             ],
             [
              1,
              "#f0f921"
             ]
            ],
            "type": "surface"
           }
          ],
          "table": [
           {
            "cells": {
             "fill": {
              "color": "#EBF0F8"
             },
             "line": {
              "color": "white"
             }
            },
            "header": {
             "fill": {
              "color": "#C8D4E3"
             },
             "line": {
              "color": "white"
             }
            },
            "type": "table"
           }
          ]
         },
         "layout": {
          "annotationdefaults": {
           "arrowcolor": "#2a3f5f",
           "arrowhead": 0,
           "arrowwidth": 1
          },
          "autotypenumbers": "strict",
          "coloraxis": {
           "colorbar": {
            "outlinewidth": 0,
            "ticks": ""
           }
          },
          "colorscale": {
           "diverging": [
            [
             0,
             "#8e0152"
            ],
            [
             0.1,
             "#c51b7d"
            ],
            [
             0.2,
             "#de77ae"
            ],
            [
             0.3,
             "#f1b6da"
            ],
            [
             0.4,
             "#fde0ef"
            ],
            [
             0.5,
             "#f7f7f7"
            ],
            [
             0.6,
             "#e6f5d0"
            ],
            [
             0.7,
             "#b8e186"
            ],
            [
             0.8,
             "#7fbc41"
            ],
            [
             0.9,
             "#4d9221"
            ],
            [
             1,
             "#276419"
            ]
           ],
           "sequential": [
            [
             0,
             "#0d0887"
            ],
            [
             0.1111111111111111,
             "#46039f"
            ],
            [
             0.2222222222222222,
             "#7201a8"
            ],
            [
             0.3333333333333333,
             "#9c179e"
            ],
            [
             0.4444444444444444,
             "#bd3786"
            ],
            [
             0.5555555555555556,
             "#d8576b"
            ],
            [
             0.6666666666666666,
             "#ed7953"
            ],
            [
             0.7777777777777778,
             "#fb9f3a"
            ],
            [
             0.8888888888888888,
             "#fdca26"
            ],
            [
             1,
             "#f0f921"
            ]
           ],
           "sequentialminus": [
            [
             0,
             "#0d0887"
            ],
            [
             0.1111111111111111,
             "#46039f"
            ],
            [
             0.2222222222222222,
             "#7201a8"
            ],
            [
             0.3333333333333333,
             "#9c179e"
            ],
            [
             0.4444444444444444,
             "#bd3786"
            ],
            [
             0.5555555555555556,
             "#d8576b"
            ],
            [
             0.6666666666666666,
             "#ed7953"
            ],
            [
             0.7777777777777778,
             "#fb9f3a"
            ],
            [
             0.8888888888888888,
             "#fdca26"
            ],
            [
             1,
             "#f0f921"
            ]
           ]
          },
          "colorway": [
           "#636efa",
           "#EF553B",
           "#00cc96",
           "#ab63fa",
           "#FFA15A",
           "#19d3f3",
           "#FF6692",
           "#B6E880",
           "#FF97FF",
           "#FECB52"
          ],
          "font": {
           "color": "#2a3f5f"
          },
          "geo": {
           "bgcolor": "white",
           "lakecolor": "white",
           "landcolor": "#E5ECF6",
           "showlakes": true,
           "showland": true,
           "subunitcolor": "white"
          },
          "hoverlabel": {
           "align": "left"
          },
          "hovermode": "closest",
          "mapbox": {
           "style": "light"
          },
          "paper_bgcolor": "white",
          "plot_bgcolor": "#E5ECF6",
          "polar": {
           "angularaxis": {
            "gridcolor": "white",
            "linecolor": "white",
            "ticks": ""
           },
           "bgcolor": "#E5ECF6",
           "radialaxis": {
            "gridcolor": "white",
            "linecolor": "white",
            "ticks": ""
           }
          },
          "scene": {
           "xaxis": {
            "backgroundcolor": "#E5ECF6",
            "gridcolor": "white",
            "gridwidth": 2,
            "linecolor": "white",
            "showbackground": true,
            "ticks": "",
            "zerolinecolor": "white"
           },
           "yaxis": {
            "backgroundcolor": "#E5ECF6",
            "gridcolor": "white",
            "gridwidth": 2,
            "linecolor": "white",
            "showbackground": true,
            "ticks": "",
            "zerolinecolor": "white"
           },
           "zaxis": {
            "backgroundcolor": "#E5ECF6",
            "gridcolor": "white",
            "gridwidth": 2,
            "linecolor": "white",
            "showbackground": true,
            "ticks": "",
            "zerolinecolor": "white"
           }
          },
          "shapedefaults": {
           "line": {
            "color": "#2a3f5f"
           }
          },
          "ternary": {
           "aaxis": {
            "gridcolor": "white",
            "linecolor": "white",
            "ticks": ""
           },
           "baxis": {
            "gridcolor": "white",
            "linecolor": "white",
            "ticks": ""
           },
           "bgcolor": "#E5ECF6",
           "caxis": {
            "gridcolor": "white",
            "linecolor": "white",
            "ticks": ""
           }
          },
          "title": {
           "x": 0.05
          },
          "xaxis": {
           "automargin": true,
           "gridcolor": "white",
           "linecolor": "white",
           "ticks": "",
           "title": {
            "standoff": 15
           },
           "zerolinecolor": "white",
           "zerolinewidth": 2
          },
          "yaxis": {
           "automargin": true,
           "gridcolor": "white",
           "linecolor": "white",
           "ticks": "",
           "title": {
            "standoff": 15
           },
           "zerolinecolor": "white",
           "zerolinewidth": 2
          }
         }
        },
        "xaxis": {
         "autorange": true,
         "range": [
          -12.572844598862918,
          214.07084459886292
         ],
         "title": {
          "text": "Time (s)"
         },
         "type": "linear"
        },
        "yaxis": {
         "autorange": true,
         "range": [
          -1.04739336492891,
          13.739336492890995
         ],
         "type": "category"
        }
       }
      },
      "image/png": "[encoded data removed]",
      "text/html": [
       "<div>                            <div id=\"069794e4-12e4-4057-97ab-c7b67cf3097a\" class=\"plotly-graph-div\" style=\"height:525px; width:100%;\"></div>            <script type=\"text/javascript\">                require([\"plotly\"], function(Plotly) {                    window.PLOTLYENV=window.PLOTLYENV || {};                                    if (document.getElementById(\"069794e4-12e4-4057-97ab-c7b67cf3097a\")) {                    Plotly.newPlot(                        \"069794e4-12e4-4057-97ab-c7b67cf3097a\",                        [{\"marker\":{\"symbol\":\"square\"},\"mode\":\"markers\",\"name\":\"bar_off\",\"x\":[0.345,0.795,1.307,2.527,2.612,26.651,26.846,27.663,28.177,37.395,38.063,38.445,40.344,40.81,49.453,61.054,61.524,62.36,63.227,63.245,84.966,85.021,85.091,85.321,85.382,93.539,93.849,93.911,98.949,99.186,99.396,99.56,99.908,100.017,100.141,101.021,103.433,103.873,110.984,111.104,111.141,111.587,112.02,112.462,112.505,114.192,119.992,121.121,121.497,121.741,128.454,129.254,131.284,131.608,131.648,131.704,131.746,132.57,132.708,162.62,162.641,162.84,163.445,163.579,164.085,165.257,174.753,180.763,183.432,187.777,188.768,190.23,194.349,194.46,196.364,200.986,201.085,201.118],\"y\":[\"bar_off\",\"bar_off\",\"bar_off\",\"bar_off\",\"bar_off\",\"bar_off\",\"bar_off\",\"bar_off\",\"bar_off\",\"bar_off\",\"bar_off\",\"bar_off\",\"bar_off\",\"bar_off\",\"bar_off\",\"bar_off\",\"bar_off\",\"bar_off\",\"bar_off\",\"bar_off\",\"bar_off\",\"bar_off\",\"bar_off\",\"bar_off\",\"bar_off\",\"bar_off\",\"bar_off\",\"bar_off\",\"bar_off\",\"bar_off\",\"bar_off\",\"bar_off\",\"bar_off\",\"bar_off\",\"bar_off\",\"bar_off\",\"bar_off\",\"bar_off\",\"bar_off\",\"bar_off\",\"bar_off\",\"bar_off\",\"bar_off\",\"bar_off\",\"bar_off\",\"bar_off\",\"bar_off\",\"bar_off\",\"bar_off\",\"bar_off\",\"bar_off\",\"bar_off\",\"bar_off\",\"bar_off\",\"bar_off\",\"bar_off\",\"bar_off\",\"bar_off\",\"bar_off\",\"bar_off\",\"bar_off\",\"bar_off\",\"bar_off\",\"bar_off\",\"bar_off\",\"bar_off\",\"bar_off\",\"bar_off\",\"bar_off\",\"bar_off\",\"bar_off\",\"bar_off\",\"bar_off\",\"bar_off\",\"bar_off\",\"bar_off\",\"bar_off\",\"bar_off\"],\"type\":\"scatter\"},{\"marker\":{\"symbol\":\"diamond\"},\"mode\":\"markers\",\"name\":\"bar\",\"x\":[0.425,1.292,1.374,2.564,2.684,26.754,26.868,27.707,28.215,37.533,38.43,39.748,40.391,40.833,49.536,61.127,62.314,62.396,63.242,63.308,85.006,85.048,85.126,85.35,85.447,93.564,93.866,93.948,98.994,99.205,99.412,99.575,99.923,100.044,100.156,101.051,103.46,103.902,111.053,111.125,111.191,111.962,112.035,112.489,112.532,114.226,120.44,121.41,121.513,121.854,128.904,129.323,131.351,131.63,131.689,131.73,132.555,132.59,162.585,162.635,162.681,162.866,163.527,163.618,164.111,174.718,174.768,182.979,187.749,187.806,188.822,194.184,194.416,194.545,200.971,201.003,201.102,201.153],\"y\":[\"bar\",\"bar\",\"bar\",\"bar\",\"bar\",\"bar\",\"bar\",\"bar\",\"bar\",\"bar\",\"bar\",\"bar\",\"bar\",\"bar\",\"bar\",\"bar\",\"bar\",\"bar\",\"bar\",\"bar\",\"bar\",\"bar\",\"bar\",\"bar\",\"bar\",\"bar\",\"bar\",\"bar\",\"bar\",\"bar\",\"bar\",\"bar\",\"bar\",\"bar\",\"bar\",\"bar\",\"bar\",\"bar\",\"bar\",\"bar\",\"bar\",\"bar\",\"bar\",\"bar\",\"bar\",\"bar\",\"bar\",\"bar\",\"bar\",\"bar\",\"bar\",\"bar\",\"bar\",\"bar\",\"bar\",\"bar\",\"bar\",\"bar\",\"bar\",\"bar\",\"bar\",\"bar\",\"bar\",\"bar\",\"bar\",\"bar\",\"bar\",\"bar\",\"bar\",\"bar\",\"bar\",\"bar\",\"bar\",\"bar\",\"bar\",\"bar\",\"bar\",\"bar\"],\"type\":\"scatter\"},{\"marker\":{\"symbol\":\"cross\"},\"mode\":\"markers\",\"name\":\"CS_offset_timer\",\"x\":[2.0,45.873,61.951,112.003,120.359,121.482,128.855,129.108,129.199,130.583,132.151,132.712,133.087,133.266,133.501,133.713,134.022,135.496,137.866,138.325,141.683,147.95,152.277,155.584,157.412,160.507,165.691,165.961,170.616,171.952,172.766,181.241,181.528,193.535,196.827,199.487],\"y\":[\"CS_offset_timer\",\"CS_offset_timer\",\"CS_offset_timer\",\"CS_offset_timer\",\"CS_offset_timer\",\"CS_offset_timer\",\"CS_offset_timer\",\"CS_offset_timer\",\"CS_offset_timer\",\"CS_offset_timer\",\"CS_offset_timer\",\"CS_offset_timer\",\"CS_offset_timer\",\"CS_offset_timer\",\"CS_offset_timer\",\"CS_offset_timer\",\"CS_offset_timer\",\"CS_offset_timer\",\"CS_offset_timer\",\"CS_offset_timer\",\"CS_offset_timer\",\"CS_offset_timer\",\"CS_offset_timer\",\"CS_offset_timer\",\"CS_offset_timer\",\"CS_offset_timer\",\"CS_offset_timer\",\"CS_offset_timer\",\"CS_offset_timer\",\"CS_offset_timer\",\"CS_offset_timer\",\"CS_offset_timer\",\"CS_offset_timer\",\"CS_offset_timer\",\"CS_offset_timer\",\"CS_offset_timer\"],\"type\":\"scatter\"},{\"marker\":{\"symbol\":\"x\"},\"mode\":\"markers\",\"name\":\"button_press\",\"x\":[45.571],\"y\":[\"button_press\"],\"type\":\"scatter\"},{\"marker\":{\"symbol\":\"triangle-up\"},\"mode\":\"markers\",\"name\":\"spout\",\"x\":[45.571,61.65,61.677,111.702,120.058,121.182,128.554,128.808,128.825,128.846,128.861,128.881,128.898,128.918,128.937,128.968,130.283,131.85,132.411,132.787,132.966,133.2,133.413,133.721,135.195,137.565,138.024,141.382,141.447,147.649,147.714,151.976,152.041,155.283,155.351,157.111,157.179,160.206,160.26,160.275,165.39,165.661,170.315,171.651,172.465,180.94,181.015,181.228,181.293,193.234,196.526,199.186],\"y\":[\"spout\",\"spout\",\"spout\",\"spout\",\"spout\",\"spout\",\"spout\",\"spout\",\"spout\",\"spout\",\"spout\",\"spout\",\"spout\",\"spout\",\"spout\",\"spout\",\"spout\",\"spout\",\"spout\",\"spout\",\"spout\",\"spout\",\"spout\",\"spout\",\"spout\",\"spout\",\"spout\",\"spout\",\"spout\",\"spout\",\"spout\",\"spout\",\"spout\",\"spout\",\"spout\",\"spout\",\"spout\",\"spout\",\"spout\",\"spout\",\"spout\",\"spout\",\"spout\",\"spout\",\"spout\",\"spout\",\"spout\",\"spout\",\"spout\",\"spout\",\"spout\",\"spout\"],\"type\":\"scatter\"},{\"marker\":{\"symbol\":\"triangle-down\"},\"mode\":\"markers\",\"name\":\"US_delay_timer\",\"x\":[45.573,61.651,111.703,120.059,121.182,128.555,128.808,128.899,130.283,131.851,132.412,132.787,132.967,133.201,133.413,133.722,135.196,137.566,138.025,141.383,147.65,151.977,155.284,157.112,160.207,165.391,165.661,170.317,171.652,172.466,180.941,181.228,193.236,196.527,199.187],\"y\":[\"US_delay_timer\",\"US_delay_timer\",\"US_delay_timer\",\"US_delay_timer\",\"US_delay_timer\",\"US_delay_timer\",\"US_delay_timer\",\"US_delay_timer\",\"US_delay_timer\",\"US_delay_timer\",\"US_delay_timer\",\"US_delay_timer\",\"US_delay_timer\",\"US_delay_timer\",\"US_delay_timer\",\"US_delay_timer\",\"US_delay_timer\",\"US_delay_timer\",\"US_delay_timer\",\"US_delay_timer\",\"US_delay_timer\",\"US_delay_timer\",\"US_delay_timer\",\"US_delay_timer\",\"US_delay_timer\",\"US_delay_timer\",\"US_delay_timer\",\"US_delay_timer\",\"US_delay_timer\",\"US_delay_timer\",\"US_delay_timer\",\"US_delay_timer\",\"US_delay_timer\",\"US_delay_timer\",\"US_delay_timer\"],\"type\":\"scatter\"},{\"marker\":{\"symbol\":\"triangle-left\"},\"mode\":\"markers\",\"name\":\"water_on\",\"x\":[45.573,61.651,111.703,120.059,121.183,128.555,128.809,128.899,130.284,131.851,132.412,132.788,132.967,133.201,133.414,133.722,135.196,137.566,138.025,141.384,147.65,151.977,155.285,157.112,160.208,165.392,165.662,170.317,171.652,172.466,180.941,181.229,193.236,196.528,199.187],\"y\":[\"water_on\",\"water_on\",\"water_on\",\"water_on\",\"water_on\",\"water_on\",\"water_on\",\"water_on\",\"water_on\",\"water_on\",\"water_on\",\"water_on\",\"water_on\",\"water_on\",\"water_on\",\"water_on\",\"water_on\",\"water_on\",\"water_on\",\"water_on\",\"water_on\",\"water_on\",\"water_on\",\"water_on\",\"water_on\",\"water_on\",\"water_on\",\"water_on\",\"water_on\",\"water_on\",\"water_on\",\"water_on\",\"water_on\",\"water_on\",\"water_on\"],\"type\":\"scatter\"},{\"marker\":{\"symbol\":\"triangle-right\"},\"mode\":\"markers\",\"name\":\"water success\",\"x\":[45.573,61.652,111.703,120.059,121.183,128.555,128.809,128.9,130.284,131.851,132.412,132.788,132.967,133.202,133.414,133.723,135.196,137.567,138.026,141.384,147.651,151.977,155.285,157.112,160.208,165.392,165.662,170.317,171.652,172.466,180.941,181.229,193.236,196.528,199.187],\"y\":[\"water success\",\"water success\",\"water success\",\"water success\",\"water success\",\"water success\",\"water success\",\"water success\",\"water success\",\"water success\",\"water success\",\"water success\",\"water success\",\"water success\",\"water success\",\"water success\",\"water success\",\"water success\",\"water success\",\"water success\",\"water success\",\"water success\",\"water success\",\"water success\",\"water success\",\"water success\",\"water success\",\"water success\",\"water success\",\"water success\",\"water success\",\"water success\",\"water success\",\"water success\",\"water success\"],\"type\":\"scatter\"},{\"marker\":{\"symbol\":\"triangle-ne\"},\"mode\":\"markers\",\"name\":\"spout_off\",\"x\":[45.587,61.665,62.207,111.875,120.361,121.27,128.792,128.81,128.84,128.861,128.877,128.896,128.913,128.933,128.953,129.345,130.32,132.365,132.753,132.951,133.16,133.318,133.689,133.936,135.337,137.656,138.109,141.397,141.462,147.664,147.734,151.991,152.071,155.299,155.37,157.126,157.215,160.222,160.275,160.294,165.406,165.676,170.358,171.691,172.48,181.0,181.021,181.252,181.308,193.25,196.542,199.201],\"y\":[\"spout_off\",\"spout_off\",\"spout_off\",\"spout_off\",\"spout_off\",\"spout_off\",\"spout_off\",\"spout_off\",\"spout_off\",\"spout_off\",\"spout_off\",\"spout_off\",\"spout_off\",\"spout_off\",\"spout_off\",\"spout_off\",\"spout_off\",\"spout_off\",\"spout_off\",\"spout_off\",\"spout_off\",\"spout_off\",\"spout_off\",\"spout_off\",\"spout_off\",\"spout_off\",\"spout_off\",\"spout_off\",\"spout_off\",\"spout_off\",\"spout_off\",\"spout_off\",\"spout_off\",\"spout_off\",\"spout_off\",\"spout_off\",\"spout_off\",\"spout_off\",\"spout_off\",\"spout_off\",\"spout_off\",\"spout_off\",\"spout_off\",\"spout_off\",\"spout_off\",\"spout_off\",\"spout_off\",\"spout_off\",\"spout_off\",\"spout_off\",\"spout_off\",\"spout_off\"],\"type\":\"scatter\"},{\"marker\":{\"symbol\":\"triangle-se\"},\"mode\":\"markers\",\"name\":\"US_end_timer\",\"x\":[45.591,45.593,61.671,111.723,120.079,121.203,128.575,128.829,128.919,130.304,131.871,132.432,132.808,132.987,133.221,133.434,133.743,135.216,137.587,138.046,141.404,147.671,151.997,155.305,157.132,160.228,165.411,165.681,170.336,171.671,172.485,180.96,181.248,193.255,196.547,199.206],\"y\":[\"US_end_timer\",\"US_end_timer\",\"US_end_timer\",\"US_end_timer\",\"US_end_timer\",\"US_end_timer\",\"US_end_timer\",\"US_end_timer\",\"US_end_timer\",\"US_end_timer\",\"US_end_timer\",\"US_end_timer\",\"US_end_timer\",\"US_end_timer\",\"US_end_timer\",\"US_end_timer\",\"US_end_timer\",\"US_end_timer\",\"US_end_timer\",\"US_end_timer\",\"US_end_timer\",\"US_end_timer\",\"US_end_timer\",\"US_end_timer\",\"US_end_timer\",\"US_end_timer\",\"US_end_timer\",\"US_end_timer\",\"US_end_timer\",\"US_end_timer\",\"US_end_timer\",\"US_end_timer\",\"US_end_timer\",\"US_end_timer\",\"US_end_timer\",\"US_end_timer\"],\"type\":\"scatter\"},{\"marker\":{\"symbol\":\"triangle-sw\"},\"mode\":\"markers\",\"name\":\"button_release\",\"x\":[45.629],\"y\":[\"button_release\"],\"type\":\"scatter\"},{\"marker\":{\"symbol\":\"triangle-nw\"},\"mode\":\"markers\",\"name\":\"busy_win_timer\",\"x\":[47.572,63.651,113.702,122.058,130.555,133.85,137.195,139.566,143.383,149.65,153.976,157.284,162.207,167.391,172.316,174.465,182.94,195.235,198.527],\"y\":[\"busy_win_timer\",\"busy_win_timer\",\"busy_win_timer\",\"busy_win_timer\",\"busy_win_timer\",\"busy_win_timer\",\"busy_win_timer\",\"busy_win_timer\",\"busy_win_timer\",\"busy_win_timer\",\"busy_win_timer\",\"busy_win_timer\",\"busy_win_timer\",\"busy_win_timer\",\"busy_win_timer\",\"busy_win_timer\",\"busy_win_timer\",\"busy_win_timer\",\"busy_win_timer\"],\"type\":\"scatter\"},{\"marker\":{\"symbol\":\"pentagon\"},\"mode\":\"markers\",\"name\":\"Timestamp:0 Success:False\",\"x\":[47.573,63.652,113.703,122.059,130.556,133.851,137.196,139.567,143.384,149.651,153.977,157.285,162.208,167.392,172.317,174.466,182.941,195.236,198.528],\"y\":[\"Timestamp:0 Success:False\",\"Timestamp:0 Success:False\",\"Timestamp:0 Success:False\",\"Timestamp:0 Success:False\",\"Timestamp:0 Success:False\",\"Timestamp:0 Success:False\",\"Timestamp:0 Success:False\",\"Timestamp:0 Success:False\",\"Timestamp:0 Success:False\",\"Timestamp:0 Success:False\",\"Timestamp:0 Success:False\",\"Timestamp:0 Success:False\",\"Timestamp:0 Success:False\",\"Timestamp:0 Success:False\",\"Timestamp:0 Success:False\",\"Timestamp:0 Success:False\",\"Timestamp:0 Success:False\",\"Timestamp:0 Success:False\",\"Timestamp:0 Success:False\"],\"type\":\"scatter\"},{\"line\":{\"width\":5},\"mode\":\"lines\",\"name\":\"waiting_for_spout\",\"x\":[0.001966,0.045572,null,0.047574,0.061651000000000004,null,0.063653,0.111702,null,0.113703,0.12005800000000001,null,0.12206,0.128554,null,0.13055699999999998,0.13185,null,0.135177,0.13519499999999998,null,0.137197,0.137566,null,0.13956800000000003,0.141383,null,0.14338399999999998,0.14765,null,0.14965199999999998,0.151976,null,0.153978,0.155284,null,0.157286,0.160207,null,0.162209,0.16539099999999998,null,0.16739300000000001,0.170316,null,0.172318,0.172465,null,0.174467,0.18094,null,0.182942,0.19323500000000002,null,0.195237,0.19652699999999998,null,0.19852899999999998,0.199186,null],\"y\":[\"waiting_for_spout\",\"waiting_for_spout\",\"waiting_for_spout\",\"waiting_for_spout\",\"waiting_for_spout\",\"waiting_for_spout\",\"waiting_for_spout\",\"waiting_for_spout\",\"waiting_for_spout\",\"waiting_for_spout\",\"waiting_for_spout\",\"waiting_for_spout\",\"waiting_for_spout\",\"waiting_for_spout\",\"waiting_for_spout\",\"waiting_for_spout\",\"waiting_for_spout\",\"waiting_for_spout\",\"waiting_for_spout\",\"waiting_for_spout\",\"waiting_for_spout\",\"waiting_for_spout\",\"waiting_for_spout\",\"waiting_for_spout\",\"waiting_for_spout\",\"waiting_for_spout\",\"waiting_for_spout\",\"waiting_for_spout\",\"waiting_for_spout\",\"waiting_for_spout\",\"waiting_for_spout\",\"waiting_for_spout\",\"waiting_for_spout\",\"waiting_for_spout\",\"waiting_for_spout\",\"waiting_for_spout\",\"waiting_for_spout\",\"waiting_for_spout\",\"waiting_for_spout\",\"waiting_for_spout\",\"waiting_for_spout\",\"waiting_for_spout\",\"waiting_for_spout\",\"waiting_for_spout\",\"waiting_for_spout\",\"waiting_for_spout\",\"waiting_for_spout\",\"waiting_for_spout\",\"waiting_for_spout\",\"waiting_for_spout\",\"waiting_for_spout\",\"waiting_for_spout\",\"waiting_for_spout\",\"waiting_for_spout\",\"waiting_for_spout\",\"waiting_for_spout\",\"waiting_for_spout\",\"waiting_for_spout\",\"waiting_for_spout\",\"waiting_for_spout\"],\"type\":\"scatter\"}],                        {\"template\":{\"data\":{\"histogram2dcontour\":[{\"type\":\"histogram2dcontour\",\"colorbar\":{\"outlinewidth\":0,\"ticks\":\"\"},\"colorscale\":[[0.0,\"#0d0887\"],[0.1111111111111111,\"#46039f\"],[0.2222222222222222,\"#7201a8\"],[0.3333333333333333,\"#9c179e\"],[0.4444444444444444,\"#bd3786\"],[0.5555555555555556,\"#d8576b\"],[0.6666666666666666,\"#ed7953\"],[0.7777777777777778,\"#fb9f3a\"],[0.8888888888888888,\"#fdca26\"],[1.0,\"#f0f921\"]]}],\"choropleth\":[{\"type\":\"choropleth\",\"colorbar\":{\"outlinewidth\":0,\"ticks\":\"\"}}],\"histogram2d\":[{\"type\":\"histogram2d\",\"colorbar\":{\"outlinewidth\":0,\"ticks\":\"\"},\"colorscale\":[[0.0,\"#0d0887\"],[0.1111111111111111,\"#46039f\"],[0.2222222222222222,\"#7201a8\"],[0.3333333333333333,\"#9c179e\"],[0.4444444444444444,\"#bd3786\"],[0.5555555555555556,\"#d8576b\"],[0.6666666666666666,\"#ed7953\"],[0.7777777777777778,\"#fb9f3a\"],[0.8888888888888888,\"#fdca26\"],[1.0,\"#f0f921\"]]}],\"heatmap\":[{\"type\":\"heatmap\",\"colorbar\":{\"outlinewidth\":0,\"ticks\":\"\"},\"colorscale\":[[0.0,\"#0d0887\"],[0.1111111111111111,\"#46039f\"],[0.2222222222222222,\"#7201a8\"],[0.3333333333333333,\"#9c179e\"],[0.4444444444444444,\"#bd3786\"],[0.5555555555555556,\"#d8576b\"],[0.6666666666666666,\"#ed7953\"],[0.7777777777777778,\"#fb9f3a\"],[0.8888888888888888,\"#fdca26\"],[1.0,\"#f0f921\"]]}],\"heatmapgl\":[{\"type\":\"heatmapgl\",\"colorbar\":{\"outlinewidth\":0,\"ticks\":\"\"},\"colorscale\":[[0.0,\"#0d0887\"],[0.1111111111111111,\"#46039f\"],[0.2222222222222222,\"#7201a8\"],[0.3333333333333333,\"#9c179e\"],[0.4444444444444444,\"#bd3786\"],[0.5555555555555556,\"#d8576b\"],[0.6666666666666666,\"#ed7953\"],[0.7777777777777778,\"#fb9f3a\"],[0.8888888888888888,\"#fdca26\"],[1.0,\"#f0f921\"]]}],\"contourcarpet\":[{\"type\":\"contourcarpet\",\"colorbar\":{\"outlinewidth\":0,\"ticks\":\"\"}}],\"contour\":[{\"type\":\"contour\",\"colorbar\":{\"outlinewidth\":0,\"ticks\":\"\"},\"colorscale\":[[0.0,\"#0d0887\"],[0.1111111111111111,\"#46039f\"],[0.2222222222222222,\"#7201a8\"],[0.3333333333333333,\"#9c179e\"],[0.4444444444444444,\"#bd3786\"],[0.5555555555555556,\"#d8576b\"],[0.6666666666666666,\"#ed7953\"],[0.7777777777777778,\"#fb9f3a\"],[0.8888888888888888,\"#fdca26\"],[1.0,\"#f0f921\"]]}],\"surface\":[{\"type\":\"surface\",\"colorbar\":{\"outlinewidth\":0,\"ticks\":\"\"},\"colorscale\":[[0.0,\"#0d0887\"],[0.1111111111111111,\"#46039f\"],[0.2222222222222222,\"#7201a8\"],[0.3333333333333333,\"#9c179e\"],[0.4444444444444444,\"#bd3786\"],[0.5555555555555556,\"#d8576b\"],[0.6666666666666666,\"#ed7953\"],[0.7777777777777778,\"#fb9f3a\"],[0.8888888888888888,\"#fdca26\"],[1.0,\"#f0f921\"]]}],\"mesh3d\":[{\"type\":\"mesh3d\",\"colorbar\":{\"outlinewidth\":0,\"ticks\":\"\"}}],\"scatter\":[{\"fillpattern\":{\"fillmode\":\"overlay\",\"size\":10,\"solidity\":0.2},\"type\":\"scatter\"}],\"parcoords\":[{\"type\":\"parcoords\",\"line\":{\"colorbar\":{\"outlinewidth\":0,\"ticks\":\"\"}}}],\"scatterpolargl\":[{\"type\":\"scatterpolargl\",\"marker\":{\"colorbar\":{\"outlinewidth\":0,\"ticks\":\"\"}}}],\"bar\":[{\"error_x\":{\"color\":\"#2a3f5f\"},\"error_y\":{\"color\":\"#2a3f5f\"},\"marker\":{\"line\":{\"color\":\"#E5ECF6\",\"width\":0.5},\"pattern\":{\"fillmode\":\"overlay\",\"size\":10,\"solidity\":0.2}},\"type\":\"bar\"}],\"scattergeo\":[{\"type\":\"scattergeo\",\"marker\":{\"colorbar\":{\"outlinewidth\":0,\"ticks\":\"\"}}}],\"scatterpolar\":[{\"type\":\"scatterpolar\",\"marker\":{\"colorbar\":{\"outlinewidth\":0,\"ticks\":\"\"}}}],\"histogram\":[{\"marker\":{\"pattern\":{\"fillmode\":\"overlay\",\"size\":10,\"solidity\":0.2}},\"type\":\"histogram\"}],\"scattergl\":[{\"type\":\"scattergl\",\"marker\":{\"colorbar\":{\"outlinewidth\":0,\"ticks\":\"\"}}}],\"scatter3d\":[{\"type\":\"scatter3d\",\"line\":{\"colorbar\":{\"outlinewidth\":0,\"ticks\":\"\"}},\"marker\":{\"colorbar\":{\"outlinewidth\":0,\"ticks\":\"\"}}}],\"scattermapbox\":[{\"type\":\"scattermapbox\",\"marker\":{\"colorbar\":{\"outlinewidth\":0,\"ticks\":\"\"}}}],\"scatterternary\":[{\"type\":\"scatterternary\",\"marker\":{\"colorbar\":{\"outlinewidth\":0,\"ticks\":\"\"}}}],\"scattercarpet\":[{\"type\":\"scattercarpet\",\"marker\":{\"colorbar\":{\"outlinewidth\":0,\"ticks\":\"\"}}}],\"carpet\":[{\"aaxis\":{\"endlinecolor\":\"#2a3f5f\",\"gridcolor\":\"white\",\"linecolor\":\"white\",\"minorgridcolor\":\"white\",\"startlinecolor\":\"#2a3f5f\"},\"baxis\":{\"endlinecolor\":\"#2a3f5f\",\"gridcolor\":\"white\",\"linecolor\":\"white\",\"minorgridcolor\":\"white\",\"startlinecolor\":\"#2a3f5f\"},\"type\":\"carpet\"}],\"table\":[{\"cells\":{\"fill\":{\"color\":\"#EBF0F8\"},\"line\":{\"color\":\"white\"}},\"header\":{\"fill\":{\"color\":\"#C8D4E3\"},\"line\":{\"color\":\"white\"}},\"type\":\"table\"}],\"barpolar\":[{\"marker\":{\"line\":{\"color\":\"#E5ECF6\",\"width\":0.5},\"pattern\":{\"fillmode\":\"overlay\",\"size\":10,\"solidity\":0.2}},\"type\":\"barpolar\"}],\"pie\":[{\"automargin\":true,\"type\":\"pie\"}]},\"layout\":{\"autotypenumbers\":\"strict\",\"colorway\":[\"#636efa\",\"#EF553B\",\"#00cc96\",\"#ab63fa\",\"#FFA15A\",\"#19d3f3\",\"#FF6692\",\"#B6E880\",\"#FF97FF\",\"#FECB52\"],\"font\":{\"color\":\"#2a3f5f\"},\"hovermode\":\"closest\",\"hoverlabel\":{\"align\":\"left\"},\"paper_bgcolor\":\"white\",\"plot_bgcolor\":\"#E5ECF6\",\"polar\":{\"bgcolor\":\"#E5ECF6\",\"angularaxis\":{\"gridcolor\":\"white\",\"linecolor\":\"white\",\"ticks\":\"\"},\"radialaxis\":{\"gridcolor\":\"white\",\"linecolor\":\"white\",\"ticks\":\"\"}},\"ternary\":{\"bgcolor\":\"#E5ECF6\",\"aaxis\":{\"gridcolor\":\"white\",\"linecolor\":\"white\",\"ticks\":\"\"},\"baxis\":{\"gridcolor\":\"white\",\"linecolor\":\"white\",\"ticks\":\"\"},\"caxis\":{\"gridcolor\":\"white\",\"linecolor\":\"white\",\"ticks\":\"\"}},\"coloraxis\":{\"colorbar\":{\"outlinewidth\":0,\"ticks\":\"\"}},\"colorscale\":{\"sequential\":[[0.0,\"#0d0887\"],[0.1111111111111111,\"#46039f\"],[0.2222222222222222,\"#7201a8\"],[0.3333333333333333,\"#9c179e\"],[0.4444444444444444,\"#bd3786\"],[0.5555555555555556,\"#d8576b\"],[0.6666666666666666,\"#ed7953\"],[0.7777777777777778,\"#fb9f3a\"],[0.8888888888888888,\"#fdca26\"],[1.0,\"#f0f921\"]],\"sequentialminus\":[[0.0,\"#0d0887\"],[0.1111111111111111,\"#46039f\"],[0.2222222222222222,\"#7201a8\"],[0.3333333333333333,\"#9c179e\"],[0.4444444444444444,\"#bd3786\"],[0.5555555555555556,\"#d8576b\"],[0.6666666666666666,\"#ed7953\"],[0.7777777777777778,\"#fb9f3a\"],[0.8888888888888888,\"#fdca26\"],[1.0,\"#f0f921\"]],\"diverging\":[[0,\"#8e0152\"],[0.1,\"#c51b7d\"],[0.2,\"#de77ae\"],[0.3,\"#f1b6da\"],[0.4,\"#fde0ef\"],[0.5,\"#f7f7f7\"],[0.6,\"#e6f5d0\"],[0.7,\"#b8e186\"],[0.8,\"#7fbc41\"],[0.9,\"#4d9221\"],[1,\"#276419\"]]},\"xaxis\":{\"gridcolor\":\"white\",\"linecolor\":\"white\",\"ticks\":\"\",\"title\":{\"standoff\":15},\"zerolinecolor\":\"white\",\"automargin\":true,\"zerolinewidth\":2},\"yaxis\":{\"gridcolor\":\"white\",\"linecolor\":\"white\",\"ticks\":\"\",\"title\":{\"standoff\":15},\"zerolinecolor\":\"white\",\"automargin\":true,\"zerolinewidth\":2},\"scene\":{\"xaxis\":{\"backgroundcolor\":\"#E5ECF6\",\"gridcolor\":\"white\",\"linecolor\":\"white\",\"showbackground\":true,\"ticks\":\"\",\"zerolinecolor\":\"white\",\"gridwidth\":2},\"yaxis\":{\"backgroundcolor\":\"#E5ECF6\",\"gridcolor\":\"white\",\"linecolor\":\"white\",\"showbackground\":true,\"ticks\":\"\",\"zerolinecolor\":\"white\",\"gridwidth\":2},\"zaxis\":{\"backgroundcolor\":\"#E5ECF6\",\"gridcolor\":\"white\",\"linecolor\":\"white\",\"showbackground\":true,\"ticks\":\"\",\"zerolinecolor\":\"white\",\"gridwidth\":2}},\"shapedefaults\":{\"line\":{\"color\":\"#2a3f5f\"}},\"annotationdefaults\":{\"arrowcolor\":\"#2a3f5f\",\"arrowhead\":0,\"arrowwidth\":1},\"geo\":{\"bgcolor\":\"white\",\"landcolor\":\"#E5ECF6\",\"subunitcolor\":\"white\",\"showland\":true,\"showlakes\":true,\"lakecolor\":\"white\"},\"title\":{\"x\":0.05},\"mapbox\":{\"style\":\"light\"}}},\"xaxis\":{\"title\":{\"text\":\"Time (s)\"}}},                        {\"responsive\": true}                    ).then(function(){\n",
       "                            \n",
       "var gd = document.getElementById('069794e4-12e4-4057-97ab-c7b67cf3097a');\n",
       "var x = new MutationObserver(function (mutations, observer) {{\n",
       "        var display = window.getComputedStyle(gd).display;\n",
       "        if (!display || display === 'none') {{\n",
       "            console.log([gd, 'removed!']);\n",
       "            Plotly.purge(gd);\n",
       "            observer.disconnect();\n",
       "        }}\n",
       "}});\n",
       "\n",
       "// Listen for the removal of the full notebook cells\n",
       "var notebookContainer = gd.closest('#notebook-container');\n",
       "if (notebookContainer) {{\n",
       "    x.observe(notebookContainer, {childList: true});\n",
       "}}\n",
       "\n",
       "// Listen for the clearing of the current output cell\n",
       "var outputEl = gd.closest('.output');\n",
       "if (outputEl) {{\n",
       "    x.observe(outputEl, {childList: true});\n",
       "}}\n",
       "\n",
       "                        })                };                });            </script>        </div>"
      ]
     },
     "metadata": {},
     "output_type": "display_data"
    }
   ],
   "source": [
    "keys = df_events.event_name.unique()\n",
    "keys = keys[keys!='state_change']\n",
    "\n",
    "# state_def = [{'name': 'hold_for_water', \n",
    "#                   'onset': 'hold_for_water', 'offset': 'waiting_for_spout'},\n",
    "#             {'name': 'waiting_for_spout', \n",
    "#                  'onset': 'waiting_for_spout', 'offset': 'busy_win'},\n",
    "#             {'name': 'busy_win', \n",
    "#                  'onset': 'busy_win', 'offset': 'break_after_water'},\n",
    "#             {'name': 'break_after_water', \n",
    "#                  'onset': 'break_after_water',    'offset': 'waiting_for_bar'},\n",
    "#             {'name': 'break_after_no_water', \n",
    "#                  'onset': 'break_after_no_water', 'offset': 'waiting_for_bar'}]\n",
    "\n",
    "state_def = [\n",
    "            {'name': 'waiting_for_spout', \n",
    "                 'onset': 'waiting_for_spout', 'offset': 'busy_win'}]\n",
    "\n",
    "plot_session(df_events, keys, state_def)"
   ]
  }
 ],
 "metadata": {
  "kernelspec": {
   "display_name": "Python 3 (ipykernel)",
   "language": "python",
   "name": "python3"
  },
  "language_info": {
   "codemirror_mode": {
    "name": "ipython",
    "version": 3
   },
   "file_extension": ".py",
   "mimetype": "text/x-python",
   "name": "python",
   "nbconvert_exporter": "python",
   "pygments_lexer": "ipython3",
   "version": "3.8.16"
  },
  "vscode": {
   "interpreter": {
    "hash": "0d1e031f6f376662b97d9f481efb02d044bc4a5d17f5aae0c7d7abfcc2e5ac1c"
   }
  }
 },
 "nbformat": 4,
 "nbformat_minor": 4
}
