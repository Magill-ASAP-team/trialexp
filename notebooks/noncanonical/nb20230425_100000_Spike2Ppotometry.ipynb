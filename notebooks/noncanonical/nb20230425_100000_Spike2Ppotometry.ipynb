{
 "cells": [
  {
   "attachments": {},
   "cell_type": "markdown",
   "metadata": {},
   "source": [
    "\n",
    "# Export a session as Spike2 data with Photometry data\n",
    "\n"
   ]
  },
  {
   "cell_type": "code",
   "execution_count": 50,
   "metadata": {},
   "outputs": [
    {
     "name": "stderr",
     "output_type": "stream",
     "text": [
      "[NbConvertApp] WARNING | Config option `kernel_spec_manager_class` not recognized by `NbConvertApp`.\n",
      "[NbConvertApp] Converting notebook d:\\OneDrive - Nexus365\\Private_Dropbox\\Projects\\trialexp\\notebooks\\noncanonical\\nb20230425_100000_Spike2Ppotometry.ipynb to python\n",
      "[NbConvertApp] Writing 18296 bytes to d:\\OneDrive - Nexus365\\Private_Dropbox\\Projects\\trialexp\\notebooks\\noncanonical\\nb20230425_100000_Spike2Ppotometry.py\n"
     ]
    }
   ],
   "source": [
    "# import ipynbname\n",
    "import os\n",
    "\n",
    "nb_name = \"nb20230425_100000_Spike2Ppotometry.ipynb\"\n",
    "\n",
    "basename, ext = os.path.splitext(nb_name)\n",
    "input_path = os.path.join(os.getcwd(), nb_name)\n",
    "\n",
    "!jupyter nbconvert \"{input_path}\" --to=\"python\" --output=\"{basename}\"\n"
   ]
  },
  {
   "attachments": {},
   "cell_type": "markdown",
   "metadata": {},
   "source": [
    "# Imports"
   ]
  },
  {
   "cell_type": "code",
   "execution_count": 2,
   "metadata": {},
   "outputs": [
    {
     "name": "stdout",
     "output_type": "stream",
     "text": [
      "Warning : sktime package not installed, this is `only an issue\n",
      "        if you want to export datasets to perform Maching Learning tasks.\n",
      "        To solve, type pip install sktime in your environment\n"
     ]
    }
   ],
   "source": [
    "\n",
    "# allow for automatic reloading of classes and function when updating the code\n",
    "%load_ext autoreload\n",
    "%autoreload 2 \n",
    "\n",
    "# Import Session and Experiment class with helper functions\n",
    "from trialexp.process.data_import import *\n",
    "from trialexp.process.pyphotometry.photometry_functional import *\n",
    "import pandas as pd\n",
    "import datetime\n",
    "import re"
   ]
  },
  {
   "attachments": {},
   "cell_type": "markdown",
   "metadata": {},
   "source": [
    "# Variables"
   ]
  },
  {
   "cell_type": "code",
   "execution_count": 3,
   "metadata": {},
   "outputs": [],
   "source": [
    "\n",
    "trial_window = [-2000, 6000]  # in ms\n",
    "\n",
    "# time limit around trigger to perform an event\n",
    "# determine successful trials\n",
    "timelim = [0, 2000]  # in ms\n",
    "\n",
    "# Digital channel nb of the pyphotometry device\n",
    "# on which rsync signal is sent (from pycontrol device)\n",
    "rsync_chan = 2\n",
    "\n",
    "basefolder, _ = os.path.split(os.path.split(os.getcwd())[0])\n",
    "\n",
    "# These must be absolute paths\n",
    "# use this to use within package tasks files (in params)\n",
    "tasksfile = os.path.join(basefolder, 'params\\\\tasks_params.csv')\n",
    "# use this to put a local full path\n",
    "#tasksfile = -r'C:/.../tasks_params.csv'\n",
    "\n",
    "# photometry_dir = r'\\\\ettin\\Magill_Lab\\Julien\\Data\\head-fixed\\test_folder\\photometry'\n",
    "photometry_dir = r'\\\\ettin\\Magill_Lab\\Julien\\Data\\head-fixed\\pyphotometry\\data\\reaching_go_spout_bar_nov22'\n",
    "video_dir = r'\\\\ettin\\Magill_Lab\\Julien\\Data\\head-fixed\\videos'\n"
   ]
  },
  {
   "cell_type": "code",
   "execution_count": 4,
   "metadata": {},
   "outputs": [
    {
     "data": {
      "text/html": [
       "<div>\n",
       "<style scoped>\n",
       "    .dataframe tbody tr th:only-of-type {\n",
       "        vertical-align: middle;\n",
       "    }\n",
       "\n",
       "    .dataframe tbody tr th {\n",
       "        vertical-align: top;\n",
       "    }\n",
       "\n",
       "    .dataframe thead th {\n",
       "        text-align: right;\n",
       "    }\n",
       "</style>\n",
       "<table border=\"1\" class=\"dataframe\">\n",
       "  <thead>\n",
       "    <tr style=\"text-align: right;\">\n",
       "      <th></th>\n",
       "      <th>task</th>\n",
       "      <th>triggers</th>\n",
       "      <th>events</th>\n",
       "      <th>conditions</th>\n",
       "    </tr>\n",
       "  </thead>\n",
       "  <tbody>\n",
       "    <tr>\n",
       "      <th>0</th>\n",
       "      <td>lick_go_nogo</td>\n",
       "      <td>go; nogo</td>\n",
       "      <td>bar; bar_off; spout</td>\n",
       "      <td>free_reward</td>\n",
       "    </tr>\n",
       "    <tr>\n",
       "      <th>1</th>\n",
       "      <td>lick_go_nogo_unconditionned</td>\n",
       "      <td>go; nogo</td>\n",
       "      <td>bar; bar_off; spout</td>\n",
       "      <td>free_reward</td>\n",
       "    </tr>\n",
       "    <tr>\n",
       "      <th>2</th>\n",
       "      <td>lick_go_nogo_unconditionned_opto</td>\n",
       "      <td>go; nogo</td>\n",
       "      <td>bar; bar_off; spout</td>\n",
       "      <td>free_reward</td>\n",
       "    </tr>\n",
       "    <tr>\n",
       "      <th>3</th>\n",
       "      <td>reaching_go_nogo</td>\n",
       "      <td>CS_Go; CS_NoGo</td>\n",
       "      <td>bar; bar_off; spout</td>\n",
       "      <td>error bar_off; reward bar_off; error free; rew...</td>\n",
       "    </tr>\n",
       "    <tr>\n",
       "      <th>4</th>\n",
       "      <td>reaching_go_nogo_jc</td>\n",
       "      <td>CS_plus; CS_minus</td>\n",
       "      <td>bar; bar_off; spout</td>\n",
       "      <td>error bar_off; reward bar_off; error free; rew...</td>\n",
       "    </tr>\n",
       "    <tr>\n",
       "      <th>5</th>\n",
       "      <td>reaching_go_nogo_opto_continuous</td>\n",
       "      <td>CS_Go; CS_NoGo</td>\n",
       "      <td>bar; bar_off; spout</td>\n",
       "      <td>s_nogo_sham; s_nogo_cs_onset; s_go_sham; s_go_...</td>\n",
       "    </tr>\n",
       "    <tr>\n",
       "      <th>6</th>\n",
       "      <td>reaching_go_nogo_opto_sinusoid</td>\n",
       "      <td>CS_Go; CS_NoGo</td>\n",
       "      <td>bar; bar_off; spout</td>\n",
       "      <td>s_nogo_sham; s_nogo_cs_onset_2; s_nogo_cs_onse...</td>\n",
       "    </tr>\n",
       "    <tr>\n",
       "      <th>7</th>\n",
       "      <td>reaching_go_nogo_opto_sinusoid_spout</td>\n",
       "      <td>CS_Go; CS_NoGo</td>\n",
       "      <td>bar; bar_off; spout</td>\n",
       "      <td>s_nogo_sham; s_nogo_cs_onset_2; s_nogo_cs_onse...</td>\n",
       "    </tr>\n",
       "    <tr>\n",
       "      <th>8</th>\n",
       "      <td>reaching_go_nogo_reversal</td>\n",
       "      <td>CS_Go; CS_NoGo</td>\n",
       "      <td>bar; bar_off; spout</td>\n",
       "      <td>error bar_off; reward bar_off; error free; rew...</td>\n",
       "    </tr>\n",
       "    <tr>\n",
       "      <th>9</th>\n",
       "      <td>reaching_go_nogo_reversal_incentive</td>\n",
       "      <td>CS_Go; CS_NoGo</td>\n",
       "      <td>bar; bar_off; spout</td>\n",
       "      <td>error bar_off; reward bar_off; error free; rew...</td>\n",
       "    </tr>\n",
       "    <tr>\n",
       "      <th>10</th>\n",
       "      <td>reaching_go_nogo_touch_spout</td>\n",
       "      <td>CS_Go; CS_NoGo</td>\n",
       "      <td>bar; bar_off; spout</td>\n",
       "      <td>error bar_off; reward bar_off; error free; rew...</td>\n",
       "    </tr>\n",
       "    <tr>\n",
       "      <th>11</th>\n",
       "      <td>reaching_test</td>\n",
       "      <td>us_deliver</td>\n",
       "      <td>bar; bar_off; spout</td>\n",
       "      <td>free_reward</td>\n",
       "    </tr>\n",
       "    <tr>\n",
       "      <th>12</th>\n",
       "      <td>reaching_test_CS</td>\n",
       "      <td>CS_plus; CS_minus</td>\n",
       "      <td>bar; bar_off; spout</td>\n",
       "      <td>free_reward</td>\n",
       "    </tr>\n",
       "    <tr>\n",
       "      <th>13</th>\n",
       "      <td>reaching_yp</td>\n",
       "      <td>reward_presentation</td>\n",
       "      <td>bar; bar_off; spout</td>\n",
       "      <td>free_reward</td>\n",
       "    </tr>\n",
       "    <tr>\n",
       "      <th>14</th>\n",
       "      <td>train_CSgo_US_coterminated</td>\n",
       "      <td>Go</td>\n",
       "      <td>bar; bar_off; spout</td>\n",
       "      <td>free_reward</td>\n",
       "    </tr>\n",
       "    <tr>\n",
       "      <th>15</th>\n",
       "      <td>train_Go_CS-US_pavlovian</td>\n",
       "      <td>Go</td>\n",
       "      <td>bar; bar_off; spout</td>\n",
       "      <td>free_reward</td>\n",
       "    </tr>\n",
       "    <tr>\n",
       "      <th>16</th>\n",
       "      <td>train_Go_CS-US_pavlovian_with_bar</td>\n",
       "      <td>CS_Go</td>\n",
       "      <td>bar; bar_off; spout</td>\n",
       "      <td>free_reward</td>\n",
       "    </tr>\n",
       "    <tr>\n",
       "      <th>17</th>\n",
       "      <td>reaching_go_spout_cued_uncued</td>\n",
       "      <td>CS_Go</td>\n",
       "      <td>bar; bar_off; spout; hold_start</td>\n",
       "      <td>free_reward_timer; reward spout cued; reward b...</td>\n",
       "    </tr>\n",
       "    <tr>\n",
       "      <th>18</th>\n",
       "      <td>pavlovian_nobar_nodelay</td>\n",
       "      <td>CS_Go</td>\n",
       "      <td>bar; bar_off; spout</td>\n",
       "      <td>NaN</td>\n",
       "    </tr>\n",
       "    <tr>\n",
       "      <th>19</th>\n",
       "      <td>cued_uncued_oct22</td>\n",
       "      <td>Cued; UnCued</td>\n",
       "      <td>bar; bar_off; spout; reward_delay_timer</td>\n",
       "      <td>delayed reward spout cued; delayed reward spou...</td>\n",
       "    </tr>\n",
       "    <tr>\n",
       "      <th>20</th>\n",
       "      <td>go_rewarding_aversive</td>\n",
       "      <td>Go_water; Go_air</td>\n",
       "      <td>bar; bar_off; spout</td>\n",
       "      <td>free_reward; Go_water spout success; Go_air sp...</td>\n",
       "    </tr>\n",
       "    <tr>\n",
       "      <th>21</th>\n",
       "      <td>reaching_go_spout_nov22</td>\n",
       "      <td>busy_win</td>\n",
       "      <td>bar; bar_off; spout; US_end_timer</td>\n",
       "      <td>US_end_timer; water_on; Success:True; Success:...</td>\n",
       "    </tr>\n",
       "    <tr>\n",
       "      <th>22</th>\n",
       "      <td>reaching_go_spout_nov22_timewin</td>\n",
       "      <td>hold_for_water</td>\n",
       "      <td>bar; bar_off; spout; button_release; US_end_timer</td>\n",
       "      <td>US_end_timer; water by bar_off; water by spout...</td>\n",
       "    </tr>\n",
       "    <tr>\n",
       "      <th>23</th>\n",
       "      <td>reaching_go_spout_bar_nov22</td>\n",
       "      <td>hold_for_water</td>\n",
       "      <td>bar; bar_off; spout; US_end_timer</td>\n",
       "      <td>break_after_abort; US_end_timer; water_on; wat...</td>\n",
       "    </tr>\n",
       "    <tr>\n",
       "      <th>24</th>\n",
       "      <td>reaching_go_spout_bar_dual_dec22</td>\n",
       "      <td>hold_for_water</td>\n",
       "      <td>bar; bar_off; spout; US_end_timer</td>\n",
       "      <td>Go_to_get_water; US_end_timer; break_after_abo...</td>\n",
       "    </tr>\n",
       "    <tr>\n",
       "      <th>25</th>\n",
       "      <td>reaching_go_spout_bar_dual_all_reward_dec22</td>\n",
       "      <td>hold_for_water; hold_for_air</td>\n",
       "      <td>bar; bar_off; spout; US_end_timer</td>\n",
       "      <td>Go_to_get_water; US_end_timer; break_after_abo...</td>\n",
       "    </tr>\n",
       "    <tr>\n",
       "      <th>26</th>\n",
       "      <td>reaching_go_spout_incr_break2_nov22</td>\n",
       "      <td>busy_win</td>\n",
       "      <td>bar; bar_off; spout; US_end_timer</td>\n",
       "      <td>spout; US_end_timer; button_press; busy_win</td>\n",
       "    </tr>\n",
       "    <tr>\n",
       "      <th>27</th>\n",
       "      <td>reaching_go_spout_feb23</td>\n",
       "      <td>bar_off; spout; US_end_timer</td>\n",
       "      <td>bar; bar_off; spout; US_end_timer</td>\n",
       "      <td>US_end_timer; water_on; Success:True; Success:...</td>\n",
       "    </tr>\n",
       "    <tr>\n",
       "      <th>28</th>\n",
       "      <td>reaching_go_spout_bar_mar23</td>\n",
       "      <td>hold_for_water</td>\n",
       "      <td>bar; bar_off; spout; US_end_timer</td>\n",
       "      <td>break_after_abort; US_end_timer; water_on; wat...</td>\n",
       "    </tr>\n",
       "  </tbody>\n",
       "</table>\n",
       "</div>"
      ],
      "text/plain": [
       "                                           task                      triggers  \\\n",
       "0                                  lick_go_nogo                      go; nogo   \n",
       "1                   lick_go_nogo_unconditionned                      go; nogo   \n",
       "2              lick_go_nogo_unconditionned_opto                      go; nogo   \n",
       "3                              reaching_go_nogo                CS_Go; CS_NoGo   \n",
       "4                           reaching_go_nogo_jc             CS_plus; CS_minus   \n",
       "5              reaching_go_nogo_opto_continuous                CS_Go; CS_NoGo   \n",
       "6                reaching_go_nogo_opto_sinusoid                CS_Go; CS_NoGo   \n",
       "7          reaching_go_nogo_opto_sinusoid_spout                CS_Go; CS_NoGo   \n",
       "8                     reaching_go_nogo_reversal                CS_Go; CS_NoGo   \n",
       "9           reaching_go_nogo_reversal_incentive                CS_Go; CS_NoGo   \n",
       "10                 reaching_go_nogo_touch_spout                CS_Go; CS_NoGo   \n",
       "11                                reaching_test                    us_deliver   \n",
       "12                             reaching_test_CS             CS_plus; CS_minus   \n",
       "13                                  reaching_yp           reward_presentation   \n",
       "14                   train_CSgo_US_coterminated                            Go   \n",
       "15                     train_Go_CS-US_pavlovian                            Go   \n",
       "16            train_Go_CS-US_pavlovian_with_bar                         CS_Go   \n",
       "17                reaching_go_spout_cued_uncued                         CS_Go   \n",
       "18                      pavlovian_nobar_nodelay                         CS_Go   \n",
       "19                            cued_uncued_oct22                  Cued; UnCued   \n",
       "20                        go_rewarding_aversive              Go_water; Go_air   \n",
       "21                      reaching_go_spout_nov22                      busy_win   \n",
       "22              reaching_go_spout_nov22_timewin                hold_for_water   \n",
       "23                  reaching_go_spout_bar_nov22                hold_for_water   \n",
       "24             reaching_go_spout_bar_dual_dec22                hold_for_water   \n",
       "25  reaching_go_spout_bar_dual_all_reward_dec22  hold_for_water; hold_for_air   \n",
       "26          reaching_go_spout_incr_break2_nov22                      busy_win   \n",
       "27                      reaching_go_spout_feb23  bar_off; spout; US_end_timer   \n",
       "28                  reaching_go_spout_bar_mar23                hold_for_water   \n",
       "\n",
       "                                               events  \\\n",
       "0                                 bar; bar_off; spout   \n",
       "1                                 bar; bar_off; spout   \n",
       "2                                 bar; bar_off; spout   \n",
       "3                                 bar; bar_off; spout   \n",
       "4                                 bar; bar_off; spout   \n",
       "5                                 bar; bar_off; spout   \n",
       "6                                 bar; bar_off; spout   \n",
       "7                                 bar; bar_off; spout   \n",
       "8                                 bar; bar_off; spout   \n",
       "9                                 bar; bar_off; spout   \n",
       "10                                bar; bar_off; spout   \n",
       "11                                bar; bar_off; spout   \n",
       "12                                bar; bar_off; spout   \n",
       "13                                bar; bar_off; spout   \n",
       "14                                bar; bar_off; spout   \n",
       "15                                bar; bar_off; spout   \n",
       "16                                bar; bar_off; spout   \n",
       "17                    bar; bar_off; spout; hold_start   \n",
       "18                                bar; bar_off; spout   \n",
       "19            bar; bar_off; spout; reward_delay_timer   \n",
       "20                                bar; bar_off; spout   \n",
       "21                  bar; bar_off; spout; US_end_timer   \n",
       "22  bar; bar_off; spout; button_release; US_end_timer   \n",
       "23                  bar; bar_off; spout; US_end_timer   \n",
       "24                  bar; bar_off; spout; US_end_timer   \n",
       "25                  bar; bar_off; spout; US_end_timer   \n",
       "26                  bar; bar_off; spout; US_end_timer   \n",
       "27                  bar; bar_off; spout; US_end_timer   \n",
       "28                  bar; bar_off; spout; US_end_timer   \n",
       "\n",
       "                                           conditions  \n",
       "0                                         free_reward  \n",
       "1                                         free_reward  \n",
       "2                                         free_reward  \n",
       "3   error bar_off; reward bar_off; error free; rew...  \n",
       "4   error bar_off; reward bar_off; error free; rew...  \n",
       "5   s_nogo_sham; s_nogo_cs_onset; s_go_sham; s_go_...  \n",
       "6   s_nogo_sham; s_nogo_cs_onset_2; s_nogo_cs_onse...  \n",
       "7   s_nogo_sham; s_nogo_cs_onset_2; s_nogo_cs_onse...  \n",
       "8   error bar_off; reward bar_off; error free; rew...  \n",
       "9   error bar_off; reward bar_off; error free; rew...  \n",
       "10  error bar_off; reward bar_off; error free; rew...  \n",
       "11                                        free_reward  \n",
       "12                                        free_reward  \n",
       "13                                        free_reward  \n",
       "14                                        free_reward  \n",
       "15                                        free_reward  \n",
       "16                                        free_reward  \n",
       "17  free_reward_timer; reward spout cued; reward b...  \n",
       "18                                                NaN  \n",
       "19  delayed reward spout cued; delayed reward spou...  \n",
       "20  free_reward; Go_water spout success; Go_air sp...  \n",
       "21  US_end_timer; water_on; Success:True; Success:...  \n",
       "22  US_end_timer; water by bar_off; water by spout...  \n",
       "23  break_after_abort; US_end_timer; water_on; wat...  \n",
       "24  Go_to_get_water; US_end_timer; break_after_abo...  \n",
       "25  Go_to_get_water; US_end_timer; break_after_abo...  \n",
       "26        spout; US_end_timer; button_press; busy_win  \n",
       "27  US_end_timer; water_on; Success:True; Success:...  \n",
       "28  break_after_abort; US_end_timer; water_on; wat...  "
      ]
     },
     "execution_count": 4,
     "metadata": {},
     "output_type": "execute_result"
    }
   ],
   "source": [
    "tasks = pd.read_csv(tasksfile, usecols=[1, 2, 3, 4], index_col=False)\n",
    "tasks\n"
   ]
  },
  {
   "attachments": {},
   "cell_type": "markdown",
   "metadata": {},
   "source": [
    "### Create an experiment object\n"
   ]
  },
  {
   "cell_type": "code",
   "execution_count": 5,
   "metadata": {},
   "outputs": [
    {
     "name": "stdout",
     "output_type": "stream",
     "text": [
      "Saved sessions loaded from: sessions.pkl\n"
     ]
    }
   ],
   "source": [
    "# Folder of a full experimental batch, all animals included\n",
    "\n",
    "# Enter absolute path like this\n",
    "# pycontrol_files_path = r'T:\\Data\\head-fixed\\test_folder\\pycontrol'\n",
    "\n",
    "# or this if you want to use data from the sample_data folder within the package\n",
    "#pycontrol_files_path = os.path.join(basefolder, 'sample_data/pycontrol')\n",
    "pycontrol_files_path = r'\\\\ettin\\Magill_Lab\\Julien\\Data\\head-fixed\\pycontrol\\reaching_go_spout_bar_nov22'\n",
    "\n",
    "# Load all raw text sessions in the indicated folder or a sessions.pkl file\n",
    "# if already existing in folder_path\n",
    "exp_cohort = Experiment(pycontrol_files_path, update=True)  # TODO\n",
    "\n",
    "# Only use if the Experiment cohort as been processed by trials before\n",
    "# TODO: assess whether this can be removed or not\n",
    "exp_cohort.by_trial = True\n",
    "\n",
    "\n",
    "smrx_folder_path = r'\\\\ettin\\Magill_Lab\\Julien\\Data\\head-fixed\\pycontrol\\reaching_go_spout_bar_nov22\\processed'\n"
   ]
  },
  {
   "cell_type": "code",
   "execution_count": 6,
   "metadata": {},
   "outputs": [
    {
     "name": "stderr",
     "output_type": "stream",
     "text": [
      "d:\\onedrive - nexus365\\private_dropbox\\projects\\trialexp\\trialexp\\utils\\rsync.py:78: RuntimeWarning: invalid value encountered in log\n",
      "  log_mse = np.log(chunk_mse)\n",
      "d:\\onedrive - nexus365\\private_dropbox\\projects\\trialexp\\trialexp\\utils\\rsync.py:78: RuntimeWarning: invalid value encountered in log\n",
      "  log_mse = np.log(chunk_mse)\n",
      "d:\\onedrive - nexus365\\private_dropbox\\projects\\trialexp\\trialexp\\utils\\rsync.py:78: RuntimeWarning: invalid value encountered in log\n",
      "  log_mse = np.log(chunk_mse)\n",
      "d:\\onedrive - nexus365\\private_dropbox\\projects\\trialexp\\trialexp\\utils\\rsync.py:78: RuntimeWarning: invalid value encountered in log\n",
      "  log_mse = np.log(chunk_mse)\n",
      "d:\\onedrive - nexus365\\private_dropbox\\projects\\trialexp\\trialexp\\utils\\rsync.py:78: RuntimeWarning: invalid value encountered in log\n",
      "  log_mse = np.log(chunk_mse)\n",
      "d:\\onedrive - nexus365\\private_dropbox\\projects\\trialexp\\trialexp\\utils\\rsync.py:78: RuntimeWarning: invalid value encountered in log\n",
      "  log_mse = np.log(chunk_mse)\n",
      "d:\\onedrive - nexus365\\private_dropbox\\projects\\trialexp\\trialexp\\utils\\rsync.py:78: RuntimeWarning: invalid value encountered in log\n",
      "  log_mse = np.log(chunk_mse)\n",
      "d:\\onedrive - nexus365\\private_dropbox\\projects\\trialexp\\trialexp\\utils\\rsync.py:78: RuntimeWarning: invalid value encountered in log\n",
      "  log_mse = np.log(chunk_mse)\n",
      "d:\\onedrive - nexus365\\private_dropbox\\projects\\trialexp\\trialexp\\utils\\rsync.py:78: RuntimeWarning: invalid value encountered in log\n",
      "  log_mse = np.log(chunk_mse)\n",
      "d:\\onedrive - nexus365\\private_dropbox\\projects\\trialexp\\trialexp\\utils\\rsync.py:78: RuntimeWarning: invalid value encountered in log\n",
      "  log_mse = np.log(chunk_mse)\n"
     ]
    },
    {
     "name": "stdout",
     "output_type": "stream",
     "text": [
      "saved \\\\ettin\\Magill_Lab\\Julien\\Data\\head-fixed\\pycontrol\\reaching_go_spout_bar_nov22\\sessions.pkl\n"
     ]
    }
   ],
   "source": [
    "exp_cohort.match_sessions_to_files(photometry_dir, ext='ppd')\n",
    "exp_cohort.sync_photometry_files(2)\n",
    "exp_cohort.save()\n"
   ]
  },
  {
   "cell_type": "code",
   "execution_count": 7,
   "metadata": {},
   "outputs": [
    {
     "data": {
      "text/plain": [
       "[<trialexp.process.data_import.Session at 0x16525301460>]"
      ]
     },
     "execution_count": 7,
     "metadata": {},
     "output_type": "execute_result"
    }
   ],
   "source": [
    "\n",
    "update_all_smrx = False\n",
    "\n",
    "ss = exp_cohort.sessions\n",
    "\n",
    "ss_ = [this_ss for this_ss in ss\n",
    "       if (this_ss.subject_ID in [58])\n",
    "       and (this_ss.task_name == 'reaching_go_spout_bar_mar23')\n",
    "       and (this_ss.datetime.date() >= datetime.date(2023, 3, 25))]\n",
    "ss_\n"
   ]
  },
  {
   "cell_type": "code",
   "execution_count": 8,
   "metadata": {},
   "outputs": [],
   "source": [
    "exp_cohort.sessions = ss_\n"
   ]
  },
  {
   "cell_type": "code",
   "execution_count": 9,
   "metadata": {},
   "outputs": [],
   "source": [
    "# Many combinations possible\n",
    "conditions_dict0 = {'trigger': 'hold_for_water', 'valid': True}\n",
    "\n",
    "\n",
    "# Aggregate all condition dictionaries in a list\n",
    "condition_list = [conditions_dict0]\n",
    "# Aliases for conditions\n",
    "cond_aliases = [\n",
    "    'any_trial',\n",
    "]\n",
    "\n",
    "# Groups as a list of lists\n",
    "groups = None\n",
    "\n",
    "# right_handed = [281]\n",
    "# groups = [[280, 282, 299, 300, 301],\\\n",
    "#     [284, 285, 296, 297, 306, 307]]\n",
    "# Window to exctract (in ms)\n"
   ]
  },
  {
   "cell_type": "code",
   "execution_count": 10,
   "metadata": {},
   "outputs": [
    {
     "data": {
      "text/plain": [
       "['27987 T:21986, this trial > X, type:spout, 0 spouts\\n#1: init by spout 0, bar_off 0, btn 0, free 0, miss 1, ---------X',\n",
       " '56144 water_on',\n",
       " '56144 water by spout',\n",
       " '59095 T:53895, this trial > O, type:spout, 6 spouts\\n#2: init by spout 1, bar_off 0, btn 0, free 0, miss 1, --------XO',\n",
       " '83592 water_on',\n",
       " '83592 water by spout',\n",
       " '84533 T:80555, this trial > O, type:spout, 2 spouts\\n#3: init by spout 2, bar_off 0, btn 0, free 0, miss 1, -------XOO',\n",
       " '103266 water_on',\n",
       " '103266 water by spout',\n",
       " '105553 T:102175, this trial > O, type:spout, 5 spouts\\n#4: init by spout 3, bar_off 0, btn 0, free 0, miss 1, ------XOOO',\n",
       " '133879 water_on',\n",
       " '133879 water by spout',\n",
       " '135077 T:132279, this trial > O, type:spout, 5 spouts\\n#5: init by spout 4, bar_off 0, btn 0, free 0, miss 1, -----XOOOO',\n",
       " '151538 water_on',\n",
       " '151538 water by spout',\n",
       " '152907 T:150645, this trial > O, type:spout, 6 spouts\\n#6: init by spout 5, bar_off 0, btn 0, free 0, miss 1, ----XOOOOO',\n",
       " '183347 water_on',\n",
       " '183347 water by spout',\n",
       " '184838 T:182666, this trial > O, type:spout, 3 spouts\\n#7: init by spout 6, bar_off 0, btn 0, free 0, miss 1, ---XOOOOOO',\n",
       " '207791 water_on',\n",
       " '207791 water by spout',\n",
       " '210286 T:206805, this trial > O, type:spout, 6 spouts\\n#8: init by spout 7, bar_off 0, btn 0, free 0, miss 1, --XOOOOOOO',\n",
       " '228478 water_on',\n",
       " '228478 water by spout',\n",
       " '230677 T:227535, this trial > O, type:spout, 5 spouts\\n#9: init by spout 8, bar_off 0, btn 0, free 0, miss 1, -XOOOOOOOO',\n",
       " '256568 water_on',\n",
       " '256568 water by spout',\n",
       " '257729 T:255223, this trial > O, type:spout, 5 spouts\\n#10: init by spout 9, bar_off 0, btn 0, free 0, miss 1, XOOOOOOOOO',\n",
       " '288553 water_on',\n",
       " '288553 water by spout']"
      ]
     },
     "execution_count": 10,
     "metadata": {},
     "output_type": "execute_result"
    }
   ],
   "source": [
    "exp_cohort.sessions[0].print_lines[0:30]\n"
   ]
  },
  {
   "cell_type": "code",
   "execution_count": 11,
   "metadata": {},
   "outputs": [
    {
     "name": "stdout",
     "output_type": "stream",
     "text": [
      "kms058-2023-03-25-184034_reaching_go_spout_bar_mar23.smrx\n"
     ]
    }
   ],
   "source": [
    "for ss in exp_cohort.sessions:\n",
    "    smrxname = re.sub('\\.txt', f'_{ss.task_name}.smrx', ss.file_name)\n",
    "    print(smrxname)\n"
   ]
  },
  {
   "cell_type": "code",
   "execution_count": 12,
   "metadata": {},
   "outputs": [
    {
     "name": "stdout",
     "output_type": "stream",
     "text": [
      "27987 T:21986, this trial > X, type:spout, 0 spouts#1: init by spout 0, bar_off 0, btn 0, free 0, miss 1, ---------X\n"
     ]
    }
   ],
   "source": [
    "exp_cohort.sessions[0].print_lines[0]\n",
    "\n",
    "a = re.sub('\\n', '', exp_cohort.sessions[0].print_lines[0])\n",
    "\n",
    "print(a)\n"
   ]
  },
  {
   "cell_type": "code",
   "execution_count": 13,
   "metadata": {},
   "outputs": [
    {
     "data": {
      "text/plain": [
       "{'pulse_times_A': array([      0,    2905,    7486, ..., 5385281, 5391790, 5398235]),\n",
       " 'pulse_times_B': array([4.725000e+03, 7.631000e+03, 1.221200e+04, ..., 5.390040e+06,\n",
       "        5.396549e+06, 5.402994e+06]),\n",
       " 'cor_times_A': array([0.000000e+00, 2.905000e+03, 7.486000e+03, ..., 5.385281e+06,\n",
       "                 nan,          nan]),\n",
       " 'cor_times_B': array([4.72500e+03, 7.63100e+03, 1.22120e+04, ..., 5.39004e+06,\n",
       "                nan,         nan]),\n",
       " 'units_A': 1,\n",
       " 'units_B': 1}"
      ]
     },
     "execution_count": 13,
     "metadata": {},
     "output_type": "execute_result"
    }
   ],
   "source": [
    "\n",
    "vars(exp_cohort.sessions[0].photometry_rsync)\n"
   ]
  },
  {
   "cell_type": "code",
   "execution_count": 14,
   "metadata": {},
   "outputs": [],
   "source": [
    "i = 0\n",
    "\n",
    "photometry_aligner = Rsync_aligner(exp_cohort.sessions[i].photometry_rsync.pulse_times_A, \n",
    "    exp_cohort.sessions[i].photometry_rsync.pulse_times_B,\n",
    "    chunk_size=5, plot=False, raise_exception=True)\n",
    "photometry_dict = import_ppd(exp_cohort.sessions[i].files['ppd'][0])\n",
    "photometry_times_pyc = photometry_aligner.B_to_A(photometry_dict['time'])\n"
   ]
  },
  {
   "cell_type": "code",
   "execution_count": 15,
   "metadata": {},
   "outputs": [
    {
     "name": "stdout",
     "output_type": "stream",
     "text": [
      "['file_name', 'experiment_name', 'task_name', 'setup_ID', 'subject_ID', 'datetime', 'datetime_string', 'events', 'times', 'print_lines', 'v_lines', 'state_IDs', 'event_IDs', 'number', 'files', 'photometry_rsync']\n"
     ]
    }
   ],
   "source": [
    "lst = list(exp_cohort.sessions[i].__dict__.keys())\n",
    "print(lst)"
   ]
  },
  {
   "cell_type": "code",
   "execution_count": 16,
   "metadata": {},
   "outputs": [
    {
     "data": {
      "text/plain": [
       "['any_trial']"
      ]
     },
     "execution_count": 16,
     "metadata": {},
     "output_type": "execute_result"
    }
   ],
   "source": [
    "condition_list\n",
    "cond_aliases"
   ]
  },
  {
   "attachments": {},
   "cell_type": "markdown",
   "metadata": {},
   "source": [
    "## modified from `get_photometry_trials`\n",
    "\n",
    "taken from `trialexp\\process\\pyphotometry\\photometry_functional.py`\n",
    "\n",
    "confusingly the same name of fuctions are found in \n",
    "```\n",
    "\\process\\data_import.py\n",
    "\\process\\pycontrol\\data_import.py\n",
    "\\process\\pycontrol\\session_analysis.py\n",
    "\\process\\pyphotometry\\photometry_functional.py\n",
    "```\n",
    "\n",
    "\n",
    "parameters are taken from `notebooks\\noncanonical\\nb20230222_092800_poster_delayed_tasks_photometry.ipynb`\n",
    "calls `get_photometry_groups` in `trialexp\\process\\data_import.py`\n",
    "calls `get_photometry_trials` in `trialexp\\process\\pyphotometry\\photometry_functional.py`"
   ]
  },
  {
   "cell_type": "code",
   "execution_count": 17,
   "metadata": {},
   "outputs": [],
   "source": [
    "session = exp_cohort.sessions[i]\n",
    "\n",
    "photometry_dict = import_ppd(session.files['ppd'][0])\n",
    "\n",
    "trig_on_ev = None\n",
    "last_before = None\n",
    "baseline_low_pass = 0.001, # var name changed from former high-pass,\n",
    "# was misleading on baseline computation\n",
    "# see https://github.com/juliencarponcy/trialexp/issues/8\n",
    "# first fix \n",
    "low_pass = 45\n",
    "median_filt = 3\n",
    "motion_corr = True\n",
    "df_over_f = True\n",
    "z_score = True\n",
    "downsampling_factor = 10\n",
    "return_full_session = True\n",
    "export_vars = ['analog_1_df_over_f', 'zscored_df_over_f']\n",
    "\n",
    "if low_pass:\n",
    "    # Filter signals with specified high and low pass frequencies (Hz).\n",
    "    b, a = get_filt_coefs(low_pass=low_pass, high_pass=None, sampling_rate=photometry_dict['sampling_rate'])\n",
    "    \n",
    "    if median_filt:\n",
    "        analog_1_medfilt = median_filtering(photometry_dict['analog_1'], medfilt_size = median_filt)\n",
    "        analog_2_medfilt = median_filtering(photometry_dict['analog_2'], medfilt_size = median_filt)\n",
    "        photometry_dict['analog_1_filt'] = filtfilt(b, a, analog_1_medfilt)\n",
    "        photometry_dict['analog_2_filt'] = filtfilt(b, a, analog_2_medfilt)\n",
    "\n",
    "    else:\n",
    "        photometry_dict['analog_1_filt'] = filtfilt(b, a, photometry_dict['analog_1'])\n",
    "        photometry_dict['analog_2_filt'] = filtfilt(b, a, photometry_dict['analog_2'])\n",
    "else:\n",
    "    if median_filt:\n",
    "        photometry_dict['analog_1_filt'] = median_filtering(photometry_dict['analog_1'], medfilt_size = median_filt)\n",
    "        photometry_dict['analog_2_filt'] = median_filtering(photometry_dict['analog_2'], medfilt_size = median_filt)  \n",
    "    else:\n",
    "        photometry_dict['analog_1_filt'] = photometry_dict['analog_2_filt'] = None\n",
    "# TODO: verify/improve/complement the implementation of the following:\n",
    "\n",
    "\n",
    "if motion_corr == True:\n",
    "\n",
    "    slope, intercept, r_value, p_value, std_err = linregress(x=photometry_dict['analog_2_filt'], y=photometry_dict['analog_1_filt'])\n",
    "    photometry_dict['analog_1_est_motion'] = intercept + slope * photometry_dict['analog_2_filt']\n",
    "    photometry_dict['analog_1_corrected'] = photometry_dict['analog_1_filt'] - photometry_dict['analog_1_est_motion']\n",
    "    \n",
    "    if df_over_f == False:\n",
    "        export_vars.append('analog_1_corrected')\n",
    "        # signal = photometry_dict['analog_1_corrected']\n",
    "    elif df_over_f == True:\n",
    "        # fror \n",
    "        b,a = butter(2, baseline_low_pass, btype='low', fs=photometry_dict['sampling_rate'])\n",
    "        photometry_dict['analog_1_baseline_fluo'] = filtfilt(b,a, photometry_dict['analog_1_filt'], padtype='even')\n",
    "\n",
    "        # Now calculate the dF/F by dividing the motion corrected signal by the time varying baseline fluorescence.\n",
    "        photometry_dict['analog_1_df_over_f'] = photometry_dict['analog_1_corrected'] / photometry_dict['analog_1_baseline_fluo'] \n",
    "        export_vars.append('analog_1_df_over_f')\n",
    "        # signal = photometry_dict['analog_1_df_over_f']\n",
    "if z_score:\n",
    "    # z-score the signal\n",
    "    photometry_dict['zscored_df_over_f'] = zscore(photometry_dict['analog_1_df_over_f'])\n",
    "    export_vars.append('zscored_df_over_f')\n",
    "elif baseline_low_pass or low_pass:\n",
    "    # signal = photometry_dict['analog_1_filt']']\n",
    "    export_vars.append('analog_1_filt')\n",
    "\n",
    "    # control = photometry_dict['analog_2_filt']']\n",
    "else:\n",
    "    export_vars.append('analog_1')\n",
    "# signal = photometry_dict['analog_1']']\n",
    "\n",
    "# only keep unique items (keys for the photometry_dict)\n",
    "export_vars = list(set(export_vars))\n",
    "\n",
    "if downsampling_factor:\n",
    "    # downsample\n",
    "    for k in export_vars:\n",
    "        photometry_dict[k] = decimate(photometry_dict[k], downsampling_factor) \n",
    "    # adjust sampling rate accordingly (maybe unnecessary)\n",
    "    photometry_dict['sampling_rate'] = photometry_dict['sampling_rate'] / downsampling_factor\n",
    "\n",
    "# fs = photometry_dict['sampling_rate']\n",
    "\n",
    "df_meta_photo = pd.DataFrame(columns=['subject_ID', 'datetime', 'task_name', 'condition_ID', 'trial_nb'])\n",
    "\n",
    "# Prepare dictionary output with keys are variable names and values are columns index\n",
    "col_names_numpy = {var: var_idx for var_idx, var in enumerate(export_vars)}\n",
    "\n",
    "\n",
    "\n",
    "\n"
   ]
  },
  {
   "cell_type": "code",
   "execution_count": 18,
   "metadata": {},
   "outputs": [
    {
     "name": "stdout",
     "output_type": "stream",
     "text": [
      "(1, 1)\n"
     ]
    }
   ],
   "source": [
    "trials_idx = np.zeros((1, 1))\n",
    "timestamps_pycontrol = np.zeros((1, 1))\n",
    "\n",
    "print(trials_idx.shape)"
   ]
  },
  {
   "cell_type": "code",
   "execution_count": 19,
   "metadata": {},
   "outputs": [],
   "source": [
    "\n",
    "# assumes that sync between pycontrol and photometry has been performed in previous step\n",
    "timestamps_photometry = session.photometry_rsync.A_to_B(timestamps_pycontrol)\n",
    "\n",
    "photometry_idx = (timestamps_photometry / (1000/photometry_dict['sampling_rate'])).round().astype(int)\n",
    "\n",
    "# retain only trials with enough values left and right\n",
    "complete_mask = (photometry_idx + trial_window[0]/(1000/photometry_dict['sampling_rate']) >= 0) & (\n",
    "    photometry_idx + trial_window[1] < len(photometry_dict[export_vars[0]])) \n",
    "\n",
    "# complete_idx = np.where(complete_mask)\n",
    "# trials_idx = np.array(trials_idx)\n",
    "# photometry_idx = np.array(photometry_idx)\n",
    "\n",
    "trials_idx = trials_idx[complete_mask]           \n",
    "photometry_idx = photometry_idx[complete_mask]\n",
    "\n",
    "# if verbose:\n",
    "#     print(f'condition {condition_ID} trials: {len(trials_idx)}')\n",
    "\n",
    "if len(trials_idx) == 0:\n",
    "    print('nothing')\n",
    "\n",
    "# Construct ranges of idx to get chunks (trials) of photometry data with np.take method \n",
    "photometry_idx = [range(idx + int(trial_window[0]/(1000/photometry_dict['sampling_rate'])) ,\n",
    "    idx + int(trial_window[1]/(1000/photometry_dict['sampling_rate']))) for idx in photometry_idx]"
   ]
  },
  {
   "cell_type": "code",
   "execution_count": 20,
   "metadata": {},
   "outputs": [],
   "source": [
    "photo_array = np.ndarray((len(trials_idx), len(photometry_idx[0]),len(export_vars)))\n",
    "\n",
    "for var_idx, photo_var in enumerate(export_vars):\n",
    "    # print(f'condition {condition_ID} var: {var_idx} shape {np.take(photometry_dict[photo_var], photometry_idx).shape}')\n",
    "    photo_array[:,:,var_idx] = np.take(photometry_dict[photo_var], photometry_idx)\n",
    "\n",
    "\n",
    "df_meta_photo['trial_nb'] = trials_idx\n",
    "df_meta_photo['subject_ID'] = session.subject_ID\n",
    "df_meta_photo['datetime'] = session.datetime\n",
    "df_meta_photo['task_name'] = session.task_name\n",
    "# df_meta_photo['condition_ID'] = condition_ID\n"
   ]
  },
  {
   "cell_type": "code",
   "execution_count": 21,
   "metadata": {},
   "outputs": [],
   "source": [
    "\n",
    "if 'photo_array' in locals():\n",
    "            photo_array = photo_array.swapaxes(2,1)\n",
    "else:\n",
    "    # This occurs when no photometry data is recored at all for the session\n",
    "    # would occur anyway without the previous check, \n",
    "    # avoid it happening spontaneously on return.\n",
    "    # useless but could be use to convey extra information to calling method\n",
    "    \n",
    "    if verbose:\n",
    "        print(f'No photometry data to collect for subject ID:{session.subject_ID}\\\n",
    "            \\nsession: {session.datetime}')\n",
    "\n",
    "    raise UnboundLocalError()\n",
    "\n",
    "    # Trying to implement empty arrays and dataframe when nothing to return\n",
    "    # df_meta_photo = pd.DataFrame(columns=['subject_ID', 'datetime', 'task_name', 'condition_ID', 'trial_nb'])\n",
    "    # ra\n",
    "    # photo_array = np.ndarray((len(trials_idx), len(photometry_idx),len(export_vars)))\n",
    "\n",
    "# df_meta_photo, col_names_numpy, photo_array, photometry_dict\n"
   ]
  },
  {
   "attachments": {},
   "cell_type": "markdown",
   "metadata": {},
   "source": [
    "# Photometry data processing?\n",
    "\n"
   ]
  },
  {
   "cell_type": "code",
   "execution_count": 22,
   "metadata": {},
   "outputs": [
    {
     "name": "stdout",
     "output_type": "stream",
     "text": [
      "analog_1\n",
      "analog_2\n",
      "digital_1\n",
      "digital_2\n",
      "pulse_inds_1\n",
      "pulse_inds_2\n",
      "pulse_times_1\n",
      "pulse_times_2\n",
      "time\n",
      "subject_ID\n",
      "date_time\n",
      "mode\n",
      "sampling_rate\n",
      "volts_per_division\n",
      "LED_current\n",
      "version\n",
      "analog_1_filt\n",
      "analog_2_filt\n",
      "analog_1_est_motion\n",
      "analog_1_corrected\n",
      "analog_1_baseline_fluo\n",
      "analog_1_df_over_f\n",
      "zscored_df_over_f\n"
     ]
    }
   ],
   "source": [
    "[print(k) for k in photometry_dict.keys()];"
   ]
  },
  {
   "cell_type": "code",
   "execution_count": 23,
   "metadata": {},
   "outputs": [],
   "source": [
    "nan_indices = np.argwhere(np.isnan(photometry_times_pyc))\n",
    "T_nonan = np.delete(photometry_times_pyc, nan_indices)\n",
    "max_time_ms = T_nonan[-1]\n",
    "\n",
    "def get_newTandY_orig(T, photometry_dict, name, max_time_ms):\n",
    "    T = photometry_times_pyc # not down-sampled yet\n",
    "\n",
    "    nan_indices = np.argwhere(np.isnan(T))\n",
    "    T_nonan = np.delete(T, nan_indices)\n",
    "\n",
    "    Y = photometry_dict[name]\n",
    "    Y_nonan = np.delete(Y, nan_indices)  # []\n",
    "    max_time_ms = T_nonan[-1]\n",
    "\n",
    "\n",
    "\n",
    "    new_T = np.arange(0, max_time_ms, 1/1000*1000) #NOTE sampling_rate was originally 1000\n",
    "    new_Y = np.interp(new_T, T_nonan, Y_nonan)\n",
    "    return new_T, new_Y\n",
    "\n",
    "\n",
    "def get_newTandY_down(T, photometry_dict, name, max_time_ms):\n",
    "    Tdown = [T[i] for i in range(0, len(T), 10)] #down sampled time vector\n",
    "\n",
    "    nan_indices = np.argwhere(np.isnan(Tdown))\n",
    "    Tdown_nonan = np.delete(Tdown, nan_indices)\n",
    "\n",
    "    Y = photometry_dict[name]\n",
    "    Y_nonan = np.delete(Y, nan_indices) # []\n",
    "\n",
    "    # Need to use interp to accomodate data into Spike2 bins\n",
    "    new_T = np.arange(0, max_time_ms, 1/photometry_dict['sampling_rate']*1000) #NOTE sampling_rate is already downsampled by 10\n",
    "    new_Y = np.interp(new_T, Tdown_nonan, Y_nonan)\n",
    "    return new_T, new_Y\n"
   ]
  },
  {
   "attachments": {},
   "cell_type": "markdown",
   "metadata": {},
   "source": [
    "# Motion correction ideas\n",
    "\n",
    "`process/pyphotometry/utils.py/motion_corretion()`\n",
    "\n",
    "1. Linear regression for the subset of data when dynamic\n",
    "2. Partial least square (PLS) regression\n",
    "3. Motion correction with linear regression on average waveforms (question of when to apply motion correction)\n",
    "4. Create waveform averages of `analog_2_filt`\n",
    "\n",
    "\n",
    "\n"
   ]
  },
  {
   "cell_type": "code",
   "execution_count": 33,
   "metadata": {},
   "outputs": [
    {
     "name": "stdout",
     "output_type": "stream",
     "text": [
      "Mean squared error: 0.00\n",
      "R2 score: 0.66\n"
     ]
    }
   ],
   "source": [
    "# PLS\n",
    "\n",
    "import numpy as np\n",
    "from sklearn.cross_decomposition import PLSRegression\n",
    "from sklearn.model_selection import train_test_split\n",
    "from sklearn.metrics import mean_squared_error, r2_score\n",
    "\n",
    "# Prepare data\n",
    "T = photometry_times_pyc # not down-sampled yet\n",
    "nan_indices = np.argwhere(np.isnan(T))\n",
    "\n",
    "X = photometry_dict['analog_2_filt'].reshape(-1, 1)\n",
    "X = np.delete(X, nan_indices)\n",
    "X = X.reshape(-1, 1)\n",
    "\n",
    "y = photometry_dict['analog_1_filt'].reshape(-1, 1)\n",
    "y = np.delete(y, nan_indices)\n",
    "y = y.reshape(-1, 1)\n",
    "\n",
    "\n",
    "# split the data to training and test\n",
    "X_train, X_test, y_train, y_test = train_test_split(\n",
    "    X, y, test_size=0.2, random_state=42)\n",
    "\n",
    "# PLS regression model creation and learning\n",
    "pls = PLSRegression(n_components=1)\n",
    "pls.fit(X_train, y_train)\n",
    "\n",
    "# model prediction and evaluation\n",
    "y_pred = pls.predict(X_test)\n",
    "mse = mean_squared_error(y_test, y_pred)\n",
    "r2 = r2_score(y_test, y_pred)\n",
    "\n",
    "print(f'Mean squared error: {mse:.2f}')\n",
    "print(f'R2 score: {r2:.2f}')\n",
    "\n",
    "\n"
   ]
  },
  {
   "cell_type": "code",
   "execution_count": 35,
   "metadata": {},
   "outputs": [
    {
     "data": {
      "text/plain": [
       "1077064"
      ]
     },
     "execution_count": 35,
     "metadata": {},
     "output_type": "execute_result"
    }
   ],
   "source": [
    "len(X_test)"
   ]
  },
  {
   "attachments": {},
   "cell_type": "markdown",
   "metadata": {},
   "source": [
    "PLS did not solve the problem out of the box\n",
    "\n",
    "Model is still twice as large as the real data"
   ]
  },
  {
   "cell_type": "code",
   "execution_count": 49,
   "metadata": {},
   "outputs": [
    {
     "data": {
      "image/png": "[encoded data removed]",
      "text/plain": [
       "<Figure size 640x480 with 1 Axes>"
      ]
     },
     "metadata": {},
     "output_type": "display_data"
    }
   ],
   "source": [
    "from matplotlib import pyplot as plt\n",
    "\n",
    "T = photometry_times_pyc # not down-sampled yet\n",
    "nan_indices = np.argwhere(np.isnan(T))\n",
    "T_nonan = np.delete(T, nan_indices)\n",
    "T_nonan_s = [t/1000 for t in T_nonan]\n",
    "\n",
    "lr = np.delete(photometry_dict['analog_1_est_motion'], nan_indices)\n",
    "\n",
    "# plt.plot(T_nonan_s, X)\n",
    "plt.plot(T_nonan_s, y, linewidth=0.5)\n",
    "plt.plot(T_nonan_s, pls.predict(X), linewidth=0.5)\n",
    "plt.plot(T_nonan_s, lr, linewidth=0.5)\n",
    "\n",
    "plt.xlim(2100,2200)\n",
    "plt.show()\n",
    "\n"
   ]
  },
  {
   "cell_type": "code",
   "execution_count": null,
   "metadata": {},
   "outputs": [],
   "source": [
    "# window approach\n",
    "\n",
    "\n"
   ]
  },
  {
   "cell_type": "code",
   "execution_count": null,
   "metadata": {},
   "outputs": [],
   "source": [
    "#  Applying highpass filter to remove ultraslow compnents\n"
   ]
  },
  {
   "attachments": {},
   "cell_type": "markdown",
   "metadata": {},
   "source": [
    "I thought that using average waveforms, it would be easier to fit the red and green channels, but this comes with an assumption that the vast majority of data points in average waveform does not have dopamine signals.\n",
    "\n",
    "For instance, if there is a constant dopamine release, we cannot see it.\n",
    "\n",
    "How about trial-based motion correction? This can avoid the issue of baseline domination.\n",
    "\n",
    "Or work of averages of groups of 10 trials instead of all the trials? We can get many smoothed curves for modelling.\n",
    "\n",
    "How does pcolor look like for individual trials for analog_2_filt? Are they highly reproducible?\n",
    "\n"
   ]
  },
  {
   "cell_type": "code",
   "execution_count": null,
   "metadata": {},
   "outputs": [],
   "source": [
    "# correction on average approach\n",
    "\n",
    "\n"
   ]
  },
  {
   "cell_type": "code",
   "execution_count": 24,
   "metadata": {},
   "outputs": [
    {
     "data": {
      "image/png": "[encoded data removed]",
      "text/plain": [
       "<Figure size 640x480 with 1 Axes>"
      ]
     },
     "metadata": {},
     "output_type": "display_data"
    },
    {
     "data": {
      "image/png": "[encoded data removed]",
      "text/plain": [
       "<Figure size 640x480 with 2 Axes>"
      ]
     },
     "metadata": {},
     "output_type": "display_data"
    }
   ],
   "source": [
    "from matplotlib import pyplot as plt\n",
    "\n",
    "photometry_dict['analog_1_filt']\n",
    "\n",
    "photometry_dict['analog_2_filt']\n"
   ]
  },
  {
   "cell_type": "code",
   "execution_count": null,
   "metadata": {},
   "outputs": [],
   "source": [
    "slope, intercept, r_value, p_value, std_err = linregress(\n",
    "    x=photometry_dict['analog_2_filt'], y=photometry_dict['analog_1_filt'])\n",
    "\n",
    "print(f\"slope: {slope:.3f}\\nintercept: {intercept:.3f}\\nr_value: {r_value:.3f}\\np_value: {p_value}\")\n",
    "\n",
    "\n",
    "\n",
    "\n",
    "fig, ax = plt.subplots()\n",
    "\n",
    "plt.hist2d(y2, y1, bins=(100, 100), cmap='viridis')\n",
    "\n",
    "# Add a colorbar\n",
    "plt.colorbar()\n",
    "\n",
    "x0 = np.arange(np.min(y2), np.max(y2), (np.max(y2) - np.min(y2))/1000)\n",
    "y0 = slope*x0 + intercept\n",
    "\n",
    "plt.plot(x0, y0, '-', color='yellow', linewidth=2)\n",
    "\n",
    "# Customize and show the plot\n",
    "plt.xlabel('analog_2_filt, red')\n",
    "plt.ylabel('analog_1_filt, green')\n",
    "plt.title('Heatmap Representation')\n",
    "# plt.grid(True)\n",
    "plt.show()\n",
    "\n",
    "fig, ax = plt.subplots()\n",
    "\n",
    "plt.hist2d(y2, y1, bins=(100, 100), cmap='viridis', vmax=2000)\n",
    "plt.plot(x0, y0, '-', color='yellow', linewidth=2)\n",
    "plt.colorbar()\n",
    "\n",
    "plt.xlabel('analog_2_filt, red')\n",
    "plt.ylabel('analog_1_filt, green')\n",
    "plt.title('Heatmap Representation')\n",
    "plt.show()\n"
   ]
  },
  {
   "attachments": {},
   "cell_type": "markdown",
   "metadata": {},
   "source": [
    "This method uses motion artifacts and real signals together.  \n",
    "\n",
    "My concern is that because there are so many data points at baseline, eg X = 0.55, y= 0.165, the regression cofficients are not working well to fit values with higher fluorescence.\n",
    "\n",
    "I suspect that the intercept is working well but the slope is far from being accurate.\n",
    "\n",
    "Perhaps we need to apply some kind of adjusted weight to carry out regression better.\n",
    "\n",
    "It appears that at higher X and Y values, data points go further up from the regression line. Because they have more than baseline signals, this deflection may be critical. \n",
    "\n",
    "In other words, the regressdion line is __underestimating__ an effect from motion captured in red channels.\n",
    "\n",
    "Then, model predicted motion component is expected to be lower than the signals in analog_1. In reality, it is too big. So the direction of error is not "
   ]
  },
  {
   "cell_type": "code",
   "execution_count": null,
   "metadata": {},
   "outputs": [],
   "source": [
    "fig, ax = plt.subplots()\n",
    "\n",
    "t, y3 = get_newTandY_orig(T, photometry_dict, 'analog_1_est_motion', max_time_ms)\n",
    "t, y4 = get_newTandY_orig(T, photometry_dict, 'analog_1_corrected', max_time_ms)\n",
    "\n",
    "plt.plot(t/1000, y1, '-', label='analog_1_filt', linewidth=0.75)\n",
    "# plt.plot(t/1000, y2, '-', label='analog_2_filt', linewidth=0.75)\n",
    "plt.plot(t/1000, y3, '-', label='analog_1_est_motion', linewidth=0.75)\n",
    "plt.plot(t/1000, y4, '-', label='analog_1_corrected', linewidth=0.75)\n",
    "\n",
    "# Customize and show the plot\n",
    "plt.legend()\n",
    "\n",
    "plt.xlabel('Time (s)')\n",
    "plt.ylabel('Photometry')\n",
    "plt.title('Motion correction')\n",
    "# plt.grid(True)\n",
    "plt.xlim(2015,2040)\n",
    "plt.show()"
   ]
  },
  {
   "cell_type": "markdown",
   "metadata": {},
   "source": []
  }
 ],
 "metadata": {
  "kernelspec": {
   "display_name": "trialexp",
   "language": "python",
   "name": "python3"
  },
  "language_info": {
   "codemirror_mode": {
    "name": "ipython",
    "version": 3
   },
   "file_extension": ".py",
   "mimetype": "text/x-python",
   "name": "python",
   "nbconvert_exporter": "python",
   "pygments_lexer": "ipython3",
   "version": "3.9.16"
  },
  "orig_nbformat": 4
 },
 "nbformat": 4,
 "nbformat_minor": 2
}
