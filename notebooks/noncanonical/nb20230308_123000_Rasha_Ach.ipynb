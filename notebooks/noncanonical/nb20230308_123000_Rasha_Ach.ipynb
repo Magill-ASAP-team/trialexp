{
 "cells": [
  {
   "attachments": {},
   "cell_type": "markdown",
   "metadata": {},
   "source": [
    "# Delayed tasks analysis\n"
   ]
  },
  {
   "attachments": {},
   "cell_type": "markdown",
   "metadata": {},
   "source": [
    "### Convert notebook to python\n",
    "```\n",
    "bash\n",
    "jupyter nbconvert \"D:\\OneDrive - Nexus365\\Private_Dropbox\\Projects\\trialexp\\notebooks\\noncanonical\\nb20230202_145400_delayed_tasks_and_316_photometry.ipynb\" --to=\"python\" --output-dir=\"D:\\OneDrive - Nexus365\\Private_Dropbox\\Projects\\trialexp\\notebooks\\noncanonical\" --output=\"nb20230202_145400_delayed_tasks_and_316_photometry\"\n",
    "```"
   ]
  },
  {
   "cell_type": "markdown",
   "metadata": {},
   "source": [
    "Quick analysis of instrumental reaching"
   ]
  },
  {
   "cell_type": "markdown",
   "metadata": {},
   "source": []
  },
  {
   "cell_type": "code",
   "execution_count": 45,
   "metadata": {},
   "outputs": [
    {
     "name": "stdout",
     "output_type": "stream",
     "text": [
      "The autoreload extension is already loaded. To reload it, use:\n",
      "  %reload_ext autoreload\n"
     ]
    }
   ],
   "source": [
    "# allow for automatic reloading of classes and function when updating the code\n",
    "%load_ext autoreload\n",
    "%autoreload 2 \n",
    "\n",
    "# Import Session and Experiment class with helper functions\n",
    "from trialexp.process.data_import import *\n"
   ]
  },
  {
   "cell_type": "markdown",
   "metadata": {},
   "source": [
    "### Variables"
   ]
  },
  {
   "cell_type": "code",
   "execution_count": 46,
   "metadata": {},
   "outputs": [],
   "source": [
    "import pandas as pd\n",
    "from pathlib import Path\n",
    "trial_window = [-2000, 4000] # in ms\n",
    "\n",
    "# time limit around trigger to perform an event\n",
    "# determine successful trials\n",
    "# timelim = [1000, 4000] # in ms\n",
    "\n",
    "# Digital channel nb of the pyphotometry device\n",
    "# on which rsync signal is sent (from pycontrol device)\n",
    "rsync_chan = 2\n",
    "\n",
    "basefolder = Path(os.getcwd()).parent.parent\n",
    "\n",
    "# These must be absolute paths\n",
    "# use this to use within package tasks files (in params)\n",
    "tasksfile = Path(basefolder,'params','tasks_params.csv')\n",
    "# use this to put a local full path\n",
    "#tasksfile = -r'C:/.../tasks_params.csv' \n",
    "\n",
    "# from sample_data\n",
    "\n",
    "# # From jade\n",
    "# photometry_dir = Path('/home/MRC.OX.AC.UK/phar0732/ettin/Data/head-fixed/photometry')\n",
    "# pycontrol_dir = Path('/home/MRC.OX.AC.UK/phar0732/ettin/Data/head-fixed/pycontrol')\n",
    "\n",
    "# From julien-pc\n",
    "photometry_dir = r'\\\\ettin\\Magill_Lab\\Julien\\Data\\head-fixed\\pyphotometry\\data\\reaching_go_spout_bar_nov22'\n",
    "pycontrol_dir = r'\\\\ettin\\Magill_Lab\\Julien\\Data\\head-fixed\\pycontrol\\reaching_go_spout_bar_nov22'\n",
    "\n",
    "#From laptop\n",
    "# photometry_dir = r'C:\\Users\\phar0732\\Documents\\GitHub\\trialexp\\sample_data\\pyphotometry\\reaching_go_spout_incr_break2_nov22'\n",
    "# pycontrol_dir = r'C:\\Users\\phar0732\\Documents\\GitHub\\trialexp\\sample_data\\pycontrol\\reaching_go_spout_incr_break2_nov22'\n",
    "\n",
    "video_dir = r'\\\\ettin\\Magill_Lab\\Julien\\Data\\head-fixed\\videos'\n",
    "tasks = pd.read_csv(tasksfile, usecols=[1, 2, 3, 4], index_col=False)\n"
   ]
  },
  {
   "cell_type": "markdown",
   "metadata": {},
   "source": [
    "### Create an experiment object\n"
   ]
  },
  {
   "cell_type": "code",
   "execution_count": 47,
   "metadata": {},
   "outputs": [
    {
     "name": "stdout",
     "output_type": "stream",
     "text": [
      "Unable to import file: v-2022-11-26-150859.txt\n",
      "invalid literal for int() with base 10: ''\n",
      "session nb:  1 0 2022-11-19 17:58:51 reaching_go_spout_bar_nov22\n",
      "session nb:  2 0 2022-11-19 17:59:45 reaching_go_spout_bar_nov22\n",
      "session nb:  3 0 2022-11-19 18:10:19 reaching_go_spout_bar_nov22\n",
      "session nb:  4 0 2022-11-19 18:17:41 reaching_go_spout_bar_nov22\n",
      "session nb:  5 0 2022-11-19 18:19:36 reaching_go_spout_bar_nov22\n",
      "session nb:  6 0 2022-11-19 18:25:34 reaching_go_spout_bar_nov22\n",
      "session nb:  7 0 2022-11-19 18:26:09 reaching_go_spout_bar_nov22\n",
      "session nb:  8 0 2022-11-19 18:26:36 reaching_go_spout_bar_nov22\n",
      "session nb:  9 0 2022-11-19 18:35:34 reaching_go_spout_bar_nov22\n",
      "session nb:  10 0 2022-11-19 18:38:56 reaching_go_spout_bar_nov22\n",
      "session nb:  11 0 2022-11-19 18:40:03 reaching_go_spout_bar_nov22\n",
      "session nb:  12 0 2022-11-19 18:41:07 reaching_go_spout_bar_nov22\n",
      "session nb:  13 0 2022-11-21 14:00:02 reaching_go_spout_nov22\n",
      "session nb:  14 0 2022-11-21 15:11:28 reaching_go_spout_nov22\n",
      "session nb:  15 0 2022-11-21 15:12:53 reaching_go_spout_nov22\n",
      "session nb:  16 0 2022-11-21 16:52:57 reaching_go_spout_nov22\n",
      "session nb:  17 0 2022-11-21 16:59:44 reaching_go_spout_nov22\n",
      "session nb:  18 0 2022-11-21 17:02:14 reaching_go_spout_nov22\n",
      "session nb:  19 0 2022-11-21 17:05:55 reaching_go_spout_nov22\n",
      "session nb:  20 0 2022-11-21 17:06:38 reaching_go_spout_nov22\n",
      "session nb:  21 0 2022-11-21 17:06:58 reaching_go_spout_nov22\n",
      "session nb:  22 0 2022-11-23 14:34:57 reaching_go_spout_nov22\n",
      "session nb:  23 0 2022-11-23 14:35:56 reaching_go_spout_bar_nov22\n",
      "session nb:  24 0 2022-11-23 14:38:18 reaching_go_spout_bar_nov22\n",
      "session nb:  25 0 2022-11-23 14:44:03 reaching_go_spout_bar_nov22\n",
      "session nb:  26 0 2022-11-23 17:37:48 reaching_go_spout_bar_nov22\n",
      "session nb:  27 0 2022-11-24 18:28:31 reaching_go_spout_bar_nov22\n",
      "session nb:  28 0 2022-11-24 18:29:50 reaching_go_spout_bar_nov22\n",
      "session nb:  29 0 2022-11-24 18:53:46 reaching_go_spout_bar_nov22\n",
      "session nb:  30 0 2022-11-25 11:18:19 reaching_go_spout_bar_nov22\n",
      "session nb:  31 0 2022-11-25 11:20:24 reaching_go_spout_bar_nov22\n",
      "session nb:  32 0 2022-11-25 11:22:37 reaching_go_spout_bar_nov22\n",
      "session nb:  33 0 2023-02-16 09:56:48 reaching_go_spout_bar_nov22\n",
      "session nb:  34 0 2023-03-09 10:45:14 reaching_go_spout_bar_nov22\n",
      "session nb:  1 1 2022-11-24 18:28:31 reaching_go_spout_bar_nov22\n",
      "session nb:  2 1 2022-11-24 18:29:50 reaching_go_spout_bar_nov22\n",
      "session nb:  3 1 2022-11-24 18:53:47 reaching_go_spout_bar_nov22\n",
      "session nb:  4 1 2022-11-25 11:20:24 reaching_go_spout_bar_nov22\n",
      "session nb:  5 1 2022-11-25 11:22:37 reaching_go_spout_bar_nov22\n",
      "session nb:  1 64 2023-02-02 11:18:05 reaching_go_spout_bar_nov22\n",
      "session nb:  2 64 2023-02-03 15:53:28 reaching_go_spout_bar_nov22\n",
      "session nb:  3 64 2023-02-03 15:57:49 reaching_go_spout_bar_nov22\n",
      "session nb:  4 64 2023-02-06 09:44:31 reaching_go_spout_bar_nov22\n",
      "session nb:  5 64 2023-02-07 10:20:29 reaching_go_spout_bar_nov22\n",
      "session nb:  6 64 2023-02-08 10:04:49 reaching_go_spout_bar_nov22\n",
      "session nb:  7 64 2023-02-09 09:53:17 reaching_go_spout_bar_nov22\n",
      "session nb:  8 64 2023-02-10 11:55:09 reaching_go_spout_bar_nov22\n",
      "session nb:  9 64 2023-02-10 12:36:20 reaching_go_spout_bar_nov22\n",
      "session nb:  10 64 2023-02-13 10:49:49 reaching_go_spout_bar_nov22\n",
      "session nb:  11 64 2023-02-14 11:50:18 reaching_go_spout_bar_nov22\n",
      "session nb:  12 64 2023-02-15 10:44:38 reaching_go_spout_bar_nov22\n",
      "session nb:  13 64 2023-02-16 10:34:24 reaching_go_spout_bar_nov22\n",
      "session nb:  14 64 2023-02-17 09:49:40 reaching_go_spout_bar_nov22\n",
      "session nb:  15 64 2023-02-17 09:49:40 reaching_go_spout_bar_nov22\n",
      "session nb:  16 64 2023-02-20 10:13:08 reaching_go_spout_bar_nov22\n",
      "session nb:  17 64 2023-02-21 10:29:55 reaching_go_spout_bar_nov22\n",
      "session nb:  18 64 2023-02-22 15:09:06 reaching_go_spout_bar_nov22\n",
      "session nb:  19 64 2023-02-23 14:38:46 reaching_go_spout_bar_nov22\n",
      "session nb:  20 64 2023-02-23 15:18:59 reaching_go_spout_bar_nov22\n",
      "session nb:  21 64 2023-02-24 09:56:57 reaching_go_spout_bar_nov22\n",
      "session nb:  22 64 2023-02-24 10:38:31 reaching_go_spout_bar_nov22\n",
      "session nb:  23 64 2023-02-27 16:19:56 reaching_go_spout_bar_nov22\n",
      "session nb:  24 64 2023-02-27 16:37:09 reaching_go_spout_bar_nov22\n",
      "session nb:  25 64 2023-02-28 09:47:11 reaching_go_spout_bar_nov22\n",
      "session nb:  26 64 2023-03-01 10:25:03 reaching_go_spout_bar_nov22\n",
      "session nb:  27 64 2023-03-02 10:23:11 reaching_go_spout_bar_nov22\n",
      "session nb:  28 64 2023-03-02 10:35:47 reaching_go_spout_nov22\n",
      "session nb:  29 64 2023-03-02 10:39:14 reaching_go_spout_incr_break2_nov22\n",
      "session nb:  30 64 2023-03-03 10:29:30 reaching_go_spout_incr_break2_nov22\n",
      "session nb:  31 64 2023-03-06 10:45:12 reaching_go_spout_bar_nov22\n",
      "session nb:  32 64 2023-03-06 10:54:05 reaching_go_spout_incr_break2_nov22\n",
      "session nb:  33 64 2023-03-06 11:01:46 reaching_go_spout_incr_break2_nov22\n",
      "session nb:  34 64 2023-03-06 11:36:52 reaching_go_spout_bar_nov22\n",
      "session nb:  1 603 2023-03-21 15:29:00 reaching_go_spout_bar_mar23\n",
      "session nb:  2 603 2023-03-22 13:01:21 reaching_go_spout_bar_mar23\n",
      "session nb:  3 603 2023-03-23 11:23:24 reaching_go_spout_bar_mar23\n",
      "session nb:  4 603 2023-03-24 08:39:53 reaching_go_spout_bar_mar23\n",
      "session nb:  5 603 2023-03-27 15:00:06 reaching_go_spout_bar_mar23\n",
      "session nb:  6 603 2023-03-29 08:38:20 reaching_go_spout_bar_mar23\n",
      "session nb:  7 603 2023-03-29 19:49:34 reaching_go_spout_bar_mar23\n",
      "session nb:  1 58 2023-02-02 11:28:09 reaching_go_spout_bar_nov22\n",
      "session nb:  2 58 2023-02-03 15:58:23 reaching_go_spout_bar_nov22\n",
      "session nb:  3 58 2023-02-20 12:04:53 reaching_go_spout_bar_nov22\n",
      "session nb:  4 58 2023-02-21 11:52:13 reaching_go_spout_bar_nov22\n",
      "session nb:  5 58 2023-02-22 16:21:47 reaching_go_spout_bar_nov22\n",
      "session nb:  6 58 2023-02-23 16:32:36 reaching_go_spout_bar_nov22\n",
      "session nb:  7 58 2023-02-23 17:13:13 reaching_go_spout_bar_nov22\n",
      "session nb:  8 58 2023-02-24 11:15:21 reaching_go_spout_bar_nov22\n",
      "session nb:  9 58 2023-02-24 11:57:00 reaching_go_spout_bar_nov22\n",
      "session nb:  10 58 2023-02-28 14:41:01 reaching_go_spout_bar_nov22\n",
      "session nb:  11 58 2023-03-01 11:14:46 reaching_go_spout_bar_nov22\n",
      "session nb:  12 58 2023-03-02 10:21:29 reaching_go_spout_bar_nov22\n",
      "session nb:  13 58 2023-03-03 11:01:47 reaching_go_spout_bar_nov22\n",
      "session nb:  14 58 2023-03-03 11:13:20 reaching_go_spout_bar_nov22\n",
      "session nb:  15 58 2023-03-06 11:37:03 reaching_go_spout_bar_nov22\n",
      "session nb:  16 58 2023-03-06 11:54:58 reaching_go_spout_bar_nov22\n",
      "session nb:  17 58 2023-03-07 10:43:32 reaching_go_spout_bar_nov22\n",
      "session nb:  18 58 2023-03-09 10:47:59 reaching_go_spout_bar_nov22\n",
      "session nb:  19 58 2023-03-10 10:17:10 reaching_go_spout_bar_nov22\n",
      "session nb:  20 58 2023-03-13 10:19:15 reaching_go_spout_bar_nov22\n",
      "session nb:  21 58 2023-03-14 10:11:59 reaching_go_spout_bar_nov22\n",
      "session nb:  22 58 2023-03-14 16:51:10 reaching_go_spout_bar_mar23\n",
      "session nb:  23 58 2023-03-15 11:43:06 reaching_go_spout_bar_mar23\n",
      "session nb:  24 58 2023-03-16 11:01:34 reaching_go_spout_bar_mar23\n",
      "session nb:  25 58 2023-03-17 08:43:07 reaching_go_spout_bar_mar23\n",
      "session nb:  26 58 2023-03-18 17:10:32 reaching_go_spout_bar_mar23\n",
      "session nb:  27 58 2023-03-19 15:13:57 reaching_go_spout_bar_mar23\n",
      "session nb:  28 58 2023-03-20 13:26:58 reaching_go_spout_bar_mar23\n",
      "session nb:  29 58 2023-03-22 18:26:17 reaching_go_spout_bar_mar23\n",
      "session nb:  30 58 2023-03-23 19:17:40 reaching_go_spout_bar_mar23\n",
      "session nb:  31 58 2023-03-24 15:12:54 reaching_go_spout_bar_mar23\n",
      "session nb:  32 58 2023-03-25 18:40:34 reaching_go_spout_bar_mar23\n",
      "session nb:  1 604 2023-03-14 09:25:22 reaching_go_spout_bar_mar23\n",
      "session nb:  2 604 2023-03-14 09:30:01 reaching_go_spout_bar_mar23\n",
      "session nb:  3 604 2023-03-15 11:48:19 reaching_go_spout_bar_mar23\n",
      "session nb:  4 604 2023-03-16 10:24:19 reaching_go_spout_bar_mar23\n",
      "session nb:  5 604 2023-03-17 09:01:13 reaching_go_spout_bar_mar23\n",
      "session nb:  6 604 2023-03-20 09:48:35 reaching_go_spout_bar_mar23\n",
      "session nb:  7 604 2023-03-21 15:45:47 reaching_go_spout_bar_mar23\n",
      "session nb:  8 604 2023-03-22 12:03:36 reaching_go_spout_bar_mar23\n",
      "session nb:  9 604 2023-03-23 09:03:42 reaching_go_spout_bar_mar23\n",
      "session nb:  10 604 2023-03-24 09:11:34 reaching_go_spout_bar_mar23\n",
      "session nb:  11 604 2023-03-27 09:12:07 reaching_go_spout_bar_mar23\n",
      "session nb:  12 604 2023-03-29 09:11:33 reaching_go_spout_bar_mar23\n",
      "session nb:  13 604 2023-03-29 16:14:31 reaching_go_spout_bar_mar23\n",
      "session nb:  14 604 2023-03-29 16:23:24 reaching_go_spout_bar_mar23\n",
      "session nb:  1 61 2023-02-17 10:57:22 reaching_go_spout_bar_nov22\n",
      "session nb:  2 61 2023-02-17 11:14:23 reaching_go_spout_bar_nov22\n",
      "session nb:  3 61 2023-02-21 12:11:10 reaching_go_spout_bar_nov22\n",
      "session nb:  4 61 2023-03-03 10:58:48 reaching_go_spout_incr_break2_nov22\n",
      "session nb:  5 61 2023-03-06 11:43:53 reaching_go_spout_bar_nov22\n",
      "session nb:  6 61 2023-03-06 12:12:46 reaching_go_spout_bar_nov22\n",
      "session nb:  7 61 2023-03-07 11:50:26 reaching_go_spout_bar_nov22\n",
      "session nb:  8 61 2023-03-09 11:52:10 reaching_go_spout_bar_nov22\n",
      "session nb:  9 61 2023-03-10 11:39:26 reaching_go_spout_bar_nov22\n",
      "session nb:  10 61 2023-03-13 16:54:20 reaching_go_spout_bar_mar23\n",
      "session nb:  11 61 2023-03-14 11:03:25 reaching_go_spout_bar_mar23\n",
      "session nb:  12 61 2023-03-15 10:55:38 reaching_go_spout_bar_mar23\n",
      "session nb:  1 602 2023-03-16 09:19:35 reaching_go_spout_bar_mar23\n",
      "session nb:  2 602 2023-03-16 09:39:26 reaching_go_spout_bar_mar23\n",
      "session nb:  3 602 2023-03-17 09:23:07 reaching_go_spout_bar_nov22\n",
      "session nb:  4 602 2023-03-17 15:07:53 reaching_go_spout_bar_mar23\n",
      "session nb:  5 602 2023-03-20 14:56:14 reaching_go_spout_bar_mar23\n",
      "session nb:  6 602 2023-03-21 14:36:10 reaching_go_spout_bar_mar23\n",
      "session nb:  7 602 2023-03-22 12:14:14 reaching_go_spout_bar_mar23\n",
      "session nb:  8 602 2023-03-22 12:40:29 reaching_go_spout_bar_mar23\n",
      "session nb:  9 602 2023-03-23 08:51:41 reaching_go_spout_bar_mar23\n",
      "session nb:  1 62 2023-02-08 15:22:34 reaching_go_spout_bar_nov22\n",
      "session nb:  2 62 2023-02-09 10:02:52 reaching_go_spout_bar_nov22\n",
      "session nb:  3 62 2023-02-10 12:22:10 reaching_go_spout_bar_nov22\n",
      "session nb:  4 62 2023-02-13 11:02:11 reaching_go_spout_bar_nov22\n",
      "session nb:  5 62 2023-02-14 12:20:51 reaching_go_spout_bar_nov22\n",
      "session nb:  6 62 2023-02-15 10:28:05 reaching_go_spout_bar_nov22\n",
      "session nb:  7 62 2023-02-16 11:09:11 reaching_go_spout_bar_nov22\n",
      "session nb:  8 62 2023-02-17 09:59:47 reaching_go_spout_bar_nov22\n",
      "session nb:  9 62 2023-02-20 10:36:33 reaching_go_spout_bar_nov22\n",
      "session nb:  10 62 2023-02-21 10:34:00 reaching_go_spout_bar_nov22\n",
      "session nb:  11 62 2023-02-22 15:08:28 reaching_go_spout_bar_nov22\n",
      "session nb:  12 62 2023-02-23 14:33:55 reaching_go_spout_bar_nov22\n",
      "session nb:  13 62 2023-02-24 09:58:22 reaching_go_spout_bar_nov22\n",
      "session nb:  14 62 2023-02-28 09:31:37 reaching_go_spout_bar_nov22\n",
      "session nb:  15 62 2023-03-01 09:32:23 reaching_go_spout_bar_nov22\n",
      "session nb:  16 62 2023-03-02 09:26:42 reaching_go_spout_bar_nov22\n",
      "session nb:  17 62 2023-03-03 09:12:32 reaching_go_spout_bar_nov22\n",
      "session nb:  18 62 2023-03-04 17:22:58 reaching_go_spout_bar_nov22\n",
      "session nb:  19 62 2023-03-05 18:34:08 reaching_go_spout_bar_nov22\n",
      "session nb:  20 62 2023-03-06 18:23:44 reaching_go_spout_bar_nov22\n",
      "session nb:  21 62 2023-03-07 18:34:22 reaching_go_spout_bar_nov22\n",
      "session nb:  1 313 2022-11-24 11:32:33 reaching_go_spout_bar_nov22\n",
      "session nb:  2 313 2022-11-25 11:33:18 reaching_go_spout_bar_nov22\n",
      "session nb:  3 313 2022-11-25 14:37:07 reaching_go_spout_bar_nov22\n",
      "session nb:  4 313 2022-11-28 15:19:34 reaching_go_spout_bar_nov22\n",
      "session nb:  5 313 2022-11-29 11:31:47 reaching_go_spout_bar_nov22\n",
      "session nb:  6 313 2022-11-30 15:28:46 reaching_go_spout_bar_nov22\n",
      "session nb:  7 313 2022-12-01 11:17:17 reaching_go_spout_bar_nov22\n",
      "session nb:  8 313 2022-12-01 11:58:04 reaching_go_spout_bar_nov22\n",
      "session nb:  9 313 2022-12-02 13:45:33 reaching_go_spout_bar_nov22\n",
      "session nb:  10 313 2022-12-07 13:33:28 reaching_go_spout_bar_nov22\n",
      "session nb:  11 313 2022-12-07 13:42:49 reaching_go_spout_bar_nov22\n",
      "session nb:  12 313 2022-12-07 14:06:29 reaching_go_spout_bar_nov22\n",
      "session nb:  13 313 2022-12-08 19:29:06 reaching_go_spout_bar_nov22\n",
      "session nb:  14 313 2022-12-08 19:45:30 reaching_go_spout_bar_nov22\n",
      "session nb:  15 313 2022-12-09 16:02:01 reaching_go_spout_bar_nov22\n",
      "session nb:  16 313 2022-12-10 18:26:19 reaching_go_spout_bar_nov22\n",
      "session nb:  17 313 2022-12-10 18:45:12 reaching_go_spout_bar_nov22\n",
      "session nb:  18 313 2022-12-12 14:31:40 reaching_go_spout_bar_nov22\n",
      "session nb:  19 313 2022-12-12 14:47:42 reaching_go_spout_bar_nov22\n",
      "session nb:  20 313 2022-12-13 11:29:05 reaching_go_spout_bar_nov22\n",
      "session nb:  21 313 2022-12-14 14:35:25 reaching_go_spout_bar_nov22\n",
      "session nb:  1 314 2022-11-24 11:14:52 reaching_go_spout_bar_nov22\n",
      "session nb:  2 314 2022-11-24 11:32:34 reaching_go_spout_bar_nov22\n",
      "session nb:  3 314 2022-11-25 11:33:18 reaching_go_spout_bar_nov22\n",
      "session nb:  4 314 2022-11-25 14:37:07 reaching_go_spout_bar_nov22\n",
      "session nb:  5 314 2022-11-28 15:19:34 reaching_go_spout_bar_nov22\n",
      "session nb:  6 314 2022-11-29 11:31:47 reaching_go_spout_bar_nov22\n",
      "session nb:  7 314 2022-11-30 15:30:50 reaching_go_spout_bar_nov22\n",
      "session nb:  8 314 2022-12-01 11:17:17 reaching_go_spout_bar_nov22\n",
      "session nb:  9 314 2022-12-01 11:23:58 reaching_go_spout_bar_nov22\n",
      "session nb:  10 314 2022-12-02 13:48:39 reaching_go_spout_bar_nov22\n",
      "session nb:  11 314 2022-12-05 16:15:00 reaching_go_spout_bar_nov22\n",
      "session nb:  12 314 2022-12-06 16:14:17 reaching_go_spout_bar_nov22\n",
      "session nb:  13 314 2022-12-07 16:37:18 reaching_go_spout_bar_nov22\n",
      "session nb:  14 314 2022-12-08 18:35:56 reaching_go_spout_bar_nov22\n",
      "session nb:  15 314 2022-12-09 16:02:01 reaching_go_spout_bar_nov22\n",
      "session nb:  16 314 2022-12-12 15:49:43 reaching_go_spout_bar_nov22\n",
      "session nb:  17 314 2022-12-12 15:51:38 reaching_go_spout_bar_nov22\n",
      "session nb:  18 314 2022-12-13 14:09:58 reaching_go_spout_bar_nov22\n",
      "session nb:  19 314 2022-12-13 14:21:13 reaching_go_spout_bar_nov22\n",
      "session nb:  1 315 2022-11-21 14:08:26 reaching_go_spout_nov22\n",
      "session nb:  2 315 2022-11-21 14:10:42 reaching_go_spout_nov22\n",
      "session nb:  3 315 2022-11-21 14:37:03 reaching_go_spout_nov22\n",
      "session nb:  4 315 2022-11-21 15:00:45 reaching_go_spout_nov22\n",
      "session nb:  5 315 2022-11-25 11:35:47 reaching_go_spout_bar_nov22\n",
      "session nb:  6 315 2022-11-25 14:39:27 reaching_go_spout_bar_nov22\n",
      "session nb:  7 315 2022-11-26 14:15:54 reaching_go_spout_bar_nov22\n",
      "session nb:  8 315 2022-11-26 14:26:42 reaching_go_spout_bar_nov22\n",
      "session nb:  9 315 2022-11-28 15:20:59 reaching_go_spout_bar_nov22\n",
      "session nb:  10 315 2022-11-29 11:33:24 reaching_go_spout_bar_nov22\n",
      "session nb:  11 315 2022-11-30 15:28:46 reaching_go_spout_bar_nov22\n",
      "session nb:  12 315 2022-11-30 16:18:38 reaching_go_spout_bar_nov22\n",
      "session nb:  13 315 2022-12-01 12:18:14 reaching_go_spout_bar_nov22\n",
      "session nb:  14 315 2022-12-02 14:38:46 reaching_go_spout_bar_nov22\n",
      "session nb:  15 315 2022-12-02 14:39:12 reaching_go_spout_bar_nov22\n",
      "session nb:  16 315 2022-12-07 13:37:09 reaching_go_spout_bar_nov22\n",
      "session nb:  17 315 2022-12-07 13:44:48 reaching_go_spout_bar_nov22\n",
      "session nb:  18 315 2022-12-08 18:39:45 reaching_go_spout_bar_nov22\n",
      "session nb:  19 315 2022-12-08 18:59:57 reaching_go_spout_bar_nov22\n",
      "session nb:  20 315 2022-12-09 16:14:49 reaching_go_spout_bar_nov22\n",
      "session nb:  21 315 2022-12-10 18:21:36 reaching_go_spout_bar_nov22\n",
      "session nb:  22 315 2022-12-10 18:39:06 reaching_go_spout_bar_nov22\n",
      "session nb:  23 315 2022-12-12 14:48:41 reaching_go_spout_bar_nov22\n",
      "session nb:  24 315 2022-12-13 11:40:52 reaching_go_spout_bar_nov22\n",
      "session nb:  25 315 2022-12-14 14:35:25 reaching_go_spout_bar_nov22\n",
      "session nb:  1 316 2022-11-23 16:31:31 reaching_go_spout_bar_nov22\n",
      "session nb:  2 316 2022-11-23 16:32:25 reaching_go_spout_bar_nov22\n",
      "session nb:  3 316 2022-11-23 16:33:33 reaching_go_spout_bar_nov22\n",
      "session nb:  4 316 2022-11-23 16:34:30 reaching_go_spout_bar_nov22\n",
      "session nb:  5 316 2022-11-24 12:47:35 reaching_go_spout_bar_nov22\n",
      "session nb:  6 316 2022-11-25 12:12:46 reaching_go_spout_bar_nov22\n",
      "session nb:  7 316 2022-11-25 15:24:50 reaching_go_spout_bar_nov22\n",
      "session nb:  8 316 2022-11-26 14:22:55 reaching_go_spout_bar_nov22\n",
      "session nb:  9 316 2022-11-26 15:07:51 reaching_go_spout_bar_nov22\n",
      "session nb:  10 316 2022-11-28 16:08:32 reaching_go_spout_bar_nov22\n",
      "session nb:  11 316 2022-11-29 15:15:29 reaching_go_spout_bar_nov22\n",
      "session nb:  12 316 2022-11-30 16:34:44 reaching_go_spout_bar_nov22\n",
      "session nb:  13 316 2022-12-01 12:15:16 reaching_go_spout_bar_nov22\n",
      "session nb:  14 316 2022-12-02 14:34:27 reaching_go_spout_bar_nov22\n",
      "session nb:  15 316 2022-12-02 14:36:14 reaching_go_spout_bar_nov22\n",
      "session nb:  16 316 2022-12-05 16:19:11 reaching_go_spout_bar_nov22\n",
      "session nb:  17 316 2022-12-06 16:11:42 reaching_go_spout_bar_nov22\n",
      "session nb:  18 316 2022-12-06 16:55:04 reaching_go_spout_bar_nov22\n",
      "session nb:  1 317 2022-11-23 16:31:31 reaching_go_spout_bar_nov22\n",
      "session nb:  2 317 2022-11-23 16:32:25 reaching_go_spout_bar_nov22\n",
      "session nb:  3 317 2022-11-23 16:33:33 reaching_go_spout_bar_nov22\n",
      "session nb:  4 317 2022-11-23 16:34:30 reaching_go_spout_bar_nov22\n",
      "session nb:  5 317 2022-11-24 12:47:35 reaching_go_spout_bar_nov22\n",
      "session nb:  6 317 2022-11-25 12:12:46 reaching_go_spout_bar_nov22\n",
      "session nb:  7 317 2022-11-25 15:24:50 reaching_go_spout_bar_nov22\n",
      "session nb:  8 317 2022-11-26 14:22:55 reaching_go_spout_bar_nov22\n",
      "session nb:  9 317 2022-11-26 15:07:51 reaching_go_spout_bar_nov22\n",
      "session nb:  10 317 2022-11-28 16:08:32 reaching_go_spout_bar_nov22\n",
      "session nb:  11 317 2022-11-29 15:15:29 reaching_go_spout_bar_nov22\n",
      "session nb:  12 317 2022-11-30 17:54:22 reaching_go_spout_bar_nov22\n",
      "session nb:  13 317 2022-12-01 16:30:24 reaching_go_spout_bar_nov22\n",
      "session nb:  14 317 2022-12-02 16:06:06 reaching_go_spout_bar_nov22\n",
      "session nb:  15 317 2022-12-05 17:14:57 reaching_go_spout_bar_nov22\n",
      "session nb:  16 317 2022-12-05 17:23:59 reaching_go_spout_bar_nov22\n",
      "session nb:  17 317 2022-12-06 17:08:15 reaching_go_spout_bar_nov22\n",
      "session nb:  1 318 2022-11-21 16:19:06 reaching_go_spout_nov22\n",
      "session nb:  2 318 2022-11-23 16:42:40 reaching_go_spout_bar_nov22\n",
      "session nb:  3 318 2022-11-24 12:47:05 reaching_go_spout_bar_nov22\n",
      "session nb:  4 318 2022-11-25 12:14:52 reaching_go_spout_bar_nov22\n",
      "session nb:  5 318 2022-11-25 15:23:37 reaching_go_spout_bar_nov22\n",
      "session nb:  6 318 2022-11-28 16:10:44 reaching_go_spout_bar_nov22\n",
      "session nb:  7 318 2022-11-29 15:14:44 reaching_go_spout_bar_nov22\n",
      "session nb:  8 318 2022-11-29 15:26:25 reaching_go_spout_bar_nov22\n",
      "session nb:  9 318 2022-11-30 17:53:56 reaching_go_spout_bar_nov22\n",
      "session nb:  10 318 2022-12-01 16:32:32 reaching_go_spout_bar_nov22\n",
      "session nb:  11 318 2022-12-02 11:25:05 reaching_go_spout_bar_nov22\n",
      "session nb:  12 318 2022-12-02 11:28:39 reaching_go_spout_bar_nov22\n",
      "session nb:  13 318 2022-12-02 16:08:42 reaching_go_spout_bar_nov22\n",
      "session nb:  14 318 2022-12-02 16:16:16 reaching_go_spout_bar_nov22\n",
      "session nb:  15 318 2022-12-05 17:17:08 reaching_go_spout_bar_nov22\n",
      "session nb:  16 318 2022-12-06 17:11:08 reaching_go_spout_bar_nov22\n",
      "session nb:  17 318 2022-12-12 15:25:07 reaching_go_spout_bar_nov22\n",
      "session nb:  1 63 2023-02-02 11:28:09 reaching_go_spout_bar_nov22\n",
      "session nb:  2 63 2023-02-09 10:56:36 reaching_go_spout_bar_nov22\n",
      "session nb:  3 63 2023-02-10 15:29:38 reaching_go_spout_bar_nov22\n",
      "session nb:  4 63 2023-02-13 11:02:11 reaching_go_spout_bar_nov22\n",
      "session nb:  5 63 2023-02-14 12:20:51 reaching_go_spout_bar_nov22\n",
      "session nb:  6 63 2023-02-15 11:46:00 reaching_go_spout_bar_nov22\n",
      "session nb:  7 63 2023-02-16 12:30:32 reaching_go_spout_bar_nov22\n",
      "session nb:  8 63 2023-02-16 12:47:36 reaching_go_spout_bar_nov22\n",
      "session nb:  9 63 2023-02-17 11:24:45 reaching_go_spout_bar_nov22\n",
      "session nb:  10 63 2023-02-20 12:50:40 reaching_go_spout_bar_nov22\n",
      "session nb:  11 63 2023-02-20 12:56:21 reaching_go_spout_bar_nov22\n",
      "session nb:  12 63 2023-02-20 13:02:38 reaching_go_spout_bar_nov22\n",
      "session nb:  13 63 2023-02-20 13:23:06 reaching_go_spout_bar_nov22\n",
      "session nb:  14 63 2023-02-21 11:43:46 reaching_go_spout_bar_nov22\n",
      "session nb:  15 63 2023-02-22 16:18:37 reaching_go_spout_bar_nov22\n",
      "session nb:  16 63 2023-02-23 16:37:13 reaching_go_spout_bar_nov22\n",
      "session nb:  17 63 2023-02-23 17:20:43 reaching_go_spout_bar_nov22\n",
      "session nb:  18 63 2023-02-24 11:09:55 reaching_go_spout_bar_nov22\n",
      "session nb:  19 63 2023-02-27 16:44:26 reaching_go_spout_bar_nov22\n",
      "session nb:  20 63 2023-02-28 09:53:01 reaching_go_spout_bar_nov22\n",
      "session nb:  21 63 2023-02-28 10:22:14 reaching_go_spout_incr_break2_nov22\n",
      "session nb:  22 63 2023-03-01 10:31:45 reaching_go_spout_bar_nov22\n",
      "session nb:  23 63 2023-03-02 09:29:11 reaching_go_spout_bar_nov22\n",
      "session nb:  24 63 2023-03-03 09:58:36 reaching_go_spout_bar_nov22\n",
      "session nb:  25 63 2023-03-03 10:40:18 reaching_go_spout_bar_nov22\n",
      "session nb:  26 63 2023-03-06 10:42:02 reaching_go_spout_bar_nov22\n",
      "session nb:  27 63 2023-03-07 10:54:59 reaching_go_spout_bar_nov22\n",
      "session nb:  28 63 2023-03-09 11:09:21 reaching_go_spout_bar_nov22\n",
      "session nb:  29 63 2023-03-10 10:28:04 reaching_go_spout_bar_nov22\n",
      "session nb:  30 63 2023-03-13 16:42:28 reaching_go_spout_bar_mar23\n",
      "session nb:  31 63 2023-03-14 11:03:12 reaching_go_spout_bar_nov22\n",
      "session nb:  32 63 2023-03-15 13:12:55 reaching_go_spout_bar_mar23\n",
      "session nb:  33 63 2023-03-16 11:22:46 reaching_go_spout_bar_nov22\n",
      "session nb:  34 63 2023-03-16 11:32:27 reaching_go_spout_bar_nov22\n",
      "session nb:  35 63 2023-03-17 11:49:18 reaching_go_spout_bar_mar23\n",
      "session nb:  36 63 2023-03-20 15:11:14 reaching_go_spout_bar_mar23\n",
      "session nb:  37 63 2023-03-21 14:23:32 reaching_go_spout_bar_mar23\n",
      "session nb:  38 63 2023-03-21 14:26:12 reaching_go_spout_bar_mar23\n",
      "session nb:  39 63 2023-03-21 14:26:49 reaching_go_spout_bar_mar23\n",
      "session nb:  40 63 2023-03-22 18:33:59 reaching_go_spout_bar_nov22\n",
      "session nb:  41 63 2023-03-23 11:05:39 reaching_go_spout_bar_mar23\n",
      "session nb:  42 63 2023-03-23 21:23:44 reaching_go_spout_bar_mar23\n",
      "session nb:  43 63 2023-03-24 09:29:19 reaching_go_spout_bar_mar23\n",
      "session nb:  44 63 2023-03-24 17:29:04 reaching_go_spout_bar_mar23\n",
      "session nb:  45 63 2023-03-28 20:59:52 reaching_go_spout_bar_mar23\n",
      "session nb:  46 63 2023-03-29 19:45:17 reaching_go_spout_bar_mar23\n",
      "session nb:  47 63 2023-04-01 17:43:51 reaching_go_spout_bar_mar23\n",
      "session nb:  48 63 2023-04-01 18:09:30 reaching_go_spout_bar_mar23\n"
     ]
    }
   ],
   "source": [
    "# Load all raw text sessions in the indicated folder or a sessions.pkl file\n",
    "# if already existing in folder_path\n",
    "exp_cohort = Experiment(path=pycontrol_dir, int_subject_IDs=True, update=True, verbose=True)"
   ]
  },
  {
   "attachments": {},
   "cell_type": "markdown",
   "metadata": {},
   "source": [
    "Expressions like the following can help reduces the amount of sessions (for example for animals to not consider, or dates or etc)\n",
    "- Here it won't consider subject_ID below 50, discarding for instance \"test sessions\" were subject_ID was 00 or 001 or the likes"
   ]
  },
  {
   "cell_type": "code",
   "execution_count": 48,
   "metadata": {},
   "outputs": [],
   "source": [
    "exp_cohort.sessions = [session for session in exp_cohort.sessions if (session.subject_ID == 604)]"
   ]
  },
  {
   "cell_type": "markdown",
   "metadata": {},
   "source": [
    "### Perform extraction of behavioural information by trial"
   ]
  },
  {
   "cell_type": "code",
   "execution_count": 54,
   "metadata": {},
   "outputs": [
    {
     "name": "stdout",
     "output_type": "stream",
     "text": [
      "processing by trial: RE604-2023-03-14-092522.txt task: reaching_go_spout_bar_mar23\n",
      "processing by trial: RE604-2023-03-14-093001.txt task: reaching_go_spout_bar_mar23\n",
      "processing by trial: RE604-2023-03-15-114819.txt task: reaching_go_spout_bar_mar23\n",
      "processing by trial: RE604-2023-03-16-102419.txt task: reaching_go_spout_bar_mar23\n",
      "processing by trial: RE604-2023-03-17-090113.txt task: reaching_go_spout_bar_mar23\n",
      "processing by trial: RE604-2023-03-20-094835.txt task: reaching_go_spout_bar_mar23\n",
      "processing by trial: RE604-2023-03-21-154547.txt task: reaching_go_spout_bar_mar23\n",
      "processing by trial: RE604-2023-03-22-120336.txt task: reaching_go_spout_bar_mar23\n",
      "processing by trial: RE604-2023-03-23-090342.txt task: reaching_go_spout_bar_mar23\n",
      "processing by trial: RE604-2023-03-24-091134.txt task: reaching_go_spout_bar_mar23\n",
      "processing by trial: RE604-2023-03-27-091207.txt task: reaching_go_spout_bar_mar23\n",
      "processing by trial: RE604-2023-03-29-091133.txt task: reaching_go_spout_bar_mar23\n",
      "processing by trial: RE604-2023-03-29-161431.txt task: reaching_go_spout_bar_mar23\n",
      "processing by trial: RE604-2023-03-29-162324.txt task: reaching_go_spout_bar_mar23\n"
     ]
    }
   ],
   "source": [
    "# Process the whole experimental folder by trials\n",
    "\n",
    "trial_window = [-2000,6000]\n",
    "exp_cohort.process_exp_by_trial(trial_window, timelim=None, tasksfile=tasksfile, verbose=True)\n",
    "\n",
    "# Save the file as sessions.pkl in folder_path\n",
    "# exp_cohort.save()"
   ]
  },
  {
   "cell_type": "code",
   "execution_count": 74,
   "metadata": {},
   "outputs": [
    {
     "data": {
      "text/plain": [
       "10"
      ]
     },
     "execution_count": 74,
     "metadata": {},
     "output_type": "execute_result"
    }
   ],
   "source": [
    "len(exp_cohort.sessions)"
   ]
  },
  {
   "attachments": {},
   "cell_type": "markdown",
   "metadata": {},
   "source": [
    "### Hacking of conditions for the task with no clear trial structure (first instrumental reaching phase)"
   ]
  },
  {
   "cell_type": "code",
   "execution_count": 56,
   "metadata": {},
   "outputs": [],
   "source": [
    "# Defime each trial type as a dictionary of conditions to be met\n",
    "conditions_dict1 = {'trigger': 'hold_for_water', 'success': True, 'button_press': False}\n",
    "conditions_dict2 = {'trigger': 'hold_for_water', 'success': False, 'break_after_abort': False, 'button_press': False}\n",
    "conditions_dict3 = {'trigger': 'hold_for_water', 'success': False, 'break_after_abort': True, 'button_press': False}\n",
    "\n",
    "\n",
    "\n",
    "# conditions_dict2 = {'trigger': 'hold_for_water', 'spout':False, 'valid': True, 'busy_win_timer': False, 'button_press': False}\n",
    "\n",
    "# Aggregate all condition dictionaries in a list\n",
    "conditions_list = [conditions_dict1, conditions_dict2, conditions_dict3]\n",
    "# Aliases for conditions\n",
    "cond_aliases = ['hit', 'miss', 'abort']\n",
    "# Groups as a list of lists\n",
    "# groups = [[280, 281, 282, 289],[295, 282, 284, 285, 292, 297]]\n",
    "groups = None\n"
   ]
  },
  {
   "attachments": {},
   "cell_type": "markdown",
   "metadata": {},
   "source": [
    "## Match and synchronize photometry to behaviour"
   ]
  },
  {
   "cell_type": "code",
   "execution_count": 52,
   "metadata": {},
   "outputs": [
    {
     "name": "stderr",
     "output_type": "stream",
     "text": [
      "c:\\users\\phar0732\\documents\\github\\trialexp\\trialexp\\utils\\rsync.py:78: RuntimeWarning: invalid value encountered in log\n",
      "  log_mse = np.log(chunk_mse)\n",
      "c:\\users\\phar0732\\documents\\github\\trialexp\\trialexp\\utils\\rsync.py:78: RuntimeWarning: invalid value encountered in log\n",
      "  log_mse = np.log(chunk_mse)\n"
     ]
    },
    {
     "name": "stdout",
     "output_type": "stream",
     "text": [
      "saved \\\\ettin\\Magill_Lab\\Julien\\Data\\head-fixed\\pycontrol\\reaching_go_spout_bar_nov22\\sessions.pkl\n"
     ]
    }
   ],
   "source": [
    "# Find if there is a matching photometry file:\n",
    "exp_cohort.match_sessions_to_files(photometry_dir, ext='ppd')\n",
    "\n",
    "# rsync synchronization pulses matching between behaviour and photometry\n",
    "exp_cohort.sync_photometry_files(2)\n",
    "exp_cohort.save()\n"
   ]
  },
  {
   "attachments": {},
   "cell_type": "markdown",
   "metadata": {},
   "source": [
    "Loop to plot photometry trials triggered on different events\n",
    "- 1: Trial onset (CS-onset = hold period start)\n",
    "- 2: First bar_off\n",
    "- 3: Last bar_off before spout\n",
    "- 4: First spout\n",
    "- 5: Reward (US_end_timer)"
   ]
  },
  {
   "cell_type": "code",
   "execution_count": 57,
   "metadata": {},
   "outputs": [
    {
     "name": "stdout",
     "output_type": "stream",
     "text": [
      "Processing subject 604 at: 2023-03-14 09:25:22\n",
      "condition 0 trials: 4\n",
      "condition 1 trials: 3\n",
      "Processing subject 604 at: 2023-03-15 11:48:19\n",
      "condition 0 trials: 37\n",
      "condition 1 trials: 11\n",
      "condition 2 trials: 86\n",
      "Processing subject 604 at: 2023-03-16 10:24:19\n",
      "condition 0 trials: 35\n",
      "condition 1 trials: 12\n",
      "condition 2 trials: 209\n",
      "Processing subject 604 at: 2023-03-17 09:01:13\n",
      "condition 0 trials: 11\n",
      "condition 1 trials: 1\n",
      "condition 2 trials: 34\n",
      "Processing subject 604 at: 2023-03-20 09:48:35\n",
      "condition 0 trials: 33\n",
      "condition 1 trials: 7\n",
      "condition 2 trials: 403\n",
      "Processing subject 604 at: 2023-03-21 15:45:47\n",
      "condition 0 trials: 68\n",
      "condition 1 trials: 5\n",
      "condition 2 trials: 196\n",
      "Processing subject 604 at: 2023-03-22 12:03:36\n",
      "condition 0 trials: 124\n",
      "condition 1 trials: 11\n",
      "condition 2 trials: 87\n",
      "Processing subject 604 at: 2023-03-23 09:03:42\n",
      "condition 0 trials: 113\n",
      "condition 2 trials: 181\n",
      "Processing subject 604 at: 2023-03-24 09:11:34\n",
      "condition 0 trials: 101\n",
      "condition 1 trials: 2\n",
      "condition 2 trials: 225\n",
      "Processing subject 604 at: 2023-03-27 09:12:07\n",
      "condition 0 trials: 80\n",
      "condition 1 trials: 9\n",
      "condition 2 trials: 216\n",
      "Processing subject 604 at: 2023-03-29 09:11:33\n",
      "condition 0 trials: 2\n",
      "condition 1 trials: 8\n",
      "condition 2 trials: 1\n",
      "Processing subject 604 at: 2023-03-29 16:14:31\n",
      "condition 0 trials: 1\n",
      "condition 1 trials: 3\n"
     ]
    }
   ],
   "source": [
    "photo_dataset = exp_cohort.get_photometry_groups(\n",
    "        groups = None, # or use groups variable defined above\n",
    "        conditions_list = conditions_list, \n",
    "        cond_aliases = cond_aliases,\n",
    "        trial_window = trial_window,\n",
    "        when = 'all', \n",
    "        task_names = ['reaching_go_spout_bar_mar23'],\n",
    "        trig_on_ev = None, # align to the first event of a kind e.g. bar_off\n",
    "        last_before = None,\n",
    "        baseline_low_pass = 0.001, \n",
    "        low_pass = 10, \n",
    "        median_filt = 3,\n",
    "        motion_corr = True, \n",
    "        df_over_f = True,\n",
    "        z_score = True, \n",
    "        downsampling_factor = 10, \n",
    "        export_vars = ['analog_1_df_over_f', 'zscored_df_over_f'], \n",
    "        # remove_artifacts = False, # To Deprecate in favor of Exp level artifact clustering\n",
    "        verbose = True) # will plot all the process of remove_artifacts if remove_artifacts == True\n",
    "\n"
   ]
  },
  {
   "attachments": {},
   "cell_type": "markdown",
   "metadata": {},
   "source": [
    "Plot photometry trials triggered on different events based on above extraction\n",
    "- 1: Trial onset (CS-onset = hold period start)\n",
    "- 2: First bar_off\n",
    "- 3: Last bar_off before spout\n",
    "- 4: First spout\n",
    "- 5: Reward (US_end_timer)"
   ]
  },
  {
   "cell_type": "code",
   "execution_count": 61,
   "metadata": {},
   "outputs": [
    {
     "name": "stdout",
     "output_type": "stream",
     "text": [
      "cond_ID: 0, group_idx 0, subj 604\n",
      "cond_ID: 1, group_idx 0, subj 604\n",
      "cond_ID: 2, group_idx 0, subj 604\n"
     ]
    },
    {
     "data": {
      "image/png": "[encoded data removed]",
      "text/plain": [
       "<Figure size 1500x500 with 4 Axes>"
      ]
     },
     "metadata": {},
     "output_type": "display_data"
    }
   ],
   "source": [
    "photo_dataset.filter_reset()\n",
    "photo_dataset.filterout_subjects([60]) # remove kms060\n",
    "photo_dataset.filter_min_by_session(min_trials = 10)\n",
    "# photo_dataset.filter_lastNsessions(n = 5)\n",
    "\n",
    "fig = photo_dataset.lineplot(\n",
    "    vars = ['zscored_df_over_f'],\n",
    "    time_lim = [-1000, 1000],\n",
    "    # time_unit = 'seconds',\n",
    "    ylim = None,# [[-1, 5]],# [[-0.004, 0.006]],#[[-0.03, 0.1]],#,[-0.005, 0.007]],#[[-0.001, 0.0011],[-0.001, 0.0011]],\n",
    "    error = True,\n",
    "    colormap = 'jet',\n",
    "    legend = True,\n",
    "    plot_subjects = True,\n",
    "    plot_groups = True,\n",
    "    liney0 = False,\n",
    "    linex0 = True,\n",
    "    figsize = (15, 5),\n",
    "    dpi = 100,\n",
    "    verbose = True)"
   ]
  },
  {
   "attachments": {},
   "cell_type": "markdown",
   "metadata": {},
   "source": [
    "Same plot, heatmap version:\n",
    "\n",
    "- 1: Trial onset (CS-onset = hold period start)\n",
    "- 2: First bar_off\n",
    "- 3: Last bar_off before spout\n",
    "- 4: First spout\n",
    "- 5: Reward (US_end_timer)"
   ]
  },
  {
   "cell_type": "code",
   "execution_count": 89,
   "metadata": {},
   "outputs": [
    {
     "name": "stdout",
     "output_type": "stream",
     "text": [
      "['empty fig', 'empty fig', 'empty fig', 'empty fig']\n",
      "0\n",
      "1\n",
      "2\n",
      "3\n"
     ]
    }
   ],
   "source": [
    "photo_dataset.filter_reset()\n",
    "photo_dataset.filterout_subjects([0,1,61,63,313,314,315,317,318])\n",
    "photo_dataset.filterout_dates([datetime(2023,2,24).date(), datetime(2023,2,23).date()])\n",
    "photo_dataset.filter_lastNsessions(n = 1)\n",
    "figs, subject_IDs = photo_dataset.heatmap(\n",
    "    vars = ['zscored_df_over_f'],\n",
    "    time_lim = [-500, 500],\n",
    "    clim_pctile = None,\n",
    "    colormap = 'jet'\n",
    ")   \n",
    "photo_dataset.filter_reset()\n",
    "\n",
    "\n",
    "for f_idx, fig in enumerate(figs): \n",
    "    \n",
    "    # You can customize this to save figures elsewhere \n",
    "    file_path = 'C:\\\\Users\\\\phar0732\\\\Documents\\\\GitHub\\\\trialexp\\\\outputs\\\\' + 'photo_heatmap_' + str(subject_IDs[f_idx]) + '.pdf'\n",
    "    fig.savefig(file_path)"
   ]
  },
  {
   "cell_type": "code",
   "execution_count": null,
   "metadata": {},
   "outputs": [],
   "source": []
  }
 ],
 "metadata": {
  "kernelspec": {
   "display_name": "trialexp",
   "language": "python",
   "name": "python3"
  },
  "language_info": {
   "codemirror_mode": {
    "name": "ipython",
    "version": 3
   },
   "file_extension": ".py",
   "mimetype": "text/x-python",
   "name": "python",
   "nbconvert_exporter": "python",
   "pygments_lexer": "ipython3",
   "version": "3.8.13"
  },
  "orig_nbformat": 4,
  "vscode": {
   "interpreter": {
    "hash": "d6482735f0043a190ffe4caf0b320db79ae95bb9719ede4e9819067a592cbc72"
   }
  }
 },
 "nbformat": 4,
 "nbformat_minor": 2
}
