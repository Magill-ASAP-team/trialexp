{
 "cells": [
  {
   "cell_type": "markdown",
   "id": "8d776dd8-727d-4e71-923d-aec14039eefe",
   "metadata": {},
   "source": [
    "### Convert df_events to meta dataframe for pyphotometry analysis\n",
    "- Meant to be a bridge between the pyphotometry analysis and df_events for the time being "
   ]
  },
  {
   "cell_type": "code",
   "execution_count": 96,
   "id": "a95961de-ad8e-442a-9da6-8bf441a9233a",
   "metadata": {
    "tags": []
   },
   "outputs": [],
   "source": [
    "%reload_ext autoreload\n",
    "%autoreload\n",
    "import pandas as pd\n",
    "import seaborn as sns\n",
    "import numpy as np\n",
    "from trialexp.process.pycontrol.session_analysis import *"
   ]
  },
  {
   "cell_type": "code",
   "execution_count": 86,
   "id": "7a1900f3-4f5f-4813-9d07-5e3ea0241e33",
   "metadata": {
    "tags": []
   },
   "outputs": [],
   "source": [
    "df_events = pd.read_pickle('df_events.pkl')"
   ]
  },
  {
   "cell_type": "markdown",
   "id": "8ad1c659-f8f7-4d7d-9ec3-f9f773d43414",
   "metadata": {},
   "source": [
    "### Read task definition"
   ]
  },
  {
   "cell_type": "code",
   "execution_count": 32,
   "id": "121f5a63-4425-4ea1-b558-00b85a56121f",
   "metadata": {
    "tags": []
   },
   "outputs": [],
   "source": [
    "basefolder = r'C:\\code\\trialexp'\n",
    "tasks = pd.read_csv(basefolder+'\\\\params\\\\tasks_params.csv', usecols=[1, 2, 3, 4], index_col=False)"
   ]
  },
  {
   "cell_type": "code",
   "execution_count": 33,
   "id": "ff84fcad-16f5-45f3-87ca-62b86c0d8db3",
   "metadata": {
    "tags": []
   },
   "outputs": [],
   "source": [
    "from trialexp.process.pycontrol.session_analysis import Session"
   ]
  },
  {
   "cell_type": "code",
   "execution_count": 34,
   "id": "41c48dcd-8fd3-4c0e-9b2a-af15dd811774",
   "metadata": {
    "tags": []
   },
   "outputs": [
    {
     "data": {
      "text/html": [
       "<div>\n",
       "<style scoped>\n",
       "    .dataframe tbody tr th:only-of-type {\n",
       "        vertical-align: middle;\n",
       "    }\n",
       "\n",
       "    .dataframe tbody tr th {\n",
       "        vertical-align: top;\n",
       "    }\n",
       "\n",
       "    .dataframe thead th {\n",
       "        text-align: right;\n",
       "    }\n",
       "</style>\n",
       "<table border=\"1\" class=\"dataframe\">\n",
       "  <thead>\n",
       "    <tr style=\"text-align: right;\">\n",
       "      <th></th>\n",
       "      <th>state</th>\n",
       "      <th>event_name</th>\n",
       "      <th>trial_number</th>\n",
       "    </tr>\n",
       "    <tr>\n",
       "      <th>time</th>\n",
       "      <th></th>\n",
       "      <th></th>\n",
       "      <th></th>\n",
       "    </tr>\n",
       "  </thead>\n",
       "  <tbody>\n",
       "    <tr>\n",
       "      <th>45.571</th>\n",
       "      <td>waiting_for_spout</td>\n",
       "      <td>spout</td>\n",
       "      <td>1</td>\n",
       "    </tr>\n",
       "    <tr>\n",
       "      <th>45.591</th>\n",
       "      <td>busy_win</td>\n",
       "      <td>US_end_timer</td>\n",
       "      <td>1</td>\n",
       "    </tr>\n",
       "    <tr>\n",
       "      <th>45.593</th>\n",
       "      <td>busy_win</td>\n",
       "      <td>US_end_timer</td>\n",
       "      <td>1</td>\n",
       "    </tr>\n",
       "    <tr>\n",
       "      <th>61.650</th>\n",
       "      <td>waiting_for_spout</td>\n",
       "      <td>spout</td>\n",
       "      <td>2</td>\n",
       "    </tr>\n",
       "    <tr>\n",
       "      <th>61.671</th>\n",
       "      <td>busy_win</td>\n",
       "      <td>US_end_timer</td>\n",
       "      <td>2</td>\n",
       "    </tr>\n",
       "    <tr>\n",
       "      <th>...</th>\n",
       "      <td>...</td>\n",
       "      <td>...</td>\n",
       "      <td>...</td>\n",
       "    </tr>\n",
       "    <tr>\n",
       "      <th>193.255</th>\n",
       "      <td>busy_win</td>\n",
       "      <td>US_end_timer</td>\n",
       "      <td>18</td>\n",
       "    </tr>\n",
       "    <tr>\n",
       "      <th>196.526</th>\n",
       "      <td>waiting_for_spout</td>\n",
       "      <td>spout</td>\n",
       "      <td>19</td>\n",
       "    </tr>\n",
       "    <tr>\n",
       "      <th>196.547</th>\n",
       "      <td>busy_win</td>\n",
       "      <td>US_end_timer</td>\n",
       "      <td>19</td>\n",
       "    </tr>\n",
       "    <tr>\n",
       "      <th>199.186</th>\n",
       "      <td>waiting_for_spout</td>\n",
       "      <td>spout</td>\n",
       "      <td>20</td>\n",
       "    </tr>\n",
       "    <tr>\n",
       "      <th>199.206</th>\n",
       "      <td>busy_win</td>\n",
       "      <td>US_end_timer</td>\n",
       "      <td>20</td>\n",
       "    </tr>\n",
       "  </tbody>\n",
       "</table>\n",
       "<p>88 rows × 3 columns</p>\n",
       "</div>"
      ],
      "text/plain": [
       "                     state    event_name  trial_number\n",
       "time                                                  \n",
       "45.571   waiting_for_spout         spout             1\n",
       "45.591            busy_win  US_end_timer             1\n",
       "45.593            busy_win  US_end_timer             1\n",
       "61.650   waiting_for_spout         spout             2\n",
       "61.671            busy_win  US_end_timer             2\n",
       "...                    ...           ...           ...\n",
       "193.255           busy_win  US_end_timer            18\n",
       "196.526  waiting_for_spout         spout            19\n",
       "196.547           busy_win  US_end_timer            19\n",
       "199.186  waiting_for_spout         spout            20\n",
       "199.206           busy_win  US_end_timer            20\n",
       "\n",
       "[88 rows x 3 columns]"
      ]
     },
     "execution_count": 34,
     "metadata": {},
     "output_type": "execute_result"
    }
   ],
   "source": [
    "conditions, triggers = Session.get_task_specs(tasks, 'reaching_go_spout_incr_break2_nov22')\n",
    "\n",
    "# extract condition from the event list\n",
    "df_conditions = df_events[df_events.event_name.isin(conditions)]\n",
    "df_conditions.set_index('time', inplace=True, drop=True)\n",
    "df_conditions"
   ]
  },
  {
   "cell_type": "code",
   "execution_count": 108,
   "id": "57b3d9c7-98b1-4d8c-b667-75b50f51fe2a",
   "metadata": {
    "tags": []
   },
   "outputs": [
    {
     "data": {
      "text/html": [
       "<div>\n",
       "<style scoped>\n",
       "    .dataframe tbody tr th:only-of-type {\n",
       "        vertical-align: middle;\n",
       "    }\n",
       "\n",
       "    .dataframe tbody tr th {\n",
       "        vertical-align: top;\n",
       "    }\n",
       "\n",
       "    .dataframe thead th {\n",
       "        text-align: right;\n",
       "    }\n",
       "</style>\n",
       "<table border=\"1\" class=\"dataframe\">\n",
       "  <thead>\n",
       "    <tr style=\"text-align: right;\">\n",
       "      <th></th>\n",
       "      <th>state</th>\n",
       "      <th>event_name</th>\n",
       "      <th>time</th>\n",
       "      <th>trial_number</th>\n",
       "      <th>trial_nb</th>\n",
       "      <th>trial_time</th>\n",
       "    </tr>\n",
       "  </thead>\n",
       "  <tbody>\n",
       "    <tr>\n",
       "      <th>1</th>\n",
       "      <td>short_break</td>\n",
       "      <td>state_change</td>\n",
       "      <td>0.000</td>\n",
       "      <td>0</td>\n",
       "      <td>NaN</td>\n",
       "      <td>NaN</td>\n",
       "    </tr>\n",
       "    <tr>\n",
       "      <th>2</th>\n",
       "      <td>short_break</td>\n",
       "      <td>bar_off</td>\n",
       "      <td>0.345</td>\n",
       "      <td>0</td>\n",
       "      <td>NaN</td>\n",
       "      <td>NaN</td>\n",
       "    </tr>\n",
       "    <tr>\n",
       "      <th>3</th>\n",
       "      <td>short_break</td>\n",
       "      <td>bar</td>\n",
       "      <td>0.425</td>\n",
       "      <td>0</td>\n",
       "      <td>NaN</td>\n",
       "      <td>NaN</td>\n",
       "    </tr>\n",
       "    <tr>\n",
       "      <th>4</th>\n",
       "      <td>short_break</td>\n",
       "      <td>bar_off</td>\n",
       "      <td>0.795</td>\n",
       "      <td>0</td>\n",
       "      <td>NaN</td>\n",
       "      <td>NaN</td>\n",
       "    </tr>\n",
       "    <tr>\n",
       "      <th>5</th>\n",
       "      <td>short_break</td>\n",
       "      <td>bar</td>\n",
       "      <td>1.292</td>\n",
       "      <td>0</td>\n",
       "      <td>NaN</td>\n",
       "      <td>NaN</td>\n",
       "    </tr>\n",
       "    <tr>\n",
       "      <th>...</th>\n",
       "      <td>...</td>\n",
       "      <td>...</td>\n",
       "      <td>...</td>\n",
       "      <td>...</td>\n",
       "      <td>...</td>\n",
       "      <td>...</td>\n",
       "    </tr>\n",
       "    <tr>\n",
       "      <th>550</th>\n",
       "      <td>busy_win</td>\n",
       "      <td>bar</td>\n",
       "      <td>201.003</td>\n",
       "      <td>20</td>\n",
       "      <td>20.0</td>\n",
       "      <td>1.817</td>\n",
       "    </tr>\n",
       "    <tr>\n",
       "      <th>551</th>\n",
       "      <td>busy_win</td>\n",
       "      <td>bar_off</td>\n",
       "      <td>201.085</td>\n",
       "      <td>20</td>\n",
       "      <td>20.0</td>\n",
       "      <td>1.899</td>\n",
       "    </tr>\n",
       "    <tr>\n",
       "      <th>552</th>\n",
       "      <td>busy_win</td>\n",
       "      <td>bar</td>\n",
       "      <td>201.102</td>\n",
       "      <td>20</td>\n",
       "      <td>20.0</td>\n",
       "      <td>1.916</td>\n",
       "    </tr>\n",
       "    <tr>\n",
       "      <th>553</th>\n",
       "      <td>busy_win</td>\n",
       "      <td>bar_off</td>\n",
       "      <td>201.118</td>\n",
       "      <td>20</td>\n",
       "      <td>20.0</td>\n",
       "      <td>1.932</td>\n",
       "    </tr>\n",
       "    <tr>\n",
       "      <th>554</th>\n",
       "      <td>busy_win</td>\n",
       "      <td>bar</td>\n",
       "      <td>201.153</td>\n",
       "      <td>20</td>\n",
       "      <td>20.0</td>\n",
       "      <td>1.967</td>\n",
       "    </tr>\n",
       "  </tbody>\n",
       "</table>\n",
       "<p>519 rows × 6 columns</p>\n",
       "</div>"
      ],
      "text/plain": [
       "           state    event_name     time  trial_number  trial_nb  trial_time\n",
       "1    short_break  state_change    0.000             0       NaN         NaN\n",
       "2    short_break       bar_off    0.345             0       NaN         NaN\n",
       "3    short_break           bar    0.425             0       NaN         NaN\n",
       "4    short_break       bar_off    0.795             0       NaN         NaN\n",
       "5    short_break           bar    1.292             0       NaN         NaN\n",
       "..           ...           ...      ...           ...       ...         ...\n",
       "550     busy_win           bar  201.003            20      20.0       1.817\n",
       "551     busy_win       bar_off  201.085            20      20.0       1.899\n",
       "552     busy_win           bar  201.102            20      20.0       1.916\n",
       "553     busy_win       bar_off  201.118            20      20.0       1.932\n",
       "554     busy_win           bar  201.153            20      20.0       1.967\n",
       "\n",
       "[519 rows x 6 columns]"
      ]
     },
     "execution_count": 108,
     "metadata": {},
     "output_type": "execute_result"
    }
   ],
   "source": [
    "trial_window = [-2, 4] # time window around trigger where data are considered to be the same trial \n",
    "\n",
    "trigger_time = df_events[(df_events.state.isin(triggers)) & (df_events.event_name == 'state_change')].time\n",
    "df_events = add_trial_nb(df_events, trigger_time,trial_window)\n",
    "df_events = add_time_rel_trigger(df_events, trigger_time, 'trial_time', trial_window)\n",
    "df_events"
   ]
  },
  {
   "cell_type": "code",
   "execution_count": 109,
   "id": "c263d986-99f1-463a-a4f7-cc8bece90868",
   "metadata": {
    "tags": []
   },
   "outputs": [
    {
     "data": {
      "text/plain": [
       "<AxesSubplot: xlabel='trial_time', ylabel='trial_nb'>"
      ]
     },
     "execution_count": 109,
     "metadata": {},
     "output_type": "execute_result"
    },
    {
     "data": {
      "image/png": "[encoded data removed]",
      "text/plain": [
       "<Figure size 640x480 with 1 Axes>"
      ]
     },
     "metadata": {},
     "output_type": "display_data"
    }
   ],
   "source": [
    "df2plot = df_events[df_events.event_name=='spout']\n",
    "sns.scatterplot(y='trial_nb', x='trial_time', marker='|', data=df2plot)"
   ]
  },
  {
   "cell_type": "code",
   "execution_count": 65,
   "id": "a5601f68-d64b-4a2b-a53d-0a5ac6c50ced",
   "metadata": {
    "tags": []
   },
   "outputs": [
    {
     "data": {
      "text/plain": [
       "<seaborn.axisgrid.JointGrid at 0x1fbef41f8b0>"
      ]
     },
     "execution_count": 65,
     "metadata": {},
     "output_type": "execute_result"
    },
    {
     "data": {
      "image/png": "[encoded data removed]",
      "text/plain": [
       "<Figure size 600x600 with 3 Axes>"
      ]
     },
     "metadata": {},
     "output_type": "display_data"
    }
   ],
   "source": [
    "sns.set_context('talk')\n",
    "sns.jointplot(x='trial_time', y='trial_nb', marker='|',data=df2plot)"
   ]
  },
  {
   "cell_type": "raw",
   "id": "9d038477-683f-400d-9ef3-5c2104e56083",
   "metadata": {},
   "source": [
    "self = self.extract_data_from_session()\n",
    "self = self.compute_trial_nb(trial_window)\n",
    "self = self.compute_conditions_by_trial()\n",
    "self = self.compute_success()\n",
    "self.df_events = tidy_up_duplicate_columns(self.df_events, self.df_conditions)    \n",
    "self.metadata_dict = self.create_metadata_dict(trial_window)"
   ]
  }
 ],
 "metadata": {
  "kernelspec": {
   "display_name": "Python 3 (ipykernel)",
   "language": "python",
   "name": "python3"
  },
  "language_info": {
   "codemirror_mode": {
    "name": "ipython",
    "version": 3
   },
   "file_extension": ".py",
   "mimetype": "text/x-python",
   "name": "python",
   "nbconvert_exporter": "python",
   "pygments_lexer": "ipython3",
   "version": "3.8.16"
  }
 },
 "nbformat": 4,
 "nbformat_minor": 5
}
