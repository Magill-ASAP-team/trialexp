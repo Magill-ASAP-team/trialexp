{
 "cells": [
  {
   "cell_type": "markdown",
   "id": "8d776dd8-727d-4e71-923d-aec14039eefe",
   "metadata": {},
   "source": [
    "### Convert df_events to meta dataframe for pyphotometry analysis\n",
    "- Meant to be a bridge between the pyphotometry analysis and df_events for the time being "
   ]
  },
  {
   "cell_type": "code",
   "execution_count": 2,
   "id": "a95961de-ad8e-442a-9da6-8bf441a9233a",
   "metadata": {
    "tags": []
   },
   "outputs": [],
   "source": [
    "%reload_ext autoreload\n",
    "%autoreload 2\n",
    "import pandas as pd\n",
    "import seaborn as sns\n",
    "import numpy as np\n",
    "from trialexp.process.pycontrol.session_analysis import *\n",
    "from trialexp.process.pycontrol.utils import *"
   ]
  },
  {
   "cell_type": "raw",
   "id": "1f558c41-b2e2-44ff-83e5-249cb500cfb1",
   "metadata": {
    "tags": []
   },
   "source": [
    "df_events = pd.read_pickle('df_events.pkl')"
   ]
  },
  {
   "cell_type": "markdown",
   "id": "8ad1c659-f8f7-4d7d-9ec3-f9f773d43414",
   "metadata": {},
   "source": [
    "### Read task definition"
   ]
  },
  {
   "cell_type": "code",
   "execution_count": 3,
   "id": "121f5a63-4425-4ea1-b558-00b85a56121f",
   "metadata": {
    "tags": []
   },
   "outputs": [],
   "source": [
    "basefolder = r'C:\\code\\trialexp'\n",
    "tasks = pd.read_csv(basefolder+'\\\\params\\\\tasks_params.csv', usecols=[1, 2, 3, 4], index_col=False)"
   ]
  },
  {
   "cell_type": "code",
   "execution_count": 4,
   "id": "ff84fcad-16f5-45f3-87ca-62b86c0d8db3",
   "metadata": {
    "tags": []
   },
   "outputs": [],
   "source": [
    "from trialexp.process.pycontrol.session_analysis import Session"
   ]
  },
  {
   "cell_type": "code",
   "execution_count": 5,
   "id": "41c48dcd-8fd3-4c0e-9b2a-af15dd811774",
   "metadata": {
    "tags": []
   },
   "outputs": [],
   "source": [
    "conditions, triggers, events_to_process = Session.get_task_specs(tasks, 'reaching_go_spout_incr_break2_nov22')\n",
    "\n",
    "# # extract condition from the event list\n",
    "# df_conditions = df_events[df_events.event_name.isin(conditions)]\n",
    "# df_conditions.set_index('time', inplace=True, drop=True)\n",
    "# df_conditions"
   ]
  },
  {
   "cell_type": "raw",
   "id": "460cf545-d40c-48bd-8762-a174e54bf089",
   "metadata": {
    "tags": []
   },
   "source": [
    "trial_window = [-2000, 4000] # time window around trigger where data are considered to be the same trial \n",
    "\n",
    "#TODO do each trigger separately and combine them at the end at the df_event_trials level\n",
    "trigger_time = df_events[(df_events.state.isin(triggers)) & (df_events.event_name == 'state_change')].time\n",
    "df_events = add_trial_nb(df_events, trigger_time,trial_window) #add trial number according to the trigger\n",
    "df_events = add_time_rel_trigger(df_events, trigger_time, 'trial_time', trial_window) #calculate time relative to trigger\n",
    "df_events.dropna(inplace=True)\n",
    "df_events"
   ]
  },
  {
   "cell_type": "raw",
   "id": "e6ed876f-0eaa-4822-8524-af5eb9c34b2b",
   "metadata": {},
   "source": [
    "df2plot = df_events[df_events.event_name=='spout']\n",
    "sns.set_context('talk')\n",
    "sns.jointplot(x='trial_time', y='trial_nb', marker='|',data=df2plot)"
   ]
  },
  {
   "cell_type": "markdown",
   "id": "9623440d-14a2-4cce-9e9a-899d5b48465c",
   "metadata": {},
   "source": [
    "`df_condition` is nothing more than a dataframe containing the timestamp and name of the condition as defined in the task file. It also contains, the name of the name of the trigger event and trial number"
   ]
  },
  {
   "cell_type": "raw",
   "id": "1d75ef5a-51e8-4887-bf61-582c7f78dd09",
   "metadata": {
    "tags": []
   },
   "source": [
    "# filter the events to only focus on what we want\n",
    "df_events = df_events[df_events.event_name.isin(conditions) | \n",
    "                          df_events.state.isin(triggers) & (df_events.event_name=='state_change')]\n",
    "df_events"
   ]
  },
  {
   "cell_type": "code",
   "execution_count": 3,
   "id": "95fc924f-e89f-4798-8067-97f4dd5f8b4a",
   "metadata": {
    "tags": []
   },
   "outputs": [
    {
     "data": {
      "text/html": [
       "<div>\n",
       "<style scoped>\n",
       "    .dataframe tbody tr th:only-of-type {\n",
       "        vertical-align: middle;\n",
       "    }\n",
       "\n",
       "    .dataframe tbody tr th {\n",
       "        vertical-align: top;\n",
       "    }\n",
       "\n",
       "    .dataframe thead th {\n",
       "        text-align: right;\n",
       "    }\n",
       "</style>\n",
       "<table border=\"1\" class=\"dataframe\">\n",
       "  <thead>\n",
       "    <tr style=\"text-align: right;\">\n",
       "      <th></th>\n",
       "      <th>state</th>\n",
       "      <th>event_name</th>\n",
       "      <th>time</th>\n",
       "    </tr>\n",
       "  </thead>\n",
       "  <tbody>\n",
       "    <tr>\n",
       "      <th>1</th>\n",
       "      <td>short_break</td>\n",
       "      <td>state_change</td>\n",
       "      <td>0</td>\n",
       "    </tr>\n",
       "    <tr>\n",
       "      <th>2</th>\n",
       "      <td>short_break</td>\n",
       "      <td>bar_off</td>\n",
       "      <td>345</td>\n",
       "    </tr>\n",
       "    <tr>\n",
       "      <th>3</th>\n",
       "      <td>short_break</td>\n",
       "      <td>bar</td>\n",
       "      <td>425</td>\n",
       "    </tr>\n",
       "    <tr>\n",
       "      <th>4</th>\n",
       "      <td>short_break</td>\n",
       "      <td>bar_off</td>\n",
       "      <td>795</td>\n",
       "    </tr>\n",
       "    <tr>\n",
       "      <th>5</th>\n",
       "      <td>short_break</td>\n",
       "      <td>bar</td>\n",
       "      <td>1292</td>\n",
       "    </tr>\n",
       "    <tr>\n",
       "      <th>...</th>\n",
       "      <td>...</td>\n",
       "      <td>...</td>\n",
       "      <td>...</td>\n",
       "    </tr>\n",
       "    <tr>\n",
       "      <th>550</th>\n",
       "      <td>busy_win</td>\n",
       "      <td>bar</td>\n",
       "      <td>201003</td>\n",
       "    </tr>\n",
       "    <tr>\n",
       "      <th>551</th>\n",
       "      <td>busy_win</td>\n",
       "      <td>bar_off</td>\n",
       "      <td>201085</td>\n",
       "    </tr>\n",
       "    <tr>\n",
       "      <th>552</th>\n",
       "      <td>busy_win</td>\n",
       "      <td>bar</td>\n",
       "      <td>201102</td>\n",
       "    </tr>\n",
       "    <tr>\n",
       "      <th>553</th>\n",
       "      <td>busy_win</td>\n",
       "      <td>bar_off</td>\n",
       "      <td>201118</td>\n",
       "    </tr>\n",
       "    <tr>\n",
       "      <th>554</th>\n",
       "      <td>busy_win</td>\n",
       "      <td>bar</td>\n",
       "      <td>201153</td>\n",
       "    </tr>\n",
       "  </tbody>\n",
       "</table>\n",
       "<p>519 rows × 3 columns</p>\n",
       "</div>"
      ],
      "text/plain": [
       "           state    event_name    time\n",
       "1    short_break  state_change       0\n",
       "2    short_break       bar_off     345\n",
       "3    short_break           bar     425\n",
       "4    short_break       bar_off     795\n",
       "5    short_break           bar    1292\n",
       "..           ...           ...     ...\n",
       "550     busy_win           bar  201003\n",
       "551     busy_win       bar_off  201085\n",
       "552     busy_win           bar  201102\n",
       "553     busy_win       bar_off  201118\n",
       "554     busy_win           bar  201153\n",
       "\n",
       "[519 rows x 3 columns]"
      ]
     },
     "execution_count": 3,
     "metadata": {},
     "output_type": "execute_result"
    }
   ],
   "source": [
    "from trialexp.process.pycontrol.session_analysis import Session\n",
    "\n",
    "pycontrol_dir = 'Z:\\\\Teris\\\\ASAP\\\\pycontrol\\\\reaching_go_spout_nov22\\\\'\n",
    "filename = 'kms062-2023-02-06-112451'\n",
    "smrx_output_dir = 'Z:\\\\Teris\\\\ASAP\\\\pycontrol\\\\reaching_go_spout_nov22\\\\processed\\\\'\n",
    "\n",
    "session = Session(pycontrol_dir+filename+'.txt')\n",
    "df_events = parse_events(session)\n",
    "# df_events = pd.read_pickle('df_events.pkl')\n",
    "df_events"
   ]
  },
  {
   "cell_type": "code",
   "execution_count": 5,
   "id": "258f1d23-1af8-40ce-912e-27463ef0d2ca",
   "metadata": {
    "tags": []
   },
   "outputs": [
    {
     "ename": "NameError",
     "evalue": "name 'tasks' is not defined",
     "output_type": "error",
     "traceback": [
      "\u001b[1;31m---------------------------------------------------------------------------\u001b[0m",
      "\u001b[1;31mNameError\u001b[0m                                 Traceback (most recent call last)",
      "Cell \u001b[1;32mIn[5], line 3\u001b[0m\n\u001b[0;32m      1\u001b[0m trial_window \u001b[38;5;241m=\u001b[39m [\u001b[38;5;241m-\u001b[39m\u001b[38;5;241m2000\u001b[39m, \u001b[38;5;241m4000\u001b[39m]\n\u001b[1;32m----> 3\u001b[0m conditions, triggers, events_to_process \u001b[38;5;241m=\u001b[39m Session\u001b[38;5;241m.\u001b[39mget_task_specs(\u001b[43mtasks\u001b[49m, \u001b[38;5;124m'\u001b[39m\u001b[38;5;124mreaching_go_spout_incr_break2_nov22\u001b[39m\u001b[38;5;124m'\u001b[39m)\n\u001b[0;32m      5\u001b[0m df_events_trials, df_events \u001b[38;5;241m=\u001b[39m extract_trial_by_trigger(df_events, triggers[\u001b[38;5;241m0\u001b[39m], conditions\u001b[38;5;241m+\u001b[39mevents_to_process, \n\u001b[0;32m      6\u001b[0m                                             trial_window, \u001b[38;5;124m'\u001b[39m\u001b[38;5;124mtest\u001b[39m\u001b[38;5;124m'\u001b[39m, session\u001b[38;5;241m.\u001b[39mdatetime)\n",
      "\u001b[1;31mNameError\u001b[0m: name 'tasks' is not defined"
     ]
    }
   ],
   "source": [
    "trial_window = [-2000, 4000]\n",
    "\n",
    "conditions, triggers, events_to_process = Session.get_task_specs(tasks, 'reaching_go_spout_incr_break2_nov22')\n",
    "\n",
    "df_events_trials, df_events = extract_trial_by_trigger(df_events, triggers[0], conditions+events_to_process, \n",
    "                                            trial_window, 'test', session.datetime)"
   ]
  },
  {
   "cell_type": "code",
   "execution_count": 85,
   "id": "ff5d2f6d-72d4-4692-9c8b-6995d941d207",
   "metadata": {
    "tags": []
   },
   "outputs": [
    {
     "data": {
      "text/html": [
       "<div>\n",
       "<style scoped>\n",
       "    .dataframe tbody tr th:only-of-type {\n",
       "        vertical-align: middle;\n",
       "    }\n",
       "\n",
       "    .dataframe tbody tr th {\n",
       "        vertical-align: top;\n",
       "    }\n",
       "\n",
       "    .dataframe thead th {\n",
       "        text-align: right;\n",
       "    }\n",
       "</style>\n",
       "<table border=\"1\" class=\"dataframe\">\n",
       "  <thead>\n",
       "    <tr style=\"text-align: right;\">\n",
       "      <th></th>\n",
       "      <th>uid</th>\n",
       "      <th>trigger</th>\n",
       "      <th>valid</th>\n",
       "      <th>spout</th>\n",
       "      <th>US_end_timer</th>\n",
       "    </tr>\n",
       "    <tr>\n",
       "      <th>trial_nb</th>\n",
       "      <th></th>\n",
       "      <th></th>\n",
       "      <th></th>\n",
       "      <th></th>\n",
       "      <th></th>\n",
       "    </tr>\n",
       "  </thead>\n",
       "  <tbody>\n",
       "    <tr>\n",
       "      <th>1.0</th>\n",
       "      <td>test_2023-02-06_11:24:51_1.0</td>\n",
       "      <td>busy_win</td>\n",
       "      <td>True</td>\n",
       "      <td>True</td>\n",
       "      <td>True</td>\n",
       "    </tr>\n",
       "    <tr>\n",
       "      <th>2.0</th>\n",
       "      <td>test_2023-02-06_11:24:51_2.0</td>\n",
       "      <td>busy_win</td>\n",
       "      <td>True</td>\n",
       "      <td>True</td>\n",
       "      <td>True</td>\n",
       "    </tr>\n",
       "    <tr>\n",
       "      <th>3.0</th>\n",
       "      <td>test_2023-02-06_11:24:51_3.0</td>\n",
       "      <td>busy_win</td>\n",
       "      <td>True</td>\n",
       "      <td>True</td>\n",
       "      <td>True</td>\n",
       "    </tr>\n",
       "    <tr>\n",
       "      <th>4.0</th>\n",
       "      <td>test_2023-02-06_11:24:51_4.0</td>\n",
       "      <td>busy_win</td>\n",
       "      <td>True</td>\n",
       "      <td>True</td>\n",
       "      <td>True</td>\n",
       "    </tr>\n",
       "    <tr>\n",
       "      <th>5.0</th>\n",
       "      <td>test_2023-02-06_11:24:51_5.0</td>\n",
       "      <td>busy_win</td>\n",
       "      <td>True</td>\n",
       "      <td>True</td>\n",
       "      <td>True</td>\n",
       "    </tr>\n",
       "    <tr>\n",
       "      <th>6.0</th>\n",
       "      <td>test_2023-02-06_11:24:51_6.0</td>\n",
       "      <td>busy_win</td>\n",
       "      <td>True</td>\n",
       "      <td>True</td>\n",
       "      <td>True</td>\n",
       "    </tr>\n",
       "    <tr>\n",
       "      <th>7.0</th>\n",
       "      <td>test_2023-02-06_11:24:51_7.0</td>\n",
       "      <td>busy_win</td>\n",
       "      <td>True</td>\n",
       "      <td>True</td>\n",
       "      <td>True</td>\n",
       "    </tr>\n",
       "    <tr>\n",
       "      <th>8.0</th>\n",
       "      <td>test_2023-02-06_11:24:51_8.0</td>\n",
       "      <td>busy_win</td>\n",
       "      <td>True</td>\n",
       "      <td>True</td>\n",
       "      <td>True</td>\n",
       "    </tr>\n",
       "    <tr>\n",
       "      <th>9.0</th>\n",
       "      <td>test_2023-02-06_11:24:51_9.0</td>\n",
       "      <td>busy_win</td>\n",
       "      <td>True</td>\n",
       "      <td>True</td>\n",
       "      <td>True</td>\n",
       "    </tr>\n",
       "    <tr>\n",
       "      <th>10.0</th>\n",
       "      <td>test_2023-02-06_11:24:51_10.0</td>\n",
       "      <td>busy_win</td>\n",
       "      <td>True</td>\n",
       "      <td>True</td>\n",
       "      <td>True</td>\n",
       "    </tr>\n",
       "    <tr>\n",
       "      <th>11.0</th>\n",
       "      <td>test_2023-02-06_11:24:51_11.0</td>\n",
       "      <td>busy_win</td>\n",
       "      <td>True</td>\n",
       "      <td>True</td>\n",
       "      <td>True</td>\n",
       "    </tr>\n",
       "    <tr>\n",
       "      <th>12.0</th>\n",
       "      <td>test_2023-02-06_11:24:51_12.0</td>\n",
       "      <td>busy_win</td>\n",
       "      <td>True</td>\n",
       "      <td>True</td>\n",
       "      <td>True</td>\n",
       "    </tr>\n",
       "    <tr>\n",
       "      <th>13.0</th>\n",
       "      <td>test_2023-02-06_11:24:51_13.0</td>\n",
       "      <td>busy_win</td>\n",
       "      <td>True</td>\n",
       "      <td>True</td>\n",
       "      <td>True</td>\n",
       "    </tr>\n",
       "    <tr>\n",
       "      <th>14.0</th>\n",
       "      <td>test_2023-02-06_11:24:51_14.0</td>\n",
       "      <td>busy_win</td>\n",
       "      <td>True</td>\n",
       "      <td>True</td>\n",
       "      <td>True</td>\n",
       "    </tr>\n",
       "    <tr>\n",
       "      <th>15.0</th>\n",
       "      <td>test_2023-02-06_11:24:51_15.0</td>\n",
       "      <td>busy_win</td>\n",
       "      <td>True</td>\n",
       "      <td>True</td>\n",
       "      <td>True</td>\n",
       "    </tr>\n",
       "    <tr>\n",
       "      <th>16.0</th>\n",
       "      <td>test_2023-02-06_11:24:51_16.0</td>\n",
       "      <td>busy_win</td>\n",
       "      <td>True</td>\n",
       "      <td>True</td>\n",
       "      <td>True</td>\n",
       "    </tr>\n",
       "    <tr>\n",
       "      <th>17.0</th>\n",
       "      <td>test_2023-02-06_11:24:51_17.0</td>\n",
       "      <td>busy_win</td>\n",
       "      <td>True</td>\n",
       "      <td>True</td>\n",
       "      <td>True</td>\n",
       "    </tr>\n",
       "    <tr>\n",
       "      <th>18.0</th>\n",
       "      <td>test_2023-02-06_11:24:51_18.0</td>\n",
       "      <td>busy_win</td>\n",
       "      <td>True</td>\n",
       "      <td>True</td>\n",
       "      <td>True</td>\n",
       "    </tr>\n",
       "    <tr>\n",
       "      <th>19.0</th>\n",
       "      <td>test_2023-02-06_11:24:51_19.0</td>\n",
       "      <td>busy_win</td>\n",
       "      <td>True</td>\n",
       "      <td>True</td>\n",
       "      <td>True</td>\n",
       "    </tr>\n",
       "    <tr>\n",
       "      <th>20.0</th>\n",
       "      <td>test_2023-02-06_11:24:51_20.0</td>\n",
       "      <td>busy_win</td>\n",
       "      <td>True</td>\n",
       "      <td>True</td>\n",
       "      <td>True</td>\n",
       "    </tr>\n",
       "  </tbody>\n",
       "</table>\n",
       "</div>"
      ],
      "text/plain": [
       "                                    uid   trigger  valid  spout  US_end_timer\n",
       "trial_nb                                                                     \n",
       "1.0        test_2023-02-06_11:24:51_1.0  busy_win   True   True          True\n",
       "2.0        test_2023-02-06_11:24:51_2.0  busy_win   True   True          True\n",
       "3.0        test_2023-02-06_11:24:51_3.0  busy_win   True   True          True\n",
       "4.0        test_2023-02-06_11:24:51_4.0  busy_win   True   True          True\n",
       "5.0        test_2023-02-06_11:24:51_5.0  busy_win   True   True          True\n",
       "6.0        test_2023-02-06_11:24:51_6.0  busy_win   True   True          True\n",
       "7.0        test_2023-02-06_11:24:51_7.0  busy_win   True   True          True\n",
       "8.0        test_2023-02-06_11:24:51_8.0  busy_win   True   True          True\n",
       "9.0        test_2023-02-06_11:24:51_9.0  busy_win   True   True          True\n",
       "10.0      test_2023-02-06_11:24:51_10.0  busy_win   True   True          True\n",
       "11.0      test_2023-02-06_11:24:51_11.0  busy_win   True   True          True\n",
       "12.0      test_2023-02-06_11:24:51_12.0  busy_win   True   True          True\n",
       "13.0      test_2023-02-06_11:24:51_13.0  busy_win   True   True          True\n",
       "14.0      test_2023-02-06_11:24:51_14.0  busy_win   True   True          True\n",
       "15.0      test_2023-02-06_11:24:51_15.0  busy_win   True   True          True\n",
       "16.0      test_2023-02-06_11:24:51_16.0  busy_win   True   True          True\n",
       "17.0      test_2023-02-06_11:24:51_17.0  busy_win   True   True          True\n",
       "18.0      test_2023-02-06_11:24:51_18.0  busy_win   True   True          True\n",
       "19.0      test_2023-02-06_11:24:51_19.0  busy_win   True   True          True\n",
       "20.0      test_2023-02-06_11:24:51_20.0  busy_win   True   True          True"
      ]
     },
     "execution_count": 85,
     "metadata": {},
     "output_type": "execute_result"
    }
   ],
   "source": [
    "df_conditions = compute_conditions_by_trial(df_events_trials, conditions)\n",
    "df_conditions"
   ]
  },
  {
   "cell_type": "raw",
   "id": "9d038477-683f-400d-9ef3-5c2104e56083",
   "metadata": {},
   "source": [
    "self = self.extract_data_from_session()\n",
    "self = self.compute_trial_nb(trial_window)\n",
    "self = self.compute_conditions_by_trial()\n",
    "self = self.compute_success()\n",
    "self.df_events = tidy_up_duplicate_columns(self.df_events, self.df_conditions)    \n",
    "self.metadata_dict = self.create_metadata_dict(trial_window)"
   ]
  },
  {
   "cell_type": "code",
   "execution_count": null,
   "id": "e6ed72dc-ab04-4d82-8d61-520d42e327b2",
   "metadata": {},
   "outputs": [],
   "source": []
  }
 ],
 "metadata": {
  "kernelspec": {
   "display_name": "Python 3 (ipykernel)",
   "language": "python",
   "name": "python3"
  },
  "language_info": {
   "codemirror_mode": {
    "name": "ipython",
    "version": 3
   },
   "file_extension": ".py",
   "mimetype": "text/x-python",
   "name": "python",
   "nbconvert_exporter": "python",
   "pygments_lexer": "ipython3",
   "version": "3.8.16"
  }
 },
 "nbformat": 4,
 "nbformat_minor": 5
}
