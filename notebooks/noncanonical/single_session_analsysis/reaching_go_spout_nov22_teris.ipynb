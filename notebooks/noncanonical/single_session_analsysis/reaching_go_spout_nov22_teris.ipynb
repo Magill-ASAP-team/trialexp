{
 "cells": [
  {
   "cell_type": "markdown",
   "metadata": {
    "tags": []
   },
   "source": [
    "# reaching_go_spout_nov22"
   ]
  },
  {
   "cell_type": "markdown",
   "metadata": {},
   "source": [
    "Quick analysis of instrumental reaching\n",
    "\n",
    "additional package depedencies: seaborn, papermill"
   ]
  },
  {
   "cell_type": "code",
   "execution_count": 4,
   "metadata": {
    "tags": []
   },
   "outputs": [
    {
     "name": "stdout",
     "output_type": "stream",
     "text": [
      "Warning : sktime package not installed, this is `only an issue\n",
      "        if you want to export datasets to perform Maching Learning tasks.\n",
      "        To solve, type pip install sktime in your environment\n"
     ]
    }
   ],
   "source": [
    "# allow for automatic reloading of classes and function when updating the code\n",
    "%load_ext autoreload\n",
    "%autoreload 2 \n",
    "\n",
    "# Import Session and Experiment class with helper functions\n",
    "from trialexp.process.data_import import *\n",
    "from trialexp.process.pycontrol.utils import *\n",
    "import seaborn as sns\n"
   ]
  },
  {
   "cell_type": "markdown",
   "metadata": {},
   "source": [
    "### Load files\n"
   ]
  },
  {
   "cell_type": "markdown",
   "metadata": {},
   "source": [
    "Specify the pycontrol file you want to load"
   ]
  },
  {
   "cell_type": "code",
   "execution_count": 1,
   "metadata": {
    "tags": [
     "parameters"
    ]
   },
   "outputs": [],
   "source": [
    "# Only analyze an experimental session\n",
    "\n",
    "# pycontrol_dir = 'Z:\\\\Teris\\\\ASAP\\\\pycontrol\\\\reaching_go_spout_nov22\\\\'\n",
    "# filename = 'kms062-2023-02-06-112451.txt'\n",
    "\n",
    "pycontrol_dir = 'Z:\\\\Julien\\\\Data\\\\head-fixed\\\\pycontrol\\\\reaching_go_spout_nov22\\\\'\n",
    "filename = 'kms058-2023-02-10-113258.txt'\n"
   ]
  },
  {
   "cell_type": "markdown",
   "metadata": {},
   "source": [
    "### Parameters"
   ]
  },
  {
   "cell_type": "code",
   "execution_count": 6,
   "metadata": {
    "tags": []
   },
   "outputs": [],
   "source": [
    "# the state and event name that used to separate behavior into trials\n",
    "trigger = ('waiting_for_spout','state_change')\n",
    "\n",
    "# state and event name that used to indicate a successful trial\n",
    "success = ('busy_win', 'US_delay_timer')\n",
    "\n",
    "# state and event name that indicate a spout touch\n",
    "spout_touch = ('waiting_for_spout', 'spout')"
   ]
  },
  {
   "cell_type": "markdown",
   "metadata": {},
   "source": [
    "### Analyze events and state"
   ]
  },
  {
   "cell_type": "code",
   "execution_count": 7,
   "metadata": {
    "tags": []
   },
   "outputs": [
    {
     "data": {
      "text/html": [
       "<div>\n",
       "<style scoped>\n",
       "    .dataframe tbody tr th:only-of-type {\n",
       "        vertical-align: middle;\n",
       "    }\n",
       "\n",
       "    .dataframe tbody tr th {\n",
       "        vertical-align: top;\n",
       "    }\n",
       "\n",
       "    .dataframe thead th {\n",
       "        text-align: right;\n",
       "    }\n",
       "</style>\n",
       "<table border=\"1\" class=\"dataframe\">\n",
       "  <thead>\n",
       "    <tr style=\"text-align: right;\">\n",
       "      <th></th>\n",
       "      <th>state</th>\n",
       "      <th>event_name</th>\n",
       "      <th>time</th>\n",
       "      <th>trial_number</th>\n",
       "    </tr>\n",
       "  </thead>\n",
       "  <tbody>\n",
       "    <tr>\n",
       "      <th>1</th>\n",
       "      <td>short_break</td>\n",
       "      <td>state_change</td>\n",
       "      <td>0.000</td>\n",
       "      <td>0</td>\n",
       "    </tr>\n",
       "    <tr>\n",
       "      <th>2</th>\n",
       "      <td>waiting_for_spout</td>\n",
       "      <td>state_change</td>\n",
       "      <td>1.921</td>\n",
       "      <td>1</td>\n",
       "    </tr>\n",
       "    <tr>\n",
       "      <th>3</th>\n",
       "      <td>waiting_for_spout</td>\n",
       "      <td>CS_offset_timer</td>\n",
       "      <td>2.000</td>\n",
       "      <td>1</td>\n",
       "    </tr>\n",
       "    <tr>\n",
       "      <th>4</th>\n",
       "      <td>waiting_for_spout</td>\n",
       "      <td>bar_off</td>\n",
       "      <td>2.097</td>\n",
       "      <td>1</td>\n",
       "    </tr>\n",
       "    <tr>\n",
       "      <th>5</th>\n",
       "      <td>waiting_for_spout</td>\n",
       "      <td>bar</td>\n",
       "      <td>2.143</td>\n",
       "      <td>1</td>\n",
       "    </tr>\n",
       "    <tr>\n",
       "      <th>...</th>\n",
       "      <td>...</td>\n",
       "      <td>...</td>\n",
       "      <td>...</td>\n",
       "      <td>...</td>\n",
       "    </tr>\n",
       "    <tr>\n",
       "      <th>545</th>\n",
       "      <td>busy_win</td>\n",
       "      <td>Print@water_on</td>\n",
       "      <td>134.302</td>\n",
       "      <td>19</td>\n",
       "    </tr>\n",
       "    <tr>\n",
       "      <th>546</th>\n",
       "      <td>busy_win</td>\n",
       "      <td>Print@water success</td>\n",
       "      <td>134.302</td>\n",
       "      <td>19</td>\n",
       "    </tr>\n",
       "    <tr>\n",
       "      <th>547</th>\n",
       "      <td>busy_win</td>\n",
       "      <td>US_end_timer</td>\n",
       "      <td>134.320</td>\n",
       "      <td>19</td>\n",
       "    </tr>\n",
       "    <tr>\n",
       "      <th>548</th>\n",
       "      <td>busy_win</td>\n",
       "      <td>CS_offset_timer</td>\n",
       "      <td>134.419</td>\n",
       "      <td>19</td>\n",
       "    </tr>\n",
       "    <tr>\n",
       "      <th>549</th>\n",
       "      <td>busy_win</td>\n",
       "      <td>CS_offset_timer</td>\n",
       "      <td>134.601</td>\n",
       "      <td>19</td>\n",
       "    </tr>\n",
       "  </tbody>\n",
       "</table>\n",
       "<p>531 rows × 4 columns</p>\n",
       "</div>"
      ],
      "text/plain": [
       "                 state           event_name     time  trial_number\n",
       "1          short_break         state_change    0.000             0\n",
       "2    waiting_for_spout         state_change    1.921             1\n",
       "3    waiting_for_spout      CS_offset_timer    2.000             1\n",
       "4    waiting_for_spout              bar_off    2.097             1\n",
       "5    waiting_for_spout                  bar    2.143             1\n",
       "..                 ...                  ...      ...           ...\n",
       "545           busy_win       Print@water_on  134.302            19\n",
       "546           busy_win  Print@water success  134.302            19\n",
       "547           busy_win         US_end_timer  134.320            19\n",
       "548           busy_win      CS_offset_timer  134.419            19\n",
       "549           busy_win      CS_offset_timer  134.601            19\n",
       "\n",
       "[531 rows x 4 columns]"
      ]
     },
     "execution_count": 7,
     "metadata": {},
     "output_type": "execute_result"
    }
   ],
   "source": [
    "#Create experiment object\n",
    "exp_cohort = Experiment(pycontrol_dir+filename, update = True) #TODO\n",
    "session = exp_cohort.sessions[0]\n",
    "\n",
    "# Parse event data\n",
    "df_events = parse_events(session)\n",
    "\n",
    "# separate into trials\n",
    "df_events = add_trial_number(df_events, trigger)\n",
    "df_events.time = df_events.time /1000 # convert time to s\n",
    "df_events"
   ]
  },
  {
   "cell_type": "markdown",
   "metadata": {},
   "source": [
    "## Analyze the first spout time"
   ]
  },
  {
   "cell_type": "code",
   "execution_count": 8,
   "metadata": {
    "tags": []
   },
   "outputs": [],
   "source": [
    "#Find first spout time\n",
    "spouts = df_events[(df_events.state==spout_touch[0]) & (df_events.event_name ==spout_touch[1])].copy()\n",
    "df_first_spout = spouts.loc[spouts.groupby('trial_number').time.idxmin()]\n",
    "df_first_spout = df_first_spout.set_index('trial_number')\n",
    "\n",
    "# find the trial start time\n",
    "df_trial_start = df_events[(df_events.state==trigger[0]) & (df_events.event_name == trigger[1])].copy()\n",
    "df_trial_start = df_trial_start.set_index('trial_number')\n",
    "\n",
    "\n",
    "#calculate the time between the start of trial and first spout touch\n",
    "df_spout_time = (df_first_spout.time - df_trial_start.time)\n",
    "df_trial_start['time_first_spout'] = df_spout_time\n"
   ]
  },
  {
   "cell_type": "markdown",
   "metadata": {},
   "source": [
    "# Analyze rewards"
   ]
  },
  {
   "cell_type": "code",
   "execution_count": 9,
   "metadata": {
    "tags": []
   },
   "outputs": [],
   "source": [
    "df_reward = df_events[(df_events.state ==success[0]) & (df_events.event_name == success[1])]\n",
    "df_reward_num = df_reward.groupby('trial_number').event_name.count()\n",
    "df_trial_start['num_rewards'] = df_reward_num"
   ]
  },
  {
   "cell_type": "markdown",
   "metadata": {},
   "source": [
    "## Plotting"
   ]
  },
  {
   "cell_type": "code",
   "execution_count": 10,
   "metadata": {
    "tags": []
   },
   "outputs": [
    {
     "data": {
      "image/png": "[encoded data removed]",
      "text/plain": [
       "<Figure size 800x380 with 2 Axes>"
      ]
     },
     "metadata": {},
     "output_type": "display_data"
    },
    {
     "data": {
      "text/plain": [
       "<Figure size 800x1200 with 0 Axes>"
      ]
     },
     "metadata": {},
     "output_type": "display_data"
    }
   ],
   "source": [
    "df2plot = df_trial_start.reset_index()\n",
    "df2plot['trial_number'] = df2plot['trial_number'].astype(str) # hack to force it into categorical variable\n",
    "df2plot\n",
    "\n",
    "height = len(df2plot)*0.2\n",
    "fig,ax = plt.subplots(1,2,figsize=(8,height))\n",
    "\n",
    "sns.barplot( y='trial_number', x='time_first_spout', data=df2plot, ax=ax[0])\n",
    "ax[0].set(xlabel='Time (s)',title='Time for first spout');\n",
    "\n",
    "plt.figure(figsize=(8,12))\n",
    "sns.barplot(y='trial_number', x='num_rewards', data=df2plot, ax = ax[1])\n",
    "ax[1].set(title='Reward triggered in each trial');\n",
    "\n"
   ]
  },
  {
   "cell_type": "markdown",
   "metadata": {
    "tags": []
   },
   "source": [
    "### Summary statistics"
   ]
  },
  {
   "cell_type": "code",
   "execution_count": 11,
   "metadata": {
    "tags": []
   },
   "outputs": [
    {
     "name": "stdout",
     "output_type": "stream",
     "text": [
      "Total reward: 45\n",
      "Total trials: 19\n",
      "Success rate: 1.0\n",
      "Average reward per trial: 2.3684210526315788\n",
      "Average first spout time 5.04s\n"
     ]
    }
   ],
   "source": [
    "print(f'Total reward: {df_trial_start.num_rewards.sum()}')\n",
    "print(f'Total trials: {df_events.iloc[-1].trial_number}')\n",
    "\n",
    "#Calculate overall success rate\n",
    "success_rate = df_trial_start.time_first_spout.notna().mean()\n",
    "print(f'Success rate: {success_rate}')\n",
    "\n",
    "#average reward recieved per trial\n",
    "average_reward = df_trial_start.num_rewards.sum()/df_events.iloc[-1].trial_number\n",
    "print(f'Average reward per trial: {average_reward}')\n",
    "\n",
    "#average time to first spout in waiting_for_spout\n",
    "print(f'Average first spout time {df_trial_start.time_first_spout.mean():.2f}s')"
   ]
  },
  {
   "cell_type": "markdown",
   "metadata": {},
   "source": [
    "# Event plots"
   ]
  },
  {
   "cell_type": "code",
   "execution_count": 15,
   "metadata": {
    "tags": []
   },
   "outputs": [
    {
     "data": {
      "application/vnd.plotly.v1+json": {
       "config": {
        "plotlyServerURL": "https://plot.ly"
       },
       "data": [
        {
         "marker": {
          "symbol": "square"
         },
         "mode": "markers",
         "name": "CS_offset_timer",
         "type": "scatter",
         "x": [
          2,
          10.198,
          11.443,
          24.258,
          24.529,
          31.216,
          31.316,
          32.538,
          35.446,
          36.618,
          42.07,
          80.129,
          82.836,
          82.957,
          83.576,
          89.953,
          103.601,
          104.22,
          104.524,
          104.655,
          106.024,
          108.049,
          109.143,
          110.275,
          110.455,
          110.63,
          112.664,
          112.821,
          116.152,
          116.958,
          117.856,
          120.654,
          120.938,
          122.479,
          123.594,
          123.721,
          127.27,
          128.339,
          128.854,
          131.301,
          131.911,
          132.008,
          133.978,
          134.216,
          134.419,
          134.601
         ],
         "y": [
          "CS_offset_timer",
          "CS_offset_timer",
          "CS_offset_timer",
          "CS_offset_timer",
          "CS_offset_timer",
          "CS_offset_timer",
          "CS_offset_timer",
          "CS_offset_timer",
          "CS_offset_timer",
          "CS_offset_timer",
          "CS_offset_timer",
          "CS_offset_timer",
          "CS_offset_timer",
          "CS_offset_timer",
          "CS_offset_timer",
          "CS_offset_timer",
          "CS_offset_timer",
          "CS_offset_timer",
          "CS_offset_timer",
          "CS_offset_timer",
          "CS_offset_timer",
          "CS_offset_timer",
          "CS_offset_timer",
          "CS_offset_timer",
          "CS_offset_timer",
          "CS_offset_timer",
          "CS_offset_timer",
          "CS_offset_timer",
          "CS_offset_timer",
          "CS_offset_timer",
          "CS_offset_timer",
          "CS_offset_timer",
          "CS_offset_timer",
          "CS_offset_timer",
          "CS_offset_timer",
          "CS_offset_timer",
          "CS_offset_timer",
          "CS_offset_timer",
          "CS_offset_timer",
          "CS_offset_timer",
          "CS_offset_timer",
          "CS_offset_timer",
          "CS_offset_timer",
          "CS_offset_timer",
          "CS_offset_timer",
          "CS_offset_timer"
         ]
        },
        {
         "marker": {
          "symbol": "diamond"
         },
         "mode": "markers",
         "name": "bar_off",
         "type": "scatter",
         "x": [
          2.097,
          10.26,
          12.812,
          13.181,
          13.282,
          20.288,
          20.321,
          20.457,
          20.649,
          21.706,
          30.706,
          34.067,
          34.194,
          36.123,
          36.408,
          38.83,
          38.948,
          45.345,
          45.438,
          45.485,
          55.004,
          55.249,
          72.29,
          72.385,
          77.904,
          78.13,
          80.742,
          80.947,
          81.457,
          88.995,
          89.16,
          89.53,
          89.63,
          89.719,
          90.375,
          90.48,
          90.714,
          96.191,
          96.319,
          96.587,
          97.2,
          97.384,
          97.499,
          97.643,
          97.95,
          103.568
         ],
         "y": [
          "bar_off",
          "bar_off",
          "bar_off",
          "bar_off",
          "bar_off",
          "bar_off",
          "bar_off",
          "bar_off",
          "bar_off",
          "bar_off",
          "bar_off",
          "bar_off",
          "bar_off",
          "bar_off",
          "bar_off",
          "bar_off",
          "bar_off",
          "bar_off",
          "bar_off",
          "bar_off",
          "bar_off",
          "bar_off",
          "bar_off",
          "bar_off",
          "bar_off",
          "bar_off",
          "bar_off",
          "bar_off",
          "bar_off",
          "bar_off",
          "bar_off",
          "bar_off",
          "bar_off",
          "bar_off",
          "bar_off",
          "bar_off",
          "bar_off",
          "bar_off",
          "bar_off",
          "bar_off",
          "bar_off",
          "bar_off",
          "bar_off",
          "bar_off",
          "bar_off",
          "bar_off"
         ]
        },
        {
         "marker": {
          "symbol": "cross"
         },
         "mode": "markers",
         "name": "bar",
         "type": "scatter",
         "x": [
          2.143,
          10.297,
          12.866,
          13.226,
          13.322,
          20.304,
          20.363,
          20.497,
          20.684,
          21.768,
          30.817,
          34.156,
          34.224,
          36.382,
          38.36,
          38.906,
          38.965,
          45.423,
          45.47,
          45.502,
          55.075,
          55.265,
          72.332,
          72.457,
          78.115,
          78.155,
          80.932,
          80.949,
          88.934,
          89.059,
          89.185,
          89.574,
          89.675,
          89.752,
          90.443,
          90.508,
          90.754,
          96.291,
          96.367,
          96.618,
          97.243,
          97.416,
          97.538,
          97.685,
          98.013
         ],
         "y": [
          "bar",
          "bar",
          "bar",
          "bar",
          "bar",
          "bar",
          "bar",
          "bar",
          "bar",
          "bar",
          "bar",
          "bar",
          "bar",
          "bar",
          "bar",
          "bar",
          "bar",
          "bar",
          "bar",
          "bar",
          "bar",
          "bar",
          "bar",
          "bar",
          "bar",
          "bar",
          "bar",
          "bar",
          "bar",
          "bar",
          "bar",
          "bar",
          "bar",
          "bar",
          "bar",
          "bar",
          "bar",
          "bar",
          "bar",
          "bar",
          "bar",
          "bar",
          "bar",
          "bar",
          "bar"
         ]
        },
        {
         "marker": {
          "symbol": "x"
         },
         "mode": "markers",
         "name": "button_press",
         "type": "scatter",
         "x": [
          9.897,
          11.142,
          60.776,
          63.876,
          66.643,
          69.679
         ],
         "y": [
          "button_press",
          "button_press",
          "button_press",
          "button_press",
          "button_press",
          "button_press"
         ]
        },
        {
         "marker": {
          "symbol": "triangle-up"
         },
         "mode": "markers",
         "name": "spout",
         "type": "scatter",
         "x": [
          9.897,
          11.142,
          23.957,
          24.228,
          30.915,
          30.955,
          30.975,
          30.995,
          31.015,
          31.075,
          32.238,
          35.145,
          35.185,
          36.317,
          36.381,
          41.769,
          41.834,
          79.828,
          82.535,
          82.575,
          82.595,
          82.615,
          82.656,
          83.276,
          89.652,
          103.3,
          103.92,
          103.972,
          104.223,
          104.355,
          105.723,
          107.748,
          108.842,
          109.974,
          110.03,
          110.154,
          110.33,
          110.39,
          112.363,
          112.521,
          115.851,
          116.658,
          117.555,
          117.607,
          120.353,
          120.637,
          122.179,
          123.293,
          123.421,
          126.969,
          128.038,
          128.554,
          128.619,
          131,
          131.61,
          131.708,
          131.775,
          133.677,
          133.916,
          134.119,
          134.301
         ],
         "y": [
          "spout",
          "spout",
          "spout",
          "spout",
          "spout",
          "spout",
          "spout",
          "spout",
          "spout",
          "spout",
          "spout",
          "spout",
          "spout",
          "spout",
          "spout",
          "spout",
          "spout",
          "spout",
          "spout",
          "spout",
          "spout",
          "spout",
          "spout",
          "spout",
          "spout",
          "spout",
          "spout",
          "spout",
          "spout",
          "spout",
          "spout",
          "spout",
          "spout",
          "spout",
          "spout",
          "spout",
          "spout",
          "spout",
          "spout",
          "spout",
          "spout",
          "spout",
          "spout",
          "spout",
          "spout",
          "spout",
          "spout",
          "spout",
          "spout",
          "spout",
          "spout",
          "spout",
          "spout",
          "spout",
          "spout",
          "spout",
          "spout",
          "spout",
          "spout",
          "spout",
          "spout"
         ]
        },
        {
         "marker": {
          "symbol": "triangle-down"
         },
         "mode": "markers",
         "name": "US_delay_timer",
         "type": "scatter",
         "x": [
          9.898,
          11.143,
          23.958,
          24.229,
          30.916,
          31.016,
          32.238,
          35.146,
          36.318,
          41.77,
          79.829,
          82.536,
          82.657,
          83.276,
          89.653,
          103.301,
          103.92,
          104.224,
          104.355,
          105.724,
          107.749,
          108.843,
          109.975,
          110.155,
          110.33,
          112.364,
          112.521,
          115.853,
          116.659,
          117.556,
          120.354,
          120.638,
          122.18,
          123.294,
          123.421,
          126.97,
          128.039,
          128.555,
          131.001,
          131.611,
          131.708,
          133.678,
          133.916,
          134.12,
          134.301
         ],
         "y": [
          "US_delay_timer",
          "US_delay_timer",
          "US_delay_timer",
          "US_delay_timer",
          "US_delay_timer",
          "US_delay_timer",
          "US_delay_timer",
          "US_delay_timer",
          "US_delay_timer",
          "US_delay_timer",
          "US_delay_timer",
          "US_delay_timer",
          "US_delay_timer",
          "US_delay_timer",
          "US_delay_timer",
          "US_delay_timer",
          "US_delay_timer",
          "US_delay_timer",
          "US_delay_timer",
          "US_delay_timer",
          "US_delay_timer",
          "US_delay_timer",
          "US_delay_timer",
          "US_delay_timer",
          "US_delay_timer",
          "US_delay_timer",
          "US_delay_timer",
          "US_delay_timer",
          "US_delay_timer",
          "US_delay_timer",
          "US_delay_timer",
          "US_delay_timer",
          "US_delay_timer",
          "US_delay_timer",
          "US_delay_timer",
          "US_delay_timer",
          "US_delay_timer",
          "US_delay_timer",
          "US_delay_timer",
          "US_delay_timer",
          "US_delay_timer",
          "US_delay_timer",
          "US_delay_timer",
          "US_delay_timer",
          "US_delay_timer"
         ]
        },
        {
         "marker": {
          "symbol": "triangle-left"
         },
         "mode": "markers",
         "name": "spout_off",
         "type": "scatter",
         "x": [
          9.912,
          11.158,
          24.204,
          24.253,
          30.93,
          30.97,
          30.99,
          31.01,
          31.03,
          31.737,
          32.826,
          35.16,
          35.2,
          36.352,
          40.681,
          41.784,
          79.718,
          82.506,
          82.55,
          82.59,
          82.61,
          82.63,
          83.055,
          89.345,
          98.427,
          103.896,
          103.935,
          104.092,
          104.34,
          105.694,
          106.81,
          107.896,
          109.177,
          109.989,
          110.061,
          110.315,
          110.355,
          111.541,
          112.506,
          113.601,
          116.039,
          116.802,
          117.57,
          117.832,
          120.474,
          120.736,
          122.324,
          123.406,
          124.672,
          127.215,
          128.275,
          128.569,
          128.643,
          131.484,
          131.693,
          131.712,
          132.062,
          133.768,
          134.019,
          134.27
         ],
         "y": [
          "spout_off",
          "spout_off",
          "spout_off",
          "spout_off",
          "spout_off",
          "spout_off",
          "spout_off",
          "spout_off",
          "spout_off",
          "spout_off",
          "spout_off",
          "spout_off",
          "spout_off",
          "spout_off",
          "spout_off",
          "spout_off",
          "spout_off",
          "spout_off",
          "spout_off",
          "spout_off",
          "spout_off",
          "spout_off",
          "spout_off",
          "spout_off",
          "spout_off",
          "spout_off",
          "spout_off",
          "spout_off",
          "spout_off",
          "spout_off",
          "spout_off",
          "spout_off",
          "spout_off",
          "spout_off",
          "spout_off",
          "spout_off",
          "spout_off",
          "spout_off",
          "spout_off",
          "spout_off",
          "spout_off",
          "spout_off",
          "spout_off",
          "spout_off",
          "spout_off",
          "spout_off",
          "spout_off",
          "spout_off",
          "spout_off",
          "spout_off",
          "spout_off",
          "spout_off",
          "spout_off",
          "spout_off",
          "spout_off",
          "spout_off",
          "spout_off",
          "spout_off",
          "spout_off",
          "spout_off"
         ]
        },
        {
         "marker": {
          "symbol": "triangle-right"
         },
         "mode": "markers",
         "name": "US_end_timer",
         "type": "scatter",
         "x": [
          9.915,
          9.917,
          11.161,
          11.162,
          23.977,
          24.248,
          30.934,
          31.034,
          32.257,
          35.164,
          36.336,
          41.793,
          60.794,
          63.895,
          66.661,
          69.697,
          79.848,
          82.555,
          82.675,
          83.295,
          89.674,
          103.32,
          103.939,
          104.243,
          104.374,
          105.742,
          107.767,
          108.861,
          109.993,
          110.173,
          110.349,
          112.383,
          112.54,
          115.871,
          116.677,
          117.574,
          120.373,
          120.656,
          122.198,
          123.313,
          123.44,
          126.989,
          128.058,
          128.573,
          131.019,
          131.629,
          131.727,
          133.697,
          133.935,
          134.138,
          134.32
         ],
         "y": [
          "US_end_timer",
          "US_end_timer",
          "US_end_timer",
          "US_end_timer",
          "US_end_timer",
          "US_end_timer",
          "US_end_timer",
          "US_end_timer",
          "US_end_timer",
          "US_end_timer",
          "US_end_timer",
          "US_end_timer",
          "US_end_timer",
          "US_end_timer",
          "US_end_timer",
          "US_end_timer",
          "US_end_timer",
          "US_end_timer",
          "US_end_timer",
          "US_end_timer",
          "US_end_timer",
          "US_end_timer",
          "US_end_timer",
          "US_end_timer",
          "US_end_timer",
          "US_end_timer",
          "US_end_timer",
          "US_end_timer",
          "US_end_timer",
          "US_end_timer",
          "US_end_timer",
          "US_end_timer",
          "US_end_timer",
          "US_end_timer",
          "US_end_timer",
          "US_end_timer",
          "US_end_timer",
          "US_end_timer",
          "US_end_timer",
          "US_end_timer",
          "US_end_timer",
          "US_end_timer",
          "US_end_timer",
          "US_end_timer",
          "US_end_timer",
          "US_end_timer",
          "US_end_timer",
          "US_end_timer",
          "US_end_timer",
          "US_end_timer",
          "US_end_timer"
         ]
        },
        {
         "marker": {
          "symbol": "triangle-ne"
         },
         "mode": "markers",
         "name": "button_release",
         "type": "scatter",
         "x": [
          10.186,
          11.363,
          61.017,
          64.073,
          66.813,
          69.9
         ],
         "y": [
          "button_release",
          "button_release",
          "button_release",
          "button_release",
          "button_release",
          "button_release"
         ]
        },
        {
         "marker": {
          "symbol": "triangle-se"
         },
         "mode": "markers",
         "name": "busy_win_timer",
         "type": "scatter",
         "x": [
          11.898,
          25.958,
          32.916,
          37.146,
          43.77,
          81.829,
          84.536,
          91.652,
          105.301,
          107.723,
          109.748,
          111.975,
          114.364,
          117.852,
          122.354,
          125.294,
          128.97,
          133.001
         ],
         "y": [
          "busy_win_timer",
          "busy_win_timer",
          "busy_win_timer",
          "busy_win_timer",
          "busy_win_timer",
          "busy_win_timer",
          "busy_win_timer",
          "busy_win_timer",
          "busy_win_timer",
          "busy_win_timer",
          "busy_win_timer",
          "busy_win_timer",
          "busy_win_timer",
          "busy_win_timer",
          "busy_win_timer",
          "busy_win_timer",
          "busy_win_timer",
          "busy_win_timer"
         ]
        },
        {
         "line": {
          "width": 5
         },
         "mode": "lines",
         "name": "waiting_for_spout",
         "type": "scatter",
         "x": [
          1.921,
          9.898,
          null,
          11.9,
          23.958,
          null,
          25.96,
          30.916,
          null,
          32.917,
          35.146,
          null,
          37.148,
          41.77,
          null,
          43.772,
          79.829,
          null,
          81.831,
          82.536,
          null,
          84.537,
          89.652,
          null,
          91.654,
          103.301,
          null,
          105.303,
          105.723,
          null,
          107.725,
          107.748,
          null,
          109.75,
          109.974,
          null,
          111.977,
          112.364,
          null,
          114.366,
          115.852,
          null,
          117.854,
          120.354,
          null,
          122.356,
          123.294,
          null,
          125.296,
          126.97,
          null,
          128.972,
          131,
          null,
          133.002,
          133.678,
          null
         ],
         "y": [
          "waiting_for_spout",
          "waiting_for_spout",
          "waiting_for_spout",
          "waiting_for_spout",
          "waiting_for_spout",
          "waiting_for_spout",
          "waiting_for_spout",
          "waiting_for_spout",
          "waiting_for_spout",
          "waiting_for_spout",
          "waiting_for_spout",
          "waiting_for_spout",
          "waiting_for_spout",
          "waiting_for_spout",
          "waiting_for_spout",
          "waiting_for_spout",
          "waiting_for_spout",
          "waiting_for_spout",
          "waiting_for_spout",
          "waiting_for_spout",
          "waiting_for_spout",
          "waiting_for_spout",
          "waiting_for_spout",
          "waiting_for_spout",
          "waiting_for_spout",
          "waiting_for_spout",
          "waiting_for_spout",
          "waiting_for_spout",
          "waiting_for_spout",
          "waiting_for_spout",
          "waiting_for_spout",
          "waiting_for_spout",
          "waiting_for_spout",
          "waiting_for_spout",
          "waiting_for_spout",
          "waiting_for_spout",
          "waiting_for_spout",
          "waiting_for_spout",
          "waiting_for_spout",
          "waiting_for_spout",
          "waiting_for_spout",
          "waiting_for_spout",
          "waiting_for_spout",
          "waiting_for_spout",
          "waiting_for_spout",
          "waiting_for_spout",
          "waiting_for_spout",
          "waiting_for_spout",
          "waiting_for_spout",
          "waiting_for_spout",
          "waiting_for_spout",
          "waiting_for_spout",
          "waiting_for_spout",
          "waiting_for_spout",
          "waiting_for_spout",
          "waiting_for_spout",
          "waiting_for_spout"
         ]
        },
        {
         "line": {
          "width": 5
         },
         "mode": "lines",
         "name": "busy_win",
         "type": "scatter",
         "x": [
          9.898,
          11.9,
          null,
          23.958,
          25.96,
          null,
          30.916,
          32.917,
          null,
          35.146,
          37.148,
          null,
          41.77,
          43.772,
          null,
          79.829,
          81.831,
          null,
          82.536,
          84.537,
          null,
          89.652,
          91.654,
          null,
          103.301,
          105.303,
          null,
          105.723,
          107.725,
          null,
          107.748,
          109.75,
          null,
          109.974,
          111.977,
          null,
          112.364,
          114.366,
          null,
          115.852,
          117.854,
          null,
          120.354,
          122.356,
          null,
          123.294,
          125.296,
          null,
          126.97,
          128.972,
          null,
          131,
          133.002,
          null
         ],
         "y": [
          "busy_win",
          "busy_win",
          "busy_win",
          "busy_win",
          "busy_win",
          "busy_win",
          "busy_win",
          "busy_win",
          "busy_win",
          "busy_win",
          "busy_win",
          "busy_win",
          "busy_win",
          "busy_win",
          "busy_win",
          "busy_win",
          "busy_win",
          "busy_win",
          "busy_win",
          "busy_win",
          "busy_win",
          "busy_win",
          "busy_win",
          "busy_win",
          "busy_win",
          "busy_win",
          "busy_win",
          "busy_win",
          "busy_win",
          "busy_win",
          "busy_win",
          "busy_win",
          "busy_win",
          "busy_win",
          "busy_win",
          "busy_win",
          "busy_win",
          "busy_win",
          "busy_win",
          "busy_win",
          "busy_win",
          "busy_win",
          "busy_win",
          "busy_win",
          "busy_win",
          "busy_win",
          "busy_win",
          "busy_win",
          "busy_win",
          "busy_win",
          "busy_win",
          "busy_win",
          "busy_win",
          "busy_win"
         ]
        }
       ],
       "layout": {
        "autosize": true,
        "margin": {
         "b": 20,
         "l": 20,
         "r": 20,
         "t": 20
        },
        "template": {
         "data": {
          "bar": [
           {
            "error_x": {
             "color": "#2a3f5f"
            },
            "error_y": {
             "color": "#2a3f5f"
            },
            "marker": {
             "line": {
              "color": "#E5ECF6",
              "width": 0.5
             },
             "pattern": {
              "fillmode": "overlay",
              "size": 10,
              "solidity": 0.2
             }
            },
            "type": "bar"
           }
          ],
          "barpolar": [
           {
            "marker": {
             "line": {
              "color": "#E5ECF6",
              "width": 0.5
             },
             "pattern": {
              "fillmode": "overlay",
              "size": 10,
              "solidity": 0.2
             }
            },
            "type": "barpolar"
           }
          ],
          "carpet": [
           {
            "aaxis": {
             "endlinecolor": "#2a3f5f",
             "gridcolor": "white",
             "linecolor": "white",
             "minorgridcolor": "white",
             "startlinecolor": "#2a3f5f"
            },
            "baxis": {
             "endlinecolor": "#2a3f5f",
             "gridcolor": "white",
             "linecolor": "white",
             "minorgridcolor": "white",
             "startlinecolor": "#2a3f5f"
            },
            "type": "carpet"
           }
          ],
          "choropleth": [
           {
            "colorbar": {
             "outlinewidth": 0,
             "ticks": ""
            },
            "type": "choropleth"
           }
          ],
          "contour": [
           {
            "colorbar": {
             "outlinewidth": 0,
             "ticks": ""
            },
            "colorscale": [
             [
              0,
              "#0d0887"
             ],
             [
              0.1111111111111111,
              "#46039f"
             ],
             [
              0.2222222222222222,
              "#7201a8"
             ],
             [
              0.3333333333333333,
              "#9c179e"
             ],
             [
              0.4444444444444444,
              "#bd3786"
             ],
             [
              0.5555555555555556,
              "#d8576b"
             ],
             [
              0.6666666666666666,
              "#ed7953"
             ],
             [
              0.7777777777777778,
              "#fb9f3a"
             ],
             [
              0.8888888888888888,
              "#fdca26"
             ],
             [
              1,
              "#f0f921"
             ]
            ],
            "type": "contour"
           }
          ],
          "contourcarpet": [
           {
            "colorbar": {
             "outlinewidth": 0,
             "ticks": ""
            },
            "type": "contourcarpet"
           }
          ],
          "heatmap": [
           {
            "colorbar": {
             "outlinewidth": 0,
             "ticks": ""
            },
            "colorscale": [
             [
              0,
              "#0d0887"
             ],
             [
              0.1111111111111111,
              "#46039f"
             ],
             [
              0.2222222222222222,
              "#7201a8"
             ],
             [
              0.3333333333333333,
              "#9c179e"
             ],
             [
              0.4444444444444444,
              "#bd3786"
             ],
             [
              0.5555555555555556,
              "#d8576b"
             ],
             [
              0.6666666666666666,
              "#ed7953"
             ],
             [
              0.7777777777777778,
              "#fb9f3a"
             ],
             [
              0.8888888888888888,
              "#fdca26"
             ],
             [
              1,
              "#f0f921"
             ]
            ],
            "type": "heatmap"
           }
          ],
          "heatmapgl": [
           {
            "colorbar": {
             "outlinewidth": 0,
             "ticks": ""
            },
            "colorscale": [
             [
              0,
              "#0d0887"
             ],
             [
              0.1111111111111111,
              "#46039f"
             ],
             [
              0.2222222222222222,
              "#7201a8"
             ],
             [
              0.3333333333333333,
              "#9c179e"
             ],
             [
              0.4444444444444444,
              "#bd3786"
             ],
             [
              0.5555555555555556,
              "#d8576b"
             ],
             [
              0.6666666666666666,
              "#ed7953"
             ],
             [
              0.7777777777777778,
              "#fb9f3a"
             ],
             [
              0.8888888888888888,
              "#fdca26"
             ],
             [
              1,
              "#f0f921"
             ]
            ],
            "type": "heatmapgl"
           }
          ],
          "histogram": [
           {
            "marker": {
             "pattern": {
              "fillmode": "overlay",
              "size": 10,
              "solidity": 0.2
             }
            },
            "type": "histogram"
           }
          ],
          "histogram2d": [
           {
            "colorbar": {
             "outlinewidth": 0,
             "ticks": ""
            },
            "colorscale": [
             [
              0,
              "#0d0887"
             ],
             [
              0.1111111111111111,
              "#46039f"
             ],
             [
              0.2222222222222222,
              "#7201a8"
             ],
             [
              0.3333333333333333,
              "#9c179e"
             ],
             [
              0.4444444444444444,
              "#bd3786"
             ],
             [
              0.5555555555555556,
              "#d8576b"
             ],
             [
              0.6666666666666666,
              "#ed7953"
             ],
             [
              0.7777777777777778,
              "#fb9f3a"
             ],
             [
              0.8888888888888888,
              "#fdca26"
             ],
             [
              1,
              "#f0f921"
             ]
            ],
            "type": "histogram2d"
           }
          ],
          "histogram2dcontour": [
           {
            "colorbar": {
             "outlinewidth": 0,
             "ticks": ""
            },
            "colorscale": [
             [
              0,
              "#0d0887"
             ],
             [
              0.1111111111111111,
              "#46039f"
             ],
             [
              0.2222222222222222,
              "#7201a8"
             ],
             [
              0.3333333333333333,
              "#9c179e"
             ],
             [
              0.4444444444444444,
              "#bd3786"
             ],
             [
              0.5555555555555556,
              "#d8576b"
             ],
             [
              0.6666666666666666,
              "#ed7953"
             ],
             [
              0.7777777777777778,
              "#fb9f3a"
             ],
             [
              0.8888888888888888,
              "#fdca26"
             ],
             [
              1,
              "#f0f921"
             ]
            ],
            "type": "histogram2dcontour"
           }
          ],
          "mesh3d": [
           {
            "colorbar": {
             "outlinewidth": 0,
             "ticks": ""
            },
            "type": "mesh3d"
           }
          ],
          "parcoords": [
           {
            "line": {
             "colorbar": {
              "outlinewidth": 0,
              "ticks": ""
             }
            },
            "type": "parcoords"
           }
          ],
          "pie": [
           {
            "automargin": true,
            "type": "pie"
           }
          ],
          "scatter": [
           {
            "fillpattern": {
             "fillmode": "overlay",
             "size": 10,
             "solidity": 0.2
            },
            "type": "scatter"
           }
          ],
          "scatter3d": [
           {
            "line": {
             "colorbar": {
              "outlinewidth": 0,
              "ticks": ""
             }
            },
            "marker": {
             "colorbar": {
              "outlinewidth": 0,
              "ticks": ""
             }
            },
            "type": "scatter3d"
           }
          ],
          "scattercarpet": [
           {
            "marker": {
             "colorbar": {
              "outlinewidth": 0,
              "ticks": ""
             }
            },
            "type": "scattercarpet"
           }
          ],
          "scattergeo": [
           {
            "marker": {
             "colorbar": {
              "outlinewidth": 0,
              "ticks": ""
             }
            },
            "type": "scattergeo"
           }
          ],
          "scattergl": [
           {
            "marker": {
             "colorbar": {
              "outlinewidth": 0,
              "ticks": ""
             }
            },
            "type": "scattergl"
           }
          ],
          "scattermapbox": [
           {
            "marker": {
             "colorbar": {
              "outlinewidth": 0,
              "ticks": ""
             }
            },
            "type": "scattermapbox"
           }
          ],
          "scatterpolar": [
           {
            "marker": {
             "colorbar": {
              "outlinewidth": 0,
              "ticks": ""
             }
            },
            "type": "scatterpolar"
           }
          ],
          "scatterpolargl": [
           {
            "marker": {
             "colorbar": {
              "outlinewidth": 0,
              "ticks": ""
             }
            },
            "type": "scatterpolargl"
           }
          ],
          "scatterternary": [
           {
            "marker": {
             "colorbar": {
              "outlinewidth": 0,
              "ticks": ""
             }
            },
            "type": "scatterternary"
           }
          ],
          "surface": [
           {
            "colorbar": {
             "outlinewidth": 0,
             "ticks": ""
            },
            "colorscale": [
             [
              0,
              "#0d0887"
             ],
             [
              0.1111111111111111,
              "#46039f"
             ],
             [
              0.2222222222222222,
              "#7201a8"
             ],
             [
              0.3333333333333333,
              "#9c179e"
             ],
             [
              0.4444444444444444,
              "#bd3786"
             ],
             [
              0.5555555555555556,
              "#d8576b"
             ],
             [
              0.6666666666666666,
              "#ed7953"
             ],
             [
              0.7777777777777778,
              "#fb9f3a"
             ],
             [
              0.8888888888888888,
              "#fdca26"
             ],
             [
              1,
              "#f0f921"
             ]
            ],
            "type": "surface"
           }
          ],
          "table": [
           {
            "cells": {
             "fill": {
              "color": "#EBF0F8"
             },
             "line": {
              "color": "white"
             }
            },
            "header": {
             "fill": {
              "color": "#C8D4E3"
             },
             "line": {
              "color": "white"
             }
            },
            "type": "table"
           }
          ]
         },
         "layout": {
          "annotationdefaults": {
           "arrowcolor": "#2a3f5f",
           "arrowhead": 0,
           "arrowwidth": 1
          },
          "autotypenumbers": "strict",
          "coloraxis": {
           "colorbar": {
            "outlinewidth": 0,
            "ticks": ""
           }
          },
          "colorscale": {
           "diverging": [
            [
             0,
             "#8e0152"
            ],
            [
             0.1,
             "#c51b7d"
            ],
            [
             0.2,
             "#de77ae"
            ],
            [
             0.3,
             "#f1b6da"
            ],
            [
             0.4,
             "#fde0ef"
            ],
            [
             0.5,
             "#f7f7f7"
            ],
            [
             0.6,
             "#e6f5d0"
            ],
            [
             0.7,
             "#b8e186"
            ],
            [
             0.8,
             "#7fbc41"
            ],
            [
             0.9,
             "#4d9221"
            ],
            [
             1,
             "#276419"
            ]
           ],
           "sequential": [
            [
             0,
             "#0d0887"
            ],
            [
             0.1111111111111111,
             "#46039f"
            ],
            [
             0.2222222222222222,
             "#7201a8"
            ],
            [
             0.3333333333333333,
             "#9c179e"
            ],
            [
             0.4444444444444444,
             "#bd3786"
            ],
            [
             0.5555555555555556,
             "#d8576b"
            ],
            [
             0.6666666666666666,
             "#ed7953"
            ],
            [
             0.7777777777777778,
             "#fb9f3a"
            ],
            [
             0.8888888888888888,
             "#fdca26"
            ],
            [
             1,
             "#f0f921"
            ]
           ],
           "sequentialminus": [
            [
             0,
             "#0d0887"
            ],
            [
             0.1111111111111111,
             "#46039f"
            ],
            [
             0.2222222222222222,
             "#7201a8"
            ],
            [
             0.3333333333333333,
             "#9c179e"
            ],
            [
             0.4444444444444444,
             "#bd3786"
            ],
            [
             0.5555555555555556,
             "#d8576b"
            ],
            [
             0.6666666666666666,
             "#ed7953"
            ],
            [
             0.7777777777777778,
             "#fb9f3a"
            ],
            [
             0.8888888888888888,
             "#fdca26"
            ],
            [
             1,
             "#f0f921"
            ]
           ]
          },
          "colorway": [
           "#636efa",
           "#EF553B",
           "#00cc96",
           "#ab63fa",
           "#FFA15A",
           "#19d3f3",
           "#FF6692",
           "#B6E880",
           "#FF97FF",
           "#FECB52"
          ],
          "font": {
           "color": "#2a3f5f"
          },
          "geo": {
           "bgcolor": "white",
           "lakecolor": "white",
           "landcolor": "#E5ECF6",
           "showlakes": true,
           "showland": true,
           "subunitcolor": "white"
          },
          "hoverlabel": {
           "align": "left"
          },
          "hovermode": "closest",
          "mapbox": {
           "style": "light"
          },
          "paper_bgcolor": "white",
          "plot_bgcolor": "#E5ECF6",
          "polar": {
           "angularaxis": {
            "gridcolor": "white",
            "linecolor": "white",
            "ticks": ""
           },
           "bgcolor": "#E5ECF6",
           "radialaxis": {
            "gridcolor": "white",
            "linecolor": "white",
            "ticks": ""
           }
          },
          "scene": {
           "xaxis": {
            "backgroundcolor": "#E5ECF6",
            "gridcolor": "white",
            "gridwidth": 2,
            "linecolor": "white",
            "showbackground": true,
            "ticks": "",
            "zerolinecolor": "white"
           },
           "yaxis": {
            "backgroundcolor": "#E5ECF6",
            "gridcolor": "white",
            "gridwidth": 2,
            "linecolor": "white",
            "showbackground": true,
            "ticks": "",
            "zerolinecolor": "white"
           },
           "zaxis": {
            "backgroundcolor": "#E5ECF6",
            "gridcolor": "white",
            "gridwidth": 2,
            "linecolor": "white",
            "showbackground": true,
            "ticks": "",
            "zerolinecolor": "white"
           }
          },
          "shapedefaults": {
           "line": {
            "color": "#2a3f5f"
           }
          },
          "ternary": {
           "aaxis": {
            "gridcolor": "white",
            "linecolor": "white",
            "ticks": ""
           },
           "baxis": {
            "gridcolor": "white",
            "linecolor": "white",
            "ticks": ""
           },
           "bgcolor": "#E5ECF6",
           "caxis": {
            "gridcolor": "white",
            "linecolor": "white",
            "ticks": ""
           }
          },
          "title": {
           "x": 0.05
          },
          "xaxis": {
           "automargin": true,
           "gridcolor": "white",
           "linecolor": "white",
           "ticks": "",
           "title": {
            "standoff": 15
           },
           "zerolinecolor": "white",
           "zerolinewidth": 2
          },
          "yaxis": {
           "automargin": true,
           "gridcolor": "white",
           "linecolor": "white",
           "ticks": "",
           "title": {
            "standoff": 15
           },
           "zerolinecolor": "white",
           "zerolinewidth": 2
          }
         }
        },
        "xaxis": {
         "autorange": false,
         "range": [
          47.620215828522205,
          88.96532628713517
         ],
         "title": {
          "text": "Time (s)"
         },
         "type": "linear"
        },
        "yaxis": {
         "autorange": true,
         "fixedrange": true,
         "range": [
          -0.7815619495008806,
          11.620082207868467
         ],
         "type": "category"
        }
       }
      },
      "image/png": "[encoded data removed]",
      "text/html": [
       "<div>                            <div id=\"2e031102-5a0a-4daf-9514-468bb9016fd9\" class=\"plotly-graph-div\" style=\"height:525px; width:100%;\"></div>            <script type=\"text/javascript\">                require([\"plotly\"], function(Plotly) {                    window.PLOTLYENV=window.PLOTLYENV || {};                                    if (document.getElementById(\"2e031102-5a0a-4daf-9514-468bb9016fd9\")) {                    Plotly.newPlot(                        \"2e031102-5a0a-4daf-9514-468bb9016fd9\",                        [{\"marker\":{\"symbol\":\"square\"},\"mode\":\"markers\",\"name\":\"CS_offset_timer\",\"x\":[2.0,10.198,11.443,24.258,24.529,31.216,31.316,32.538,35.446,36.618,42.07,80.129,82.836,82.957,83.576,89.953,103.601,104.22,104.524,104.655,106.024,108.049,109.143,110.275,110.455,110.63,112.664,112.821,116.152,116.958,117.856,120.654,120.938,122.479,123.594,123.721,127.27,128.339,128.854,131.301,131.911,132.008,133.978,134.216,134.419,134.601],\"y\":[\"CS_offset_timer\",\"CS_offset_timer\",\"CS_offset_timer\",\"CS_offset_timer\",\"CS_offset_timer\",\"CS_offset_timer\",\"CS_offset_timer\",\"CS_offset_timer\",\"CS_offset_timer\",\"CS_offset_timer\",\"CS_offset_timer\",\"CS_offset_timer\",\"CS_offset_timer\",\"CS_offset_timer\",\"CS_offset_timer\",\"CS_offset_timer\",\"CS_offset_timer\",\"CS_offset_timer\",\"CS_offset_timer\",\"CS_offset_timer\",\"CS_offset_timer\",\"CS_offset_timer\",\"CS_offset_timer\",\"CS_offset_timer\",\"CS_offset_timer\",\"CS_offset_timer\",\"CS_offset_timer\",\"CS_offset_timer\",\"CS_offset_timer\",\"CS_offset_timer\",\"CS_offset_timer\",\"CS_offset_timer\",\"CS_offset_timer\",\"CS_offset_timer\",\"CS_offset_timer\",\"CS_offset_timer\",\"CS_offset_timer\",\"CS_offset_timer\",\"CS_offset_timer\",\"CS_offset_timer\",\"CS_offset_timer\",\"CS_offset_timer\",\"CS_offset_timer\",\"CS_offset_timer\",\"CS_offset_timer\",\"CS_offset_timer\"],\"type\":\"scatter\"},{\"marker\":{\"symbol\":\"diamond\"},\"mode\":\"markers\",\"name\":\"bar_off\",\"x\":[2.097,10.26,12.812,13.181,13.282,20.288,20.321,20.457,20.649,21.706,30.706,34.067,34.194,36.123,36.408,38.83,38.948,45.345,45.438,45.485,55.004,55.249,72.29,72.385,77.904,78.13,80.742,80.947,81.457,88.995,89.16,89.53,89.63,89.719,90.375,90.48,90.714,96.191,96.319,96.587,97.2,97.384,97.499,97.643,97.95,103.568],\"y\":[\"bar_off\",\"bar_off\",\"bar_off\",\"bar_off\",\"bar_off\",\"bar_off\",\"bar_off\",\"bar_off\",\"bar_off\",\"bar_off\",\"bar_off\",\"bar_off\",\"bar_off\",\"bar_off\",\"bar_off\",\"bar_off\",\"bar_off\",\"bar_off\",\"bar_off\",\"bar_off\",\"bar_off\",\"bar_off\",\"bar_off\",\"bar_off\",\"bar_off\",\"bar_off\",\"bar_off\",\"bar_off\",\"bar_off\",\"bar_off\",\"bar_off\",\"bar_off\",\"bar_off\",\"bar_off\",\"bar_off\",\"bar_off\",\"bar_off\",\"bar_off\",\"bar_off\",\"bar_off\",\"bar_off\",\"bar_off\",\"bar_off\",\"bar_off\",\"bar_off\",\"bar_off\"],\"type\":\"scatter\"},{\"marker\":{\"symbol\":\"cross\"},\"mode\":\"markers\",\"name\":\"bar\",\"x\":[2.143,10.297,12.866,13.226,13.322,20.304,20.363,20.497,20.684,21.768,30.817,34.156,34.224,36.382,38.36,38.906,38.965,45.423,45.47,45.502,55.075,55.265,72.332,72.457,78.115,78.155,80.932,80.949,88.934,89.059,89.185,89.574,89.675,89.752,90.443,90.508,90.754,96.291,96.367,96.618,97.243,97.416,97.538,97.685,98.013],\"y\":[\"bar\",\"bar\",\"bar\",\"bar\",\"bar\",\"bar\",\"bar\",\"bar\",\"bar\",\"bar\",\"bar\",\"bar\",\"bar\",\"bar\",\"bar\",\"bar\",\"bar\",\"bar\",\"bar\",\"bar\",\"bar\",\"bar\",\"bar\",\"bar\",\"bar\",\"bar\",\"bar\",\"bar\",\"bar\",\"bar\",\"bar\",\"bar\",\"bar\",\"bar\",\"bar\",\"bar\",\"bar\",\"bar\",\"bar\",\"bar\",\"bar\",\"bar\",\"bar\",\"bar\",\"bar\"],\"type\":\"scatter\"},{\"marker\":{\"symbol\":\"x\"},\"mode\":\"markers\",\"name\":\"button_press\",\"x\":[9.897,11.142,60.776,63.876,66.643,69.679],\"y\":[\"button_press\",\"button_press\",\"button_press\",\"button_press\",\"button_press\",\"button_press\"],\"type\":\"scatter\"},{\"marker\":{\"symbol\":\"triangle-up\"},\"mode\":\"markers\",\"name\":\"spout\",\"x\":[9.897,11.142,23.957,24.228,30.915,30.955,30.975,30.995,31.015,31.075,32.238,35.145,35.185,36.317,36.381,41.769,41.834,79.828,82.535,82.575,82.595,82.615,82.656,83.276,89.652,103.3,103.92,103.972,104.223,104.355,105.723,107.748,108.842,109.974,110.03,110.154,110.33,110.39,112.363,112.521,115.851,116.658,117.555,117.607,120.353,120.637,122.179,123.293,123.421,126.969,128.038,128.554,128.619,131.0,131.61,131.708,131.775,133.677,133.916,134.119,134.301],\"y\":[\"spout\",\"spout\",\"spout\",\"spout\",\"spout\",\"spout\",\"spout\",\"spout\",\"spout\",\"spout\",\"spout\",\"spout\",\"spout\",\"spout\",\"spout\",\"spout\",\"spout\",\"spout\",\"spout\",\"spout\",\"spout\",\"spout\",\"spout\",\"spout\",\"spout\",\"spout\",\"spout\",\"spout\",\"spout\",\"spout\",\"spout\",\"spout\",\"spout\",\"spout\",\"spout\",\"spout\",\"spout\",\"spout\",\"spout\",\"spout\",\"spout\",\"spout\",\"spout\",\"spout\",\"spout\",\"spout\",\"spout\",\"spout\",\"spout\",\"spout\",\"spout\",\"spout\",\"spout\",\"spout\",\"spout\",\"spout\",\"spout\",\"spout\",\"spout\",\"spout\",\"spout\"],\"type\":\"scatter\"},{\"marker\":{\"symbol\":\"triangle-down\"},\"mode\":\"markers\",\"name\":\"US_delay_timer\",\"x\":[9.898,11.143,23.958,24.229,30.916,31.016,32.238,35.146,36.318,41.77,79.829,82.536,82.657,83.276,89.653,103.301,103.92,104.224,104.355,105.724,107.749,108.843,109.975,110.155,110.33,112.364,112.521,115.853,116.659,117.556,120.354,120.638,122.18,123.294,123.421,126.97,128.039,128.555,131.001,131.611,131.708,133.678,133.916,134.12,134.301],\"y\":[\"US_delay_timer\",\"US_delay_timer\",\"US_delay_timer\",\"US_delay_timer\",\"US_delay_timer\",\"US_delay_timer\",\"US_delay_timer\",\"US_delay_timer\",\"US_delay_timer\",\"US_delay_timer\",\"US_delay_timer\",\"US_delay_timer\",\"US_delay_timer\",\"US_delay_timer\",\"US_delay_timer\",\"US_delay_timer\",\"US_delay_timer\",\"US_delay_timer\",\"US_delay_timer\",\"US_delay_timer\",\"US_delay_timer\",\"US_delay_timer\",\"US_delay_timer\",\"US_delay_timer\",\"US_delay_timer\",\"US_delay_timer\",\"US_delay_timer\",\"US_delay_timer\",\"US_delay_timer\",\"US_delay_timer\",\"US_delay_timer\",\"US_delay_timer\",\"US_delay_timer\",\"US_delay_timer\",\"US_delay_timer\",\"US_delay_timer\",\"US_delay_timer\",\"US_delay_timer\",\"US_delay_timer\",\"US_delay_timer\",\"US_delay_timer\",\"US_delay_timer\",\"US_delay_timer\",\"US_delay_timer\",\"US_delay_timer\"],\"type\":\"scatter\"},{\"marker\":{\"symbol\":\"triangle-left\"},\"mode\":\"markers\",\"name\":\"spout_off\",\"x\":[9.912,11.158,24.204,24.253,30.93,30.97,30.99,31.01,31.03,31.737,32.826,35.16,35.2,36.352,40.681,41.784,79.718,82.506,82.55,82.59,82.61,82.63,83.055,89.345,98.427,103.896,103.935,104.092,104.34,105.694,106.81,107.896,109.177,109.989,110.061,110.315,110.355,111.541,112.506,113.601,116.039,116.802,117.57,117.832,120.474,120.736,122.324,123.406,124.672,127.215,128.275,128.569,128.643,131.484,131.693,131.712,132.062,133.768,134.019,134.27],\"y\":[\"spout_off\",\"spout_off\",\"spout_off\",\"spout_off\",\"spout_off\",\"spout_off\",\"spout_off\",\"spout_off\",\"spout_off\",\"spout_off\",\"spout_off\",\"spout_off\",\"spout_off\",\"spout_off\",\"spout_off\",\"spout_off\",\"spout_off\",\"spout_off\",\"spout_off\",\"spout_off\",\"spout_off\",\"spout_off\",\"spout_off\",\"spout_off\",\"spout_off\",\"spout_off\",\"spout_off\",\"spout_off\",\"spout_off\",\"spout_off\",\"spout_off\",\"spout_off\",\"spout_off\",\"spout_off\",\"spout_off\",\"spout_off\",\"spout_off\",\"spout_off\",\"spout_off\",\"spout_off\",\"spout_off\",\"spout_off\",\"spout_off\",\"spout_off\",\"spout_off\",\"spout_off\",\"spout_off\",\"spout_off\",\"spout_off\",\"spout_off\",\"spout_off\",\"spout_off\",\"spout_off\",\"spout_off\",\"spout_off\",\"spout_off\",\"spout_off\",\"spout_off\",\"spout_off\",\"spout_off\"],\"type\":\"scatter\"},{\"marker\":{\"symbol\":\"triangle-right\"},\"mode\":\"markers\",\"name\":\"US_end_timer\",\"x\":[9.915,9.917,11.161,11.162,23.977,24.248,30.934,31.034,32.257,35.164,36.336,41.793,60.794,63.895,66.661,69.697,79.848,82.555,82.675,83.295,89.674,103.32,103.939,104.243,104.374,105.742,107.767,108.861,109.993,110.173,110.349,112.383,112.54,115.871,116.677,117.574,120.373,120.656,122.198,123.313,123.44,126.989,128.058,128.573,131.019,131.629,131.727,133.697,133.935,134.138,134.32],\"y\":[\"US_end_timer\",\"US_end_timer\",\"US_end_timer\",\"US_end_timer\",\"US_end_timer\",\"US_end_timer\",\"US_end_timer\",\"US_end_timer\",\"US_end_timer\",\"US_end_timer\",\"US_end_timer\",\"US_end_timer\",\"US_end_timer\",\"US_end_timer\",\"US_end_timer\",\"US_end_timer\",\"US_end_timer\",\"US_end_timer\",\"US_end_timer\",\"US_end_timer\",\"US_end_timer\",\"US_end_timer\",\"US_end_timer\",\"US_end_timer\",\"US_end_timer\",\"US_end_timer\",\"US_end_timer\",\"US_end_timer\",\"US_end_timer\",\"US_end_timer\",\"US_end_timer\",\"US_end_timer\",\"US_end_timer\",\"US_end_timer\",\"US_end_timer\",\"US_end_timer\",\"US_end_timer\",\"US_end_timer\",\"US_end_timer\",\"US_end_timer\",\"US_end_timer\",\"US_end_timer\",\"US_end_timer\",\"US_end_timer\",\"US_end_timer\",\"US_end_timer\",\"US_end_timer\",\"US_end_timer\",\"US_end_timer\",\"US_end_timer\",\"US_end_timer\"],\"type\":\"scatter\"},{\"marker\":{\"symbol\":\"triangle-ne\"},\"mode\":\"markers\",\"name\":\"button_release\",\"x\":[10.186,11.363,61.017,64.073,66.813,69.9],\"y\":[\"button_release\",\"button_release\",\"button_release\",\"button_release\",\"button_release\",\"button_release\"],\"type\":\"scatter\"},{\"marker\":{\"symbol\":\"triangle-se\"},\"mode\":\"markers\",\"name\":\"busy_win_timer\",\"x\":[11.898,25.958,32.916,37.146,43.77,81.829,84.536,91.652,105.301,107.723,109.748,111.975,114.364,117.852,122.354,125.294,128.97,133.001],\"y\":[\"busy_win_timer\",\"busy_win_timer\",\"busy_win_timer\",\"busy_win_timer\",\"busy_win_timer\",\"busy_win_timer\",\"busy_win_timer\",\"busy_win_timer\",\"busy_win_timer\",\"busy_win_timer\",\"busy_win_timer\",\"busy_win_timer\",\"busy_win_timer\",\"busy_win_timer\",\"busy_win_timer\",\"busy_win_timer\",\"busy_win_timer\",\"busy_win_timer\"],\"type\":\"scatter\"},{\"line\":{\"width\":5},\"mode\":\"lines\",\"name\":\"waiting_for_spout\",\"x\":[1.921,9.898,null,11.9,23.958,null,25.96,30.916,null,32.917,35.146,null,37.148,41.77,null,43.772,79.829,null,81.831,82.536,null,84.537,89.652,null,91.654,103.301,null,105.303,105.723,null,107.725,107.748,null,109.75,109.974,null,111.977,112.364,null,114.366,115.852,null,117.854,120.354,null,122.356,123.294,null,125.296,126.97,null,128.972,131.0,null,133.002,133.678,null],\"y\":[\"waiting_for_spout\",\"waiting_for_spout\",\"waiting_for_spout\",\"waiting_for_spout\",\"waiting_for_spout\",\"waiting_for_spout\",\"waiting_for_spout\",\"waiting_for_spout\",\"waiting_for_spout\",\"waiting_for_spout\",\"waiting_for_spout\",\"waiting_for_spout\",\"waiting_for_spout\",\"waiting_for_spout\",\"waiting_for_spout\",\"waiting_for_spout\",\"waiting_for_spout\",\"waiting_for_spout\",\"waiting_for_spout\",\"waiting_for_spout\",\"waiting_for_spout\",\"waiting_for_spout\",\"waiting_for_spout\",\"waiting_for_spout\",\"waiting_for_spout\",\"waiting_for_spout\",\"waiting_for_spout\",\"waiting_for_spout\",\"waiting_for_spout\",\"waiting_for_spout\",\"waiting_for_spout\",\"waiting_for_spout\",\"waiting_for_spout\",\"waiting_for_spout\",\"waiting_for_spout\",\"waiting_for_spout\",\"waiting_for_spout\",\"waiting_for_spout\",\"waiting_for_spout\",\"waiting_for_spout\",\"waiting_for_spout\",\"waiting_for_spout\",\"waiting_for_spout\",\"waiting_for_spout\",\"waiting_for_spout\",\"waiting_for_spout\",\"waiting_for_spout\",\"waiting_for_spout\",\"waiting_for_spout\",\"waiting_for_spout\",\"waiting_for_spout\",\"waiting_for_spout\",\"waiting_for_spout\",\"waiting_for_spout\",\"waiting_for_spout\",\"waiting_for_spout\",\"waiting_for_spout\"],\"type\":\"scatter\"},{\"line\":{\"width\":5},\"mode\":\"lines\",\"name\":\"busy_win\",\"x\":[9.898,11.9,null,23.958,25.96,null,30.916,32.917,null,35.146,37.148,null,41.77,43.772,null,79.829,81.831,null,82.536,84.537,null,89.652,91.654,null,103.301,105.303,null,105.723,107.725,null,107.748,109.75,null,109.974,111.977,null,112.364,114.366,null,115.852,117.854,null,120.354,122.356,null,123.294,125.296,null,126.97,128.972,null,131.0,133.002,null],\"y\":[\"busy_win\",\"busy_win\",\"busy_win\",\"busy_win\",\"busy_win\",\"busy_win\",\"busy_win\",\"busy_win\",\"busy_win\",\"busy_win\",\"busy_win\",\"busy_win\",\"busy_win\",\"busy_win\",\"busy_win\",\"busy_win\",\"busy_win\",\"busy_win\",\"busy_win\",\"busy_win\",\"busy_win\",\"busy_win\",\"busy_win\",\"busy_win\",\"busy_win\",\"busy_win\",\"busy_win\",\"busy_win\",\"busy_win\",\"busy_win\",\"busy_win\",\"busy_win\",\"busy_win\",\"busy_win\",\"busy_win\",\"busy_win\",\"busy_win\",\"busy_win\",\"busy_win\",\"busy_win\",\"busy_win\",\"busy_win\",\"busy_win\",\"busy_win\",\"busy_win\",\"busy_win\",\"busy_win\",\"busy_win\",\"busy_win\",\"busy_win\",\"busy_win\",\"busy_win\",\"busy_win\",\"busy_win\"],\"type\":\"scatter\"}],                        {\"template\":{\"data\":{\"histogram2dcontour\":[{\"type\":\"histogram2dcontour\",\"colorbar\":{\"outlinewidth\":0,\"ticks\":\"\"},\"colorscale\":[[0.0,\"#0d0887\"],[0.1111111111111111,\"#46039f\"],[0.2222222222222222,\"#7201a8\"],[0.3333333333333333,\"#9c179e\"],[0.4444444444444444,\"#bd3786\"],[0.5555555555555556,\"#d8576b\"],[0.6666666666666666,\"#ed7953\"],[0.7777777777777778,\"#fb9f3a\"],[0.8888888888888888,\"#fdca26\"],[1.0,\"#f0f921\"]]}],\"choropleth\":[{\"type\":\"choropleth\",\"colorbar\":{\"outlinewidth\":0,\"ticks\":\"\"}}],\"histogram2d\":[{\"type\":\"histogram2d\",\"colorbar\":{\"outlinewidth\":0,\"ticks\":\"\"},\"colorscale\":[[0.0,\"#0d0887\"],[0.1111111111111111,\"#46039f\"],[0.2222222222222222,\"#7201a8\"],[0.3333333333333333,\"#9c179e\"],[0.4444444444444444,\"#bd3786\"],[0.5555555555555556,\"#d8576b\"],[0.6666666666666666,\"#ed7953\"],[0.7777777777777778,\"#fb9f3a\"],[0.8888888888888888,\"#fdca26\"],[1.0,\"#f0f921\"]]}],\"heatmap\":[{\"type\":\"heatmap\",\"colorbar\":{\"outlinewidth\":0,\"ticks\":\"\"},\"colorscale\":[[0.0,\"#0d0887\"],[0.1111111111111111,\"#46039f\"],[0.2222222222222222,\"#7201a8\"],[0.3333333333333333,\"#9c179e\"],[0.4444444444444444,\"#bd3786\"],[0.5555555555555556,\"#d8576b\"],[0.6666666666666666,\"#ed7953\"],[0.7777777777777778,\"#fb9f3a\"],[0.8888888888888888,\"#fdca26\"],[1.0,\"#f0f921\"]]}],\"heatmapgl\":[{\"type\":\"heatmapgl\",\"colorbar\":{\"outlinewidth\":0,\"ticks\":\"\"},\"colorscale\":[[0.0,\"#0d0887\"],[0.1111111111111111,\"#46039f\"],[0.2222222222222222,\"#7201a8\"],[0.3333333333333333,\"#9c179e\"],[0.4444444444444444,\"#bd3786\"],[0.5555555555555556,\"#d8576b\"],[0.6666666666666666,\"#ed7953\"],[0.7777777777777778,\"#fb9f3a\"],[0.8888888888888888,\"#fdca26\"],[1.0,\"#f0f921\"]]}],\"contourcarpet\":[{\"type\":\"contourcarpet\",\"colorbar\":{\"outlinewidth\":0,\"ticks\":\"\"}}],\"contour\":[{\"type\":\"contour\",\"colorbar\":{\"outlinewidth\":0,\"ticks\":\"\"},\"colorscale\":[[0.0,\"#0d0887\"],[0.1111111111111111,\"#46039f\"],[0.2222222222222222,\"#7201a8\"],[0.3333333333333333,\"#9c179e\"],[0.4444444444444444,\"#bd3786\"],[0.5555555555555556,\"#d8576b\"],[0.6666666666666666,\"#ed7953\"],[0.7777777777777778,\"#fb9f3a\"],[0.8888888888888888,\"#fdca26\"],[1.0,\"#f0f921\"]]}],\"surface\":[{\"type\":\"surface\",\"colorbar\":{\"outlinewidth\":0,\"ticks\":\"\"},\"colorscale\":[[0.0,\"#0d0887\"],[0.1111111111111111,\"#46039f\"],[0.2222222222222222,\"#7201a8\"],[0.3333333333333333,\"#9c179e\"],[0.4444444444444444,\"#bd3786\"],[0.5555555555555556,\"#d8576b\"],[0.6666666666666666,\"#ed7953\"],[0.7777777777777778,\"#fb9f3a\"],[0.8888888888888888,\"#fdca26\"],[1.0,\"#f0f921\"]]}],\"mesh3d\":[{\"type\":\"mesh3d\",\"colorbar\":{\"outlinewidth\":0,\"ticks\":\"\"}}],\"scatter\":[{\"fillpattern\":{\"fillmode\":\"overlay\",\"size\":10,\"solidity\":0.2},\"type\":\"scatter\"}],\"parcoords\":[{\"type\":\"parcoords\",\"line\":{\"colorbar\":{\"outlinewidth\":0,\"ticks\":\"\"}}}],\"scatterpolargl\":[{\"type\":\"scatterpolargl\",\"marker\":{\"colorbar\":{\"outlinewidth\":0,\"ticks\":\"\"}}}],\"bar\":[{\"error_x\":{\"color\":\"#2a3f5f\"},\"error_y\":{\"color\":\"#2a3f5f\"},\"marker\":{\"line\":{\"color\":\"#E5ECF6\",\"width\":0.5},\"pattern\":{\"fillmode\":\"overlay\",\"size\":10,\"solidity\":0.2}},\"type\":\"bar\"}],\"scattergeo\":[{\"type\":\"scattergeo\",\"marker\":{\"colorbar\":{\"outlinewidth\":0,\"ticks\":\"\"}}}],\"scatterpolar\":[{\"type\":\"scatterpolar\",\"marker\":{\"colorbar\":{\"outlinewidth\":0,\"ticks\":\"\"}}}],\"histogram\":[{\"marker\":{\"pattern\":{\"fillmode\":\"overlay\",\"size\":10,\"solidity\":0.2}},\"type\":\"histogram\"}],\"scattergl\":[{\"type\":\"scattergl\",\"marker\":{\"colorbar\":{\"outlinewidth\":0,\"ticks\":\"\"}}}],\"scatter3d\":[{\"type\":\"scatter3d\",\"line\":{\"colorbar\":{\"outlinewidth\":0,\"ticks\":\"\"}},\"marker\":{\"colorbar\":{\"outlinewidth\":0,\"ticks\":\"\"}}}],\"scattermapbox\":[{\"type\":\"scattermapbox\",\"marker\":{\"colorbar\":{\"outlinewidth\":0,\"ticks\":\"\"}}}],\"scatterternary\":[{\"type\":\"scatterternary\",\"marker\":{\"colorbar\":{\"outlinewidth\":0,\"ticks\":\"\"}}}],\"scattercarpet\":[{\"type\":\"scattercarpet\",\"marker\":{\"colorbar\":{\"outlinewidth\":0,\"ticks\":\"\"}}}],\"carpet\":[{\"aaxis\":{\"endlinecolor\":\"#2a3f5f\",\"gridcolor\":\"white\",\"linecolor\":\"white\",\"minorgridcolor\":\"white\",\"startlinecolor\":\"#2a3f5f\"},\"baxis\":{\"endlinecolor\":\"#2a3f5f\",\"gridcolor\":\"white\",\"linecolor\":\"white\",\"minorgridcolor\":\"white\",\"startlinecolor\":\"#2a3f5f\"},\"type\":\"carpet\"}],\"table\":[{\"cells\":{\"fill\":{\"color\":\"#EBF0F8\"},\"line\":{\"color\":\"white\"}},\"header\":{\"fill\":{\"color\":\"#C8D4E3\"},\"line\":{\"color\":\"white\"}},\"type\":\"table\"}],\"barpolar\":[{\"marker\":{\"line\":{\"color\":\"#E5ECF6\",\"width\":0.5},\"pattern\":{\"fillmode\":\"overlay\",\"size\":10,\"solidity\":0.2}},\"type\":\"barpolar\"}],\"pie\":[{\"automargin\":true,\"type\":\"pie\"}]},\"layout\":{\"autotypenumbers\":\"strict\",\"colorway\":[\"#636efa\",\"#EF553B\",\"#00cc96\",\"#ab63fa\",\"#FFA15A\",\"#19d3f3\",\"#FF6692\",\"#B6E880\",\"#FF97FF\",\"#FECB52\"],\"font\":{\"color\":\"#2a3f5f\"},\"hovermode\":\"closest\",\"hoverlabel\":{\"align\":\"left\"},\"paper_bgcolor\":\"white\",\"plot_bgcolor\":\"#E5ECF6\",\"polar\":{\"bgcolor\":\"#E5ECF6\",\"angularaxis\":{\"gridcolor\":\"white\",\"linecolor\":\"white\",\"ticks\":\"\"},\"radialaxis\":{\"gridcolor\":\"white\",\"linecolor\":\"white\",\"ticks\":\"\"}},\"ternary\":{\"bgcolor\":\"#E5ECF6\",\"aaxis\":{\"gridcolor\":\"white\",\"linecolor\":\"white\",\"ticks\":\"\"},\"baxis\":{\"gridcolor\":\"white\",\"linecolor\":\"white\",\"ticks\":\"\"},\"caxis\":{\"gridcolor\":\"white\",\"linecolor\":\"white\",\"ticks\":\"\"}},\"coloraxis\":{\"colorbar\":{\"outlinewidth\":0,\"ticks\":\"\"}},\"colorscale\":{\"sequential\":[[0.0,\"#0d0887\"],[0.1111111111111111,\"#46039f\"],[0.2222222222222222,\"#7201a8\"],[0.3333333333333333,\"#9c179e\"],[0.4444444444444444,\"#bd3786\"],[0.5555555555555556,\"#d8576b\"],[0.6666666666666666,\"#ed7953\"],[0.7777777777777778,\"#fb9f3a\"],[0.8888888888888888,\"#fdca26\"],[1.0,\"#f0f921\"]],\"sequentialminus\":[[0.0,\"#0d0887\"],[0.1111111111111111,\"#46039f\"],[0.2222222222222222,\"#7201a8\"],[0.3333333333333333,\"#9c179e\"],[0.4444444444444444,\"#bd3786\"],[0.5555555555555556,\"#d8576b\"],[0.6666666666666666,\"#ed7953\"],[0.7777777777777778,\"#fb9f3a\"],[0.8888888888888888,\"#fdca26\"],[1.0,\"#f0f921\"]],\"diverging\":[[0,\"#8e0152\"],[0.1,\"#c51b7d\"],[0.2,\"#de77ae\"],[0.3,\"#f1b6da\"],[0.4,\"#fde0ef\"],[0.5,\"#f7f7f7\"],[0.6,\"#e6f5d0\"],[0.7,\"#b8e186\"],[0.8,\"#7fbc41\"],[0.9,\"#4d9221\"],[1,\"#276419\"]]},\"xaxis\":{\"gridcolor\":\"white\",\"linecolor\":\"white\",\"ticks\":\"\",\"title\":{\"standoff\":15},\"zerolinecolor\":\"white\",\"automargin\":true,\"zerolinewidth\":2},\"yaxis\":{\"gridcolor\":\"white\",\"linecolor\":\"white\",\"ticks\":\"\",\"title\":{\"standoff\":15},\"zerolinecolor\":\"white\",\"automargin\":true,\"zerolinewidth\":2},\"scene\":{\"xaxis\":{\"backgroundcolor\":\"#E5ECF6\",\"gridcolor\":\"white\",\"linecolor\":\"white\",\"showbackground\":true,\"ticks\":\"\",\"zerolinecolor\":\"white\",\"gridwidth\":2},\"yaxis\":{\"backgroundcolor\":\"#E5ECF6\",\"gridcolor\":\"white\",\"linecolor\":\"white\",\"showbackground\":true,\"ticks\":\"\",\"zerolinecolor\":\"white\",\"gridwidth\":2},\"zaxis\":{\"backgroundcolor\":\"#E5ECF6\",\"gridcolor\":\"white\",\"linecolor\":\"white\",\"showbackground\":true,\"ticks\":\"\",\"zerolinecolor\":\"white\",\"gridwidth\":2}},\"shapedefaults\":{\"line\":{\"color\":\"#2a3f5f\"}},\"annotationdefaults\":{\"arrowcolor\":\"#2a3f5f\",\"arrowhead\":0,\"arrowwidth\":1},\"geo\":{\"bgcolor\":\"white\",\"landcolor\":\"#E5ECF6\",\"subunitcolor\":\"white\",\"showland\":true,\"showlakes\":true,\"lakecolor\":\"white\"},\"title\":{\"x\":0.05},\"mapbox\":{\"style\":\"light\"}}},\"xaxis\":{\"title\":{\"text\":\"Time (s)\"}},\"yaxis\":{\"fixedrange\":true},\"margin\":{\"l\":20,\"r\":20,\"t\":20,\"b\":20}},                        {\"responsive\": true}                    ).then(function(){\n",
       "                            \n",
       "var gd = document.getElementById('2e031102-5a0a-4daf-9514-468bb9016fd9');\n",
       "var x = new MutationObserver(function (mutations, observer) {{\n",
       "        var display = window.getComputedStyle(gd).display;\n",
       "        if (!display || display === 'none') {{\n",
       "            console.log([gd, 'removed!']);\n",
       "            Plotly.purge(gd);\n",
       "            observer.disconnect();\n",
       "        }}\n",
       "}});\n",
       "\n",
       "// Listen for the removal of the full notebook cells\n",
       "var notebookContainer = gd.closest('#notebook-container');\n",
       "if (notebookContainer) {{\n",
       "    x.observe(notebookContainer, {childList: true});\n",
       "}}\n",
       "\n",
       "// Listen for the clearing of the current output cell\n",
       "var outputEl = gd.closest('.output');\n",
       "if (outputEl) {{\n",
       "    x.observe(outputEl, {childList: true});\n",
       "}}\n",
       "\n",
       "                        })                };                });            </script>        </div>"
      ]
     },
     "metadata": {},
     "output_type": "display_data"
    }
   ],
   "source": [
    "\n",
    "# state_def = [{'name': 'hold_for_water', \n",
    "#                   'onset': 'hold_for_water', 'offset': 'waiting_for_spout'},\n",
    "#             {'name': 'waiting_for_spout', \n",
    "#                  'onset': 'waiting_for_spout', 'offset': 'busy_win'},\n",
    "#             {'name': 'busy_win', \n",
    "#                  'onset': 'busy_win', 'offset': 'break_after_water'},\n",
    "#             {'name': 'break_after_water', \n",
    "#                  'onset': 'break_after_water',    'offset': 'waiting_for_bar'},\n",
    "#             {'name': 'break_after_no_water', \n",
    "#                  'onset': 'break_after_no_water', 'offset': 'waiting_for_bar'}]\n",
    "\n",
    "state_def = [\n",
    "            {'name': 'waiting_for_spout', \n",
    "                 'onset': 'waiting_for_spout', 'offset': 'busy_win'},\n",
    "            {'name': 'busy_win', \n",
    "                 'onset': 'busy_win', 'offset': 'waiting_for_spout'}]\n",
    "\n",
    "df2plot = df_events[~df_events.event_name.str.contains('Print@') ]# remove all print statement\n",
    "\n",
    "keys = df2plot.event_name.unique()\n",
    "keys = keys[keys!='state_change']\n",
    "\n",
    "plot_session(df2plot, keys, state_def)"
   ]
  }
 ],
 "metadata": {
  "kernelspec": {
   "display_name": "Python 3 (ipykernel)",
   "language": "python",
   "name": "python3"
  },
  "language_info": {
   "codemirror_mode": {
    "name": "ipython",
    "version": 3
   },
   "file_extension": ".py",
   "mimetype": "text/x-python",
   "name": "python",
   "nbconvert_exporter": "python",
   "pygments_lexer": "ipython3",
   "version": "3.8.16"
  },
  "vscode": {
   "interpreter": {
    "hash": "0d1e031f6f376662b97d9f481efb02d044bc4a5d17f5aae0c7d7abfcc2e5ac1c"
   }
  }
 },
 "nbformat": 4,
 "nbformat_minor": 4
}
