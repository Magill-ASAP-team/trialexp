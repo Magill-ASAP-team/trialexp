{
 "cells": [
  {
   "cell_type": "markdown",
   "id": "8d18171b-a73f-4abf-b12c-2e2e483c872a",
   "metadata": {},
   "source": [
    "# Batch processing"
   ]
  },
  {
   "cell_type": "markdown",
   "id": "053335db-ffe1-40e5-b17c-827fa3779c71",
   "metadata": {},
   "source": [
    "This file batch-process pycontrol file in a particular folder"
   ]
  },
  {
   "cell_type": "markdown",
   "id": "00e46aa7-7196-4eab-9e52-a84b2d368011",
   "metadata": {},
   "source": [
    "### reaching_go_spout_incr_breaks2"
   ]
  },
  {
   "cell_type": "code",
   "execution_count": 9,
   "id": "8242111c-9ba6-4186-8888-6e341f921dba",
   "metadata": {
    "tags": []
   },
   "outputs": [
    {
     "name": "stderr",
     "output_type": "stream",
     "text": [
      "Black is not installed, parameters wont be formatted\n"
     ]
    },
    {
     "data": {
      "application/vnd.jupyter.widget-view+json": {
       "model_id": "1971157a7127438da8eecf26e93d558b",
       "version_major": 2,
       "version_minor": 0
      },
      "text/plain": [
       "Executing:   0%|          | 0/21 [00:00<?, ?cell/s]"
      ]
     },
     "metadata": {},
     "output_type": "display_data"
    },
    {
     "name": "stderr",
     "output_type": "stream",
     "text": [
      "Black is not installed, parameters wont be formatted\n"
     ]
    },
    {
     "data": {
      "application/vnd.jupyter.widget-view+json": {
       "model_id": "fd607098f6f74ad08b20660ce1050485",
       "version_major": 2,
       "version_minor": 0
      },
      "text/plain": [
       "Executing:   0%|          | 0/21 [00:00<?, ?cell/s]"
      ]
     },
     "metadata": {},
     "output_type": "display_data"
    }
   ],
   "source": [
    "import papermill as pm\n",
    "\n",
    "base_dir = 'Z:\\\\Julien\\\\Data\\\\head-fixed\\\\pycontrol\\\\reaching_go_spout_incr_break2_nov22\\\\'\n",
    "# base_dir = 'Z:\\\\Teris\\\\ASAP\\\\test_folder\\\\'\n",
    "filenames = ['kms058-2023-02-10-113533', 'kms061-2023-02-10-101822']\n",
    "\n",
    "for fn in filenames:\n",
    "    pm.execute_notebook(\n",
    "       'reaching_go_spout_incr_break2_nov22_teris.ipynb',\n",
    "       base_dir+f'processed\\\\{fn}.ipynb',\n",
    "       parameters={'pycontrol_dir':base_dir, 'filename':fn+'.txt'}\n",
    "    )"
   ]
  }
 ],
 "metadata": {
  "kernelspec": {
   "display_name": "Python 3 (ipykernel)",
   "language": "python",
   "name": "python3"
  },
  "language_info": {
   "codemirror_mode": {
    "name": "ipython",
    "version": 3
   },
   "file_extension": ".py",
   "mimetype": "text/x-python",
   "name": "python",
   "nbconvert_exporter": "python",
   "pygments_lexer": "ipython3",
   "version": "3.8.16"
  }
 },
 "nbformat": 4,
 "nbformat_minor": 5
}
