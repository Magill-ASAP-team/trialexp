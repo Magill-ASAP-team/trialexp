{
 "cells": [
  {
   "cell_type": "markdown",
   "metadata": {},
   "source": [
    "# reaching_go_spout_bar_nov22\n",
    "\n",
    "```bash\n",
    "jupyter nbconvert \"D:\\OneDrive - Nexus365\\Private_Dropbox\\Projects\\trialexp\\notebooks\\noncanonical\\nb20221202_115800_reaching_go_spout_bar_nov22.ipynb\" --to=\"python\" --output-dir=\"D:\\OneDrive - Nexus365\\Private_Dropbox\\Projects\\trialexp\\notebooks\\noncanonical\" --output=\"nb20221202_115800_reaching_go_spout_bar_nov22\"\n",
    "```"
   ]
  },
  {
   "cell_type": "markdown",
   "metadata": {},
   "source": [
    "Quick analysis of instrumental reaching"
   ]
  },
  {
   "cell_type": "markdown",
   "metadata": {},
   "source": []
  },
  {
   "cell_type": "code",
   "execution_count": 2,
   "metadata": {},
   "outputs": [],
   "source": [
    "# allow for automatic reloading of classes and function when updating the code\n",
    "%load_ext autoreload\n",
    "%autoreload 2 \n",
    "\n",
    "# Import Session and Experiment class with helper functions\n",
    "from trialexp.process.data_import import *\n",
    "\n"
   ]
  },
  {
   "cell_type": "markdown",
   "metadata": {},
   "source": [
    "### Variables"
   ]
  },
  {
   "cell_type": "code",
   "execution_count": 3,
   "metadata": {},
   "outputs": [],
   "source": [
    "import pandas as pd\n",
    "\n",
    "trial_window = [-2000, 6000] # in ms\n",
    "\n",
    "# time limit around trigger to perform an event\n",
    "# determine successful trials\n",
    "timelim = [0, 2000] # in ms\n",
    "\n",
    "# Digital channel nb of the pyphotometry device\n",
    "# on which rsync signal is sent (from pycontrol device)\n",
    "rsync_chan = 2\n",
    "\n",
    "basefolder, _ = os.path.split(os.path.split(os.getcwd())[0])\n",
    "\n",
    "# These must be absolute paths\n",
    "# use this to use within package tasks files (in params)\n",
    "tasksfile = os.path.join(basefolder,'params\\\\tasks_params.csv')\n",
    "# use this to put a local full path\n",
    "#tasksfile = -r'C:/.../tasks_params.csv' \n",
    "\n",
    "# photometry_dir = r'\\\\ettin\\Magill_Lab\\Julien\\Data\\head-fixed\\test_folder\\photometry'\n",
    "photometry_dir = r'\\\\ettin\\Magill_Lab\\Julien\\Data\\head-fixed\\kms_pyphotometry'\n",
    "video_dir = r'\\\\ettin\\Magill_Lab\\Julien\\Data\\head-fixed\\videos'"
   ]
  },
  {
   "cell_type": "code",
   "execution_count": 4,
   "metadata": {},
   "outputs": [
    {
     "data": {
      "text/html": [
       "<div>\n",
       "<style scoped>\n",
       "    .dataframe tbody tr th:only-of-type {\n",
       "        vertical-align: middle;\n",
       "    }\n",
       "\n",
       "    .dataframe tbody tr th {\n",
       "        vertical-align: top;\n",
       "    }\n",
       "\n",
       "    .dataframe thead th {\n",
       "        text-align: right;\n",
       "    }\n",
       "</style>\n",
       "<table border=\"1\" class=\"dataframe\">\n",
       "  <thead>\n",
       "    <tr style=\"text-align: right;\">\n",
       "      <th></th>\n",
       "      <th>task</th>\n",
       "      <th>triggers</th>\n",
       "      <th>events</th>\n",
       "      <th>conditions</th>\n",
       "    </tr>\n",
       "  </thead>\n",
       "  <tbody>\n",
       "    <tr>\n",
       "      <th>0</th>\n",
       "      <td>lick_go_nogo</td>\n",
       "      <td>go; nogo</td>\n",
       "      <td>bar; bar_off; spout</td>\n",
       "      <td>free_reward</td>\n",
       "    </tr>\n",
       "    <tr>\n",
       "      <th>1</th>\n",
       "      <td>lick_go_nogo_unconditionned</td>\n",
       "      <td>go; nogo</td>\n",
       "      <td>bar; bar_off; spout</td>\n",
       "      <td>free_reward</td>\n",
       "    </tr>\n",
       "    <tr>\n",
       "      <th>2</th>\n",
       "      <td>lick_go_nogo_unconditionned_opto</td>\n",
       "      <td>go; nogo</td>\n",
       "      <td>bar; bar_off; spout</td>\n",
       "      <td>free_reward</td>\n",
       "    </tr>\n",
       "    <tr>\n",
       "      <th>3</th>\n",
       "      <td>reaching_go_nogo</td>\n",
       "      <td>CS_Go; CS_NoGo</td>\n",
       "      <td>bar; bar_off; spout</td>\n",
       "      <td>error bar_off; reward bar_off; error free; rew...</td>\n",
       "    </tr>\n",
       "    <tr>\n",
       "      <th>4</th>\n",
       "      <td>reaching_go_nogo_jc</td>\n",
       "      <td>CS_plus; CS_minus</td>\n",
       "      <td>bar; bar_off; spout</td>\n",
       "      <td>error bar_off; reward bar_off; error free; rew...</td>\n",
       "    </tr>\n",
       "    <tr>\n",
       "      <th>5</th>\n",
       "      <td>reaching_go_nogo_opto_continuous</td>\n",
       "      <td>CS_Go; CS_NoGo</td>\n",
       "      <td>bar; bar_off; spout</td>\n",
       "      <td>s_nogo_sham; s_nogo_cs_onset; s_go_sham; s_go_...</td>\n",
       "    </tr>\n",
       "    <tr>\n",
       "      <th>6</th>\n",
       "      <td>reaching_go_nogo_opto_sinusoid</td>\n",
       "      <td>CS_Go; CS_NoGo</td>\n",
       "      <td>bar; bar_off; spout</td>\n",
       "      <td>s_nogo_sham; s_nogo_cs_onset_2; s_nogo_cs_onse...</td>\n",
       "    </tr>\n",
       "    <tr>\n",
       "      <th>7</th>\n",
       "      <td>reaching_go_nogo_opto_sinusoid_spout</td>\n",
       "      <td>CS_Go; CS_NoGo</td>\n",
       "      <td>bar; bar_off; spout</td>\n",
       "      <td>s_nogo_sham; s_nogo_cs_onset_2; s_nogo_cs_onse...</td>\n",
       "    </tr>\n",
       "    <tr>\n",
       "      <th>8</th>\n",
       "      <td>reaching_go_nogo_reversal</td>\n",
       "      <td>CS_Go; CS_NoGo</td>\n",
       "      <td>bar; bar_off; spout</td>\n",
       "      <td>error bar_off; reward bar_off; error free; rew...</td>\n",
       "    </tr>\n",
       "    <tr>\n",
       "      <th>9</th>\n",
       "      <td>reaching_go_nogo_reversal_incentive</td>\n",
       "      <td>CS_Go; CS_NoGo</td>\n",
       "      <td>bar; bar_off; spout</td>\n",
       "      <td>error bar_off; reward bar_off; error free; rew...</td>\n",
       "    </tr>\n",
       "    <tr>\n",
       "      <th>10</th>\n",
       "      <td>reaching_go_nogo_touch_spout</td>\n",
       "      <td>CS_Go; CS_NoGo</td>\n",
       "      <td>bar; bar_off; spout</td>\n",
       "      <td>error bar_off; reward bar_off; error free; rew...</td>\n",
       "    </tr>\n",
       "    <tr>\n",
       "      <th>11</th>\n",
       "      <td>reaching_test</td>\n",
       "      <td>us_deliver</td>\n",
       "      <td>bar; bar_off; spout</td>\n",
       "      <td>free_reward</td>\n",
       "    </tr>\n",
       "    <tr>\n",
       "      <th>12</th>\n",
       "      <td>reaching_test_CS</td>\n",
       "      <td>CS_plus; CS_minus</td>\n",
       "      <td>bar; bar_off; spout</td>\n",
       "      <td>free_reward</td>\n",
       "    </tr>\n",
       "    <tr>\n",
       "      <th>13</th>\n",
       "      <td>reaching_yp</td>\n",
       "      <td>reward_presentation</td>\n",
       "      <td>bar; bar_off; spout</td>\n",
       "      <td>free_reward</td>\n",
       "    </tr>\n",
       "    <tr>\n",
       "      <th>14</th>\n",
       "      <td>train_CSgo_US_coterminated</td>\n",
       "      <td>Go</td>\n",
       "      <td>bar; bar_off; spout</td>\n",
       "      <td>free_reward</td>\n",
       "    </tr>\n",
       "    <tr>\n",
       "      <th>15</th>\n",
       "      <td>train_Go_CS-US_pavlovian</td>\n",
       "      <td>Go</td>\n",
       "      <td>bar; bar_off; spout</td>\n",
       "      <td>free_reward</td>\n",
       "    </tr>\n",
       "    <tr>\n",
       "      <th>16</th>\n",
       "      <td>train_Go_CS-US_pavlovian_with_bar</td>\n",
       "      <td>CS_Go</td>\n",
       "      <td>bar; bar_off; spout</td>\n",
       "      <td>free_reward</td>\n",
       "    </tr>\n",
       "    <tr>\n",
       "      <th>17</th>\n",
       "      <td>reaching_go_spout_cued_uncued</td>\n",
       "      <td>CS_Go</td>\n",
       "      <td>bar; bar_off; spout; hold_start</td>\n",
       "      <td>free_reward_timer; reward spout cued; reward b...</td>\n",
       "    </tr>\n",
       "    <tr>\n",
       "      <th>18</th>\n",
       "      <td>pavlovian_nobar_nodelay</td>\n",
       "      <td>CS_Go</td>\n",
       "      <td>bar; bar_off; spout</td>\n",
       "      <td>NaN</td>\n",
       "    </tr>\n",
       "    <tr>\n",
       "      <th>19</th>\n",
       "      <td>cued_uncued_oct22</td>\n",
       "      <td>Cued; UnCued</td>\n",
       "      <td>bar; bar_off; spout; reward_delay_timer</td>\n",
       "      <td>delayed reward spout cued; delayed reward spou...</td>\n",
       "    </tr>\n",
       "    <tr>\n",
       "      <th>20</th>\n",
       "      <td>go_rewarding_aversive</td>\n",
       "      <td>Go_water; Go_air</td>\n",
       "      <td>bar; bar_off; spout</td>\n",
       "      <td>free_reward; Go_water spout success; Go_air sp...</td>\n",
       "    </tr>\n",
       "    <tr>\n",
       "      <th>21</th>\n",
       "      <td>reaching_go_spout_nov22</td>\n",
       "      <td>busy_win</td>\n",
       "      <td>bar, bar_off, spout</td>\n",
       "      <td>water_on; water success</td>\n",
       "    </tr>\n",
       "    <tr>\n",
       "      <th>22</th>\n",
       "      <td>reaching_go_spout_nov22_timewin</td>\n",
       "      <td>busy_win</td>\n",
       "      <td>bar, bar_off, spout, button_release, US_end_ti...</td>\n",
       "      <td>water by bar_off; water success; water_on</td>\n",
       "    </tr>\n",
       "    <tr>\n",
       "      <th>23</th>\n",
       "      <td>reaching_go_spout_bar_nov22</td>\n",
       "      <td>hold_for_water</td>\n",
       "      <td>bar, bar_off, spout, button_release, free_wate...</td>\n",
       "      <td>water_on; water success</td>\n",
       "    </tr>\n",
       "  </tbody>\n",
       "</table>\n",
       "</div>"
      ],
      "text/plain": [
       "                                    task             triggers  \\\n",
       "0                           lick_go_nogo             go; nogo   \n",
       "1            lick_go_nogo_unconditionned             go; nogo   \n",
       "2       lick_go_nogo_unconditionned_opto             go; nogo   \n",
       "3                       reaching_go_nogo       CS_Go; CS_NoGo   \n",
       "4                    reaching_go_nogo_jc    CS_plus; CS_minus   \n",
       "5       reaching_go_nogo_opto_continuous       CS_Go; CS_NoGo   \n",
       "6         reaching_go_nogo_opto_sinusoid       CS_Go; CS_NoGo   \n",
       "7   reaching_go_nogo_opto_sinusoid_spout       CS_Go; CS_NoGo   \n",
       "8              reaching_go_nogo_reversal       CS_Go; CS_NoGo   \n",
       "9    reaching_go_nogo_reversal_incentive       CS_Go; CS_NoGo   \n",
       "10          reaching_go_nogo_touch_spout       CS_Go; CS_NoGo   \n",
       "11                         reaching_test           us_deliver   \n",
       "12                      reaching_test_CS    CS_plus; CS_minus   \n",
       "13                           reaching_yp  reward_presentation   \n",
       "14            train_CSgo_US_coterminated                   Go   \n",
       "15              train_Go_CS-US_pavlovian                   Go   \n",
       "16     train_Go_CS-US_pavlovian_with_bar                CS_Go   \n",
       "17         reaching_go_spout_cued_uncued                CS_Go   \n",
       "18               pavlovian_nobar_nodelay                CS_Go   \n",
       "19                     cued_uncued_oct22         Cued; UnCued   \n",
       "20                 go_rewarding_aversive     Go_water; Go_air   \n",
       "21               reaching_go_spout_nov22             busy_win   \n",
       "22       reaching_go_spout_nov22_timewin             busy_win   \n",
       "23           reaching_go_spout_bar_nov22       hold_for_water   \n",
       "\n",
       "                                               events  \\\n",
       "0                                 bar; bar_off; spout   \n",
       "1                                 bar; bar_off; spout   \n",
       "2                                 bar; bar_off; spout   \n",
       "3                                 bar; bar_off; spout   \n",
       "4                                 bar; bar_off; spout   \n",
       "5                                 bar; bar_off; spout   \n",
       "6                                 bar; bar_off; spout   \n",
       "7                                 bar; bar_off; spout   \n",
       "8                                 bar; bar_off; spout   \n",
       "9                                 bar; bar_off; spout   \n",
       "10                                bar; bar_off; spout   \n",
       "11                                bar; bar_off; spout   \n",
       "12                                bar; bar_off; spout   \n",
       "13                                bar; bar_off; spout   \n",
       "14                                bar; bar_off; spout   \n",
       "15                                bar; bar_off; spout   \n",
       "16                                bar; bar_off; spout   \n",
       "17                    bar; bar_off; spout; hold_start   \n",
       "18                                bar; bar_off; spout   \n",
       "19            bar; bar_off; spout; reward_delay_timer   \n",
       "20                                bar; bar_off; spout   \n",
       "21                                bar, bar_off, spout   \n",
       "22  bar, bar_off, spout, button_release, US_end_ti...   \n",
       "23  bar, bar_off, spout, button_release, free_wate...   \n",
       "\n",
       "                                           conditions  \n",
       "0                                         free_reward  \n",
       "1                                         free_reward  \n",
       "2                                         free_reward  \n",
       "3   error bar_off; reward bar_off; error free; rew...  \n",
       "4   error bar_off; reward bar_off; error free; rew...  \n",
       "5   s_nogo_sham; s_nogo_cs_onset; s_go_sham; s_go_...  \n",
       "6   s_nogo_sham; s_nogo_cs_onset_2; s_nogo_cs_onse...  \n",
       "7   s_nogo_sham; s_nogo_cs_onset_2; s_nogo_cs_onse...  \n",
       "8   error bar_off; reward bar_off; error free; rew...  \n",
       "9   error bar_off; reward bar_off; error free; rew...  \n",
       "10  error bar_off; reward bar_off; error free; rew...  \n",
       "11                                        free_reward  \n",
       "12                                        free_reward  \n",
       "13                                        free_reward  \n",
       "14                                        free_reward  \n",
       "15                                        free_reward  \n",
       "16                                        free_reward  \n",
       "17  free_reward_timer; reward spout cued; reward b...  \n",
       "18                                                NaN  \n",
       "19  delayed reward spout cued; delayed reward spou...  \n",
       "20  free_reward; Go_water spout success; Go_air sp...  \n",
       "21                            water_on; water success  \n",
       "22          water by bar_off; water success; water_on  \n",
       "23                            water_on; water success  "
      ]
     },
     "execution_count": 4,
     "metadata": {},
     "output_type": "execute_result"
    }
   ],
   "source": [
    "tasks = pd.read_csv(tasksfile, usecols=[1, 2, 3, 4], index_col=False)\n",
    "tasks\n"
   ]
  },
  {
   "cell_type": "code",
   "execution_count": 5,
   "metadata": {},
   "outputs": [
    {
     "name": "stdout",
     "output_type": "stream",
     "text": [
      "T:\\Data\\head-fixed\\pycontrol\\reaching_go_spout_incr_break2_nov22\\00-2022-12-03-184921.txt\n",
      "T:\\Data\\head-fixed\\pycontrol\\reaching_go_spout_incr_break2_nov22\\00-2022-12-03-185212.txt\n",
      "T:\\Data\\head-fixed\\pycontrol\\reaching_go_spout_incr_break2_nov22\\00-2022-12-03-185430.txt\n",
      "T:\\Data\\head-fixed\\pycontrol\\reaching_go_spout_incr_break2_nov22\\00-2022-12-03-191541.txt\n",
      "T:\\Data\\head-fixed\\pycontrol\\reaching_go_spout_incr_break2_nov22\\00-2022-12-03-191728.txt\n",
      "T:\\Data\\head-fixed\\pycontrol\\reaching_go_spout_incr_break2_nov22\\00-2022-12-03-191926.txt\n",
      "T:\\Data\\head-fixed\\pycontrol\\reaching_go_spout_incr_break2_nov22\\00-2022-12-03-192013.txt\n",
      "T:\\Data\\head-fixed\\pycontrol\\reaching_go_spout_incr_break2_nov22\\00-2022-12-03-192115.txt\n",
      "T:\\Data\\head-fixed\\pycontrol\\reaching_go_spout_incr_break2_nov22\\JC313L-2022-12-03-174659.txt\n",
      "T:\\Data\\head-fixed\\pycontrol\\reaching_go_spout_incr_break2_nov22\\JC313L-2022-12-03-175247.txt\n",
      "T:\\Data\\head-fixed\\pycontrol\\reaching_go_spout_incr_break2_nov22\\JC313L-2022-12-03-181331.txt\n",
      "T:\\Data\\head-fixed\\pycontrol\\reaching_go_spout_incr_break2_nov22\\JC313L-2022-12-05-113640.txt\n",
      "T:\\Data\\head-fixed\\pycontrol\\reaching_go_spout_incr_break2_nov22\\JC313L-2022-12-05-114926.txt\n",
      "T:\\Data\\head-fixed\\pycontrol\\reaching_go_spout_incr_break2_nov22\\JC315L-2022-12-03-180020.txt\n",
      "T:\\Data\\head-fixed\\pycontrol\\reaching_go_spout_incr_break2_nov22\\JC315L-2022-12-05-113743.txt\n"
     ]
    }
   ],
   "source": [
    "photo_root_dir = 'T:\\\\Data\\\\head-fixed\\\\pyphotometry\\\\data'\n",
    "pycontrol_root_dir = 'T:\\\\Data\\\\head-fixed\\\\pycontrol'\n",
    "\n",
    "root_folders = [photo_root_dir, pycontrol_root_dir]\n",
    "horizontal_folder_pycontrol = 'T:\\\\Data\\\\head-fixed\\\\test_folder\\\\pycontrol'\n",
    "horizontal_folder_photometry = 'T:\\\\Data\\\\head-fixed\\\\test_folder\\\\photometry'\n",
    "\n",
    "copy_files_to_horizontal_folders(\n",
    "    root_folders, horizontal_folder_pycontrol, horizontal_folder_photometry)\n"
   ]
  },
  {
   "cell_type": "markdown",
   "metadata": {},
   "source": [
    "### Create an experiment object\n"
   ]
  },
  {
   "cell_type": "code",
   "execution_count": 17,
   "metadata": {},
   "outputs": [
    {
     "name": "stdout",
     "output_type": "stream",
     "text": [
      "Saved sessions loaded from: sessions.pkl\n"
     ]
    }
   ],
   "source": [
    "# Folder of a full experimental batch, all animals included\n",
    "\n",
    "# Enter absolute path like this\n",
    "# pycontrol_files_path = r'T:\\Data\\head-fixed\\test_folder\\pycontrol'\n",
    "\n",
    "# or this if you want to use data from the sample_data folder within the package\n",
    "pycontrol_files_path = os.path.join(basefolder, 'sample_data/pycontrol')\n",
    "pycontrol_files_path = r'T:\\Data\\head-fixed\\kms_pycontrol'\n",
    "\n",
    "# Load all raw text sessions in the indicated folder or a sessions.pkl file\n",
    "# if already existing in folder_path\n",
    "exp_cohort = Experiment(pycontrol_files_path, update = True) #TODO\n",
    "\n",
    "# Only use if the Experiment cohort as been processed by trials before\n",
    "# TODO: assess whether this can be removed or not\n",
    "exp_cohort.by_trial = True\n",
    "\n",
    "\n",
    "smrx_folder_path = r'T:\\Data\\head-fixed\\kms_pycontrol\\smrx'\n"
   ]
  },
  {
   "cell_type": "markdown",
   "metadata": {},
   "source": [
    "## Select sessions"
   ]
  },
  {
   "cell_type": "code",
   "execution_count": 18,
   "metadata": {},
   "outputs": [],
   "source": [
    "# Many combinations possible\n",
    "conditions_dict0 = {'trigger': 'hold_for_water', 'valid': True}\n",
    "\n",
    "# Aggregate all condition dictionaries in a list\n",
    "condition_list = [conditions_dict0]\n",
    "# Aliases for conditions\n",
    "cond_aliases = [\n",
    "    'any_trial',\n",
    "]\n",
    "\n",
    "# Groups as a list of lists\n",
    "groups = None\n",
    "\n",
    "# right_handed = [281]\n",
    "# groups = [[280, 282, 299, 300, 301],\\\n",
    "#     [284, 285, 296, 297, 306, 307]]\n",
    "# Window to exctract (in ms)\n"
   ]
  },
  {
   "cell_type": "code",
   "execution_count": 19,
   "metadata": {},
   "outputs": [],
   "source": [
    "import datetime\n",
    "ss = exp_cohort.sessions\n",
    "\n",
    "ss_ = [this_ss for this_ss in ss \n",
    "       if (this_ss.subject_ID in [313, 314, 315, 316, 317, 318])\n",
    "       # if (this_ss.subject_ID in [ 314, 316])\n",
    "    and (this_ss.experiment_name == 'reaching_go_spout_bar_nov22')\n",
    "    and (this_ss.datetime.date() == datetime.date(2022,12,1))]\n",
    "\n",
    "exp_cohort.sessions = ss_"
   ]
  },
  {
   "cell_type": "code",
   "execution_count": 20,
   "metadata": {},
   "outputs": [
    {
     "name": "stdout",
     "output_type": "stream",
     "text": [
      "[313, 314, 316, 315, 317, 318]\n"
     ]
    }
   ],
   "source": [
    "print([s.subject_ID for s in ss_])\n"
   ]
  },
  {
   "cell_type": "code",
   "execution_count": 21,
   "metadata": {},
   "outputs": [
    {
     "name": "stdout",
     "output_type": "stream",
     "text": [
      "2022-12-01\n"
     ]
    }
   ],
   "source": [
    "print(ss_[0].datetime.date())\n"
   ]
  },
  {
   "cell_type": "code",
   "execution_count": 22,
   "metadata": {},
   "outputs": [
    {
     "name": "stdout",
     "output_type": "stream",
     "text": [
      "[<trialexp.process.data_import.Session object at 0x000001CDAAF1F6A0>, <trialexp.process.data_import.Session object at 0x000001CD8CC61F70>, <trialexp.process.data_import.Session object at 0x000001CDAAF1F040>, <trialexp.process.data_import.Session object at 0x000001CD820DF8B0>, <trialexp.process.data_import.Session object at 0x000001CD8CB62070>, <trialexp.process.data_import.Session object at 0x000001CDAA432250>]\n"
     ]
    }
   ],
   "source": [
    "print(exp_cohort.sessions)"
   ]
  },
  {
   "cell_type": "code",
   "execution_count": 13,
   "metadata": {},
   "outputs": [
    {
     "ename": "IndexError",
     "evalue": "list index out of range",
     "output_type": "error",
     "traceback": [
      "\u001b[1;31m---------------------------------------------------------------------------\u001b[0m",
      "\u001b[1;31mIndexError\u001b[0m                                Traceback (most recent call last)",
      "Cell \u001b[1;32mIn [13], line 1\u001b[0m\n\u001b[1;32m----> 1\u001b[0m exp_cohort\u001b[39m.\u001b[39;49msessions[\u001b[39m0\u001b[39;49m]\u001b[39m.\u001b[39mdf_conditions\n",
      "\u001b[1;31mIndexError\u001b[0m: list index out of range"
     ]
    }
   ],
   "source": [
    "exp_cohort.sessions[0].df_conditions"
   ]
  },
  {
   "cell_type": "markdown",
   "metadata": {},
   "source": [
    "# SLOW 3m"
   ]
  },
  {
   "cell_type": "code",
   "execution_count": 11,
   "metadata": {},
   "outputs": [
    {
     "name": "stdout",
     "output_type": "stream",
     "text": [
      "No event  'bar, bar_off, spout, button_release, free_water_timer, busy_win_timer, CS_offset_timer, US_end_timer'  found:  313 2022-12-01 11:17:17 reaching_go_spout_bar_nov22\n",
      "No event  'bar, bar_off, spout, button_release, free_water_timer, busy_win_timer, CS_offset_timer, US_end_timer'  found:  314 2022-12-01 11:23:58 reaching_go_spout_bar_nov22\n",
      "No event  'bar, bar_off, spout, button_release, free_water_timer, busy_win_timer, CS_offset_timer, US_end_timer'  found:  316 2022-12-01 12:15:16 reaching_go_spout_bar_nov22\n",
      "No event  'bar, bar_off, spout, button_release, free_water_timer, busy_win_timer, CS_offset_timer, US_end_timer'  found:  315 2022-12-01 12:18:14 reaching_go_spout_bar_nov22\n",
      "No event  'bar, bar_off, spout, button_release, free_water_timer, busy_win_timer, CS_offset_timer, US_end_timer'  found:  317 2022-12-01 16:30:24 reaching_go_spout_bar_nov22\n",
      "No event  'bar, bar_off, spout, button_release, free_water_timer, busy_win_timer, CS_offset_timer, US_end_timer'  found:  318 2022-12-01 16:32:32 reaching_go_spout_bar_nov22\n",
      "The following sessions will be removed for lack of trials:\n",
      "Deleting:  318 2022-12-01 16:32:32 reaching_go_spout_bar_nov22\n",
      "Deleting:  317 2022-12-01 16:30:24 reaching_go_spout_bar_nov22\n",
      "Deleting:  315 2022-12-01 12:18:14 reaching_go_spout_bar_nov22\n",
      "Deleting:  316 2022-12-01 12:15:16 reaching_go_spout_bar_nov22\n",
      "Deleting:  314 2022-12-01 11:23:58 reaching_go_spout_bar_nov22\n",
      "Deleting:  313 2022-12-01 11:17:17 reaching_go_spout_bar_nov22\n"
     ]
    }
   ],
   "source": [
    "\n",
    "# # Process the whole experimental folder by trials\n",
    "\n",
    "exp_cohort.process_exp_by_trial(\n",
    "    trial_window, timelim, tasksfile, blank_spurious_event='spout', blank_timelim=[0, 65])\n",
    "    # this should use extract_data_from_session and prepare df_conditions\n"
   ]
  },
  {
   "cell_type": "code",
   "execution_count": 12,
   "metadata": {},
   "outputs": [],
   "source": [
    "\n",
    "# Find if there is a matching photometry file and if it can be used:\n",
    "# rsync synchronization pulses matching between behaviour and photometry\n",
    "\n",
    "# Find if there is a matching photometry file:\n",
    "exp_cohort.match_sessions_to_files(photometry_dir, ext='ppd')\n",
    "\n",
    "# rsync synchronization pulses matching between behaviour and photometry\n",
    "exp_cohort.sync_photometry_files(2)\n",
    "\n",
    "# Find matching videos\n",
    "exp_cohort.match_sessions_to_files(video_dir, ext='mp4')\n",
    "\n",
    "# FInd matching DeepLabCut outputs files\n",
    "exp_cohort.match_sessions_to_files(video_dir, ext='h5', verbose=True)\n",
    "\n",
    "\n",
    "# exp_cohort.save()\n"
   ]
  },
  {
   "cell_type": "code",
   "execution_count": null,
   "metadata": {},
   "outputs": [],
   "source": [
    "print([s.subject_ID for s in exp_cohort.sessions])"
   ]
  },
  {
   "cell_type": "code",
   "execution_count": null,
   "metadata": {},
   "outputs": [],
   "source": [
    "exp_cohort.sessions[0].times.keys()"
   ]
  },
  {
   "cell_type": "markdown",
   "metadata": {},
   "source": [
    "# Session plot \n",
    "\n",
    "I realised that this plot can never tell if a water drop was triggered by bar_off or spout.\n"
   ]
  },
  {
   "cell_type": "code",
   "execution_count": null,
   "metadata": {},
   "outputs": [],
   "source": [
    "exp_cohort.sessions[0].print_lines[0:30]"
   ]
  },
  {
   "cell_type": "code",
   "execution_count": null,
   "metadata": {},
   "outputs": [],
   "source": [
    "import re\n",
    "\n",
    "re.match('abc ','abc de')\n",
    "\n",
    "expr = '^\\d+(?= ' + '.?Timestamp' + ')'\n",
    "a = [re.match(expr, L) for L in exp_cohort.sessions[0].print_lines if re.match(expr , L) is not None]\n",
    "int(a[0].group(0))"
   ]
  },
  {
   "cell_type": "code",
   "execution_count": null,
   "metadata": {},
   "outputs": [],
   "source": [
    "for ss in exp_cohort.sessions:\n",
    "    smrxname = re.sub('\\.txt', f'_{ss.task_name}.smrx', ss.file_name)\n",
    "    print(smrxname)\n"
   ]
  },
  {
   "cell_type": "markdown",
   "metadata": {},
   "source": [
    "\n",
    "# export"
   ]
  },
  {
   "cell_type": "code",
   "execution_count": null,
   "metadata": {},
   "outputs": [],
   "source": [
    "keys = [\n",
    "        'button_press', 'bar', 'bar_off', 'spout', 'US_delay_timer', 'CS_offset_timer']\n",
    "state_def = [{'name': 'hold_for_water', 'onset': 'hold_for_water', 'offset': 'waiting_for_spout'},\n",
    "                    {'name': 'waiting_for_spout', 'onset': 'waiting_for_spout',\n",
    "                    'offset': 'busy_win'},\n",
    "                    {'name': 'busy_win', 'onset': 'busy_win',\n",
    "                        'offset': 'break_after_water'},\n",
    "                    {'name': 'break_after_water', 'onset': 'break_after_water',    'offset': 'waiting_for_bar'},\n",
    "                    {'name': 'break_after_no_water',       'onset': 'break_after_no_water', 'offset': 'waiting_for_bar'}]\n",
    "summary_df = pd.DataFrame()\n",
    "\n",
    "for ss in exp_cohort.sessions:\n",
    "\n",
    "    file_name = os.path.split(ss.file_name)\n",
    "    file_name_ = re.sub('\\.txt',  f'_{ss.task_name}.smrx', file_name[1])\n",
    "    smrxname = os.path.join(smrx_folder_path, file_name_)\n",
    "    print(smrxname)\n",
    "\n",
    "\n",
    "    bw = ss.times['busy_win']\n",
    "    sp = ss.times['spout']\n",
    "\n",
    "    x_spout = [this_bw for this_bw in bw for spouts in sp if (\n",
    "        spouts < this_bw) and (this_bw - spouts < 100)]\n",
    "\n",
    "    x_bar = [this_bw for this_bw in bw if not any(\n",
    "        [(spouts < this_bw) and (this_bw - spouts < 100) for spouts in sp])]\n",
    "        \n",
    "    event_ms = [{\n",
    "        'name': 'triggered by spout',\n",
    "        'time_ms': x_spout\n",
    "    },\n",
    "        {\n",
    "            'name': 'triggered by bar_off',\n",
    "            'time_ms': x_bar\n",
    "    }\n",
    "    ]\n",
    "\n",
    "    if re.search('11\\-23',ss.file_name): #adapt to a bug \n",
    "        state_def[-1]['offset'] = 'wating_for_bar'\n",
    "    else:\n",
    "        state_def[-1]['offset'] = 'waiting_for_bar'\n",
    "\n",
    "\n",
    "    ss.plot_session(\n",
    "        keys, state_def, export_smrx=True, event_ms=event_ms, srmx_filename= smrxname)\n",
    "\n",
    "    summary_df = summary_df.append({\n",
    "        'file':ss.file_name,\n",
    "        'task':ss.task_name,\n",
    "        'triggered_by_spout': len(x_spout),\n",
    "        'triggered_by_bar_off': len(x_bar),\n",
    "        'reaching_trials': len(bw),\n",
    "        'trials': len(ss.times['hold_for_water'])},\n",
    "        ignore_index=True)\n"
   ]
  },
  {
   "cell_type": "markdown",
   "metadata": {},
   "source": [
    "## trouble shooting for 314\n",
    "\n",
    "error is in event channel\n",
    "\n",
    "which channel?\n",
    "ReadEvents seems working for the first 10 divides at least"
   ]
  },
  {
   "cell_type": "code",
   "execution_count": null,
   "metadata": {},
   "outputs": [],
   "source": [
    "keys = [\n",
    "        'button_press', 'bar', 'bar_off', 'spout', 'US_delay_timer', 'CS_offset_timer']\n",
    "state_def = [{'name': 'hold_for_water', 'onset': 'hold_for_water', 'offset': 'waiting_for_spout'},\n",
    "                    {'name': 'waiting_for_spout', 'onset': 'waiting_for_spout',\n",
    "                    'offset': 'busy_win'},\n",
    "                    {'name': 'busy_win', 'onset': 'busy_win',\n",
    "                        'offset': 'break_after_water'},\n",
    "                    {'name': 'break_after_water', 'onset': 'break_after_water',    'offset': 'waiting_for_bar'},\n",
    "                    {'name': 'break_after_no_water',       'onset': 'break_after_no_water', 'offset': 'waiting_for_bar'}]\n",
    "summary_df = pd.DataFrame()\n",
    "\n",
    "for ss in [exp_cohort.sessions[0]]:\n",
    "    smrxname = re.sub('\\.txt', f'_{ss.task_name}.smrx', ss.file_name)\n",
    "    print(smrxname)\n",
    "\n",
    "\n",
    "    bw = ss.times['busy_win']\n",
    "    sp = ss.times['spout']\n",
    "\n",
    "    x_spout = [this_bw for this_bw in bw for spouts in sp if (\n",
    "        spouts < this_bw) and (this_bw - spouts < 100)]\n",
    "\n",
    "    x_bar = [this_bw for this_bw in bw if not any(\n",
    "        [(spouts < this_bw) and (this_bw - spouts < 100) for spouts in sp])]\n",
    "        \n",
    "    event_ms = [{\n",
    "        'name': 'triggered by spout',\n",
    "        'time_ms': x_spout\n",
    "    },\n",
    "        {\n",
    "            'name': 'triggered by bar_off',\n",
    "            'time_ms': x_bar\n",
    "    }\n",
    "    ]\n",
    "\n",
    "    if re.search('11\\-23',ss.file_name): #adapt to a bug \n",
    "        state_def[-1]['offset'] = 'wating_for_bar'\n",
    "    else:\n",
    "        state_def[-1]['offset'] = 'waiting_for_bar'\n",
    "\n",
    "\n",
    "    ss.plot_session(\n",
    "        keys, state_def, export_smrx=True, event_ms=event_ms, srmx_filename= smrxname, verbose=True)\n",
    "\n",
    "    summary_df = summary_df.append({\n",
    "        'file':ss.file_name,\n",
    "        'task':ss.task_name,\n",
    "        'triggered_by_spout': len(x_spout),\n",
    "        'triggered_by_bar_off': len(x_bar),\n",
    "        'reaching_trials': len(bw),\n",
    "        'trials': len(ss.times['hold_for_water'])},\n",
    "        ignore_index=True)\n"
   ]
  },
  {
   "cell_type": "code",
   "execution_count": null,
   "metadata": {},
   "outputs": [],
   "source": []
  }
 ],
 "metadata": {
  "kernelspec": {
   "display_name": "Python 3.8.13 ('trialexp')",
   "language": "python",
   "name": "python3"
  },
  "language_info": {
   "codemirror_mode": {
    "name": "ipython",
    "version": 3
   },
   "file_extension": ".py",
   "mimetype": "text/x-python",
   "name": "python",
   "nbconvert_exporter": "python",
   "pygments_lexer": "ipython3",
   "version": "3.8.13"
  },
  "orig_nbformat": 4,
  "vscode": {
   "interpreter": {
    "hash": "0d1e031f6f376662b97d9f481efb02d044bc4a5d17f5aae0c7d7abfcc2e5ac1c"
   }
  }
 },
 "nbformat": 4,
 "nbformat_minor": 2
}
