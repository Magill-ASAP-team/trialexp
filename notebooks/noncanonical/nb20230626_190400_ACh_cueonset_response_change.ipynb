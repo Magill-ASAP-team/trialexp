{
 "cells": [
  {
   "cell_type": "code",
   "execution_count": 2,
   "metadata": {},
   "outputs": [
    {
     "name": "stderr",
     "output_type": "stream",
     "text": [
      "[NbConvertApp] WARNING | Config option `kernel_spec_manager_class` not recognized by `NbConvertApp`.\n",
      "[NbConvertApp] Converting notebook d:\\OneDrive - Nexus365\\Private_Dropbox\\Projects\\trialexp\\notebooks\\noncanonical\\nb20230626_190400_ACh_cueonset_response_change.ipynb to python\n",
      "[NbConvertApp] Writing 13761 bytes to d:\\OneDrive - Nexus365\\Private_Dropbox\\Projects\\trialexp\\notebooks\\noncanonical\\nb20230626_190400_ACh_cueonset_response_change.py\n"
     ]
    }
   ],
   "source": [
    "import os\n",
    "\n",
    "nb_name = \"nb20230626_190400_ACh_cueonset_response_change.ipynb\" #TODO change this\n",
    "\n",
    "basename, ext = os.path.splitext(nb_name)\n",
    "input_path = os.path.join(os.getcwd(), nb_name)\n",
    "\n",
    "!jupyter nbconvert \"{input_path}\" --to=\"python\" --output=\"{basename}\""
   ]
  },
  {
   "attachments": {},
   "cell_type": "markdown",
   "metadata": {},
   "source": [
    "based on notebooks\\noncanonical\\nb20230622_215600_ACh_cueonset_2_outcomes.ipynb\n",
    "\n",
    "\n",
    "- Calculate the CC and linregress slope for ACh dip, rebound, and DA peak against trial_nb\n",
    "- We should be able to find sessions in which ACh rebound stays while ACh dip goes away.\n",
    "- By detecting slow trough in data, we could also find sessions with recovery\n",
    "- Should we also analyse data around spount? Movement encoding may be more stable.\n",
    "- We can use `lme4` for ACh dip etc.\n",
    "\n",
    "\n",
    "- scatter plots for `trial_nb` against dip size etc \n",
    "- dip size\n",
    "    - selected_data = xr_photometry['hold_for_water_zscored_df_over_f'].sel(trial_nb=k, event_time=slice(150, 300))\n",
    "- rebound size\n",
    "    - selected_data = xr_photometry['hold_for_water_zscored_df_over_f'].sel(trial_nb=k, event_time=slice(350, 700))\n"
   ]
  },
  {
   "attachments": {},
   "cell_type": "markdown",
   "metadata": {},
   "source": [
    "\\\\ettina\\Magill_Lab\\Julien\\Data\\head-fixed\\by_sessions\\reaching_go_spout_bar_nov22\\TT002-2023-06-22-111549\\processed\n",
    "\n",
    "- lots of abortions\n"
   ]
  },
  {
   "cell_type": "code",
   "execution_count": 1,
   "metadata": {},
   "outputs": [],
   "source": [
    "import os\n",
    "import xarray as xr\n",
    "import pandas as pd\n",
    "import numpy as np\n",
    "from matplotlib import pyplot as plt\n",
    "from scipy.signal import find_peaks\n",
    "\n",
    "from trialexp.process.pyphotometry.utils import *\n",
    "from trialexp.process.pycontrol import event_filters\n",
    "from trialexp.process.pycontrol.event_filters import extract_event_time\n",
    "from trialexp.process.pyphotometry.utils import measure_ach_dip_rebound\n",
    "\n",
    "\n",
    "# by_sessions_dir = r'\\\\ettina\\Magill_Lab\\Julien\\Data\\head-fixed\\by_sessions'\n",
    "# task_dir = os.path.join(by_sessions_dir,  'reaching_go_spout_bar_nov22')\n",
    "# task_dir = os.path.join(by_sessions_dir,  'reaching_go_spout_bar_nov22')\n",
    "# data_dir = os.path.join(task_dir, 'TT002-2023-06-05-154932', 'processed')\n",
    "\n",
    "# xr_photometry = xr.open_dataset(os.path.join(data_dir, 'xr_photometry.nc'))\n",
    "# xr_session = xr.open_dataset(os.path.join(data_dir, 'xr_session.nc'))\n",
    "# df_pycontrol = pd.read_pickle(os.path.join(data_dir, 'df_pycontrol.pkl'))\n",
    "# df_events = pd.read_pickle(os.path.join(data_dir, 'df_events_cond.pkl'))\n"
   ]
  },
  {
   "cell_type": "code",
   "execution_count": 2,
   "metadata": {},
   "outputs": [],
   "source": [
    "\n",
    "\n",
    "by_sessions_dir = r'\\\\ettina\\Magill_Lab\\Julien\\Data\\head-fixed\\by_sessions'\n",
    "task_dir = os.path.join(by_sessions_dir,  'reaching_go_spout_bar_nov22')\n",
    "\n",
    "items = os.listdir(task_dir)\n",
    "data_dirs = [os.path.join(task_dir, item, 'processed') for item in items if os.path.isdir(os.path.join(task_dir, item))]\n",
    "session_ids = [item for item in items if os.path.isdir(os.path.join(task_dir, item))]\n"
   ]
  },
  {
   "cell_type": "code",
   "execution_count": 3,
   "metadata": {},
   "outputs": [
    {
     "name": "stdout",
     "output_type": "stream",
     "text": [
      "['\\\\\\\\ettina\\\\Magill_Lab\\\\Julien\\\\Data\\\\head-fixed\\\\by_sessions\\\\reaching_go_spout_bar_nov22\\\\TT002-2023-06-05-154932\\\\processed']\n"
     ]
    }
   ],
   "source": [
    "## Test data\n",
    "\n",
    "data_dirs = [os.path.join(\n",
    "    task_dir, 'TT002-2023-06-05-154932', 'processed')]\n",
    "session_ids = [item for item in items if os.path.isdir(os.path.join(task_dir, item))]\n",
    "\n",
    "print(data_dirs)\n"
   ]
  },
  {
   "cell_type": "code",
   "execution_count": 10,
   "metadata": {},
   "outputs": [],
   "source": [
    "\n",
    "data = []\n",
    "\n",
    "for dd, ss in zip(data_dirs, session_ids):\n",
    "\n",
    "    df_trials, lin_regress_dip, lin_regress_rebound, lin_regress_dip_rebound, \\\n",
    "        is_success, msg = measure_ach_dip_rebound(dd)\n",
    "    row_data_list = [ss] + [df_trials] + list(lin_regress_dip.values()) + list(\n",
    "        lin_regress_rebound.values()) + list(lin_regress_dip_rebound.values()) + [is_success] + [msg] + [dd]\n",
    "    data.append(row_data_list)\n",
    "\n",
    "df_ACh_cue_onset = pd.DataFrame(data)\n",
    "\n",
    "df_ACh_cue_onset.columns = ['session_id', 'df_trials', \n",
    "              'trial_nb_dip_slope', 'trial_nb_dip_intercept', 'trial_nb_dip_r_value', 'trial_nb_dip_p_value', 'trial_nb_dip_std_er',\n",
    "              'trial_nb_rebound_slope', 'trial_nb_rebound_intercept', 'trial_nb_rebound_r_value', 'trial_nb_rebound_p_value', 'trial_nb_rebound_std_er',\n",
    "              'dip_rebound_slope', 'dip_rebound_intercept', 'dip_rebound_r_value', 'dip_rebound_p_value', 'dip_rebound_std_er',\n",
    "              'is_success', 'msg', 'data_dir']"
   ]
  },
  {
   "cell_type": "code",
   "execution_count": 11,
   "metadata": {},
   "outputs": [
    {
     "name": "stdout",
     "output_type": "stream",
     "text": [
      "0    0.525112\n",
      "Name: trial_nb_dip_r_value, dtype: float64\n",
      "0   -0.29187\n",
      "Name: trial_nb_rebound_r_value, dtype: float64\n",
      "0    0.001605\n",
      "Name: dip_rebound_r_value, dtype: float64\n"
     ]
    }
   ],
   "source": [
    "print(df_ACh_cue_onset.trial_nb_dip_r_value)\n",
    "print(df_ACh_cue_onset.trial_nb_rebound_r_value)\n",
    "print(df_ACh_cue_onset.dip_rebound_r_value)"
   ]
  },
  {
   "cell_type": "code",
   "execution_count": null,
   "metadata": {},
   "outputs": [],
   "source": [
    "\n",
    "task_dir = os.path.join(by_sessions_dir,  'reaching_go_spout_bar_nov22')\n",
    "data_dir = os.path.join(task_dir, 'TT002-2023-06-05-154932', 'processed')\n",
    "\n",
    "\n",
    "# xr_photometry = xr.open_dataset(os.path.join(data_dir, 'xr_photometry.nc'))\n",
    "# xr_session = xr.open_dataset(os.path.join(data_dir, 'xr_session.nc'))\n",
    "# df_pycontrol = pd.read_pickle(os.path.join(data_dir, 'df_pycontrol.pkl'))\n",
    "# df_events = pd.read_pickle(os.path.join(data_dir, 'df_events_cond.pkl'))\n"
   ]
  },
  {
   "cell_type": "code",
   "execution_count": null,
   "metadata": {},
   "outputs": [],
   "source": [
    "from trialexp.process.pyphotometry.utils import measure_ach_dip_rebound\n",
    "\n",
    "df_trials, lin_regress_dip, lin_regress_rebound = measure_ach_dip_rebound(data_dir)\n",
    "\n",
    "print(lin_regress_dip)\n",
    "print(lin_regress_rebound)\n"
   ]
  },
  {
   "cell_type": "code",
   "execution_count": null,
   "metadata": {},
   "outputs": [],
   "source": [
    "selected_data = xr_photometry['hold_for_water_zscored_df_over_f'].sel(event_time=slice(0, 1000))\n",
    "selected_data.dims\n",
    "\n",
    "average_curve = selected_data.mean(dim='trial_nb')\n",
    "\n",
    "\n",
    "fig, ax = plt.subplots()\n",
    "\n",
    "plt.plot(average_curve)\n",
    "ax.grid(True)\n",
    "plt.xticks(np.arange(0,1000,100))\n"
   ]
  },
  {
   "cell_type": "code",
   "execution_count": null,
   "metadata": {},
   "outputs": [],
   "source": [
    "trial_nb_all = int(max(xr_session.trial_nb))\n"
   ]
  },
  {
   "cell_type": "code",
   "execution_count": null,
   "metadata": {},
   "outputs": [],
   "source": [
    "# find_peaks\n",
    "dip_values = []\n",
    "reb_values = []\n",
    "\n",
    "# Loop over trial numbers from 1 to trial_nb_all\n",
    "for k in range(1, trial_nb_all+1):\n",
    "    # Calculate the mean over the specified event_time interval for dip\n",
    "    dip = xr_photometry['hold_for_water_zscored_df_over_f'].sel(\n",
    "        trial_nb=k, event_time=slice(75, 250))\n",
    "    \n",
    "    # Append the value to the list\n",
    "    dip_values.append(dip.values.min())\n",
    "\n",
    "    # Calculate the mean over the specified event_time interval for reb\n",
    "    reb = xr_photometry['hold_for_water_zscored_df_over_f'].sel(\n",
    "        trial_nb=k, event_time=slice(200, 600)).mean(dim='event_time')\n",
    "    # Append the value to the list\n",
    "    reb_values.append(reb.values.max())\n",
    "\n",
    "# Convert lists to pandas Series\n",
    "dip_series = pd.Series(dip_values)\n",
    "reb_series = pd.Series(reb_values)\n"
   ]
  },
  {
   "cell_type": "code",
   "execution_count": null,
   "metadata": {},
   "outputs": [],
   "source": [
    "\n",
    "new_inex = range(1, trial_nb_all+1)\n",
    "df_trials = pd.DataFrame({\n",
    "    'trial_nb': list(range(1,trial_nb_all+1)),\n",
    "    'dip': dip_series.reindex(new_inex),\n",
    "    'rebound': reb_series.reindex(new_inex),\n",
    "    'outcome': xr_session['trial_outcome'].values.T.flatten(),  # flatten is used to convert (175, 1) to (175,)\n",
    "    })\n",
    "df_trials\n",
    "\n",
    "df_trials = df_trials.dropna(subset=['dip'])\n",
    "df_trials = df_trials.dropna(subset=['rebound'])"
   ]
  },
  {
   "cell_type": "code",
   "execution_count": null,
   "metadata": {},
   "outputs": [],
   "source": [
    "from matplotlib import pyplot as plt\n",
    "\n",
    "fig, ax1 = plt.subplots()\n",
    "\n",
    "ax1.plot(df_trials['trial_nb'], df_trials['dip'],'o')\n",
    "# plt.plot(df_trials['trial_nb'], df_trials['rebound'],'o-')\n",
    "\n",
    "plt.ylabel('Dip size')\n",
    "plt.xlabel('Trial number')\n",
    "plt.show()"
   ]
  },
  {
   "cell_type": "code",
   "execution_count": null,
   "metadata": {},
   "outputs": [],
   "source": [
    "df_trials['trial_nb']\n"
   ]
  },
  {
   "cell_type": "code",
   "execution_count": null,
   "metadata": {},
   "outputs": [],
   "source": [
    "from scipy.stats import pearsonr\n",
    "from scipy.stats import linregress\n",
    "\n",
    "corr, p_val = pearsonr(df_trials['trial_nb'], df_trials['dip'])\n",
    "\n",
    "print(f'Pearsons correlation: {corr:.3f}, p = {p_val}')\n",
    "\n",
    "slope, intercept, r_value, p_value, std_err = linregress(df_trials['trial_nb'], df_trials['dip'])\n",
    "\n",
    "\n",
    "fig, ax1 = plt.subplots()\n",
    "\n",
    "ax1.plot(df_trials['trial_nb'], df_trials['dip'],'o')\n",
    "# plt.plot(df_trials['trial_nb'], df_trials['rebound'],'o-')\n",
    "\n",
    "y_regress = df_trials['trial_nb'].values * slope + intercept\n",
    "\n",
    "ax1.plot(df_trials['trial_nb'], y_regress)\n",
    "\n",
    "plt.ylabel('Dip size')\n",
    "plt.xlabel('Trial number')\n",
    "plt.show()"
   ]
  },
  {
   "cell_type": "code",
   "execution_count": null,
   "metadata": {},
   "outputs": [],
   "source": [
    "from matplotlib import pyplot as plt\n",
    "\n",
    "corr, p_val = pearsonr(df_trials['trial_nb'], df_trials['rebound'])\n",
    "\n",
    "print(f'Pearsons correlation: {corr:.3f}, p = {p_val}')\n",
    "\n",
    "slope, intercept, r_value, p_value, std_err = linregress(\n",
    "    df_trials['trial_nb'], df_trials['rebound'])\n",
    "\n",
    "\n",
    "fig, ax1 = plt.subplots()\n",
    "\n",
    "ax1.plot(df_trials['trial_nb'], df_trials['rebound'], 'o')\n",
    "\n",
    "y_regress = df_trials['trial_nb'].values * slope + intercept\n",
    "\n",
    "ax1.plot(df_trials['trial_nb'], y_regress)\n",
    "\n",
    "plt.ylabel('Rebound size')\n",
    "plt.xlabel('Trial number')\n",
    "plt.show()\n"
   ]
  },
  {
   "cell_type": "code",
   "execution_count": null,
   "metadata": {},
   "outputs": [],
   "source": [
    "from matplotlib import pyplot as plt\n",
    "\n",
    "plt.rcParams['axes.spines.top'] = False\n",
    "plt.rcParams['axes.spines.right'] = False\n",
    "plt.rcParams['xtick.direction'] = 'out'\n",
    "plt.rcParams['ytick.direction'] = 'out'\n",
    "plt.rcParams[\"legend.frameon\"] = False\n",
    "plt.rcParams['font.family'] = ['Arial']\n",
    "\n",
    "fig, ax1 = plt.subplots()\n",
    "\n",
    "ax1.plot( df_trials['outcome'], df_trials['rebound'], 'o', fillstyle='none')\n",
    "\n",
    "plt.ylabel('rebound size')\n",
    "\n",
    "plt.show()\n"
   ]
  },
  {
   "cell_type": "code",
   "execution_count": null,
   "metadata": {},
   "outputs": [],
   "source": [
    "df_trials['dip'][df_trials['outcome'] == 'success']\n"
   ]
  },
  {
   "cell_type": "code",
   "execution_count": null,
   "metadata": {},
   "outputs": [],
   "source": [
    "from matplotlib import pyplot as plt\n",
    "\n",
    "fig, ax1 = plt.subplots()\n",
    "\n",
    "ax1.plot(np.ones([np.count_nonzero(df_trials['outcome'] == 'success'),1]), df_trials['dip'][df_trials['outcome'] == 'success'],  'o', fillstyle='none')\n",
    "ax1.boxplot(df_trials['dip'][df_trials['outcome'] == 'success'],  positions=[\n",
    "            1.2], vert=True, patch_artist=False)\n",
    "\n",
    "ax1.plot(np.ones([np.count_nonzero(df_trials['outcome'] == 'aborted'),1])*2, df_trials['dip'][df_trials['outcome'] == 'aborted'],  'o', fillstyle='none')\n",
    "ax1.boxplot(df_trials['dip'][df_trials['outcome'] == 'aborted'],  positions=[\n",
    "            2.2], vert=True, patch_artist=False)\n",
    "\n",
    "ax1.plot(np.ones([np.count_nonzero(df_trials['outcome'] == 'no_reach'),1])*3, df_trials['dip'][df_trials['outcome'] == 'no_reach'],  'o', fillstyle='none')\n",
    "ax1.boxplot(df_trials['dip'][df_trials['outcome'] == 'no_reach'],  positions=[\n",
    "            3.2], vert=True, patch_artist=False)\n",
    "\n",
    "\n",
    "ax1.set_xticklabels(['success','aborted','no_reach'])\n",
    "plt.ylabel('Dip size')\n",
    "plt.show()"
   ]
  },
  {
   "cell_type": "code",
   "execution_count": null,
   "metadata": {},
   "outputs": [],
   "source": [
    "reach_dip\n"
   ]
  },
  {
   "cell_type": "code",
   "execution_count": null,
   "metadata": {},
   "outputs": [],
   "source": [
    "fig, ax1 = plt.subplots()\n",
    "# Get 'dip' values for 'reach' and 'no_reach' groups\n",
    "reach_dip = df_trials['dip'][df_trials['outcome'].isin(\n",
    "    ['success', 'aborted'])].dropna()\n",
    "no_reach_dip = df_trials['dip'][df_trials['outcome'] == 'no_reach'].dropna()\n",
    "\n",
    "\n",
    "ax1.plot(np.ones([reach_dip.shape[0], 1]),\n",
    "         reach_dip,  'o', fillstyle='none')\n",
    "ax1.boxplot(reach_dip,  positions=[\n",
    "            1.2], vert=True, patch_artist=False)\n",
    "\n",
    "ax1.plot(np.ones([no_reach_dip.shape[0], 1])*2,\n",
    "         no_reach_dip,  'o', fillstyle='none')\n",
    "ax1.boxplot(no_reach_dip,  positions=[\n",
    "            2.2], vert=True, patch_artist=False)\n",
    "\n",
    "\n",
    "ax1.set_xticklabels(['Reach',  'No reach'])\n",
    "plt.ylabel('Dip size')\n",
    "plt.show()\n"
   ]
  },
  {
   "cell_type": "code",
   "execution_count": null,
   "metadata": {},
   "outputs": [],
   "source": [
    "from scipy.stats import mannwhitneyu\n",
    "\n",
    "# Get 'dip' values for 'reach' and 'no_reach' groups\n",
    "reach_dip = df_trials['dip'][df_trials['outcome'].isin(\n",
    "    ['success', 'aborted'])].dropna()\n",
    "no_reach_dip = df_trials['dip'][df_trials['outcome'] == 'no_reach'].dropna()\n",
    "\n",
    "# Perform Mann-Whitney U test\n",
    "u_val, p_val = mannwhitneyu(reach_dip, no_reach_dip, alternative='two-sided')\n",
    "\n",
    "print('U-value:', u_val)\n",
    "print('p-value:', p_val)\n"
   ]
  },
  {
   "cell_type": "code",
   "execution_count": null,
   "metadata": {},
   "outputs": [],
   "source": [
    "import scipy.stats as stats\n",
    "\n",
    "# Get dip values for each outcome category\n",
    "success_dip = df_trials['dip'][df_trials['outcome'] == 'success'].dropna()\n",
    "aborted_dip = df_trials['dip'][df_trials['outcome'] == 'aborted'].dropna()\n",
    "no_reach_dip = df_trials['dip'][df_trials['outcome'] == 'no_reach'].dropna()\n",
    "\n",
    "# Perform ANOVA\n",
    "f_val, p_val = stats.f_oneway(success_dip, aborted_dip, no_reach_dip)\n",
    "\n",
    "print('F-value:', f_val)\n",
    "print('p-value:', p_val)\n"
   ]
  },
  {
   "cell_type": "code",
   "execution_count": null,
   "metadata": {},
   "outputs": [],
   "source": [
    "from matplotlib import pyplot as plt\n",
    "\n",
    "fig, ax1 = plt.subplots()\n",
    "\n",
    "ax1.plot(np.ones([np.count_nonzero(df_trials['outcome'] == 'success'),1]), df_trials['rebound'][df_trials['outcome'] == 'success'],  'o', fillstyle='none')\n",
    "ax1.boxplot(df_trials['rebound'][df_trials['outcome'] == 'success'],  positions=[\n",
    "            1.2], vert=True, patch_artist=False)\n",
    "\n",
    "ax1.plot(np.ones([np.count_nonzero(df_trials['outcome'] == 'aborted'),1])*2, df_trials['rebound'][df_trials['outcome'] == 'aborted'],  'o', fillstyle='none')\n",
    "ax1.boxplot(df_trials['rebound'][df_trials['outcome'] == 'aborted'],  positions=[\n",
    "            2.2], vert=True, patch_artist=False)\n",
    "\n",
    "ax1.plot(np.ones([np.count_nonzero(df_trials['outcome'] == 'no_reach'),1])*3, df_trials['rebound'][df_trials['outcome'] == 'no_reach'],  'o', fillstyle='none')\n",
    "ax1.boxplot(df_trials['rebound'][df_trials['outcome'] == 'no_reach'],  positions=[\n",
    "            3.2], vert=True, patch_artist=False)\n",
    "\n",
    "\n",
    "ax1.set_xticklabels(['success','aborted','no_reach'])\n",
    "plt.ylabel('Rebound size')\n",
    "plt.show()"
   ]
  },
  {
   "cell_type": "code",
   "execution_count": null,
   "metadata": {},
   "outputs": [],
   "source": [
    "df_trials100 = df_trials.loc[0:99, :]\n"
   ]
  },
  {
   "cell_type": "code",
   "execution_count": null,
   "metadata": {},
   "outputs": [],
   "source": [
    "from matplotlib import pyplot as plt\n",
    "\n",
    "fig, ax1 = plt.subplots()\n",
    "\n",
    "ax1.plot(np.ones([np.count_nonzero(df_trials100['outcome'] == 'success'), 1]),\n",
    "         df_trials100['dip'][df_trials100['outcome'] == 'success'],  'o', fillstyle='none')\n",
    "ax1.boxplot(df_trials100['dip'][df_trials100['outcome'] == 'success'],  positions=[\n",
    "            1.2], vert=True, patch_artist=False)\n",
    "\n",
    "ax1.plot(np.ones([np.count_nonzero(df_trials100['outcome'] == 'aborted'), 1])*2,\n",
    "         df_trials100['dip'][df_trials100['outcome'] == 'aborted'],  'o', fillstyle='none')\n",
    "ax1.boxplot(df_trials100['dip'][df_trials100['outcome'] == 'aborted'],  positions=[\n",
    "            2.2], vert=True, patch_artist=False)\n",
    "\n",
    "ax1.plot(np.ones([np.count_nonzero(df_trials100['outcome'] == 'no_reach'), 1])*3,\n",
    "         df_trials100['dip'][df_trials100['outcome'] == 'no_reach'],  'o', fillstyle='none')\n",
    "ax1.boxplot(df_trials100['dip'][df_trials100['outcome'] == 'no_reach'],  positions=[\n",
    "            3.2], vert=True, patch_artist=False)\n",
    "\n",
    "\n",
    "ax1.set_xticklabels(['success', 'aborted', 'no_reach'])\n",
    "plt.ylabel('Dip size')\n",
    "plt.show()\n"
   ]
  },
  {
   "cell_type": "code",
   "execution_count": null,
   "metadata": {},
   "outputs": [],
   "source": [
    "fig, ax1 = plt.subplots()\n",
    "# Get 'dip' values for 'reach' and 'no_reach' groups\n",
    "reach_dip = df_trials100['dip'][df_trials100['outcome'].isin(\n",
    "    ['success', 'aborted'])].dropna()\n",
    "no_reach_dip = df_trials100['dip'][df_trials100['outcome'] == 'no_reach'].dropna()\n",
    "\n",
    "\n",
    "ax1.plot(np.ones([reach_dip.shape[0], 1]),\n",
    "         reach_dip,  'o', fillstyle='none')\n",
    "ax1.boxplot(reach_dip,  positions=[\n",
    "            1.2], vert=True, patch_artist=False)\n",
    "\n",
    "ax1.plot(np.ones([no_reach_dip.shape[0], 1])*2,\n",
    "         no_reach_dip,  'o', fillstyle='none')\n",
    "ax1.boxplot(no_reach_dip,  positions=[\n",
    "            2.2], vert=True, patch_artist=False)\n",
    "\n",
    "\n",
    "ax1.set_xticklabels(['Reach',  'No reach'])\n",
    "plt.ylabel('Dip size')\n",
    "plt.show()"
   ]
  }
 ],
 "metadata": {
  "kernelspec": {
   "display_name": "trialexp",
   "language": "python",
   "name": "python3"
  },
  "language_info": {
   "codemirror_mode": {
    "name": "ipython",
    "version": 3
   },
   "file_extension": ".py",
   "mimetype": "text/x-python",
   "name": "python",
   "nbconvert_exporter": "python",
   "pygments_lexer": "ipython3",
   "version": "3.9.16"
  },
  "orig_nbformat": 4
 },
 "nbformat": 4,
 "nbformat_minor": 2
}
