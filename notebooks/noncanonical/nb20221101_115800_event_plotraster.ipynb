{
 "cells": [
  {
   "cell_type": "markdown",
   "metadata": {},
   "source": [
    "# Visualise a trial raster using matplotlib\n",
    "\n",
    "```bash\n",
    "jupyter nbconvert \"D:\\OneDrive - Nexus365\\Private_Dropbox\\Projects\\trialexp\\notebooks\\noncanonical\\nb20221101_115800_event_plotraster.ipynb\" --to=\"python\" --output-dir=\"D:\\OneDrive - Nexus365\\Private_Dropbox\\Projects\\trialexp\\notebooks\\noncanonical\" --output=\"nb20221101_115800_event_plotraster\"\n",
    "```\n"
   ]
  },
  {
   "cell_type": "markdown",
   "metadata": {},
   "source": [
    "### Imports"
   ]
  },
  {
   "cell_type": "code",
   "execution_count": 4,
   "metadata": {},
   "outputs": [
    {
     "name": "stdout",
     "output_type": "stream",
     "text": [
      "The autoreload extension is already loaded. To reload it, use:\n",
      "  %reload_ext autoreload\n"
     ]
    }
   ],
   "source": [
    "# allow for automatic reloading of classes and function when updating the code\n",
    "%load_ext autoreload\n",
    "%autoreload 2 \n",
    "\n",
    "# Import Session and Experiment class with helper functions\n",
    "from trialexp.process.data_import import *"
   ]
  },
  {
   "cell_type": "markdown",
   "metadata": {},
   "source": [
    "### Variables"
   ]
  },
  {
   "cell_type": "code",
   "execution_count": 5,
   "metadata": {},
   "outputs": [],
   "source": [
    "import pandas as pd\n",
    "\n",
    "trial_window = [-2000, 6000] # in ms\n",
    "\n",
    "# time limit around trigger to perform an event\n",
    "# determine successful trials\n",
    "timelim = [0, 2000] # in ms\n",
    "\n",
    "# Digital channel nb of the pyphotometry device\n",
    "# on which rsync signal is sent (from pycontrol device)\n",
    "rsync_chan = 2\n",
    "\n",
    "basefolder, _ = os.path.split(os.path.split(os.getcwd())[0])\n",
    "\n",
    "# These must be absolute paths\n",
    "# use this to use within package tasks files (in params)\n",
    "tasksfile = os.path.join(basefolder,'params\\\\tasks_params.csv')\n",
    "# use this to put a local full path\n",
    "#tasksfile = -r'C:/.../tasks_params.csv' \n",
    "\n",
    "# photometry_dir = r'\\\\ettin\\Magill_Lab\\Julien\\Data\\head-fixed\\test_folder\\photometry'\n",
    "photometry_dir = r'\\\\ettin\\Magill_Lab\\Julien\\Data\\head-fixed\\kms_pyphotometry'\n",
    "video_dir = r'\\\\ettin\\Magill_Lab\\Julien\\Data\\head-fixed\\videos'\n"
   ]
  },
  {
   "cell_type": "markdown",
   "metadata": {},
   "source": [
    "### Tasks\n",
    "- A tasks definition file (.csv) contains all the information to perform the extractions of behaviorally relevant information from **PyControl** files, for each **task** file. It includes what are the **triggers** of different trial types, what **events** to extract (with time data), and what are events or printed lines that could be relevant to determine the **conditions** (e.g: free reward, optogenetic stimulation type, etc.)\n",
    "- To analyze a new task you need to append task characteristics like **task** filename, **triggers**, **events** and **conditions**"
   ]
  },
  {
   "cell_type": "code",
   "execution_count": 6,
   "metadata": {},
   "outputs": [
    {
     "data": {
      "text/html": [
       "<div>\n",
       "<style scoped>\n",
       "    .dataframe tbody tr th:only-of-type {\n",
       "        vertical-align: middle;\n",
       "    }\n",
       "\n",
       "    .dataframe tbody tr th {\n",
       "        vertical-align: top;\n",
       "    }\n",
       "\n",
       "    .dataframe thead th {\n",
       "        text-align: right;\n",
       "    }\n",
       "</style>\n",
       "<table border=\"1\" class=\"dataframe\">\n",
       "  <thead>\n",
       "    <tr style=\"text-align: right;\">\n",
       "      <th></th>\n",
       "      <th>task</th>\n",
       "      <th>triggers</th>\n",
       "      <th>events</th>\n",
       "      <th>conditions</th>\n",
       "    </tr>\n",
       "  </thead>\n",
       "  <tbody>\n",
       "    <tr>\n",
       "      <th>0</th>\n",
       "      <td>lick_go_nogo</td>\n",
       "      <td>go; nogo</td>\n",
       "      <td>bar; bar_off; spout</td>\n",
       "      <td>free_reward</td>\n",
       "    </tr>\n",
       "    <tr>\n",
       "      <th>1</th>\n",
       "      <td>lick_go_nogo_unconditionned</td>\n",
       "      <td>go; nogo</td>\n",
       "      <td>bar; bar_off; spout</td>\n",
       "      <td>free_reward</td>\n",
       "    </tr>\n",
       "    <tr>\n",
       "      <th>2</th>\n",
       "      <td>lick_go_nogo_unconditionned_opto</td>\n",
       "      <td>go; nogo</td>\n",
       "      <td>bar; bar_off; spout</td>\n",
       "      <td>free_reward</td>\n",
       "    </tr>\n",
       "    <tr>\n",
       "      <th>3</th>\n",
       "      <td>reaching_go_nogo</td>\n",
       "      <td>CS_Go; CS_NoGo</td>\n",
       "      <td>bar; bar_off; spout</td>\n",
       "      <td>error bar_off; reward bar_off; error free; rew...</td>\n",
       "    </tr>\n",
       "    <tr>\n",
       "      <th>4</th>\n",
       "      <td>reaching_go_nogo_jc</td>\n",
       "      <td>CS_plus; CS_minus</td>\n",
       "      <td>bar; bar_off; spout</td>\n",
       "      <td>error bar_off; reward bar_off; error free; rew...</td>\n",
       "    </tr>\n",
       "    <tr>\n",
       "      <th>5</th>\n",
       "      <td>reaching_go_nogo_opto_continuous</td>\n",
       "      <td>CS_Go; CS_NoGo</td>\n",
       "      <td>bar; bar_off; spout</td>\n",
       "      <td>s_nogo_sham; s_nogo_cs_onset; s_go_sham; s_go_...</td>\n",
       "    </tr>\n",
       "    <tr>\n",
       "      <th>6</th>\n",
       "      <td>reaching_go_nogo_opto_sinusoid</td>\n",
       "      <td>CS_Go; CS_NoGo</td>\n",
       "      <td>bar; bar_off; spout</td>\n",
       "      <td>s_nogo_sham; s_nogo_cs_onset_2; s_nogo_cs_onse...</td>\n",
       "    </tr>\n",
       "    <tr>\n",
       "      <th>7</th>\n",
       "      <td>reaching_go_nogo_opto_sinusoid_spout</td>\n",
       "      <td>CS_Go; CS_NoGo</td>\n",
       "      <td>bar; bar_off; spout</td>\n",
       "      <td>s_nogo_sham; s_nogo_cs_onset_2; s_nogo_cs_onse...</td>\n",
       "    </tr>\n",
       "    <tr>\n",
       "      <th>8</th>\n",
       "      <td>reaching_go_nogo_reversal</td>\n",
       "      <td>CS_Go; CS_NoGo</td>\n",
       "      <td>bar; bar_off; spout</td>\n",
       "      <td>error bar_off; reward bar_off; error free; rew...</td>\n",
       "    </tr>\n",
       "    <tr>\n",
       "      <th>9</th>\n",
       "      <td>reaching_go_nogo_reversal_incentive</td>\n",
       "      <td>CS_Go; CS_NoGo</td>\n",
       "      <td>bar; bar_off; spout</td>\n",
       "      <td>error bar_off; reward bar_off; error free; rew...</td>\n",
       "    </tr>\n",
       "    <tr>\n",
       "      <th>10</th>\n",
       "      <td>reaching_go_nogo_touch_spout</td>\n",
       "      <td>CS_Go; CS_NoGo</td>\n",
       "      <td>bar; bar_off; spout</td>\n",
       "      <td>error bar_off; reward bar_off; error free; rew...</td>\n",
       "    </tr>\n",
       "    <tr>\n",
       "      <th>11</th>\n",
       "      <td>reaching_test</td>\n",
       "      <td>us_deliver</td>\n",
       "      <td>bar; bar_off; spout</td>\n",
       "      <td>free_reward</td>\n",
       "    </tr>\n",
       "    <tr>\n",
       "      <th>12</th>\n",
       "      <td>reaching_test_CS</td>\n",
       "      <td>CS_plus; CS_minus</td>\n",
       "      <td>bar; bar_off; spout</td>\n",
       "      <td>free_reward</td>\n",
       "    </tr>\n",
       "    <tr>\n",
       "      <th>13</th>\n",
       "      <td>reaching_yp</td>\n",
       "      <td>reward_presentation</td>\n",
       "      <td>bar; bar_off; spout</td>\n",
       "      <td>free_reward</td>\n",
       "    </tr>\n",
       "    <tr>\n",
       "      <th>14</th>\n",
       "      <td>train_CSgo_US_coterminated</td>\n",
       "      <td>Go</td>\n",
       "      <td>bar; bar_off; spout</td>\n",
       "      <td>free_reward</td>\n",
       "    </tr>\n",
       "    <tr>\n",
       "      <th>15</th>\n",
       "      <td>train_Go_CS-US_pavlovian</td>\n",
       "      <td>Go</td>\n",
       "      <td>bar; bar_off; spout</td>\n",
       "      <td>free_reward</td>\n",
       "    </tr>\n",
       "    <tr>\n",
       "      <th>16</th>\n",
       "      <td>train_Go_CS-US_pavlovian_with_bar</td>\n",
       "      <td>CS_Go</td>\n",
       "      <td>bar; bar_off; spout</td>\n",
       "      <td>free_reward</td>\n",
       "    </tr>\n",
       "    <tr>\n",
       "      <th>17</th>\n",
       "      <td>reaching_go_spout_cued_uncued</td>\n",
       "      <td>CS_Go</td>\n",
       "      <td>bar; bar_off; spout; hold_start</td>\n",
       "      <td>free_reward_timer; reward spout cued; reward b...</td>\n",
       "    </tr>\n",
       "    <tr>\n",
       "      <th>18</th>\n",
       "      <td>pavlovian_nobar_nodelay</td>\n",
       "      <td>CS_Go</td>\n",
       "      <td>bar; bar_off; spout</td>\n",
       "      <td>NaN</td>\n",
       "    </tr>\n",
       "    <tr>\n",
       "      <th>19</th>\n",
       "      <td>cued_uncued_oct22</td>\n",
       "      <td>Cued; UnCued</td>\n",
       "      <td>bar; bar_off; spout; reward_delay_timer</td>\n",
       "      <td>delayed reward spout cued; delayed reward spou...</td>\n",
       "    </tr>\n",
       "    <tr>\n",
       "      <th>20</th>\n",
       "      <td>go_rewarding_aversive</td>\n",
       "      <td>Go_water; Go_air</td>\n",
       "      <td>bar; bar_off; spout</td>\n",
       "      <td>free_reward; Go_water spout success; Go_air sp...</td>\n",
       "    </tr>\n",
       "  </tbody>\n",
       "</table>\n",
       "</div>"
      ],
      "text/plain": [
       "                                    task             triggers  \\\n",
       "0                           lick_go_nogo             go; nogo   \n",
       "1            lick_go_nogo_unconditionned             go; nogo   \n",
       "2       lick_go_nogo_unconditionned_opto             go; nogo   \n",
       "3                       reaching_go_nogo       CS_Go; CS_NoGo   \n",
       "4                    reaching_go_nogo_jc    CS_plus; CS_minus   \n",
       "5       reaching_go_nogo_opto_continuous       CS_Go; CS_NoGo   \n",
       "6         reaching_go_nogo_opto_sinusoid       CS_Go; CS_NoGo   \n",
       "7   reaching_go_nogo_opto_sinusoid_spout       CS_Go; CS_NoGo   \n",
       "8              reaching_go_nogo_reversal       CS_Go; CS_NoGo   \n",
       "9    reaching_go_nogo_reversal_incentive       CS_Go; CS_NoGo   \n",
       "10          reaching_go_nogo_touch_spout       CS_Go; CS_NoGo   \n",
       "11                         reaching_test           us_deliver   \n",
       "12                      reaching_test_CS    CS_plus; CS_minus   \n",
       "13                           reaching_yp  reward_presentation   \n",
       "14            train_CSgo_US_coterminated                   Go   \n",
       "15              train_Go_CS-US_pavlovian                   Go   \n",
       "16     train_Go_CS-US_pavlovian_with_bar                CS_Go   \n",
       "17         reaching_go_spout_cued_uncued                CS_Go   \n",
       "18               pavlovian_nobar_nodelay                CS_Go   \n",
       "19                     cued_uncued_oct22         Cued; UnCued   \n",
       "20                 go_rewarding_aversive     Go_water; Go_air   \n",
       "\n",
       "                                     events  \\\n",
       "0                       bar; bar_off; spout   \n",
       "1                       bar; bar_off; spout   \n",
       "2                       bar; bar_off; spout   \n",
       "3                       bar; bar_off; spout   \n",
       "4                       bar; bar_off; spout   \n",
       "5                       bar; bar_off; spout   \n",
       "6                       bar; bar_off; spout   \n",
       "7                       bar; bar_off; spout   \n",
       "8                       bar; bar_off; spout   \n",
       "9                       bar; bar_off; spout   \n",
       "10                      bar; bar_off; spout   \n",
       "11                      bar; bar_off; spout   \n",
       "12                      bar; bar_off; spout   \n",
       "13                      bar; bar_off; spout   \n",
       "14                      bar; bar_off; spout   \n",
       "15                      bar; bar_off; spout   \n",
       "16                      bar; bar_off; spout   \n",
       "17          bar; bar_off; spout; hold_start   \n",
       "18                      bar; bar_off; spout   \n",
       "19  bar; bar_off; spout; reward_delay_timer   \n",
       "20                      bar; bar_off; spout   \n",
       "\n",
       "                                           conditions  \n",
       "0                                         free_reward  \n",
       "1                                         free_reward  \n",
       "2                                         free_reward  \n",
       "3   error bar_off; reward bar_off; error free; rew...  \n",
       "4   error bar_off; reward bar_off; error free; rew...  \n",
       "5   s_nogo_sham; s_nogo_cs_onset; s_go_sham; s_go_...  \n",
       "6   s_nogo_sham; s_nogo_cs_onset_2; s_nogo_cs_onse...  \n",
       "7   s_nogo_sham; s_nogo_cs_onset_2; s_nogo_cs_onse...  \n",
       "8   error bar_off; reward bar_off; error free; rew...  \n",
       "9   error bar_off; reward bar_off; error free; rew...  \n",
       "10  error bar_off; reward bar_off; error free; rew...  \n",
       "11                                        free_reward  \n",
       "12                                        free_reward  \n",
       "13                                        free_reward  \n",
       "14                                        free_reward  \n",
       "15                                        free_reward  \n",
       "16                                        free_reward  \n",
       "17  free_reward_timer; reward spout cued; reward b...  \n",
       "18                                                NaN  \n",
       "19  delayed reward spout cued; delayed reward spou...  \n",
       "20  free_reward; Go_water spout success; Go_air sp...  "
      ]
     },
     "execution_count": 6,
     "metadata": {},
     "output_type": "execute_result"
    }
   ],
   "source": [
    "tasks = pd.read_csv(tasksfile, usecols = [1,2,3,4], index_col = False)\n",
    "tasks"
   ]
  },
  {
   "cell_type": "markdown",
   "metadata": {},
   "source": [
    "### Optional\n",
    "\n",
    "Transfer Files from hierarchical folders by tasks to flat folders, for photometry and behaviour files\n",
    "\n",
    "2m 13.9s\n",
    "\n",
    "If we obtain list of files in source and dest at first and then only perform comparison on them,\n",
    "This should be much faster"
   ]
  },
  {
   "cell_type": "code",
   "execution_count": 8,
   "metadata": {},
   "outputs": [],
   "source": [
    "photo_root_dir = 'T:\\\\Data\\\\head-fixed\\\\pyphotometry\\\\data'\n",
    "pycontrol_root_dir = 'T:\\\\Data\\\\head-fixed\\\\pycontrol'\n",
    "\n",
    "root_folders = [photo_root_dir, pycontrol_root_dir]\n",
    "horizontal_folder_pycontrol = 'T:\\\\Data\\\\head-fixed\\\\test_folder\\\\pycontrol'\n",
    "horizontal_folder_photometry = 'T:\\\\Data\\\\head-fixed\\\\test_folder\\\\photometry'\n",
    "\n",
    "copy_files_to_horizontal_folders(root_folders, horizontal_folder_pycontrol, horizontal_folder_photometry)"
   ]
  },
  {
   "cell_type": "markdown",
   "metadata": {},
   "source": [
    "### Create an experiment object\n",
    "\n",
    "This will include all the pycontrol files present in the folder_path directory (do not include subdirectories)"
   ]
  },
  {
   "cell_type": "code",
   "execution_count": 9,
   "metadata": {},
   "outputs": [
    {
     "name": "stdout",
     "output_type": "stream",
     "text": [
      "Saved sessions loaded from: sessions.pkl\n"
     ]
    }
   ],
   "source": [
    "# Folder of a full experimental batch, all animals included\n",
    "\n",
    "# Enter absolute path like this\n",
    "# pycontrol_files_path = r'T:\\Data\\head-fixed\\test_folder\\pycontrol'\n",
    "\n",
    "# or this if you want to use data from the sample_data folder within the package\n",
    "pycontrol_files_path = os.path.join(basefolder,'sample_data/pycontrol')\n",
    "pycontrol_files_path = r'T:\\Data\\head-fixed\\kms_pycontrol'\n",
    "\n",
    "# Load all raw text sessions in the indicated folder or a sessions.pkl file\n",
    "# if already existing in folder_path\n",
    "exp_cohort = Experiment(pycontrol_files_path)\n",
    "\n",
    "# Only use if the Experiment cohort as been processed by trials before\n",
    "# TODO: assess whether this can be removed or not\n",
    "exp_cohort.by_trial = True"
   ]
  },
  {
   "cell_type": "markdown",
   "metadata": {},
   "source": [
    "### Perform extraction of behavioural information by trial (SLOW)\n",
    "\n",
    "5m55.4s"
   ]
  },
  {
   "cell_type": "code",
   "execution_count": null,
   "metadata": {},
   "outputs": [],
   "source": [
    "# Process the whole experimental folder by trials\n",
    "exp_cohort.process_exp_by_trial(trial_window, timelim, tasksfile, blank_spurious_event='spout', blank_timelim=[0, 65])\n",
    "\n",
    "# Save the file as sessions.pkl in folder_path\n",
    "# exp_cohort.save() # Do I need to save this???\n"
   ]
  },
  {
   "cell_type": "markdown",
   "metadata": {},
   "source": [
    "### Match with photometry, videos, and DeepLabCut files (SLOW)\n",
    "\n",
    "The following Warning : \n",
    "\n",
    "KMeans is known to have a memory leak on Windows with MKL, when there are less chunks than available threads...\n",
    "\n",
    "is due to rsync function for photometry-pycontrol alignment\n",
    "\n",
    "2m10.9s\n"
   ]
  },
  {
   "cell_type": "code",
   "execution_count": null,
   "metadata": {},
   "outputs": [],
   "source": [
    "# Find if there is a matching photometry file and if it can be used:\n",
    "# rsync synchronization pulses matching between behaviour and photometry\n",
    "from copy import deepcopy\n",
    "\n",
    "# Find if there is a matching photometry file:\n",
    "exp_cohort.match_sessions_to_files(photometry_dir, ext='ppd')\n",
    "\n",
    "# rsync synchronization pulses matching between behaviour and photometry\n",
    "exp_cohort.sync_photometry_files(2)\n",
    "\n",
    "# Find matching videos\n",
    "exp_cohort.match_sessions_to_files(video_dir, ext='mp4')\n",
    "\n",
    "# FInd matching DeepLabCut outputs files\n",
    "exp_cohort.match_sessions_to_files(video_dir, ext='h5', verbose=True)\n",
    "\n",
    "\n",
    "exp_cohort.save()\n",
    "\n",
    "\n"
   ]
  },
  {
   "cell_type": "code",
   "execution_count": 10,
   "metadata": {},
   "outputs": [],
   "source": [
    "# Many combinations possible\n",
    "conditions_dict0 = {'trigger': 'cued', 'valid': True, 'reward spout cued': True, 'free_reward_timer': False, 'success': True}\n",
    "conditions_dict1 = {'trigger': 'cued', 'valid': True, 'reward bar cued': True, 'free_reward_timer': False, 'success': True}\n",
    "conditions_dict2 = {'trigger': 'cued', 'valid': True, 'reward free': True, 'success': True}\n",
    "conditions_dict3 = {'trigger': 'cued', 'valid': True, 'success': False}\n",
    "conditions_dict4 = {'trigger': 'uncued', 'valid': True, 'reward spout uncued': True, 'free_reward_timer': False, 'success': True}\n",
    "conditions_dict5 = {'trigger': 'uncued', 'valid': True, 'reward bar uncued': True, 'free_reward_timer': False, 'success': True}\n",
    "conditions_dict6 = {'trigger': 'uncued', 'valid': True, 'reward free_uncued': True} # reward after [20, 30] s\n",
    "\n",
    "# Aggregate all condition dictionaries in a list\n",
    "condition_list = [conditions_dict0, conditions_dict1, conditions_dict2, conditions_dict3, \\\n",
    "                  conditions_dict4, conditions_dict5, conditions_dict6]\n",
    "# Aliases for conditions\n",
    "cond_aliases = [\n",
    "    'Cued, reward at spout, hit', \n",
    "    'Cued, reward at bar release, hit', \n",
    "    'Cued, Pavlovian, hit', \n",
    "    'Cued, miss', \\\n",
    "    'Uncued, reward at spout, hit', \n",
    "    'Uncued, reward at bar release, hit',\n",
    "    'Uncued, miss']\n",
    "\n",
    "# Groups as a list of lists\n",
    "groups = None\n",
    "\n",
    "# right_handed = [281]\n",
    "# groups = [[280, 282, 299, 300, 301],\\\n",
    "#     [284, 285, 296, 297, 306, 307]]\n",
    "# Window to exctract (in ms)\n"
   ]
  },
  {
   "cell_type": "markdown",
   "metadata": {},
   "source": [
    "# Load saved Experiment\n",
    "\n",
    "4 s"
   ]
  },
  {
   "cell_type": "code",
   "execution_count": 11,
   "metadata": {},
   "outputs": [
    {
     "name": "stdout",
     "output_type": "stream",
     "text": [
      "Saved sessions loaded from: sessions.pkl\n"
     ]
    }
   ],
   "source": [
    "exp_cohort = Experiment(pycontrol_files_path)"
   ]
  },
  {
   "cell_type": "code",
   "execution_count": 12,
   "metadata": {},
   "outputs": [],
   "source": [
    "\n",
    "exp_cohort.sessions = [session for session in exp_cohort.sessions\n",
    "                       if (session.subject_ID in [47, 48, 49, 51, 53]) and (session.number > 2) \n",
    "                       and (session.task_name == 'reaching_go_spout_cued_uncued')]\n",
    "\n",
    "ev_dataset = exp_cohort.behav_events_to_dataset(\n",
    "    groups=groups,\n",
    "    conditions_list=condition_list,\n",
    "    cond_aliases=cond_aliases,\n",
    "    when='all',\n",
    "    task_names='reaching_go_spout_cued_uncued',\n",
    "    trig_on_ev=None)\n",
    "\n",
    "ev_dataset.set_trial_window(trial_window=trial_window, unit='milliseconds')\n",
    "ev_dataset.set_conditions(conditions=condition_list, aliases=cond_aliases)\n"
   ]
  },
  {
   "cell_type": "markdown",
   "metadata": {},
   "source": [
    "## Visualise a trial PETH using matplotlib"
   ]
  },
  {
   "cell_type": "markdown",
   "metadata": {},
   "source": [
    "%TODO\n",
    "- drowdown to change time units\n"
   ]
  },
  {
   "cell_type": "code",
   "execution_count": 13,
   "metadata": {},
   "outputs": [
    {
     "name": "stdout",
     "output_type": "stream",
     "text": [
      "10130\n",
      "10130\n"
     ]
    }
   ],
   "source": [
    "print(len(ev_dataset.metadata_df['keep']))\n",
    "\n",
    "print(np.count_nonzero(ev_dataset.metadata_df['keep'] == True))\n"
   ]
  },
  {
   "cell_type": "code",
   "execution_count": 14,
   "metadata": {},
   "outputs": [
    {
     "data": {
      "text/plain": [
       "Index(['trial_nb', 'trigger', 'success', 'valid', 'free_reward_timer',\n",
       "       'reward spout cued', 'reward bar cued', 'reward bar_off',\n",
       "       'reward spout uncued', 'reward bar uncued', 'reward free',\n",
       "       'reward free_uncued', 'cued', 'condition_ID', 'condition', 'group_ID',\n",
       "       'datetime', 'date', 'session_nb', 'subject_ID', 'keep', 'trial_ID'],\n",
       "      dtype='object')"
      ]
     },
     "execution_count": 14,
     "metadata": {},
     "output_type": "execute_result"
    }
   ],
   "source": [
    "ev_dataset.metadata_df.columns"
   ]
  },
  {
   "cell_type": "code",
   "execution_count": 15,
   "metadata": {},
   "outputs": [
    {
     "data": {
      "text/plain": [
       "{datetime.date(2022, 8, 10),\n",
       " datetime.date(2022, 8, 11),\n",
       " datetime.date(2022, 8, 22),\n",
       " datetime.date(2022, 8, 23),\n",
       " datetime.date(2022, 8, 24),\n",
       " datetime.date(2022, 8, 25),\n",
       " datetime.date(2022, 8, 26),\n",
       " datetime.date(2022, 9, 19),\n",
       " datetime.date(2022, 9, 20),\n",
       " datetime.date(2022, 9, 21),\n",
       " datetime.date(2022, 9, 23),\n",
       " datetime.date(2022, 9, 26),\n",
       " datetime.date(2022, 9, 27),\n",
       " datetime.date(2022, 9, 28)}"
      ]
     },
     "execution_count": 15,
     "metadata": {},
     "output_type": "execute_result"
    }
   ],
   "source": [
    "dates = ev_dataset.metadata_df['datetime'].apply( lambda x: x.date()  )\n",
    "set(dates)"
   ]
  },
  {
   "cell_type": "code",
   "execution_count": 16,
   "metadata": {},
   "outputs": [
    {
     "data": {
      "text/plain": [
       "325"
      ]
     },
     "execution_count": 16,
     "metadata": {},
     "output_type": "execute_result"
    }
   ],
   "source": [
    "tf = (ev_dataset.get_tfkeep_subjects(47)) & (ev_dataset.get_tfkeep_dates(date(2022,9,26)))\n",
    "\n",
    "np.count_nonzero(tf)\n"
   ]
  },
  {
   "cell_type": "code",
   "execution_count": 17,
   "metadata": {},
   "outputs": [
    {
     "data": {
      "text/plain": [
       "{27}"
      ]
     },
     "execution_count": 17,
     "metadata": {},
     "output_type": "execute_result"
    }
   ],
   "source": [
    "set(ev_dataset.metadata_df.session_nb[tf])"
   ]
  },
  {
   "cell_type": "code",
   "execution_count": 18,
   "metadata": {},
   "outputs": [],
   "source": [
    "ev_dataset.set_keep(tf)\n"
   ]
  },
  {
   "cell_type": "code",
   "execution_count": 19,
   "metadata": {},
   "outputs": [
    {
     "data": {
      "text/plain": [
       "['uncued', 'cued']"
      ]
     },
     "execution_count": 19,
     "metadata": {},
     "output_type": "execute_result"
    }
   ],
   "source": [
    "ev_dataset.triggers"
   ]
  },
  {
   "cell_type": "code",
   "execution_count": 20,
   "metadata": {},
   "outputs": [
    {
     "data": {
      "text/html": [
       "<div>\n",
       "<style scoped>\n",
       "    .dataframe tbody tr th:only-of-type {\n",
       "        vertical-align: middle;\n",
       "    }\n",
       "\n",
       "    .dataframe tbody tr th {\n",
       "        vertical-align: top;\n",
       "    }\n",
       "\n",
       "    .dataframe thead th {\n",
       "        text-align: right;\n",
       "    }\n",
       "</style>\n",
       "<table border=\"1\" class=\"dataframe\">\n",
       "  <thead>\n",
       "    <tr style=\"text-align: right;\">\n",
       "      <th></th>\n",
       "      <th>timestamp</th>\n",
       "      <th>trigger</th>\n",
       "      <th>valid</th>\n",
       "      <th>success</th>\n",
       "      <th>bar_trial_time</th>\n",
       "      <th>bar_off_trial_time</th>\n",
       "      <th>spout_trial_time</th>\n",
       "      <th>hold_start_trial_time</th>\n",
       "      <th>datetime</th>\n",
       "      <th>datetime_string</th>\n",
       "    </tr>\n",
       "  </thead>\n",
       "  <tbody>\n",
       "    <tr>\n",
       "      <th>0</th>\n",
       "      <td>454684</td>\n",
       "      <td>cued</td>\n",
       "      <td>True</td>\n",
       "      <td>True</td>\n",
       "      <td>[1632, 2086, 2648, 2833, 2878]</td>\n",
       "      <td>[1609, 2019, 2618, 2688, 2848]</td>\n",
       "      <td>[1632, 2087, 2648, 2878]</td>\n",
       "      <td>[-1369]</td>\n",
       "      <td>2022-08-10 16:21:59</td>\n",
       "      <td>2022-08-10 16:21:59</td>\n",
       "    </tr>\n",
       "    <tr>\n",
       "      <th>1</th>\n",
       "      <td>468046</td>\n",
       "      <td>cued</td>\n",
       "      <td>True</td>\n",
       "      <td>True</td>\n",
       "      <td>[2608, 3099, 3162, 3829, 4448, 4885, 5038, 995...</td>\n",
       "      <td>[1682, 2623, 3129, 3696, 3845, 4464, 4901, 506...</td>\n",
       "      <td>[1795, 2521, 2608, 3099, 3162, 3829, 4447, 488...</td>\n",
       "      <td>[-1425, 5359]</td>\n",
       "      <td>2022-08-10 16:21:59</td>\n",
       "      <td>2022-08-10 16:21:59</td>\n",
       "    </tr>\n",
       "    <tr>\n",
       "      <th>2</th>\n",
       "      <td>570000</td>\n",
       "      <td>cued</td>\n",
       "      <td>True</td>\n",
       "      <td>True</td>\n",
       "      <td>[3392]</td>\n",
       "      <td>[1000, 4894]</td>\n",
       "      <td>[1093, 3392]</td>\n",
       "      <td>[-1107, 3820]</td>\n",
       "      <td>2022-08-10 16:21:59</td>\n",
       "      <td>2022-08-10 16:21:59</td>\n",
       "    </tr>\n",
       "    <tr>\n",
       "      <th>3</th>\n",
       "      <td>657676</td>\n",
       "      <td>cued</td>\n",
       "      <td>True</td>\n",
       "      <td>True</td>\n",
       "      <td>[-1905, -1665, -1331, -1147, -1093, 1599]</td>\n",
       "      <td>[-1827, -1649, -1316, -1114, 1579]</td>\n",
       "      <td>[-1905, -1665, -1331, -1093, 1593]</td>\n",
       "      <td>[]</td>\n",
       "      <td>2022-08-10 16:21:59</td>\n",
       "      <td>2022-08-10 16:21:59</td>\n",
       "    </tr>\n",
       "    <tr>\n",
       "      <th>4</th>\n",
       "      <td>846167</td>\n",
       "      <td>cued</td>\n",
       "      <td>True</td>\n",
       "      <td>True</td>\n",
       "      <td>[1526]</td>\n",
       "      <td>[1509]</td>\n",
       "      <td>[1526]</td>\n",
       "      <td>[-1436]</td>\n",
       "      <td>2022-08-10 16:21:59</td>\n",
       "      <td>2022-08-10 16:21:59</td>\n",
       "    </tr>\n",
       "  </tbody>\n",
       "</table>\n",
       "</div>"
      ],
      "text/plain": [
       "   timestamp trigger  valid  success  \\\n",
       "0     454684    cued   True     True   \n",
       "1     468046    cued   True     True   \n",
       "2     570000    cued   True     True   \n",
       "3     657676    cued   True     True   \n",
       "4     846167    cued   True     True   \n",
       "\n",
       "                                      bar_trial_time  \\\n",
       "0                     [1632, 2086, 2648, 2833, 2878]   \n",
       "1  [2608, 3099, 3162, 3829, 4448, 4885, 5038, 995...   \n",
       "2                                             [3392]   \n",
       "3          [-1905, -1665, -1331, -1147, -1093, 1599]   \n",
       "4                                             [1526]   \n",
       "\n",
       "                                  bar_off_trial_time  \\\n",
       "0                     [1609, 2019, 2618, 2688, 2848]   \n",
       "1  [1682, 2623, 3129, 3696, 3845, 4464, 4901, 506...   \n",
       "2                                       [1000, 4894]   \n",
       "3                 [-1827, -1649, -1316, -1114, 1579]   \n",
       "4                                             [1509]   \n",
       "\n",
       "                                    spout_trial_time hold_start_trial_time  \\\n",
       "0                           [1632, 2087, 2648, 2878]               [-1369]   \n",
       "1  [1795, 2521, 2608, 3099, 3162, 3829, 4447, 488...         [-1425, 5359]   \n",
       "2                                       [1093, 3392]         [-1107, 3820]   \n",
       "3                 [-1905, -1665, -1331, -1093, 1593]                    []   \n",
       "4                                             [1526]               [-1436]   \n",
       "\n",
       "             datetime     datetime_string  \n",
       "0 2022-08-10 16:21:59 2022-08-10 16:21:59  \n",
       "1 2022-08-10 16:21:59 2022-08-10 16:21:59  \n",
       "2 2022-08-10 16:21:59 2022-08-10 16:21:59  \n",
       "3 2022-08-10 16:21:59 2022-08-10 16:21:59  \n",
       "4 2022-08-10 16:21:59 2022-08-10 16:21:59  "
      ]
     },
     "execution_count": 20,
     "metadata": {},
     "output_type": "execute_result"
    }
   ],
   "source": [
    "ev_dataset.data.head()"
   ]
  },
  {
   "cell_type": "code",
   "execution_count": 29,
   "metadata": {},
   "outputs": [
    {
     "data": {
      "image/png": "[encoded data removed]",
      "text/plain": [
       "<Figure size 826.772x1169.29 with 8 Axes>"
      ]
     },
     "metadata": {},
     "output_type": "display_data"
    }
   ],
   "source": [
    "\n",
    "from  matplotlib import pyplot as plt\n",
    "\n",
    "plt.rcParams['font.family'] = ['Arial']\n",
    "\n",
    "event_cols = [\n",
    "    event_col for event_col in ev_dataset.data.columns if '_trial_time' in event_col]\n",
    "    \n",
    "event_name_stems = [event_col.split('_trial_time')[0] for event_col in event_cols]\n",
    "\n",
    "triggers = ev_dataset.triggers\n",
    "\n",
    "cm = 1/2.54  # centimeters in inches\n",
    "fig, ax = plt.subplots(len(event_cols), len(triggers), sharex=True, sharey=True, figsize=(21.0*cm, 29.7*cm))\n",
    "\n",
    "for trig_idx, trigger in enumerate(triggers):\n",
    "\n",
    "    df_subset = ev_dataset.data.loc[(ev_dataset.data['trigger'] == trigger) & (ev_dataset.metadata_df['keep']) , :] #only include keep\n",
    "\n",
    "    df_subset = df_subset.reset_index()\n",
    "\n",
    "    for ev_idx, event_col in enumerate(event_cols):\n",
    "        \n",
    "        for r in range(0,df_subset.shape[0]):\n",
    "           \n",
    "            ev_times = df_subset.at[r, event_col]\n",
    "            \n",
    "            X = np.array(ev_times)\n",
    "            X.shape = (1, len(X))\n",
    "            X = np.tile(X,(2,1))/1000 # ms\n",
    "\n",
    "            Y = np.array([r, r+1])\n",
    "            Y.shape = (2,1)\n",
    "            Y = np.tile(Y, (1, X.shape[1]))\n",
    "\n",
    "            ax[ev_idx][trig_idx].plot(X, Y, 'k-', linewidth = 0.5)\n",
    "\n",
    "            plot_names = trigger + ' ' + event_col\n",
    "\n",
    "            event_name_stem = event_col.split('_trial_time')[0] \n",
    "\n",
    "            ax[ev_idx][trig_idx].set_ylabel('Trials: ' + event_name_stem)\n",
    "\n",
    "            ax[ev_idx][trig_idx].spines['top'].set_visible(False)\n",
    "            ax[ev_idx][trig_idx].spines['right'].set_visible(False)\n",
    "\n",
    "    ax[0][trig_idx].set_title(trigger)\n",
    "\n",
    "    ax[ev_idx][trig_idx].set_xlabel('Time (s)')\n",
    "\n",
    "\n"
   ]
  },
  {
   "cell_type": "markdown",
   "metadata": {},
   "source": [
    "# Event_Dataset.plot_raster()"
   ]
  },
  {
   "cell_type": "code",
   "execution_count": 28,
   "metadata": {},
   "outputs": [
    {
     "data": {
      "image/png": "[encoded data removed]",
      "text/plain": [
       "<Figure size 826.772x1169.29 with 8 Axes>"
      ]
     },
     "metadata": {},
     "output_type": "display_data"
    }
   ],
   "source": [
    "ev_dataset.plot_raster()\n",
    "\n"
   ]
  },
  {
   "cell_type": "markdown",
   "metadata": {},
   "source": [
    "## Overlay"
   ]
  },
  {
   "cell_type": "code",
   "execution_count": 65,
   "metadata": {},
   "outputs": [
    {
     "data": {
      "image/png": "[encoded data removed]",
      "text/plain": [
       "<Figure size 826.772x1169.29 with 2 Axes>"
      ]
     },
     "metadata": {},
     "output_type": "display_data"
    }
   ],
   "source": [
    "ev_dataset.plot_raster(separate=False)\n"
   ]
  },
  {
   "cell_type": "markdown",
   "metadata": {},
   "source": [
    "## specify colors\n"
   ]
  },
  {
   "cell_type": "code",
   "execution_count": 64,
   "metadata": {},
   "outputs": [
    {
     "data": {
      "image/png": "[encoded data removed]",
      "text/plain": [
       "<Figure size 826.772x1169.29 with 2 Axes>"
      ]
     },
     "metadata": {},
     "output_type": "display_data"
    }
   ],
   "source": [
    "\n",
    "ev_dataset.plot_raster(separate=False, colors = ['gold','k','magenta','teal'])\n",
    "\n"
   ]
  },
  {
   "cell_type": "markdown",
   "metadata": {},
   "source": [
    "# Plotly"
   ]
  },
  {
   "cell_type": "code",
   "execution_count": 83,
   "metadata": {},
   "outputs": [
    {
     "data": {
      "application/vnd.plotly.v1+json": {
       "config": {
        "plotlyServerURL": "https://plot.ly"
       },
       "data": [
        {
         "connectgaps": false,
         "marker": {
          "symbol": "circle"
         },
         "mode": "lines",
         "name": "spout_trial_time",
         "type": "scatter",
         "x": [
          -1.152,
          -1.152,
          null,
          0.547,
          0.547,
          null,
          4.532,
          4.532,
          null,
          4.64,
          4.64,
          null,
          4.935,
          4.935,
          null,
          5.034,
          5.034,
          null
         ],
         "xaxis": "x",
         "y": [
          0,
          1,
          null,
          0,
          1,
          null,
          0,
          1,
          null,
          0,
          1,
          null,
          0,
          1,
          null,
          1,
          2,
          null
         ],
         "yaxis": "y"
        }
       ],
       "layout": {
        "template": {
         "data": {
          "bar": [
           {
            "error_x": {
             "color": "#2a3f5f"
            },
            "error_y": {
             "color": "#2a3f5f"
            },
            "marker": {
             "line": {
              "color": "#E5ECF6",
              "width": 0.5
             },
             "pattern": {
              "fillmode": "overlay",
              "size": 10,
              "solidity": 0.2
             }
            },
            "type": "bar"
           }
          ],
          "barpolar": [
           {
            "marker": {
             "line": {
              "color": "#E5ECF6",
              "width": 0.5
             },
             "pattern": {
              "fillmode": "overlay",
              "size": 10,
              "solidity": 0.2
             }
            },
            "type": "barpolar"
           }
          ],
          "carpet": [
           {
            "aaxis": {
             "endlinecolor": "#2a3f5f",
             "gridcolor": "white",
             "linecolor": "white",
             "minorgridcolor": "white",
             "startlinecolor": "#2a3f5f"
            },
            "baxis": {
             "endlinecolor": "#2a3f5f",
             "gridcolor": "white",
             "linecolor": "white",
             "minorgridcolor": "white",
             "startlinecolor": "#2a3f5f"
            },
            "type": "carpet"
           }
          ],
          "choropleth": [
           {
            "colorbar": {
             "outlinewidth": 0,
             "ticks": ""
            },
            "type": "choropleth"
           }
          ],
          "contour": [
           {
            "colorbar": {
             "outlinewidth": 0,
             "ticks": ""
            },
            "colorscale": [
             [
              0,
              "#0d0887"
             ],
             [
              0.1111111111111111,
              "#46039f"
             ],
             [
              0.2222222222222222,
              "#7201a8"
             ],
             [
              0.3333333333333333,
              "#9c179e"
             ],
             [
              0.4444444444444444,
              "#bd3786"
             ],
             [
              0.5555555555555556,
              "#d8576b"
             ],
             [
              0.6666666666666666,
              "#ed7953"
             ],
             [
              0.7777777777777778,
              "#fb9f3a"
             ],
             [
              0.8888888888888888,
              "#fdca26"
             ],
             [
              1,
              "#f0f921"
             ]
            ],
            "type": "contour"
           }
          ],
          "contourcarpet": [
           {
            "colorbar": {
             "outlinewidth": 0,
             "ticks": ""
            },
            "type": "contourcarpet"
           }
          ],
          "heatmap": [
           {
            "colorbar": {
             "outlinewidth": 0,
             "ticks": ""
            },
            "colorscale": [
             [
              0,
              "#0d0887"
             ],
             [
              0.1111111111111111,
              "#46039f"
             ],
             [
              0.2222222222222222,
              "#7201a8"
             ],
             [
              0.3333333333333333,
              "#9c179e"
             ],
             [
              0.4444444444444444,
              "#bd3786"
             ],
             [
              0.5555555555555556,
              "#d8576b"
             ],
             [
              0.6666666666666666,
              "#ed7953"
             ],
             [
              0.7777777777777778,
              "#fb9f3a"
             ],
             [
              0.8888888888888888,
              "#fdca26"
             ],
             [
              1,
              "#f0f921"
             ]
            ],
            "type": "heatmap"
           }
          ],
          "heatmapgl": [
           {
            "colorbar": {
             "outlinewidth": 0,
             "ticks": ""
            },
            "colorscale": [
             [
              0,
              "#0d0887"
             ],
             [
              0.1111111111111111,
              "#46039f"
             ],
             [
              0.2222222222222222,
              "#7201a8"
             ],
             [
              0.3333333333333333,
              "#9c179e"
             ],
             [
              0.4444444444444444,
              "#bd3786"
             ],
             [
              0.5555555555555556,
              "#d8576b"
             ],
             [
              0.6666666666666666,
              "#ed7953"
             ],
             [
              0.7777777777777778,
              "#fb9f3a"
             ],
             [
              0.8888888888888888,
              "#fdca26"
             ],
             [
              1,
              "#f0f921"
             ]
            ],
            "type": "heatmapgl"
           }
          ],
          "histogram": [
           {
            "marker": {
             "pattern": {
              "fillmode": "overlay",
              "size": 10,
              "solidity": 0.2
             }
            },
            "type": "histogram"
           }
          ],
          "histogram2d": [
           {
            "colorbar": {
             "outlinewidth": 0,
             "ticks": ""
            },
            "colorscale": [
             [
              0,
              "#0d0887"
             ],
             [
              0.1111111111111111,
              "#46039f"
             ],
             [
              0.2222222222222222,
              "#7201a8"
             ],
             [
              0.3333333333333333,
              "#9c179e"
             ],
             [
              0.4444444444444444,
              "#bd3786"
             ],
             [
              0.5555555555555556,
              "#d8576b"
             ],
             [
              0.6666666666666666,
              "#ed7953"
             ],
             [
              0.7777777777777778,
              "#fb9f3a"
             ],
             [
              0.8888888888888888,
              "#fdca26"
             ],
             [
              1,
              "#f0f921"
             ]
            ],
            "type": "histogram2d"
           }
          ],
          "histogram2dcontour": [
           {
            "colorbar": {
             "outlinewidth": 0,
             "ticks": ""
            },
            "colorscale": [
             [
              0,
              "#0d0887"
             ],
             [
              0.1111111111111111,
              "#46039f"
             ],
             [
              0.2222222222222222,
              "#7201a8"
             ],
             [
              0.3333333333333333,
              "#9c179e"
             ],
             [
              0.4444444444444444,
              "#bd3786"
             ],
             [
              0.5555555555555556,
              "#d8576b"
             ],
             [
              0.6666666666666666,
              "#ed7953"
             ],
             [
              0.7777777777777778,
              "#fb9f3a"
             ],
             [
              0.8888888888888888,
              "#fdca26"
             ],
             [
              1,
              "#f0f921"
             ]
            ],
            "type": "histogram2dcontour"
           }
          ],
          "mesh3d": [
           {
            "colorbar": {
             "outlinewidth": 0,
             "ticks": ""
            },
            "type": "mesh3d"
           }
          ],
          "parcoords": [
           {
            "line": {
             "colorbar": {
              "outlinewidth": 0,
              "ticks": ""
             }
            },
            "type": "parcoords"
           }
          ],
          "pie": [
           {
            "automargin": true,
            "type": "pie"
           }
          ],
          "scatter": [
           {
            "fillpattern": {
             "fillmode": "overlay",
             "size": 10,
             "solidity": 0.2
            },
            "type": "scatter"
           }
          ],
          "scatter3d": [
           {
            "line": {
             "colorbar": {
              "outlinewidth": 0,
              "ticks": ""
             }
            },
            "marker": {
             "colorbar": {
              "outlinewidth": 0,
              "ticks": ""
             }
            },
            "type": "scatter3d"
           }
          ],
          "scattercarpet": [
           {
            "marker": {
             "colorbar": {
              "outlinewidth": 0,
              "ticks": ""
             }
            },
            "type": "scattercarpet"
           }
          ],
          "scattergeo": [
           {
            "marker": {
             "colorbar": {
              "outlinewidth": 0,
              "ticks": ""
             }
            },
            "type": "scattergeo"
           }
          ],
          "scattergl": [
           {
            "marker": {
             "colorbar": {
              "outlinewidth": 0,
              "ticks": ""
             }
            },
            "type": "scattergl"
           }
          ],
          "scattermapbox": [
           {
            "marker": {
             "colorbar": {
              "outlinewidth": 0,
              "ticks": ""
             }
            },
            "type": "scattermapbox"
           }
          ],
          "scatterpolar": [
           {
            "marker": {
             "colorbar": {
              "outlinewidth": 0,
              "ticks": ""
             }
            },
            "type": "scatterpolar"
           }
          ],
          "scatterpolargl": [
           {
            "marker": {
             "colorbar": {
              "outlinewidth": 0,
              "ticks": ""
             }
            },
            "type": "scatterpolargl"
           }
          ],
          "scatterternary": [
           {
            "marker": {
             "colorbar": {
              "outlinewidth": 0,
              "ticks": ""
             }
            },
            "type": "scatterternary"
           }
          ],
          "surface": [
           {
            "colorbar": {
             "outlinewidth": 0,
             "ticks": ""
            },
            "colorscale": [
             [
              0,
              "#0d0887"
             ],
             [
              0.1111111111111111,
              "#46039f"
             ],
             [
              0.2222222222222222,
              "#7201a8"
             ],
             [
              0.3333333333333333,
              "#9c179e"
             ],
             [
              0.4444444444444444,
              "#bd3786"
             ],
             [
              0.5555555555555556,
              "#d8576b"
             ],
             [
              0.6666666666666666,
              "#ed7953"
             ],
             [
              0.7777777777777778,
              "#fb9f3a"
             ],
             [
              0.8888888888888888,
              "#fdca26"
             ],
             [
              1,
              "#f0f921"
             ]
            ],
            "type": "surface"
           }
          ],
          "table": [
           {
            "cells": {
             "fill": {
              "color": "#EBF0F8"
             },
             "line": {
              "color": "white"
             }
            },
            "header": {
             "fill": {
              "color": "#C8D4E3"
             },
             "line": {
              "color": "white"
             }
            },
            "type": "table"
           }
          ]
         },
         "layout": {
          "annotationdefaults": {
           "arrowcolor": "#2a3f5f",
           "arrowhead": 0,
           "arrowwidth": 1
          },
          "autotypenumbers": "strict",
          "coloraxis": {
           "colorbar": {
            "outlinewidth": 0,
            "ticks": ""
           }
          },
          "colorscale": {
           "diverging": [
            [
             0,
             "#8e0152"
            ],
            [
             0.1,
             "#c51b7d"
            ],
            [
             0.2,
             "#de77ae"
            ],
            [
             0.3,
             "#f1b6da"
            ],
            [
             0.4,
             "#fde0ef"
            ],
            [
             0.5,
             "#f7f7f7"
            ],
            [
             0.6,
             "#e6f5d0"
            ],
            [
             0.7,
             "#b8e186"
            ],
            [
             0.8,
             "#7fbc41"
            ],
            [
             0.9,
             "#4d9221"
            ],
            [
             1,
             "#276419"
            ]
           ],
           "sequential": [
            [
             0,
             "#0d0887"
            ],
            [
             0.1111111111111111,
             "#46039f"
            ],
            [
             0.2222222222222222,
             "#7201a8"
            ],
            [
             0.3333333333333333,
             "#9c179e"
            ],
            [
             0.4444444444444444,
             "#bd3786"
            ],
            [
             0.5555555555555556,
             "#d8576b"
            ],
            [
             0.6666666666666666,
             "#ed7953"
            ],
            [
             0.7777777777777778,
             "#fb9f3a"
            ],
            [
             0.8888888888888888,
             "#fdca26"
            ],
            [
             1,
             "#f0f921"
            ]
           ],
           "sequentialminus": [
            [
             0,
             "#0d0887"
            ],
            [
             0.1111111111111111,
             "#46039f"
            ],
            [
             0.2222222222222222,
             "#7201a8"
            ],
            [
             0.3333333333333333,
             "#9c179e"
            ],
            [
             0.4444444444444444,
             "#bd3786"
            ],
            [
             0.5555555555555556,
             "#d8576b"
            ],
            [
             0.6666666666666666,
             "#ed7953"
            ],
            [
             0.7777777777777778,
             "#fb9f3a"
            ],
            [
             0.8888888888888888,
             "#fdca26"
            ],
            [
             1,
             "#f0f921"
            ]
           ]
          },
          "colorway": [
           "#636efa",
           "#EF553B",
           "#00cc96",
           "#ab63fa",
           "#FFA15A",
           "#19d3f3",
           "#FF6692",
           "#B6E880",
           "#FF97FF",
           "#FECB52"
          ],
          "font": {
           "color": "#2a3f5f"
          },
          "geo": {
           "bgcolor": "white",
           "lakecolor": "white",
           "landcolor": "#E5ECF6",
           "showlakes": true,
           "showland": true,
           "subunitcolor": "white"
          },
          "hoverlabel": {
           "align": "left"
          },
          "hovermode": "closest",
          "mapbox": {
           "style": "light"
          },
          "paper_bgcolor": "white",
          "plot_bgcolor": "#E5ECF6",
          "polar": {
           "angularaxis": {
            "gridcolor": "white",
            "linecolor": "white",
            "ticks": ""
           },
           "bgcolor": "#E5ECF6",
           "radialaxis": {
            "gridcolor": "white",
            "linecolor": "white",
            "ticks": ""
           }
          },
          "scene": {
           "xaxis": {
            "backgroundcolor": "#E5ECF6",
            "gridcolor": "white",
            "gridwidth": 2,
            "linecolor": "white",
            "showbackground": true,
            "ticks": "",
            "zerolinecolor": "white"
           },
           "yaxis": {
            "backgroundcolor": "#E5ECF6",
            "gridcolor": "white",
            "gridwidth": 2,
            "linecolor": "white",
            "showbackground": true,
            "ticks": "",
            "zerolinecolor": "white"
           },
           "zaxis": {
            "backgroundcolor": "#E5ECF6",
            "gridcolor": "white",
            "gridwidth": 2,
            "linecolor": "white",
            "showbackground": true,
            "ticks": "",
            "zerolinecolor": "white"
           }
          },
          "shapedefaults": {
           "line": {
            "color": "#2a3f5f"
           }
          },
          "ternary": {
           "aaxis": {
            "gridcolor": "white",
            "linecolor": "white",
            "ticks": ""
           },
           "baxis": {
            "gridcolor": "white",
            "linecolor": "white",
            "ticks": ""
           },
           "bgcolor": "#E5ECF6",
           "caxis": {
            "gridcolor": "white",
            "linecolor": "white",
            "ticks": ""
           }
          },
          "title": {
           "x": 0.05
          },
          "xaxis": {
           "automargin": true,
           "gridcolor": "white",
           "linecolor": "white",
           "ticks": "",
           "title": {
            "standoff": 15
           },
           "zerolinecolor": "white",
           "zerolinewidth": 2
          },
          "yaxis": {
           "automargin": true,
           "gridcolor": "white",
           "linecolor": "white",
           "ticks": "",
           "title": {
            "standoff": 15
           },
           "zerolinecolor": "white",
           "zerolinewidth": 2
          }
         }
        },
        "xaxis": {
         "anchor": "y",
         "domain": [
          0,
          1
         ]
        },
        "yaxis": {
         "anchor": "x",
         "domain": [
          0,
          1
         ]
        }
       }
      }
     },
     "metadata": {},
     "output_type": "display_data"
    }
   ],
   "source": [
    "\n",
    "fig = make_subplots(\n",
    "    rows=1,\n",
    "    cols=1,\n",
    ")\n",
    "\n",
    "X = [-1.152, -1.152,    nan,  0.547,  0.547,    nan,  4.532,  4.532,    nan,  4.64,\n",
    "  4.64,     nan,  4.935,  4.935,    nan,  5.034,  5.034,    nan]\n",
    "\n",
    "Y = [0,  1, nan,  0,  1, nan, 0,  1, nan,  0,  1, nan,  0,  1, nan,  1,  2, nan]\n",
    "\n",
    "fig.add_trace(\n",
    "    go.Scatter(\n",
    "        x=X,\n",
    "        y=Y,\n",
    "        name=event_col,\n",
    "        marker_symbol='circle',\n",
    "        mode='lines',\n",
    "        connectgaps=False\n",
    "        ), row= 1, col = 1)\n",
    "fig.show()\n",
    "    \n",
    "\n"
   ]
  },
  {
   "cell_type": "markdown",
   "metadata": {},
   "source": [
    "- I don't understand why the axes are split and Y axis is always 0 2 4.\n",
    "- Why nothing is shown?\n",
    "- Why the xaxis.type and yaxis.type can change into category?\n"
   ]
  },
  {
   "cell_type": "code",
   "execution_count": null,
   "metadata": {},
   "outputs": [],
   "source": [
    "ev_dataset.plot_raster(module='plotly')"
   ]
  },
  {
   "cell_type": "code",
   "execution_count": 67,
   "metadata": {},
   "outputs": [
    {
     "data": {
      "application/vnd.plotly.v1+json": {
       "config": {
        "plotlyServerURL": "https://plot.ly"
       },
       "data": [],
       "layout": {
        "template": {
         "data": {
          "bar": [
           {
            "error_x": {
             "color": "#2a3f5f"
            },
            "error_y": {
             "color": "#2a3f5f"
            },
            "marker": {
             "line": {
              "color": "#E5ECF6",
              "width": 0.5
             },
             "pattern": {
              "fillmode": "overlay",
              "size": 10,
              "solidity": 0.2
             }
            },
            "type": "bar"
           }
          ],
          "barpolar": [
           {
            "marker": {
             "line": {
              "color": "#E5ECF6",
              "width": 0.5
             },
             "pattern": {
              "fillmode": "overlay",
              "size": 10,
              "solidity": 0.2
             }
            },
            "type": "barpolar"
           }
          ],
          "carpet": [
           {
            "aaxis": {
             "endlinecolor": "#2a3f5f",
             "gridcolor": "white",
             "linecolor": "white",
             "minorgridcolor": "white",
             "startlinecolor": "#2a3f5f"
            },
            "baxis": {
             "endlinecolor": "#2a3f5f",
             "gridcolor": "white",
             "linecolor": "white",
             "minorgridcolor": "white",
             "startlinecolor": "#2a3f5f"
            },
            "type": "carpet"
           }
          ],
          "choropleth": [
           {
            "colorbar": {
             "outlinewidth": 0,
             "ticks": ""
            },
            "type": "choropleth"
           }
          ],
          "contour": [
           {
            "colorbar": {
             "outlinewidth": 0,
             "ticks": ""
            },
            "colorscale": [
             [
              0,
              "#0d0887"
             ],
             [
              0.1111111111111111,
              "#46039f"
             ],
             [
              0.2222222222222222,
              "#7201a8"
             ],
             [
              0.3333333333333333,
              "#9c179e"
             ],
             [
              0.4444444444444444,
              "#bd3786"
             ],
             [
              0.5555555555555556,
              "#d8576b"
             ],
             [
              0.6666666666666666,
              "#ed7953"
             ],
             [
              0.7777777777777778,
              "#fb9f3a"
             ],
             [
              0.8888888888888888,
              "#fdca26"
             ],
             [
              1,
              "#f0f921"
             ]
            ],
            "type": "contour"
           }
          ],
          "contourcarpet": [
           {
            "colorbar": {
             "outlinewidth": 0,
             "ticks": ""
            },
            "type": "contourcarpet"
           }
          ],
          "heatmap": [
           {
            "colorbar": {
             "outlinewidth": 0,
             "ticks": ""
            },
            "colorscale": [
             [
              0,
              "#0d0887"
             ],
             [
              0.1111111111111111,
              "#46039f"
             ],
             [
              0.2222222222222222,
              "#7201a8"
             ],
             [
              0.3333333333333333,
              "#9c179e"
             ],
             [
              0.4444444444444444,
              "#bd3786"
             ],
             [
              0.5555555555555556,
              "#d8576b"
             ],
             [
              0.6666666666666666,
              "#ed7953"
             ],
             [
              0.7777777777777778,
              "#fb9f3a"
             ],
             [
              0.8888888888888888,
              "#fdca26"
             ],
             [
              1,
              "#f0f921"
             ]
            ],
            "type": "heatmap"
           }
          ],
          "heatmapgl": [
           {
            "colorbar": {
             "outlinewidth": 0,
             "ticks": ""
            },
            "colorscale": [
             [
              0,
              "#0d0887"
             ],
             [
              0.1111111111111111,
              "#46039f"
             ],
             [
              0.2222222222222222,
              "#7201a8"
             ],
             [
              0.3333333333333333,
              "#9c179e"
             ],
             [
              0.4444444444444444,
              "#bd3786"
             ],
             [
              0.5555555555555556,
              "#d8576b"
             ],
             [
              0.6666666666666666,
              "#ed7953"
             ],
             [
              0.7777777777777778,
              "#fb9f3a"
             ],
             [
              0.8888888888888888,
              "#fdca26"
             ],
             [
              1,
              "#f0f921"
             ]
            ],
            "type": "heatmapgl"
           }
          ],
          "histogram": [
           {
            "marker": {
             "pattern": {
              "fillmode": "overlay",
              "size": 10,
              "solidity": 0.2
             }
            },
            "type": "histogram"
           }
          ],
          "histogram2d": [
           {
            "colorbar": {
             "outlinewidth": 0,
             "ticks": ""
            },
            "colorscale": [
             [
              0,
              "#0d0887"
             ],
             [
              0.1111111111111111,
              "#46039f"
             ],
             [
              0.2222222222222222,
              "#7201a8"
             ],
             [
              0.3333333333333333,
              "#9c179e"
             ],
             [
              0.4444444444444444,
              "#bd3786"
             ],
             [
              0.5555555555555556,
              "#d8576b"
             ],
             [
              0.6666666666666666,
              "#ed7953"
             ],
             [
              0.7777777777777778,
              "#fb9f3a"
             ],
             [
              0.8888888888888888,
              "#fdca26"
             ],
             [
              1,
              "#f0f921"
             ]
            ],
            "type": "histogram2d"
           }
          ],
          "histogram2dcontour": [
           {
            "colorbar": {
             "outlinewidth": 0,
             "ticks": ""
            },
            "colorscale": [
             [
              0,
              "#0d0887"
             ],
             [
              0.1111111111111111,
              "#46039f"
             ],
             [
              0.2222222222222222,
              "#7201a8"
             ],
             [
              0.3333333333333333,
              "#9c179e"
             ],
             [
              0.4444444444444444,
              "#bd3786"
             ],
             [
              0.5555555555555556,
              "#d8576b"
             ],
             [
              0.6666666666666666,
              "#ed7953"
             ],
             [
              0.7777777777777778,
              "#fb9f3a"
             ],
             [
              0.8888888888888888,
              "#fdca26"
             ],
             [
              1,
              "#f0f921"
             ]
            ],
            "type": "histogram2dcontour"
           }
          ],
          "mesh3d": [
           {
            "colorbar": {
             "outlinewidth": 0,
             "ticks": ""
            },
            "type": "mesh3d"
           }
          ],
          "parcoords": [
           {
            "line": {
             "colorbar": {
              "outlinewidth": 0,
              "ticks": ""
             }
            },
            "type": "parcoords"
           }
          ],
          "pie": [
           {
            "automargin": true,
            "type": "pie"
           }
          ],
          "scatter": [
           {
            "fillpattern": {
             "fillmode": "overlay",
             "size": 10,
             "solidity": 0.2
            },
            "type": "scatter"
           }
          ],
          "scatter3d": [
           {
            "line": {
             "colorbar": {
              "outlinewidth": 0,
              "ticks": ""
             }
            },
            "marker": {
             "colorbar": {
              "outlinewidth": 0,
              "ticks": ""
             }
            },
            "type": "scatter3d"
           }
          ],
          "scattercarpet": [
           {
            "marker": {
             "colorbar": {
              "outlinewidth": 0,
              "ticks": ""
             }
            },
            "type": "scattercarpet"
           }
          ],
          "scattergeo": [
           {
            "marker": {
             "colorbar": {
              "outlinewidth": 0,
              "ticks": ""
             }
            },
            "type": "scattergeo"
           }
          ],
          "scattergl": [
           {
            "marker": {
             "colorbar": {
              "outlinewidth": 0,
              "ticks": ""
             }
            },
            "type": "scattergl"
           }
          ],
          "scattermapbox": [
           {
            "marker": {
             "colorbar": {
              "outlinewidth": 0,
              "ticks": ""
             }
            },
            "type": "scattermapbox"
           }
          ],
          "scatterpolar": [
           {
            "marker": {
             "colorbar": {
              "outlinewidth": 0,
              "ticks": ""
             }
            },
            "type": "scatterpolar"
           }
          ],
          "scatterpolargl": [
           {
            "marker": {
             "colorbar": {
              "outlinewidth": 0,
              "ticks": ""
             }
            },
            "type": "scatterpolargl"
           }
          ],
          "scatterternary": [
           {
            "marker": {
             "colorbar": {
              "outlinewidth": 0,
              "ticks": ""
             }
            },
            "type": "scatterternary"
           }
          ],
          "surface": [
           {
            "colorbar": {
             "outlinewidth": 0,
             "ticks": ""
            },
            "colorscale": [
             [
              0,
              "#0d0887"
             ],
             [
              0.1111111111111111,
              "#46039f"
             ],
             [
              0.2222222222222222,
              "#7201a8"
             ],
             [
              0.3333333333333333,
              "#9c179e"
             ],
             [
              0.4444444444444444,
              "#bd3786"
             ],
             [
              0.5555555555555556,
              "#d8576b"
             ],
             [
              0.6666666666666666,
              "#ed7953"
             ],
             [
              0.7777777777777778,
              "#fb9f3a"
             ],
             [
              0.8888888888888888,
              "#fdca26"
             ],
             [
              1,
              "#f0f921"
             ]
            ],
            "type": "surface"
           }
          ],
          "table": [
           {
            "cells": {
             "fill": {
              "color": "#EBF0F8"
             },
             "line": {
              "color": "white"
             }
            },
            "header": {
             "fill": {
              "color": "#C8D4E3"
             },
             "line": {
              "color": "white"
             }
            },
            "type": "table"
           }
          ]
         },
         "layout": {
          "annotationdefaults": {
           "arrowcolor": "#2a3f5f",
           "arrowhead": 0,
           "arrowwidth": 1
          },
          "autotypenumbers": "strict",
          "coloraxis": {
           "colorbar": {
            "outlinewidth": 0,
            "ticks": ""
           }
          },
          "colorscale": {
           "diverging": [
            [
             0,
             "#8e0152"
            ],
            [
             0.1,
             "#c51b7d"
            ],
            [
             0.2,
             "#de77ae"
            ],
            [
             0.3,
             "#f1b6da"
            ],
            [
             0.4,
             "#fde0ef"
            ],
            [
             0.5,
             "#f7f7f7"
            ],
            [
             0.6,
             "#e6f5d0"
            ],
            [
             0.7,
             "#b8e186"
            ],
            [
             0.8,
             "#7fbc41"
            ],
            [
             0.9,
             "#4d9221"
            ],
            [
             1,
             "#276419"
            ]
           ],
           "sequential": [
            [
             0,
             "#0d0887"
            ],
            [
             0.1111111111111111,
             "#46039f"
            ],
            [
             0.2222222222222222,
             "#7201a8"
            ],
            [
             0.3333333333333333,
             "#9c179e"
            ],
            [
             0.4444444444444444,
             "#bd3786"
            ],
            [
             0.5555555555555556,
             "#d8576b"
            ],
            [
             0.6666666666666666,
             "#ed7953"
            ],
            [
             0.7777777777777778,
             "#fb9f3a"
            ],
            [
             0.8888888888888888,
             "#fdca26"
            ],
            [
             1,
             "#f0f921"
            ]
           ],
           "sequentialminus": [
            [
             0,
             "#0d0887"
            ],
            [
             0.1111111111111111,
             "#46039f"
            ],
            [
             0.2222222222222222,
             "#7201a8"
            ],
            [
             0.3333333333333333,
             "#9c179e"
            ],
            [
             0.4444444444444444,
             "#bd3786"
            ],
            [
             0.5555555555555556,
             "#d8576b"
            ],
            [
             0.6666666666666666,
             "#ed7953"
            ],
            [
             0.7777777777777778,
             "#fb9f3a"
            ],
            [
             0.8888888888888888,
             "#fdca26"
            ],
            [
             1,
             "#f0f921"
            ]
           ]
          },
          "colorway": [
           "#636efa",
           "#EF553B",
           "#00cc96",
           "#ab63fa",
           "#FFA15A",
           "#19d3f3",
           "#FF6692",
           "#B6E880",
           "#FF97FF",
           "#FECB52"
          ],
          "font": {
           "color": "#2a3f5f"
          },
          "geo": {
           "bgcolor": "white",
           "lakecolor": "white",
           "landcolor": "#E5ECF6",
           "showlakes": true,
           "showland": true,
           "subunitcolor": "white"
          },
          "hoverlabel": {
           "align": "left"
          },
          "hovermode": "closest",
          "mapbox": {
           "style": "light"
          },
          "paper_bgcolor": "white",
          "plot_bgcolor": "#E5ECF6",
          "polar": {
           "angularaxis": {
            "gridcolor": "white",
            "linecolor": "white",
            "ticks": ""
           },
           "bgcolor": "#E5ECF6",
           "radialaxis": {
            "gridcolor": "white",
            "linecolor": "white",
            "ticks": ""
           }
          },
          "scene": {
           "xaxis": {
            "backgroundcolor": "#E5ECF6",
            "gridcolor": "white",
            "gridwidth": 2,
            "linecolor": "white",
            "showbackground": true,
            "ticks": "",
            "zerolinecolor": "white"
           },
           "yaxis": {
            "backgroundcolor": "#E5ECF6",
            "gridcolor": "white",
            "gridwidth": 2,
            "linecolor": "white",
            "showbackground": true,
            "ticks": "",
            "zerolinecolor": "white"
           },
           "zaxis": {
            "backgroundcolor": "#E5ECF6",
            "gridcolor": "white",
            "gridwidth": 2,
            "linecolor": "white",
            "showbackground": true,
            "ticks": "",
            "zerolinecolor": "white"
           }
          },
          "shapedefaults": {
           "line": {
            "color": "#2a3f5f"
           }
          },
          "ternary": {
           "aaxis": {
            "gridcolor": "white",
            "linecolor": "white",
            "ticks": ""
           },
           "baxis": {
            "gridcolor": "white",
            "linecolor": "white",
            "ticks": ""
           },
           "bgcolor": "#E5ECF6",
           "caxis": {
            "gridcolor": "white",
            "linecolor": "white",
            "ticks": ""
           }
          },
          "title": {
           "x": 0.05
          },
          "xaxis": {
           "automargin": true,
           "gridcolor": "white",
           "linecolor": "white",
           "ticks": "",
           "title": {
            "standoff": 15
           },
           "zerolinecolor": "white",
           "zerolinewidth": 2
          },
          "yaxis": {
           "automargin": true,
           "gridcolor": "white",
           "linecolor": "white",
           "ticks": "",
           "title": {
            "standoff": 15
           },
           "zerolinecolor": "white",
           "zerolinewidth": 2
          }
         }
        },
        "xaxis": {
         "anchor": "y",
         "domain": [
          0,
          1
         ]
        },
        "yaxis": {
         "anchor": "x",
         "domain": [
          0,
          1
         ]
        }
       }
      }
     },
     "metadata": {},
     "output_type": "display_data"
    },
    {
     "name": "stdout",
     "output_type": "stream",
     "text": [
      "[[-1.999 -1.926 -1.033  0.41 ]\n",
      " [-1.999 -1.926 -1.033  0.41 ]]\n",
      "[[0 0 0 0]\n",
      " [1 1 1 1]]\n",
      "[[-1.766 -1.626 -1.19   0.368  0.628  0.779  4.51   4.666  5.032]\n",
      " [-1.766 -1.626 -1.19   0.368  0.628  0.779  4.51   4.666  5.032]]\n",
      "[[1 1 1 1 1 1 1 1 1]\n",
      " [2 2 2 2 2 2 2 2 2]]\n",
      "[[-1.539 -1.385 -1.173  0.358  0.375  0.48   4.999  5.155  5.434]\n",
      " [-1.539 -1.385 -1.173  0.358  0.375  0.48   4.999  5.155  5.434]]\n",
      "[[2 2 2 2 2 2 2 2 2]\n",
      " [3 3 3 3 3 3 3 3 3]]\n",
      "[[-1.324 -1.245  0.37   0.51   0.722  5.163  5.324  5.61   6.519  7.879\n",
      "   7.985  8.131]\n",
      " [-1.324 -1.245  0.37   0.51   0.722  5.163  5.324  5.61   6.519  7.879\n",
      "   7.985  8.131]]\n",
      "[[3 3 3 3 3 3 3 3 3 3 3 3]\n",
      " [4 4 4 4 4 4 4 4 4 4 4 4]]\n",
      "[[0.208 0.351 0.501]\n",
      " [0.208 0.351 0.501]]\n",
      "[[4 4 4]\n",
      " [5 5 5]]\n",
      "[[-1.379 -1.158  0.148  0.493  0.727  2.051  3.448  3.68   3.914  3.941\n",
      "   4.497  5.321  6.658  6.839  9.394]\n",
      " [-1.379 -1.158  0.148  0.493  0.727  2.051  3.448  3.68   3.914  3.941\n",
      "   4.497  5.321  6.658  6.839  9.394]]\n",
      "[[5 5 5 5 5 5 5 5 5 5 5 5 5 5 5]\n",
      " [6 6 6 6 6 6 6 6 6 6 6 6 6 6 6]]\n",
      "[[-1.199  0.396  1.738  1.851]\n",
      " [-1.199  0.396  1.738  1.851]]\n",
      "[[6 6 6 6]\n",
      " [7 7 7 7]]\n",
      "[[-1.798 -1.661 -1.372  0.353  0.371  0.478]\n",
      " [-1.798 -1.661 -1.372  0.353  0.371  0.478]]\n",
      "[[7 7 7 7 7 7]\n",
      " [8 8 8 8 8 8]]\n",
      "[[-1.237 -1.107  0.563  0.579  0.84   1.001]\n",
      " [-1.237 -1.107  0.563  0.579  0.84   1.001]]\n",
      "[[8 8 8 8 8 8]\n",
      " [9 9 9 9 9 9]]\n",
      "[[-1.375 -1.234  0.279  0.371  0.51 ]\n",
      " [-1.375 -1.234  0.279  0.371  0.51 ]]\n",
      "[[ 9  9  9  9  9]\n",
      " [10 10 10 10 10]]\n",
      "[[-1.423  0.328  1.339  1.475  2.643  3.283  3.58 ]\n",
      " [-1.423  0.328  1.339  1.475  2.643  3.283  3.58 ]]\n",
      "[[10 10 10 10 10 10 10]\n",
      " [11 11 11 11 11 11 11]]\n",
      "[[-1.578 -1.151  0.082  0.128  0.275  0.398]\n",
      " [-1.578 -1.151  0.082  0.128  0.275  0.398]]\n",
      "[[11 11 11 11 11 11]\n",
      " [12 12 12 12 12 12]]\n",
      "[[0.26  0.297 0.385 0.627 2.004 6.064 6.988 7.062 7.101]\n",
      " [0.26  0.297 0.385 0.627 2.004 6.064 6.988 7.062 7.101]]\n",
      "[[12 12 12 12 12 12 12 12 12]\n",
      " [13 13 13 13 13 13 13 13 13]]\n",
      "[[-1.802 -1.602 -1.365 -1.332 -1.087  0.515  0.676  6.261]\n",
      " [-1.802 -1.602 -1.365 -1.332 -1.087  0.515  0.676  6.261]]\n",
      "[[13 13 13 13 13 13 13 13]\n",
      " [14 14 14 14 14 14 14 14]]\n",
      "[[-1.176  0.341  1.377  2.154  2.236]\n",
      " [-1.176  0.341  1.377  2.154  2.236]]\n",
      "[[14 14 14 14 14]\n",
      " [15 15 15 15 15]]\n",
      "[[0.466 1.43  3.568]\n",
      " [0.466 1.43  3.568]]\n",
      "[[15 15 15]\n",
      " [16 16 16]]\n",
      "[[-1.566 -1.526 -1.398 -1.235  0.342  0.381  0.468  2.271  2.438]\n",
      " [-1.566 -1.526 -1.398 -1.235  0.342  0.381  0.468  2.271  2.438]]\n",
      "[[16 16 16 16 16 16 16 16 16]\n",
      " [17 17 17 17 17 17 17 17 17]]\n",
      "[[-1.194 -1.169  0.335  0.351  0.574  2.137  2.233]\n",
      " [-1.194 -1.169  0.335  0.351  0.574  2.137  2.233]]\n",
      "[[17 17 17 17 17 17 17]\n",
      " [18 18 18 18 18 18 18]]\n",
      "[[0.364 1.55  1.672]\n",
      " [0.364 1.55  1.672]]\n",
      "[[18 18 18]\n",
      " [19 19 19]]\n",
      "[[-1.399  0.417  0.55   5.146  5.603  5.878  7.214  7.437]\n",
      " [-1.399  0.417  0.55   5.146  5.603  5.878  7.214  7.437]]\n",
      "[[19 19 19 19 19 19 19 19]\n",
      " [20 20 20 20 20 20 20 20]]\n",
      "[[-1.149  0.324  0.467  2.476  4.805  5.98   6.27   6.457  6.617  6.882\n",
      "   7.033  7.201  7.361  7.528  7.678  7.851  8.042  8.24   8.474  9.045\n",
      "   9.334  9.655  9.962 10.368 10.628]\n",
      " [-1.149  0.324  0.467  2.476  4.805  5.98   6.27   6.457  6.617  6.882\n",
      "   7.033  7.201  7.361  7.528  7.678  7.851  8.042  8.24   8.474  9.045\n",
      "   9.334  9.655  9.962 10.368 10.628]]\n",
      "[[20 20 20 20 20 20 20 20 20 20 20 20 20 20 20 20 20 20 20 20 20 20 20 20\n",
      "  20]\n",
      " [21 21 21 21 21 21 21 21 21 21 21 21 21 21 21 21 21 21 21 21 21 21 21 21\n",
      "  21]]\n",
      "[[-1.766 -1.65  -1.173  0.369  0.463  0.581  0.73 ]\n",
      " [-1.766 -1.65  -1.173  0.369  0.463  0.581  0.73 ]]\n",
      "[[21 21 21 21 21 21 21]\n",
      " [22 22 22 22 22 22 22]]\n",
      "[[-1.686 -1.458  0.437  1.641  5.959]\n",
      " [-1.686 -1.458  0.437  1.641  5.959]]\n",
      "[[22 22 22 22 22]\n",
      " [23 23 23 23 23]]\n",
      "[[-1.523 -1.406 -1.218  0.44   1.561  1.989]\n",
      " [-1.523 -1.406 -1.218  0.44   1.561  1.989]]\n",
      "[[23 23 23 23 23 23]\n",
      " [24 24 24 24 24 24]]\n",
      "[[0.41  0.56  1.59  1.712 6.025 6.945 7.037 7.63 ]\n",
      " [0.41  0.56  1.59  1.712 6.025 6.945 7.037 7.63 ]]\n",
      "[[24 24 24 24 24 24 24 24]\n",
      " [25 25 25 25 25 25 25 25]]\n",
      "[[-1.243 -1.067  0.401  0.525  1.921  2.302]\n",
      " [-1.243 -1.067  0.401  0.525  1.921  2.302]]\n",
      "[[25 25 25 25 25 25]\n",
      " [26 26 26 26 26 26]]\n",
      "[[-1.755  0.334  0.349  0.419  6.138  6.392  7.334  7.517]\n",
      " [-1.755  0.334  0.349  0.419  6.138  6.392  7.334  7.517]]\n",
      "[[26 26 26 26 26 26 26 26]\n",
      " [27 27 27 27 27 27 27 27]]\n",
      "[[-1.753 -1.336  0.405  0.653  0.778]\n",
      " [-1.753 -1.336  0.405  0.653  0.778]]\n",
      "[[27 27 27 27 27]\n",
      " [28 28 28 28 28]]\n",
      "[[-1.301  0.46   1.53   1.936]\n",
      " [-1.301  0.46   1.53   1.936]]\n",
      "[[28 28 28 28]\n",
      " [29 29 29 29]]\n",
      "[[-1.139  0.426  0.574  0.7    2.31   2.429]\n",
      " [-1.139  0.426  0.574  0.7    2.31   2.429]]\n",
      "[[29 29 29 29 29 29]\n",
      " [30 30 30 30 30 30]]\n",
      "[[-1.242  0.552  0.796  2.108  2.363  2.885  3.345]\n",
      " [-1.242  0.552  0.796  2.108  2.363  2.885  3.345]]\n",
      "[[30 30 30 30 30 30 30]\n",
      " [31 31 31 31 31 31 31]]\n",
      "[[-1.339 -1.084  0.322  0.468  0.589  1.557  1.78   1.921]\n",
      " [-1.339 -1.084  0.322  0.468  0.589  1.557  1.78   1.921]]\n",
      "[[31 31 31 31 31 31 31 31]\n",
      " [32 32 32 32 32 32 32 32]]\n",
      "[[0.35  0.369 0.464 0.483]\n",
      " [0.35  0.369 0.464 0.483]]\n",
      "[[32 32 32 32]\n",
      " [33 33 33 33]]\n",
      "[[-1.577 -1.447  0.371  3.832  3.912  4.154  4.346  4.536]\n",
      " [-1.577 -1.447  0.371  3.832  3.912  4.154  4.346  4.536]]\n",
      "[[33 33 33 33 33 33 33 33]\n",
      " [34 34 34 34 34 34 34 34]]\n",
      "[[-1.93  -1.776 -1.686 -1.35   0.345  0.484  0.628  1.448  8.094  8.193\n",
      "   9.484  9.626 13.451 13.621]\n",
      " [-1.93  -1.776 -1.686 -1.35   0.345  0.484  0.628  1.448  8.094  8.193\n",
      "   9.484  9.626 13.451 13.621]]\n",
      "[[34 34 34 34 34 34 34 34 34 34 34 34 34 34]\n",
      " [35 35 35 35 35 35 35 35 35 35 35 35 35 35]]\n",
      "[[-1.184  0.388  2.14   3.002]\n",
      " [-1.184  0.388  2.14   3.002]]\n",
      "[[35 35 35 35]\n",
      " [36 36 36 36]]\n",
      "[[-1.801 -1.621  0.677  0.707  2.333  2.87   2.938  3.212]\n",
      " [-1.801 -1.621  0.677  0.707  2.333  2.87   2.938  3.212]]\n",
      "[[36 36 36 36 36 36 36 36]\n",
      " [37 37 37 37 37 37 37 37]]\n",
      "[[-1.739 -1.579 -1.352 -1.162  0.22   0.606  0.779]\n",
      " [-1.739 -1.579 -1.352 -1.162  0.22   0.606  0.779]]\n",
      "[[37 37 37 37 37 37 37]\n",
      " [38 38 38 38 38 38 38]]\n",
      "[[ 0.343  1.135  1.629  6.959 10.809 11.95  12.721 13.495]\n",
      " [ 0.343  1.135  1.629  6.959 10.809 11.95  12.721 13.495]]\n",
      "[[38 38 38 38 38 38 38 38]\n",
      " [39 39 39 39 39 39 39 39]]\n",
      "[[0.444]\n",
      " [0.444]]\n",
      "[[39]\n",
      " [40]]\n",
      "[[0.41  0.569 2.121]\n",
      " [0.41  0.569 2.121]]\n",
      "[[40 40 40]\n",
      " [41 41 41]]\n",
      "[[-1.684 -1.655  0.372  0.388  0.447]\n",
      " [-1.684 -1.655  0.372  0.388  0.447]]\n",
      "[[41 41 41 41 41]\n",
      " [42 42 42 42 42]]\n",
      "[[-1.365 -1.164  0.712  0.742  1.065  2.131]\n",
      " [-1.365 -1.164  0.712  0.742  1.065  2.131]]\n",
      "[[42 42 42 42 42 42]\n",
      " [43 43 43 43 43 43]]\n",
      "[[0.36  0.481]\n",
      " [0.36  0.481]]\n",
      "[[43 43]\n",
      " [44 44]]\n",
      "[[-1.802 -1.241 -1.004  0.279  0.319  0.451  0.995  2.019]\n",
      " [-1.802 -1.241 -1.004  0.279  0.319  0.451  0.995  2.019]]\n",
      "[[44 44 44 44 44 44 44 44]\n",
      " [45 45 45 45 45 45 45 45]]\n",
      "[[-1.933 -1.403  0.367  0.509  1.852]\n",
      " [-1.933 -1.403  0.367  0.509  1.852]]\n",
      "[[45 45 45 45 45]\n",
      " [46 46 46 46 46]]\n",
      "[[-1.372  0.406  0.523]\n",
      " [-1.372  0.406  0.523]]\n",
      "[[46 46 46]\n",
      " [47 47 47]]\n",
      "[[0.392 0.412 0.507]\n",
      " [0.392 0.412 0.507]]\n",
      "[[47 47 47]\n",
      " [48 48 48]]\n",
      "[[-1.447  0.44   0.58   0.637  1.805  1.925  3.256]\n",
      " [-1.447  0.44   0.58   0.637  1.805  1.925  3.256]]\n",
      "[[48 48 48 48 48 48 48]\n",
      " [49 49 49 49 49 49 49]]\n",
      "[[0.389 0.408 0.514 1.619 1.766 1.789]\n",
      " [0.389 0.408 0.514 1.619 1.766 1.789]]\n",
      "[[49 49 49 49 49 49]\n",
      " [50 50 50 50 50 50]]\n",
      "[[-1.1    0.353  1.838]\n",
      " [-1.1    0.353  1.838]]\n",
      "[[50 50 50]\n",
      " [51 51 51]]\n",
      "[[0.342 0.45  1.234]\n",
      " [0.342 0.45  1.234]]\n",
      "[[51 51 51]\n",
      " [52 52 52]]\n",
      "[[-1.076  0.346  0.364  0.696  1.45   1.555]\n",
      " [-1.076  0.346  0.364  0.696  1.45   1.555]]\n",
      "[[52 52 52 52 52 52]\n",
      " [53 53 53 53 53 53]]\n",
      "[[-1.379  0.327  0.359  0.437  2.033  2.146  2.357]\n",
      " [-1.379  0.327  0.359  0.437  2.033  2.146  2.357]]\n",
      "[[53 53 53 53 53 53 53]\n",
      " [54 54 54 54 54 54 54]]\n",
      "[[0.308 0.366 0.424 1.689 2.509 3.207 3.41  3.432]\n",
      " [0.308 0.366 0.424 1.689 2.509 3.207 3.41  3.432]]\n",
      "[[54 54 54 54 54 54 54 54]\n",
      " [55 55 55 55 55 55 55 55]]\n",
      "[[-1.258  0.337  0.469  5.716  6.846  7.897]\n",
      " [-1.258  0.337  0.469  5.716  6.846  7.897]]\n",
      "[[55 55 55 55 55 55]\n",
      " [56 56 56 56 56 56]]\n",
      "[[0.508 2.209 3.086]\n",
      " [0.508 2.209 3.086]]\n",
      "[[56 56 56]\n",
      " [57 57 57]]\n",
      "[[-1.571 -1.535  0.447  0.899  1.154]\n",
      " [-1.571 -1.535  0.447  0.899  1.154]]\n",
      "[[57 57 57 57 57]\n",
      " [58 58 58 58 58]]\n",
      "[[0.226 0.347 1.513]\n",
      " [0.226 0.347 1.513]]\n",
      "[[58 58 58]\n",
      " [59 59 59]]\n",
      "[[-1.96  -1.353  0.379  1.88   3.763]\n",
      " [-1.96  -1.353  0.379  1.88   3.763]]\n",
      "[[59 59 59 59 59]\n",
      " [60 60 60 60 60]]\n",
      "[[-1.712 -1.396  0.324  0.341  0.37   0.43   1.264  1.679]\n",
      " [-1.712 -1.396  0.324  0.341  0.37   0.43   1.264  1.679]]\n",
      "[[60 60 60 60 60 60 60 60]\n",
      " [61 61 61 61 61 61 61 61]]\n",
      "[[0.497 1.733]\n",
      " [0.497 1.733]]\n",
      "[[61 61]\n",
      " [62 62]]\n",
      "[[0.257 0.399 0.817 1.712]\n",
      " [0.257 0.399 0.817 1.712]]\n",
      "[[62 62 62 62]\n",
      " [63 63 63 63]]\n",
      "[[0.46]\n",
      " [0.46]]\n",
      "[[63]\n",
      " [64]]\n",
      "[[0.415 0.445]\n",
      " [0.415 0.445]]\n",
      "[[64 64]\n",
      " [65 65]]\n",
      "[[0.302 0.432 0.454]\n",
      " [0.302 0.432 0.454]]\n",
      "[[65 65 65]\n",
      " [66 66 66]]\n",
      "[[0.34  0.478]\n",
      " [0.34  0.478]]\n",
      "[[66 66]\n",
      " [67 67]]\n",
      "[[0.453 0.47  0.868 0.9  ]\n",
      " [0.453 0.47  0.868 0.9  ]]\n",
      "[[67 67 67 67]\n",
      " [68 68 68 68]]\n",
      "[[0.761 0.921 0.954]\n",
      " [0.761 0.921 0.954]]\n",
      "[[68 68 68]\n",
      " [69 69 69]]\n",
      "[[1.955 1.977 2.097 2.136 4.766]\n",
      " [1.955 1.977 2.097 2.136 4.766]]\n",
      "[[69 69 69 69 69]\n",
      " [70 70 70 70 70]]\n",
      "[[-1.425  0.969  0.984  1.088  1.111  1.708  1.993  2.729  3.396  4.358\n",
      "   5.186  9.406  9.741  9.942 10.056 10.211 10.244]\n",
      " [-1.425  0.969  0.984  1.088  1.111  1.708  1.993  2.729  3.396  4.358\n",
      "   5.186  9.406  9.741  9.942 10.056 10.211 10.244]]\n",
      "[[70 70 70 70 70 70 70 70 70 70 70 70 70 70 70 70 70]\n",
      " [71 71 71 71 71 71 71 71 71 71 71 71 71 71 71 71 71]]\n",
      "[[-1.96  -1.726 -1.482  0.277  0.47   2.476]\n",
      " [-1.96  -1.726 -1.482  0.277  0.47   2.476]]\n",
      "[[71 71 71 71 71 71]\n",
      " [72 72 72 72 72 72]]\n",
      "[[-1.333 -1.209  0.297  0.403  1.913  2.099  2.674  2.903  2.993  4.404\n",
      "   4.887  4.98 ]\n",
      " [-1.333 -1.209  0.297  0.403  1.913  2.099  2.674  2.903  2.993  4.404\n",
      "   4.887  4.98 ]]\n",
      "[[72 72 72 72 72 72 72 72 72 72 72 72]\n",
      " [73 73 73 73 73 73 73 73 73 73 73 73]]\n",
      "[[-1.948 -1.9   -1.874 -1.511 -1.046  0.329  1.631  3.982]\n",
      " [-1.948 -1.9   -1.874 -1.511 -1.046  0.329  1.631  3.982]]\n",
      "[[73 73 73 73 73 73 73 73]\n",
      " [74 74 74 74 74 74 74 74]]\n",
      "[[-1.89   0.155  0.329  1.864]\n",
      " [-1.89   0.155  0.329  1.864]]\n",
      "[[74 74 74 74]\n",
      " [75 75 75 75]]\n",
      "[[-1.483 -1.034  0.293  0.45   0.599  2.914  5.743  6.606  7.214  7.306]\n",
      " [-1.483 -1.034  0.293  0.45   0.599  2.914  5.743  6.606  7.214  7.306]]\n",
      "[[75 75 75 75 75 75 75 75 75 75]\n",
      " [76 76 76 76 76 76 76 76 76 76]]\n",
      "[[-1.386  0.185  0.313  2.43   6.524  7.136  7.317  7.544 10.404 11.742\n",
      "  11.867 12.885 13.212 14.425]\n",
      " [-1.386  0.185  0.313  2.43   6.524  7.136  7.317  7.544 10.404 11.742\n",
      "  11.867 12.885 13.212 14.425]]\n",
      "[[76 76 76 76 76 76 76 76 76 76 76 76 76 76]\n",
      " [77 77 77 77 77 77 77 77 77 77 77 77 77 77]]\n",
      "[[-1.441  0.293  0.395  4.319  5.831  6.267  7.689  7.846]\n",
      " [-1.441  0.293  0.395  4.319  5.831  6.267  7.689  7.846]]\n",
      "[[77 77 77 77 77 77 77 77]\n",
      " [78 78 78 78 78 78 78 78]]\n",
      "[[-1.494  0.202  2.317  3.069]\n",
      " [-1.494  0.202  2.317  3.069]]\n",
      "[[78 78 78 78]\n",
      " [79 79 79 79]]\n",
      "[[-1.86  -1.517 -1.17  -1.092 -1.039  0.276  2.604  4.359  6.4    6.491\n",
      "   7.437  8.404  8.422  8.506  9.029]\n",
      " [-1.86  -1.517 -1.17  -1.092 -1.039  0.276  2.604  4.359  6.4    6.491\n",
      "   7.437  8.404  8.422  8.506  9.029]]\n",
      "[[79 79 79 79 79 79 79 79 79 79 79 79 79 79 79]\n",
      " [80 80 80 80 80 80 80 80 80 80 80 80 80 80 80]]\n",
      "[[-1.889 -1.592 -1.072 -1.031  0.13   1.572  1.927  3.949  4.552  4.936\n",
      "   5.59   5.92   6.953  6.981  7.257]\n",
      " [-1.889 -1.592 -1.072 -1.031  0.13   1.572  1.927  3.949  4.552  4.936\n",
      "   5.59   5.92   6.953  6.981  7.257]]\n",
      "[[80 80 80 80 80 80 80 80 80 80 80 80 80 80 80]\n",
      " [81 81 81 81 81 81 81 81 81 81 81 81 81 81 81]]\n",
      "[[-1.973 -1.455 -1.262 -1.063  0.277  1.263  1.448  2.489]\n",
      " [-1.973 -1.455 -1.262 -1.063  0.277  1.263  1.448  2.489]]\n",
      "[[81 81 81 81 81 81 81 81]\n",
      " [82 82 82 82 82 82 82 82]]\n",
      "[[-1.641 -1.339  0.085  0.213  1.888]\n",
      " [-1.641 -1.339  0.085  0.213  1.888]]\n",
      "[[82 82 82 82 82]\n",
      " [83 83 83 83 83]]\n",
      "[[0.126 1.437 2.643 6.327 6.597 6.955 7.262]\n",
      " [0.126 1.437 2.643 6.327 6.597 6.955 7.262]]\n",
      "[[83 83 83 83 83 83 83]\n",
      " [84 84 84 84 84 84 84]]\n",
      "[[-1.83  -1.49  -1.382 -1.354  0.226  0.968  2.634  5.487  6.46   9.551\n",
      "   9.841 10.202 11.122 11.405 11.602]\n",
      " [-1.83  -1.49  -1.382 -1.354  0.226  0.968  2.634  5.487  6.46   9.551\n",
      "   9.841 10.202 11.122 11.405 11.602]]\n",
      "[[84 84 84 84 84 84 84 84 84 84 84 84 84 84 84]\n",
      " [85 85 85 85 85 85 85 85 85 85 85 85 85 85 85]]\n",
      "[[-1.58  -1.489 -1.473  0.461  0.617  0.635  1.251  1.414  2.312  2.444\n",
      "   5.508]\n",
      " [-1.58  -1.489 -1.473  0.461  0.617  0.635  1.251  1.414  2.312  2.444\n",
      "   5.508]]\n",
      "[[85 85 85 85 85 85 85 85 85 85 85]\n",
      " [86 86 86 86 86 86 86 86 86 86 86]]\n",
      "[[-1.71   0.311  0.332  0.494  2.258  6.079]\n",
      " [-1.71   0.311  0.332  0.494  2.258  6.079]]\n",
      "[[86 86 86 86 86 86]\n",
      " [87 87 87 87 87 87]]\n",
      "[[-1.929 -1.7   -1.574 -1.558 -1.352  0.375  1.326]\n",
      " [-1.929 -1.7   -1.574 -1.558 -1.352  0.375  1.326]]\n",
      "[[87 87 87 87 87 87 87]\n",
      " [88 88 88 88 88 88 88]]\n",
      "[[-1.15   0.415  0.433  0.736  2.506  2.664  2.855  2.957]\n",
      " [-1.15   0.415  0.433  0.736  2.506  2.664  2.855  2.957]]\n",
      "[[88 88 88 88 88 88 88 88]\n",
      " [89 89 89 89 89 89 89 89]]\n",
      "[[-1.194  0.406  0.62   0.772  0.984  4.335]\n",
      " [-1.194  0.406  0.62   0.772  0.984  4.335]]\n",
      "[[89 89 89 89 89 89]\n",
      " [90 90 90 90 90 90]]\n",
      "[[0.533 0.714]\n",
      " [0.533 0.714]]\n",
      "[[90 90]\n",
      " [91 91]]\n",
      "[[0.711 0.857 0.9  ]\n",
      " [0.711 0.857 0.9  ]]\n",
      "[[91 91 91]\n",
      " [92 92 92]]\n",
      "[[1.16  1.175 1.307 1.332 2.427 2.442]\n",
      " [1.16  1.175 1.307 1.332 2.427 2.442]]\n",
      "[[92 92 92 92 92 92]\n",
      " [93 93 93 93 93 93]]\n",
      "[[0.302 0.45  0.578]\n",
      " [0.302 0.45  0.578]]\n",
      "[[93 93 93]\n",
      " [94 94 94]]\n",
      "[[0.329 0.459 0.491 1.605 1.755]\n",
      " [0.329 0.459 0.491 1.605 1.755]]\n",
      "[[94 94 94 94 94]\n",
      " [95 95 95 95 95]]\n",
      "[[0.448 0.497 0.618]\n",
      " [0.448 0.497 0.618]]\n",
      "[[95 95 95]\n",
      " [96 96 96]]\n",
      "[[0.363]\n",
      " [0.363]]\n",
      "[[96]\n",
      " [97]]\n",
      "[[0.393 0.552 0.586 0.606 0.626]\n",
      " [0.393 0.552 0.586 0.606 0.626]]\n",
      "[[97 97 97 97 97]\n",
      " [98 98 98 98 98]]\n",
      "[[0.469 0.647]\n",
      " [0.469 0.647]]\n",
      "[[98 98]\n",
      " [99 99]]\n",
      "[[0.41  0.44  0.476 0.496 0.588 0.608]\n",
      " [0.41  0.44  0.476 0.496 0.588 0.608]]\n",
      "[[ 99  99  99  99  99  99]\n",
      " [100 100 100 100 100 100]]\n",
      "[[0.41  0.553]\n",
      " [0.41  0.553]]\n",
      "[[100 100]\n",
      " [101 101]]\n",
      "[[0.402 0.419]\n",
      " [0.402 0.419]]\n",
      "[[101 101]\n",
      " [102 102]]\n",
      "[[1.926 2.071 2.087]\n",
      " [1.926 2.071 2.087]]\n",
      "[[102 102 102]\n",
      " [103 103 103]]\n",
      "[[0.515]\n",
      " [0.515]]\n",
      "[[103]\n",
      " [104]]\n",
      "[[0.464 0.569]\n",
      " [0.464 0.569]]\n",
      "[[104 104]\n",
      " [105 105]]\n",
      "[[0.271 0.295]\n",
      " [0.271 0.295]]\n",
      "[[105 105]\n",
      " [106 106]]\n",
      "[[0.136 0.161 0.681 0.699 1.221 1.332 1.464 2.125 2.913 5.372]\n",
      " [0.136 0.161 0.681 0.699 1.221 1.332 1.464 2.125 2.913 5.372]]\n",
      "[[106 106 106 106 106 106 106 106 106 106]\n",
      " [107 107 107 107 107 107 107 107 107 107]]\n",
      "[[1.16  1.175 1.307 1.332 2.427 2.442]\n",
      " [1.16  1.175 1.307 1.332 2.427 2.442]]\n",
      "[[107 107 107 107 107 107]\n",
      " [108 108 108 108 108 108]]\n",
      "[[1.926 2.071 2.087]\n",
      " [1.926 2.071 2.087]]\n",
      "[[108 108 108]\n",
      " [109 109 109]]\n",
      "[]\n",
      "[]\n",
      "[]\n",
      "[]\n",
      "[]\n",
      "[]\n",
      "[]\n",
      "[]\n",
      "[]\n",
      "[]\n",
      "[]\n",
      "[]\n",
      "[]\n",
      "[]\n",
      "[]\n",
      "[]\n",
      "[]\n",
      "[]\n",
      "[]\n",
      "[]\n",
      "[]\n",
      "[]\n",
      "[]\n",
      "[]\n",
      "[[2.132 2.269 2.445]\n",
      " [2.132 2.269 2.445]]\n",
      "[[121 121 121]\n",
      " [122 122 122]]\n",
      "[]\n",
      "[]\n",
      "[]\n",
      "[]\n",
      "[]\n",
      "[]\n",
      "[]\n",
      "[]\n",
      "[]\n",
      "[]\n",
      "[]\n",
      "[]\n",
      "[]\n",
      "[]\n",
      "[]\n",
      "[]\n",
      "[]\n",
      "[]\n",
      "[]\n",
      "[]\n",
      "[]\n",
      "[]\n",
      "[]\n",
      "[]\n",
      "[]\n",
      "[]\n",
      "[]\n",
      "[]\n",
      "[]\n",
      "[]\n",
      "[]\n",
      "[]\n",
      "[]\n",
      "[]\n",
      "[]\n",
      "[]\n",
      "[]\n",
      "[]\n",
      "[]\n",
      "[]\n",
      "[]\n",
      "[]\n",
      "[]\n",
      "[]\n",
      "[]\n",
      "[]\n",
      "[]\n",
      "[]\n",
      "[]\n",
      "[]\n",
      "[]\n",
      "[]\n",
      "[]\n",
      "[]\n",
      "[]\n",
      "[]\n",
      "[[2.199 2.337]\n",
      " [2.199 2.337]]\n",
      "[[150 150]\n",
      " [151 151]]\n",
      "[]\n",
      "[]\n",
      "[]\n",
      "[]\n",
      "[]\n",
      "[]\n",
      "[]\n",
      "[]\n",
      "[]\n",
      "[]\n",
      "[]\n",
      "[]\n",
      "[]\n",
      "[]\n",
      "[]\n",
      "[]\n",
      "[]\n",
      "[]\n",
      "[[ 5.413  5.429  5.45   5.47   5.558  5.606  6.078  6.472  6.662  7.146\n",
      "   7.171  7.301  7.68   8.067  8.211  8.319  8.851  8.884  9.233  9.274\n",
      "  10.028 10.875]\n",
      " [ 5.413  5.429  5.45   5.47   5.558  5.606  6.078  6.472  6.662  7.146\n",
      "   7.171  7.301  7.68   8.067  8.211  8.319  8.851  8.884  9.233  9.274\n",
      "  10.028 10.875]]\n",
      "[[160 160 160 160 160 160 160 160 160 160 160 160 160 160 160 160 160 160\n",
      "  160 160 160 160]\n",
      " [161 161 161 161 161 161 161 161 161 161 161 161 161 161 161 161 161 161\n",
      "  161 161 161 161]]\n"
     ]
    },
    {
     "data": {
      "application/vnd.plotly.v1+json": {
       "config": {
        "plotlyServerURL": "https://plot.ly"
       },
       "data": [
        {
         "marker": {
          "symbol": "circle"
         },
         "mode": "markers",
         "name": "spout_trial_time",
         "type": "scatter",
         "x": [
          [
           -1.999,
           -1.926,
           -1.033,
           0.41
          ],
          [
           -1.999,
           -1.926,
           -1.033,
           0.41
          ]
         ],
         "xaxis": "x",
         "y": [
          [
           0,
           0,
           0,
           0
          ],
          [
           1,
           1,
           1,
           1
          ]
         ],
         "yaxis": "y"
        },
        {
         "marker": {
          "symbol": "circle"
         },
         "mode": "markers",
         "name": "spout_trial_time",
         "type": "scatter",
         "x": [
          [
           -1.766,
           -1.626,
           -1.19,
           0.368,
           0.628,
           0.779,
           4.51,
           4.666,
           5.032
          ],
          [
           -1.766,
           -1.626,
           -1.19,
           0.368,
           0.628,
           0.779,
           4.51,
           4.666,
           5.032
          ]
         ],
         "xaxis": "x",
         "y": [
          [
           1,
           1,
           1,
           1,
           1,
           1,
           1,
           1,
           1
          ],
          [
           2,
           2,
           2,
           2,
           2,
           2,
           2,
           2,
           2
          ]
         ],
         "yaxis": "y"
        },
        {
         "marker": {
          "symbol": "circle"
         },
         "mode": "markers",
         "name": "spout_trial_time",
         "type": "scatter",
         "x": [
          [
           -1.539,
           -1.385,
           -1.173,
           0.358,
           0.375,
           0.48,
           4.999,
           5.155,
           5.434
          ],
          [
           -1.539,
           -1.385,
           -1.173,
           0.358,
           0.375,
           0.48,
           4.999,
           5.155,
           5.434
          ]
         ],
         "xaxis": "x",
         "y": [
          [
           2,
           2,
           2,
           2,
           2,
           2,
           2,
           2,
           2
          ],
          [
           3,
           3,
           3,
           3,
           3,
           3,
           3,
           3,
           3
          ]
         ],
         "yaxis": "y"
        },
        {
         "marker": {
          "symbol": "circle"
         },
         "mode": "markers",
         "name": "spout_trial_time",
         "type": "scatter",
         "x": [
          [
           -1.324,
           -1.245,
           0.37,
           0.51,
           0.722,
           5.163,
           5.324,
           5.61,
           6.519,
           7.879,
           7.985,
           8.131
          ],
          [
           -1.324,
           -1.245,
           0.37,
           0.51,
           0.722,
           5.163,
           5.324,
           5.61,
           6.519,
           7.879,
           7.985,
           8.131
          ]
         ],
         "xaxis": "x",
         "y": [
          [
           3,
           3,
           3,
           3,
           3,
           3,
           3,
           3,
           3,
           3,
           3,
           3
          ],
          [
           4,
           4,
           4,
           4,
           4,
           4,
           4,
           4,
           4,
           4,
           4,
           4
          ]
         ],
         "yaxis": "y"
        },
        {
         "marker": {
          "symbol": "circle"
         },
         "mode": "markers",
         "name": "spout_trial_time",
         "type": "scatter",
         "x": [
          [
           0.208,
           0.351,
           0.501
          ],
          [
           0.208,
           0.351,
           0.501
          ]
         ],
         "xaxis": "x",
         "y": [
          [
           4,
           4,
           4
          ],
          [
           5,
           5,
           5
          ]
         ],
         "yaxis": "y"
        },
        {
         "marker": {
          "symbol": "circle"
         },
         "mode": "markers",
         "name": "spout_trial_time",
         "type": "scatter",
         "x": [
          [
           -1.379,
           -1.158,
           0.148,
           0.493,
           0.727,
           2.051,
           3.448,
           3.68,
           3.914,
           3.941,
           4.497,
           5.321,
           6.658,
           6.839,
           9.394
          ],
          [
           -1.379,
           -1.158,
           0.148,
           0.493,
           0.727,
           2.051,
           3.448,
           3.68,
           3.914,
           3.941,
           4.497,
           5.321,
           6.658,
           6.839,
           9.394
          ]
         ],
         "xaxis": "x",
         "y": [
          [
           5,
           5,
           5,
           5,
           5,
           5,
           5,
           5,
           5,
           5,
           5,
           5,
           5,
           5,
           5
          ],
          [
           6,
           6,
           6,
           6,
           6,
           6,
           6,
           6,
           6,
           6,
           6,
           6,
           6,
           6,
           6
          ]
         ],
         "yaxis": "y"
        },
        {
         "marker": {
          "symbol": "circle"
         },
         "mode": "markers",
         "name": "spout_trial_time",
         "type": "scatter",
         "x": [
          [
           -1.199,
           0.396,
           1.738,
           1.851
          ],
          [
           -1.199,
           0.396,
           1.738,
           1.851
          ]
         ],
         "xaxis": "x",
         "y": [
          [
           6,
           6,
           6,
           6
          ],
          [
           7,
           7,
           7,
           7
          ]
         ],
         "yaxis": "y"
        },
        {
         "marker": {
          "symbol": "circle"
         },
         "mode": "markers",
         "name": "spout_trial_time",
         "type": "scatter",
         "x": [
          [
           -1.798,
           -1.661,
           -1.372,
           0.353,
           0.371,
           0.478
          ],
          [
           -1.798,
           -1.661,
           -1.372,
           0.353,
           0.371,
           0.478
          ]
         ],
         "xaxis": "x",
         "y": [
          [
           7,
           7,
           7,
           7,
           7,
           7
          ],
          [
           8,
           8,
           8,
           8,
           8,
           8
          ]
         ],
         "yaxis": "y"
        },
        {
         "marker": {
          "symbol": "circle"
         },
         "mode": "markers",
         "name": "spout_trial_time",
         "type": "scatter",
         "x": [
          [
           -1.237,
           -1.107,
           0.563,
           0.579,
           0.84,
           1.001
          ],
          [
           -1.237,
           -1.107,
           0.563,
           0.579,
           0.84,
           1.001
          ]
         ],
         "xaxis": "x",
         "y": [
          [
           8,
           8,
           8,
           8,
           8,
           8
          ],
          [
           9,
           9,
           9,
           9,
           9,
           9
          ]
         ],
         "yaxis": "y"
        },
        {
         "marker": {
          "symbol": "circle"
         },
         "mode": "markers",
         "name": "spout_trial_time",
         "type": "scatter",
         "x": [
          [
           -1.375,
           -1.234,
           0.279,
           0.371,
           0.51
          ],
          [
           -1.375,
           -1.234,
           0.279,
           0.371,
           0.51
          ]
         ],
         "xaxis": "x",
         "y": [
          [
           9,
           9,
           9,
           9,
           9
          ],
          [
           10,
           10,
           10,
           10,
           10
          ]
         ],
         "yaxis": "y"
        },
        {
         "marker": {
          "symbol": "circle"
         },
         "mode": "markers",
         "name": "spout_trial_time",
         "type": "scatter",
         "x": [
          [
           -1.423,
           0.328,
           1.339,
           1.475,
           2.643,
           3.283,
           3.58
          ],
          [
           -1.423,
           0.328,
           1.339,
           1.475,
           2.643,
           3.283,
           3.58
          ]
         ],
         "xaxis": "x",
         "y": [
          [
           10,
           10,
           10,
           10,
           10,
           10,
           10
          ],
          [
           11,
           11,
           11,
           11,
           11,
           11,
           11
          ]
         ],
         "yaxis": "y"
        },
        {
         "marker": {
          "symbol": "circle"
         },
         "mode": "markers",
         "name": "spout_trial_time",
         "type": "scatter",
         "x": [
          [
           -1.578,
           -1.151,
           0.082,
           0.128,
           0.275,
           0.398
          ],
          [
           -1.578,
           -1.151,
           0.082,
           0.128,
           0.275,
           0.398
          ]
         ],
         "xaxis": "x",
         "y": [
          [
           11,
           11,
           11,
           11,
           11,
           11
          ],
          [
           12,
           12,
           12,
           12,
           12,
           12
          ]
         ],
         "yaxis": "y"
        },
        {
         "marker": {
          "symbol": "circle"
         },
         "mode": "markers",
         "name": "spout_trial_time",
         "type": "scatter",
         "x": [
          [
           0.26,
           0.297,
           0.385,
           0.627,
           2.004,
           6.064,
           6.988,
           7.062,
           7.101
          ],
          [
           0.26,
           0.297,
           0.385,
           0.627,
           2.004,
           6.064,
           6.988,
           7.062,
           7.101
          ]
         ],
         "xaxis": "x",
         "y": [
          [
           12,
           12,
           12,
           12,
           12,
           12,
           12,
           12,
           12
          ],
          [
           13,
           13,
           13,
           13,
           13,
           13,
           13,
           13,
           13
          ]
         ],
         "yaxis": "y"
        },
        {
         "marker": {
          "symbol": "circle"
         },
         "mode": "markers",
         "name": "spout_trial_time",
         "type": "scatter",
         "x": [
          [
           -1.802,
           -1.602,
           -1.365,
           -1.332,
           -1.087,
           0.515,
           0.676,
           6.261
          ],
          [
           -1.802,
           -1.602,
           -1.365,
           -1.332,
           -1.087,
           0.515,
           0.676,
           6.261
          ]
         ],
         "xaxis": "x",
         "y": [
          [
           13,
           13,
           13,
           13,
           13,
           13,
           13,
           13
          ],
          [
           14,
           14,
           14,
           14,
           14,
           14,
           14,
           14
          ]
         ],
         "yaxis": "y"
        },
        {
         "marker": {
          "symbol": "circle"
         },
         "mode": "markers",
         "name": "spout_trial_time",
         "type": "scatter",
         "x": [
          [
           -1.176,
           0.341,
           1.377,
           2.154,
           2.236
          ],
          [
           -1.176,
           0.341,
           1.377,
           2.154,
           2.236
          ]
         ],
         "xaxis": "x",
         "y": [
          [
           14,
           14,
           14,
           14,
           14
          ],
          [
           15,
           15,
           15,
           15,
           15
          ]
         ],
         "yaxis": "y"
        },
        {
         "marker": {
          "symbol": "circle"
         },
         "mode": "markers",
         "name": "spout_trial_time",
         "type": "scatter",
         "x": [
          [
           0.466,
           1.43,
           3.568
          ],
          [
           0.466,
           1.43,
           3.568
          ]
         ],
         "xaxis": "x",
         "y": [
          [
           15,
           15,
           15
          ],
          [
           16,
           16,
           16
          ]
         ],
         "yaxis": "y"
        },
        {
         "marker": {
          "symbol": "circle"
         },
         "mode": "markers",
         "name": "spout_trial_time",
         "type": "scatter",
         "x": [
          [
           -1.566,
           -1.526,
           -1.398,
           -1.235,
           0.342,
           0.381,
           0.468,
           2.271,
           2.438
          ],
          [
           -1.566,
           -1.526,
           -1.398,
           -1.235,
           0.342,
           0.381,
           0.468,
           2.271,
           2.438
          ]
         ],
         "xaxis": "x",
         "y": [
          [
           16,
           16,
           16,
           16,
           16,
           16,
           16,
           16,
           16
          ],
          [
           17,
           17,
           17,
           17,
           17,
           17,
           17,
           17,
           17
          ]
         ],
         "yaxis": "y"
        },
        {
         "marker": {
          "symbol": "circle"
         },
         "mode": "markers",
         "name": "spout_trial_time",
         "type": "scatter",
         "x": [
          [
           -1.194,
           -1.169,
           0.335,
           0.351,
           0.574,
           2.137,
           2.233
          ],
          [
           -1.194,
           -1.169,
           0.335,
           0.351,
           0.574,
           2.137,
           2.233
          ]
         ],
         "xaxis": "x",
         "y": [
          [
           17,
           17,
           17,
           17,
           17,
           17,
           17
          ],
          [
           18,
           18,
           18,
           18,
           18,
           18,
           18
          ]
         ],
         "yaxis": "y"
        },
        {
         "marker": {
          "symbol": "circle"
         },
         "mode": "markers",
         "name": "spout_trial_time",
         "type": "scatter",
         "x": [
          [
           0.364,
           1.55,
           1.672
          ],
          [
           0.364,
           1.55,
           1.672
          ]
         ],
         "xaxis": "x",
         "y": [
          [
           18,
           18,
           18
          ],
          [
           19,
           19,
           19
          ]
         ],
         "yaxis": "y"
        },
        {
         "marker": {
          "symbol": "circle"
         },
         "mode": "markers",
         "name": "spout_trial_time",
         "type": "scatter",
         "x": [
          [
           -1.399,
           0.417,
           0.55,
           5.146,
           5.603,
           5.878,
           7.214,
           7.437
          ],
          [
           -1.399,
           0.417,
           0.55,
           5.146,
           5.603,
           5.878,
           7.214,
           7.437
          ]
         ],
         "xaxis": "x",
         "y": [
          [
           19,
           19,
           19,
           19,
           19,
           19,
           19,
           19
          ],
          [
           20,
           20,
           20,
           20,
           20,
           20,
           20,
           20
          ]
         ],
         "yaxis": "y"
        },
        {
         "marker": {
          "symbol": "circle"
         },
         "mode": "markers",
         "name": "spout_trial_time",
         "type": "scatter",
         "x": [
          [
           -1.149,
           0.324,
           0.467,
           2.476,
           4.805,
           5.98,
           6.27,
           6.457,
           6.617,
           6.882,
           7.033,
           7.201,
           7.361,
           7.528,
           7.678,
           7.851,
           8.042,
           8.24,
           8.474,
           9.045,
           9.334,
           9.655,
           9.962,
           10.368,
           10.628
          ],
          [
           -1.149,
           0.324,
           0.467,
           2.476,
           4.805,
           5.98,
           6.27,
           6.457,
           6.617,
           6.882,
           7.033,
           7.201,
           7.361,
           7.528,
           7.678,
           7.851,
           8.042,
           8.24,
           8.474,
           9.045,
           9.334,
           9.655,
           9.962,
           10.368,
           10.628
          ]
         ],
         "xaxis": "x",
         "y": [
          [
           20,
           20,
           20,
           20,
           20,
           20,
           20,
           20,
           20,
           20,
           20,
           20,
           20,
           20,
           20,
           20,
           20,
           20,
           20,
           20,
           20,
           20,
           20,
           20,
           20
          ],
          [
           21,
           21,
           21,
           21,
           21,
           21,
           21,
           21,
           21,
           21,
           21,
           21,
           21,
           21,
           21,
           21,
           21,
           21,
           21,
           21,
           21,
           21,
           21,
           21,
           21
          ]
         ],
         "yaxis": "y"
        },
        {
         "marker": {
          "symbol": "circle"
         },
         "mode": "markers",
         "name": "spout_trial_time",
         "type": "scatter",
         "x": [
          [
           -1.766,
           -1.65,
           -1.173,
           0.369,
           0.463,
           0.581,
           0.73
          ],
          [
           -1.766,
           -1.65,
           -1.173,
           0.369,
           0.463,
           0.581,
           0.73
          ]
         ],
         "xaxis": "x",
         "y": [
          [
           21,
           21,
           21,
           21,
           21,
           21,
           21
          ],
          [
           22,
           22,
           22,
           22,
           22,
           22,
           22
          ]
         ],
         "yaxis": "y"
        },
        {
         "marker": {
          "symbol": "circle"
         },
         "mode": "markers",
         "name": "spout_trial_time",
         "type": "scatter",
         "x": [
          [
           -1.686,
           -1.458,
           0.437,
           1.641,
           5.959
          ],
          [
           -1.686,
           -1.458,
           0.437,
           1.641,
           5.959
          ]
         ],
         "xaxis": "x",
         "y": [
          [
           22,
           22,
           22,
           22,
           22
          ],
          [
           23,
           23,
           23,
           23,
           23
          ]
         ],
         "yaxis": "y"
        },
        {
         "marker": {
          "symbol": "circle"
         },
         "mode": "markers",
         "name": "spout_trial_time",
         "type": "scatter",
         "x": [
          [
           -1.523,
           -1.406,
           -1.218,
           0.44,
           1.561,
           1.989
          ],
          [
           -1.523,
           -1.406,
           -1.218,
           0.44,
           1.561,
           1.989
          ]
         ],
         "xaxis": "x",
         "y": [
          [
           23,
           23,
           23,
           23,
           23,
           23
          ],
          [
           24,
           24,
           24,
           24,
           24,
           24
          ]
         ],
         "yaxis": "y"
        },
        {
         "marker": {
          "symbol": "circle"
         },
         "mode": "markers",
         "name": "spout_trial_time",
         "type": "scatter",
         "x": [
          [
           0.41,
           0.56,
           1.59,
           1.712,
           6.025,
           6.945,
           7.037,
           7.63
          ],
          [
           0.41,
           0.56,
           1.59,
           1.712,
           6.025,
           6.945,
           7.037,
           7.63
          ]
         ],
         "xaxis": "x",
         "y": [
          [
           24,
           24,
           24,
           24,
           24,
           24,
           24,
           24
          ],
          [
           25,
           25,
           25,
           25,
           25,
           25,
           25,
           25
          ]
         ],
         "yaxis": "y"
        },
        {
         "marker": {
          "symbol": "circle"
         },
         "mode": "markers",
         "name": "spout_trial_time",
         "type": "scatter",
         "x": [
          [
           -1.243,
           -1.067,
           0.401,
           0.525,
           1.921,
           2.302
          ],
          [
           -1.243,
           -1.067,
           0.401,
           0.525,
           1.921,
           2.302
          ]
         ],
         "xaxis": "x",
         "y": [
          [
           25,
           25,
           25,
           25,
           25,
           25
          ],
          [
           26,
           26,
           26,
           26,
           26,
           26
          ]
         ],
         "yaxis": "y"
        },
        {
         "marker": {
          "symbol": "circle"
         },
         "mode": "markers",
         "name": "spout_trial_time",
         "type": "scatter",
         "x": [
          [
           -1.755,
           0.334,
           0.349,
           0.419,
           6.138,
           6.392,
           7.334,
           7.517
          ],
          [
           -1.755,
           0.334,
           0.349,
           0.419,
           6.138,
           6.392,
           7.334,
           7.517
          ]
         ],
         "xaxis": "x",
         "y": [
          [
           26,
           26,
           26,
           26,
           26,
           26,
           26,
           26
          ],
          [
           27,
           27,
           27,
           27,
           27,
           27,
           27,
           27
          ]
         ],
         "yaxis": "y"
        },
        {
         "marker": {
          "symbol": "circle"
         },
         "mode": "markers",
         "name": "spout_trial_time",
         "type": "scatter",
         "x": [
          [
           -1.753,
           -1.336,
           0.405,
           0.653,
           0.778
          ],
          [
           -1.753,
           -1.336,
           0.405,
           0.653,
           0.778
          ]
         ],
         "xaxis": "x",
         "y": [
          [
           27,
           27,
           27,
           27,
           27
          ],
          [
           28,
           28,
           28,
           28,
           28
          ]
         ],
         "yaxis": "y"
        },
        {
         "marker": {
          "symbol": "circle"
         },
         "mode": "markers",
         "name": "spout_trial_time",
         "type": "scatter",
         "x": [
          [
           -1.301,
           0.46,
           1.53,
           1.936
          ],
          [
           -1.301,
           0.46,
           1.53,
           1.936
          ]
         ],
         "xaxis": "x",
         "y": [
          [
           28,
           28,
           28,
           28
          ],
          [
           29,
           29,
           29,
           29
          ]
         ],
         "yaxis": "y"
        },
        {
         "marker": {
          "symbol": "circle"
         },
         "mode": "markers",
         "name": "spout_trial_time",
         "type": "scatter",
         "x": [
          [
           -1.139,
           0.426,
           0.574,
           0.7,
           2.31,
           2.429
          ],
          [
           -1.139,
           0.426,
           0.574,
           0.7,
           2.31,
           2.429
          ]
         ],
         "xaxis": "x",
         "y": [
          [
           29,
           29,
           29,
           29,
           29,
           29
          ],
          [
           30,
           30,
           30,
           30,
           30,
           30
          ]
         ],
         "yaxis": "y"
        },
        {
         "marker": {
          "symbol": "circle"
         },
         "mode": "markers",
         "name": "spout_trial_time",
         "type": "scatter",
         "x": [
          [
           -1.242,
           0.552,
           0.796,
           2.108,
           2.363,
           2.885,
           3.345
          ],
          [
           -1.242,
           0.552,
           0.796,
           2.108,
           2.363,
           2.885,
           3.345
          ]
         ],
         "xaxis": "x",
         "y": [
          [
           30,
           30,
           30,
           30,
           30,
           30,
           30
          ],
          [
           31,
           31,
           31,
           31,
           31,
           31,
           31
          ]
         ],
         "yaxis": "y"
        },
        {
         "marker": {
          "symbol": "circle"
         },
         "mode": "markers",
         "name": "spout_trial_time",
         "type": "scatter",
         "x": [
          [
           -1.339,
           -1.084,
           0.322,
           0.468,
           0.589,
           1.557,
           1.78,
           1.921
          ],
          [
           -1.339,
           -1.084,
           0.322,
           0.468,
           0.589,
           1.557,
           1.78,
           1.921
          ]
         ],
         "xaxis": "x",
         "y": [
          [
           31,
           31,
           31,
           31,
           31,
           31,
           31,
           31
          ],
          [
           32,
           32,
           32,
           32,
           32,
           32,
           32,
           32
          ]
         ],
         "yaxis": "y"
        },
        {
         "marker": {
          "symbol": "circle"
         },
         "mode": "markers",
         "name": "spout_trial_time",
         "type": "scatter",
         "x": [
          [
           0.35,
           0.369,
           0.464,
           0.483
          ],
          [
           0.35,
           0.369,
           0.464,
           0.483
          ]
         ],
         "xaxis": "x",
         "y": [
          [
           32,
           32,
           32,
           32
          ],
          [
           33,
           33,
           33,
           33
          ]
         ],
         "yaxis": "y"
        },
        {
         "marker": {
          "symbol": "circle"
         },
         "mode": "markers",
         "name": "spout_trial_time",
         "type": "scatter",
         "x": [
          [
           -1.577,
           -1.447,
           0.371,
           3.832,
           3.912,
           4.154,
           4.346,
           4.536
          ],
          [
           -1.577,
           -1.447,
           0.371,
           3.832,
           3.912,
           4.154,
           4.346,
           4.536
          ]
         ],
         "xaxis": "x",
         "y": [
          [
           33,
           33,
           33,
           33,
           33,
           33,
           33,
           33
          ],
          [
           34,
           34,
           34,
           34,
           34,
           34,
           34,
           34
          ]
         ],
         "yaxis": "y"
        },
        {
         "marker": {
          "symbol": "circle"
         },
         "mode": "markers",
         "name": "spout_trial_time",
         "type": "scatter",
         "x": [
          [
           -1.93,
           -1.776,
           -1.686,
           -1.35,
           0.345,
           0.484,
           0.628,
           1.448,
           8.094,
           8.193,
           9.484,
           9.626,
           13.451,
           13.621
          ],
          [
           -1.93,
           -1.776,
           -1.686,
           -1.35,
           0.345,
           0.484,
           0.628,
           1.448,
           8.094,
           8.193,
           9.484,
           9.626,
           13.451,
           13.621
          ]
         ],
         "xaxis": "x",
         "y": [
          [
           34,
           34,
           34,
           34,
           34,
           34,
           34,
           34,
           34,
           34,
           34,
           34,
           34,
           34
          ],
          [
           35,
           35,
           35,
           35,
           35,
           35,
           35,
           35,
           35,
           35,
           35,
           35,
           35,
           35
          ]
         ],
         "yaxis": "y"
        },
        {
         "marker": {
          "symbol": "circle"
         },
         "mode": "markers",
         "name": "spout_trial_time",
         "type": "scatter",
         "x": [
          [
           -1.184,
           0.388,
           2.14,
           3.002
          ],
          [
           -1.184,
           0.388,
           2.14,
           3.002
          ]
         ],
         "xaxis": "x",
         "y": [
          [
           35,
           35,
           35,
           35
          ],
          [
           36,
           36,
           36,
           36
          ]
         ],
         "yaxis": "y"
        },
        {
         "marker": {
          "symbol": "circle"
         },
         "mode": "markers",
         "name": "spout_trial_time",
         "type": "scatter",
         "x": [
          [
           -1.801,
           -1.621,
           0.677,
           0.707,
           2.333,
           2.87,
           2.938,
           3.212
          ],
          [
           -1.801,
           -1.621,
           0.677,
           0.707,
           2.333,
           2.87,
           2.938,
           3.212
          ]
         ],
         "xaxis": "x",
         "y": [
          [
           36,
           36,
           36,
           36,
           36,
           36,
           36,
           36
          ],
          [
           37,
           37,
           37,
           37,
           37,
           37,
           37,
           37
          ]
         ],
         "yaxis": "y"
        },
        {
         "marker": {
          "symbol": "circle"
         },
         "mode": "markers",
         "name": "spout_trial_time",
         "type": "scatter",
         "x": [
          [
           -1.739,
           -1.579,
           -1.352,
           -1.162,
           0.22,
           0.606,
           0.779
          ],
          [
           -1.739,
           -1.579,
           -1.352,
           -1.162,
           0.22,
           0.606,
           0.779
          ]
         ],
         "xaxis": "x",
         "y": [
          [
           37,
           37,
           37,
           37,
           37,
           37,
           37
          ],
          [
           38,
           38,
           38,
           38,
           38,
           38,
           38
          ]
         ],
         "yaxis": "y"
        },
        {
         "marker": {
          "symbol": "circle"
         },
         "mode": "markers",
         "name": "spout_trial_time",
         "type": "scatter",
         "x": [
          [
           0.343,
           1.135,
           1.629,
           6.959,
           10.809,
           11.95,
           12.721,
           13.495
          ],
          [
           0.343,
           1.135,
           1.629,
           6.959,
           10.809,
           11.95,
           12.721,
           13.495
          ]
         ],
         "xaxis": "x",
         "y": [
          [
           38,
           38,
           38,
           38,
           38,
           38,
           38,
           38
          ],
          [
           39,
           39,
           39,
           39,
           39,
           39,
           39,
           39
          ]
         ],
         "yaxis": "y"
        },
        {
         "marker": {
          "symbol": "circle"
         },
         "mode": "markers",
         "name": "spout_trial_time",
         "type": "scatter",
         "x": [
          [
           0.444
          ],
          [
           0.444
          ]
         ],
         "xaxis": "x",
         "y": [
          [
           39
          ],
          [
           40
          ]
         ],
         "yaxis": "y"
        },
        {
         "marker": {
          "symbol": "circle"
         },
         "mode": "markers",
         "name": "spout_trial_time",
         "type": "scatter",
         "x": [
          [
           0.41,
           0.569,
           2.121
          ],
          [
           0.41,
           0.569,
           2.121
          ]
         ],
         "xaxis": "x",
         "y": [
          [
           40,
           40,
           40
          ],
          [
           41,
           41,
           41
          ]
         ],
         "yaxis": "y"
        },
        {
         "marker": {
          "symbol": "circle"
         },
         "mode": "markers",
         "name": "spout_trial_time",
         "type": "scatter",
         "x": [
          [
           -1.684,
           -1.655,
           0.372,
           0.388,
           0.447
          ],
          [
           -1.684,
           -1.655,
           0.372,
           0.388,
           0.447
          ]
         ],
         "xaxis": "x",
         "y": [
          [
           41,
           41,
           41,
           41,
           41
          ],
          [
           42,
           42,
           42,
           42,
           42
          ]
         ],
         "yaxis": "y"
        },
        {
         "marker": {
          "symbol": "circle"
         },
         "mode": "markers",
         "name": "spout_trial_time",
         "type": "scatter",
         "x": [
          [
           -1.365,
           -1.164,
           0.712,
           0.742,
           1.065,
           2.131
          ],
          [
           -1.365,
           -1.164,
           0.712,
           0.742,
           1.065,
           2.131
          ]
         ],
         "xaxis": "x",
         "y": [
          [
           42,
           42,
           42,
           42,
           42,
           42
          ],
          [
           43,
           43,
           43,
           43,
           43,
           43
          ]
         ],
         "yaxis": "y"
        },
        {
         "marker": {
          "symbol": "circle"
         },
         "mode": "markers",
         "name": "spout_trial_time",
         "type": "scatter",
         "x": [
          [
           0.36,
           0.481
          ],
          [
           0.36,
           0.481
          ]
         ],
         "xaxis": "x",
         "y": [
          [
           43,
           43
          ],
          [
           44,
           44
          ]
         ],
         "yaxis": "y"
        },
        {
         "marker": {
          "symbol": "circle"
         },
         "mode": "markers",
         "name": "spout_trial_time",
         "type": "scatter",
         "x": [
          [
           -1.802,
           -1.241,
           -1.004,
           0.279,
           0.319,
           0.451,
           0.995,
           2.019
          ],
          [
           -1.802,
           -1.241,
           -1.004,
           0.279,
           0.319,
           0.451,
           0.995,
           2.019
          ]
         ],
         "xaxis": "x",
         "y": [
          [
           44,
           44,
           44,
           44,
           44,
           44,
           44,
           44
          ],
          [
           45,
           45,
           45,
           45,
           45,
           45,
           45,
           45
          ]
         ],
         "yaxis": "y"
        },
        {
         "marker": {
          "symbol": "circle"
         },
         "mode": "markers",
         "name": "spout_trial_time",
         "type": "scatter",
         "x": [
          [
           -1.933,
           -1.403,
           0.367,
           0.509,
           1.852
          ],
          [
           -1.933,
           -1.403,
           0.367,
           0.509,
           1.852
          ]
         ],
         "xaxis": "x",
         "y": [
          [
           45,
           45,
           45,
           45,
           45
          ],
          [
           46,
           46,
           46,
           46,
           46
          ]
         ],
         "yaxis": "y"
        },
        {
         "marker": {
          "symbol": "circle"
         },
         "mode": "markers",
         "name": "spout_trial_time",
         "type": "scatter",
         "x": [
          [
           -1.372,
           0.406,
           0.523
          ],
          [
           -1.372,
           0.406,
           0.523
          ]
         ],
         "xaxis": "x",
         "y": [
          [
           46,
           46,
           46
          ],
          [
           47,
           47,
           47
          ]
         ],
         "yaxis": "y"
        },
        {
         "marker": {
          "symbol": "circle"
         },
         "mode": "markers",
         "name": "spout_trial_time",
         "type": "scatter",
         "x": [
          [
           0.392,
           0.412,
           0.507
          ],
          [
           0.392,
           0.412,
           0.507
          ]
         ],
         "xaxis": "x",
         "y": [
          [
           47,
           47,
           47
          ],
          [
           48,
           48,
           48
          ]
         ],
         "yaxis": "y"
        },
        {
         "marker": {
          "symbol": "circle"
         },
         "mode": "markers",
         "name": "spout_trial_time",
         "type": "scatter",
         "x": [
          [
           -1.447,
           0.44,
           0.58,
           0.637,
           1.805,
           1.925,
           3.256
          ],
          [
           -1.447,
           0.44,
           0.58,
           0.637,
           1.805,
           1.925,
           3.256
          ]
         ],
         "xaxis": "x",
         "y": [
          [
           48,
           48,
           48,
           48,
           48,
           48,
           48
          ],
          [
           49,
           49,
           49,
           49,
           49,
           49,
           49
          ]
         ],
         "yaxis": "y"
        },
        {
         "marker": {
          "symbol": "circle"
         },
         "mode": "markers",
         "name": "spout_trial_time",
         "type": "scatter",
         "x": [
          [
           0.389,
           0.408,
           0.514,
           1.619,
           1.766,
           1.789
          ],
          [
           0.389,
           0.408,
           0.514,
           1.619,
           1.766,
           1.789
          ]
         ],
         "xaxis": "x",
         "y": [
          [
           49,
           49,
           49,
           49,
           49,
           49
          ],
          [
           50,
           50,
           50,
           50,
           50,
           50
          ]
         ],
         "yaxis": "y"
        },
        {
         "marker": {
          "symbol": "circle"
         },
         "mode": "markers",
         "name": "spout_trial_time",
         "type": "scatter",
         "x": [
          [
           -1.1,
           0.353,
           1.838
          ],
          [
           -1.1,
           0.353,
           1.838
          ]
         ],
         "xaxis": "x",
         "y": [
          [
           50,
           50,
           50
          ],
          [
           51,
           51,
           51
          ]
         ],
         "yaxis": "y"
        },
        {
         "marker": {
          "symbol": "circle"
         },
         "mode": "markers",
         "name": "spout_trial_time",
         "type": "scatter",
         "x": [
          [
           0.342,
           0.45,
           1.234
          ],
          [
           0.342,
           0.45,
           1.234
          ]
         ],
         "xaxis": "x",
         "y": [
          [
           51,
           51,
           51
          ],
          [
           52,
           52,
           52
          ]
         ],
         "yaxis": "y"
        },
        {
         "marker": {
          "symbol": "circle"
         },
         "mode": "markers",
         "name": "spout_trial_time",
         "type": "scatter",
         "x": [
          [
           -1.076,
           0.346,
           0.364,
           0.696,
           1.45,
           1.555
          ],
          [
           -1.076,
           0.346,
           0.364,
           0.696,
           1.45,
           1.555
          ]
         ],
         "xaxis": "x",
         "y": [
          [
           52,
           52,
           52,
           52,
           52,
           52
          ],
          [
           53,
           53,
           53,
           53,
           53,
           53
          ]
         ],
         "yaxis": "y"
        },
        {
         "marker": {
          "symbol": "circle"
         },
         "mode": "markers",
         "name": "spout_trial_time",
         "type": "scatter",
         "x": [
          [
           -1.379,
           0.327,
           0.359,
           0.437,
           2.033,
           2.146,
           2.357
          ],
          [
           -1.379,
           0.327,
           0.359,
           0.437,
           2.033,
           2.146,
           2.357
          ]
         ],
         "xaxis": "x",
         "y": [
          [
           53,
           53,
           53,
           53,
           53,
           53,
           53
          ],
          [
           54,
           54,
           54,
           54,
           54,
           54,
           54
          ]
         ],
         "yaxis": "y"
        },
        {
         "marker": {
          "symbol": "circle"
         },
         "mode": "markers",
         "name": "spout_trial_time",
         "type": "scatter",
         "x": [
          [
           0.308,
           0.366,
           0.424,
           1.689,
           2.509,
           3.207,
           3.41,
           3.432
          ],
          [
           0.308,
           0.366,
           0.424,
           1.689,
           2.509,
           3.207,
           3.41,
           3.432
          ]
         ],
         "xaxis": "x",
         "y": [
          [
           54,
           54,
           54,
           54,
           54,
           54,
           54,
           54
          ],
          [
           55,
           55,
           55,
           55,
           55,
           55,
           55,
           55
          ]
         ],
         "yaxis": "y"
        },
        {
         "marker": {
          "symbol": "circle"
         },
         "mode": "markers",
         "name": "spout_trial_time",
         "type": "scatter",
         "x": [
          [
           -1.258,
           0.337,
           0.469,
           5.716,
           6.846,
           7.897
          ],
          [
           -1.258,
           0.337,
           0.469,
           5.716,
           6.846,
           7.897
          ]
         ],
         "xaxis": "x",
         "y": [
          [
           55,
           55,
           55,
           55,
           55,
           55
          ],
          [
           56,
           56,
           56,
           56,
           56,
           56
          ]
         ],
         "yaxis": "y"
        },
        {
         "marker": {
          "symbol": "circle"
         },
         "mode": "markers",
         "name": "spout_trial_time",
         "type": "scatter",
         "x": [
          [
           0.508,
           2.209,
           3.086
          ],
          [
           0.508,
           2.209,
           3.086
          ]
         ],
         "xaxis": "x",
         "y": [
          [
           56,
           56,
           56
          ],
          [
           57,
           57,
           57
          ]
         ],
         "yaxis": "y"
        },
        {
         "marker": {
          "symbol": "circle"
         },
         "mode": "markers",
         "name": "spout_trial_time",
         "type": "scatter",
         "x": [
          [
           -1.571,
           -1.535,
           0.447,
           0.899,
           1.154
          ],
          [
           -1.571,
           -1.535,
           0.447,
           0.899,
           1.154
          ]
         ],
         "xaxis": "x",
         "y": [
          [
           57,
           57,
           57,
           57,
           57
          ],
          [
           58,
           58,
           58,
           58,
           58
          ]
         ],
         "yaxis": "y"
        },
        {
         "marker": {
          "symbol": "circle"
         },
         "mode": "markers",
         "name": "spout_trial_time",
         "type": "scatter",
         "x": [
          [
           0.226,
           0.347,
           1.513
          ],
          [
           0.226,
           0.347,
           1.513
          ]
         ],
         "xaxis": "x",
         "y": [
          [
           58,
           58,
           58
          ],
          [
           59,
           59,
           59
          ]
         ],
         "yaxis": "y"
        },
        {
         "marker": {
          "symbol": "circle"
         },
         "mode": "markers",
         "name": "spout_trial_time",
         "type": "scatter",
         "x": [
          [
           -1.96,
           -1.353,
           0.379,
           1.88,
           3.763
          ],
          [
           -1.96,
           -1.353,
           0.379,
           1.88,
           3.763
          ]
         ],
         "xaxis": "x",
         "y": [
          [
           59,
           59,
           59,
           59,
           59
          ],
          [
           60,
           60,
           60,
           60,
           60
          ]
         ],
         "yaxis": "y"
        },
        {
         "marker": {
          "symbol": "circle"
         },
         "mode": "markers",
         "name": "spout_trial_time",
         "type": "scatter",
         "x": [
          [
           -1.712,
           -1.396,
           0.324,
           0.341,
           0.37,
           0.43,
           1.264,
           1.679
          ],
          [
           -1.712,
           -1.396,
           0.324,
           0.341,
           0.37,
           0.43,
           1.264,
           1.679
          ]
         ],
         "xaxis": "x",
         "y": [
          [
           60,
           60,
           60,
           60,
           60,
           60,
           60,
           60
          ],
          [
           61,
           61,
           61,
           61,
           61,
           61,
           61,
           61
          ]
         ],
         "yaxis": "y"
        },
        {
         "marker": {
          "symbol": "circle"
         },
         "mode": "markers",
         "name": "spout_trial_time",
         "type": "scatter",
         "x": [
          [
           0.497,
           1.733
          ],
          [
           0.497,
           1.733
          ]
         ],
         "xaxis": "x",
         "y": [
          [
           61,
           61
          ],
          [
           62,
           62
          ]
         ],
         "yaxis": "y"
        },
        {
         "marker": {
          "symbol": "circle"
         },
         "mode": "markers",
         "name": "spout_trial_time",
         "type": "scatter",
         "x": [
          [
           0.257,
           0.399,
           0.817,
           1.712
          ],
          [
           0.257,
           0.399,
           0.817,
           1.712
          ]
         ],
         "xaxis": "x",
         "y": [
          [
           62,
           62,
           62,
           62
          ],
          [
           63,
           63,
           63,
           63
          ]
         ],
         "yaxis": "y"
        },
        {
         "marker": {
          "symbol": "circle"
         },
         "mode": "markers",
         "name": "spout_trial_time",
         "type": "scatter",
         "x": [
          [
           0.46
          ],
          [
           0.46
          ]
         ],
         "xaxis": "x",
         "y": [
          [
           63
          ],
          [
           64
          ]
         ],
         "yaxis": "y"
        },
        {
         "marker": {
          "symbol": "circle"
         },
         "mode": "markers",
         "name": "spout_trial_time",
         "type": "scatter",
         "x": [
          [
           0.415,
           0.445
          ],
          [
           0.415,
           0.445
          ]
         ],
         "xaxis": "x",
         "y": [
          [
           64,
           64
          ],
          [
           65,
           65
          ]
         ],
         "yaxis": "y"
        },
        {
         "marker": {
          "symbol": "circle"
         },
         "mode": "markers",
         "name": "spout_trial_time",
         "type": "scatter",
         "x": [
          [
           0.302,
           0.432,
           0.454
          ],
          [
           0.302,
           0.432,
           0.454
          ]
         ],
         "xaxis": "x",
         "y": [
          [
           65,
           65,
           65
          ],
          [
           66,
           66,
           66
          ]
         ],
         "yaxis": "y"
        },
        {
         "marker": {
          "symbol": "circle"
         },
         "mode": "markers",
         "name": "spout_trial_time",
         "type": "scatter",
         "x": [
          [
           0.34,
           0.478
          ],
          [
           0.34,
           0.478
          ]
         ],
         "xaxis": "x",
         "y": [
          [
           66,
           66
          ],
          [
           67,
           67
          ]
         ],
         "yaxis": "y"
        },
        {
         "marker": {
          "symbol": "circle"
         },
         "mode": "markers",
         "name": "spout_trial_time",
         "type": "scatter",
         "x": [
          [
           0.453,
           0.47,
           0.868,
           0.9
          ],
          [
           0.453,
           0.47,
           0.868,
           0.9
          ]
         ],
         "xaxis": "x",
         "y": [
          [
           67,
           67,
           67,
           67
          ],
          [
           68,
           68,
           68,
           68
          ]
         ],
         "yaxis": "y"
        },
        {
         "marker": {
          "symbol": "circle"
         },
         "mode": "markers",
         "name": "spout_trial_time",
         "type": "scatter",
         "x": [
          [
           0.761,
           0.921,
           0.954
          ],
          [
           0.761,
           0.921,
           0.954
          ]
         ],
         "xaxis": "x",
         "y": [
          [
           68,
           68,
           68
          ],
          [
           69,
           69,
           69
          ]
         ],
         "yaxis": "y"
        },
        {
         "marker": {
          "symbol": "circle"
         },
         "mode": "markers",
         "name": "spout_trial_time",
         "type": "scatter",
         "x": [
          [
           1.955,
           1.977,
           2.097,
           2.136,
           4.766
          ],
          [
           1.955,
           1.977,
           2.097,
           2.136,
           4.766
          ]
         ],
         "xaxis": "x",
         "y": [
          [
           69,
           69,
           69,
           69,
           69
          ],
          [
           70,
           70,
           70,
           70,
           70
          ]
         ],
         "yaxis": "y"
        },
        {
         "marker": {
          "symbol": "circle"
         },
         "mode": "markers",
         "name": "spout_trial_time",
         "type": "scatter",
         "x": [
          [
           -1.425,
           0.969,
           0.984,
           1.088,
           1.111,
           1.708,
           1.993,
           2.729,
           3.396,
           4.358,
           5.186,
           9.406,
           9.741,
           9.942,
           10.056,
           10.211,
           10.244
          ],
          [
           -1.425,
           0.969,
           0.984,
           1.088,
           1.111,
           1.708,
           1.993,
           2.729,
           3.396,
           4.358,
           5.186,
           9.406,
           9.741,
           9.942,
           10.056,
           10.211,
           10.244
          ]
         ],
         "xaxis": "x",
         "y": [
          [
           70,
           70,
           70,
           70,
           70,
           70,
           70,
           70,
           70,
           70,
           70,
           70,
           70,
           70,
           70,
           70,
           70
          ],
          [
           71,
           71,
           71,
           71,
           71,
           71,
           71,
           71,
           71,
           71,
           71,
           71,
           71,
           71,
           71,
           71,
           71
          ]
         ],
         "yaxis": "y"
        },
        {
         "marker": {
          "symbol": "circle"
         },
         "mode": "markers",
         "name": "spout_trial_time",
         "type": "scatter",
         "x": [
          [
           -1.96,
           -1.726,
           -1.482,
           0.277,
           0.47,
           2.476
          ],
          [
           -1.96,
           -1.726,
           -1.482,
           0.277,
           0.47,
           2.476
          ]
         ],
         "xaxis": "x",
         "y": [
          [
           71,
           71,
           71,
           71,
           71,
           71
          ],
          [
           72,
           72,
           72,
           72,
           72,
           72
          ]
         ],
         "yaxis": "y"
        },
        {
         "marker": {
          "symbol": "circle"
         },
         "mode": "markers",
         "name": "spout_trial_time",
         "type": "scatter",
         "x": [
          [
           -1.333,
           -1.209,
           0.297,
           0.403,
           1.913,
           2.099,
           2.674,
           2.903,
           2.993,
           4.404,
           4.887,
           4.98
          ],
          [
           -1.333,
           -1.209,
           0.297,
           0.403,
           1.913,
           2.099,
           2.674,
           2.903,
           2.993,
           4.404,
           4.887,
           4.98
          ]
         ],
         "xaxis": "x",
         "y": [
          [
           72,
           72,
           72,
           72,
           72,
           72,
           72,
           72,
           72,
           72,
           72,
           72
          ],
          [
           73,
           73,
           73,
           73,
           73,
           73,
           73,
           73,
           73,
           73,
           73,
           73
          ]
         ],
         "yaxis": "y"
        },
        {
         "marker": {
          "symbol": "circle"
         },
         "mode": "markers",
         "name": "spout_trial_time",
         "type": "scatter",
         "x": [
          [
           -1.948,
           -1.9,
           -1.874,
           -1.511,
           -1.046,
           0.329,
           1.631,
           3.982
          ],
          [
           -1.948,
           -1.9,
           -1.874,
           -1.511,
           -1.046,
           0.329,
           1.631,
           3.982
          ]
         ],
         "xaxis": "x",
         "y": [
          [
           73,
           73,
           73,
           73,
           73,
           73,
           73,
           73
          ],
          [
           74,
           74,
           74,
           74,
           74,
           74,
           74,
           74
          ]
         ],
         "yaxis": "y"
        },
        {
         "marker": {
          "symbol": "circle"
         },
         "mode": "markers",
         "name": "spout_trial_time",
         "type": "scatter",
         "x": [
          [
           -1.89,
           0.155,
           0.329,
           1.864
          ],
          [
           -1.89,
           0.155,
           0.329,
           1.864
          ]
         ],
         "xaxis": "x",
         "y": [
          [
           74,
           74,
           74,
           74
          ],
          [
           75,
           75,
           75,
           75
          ]
         ],
         "yaxis": "y"
        },
        {
         "marker": {
          "symbol": "circle"
         },
         "mode": "markers",
         "name": "spout_trial_time",
         "type": "scatter",
         "x": [
          [
           -1.483,
           -1.034,
           0.293,
           0.45,
           0.599,
           2.914,
           5.743,
           6.606,
           7.214,
           7.306
          ],
          [
           -1.483,
           -1.034,
           0.293,
           0.45,
           0.599,
           2.914,
           5.743,
           6.606,
           7.214,
           7.306
          ]
         ],
         "xaxis": "x",
         "y": [
          [
           75,
           75,
           75,
           75,
           75,
           75,
           75,
           75,
           75,
           75
          ],
          [
           76,
           76,
           76,
           76,
           76,
           76,
           76,
           76,
           76,
           76
          ]
         ],
         "yaxis": "y"
        },
        {
         "marker": {
          "symbol": "circle"
         },
         "mode": "markers",
         "name": "spout_trial_time",
         "type": "scatter",
         "x": [
          [
           -1.386,
           0.185,
           0.313,
           2.43,
           6.524,
           7.136,
           7.317,
           7.544,
           10.404,
           11.742,
           11.867,
           12.885,
           13.212,
           14.425
          ],
          [
           -1.386,
           0.185,
           0.313,
           2.43,
           6.524,
           7.136,
           7.317,
           7.544,
           10.404,
           11.742,
           11.867,
           12.885,
           13.212,
           14.425
          ]
         ],
         "xaxis": "x",
         "y": [
          [
           76,
           76,
           76,
           76,
           76,
           76,
           76,
           76,
           76,
           76,
           76,
           76,
           76,
           76
          ],
          [
           77,
           77,
           77,
           77,
           77,
           77,
           77,
           77,
           77,
           77,
           77,
           77,
           77,
           77
          ]
         ],
         "yaxis": "y"
        },
        {
         "marker": {
          "symbol": "circle"
         },
         "mode": "markers",
         "name": "spout_trial_time",
         "type": "scatter",
         "x": [
          [
           -1.441,
           0.293,
           0.395,
           4.319,
           5.831,
           6.267,
           7.689,
           7.846
          ],
          [
           -1.441,
           0.293,
           0.395,
           4.319,
           5.831,
           6.267,
           7.689,
           7.846
          ]
         ],
         "xaxis": "x",
         "y": [
          [
           77,
           77,
           77,
           77,
           77,
           77,
           77,
           77
          ],
          [
           78,
           78,
           78,
           78,
           78,
           78,
           78,
           78
          ]
         ],
         "yaxis": "y"
        },
        {
         "marker": {
          "symbol": "circle"
         },
         "mode": "markers",
         "name": "spout_trial_time",
         "type": "scatter",
         "x": [
          [
           -1.494,
           0.202,
           2.317,
           3.069
          ],
          [
           -1.494,
           0.202,
           2.317,
           3.069
          ]
         ],
         "xaxis": "x",
         "y": [
          [
           78,
           78,
           78,
           78
          ],
          [
           79,
           79,
           79,
           79
          ]
         ],
         "yaxis": "y"
        },
        {
         "marker": {
          "symbol": "circle"
         },
         "mode": "markers",
         "name": "spout_trial_time",
         "type": "scatter",
         "x": [
          [
           -1.86,
           -1.517,
           -1.17,
           -1.092,
           -1.039,
           0.276,
           2.604,
           4.359,
           6.4,
           6.491,
           7.437,
           8.404,
           8.422,
           8.506,
           9.029
          ],
          [
           -1.86,
           -1.517,
           -1.17,
           -1.092,
           -1.039,
           0.276,
           2.604,
           4.359,
           6.4,
           6.491,
           7.437,
           8.404,
           8.422,
           8.506,
           9.029
          ]
         ],
         "xaxis": "x",
         "y": [
          [
           79,
           79,
           79,
           79,
           79,
           79,
           79,
           79,
           79,
           79,
           79,
           79,
           79,
           79,
           79
          ],
          [
           80,
           80,
           80,
           80,
           80,
           80,
           80,
           80,
           80,
           80,
           80,
           80,
           80,
           80,
           80
          ]
         ],
         "yaxis": "y"
        },
        {
         "marker": {
          "symbol": "circle"
         },
         "mode": "markers",
         "name": "spout_trial_time",
         "type": "scatter",
         "x": [
          [
           -1.889,
           -1.592,
           -1.072,
           -1.031,
           0.13,
           1.572,
           1.927,
           3.949,
           4.552,
           4.936,
           5.59,
           5.92,
           6.953,
           6.981,
           7.257
          ],
          [
           -1.889,
           -1.592,
           -1.072,
           -1.031,
           0.13,
           1.572,
           1.927,
           3.949,
           4.552,
           4.936,
           5.59,
           5.92,
           6.953,
           6.981,
           7.257
          ]
         ],
         "xaxis": "x",
         "y": [
          [
           80,
           80,
           80,
           80,
           80,
           80,
           80,
           80,
           80,
           80,
           80,
           80,
           80,
           80,
           80
          ],
          [
           81,
           81,
           81,
           81,
           81,
           81,
           81,
           81,
           81,
           81,
           81,
           81,
           81,
           81,
           81
          ]
         ],
         "yaxis": "y"
        },
        {
         "marker": {
          "symbol": "circle"
         },
         "mode": "markers",
         "name": "spout_trial_time",
         "type": "scatter",
         "x": [
          [
           -1.973,
           -1.455,
           -1.262,
           -1.063,
           0.277,
           1.263,
           1.448,
           2.489
          ],
          [
           -1.973,
           -1.455,
           -1.262,
           -1.063,
           0.277,
           1.263,
           1.448,
           2.489
          ]
         ],
         "xaxis": "x",
         "y": [
          [
           81,
           81,
           81,
           81,
           81,
           81,
           81,
           81
          ],
          [
           82,
           82,
           82,
           82,
           82,
           82,
           82,
           82
          ]
         ],
         "yaxis": "y"
        },
        {
         "marker": {
          "symbol": "circle"
         },
         "mode": "markers",
         "name": "spout_trial_time",
         "type": "scatter",
         "x": [
          [
           -1.641,
           -1.339,
           0.085,
           0.213,
           1.888
          ],
          [
           -1.641,
           -1.339,
           0.085,
           0.213,
           1.888
          ]
         ],
         "xaxis": "x",
         "y": [
          [
           82,
           82,
           82,
           82,
           82
          ],
          [
           83,
           83,
           83,
           83,
           83
          ]
         ],
         "yaxis": "y"
        },
        {
         "marker": {
          "symbol": "circle"
         },
         "mode": "markers",
         "name": "spout_trial_time",
         "type": "scatter",
         "x": [
          [
           0.126,
           1.437,
           2.643,
           6.327,
           6.597,
           6.955,
           7.262
          ],
          [
           0.126,
           1.437,
           2.643,
           6.327,
           6.597,
           6.955,
           7.262
          ]
         ],
         "xaxis": "x",
         "y": [
          [
           83,
           83,
           83,
           83,
           83,
           83,
           83
          ],
          [
           84,
           84,
           84,
           84,
           84,
           84,
           84
          ]
         ],
         "yaxis": "y"
        },
        {
         "marker": {
          "symbol": "circle"
         },
         "mode": "markers",
         "name": "spout_trial_time",
         "type": "scatter",
         "x": [
          [
           -1.83,
           -1.49,
           -1.382,
           -1.354,
           0.226,
           0.968,
           2.634,
           5.487,
           6.46,
           9.551,
           9.841,
           10.202,
           11.122,
           11.405,
           11.602
          ],
          [
           -1.83,
           -1.49,
           -1.382,
           -1.354,
           0.226,
           0.968,
           2.634,
           5.487,
           6.46,
           9.551,
           9.841,
           10.202,
           11.122,
           11.405,
           11.602
          ]
         ],
         "xaxis": "x",
         "y": [
          [
           84,
           84,
           84,
           84,
           84,
           84,
           84,
           84,
           84,
           84,
           84,
           84,
           84,
           84,
           84
          ],
          [
           85,
           85,
           85,
           85,
           85,
           85,
           85,
           85,
           85,
           85,
           85,
           85,
           85,
           85,
           85
          ]
         ],
         "yaxis": "y"
        },
        {
         "marker": {
          "symbol": "circle"
         },
         "mode": "markers",
         "name": "spout_trial_time",
         "type": "scatter",
         "x": [
          [
           -1.58,
           -1.489,
           -1.473,
           0.461,
           0.617,
           0.635,
           1.251,
           1.414,
           2.312,
           2.444,
           5.508
          ],
          [
           -1.58,
           -1.489,
           -1.473,
           0.461,
           0.617,
           0.635,
           1.251,
           1.414,
           2.312,
           2.444,
           5.508
          ]
         ],
         "xaxis": "x",
         "y": [
          [
           85,
           85,
           85,
           85,
           85,
           85,
           85,
           85,
           85,
           85,
           85
          ],
          [
           86,
           86,
           86,
           86,
           86,
           86,
           86,
           86,
           86,
           86,
           86
          ]
         ],
         "yaxis": "y"
        },
        {
         "marker": {
          "symbol": "circle"
         },
         "mode": "markers",
         "name": "spout_trial_time",
         "type": "scatter",
         "x": [
          [
           -1.71,
           0.311,
           0.332,
           0.494,
           2.258,
           6.079
          ],
          [
           -1.71,
           0.311,
           0.332,
           0.494,
           2.258,
           6.079
          ]
         ],
         "xaxis": "x",
         "y": [
          [
           86,
           86,
           86,
           86,
           86,
           86
          ],
          [
           87,
           87,
           87,
           87,
           87,
           87
          ]
         ],
         "yaxis": "y"
        },
        {
         "marker": {
          "symbol": "circle"
         },
         "mode": "markers",
         "name": "spout_trial_time",
         "type": "scatter",
         "x": [
          [
           -1.929,
           -1.7,
           -1.574,
           -1.558,
           -1.352,
           0.375,
           1.326
          ],
          [
           -1.929,
           -1.7,
           -1.574,
           -1.558,
           -1.352,
           0.375,
           1.326
          ]
         ],
         "xaxis": "x",
         "y": [
          [
           87,
           87,
           87,
           87,
           87,
           87,
           87
          ],
          [
           88,
           88,
           88,
           88,
           88,
           88,
           88
          ]
         ],
         "yaxis": "y"
        },
        {
         "marker": {
          "symbol": "circle"
         },
         "mode": "markers",
         "name": "spout_trial_time",
         "type": "scatter",
         "x": [
          [
           -1.15,
           0.415,
           0.433,
           0.736,
           2.506,
           2.664,
           2.855,
           2.957
          ],
          [
           -1.15,
           0.415,
           0.433,
           0.736,
           2.506,
           2.664,
           2.855,
           2.957
          ]
         ],
         "xaxis": "x",
         "y": [
          [
           88,
           88,
           88,
           88,
           88,
           88,
           88,
           88
          ],
          [
           89,
           89,
           89,
           89,
           89,
           89,
           89,
           89
          ]
         ],
         "yaxis": "y"
        },
        {
         "marker": {
          "symbol": "circle"
         },
         "mode": "markers",
         "name": "spout_trial_time",
         "type": "scatter",
         "x": [
          [
           -1.194,
           0.406,
           0.62,
           0.772,
           0.984,
           4.335
          ],
          [
           -1.194,
           0.406,
           0.62,
           0.772,
           0.984,
           4.335
          ]
         ],
         "xaxis": "x",
         "y": [
          [
           89,
           89,
           89,
           89,
           89,
           89
          ],
          [
           90,
           90,
           90,
           90,
           90,
           90
          ]
         ],
         "yaxis": "y"
        },
        {
         "marker": {
          "symbol": "circle"
         },
         "mode": "markers",
         "name": "spout_trial_time",
         "type": "scatter",
         "x": [
          [
           0.533,
           0.714
          ],
          [
           0.533,
           0.714
          ]
         ],
         "xaxis": "x",
         "y": [
          [
           90,
           90
          ],
          [
           91,
           91
          ]
         ],
         "yaxis": "y"
        },
        {
         "marker": {
          "symbol": "circle"
         },
         "mode": "markers",
         "name": "spout_trial_time",
         "type": "scatter",
         "x": [
          [
           0.711,
           0.857,
           0.9
          ],
          [
           0.711,
           0.857,
           0.9
          ]
         ],
         "xaxis": "x",
         "y": [
          [
           91,
           91,
           91
          ],
          [
           92,
           92,
           92
          ]
         ],
         "yaxis": "y"
        },
        {
         "marker": {
          "symbol": "circle"
         },
         "mode": "markers",
         "name": "spout_trial_time",
         "type": "scatter",
         "x": [
          [
           1.16,
           1.175,
           1.307,
           1.332,
           2.427,
           2.442
          ],
          [
           1.16,
           1.175,
           1.307,
           1.332,
           2.427,
           2.442
          ]
         ],
         "xaxis": "x",
         "y": [
          [
           92,
           92,
           92,
           92,
           92,
           92
          ],
          [
           93,
           93,
           93,
           93,
           93,
           93
          ]
         ],
         "yaxis": "y"
        },
        {
         "marker": {
          "symbol": "circle"
         },
         "mode": "markers",
         "name": "spout_trial_time",
         "type": "scatter",
         "x": [
          [
           0.302,
           0.45,
           0.578
          ],
          [
           0.302,
           0.45,
           0.578
          ]
         ],
         "xaxis": "x",
         "y": [
          [
           93,
           93,
           93
          ],
          [
           94,
           94,
           94
          ]
         ],
         "yaxis": "y"
        },
        {
         "marker": {
          "symbol": "circle"
         },
         "mode": "markers",
         "name": "spout_trial_time",
         "type": "scatter",
         "x": [
          [
           0.329,
           0.459,
           0.491,
           1.605,
           1.755
          ],
          [
           0.329,
           0.459,
           0.491,
           1.605,
           1.755
          ]
         ],
         "xaxis": "x",
         "y": [
          [
           94,
           94,
           94,
           94,
           94
          ],
          [
           95,
           95,
           95,
           95,
           95
          ]
         ],
         "yaxis": "y"
        },
        {
         "marker": {
          "symbol": "circle"
         },
         "mode": "markers",
         "name": "spout_trial_time",
         "type": "scatter",
         "x": [
          [
           0.448,
           0.497,
           0.618
          ],
          [
           0.448,
           0.497,
           0.618
          ]
         ],
         "xaxis": "x",
         "y": [
          [
           95,
           95,
           95
          ],
          [
           96,
           96,
           96
          ]
         ],
         "yaxis": "y"
        },
        {
         "marker": {
          "symbol": "circle"
         },
         "mode": "markers",
         "name": "spout_trial_time",
         "type": "scatter",
         "x": [
          [
           0.363
          ],
          [
           0.363
          ]
         ],
         "xaxis": "x",
         "y": [
          [
           96
          ],
          [
           97
          ]
         ],
         "yaxis": "y"
        },
        {
         "marker": {
          "symbol": "circle"
         },
         "mode": "markers",
         "name": "spout_trial_time",
         "type": "scatter",
         "x": [
          [
           0.393,
           0.552,
           0.586,
           0.606,
           0.626
          ],
          [
           0.393,
           0.552,
           0.586,
           0.606,
           0.626
          ]
         ],
         "xaxis": "x",
         "y": [
          [
           97,
           97,
           97,
           97,
           97
          ],
          [
           98,
           98,
           98,
           98,
           98
          ]
         ],
         "yaxis": "y"
        },
        {
         "marker": {
          "symbol": "circle"
         },
         "mode": "markers",
         "name": "spout_trial_time",
         "type": "scatter",
         "x": [
          [
           0.469,
           0.647
          ],
          [
           0.469,
           0.647
          ]
         ],
         "xaxis": "x",
         "y": [
          [
           98,
           98
          ],
          [
           99,
           99
          ]
         ],
         "yaxis": "y"
        },
        {
         "marker": {
          "symbol": "circle"
         },
         "mode": "markers",
         "name": "spout_trial_time",
         "type": "scatter",
         "x": [
          [
           0.41,
           0.44,
           0.476,
           0.496,
           0.588,
           0.608
          ],
          [
           0.41,
           0.44,
           0.476,
           0.496,
           0.588,
           0.608
          ]
         ],
         "xaxis": "x",
         "y": [
          [
           99,
           99,
           99,
           99,
           99,
           99
          ],
          [
           100,
           100,
           100,
           100,
           100,
           100
          ]
         ],
         "yaxis": "y"
        },
        {
         "marker": {
          "symbol": "circle"
         },
         "mode": "markers",
         "name": "spout_trial_time",
         "type": "scatter",
         "x": [
          [
           0.41,
           0.553
          ],
          [
           0.41,
           0.553
          ]
         ],
         "xaxis": "x",
         "y": [
          [
           100,
           100
          ],
          [
           101,
           101
          ]
         ],
         "yaxis": "y"
        },
        {
         "marker": {
          "symbol": "circle"
         },
         "mode": "markers",
         "name": "spout_trial_time",
         "type": "scatter",
         "x": [
          [
           0.402,
           0.419
          ],
          [
           0.402,
           0.419
          ]
         ],
         "xaxis": "x",
         "y": [
          [
           101,
           101
          ],
          [
           102,
           102
          ]
         ],
         "yaxis": "y"
        },
        {
         "marker": {
          "symbol": "circle"
         },
         "mode": "markers",
         "name": "spout_trial_time",
         "type": "scatter",
         "x": [
          [
           1.926,
           2.071,
           2.087
          ],
          [
           1.926,
           2.071,
           2.087
          ]
         ],
         "xaxis": "x",
         "y": [
          [
           102,
           102,
           102
          ],
          [
           103,
           103,
           103
          ]
         ],
         "yaxis": "y"
        },
        {
         "marker": {
          "symbol": "circle"
         },
         "mode": "markers",
         "name": "spout_trial_time",
         "type": "scatter",
         "x": [
          [
           0.515
          ],
          [
           0.515
          ]
         ],
         "xaxis": "x",
         "y": [
          [
           103
          ],
          [
           104
          ]
         ],
         "yaxis": "y"
        },
        {
         "marker": {
          "symbol": "circle"
         },
         "mode": "markers",
         "name": "spout_trial_time",
         "type": "scatter",
         "x": [
          [
           0.464,
           0.569
          ],
          [
           0.464,
           0.569
          ]
         ],
         "xaxis": "x",
         "y": [
          [
           104,
           104
          ],
          [
           105,
           105
          ]
         ],
         "yaxis": "y"
        },
        {
         "marker": {
          "symbol": "circle"
         },
         "mode": "markers",
         "name": "spout_trial_time",
         "type": "scatter",
         "x": [
          [
           0.271,
           0.295
          ],
          [
           0.271,
           0.295
          ]
         ],
         "xaxis": "x",
         "y": [
          [
           105,
           105
          ],
          [
           106,
           106
          ]
         ],
         "yaxis": "y"
        },
        {
         "marker": {
          "symbol": "circle"
         },
         "mode": "markers",
         "name": "spout_trial_time",
         "type": "scatter",
         "x": [
          [
           0.136,
           0.161,
           0.681,
           0.699,
           1.221,
           1.332,
           1.464,
           2.125,
           2.913,
           5.372
          ],
          [
           0.136,
           0.161,
           0.681,
           0.699,
           1.221,
           1.332,
           1.464,
           2.125,
           2.913,
           5.372
          ]
         ],
         "xaxis": "x",
         "y": [
          [
           106,
           106,
           106,
           106,
           106,
           106,
           106,
           106,
           106,
           106
          ],
          [
           107,
           107,
           107,
           107,
           107,
           107,
           107,
           107,
           107,
           107
          ]
         ],
         "yaxis": "y"
        },
        {
         "marker": {
          "symbol": "circle"
         },
         "mode": "markers",
         "name": "spout_trial_time",
         "type": "scatter",
         "x": [
          [
           1.16,
           1.175,
           1.307,
           1.332,
           2.427,
           2.442
          ],
          [
           1.16,
           1.175,
           1.307,
           1.332,
           2.427,
           2.442
          ]
         ],
         "xaxis": "x",
         "y": [
          [
           107,
           107,
           107,
           107,
           107,
           107
          ],
          [
           108,
           108,
           108,
           108,
           108,
           108
          ]
         ],
         "yaxis": "y"
        },
        {
         "marker": {
          "symbol": "circle"
         },
         "mode": "markers",
         "name": "spout_trial_time",
         "type": "scatter",
         "x": [
          [
           1.926,
           2.071,
           2.087
          ],
          [
           1.926,
           2.071,
           2.087
          ]
         ],
         "xaxis": "x",
         "y": [
          [
           108,
           108,
           108
          ],
          [
           109,
           109,
           109
          ]
         ],
         "yaxis": "y"
        },
        {
         "marker": {
          "symbol": "circle"
         },
         "mode": "markers",
         "name": "spout_trial_time",
         "type": "scatter",
         "x": [
          [],
          []
         ],
         "xaxis": "x",
         "y": [
          [],
          []
         ],
         "yaxis": "y"
        },
        {
         "marker": {
          "symbol": "circle"
         },
         "mode": "markers",
         "name": "spout_trial_time",
         "type": "scatter",
         "x": [
          [],
          []
         ],
         "xaxis": "x",
         "y": [
          [],
          []
         ],
         "yaxis": "y"
        },
        {
         "marker": {
          "symbol": "circle"
         },
         "mode": "markers",
         "name": "spout_trial_time",
         "type": "scatter",
         "x": [
          [],
          []
         ],
         "xaxis": "x",
         "y": [
          [],
          []
         ],
         "yaxis": "y"
        },
        {
         "marker": {
          "symbol": "circle"
         },
         "mode": "markers",
         "name": "spout_trial_time",
         "type": "scatter",
         "x": [
          [],
          []
         ],
         "xaxis": "x",
         "y": [
          [],
          []
         ],
         "yaxis": "y"
        },
        {
         "marker": {
          "symbol": "circle"
         },
         "mode": "markers",
         "name": "spout_trial_time",
         "type": "scatter",
         "x": [
          [],
          []
         ],
         "xaxis": "x",
         "y": [
          [],
          []
         ],
         "yaxis": "y"
        },
        {
         "marker": {
          "symbol": "circle"
         },
         "mode": "markers",
         "name": "spout_trial_time",
         "type": "scatter",
         "x": [
          [],
          []
         ],
         "xaxis": "x",
         "y": [
          [],
          []
         ],
         "yaxis": "y"
        },
        {
         "marker": {
          "symbol": "circle"
         },
         "mode": "markers",
         "name": "spout_trial_time",
         "type": "scatter",
         "x": [
          [],
          []
         ],
         "xaxis": "x",
         "y": [
          [],
          []
         ],
         "yaxis": "y"
        },
        {
         "marker": {
          "symbol": "circle"
         },
         "mode": "markers",
         "name": "spout_trial_time",
         "type": "scatter",
         "x": [
          [],
          []
         ],
         "xaxis": "x",
         "y": [
          [],
          []
         ],
         "yaxis": "y"
        },
        {
         "marker": {
          "symbol": "circle"
         },
         "mode": "markers",
         "name": "spout_trial_time",
         "type": "scatter",
         "x": [
          [],
          []
         ],
         "xaxis": "x",
         "y": [
          [],
          []
         ],
         "yaxis": "y"
        },
        {
         "marker": {
          "symbol": "circle"
         },
         "mode": "markers",
         "name": "spout_trial_time",
         "type": "scatter",
         "x": [
          [],
          []
         ],
         "xaxis": "x",
         "y": [
          [],
          []
         ],
         "yaxis": "y"
        },
        {
         "marker": {
          "symbol": "circle"
         },
         "mode": "markers",
         "name": "spout_trial_time",
         "type": "scatter",
         "x": [
          [],
          []
         ],
         "xaxis": "x",
         "y": [
          [],
          []
         ],
         "yaxis": "y"
        },
        {
         "marker": {
          "symbol": "circle"
         },
         "mode": "markers",
         "name": "spout_trial_time",
         "type": "scatter",
         "x": [
          [],
          []
         ],
         "xaxis": "x",
         "y": [
          [],
          []
         ],
         "yaxis": "y"
        },
        {
         "marker": {
          "symbol": "circle"
         },
         "mode": "markers",
         "name": "spout_trial_time",
         "type": "scatter",
         "x": [
          [
           2.132,
           2.269,
           2.445
          ],
          [
           2.132,
           2.269,
           2.445
          ]
         ],
         "xaxis": "x",
         "y": [
          [
           121,
           121,
           121
          ],
          [
           122,
           122,
           122
          ]
         ],
         "yaxis": "y"
        },
        {
         "marker": {
          "symbol": "circle"
         },
         "mode": "markers",
         "name": "spout_trial_time",
         "type": "scatter",
         "x": [
          [],
          []
         ],
         "xaxis": "x",
         "y": [
          [],
          []
         ],
         "yaxis": "y"
        },
        {
         "marker": {
          "symbol": "circle"
         },
         "mode": "markers",
         "name": "spout_trial_time",
         "type": "scatter",
         "x": [
          [],
          []
         ],
         "xaxis": "x",
         "y": [
          [],
          []
         ],
         "yaxis": "y"
        },
        {
         "marker": {
          "symbol": "circle"
         },
         "mode": "markers",
         "name": "spout_trial_time",
         "type": "scatter",
         "x": [
          [],
          []
         ],
         "xaxis": "x",
         "y": [
          [],
          []
         ],
         "yaxis": "y"
        },
        {
         "marker": {
          "symbol": "circle"
         },
         "mode": "markers",
         "name": "spout_trial_time",
         "type": "scatter",
         "x": [
          [],
          []
         ],
         "xaxis": "x",
         "y": [
          [],
          []
         ],
         "yaxis": "y"
        },
        {
         "marker": {
          "symbol": "circle"
         },
         "mode": "markers",
         "name": "spout_trial_time",
         "type": "scatter",
         "x": [
          [],
          []
         ],
         "xaxis": "x",
         "y": [
          [],
          []
         ],
         "yaxis": "y"
        },
        {
         "marker": {
          "symbol": "circle"
         },
         "mode": "markers",
         "name": "spout_trial_time",
         "type": "scatter",
         "x": [
          [],
          []
         ],
         "xaxis": "x",
         "y": [
          [],
          []
         ],
         "yaxis": "y"
        },
        {
         "marker": {
          "symbol": "circle"
         },
         "mode": "markers",
         "name": "spout_trial_time",
         "type": "scatter",
         "x": [
          [],
          []
         ],
         "xaxis": "x",
         "y": [
          [],
          []
         ],
         "yaxis": "y"
        },
        {
         "marker": {
          "symbol": "circle"
         },
         "mode": "markers",
         "name": "spout_trial_time",
         "type": "scatter",
         "x": [
          [],
          []
         ],
         "xaxis": "x",
         "y": [
          [],
          []
         ],
         "yaxis": "y"
        },
        {
         "marker": {
          "symbol": "circle"
         },
         "mode": "markers",
         "name": "spout_trial_time",
         "type": "scatter",
         "x": [
          [],
          []
         ],
         "xaxis": "x",
         "y": [
          [],
          []
         ],
         "yaxis": "y"
        },
        {
         "marker": {
          "symbol": "circle"
         },
         "mode": "markers",
         "name": "spout_trial_time",
         "type": "scatter",
         "x": [
          [],
          []
         ],
         "xaxis": "x",
         "y": [
          [],
          []
         ],
         "yaxis": "y"
        },
        {
         "marker": {
          "symbol": "circle"
         },
         "mode": "markers",
         "name": "spout_trial_time",
         "type": "scatter",
         "x": [
          [],
          []
         ],
         "xaxis": "x",
         "y": [
          [],
          []
         ],
         "yaxis": "y"
        },
        {
         "marker": {
          "symbol": "circle"
         },
         "mode": "markers",
         "name": "spout_trial_time",
         "type": "scatter",
         "x": [
          [],
          []
         ],
         "xaxis": "x",
         "y": [
          [],
          []
         ],
         "yaxis": "y"
        },
        {
         "marker": {
          "symbol": "circle"
         },
         "mode": "markers",
         "name": "spout_trial_time",
         "type": "scatter",
         "x": [
          [],
          []
         ],
         "xaxis": "x",
         "y": [
          [],
          []
         ],
         "yaxis": "y"
        },
        {
         "marker": {
          "symbol": "circle"
         },
         "mode": "markers",
         "name": "spout_trial_time",
         "type": "scatter",
         "x": [
          [],
          []
         ],
         "xaxis": "x",
         "y": [
          [],
          []
         ],
         "yaxis": "y"
        },
        {
         "marker": {
          "symbol": "circle"
         },
         "mode": "markers",
         "name": "spout_trial_time",
         "type": "scatter",
         "x": [
          [],
          []
         ],
         "xaxis": "x",
         "y": [
          [],
          []
         ],
         "yaxis": "y"
        },
        {
         "marker": {
          "symbol": "circle"
         },
         "mode": "markers",
         "name": "spout_trial_time",
         "type": "scatter",
         "x": [
          [],
          []
         ],
         "xaxis": "x",
         "y": [
          [],
          []
         ],
         "yaxis": "y"
        },
        {
         "marker": {
          "symbol": "circle"
         },
         "mode": "markers",
         "name": "spout_trial_time",
         "type": "scatter",
         "x": [
          [],
          []
         ],
         "xaxis": "x",
         "y": [
          [],
          []
         ],
         "yaxis": "y"
        },
        {
         "marker": {
          "symbol": "circle"
         },
         "mode": "markers",
         "name": "spout_trial_time",
         "type": "scatter",
         "x": [
          [],
          []
         ],
         "xaxis": "x",
         "y": [
          [],
          []
         ],
         "yaxis": "y"
        },
        {
         "marker": {
          "symbol": "circle"
         },
         "mode": "markers",
         "name": "spout_trial_time",
         "type": "scatter",
         "x": [
          [],
          []
         ],
         "xaxis": "x",
         "y": [
          [],
          []
         ],
         "yaxis": "y"
        },
        {
         "marker": {
          "symbol": "circle"
         },
         "mode": "markers",
         "name": "spout_trial_time",
         "type": "scatter",
         "x": [
          [],
          []
         ],
         "xaxis": "x",
         "y": [
          [],
          []
         ],
         "yaxis": "y"
        },
        {
         "marker": {
          "symbol": "circle"
         },
         "mode": "markers",
         "name": "spout_trial_time",
         "type": "scatter",
         "x": [
          [],
          []
         ],
         "xaxis": "x",
         "y": [
          [],
          []
         ],
         "yaxis": "y"
        },
        {
         "marker": {
          "symbol": "circle"
         },
         "mode": "markers",
         "name": "spout_trial_time",
         "type": "scatter",
         "x": [
          [],
          []
         ],
         "xaxis": "x",
         "y": [
          [],
          []
         ],
         "yaxis": "y"
        },
        {
         "marker": {
          "symbol": "circle"
         },
         "mode": "markers",
         "name": "spout_trial_time",
         "type": "scatter",
         "x": [
          [],
          []
         ],
         "xaxis": "x",
         "y": [
          [],
          []
         ],
         "yaxis": "y"
        },
        {
         "marker": {
          "symbol": "circle"
         },
         "mode": "markers",
         "name": "spout_trial_time",
         "type": "scatter",
         "x": [
          [],
          []
         ],
         "xaxis": "x",
         "y": [
          [],
          []
         ],
         "yaxis": "y"
        },
        {
         "marker": {
          "symbol": "circle"
         },
         "mode": "markers",
         "name": "spout_trial_time",
         "type": "scatter",
         "x": [
          [],
          []
         ],
         "xaxis": "x",
         "y": [
          [],
          []
         ],
         "yaxis": "y"
        },
        {
         "marker": {
          "symbol": "circle"
         },
         "mode": "markers",
         "name": "spout_trial_time",
         "type": "scatter",
         "x": [
          [],
          []
         ],
         "xaxis": "x",
         "y": [
          [],
          []
         ],
         "yaxis": "y"
        },
        {
         "marker": {
          "symbol": "circle"
         },
         "mode": "markers",
         "name": "spout_trial_time",
         "type": "scatter",
         "x": [
          [],
          []
         ],
         "xaxis": "x",
         "y": [
          [],
          []
         ],
         "yaxis": "y"
        },
        {
         "marker": {
          "symbol": "circle"
         },
         "mode": "markers",
         "name": "spout_trial_time",
         "type": "scatter",
         "x": [
          [],
          []
         ],
         "xaxis": "x",
         "y": [
          [],
          []
         ],
         "yaxis": "y"
        },
        {
         "marker": {
          "symbol": "circle"
         },
         "mode": "markers",
         "name": "spout_trial_time",
         "type": "scatter",
         "x": [
          [
           2.199,
           2.337
          ],
          [
           2.199,
           2.337
          ]
         ],
         "xaxis": "x",
         "y": [
          [
           150,
           150
          ],
          [
           151,
           151
          ]
         ],
         "yaxis": "y"
        },
        {
         "marker": {
          "symbol": "circle"
         },
         "mode": "markers",
         "name": "spout_trial_time",
         "type": "scatter",
         "x": [
          [],
          []
         ],
         "xaxis": "x",
         "y": [
          [],
          []
         ],
         "yaxis": "y"
        },
        {
         "marker": {
          "symbol": "circle"
         },
         "mode": "markers",
         "name": "spout_trial_time",
         "type": "scatter",
         "x": [
          [],
          []
         ],
         "xaxis": "x",
         "y": [
          [],
          []
         ],
         "yaxis": "y"
        },
        {
         "marker": {
          "symbol": "circle"
         },
         "mode": "markers",
         "name": "spout_trial_time",
         "type": "scatter",
         "x": [
          [],
          []
         ],
         "xaxis": "x",
         "y": [
          [],
          []
         ],
         "yaxis": "y"
        },
        {
         "marker": {
          "symbol": "circle"
         },
         "mode": "markers",
         "name": "spout_trial_time",
         "type": "scatter",
         "x": [
          [],
          []
         ],
         "xaxis": "x",
         "y": [
          [],
          []
         ],
         "yaxis": "y"
        },
        {
         "marker": {
          "symbol": "circle"
         },
         "mode": "markers",
         "name": "spout_trial_time",
         "type": "scatter",
         "x": [
          [],
          []
         ],
         "xaxis": "x",
         "y": [
          [],
          []
         ],
         "yaxis": "y"
        },
        {
         "marker": {
          "symbol": "circle"
         },
         "mode": "markers",
         "name": "spout_trial_time",
         "type": "scatter",
         "x": [
          [],
          []
         ],
         "xaxis": "x",
         "y": [
          [],
          []
         ],
         "yaxis": "y"
        },
        {
         "marker": {
          "symbol": "circle"
         },
         "mode": "markers",
         "name": "spout_trial_time",
         "type": "scatter",
         "x": [
          [],
          []
         ],
         "xaxis": "x",
         "y": [
          [],
          []
         ],
         "yaxis": "y"
        },
        {
         "marker": {
          "symbol": "circle"
         },
         "mode": "markers",
         "name": "spout_trial_time",
         "type": "scatter",
         "x": [
          [],
          []
         ],
         "xaxis": "x",
         "y": [
          [],
          []
         ],
         "yaxis": "y"
        },
        {
         "marker": {
          "symbol": "circle"
         },
         "mode": "markers",
         "name": "spout_trial_time",
         "type": "scatter",
         "x": [
          [],
          []
         ],
         "xaxis": "x",
         "y": [
          [],
          []
         ],
         "yaxis": "y"
        },
        {
         "marker": {
          "symbol": "circle"
         },
         "mode": "markers",
         "name": "spout_trial_time",
         "type": "scatter",
         "x": [
          [
           5.413,
           5.429,
           5.45,
           5.47,
           5.558,
           5.606,
           6.078,
           6.472,
           6.662,
           7.146,
           7.171,
           7.301,
           7.68,
           8.067,
           8.211,
           8.319,
           8.851,
           8.884,
           9.233,
           9.274,
           10.028,
           10.875
          ],
          [
           5.413,
           5.429,
           5.45,
           5.47,
           5.558,
           5.606,
           6.078,
           6.472,
           6.662,
           7.146,
           7.171,
           7.301,
           7.68,
           8.067,
           8.211,
           8.319,
           8.851,
           8.884,
           9.233,
           9.274,
           10.028,
           10.875
          ]
         ],
         "xaxis": "x",
         "y": [
          [
           160,
           160,
           160,
           160,
           160,
           160,
           160,
           160,
           160,
           160,
           160,
           160,
           160,
           160,
           160,
           160,
           160,
           160,
           160,
           160,
           160,
           160
          ],
          [
           161,
           161,
           161,
           161,
           161,
           161,
           161,
           161,
           161,
           161,
           161,
           161,
           161,
           161,
           161,
           161,
           161,
           161,
           161,
           161,
           161,
           161
          ]
         ],
         "yaxis": "y"
        }
       ],
       "layout": {
        "template": {
         "data": {
          "bar": [
           {
            "error_x": {
             "color": "#2a3f5f"
            },
            "error_y": {
             "color": "#2a3f5f"
            },
            "marker": {
             "line": {
              "color": "#E5ECF6",
              "width": 0.5
             },
             "pattern": {
              "fillmode": "overlay",
              "size": 10,
              "solidity": 0.2
             }
            },
            "type": "bar"
           }
          ],
          "barpolar": [
           {
            "marker": {
             "line": {
              "color": "#E5ECF6",
              "width": 0.5
             },
             "pattern": {
              "fillmode": "overlay",
              "size": 10,
              "solidity": 0.2
             }
            },
            "type": "barpolar"
           }
          ],
          "carpet": [
           {
            "aaxis": {
             "endlinecolor": "#2a3f5f",
             "gridcolor": "white",
             "linecolor": "white",
             "minorgridcolor": "white",
             "startlinecolor": "#2a3f5f"
            },
            "baxis": {
             "endlinecolor": "#2a3f5f",
             "gridcolor": "white",
             "linecolor": "white",
             "minorgridcolor": "white",
             "startlinecolor": "#2a3f5f"
            },
            "type": "carpet"
           }
          ],
          "choropleth": [
           {
            "colorbar": {
             "outlinewidth": 0,
             "ticks": ""
            },
            "type": "choropleth"
           }
          ],
          "contour": [
           {
            "colorbar": {
             "outlinewidth": 0,
             "ticks": ""
            },
            "colorscale": [
             [
              0,
              "#0d0887"
             ],
             [
              0.1111111111111111,
              "#46039f"
             ],
             [
              0.2222222222222222,
              "#7201a8"
             ],
             [
              0.3333333333333333,
              "#9c179e"
             ],
             [
              0.4444444444444444,
              "#bd3786"
             ],
             [
              0.5555555555555556,
              "#d8576b"
             ],
             [
              0.6666666666666666,
              "#ed7953"
             ],
             [
              0.7777777777777778,
              "#fb9f3a"
             ],
             [
              0.8888888888888888,
              "#fdca26"
             ],
             [
              1,
              "#f0f921"
             ]
            ],
            "type": "contour"
           }
          ],
          "contourcarpet": [
           {
            "colorbar": {
             "outlinewidth": 0,
             "ticks": ""
            },
            "type": "contourcarpet"
           }
          ],
          "heatmap": [
           {
            "colorbar": {
             "outlinewidth": 0,
             "ticks": ""
            },
            "colorscale": [
             [
              0,
              "#0d0887"
             ],
             [
              0.1111111111111111,
              "#46039f"
             ],
             [
              0.2222222222222222,
              "#7201a8"
             ],
             [
              0.3333333333333333,
              "#9c179e"
             ],
             [
              0.4444444444444444,
              "#bd3786"
             ],
             [
              0.5555555555555556,
              "#d8576b"
             ],
             [
              0.6666666666666666,
              "#ed7953"
             ],
             [
              0.7777777777777778,
              "#fb9f3a"
             ],
             [
              0.8888888888888888,
              "#fdca26"
             ],
             [
              1,
              "#f0f921"
             ]
            ],
            "type": "heatmap"
           }
          ],
          "heatmapgl": [
           {
            "colorbar": {
             "outlinewidth": 0,
             "ticks": ""
            },
            "colorscale": [
             [
              0,
              "#0d0887"
             ],
             [
              0.1111111111111111,
              "#46039f"
             ],
             [
              0.2222222222222222,
              "#7201a8"
             ],
             [
              0.3333333333333333,
              "#9c179e"
             ],
             [
              0.4444444444444444,
              "#bd3786"
             ],
             [
              0.5555555555555556,
              "#d8576b"
             ],
             [
              0.6666666666666666,
              "#ed7953"
             ],
             [
              0.7777777777777778,
              "#fb9f3a"
             ],
             [
              0.8888888888888888,
              "#fdca26"
             ],
             [
              1,
              "#f0f921"
             ]
            ],
            "type": "heatmapgl"
           }
          ],
          "histogram": [
           {
            "marker": {
             "pattern": {
              "fillmode": "overlay",
              "size": 10,
              "solidity": 0.2
             }
            },
            "type": "histogram"
           }
          ],
          "histogram2d": [
           {
            "colorbar": {
             "outlinewidth": 0,
             "ticks": ""
            },
            "colorscale": [
             [
              0,
              "#0d0887"
             ],
             [
              0.1111111111111111,
              "#46039f"
             ],
             [
              0.2222222222222222,
              "#7201a8"
             ],
             [
              0.3333333333333333,
              "#9c179e"
             ],
             [
              0.4444444444444444,
              "#bd3786"
             ],
             [
              0.5555555555555556,
              "#d8576b"
             ],
             [
              0.6666666666666666,
              "#ed7953"
             ],
             [
              0.7777777777777778,
              "#fb9f3a"
             ],
             [
              0.8888888888888888,
              "#fdca26"
             ],
             [
              1,
              "#f0f921"
             ]
            ],
            "type": "histogram2d"
           }
          ],
          "histogram2dcontour": [
           {
            "colorbar": {
             "outlinewidth": 0,
             "ticks": ""
            },
            "colorscale": [
             [
              0,
              "#0d0887"
             ],
             [
              0.1111111111111111,
              "#46039f"
             ],
             [
              0.2222222222222222,
              "#7201a8"
             ],
             [
              0.3333333333333333,
              "#9c179e"
             ],
             [
              0.4444444444444444,
              "#bd3786"
             ],
             [
              0.5555555555555556,
              "#d8576b"
             ],
             [
              0.6666666666666666,
              "#ed7953"
             ],
             [
              0.7777777777777778,
              "#fb9f3a"
             ],
             [
              0.8888888888888888,
              "#fdca26"
             ],
             [
              1,
              "#f0f921"
             ]
            ],
            "type": "histogram2dcontour"
           }
          ],
          "mesh3d": [
           {
            "colorbar": {
             "outlinewidth": 0,
             "ticks": ""
            },
            "type": "mesh3d"
           }
          ],
          "parcoords": [
           {
            "line": {
             "colorbar": {
              "outlinewidth": 0,
              "ticks": ""
             }
            },
            "type": "parcoords"
           }
          ],
          "pie": [
           {
            "automargin": true,
            "type": "pie"
           }
          ],
          "scatter": [
           {
            "fillpattern": {
             "fillmode": "overlay",
             "size": 10,
             "solidity": 0.2
            },
            "type": "scatter"
           }
          ],
          "scatter3d": [
           {
            "line": {
             "colorbar": {
              "outlinewidth": 0,
              "ticks": ""
             }
            },
            "marker": {
             "colorbar": {
              "outlinewidth": 0,
              "ticks": ""
             }
            },
            "type": "scatter3d"
           }
          ],
          "scattercarpet": [
           {
            "marker": {
             "colorbar": {
              "outlinewidth": 0,
              "ticks": ""
             }
            },
            "type": "scattercarpet"
           }
          ],
          "scattergeo": [
           {
            "marker": {
             "colorbar": {
              "outlinewidth": 0,
              "ticks": ""
             }
            },
            "type": "scattergeo"
           }
          ],
          "scattergl": [
           {
            "marker": {
             "colorbar": {
              "outlinewidth": 0,
              "ticks": ""
             }
            },
            "type": "scattergl"
           }
          ],
          "scattermapbox": [
           {
            "marker": {
             "colorbar": {
              "outlinewidth": 0,
              "ticks": ""
             }
            },
            "type": "scattermapbox"
           }
          ],
          "scatterpolar": [
           {
            "marker": {
             "colorbar": {
              "outlinewidth": 0,
              "ticks": ""
             }
            },
            "type": "scatterpolar"
           }
          ],
          "scatterpolargl": [
           {
            "marker": {
             "colorbar": {
              "outlinewidth": 0,
              "ticks": ""
             }
            },
            "type": "scatterpolargl"
           }
          ],
          "scatterternary": [
           {
            "marker": {
             "colorbar": {
              "outlinewidth": 0,
              "ticks": ""
             }
            },
            "type": "scatterternary"
           }
          ],
          "surface": [
           {
            "colorbar": {
             "outlinewidth": 0,
             "ticks": ""
            },
            "colorscale": [
             [
              0,
              "#0d0887"
             ],
             [
              0.1111111111111111,
              "#46039f"
             ],
             [
              0.2222222222222222,
              "#7201a8"
             ],
             [
              0.3333333333333333,
              "#9c179e"
             ],
             [
              0.4444444444444444,
              "#bd3786"
             ],
             [
              0.5555555555555556,
              "#d8576b"
             ],
             [
              0.6666666666666666,
              "#ed7953"
             ],
             [
              0.7777777777777778,
              "#fb9f3a"
             ],
             [
              0.8888888888888888,
              "#fdca26"
             ],
             [
              1,
              "#f0f921"
             ]
            ],
            "type": "surface"
           }
          ],
          "table": [
           {
            "cells": {
             "fill": {
              "color": "#EBF0F8"
             },
             "line": {
              "color": "white"
             }
            },
            "header": {
             "fill": {
              "color": "#C8D4E3"
             },
             "line": {
              "color": "white"
             }
            },
            "type": "table"
           }
          ]
         },
         "layout": {
          "annotationdefaults": {
           "arrowcolor": "#2a3f5f",
           "arrowhead": 0,
           "arrowwidth": 1
          },
          "autotypenumbers": "strict",
          "coloraxis": {
           "colorbar": {
            "outlinewidth": 0,
            "ticks": ""
           }
          },
          "colorscale": {
           "diverging": [
            [
             0,
             "#8e0152"
            ],
            [
             0.1,
             "#c51b7d"
            ],
            [
             0.2,
             "#de77ae"
            ],
            [
             0.3,
             "#f1b6da"
            ],
            [
             0.4,
             "#fde0ef"
            ],
            [
             0.5,
             "#f7f7f7"
            ],
            [
             0.6,
             "#e6f5d0"
            ],
            [
             0.7,
             "#b8e186"
            ],
            [
             0.8,
             "#7fbc41"
            ],
            [
             0.9,
             "#4d9221"
            ],
            [
             1,
             "#276419"
            ]
           ],
           "sequential": [
            [
             0,
             "#0d0887"
            ],
            [
             0.1111111111111111,
             "#46039f"
            ],
            [
             0.2222222222222222,
             "#7201a8"
            ],
            [
             0.3333333333333333,
             "#9c179e"
            ],
            [
             0.4444444444444444,
             "#bd3786"
            ],
            [
             0.5555555555555556,
             "#d8576b"
            ],
            [
             0.6666666666666666,
             "#ed7953"
            ],
            [
             0.7777777777777778,
             "#fb9f3a"
            ],
            [
             0.8888888888888888,
             "#fdca26"
            ],
            [
             1,
             "#f0f921"
            ]
           ],
           "sequentialminus": [
            [
             0,
             "#0d0887"
            ],
            [
             0.1111111111111111,
             "#46039f"
            ],
            [
             0.2222222222222222,
             "#7201a8"
            ],
            [
             0.3333333333333333,
             "#9c179e"
            ],
            [
             0.4444444444444444,
             "#bd3786"
            ],
            [
             0.5555555555555556,
             "#d8576b"
            ],
            [
             0.6666666666666666,
             "#ed7953"
            ],
            [
             0.7777777777777778,
             "#fb9f3a"
            ],
            [
             0.8888888888888888,
             "#fdca26"
            ],
            [
             1,
             "#f0f921"
            ]
           ]
          },
          "colorway": [
           "#636efa",
           "#EF553B",
           "#00cc96",
           "#ab63fa",
           "#FFA15A",
           "#19d3f3",
           "#FF6692",
           "#B6E880",
           "#FF97FF",
           "#FECB52"
          ],
          "font": {
           "color": "#2a3f5f"
          },
          "geo": {
           "bgcolor": "white",
           "lakecolor": "white",
           "landcolor": "#E5ECF6",
           "showlakes": true,
           "showland": true,
           "subunitcolor": "white"
          },
          "hoverlabel": {
           "align": "left"
          },
          "hovermode": "closest",
          "mapbox": {
           "style": "light"
          },
          "paper_bgcolor": "white",
          "plot_bgcolor": "#E5ECF6",
          "polar": {
           "angularaxis": {
            "gridcolor": "white",
            "linecolor": "white",
            "ticks": ""
           },
           "bgcolor": "#E5ECF6",
           "radialaxis": {
            "gridcolor": "white",
            "linecolor": "white",
            "ticks": ""
           }
          },
          "scene": {
           "xaxis": {
            "backgroundcolor": "#E5ECF6",
            "gridcolor": "white",
            "gridwidth": 2,
            "linecolor": "white",
            "showbackground": true,
            "ticks": "",
            "zerolinecolor": "white"
           },
           "yaxis": {
            "backgroundcolor": "#E5ECF6",
            "gridcolor": "white",
            "gridwidth": 2,
            "linecolor": "white",
            "showbackground": true,
            "ticks": "",
            "zerolinecolor": "white"
           },
           "zaxis": {
            "backgroundcolor": "#E5ECF6",
            "gridcolor": "white",
            "gridwidth": 2,
            "linecolor": "white",
            "showbackground": true,
            "ticks": "",
            "zerolinecolor": "white"
           }
          },
          "shapedefaults": {
           "line": {
            "color": "#2a3f5f"
           }
          },
          "ternary": {
           "aaxis": {
            "gridcolor": "white",
            "linecolor": "white",
            "ticks": ""
           },
           "baxis": {
            "gridcolor": "white",
            "linecolor": "white",
            "ticks": ""
           },
           "bgcolor": "#E5ECF6",
           "caxis": {
            "gridcolor": "white",
            "linecolor": "white",
            "ticks": ""
           }
          },
          "title": {
           "x": 0.05
          },
          "xaxis": {
           "automargin": true,
           "gridcolor": "white",
           "linecolor": "white",
           "ticks": "",
           "title": {
            "standoff": 15
           },
           "zerolinecolor": "white",
           "zerolinewidth": 2
          },
          "yaxis": {
           "automargin": true,
           "gridcolor": "white",
           "linecolor": "white",
           "ticks": "",
           "title": {
            "standoff": 15
           },
           "zerolinecolor": "white",
           "zerolinewidth": 2
          }
         }
        },
        "xaxis": {
         "anchor": "y",
         "domain": [
          0,
          1
         ]
        },
        "yaxis": {
         "anchor": "x",
         "domain": [
          0,
          1
         ]
        }
       }
      }
     },
     "metadata": {},
     "output_type": "display_data"
    }
   ],
   "source": [
    "\n",
    "fig = make_subplots(\n",
    "    rows= 1,\n",
    "    cols= 1, \n",
    "    )\n",
    "\n",
    "fig.show()\n",
    "df_subset = ev_dataset.data.loc[(ev_dataset.data['trigger'] == trigger) & (\n",
    "    ev_dataset.metadata_df['keep']), :]\n",
    "df_subset = df_subset.reset_index(drop=True)\n",
    "\n",
    "\n",
    "\n",
    "event_col = 'spout_trial_time'\n",
    "\n",
    "for r in range(0, df_subset.shape[0]):\n",
    "    ev_times = df_subset.at[r, event_col]\n",
    "\n",
    "    X = np.array(ev_times)\n",
    "    X.shape = (1, len(X))\n",
    "    X = np.tile(X, (2, 1))/1000  # ms\n",
    "\n",
    "\n",
    "    Y = np.array([r, r+1])\n",
    "    Y.shape = (2, 1)\n",
    "    Y = np.tile(Y, (1, X.shape[1]))\n",
    "\n",
    "    fig.add_trace(\n",
    "        go.Scatter(\n",
    "            x=X,\n",
    "            y=Y,\n",
    "            name=event_col,\n",
    "            marker_symbol='circle',\n",
    "            mode='markers',\n",
    "            connectgaps=False\n",
    "            ), row= 1, col = 1)\n",
    "\n",
    "fig.show()"
   ]
  },
  {
   "cell_type": "code",
   "execution_count": 32,
   "metadata": {},
   "outputs": [
    {
     "name": "stdout",
     "output_type": "stream",
     "text": [
      "Figure({\n",
      "    'data': [],\n",
      "    'layout': {'template': '...',\n",
      "               'xaxis': {'anchor': 'y', 'domain': [0.0, 0.45], 'matches': 'x9', 'showticklabels': False},\n",
      "               'xaxis10': {'anchor': 'y10', 'domain': [0.55, 1.0]},\n",
      "               'xaxis2': {'anchor': 'y2', 'domain': [0.55, 1.0], 'matches': 'x10', 'showticklabels': False},\n",
      "               'xaxis3': {'anchor': 'y3', 'domain': [0.0, 0.45], 'matches': 'x9', 'showticklabels': False},\n",
      "               'xaxis4': {'anchor': 'y4', 'domain': [0.55, 1.0], 'matches': 'x10', 'showticklabels': False},\n",
      "               'xaxis5': {'anchor': 'y5', 'domain': [0.0, 0.45], 'matches': 'x9', 'showticklabels': False},\n",
      "               'xaxis6': {'anchor': 'y6', 'domain': [0.55, 1.0], 'matches': 'x10', 'showticklabels': False},\n",
      "               'xaxis7': {'anchor': 'y7', 'domain': [0.0, 0.45], 'matches': 'x9', 'showticklabels': False},\n",
      "               'xaxis8': {'anchor': 'y8', 'domain': [0.55, 1.0], 'matches': 'x10', 'showticklabels': False},\n",
      "               'xaxis9': {'anchor': 'y9', 'domain': [0.0, 0.45]},\n",
      "               'yaxis': {'anchor': 'x', 'domain': [0.848, 1.0]},\n",
      "               'yaxis10': {'anchor': 'x10', 'domain': [0.0, 0.152]},\n",
      "               'yaxis2': {'anchor': 'x2', 'domain': [0.848, 1.0]},\n",
      "               'yaxis3': {'anchor': 'x3', 'domain': [0.6359999999999999, 0.7879999999999999]},\n",
      "               'yaxis4': {'anchor': 'x4', 'domain': [0.6359999999999999, 0.7879999999999999]},\n",
      "               'yaxis5': {'anchor': 'x5', 'domain': [0.424, 0.576]},\n",
      "               'yaxis6': {'anchor': 'x6', 'domain': [0.424, 0.576]},\n",
      "               'yaxis7': {'anchor': 'x7', 'domain': [0.212, 0.364]},\n",
      "               'yaxis8': {'anchor': 'x8', 'domain': [0.212, 0.364]},\n",
      "               'yaxis9': {'anchor': 'x9', 'domain': [0.0, 0.152]}}\n",
      "})\n",
      "<class 'plotly.graph_objs._figure.Figure'>\n"
     ]
    }
   ],
   "source": [
    "fig = make_subplots(\n",
    "    rows= 5, \n",
    "    cols= 2, \n",
    "    shared_xaxes= True,\n",
    "    )\n",
    "\n",
    "print(fig)\n",
    "print(fig.__class__)\n"
   ]
  },
  {
   "cell_type": "code",
   "execution_count": 30,
   "metadata": {},
   "outputs": [],
   "source": [
    "\n",
    "from plotly.validators.scatter.marker import SymbolValidator\n",
    "from plotly.subplots import make_subplots\n",
    "\n",
    "def plot_trials(session):\n",
    "\n",
    "    raw_symbols  = SymbolValidator().values\n",
    "    symbols = [raw_symbols[i+2] for i in range(0, len(raw_symbols), 12)]\n",
    "\n",
    "    event_cols = [event_col for event_col in session.df_events.columns if '_trial_time' in event_col]\n",
    "    event_names = [event_col.split('_trial_time')[0] for event_col in event_cols]\n",
    "\n",
    "    plot_names =  [trig + ' ' + event for event in session.events_to_process for trig in session.triggers]\n",
    "\n",
    "    fig = make_subplots(\n",
    "        rows= len(event_cols), \n",
    "        cols= len(session.triggers), \n",
    "        shared_xaxes= True,\n",
    "        subplot_titles= plot_names\n",
    "    )\n",
    "\n",
    "    for trig_idx, trigger in enumerate(session.triggers):\n",
    "        \n",
    "        # sub-selection of df_events based on trigger, should be condition for event_dataset class\n",
    "        df_subset = session.df_events[session.df_events.trigger == trigger]\n",
    "\n",
    "        for ev_idx, event_col in enumerate(event_cols):\n",
    "\n",
    "            ev_times = df_subset[event_cols[0]].apply(lambda x: np.array(x)).values\n",
    "            ev_trial_nb = [np.ones(len(array)) * df_subset.index[idx] for idx, array in enumerate(ev_times)]\n",
    "\n",
    "            ev_trial_nb = np.concatenate(ev_trial_nb)\n",
    "            ev_times =  np.concatenate(ev_times)\n",
    "\n",
    "            fig.add_trace(\n",
    "                go.Scatter(\n",
    "                    x=ev_times/1000,\n",
    "                    y=ev_trial_nb,\n",
    "                    name=event_names[ev_idx],\n",
    "                    mode='markers',\n",
    "                    marker_symbol=symbols[ev_idx % 40]\n",
    "\n",
    "                ), row= ev_idx+1, col = trig_idx+1)\n",
    "\n",
    "            fig.update_xaxes(\n",
    "                ticks=\"inside\",\n",
    "                ticklen=6,\n",
    "                tickwidth=2,\n",
    "                tickfont_size=12,\n",
    "                range=[session.trial_window[0]/1000, session.trial_window[1]/1000],\n",
    "                showline=True,\n",
    "                linecolor='black'\n",
    "                )\n",
    "            \n",
    "            fig.update_yaxes(    \n",
    "                ticks=\"inside\",\n",
    "                ticklen=6,\n",
    "                tickwidth=2,   \n",
    "                tickfont_size=12,\n",
    "                showline=True,\n",
    "                linecolor='black'\n",
    "                )\n",
    "\n",
    "\n",
    "    fig.update_layout(\n",
    "\n",
    "        height=800,\n",
    "        width=600,\n",
    "    )\n",
    "\n",
    "    fig.show()\n",
    "            "
   ]
  },
  {
   "cell_type": "code",
   "execution_count": null,
   "metadata": {},
   "outputs": [
    {
     "ename": "",
     "evalue": "",
     "output_type": "error",
     "traceback": [
      "\u001b[1;31mnotebook controller is DISPOSED. \n",
      "\u001b[1;31mView Jupyter <a href='command:jupyter.viewOutput'>log</a> for further details."
     ]
    },
    {
     "ename": "",
     "evalue": "",
     "output_type": "error",
     "traceback": [
      "\u001b[1;31mnotebook controller is DISPOSED. \n",
      "\u001b[1;31mView Jupyter <a href='command:jupyter.viewOutput'>log</a> for further details."
     ]
    },
    {
     "ename": "",
     "evalue": "",
     "output_type": "error",
     "traceback": [
      "\u001b[1;31mnotebook controller is DISPOSED. \n",
      "\u001b[1;31mView Jupyter <a href='command:jupyter.viewOutput'>log</a> for further details."
     ]
    }
   ],
   "source": []
  },
  {
   "cell_type": "code",
   "execution_count": null,
   "metadata": {},
   "outputs": [
    {
     "data": {
      "application/vnd.plotly.v1+json": {
       "config": {
        "plotlyServerURL": "https://plot.ly"
       },
       "data": [
        {
         "marker": {
          "symbol": "circle"
         },
         "mode": "markers",
         "name": "bar",
         "type": "scatter",
         "x": [
          11.533,
          11.625,
          11.841,
          11.882,
          11.996,
          12.221,
          12.298,
          19.644,
          20.393,
          6.925,
          7.02,
          1.217,
          6.169,
          6.933,
          8.663,
          7.103,
          7.131,
          3.552,
          4.484,
          4.55,
          1.526,
          1.602,
          1.842,
          3.831,
          5.719,
          3.194,
          8.191,
          9.257,
          9.321,
          4.273,
          4.331,
          12.585,
          12.734,
          12.818,
          12.841,
          1.328,
          1.436,
          1.466,
          8.791,
          9.346,
          9.365,
          20.876,
          9.672,
          5.915,
          6.132,
          6.59,
          6.631,
          33.613,
          7.141,
          13.355,
          17.05,
          34.361,
          7.703,
          7.762,
          21.708,
          21.762,
          22.395,
          25.109,
          25.235,
          51.463,
          52.255,
          52.285,
          52.413,
          9.678,
          9.762,
          10.609,
          10.738,
          10.79,
          11.917,
          15.101,
          15.16,
          15.197,
          15.247,
          15.318,
          15.529,
          19.246,
          43.703,
          43.778,
          46.473,
          47.936,
          48.063,
          0.333,
          0.397,
          19.67,
          19.899,
          21.666,
          39.081,
          0.884,
          0.971,
          12.179,
          4.545,
          23.623,
          2.429,
          2.606,
          2.678,
          3.091,
          3.651,
          3.738,
          4.556,
          32.7,
          33.98,
          34.214,
          60.356,
          8.412,
          17.196,
          18.467,
          5.844,
          13.145,
          6.348,
          6.499,
          6.686,
          18.967,
          20.296,
          23.435,
          23.726,
          26.899,
          27.208,
          27.537,
          7.141,
          8.617,
          8.729,
          8.808,
          9.11,
          10.36,
          11.377,
          2.748,
          2.785,
          3.133,
          17.637,
          19.803,
          20.106,
          20.788,
          23.542,
          19.929,
          2.645,
          14.719,
          17.483,
          30.987,
          2.77,
          2.954,
          10.245,
          10.361,
          15.105,
          20.014,
          20.09,
          22.821,
          35.568,
          27.326,
          30.125,
          30.949,
          31.305,
          31.419,
          31.5,
          31.744,
          31.835,
          1.061,
          7.414,
          6.477,
          6.687,
          7.407,
          7.791,
          7.899,
          13.959,
          14.237,
          14.522,
          15.549,
          15.973,
          17.301,
          4.72,
          9.255,
          11.745,
          11.942,
          11.987,
          12.266,
          25.324,
          25.384,
          27.262,
          31.296,
          31.728,
          41.375,
          41.62,
          42.392,
          43.01,
          44.023
         ],
         "xaxis": "x",
         "y": [
          1,
          1,
          1,
          1,
          1,
          1,
          1,
          1,
          1,
          2,
          2,
          4,
          4,
          4,
          4,
          6,
          6,
          7,
          7,
          7,
          8,
          8,
          8,
          8,
          8,
          12,
          15,
          16,
          16,
          17,
          17,
          19,
          19,
          19,
          19,
          21,
          21,
          21,
          21,
          21,
          21,
          21,
          25,
          27,
          27,
          27,
          27,
          27,
          28,
          29,
          29,
          29,
          30,
          30,
          31,
          31,
          31,
          31,
          31,
          31,
          31,
          31,
          31,
          32,
          32,
          32,
          32,
          32,
          32,
          32,
          32,
          32,
          32,
          32,
          32,
          32,
          32,
          32,
          32,
          32,
          32,
          33,
          33,
          33,
          33,
          33,
          33,
          34,
          34,
          35,
          36,
          36,
          37,
          37,
          37,
          37,
          37,
          37,
          37,
          38,
          38,
          38,
          38,
          39,
          39,
          39,
          40,
          40,
          41,
          41,
          41,
          41,
          41,
          41,
          41,
          41,
          41,
          41,
          42,
          43,
          43,
          43,
          43,
          43,
          43,
          44,
          44,
          44,
          44,
          44,
          44,
          44,
          44,
          45,
          46,
          46,
          46,
          46,
          47,
          47,
          47,
          47,
          47,
          47,
          47,
          47,
          47,
          48,
          48,
          48,
          48,
          48,
          48,
          48,
          48,
          50,
          51,
          52,
          52,
          52,
          52,
          52,
          58,
          58,
          58,
          58,
          58,
          58,
          59,
          59,
          60,
          60,
          60,
          60,
          60,
          60,
          60,
          60,
          60,
          60,
          60,
          60,
          60,
          60
         ],
         "yaxis": "y"
        },
        {
         "marker": {
          "symbol": "square"
         },
         "mode": "markers",
         "name": "bar_off",
         "type": "scatter",
         "x": [
          11.61,
          11.826,
          11.867,
          11.976,
          12.012,
          12.282,
          12.595,
          20.341,
          6.886,
          6.941,
          1.157,
          6.044,
          6.876,
          8.634,
          6.72,
          7.118,
          3.135,
          4.44,
          4.531,
          1.32,
          1.541,
          1.812,
          1.981,
          4.908,
          3.158,
          8.124,
          9.224,
          9.286,
          4.244,
          4.316,
          12.455,
          12.719,
          12.746,
          12.834,
          1.274,
          1.4,
          1.451,
          8.493,
          9.044,
          9.361,
          9.444,
          9.636,
          4.98,
          5.931,
          6.525,
          6.613,
          13.493,
          1.036,
          0.282,
          15.626,
          20.638,
          2.342,
          7.718,
          1.184,
          21.734,
          22.119,
          25.067,
          25.19,
          25.577,
          52.236,
          52.27,
          52.397,
          0.982,
          9.743,
          10.553,
          10.7,
          10.753,
          11.137,
          12.411,
          15.145,
          15.182,
          15.211,
          15.262,
          15.486,
          19.116,
          19.302,
          43.763,
          44.241,
          47.921,
          47.971,
          0.266,
          0.369,
          0.412,
          19.884,
          21.615,
          25.866,
          0.627,
          0.913,
          3.647,
          1.147,
          7.019,
          0.585,
          2.591,
          2.628,
          3.068,
          3.623,
          3.709,
          4.064,
          0.618,
          32.765,
          33.995,
          36.969,
          4.248,
          12.147,
          18.385,
          0.831,
          11.837,
          5.425,
          6.445,
          6.622,
          11.784,
          19.561,
          20.974,
          23.595,
          24.122,
          27.143,
          27.511,
          7.04,
          8.419,
          8.632,
          8.744,
          8.997,
          10.268,
          11.304,
          1.706,
          2.763,
          3.084,
          10.581,
          19.388,
          20.09,
          20.201,
          22.545,
          0.637,
          1.367,
          9.112,
          15.417,
          18.601,
          2.743,
          2.785,
          7.172,
          10.27,
          13.612,
          17.987,
          20.059,
          22.507,
          25.715,
          0.975,
          28.808,
          30.832,
          30.964,
          31.4,
          31.484,
          31.7,
          31.804,
          0.846,
          7.33,
          6.315,
          6.615,
          7.352,
          7.731,
          7.806,
          13.868,
          14.182,
          14.488,
          15.019,
          15.689,
          17.166,
          4.592,
          9.087,
          11.069,
          11.76,
          11.972,
          11.988,
          12.282,
          25.36,
          27.235,
          27.277,
          31.706,
          32.058,
          41.575,
          42.312,
          42.991,
          43.026
         ],
         "xaxis": "x3",
         "y": [
          1,
          1,
          1,
          1,
          1,
          1,
          1,
          1,
          2,
          2,
          4,
          4,
          4,
          4,
          6,
          6,
          7,
          7,
          7,
          8,
          8,
          8,
          8,
          8,
          12,
          15,
          16,
          16,
          17,
          17,
          19,
          19,
          19,
          19,
          21,
          21,
          21,
          21,
          21,
          21,
          21,
          25,
          27,
          27,
          27,
          27,
          27,
          28,
          29,
          29,
          29,
          30,
          30,
          31,
          31,
          31,
          31,
          31,
          31,
          31,
          31,
          31,
          32,
          32,
          32,
          32,
          32,
          32,
          32,
          32,
          32,
          32,
          32,
          32,
          32,
          32,
          32,
          32,
          32,
          32,
          33,
          33,
          33,
          33,
          33,
          33,
          34,
          34,
          35,
          36,
          36,
          37,
          37,
          37,
          37,
          37,
          37,
          37,
          38,
          38,
          38,
          38,
          39,
          39,
          39,
          40,
          40,
          41,
          41,
          41,
          41,
          41,
          41,
          41,
          41,
          41,
          41,
          42,
          43,
          43,
          43,
          43,
          43,
          43,
          44,
          44,
          44,
          44,
          44,
          44,
          44,
          44,
          45,
          46,
          46,
          46,
          46,
          47,
          47,
          47,
          47,
          47,
          47,
          47,
          47,
          47,
          48,
          48,
          48,
          48,
          48,
          48,
          48,
          48,
          50,
          51,
          52,
          52,
          52,
          52,
          52,
          58,
          58,
          58,
          58,
          58,
          58,
          59,
          59,
          60,
          60,
          60,
          60,
          60,
          60,
          60,
          60,
          60,
          60,
          60,
          60,
          60,
          60
         ],
         "yaxis": "y3"
        },
        {
         "marker": {
          "symbol": "diamond"
         },
         "mode": "markers",
         "name": "spout",
         "type": "scatter",
         "x": [
          0.856,
          0.931,
          1.171,
          1.246,
          2.49,
          2.565,
          1.332,
          1.407,
          1.193,
          2.933,
          3.009,
          2.583,
          1.287,
          1.323,
          2.476,
          1.367,
          2.787,
          2.377,
          14.572,
          16.271,
          16.597,
          16.762,
          18.209,
          18.449,
          19.543,
          19.928,
          19.948,
          22.177,
          22.402,
          26.365,
          26.542,
          26.592,
          27.052,
          29.421,
          30.117,
          30.142,
          30.347,
          30.868,
          31.11,
          31.747,
          31.769,
          1.058,
          1.608,
          1.961,
          2.458,
          2.764,
          2.8,
          5.327,
          5.548,
          5.729,
          0.905,
          2.274,
          2.463,
          4.935,
          6.366,
          9.24,
          9.425,
          10.742,
          13.153,
          20.94,
          21.649,
          23.988,
          24.78,
          25.255,
          28.87,
          28.9,
          28.92,
          28.94,
          28.96,
          29.116,
          33.333,
          33.377,
          33.466,
          33.559,
          2.355,
          2.53,
          2.552,
          3.713,
          4.237,
          0.872,
          2.648,
          4.01,
          4.592,
          5.594,
          5.686,
          8.643,
          12.278,
          12.743,
          14.848,
          15.043,
          15.087,
          15.64,
          17.61,
          17.832,
          18.218,
          20.629,
          20.909,
          20.975,
          25.814,
          25.85,
          25.88,
          26.879,
          27.327,
          30.195,
          30.396,
          32.892,
          33.042,
          36.56,
          38.127,
          38.52,
          41.918,
          42.128,
          42.169,
          42.686,
          43.069,
          45.043,
          49.142,
          49.168,
          49.185,
          49.572,
          49.609,
          1.025,
          1.416,
          1.579,
          1.955,
          2.015,
          2.624,
          3.774,
          4.768,
          8.096,
          8.116,
          11.459,
          11.477,
          11.753,
          11.785,
          13.175,
          13.691,
          14.058,
          14.506,
          19.69,
          19.9,
          20.448,
          24.715,
          25.787,
          26.168,
          26.342,
          26.502,
          26.722,
          26.856,
          27.622,
          28.725,
          28.969,
          32.762,
          33.205,
          35.825,
          38.328,
          45.751,
          0.279,
          7.347,
          7.797,
          8.513,
          8.815,
          9.084,
          9.75,
          9.872,
          0.64,
          1.524,
          4.491,
          5.167,
          6.897,
          7.628,
          8.696,
          10.446,
          11.026,
          11.077,
          11.204,
          11.224,
          11.736,
          11.999,
          1.169,
          4.278,
          7.832,
          10.941,
          12.055,
          17.531,
          22.89,
          2.146,
          0.641,
          1.767,
          9.516,
          16.212,
          16.864,
          17.402,
          18.19,
          21.135,
          23.359,
          23.897,
          24.617,
          25.239,
          26.022,
          27.521,
          28.167,
          28.317,
          29.155,
          29.63,
          29.694,
          29.805,
          29.926,
          30.051,
          30.306,
          31.84,
          32.064,
          32.153,
          40.008,
          43.883,
          44.565,
          49.351,
          52.724,
          0.706,
          5.208,
          6.504,
          7.718,
          15.996,
          16.983,
          0.844,
          21.052,
          21.32,
          21.564,
          21.806,
          22.067,
          22.351,
          22.66,
          22.987,
          24.353,
          25.344,
          26.132,
          26.496,
          2.916,
          11.055,
          13.72,
          16.41,
          0.543,
          12.988,
          14.609,
          17.98,
          19.051,
          1.38,
          1.41,
          2.131,
          9.644,
          9.895,
          11.589,
          12.54,
          18.765,
          19.271,
          24.13,
          24.293,
          0.882,
          7.457,
          8.01,
          8.238,
          14.735,
          18.692,
          26.61,
          7.29,
          8.007,
          8.31,
          8.814,
          8.86,
          10.798,
          16.441,
          23.373,
          2.155,
          2.119,
          1.668,
          2.255,
          1.029,
          12.821,
          13.691,
          29.569,
          32.615,
          32.637,
          39.543,
          39.655,
          40.129,
          43.306
         ],
         "xaxis": "x5",
         "y": [
          2,
          2,
          4,
          4,
          7,
          7,
          8,
          8,
          13,
          16,
          16,
          20,
          21,
          21,
          24,
          25,
          26,
          27,
          27,
          27,
          27,
          27,
          27,
          27,
          27,
          27,
          27,
          27,
          27,
          27,
          27,
          27,
          27,
          27,
          27,
          27,
          27,
          27,
          27,
          27,
          27,
          28,
          28,
          28,
          28,
          28,
          28,
          28,
          28,
          28,
          29,
          29,
          29,
          29,
          29,
          29,
          29,
          29,
          29,
          29,
          29,
          29,
          29,
          29,
          29,
          29,
          29,
          29,
          29,
          29,
          29,
          29,
          29,
          29,
          30,
          30,
          30,
          30,
          30,
          31,
          31,
          31,
          31,
          31,
          31,
          31,
          31,
          31,
          31,
          31,
          31,
          31,
          31,
          31,
          31,
          31,
          31,
          31,
          31,
          31,
          31,
          31,
          31,
          31,
          31,
          31,
          31,
          31,
          31,
          31,
          31,
          31,
          31,
          31,
          31,
          31,
          31,
          31,
          31,
          31,
          31,
          32,
          32,
          32,
          32,
          32,
          32,
          32,
          32,
          32,
          32,
          32,
          32,
          32,
          32,
          32,
          32,
          32,
          32,
          32,
          32,
          32,
          32,
          32,
          32,
          32,
          32,
          32,
          32,
          32,
          32,
          32,
          32,
          32,
          32,
          32,
          32,
          33,
          33,
          33,
          33,
          33,
          33,
          33,
          33,
          34,
          35,
          35,
          35,
          35,
          35,
          35,
          35,
          35,
          35,
          35,
          35,
          35,
          35,
          36,
          36,
          36,
          36,
          36,
          36,
          36,
          37,
          38,
          38,
          38,
          38,
          38,
          38,
          38,
          38,
          38,
          38,
          38,
          38,
          38,
          38,
          38,
          38,
          38,
          38,
          38,
          38,
          38,
          38,
          38,
          38,
          38,
          38,
          38,
          38,
          38,
          38,
          38,
          39,
          39,
          39,
          39,
          39,
          39,
          40,
          41,
          41,
          41,
          41,
          41,
          41,
          41,
          41,
          41,
          41,
          41,
          41,
          43,
          44,
          44,
          44,
          45,
          45,
          45,
          45,
          45,
          46,
          46,
          46,
          46,
          46,
          46,
          46,
          46,
          46,
          46,
          46,
          47,
          47,
          47,
          47,
          47,
          47,
          47,
          48,
          48,
          48,
          48,
          48,
          48,
          48,
          48,
          51,
          53,
          54,
          58,
          60,
          60,
          60,
          60,
          60,
          60,
          60,
          60,
          60,
          60
         ],
         "yaxis": "y5"
        },
        {
         "marker": {
          "symbol": "cross"
         },
         "mode": "markers",
         "name": "hold_start",
         "type": "scatter",
         "x": [
          11.443,
          3.504,
          9.718,
          3.903,
          10.012,
          10.884,
          6.714,
          5.004,
          10.769,
          11.14,
          9.569,
          9.391,
          4.873,
          10.351,
          10.563,
          6.297,
          9.155,
          11.488,
          10.968,
          10.358,
          10.381,
          11.132,
          9.203,
          9.06,
          9.088,
          10.576,
          10.392,
          4.674,
          3.597,
          5.389,
          5.625,
          4.235,
          10.675,
          10.789,
          9.519,
          9.712,
          4.984,
          4.995,
          10.687,
          10.594,
          9.565,
          10.976,
          11.023,
          9.243,
          10.961,
          5.625,
          11.491,
          9.863,
          9.737,
          11.477,
          11.128,
          9.693,
          11.435,
          10.133,
          9.049,
          11.214,
          9.99,
          10.829,
          9.962,
          10.385
         ],
         "xaxis": "x7",
         "y": [
          1,
          2,
          3,
          4,
          5,
          6,
          7,
          8,
          9,
          10,
          11,
          12,
          13,
          14,
          15,
          16,
          17,
          18,
          19,
          20,
          21,
          22,
          23,
          24,
          25,
          26,
          27,
          28,
          29,
          30,
          31,
          32,
          33,
          34,
          35,
          36,
          37,
          38,
          39,
          40,
          41,
          42,
          43,
          44,
          45,
          46,
          47,
          48,
          49,
          50,
          51,
          52,
          53,
          54,
          55,
          56,
          57,
          58,
          59,
          60
         ],
         "yaxis": "y7"
        },
        {
         "marker": {
          "symbol": "circle"
         },
         "mode": "markers",
         "name": "bar",
         "type": "scatter",
         "x": [
          3.687,
          4.181,
          4.617,
          4.709,
          3.683,
          4.322,
          1.198,
          1.249,
          2.531,
          14.242,
          14.859,
          17.72,
          17.965,
          8.056,
          11.087,
          15.406,
          1.836,
          1.876,
          5.001,
          9.473,
          9.962,
          10.054,
          18.234,
          18.276,
          0.863,
          1.343,
          1.432,
          2.292,
          16.299,
          17.018,
          24.916,
          26.166,
          27.637,
          3.875,
          4.033,
          4.319,
          4.461,
          7.664,
          7.812,
          3.317,
          5.34,
          5.751,
          7.154,
          9.499,
          15.224,
          24.461,
          25.691,
          25.902,
          26.003,
          26.178,
          26.486,
          26.831,
          29.478,
          29.517,
          29.635,
          29.73,
          32.554,
          33.178,
          33.292,
          4.648,
          4.738,
          16.699,
          16.748,
          16.824,
          18.039,
          19.156,
          19.212,
          12.047,
          13.648,
          14.948,
          17.608,
          17.883,
          18.316,
          27.914,
          33.215,
          33.899,
          34.811,
          11.12,
          11.22,
          11.45,
          25.245,
          25.383,
          25.604,
          29.674,
          32.125,
          35.798,
          36.797,
          3.15,
          3.264,
          17.245,
          18.101,
          18.205,
          18.262,
          18.702,
          18.902,
          6.858,
          6.915,
          13.957,
          17.608,
          20.97,
          21.015,
          22.767,
          22.995,
          14.629,
          14.66,
          16.22,
          6.351,
          6.711,
          15.318,
          15.348,
          15.648,
          16.108,
          16.148,
          23.483,
          0.827,
          1.007,
          1.337,
          1.565,
          1.798,
          3.585,
          3.609,
          3.627,
          3.667,
          6.427,
          19.507,
          28.067,
          6.003,
          6.157,
          6.351,
          6.92,
          6.939,
          6.98,
          9.021,
          9.056,
          10.098,
          10.189,
          12.163,
          2.598,
          2.628,
          2.856,
          11.389,
          11.552,
          11.582,
          12.127,
          24.048,
          24.117,
          24.722,
          25.072,
          25.352,
          17.457,
          18.24,
          20.658,
          20.915,
          21.061,
          0.443,
          4.241,
          4.341,
          6.213,
          6.233,
          6.253,
          6.273,
          6.293,
          6.313,
          6.333,
          6.353,
          6.373,
          6.393,
          6.413,
          6.433,
          6.453,
          6.473,
          6.513,
          6.533,
          6.553,
          6.573,
          6.613,
          6.633,
          6.653,
          6.693,
          6.733,
          6.753,
          6.773,
          6.793,
          6.813,
          6.843,
          6.873,
          6.903,
          6.933,
          6.963,
          6.993,
          7.033,
          7.063,
          7.093,
          7.123,
          7.153,
          7.183,
          7.213,
          7.243,
          7.273,
          7.303,
          7.333,
          7.363,
          7.393,
          7.423,
          7.453,
          7.483,
          7.513,
          7.543,
          7.573,
          7.603,
          7.633,
          7.663,
          7.693,
          7.723,
          7.753,
          7.783,
          7.813,
          7.843,
          7.873,
          7.903,
          7.933,
          7.963,
          7.993,
          8.023,
          8.053,
          8.083,
          8.113,
          8.143,
          8.173,
          8.203,
          8.233,
          8.263,
          8.293,
          8.323,
          8.353,
          8.383,
          8.413,
          8.443,
          8.473,
          8.503,
          8.533,
          8.563,
          8.593,
          8.623,
          8.653,
          8.683,
          8.713,
          8.743,
          8.773,
          8.803,
          8.833,
          8.863,
          8.893,
          8.923,
          8.953,
          8.983,
          9.013,
          9.043,
          9.073,
          9.103,
          9.133,
          9.163,
          9.193,
          9.223,
          9.253,
          9.283,
          9.313,
          9.343,
          9.373,
          9.403,
          9.433,
          9.463,
          9.493,
          9.523,
          9.553,
          9.583,
          9.613,
          9.643,
          9.673,
          9.703,
          9.733,
          9.763,
          9.793,
          9.823,
          9.853,
          9.883,
          9.913,
          9.943,
          9.973,
          10.003,
          10.033,
          10.063,
          10.093,
          10.123,
          10.153,
          10.183,
          10.213,
          10.243,
          10.273,
          10.303,
          10.333,
          10.363,
          10.393,
          10.423,
          10.453,
          10.483,
          10.513,
          10.543,
          10.573,
          10.603,
          10.633,
          10.663,
          10.693,
          11.34,
          23.693,
          23.728,
          23.843,
          23.913,
          24.473,
          25.828,
          25.916,
          25.981,
          7.355,
          7.499,
          7.701,
          29.741,
          30.268,
          30.511,
          30.717,
          13.372,
          14.008,
          14.292,
          14.602,
          16.442,
          16.552,
          16.572,
          16.602,
          16.632,
          16.652,
          16.682,
          16.712,
          16.742,
          16.772,
          16.802,
          16.832,
          16.872,
          17.452,
          17.472,
          17.502,
          17.532,
          23.132,
          28.157,
          28.642,
          28.662,
          28.692,
          28.722,
          28.752,
          16.33,
          16.36,
          3.319,
          3.576,
          7.48,
          17.328,
          18.052,
          18.072,
          18.102,
          18.132,
          18.282,
          18.312,
          19.502,
          27.149,
          27.212,
          29.878,
          35.121,
          35.167,
          35.402,
          35.432,
          21.014,
          21.03,
          21.165,
          22.076,
          22.163,
          23.26,
          23.29,
          23.32,
          3.379,
          19.828,
          19.869,
          27.917,
          28.041,
          29.365,
          30.4,
          30.656,
          30.769,
          30.939,
          30.959,
          13.845,
          14.135,
          17.559,
          17.585,
          35.806,
          9.635,
          15.306,
          16.563,
          2.932,
          4.529,
          21.662,
          22.993,
          27.913,
          21.469,
          13.037,
          13.317,
          13.357,
          16.35,
          23.397,
          23.417,
          23.437,
          24.78,
          25.754,
          26.017,
          26.037,
          26.077,
          34.042,
          34.074,
          35.047,
          35.077,
          35.147,
          35.237,
          35.277,
          35.297,
          35.327,
          35.357,
          35.684,
          35.717,
          35.747,
          35.777,
          36.714,
          36.761,
          10.898,
          15.834,
          18.047,
          18.063,
          19.41,
          6.207,
          8.825,
          9.02,
          17.433,
          3.72,
          4.561,
          4.597,
          8.495,
          8.715,
          10.474,
          13.608,
          23.911,
          25.068,
          27.492,
          5.876,
          26.118,
          30.114,
          30.244,
          35.846,
          9.54,
          9.56,
          9.59,
          9.62,
          9.65,
          9.68,
          9.71,
          9.74,
          9.76,
          9.78,
          9.8,
          9.82,
          9.84,
          9.86,
          9.89,
          13.54,
          15.39,
          15.42,
          15.45,
          16.59,
          16.62,
          16.65,
          19.09,
          19.12,
          17.787,
          19.903
         ],
         "xaxis": "x2",
         "y": [
          61,
          61,
          61,
          61,
          62,
          62,
          63,
          63,
          64,
          64,
          64,
          64,
          64,
          65,
          65,
          65,
          66,
          66,
          66,
          66,
          66,
          66,
          66,
          66,
          67,
          67,
          67,
          67,
          67,
          67,
          67,
          67,
          67,
          68,
          68,
          68,
          68,
          69,
          69,
          70,
          70,
          70,
          70,
          70,
          70,
          70,
          70,
          70,
          70,
          70,
          70,
          70,
          70,
          70,
          70,
          70,
          70,
          70,
          70,
          71,
          71,
          71,
          71,
          71,
          71,
          71,
          71,
          72,
          72,
          72,
          73,
          73,
          73,
          73,
          73,
          73,
          73,
          74,
          74,
          74,
          74,
          74,
          74,
          74,
          74,
          74,
          74,
          75,
          75,
          75,
          75,
          75,
          75,
          75,
          75,
          76,
          76,
          76,
          76,
          76,
          76,
          76,
          76,
          77,
          77,
          77,
          78,
          78,
          78,
          78,
          78,
          78,
          78,
          78,
          79,
          79,
          79,
          79,
          79,
          79,
          79,
          79,
          79,
          79,
          79,
          79,
          80,
          80,
          80,
          80,
          80,
          80,
          80,
          80,
          80,
          80,
          80,
          81,
          81,
          81,
          82,
          82,
          82,
          82,
          82,
          82,
          82,
          82,
          82,
          83,
          83,
          83,
          83,
          83,
          85,
          85,
          85,
          85,
          85,
          85,
          85,
          85,
          85,
          85,
          85,
          85,
          85,
          85,
          85,
          85,
          85,
          85,
          85,
          85,
          85,
          85,
          85,
          85,
          85,
          85,
          85,
          85,
          85,
          85,
          85,
          85,
          85,
          85,
          85,
          85,
          85,
          85,
          85,
          85,
          85,
          85,
          85,
          85,
          85,
          85,
          85,
          85,
          85,
          85,
          85,
          85,
          85,
          85,
          85,
          85,
          85,
          85,
          85,
          85,
          85,
          85,
          85,
          85,
          85,
          85,
          85,
          85,
          85,
          85,
          85,
          85,
          85,
          85,
          85,
          85,
          85,
          85,
          85,
          85,
          85,
          85,
          85,
          85,
          85,
          85,
          85,
          85,
          85,
          85,
          85,
          85,
          85,
          85,
          85,
          85,
          85,
          85,
          85,
          85,
          85,
          85,
          85,
          85,
          85,
          85,
          85,
          85,
          85,
          85,
          85,
          85,
          85,
          85,
          85,
          85,
          85,
          85,
          85,
          85,
          85,
          85,
          85,
          85,
          85,
          85,
          85,
          85,
          85,
          85,
          85,
          85,
          85,
          85,
          85,
          85,
          85,
          85,
          85,
          85,
          85,
          85,
          85,
          85,
          85,
          85,
          85,
          85,
          85,
          85,
          85,
          85,
          85,
          85,
          85,
          85,
          85,
          85,
          85,
          85,
          85,
          85,
          85,
          85,
          85,
          85,
          85,
          85,
          86,
          86,
          86,
          86,
          86,
          86,
          86,
          87,
          87,
          87,
          87,
          87,
          87,
          87,
          87,
          87,
          87,
          87,
          87,
          87,
          87,
          87,
          87,
          87,
          87,
          87,
          87,
          87,
          87,
          87,
          87,
          87,
          87,
          87,
          87,
          88,
          88,
          89,
          89,
          89,
          89,
          89,
          89,
          89,
          89,
          89,
          89,
          89,
          89,
          89,
          89,
          89,
          89,
          89,
          89,
          90,
          90,
          90,
          90,
          90,
          90,
          90,
          90,
          92,
          92,
          92,
          92,
          92,
          92,
          92,
          92,
          92,
          92,
          92,
          93,
          93,
          93,
          93,
          93,
          94,
          94,
          94,
          95,
          95,
          95,
          95,
          95,
          96,
          97,
          97,
          97,
          97,
          97,
          97,
          97,
          97,
          97,
          97,
          97,
          97,
          97,
          97,
          97,
          97,
          97,
          97,
          97,
          97,
          97,
          97,
          97,
          97,
          97,
          97,
          97,
          97,
          98,
          98,
          98,
          98,
          98,
          99,
          99,
          99,
          99,
          100,
          100,
          100,
          100,
          100,
          100,
          100,
          100,
          100,
          100,
          101,
          101,
          101,
          101,
          102,
          105,
          105,
          105,
          105,
          105,
          105,
          105,
          105,
          105,
          105,
          105,
          105,
          105,
          105,
          105,
          105,
          105,
          105,
          105,
          105,
          105,
          105,
          105,
          105,
          106,
          106
         ],
         "yaxis": "y2"
        },
        {
         "marker": {
          "symbol": "square"
         },
         "mode": "markers",
         "name": "bar_off",
         "type": "scatter",
         "x": [
          0.39,
          3.703,
          4.586,
          4.674,
          2.052,
          4.283,
          0.284,
          1.215,
          1.774,
          11.938,
          14.762,
          17.312,
          17.827,
          2.252,
          8.301,
          14.41,
          1.806,
          1.861,
          4.841,
          5.016,
          9.914,
          9.977,
          11.178,
          18.249,
          0.756,
          1.106,
          1.416,
          1.486,
          2.542,
          16.966,
          22.623,
          25.206,
          27.52,
          2.822,
          4.018,
          4.264,
          4.419,
          6.77,
          7.721,
          0.155,
          3.558,
          5.355,
          6.256,
          9.31,
          13.165,
          17.019,
          24.797,
          25.856,
          25.963,
          26.163,
          26.207,
          26.738,
          28.596,
          29.502,
          29.522,
          29.715,
          32.16,
          33.068,
          33.25,
          4.615,
          4.688,
          5.308,
          16.714,
          16.777,
          17.107,
          19.033,
          19.172,
          11.593,
          13.587,
          14.851,
          17.254,
          17.721,
          18.286,
          25.787,
          33.119,
          33.476,
          34.472,
          10.12,
          11.205,
          11.235,
          16.531,
          25.368,
          25.551,
          28.64,
          31.27,
          32.784,
          36.193,
          1.298,
          3.165,
          3.28,
          17.935,
          18.15,
          18.22,
          18.382,
          18.828,
          6.76,
          6.873,
          7.019,
          16.355,
          19.366,
          20.985,
          21.03,
          22.841,
          12.947,
          14.645,
          16.116,
          6.198,
          6.591,
          15.189,
          15.333,
          15.368,
          15.933,
          16.123,
          23.049,
          0.792,
          0.962,
          1.322,
          1.352,
          1.783,
          2.09,
          3.601,
          3.624,
          3.642,
          3.682,
          17.525,
          19.545,
          5.986,
          6.018,
          6.246,
          6.773,
          6.935,
          6.965,
          7.782,
          9.041,
          10.023,
          10.123,
          10.257,
          0.788,
          2.613,
          2.738,
          10.66,
          11.537,
          11.567,
          11.631,
          23.979,
          24.097,
          24.137,
          24.976,
          25.141,
          16.376,
          17.972,
          20.034,
          20.813,
          20.991,
          0.238,
          4.226,
          4.326,
          6.198,
          6.218,
          6.238,
          6.258,
          6.278,
          6.298,
          6.318,
          6.338,
          6.358,
          6.378,
          6.398,
          6.418,
          6.438,
          6.458,
          6.498,
          6.518,
          6.538,
          6.558,
          6.598,
          6.618,
          6.638,
          6.678,
          6.718,
          6.738,
          6.758,
          6.778,
          6.798,
          6.828,
          6.858,
          6.888,
          6.918,
          6.948,
          6.978,
          7.018,
          7.048,
          7.078,
          7.108,
          7.138,
          7.168,
          7.198,
          7.228,
          7.258,
          7.288,
          7.318,
          7.348,
          7.378,
          7.408,
          7.438,
          7.468,
          7.498,
          7.528,
          7.558,
          7.588,
          7.618,
          7.648,
          7.678,
          7.708,
          7.738,
          7.768,
          7.798,
          7.828,
          7.858,
          7.888,
          7.918,
          7.948,
          7.978,
          8.008,
          8.038,
          8.068,
          8.098,
          8.128,
          8.158,
          8.188,
          8.218,
          8.248,
          8.278,
          8.308,
          8.338,
          8.368,
          8.398,
          8.428,
          8.458,
          8.488,
          8.518,
          8.548,
          8.578,
          8.608,
          8.638,
          8.668,
          8.698,
          8.728,
          8.758,
          8.788,
          8.818,
          8.848,
          8.878,
          8.908,
          8.938,
          8.968,
          8.998,
          9.028,
          9.058,
          9.088,
          9.118,
          9.148,
          9.178,
          9.208,
          9.238,
          9.268,
          9.298,
          9.328,
          9.358,
          9.388,
          9.418,
          9.448,
          9.478,
          9.508,
          9.538,
          9.568,
          9.598,
          9.628,
          9.658,
          9.688,
          9.718,
          9.748,
          9.778,
          9.808,
          9.838,
          9.868,
          9.898,
          9.928,
          9.958,
          9.988,
          10.018,
          10.048,
          10.078,
          10.108,
          10.138,
          10.168,
          10.198,
          10.228,
          10.258,
          10.288,
          10.318,
          10.348,
          10.378,
          10.408,
          10.438,
          10.468,
          10.498,
          10.528,
          10.558,
          10.588,
          10.618,
          10.648,
          10.678,
          10.748,
          22.596,
          23.708,
          23.828,
          23.871,
          24.121,
          25.803,
          25.844,
          25.965,
          5.882,
          7.372,
          7.535,
          29.647,
          29.768,
          30.373,
          30.574,
          12.055,
          13.601,
          14.042,
          14.337,
          16.427,
          16.457,
          16.567,
          16.587,
          16.617,
          16.647,
          16.667,
          16.697,
          16.727,
          16.757,
          16.787,
          16.817,
          16.857,
          17.437,
          17.457,
          17.487,
          17.517,
          21.432,
          28.058,
          28.172,
          28.657,
          28.677,
          28.707,
          28.737,
          15.856,
          16.345,
          2.367,
          3.346,
          3.881,
          14.454,
          17.656,
          18.067,
          18.087,
          18.117,
          18.267,
          18.297,
          18.347,
          25.727,
          27.165,
          29.807,
          31.681,
          35.152,
          35.167,
          35.417,
          4.414,
          21.029,
          21.141,
          21.18,
          22.115,
          22.245,
          23.275,
          23.305,
          3.227,
          18.098,
          19.844,
          26.169,
          27.983,
          28.504,
          29.425,
          30.509,
          30.686,
          30.924,
          30.944,
          13.518,
          13.89,
          14.15,
          17.574,
          33.394,
          9.616,
          10.313,
          15.592,
          2.757,
          4.484,
          20.438,
          21.677,
          27.456,
          18.562,
          11.49,
          13.125,
          13.332,
          16.305,
          21.517,
          23.412,
          23.433,
          24.312,
          24.801,
          25.769,
          26.032,
          26.052,
          32.951,
          34.057,
          35.032,
          35.062,
          35.092,
          35.222,
          35.252,
          35.292,
          35.312,
          35.342,
          35.372,
          35.702,
          35.732,
          35.762,
          36.672,
          36.746,
          8.469,
          10.913,
          15.925,
          18.062,
          18.086,
          6.153,
          6.237,
          8.969,
          9.035,
          3.079,
          3.736,
          4.576,
          8.387,
          8.631,
          10.357,
          11.281,
          22.315,
          24.094,
          27.269,
          1.692,
          23.374,
          30.099,
          30.2,
          10.355,
          3.581,
          9.555,
          9.575,
          9.605,
          9.635,
          9.665,
          9.695,
          9.725,
          9.745,
          9.765,
          9.785,
          9.805,
          9.825,
          9.845,
          9.875,
          13.086,
          14.01,
          15.405,
          15.435,
          16.575,
          16.605,
          16.635,
          16.655,
          19.105,
          17.761,
          19.676
         ],
         "xaxis": "x4",
         "y": [
          61,
          61,
          61,
          61,
          62,
          62,
          63,
          63,
          64,
          64,
          64,
          64,
          64,
          65,
          65,
          65,
          66,
          66,
          66,
          66,
          66,
          66,
          66,
          66,
          67,
          67,
          67,
          67,
          67,
          67,
          67,
          67,
          67,
          68,
          68,
          68,
          68,
          69,
          69,
          70,
          70,
          70,
          70,
          70,
          70,
          70,
          70,
          70,
          70,
          70,
          70,
          70,
          70,
          70,
          70,
          70,
          70,
          70,
          70,
          71,
          71,
          71,
          71,
          71,
          71,
          71,
          71,
          72,
          72,
          72,
          73,
          73,
          73,
          73,
          73,
          73,
          73,
          74,
          74,
          74,
          74,
          74,
          74,
          74,
          74,
          74,
          74,
          75,
          75,
          75,
          75,
          75,
          75,
          75,
          75,
          76,
          76,
          76,
          76,
          76,
          76,
          76,
          76,
          77,
          77,
          77,
          78,
          78,
          78,
          78,
          78,
          78,
          78,
          78,
          79,
          79,
          79,
          79,
          79,
          79,
          79,
          79,
          79,
          79,
          79,
          79,
          80,
          80,
          80,
          80,
          80,
          80,
          80,
          80,
          80,
          80,
          80,
          81,
          81,
          81,
          82,
          82,
          82,
          82,
          82,
          82,
          82,
          82,
          82,
          83,
          83,
          83,
          83,
          83,
          85,
          85,
          85,
          85,
          85,
          85,
          85,
          85,
          85,
          85,
          85,
          85,
          85,
          85,
          85,
          85,
          85,
          85,
          85,
          85,
          85,
          85,
          85,
          85,
          85,
          85,
          85,
          85,
          85,
          85,
          85,
          85,
          85,
          85,
          85,
          85,
          85,
          85,
          85,
          85,
          85,
          85,
          85,
          85,
          85,
          85,
          85,
          85,
          85,
          85,
          85,
          85,
          85,
          85,
          85,
          85,
          85,
          85,
          85,
          85,
          85,
          85,
          85,
          85,
          85,
          85,
          85,
          85,
          85,
          85,
          85,
          85,
          85,
          85,
          85,
          85,
          85,
          85,
          85,
          85,
          85,
          85,
          85,
          85,
          85,
          85,
          85,
          85,
          85,
          85,
          85,
          85,
          85,
          85,
          85,
          85,
          85,
          85,
          85,
          85,
          85,
          85,
          85,
          85,
          85,
          85,
          85,
          85,
          85,
          85,
          85,
          85,
          85,
          85,
          85,
          85,
          85,
          85,
          85,
          85,
          85,
          85,
          85,
          85,
          85,
          85,
          85,
          85,
          85,
          85,
          85,
          85,
          85,
          85,
          85,
          85,
          85,
          85,
          85,
          85,
          85,
          85,
          85,
          85,
          85,
          85,
          85,
          85,
          85,
          85,
          85,
          85,
          85,
          85,
          85,
          85,
          85,
          85,
          85,
          85,
          85,
          85,
          85,
          85,
          85,
          85,
          85,
          85,
          86,
          86,
          86,
          86,
          86,
          86,
          86,
          87,
          87,
          87,
          87,
          87,
          87,
          87,
          87,
          87,
          87,
          87,
          87,
          87,
          87,
          87,
          87,
          87,
          87,
          87,
          87,
          87,
          87,
          87,
          87,
          87,
          87,
          87,
          87,
          88,
          88,
          89,
          89,
          89,
          89,
          89,
          89,
          89,
          89,
          89,
          89,
          89,
          89,
          89,
          89,
          89,
          89,
          89,
          89,
          90,
          90,
          90,
          90,
          90,
          90,
          90,
          90,
          92,
          92,
          92,
          92,
          92,
          92,
          92,
          92,
          92,
          92,
          92,
          93,
          93,
          93,
          93,
          93,
          94,
          94,
          94,
          95,
          95,
          95,
          95,
          95,
          96,
          97,
          97,
          97,
          97,
          97,
          97,
          97,
          97,
          97,
          97,
          97,
          97,
          97,
          97,
          97,
          97,
          97,
          97,
          97,
          97,
          97,
          97,
          97,
          97,
          97,
          97,
          97,
          97,
          98,
          98,
          98,
          98,
          98,
          99,
          99,
          99,
          99,
          100,
          100,
          100,
          100,
          100,
          100,
          100,
          100,
          100,
          100,
          101,
          101,
          101,
          101,
          102,
          105,
          105,
          105,
          105,
          105,
          105,
          105,
          105,
          105,
          105,
          105,
          105,
          105,
          105,
          105,
          105,
          105,
          105,
          105,
          105,
          105,
          105,
          105,
          105,
          106,
          106
         ],
         "yaxis": "y4"
        },
        {
         "marker": {
          "symbol": "diamond"
         },
         "mode": "markers",
         "name": "spout",
         "type": "scatter",
         "x": [
          0.533,
          1.11,
          3.434,
          2.073,
          2.904,
          3.401,
          0.326,
          0.489,
          12.361,
          13.497,
          3.113,
          15.041,
          1.849,
          6.23,
          12.395,
          14.877,
          15.486,
          15.647,
          15.849,
          16.073,
          16.359,
          16.996,
          17.635,
          17.83,
          18,
          18.053,
          0.769,
          3.381,
          6.928,
          0.168,
          1.756,
          2.884,
          2.901,
          2.925,
          2.945,
          13.666,
          14.094,
          14.968,
          20.244,
          20.471,
          20.912,
          21.88,
          22.325,
          6.324,
          17.295,
          17.521,
          17.797,
          17.274,
          17.199,
          17.56,
          21.728,
          23.529,
          24.082,
          24.968,
          28.819,
          32.9,
          32.972,
          33.542,
          33.706,
          33.947,
          34.232,
          34.496,
          34.916,
          35.26,
          1.32,
          7.335,
          8.026,
          12.732,
          12.99,
          13.603,
          13.914,
          6.78,
          8.824,
          9.007,
          11.651,
          19.917,
          20.631,
          6.211,
          6.242,
          14.829,
          7.964,
          0.8,
          0.838,
          1.478,
          1.601,
          1.638,
          10.702,
          19.737,
          15.663,
          16.31,
          5.895,
          5.925,
          18.229,
          15.878,
          22.3,
          2.38,
          2.411,
          25.224,
          4.436,
          11.444,
          3.27,
          26.486,
          9.659,
          11.443,
          12.63,
          12.988,
          13.922,
          19.909,
          14.314,
          11.533,
          9.071,
          9.998,
          10.388,
          12.82,
          13.257,
          6.166,
          7.581,
          7.789,
          9.431,
          15.045,
          15.219,
          3.122,
          19.252,
          17.938,
          3.593,
          24.838
         ],
         "xaxis": "x6",
         "y": [
          61,
          61,
          61,
          62,
          62,
          62,
          63,
          63,
          64,
          64,
          65,
          65,
          66,
          66,
          66,
          66,
          66,
          66,
          66,
          66,
          66,
          66,
          66,
          66,
          66,
          66,
          67,
          68,
          69,
          70,
          70,
          70,
          70,
          70,
          70,
          70,
          70,
          70,
          70,
          70,
          70,
          70,
          70,
          71,
          71,
          71,
          71,
          73,
          74,
          74,
          74,
          74,
          74,
          74,
          74,
          74,
          74,
          74,
          74,
          74,
          74,
          74,
          74,
          74,
          75,
          75,
          75,
          75,
          75,
          75,
          75,
          76,
          76,
          76,
          76,
          76,
          76,
          78,
          78,
          79,
          80,
          81,
          81,
          81,
          81,
          81,
          82,
          82,
          83,
          84,
          86,
          86,
          87,
          88,
          88,
          89,
          89,
          89,
          90,
          90,
          92,
          92,
          94,
          94,
          94,
          94,
          94,
          95,
          96,
          97,
          98,
          98,
          98,
          98,
          98,
          99,
          99,
          99,
          99,
          99,
          99,
          100,
          100,
          101,
          105,
          105
         ],
         "yaxis": "y6"
        },
        {
         "marker": {
          "symbol": "cross"
         },
         "mode": "markers",
         "name": "hold_start",
         "type": "scatter",
         "x": [
          4.609,
          6.172,
          4,
          15.236,
          7.818,
          9.623,
          23.267,
          6.552,
          10.453,
          5.448,
          9.888,
          15.417,
          32.541,
          20.453,
          12.458,
          11.566,
          13.501,
          22.237,
          19.87,
          10.916,
          4.57,
          25.146,
          20.694,
          22.884,
          22.933,
          27.62,
          23.92,
          27.329,
          30.752,
          17.188,
          19.2,
          33.143,
          29.768,
          16.751,
          25.353,
          20.315,
          30.583,
          11.779,
          10.366,
          25.412,
          23.02,
          19.402,
          5.771,
          28.488,
          30.011,
          29.484
         ],
         "xaxis": "x8",
         "y": [
          61,
          62,
          63,
          64,
          65,
          66,
          67,
          68,
          69,
          70,
          71,
          72,
          73,
          74,
          75,
          76,
          77,
          78,
          79,
          80,
          81,
          82,
          83,
          84,
          85,
          86,
          87,
          88,
          89,
          90,
          91,
          92,
          93,
          94,
          95,
          96,
          97,
          98,
          99,
          100,
          101,
          102,
          103,
          104,
          105,
          106
         ],
         "yaxis": "y8"
        }
       ],
       "layout": {
        "annotations": [
         {
          "font": {
           "size": 16
          },
          "showarrow": false,
          "text": "cued bar_trial_time",
          "x": 0.225,
          "xanchor": "center",
          "xref": "paper",
          "y": 1,
          "yanchor": "bottom",
          "yref": "paper"
         },
         {
          "font": {
           "size": 16
          },
          "showarrow": false,
          "text": "uncued bar_trial_time",
          "x": 0.775,
          "xanchor": "center",
          "xref": "paper",
          "y": 1,
          "yanchor": "bottom",
          "yref": "paper"
         },
         {
          "font": {
           "size": 16
          },
          "showarrow": false,
          "text": "cued bar_off_trial_time",
          "x": 0.225,
          "xanchor": "center",
          "xref": "paper",
          "y": 0.71875,
          "yanchor": "bottom",
          "yref": "paper"
         },
         {
          "font": {
           "size": 16
          },
          "showarrow": false,
          "text": "uncued bar_off_trial_time",
          "x": 0.775,
          "xanchor": "center",
          "xref": "paper",
          "y": 0.71875,
          "yanchor": "bottom",
          "yref": "paper"
         },
         {
          "font": {
           "size": 16
          },
          "showarrow": false,
          "text": "cued spout_trial_time",
          "x": 0.225,
          "xanchor": "center",
          "xref": "paper",
          "y": 0.4375,
          "yanchor": "bottom",
          "yref": "paper"
         },
         {
          "font": {
           "size": 16
          },
          "showarrow": false,
          "text": "uncued spout_trial_time",
          "x": 0.775,
          "xanchor": "center",
          "xref": "paper",
          "y": 0.4375,
          "yanchor": "bottom",
          "yref": "paper"
         },
         {
          "font": {
           "size": 16
          },
          "showarrow": false,
          "text": "cued hold_start_trial_time",
          "x": 0.225,
          "xanchor": "center",
          "xref": "paper",
          "y": 0.15625,
          "yanchor": "bottom",
          "yref": "paper"
         },
         {
          "font": {
           "size": 16
          },
          "showarrow": false,
          "text": "uncued hold_start_trial_time",
          "x": 0.775,
          "xanchor": "center",
          "xref": "paper",
          "y": 0.15625,
          "yanchor": "bottom",
          "yref": "paper"
         }
        ],
        "height": 800,
        "shapes": [
         {
          "line": {
           "color": "Grey",
           "dash": "dot",
           "width": 2
          },
          "type": "line",
          "x0": 0,
          "x1": 0,
          "xref": "x",
          "y0": 1,
          "y1": 60,
          "yref": "y"
         },
         {
          "line": {
           "color": "Grey",
           "dash": "dot",
           "width": 2
          },
          "type": "line",
          "x0": 0,
          "x1": 0,
          "xref": "x3",
          "y0": 1,
          "y1": 60,
          "yref": "y3"
         },
         {
          "line": {
           "color": "Grey",
           "dash": "dot",
           "width": 2
          },
          "type": "line",
          "x0": 0,
          "x1": 0,
          "xref": "x5",
          "y0": 1,
          "y1": 60,
          "yref": "y5"
         },
         {
          "line": {
           "color": "Grey",
           "dash": "dot",
           "width": 2
          },
          "type": "line",
          "x0": 0,
          "x1": 0,
          "xref": "x7",
          "y0": 1,
          "y1": 60,
          "yref": "y7"
         },
         {
          "line": {
           "color": "Grey",
           "dash": "dot",
           "width": 2
          },
          "type": "line",
          "x0": 0,
          "x1": 0,
          "xref": "x2",
          "y0": 1,
          "y1": 106,
          "yref": "y2"
         },
         {
          "line": {
           "color": "Grey",
           "dash": "dot",
           "width": 2
          },
          "type": "line",
          "x0": 0,
          "x1": 0,
          "xref": "x4",
          "y0": 1,
          "y1": 106,
          "yref": "y4"
         },
         {
          "line": {
           "color": "Grey",
           "dash": "dot",
           "width": 2
          },
          "type": "line",
          "x0": 0,
          "x1": 0,
          "xref": "x6",
          "y0": 1,
          "y1": 105,
          "yref": "y6"
         },
         {
          "line": {
           "color": "Grey",
           "dash": "dot",
           "width": 2
          },
          "type": "line",
          "x0": 0,
          "x1": 0,
          "xref": "x8",
          "y0": 1,
          "y1": 106,
          "yref": "y8"
         }
        ],
        "template": {
         "data": {
          "bar": [
           {
            "error_x": {
             "color": "#2a3f5f"
            },
            "error_y": {
             "color": "#2a3f5f"
            },
            "marker": {
             "line": {
              "color": "#E5ECF6",
              "width": 0.5
             },
             "pattern": {
              "fillmode": "overlay",
              "size": 10,
              "solidity": 0.2
             }
            },
            "type": "bar"
           }
          ],
          "barpolar": [
           {
            "marker": {
             "line": {
              "color": "#E5ECF6",
              "width": 0.5
             },
             "pattern": {
              "fillmode": "overlay",
              "size": 10,
              "solidity": 0.2
             }
            },
            "type": "barpolar"
           }
          ],
          "carpet": [
           {
            "aaxis": {
             "endlinecolor": "#2a3f5f",
             "gridcolor": "white",
             "linecolor": "white",
             "minorgridcolor": "white",
             "startlinecolor": "#2a3f5f"
            },
            "baxis": {
             "endlinecolor": "#2a3f5f",
             "gridcolor": "white",
             "linecolor": "white",
             "minorgridcolor": "white",
             "startlinecolor": "#2a3f5f"
            },
            "type": "carpet"
           }
          ],
          "choropleth": [
           {
            "colorbar": {
             "outlinewidth": 0,
             "ticks": ""
            },
            "type": "choropleth"
           }
          ],
          "contour": [
           {
            "colorbar": {
             "outlinewidth": 0,
             "ticks": ""
            },
            "colorscale": [
             [
              0,
              "#0d0887"
             ],
             [
              0.1111111111111111,
              "#46039f"
             ],
             [
              0.2222222222222222,
              "#7201a8"
             ],
             [
              0.3333333333333333,
              "#9c179e"
             ],
             [
              0.4444444444444444,
              "#bd3786"
             ],
             [
              0.5555555555555556,
              "#d8576b"
             ],
             [
              0.6666666666666666,
              "#ed7953"
             ],
             [
              0.7777777777777778,
              "#fb9f3a"
             ],
             [
              0.8888888888888888,
              "#fdca26"
             ],
             [
              1,
              "#f0f921"
             ]
            ],
            "type": "contour"
           }
          ],
          "contourcarpet": [
           {
            "colorbar": {
             "outlinewidth": 0,
             "ticks": ""
            },
            "type": "contourcarpet"
           }
          ],
          "heatmap": [
           {
            "colorbar": {
             "outlinewidth": 0,
             "ticks": ""
            },
            "colorscale": [
             [
              0,
              "#0d0887"
             ],
             [
              0.1111111111111111,
              "#46039f"
             ],
             [
              0.2222222222222222,
              "#7201a8"
             ],
             [
              0.3333333333333333,
              "#9c179e"
             ],
             [
              0.4444444444444444,
              "#bd3786"
             ],
             [
              0.5555555555555556,
              "#d8576b"
             ],
             [
              0.6666666666666666,
              "#ed7953"
             ],
             [
              0.7777777777777778,
              "#fb9f3a"
             ],
             [
              0.8888888888888888,
              "#fdca26"
             ],
             [
              1,
              "#f0f921"
             ]
            ],
            "type": "heatmap"
           }
          ],
          "heatmapgl": [
           {
            "colorbar": {
             "outlinewidth": 0,
             "ticks": ""
            },
            "colorscale": [
             [
              0,
              "#0d0887"
             ],
             [
              0.1111111111111111,
              "#46039f"
             ],
             [
              0.2222222222222222,
              "#7201a8"
             ],
             [
              0.3333333333333333,
              "#9c179e"
             ],
             [
              0.4444444444444444,
              "#bd3786"
             ],
             [
              0.5555555555555556,
              "#d8576b"
             ],
             [
              0.6666666666666666,
              "#ed7953"
             ],
             [
              0.7777777777777778,
              "#fb9f3a"
             ],
             [
              0.8888888888888888,
              "#fdca26"
             ],
             [
              1,
              "#f0f921"
             ]
            ],
            "type": "heatmapgl"
           }
          ],
          "histogram": [
           {
            "marker": {
             "pattern": {
              "fillmode": "overlay",
              "size": 10,
              "solidity": 0.2
             }
            },
            "type": "histogram"
           }
          ],
          "histogram2d": [
           {
            "colorbar": {
             "outlinewidth": 0,
             "ticks": ""
            },
            "colorscale": [
             [
              0,
              "#0d0887"
             ],
             [
              0.1111111111111111,
              "#46039f"
             ],
             [
              0.2222222222222222,
              "#7201a8"
             ],
             [
              0.3333333333333333,
              "#9c179e"
             ],
             [
              0.4444444444444444,
              "#bd3786"
             ],
             [
              0.5555555555555556,
              "#d8576b"
             ],
             [
              0.6666666666666666,
              "#ed7953"
             ],
             [
              0.7777777777777778,
              "#fb9f3a"
             ],
             [
              0.8888888888888888,
              "#fdca26"
             ],
             [
              1,
              "#f0f921"
             ]
            ],
            "type": "histogram2d"
           }
          ],
          "histogram2dcontour": [
           {
            "colorbar": {
             "outlinewidth": 0,
             "ticks": ""
            },
            "colorscale": [
             [
              0,
              "#0d0887"
             ],
             [
              0.1111111111111111,
              "#46039f"
             ],
             [
              0.2222222222222222,
              "#7201a8"
             ],
             [
              0.3333333333333333,
              "#9c179e"
             ],
             [
              0.4444444444444444,
              "#bd3786"
             ],
             [
              0.5555555555555556,
              "#d8576b"
             ],
             [
              0.6666666666666666,
              "#ed7953"
             ],
             [
              0.7777777777777778,
              "#fb9f3a"
             ],
             [
              0.8888888888888888,
              "#fdca26"
             ],
             [
              1,
              "#f0f921"
             ]
            ],
            "type": "histogram2dcontour"
           }
          ],
          "mesh3d": [
           {
            "colorbar": {
             "outlinewidth": 0,
             "ticks": ""
            },
            "type": "mesh3d"
           }
          ],
          "parcoords": [
           {
            "line": {
             "colorbar": {
              "outlinewidth": 0,
              "ticks": ""
             }
            },
            "type": "parcoords"
           }
          ],
          "pie": [
           {
            "automargin": true,
            "type": "pie"
           }
          ],
          "scatter": [
           {
            "fillpattern": {
             "fillmode": "overlay",
             "size": 10,
             "solidity": 0.2
            },
            "type": "scatter"
           }
          ],
          "scatter3d": [
           {
            "line": {
             "colorbar": {
              "outlinewidth": 0,
              "ticks": ""
             }
            },
            "marker": {
             "colorbar": {
              "outlinewidth": 0,
              "ticks": ""
             }
            },
            "type": "scatter3d"
           }
          ],
          "scattercarpet": [
           {
            "marker": {
             "colorbar": {
              "outlinewidth": 0,
              "ticks": ""
             }
            },
            "type": "scattercarpet"
           }
          ],
          "scattergeo": [
           {
            "marker": {
             "colorbar": {
              "outlinewidth": 0,
              "ticks": ""
             }
            },
            "type": "scattergeo"
           }
          ],
          "scattergl": [
           {
            "marker": {
             "colorbar": {
              "outlinewidth": 0,
              "ticks": ""
             }
            },
            "type": "scattergl"
           }
          ],
          "scattermapbox": [
           {
            "marker": {
             "colorbar": {
              "outlinewidth": 0,
              "ticks": ""
             }
            },
            "type": "scattermapbox"
           }
          ],
          "scatterpolar": [
           {
            "marker": {
             "colorbar": {
              "outlinewidth": 0,
              "ticks": ""
             }
            },
            "type": "scatterpolar"
           }
          ],
          "scatterpolargl": [
           {
            "marker": {
             "colorbar": {
              "outlinewidth": 0,
              "ticks": ""
             }
            },
            "type": "scatterpolargl"
           }
          ],
          "scatterternary": [
           {
            "marker": {
             "colorbar": {
              "outlinewidth": 0,
              "ticks": ""
             }
            },
            "type": "scatterternary"
           }
          ],
          "surface": [
           {
            "colorbar": {
             "outlinewidth": 0,
             "ticks": ""
            },
            "colorscale": [
             [
              0,
              "#0d0887"
             ],
             [
              0.1111111111111111,
              "#46039f"
             ],
             [
              0.2222222222222222,
              "#7201a8"
             ],
             [
              0.3333333333333333,
              "#9c179e"
             ],
             [
              0.4444444444444444,
              "#bd3786"
             ],
             [
              0.5555555555555556,
              "#d8576b"
             ],
             [
              0.6666666666666666,
              "#ed7953"
             ],
             [
              0.7777777777777778,
              "#fb9f3a"
             ],
             [
              0.8888888888888888,
              "#fdca26"
             ],
             [
              1,
              "#f0f921"
             ]
            ],
            "type": "surface"
           }
          ],
          "table": [
           {
            "cells": {
             "fill": {
              "color": "#EBF0F8"
             },
             "line": {
              "color": "white"
             }
            },
            "header": {
             "fill": {
              "color": "#C8D4E3"
             },
             "line": {
              "color": "white"
             }
            },
            "type": "table"
           }
          ]
         },
         "layout": {
          "annotationdefaults": {
           "arrowcolor": "#2a3f5f",
           "arrowhead": 0,
           "arrowwidth": 1
          },
          "autotypenumbers": "strict",
          "coloraxis": {
           "colorbar": {
            "outlinewidth": 0,
            "ticks": ""
           }
          },
          "colorscale": {
           "diverging": [
            [
             0,
             "#8e0152"
            ],
            [
             0.1,
             "#c51b7d"
            ],
            [
             0.2,
             "#de77ae"
            ],
            [
             0.3,
             "#f1b6da"
            ],
            [
             0.4,
             "#fde0ef"
            ],
            [
             0.5,
             "#f7f7f7"
            ],
            [
             0.6,
             "#e6f5d0"
            ],
            [
             0.7,
             "#b8e186"
            ],
            [
             0.8,
             "#7fbc41"
            ],
            [
             0.9,
             "#4d9221"
            ],
            [
             1,
             "#276419"
            ]
           ],
           "sequential": [
            [
             0,
             "#0d0887"
            ],
            [
             0.1111111111111111,
             "#46039f"
            ],
            [
             0.2222222222222222,
             "#7201a8"
            ],
            [
             0.3333333333333333,
             "#9c179e"
            ],
            [
             0.4444444444444444,
             "#bd3786"
            ],
            [
             0.5555555555555556,
             "#d8576b"
            ],
            [
             0.6666666666666666,
             "#ed7953"
            ],
            [
             0.7777777777777778,
             "#fb9f3a"
            ],
            [
             0.8888888888888888,
             "#fdca26"
            ],
            [
             1,
             "#f0f921"
            ]
           ],
           "sequentialminus": [
            [
             0,
             "#0d0887"
            ],
            [
             0.1111111111111111,
             "#46039f"
            ],
            [
             0.2222222222222222,
             "#7201a8"
            ],
            [
             0.3333333333333333,
             "#9c179e"
            ],
            [
             0.4444444444444444,
             "#bd3786"
            ],
            [
             0.5555555555555556,
             "#d8576b"
            ],
            [
             0.6666666666666666,
             "#ed7953"
            ],
            [
             0.7777777777777778,
             "#fb9f3a"
            ],
            [
             0.8888888888888888,
             "#fdca26"
            ],
            [
             1,
             "#f0f921"
            ]
           ]
          },
          "colorway": [
           "#636efa",
           "#EF553B",
           "#00cc96",
           "#ab63fa",
           "#FFA15A",
           "#19d3f3",
           "#FF6692",
           "#B6E880",
           "#FF97FF",
           "#FECB52"
          ],
          "font": {
           "color": "#2a3f5f"
          },
          "geo": {
           "bgcolor": "white",
           "lakecolor": "white",
           "landcolor": "#E5ECF6",
           "showlakes": true,
           "showland": true,
           "subunitcolor": "white"
          },
          "hoverlabel": {
           "align": "left"
          },
          "hovermode": "closest",
          "mapbox": {
           "style": "light"
          },
          "paper_bgcolor": "white",
          "plot_bgcolor": "#E5ECF6",
          "polar": {
           "angularaxis": {
            "gridcolor": "white",
            "linecolor": "white",
            "ticks": ""
           },
           "bgcolor": "#E5ECF6",
           "radialaxis": {
            "gridcolor": "white",
            "linecolor": "white",
            "ticks": ""
           }
          },
          "scene": {
           "xaxis": {
            "backgroundcolor": "#E5ECF6",
            "gridcolor": "white",
            "gridwidth": 2,
            "linecolor": "white",
            "showbackground": true,
            "ticks": "",
            "zerolinecolor": "white"
           },
           "yaxis": {
            "backgroundcolor": "#E5ECF6",
            "gridcolor": "white",
            "gridwidth": 2,
            "linecolor": "white",
            "showbackground": true,
            "ticks": "",
            "zerolinecolor": "white"
           },
           "zaxis": {
            "backgroundcolor": "#E5ECF6",
            "gridcolor": "white",
            "gridwidth": 2,
            "linecolor": "white",
            "showbackground": true,
            "ticks": "",
            "zerolinecolor": "white"
           }
          },
          "shapedefaults": {
           "line": {
            "color": "#2a3f5f"
           }
          },
          "ternary": {
           "aaxis": {
            "gridcolor": "white",
            "linecolor": "white",
            "ticks": ""
           },
           "baxis": {
            "gridcolor": "white",
            "linecolor": "white",
            "ticks": ""
           },
           "bgcolor": "#E5ECF6",
           "caxis": {
            "gridcolor": "white",
            "linecolor": "white",
            "ticks": ""
           }
          },
          "title": {
           "x": 0.05
          },
          "xaxis": {
           "automargin": true,
           "gridcolor": "white",
           "linecolor": "white",
           "ticks": "",
           "title": {
            "standoff": 15
           },
           "zerolinecolor": "white",
           "zerolinewidth": 2
          },
          "yaxis": {
           "automargin": true,
           "gridcolor": "white",
           "linecolor": "white",
           "ticks": "",
           "title": {
            "standoff": 15
           },
           "zerolinecolor": "white",
           "zerolinewidth": 2
          }
         }
        },
        "title": {
         "text": "Events Raster plot, ID:44 / reaching_go_spout_cued_uncued / 2022-05-11 19:24:51"
        },
        "width": 800,
        "xaxis": {
         "anchor": "y",
         "autorange": true,
         "domain": [
          0,
          0.45
         ],
         "linecolor": "black",
         "matches": "x7",
         "showline": true,
         "showticklabels": false,
         "tickfont": {
          "size": 12
         },
         "ticklen": 6,
         "ticks": "outside",
         "tickwidth": 2,
         "title": {
          "text": "time (s)"
         }
        },
        "xaxis2": {
         "anchor": "y2",
         "autorange": true,
         "domain": [
          0.55,
          1
         ],
         "linecolor": "black",
         "matches": "x8",
         "showline": true,
         "showticklabels": false,
         "tickfont": {
          "size": 12
         },
         "ticklen": 6,
         "ticks": "outside",
         "tickwidth": 2,
         "title": {
          "text": "time (s)"
         }
        },
        "xaxis3": {
         "anchor": "y3",
         "autorange": true,
         "domain": [
          0,
          0.45
         ],
         "linecolor": "black",
         "matches": "x7",
         "showline": true,
         "showticklabels": false,
         "tickfont": {
          "size": 12
         },
         "ticklen": 6,
         "ticks": "outside",
         "tickwidth": 2,
         "title": {
          "text": "time (s)"
         }
        },
        "xaxis4": {
         "anchor": "y4",
         "autorange": true,
         "domain": [
          0.55,
          1
         ],
         "linecolor": "black",
         "matches": "x8",
         "showline": true,
         "showticklabels": false,
         "tickfont": {
          "size": 12
         },
         "ticklen": 6,
         "ticks": "outside",
         "tickwidth": 2,
         "title": {
          "text": "time (s)"
         }
        },
        "xaxis5": {
         "anchor": "y5",
         "autorange": true,
         "domain": [
          0,
          0.45
         ],
         "linecolor": "black",
         "matches": "x7",
         "showline": true,
         "showticklabels": false,
         "tickfont": {
          "size": 12
         },
         "ticklen": 6,
         "ticks": "outside",
         "tickwidth": 2,
         "title": {
          "text": "time (s)"
         }
        },
        "xaxis6": {
         "anchor": "y6",
         "autorange": true,
         "domain": [
          0.55,
          1
         ],
         "linecolor": "black",
         "matches": "x8",
         "showline": true,
         "showticklabels": false,
         "tickfont": {
          "size": 12
         },
         "ticklen": 6,
         "ticks": "outside",
         "tickwidth": 2,
         "title": {
          "text": "time (s)"
         }
        },
        "xaxis7": {
         "anchor": "y7",
         "autorange": true,
         "domain": [
          0,
          0.45
         ],
         "linecolor": "black",
         "showline": true,
         "tickfont": {
          "size": 12
         },
         "ticklen": 6,
         "ticks": "outside",
         "tickwidth": 2,
         "title": {
          "text": "time (s)"
         }
        },
        "xaxis8": {
         "anchor": "y8",
         "autorange": true,
         "domain": [
          0.55,
          1
         ],
         "linecolor": "black",
         "showline": true,
         "tickfont": {
          "size": 12
         },
         "ticklen": 6,
         "ticks": "outside",
         "tickwidth": 2,
         "title": {
          "text": "time (s)"
         }
        },
        "yaxis": {
         "anchor": "x",
         "domain": [
          0.84375,
          1
         ],
         "linecolor": "black",
         "range": [
          1,
          60
         ],
         "showgrid": true,
         "showline": true,
         "tickfont": {
          "size": 12
         },
         "ticklen": 6,
         "ticks": "outside",
         "tickwidth": 2,
         "title": {
          "text": "trial nb"
         }
        },
        "yaxis2": {
         "anchor": "x2",
         "domain": [
          0.84375,
          1
         ],
         "linecolor": "black",
         "matches": "y",
         "range": [
          1,
          106
         ],
         "showgrid": true,
         "showline": true,
         "showticklabels": false,
         "tickfont": {
          "size": 12
         },
         "ticklen": 6,
         "ticks": "outside",
         "tickwidth": 2,
         "title": {
          "text": "trial nb"
         }
        },
        "yaxis3": {
         "anchor": "x3",
         "domain": [
          0.5625,
          0.71875
         ],
         "linecolor": "black",
         "range": [
          1,
          60
         ],
         "showgrid": true,
         "showline": true,
         "tickfont": {
          "size": 12
         },
         "ticklen": 6,
         "ticks": "outside",
         "tickwidth": 2,
         "title": {
          "text": "trial nb"
         }
        },
        "yaxis4": {
         "anchor": "x4",
         "domain": [
          0.5625,
          0.71875
         ],
         "linecolor": "black",
         "matches": "y3",
         "range": [
          1,
          106
         ],
         "showgrid": true,
         "showline": true,
         "showticklabels": false,
         "tickfont": {
          "size": 12
         },
         "ticklen": 6,
         "ticks": "outside",
         "tickwidth": 2,
         "title": {
          "text": "trial nb"
         }
        },
        "yaxis5": {
         "anchor": "x5",
         "domain": [
          0.28125,
          0.4375
         ],
         "linecolor": "black",
         "range": [
          1,
          60
         ],
         "showgrid": true,
         "showline": true,
         "tickfont": {
          "size": 12
         },
         "ticklen": 6,
         "ticks": "outside",
         "tickwidth": 2,
         "title": {
          "text": "trial nb"
         }
        },
        "yaxis6": {
         "anchor": "x6",
         "domain": [
          0.28125,
          0.4375
         ],
         "linecolor": "black",
         "matches": "y5",
         "range": [
          1,
          105
         ],
         "showgrid": true,
         "showline": true,
         "showticklabels": false,
         "tickfont": {
          "size": 12
         },
         "ticklen": 6,
         "ticks": "outside",
         "tickwidth": 2,
         "title": {
          "text": "trial nb"
         }
        },
        "yaxis7": {
         "anchor": "x7",
         "domain": [
          0,
          0.15625
         ],
         "linecolor": "black",
         "range": [
          1,
          60
         ],
         "showgrid": true,
         "showline": true,
         "tickfont": {
          "size": 12
         },
         "ticklen": 6,
         "ticks": "outside",
         "tickwidth": 2,
         "title": {
          "text": "trial nb"
         }
        },
        "yaxis8": {
         "anchor": "x8",
         "domain": [
          0,
          0.15625
         ],
         "linecolor": "black",
         "matches": "y7",
         "range": [
          1,
          106
         ],
         "showgrid": true,
         "showline": true,
         "showticklabels": false,
         "tickfont": {
          "size": 12
         },
         "ticklen": 6,
         "ticks": "outside",
         "tickwidth": 2,
         "title": {
          "text": "trial nb"
         }
        }
       }
      }
     },
     "metadata": {},
     "output_type": "display_data"
    },
    {
     "data": {
      "application/vnd.plotly.v1+json": {
       "config": {
        "plotlyServerURL": "https://plot.ly"
       },
       "data": [
        {
         "marker": {
          "symbol": "circle"
         },
         "mode": "markers",
         "name": "bar",
         "type": "scatter",
         "x": [
          11.533,
          11.625,
          11.841,
          11.882,
          11.996,
          12.221,
          12.298,
          19.644,
          20.393,
          6.925,
          7.02,
          1.217,
          6.169,
          6.933,
          8.663,
          7.103,
          7.131,
          3.552,
          4.484,
          4.55,
          1.526,
          1.602,
          1.842,
          3.831,
          5.719,
          3.194,
          8.191,
          9.257,
          9.321,
          4.273,
          4.331,
          12.585,
          12.734,
          12.818,
          12.841,
          1.328,
          1.436,
          1.466,
          8.791,
          9.346,
          9.365,
          20.876,
          9.672,
          5.915,
          6.132,
          6.59,
          6.631,
          33.613,
          7.141,
          13.355,
          17.05,
          34.361,
          7.703,
          7.762,
          21.708,
          21.762,
          22.395,
          25.109,
          25.235,
          51.463,
          52.255,
          52.285,
          52.413,
          9.678,
          9.762,
          10.609,
          10.738,
          10.79,
          11.917,
          15.101,
          15.16,
          15.197,
          15.247,
          15.318,
          15.529,
          19.246,
          43.703,
          43.778,
          46.473,
          47.936,
          48.063,
          0.333,
          0.397,
          19.67,
          19.899,
          21.666,
          39.081,
          0.884,
          0.971,
          12.179,
          4.545,
          23.623,
          2.429,
          2.606,
          2.678,
          3.091,
          3.651,
          3.738,
          4.556,
          32.7,
          33.98,
          34.214,
          60.356,
          8.412,
          17.196,
          18.467,
          5.844,
          13.145,
          6.348,
          6.499,
          6.686,
          18.967,
          20.296,
          23.435,
          23.726,
          26.899,
          27.208,
          27.537,
          7.141,
          8.617,
          8.729,
          8.808,
          9.11,
          10.36,
          11.377,
          2.748,
          2.785,
          3.133,
          17.637,
          19.803,
          20.106,
          20.788,
          23.542,
          19.929,
          2.645,
          14.719,
          17.483,
          30.987,
          2.77,
          2.954,
          10.245,
          10.361,
          15.105,
          20.014,
          20.09,
          22.821,
          35.568,
          27.326,
          30.125,
          30.949,
          31.305,
          31.419,
          31.5,
          31.744,
          31.835,
          1.061,
          7.414,
          6.477,
          6.687,
          7.407,
          7.791,
          7.899,
          13.959,
          14.237,
          14.522,
          15.549,
          15.973,
          17.301,
          4.72,
          9.255,
          11.745,
          11.942,
          11.987,
          12.266,
          25.324,
          25.384,
          27.262,
          31.296,
          31.728,
          41.375,
          41.62,
          42.392,
          43.01,
          44.023
         ],
         "xaxis": "x",
         "y": [
          1,
          1,
          1,
          1,
          1,
          1,
          1,
          1,
          1,
          2,
          2,
          4,
          4,
          4,
          4,
          6,
          6,
          7,
          7,
          7,
          8,
          8,
          8,
          8,
          8,
          12,
          15,
          16,
          16,
          17,
          17,
          19,
          19,
          19,
          19,
          21,
          21,
          21,
          21,
          21,
          21,
          21,
          25,
          27,
          27,
          27,
          27,
          27,
          28,
          29,
          29,
          29,
          30,
          30,
          31,
          31,
          31,
          31,
          31,
          31,
          31,
          31,
          31,
          32,
          32,
          32,
          32,
          32,
          32,
          32,
          32,
          32,
          32,
          32,
          32,
          32,
          32,
          32,
          32,
          32,
          32,
          33,
          33,
          33,
          33,
          33,
          33,
          34,
          34,
          35,
          36,
          36,
          37,
          37,
          37,
          37,
          37,
          37,
          37,
          38,
          38,
          38,
          38,
          39,
          39,
          39,
          40,
          40,
          41,
          41,
          41,
          41,
          41,
          41,
          41,
          41,
          41,
          41,
          42,
          43,
          43,
          43,
          43,
          43,
          43,
          44,
          44,
          44,
          44,
          44,
          44,
          44,
          44,
          45,
          46,
          46,
          46,
          46,
          47,
          47,
          47,
          47,
          47,
          47,
          47,
          47,
          47,
          48,
          48,
          48,
          48,
          48,
          48,
          48,
          48,
          50,
          51,
          52,
          52,
          52,
          52,
          52,
          58,
          58,
          58,
          58,
          58,
          58,
          59,
          59,
          60,
          60,
          60,
          60,
          60,
          60,
          60,
          60,
          60,
          60,
          60,
          60,
          60,
          60
         ],
         "yaxis": "y"
        },
        {
         "marker": {
          "symbol": "square"
         },
         "mode": "markers",
         "name": "bar_off",
         "type": "scatter",
         "x": [
          11.61,
          11.826,
          11.867,
          11.976,
          12.012,
          12.282,
          12.595,
          20.341,
          6.886,
          6.941,
          1.157,
          6.044,
          6.876,
          8.634,
          6.72,
          7.118,
          3.135,
          4.44,
          4.531,
          1.32,
          1.541,
          1.812,
          1.981,
          4.908,
          3.158,
          8.124,
          9.224,
          9.286,
          4.244,
          4.316,
          12.455,
          12.719,
          12.746,
          12.834,
          1.274,
          1.4,
          1.451,
          8.493,
          9.044,
          9.361,
          9.444,
          9.636,
          4.98,
          5.931,
          6.525,
          6.613,
          13.493,
          1.036,
          0.282,
          15.626,
          20.638,
          2.342,
          7.718,
          1.184,
          21.734,
          22.119,
          25.067,
          25.19,
          25.577,
          52.236,
          52.27,
          52.397,
          0.982,
          9.743,
          10.553,
          10.7,
          10.753,
          11.137,
          12.411,
          15.145,
          15.182,
          15.211,
          15.262,
          15.486,
          19.116,
          19.302,
          43.763,
          44.241,
          47.921,
          47.971,
          0.266,
          0.369,
          0.412,
          19.884,
          21.615,
          25.866,
          0.627,
          0.913,
          3.647,
          1.147,
          7.019,
          0.585,
          2.591,
          2.628,
          3.068,
          3.623,
          3.709,
          4.064,
          0.618,
          32.765,
          33.995,
          36.969,
          4.248,
          12.147,
          18.385,
          0.831,
          11.837,
          5.425,
          6.445,
          6.622,
          11.784,
          19.561,
          20.974,
          23.595,
          24.122,
          27.143,
          27.511,
          7.04,
          8.419,
          8.632,
          8.744,
          8.997,
          10.268,
          11.304,
          1.706,
          2.763,
          3.084,
          10.581,
          19.388,
          20.09,
          20.201,
          22.545,
          0.637,
          1.367,
          9.112,
          15.417,
          18.601,
          2.743,
          2.785,
          7.172,
          10.27,
          13.612,
          17.987,
          20.059,
          22.507,
          25.715,
          0.975,
          28.808,
          30.832,
          30.964,
          31.4,
          31.484,
          31.7,
          31.804,
          0.846,
          7.33,
          6.315,
          6.615,
          7.352,
          7.731,
          7.806,
          13.868,
          14.182,
          14.488,
          15.019,
          15.689,
          17.166,
          4.592,
          9.087,
          11.069,
          11.76,
          11.972,
          11.988,
          12.282,
          25.36,
          27.235,
          27.277,
          31.706,
          32.058,
          41.575,
          42.312,
          42.991,
          43.026
         ],
         "xaxis": "x3",
         "y": [
          1,
          1,
          1,
          1,
          1,
          1,
          1,
          1,
          2,
          2,
          4,
          4,
          4,
          4,
          6,
          6,
          7,
          7,
          7,
          8,
          8,
          8,
          8,
          8,
          12,
          15,
          16,
          16,
          17,
          17,
          19,
          19,
          19,
          19,
          21,
          21,
          21,
          21,
          21,
          21,
          21,
          25,
          27,
          27,
          27,
          27,
          27,
          28,
          29,
          29,
          29,
          30,
          30,
          31,
          31,
          31,
          31,
          31,
          31,
          31,
          31,
          31,
          32,
          32,
          32,
          32,
          32,
          32,
          32,
          32,
          32,
          32,
          32,
          32,
          32,
          32,
          32,
          32,
          32,
          32,
          33,
          33,
          33,
          33,
          33,
          33,
          34,
          34,
          35,
          36,
          36,
          37,
          37,
          37,
          37,
          37,
          37,
          37,
          38,
          38,
          38,
          38,
          39,
          39,
          39,
          40,
          40,
          41,
          41,
          41,
          41,
          41,
          41,
          41,
          41,
          41,
          41,
          42,
          43,
          43,
          43,
          43,
          43,
          43,
          44,
          44,
          44,
          44,
          44,
          44,
          44,
          44,
          45,
          46,
          46,
          46,
          46,
          47,
          47,
          47,
          47,
          47,
          47,
          47,
          47,
          47,
          48,
          48,
          48,
          48,
          48,
          48,
          48,
          48,
          50,
          51,
          52,
          52,
          52,
          52,
          52,
          58,
          58,
          58,
          58,
          58,
          58,
          59,
          59,
          60,
          60,
          60,
          60,
          60,
          60,
          60,
          60,
          60,
          60,
          60,
          60,
          60,
          60
         ],
         "yaxis": "y3"
        },
        {
         "marker": {
          "symbol": "diamond"
         },
         "mode": "markers",
         "name": "spout",
         "type": "scatter",
         "x": [
          0.856,
          0.931,
          1.171,
          1.246,
          2.49,
          2.565,
          1.332,
          1.407,
          1.193,
          2.933,
          3.009,
          2.583,
          1.287,
          1.323,
          2.476,
          1.367,
          2.787,
          2.377,
          14.572,
          16.271,
          16.597,
          16.762,
          18.209,
          18.449,
          19.543,
          19.928,
          19.948,
          22.177,
          22.402,
          26.365,
          26.542,
          26.592,
          27.052,
          29.421,
          30.117,
          30.142,
          30.347,
          30.868,
          31.11,
          31.747,
          31.769,
          1.058,
          1.608,
          1.961,
          2.458,
          2.764,
          2.8,
          5.327,
          5.548,
          5.729,
          0.905,
          2.274,
          2.463,
          4.935,
          6.366,
          9.24,
          9.425,
          10.742,
          13.153,
          20.94,
          21.649,
          23.988,
          24.78,
          25.255,
          28.87,
          28.9,
          28.92,
          28.94,
          28.96,
          29.116,
          33.333,
          33.377,
          33.466,
          33.559,
          2.355,
          2.53,
          2.552,
          3.713,
          4.237,
          0.872,
          2.648,
          4.01,
          4.592,
          5.594,
          5.686,
          8.643,
          12.278,
          12.743,
          14.848,
          15.043,
          15.087,
          15.64,
          17.61,
          17.832,
          18.218,
          20.629,
          20.909,
          20.975,
          25.814,
          25.85,
          25.88,
          26.879,
          27.327,
          30.195,
          30.396,
          32.892,
          33.042,
          36.56,
          38.127,
          38.52,
          41.918,
          42.128,
          42.169,
          42.686,
          43.069,
          45.043,
          49.142,
          49.168,
          49.185,
          49.572,
          49.609,
          1.025,
          1.416,
          1.579,
          1.955,
          2.015,
          2.624,
          3.774,
          4.768,
          8.096,
          8.116,
          11.459,
          11.477,
          11.753,
          11.785,
          13.175,
          13.691,
          14.058,
          14.506,
          19.69,
          19.9,
          20.448,
          24.715,
          25.787,
          26.168,
          26.342,
          26.502,
          26.722,
          26.856,
          27.622,
          28.725,
          28.969,
          32.762,
          33.205,
          35.825,
          38.328,
          45.751,
          0.279,
          7.347,
          7.797,
          8.513,
          8.815,
          9.084,
          9.75,
          9.872,
          0.64,
          1.524,
          4.491,
          5.167,
          6.897,
          7.628,
          8.696,
          10.446,
          11.026,
          11.077,
          11.204,
          11.224,
          11.736,
          11.999,
          1.169,
          4.278,
          7.832,
          10.941,
          12.055,
          17.531,
          22.89,
          2.146,
          0.641,
          1.767,
          9.516,
          16.212,
          16.864,
          17.402,
          18.19,
          21.135,
          23.359,
          23.897,
          24.617,
          25.239,
          26.022,
          27.521,
          28.167,
          28.317,
          29.155,
          29.63,
          29.694,
          29.805,
          29.926,
          30.051,
          30.306,
          31.84,
          32.064,
          32.153,
          40.008,
          43.883,
          44.565,
          49.351,
          52.724,
          0.706,
          5.208,
          6.504,
          7.718,
          15.996,
          16.983,
          0.844,
          21.052,
          21.32,
          21.564,
          21.806,
          22.067,
          22.351,
          22.66,
          22.987,
          24.353,
          25.344,
          26.132,
          26.496,
          2.916,
          11.055,
          13.72,
          16.41,
          0.543,
          12.988,
          14.609,
          17.98,
          19.051,
          1.38,
          1.41,
          2.131,
          9.644,
          9.895,
          11.589,
          12.54,
          18.765,
          19.271,
          24.13,
          24.293,
          0.882,
          7.457,
          8.01,
          8.238,
          14.735,
          18.692,
          26.61,
          7.29,
          8.007,
          8.31,
          8.814,
          8.86,
          10.798,
          16.441,
          23.373,
          2.155,
          2.119,
          1.668,
          2.255,
          1.029,
          12.821,
          13.691,
          29.569,
          32.615,
          32.637,
          39.543,
          39.655,
          40.129,
          43.306
         ],
         "xaxis": "x5",
         "y": [
          2,
          2,
          4,
          4,
          7,
          7,
          8,
          8,
          13,
          16,
          16,
          20,
          21,
          21,
          24,
          25,
          26,
          27,
          27,
          27,
          27,
          27,
          27,
          27,
          27,
          27,
          27,
          27,
          27,
          27,
          27,
          27,
          27,
          27,
          27,
          27,
          27,
          27,
          27,
          27,
          27,
          28,
          28,
          28,
          28,
          28,
          28,
          28,
          28,
          28,
          29,
          29,
          29,
          29,
          29,
          29,
          29,
          29,
          29,
          29,
          29,
          29,
          29,
          29,
          29,
          29,
          29,
          29,
          29,
          29,
          29,
          29,
          29,
          29,
          30,
          30,
          30,
          30,
          30,
          31,
          31,
          31,
          31,
          31,
          31,
          31,
          31,
          31,
          31,
          31,
          31,
          31,
          31,
          31,
          31,
          31,
          31,
          31,
          31,
          31,
          31,
          31,
          31,
          31,
          31,
          31,
          31,
          31,
          31,
          31,
          31,
          31,
          31,
          31,
          31,
          31,
          31,
          31,
          31,
          31,
          31,
          32,
          32,
          32,
          32,
          32,
          32,
          32,
          32,
          32,
          32,
          32,
          32,
          32,
          32,
          32,
          32,
          32,
          32,
          32,
          32,
          32,
          32,
          32,
          32,
          32,
          32,
          32,
          32,
          32,
          32,
          32,
          32,
          32,
          32,
          32,
          32,
          33,
          33,
          33,
          33,
          33,
          33,
          33,
          33,
          34,
          35,
          35,
          35,
          35,
          35,
          35,
          35,
          35,
          35,
          35,
          35,
          35,
          35,
          36,
          36,
          36,
          36,
          36,
          36,
          36,
          37,
          38,
          38,
          38,
          38,
          38,
          38,
          38,
          38,
          38,
          38,
          38,
          38,
          38,
          38,
          38,
          38,
          38,
          38,
          38,
          38,
          38,
          38,
          38,
          38,
          38,
          38,
          38,
          38,
          38,
          38,
          38,
          39,
          39,
          39,
          39,
          39,
          39,
          40,
          41,
          41,
          41,
          41,
          41,
          41,
          41,
          41,
          41,
          41,
          41,
          41,
          43,
          44,
          44,
          44,
          45,
          45,
          45,
          45,
          45,
          46,
          46,
          46,
          46,
          46,
          46,
          46,
          46,
          46,
          46,
          46,
          47,
          47,
          47,
          47,
          47,
          47,
          47,
          48,
          48,
          48,
          48,
          48,
          48,
          48,
          48,
          51,
          53,
          54,
          58,
          60,
          60,
          60,
          60,
          60,
          60,
          60,
          60,
          60,
          60
         ],
         "yaxis": "y5"
        },
        {
         "marker": {
          "symbol": "cross"
         },
         "mode": "markers",
         "name": "hold_start",
         "type": "scatter",
         "x": [
          11.443,
          3.504,
          9.718,
          3.903,
          10.012,
          10.884,
          6.714,
          5.004,
          10.769,
          11.14,
          9.569,
          9.391,
          4.873,
          10.351,
          10.563,
          6.297,
          9.155,
          11.488,
          10.968,
          10.358,
          10.381,
          11.132,
          9.203,
          9.06,
          9.088,
          10.576,
          10.392,
          4.674,
          3.597,
          5.389,
          5.625,
          4.235,
          10.675,
          10.789,
          9.519,
          9.712,
          4.984,
          4.995,
          10.687,
          10.594,
          9.565,
          10.976,
          11.023,
          9.243,
          10.961,
          5.625,
          11.491,
          9.863,
          9.737,
          11.477,
          11.128,
          9.693,
          11.435,
          10.133,
          9.049,
          11.214,
          9.99,
          10.829,
          9.962,
          10.385
         ],
         "xaxis": "x7",
         "y": [
          1,
          2,
          3,
          4,
          5,
          6,
          7,
          8,
          9,
          10,
          11,
          12,
          13,
          14,
          15,
          16,
          17,
          18,
          19,
          20,
          21,
          22,
          23,
          24,
          25,
          26,
          27,
          28,
          29,
          30,
          31,
          32,
          33,
          34,
          35,
          36,
          37,
          38,
          39,
          40,
          41,
          42,
          43,
          44,
          45,
          46,
          47,
          48,
          49,
          50,
          51,
          52,
          53,
          54,
          55,
          56,
          57,
          58,
          59,
          60
         ],
         "yaxis": "y7"
        },
        {
         "marker": {
          "symbol": "circle"
         },
         "mode": "markers",
         "name": "bar",
         "type": "scatter",
         "x": [
          3.687,
          4.181,
          4.617,
          4.709,
          3.683,
          4.322,
          1.198,
          1.249,
          2.531,
          14.242,
          14.859,
          17.72,
          17.965,
          8.056,
          11.087,
          15.406,
          1.836,
          1.876,
          5.001,
          9.473,
          9.962,
          10.054,
          18.234,
          18.276,
          0.863,
          1.343,
          1.432,
          2.292,
          16.299,
          17.018,
          24.916,
          26.166,
          27.637,
          3.875,
          4.033,
          4.319,
          4.461,
          7.664,
          7.812,
          3.317,
          5.34,
          5.751,
          7.154,
          9.499,
          15.224,
          24.461,
          25.691,
          25.902,
          26.003,
          26.178,
          26.486,
          26.831,
          29.478,
          29.517,
          29.635,
          29.73,
          32.554,
          33.178,
          33.292,
          4.648,
          4.738,
          16.699,
          16.748,
          16.824,
          18.039,
          19.156,
          19.212,
          12.047,
          13.648,
          14.948,
          17.608,
          17.883,
          18.316,
          27.914,
          33.215,
          33.899,
          34.811,
          11.12,
          11.22,
          11.45,
          25.245,
          25.383,
          25.604,
          29.674,
          32.125,
          35.798,
          36.797,
          3.15,
          3.264,
          17.245,
          18.101,
          18.205,
          18.262,
          18.702,
          18.902,
          6.858,
          6.915,
          13.957,
          17.608,
          20.97,
          21.015,
          22.767,
          22.995,
          14.629,
          14.66,
          16.22,
          6.351,
          6.711,
          15.318,
          15.348,
          15.648,
          16.108,
          16.148,
          23.483,
          0.827,
          1.007,
          1.337,
          1.565,
          1.798,
          3.585,
          3.609,
          3.627,
          3.667,
          6.427,
          19.507,
          28.067,
          6.003,
          6.157,
          6.351,
          6.92,
          6.939,
          6.98,
          9.021,
          9.056,
          10.098,
          10.189,
          12.163,
          2.598,
          2.628,
          2.856,
          11.389,
          11.552,
          11.582,
          12.127,
          24.048,
          24.117,
          24.722,
          25.072,
          25.352,
          17.457,
          18.24,
          20.658,
          20.915,
          21.061,
          0.443,
          4.241,
          4.341,
          6.213,
          6.233,
          6.253,
          6.273,
          6.293,
          6.313,
          6.333,
          6.353,
          6.373,
          6.393,
          6.413,
          6.433,
          6.453,
          6.473,
          6.513,
          6.533,
          6.553,
          6.573,
          6.613,
          6.633,
          6.653,
          6.693,
          6.733,
          6.753,
          6.773,
          6.793,
          6.813,
          6.843,
          6.873,
          6.903,
          6.933,
          6.963,
          6.993,
          7.033,
          7.063,
          7.093,
          7.123,
          7.153,
          7.183,
          7.213,
          7.243,
          7.273,
          7.303,
          7.333,
          7.363,
          7.393,
          7.423,
          7.453,
          7.483,
          7.513,
          7.543,
          7.573,
          7.603,
          7.633,
          7.663,
          7.693,
          7.723,
          7.753,
          7.783,
          7.813,
          7.843,
          7.873,
          7.903,
          7.933,
          7.963,
          7.993,
          8.023,
          8.053,
          8.083,
          8.113,
          8.143,
          8.173,
          8.203,
          8.233,
          8.263,
          8.293,
          8.323,
          8.353,
          8.383,
          8.413,
          8.443,
          8.473,
          8.503,
          8.533,
          8.563,
          8.593,
          8.623,
          8.653,
          8.683,
          8.713,
          8.743,
          8.773,
          8.803,
          8.833,
          8.863,
          8.893,
          8.923,
          8.953,
          8.983,
          9.013,
          9.043,
          9.073,
          9.103,
          9.133,
          9.163,
          9.193,
          9.223,
          9.253,
          9.283,
          9.313,
          9.343,
          9.373,
          9.403,
          9.433,
          9.463,
          9.493,
          9.523,
          9.553,
          9.583,
          9.613,
          9.643,
          9.673,
          9.703,
          9.733,
          9.763,
          9.793,
          9.823,
          9.853,
          9.883,
          9.913,
          9.943,
          9.973,
          10.003,
          10.033,
          10.063,
          10.093,
          10.123,
          10.153,
          10.183,
          10.213,
          10.243,
          10.273,
          10.303,
          10.333,
          10.363,
          10.393,
          10.423,
          10.453,
          10.483,
          10.513,
          10.543,
          10.573,
          10.603,
          10.633,
          10.663,
          10.693,
          11.34,
          23.693,
          23.728,
          23.843,
          23.913,
          24.473,
          25.828,
          25.916,
          25.981,
          7.355,
          7.499,
          7.701,
          29.741,
          30.268,
          30.511,
          30.717,
          13.372,
          14.008,
          14.292,
          14.602,
          16.442,
          16.552,
          16.572,
          16.602,
          16.632,
          16.652,
          16.682,
          16.712,
          16.742,
          16.772,
          16.802,
          16.832,
          16.872,
          17.452,
          17.472,
          17.502,
          17.532,
          23.132,
          28.157,
          28.642,
          28.662,
          28.692,
          28.722,
          28.752,
          16.33,
          16.36,
          3.319,
          3.576,
          7.48,
          17.328,
          18.052,
          18.072,
          18.102,
          18.132,
          18.282,
          18.312,
          19.502,
          27.149,
          27.212,
          29.878,
          35.121,
          35.167,
          35.402,
          35.432,
          21.014,
          21.03,
          21.165,
          22.076,
          22.163,
          23.26,
          23.29,
          23.32,
          3.379,
          19.828,
          19.869,
          27.917,
          28.041,
          29.365,
          30.4,
          30.656,
          30.769,
          30.939,
          30.959,
          13.845,
          14.135,
          17.559,
          17.585,
          35.806,
          9.635,
          15.306,
          16.563,
          2.932,
          4.529,
          21.662,
          22.993,
          27.913,
          21.469,
          13.037,
          13.317,
          13.357,
          16.35,
          23.397,
          23.417,
          23.437,
          24.78,
          25.754,
          26.017,
          26.037,
          26.077,
          34.042,
          34.074,
          35.047,
          35.077,
          35.147,
          35.237,
          35.277,
          35.297,
          35.327,
          35.357,
          35.684,
          35.717,
          35.747,
          35.777,
          36.714,
          36.761,
          10.898,
          15.834,
          18.047,
          18.063,
          19.41,
          6.207,
          8.825,
          9.02,
          17.433,
          3.72,
          4.561,
          4.597,
          8.495,
          8.715,
          10.474,
          13.608,
          23.911,
          25.068,
          27.492,
          5.876,
          26.118,
          30.114,
          30.244,
          35.846,
          9.54,
          9.56,
          9.59,
          9.62,
          9.65,
          9.68,
          9.71,
          9.74,
          9.76,
          9.78,
          9.8,
          9.82,
          9.84,
          9.86,
          9.89,
          13.54,
          15.39,
          15.42,
          15.45,
          16.59,
          16.62,
          16.65,
          19.09,
          19.12,
          17.787,
          19.903
         ],
         "xaxis": "x2",
         "y": [
          61,
          61,
          61,
          61,
          62,
          62,
          63,
          63,
          64,
          64,
          64,
          64,
          64,
          65,
          65,
          65,
          66,
          66,
          66,
          66,
          66,
          66,
          66,
          66,
          67,
          67,
          67,
          67,
          67,
          67,
          67,
          67,
          67,
          68,
          68,
          68,
          68,
          69,
          69,
          70,
          70,
          70,
          70,
          70,
          70,
          70,
          70,
          70,
          70,
          70,
          70,
          70,
          70,
          70,
          70,
          70,
          70,
          70,
          70,
          71,
          71,
          71,
          71,
          71,
          71,
          71,
          71,
          72,
          72,
          72,
          73,
          73,
          73,
          73,
          73,
          73,
          73,
          74,
          74,
          74,
          74,
          74,
          74,
          74,
          74,
          74,
          74,
          75,
          75,
          75,
          75,
          75,
          75,
          75,
          75,
          76,
          76,
          76,
          76,
          76,
          76,
          76,
          76,
          77,
          77,
          77,
          78,
          78,
          78,
          78,
          78,
          78,
          78,
          78,
          79,
          79,
          79,
          79,
          79,
          79,
          79,
          79,
          79,
          79,
          79,
          79,
          80,
          80,
          80,
          80,
          80,
          80,
          80,
          80,
          80,
          80,
          80,
          81,
          81,
          81,
          82,
          82,
          82,
          82,
          82,
          82,
          82,
          82,
          82,
          83,
          83,
          83,
          83,
          83,
          85,
          85,
          85,
          85,
          85,
          85,
          85,
          85,
          85,
          85,
          85,
          85,
          85,
          85,
          85,
          85,
          85,
          85,
          85,
          85,
          85,
          85,
          85,
          85,
          85,
          85,
          85,
          85,
          85,
          85,
          85,
          85,
          85,
          85,
          85,
          85,
          85,
          85,
          85,
          85,
          85,
          85,
          85,
          85,
          85,
          85,
          85,
          85,
          85,
          85,
          85,
          85,
          85,
          85,
          85,
          85,
          85,
          85,
          85,
          85,
          85,
          85,
          85,
          85,
          85,
          85,
          85,
          85,
          85,
          85,
          85,
          85,
          85,
          85,
          85,
          85,
          85,
          85,
          85,
          85,
          85,
          85,
          85,
          85,
          85,
          85,
          85,
          85,
          85,
          85,
          85,
          85,
          85,
          85,
          85,
          85,
          85,
          85,
          85,
          85,
          85,
          85,
          85,
          85,
          85,
          85,
          85,
          85,
          85,
          85,
          85,
          85,
          85,
          85,
          85,
          85,
          85,
          85,
          85,
          85,
          85,
          85,
          85,
          85,
          85,
          85,
          85,
          85,
          85,
          85,
          85,
          85,
          85,
          85,
          85,
          85,
          85,
          85,
          85,
          85,
          85,
          85,
          85,
          85,
          85,
          85,
          85,
          85,
          85,
          85,
          85,
          85,
          85,
          85,
          85,
          85,
          85,
          85,
          85,
          85,
          85,
          85,
          85,
          85,
          85,
          85,
          85,
          85,
          86,
          86,
          86,
          86,
          86,
          86,
          86,
          87,
          87,
          87,
          87,
          87,
          87,
          87,
          87,
          87,
          87,
          87,
          87,
          87,
          87,
          87,
          87,
          87,
          87,
          87,
          87,
          87,
          87,
          87,
          87,
          87,
          87,
          87,
          87,
          88,
          88,
          89,
          89,
          89,
          89,
          89,
          89,
          89,
          89,
          89,
          89,
          89,
          89,
          89,
          89,
          89,
          89,
          89,
          89,
          90,
          90,
          90,
          90,
          90,
          90,
          90,
          90,
          92,
          92,
          92,
          92,
          92,
          92,
          92,
          92,
          92,
          92,
          92,
          93,
          93,
          93,
          93,
          93,
          94,
          94,
          94,
          95,
          95,
          95,
          95,
          95,
          96,
          97,
          97,
          97,
          97,
          97,
          97,
          97,
          97,
          97,
          97,
          97,
          97,
          97,
          97,
          97,
          97,
          97,
          97,
          97,
          97,
          97,
          97,
          97,
          97,
          97,
          97,
          97,
          97,
          98,
          98,
          98,
          98,
          98,
          99,
          99,
          99,
          99,
          100,
          100,
          100,
          100,
          100,
          100,
          100,
          100,
          100,
          100,
          101,
          101,
          101,
          101,
          102,
          105,
          105,
          105,
          105,
          105,
          105,
          105,
          105,
          105,
          105,
          105,
          105,
          105,
          105,
          105,
          105,
          105,
          105,
          105,
          105,
          105,
          105,
          105,
          105,
          106,
          106
         ],
         "yaxis": "y2"
        },
        {
         "marker": {
          "symbol": "square"
         },
         "mode": "markers",
         "name": "bar_off",
         "type": "scatter",
         "x": [
          0.39,
          3.703,
          4.586,
          4.674,
          2.052,
          4.283,
          0.284,
          1.215,
          1.774,
          11.938,
          14.762,
          17.312,
          17.827,
          2.252,
          8.301,
          14.41,
          1.806,
          1.861,
          4.841,
          5.016,
          9.914,
          9.977,
          11.178,
          18.249,
          0.756,
          1.106,
          1.416,
          1.486,
          2.542,
          16.966,
          22.623,
          25.206,
          27.52,
          2.822,
          4.018,
          4.264,
          4.419,
          6.77,
          7.721,
          0.155,
          3.558,
          5.355,
          6.256,
          9.31,
          13.165,
          17.019,
          24.797,
          25.856,
          25.963,
          26.163,
          26.207,
          26.738,
          28.596,
          29.502,
          29.522,
          29.715,
          32.16,
          33.068,
          33.25,
          4.615,
          4.688,
          5.308,
          16.714,
          16.777,
          17.107,
          19.033,
          19.172,
          11.593,
          13.587,
          14.851,
          17.254,
          17.721,
          18.286,
          25.787,
          33.119,
          33.476,
          34.472,
          10.12,
          11.205,
          11.235,
          16.531,
          25.368,
          25.551,
          28.64,
          31.27,
          32.784,
          36.193,
          1.298,
          3.165,
          3.28,
          17.935,
          18.15,
          18.22,
          18.382,
          18.828,
          6.76,
          6.873,
          7.019,
          16.355,
          19.366,
          20.985,
          21.03,
          22.841,
          12.947,
          14.645,
          16.116,
          6.198,
          6.591,
          15.189,
          15.333,
          15.368,
          15.933,
          16.123,
          23.049,
          0.792,
          0.962,
          1.322,
          1.352,
          1.783,
          2.09,
          3.601,
          3.624,
          3.642,
          3.682,
          17.525,
          19.545,
          5.986,
          6.018,
          6.246,
          6.773,
          6.935,
          6.965,
          7.782,
          9.041,
          10.023,
          10.123,
          10.257,
          0.788,
          2.613,
          2.738,
          10.66,
          11.537,
          11.567,
          11.631,
          23.979,
          24.097,
          24.137,
          24.976,
          25.141,
          16.376,
          17.972,
          20.034,
          20.813,
          20.991,
          0.238,
          4.226,
          4.326,
          6.198,
          6.218,
          6.238,
          6.258,
          6.278,
          6.298,
          6.318,
          6.338,
          6.358,
          6.378,
          6.398,
          6.418,
          6.438,
          6.458,
          6.498,
          6.518,
          6.538,
          6.558,
          6.598,
          6.618,
          6.638,
          6.678,
          6.718,
          6.738,
          6.758,
          6.778,
          6.798,
          6.828,
          6.858,
          6.888,
          6.918,
          6.948,
          6.978,
          7.018,
          7.048,
          7.078,
          7.108,
          7.138,
          7.168,
          7.198,
          7.228,
          7.258,
          7.288,
          7.318,
          7.348,
          7.378,
          7.408,
          7.438,
          7.468,
          7.498,
          7.528,
          7.558,
          7.588,
          7.618,
          7.648,
          7.678,
          7.708,
          7.738,
          7.768,
          7.798,
          7.828,
          7.858,
          7.888,
          7.918,
          7.948,
          7.978,
          8.008,
          8.038,
          8.068,
          8.098,
          8.128,
          8.158,
          8.188,
          8.218,
          8.248,
          8.278,
          8.308,
          8.338,
          8.368,
          8.398,
          8.428,
          8.458,
          8.488,
          8.518,
          8.548,
          8.578,
          8.608,
          8.638,
          8.668,
          8.698,
          8.728,
          8.758,
          8.788,
          8.818,
          8.848,
          8.878,
          8.908,
          8.938,
          8.968,
          8.998,
          9.028,
          9.058,
          9.088,
          9.118,
          9.148,
          9.178,
          9.208,
          9.238,
          9.268,
          9.298,
          9.328,
          9.358,
          9.388,
          9.418,
          9.448,
          9.478,
          9.508,
          9.538,
          9.568,
          9.598,
          9.628,
          9.658,
          9.688,
          9.718,
          9.748,
          9.778,
          9.808,
          9.838,
          9.868,
          9.898,
          9.928,
          9.958,
          9.988,
          10.018,
          10.048,
          10.078,
          10.108,
          10.138,
          10.168,
          10.198,
          10.228,
          10.258,
          10.288,
          10.318,
          10.348,
          10.378,
          10.408,
          10.438,
          10.468,
          10.498,
          10.528,
          10.558,
          10.588,
          10.618,
          10.648,
          10.678,
          10.748,
          22.596,
          23.708,
          23.828,
          23.871,
          24.121,
          25.803,
          25.844,
          25.965,
          5.882,
          7.372,
          7.535,
          29.647,
          29.768,
          30.373,
          30.574,
          12.055,
          13.601,
          14.042,
          14.337,
          16.427,
          16.457,
          16.567,
          16.587,
          16.617,
          16.647,
          16.667,
          16.697,
          16.727,
          16.757,
          16.787,
          16.817,
          16.857,
          17.437,
          17.457,
          17.487,
          17.517,
          21.432,
          28.058,
          28.172,
          28.657,
          28.677,
          28.707,
          28.737,
          15.856,
          16.345,
          2.367,
          3.346,
          3.881,
          14.454,
          17.656,
          18.067,
          18.087,
          18.117,
          18.267,
          18.297,
          18.347,
          25.727,
          27.165,
          29.807,
          31.681,
          35.152,
          35.167,
          35.417,
          4.414,
          21.029,
          21.141,
          21.18,
          22.115,
          22.245,
          23.275,
          23.305,
          3.227,
          18.098,
          19.844,
          26.169,
          27.983,
          28.504,
          29.425,
          30.509,
          30.686,
          30.924,
          30.944,
          13.518,
          13.89,
          14.15,
          17.574,
          33.394,
          9.616,
          10.313,
          15.592,
          2.757,
          4.484,
          20.438,
          21.677,
          27.456,
          18.562,
          11.49,
          13.125,
          13.332,
          16.305,
          21.517,
          23.412,
          23.433,
          24.312,
          24.801,
          25.769,
          26.032,
          26.052,
          32.951,
          34.057,
          35.032,
          35.062,
          35.092,
          35.222,
          35.252,
          35.292,
          35.312,
          35.342,
          35.372,
          35.702,
          35.732,
          35.762,
          36.672,
          36.746,
          8.469,
          10.913,
          15.925,
          18.062,
          18.086,
          6.153,
          6.237,
          8.969,
          9.035,
          3.079,
          3.736,
          4.576,
          8.387,
          8.631,
          10.357,
          11.281,
          22.315,
          24.094,
          27.269,
          1.692,
          23.374,
          30.099,
          30.2,
          10.355,
          3.581,
          9.555,
          9.575,
          9.605,
          9.635,
          9.665,
          9.695,
          9.725,
          9.745,
          9.765,
          9.785,
          9.805,
          9.825,
          9.845,
          9.875,
          13.086,
          14.01,
          15.405,
          15.435,
          16.575,
          16.605,
          16.635,
          16.655,
          19.105,
          17.761,
          19.676
         ],
         "xaxis": "x4",
         "y": [
          61,
          61,
          61,
          61,
          62,
          62,
          63,
          63,
          64,
          64,
          64,
          64,
          64,
          65,
          65,
          65,
          66,
          66,
          66,
          66,
          66,
          66,
          66,
          66,
          67,
          67,
          67,
          67,
          67,
          67,
          67,
          67,
          67,
          68,
          68,
          68,
          68,
          69,
          69,
          70,
          70,
          70,
          70,
          70,
          70,
          70,
          70,
          70,
          70,
          70,
          70,
          70,
          70,
          70,
          70,
          70,
          70,
          70,
          70,
          71,
          71,
          71,
          71,
          71,
          71,
          71,
          71,
          72,
          72,
          72,
          73,
          73,
          73,
          73,
          73,
          73,
          73,
          74,
          74,
          74,
          74,
          74,
          74,
          74,
          74,
          74,
          74,
          75,
          75,
          75,
          75,
          75,
          75,
          75,
          75,
          76,
          76,
          76,
          76,
          76,
          76,
          76,
          76,
          77,
          77,
          77,
          78,
          78,
          78,
          78,
          78,
          78,
          78,
          78,
          79,
          79,
          79,
          79,
          79,
          79,
          79,
          79,
          79,
          79,
          79,
          79,
          80,
          80,
          80,
          80,
          80,
          80,
          80,
          80,
          80,
          80,
          80,
          81,
          81,
          81,
          82,
          82,
          82,
          82,
          82,
          82,
          82,
          82,
          82,
          83,
          83,
          83,
          83,
          83,
          85,
          85,
          85,
          85,
          85,
          85,
          85,
          85,
          85,
          85,
          85,
          85,
          85,
          85,
          85,
          85,
          85,
          85,
          85,
          85,
          85,
          85,
          85,
          85,
          85,
          85,
          85,
          85,
          85,
          85,
          85,
          85,
          85,
          85,
          85,
          85,
          85,
          85,
          85,
          85,
          85,
          85,
          85,
          85,
          85,
          85,
          85,
          85,
          85,
          85,
          85,
          85,
          85,
          85,
          85,
          85,
          85,
          85,
          85,
          85,
          85,
          85,
          85,
          85,
          85,
          85,
          85,
          85,
          85,
          85,
          85,
          85,
          85,
          85,
          85,
          85,
          85,
          85,
          85,
          85,
          85,
          85,
          85,
          85,
          85,
          85,
          85,
          85,
          85,
          85,
          85,
          85,
          85,
          85,
          85,
          85,
          85,
          85,
          85,
          85,
          85,
          85,
          85,
          85,
          85,
          85,
          85,
          85,
          85,
          85,
          85,
          85,
          85,
          85,
          85,
          85,
          85,
          85,
          85,
          85,
          85,
          85,
          85,
          85,
          85,
          85,
          85,
          85,
          85,
          85,
          85,
          85,
          85,
          85,
          85,
          85,
          85,
          85,
          85,
          85,
          85,
          85,
          85,
          85,
          85,
          85,
          85,
          85,
          85,
          85,
          85,
          85,
          85,
          85,
          85,
          85,
          85,
          85,
          85,
          85,
          85,
          85,
          85,
          85,
          85,
          85,
          85,
          85,
          86,
          86,
          86,
          86,
          86,
          86,
          86,
          87,
          87,
          87,
          87,
          87,
          87,
          87,
          87,
          87,
          87,
          87,
          87,
          87,
          87,
          87,
          87,
          87,
          87,
          87,
          87,
          87,
          87,
          87,
          87,
          87,
          87,
          87,
          87,
          88,
          88,
          89,
          89,
          89,
          89,
          89,
          89,
          89,
          89,
          89,
          89,
          89,
          89,
          89,
          89,
          89,
          89,
          89,
          89,
          90,
          90,
          90,
          90,
          90,
          90,
          90,
          90,
          92,
          92,
          92,
          92,
          92,
          92,
          92,
          92,
          92,
          92,
          92,
          93,
          93,
          93,
          93,
          93,
          94,
          94,
          94,
          95,
          95,
          95,
          95,
          95,
          96,
          97,
          97,
          97,
          97,
          97,
          97,
          97,
          97,
          97,
          97,
          97,
          97,
          97,
          97,
          97,
          97,
          97,
          97,
          97,
          97,
          97,
          97,
          97,
          97,
          97,
          97,
          97,
          97,
          98,
          98,
          98,
          98,
          98,
          99,
          99,
          99,
          99,
          100,
          100,
          100,
          100,
          100,
          100,
          100,
          100,
          100,
          100,
          101,
          101,
          101,
          101,
          102,
          105,
          105,
          105,
          105,
          105,
          105,
          105,
          105,
          105,
          105,
          105,
          105,
          105,
          105,
          105,
          105,
          105,
          105,
          105,
          105,
          105,
          105,
          105,
          105,
          106,
          106
         ],
         "yaxis": "y4"
        },
        {
         "marker": {
          "symbol": "diamond"
         },
         "mode": "markers",
         "name": "spout",
         "type": "scatter",
         "x": [
          0.533,
          1.11,
          3.434,
          2.073,
          2.904,
          3.401,
          0.326,
          0.489,
          12.361,
          13.497,
          3.113,
          15.041,
          1.849,
          6.23,
          12.395,
          14.877,
          15.486,
          15.647,
          15.849,
          16.073,
          16.359,
          16.996,
          17.635,
          17.83,
          18,
          18.053,
          0.769,
          3.381,
          6.928,
          0.168,
          1.756,
          2.884,
          2.901,
          2.925,
          2.945,
          13.666,
          14.094,
          14.968,
          20.244,
          20.471,
          20.912,
          21.88,
          22.325,
          6.324,
          17.295,
          17.521,
          17.797,
          17.274,
          17.199,
          17.56,
          21.728,
          23.529,
          24.082,
          24.968,
          28.819,
          32.9,
          32.972,
          33.542,
          33.706,
          33.947,
          34.232,
          34.496,
          34.916,
          35.26,
          1.32,
          7.335,
          8.026,
          12.732,
          12.99,
          13.603,
          13.914,
          6.78,
          8.824,
          9.007,
          11.651,
          19.917,
          20.631,
          6.211,
          6.242,
          14.829,
          7.964,
          0.8,
          0.838,
          1.478,
          1.601,
          1.638,
          10.702,
          19.737,
          15.663,
          16.31,
          5.895,
          5.925,
          18.229,
          15.878,
          22.3,
          2.38,
          2.411,
          25.224,
          4.436,
          11.444,
          3.27,
          26.486,
          9.659,
          11.443,
          12.63,
          12.988,
          13.922,
          19.909,
          14.314,
          11.533,
          9.071,
          9.998,
          10.388,
          12.82,
          13.257,
          6.166,
          7.581,
          7.789,
          9.431,
          15.045,
          15.219,
          3.122,
          19.252,
          17.938,
          3.593,
          24.838
         ],
         "xaxis": "x6",
         "y": [
          61,
          61,
          61,
          62,
          62,
          62,
          63,
          63,
          64,
          64,
          65,
          65,
          66,
          66,
          66,
          66,
          66,
          66,
          66,
          66,
          66,
          66,
          66,
          66,
          66,
          66,
          67,
          68,
          69,
          70,
          70,
          70,
          70,
          70,
          70,
          70,
          70,
          70,
          70,
          70,
          70,
          70,
          70,
          71,
          71,
          71,
          71,
          73,
          74,
          74,
          74,
          74,
          74,
          74,
          74,
          74,
          74,
          74,
          74,
          74,
          74,
          74,
          74,
          74,
          75,
          75,
          75,
          75,
          75,
          75,
          75,
          76,
          76,
          76,
          76,
          76,
          76,
          78,
          78,
          79,
          80,
          81,
          81,
          81,
          81,
          81,
          82,
          82,
          83,
          84,
          86,
          86,
          87,
          88,
          88,
          89,
          89,
          89,
          90,
          90,
          92,
          92,
          94,
          94,
          94,
          94,
          94,
          95,
          96,
          97,
          98,
          98,
          98,
          98,
          98,
          99,
          99,
          99,
          99,
          99,
          99,
          100,
          100,
          101,
          105,
          105
         ],
         "yaxis": "y6"
        },
        {
         "marker": {
          "symbol": "cross"
         },
         "mode": "markers",
         "name": "hold_start",
         "type": "scatter",
         "x": [
          4.609,
          6.172,
          4,
          15.236,
          7.818,
          9.623,
          23.267,
          6.552,
          10.453,
          5.448,
          9.888,
          15.417,
          32.541,
          20.453,
          12.458,
          11.566,
          13.501,
          22.237,
          19.87,
          10.916,
          4.57,
          25.146,
          20.694,
          22.884,
          22.933,
          27.62,
          23.92,
          27.329,
          30.752,
          17.188,
          19.2,
          33.143,
          29.768,
          16.751,
          25.353,
          20.315,
          30.583,
          11.779,
          10.366,
          25.412,
          23.02,
          19.402,
          5.771,
          28.488,
          30.011,
          29.484
         ],
         "xaxis": "x8",
         "y": [
          61,
          62,
          63,
          64,
          65,
          66,
          67,
          68,
          69,
          70,
          71,
          72,
          73,
          74,
          75,
          76,
          77,
          78,
          79,
          80,
          81,
          82,
          83,
          84,
          85,
          86,
          87,
          88,
          89,
          90,
          91,
          92,
          93,
          94,
          95,
          96,
          97,
          98,
          99,
          100,
          101,
          102,
          103,
          104,
          105,
          106
         ],
         "yaxis": "y8"
        }
       ],
       "layout": {
        "annotations": [
         {
          "font": {
           "size": 16
          },
          "showarrow": false,
          "text": "cued bar_trial_time",
          "x": 0.225,
          "xanchor": "center",
          "xref": "paper",
          "y": 1,
          "yanchor": "bottom",
          "yref": "paper"
         },
         {
          "font": {
           "size": 16
          },
          "showarrow": false,
          "text": "uncued bar_trial_time",
          "x": 0.775,
          "xanchor": "center",
          "xref": "paper",
          "y": 1,
          "yanchor": "bottom",
          "yref": "paper"
         },
         {
          "font": {
           "size": 16
          },
          "showarrow": false,
          "text": "cued bar_off_trial_time",
          "x": 0.225,
          "xanchor": "center",
          "xref": "paper",
          "y": 0.71875,
          "yanchor": "bottom",
          "yref": "paper"
         },
         {
          "font": {
           "size": 16
          },
          "showarrow": false,
          "text": "uncued bar_off_trial_time",
          "x": 0.775,
          "xanchor": "center",
          "xref": "paper",
          "y": 0.71875,
          "yanchor": "bottom",
          "yref": "paper"
         },
         {
          "font": {
           "size": 16
          },
          "showarrow": false,
          "text": "cued spout_trial_time",
          "x": 0.225,
          "xanchor": "center",
          "xref": "paper",
          "y": 0.4375,
          "yanchor": "bottom",
          "yref": "paper"
         },
         {
          "font": {
           "size": 16
          },
          "showarrow": false,
          "text": "uncued spout_trial_time",
          "x": 0.775,
          "xanchor": "center",
          "xref": "paper",
          "y": 0.4375,
          "yanchor": "bottom",
          "yref": "paper"
         },
         {
          "font": {
           "size": 16
          },
          "showarrow": false,
          "text": "cued hold_start_trial_time",
          "x": 0.225,
          "xanchor": "center",
          "xref": "paper",
          "y": 0.15625,
          "yanchor": "bottom",
          "yref": "paper"
         },
         {
          "font": {
           "size": 16
          },
          "showarrow": false,
          "text": "uncued hold_start_trial_time",
          "x": 0.775,
          "xanchor": "center",
          "xref": "paper",
          "y": 0.15625,
          "yanchor": "bottom",
          "yref": "paper"
         }
        ],
        "height": 800,
        "shapes": [
         {
          "line": {
           "color": "Grey",
           "dash": "dot",
           "width": 2
          },
          "type": "line",
          "x0": 0,
          "x1": 0,
          "xref": "x",
          "y0": 1,
          "y1": 60,
          "yref": "y"
         },
         {
          "line": {
           "color": "Grey",
           "dash": "dot",
           "width": 2
          },
          "type": "line",
          "x0": 0,
          "x1": 0,
          "xref": "x3",
          "y0": 1,
          "y1": 60,
          "yref": "y3"
         },
         {
          "line": {
           "color": "Grey",
           "dash": "dot",
           "width": 2
          },
          "type": "line",
          "x0": 0,
          "x1": 0,
          "xref": "x5",
          "y0": 1,
          "y1": 60,
          "yref": "y5"
         },
         {
          "line": {
           "color": "Grey",
           "dash": "dot",
           "width": 2
          },
          "type": "line",
          "x0": 0,
          "x1": 0,
          "xref": "x7",
          "y0": 1,
          "y1": 60,
          "yref": "y7"
         },
         {
          "line": {
           "color": "Grey",
           "dash": "dot",
           "width": 2
          },
          "type": "line",
          "x0": 0,
          "x1": 0,
          "xref": "x2",
          "y0": 1,
          "y1": 106,
          "yref": "y2"
         },
         {
          "line": {
           "color": "Grey",
           "dash": "dot",
           "width": 2
          },
          "type": "line",
          "x0": 0,
          "x1": 0,
          "xref": "x4",
          "y0": 1,
          "y1": 106,
          "yref": "y4"
         },
         {
          "line": {
           "color": "Grey",
           "dash": "dot",
           "width": 2
          },
          "type": "line",
          "x0": 0,
          "x1": 0,
          "xref": "x6",
          "y0": 1,
          "y1": 105,
          "yref": "y6"
         },
         {
          "line": {
           "color": "Grey",
           "dash": "dot",
           "width": 2
          },
          "type": "line",
          "x0": 0,
          "x1": 0,
          "xref": "x8",
          "y0": 1,
          "y1": 106,
          "yref": "y8"
         }
        ],
        "template": {
         "data": {
          "bar": [
           {
            "error_x": {
             "color": "#2a3f5f"
            },
            "error_y": {
             "color": "#2a3f5f"
            },
            "marker": {
             "line": {
              "color": "#E5ECF6",
              "width": 0.5
             },
             "pattern": {
              "fillmode": "overlay",
              "size": 10,
              "solidity": 0.2
             }
            },
            "type": "bar"
           }
          ],
          "barpolar": [
           {
            "marker": {
             "line": {
              "color": "#E5ECF6",
              "width": 0.5
             },
             "pattern": {
              "fillmode": "overlay",
              "size": 10,
              "solidity": 0.2
             }
            },
            "type": "barpolar"
           }
          ],
          "carpet": [
           {
            "aaxis": {
             "endlinecolor": "#2a3f5f",
             "gridcolor": "white",
             "linecolor": "white",
             "minorgridcolor": "white",
             "startlinecolor": "#2a3f5f"
            },
            "baxis": {
             "endlinecolor": "#2a3f5f",
             "gridcolor": "white",
             "linecolor": "white",
             "minorgridcolor": "white",
             "startlinecolor": "#2a3f5f"
            },
            "type": "carpet"
           }
          ],
          "choropleth": [
           {
            "colorbar": {
             "outlinewidth": 0,
             "ticks": ""
            },
            "type": "choropleth"
           }
          ],
          "contour": [
           {
            "colorbar": {
             "outlinewidth": 0,
             "ticks": ""
            },
            "colorscale": [
             [
              0,
              "#0d0887"
             ],
             [
              0.1111111111111111,
              "#46039f"
             ],
             [
              0.2222222222222222,
              "#7201a8"
             ],
             [
              0.3333333333333333,
              "#9c179e"
             ],
             [
              0.4444444444444444,
              "#bd3786"
             ],
             [
              0.5555555555555556,
              "#d8576b"
             ],
             [
              0.6666666666666666,
              "#ed7953"
             ],
             [
              0.7777777777777778,
              "#fb9f3a"
             ],
             [
              0.8888888888888888,
              "#fdca26"
             ],
             [
              1,
              "#f0f921"
             ]
            ],
            "type": "contour"
           }
          ],
          "contourcarpet": [
           {
            "colorbar": {
             "outlinewidth": 0,
             "ticks": ""
            },
            "type": "contourcarpet"
           }
          ],
          "heatmap": [
           {
            "colorbar": {
             "outlinewidth": 0,
             "ticks": ""
            },
            "colorscale": [
             [
              0,
              "#0d0887"
             ],
             [
              0.1111111111111111,
              "#46039f"
             ],
             [
              0.2222222222222222,
              "#7201a8"
             ],
             [
              0.3333333333333333,
              "#9c179e"
             ],
             [
              0.4444444444444444,
              "#bd3786"
             ],
             [
              0.5555555555555556,
              "#d8576b"
             ],
             [
              0.6666666666666666,
              "#ed7953"
             ],
             [
              0.7777777777777778,
              "#fb9f3a"
             ],
             [
              0.8888888888888888,
              "#fdca26"
             ],
             [
              1,
              "#f0f921"
             ]
            ],
            "type": "heatmap"
           }
          ],
          "heatmapgl": [
           {
            "colorbar": {
             "outlinewidth": 0,
             "ticks": ""
            },
            "colorscale": [
             [
              0,
              "#0d0887"
             ],
             [
              0.1111111111111111,
              "#46039f"
             ],
             [
              0.2222222222222222,
              "#7201a8"
             ],
             [
              0.3333333333333333,
              "#9c179e"
             ],
             [
              0.4444444444444444,
              "#bd3786"
             ],
             [
              0.5555555555555556,
              "#d8576b"
             ],
             [
              0.6666666666666666,
              "#ed7953"
             ],
             [
              0.7777777777777778,
              "#fb9f3a"
             ],
             [
              0.8888888888888888,
              "#fdca26"
             ],
             [
              1,
              "#f0f921"
             ]
            ],
            "type": "heatmapgl"
           }
          ],
          "histogram": [
           {
            "marker": {
             "pattern": {
              "fillmode": "overlay",
              "size": 10,
              "solidity": 0.2
             }
            },
            "type": "histogram"
           }
          ],
          "histogram2d": [
           {
            "colorbar": {
             "outlinewidth": 0,
             "ticks": ""
            },
            "colorscale": [
             [
              0,
              "#0d0887"
             ],
             [
              0.1111111111111111,
              "#46039f"
             ],
             [
              0.2222222222222222,
              "#7201a8"
             ],
             [
              0.3333333333333333,
              "#9c179e"
             ],
             [
              0.4444444444444444,
              "#bd3786"
             ],
             [
              0.5555555555555556,
              "#d8576b"
             ],
             [
              0.6666666666666666,
              "#ed7953"
             ],
             [
              0.7777777777777778,
              "#fb9f3a"
             ],
             [
              0.8888888888888888,
              "#fdca26"
             ],
             [
              1,
              "#f0f921"
             ]
            ],
            "type": "histogram2d"
           }
          ],
          "histogram2dcontour": [
           {
            "colorbar": {
             "outlinewidth": 0,
             "ticks": ""
            },
            "colorscale": [
             [
              0,
              "#0d0887"
             ],
             [
              0.1111111111111111,
              "#46039f"
             ],
             [
              0.2222222222222222,
              "#7201a8"
             ],
             [
              0.3333333333333333,
              "#9c179e"
             ],
             [
              0.4444444444444444,
              "#bd3786"
             ],
             [
              0.5555555555555556,
              "#d8576b"
             ],
             [
              0.6666666666666666,
              "#ed7953"
             ],
             [
              0.7777777777777778,
              "#fb9f3a"
             ],
             [
              0.8888888888888888,
              "#fdca26"
             ],
             [
              1,
              "#f0f921"
             ]
            ],
            "type": "histogram2dcontour"
           }
          ],
          "mesh3d": [
           {
            "colorbar": {
             "outlinewidth": 0,
             "ticks": ""
            },
            "type": "mesh3d"
           }
          ],
          "parcoords": [
           {
            "line": {
             "colorbar": {
              "outlinewidth": 0,
              "ticks": ""
             }
            },
            "type": "parcoords"
           }
          ],
          "pie": [
           {
            "automargin": true,
            "type": "pie"
           }
          ],
          "scatter": [
           {
            "fillpattern": {
             "fillmode": "overlay",
             "size": 10,
             "solidity": 0.2
            },
            "type": "scatter"
           }
          ],
          "scatter3d": [
           {
            "line": {
             "colorbar": {
              "outlinewidth": 0,
              "ticks": ""
             }
            },
            "marker": {
             "colorbar": {
              "outlinewidth": 0,
              "ticks": ""
             }
            },
            "type": "scatter3d"
           }
          ],
          "scattercarpet": [
           {
            "marker": {
             "colorbar": {
              "outlinewidth": 0,
              "ticks": ""
             }
            },
            "type": "scattercarpet"
           }
          ],
          "scattergeo": [
           {
            "marker": {
             "colorbar": {
              "outlinewidth": 0,
              "ticks": ""
             }
            },
            "type": "scattergeo"
           }
          ],
          "scattergl": [
           {
            "marker": {
             "colorbar": {
              "outlinewidth": 0,
              "ticks": ""
             }
            },
            "type": "scattergl"
           }
          ],
          "scattermapbox": [
           {
            "marker": {
             "colorbar": {
              "outlinewidth": 0,
              "ticks": ""
             }
            },
            "type": "scattermapbox"
           }
          ],
          "scatterpolar": [
           {
            "marker": {
             "colorbar": {
              "outlinewidth": 0,
              "ticks": ""
             }
            },
            "type": "scatterpolar"
           }
          ],
          "scatterpolargl": [
           {
            "marker": {
             "colorbar": {
              "outlinewidth": 0,
              "ticks": ""
             }
            },
            "type": "scatterpolargl"
           }
          ],
          "scatterternary": [
           {
            "marker": {
             "colorbar": {
              "outlinewidth": 0,
              "ticks": ""
             }
            },
            "type": "scatterternary"
           }
          ],
          "surface": [
           {
            "colorbar": {
             "outlinewidth": 0,
             "ticks": ""
            },
            "colorscale": [
             [
              0,
              "#0d0887"
             ],
             [
              0.1111111111111111,
              "#46039f"
             ],
             [
              0.2222222222222222,
              "#7201a8"
             ],
             [
              0.3333333333333333,
              "#9c179e"
             ],
             [
              0.4444444444444444,
              "#bd3786"
             ],
             [
              0.5555555555555556,
              "#d8576b"
             ],
             [
              0.6666666666666666,
              "#ed7953"
             ],
             [
              0.7777777777777778,
              "#fb9f3a"
             ],
             [
              0.8888888888888888,
              "#fdca26"
             ],
             [
              1,
              "#f0f921"
             ]
            ],
            "type": "surface"
           }
          ],
          "table": [
           {
            "cells": {
             "fill": {
              "color": "#EBF0F8"
             },
             "line": {
              "color": "white"
             }
            },
            "header": {
             "fill": {
              "color": "#C8D4E3"
             },
             "line": {
              "color": "white"
             }
            },
            "type": "table"
           }
          ]
         },
         "layout": {
          "annotationdefaults": {
           "arrowcolor": "#2a3f5f",
           "arrowhead": 0,
           "arrowwidth": 1
          },
          "autotypenumbers": "strict",
          "coloraxis": {
           "colorbar": {
            "outlinewidth": 0,
            "ticks": ""
           }
          },
          "colorscale": {
           "diverging": [
            [
             0,
             "#8e0152"
            ],
            [
             0.1,
             "#c51b7d"
            ],
            [
             0.2,
             "#de77ae"
            ],
            [
             0.3,
             "#f1b6da"
            ],
            [
             0.4,
             "#fde0ef"
            ],
            [
             0.5,
             "#f7f7f7"
            ],
            [
             0.6,
             "#e6f5d0"
            ],
            [
             0.7,
             "#b8e186"
            ],
            [
             0.8,
             "#7fbc41"
            ],
            [
             0.9,
             "#4d9221"
            ],
            [
             1,
             "#276419"
            ]
           ],
           "sequential": [
            [
             0,
             "#0d0887"
            ],
            [
             0.1111111111111111,
             "#46039f"
            ],
            [
             0.2222222222222222,
             "#7201a8"
            ],
            [
             0.3333333333333333,
             "#9c179e"
            ],
            [
             0.4444444444444444,
             "#bd3786"
            ],
            [
             0.5555555555555556,
             "#d8576b"
            ],
            [
             0.6666666666666666,
             "#ed7953"
            ],
            [
             0.7777777777777778,
             "#fb9f3a"
            ],
            [
             0.8888888888888888,
             "#fdca26"
            ],
            [
             1,
             "#f0f921"
            ]
           ],
           "sequentialminus": [
            [
             0,
             "#0d0887"
            ],
            [
             0.1111111111111111,
             "#46039f"
            ],
            [
             0.2222222222222222,
             "#7201a8"
            ],
            [
             0.3333333333333333,
             "#9c179e"
            ],
            [
             0.4444444444444444,
             "#bd3786"
            ],
            [
             0.5555555555555556,
             "#d8576b"
            ],
            [
             0.6666666666666666,
             "#ed7953"
            ],
            [
             0.7777777777777778,
             "#fb9f3a"
            ],
            [
             0.8888888888888888,
             "#fdca26"
            ],
            [
             1,
             "#f0f921"
            ]
           ]
          },
          "colorway": [
           "#636efa",
           "#EF553B",
           "#00cc96",
           "#ab63fa",
           "#FFA15A",
           "#19d3f3",
           "#FF6692",
           "#B6E880",
           "#FF97FF",
           "#FECB52"
          ],
          "font": {
           "color": "#2a3f5f"
          },
          "geo": {
           "bgcolor": "white",
           "lakecolor": "white",
           "landcolor": "#E5ECF6",
           "showlakes": true,
           "showland": true,
           "subunitcolor": "white"
          },
          "hoverlabel": {
           "align": "left"
          },
          "hovermode": "closest",
          "mapbox": {
           "style": "light"
          },
          "paper_bgcolor": "white",
          "plot_bgcolor": "#E5ECF6",
          "polar": {
           "angularaxis": {
            "gridcolor": "white",
            "linecolor": "white",
            "ticks": ""
           },
           "bgcolor": "#E5ECF6",
           "radialaxis": {
            "gridcolor": "white",
            "linecolor": "white",
            "ticks": ""
           }
          },
          "scene": {
           "xaxis": {
            "backgroundcolor": "#E5ECF6",
            "gridcolor": "white",
            "gridwidth": 2,
            "linecolor": "white",
            "showbackground": true,
            "ticks": "",
            "zerolinecolor": "white"
           },
           "yaxis": {
            "backgroundcolor": "#E5ECF6",
            "gridcolor": "white",
            "gridwidth": 2,
            "linecolor": "white",
            "showbackground": true,
            "ticks": "",
            "zerolinecolor": "white"
           },
           "zaxis": {
            "backgroundcolor": "#E5ECF6",
            "gridcolor": "white",
            "gridwidth": 2,
            "linecolor": "white",
            "showbackground": true,
            "ticks": "",
            "zerolinecolor": "white"
           }
          },
          "shapedefaults": {
           "line": {
            "color": "#2a3f5f"
           }
          },
          "ternary": {
           "aaxis": {
            "gridcolor": "white",
            "linecolor": "white",
            "ticks": ""
           },
           "baxis": {
            "gridcolor": "white",
            "linecolor": "white",
            "ticks": ""
           },
           "bgcolor": "#E5ECF6",
           "caxis": {
            "gridcolor": "white",
            "linecolor": "white",
            "ticks": ""
           }
          },
          "title": {
           "x": 0.05
          },
          "xaxis": {
           "automargin": true,
           "gridcolor": "white",
           "linecolor": "white",
           "ticks": "",
           "title": {
            "standoff": 15
           },
           "zerolinecolor": "white",
           "zerolinewidth": 2
          },
          "yaxis": {
           "automargin": true,
           "gridcolor": "white",
           "linecolor": "white",
           "ticks": "",
           "title": {
            "standoff": 15
           },
           "zerolinecolor": "white",
           "zerolinewidth": 2
          }
         }
        },
        "title": {
         "text": "Events Raster plot, ID:44 / reaching_go_spout_cued_uncued / 2022-05-11 19:24:51"
        },
        "width": 800,
        "xaxis": {
         "anchor": "y",
         "autorange": true,
         "domain": [
          0,
          0.45
         ],
         "linecolor": "black",
         "matches": "x7",
         "showline": true,
         "showticklabels": false,
         "tickfont": {
          "size": 12
         },
         "ticklen": 6,
         "ticks": "outside",
         "tickwidth": 2,
         "title": {
          "text": "time (s)"
         }
        },
        "xaxis2": {
         "anchor": "y2",
         "autorange": true,
         "domain": [
          0.55,
          1
         ],
         "linecolor": "black",
         "matches": "x8",
         "showline": true,
         "showticklabels": false,
         "tickfont": {
          "size": 12
         },
         "ticklen": 6,
         "ticks": "outside",
         "tickwidth": 2,
         "title": {
          "text": "time (s)"
         }
        },
        "xaxis3": {
         "anchor": "y3",
         "autorange": true,
         "domain": [
          0,
          0.45
         ],
         "linecolor": "black",
         "matches": "x7",
         "showline": true,
         "showticklabels": false,
         "tickfont": {
          "size": 12
         },
         "ticklen": 6,
         "ticks": "outside",
         "tickwidth": 2,
         "title": {
          "text": "time (s)"
         }
        },
        "xaxis4": {
         "anchor": "y4",
         "autorange": true,
         "domain": [
          0.55,
          1
         ],
         "linecolor": "black",
         "matches": "x8",
         "showline": true,
         "showticklabels": false,
         "tickfont": {
          "size": 12
         },
         "ticklen": 6,
         "ticks": "outside",
         "tickwidth": 2,
         "title": {
          "text": "time (s)"
         }
        },
        "xaxis5": {
         "anchor": "y5",
         "autorange": true,
         "domain": [
          0,
          0.45
         ],
         "linecolor": "black",
         "matches": "x7",
         "showline": true,
         "showticklabels": false,
         "tickfont": {
          "size": 12
         },
         "ticklen": 6,
         "ticks": "outside",
         "tickwidth": 2,
         "title": {
          "text": "time (s)"
         }
        },
        "xaxis6": {
         "anchor": "y6",
         "autorange": true,
         "domain": [
          0.55,
          1
         ],
         "linecolor": "black",
         "matches": "x8",
         "showline": true,
         "showticklabels": false,
         "tickfont": {
          "size": 12
         },
         "ticklen": 6,
         "ticks": "outside",
         "tickwidth": 2,
         "title": {
          "text": "time (s)"
         }
        },
        "xaxis7": {
         "anchor": "y7",
         "autorange": true,
         "domain": [
          0,
          0.45
         ],
         "linecolor": "black",
         "showline": true,
         "tickfont": {
          "size": 12
         },
         "ticklen": 6,
         "ticks": "outside",
         "tickwidth": 2,
         "title": {
          "text": "time (s)"
         }
        },
        "xaxis8": {
         "anchor": "y8",
         "autorange": true,
         "domain": [
          0.55,
          1
         ],
         "linecolor": "black",
         "showline": true,
         "tickfont": {
          "size": 12
         },
         "ticklen": 6,
         "ticks": "outside",
         "tickwidth": 2,
         "title": {
          "text": "time (s)"
         }
        },
        "yaxis": {
         "anchor": "x",
         "domain": [
          0.84375,
          1
         ],
         "linecolor": "black",
         "range": [
          1,
          60
         ],
         "showgrid": true,
         "showline": true,
         "tickfont": {
          "size": 12
         },
         "ticklen": 6,
         "ticks": "outside",
         "tickwidth": 2,
         "title": {
          "text": "trial nb"
         }
        },
        "yaxis2": {
         "anchor": "x2",
         "domain": [
          0.84375,
          1
         ],
         "linecolor": "black",
         "matches": "y",
         "range": [
          1,
          106
         ],
         "showgrid": true,
         "showline": true,
         "showticklabels": false,
         "tickfont": {
          "size": 12
         },
         "ticklen": 6,
         "ticks": "outside",
         "tickwidth": 2,
         "title": {
          "text": "trial nb"
         }
        },
        "yaxis3": {
         "anchor": "x3",
         "domain": [
          0.5625,
          0.71875
         ],
         "linecolor": "black",
         "range": [
          1,
          60
         ],
         "showgrid": true,
         "showline": true,
         "tickfont": {
          "size": 12
         },
         "ticklen": 6,
         "ticks": "outside",
         "tickwidth": 2,
         "title": {
          "text": "trial nb"
         }
        },
        "yaxis4": {
         "anchor": "x4",
         "domain": [
          0.5625,
          0.71875
         ],
         "linecolor": "black",
         "matches": "y3",
         "range": [
          1,
          106
         ],
         "showgrid": true,
         "showline": true,
         "showticklabels": false,
         "tickfont": {
          "size": 12
         },
         "ticklen": 6,
         "ticks": "outside",
         "tickwidth": 2,
         "title": {
          "text": "trial nb"
         }
        },
        "yaxis5": {
         "anchor": "x5",
         "domain": [
          0.28125,
          0.4375
         ],
         "linecolor": "black",
         "range": [
          1,
          60
         ],
         "showgrid": true,
         "showline": true,
         "tickfont": {
          "size": 12
         },
         "ticklen": 6,
         "ticks": "outside",
         "tickwidth": 2,
         "title": {
          "text": "trial nb"
         }
        },
        "yaxis6": {
         "anchor": "x6",
         "domain": [
          0.28125,
          0.4375
         ],
         "linecolor": "black",
         "matches": "y5",
         "range": [
          1,
          105
         ],
         "showgrid": true,
         "showline": true,
         "showticklabels": false,
         "tickfont": {
          "size": 12
         },
         "ticklen": 6,
         "ticks": "outside",
         "tickwidth": 2,
         "title": {
          "text": "trial nb"
         }
        },
        "yaxis7": {
         "anchor": "x7",
         "domain": [
          0,
          0.15625
         ],
         "linecolor": "black",
         "range": [
          1,
          60
         ],
         "showgrid": true,
         "showline": true,
         "tickfont": {
          "size": 12
         },
         "ticklen": 6,
         "ticks": "outside",
         "tickwidth": 2,
         "title": {
          "text": "trial nb"
         }
        },
        "yaxis8": {
         "anchor": "x8",
         "domain": [
          0,
          0.15625
         ],
         "linecolor": "black",
         "matches": "y7",
         "range": [
          1,
          106
         ],
         "showgrid": true,
         "showline": true,
         "showticklabels": false,
         "tickfont": {
          "size": 12
         },
         "ticklen": 6,
         "ticks": "outside",
         "tickwidth": 2,
         "title": {
          "text": "trial nb"
         }
        }
       }
      }
     },
     "metadata": {},
     "output_type": "display_data"
    },
    {
     "ename": "",
     "evalue": "",
     "output_type": "error",
     "traceback": [
      "\u001b[1;31mnotebook controller is DISPOSED. \n",
      "\u001b[1;31mView Jupyter <a href='command:jupyter.viewOutput'>log</a> for further details."
     ]
    },
    {
     "ename": "",
     "evalue": "",
     "output_type": "error",
     "traceback": [
      "\u001b[1;31mnotebook controller is DISPOSED. \n",
      "\u001b[1;31mView Jupyter <a href='command:jupyter.viewOutput'>log</a> for further details."
     ]
    },
    {
     "ename": "",
     "evalue": "",
     "output_type": "error",
     "traceback": [
      "\u001b[1;31mnotebook controller is DISPOSED. \n",
      "\u001b[1;31mView Jupyter <a href='command:jupyter.viewOutput'>log</a> for further details."
     ]
    }
   ],
   "source": [
    "session.plot_trials()"
   ]
  },
  {
   "cell_type": "code",
   "execution_count": null,
   "metadata": {},
   "outputs": [
    {
     "data": {
      "text/html": [
       "<div>\n",
       "<style scoped>\n",
       "    .dataframe tbody tr th:only-of-type {\n",
       "        vertical-align: middle;\n",
       "    }\n",
       "\n",
       "    .dataframe tbody tr th {\n",
       "        vertical-align: top;\n",
       "    }\n",
       "\n",
       "    .dataframe thead th {\n",
       "        text-align: right;\n",
       "    }\n",
       "</style>\n",
       "<table border=\"1\" class=\"dataframe\">\n",
       "  <thead>\n",
       "    <tr style=\"text-align: right;\">\n",
       "      <th></th>\n",
       "      <th>timestamp</th>\n",
       "      <th>trigger</th>\n",
       "      <th>valid</th>\n",
       "      <th>success</th>\n",
       "      <th>bar_trial_time</th>\n",
       "      <th>bar_off_trial_time</th>\n",
       "      <th>spout_trial_time</th>\n",
       "      <th>hold_start_trial_time</th>\n",
       "    </tr>\n",
       "    <tr>\n",
       "      <th>trial_nb</th>\n",
       "      <th></th>\n",
       "      <th></th>\n",
       "      <th></th>\n",
       "      <th></th>\n",
       "      <th></th>\n",
       "      <th></th>\n",
       "      <th></th>\n",
       "      <th></th>\n",
       "    </tr>\n",
       "  </thead>\n",
       "  <tbody>\n",
       "    <tr>\n",
       "      <th>1</th>\n",
       "      <td>3817</td>\n",
       "      <td>cued</td>\n",
       "      <td>True</td>\n",
       "      <td>False</td>\n",
       "      <td>[11533, 11625, 11841, 11882, 11996, 12221, 122...</td>\n",
       "      <td>[11610, 11826, 11867, 11976, 12012, 12282, 125...</td>\n",
       "      <td>[]</td>\n",
       "      <td>[11443]</td>\n",
       "    </tr>\n",
       "    <tr>\n",
       "      <th>2</th>\n",
       "      <td>28183</td>\n",
       "      <td>cued</td>\n",
       "      <td>True</td>\n",
       "      <td>True</td>\n",
       "      <td>[6925, 7020]</td>\n",
       "      <td>[6886, 6941]</td>\n",
       "      <td>[856, 931]</td>\n",
       "      <td>[3504]</td>\n",
       "    </tr>\n",
       "    <tr>\n",
       "      <th>3</th>\n",
       "      <td>39828</td>\n",
       "      <td>cued</td>\n",
       "      <td>True</td>\n",
       "      <td>False</td>\n",
       "      <td>[]</td>\n",
       "      <td>[]</td>\n",
       "      <td>[]</td>\n",
       "      <td>[9718]</td>\n",
       "    </tr>\n",
       "    <tr>\n",
       "      <th>4</th>\n",
       "      <td>52127</td>\n",
       "      <td>cued</td>\n",
       "      <td>True</td>\n",
       "      <td>True</td>\n",
       "      <td>[1217, 6169, 6933, 8663]</td>\n",
       "      <td>[1157, 6044, 6876, 8634]</td>\n",
       "      <td>[1171, 1246]</td>\n",
       "      <td>[3903]</td>\n",
       "    </tr>\n",
       "    <tr>\n",
       "      <th>5</th>\n",
       "      <td>65203</td>\n",
       "      <td>cued</td>\n",
       "      <td>True</td>\n",
       "      <td>False</td>\n",
       "      <td>[]</td>\n",
       "      <td>[]</td>\n",
       "      <td>[]</td>\n",
       "      <td>[10012]</td>\n",
       "    </tr>\n",
       "    <tr>\n",
       "      <th>...</th>\n",
       "      <td>...</td>\n",
       "      <td>...</td>\n",
       "      <td>...</td>\n",
       "      <td>...</td>\n",
       "      <td>...</td>\n",
       "      <td>...</td>\n",
       "      <td>...</td>\n",
       "      <td>...</td>\n",
       "    </tr>\n",
       "    <tr>\n",
       "      <th>102</th>\n",
       "      <td>2276775</td>\n",
       "      <td>uncued</td>\n",
       "      <td>True</td>\n",
       "      <td>False</td>\n",
       "      <td>[35846]</td>\n",
       "      <td>[10355]</td>\n",
       "      <td>[]</td>\n",
       "      <td>[19402]</td>\n",
       "    </tr>\n",
       "    <tr>\n",
       "      <th>103</th>\n",
       "      <td>2315518</td>\n",
       "      <td>uncued</td>\n",
       "      <td>True</td>\n",
       "      <td>False</td>\n",
       "      <td>[]</td>\n",
       "      <td>[]</td>\n",
       "      <td>[]</td>\n",
       "      <td>[5771]</td>\n",
       "    </tr>\n",
       "    <tr>\n",
       "      <th>104</th>\n",
       "      <td>2324432</td>\n",
       "      <td>uncued</td>\n",
       "      <td>True</td>\n",
       "      <td>False</td>\n",
       "      <td>[]</td>\n",
       "      <td>[]</td>\n",
       "      <td>[]</td>\n",
       "      <td>[28488]</td>\n",
       "    </tr>\n",
       "    <tr>\n",
       "      <th>105</th>\n",
       "      <td>2356095</td>\n",
       "      <td>uncued</td>\n",
       "      <td>True</td>\n",
       "      <td>True</td>\n",
       "      <td>[9540, 9560, 9590, 9620, 9650, 9680, 9710, 974...</td>\n",
       "      <td>[3581, 9555, 9575, 9605, 9635, 9665, 9695, 972...</td>\n",
       "      <td>[3593, 24838]</td>\n",
       "      <td>[30011]</td>\n",
       "    </tr>\n",
       "    <tr>\n",
       "      <th>106</th>\n",
       "      <td>2390248</td>\n",
       "      <td>uncued</td>\n",
       "      <td>True</td>\n",
       "      <td>False</td>\n",
       "      <td>[17787, 19903]</td>\n",
       "      <td>[17761, 19676]</td>\n",
       "      <td>[]</td>\n",
       "      <td>[29484]</td>\n",
       "    </tr>\n",
       "  </tbody>\n",
       "</table>\n",
       "<p>106 rows × 8 columns</p>\n",
       "</div>"
      ],
      "text/plain": [
       "          timestamp trigger  valid  success  \\\n",
       "trial_nb                                      \n",
       "1              3817    cued   True    False   \n",
       "2             28183    cued   True     True   \n",
       "3             39828    cued   True    False   \n",
       "4             52127    cued   True     True   \n",
       "5             65203    cued   True    False   \n",
       "...             ...     ...    ...      ...   \n",
       "102         2276775  uncued   True    False   \n",
       "103         2315518  uncued   True    False   \n",
       "104         2324432  uncued   True    False   \n",
       "105         2356095  uncued   True     True   \n",
       "106         2390248  uncued   True    False   \n",
       "\n",
       "                                             bar_trial_time  \\\n",
       "trial_nb                                                      \n",
       "1         [11533, 11625, 11841, 11882, 11996, 12221, 122...   \n",
       "2                                              [6925, 7020]   \n",
       "3                                                        []   \n",
       "4                                  [1217, 6169, 6933, 8663]   \n",
       "5                                                        []   \n",
       "...                                                     ...   \n",
       "102                                                 [35846]   \n",
       "103                                                      []   \n",
       "104                                                      []   \n",
       "105       [9540, 9560, 9590, 9620, 9650, 9680, 9710, 974...   \n",
       "106                                          [17787, 19903]   \n",
       "\n",
       "                                         bar_off_trial_time spout_trial_time  \\\n",
       "trial_nb                                                                       \n",
       "1         [11610, 11826, 11867, 11976, 12012, 12282, 125...               []   \n",
       "2                                              [6886, 6941]       [856, 931]   \n",
       "3                                                        []               []   \n",
       "4                                  [1157, 6044, 6876, 8634]     [1171, 1246]   \n",
       "5                                                        []               []   \n",
       "...                                                     ...              ...   \n",
       "102                                                 [10355]               []   \n",
       "103                                                      []               []   \n",
       "104                                                      []               []   \n",
       "105       [3581, 9555, 9575, 9605, 9635, 9665, 9695, 972...    [3593, 24838]   \n",
       "106                                          [17761, 19676]               []   \n",
       "\n",
       "         hold_start_trial_time  \n",
       "trial_nb                        \n",
       "1                      [11443]  \n",
       "2                       [3504]  \n",
       "3                       [9718]  \n",
       "4                       [3903]  \n",
       "5                      [10012]  \n",
       "...                        ...  \n",
       "102                    [19402]  \n",
       "103                     [5771]  \n",
       "104                    [28488]  \n",
       "105                    [30011]  \n",
       "106                    [29484]  \n",
       "\n",
       "[106 rows x 8 columns]"
      ]
     },
     "execution_count": 40,
     "metadata": {},
     "output_type": "execute_result"
    },
    {
     "ename": "",
     "evalue": "",
     "output_type": "error",
     "traceback": [
      "\u001b[1;31mnotebook controller is DISPOSED. \n",
      "\u001b[1;31mView Jupyter <a href='command:jupyter.viewOutput'>log</a> for further details."
     ]
    },
    {
     "ename": "",
     "evalue": "",
     "output_type": "error",
     "traceback": [
      "\u001b[1;31mnotebook controller is DISPOSED. \n",
      "\u001b[1;31mView Jupyter <a href='command:jupyter.viewOutput'>log</a> for further details."
     ]
    },
    {
     "ename": "",
     "evalue": "",
     "output_type": "error",
     "traceback": [
      "\u001b[1;31mnotebook controller is DISPOSED. \n",
      "\u001b[1;31mView Jupyter <a href='command:jupyter.viewOutput'>log</a> for further details."
     ]
    }
   ],
   "source": [
    "exp_cohort.sessions[50].df_events"
   ]
  },
  {
   "cell_type": "code",
   "execution_count": null,
   "metadata": {},
   "outputs": [
    {
     "data": {
      "application/vnd.plotly.v1+json": {
       "config": {
        "plotlyServerURL": "https://plot.ly"
       },
       "data": [
        {
         "marker": {
          "symbol": "circle"
         },
         "mode": "markers",
         "name": "bar",
         "type": "scatter",
         "x": [
          11.533,
          11.625,
          11.841,
          11.882,
          11.996,
          12.221,
          12.298,
          19.644,
          20.393,
          6.925,
          7.02,
          1.217,
          6.169,
          6.933,
          8.663,
          7.103,
          7.131,
          3.552,
          4.484,
          4.55,
          1.526,
          1.602,
          1.842,
          3.831,
          5.719,
          3.194,
          8.191,
          9.257,
          9.321,
          4.273,
          4.331,
          12.585,
          12.734,
          12.818,
          12.841,
          1.328,
          1.436,
          1.466,
          8.791,
          9.346,
          9.365,
          20.876,
          9.672,
          5.915,
          6.132,
          6.59,
          6.631,
          33.613,
          7.141,
          13.355,
          17.05,
          34.361,
          7.703,
          7.762,
          21.708,
          21.762,
          22.395,
          25.109,
          25.235,
          51.463,
          52.255,
          52.285,
          52.413,
          9.678,
          9.762,
          10.609,
          10.738,
          10.79,
          11.917,
          15.101,
          15.16,
          15.197,
          15.247,
          15.318,
          15.529,
          19.246,
          43.703,
          43.778,
          46.473,
          47.936,
          48.063,
          0.333,
          0.397,
          19.67,
          19.899,
          21.666,
          39.081,
          0.884,
          0.971,
          12.179,
          4.545,
          23.623,
          2.429,
          2.606,
          2.678,
          3.091,
          3.651,
          3.738,
          4.556,
          32.7,
          33.98,
          34.214,
          60.356,
          8.412,
          17.196,
          18.467,
          5.844,
          13.145,
          6.348,
          6.499,
          6.686,
          18.967,
          20.296,
          23.435,
          23.726,
          26.899,
          27.208,
          27.537,
          7.141,
          8.617,
          8.729,
          8.808,
          9.11,
          10.36,
          11.377,
          2.748,
          2.785,
          3.133,
          17.637,
          19.803,
          20.106,
          20.788,
          23.542,
          19.929,
          2.645,
          14.719,
          17.483,
          30.987,
          2.77,
          2.954,
          10.245,
          10.361,
          15.105,
          20.014,
          20.09,
          22.821,
          35.568,
          27.326,
          30.125,
          30.949,
          31.305,
          31.419,
          31.5,
          31.744,
          31.835,
          1.061,
          7.414,
          6.477,
          6.687,
          7.407,
          7.791,
          7.899,
          13.959,
          14.237,
          14.522,
          15.549,
          15.973,
          17.301,
          4.72,
          9.255,
          11.745,
          11.942,
          11.987,
          12.266,
          25.324,
          25.384,
          27.262,
          31.296,
          31.728,
          41.375,
          41.62,
          42.392,
          43.01,
          44.023
         ],
         "xaxis": "x",
         "y": [
          1,
          1,
          1,
          1,
          1,
          1,
          1,
          1,
          1,
          2,
          2,
          4,
          4,
          4,
          4,
          6,
          6,
          7,
          7,
          7,
          8,
          8,
          8,
          8,
          8,
          12,
          15,
          16,
          16,
          17,
          17,
          19,
          19,
          19,
          19,
          21,
          21,
          21,
          21,
          21,
          21,
          21,
          25,
          27,
          27,
          27,
          27,
          27,
          28,
          29,
          29,
          29,
          30,
          30,
          31,
          31,
          31,
          31,
          31,
          31,
          31,
          31,
          31,
          32,
          32,
          32,
          32,
          32,
          32,
          32,
          32,
          32,
          32,
          32,
          32,
          32,
          32,
          32,
          32,
          32,
          32,
          33,
          33,
          33,
          33,
          33,
          33,
          34,
          34,
          35,
          36,
          36,
          37,
          37,
          37,
          37,
          37,
          37,
          37,
          38,
          38,
          38,
          38,
          39,
          39,
          39,
          40,
          40,
          41,
          41,
          41,
          41,
          41,
          41,
          41,
          41,
          41,
          41,
          42,
          43,
          43,
          43,
          43,
          43,
          43,
          44,
          44,
          44,
          44,
          44,
          44,
          44,
          44,
          45,
          46,
          46,
          46,
          46,
          47,
          47,
          47,
          47,
          47,
          47,
          47,
          47,
          47,
          48,
          48,
          48,
          48,
          48,
          48,
          48,
          48,
          50,
          51,
          52,
          52,
          52,
          52,
          52,
          58,
          58,
          58,
          58,
          58,
          58,
          59,
          59,
          60,
          60,
          60,
          60,
          60,
          60,
          60,
          60,
          60,
          60,
          60,
          60,
          60,
          60
         ],
         "yaxis": "y"
        },
        {
         "marker": {
          "symbol": "square"
         },
         "mode": "markers",
         "name": "bar_off",
         "type": "scatter",
         "x": [
          11.61,
          11.826,
          11.867,
          11.976,
          12.012,
          12.282,
          12.595,
          20.341,
          6.886,
          6.941,
          1.157,
          6.044,
          6.876,
          8.634,
          6.72,
          7.118,
          3.135,
          4.44,
          4.531,
          1.32,
          1.541,
          1.812,
          1.981,
          4.908,
          3.158,
          8.124,
          9.224,
          9.286,
          4.244,
          4.316,
          12.455,
          12.719,
          12.746,
          12.834,
          1.274,
          1.4,
          1.451,
          8.493,
          9.044,
          9.361,
          9.444,
          9.636,
          4.98,
          5.931,
          6.525,
          6.613,
          13.493,
          1.036,
          0.282,
          15.626,
          20.638,
          2.342,
          7.718,
          1.184,
          21.734,
          22.119,
          25.067,
          25.19,
          25.577,
          52.236,
          52.27,
          52.397,
          0.982,
          9.743,
          10.553,
          10.7,
          10.753,
          11.137,
          12.411,
          15.145,
          15.182,
          15.211,
          15.262,
          15.486,
          19.116,
          19.302,
          43.763,
          44.241,
          47.921,
          47.971,
          0.266,
          0.369,
          0.412,
          19.884,
          21.615,
          25.866,
          0.627,
          0.913,
          3.647,
          1.147,
          7.019,
          0.585,
          2.591,
          2.628,
          3.068,
          3.623,
          3.709,
          4.064,
          0.618,
          32.765,
          33.995,
          36.969,
          4.248,
          12.147,
          18.385,
          0.831,
          11.837,
          5.425,
          6.445,
          6.622,
          11.784,
          19.561,
          20.974,
          23.595,
          24.122,
          27.143,
          27.511,
          7.04,
          8.419,
          8.632,
          8.744,
          8.997,
          10.268,
          11.304,
          1.706,
          2.763,
          3.084,
          10.581,
          19.388,
          20.09,
          20.201,
          22.545,
          0.637,
          1.367,
          9.112,
          15.417,
          18.601,
          2.743,
          2.785,
          7.172,
          10.27,
          13.612,
          17.987,
          20.059,
          22.507,
          25.715,
          0.975,
          28.808,
          30.832,
          30.964,
          31.4,
          31.484,
          31.7,
          31.804,
          0.846,
          7.33,
          6.315,
          6.615,
          7.352,
          7.731,
          7.806,
          13.868,
          14.182,
          14.488,
          15.019,
          15.689,
          17.166,
          4.592,
          9.087,
          11.069,
          11.76,
          11.972,
          11.988,
          12.282,
          25.36,
          27.235,
          27.277,
          31.706,
          32.058,
          41.575,
          42.312,
          42.991,
          43.026
         ],
         "xaxis": "x3",
         "y": [
          1,
          1,
          1,
          1,
          1,
          1,
          1,
          1,
          2,
          2,
          4,
          4,
          4,
          4,
          6,
          6,
          7,
          7,
          7,
          8,
          8,
          8,
          8,
          8,
          12,
          15,
          16,
          16,
          17,
          17,
          19,
          19,
          19,
          19,
          21,
          21,
          21,
          21,
          21,
          21,
          21,
          25,
          27,
          27,
          27,
          27,
          27,
          28,
          29,
          29,
          29,
          30,
          30,
          31,
          31,
          31,
          31,
          31,
          31,
          31,
          31,
          31,
          32,
          32,
          32,
          32,
          32,
          32,
          32,
          32,
          32,
          32,
          32,
          32,
          32,
          32,
          32,
          32,
          32,
          32,
          33,
          33,
          33,
          33,
          33,
          33,
          34,
          34,
          35,
          36,
          36,
          37,
          37,
          37,
          37,
          37,
          37,
          37,
          38,
          38,
          38,
          38,
          39,
          39,
          39,
          40,
          40,
          41,
          41,
          41,
          41,
          41,
          41,
          41,
          41,
          41,
          41,
          42,
          43,
          43,
          43,
          43,
          43,
          43,
          44,
          44,
          44,
          44,
          44,
          44,
          44,
          44,
          45,
          46,
          46,
          46,
          46,
          47,
          47,
          47,
          47,
          47,
          47,
          47,
          47,
          47,
          48,
          48,
          48,
          48,
          48,
          48,
          48,
          48,
          50,
          51,
          52,
          52,
          52,
          52,
          52,
          58,
          58,
          58,
          58,
          58,
          58,
          59,
          59,
          60,
          60,
          60,
          60,
          60,
          60,
          60,
          60,
          60,
          60,
          60,
          60,
          60,
          60
         ],
         "yaxis": "y3"
        },
        {
         "marker": {
          "symbol": "diamond"
         },
         "mode": "markers",
         "name": "spout",
         "type": "scatter",
         "x": [
          0.856,
          0.931,
          1.171,
          1.246,
          2.49,
          2.565,
          1.332,
          1.407,
          1.193,
          2.933,
          3.009,
          2.583,
          1.287,
          1.323,
          2.476,
          1.367,
          2.787,
          2.377,
          14.572,
          16.271,
          16.597,
          16.762,
          18.209,
          18.449,
          19.543,
          19.928,
          19.948,
          22.177,
          22.402,
          26.365,
          26.542,
          26.592,
          27.052,
          29.421,
          30.117,
          30.142,
          30.347,
          30.868,
          31.11,
          31.747,
          31.769,
          1.058,
          1.608,
          1.961,
          2.458,
          2.764,
          2.8,
          5.327,
          5.548,
          5.729,
          0.905,
          2.274,
          2.463,
          4.935,
          6.366,
          9.24,
          9.425,
          10.742,
          13.153,
          20.94,
          21.649,
          23.988,
          24.78,
          25.255,
          28.87,
          28.9,
          28.92,
          28.94,
          28.96,
          29.116,
          33.333,
          33.377,
          33.466,
          33.559,
          2.355,
          2.53,
          2.552,
          3.713,
          4.237,
          0.872,
          2.648,
          4.01,
          4.592,
          5.594,
          5.686,
          8.643,
          12.278,
          12.743,
          14.848,
          15.043,
          15.087,
          15.64,
          17.61,
          17.832,
          18.218,
          20.629,
          20.909,
          20.975,
          25.814,
          25.85,
          25.88,
          26.879,
          27.327,
          30.195,
          30.396,
          32.892,
          33.042,
          36.56,
          38.127,
          38.52,
          41.918,
          42.128,
          42.169,
          42.686,
          43.069,
          45.043,
          49.142,
          49.168,
          49.185,
          49.572,
          49.609,
          1.025,
          1.416,
          1.579,
          1.955,
          2.015,
          2.624,
          3.774,
          4.768,
          8.096,
          8.116,
          11.459,
          11.477,
          11.753,
          11.785,
          13.175,
          13.691,
          14.058,
          14.506,
          19.69,
          19.9,
          20.448,
          24.715,
          25.787,
          26.168,
          26.342,
          26.502,
          26.722,
          26.856,
          27.622,
          28.725,
          28.969,
          32.762,
          33.205,
          35.825,
          38.328,
          45.751,
          0.279,
          7.347,
          7.797,
          8.513,
          8.815,
          9.084,
          9.75,
          9.872,
          0.64,
          1.524,
          4.491,
          5.167,
          6.897,
          7.628,
          8.696,
          10.446,
          11.026,
          11.077,
          11.204,
          11.224,
          11.736,
          11.999,
          1.169,
          4.278,
          7.832,
          10.941,
          12.055,
          17.531,
          22.89,
          2.146,
          0.641,
          1.767,
          9.516,
          16.212,
          16.864,
          17.402,
          18.19,
          21.135,
          23.359,
          23.897,
          24.617,
          25.239,
          26.022,
          27.521,
          28.167,
          28.317,
          29.155,
          29.63,
          29.694,
          29.805,
          29.926,
          30.051,
          30.306,
          31.84,
          32.064,
          32.153,
          40.008,
          43.883,
          44.565,
          49.351,
          52.724,
          0.706,
          5.208,
          6.504,
          7.718,
          15.996,
          16.983,
          0.844,
          21.052,
          21.32,
          21.564,
          21.806,
          22.067,
          22.351,
          22.66,
          22.987,
          24.353,
          25.344,
          26.132,
          26.496,
          2.916,
          11.055,
          13.72,
          16.41,
          0.543,
          12.988,
          14.609,
          17.98,
          19.051,
          1.38,
          1.41,
          2.131,
          9.644,
          9.895,
          11.589,
          12.54,
          18.765,
          19.271,
          24.13,
          24.293,
          0.882,
          7.457,
          8.01,
          8.238,
          14.735,
          18.692,
          26.61,
          7.29,
          8.007,
          8.31,
          8.814,
          8.86,
          10.798,
          16.441,
          23.373,
          2.155,
          2.119,
          1.668,
          2.255,
          1.029,
          12.821,
          13.691,
          29.569,
          32.615,
          32.637,
          39.543,
          39.655,
          40.129,
          43.306
         ],
         "xaxis": "x5",
         "y": [
          2,
          2,
          4,
          4,
          7,
          7,
          8,
          8,
          13,
          16,
          16,
          20,
          21,
          21,
          24,
          25,
          26,
          27,
          27,
          27,
          27,
          27,
          27,
          27,
          27,
          27,
          27,
          27,
          27,
          27,
          27,
          27,
          27,
          27,
          27,
          27,
          27,
          27,
          27,
          27,
          27,
          28,
          28,
          28,
          28,
          28,
          28,
          28,
          28,
          28,
          29,
          29,
          29,
          29,
          29,
          29,
          29,
          29,
          29,
          29,
          29,
          29,
          29,
          29,
          29,
          29,
          29,
          29,
          29,
          29,
          29,
          29,
          29,
          29,
          30,
          30,
          30,
          30,
          30,
          31,
          31,
          31,
          31,
          31,
          31,
          31,
          31,
          31,
          31,
          31,
          31,
          31,
          31,
          31,
          31,
          31,
          31,
          31,
          31,
          31,
          31,
          31,
          31,
          31,
          31,
          31,
          31,
          31,
          31,
          31,
          31,
          31,
          31,
          31,
          31,
          31,
          31,
          31,
          31,
          31,
          31,
          32,
          32,
          32,
          32,
          32,
          32,
          32,
          32,
          32,
          32,
          32,
          32,
          32,
          32,
          32,
          32,
          32,
          32,
          32,
          32,
          32,
          32,
          32,
          32,
          32,
          32,
          32,
          32,
          32,
          32,
          32,
          32,
          32,
          32,
          32,
          32,
          33,
          33,
          33,
          33,
          33,
          33,
          33,
          33,
          34,
          35,
          35,
          35,
          35,
          35,
          35,
          35,
          35,
          35,
          35,
          35,
          35,
          35,
          36,
          36,
          36,
          36,
          36,
          36,
          36,
          37,
          38,
          38,
          38,
          38,
          38,
          38,
          38,
          38,
          38,
          38,
          38,
          38,
          38,
          38,
          38,
          38,
          38,
          38,
          38,
          38,
          38,
          38,
          38,
          38,
          38,
          38,
          38,
          38,
          38,
          38,
          38,
          39,
          39,
          39,
          39,
          39,
          39,
          40,
          41,
          41,
          41,
          41,
          41,
          41,
          41,
          41,
          41,
          41,
          41,
          41,
          43,
          44,
          44,
          44,
          45,
          45,
          45,
          45,
          45,
          46,
          46,
          46,
          46,
          46,
          46,
          46,
          46,
          46,
          46,
          46,
          47,
          47,
          47,
          47,
          47,
          47,
          47,
          48,
          48,
          48,
          48,
          48,
          48,
          48,
          48,
          51,
          53,
          54,
          58,
          60,
          60,
          60,
          60,
          60,
          60,
          60,
          60,
          60,
          60
         ],
         "yaxis": "y5"
        },
        {
         "marker": {
          "symbol": "cross"
         },
         "mode": "markers",
         "name": "hold_start",
         "type": "scatter",
         "x": [
          11.443,
          3.504,
          9.718,
          3.903,
          10.012,
          10.884,
          6.714,
          5.004,
          10.769,
          11.14,
          9.569,
          9.391,
          4.873,
          10.351,
          10.563,
          6.297,
          9.155,
          11.488,
          10.968,
          10.358,
          10.381,
          11.132,
          9.203,
          9.06,
          9.088,
          10.576,
          10.392,
          4.674,
          3.597,
          5.389,
          5.625,
          4.235,
          10.675,
          10.789,
          9.519,
          9.712,
          4.984,
          4.995,
          10.687,
          10.594,
          9.565,
          10.976,
          11.023,
          9.243,
          10.961,
          5.625,
          11.491,
          9.863,
          9.737,
          11.477,
          11.128,
          9.693,
          11.435,
          10.133,
          9.049,
          11.214,
          9.99,
          10.829,
          9.962,
          10.385
         ],
         "xaxis": "x7",
         "y": [
          1,
          2,
          3,
          4,
          5,
          6,
          7,
          8,
          9,
          10,
          11,
          12,
          13,
          14,
          15,
          16,
          17,
          18,
          19,
          20,
          21,
          22,
          23,
          24,
          25,
          26,
          27,
          28,
          29,
          30,
          31,
          32,
          33,
          34,
          35,
          36,
          37,
          38,
          39,
          40,
          41,
          42,
          43,
          44,
          45,
          46,
          47,
          48,
          49,
          50,
          51,
          52,
          53,
          54,
          55,
          56,
          57,
          58,
          59,
          60
         ],
         "yaxis": "y7"
        },
        {
         "marker": {
          "symbol": "circle"
         },
         "mode": "markers",
         "name": "bar",
         "type": "scatter",
         "x": [
          3.687,
          4.181,
          4.617,
          4.709,
          3.683,
          4.322,
          1.198,
          1.249,
          2.531,
          14.242,
          14.859,
          17.72,
          17.965,
          8.056,
          11.087,
          15.406,
          1.836,
          1.876,
          5.001,
          9.473,
          9.962,
          10.054,
          18.234,
          18.276,
          0.863,
          1.343,
          1.432,
          2.292,
          16.299,
          17.018,
          24.916,
          26.166,
          27.637,
          3.875,
          4.033,
          4.319,
          4.461,
          7.664,
          7.812,
          3.317,
          5.34,
          5.751,
          7.154,
          9.499,
          15.224,
          24.461,
          25.691,
          25.902,
          26.003,
          26.178,
          26.486,
          26.831,
          29.478,
          29.517,
          29.635,
          29.73,
          32.554,
          33.178,
          33.292,
          4.648,
          4.738,
          16.699,
          16.748,
          16.824,
          18.039,
          19.156,
          19.212,
          12.047,
          13.648,
          14.948,
          17.608,
          17.883,
          18.316,
          27.914,
          33.215,
          33.899,
          34.811,
          11.12,
          11.22,
          11.45,
          25.245,
          25.383,
          25.604,
          29.674,
          32.125,
          35.798,
          36.797,
          3.15,
          3.264,
          17.245,
          18.101,
          18.205,
          18.262,
          18.702,
          18.902,
          6.858,
          6.915,
          13.957,
          17.608,
          20.97,
          21.015,
          22.767,
          22.995,
          14.629,
          14.66,
          16.22,
          6.351,
          6.711,
          15.318,
          15.348,
          15.648,
          16.108,
          16.148,
          23.483,
          0.827,
          1.007,
          1.337,
          1.565,
          1.798,
          3.585,
          3.609,
          3.627,
          3.667,
          6.427,
          19.507,
          28.067,
          6.003,
          6.157,
          6.351,
          6.92,
          6.939,
          6.98,
          9.021,
          9.056,
          10.098,
          10.189,
          12.163,
          2.598,
          2.628,
          2.856,
          11.389,
          11.552,
          11.582,
          12.127,
          24.048,
          24.117,
          24.722,
          25.072,
          25.352,
          17.457,
          18.24,
          20.658,
          20.915,
          21.061,
          0.443,
          4.241,
          4.341,
          6.213,
          6.233,
          6.253,
          6.273,
          6.293,
          6.313,
          6.333,
          6.353,
          6.373,
          6.393,
          6.413,
          6.433,
          6.453,
          6.473,
          6.513,
          6.533,
          6.553,
          6.573,
          6.613,
          6.633,
          6.653,
          6.693,
          6.733,
          6.753,
          6.773,
          6.793,
          6.813,
          6.843,
          6.873,
          6.903,
          6.933,
          6.963,
          6.993,
          7.033,
          7.063,
          7.093,
          7.123,
          7.153,
          7.183,
          7.213,
          7.243,
          7.273,
          7.303,
          7.333,
          7.363,
          7.393,
          7.423,
          7.453,
          7.483,
          7.513,
          7.543,
          7.573,
          7.603,
          7.633,
          7.663,
          7.693,
          7.723,
          7.753,
          7.783,
          7.813,
          7.843,
          7.873,
          7.903,
          7.933,
          7.963,
          7.993,
          8.023,
          8.053,
          8.083,
          8.113,
          8.143,
          8.173,
          8.203,
          8.233,
          8.263,
          8.293,
          8.323,
          8.353,
          8.383,
          8.413,
          8.443,
          8.473,
          8.503,
          8.533,
          8.563,
          8.593,
          8.623,
          8.653,
          8.683,
          8.713,
          8.743,
          8.773,
          8.803,
          8.833,
          8.863,
          8.893,
          8.923,
          8.953,
          8.983,
          9.013,
          9.043,
          9.073,
          9.103,
          9.133,
          9.163,
          9.193,
          9.223,
          9.253,
          9.283,
          9.313,
          9.343,
          9.373,
          9.403,
          9.433,
          9.463,
          9.493,
          9.523,
          9.553,
          9.583,
          9.613,
          9.643,
          9.673,
          9.703,
          9.733,
          9.763,
          9.793,
          9.823,
          9.853,
          9.883,
          9.913,
          9.943,
          9.973,
          10.003,
          10.033,
          10.063,
          10.093,
          10.123,
          10.153,
          10.183,
          10.213,
          10.243,
          10.273,
          10.303,
          10.333,
          10.363,
          10.393,
          10.423,
          10.453,
          10.483,
          10.513,
          10.543,
          10.573,
          10.603,
          10.633,
          10.663,
          10.693,
          11.34,
          23.693,
          23.728,
          23.843,
          23.913,
          24.473,
          25.828,
          25.916,
          25.981,
          7.355,
          7.499,
          7.701,
          29.741,
          30.268,
          30.511,
          30.717,
          13.372,
          14.008,
          14.292,
          14.602,
          16.442,
          16.552,
          16.572,
          16.602,
          16.632,
          16.652,
          16.682,
          16.712,
          16.742,
          16.772,
          16.802,
          16.832,
          16.872,
          17.452,
          17.472,
          17.502,
          17.532,
          23.132,
          28.157,
          28.642,
          28.662,
          28.692,
          28.722,
          28.752,
          16.33,
          16.36,
          3.319,
          3.576,
          7.48,
          17.328,
          18.052,
          18.072,
          18.102,
          18.132,
          18.282,
          18.312,
          19.502,
          27.149,
          27.212,
          29.878,
          35.121,
          35.167,
          35.402,
          35.432,
          21.014,
          21.03,
          21.165,
          22.076,
          22.163,
          23.26,
          23.29,
          23.32,
          3.379,
          19.828,
          19.869,
          27.917,
          28.041,
          29.365,
          30.4,
          30.656,
          30.769,
          30.939,
          30.959,
          13.845,
          14.135,
          17.559,
          17.585,
          35.806,
          9.635,
          15.306,
          16.563,
          2.932,
          4.529,
          21.662,
          22.993,
          27.913,
          21.469,
          13.037,
          13.317,
          13.357,
          16.35,
          23.397,
          23.417,
          23.437,
          24.78,
          25.754,
          26.017,
          26.037,
          26.077,
          34.042,
          34.074,
          35.047,
          35.077,
          35.147,
          35.237,
          35.277,
          35.297,
          35.327,
          35.357,
          35.684,
          35.717,
          35.747,
          35.777,
          36.714,
          36.761,
          10.898,
          15.834,
          18.047,
          18.063,
          19.41,
          6.207,
          8.825,
          9.02,
          17.433,
          3.72,
          4.561,
          4.597,
          8.495,
          8.715,
          10.474,
          13.608,
          23.911,
          25.068,
          27.492,
          5.876,
          26.118,
          30.114,
          30.244,
          35.846,
          9.54,
          9.56,
          9.59,
          9.62,
          9.65,
          9.68,
          9.71,
          9.74,
          9.76,
          9.78,
          9.8,
          9.82,
          9.84,
          9.86,
          9.89,
          13.54,
          15.39,
          15.42,
          15.45,
          16.59,
          16.62,
          16.65,
          19.09,
          19.12,
          17.787,
          19.903
         ],
         "xaxis": "x2",
         "y": [
          61,
          61,
          61,
          61,
          62,
          62,
          63,
          63,
          64,
          64,
          64,
          64,
          64,
          65,
          65,
          65,
          66,
          66,
          66,
          66,
          66,
          66,
          66,
          66,
          67,
          67,
          67,
          67,
          67,
          67,
          67,
          67,
          67,
          68,
          68,
          68,
          68,
          69,
          69,
          70,
          70,
          70,
          70,
          70,
          70,
          70,
          70,
          70,
          70,
          70,
          70,
          70,
          70,
          70,
          70,
          70,
          70,
          70,
          70,
          71,
          71,
          71,
          71,
          71,
          71,
          71,
          71,
          72,
          72,
          72,
          73,
          73,
          73,
          73,
          73,
          73,
          73,
          74,
          74,
          74,
          74,
          74,
          74,
          74,
          74,
          74,
          74,
          75,
          75,
          75,
          75,
          75,
          75,
          75,
          75,
          76,
          76,
          76,
          76,
          76,
          76,
          76,
          76,
          77,
          77,
          77,
          78,
          78,
          78,
          78,
          78,
          78,
          78,
          78,
          79,
          79,
          79,
          79,
          79,
          79,
          79,
          79,
          79,
          79,
          79,
          79,
          80,
          80,
          80,
          80,
          80,
          80,
          80,
          80,
          80,
          80,
          80,
          81,
          81,
          81,
          82,
          82,
          82,
          82,
          82,
          82,
          82,
          82,
          82,
          83,
          83,
          83,
          83,
          83,
          85,
          85,
          85,
          85,
          85,
          85,
          85,
          85,
          85,
          85,
          85,
          85,
          85,
          85,
          85,
          85,
          85,
          85,
          85,
          85,
          85,
          85,
          85,
          85,
          85,
          85,
          85,
          85,
          85,
          85,
          85,
          85,
          85,
          85,
          85,
          85,
          85,
          85,
          85,
          85,
          85,
          85,
          85,
          85,
          85,
          85,
          85,
          85,
          85,
          85,
          85,
          85,
          85,
          85,
          85,
          85,
          85,
          85,
          85,
          85,
          85,
          85,
          85,
          85,
          85,
          85,
          85,
          85,
          85,
          85,
          85,
          85,
          85,
          85,
          85,
          85,
          85,
          85,
          85,
          85,
          85,
          85,
          85,
          85,
          85,
          85,
          85,
          85,
          85,
          85,
          85,
          85,
          85,
          85,
          85,
          85,
          85,
          85,
          85,
          85,
          85,
          85,
          85,
          85,
          85,
          85,
          85,
          85,
          85,
          85,
          85,
          85,
          85,
          85,
          85,
          85,
          85,
          85,
          85,
          85,
          85,
          85,
          85,
          85,
          85,
          85,
          85,
          85,
          85,
          85,
          85,
          85,
          85,
          85,
          85,
          85,
          85,
          85,
          85,
          85,
          85,
          85,
          85,
          85,
          85,
          85,
          85,
          85,
          85,
          85,
          85,
          85,
          85,
          85,
          85,
          85,
          85,
          85,
          85,
          85,
          85,
          85,
          85,
          85,
          85,
          85,
          85,
          85,
          86,
          86,
          86,
          86,
          86,
          86,
          86,
          87,
          87,
          87,
          87,
          87,
          87,
          87,
          87,
          87,
          87,
          87,
          87,
          87,
          87,
          87,
          87,
          87,
          87,
          87,
          87,
          87,
          87,
          87,
          87,
          87,
          87,
          87,
          87,
          88,
          88,
          89,
          89,
          89,
          89,
          89,
          89,
          89,
          89,
          89,
          89,
          89,
          89,
          89,
          89,
          89,
          89,
          89,
          89,
          90,
          90,
          90,
          90,
          90,
          90,
          90,
          90,
          92,
          92,
          92,
          92,
          92,
          92,
          92,
          92,
          92,
          92,
          92,
          93,
          93,
          93,
          93,
          93,
          94,
          94,
          94,
          95,
          95,
          95,
          95,
          95,
          96,
          97,
          97,
          97,
          97,
          97,
          97,
          97,
          97,
          97,
          97,
          97,
          97,
          97,
          97,
          97,
          97,
          97,
          97,
          97,
          97,
          97,
          97,
          97,
          97,
          97,
          97,
          97,
          97,
          98,
          98,
          98,
          98,
          98,
          99,
          99,
          99,
          99,
          100,
          100,
          100,
          100,
          100,
          100,
          100,
          100,
          100,
          100,
          101,
          101,
          101,
          101,
          102,
          105,
          105,
          105,
          105,
          105,
          105,
          105,
          105,
          105,
          105,
          105,
          105,
          105,
          105,
          105,
          105,
          105,
          105,
          105,
          105,
          105,
          105,
          105,
          105,
          106,
          106
         ],
         "yaxis": "y2"
        },
        {
         "marker": {
          "symbol": "square"
         },
         "mode": "markers",
         "name": "bar_off",
         "type": "scatter",
         "x": [
          0.39,
          3.703,
          4.586,
          4.674,
          2.052,
          4.283,
          0.284,
          1.215,
          1.774,
          11.938,
          14.762,
          17.312,
          17.827,
          2.252,
          8.301,
          14.41,
          1.806,
          1.861,
          4.841,
          5.016,
          9.914,
          9.977,
          11.178,
          18.249,
          0.756,
          1.106,
          1.416,
          1.486,
          2.542,
          16.966,
          22.623,
          25.206,
          27.52,
          2.822,
          4.018,
          4.264,
          4.419,
          6.77,
          7.721,
          0.155,
          3.558,
          5.355,
          6.256,
          9.31,
          13.165,
          17.019,
          24.797,
          25.856,
          25.963,
          26.163,
          26.207,
          26.738,
          28.596,
          29.502,
          29.522,
          29.715,
          32.16,
          33.068,
          33.25,
          4.615,
          4.688,
          5.308,
          16.714,
          16.777,
          17.107,
          19.033,
          19.172,
          11.593,
          13.587,
          14.851,
          17.254,
          17.721,
          18.286,
          25.787,
          33.119,
          33.476,
          34.472,
          10.12,
          11.205,
          11.235,
          16.531,
          25.368,
          25.551,
          28.64,
          31.27,
          32.784,
          36.193,
          1.298,
          3.165,
          3.28,
          17.935,
          18.15,
          18.22,
          18.382,
          18.828,
          6.76,
          6.873,
          7.019,
          16.355,
          19.366,
          20.985,
          21.03,
          22.841,
          12.947,
          14.645,
          16.116,
          6.198,
          6.591,
          15.189,
          15.333,
          15.368,
          15.933,
          16.123,
          23.049,
          0.792,
          0.962,
          1.322,
          1.352,
          1.783,
          2.09,
          3.601,
          3.624,
          3.642,
          3.682,
          17.525,
          19.545,
          5.986,
          6.018,
          6.246,
          6.773,
          6.935,
          6.965,
          7.782,
          9.041,
          10.023,
          10.123,
          10.257,
          0.788,
          2.613,
          2.738,
          10.66,
          11.537,
          11.567,
          11.631,
          23.979,
          24.097,
          24.137,
          24.976,
          25.141,
          16.376,
          17.972,
          20.034,
          20.813,
          20.991,
          0.238,
          4.226,
          4.326,
          6.198,
          6.218,
          6.238,
          6.258,
          6.278,
          6.298,
          6.318,
          6.338,
          6.358,
          6.378,
          6.398,
          6.418,
          6.438,
          6.458,
          6.498,
          6.518,
          6.538,
          6.558,
          6.598,
          6.618,
          6.638,
          6.678,
          6.718,
          6.738,
          6.758,
          6.778,
          6.798,
          6.828,
          6.858,
          6.888,
          6.918,
          6.948,
          6.978,
          7.018,
          7.048,
          7.078,
          7.108,
          7.138,
          7.168,
          7.198,
          7.228,
          7.258,
          7.288,
          7.318,
          7.348,
          7.378,
          7.408,
          7.438,
          7.468,
          7.498,
          7.528,
          7.558,
          7.588,
          7.618,
          7.648,
          7.678,
          7.708,
          7.738,
          7.768,
          7.798,
          7.828,
          7.858,
          7.888,
          7.918,
          7.948,
          7.978,
          8.008,
          8.038,
          8.068,
          8.098,
          8.128,
          8.158,
          8.188,
          8.218,
          8.248,
          8.278,
          8.308,
          8.338,
          8.368,
          8.398,
          8.428,
          8.458,
          8.488,
          8.518,
          8.548,
          8.578,
          8.608,
          8.638,
          8.668,
          8.698,
          8.728,
          8.758,
          8.788,
          8.818,
          8.848,
          8.878,
          8.908,
          8.938,
          8.968,
          8.998,
          9.028,
          9.058,
          9.088,
          9.118,
          9.148,
          9.178,
          9.208,
          9.238,
          9.268,
          9.298,
          9.328,
          9.358,
          9.388,
          9.418,
          9.448,
          9.478,
          9.508,
          9.538,
          9.568,
          9.598,
          9.628,
          9.658,
          9.688,
          9.718,
          9.748,
          9.778,
          9.808,
          9.838,
          9.868,
          9.898,
          9.928,
          9.958,
          9.988,
          10.018,
          10.048,
          10.078,
          10.108,
          10.138,
          10.168,
          10.198,
          10.228,
          10.258,
          10.288,
          10.318,
          10.348,
          10.378,
          10.408,
          10.438,
          10.468,
          10.498,
          10.528,
          10.558,
          10.588,
          10.618,
          10.648,
          10.678,
          10.748,
          22.596,
          23.708,
          23.828,
          23.871,
          24.121,
          25.803,
          25.844,
          25.965,
          5.882,
          7.372,
          7.535,
          29.647,
          29.768,
          30.373,
          30.574,
          12.055,
          13.601,
          14.042,
          14.337,
          16.427,
          16.457,
          16.567,
          16.587,
          16.617,
          16.647,
          16.667,
          16.697,
          16.727,
          16.757,
          16.787,
          16.817,
          16.857,
          17.437,
          17.457,
          17.487,
          17.517,
          21.432,
          28.058,
          28.172,
          28.657,
          28.677,
          28.707,
          28.737,
          15.856,
          16.345,
          2.367,
          3.346,
          3.881,
          14.454,
          17.656,
          18.067,
          18.087,
          18.117,
          18.267,
          18.297,
          18.347,
          25.727,
          27.165,
          29.807,
          31.681,
          35.152,
          35.167,
          35.417,
          4.414,
          21.029,
          21.141,
          21.18,
          22.115,
          22.245,
          23.275,
          23.305,
          3.227,
          18.098,
          19.844,
          26.169,
          27.983,
          28.504,
          29.425,
          30.509,
          30.686,
          30.924,
          30.944,
          13.518,
          13.89,
          14.15,
          17.574,
          33.394,
          9.616,
          10.313,
          15.592,
          2.757,
          4.484,
          20.438,
          21.677,
          27.456,
          18.562,
          11.49,
          13.125,
          13.332,
          16.305,
          21.517,
          23.412,
          23.433,
          24.312,
          24.801,
          25.769,
          26.032,
          26.052,
          32.951,
          34.057,
          35.032,
          35.062,
          35.092,
          35.222,
          35.252,
          35.292,
          35.312,
          35.342,
          35.372,
          35.702,
          35.732,
          35.762,
          36.672,
          36.746,
          8.469,
          10.913,
          15.925,
          18.062,
          18.086,
          6.153,
          6.237,
          8.969,
          9.035,
          3.079,
          3.736,
          4.576,
          8.387,
          8.631,
          10.357,
          11.281,
          22.315,
          24.094,
          27.269,
          1.692,
          23.374,
          30.099,
          30.2,
          10.355,
          3.581,
          9.555,
          9.575,
          9.605,
          9.635,
          9.665,
          9.695,
          9.725,
          9.745,
          9.765,
          9.785,
          9.805,
          9.825,
          9.845,
          9.875,
          13.086,
          14.01,
          15.405,
          15.435,
          16.575,
          16.605,
          16.635,
          16.655,
          19.105,
          17.761,
          19.676
         ],
         "xaxis": "x4",
         "y": [
          61,
          61,
          61,
          61,
          62,
          62,
          63,
          63,
          64,
          64,
          64,
          64,
          64,
          65,
          65,
          65,
          66,
          66,
          66,
          66,
          66,
          66,
          66,
          66,
          67,
          67,
          67,
          67,
          67,
          67,
          67,
          67,
          67,
          68,
          68,
          68,
          68,
          69,
          69,
          70,
          70,
          70,
          70,
          70,
          70,
          70,
          70,
          70,
          70,
          70,
          70,
          70,
          70,
          70,
          70,
          70,
          70,
          70,
          70,
          71,
          71,
          71,
          71,
          71,
          71,
          71,
          71,
          72,
          72,
          72,
          73,
          73,
          73,
          73,
          73,
          73,
          73,
          74,
          74,
          74,
          74,
          74,
          74,
          74,
          74,
          74,
          74,
          75,
          75,
          75,
          75,
          75,
          75,
          75,
          75,
          76,
          76,
          76,
          76,
          76,
          76,
          76,
          76,
          77,
          77,
          77,
          78,
          78,
          78,
          78,
          78,
          78,
          78,
          78,
          79,
          79,
          79,
          79,
          79,
          79,
          79,
          79,
          79,
          79,
          79,
          79,
          80,
          80,
          80,
          80,
          80,
          80,
          80,
          80,
          80,
          80,
          80,
          81,
          81,
          81,
          82,
          82,
          82,
          82,
          82,
          82,
          82,
          82,
          82,
          83,
          83,
          83,
          83,
          83,
          85,
          85,
          85,
          85,
          85,
          85,
          85,
          85,
          85,
          85,
          85,
          85,
          85,
          85,
          85,
          85,
          85,
          85,
          85,
          85,
          85,
          85,
          85,
          85,
          85,
          85,
          85,
          85,
          85,
          85,
          85,
          85,
          85,
          85,
          85,
          85,
          85,
          85,
          85,
          85,
          85,
          85,
          85,
          85,
          85,
          85,
          85,
          85,
          85,
          85,
          85,
          85,
          85,
          85,
          85,
          85,
          85,
          85,
          85,
          85,
          85,
          85,
          85,
          85,
          85,
          85,
          85,
          85,
          85,
          85,
          85,
          85,
          85,
          85,
          85,
          85,
          85,
          85,
          85,
          85,
          85,
          85,
          85,
          85,
          85,
          85,
          85,
          85,
          85,
          85,
          85,
          85,
          85,
          85,
          85,
          85,
          85,
          85,
          85,
          85,
          85,
          85,
          85,
          85,
          85,
          85,
          85,
          85,
          85,
          85,
          85,
          85,
          85,
          85,
          85,
          85,
          85,
          85,
          85,
          85,
          85,
          85,
          85,
          85,
          85,
          85,
          85,
          85,
          85,
          85,
          85,
          85,
          85,
          85,
          85,
          85,
          85,
          85,
          85,
          85,
          85,
          85,
          85,
          85,
          85,
          85,
          85,
          85,
          85,
          85,
          85,
          85,
          85,
          85,
          85,
          85,
          85,
          85,
          85,
          85,
          85,
          85,
          85,
          85,
          85,
          85,
          85,
          85,
          86,
          86,
          86,
          86,
          86,
          86,
          86,
          87,
          87,
          87,
          87,
          87,
          87,
          87,
          87,
          87,
          87,
          87,
          87,
          87,
          87,
          87,
          87,
          87,
          87,
          87,
          87,
          87,
          87,
          87,
          87,
          87,
          87,
          87,
          87,
          88,
          88,
          89,
          89,
          89,
          89,
          89,
          89,
          89,
          89,
          89,
          89,
          89,
          89,
          89,
          89,
          89,
          89,
          89,
          89,
          90,
          90,
          90,
          90,
          90,
          90,
          90,
          90,
          92,
          92,
          92,
          92,
          92,
          92,
          92,
          92,
          92,
          92,
          92,
          93,
          93,
          93,
          93,
          93,
          94,
          94,
          94,
          95,
          95,
          95,
          95,
          95,
          96,
          97,
          97,
          97,
          97,
          97,
          97,
          97,
          97,
          97,
          97,
          97,
          97,
          97,
          97,
          97,
          97,
          97,
          97,
          97,
          97,
          97,
          97,
          97,
          97,
          97,
          97,
          97,
          97,
          98,
          98,
          98,
          98,
          98,
          99,
          99,
          99,
          99,
          100,
          100,
          100,
          100,
          100,
          100,
          100,
          100,
          100,
          100,
          101,
          101,
          101,
          101,
          102,
          105,
          105,
          105,
          105,
          105,
          105,
          105,
          105,
          105,
          105,
          105,
          105,
          105,
          105,
          105,
          105,
          105,
          105,
          105,
          105,
          105,
          105,
          105,
          105,
          106,
          106
         ],
         "yaxis": "y4"
        },
        {
         "marker": {
          "symbol": "diamond"
         },
         "mode": "markers",
         "name": "spout",
         "type": "scatter",
         "x": [
          0.533,
          1.11,
          3.434,
          2.073,
          2.904,
          3.401,
          0.326,
          0.489,
          12.361,
          13.497,
          3.113,
          15.041,
          1.849,
          6.23,
          12.395,
          14.877,
          15.486,
          15.647,
          15.849,
          16.073,
          16.359,
          16.996,
          17.635,
          17.83,
          18,
          18.053,
          0.769,
          3.381,
          6.928,
          0.168,
          1.756,
          2.884,
          2.901,
          2.925,
          2.945,
          13.666,
          14.094,
          14.968,
          20.244,
          20.471,
          20.912,
          21.88,
          22.325,
          6.324,
          17.295,
          17.521,
          17.797,
          17.274,
          17.199,
          17.56,
          21.728,
          23.529,
          24.082,
          24.968,
          28.819,
          32.9,
          32.972,
          33.542,
          33.706,
          33.947,
          34.232,
          34.496,
          34.916,
          35.26,
          1.32,
          7.335,
          8.026,
          12.732,
          12.99,
          13.603,
          13.914,
          6.78,
          8.824,
          9.007,
          11.651,
          19.917,
          20.631,
          6.211,
          6.242,
          14.829,
          7.964,
          0.8,
          0.838,
          1.478,
          1.601,
          1.638,
          10.702,
          19.737,
          15.663,
          16.31,
          5.895,
          5.925,
          18.229,
          15.878,
          22.3,
          2.38,
          2.411,
          25.224,
          4.436,
          11.444,
          3.27,
          26.486,
          9.659,
          11.443,
          12.63,
          12.988,
          13.922,
          19.909,
          14.314,
          11.533,
          9.071,
          9.998,
          10.388,
          12.82,
          13.257,
          6.166,
          7.581,
          7.789,
          9.431,
          15.045,
          15.219,
          3.122,
          19.252,
          17.938,
          3.593,
          24.838
         ],
         "xaxis": "x6",
         "y": [
          61,
          61,
          61,
          62,
          62,
          62,
          63,
          63,
          64,
          64,
          65,
          65,
          66,
          66,
          66,
          66,
          66,
          66,
          66,
          66,
          66,
          66,
          66,
          66,
          66,
          66,
          67,
          68,
          69,
          70,
          70,
          70,
          70,
          70,
          70,
          70,
          70,
          70,
          70,
          70,
          70,
          70,
          70,
          71,
          71,
          71,
          71,
          73,
          74,
          74,
          74,
          74,
          74,
          74,
          74,
          74,
          74,
          74,
          74,
          74,
          74,
          74,
          74,
          74,
          75,
          75,
          75,
          75,
          75,
          75,
          75,
          76,
          76,
          76,
          76,
          76,
          76,
          78,
          78,
          79,
          80,
          81,
          81,
          81,
          81,
          81,
          82,
          82,
          83,
          84,
          86,
          86,
          87,
          88,
          88,
          89,
          89,
          89,
          90,
          90,
          92,
          92,
          94,
          94,
          94,
          94,
          94,
          95,
          96,
          97,
          98,
          98,
          98,
          98,
          98,
          99,
          99,
          99,
          99,
          99,
          99,
          100,
          100,
          101,
          105,
          105
         ],
         "yaxis": "y6"
        },
        {
         "marker": {
          "symbol": "cross"
         },
         "mode": "markers",
         "name": "hold_start",
         "type": "scatter",
         "x": [
          4.609,
          6.172,
          4,
          15.236,
          7.818,
          9.623,
          23.267,
          6.552,
          10.453,
          5.448,
          9.888,
          15.417,
          32.541,
          20.453,
          12.458,
          11.566,
          13.501,
          22.237,
          19.87,
          10.916,
          4.57,
          25.146,
          20.694,
          22.884,
          22.933,
          27.62,
          23.92,
          27.329,
          30.752,
          17.188,
          19.2,
          33.143,
          29.768,
          16.751,
          25.353,
          20.315,
          30.583,
          11.779,
          10.366,
          25.412,
          23.02,
          19.402,
          5.771,
          28.488,
          30.011,
          29.484
         ],
         "xaxis": "x8",
         "y": [
          61,
          62,
          63,
          64,
          65,
          66,
          67,
          68,
          69,
          70,
          71,
          72,
          73,
          74,
          75,
          76,
          77,
          78,
          79,
          80,
          81,
          82,
          83,
          84,
          85,
          86,
          87,
          88,
          89,
          90,
          91,
          92,
          93,
          94,
          95,
          96,
          97,
          98,
          99,
          100,
          101,
          102,
          103,
          104,
          105,
          106
         ],
         "yaxis": "y8"
        }
       ],
       "layout": {
        "annotations": [
         {
          "font": {
           "size": 16
          },
          "showarrow": false,
          "text": "cued bar_trial_time",
          "x": 0.225,
          "xanchor": "center",
          "xref": "paper",
          "y": 1,
          "yanchor": "bottom",
          "yref": "paper"
         },
         {
          "font": {
           "size": 16
          },
          "showarrow": false,
          "text": "uncued bar_trial_time",
          "x": 0.775,
          "xanchor": "center",
          "xref": "paper",
          "y": 1,
          "yanchor": "bottom",
          "yref": "paper"
         },
         {
          "font": {
           "size": 16
          },
          "showarrow": false,
          "text": "cued bar_off_trial_time",
          "x": 0.225,
          "xanchor": "center",
          "xref": "paper",
          "y": 0.71875,
          "yanchor": "bottom",
          "yref": "paper"
         },
         {
          "font": {
           "size": 16
          },
          "showarrow": false,
          "text": "uncued bar_off_trial_time",
          "x": 0.775,
          "xanchor": "center",
          "xref": "paper",
          "y": 0.71875,
          "yanchor": "bottom",
          "yref": "paper"
         },
         {
          "font": {
           "size": 16
          },
          "showarrow": false,
          "text": "cued spout_trial_time",
          "x": 0.225,
          "xanchor": "center",
          "xref": "paper",
          "y": 0.4375,
          "yanchor": "bottom",
          "yref": "paper"
         },
         {
          "font": {
           "size": 16
          },
          "showarrow": false,
          "text": "uncued spout_trial_time",
          "x": 0.775,
          "xanchor": "center",
          "xref": "paper",
          "y": 0.4375,
          "yanchor": "bottom",
          "yref": "paper"
         },
         {
          "font": {
           "size": 16
          },
          "showarrow": false,
          "text": "cued hold_start_trial_time",
          "x": 0.225,
          "xanchor": "center",
          "xref": "paper",
          "y": 0.15625,
          "yanchor": "bottom",
          "yref": "paper"
         },
         {
          "font": {
           "size": 16
          },
          "showarrow": false,
          "text": "uncued hold_start_trial_time",
          "x": 0.775,
          "xanchor": "center",
          "xref": "paper",
          "y": 0.15625,
          "yanchor": "bottom",
          "yref": "paper"
         }
        ],
        "height": 800,
        "shapes": [
         {
          "line": {
           "color": "Grey",
           "dash": "dot",
           "width": 2
          },
          "type": "line",
          "x0": 0,
          "x1": 0,
          "xref": "x",
          "y0": 1,
          "y1": 60,
          "yref": "y"
         },
         {
          "line": {
           "color": "Grey",
           "dash": "dot",
           "width": 2
          },
          "type": "line",
          "x0": 0,
          "x1": 0,
          "xref": "x3",
          "y0": 1,
          "y1": 60,
          "yref": "y3"
         },
         {
          "line": {
           "color": "Grey",
           "dash": "dot",
           "width": 2
          },
          "type": "line",
          "x0": 0,
          "x1": 0,
          "xref": "x5",
          "y0": 1,
          "y1": 60,
          "yref": "y5"
         },
         {
          "line": {
           "color": "Grey",
           "dash": "dot",
           "width": 2
          },
          "type": "line",
          "x0": 0,
          "x1": 0,
          "xref": "x7",
          "y0": 1,
          "y1": 60,
          "yref": "y7"
         },
         {
          "line": {
           "color": "Grey",
           "dash": "dot",
           "width": 2
          },
          "type": "line",
          "x0": 0,
          "x1": 0,
          "xref": "x2",
          "y0": 1,
          "y1": 106,
          "yref": "y2"
         },
         {
          "line": {
           "color": "Grey",
           "dash": "dot",
           "width": 2
          },
          "type": "line",
          "x0": 0,
          "x1": 0,
          "xref": "x4",
          "y0": 1,
          "y1": 106,
          "yref": "y4"
         },
         {
          "line": {
           "color": "Grey",
           "dash": "dot",
           "width": 2
          },
          "type": "line",
          "x0": 0,
          "x1": 0,
          "xref": "x6",
          "y0": 1,
          "y1": 105,
          "yref": "y6"
         },
         {
          "line": {
           "color": "Grey",
           "dash": "dot",
           "width": 2
          },
          "type": "line",
          "x0": 0,
          "x1": 0,
          "xref": "x8",
          "y0": 1,
          "y1": 106,
          "yref": "y8"
         }
        ],
        "template": {
         "data": {
          "bar": [
           {
            "error_x": {
             "color": "#2a3f5f"
            },
            "error_y": {
             "color": "#2a3f5f"
            },
            "marker": {
             "line": {
              "color": "#E5ECF6",
              "width": 0.5
             },
             "pattern": {
              "fillmode": "overlay",
              "size": 10,
              "solidity": 0.2
             }
            },
            "type": "bar"
           }
          ],
          "barpolar": [
           {
            "marker": {
             "line": {
              "color": "#E5ECF6",
              "width": 0.5
             },
             "pattern": {
              "fillmode": "overlay",
              "size": 10,
              "solidity": 0.2
             }
            },
            "type": "barpolar"
           }
          ],
          "carpet": [
           {
            "aaxis": {
             "endlinecolor": "#2a3f5f",
             "gridcolor": "white",
             "linecolor": "white",
             "minorgridcolor": "white",
             "startlinecolor": "#2a3f5f"
            },
            "baxis": {
             "endlinecolor": "#2a3f5f",
             "gridcolor": "white",
             "linecolor": "white",
             "minorgridcolor": "white",
             "startlinecolor": "#2a3f5f"
            },
            "type": "carpet"
           }
          ],
          "choropleth": [
           {
            "colorbar": {
             "outlinewidth": 0,
             "ticks": ""
            },
            "type": "choropleth"
           }
          ],
          "contour": [
           {
            "colorbar": {
             "outlinewidth": 0,
             "ticks": ""
            },
            "colorscale": [
             [
              0,
              "#0d0887"
             ],
             [
              0.1111111111111111,
              "#46039f"
             ],
             [
              0.2222222222222222,
              "#7201a8"
             ],
             [
              0.3333333333333333,
              "#9c179e"
             ],
             [
              0.4444444444444444,
              "#bd3786"
             ],
             [
              0.5555555555555556,
              "#d8576b"
             ],
             [
              0.6666666666666666,
              "#ed7953"
             ],
             [
              0.7777777777777778,
              "#fb9f3a"
             ],
             [
              0.8888888888888888,
              "#fdca26"
             ],
             [
              1,
              "#f0f921"
             ]
            ],
            "type": "contour"
           }
          ],
          "contourcarpet": [
           {
            "colorbar": {
             "outlinewidth": 0,
             "ticks": ""
            },
            "type": "contourcarpet"
           }
          ],
          "heatmap": [
           {
            "colorbar": {
             "outlinewidth": 0,
             "ticks": ""
            },
            "colorscale": [
             [
              0,
              "#0d0887"
             ],
             [
              0.1111111111111111,
              "#46039f"
             ],
             [
              0.2222222222222222,
              "#7201a8"
             ],
             [
              0.3333333333333333,
              "#9c179e"
             ],
             [
              0.4444444444444444,
              "#bd3786"
             ],
             [
              0.5555555555555556,
              "#d8576b"
             ],
             [
              0.6666666666666666,
              "#ed7953"
             ],
             [
              0.7777777777777778,
              "#fb9f3a"
             ],
             [
              0.8888888888888888,
              "#fdca26"
             ],
             [
              1,
              "#f0f921"
             ]
            ],
            "type": "heatmap"
           }
          ],
          "heatmapgl": [
           {
            "colorbar": {
             "outlinewidth": 0,
             "ticks": ""
            },
            "colorscale": [
             [
              0,
              "#0d0887"
             ],
             [
              0.1111111111111111,
              "#46039f"
             ],
             [
              0.2222222222222222,
              "#7201a8"
             ],
             [
              0.3333333333333333,
              "#9c179e"
             ],
             [
              0.4444444444444444,
              "#bd3786"
             ],
             [
              0.5555555555555556,
              "#d8576b"
             ],
             [
              0.6666666666666666,
              "#ed7953"
             ],
             [
              0.7777777777777778,
              "#fb9f3a"
             ],
             [
              0.8888888888888888,
              "#fdca26"
             ],
             [
              1,
              "#f0f921"
             ]
            ],
            "type": "heatmapgl"
           }
          ],
          "histogram": [
           {
            "marker": {
             "pattern": {
              "fillmode": "overlay",
              "size": 10,
              "solidity": 0.2
             }
            },
            "type": "histogram"
           }
          ],
          "histogram2d": [
           {
            "colorbar": {
             "outlinewidth": 0,
             "ticks": ""
            },
            "colorscale": [
             [
              0,
              "#0d0887"
             ],
             [
              0.1111111111111111,
              "#46039f"
             ],
             [
              0.2222222222222222,
              "#7201a8"
             ],
             [
              0.3333333333333333,
              "#9c179e"
             ],
             [
              0.4444444444444444,
              "#bd3786"
             ],
             [
              0.5555555555555556,
              "#d8576b"
             ],
             [
              0.6666666666666666,
              "#ed7953"
             ],
             [
              0.7777777777777778,
              "#fb9f3a"
             ],
             [
              0.8888888888888888,
              "#fdca26"
             ],
             [
              1,
              "#f0f921"
             ]
            ],
            "type": "histogram2d"
           }
          ],
          "histogram2dcontour": [
           {
            "colorbar": {
             "outlinewidth": 0,
             "ticks": ""
            },
            "colorscale": [
             [
              0,
              "#0d0887"
             ],
             [
              0.1111111111111111,
              "#46039f"
             ],
             [
              0.2222222222222222,
              "#7201a8"
             ],
             [
              0.3333333333333333,
              "#9c179e"
             ],
             [
              0.4444444444444444,
              "#bd3786"
             ],
             [
              0.5555555555555556,
              "#d8576b"
             ],
             [
              0.6666666666666666,
              "#ed7953"
             ],
             [
              0.7777777777777778,
              "#fb9f3a"
             ],
             [
              0.8888888888888888,
              "#fdca26"
             ],
             [
              1,
              "#f0f921"
             ]
            ],
            "type": "histogram2dcontour"
           }
          ],
          "mesh3d": [
           {
            "colorbar": {
             "outlinewidth": 0,
             "ticks": ""
            },
            "type": "mesh3d"
           }
          ],
          "parcoords": [
           {
            "line": {
             "colorbar": {
              "outlinewidth": 0,
              "ticks": ""
             }
            },
            "type": "parcoords"
           }
          ],
          "pie": [
           {
            "automargin": true,
            "type": "pie"
           }
          ],
          "scatter": [
           {
            "fillpattern": {
             "fillmode": "overlay",
             "size": 10,
             "solidity": 0.2
            },
            "type": "scatter"
           }
          ],
          "scatter3d": [
           {
            "line": {
             "colorbar": {
              "outlinewidth": 0,
              "ticks": ""
             }
            },
            "marker": {
             "colorbar": {
              "outlinewidth": 0,
              "ticks": ""
             }
            },
            "type": "scatter3d"
           }
          ],
          "scattercarpet": [
           {
            "marker": {
             "colorbar": {
              "outlinewidth": 0,
              "ticks": ""
             }
            },
            "type": "scattercarpet"
           }
          ],
          "scattergeo": [
           {
            "marker": {
             "colorbar": {
              "outlinewidth": 0,
              "ticks": ""
             }
            },
            "type": "scattergeo"
           }
          ],
          "scattergl": [
           {
            "marker": {
             "colorbar": {
              "outlinewidth": 0,
              "ticks": ""
             }
            },
            "type": "scattergl"
           }
          ],
          "scattermapbox": [
           {
            "marker": {
             "colorbar": {
              "outlinewidth": 0,
              "ticks": ""
             }
            },
            "type": "scattermapbox"
           }
          ],
          "scatterpolar": [
           {
            "marker": {
             "colorbar": {
              "outlinewidth": 0,
              "ticks": ""
             }
            },
            "type": "scatterpolar"
           }
          ],
          "scatterpolargl": [
           {
            "marker": {
             "colorbar": {
              "outlinewidth": 0,
              "ticks": ""
             }
            },
            "type": "scatterpolargl"
           }
          ],
          "scatterternary": [
           {
            "marker": {
             "colorbar": {
              "outlinewidth": 0,
              "ticks": ""
             }
            },
            "type": "scatterternary"
           }
          ],
          "surface": [
           {
            "colorbar": {
             "outlinewidth": 0,
             "ticks": ""
            },
            "colorscale": [
             [
              0,
              "#0d0887"
             ],
             [
              0.1111111111111111,
              "#46039f"
             ],
             [
              0.2222222222222222,
              "#7201a8"
             ],
             [
              0.3333333333333333,
              "#9c179e"
             ],
             [
              0.4444444444444444,
              "#bd3786"
             ],
             [
              0.5555555555555556,
              "#d8576b"
             ],
             [
              0.6666666666666666,
              "#ed7953"
             ],
             [
              0.7777777777777778,
              "#fb9f3a"
             ],
             [
              0.8888888888888888,
              "#fdca26"
             ],
             [
              1,
              "#f0f921"
             ]
            ],
            "type": "surface"
           }
          ],
          "table": [
           {
            "cells": {
             "fill": {
              "color": "#EBF0F8"
             },
             "line": {
              "color": "white"
             }
            },
            "header": {
             "fill": {
              "color": "#C8D4E3"
             },
             "line": {
              "color": "white"
             }
            },
            "type": "table"
           }
          ]
         },
         "layout": {
          "annotationdefaults": {
           "arrowcolor": "#2a3f5f",
           "arrowhead": 0,
           "arrowwidth": 1
          },
          "autotypenumbers": "strict",
          "coloraxis": {
           "colorbar": {
            "outlinewidth": 0,
            "ticks": ""
           }
          },
          "colorscale": {
           "diverging": [
            [
             0,
             "#8e0152"
            ],
            [
             0.1,
             "#c51b7d"
            ],
            [
             0.2,
             "#de77ae"
            ],
            [
             0.3,
             "#f1b6da"
            ],
            [
             0.4,
             "#fde0ef"
            ],
            [
             0.5,
             "#f7f7f7"
            ],
            [
             0.6,
             "#e6f5d0"
            ],
            [
             0.7,
             "#b8e186"
            ],
            [
             0.8,
             "#7fbc41"
            ],
            [
             0.9,
             "#4d9221"
            ],
            [
             1,
             "#276419"
            ]
           ],
           "sequential": [
            [
             0,
             "#0d0887"
            ],
            [
             0.1111111111111111,
             "#46039f"
            ],
            [
             0.2222222222222222,
             "#7201a8"
            ],
            [
             0.3333333333333333,
             "#9c179e"
            ],
            [
             0.4444444444444444,
             "#bd3786"
            ],
            [
             0.5555555555555556,
             "#d8576b"
            ],
            [
             0.6666666666666666,
             "#ed7953"
            ],
            [
             0.7777777777777778,
             "#fb9f3a"
            ],
            [
             0.8888888888888888,
             "#fdca26"
            ],
            [
             1,
             "#f0f921"
            ]
           ],
           "sequentialminus": [
            [
             0,
             "#0d0887"
            ],
            [
             0.1111111111111111,
             "#46039f"
            ],
            [
             0.2222222222222222,
             "#7201a8"
            ],
            [
             0.3333333333333333,
             "#9c179e"
            ],
            [
             0.4444444444444444,
             "#bd3786"
            ],
            [
             0.5555555555555556,
             "#d8576b"
            ],
            [
             0.6666666666666666,
             "#ed7953"
            ],
            [
             0.7777777777777778,
             "#fb9f3a"
            ],
            [
             0.8888888888888888,
             "#fdca26"
            ],
            [
             1,
             "#f0f921"
            ]
           ]
          },
          "colorway": [
           "#636efa",
           "#EF553B",
           "#00cc96",
           "#ab63fa",
           "#FFA15A",
           "#19d3f3",
           "#FF6692",
           "#B6E880",
           "#FF97FF",
           "#FECB52"
          ],
          "font": {
           "color": "#2a3f5f"
          },
          "geo": {
           "bgcolor": "white",
           "lakecolor": "white",
           "landcolor": "#E5ECF6",
           "showlakes": true,
           "showland": true,
           "subunitcolor": "white"
          },
          "hoverlabel": {
           "align": "left"
          },
          "hovermode": "closest",
          "mapbox": {
           "style": "light"
          },
          "paper_bgcolor": "white",
          "plot_bgcolor": "#E5ECF6",
          "polar": {
           "angularaxis": {
            "gridcolor": "white",
            "linecolor": "white",
            "ticks": ""
           },
           "bgcolor": "#E5ECF6",
           "radialaxis": {
            "gridcolor": "white",
            "linecolor": "white",
            "ticks": ""
           }
          },
          "scene": {
           "xaxis": {
            "backgroundcolor": "#E5ECF6",
            "gridcolor": "white",
            "gridwidth": 2,
            "linecolor": "white",
            "showbackground": true,
            "ticks": "",
            "zerolinecolor": "white"
           },
           "yaxis": {
            "backgroundcolor": "#E5ECF6",
            "gridcolor": "white",
            "gridwidth": 2,
            "linecolor": "white",
            "showbackground": true,
            "ticks": "",
            "zerolinecolor": "white"
           },
           "zaxis": {
            "backgroundcolor": "#E5ECF6",
            "gridcolor": "white",
            "gridwidth": 2,
            "linecolor": "white",
            "showbackground": true,
            "ticks": "",
            "zerolinecolor": "white"
           }
          },
          "shapedefaults": {
           "line": {
            "color": "#2a3f5f"
           }
          },
          "ternary": {
           "aaxis": {
            "gridcolor": "white",
            "linecolor": "white",
            "ticks": ""
           },
           "baxis": {
            "gridcolor": "white",
            "linecolor": "white",
            "ticks": ""
           },
           "bgcolor": "#E5ECF6",
           "caxis": {
            "gridcolor": "white",
            "linecolor": "white",
            "ticks": ""
           }
          },
          "title": {
           "x": 0.05
          },
          "xaxis": {
           "automargin": true,
           "gridcolor": "white",
           "linecolor": "white",
           "ticks": "",
           "title": {
            "standoff": 15
           },
           "zerolinecolor": "white",
           "zerolinewidth": 2
          },
          "yaxis": {
           "automargin": true,
           "gridcolor": "white",
           "linecolor": "white",
           "ticks": "",
           "title": {
            "standoff": 15
           },
           "zerolinecolor": "white",
           "zerolinewidth": 2
          }
         }
        },
        "width": 800,
        "xaxis": {
         "anchor": "y",
         "autorange": true,
         "domain": [
          0,
          0.45
         ],
         "linecolor": "black",
         "matches": "x7",
         "showline": true,
         "showticklabels": false,
         "tickfont": {
          "size": 12
         },
         "ticklen": 6,
         "ticks": "outside",
         "tickwidth": 2,
         "title": {
          "text": "time (s)"
         }
        },
        "xaxis2": {
         "anchor": "y2",
         "autorange": true,
         "domain": [
          0.55,
          1
         ],
         "linecolor": "black",
         "matches": "x8",
         "showline": true,
         "showticklabels": false,
         "tickfont": {
          "size": 12
         },
         "ticklen": 6,
         "ticks": "outside",
         "tickwidth": 2,
         "title": {
          "text": "time (s)"
         }
        },
        "xaxis3": {
         "anchor": "y3",
         "autorange": true,
         "domain": [
          0,
          0.45
         ],
         "linecolor": "black",
         "matches": "x7",
         "showline": true,
         "showticklabels": false,
         "tickfont": {
          "size": 12
         },
         "ticklen": 6,
         "ticks": "outside",
         "tickwidth": 2,
         "title": {
          "text": "time (s)"
         }
        },
        "xaxis4": {
         "anchor": "y4",
         "autorange": true,
         "domain": [
          0.55,
          1
         ],
         "linecolor": "black",
         "matches": "x8",
         "showline": true,
         "showticklabels": false,
         "tickfont": {
          "size": 12
         },
         "ticklen": 6,
         "ticks": "outside",
         "tickwidth": 2,
         "title": {
          "text": "time (s)"
         }
        },
        "xaxis5": {
         "anchor": "y5",
         "autorange": true,
         "domain": [
          0,
          0.45
         ],
         "linecolor": "black",
         "matches": "x7",
         "showline": true,
         "showticklabels": false,
         "tickfont": {
          "size": 12
         },
         "ticklen": 6,
         "ticks": "outside",
         "tickwidth": 2,
         "title": {
          "text": "time (s)"
         }
        },
        "xaxis6": {
         "anchor": "y6",
         "autorange": true,
         "domain": [
          0.55,
          1
         ],
         "linecolor": "black",
         "matches": "x8",
         "showline": true,
         "showticklabels": false,
         "tickfont": {
          "size": 12
         },
         "ticklen": 6,
         "ticks": "outside",
         "tickwidth": 2,
         "title": {
          "text": "time (s)"
         }
        },
        "xaxis7": {
         "anchor": "y7",
         "autorange": true,
         "domain": [
          0,
          0.45
         ],
         "linecolor": "black",
         "showline": true,
         "tickfont": {
          "size": 12
         },
         "ticklen": 6,
         "ticks": "outside",
         "tickwidth": 2,
         "title": {
          "text": "time (s)"
         }
        },
        "xaxis8": {
         "anchor": "y8",
         "autorange": true,
         "domain": [
          0.55,
          1
         ],
         "linecolor": "black",
         "showline": true,
         "tickfont": {
          "size": 12
         },
         "ticklen": 6,
         "ticks": "outside",
         "tickwidth": 2,
         "title": {
          "text": "time (s)"
         }
        },
        "yaxis": {
         "anchor": "x",
         "domain": [
          0.84375,
          1
         ],
         "linecolor": "black",
         "range": [
          0,
          61
         ],
         "showgrid": true,
         "showline": true,
         "tickfont": {
          "size": 12
         },
         "ticklen": 6,
         "ticks": "outside",
         "tickwidth": 2,
         "title": {
          "text": "trial nb"
         }
        },
        "yaxis2": {
         "anchor": "x2",
         "domain": [
          0.84375,
          1
         ],
         "linecolor": "black",
         "matches": "y",
         "range": [
          0,
          107
         ],
         "showgrid": true,
         "showline": true,
         "showticklabels": false,
         "tickfont": {
          "size": 12
         },
         "ticklen": 6,
         "ticks": "outside",
         "tickwidth": 2,
         "title": {
          "text": "trial nb"
         }
        },
        "yaxis3": {
         "anchor": "x3",
         "domain": [
          0.5625,
          0.71875
         ],
         "linecolor": "black",
         "range": [
          0,
          61
         ],
         "showgrid": true,
         "showline": true,
         "tickfont": {
          "size": 12
         },
         "ticklen": 6,
         "ticks": "outside",
         "tickwidth": 2,
         "title": {
          "text": "trial nb"
         }
        },
        "yaxis4": {
         "anchor": "x4",
         "domain": [
          0.5625,
          0.71875
         ],
         "linecolor": "black",
         "matches": "y3",
         "range": [
          0,
          107
         ],
         "showgrid": true,
         "showline": true,
         "showticklabels": false,
         "tickfont": {
          "size": 12
         },
         "ticklen": 6,
         "ticks": "outside",
         "tickwidth": 2,
         "title": {
          "text": "trial nb"
         }
        },
        "yaxis5": {
         "anchor": "x5",
         "domain": [
          0.28125,
          0.4375
         ],
         "linecolor": "black",
         "range": [
          0,
          61
         ],
         "showgrid": true,
         "showline": true,
         "tickfont": {
          "size": 12
         },
         "ticklen": 6,
         "ticks": "outside",
         "tickwidth": 2,
         "title": {
          "text": "trial nb"
         }
        },
        "yaxis6": {
         "anchor": "x6",
         "domain": [
          0.28125,
          0.4375
         ],
         "linecolor": "black",
         "matches": "y5",
         "range": [
          0,
          106
         ],
         "showgrid": true,
         "showline": true,
         "showticklabels": false,
         "tickfont": {
          "size": 12
         },
         "ticklen": 6,
         "ticks": "outside",
         "tickwidth": 2,
         "title": {
          "text": "trial nb"
         }
        },
        "yaxis7": {
         "anchor": "x7",
         "domain": [
          0,
          0.15625
         ],
         "linecolor": "black",
         "range": [
          0,
          61
         ],
         "showgrid": true,
         "showline": true,
         "tickfont": {
          "size": 12
         },
         "ticklen": 6,
         "ticks": "outside",
         "tickwidth": 2,
         "title": {
          "text": "trial nb"
         }
        },
        "yaxis8": {
         "anchor": "x8",
         "domain": [
          0,
          0.15625
         ],
         "linecolor": "black",
         "matches": "y7",
         "range": [
          0,
          107
         ],
         "showgrid": true,
         "showline": true,
         "showticklabels": false,
         "tickfont": {
          "size": 12
         },
         "ticklen": 6,
         "ticks": "outside",
         "tickwidth": 2,
         "title": {
          "text": "trial nb"
         }
        }
       }
      }
     },
     "metadata": {},
     "output_type": "display_data"
    },
    {
     "data": {
      "application/vnd.plotly.v1+json": {
       "config": {
        "plotlyServerURL": "https://plot.ly"
       },
       "data": [
        {
         "marker": {
          "symbol": "circle"
         },
         "mode": "markers",
         "name": "bar",
         "type": "scatter",
         "x": [
          11.533,
          11.625,
          11.841,
          11.882,
          11.996,
          12.221,
          12.298,
          19.644,
          20.393,
          6.925,
          7.02,
          1.217,
          6.169,
          6.933,
          8.663,
          7.103,
          7.131,
          3.552,
          4.484,
          4.55,
          1.526,
          1.602,
          1.842,
          3.831,
          5.719,
          3.194,
          8.191,
          9.257,
          9.321,
          4.273,
          4.331,
          12.585,
          12.734,
          12.818,
          12.841,
          1.328,
          1.436,
          1.466,
          8.791,
          9.346,
          9.365,
          20.876,
          9.672,
          5.915,
          6.132,
          6.59,
          6.631,
          33.613,
          7.141,
          13.355,
          17.05,
          34.361,
          7.703,
          7.762,
          21.708,
          21.762,
          22.395,
          25.109,
          25.235,
          51.463,
          52.255,
          52.285,
          52.413,
          9.678,
          9.762,
          10.609,
          10.738,
          10.79,
          11.917,
          15.101,
          15.16,
          15.197,
          15.247,
          15.318,
          15.529,
          19.246,
          43.703,
          43.778,
          46.473,
          47.936,
          48.063,
          0.333,
          0.397,
          19.67,
          19.899,
          21.666,
          39.081,
          0.884,
          0.971,
          12.179,
          4.545,
          23.623,
          2.429,
          2.606,
          2.678,
          3.091,
          3.651,
          3.738,
          4.556,
          32.7,
          33.98,
          34.214,
          60.356,
          8.412,
          17.196,
          18.467,
          5.844,
          13.145,
          6.348,
          6.499,
          6.686,
          18.967,
          20.296,
          23.435,
          23.726,
          26.899,
          27.208,
          27.537,
          7.141,
          8.617,
          8.729,
          8.808,
          9.11,
          10.36,
          11.377,
          2.748,
          2.785,
          3.133,
          17.637,
          19.803,
          20.106,
          20.788,
          23.542,
          19.929,
          2.645,
          14.719,
          17.483,
          30.987,
          2.77,
          2.954,
          10.245,
          10.361,
          15.105,
          20.014,
          20.09,
          22.821,
          35.568,
          27.326,
          30.125,
          30.949,
          31.305,
          31.419,
          31.5,
          31.744,
          31.835,
          1.061,
          7.414,
          6.477,
          6.687,
          7.407,
          7.791,
          7.899,
          13.959,
          14.237,
          14.522,
          15.549,
          15.973,
          17.301,
          4.72,
          9.255,
          11.745,
          11.942,
          11.987,
          12.266,
          25.324,
          25.384,
          27.262,
          31.296,
          31.728,
          41.375,
          41.62,
          42.392,
          43.01,
          44.023
         ],
         "xaxis": "x",
         "y": [
          1,
          1,
          1,
          1,
          1,
          1,
          1,
          1,
          1,
          2,
          2,
          4,
          4,
          4,
          4,
          6,
          6,
          7,
          7,
          7,
          8,
          8,
          8,
          8,
          8,
          12,
          15,
          16,
          16,
          17,
          17,
          19,
          19,
          19,
          19,
          21,
          21,
          21,
          21,
          21,
          21,
          21,
          25,
          27,
          27,
          27,
          27,
          27,
          28,
          29,
          29,
          29,
          30,
          30,
          31,
          31,
          31,
          31,
          31,
          31,
          31,
          31,
          31,
          32,
          32,
          32,
          32,
          32,
          32,
          32,
          32,
          32,
          32,
          32,
          32,
          32,
          32,
          32,
          32,
          32,
          32,
          33,
          33,
          33,
          33,
          33,
          33,
          34,
          34,
          35,
          36,
          36,
          37,
          37,
          37,
          37,
          37,
          37,
          37,
          38,
          38,
          38,
          38,
          39,
          39,
          39,
          40,
          40,
          41,
          41,
          41,
          41,
          41,
          41,
          41,
          41,
          41,
          41,
          42,
          43,
          43,
          43,
          43,
          43,
          43,
          44,
          44,
          44,
          44,
          44,
          44,
          44,
          44,
          45,
          46,
          46,
          46,
          46,
          47,
          47,
          47,
          47,
          47,
          47,
          47,
          47,
          47,
          48,
          48,
          48,
          48,
          48,
          48,
          48,
          48,
          50,
          51,
          52,
          52,
          52,
          52,
          52,
          58,
          58,
          58,
          58,
          58,
          58,
          59,
          59,
          60,
          60,
          60,
          60,
          60,
          60,
          60,
          60,
          60,
          60,
          60,
          60,
          60,
          60
         ],
         "yaxis": "y"
        },
        {
         "marker": {
          "symbol": "square"
         },
         "mode": "markers",
         "name": "bar_off",
         "type": "scatter",
         "x": [
          11.61,
          11.826,
          11.867,
          11.976,
          12.012,
          12.282,
          12.595,
          20.341,
          6.886,
          6.941,
          1.157,
          6.044,
          6.876,
          8.634,
          6.72,
          7.118,
          3.135,
          4.44,
          4.531,
          1.32,
          1.541,
          1.812,
          1.981,
          4.908,
          3.158,
          8.124,
          9.224,
          9.286,
          4.244,
          4.316,
          12.455,
          12.719,
          12.746,
          12.834,
          1.274,
          1.4,
          1.451,
          8.493,
          9.044,
          9.361,
          9.444,
          9.636,
          4.98,
          5.931,
          6.525,
          6.613,
          13.493,
          1.036,
          0.282,
          15.626,
          20.638,
          2.342,
          7.718,
          1.184,
          21.734,
          22.119,
          25.067,
          25.19,
          25.577,
          52.236,
          52.27,
          52.397,
          0.982,
          9.743,
          10.553,
          10.7,
          10.753,
          11.137,
          12.411,
          15.145,
          15.182,
          15.211,
          15.262,
          15.486,
          19.116,
          19.302,
          43.763,
          44.241,
          47.921,
          47.971,
          0.266,
          0.369,
          0.412,
          19.884,
          21.615,
          25.866,
          0.627,
          0.913,
          3.647,
          1.147,
          7.019,
          0.585,
          2.591,
          2.628,
          3.068,
          3.623,
          3.709,
          4.064,
          0.618,
          32.765,
          33.995,
          36.969,
          4.248,
          12.147,
          18.385,
          0.831,
          11.837,
          5.425,
          6.445,
          6.622,
          11.784,
          19.561,
          20.974,
          23.595,
          24.122,
          27.143,
          27.511,
          7.04,
          8.419,
          8.632,
          8.744,
          8.997,
          10.268,
          11.304,
          1.706,
          2.763,
          3.084,
          10.581,
          19.388,
          20.09,
          20.201,
          22.545,
          0.637,
          1.367,
          9.112,
          15.417,
          18.601,
          2.743,
          2.785,
          7.172,
          10.27,
          13.612,
          17.987,
          20.059,
          22.507,
          25.715,
          0.975,
          28.808,
          30.832,
          30.964,
          31.4,
          31.484,
          31.7,
          31.804,
          0.846,
          7.33,
          6.315,
          6.615,
          7.352,
          7.731,
          7.806,
          13.868,
          14.182,
          14.488,
          15.019,
          15.689,
          17.166,
          4.592,
          9.087,
          11.069,
          11.76,
          11.972,
          11.988,
          12.282,
          25.36,
          27.235,
          27.277,
          31.706,
          32.058,
          41.575,
          42.312,
          42.991,
          43.026
         ],
         "xaxis": "x3",
         "y": [
          1,
          1,
          1,
          1,
          1,
          1,
          1,
          1,
          2,
          2,
          4,
          4,
          4,
          4,
          6,
          6,
          7,
          7,
          7,
          8,
          8,
          8,
          8,
          8,
          12,
          15,
          16,
          16,
          17,
          17,
          19,
          19,
          19,
          19,
          21,
          21,
          21,
          21,
          21,
          21,
          21,
          25,
          27,
          27,
          27,
          27,
          27,
          28,
          29,
          29,
          29,
          30,
          30,
          31,
          31,
          31,
          31,
          31,
          31,
          31,
          31,
          31,
          32,
          32,
          32,
          32,
          32,
          32,
          32,
          32,
          32,
          32,
          32,
          32,
          32,
          32,
          32,
          32,
          32,
          32,
          33,
          33,
          33,
          33,
          33,
          33,
          34,
          34,
          35,
          36,
          36,
          37,
          37,
          37,
          37,
          37,
          37,
          37,
          38,
          38,
          38,
          38,
          39,
          39,
          39,
          40,
          40,
          41,
          41,
          41,
          41,
          41,
          41,
          41,
          41,
          41,
          41,
          42,
          43,
          43,
          43,
          43,
          43,
          43,
          44,
          44,
          44,
          44,
          44,
          44,
          44,
          44,
          45,
          46,
          46,
          46,
          46,
          47,
          47,
          47,
          47,
          47,
          47,
          47,
          47,
          47,
          48,
          48,
          48,
          48,
          48,
          48,
          48,
          48,
          50,
          51,
          52,
          52,
          52,
          52,
          52,
          58,
          58,
          58,
          58,
          58,
          58,
          59,
          59,
          60,
          60,
          60,
          60,
          60,
          60,
          60,
          60,
          60,
          60,
          60,
          60,
          60,
          60
         ],
         "yaxis": "y3"
        },
        {
         "marker": {
          "symbol": "diamond"
         },
         "mode": "markers",
         "name": "spout",
         "type": "scatter",
         "x": [
          0.856,
          0.931,
          1.171,
          1.246,
          2.49,
          2.565,
          1.332,
          1.407,
          1.193,
          2.933,
          3.009,
          2.583,
          1.287,
          1.323,
          2.476,
          1.367,
          2.787,
          2.377,
          14.572,
          16.271,
          16.597,
          16.762,
          18.209,
          18.449,
          19.543,
          19.928,
          19.948,
          22.177,
          22.402,
          26.365,
          26.542,
          26.592,
          27.052,
          29.421,
          30.117,
          30.142,
          30.347,
          30.868,
          31.11,
          31.747,
          31.769,
          1.058,
          1.608,
          1.961,
          2.458,
          2.764,
          2.8,
          5.327,
          5.548,
          5.729,
          0.905,
          2.274,
          2.463,
          4.935,
          6.366,
          9.24,
          9.425,
          10.742,
          13.153,
          20.94,
          21.649,
          23.988,
          24.78,
          25.255,
          28.87,
          28.9,
          28.92,
          28.94,
          28.96,
          29.116,
          33.333,
          33.377,
          33.466,
          33.559,
          2.355,
          2.53,
          2.552,
          3.713,
          4.237,
          0.872,
          2.648,
          4.01,
          4.592,
          5.594,
          5.686,
          8.643,
          12.278,
          12.743,
          14.848,
          15.043,
          15.087,
          15.64,
          17.61,
          17.832,
          18.218,
          20.629,
          20.909,
          20.975,
          25.814,
          25.85,
          25.88,
          26.879,
          27.327,
          30.195,
          30.396,
          32.892,
          33.042,
          36.56,
          38.127,
          38.52,
          41.918,
          42.128,
          42.169,
          42.686,
          43.069,
          45.043,
          49.142,
          49.168,
          49.185,
          49.572,
          49.609,
          1.025,
          1.416,
          1.579,
          1.955,
          2.015,
          2.624,
          3.774,
          4.768,
          8.096,
          8.116,
          11.459,
          11.477,
          11.753,
          11.785,
          13.175,
          13.691,
          14.058,
          14.506,
          19.69,
          19.9,
          20.448,
          24.715,
          25.787,
          26.168,
          26.342,
          26.502,
          26.722,
          26.856,
          27.622,
          28.725,
          28.969,
          32.762,
          33.205,
          35.825,
          38.328,
          45.751,
          0.279,
          7.347,
          7.797,
          8.513,
          8.815,
          9.084,
          9.75,
          9.872,
          0.64,
          1.524,
          4.491,
          5.167,
          6.897,
          7.628,
          8.696,
          10.446,
          11.026,
          11.077,
          11.204,
          11.224,
          11.736,
          11.999,
          1.169,
          4.278,
          7.832,
          10.941,
          12.055,
          17.531,
          22.89,
          2.146,
          0.641,
          1.767,
          9.516,
          16.212,
          16.864,
          17.402,
          18.19,
          21.135,
          23.359,
          23.897,
          24.617,
          25.239,
          26.022,
          27.521,
          28.167,
          28.317,
          29.155,
          29.63,
          29.694,
          29.805,
          29.926,
          30.051,
          30.306,
          31.84,
          32.064,
          32.153,
          40.008,
          43.883,
          44.565,
          49.351,
          52.724,
          0.706,
          5.208,
          6.504,
          7.718,
          15.996,
          16.983,
          0.844,
          21.052,
          21.32,
          21.564,
          21.806,
          22.067,
          22.351,
          22.66,
          22.987,
          24.353,
          25.344,
          26.132,
          26.496,
          2.916,
          11.055,
          13.72,
          16.41,
          0.543,
          12.988,
          14.609,
          17.98,
          19.051,
          1.38,
          1.41,
          2.131,
          9.644,
          9.895,
          11.589,
          12.54,
          18.765,
          19.271,
          24.13,
          24.293,
          0.882,
          7.457,
          8.01,
          8.238,
          14.735,
          18.692,
          26.61,
          7.29,
          8.007,
          8.31,
          8.814,
          8.86,
          10.798,
          16.441,
          23.373,
          2.155,
          2.119,
          1.668,
          2.255,
          1.029,
          12.821,
          13.691,
          29.569,
          32.615,
          32.637,
          39.543,
          39.655,
          40.129,
          43.306
         ],
         "xaxis": "x5",
         "y": [
          2,
          2,
          4,
          4,
          7,
          7,
          8,
          8,
          13,
          16,
          16,
          20,
          21,
          21,
          24,
          25,
          26,
          27,
          27,
          27,
          27,
          27,
          27,
          27,
          27,
          27,
          27,
          27,
          27,
          27,
          27,
          27,
          27,
          27,
          27,
          27,
          27,
          27,
          27,
          27,
          27,
          28,
          28,
          28,
          28,
          28,
          28,
          28,
          28,
          28,
          29,
          29,
          29,
          29,
          29,
          29,
          29,
          29,
          29,
          29,
          29,
          29,
          29,
          29,
          29,
          29,
          29,
          29,
          29,
          29,
          29,
          29,
          29,
          29,
          30,
          30,
          30,
          30,
          30,
          31,
          31,
          31,
          31,
          31,
          31,
          31,
          31,
          31,
          31,
          31,
          31,
          31,
          31,
          31,
          31,
          31,
          31,
          31,
          31,
          31,
          31,
          31,
          31,
          31,
          31,
          31,
          31,
          31,
          31,
          31,
          31,
          31,
          31,
          31,
          31,
          31,
          31,
          31,
          31,
          31,
          31,
          32,
          32,
          32,
          32,
          32,
          32,
          32,
          32,
          32,
          32,
          32,
          32,
          32,
          32,
          32,
          32,
          32,
          32,
          32,
          32,
          32,
          32,
          32,
          32,
          32,
          32,
          32,
          32,
          32,
          32,
          32,
          32,
          32,
          32,
          32,
          32,
          33,
          33,
          33,
          33,
          33,
          33,
          33,
          33,
          34,
          35,
          35,
          35,
          35,
          35,
          35,
          35,
          35,
          35,
          35,
          35,
          35,
          35,
          36,
          36,
          36,
          36,
          36,
          36,
          36,
          37,
          38,
          38,
          38,
          38,
          38,
          38,
          38,
          38,
          38,
          38,
          38,
          38,
          38,
          38,
          38,
          38,
          38,
          38,
          38,
          38,
          38,
          38,
          38,
          38,
          38,
          38,
          38,
          38,
          38,
          38,
          38,
          39,
          39,
          39,
          39,
          39,
          39,
          40,
          41,
          41,
          41,
          41,
          41,
          41,
          41,
          41,
          41,
          41,
          41,
          41,
          43,
          44,
          44,
          44,
          45,
          45,
          45,
          45,
          45,
          46,
          46,
          46,
          46,
          46,
          46,
          46,
          46,
          46,
          46,
          46,
          47,
          47,
          47,
          47,
          47,
          47,
          47,
          48,
          48,
          48,
          48,
          48,
          48,
          48,
          48,
          51,
          53,
          54,
          58,
          60,
          60,
          60,
          60,
          60,
          60,
          60,
          60,
          60,
          60
         ],
         "yaxis": "y5"
        },
        {
         "marker": {
          "symbol": "cross"
         },
         "mode": "markers",
         "name": "hold_start",
         "type": "scatter",
         "x": [
          11.443,
          3.504,
          9.718,
          3.903,
          10.012,
          10.884,
          6.714,
          5.004,
          10.769,
          11.14,
          9.569,
          9.391,
          4.873,
          10.351,
          10.563,
          6.297,
          9.155,
          11.488,
          10.968,
          10.358,
          10.381,
          11.132,
          9.203,
          9.06,
          9.088,
          10.576,
          10.392,
          4.674,
          3.597,
          5.389,
          5.625,
          4.235,
          10.675,
          10.789,
          9.519,
          9.712,
          4.984,
          4.995,
          10.687,
          10.594,
          9.565,
          10.976,
          11.023,
          9.243,
          10.961,
          5.625,
          11.491,
          9.863,
          9.737,
          11.477,
          11.128,
          9.693,
          11.435,
          10.133,
          9.049,
          11.214,
          9.99,
          10.829,
          9.962,
          10.385
         ],
         "xaxis": "x7",
         "y": [
          1,
          2,
          3,
          4,
          5,
          6,
          7,
          8,
          9,
          10,
          11,
          12,
          13,
          14,
          15,
          16,
          17,
          18,
          19,
          20,
          21,
          22,
          23,
          24,
          25,
          26,
          27,
          28,
          29,
          30,
          31,
          32,
          33,
          34,
          35,
          36,
          37,
          38,
          39,
          40,
          41,
          42,
          43,
          44,
          45,
          46,
          47,
          48,
          49,
          50,
          51,
          52,
          53,
          54,
          55,
          56,
          57,
          58,
          59,
          60
         ],
         "yaxis": "y7"
        },
        {
         "marker": {
          "symbol": "circle"
         },
         "mode": "markers",
         "name": "bar",
         "type": "scatter",
         "x": [
          3.687,
          4.181,
          4.617,
          4.709,
          3.683,
          4.322,
          1.198,
          1.249,
          2.531,
          14.242,
          14.859,
          17.72,
          17.965,
          8.056,
          11.087,
          15.406,
          1.836,
          1.876,
          5.001,
          9.473,
          9.962,
          10.054,
          18.234,
          18.276,
          0.863,
          1.343,
          1.432,
          2.292,
          16.299,
          17.018,
          24.916,
          26.166,
          27.637,
          3.875,
          4.033,
          4.319,
          4.461,
          7.664,
          7.812,
          3.317,
          5.34,
          5.751,
          7.154,
          9.499,
          15.224,
          24.461,
          25.691,
          25.902,
          26.003,
          26.178,
          26.486,
          26.831,
          29.478,
          29.517,
          29.635,
          29.73,
          32.554,
          33.178,
          33.292,
          4.648,
          4.738,
          16.699,
          16.748,
          16.824,
          18.039,
          19.156,
          19.212,
          12.047,
          13.648,
          14.948,
          17.608,
          17.883,
          18.316,
          27.914,
          33.215,
          33.899,
          34.811,
          11.12,
          11.22,
          11.45,
          25.245,
          25.383,
          25.604,
          29.674,
          32.125,
          35.798,
          36.797,
          3.15,
          3.264,
          17.245,
          18.101,
          18.205,
          18.262,
          18.702,
          18.902,
          6.858,
          6.915,
          13.957,
          17.608,
          20.97,
          21.015,
          22.767,
          22.995,
          14.629,
          14.66,
          16.22,
          6.351,
          6.711,
          15.318,
          15.348,
          15.648,
          16.108,
          16.148,
          23.483,
          0.827,
          1.007,
          1.337,
          1.565,
          1.798,
          3.585,
          3.609,
          3.627,
          3.667,
          6.427,
          19.507,
          28.067,
          6.003,
          6.157,
          6.351,
          6.92,
          6.939,
          6.98,
          9.021,
          9.056,
          10.098,
          10.189,
          12.163,
          2.598,
          2.628,
          2.856,
          11.389,
          11.552,
          11.582,
          12.127,
          24.048,
          24.117,
          24.722,
          25.072,
          25.352,
          17.457,
          18.24,
          20.658,
          20.915,
          21.061,
          0.443,
          4.241,
          4.341,
          6.213,
          6.233,
          6.253,
          6.273,
          6.293,
          6.313,
          6.333,
          6.353,
          6.373,
          6.393,
          6.413,
          6.433,
          6.453,
          6.473,
          6.513,
          6.533,
          6.553,
          6.573,
          6.613,
          6.633,
          6.653,
          6.693,
          6.733,
          6.753,
          6.773,
          6.793,
          6.813,
          6.843,
          6.873,
          6.903,
          6.933,
          6.963,
          6.993,
          7.033,
          7.063,
          7.093,
          7.123,
          7.153,
          7.183,
          7.213,
          7.243,
          7.273,
          7.303,
          7.333,
          7.363,
          7.393,
          7.423,
          7.453,
          7.483,
          7.513,
          7.543,
          7.573,
          7.603,
          7.633,
          7.663,
          7.693,
          7.723,
          7.753,
          7.783,
          7.813,
          7.843,
          7.873,
          7.903,
          7.933,
          7.963,
          7.993,
          8.023,
          8.053,
          8.083,
          8.113,
          8.143,
          8.173,
          8.203,
          8.233,
          8.263,
          8.293,
          8.323,
          8.353,
          8.383,
          8.413,
          8.443,
          8.473,
          8.503,
          8.533,
          8.563,
          8.593,
          8.623,
          8.653,
          8.683,
          8.713,
          8.743,
          8.773,
          8.803,
          8.833,
          8.863,
          8.893,
          8.923,
          8.953,
          8.983,
          9.013,
          9.043,
          9.073,
          9.103,
          9.133,
          9.163,
          9.193,
          9.223,
          9.253,
          9.283,
          9.313,
          9.343,
          9.373,
          9.403,
          9.433,
          9.463,
          9.493,
          9.523,
          9.553,
          9.583,
          9.613,
          9.643,
          9.673,
          9.703,
          9.733,
          9.763,
          9.793,
          9.823,
          9.853,
          9.883,
          9.913,
          9.943,
          9.973,
          10.003,
          10.033,
          10.063,
          10.093,
          10.123,
          10.153,
          10.183,
          10.213,
          10.243,
          10.273,
          10.303,
          10.333,
          10.363,
          10.393,
          10.423,
          10.453,
          10.483,
          10.513,
          10.543,
          10.573,
          10.603,
          10.633,
          10.663,
          10.693,
          11.34,
          23.693,
          23.728,
          23.843,
          23.913,
          24.473,
          25.828,
          25.916,
          25.981,
          7.355,
          7.499,
          7.701,
          29.741,
          30.268,
          30.511,
          30.717,
          13.372,
          14.008,
          14.292,
          14.602,
          16.442,
          16.552,
          16.572,
          16.602,
          16.632,
          16.652,
          16.682,
          16.712,
          16.742,
          16.772,
          16.802,
          16.832,
          16.872,
          17.452,
          17.472,
          17.502,
          17.532,
          23.132,
          28.157,
          28.642,
          28.662,
          28.692,
          28.722,
          28.752,
          16.33,
          16.36,
          3.319,
          3.576,
          7.48,
          17.328,
          18.052,
          18.072,
          18.102,
          18.132,
          18.282,
          18.312,
          19.502,
          27.149,
          27.212,
          29.878,
          35.121,
          35.167,
          35.402,
          35.432,
          21.014,
          21.03,
          21.165,
          22.076,
          22.163,
          23.26,
          23.29,
          23.32,
          3.379,
          19.828,
          19.869,
          27.917,
          28.041,
          29.365,
          30.4,
          30.656,
          30.769,
          30.939,
          30.959,
          13.845,
          14.135,
          17.559,
          17.585,
          35.806,
          9.635,
          15.306,
          16.563,
          2.932,
          4.529,
          21.662,
          22.993,
          27.913,
          21.469,
          13.037,
          13.317,
          13.357,
          16.35,
          23.397,
          23.417,
          23.437,
          24.78,
          25.754,
          26.017,
          26.037,
          26.077,
          34.042,
          34.074,
          35.047,
          35.077,
          35.147,
          35.237,
          35.277,
          35.297,
          35.327,
          35.357,
          35.684,
          35.717,
          35.747,
          35.777,
          36.714,
          36.761,
          10.898,
          15.834,
          18.047,
          18.063,
          19.41,
          6.207,
          8.825,
          9.02,
          17.433,
          3.72,
          4.561,
          4.597,
          8.495,
          8.715,
          10.474,
          13.608,
          23.911,
          25.068,
          27.492,
          5.876,
          26.118,
          30.114,
          30.244,
          35.846,
          9.54,
          9.56,
          9.59,
          9.62,
          9.65,
          9.68,
          9.71,
          9.74,
          9.76,
          9.78,
          9.8,
          9.82,
          9.84,
          9.86,
          9.89,
          13.54,
          15.39,
          15.42,
          15.45,
          16.59,
          16.62,
          16.65,
          19.09,
          19.12,
          17.787,
          19.903
         ],
         "xaxis": "x2",
         "y": [
          61,
          61,
          61,
          61,
          62,
          62,
          63,
          63,
          64,
          64,
          64,
          64,
          64,
          65,
          65,
          65,
          66,
          66,
          66,
          66,
          66,
          66,
          66,
          66,
          67,
          67,
          67,
          67,
          67,
          67,
          67,
          67,
          67,
          68,
          68,
          68,
          68,
          69,
          69,
          70,
          70,
          70,
          70,
          70,
          70,
          70,
          70,
          70,
          70,
          70,
          70,
          70,
          70,
          70,
          70,
          70,
          70,
          70,
          70,
          71,
          71,
          71,
          71,
          71,
          71,
          71,
          71,
          72,
          72,
          72,
          73,
          73,
          73,
          73,
          73,
          73,
          73,
          74,
          74,
          74,
          74,
          74,
          74,
          74,
          74,
          74,
          74,
          75,
          75,
          75,
          75,
          75,
          75,
          75,
          75,
          76,
          76,
          76,
          76,
          76,
          76,
          76,
          76,
          77,
          77,
          77,
          78,
          78,
          78,
          78,
          78,
          78,
          78,
          78,
          79,
          79,
          79,
          79,
          79,
          79,
          79,
          79,
          79,
          79,
          79,
          79,
          80,
          80,
          80,
          80,
          80,
          80,
          80,
          80,
          80,
          80,
          80,
          81,
          81,
          81,
          82,
          82,
          82,
          82,
          82,
          82,
          82,
          82,
          82,
          83,
          83,
          83,
          83,
          83,
          85,
          85,
          85,
          85,
          85,
          85,
          85,
          85,
          85,
          85,
          85,
          85,
          85,
          85,
          85,
          85,
          85,
          85,
          85,
          85,
          85,
          85,
          85,
          85,
          85,
          85,
          85,
          85,
          85,
          85,
          85,
          85,
          85,
          85,
          85,
          85,
          85,
          85,
          85,
          85,
          85,
          85,
          85,
          85,
          85,
          85,
          85,
          85,
          85,
          85,
          85,
          85,
          85,
          85,
          85,
          85,
          85,
          85,
          85,
          85,
          85,
          85,
          85,
          85,
          85,
          85,
          85,
          85,
          85,
          85,
          85,
          85,
          85,
          85,
          85,
          85,
          85,
          85,
          85,
          85,
          85,
          85,
          85,
          85,
          85,
          85,
          85,
          85,
          85,
          85,
          85,
          85,
          85,
          85,
          85,
          85,
          85,
          85,
          85,
          85,
          85,
          85,
          85,
          85,
          85,
          85,
          85,
          85,
          85,
          85,
          85,
          85,
          85,
          85,
          85,
          85,
          85,
          85,
          85,
          85,
          85,
          85,
          85,
          85,
          85,
          85,
          85,
          85,
          85,
          85,
          85,
          85,
          85,
          85,
          85,
          85,
          85,
          85,
          85,
          85,
          85,
          85,
          85,
          85,
          85,
          85,
          85,
          85,
          85,
          85,
          85,
          85,
          85,
          85,
          85,
          85,
          85,
          85,
          85,
          85,
          85,
          85,
          85,
          85,
          85,
          85,
          85,
          85,
          86,
          86,
          86,
          86,
          86,
          86,
          86,
          87,
          87,
          87,
          87,
          87,
          87,
          87,
          87,
          87,
          87,
          87,
          87,
          87,
          87,
          87,
          87,
          87,
          87,
          87,
          87,
          87,
          87,
          87,
          87,
          87,
          87,
          87,
          87,
          88,
          88,
          89,
          89,
          89,
          89,
          89,
          89,
          89,
          89,
          89,
          89,
          89,
          89,
          89,
          89,
          89,
          89,
          89,
          89,
          90,
          90,
          90,
          90,
          90,
          90,
          90,
          90,
          92,
          92,
          92,
          92,
          92,
          92,
          92,
          92,
          92,
          92,
          92,
          93,
          93,
          93,
          93,
          93,
          94,
          94,
          94,
          95,
          95,
          95,
          95,
          95,
          96,
          97,
          97,
          97,
          97,
          97,
          97,
          97,
          97,
          97,
          97,
          97,
          97,
          97,
          97,
          97,
          97,
          97,
          97,
          97,
          97,
          97,
          97,
          97,
          97,
          97,
          97,
          97,
          97,
          98,
          98,
          98,
          98,
          98,
          99,
          99,
          99,
          99,
          100,
          100,
          100,
          100,
          100,
          100,
          100,
          100,
          100,
          100,
          101,
          101,
          101,
          101,
          102,
          105,
          105,
          105,
          105,
          105,
          105,
          105,
          105,
          105,
          105,
          105,
          105,
          105,
          105,
          105,
          105,
          105,
          105,
          105,
          105,
          105,
          105,
          105,
          105,
          106,
          106
         ],
         "yaxis": "y2"
        },
        {
         "marker": {
          "symbol": "square"
         },
         "mode": "markers",
         "name": "bar_off",
         "type": "scatter",
         "x": [
          0.39,
          3.703,
          4.586,
          4.674,
          2.052,
          4.283,
          0.284,
          1.215,
          1.774,
          11.938,
          14.762,
          17.312,
          17.827,
          2.252,
          8.301,
          14.41,
          1.806,
          1.861,
          4.841,
          5.016,
          9.914,
          9.977,
          11.178,
          18.249,
          0.756,
          1.106,
          1.416,
          1.486,
          2.542,
          16.966,
          22.623,
          25.206,
          27.52,
          2.822,
          4.018,
          4.264,
          4.419,
          6.77,
          7.721,
          0.155,
          3.558,
          5.355,
          6.256,
          9.31,
          13.165,
          17.019,
          24.797,
          25.856,
          25.963,
          26.163,
          26.207,
          26.738,
          28.596,
          29.502,
          29.522,
          29.715,
          32.16,
          33.068,
          33.25,
          4.615,
          4.688,
          5.308,
          16.714,
          16.777,
          17.107,
          19.033,
          19.172,
          11.593,
          13.587,
          14.851,
          17.254,
          17.721,
          18.286,
          25.787,
          33.119,
          33.476,
          34.472,
          10.12,
          11.205,
          11.235,
          16.531,
          25.368,
          25.551,
          28.64,
          31.27,
          32.784,
          36.193,
          1.298,
          3.165,
          3.28,
          17.935,
          18.15,
          18.22,
          18.382,
          18.828,
          6.76,
          6.873,
          7.019,
          16.355,
          19.366,
          20.985,
          21.03,
          22.841,
          12.947,
          14.645,
          16.116,
          6.198,
          6.591,
          15.189,
          15.333,
          15.368,
          15.933,
          16.123,
          23.049,
          0.792,
          0.962,
          1.322,
          1.352,
          1.783,
          2.09,
          3.601,
          3.624,
          3.642,
          3.682,
          17.525,
          19.545,
          5.986,
          6.018,
          6.246,
          6.773,
          6.935,
          6.965,
          7.782,
          9.041,
          10.023,
          10.123,
          10.257,
          0.788,
          2.613,
          2.738,
          10.66,
          11.537,
          11.567,
          11.631,
          23.979,
          24.097,
          24.137,
          24.976,
          25.141,
          16.376,
          17.972,
          20.034,
          20.813,
          20.991,
          0.238,
          4.226,
          4.326,
          6.198,
          6.218,
          6.238,
          6.258,
          6.278,
          6.298,
          6.318,
          6.338,
          6.358,
          6.378,
          6.398,
          6.418,
          6.438,
          6.458,
          6.498,
          6.518,
          6.538,
          6.558,
          6.598,
          6.618,
          6.638,
          6.678,
          6.718,
          6.738,
          6.758,
          6.778,
          6.798,
          6.828,
          6.858,
          6.888,
          6.918,
          6.948,
          6.978,
          7.018,
          7.048,
          7.078,
          7.108,
          7.138,
          7.168,
          7.198,
          7.228,
          7.258,
          7.288,
          7.318,
          7.348,
          7.378,
          7.408,
          7.438,
          7.468,
          7.498,
          7.528,
          7.558,
          7.588,
          7.618,
          7.648,
          7.678,
          7.708,
          7.738,
          7.768,
          7.798,
          7.828,
          7.858,
          7.888,
          7.918,
          7.948,
          7.978,
          8.008,
          8.038,
          8.068,
          8.098,
          8.128,
          8.158,
          8.188,
          8.218,
          8.248,
          8.278,
          8.308,
          8.338,
          8.368,
          8.398,
          8.428,
          8.458,
          8.488,
          8.518,
          8.548,
          8.578,
          8.608,
          8.638,
          8.668,
          8.698,
          8.728,
          8.758,
          8.788,
          8.818,
          8.848,
          8.878,
          8.908,
          8.938,
          8.968,
          8.998,
          9.028,
          9.058,
          9.088,
          9.118,
          9.148,
          9.178,
          9.208,
          9.238,
          9.268,
          9.298,
          9.328,
          9.358,
          9.388,
          9.418,
          9.448,
          9.478,
          9.508,
          9.538,
          9.568,
          9.598,
          9.628,
          9.658,
          9.688,
          9.718,
          9.748,
          9.778,
          9.808,
          9.838,
          9.868,
          9.898,
          9.928,
          9.958,
          9.988,
          10.018,
          10.048,
          10.078,
          10.108,
          10.138,
          10.168,
          10.198,
          10.228,
          10.258,
          10.288,
          10.318,
          10.348,
          10.378,
          10.408,
          10.438,
          10.468,
          10.498,
          10.528,
          10.558,
          10.588,
          10.618,
          10.648,
          10.678,
          10.748,
          22.596,
          23.708,
          23.828,
          23.871,
          24.121,
          25.803,
          25.844,
          25.965,
          5.882,
          7.372,
          7.535,
          29.647,
          29.768,
          30.373,
          30.574,
          12.055,
          13.601,
          14.042,
          14.337,
          16.427,
          16.457,
          16.567,
          16.587,
          16.617,
          16.647,
          16.667,
          16.697,
          16.727,
          16.757,
          16.787,
          16.817,
          16.857,
          17.437,
          17.457,
          17.487,
          17.517,
          21.432,
          28.058,
          28.172,
          28.657,
          28.677,
          28.707,
          28.737,
          15.856,
          16.345,
          2.367,
          3.346,
          3.881,
          14.454,
          17.656,
          18.067,
          18.087,
          18.117,
          18.267,
          18.297,
          18.347,
          25.727,
          27.165,
          29.807,
          31.681,
          35.152,
          35.167,
          35.417,
          4.414,
          21.029,
          21.141,
          21.18,
          22.115,
          22.245,
          23.275,
          23.305,
          3.227,
          18.098,
          19.844,
          26.169,
          27.983,
          28.504,
          29.425,
          30.509,
          30.686,
          30.924,
          30.944,
          13.518,
          13.89,
          14.15,
          17.574,
          33.394,
          9.616,
          10.313,
          15.592,
          2.757,
          4.484,
          20.438,
          21.677,
          27.456,
          18.562,
          11.49,
          13.125,
          13.332,
          16.305,
          21.517,
          23.412,
          23.433,
          24.312,
          24.801,
          25.769,
          26.032,
          26.052,
          32.951,
          34.057,
          35.032,
          35.062,
          35.092,
          35.222,
          35.252,
          35.292,
          35.312,
          35.342,
          35.372,
          35.702,
          35.732,
          35.762,
          36.672,
          36.746,
          8.469,
          10.913,
          15.925,
          18.062,
          18.086,
          6.153,
          6.237,
          8.969,
          9.035,
          3.079,
          3.736,
          4.576,
          8.387,
          8.631,
          10.357,
          11.281,
          22.315,
          24.094,
          27.269,
          1.692,
          23.374,
          30.099,
          30.2,
          10.355,
          3.581,
          9.555,
          9.575,
          9.605,
          9.635,
          9.665,
          9.695,
          9.725,
          9.745,
          9.765,
          9.785,
          9.805,
          9.825,
          9.845,
          9.875,
          13.086,
          14.01,
          15.405,
          15.435,
          16.575,
          16.605,
          16.635,
          16.655,
          19.105,
          17.761,
          19.676
         ],
         "xaxis": "x4",
         "y": [
          61,
          61,
          61,
          61,
          62,
          62,
          63,
          63,
          64,
          64,
          64,
          64,
          64,
          65,
          65,
          65,
          66,
          66,
          66,
          66,
          66,
          66,
          66,
          66,
          67,
          67,
          67,
          67,
          67,
          67,
          67,
          67,
          67,
          68,
          68,
          68,
          68,
          69,
          69,
          70,
          70,
          70,
          70,
          70,
          70,
          70,
          70,
          70,
          70,
          70,
          70,
          70,
          70,
          70,
          70,
          70,
          70,
          70,
          70,
          71,
          71,
          71,
          71,
          71,
          71,
          71,
          71,
          72,
          72,
          72,
          73,
          73,
          73,
          73,
          73,
          73,
          73,
          74,
          74,
          74,
          74,
          74,
          74,
          74,
          74,
          74,
          74,
          75,
          75,
          75,
          75,
          75,
          75,
          75,
          75,
          76,
          76,
          76,
          76,
          76,
          76,
          76,
          76,
          77,
          77,
          77,
          78,
          78,
          78,
          78,
          78,
          78,
          78,
          78,
          79,
          79,
          79,
          79,
          79,
          79,
          79,
          79,
          79,
          79,
          79,
          79,
          80,
          80,
          80,
          80,
          80,
          80,
          80,
          80,
          80,
          80,
          80,
          81,
          81,
          81,
          82,
          82,
          82,
          82,
          82,
          82,
          82,
          82,
          82,
          83,
          83,
          83,
          83,
          83,
          85,
          85,
          85,
          85,
          85,
          85,
          85,
          85,
          85,
          85,
          85,
          85,
          85,
          85,
          85,
          85,
          85,
          85,
          85,
          85,
          85,
          85,
          85,
          85,
          85,
          85,
          85,
          85,
          85,
          85,
          85,
          85,
          85,
          85,
          85,
          85,
          85,
          85,
          85,
          85,
          85,
          85,
          85,
          85,
          85,
          85,
          85,
          85,
          85,
          85,
          85,
          85,
          85,
          85,
          85,
          85,
          85,
          85,
          85,
          85,
          85,
          85,
          85,
          85,
          85,
          85,
          85,
          85,
          85,
          85,
          85,
          85,
          85,
          85,
          85,
          85,
          85,
          85,
          85,
          85,
          85,
          85,
          85,
          85,
          85,
          85,
          85,
          85,
          85,
          85,
          85,
          85,
          85,
          85,
          85,
          85,
          85,
          85,
          85,
          85,
          85,
          85,
          85,
          85,
          85,
          85,
          85,
          85,
          85,
          85,
          85,
          85,
          85,
          85,
          85,
          85,
          85,
          85,
          85,
          85,
          85,
          85,
          85,
          85,
          85,
          85,
          85,
          85,
          85,
          85,
          85,
          85,
          85,
          85,
          85,
          85,
          85,
          85,
          85,
          85,
          85,
          85,
          85,
          85,
          85,
          85,
          85,
          85,
          85,
          85,
          85,
          85,
          85,
          85,
          85,
          85,
          85,
          85,
          85,
          85,
          85,
          85,
          85,
          85,
          85,
          85,
          85,
          85,
          86,
          86,
          86,
          86,
          86,
          86,
          86,
          87,
          87,
          87,
          87,
          87,
          87,
          87,
          87,
          87,
          87,
          87,
          87,
          87,
          87,
          87,
          87,
          87,
          87,
          87,
          87,
          87,
          87,
          87,
          87,
          87,
          87,
          87,
          87,
          88,
          88,
          89,
          89,
          89,
          89,
          89,
          89,
          89,
          89,
          89,
          89,
          89,
          89,
          89,
          89,
          89,
          89,
          89,
          89,
          90,
          90,
          90,
          90,
          90,
          90,
          90,
          90,
          92,
          92,
          92,
          92,
          92,
          92,
          92,
          92,
          92,
          92,
          92,
          93,
          93,
          93,
          93,
          93,
          94,
          94,
          94,
          95,
          95,
          95,
          95,
          95,
          96,
          97,
          97,
          97,
          97,
          97,
          97,
          97,
          97,
          97,
          97,
          97,
          97,
          97,
          97,
          97,
          97,
          97,
          97,
          97,
          97,
          97,
          97,
          97,
          97,
          97,
          97,
          97,
          97,
          98,
          98,
          98,
          98,
          98,
          99,
          99,
          99,
          99,
          100,
          100,
          100,
          100,
          100,
          100,
          100,
          100,
          100,
          100,
          101,
          101,
          101,
          101,
          102,
          105,
          105,
          105,
          105,
          105,
          105,
          105,
          105,
          105,
          105,
          105,
          105,
          105,
          105,
          105,
          105,
          105,
          105,
          105,
          105,
          105,
          105,
          105,
          105,
          106,
          106
         ],
         "yaxis": "y4"
        },
        {
         "marker": {
          "symbol": "diamond"
         },
         "mode": "markers",
         "name": "spout",
         "type": "scatter",
         "x": [
          0.533,
          1.11,
          3.434,
          2.073,
          2.904,
          3.401,
          0.326,
          0.489,
          12.361,
          13.497,
          3.113,
          15.041,
          1.849,
          6.23,
          12.395,
          14.877,
          15.486,
          15.647,
          15.849,
          16.073,
          16.359,
          16.996,
          17.635,
          17.83,
          18,
          18.053,
          0.769,
          3.381,
          6.928,
          0.168,
          1.756,
          2.884,
          2.901,
          2.925,
          2.945,
          13.666,
          14.094,
          14.968,
          20.244,
          20.471,
          20.912,
          21.88,
          22.325,
          6.324,
          17.295,
          17.521,
          17.797,
          17.274,
          17.199,
          17.56,
          21.728,
          23.529,
          24.082,
          24.968,
          28.819,
          32.9,
          32.972,
          33.542,
          33.706,
          33.947,
          34.232,
          34.496,
          34.916,
          35.26,
          1.32,
          7.335,
          8.026,
          12.732,
          12.99,
          13.603,
          13.914,
          6.78,
          8.824,
          9.007,
          11.651,
          19.917,
          20.631,
          6.211,
          6.242,
          14.829,
          7.964,
          0.8,
          0.838,
          1.478,
          1.601,
          1.638,
          10.702,
          19.737,
          15.663,
          16.31,
          5.895,
          5.925,
          18.229,
          15.878,
          22.3,
          2.38,
          2.411,
          25.224,
          4.436,
          11.444,
          3.27,
          26.486,
          9.659,
          11.443,
          12.63,
          12.988,
          13.922,
          19.909,
          14.314,
          11.533,
          9.071,
          9.998,
          10.388,
          12.82,
          13.257,
          6.166,
          7.581,
          7.789,
          9.431,
          15.045,
          15.219,
          3.122,
          19.252,
          17.938,
          3.593,
          24.838
         ],
         "xaxis": "x6",
         "y": [
          61,
          61,
          61,
          62,
          62,
          62,
          63,
          63,
          64,
          64,
          65,
          65,
          66,
          66,
          66,
          66,
          66,
          66,
          66,
          66,
          66,
          66,
          66,
          66,
          66,
          66,
          67,
          68,
          69,
          70,
          70,
          70,
          70,
          70,
          70,
          70,
          70,
          70,
          70,
          70,
          70,
          70,
          70,
          71,
          71,
          71,
          71,
          73,
          74,
          74,
          74,
          74,
          74,
          74,
          74,
          74,
          74,
          74,
          74,
          74,
          74,
          74,
          74,
          74,
          75,
          75,
          75,
          75,
          75,
          75,
          75,
          76,
          76,
          76,
          76,
          76,
          76,
          78,
          78,
          79,
          80,
          81,
          81,
          81,
          81,
          81,
          82,
          82,
          83,
          84,
          86,
          86,
          87,
          88,
          88,
          89,
          89,
          89,
          90,
          90,
          92,
          92,
          94,
          94,
          94,
          94,
          94,
          95,
          96,
          97,
          98,
          98,
          98,
          98,
          98,
          99,
          99,
          99,
          99,
          99,
          99,
          100,
          100,
          101,
          105,
          105
         ],
         "yaxis": "y6"
        },
        {
         "marker": {
          "symbol": "cross"
         },
         "mode": "markers",
         "name": "hold_start",
         "type": "scatter",
         "x": [
          4.609,
          6.172,
          4,
          15.236,
          7.818,
          9.623,
          23.267,
          6.552,
          10.453,
          5.448,
          9.888,
          15.417,
          32.541,
          20.453,
          12.458,
          11.566,
          13.501,
          22.237,
          19.87,
          10.916,
          4.57,
          25.146,
          20.694,
          22.884,
          22.933,
          27.62,
          23.92,
          27.329,
          30.752,
          17.188,
          19.2,
          33.143,
          29.768,
          16.751,
          25.353,
          20.315,
          30.583,
          11.779,
          10.366,
          25.412,
          23.02,
          19.402,
          5.771,
          28.488,
          30.011,
          29.484
         ],
         "xaxis": "x8",
         "y": [
          61,
          62,
          63,
          64,
          65,
          66,
          67,
          68,
          69,
          70,
          71,
          72,
          73,
          74,
          75,
          76,
          77,
          78,
          79,
          80,
          81,
          82,
          83,
          84,
          85,
          86,
          87,
          88,
          89,
          90,
          91,
          92,
          93,
          94,
          95,
          96,
          97,
          98,
          99,
          100,
          101,
          102,
          103,
          104,
          105,
          106
         ],
         "yaxis": "y8"
        }
       ],
       "layout": {
        "annotations": [
         {
          "font": {
           "size": 16
          },
          "showarrow": false,
          "text": "cued bar_trial_time",
          "x": 0.225,
          "xanchor": "center",
          "xref": "paper",
          "y": 1,
          "yanchor": "bottom",
          "yref": "paper"
         },
         {
          "font": {
           "size": 16
          },
          "showarrow": false,
          "text": "uncued bar_trial_time",
          "x": 0.775,
          "xanchor": "center",
          "xref": "paper",
          "y": 1,
          "yanchor": "bottom",
          "yref": "paper"
         },
         {
          "font": {
           "size": 16
          },
          "showarrow": false,
          "text": "cued bar_off_trial_time",
          "x": 0.225,
          "xanchor": "center",
          "xref": "paper",
          "y": 0.71875,
          "yanchor": "bottom",
          "yref": "paper"
         },
         {
          "font": {
           "size": 16
          },
          "showarrow": false,
          "text": "uncued bar_off_trial_time",
          "x": 0.775,
          "xanchor": "center",
          "xref": "paper",
          "y": 0.71875,
          "yanchor": "bottom",
          "yref": "paper"
         },
         {
          "font": {
           "size": 16
          },
          "showarrow": false,
          "text": "cued spout_trial_time",
          "x": 0.225,
          "xanchor": "center",
          "xref": "paper",
          "y": 0.4375,
          "yanchor": "bottom",
          "yref": "paper"
         },
         {
          "font": {
           "size": 16
          },
          "showarrow": false,
          "text": "uncued spout_trial_time",
          "x": 0.775,
          "xanchor": "center",
          "xref": "paper",
          "y": 0.4375,
          "yanchor": "bottom",
          "yref": "paper"
         },
         {
          "font": {
           "size": 16
          },
          "showarrow": false,
          "text": "cued hold_start_trial_time",
          "x": 0.225,
          "xanchor": "center",
          "xref": "paper",
          "y": 0.15625,
          "yanchor": "bottom",
          "yref": "paper"
         },
         {
          "font": {
           "size": 16
          },
          "showarrow": false,
          "text": "uncued hold_start_trial_time",
          "x": 0.775,
          "xanchor": "center",
          "xref": "paper",
          "y": 0.15625,
          "yanchor": "bottom",
          "yref": "paper"
         }
        ],
        "height": 800,
        "shapes": [
         {
          "line": {
           "color": "Grey",
           "dash": "dot",
           "width": 2
          },
          "type": "line",
          "x0": 0,
          "x1": 0,
          "xref": "x",
          "y0": 1,
          "y1": 60,
          "yref": "y"
         },
         {
          "line": {
           "color": "Grey",
           "dash": "dot",
           "width": 2
          },
          "type": "line",
          "x0": 0,
          "x1": 0,
          "xref": "x3",
          "y0": 1,
          "y1": 60,
          "yref": "y3"
         },
         {
          "line": {
           "color": "Grey",
           "dash": "dot",
           "width": 2
          },
          "type": "line",
          "x0": 0,
          "x1": 0,
          "xref": "x5",
          "y0": 1,
          "y1": 60,
          "yref": "y5"
         },
         {
          "line": {
           "color": "Grey",
           "dash": "dot",
           "width": 2
          },
          "type": "line",
          "x0": 0,
          "x1": 0,
          "xref": "x7",
          "y0": 1,
          "y1": 60,
          "yref": "y7"
         },
         {
          "line": {
           "color": "Grey",
           "dash": "dot",
           "width": 2
          },
          "type": "line",
          "x0": 0,
          "x1": 0,
          "xref": "x2",
          "y0": 1,
          "y1": 106,
          "yref": "y2"
         },
         {
          "line": {
           "color": "Grey",
           "dash": "dot",
           "width": 2
          },
          "type": "line",
          "x0": 0,
          "x1": 0,
          "xref": "x4",
          "y0": 1,
          "y1": 106,
          "yref": "y4"
         },
         {
          "line": {
           "color": "Grey",
           "dash": "dot",
           "width": 2
          },
          "type": "line",
          "x0": 0,
          "x1": 0,
          "xref": "x6",
          "y0": 1,
          "y1": 105,
          "yref": "y6"
         },
         {
          "line": {
           "color": "Grey",
           "dash": "dot",
           "width": 2
          },
          "type": "line",
          "x0": 0,
          "x1": 0,
          "xref": "x8",
          "y0": 1,
          "y1": 106,
          "yref": "y8"
         }
        ],
        "template": {
         "data": {
          "bar": [
           {
            "error_x": {
             "color": "#2a3f5f"
            },
            "error_y": {
             "color": "#2a3f5f"
            },
            "marker": {
             "line": {
              "color": "#E5ECF6",
              "width": 0.5
             },
             "pattern": {
              "fillmode": "overlay",
              "size": 10,
              "solidity": 0.2
             }
            },
            "type": "bar"
           }
          ],
          "barpolar": [
           {
            "marker": {
             "line": {
              "color": "#E5ECF6",
              "width": 0.5
             },
             "pattern": {
              "fillmode": "overlay",
              "size": 10,
              "solidity": 0.2
             }
            },
            "type": "barpolar"
           }
          ],
          "carpet": [
           {
            "aaxis": {
             "endlinecolor": "#2a3f5f",
             "gridcolor": "white",
             "linecolor": "white",
             "minorgridcolor": "white",
             "startlinecolor": "#2a3f5f"
            },
            "baxis": {
             "endlinecolor": "#2a3f5f",
             "gridcolor": "white",
             "linecolor": "white",
             "minorgridcolor": "white",
             "startlinecolor": "#2a3f5f"
            },
            "type": "carpet"
           }
          ],
          "choropleth": [
           {
            "colorbar": {
             "outlinewidth": 0,
             "ticks": ""
            },
            "type": "choropleth"
           }
          ],
          "contour": [
           {
            "colorbar": {
             "outlinewidth": 0,
             "ticks": ""
            },
            "colorscale": [
             [
              0,
              "#0d0887"
             ],
             [
              0.1111111111111111,
              "#46039f"
             ],
             [
              0.2222222222222222,
              "#7201a8"
             ],
             [
              0.3333333333333333,
              "#9c179e"
             ],
             [
              0.4444444444444444,
              "#bd3786"
             ],
             [
              0.5555555555555556,
              "#d8576b"
             ],
             [
              0.6666666666666666,
              "#ed7953"
             ],
             [
              0.7777777777777778,
              "#fb9f3a"
             ],
             [
              0.8888888888888888,
              "#fdca26"
             ],
             [
              1,
              "#f0f921"
             ]
            ],
            "type": "contour"
           }
          ],
          "contourcarpet": [
           {
            "colorbar": {
             "outlinewidth": 0,
             "ticks": ""
            },
            "type": "contourcarpet"
           }
          ],
          "heatmap": [
           {
            "colorbar": {
             "outlinewidth": 0,
             "ticks": ""
            },
            "colorscale": [
             [
              0,
              "#0d0887"
             ],
             [
              0.1111111111111111,
              "#46039f"
             ],
             [
              0.2222222222222222,
              "#7201a8"
             ],
             [
              0.3333333333333333,
              "#9c179e"
             ],
             [
              0.4444444444444444,
              "#bd3786"
             ],
             [
              0.5555555555555556,
              "#d8576b"
             ],
             [
              0.6666666666666666,
              "#ed7953"
             ],
             [
              0.7777777777777778,
              "#fb9f3a"
             ],
             [
              0.8888888888888888,
              "#fdca26"
             ],
             [
              1,
              "#f0f921"
             ]
            ],
            "type": "heatmap"
           }
          ],
          "heatmapgl": [
           {
            "colorbar": {
             "outlinewidth": 0,
             "ticks": ""
            },
            "colorscale": [
             [
              0,
              "#0d0887"
             ],
             [
              0.1111111111111111,
              "#46039f"
             ],
             [
              0.2222222222222222,
              "#7201a8"
             ],
             [
              0.3333333333333333,
              "#9c179e"
             ],
             [
              0.4444444444444444,
              "#bd3786"
             ],
             [
              0.5555555555555556,
              "#d8576b"
             ],
             [
              0.6666666666666666,
              "#ed7953"
             ],
             [
              0.7777777777777778,
              "#fb9f3a"
             ],
             [
              0.8888888888888888,
              "#fdca26"
             ],
             [
              1,
              "#f0f921"
             ]
            ],
            "type": "heatmapgl"
           }
          ],
          "histogram": [
           {
            "marker": {
             "pattern": {
              "fillmode": "overlay",
              "size": 10,
              "solidity": 0.2
             }
            },
            "type": "histogram"
           }
          ],
          "histogram2d": [
           {
            "colorbar": {
             "outlinewidth": 0,
             "ticks": ""
            },
            "colorscale": [
             [
              0,
              "#0d0887"
             ],
             [
              0.1111111111111111,
              "#46039f"
             ],
             [
              0.2222222222222222,
              "#7201a8"
             ],
             [
              0.3333333333333333,
              "#9c179e"
             ],
             [
              0.4444444444444444,
              "#bd3786"
             ],
             [
              0.5555555555555556,
              "#d8576b"
             ],
             [
              0.6666666666666666,
              "#ed7953"
             ],
             [
              0.7777777777777778,
              "#fb9f3a"
             ],
             [
              0.8888888888888888,
              "#fdca26"
             ],
             [
              1,
              "#f0f921"
             ]
            ],
            "type": "histogram2d"
           }
          ],
          "histogram2dcontour": [
           {
            "colorbar": {
             "outlinewidth": 0,
             "ticks": ""
            },
            "colorscale": [
             [
              0,
              "#0d0887"
             ],
             [
              0.1111111111111111,
              "#46039f"
             ],
             [
              0.2222222222222222,
              "#7201a8"
             ],
             [
              0.3333333333333333,
              "#9c179e"
             ],
             [
              0.4444444444444444,
              "#bd3786"
             ],
             [
              0.5555555555555556,
              "#d8576b"
             ],
             [
              0.6666666666666666,
              "#ed7953"
             ],
             [
              0.7777777777777778,
              "#fb9f3a"
             ],
             [
              0.8888888888888888,
              "#fdca26"
             ],
             [
              1,
              "#f0f921"
             ]
            ],
            "type": "histogram2dcontour"
           }
          ],
          "mesh3d": [
           {
            "colorbar": {
             "outlinewidth": 0,
             "ticks": ""
            },
            "type": "mesh3d"
           }
          ],
          "parcoords": [
           {
            "line": {
             "colorbar": {
              "outlinewidth": 0,
              "ticks": ""
             }
            },
            "type": "parcoords"
           }
          ],
          "pie": [
           {
            "automargin": true,
            "type": "pie"
           }
          ],
          "scatter": [
           {
            "fillpattern": {
             "fillmode": "overlay",
             "size": 10,
             "solidity": 0.2
            },
            "type": "scatter"
           }
          ],
          "scatter3d": [
           {
            "line": {
             "colorbar": {
              "outlinewidth": 0,
              "ticks": ""
             }
            },
            "marker": {
             "colorbar": {
              "outlinewidth": 0,
              "ticks": ""
             }
            },
            "type": "scatter3d"
           }
          ],
          "scattercarpet": [
           {
            "marker": {
             "colorbar": {
              "outlinewidth": 0,
              "ticks": ""
             }
            },
            "type": "scattercarpet"
           }
          ],
          "scattergeo": [
           {
            "marker": {
             "colorbar": {
              "outlinewidth": 0,
              "ticks": ""
             }
            },
            "type": "scattergeo"
           }
          ],
          "scattergl": [
           {
            "marker": {
             "colorbar": {
              "outlinewidth": 0,
              "ticks": ""
             }
            },
            "type": "scattergl"
           }
          ],
          "scattermapbox": [
           {
            "marker": {
             "colorbar": {
              "outlinewidth": 0,
              "ticks": ""
             }
            },
            "type": "scattermapbox"
           }
          ],
          "scatterpolar": [
           {
            "marker": {
             "colorbar": {
              "outlinewidth": 0,
              "ticks": ""
             }
            },
            "type": "scatterpolar"
           }
          ],
          "scatterpolargl": [
           {
            "marker": {
             "colorbar": {
              "outlinewidth": 0,
              "ticks": ""
             }
            },
            "type": "scatterpolargl"
           }
          ],
          "scatterternary": [
           {
            "marker": {
             "colorbar": {
              "outlinewidth": 0,
              "ticks": ""
             }
            },
            "type": "scatterternary"
           }
          ],
          "surface": [
           {
            "colorbar": {
             "outlinewidth": 0,
             "ticks": ""
            },
            "colorscale": [
             [
              0,
              "#0d0887"
             ],
             [
              0.1111111111111111,
              "#46039f"
             ],
             [
              0.2222222222222222,
              "#7201a8"
             ],
             [
              0.3333333333333333,
              "#9c179e"
             ],
             [
              0.4444444444444444,
              "#bd3786"
             ],
             [
              0.5555555555555556,
              "#d8576b"
             ],
             [
              0.6666666666666666,
              "#ed7953"
             ],
             [
              0.7777777777777778,
              "#fb9f3a"
             ],
             [
              0.8888888888888888,
              "#fdca26"
             ],
             [
              1,
              "#f0f921"
             ]
            ],
            "type": "surface"
           }
          ],
          "table": [
           {
            "cells": {
             "fill": {
              "color": "#EBF0F8"
             },
             "line": {
              "color": "white"
             }
            },
            "header": {
             "fill": {
              "color": "#C8D4E3"
             },
             "line": {
              "color": "white"
             }
            },
            "type": "table"
           }
          ]
         },
         "layout": {
          "annotationdefaults": {
           "arrowcolor": "#2a3f5f",
           "arrowhead": 0,
           "arrowwidth": 1
          },
          "autotypenumbers": "strict",
          "coloraxis": {
           "colorbar": {
            "outlinewidth": 0,
            "ticks": ""
           }
          },
          "colorscale": {
           "diverging": [
            [
             0,
             "#8e0152"
            ],
            [
             0.1,
             "#c51b7d"
            ],
            [
             0.2,
             "#de77ae"
            ],
            [
             0.3,
             "#f1b6da"
            ],
            [
             0.4,
             "#fde0ef"
            ],
            [
             0.5,
             "#f7f7f7"
            ],
            [
             0.6,
             "#e6f5d0"
            ],
            [
             0.7,
             "#b8e186"
            ],
            [
             0.8,
             "#7fbc41"
            ],
            [
             0.9,
             "#4d9221"
            ],
            [
             1,
             "#276419"
            ]
           ],
           "sequential": [
            [
             0,
             "#0d0887"
            ],
            [
             0.1111111111111111,
             "#46039f"
            ],
            [
             0.2222222222222222,
             "#7201a8"
            ],
            [
             0.3333333333333333,
             "#9c179e"
            ],
            [
             0.4444444444444444,
             "#bd3786"
            ],
            [
             0.5555555555555556,
             "#d8576b"
            ],
            [
             0.6666666666666666,
             "#ed7953"
            ],
            [
             0.7777777777777778,
             "#fb9f3a"
            ],
            [
             0.8888888888888888,
             "#fdca26"
            ],
            [
             1,
             "#f0f921"
            ]
           ],
           "sequentialminus": [
            [
             0,
             "#0d0887"
            ],
            [
             0.1111111111111111,
             "#46039f"
            ],
            [
             0.2222222222222222,
             "#7201a8"
            ],
            [
             0.3333333333333333,
             "#9c179e"
            ],
            [
             0.4444444444444444,
             "#bd3786"
            ],
            [
             0.5555555555555556,
             "#d8576b"
            ],
            [
             0.6666666666666666,
             "#ed7953"
            ],
            [
             0.7777777777777778,
             "#fb9f3a"
            ],
            [
             0.8888888888888888,
             "#fdca26"
            ],
            [
             1,
             "#f0f921"
            ]
           ]
          },
          "colorway": [
           "#636efa",
           "#EF553B",
           "#00cc96",
           "#ab63fa",
           "#FFA15A",
           "#19d3f3",
           "#FF6692",
           "#B6E880",
           "#FF97FF",
           "#FECB52"
          ],
          "font": {
           "color": "#2a3f5f"
          },
          "geo": {
           "bgcolor": "white",
           "lakecolor": "white",
           "landcolor": "#E5ECF6",
           "showlakes": true,
           "showland": true,
           "subunitcolor": "white"
          },
          "hoverlabel": {
           "align": "left"
          },
          "hovermode": "closest",
          "mapbox": {
           "style": "light"
          },
          "paper_bgcolor": "white",
          "plot_bgcolor": "#E5ECF6",
          "polar": {
           "angularaxis": {
            "gridcolor": "white",
            "linecolor": "white",
            "ticks": ""
           },
           "bgcolor": "#E5ECF6",
           "radialaxis": {
            "gridcolor": "white",
            "linecolor": "white",
            "ticks": ""
           }
          },
          "scene": {
           "xaxis": {
            "backgroundcolor": "#E5ECF6",
            "gridcolor": "white",
            "gridwidth": 2,
            "linecolor": "white",
            "showbackground": true,
            "ticks": "",
            "zerolinecolor": "white"
           },
           "yaxis": {
            "backgroundcolor": "#E5ECF6",
            "gridcolor": "white",
            "gridwidth": 2,
            "linecolor": "white",
            "showbackground": true,
            "ticks": "",
            "zerolinecolor": "white"
           },
           "zaxis": {
            "backgroundcolor": "#E5ECF6",
            "gridcolor": "white",
            "gridwidth": 2,
            "linecolor": "white",
            "showbackground": true,
            "ticks": "",
            "zerolinecolor": "white"
           }
          },
          "shapedefaults": {
           "line": {
            "color": "#2a3f5f"
           }
          },
          "ternary": {
           "aaxis": {
            "gridcolor": "white",
            "linecolor": "white",
            "ticks": ""
           },
           "baxis": {
            "gridcolor": "white",
            "linecolor": "white",
            "ticks": ""
           },
           "bgcolor": "#E5ECF6",
           "caxis": {
            "gridcolor": "white",
            "linecolor": "white",
            "ticks": ""
           }
          },
          "title": {
           "x": 0.05
          },
          "xaxis": {
           "automargin": true,
           "gridcolor": "white",
           "linecolor": "white",
           "ticks": "",
           "title": {
            "standoff": 15
           },
           "zerolinecolor": "white",
           "zerolinewidth": 2
          },
          "yaxis": {
           "automargin": true,
           "gridcolor": "white",
           "linecolor": "white",
           "ticks": "",
           "title": {
            "standoff": 15
           },
           "zerolinecolor": "white",
           "zerolinewidth": 2
          }
         }
        },
        "width": 800,
        "xaxis": {
         "anchor": "y",
         "autorange": true,
         "domain": [
          0,
          0.45
         ],
         "linecolor": "black",
         "matches": "x7",
         "showline": true,
         "showticklabels": false,
         "tickfont": {
          "size": 12
         },
         "ticklen": 6,
         "ticks": "outside",
         "tickwidth": 2,
         "title": {
          "text": "time (s)"
         }
        },
        "xaxis2": {
         "anchor": "y2",
         "autorange": true,
         "domain": [
          0.55,
          1
         ],
         "linecolor": "black",
         "matches": "x8",
         "showline": true,
         "showticklabels": false,
         "tickfont": {
          "size": 12
         },
         "ticklen": 6,
         "ticks": "outside",
         "tickwidth": 2,
         "title": {
          "text": "time (s)"
         }
        },
        "xaxis3": {
         "anchor": "y3",
         "autorange": true,
         "domain": [
          0,
          0.45
         ],
         "linecolor": "black",
         "matches": "x7",
         "showline": true,
         "showticklabels": false,
         "tickfont": {
          "size": 12
         },
         "ticklen": 6,
         "ticks": "outside",
         "tickwidth": 2,
         "title": {
          "text": "time (s)"
         }
        },
        "xaxis4": {
         "anchor": "y4",
         "autorange": true,
         "domain": [
          0.55,
          1
         ],
         "linecolor": "black",
         "matches": "x8",
         "showline": true,
         "showticklabels": false,
         "tickfont": {
          "size": 12
         },
         "ticklen": 6,
         "ticks": "outside",
         "tickwidth": 2,
         "title": {
          "text": "time (s)"
         }
        },
        "xaxis5": {
         "anchor": "y5",
         "autorange": true,
         "domain": [
          0,
          0.45
         ],
         "linecolor": "black",
         "matches": "x7",
         "showline": true,
         "showticklabels": false,
         "tickfont": {
          "size": 12
         },
         "ticklen": 6,
         "ticks": "outside",
         "tickwidth": 2,
         "title": {
          "text": "time (s)"
         }
        },
        "xaxis6": {
         "anchor": "y6",
         "autorange": true,
         "domain": [
          0.55,
          1
         ],
         "linecolor": "black",
         "matches": "x8",
         "showline": true,
         "showticklabels": false,
         "tickfont": {
          "size": 12
         },
         "ticklen": 6,
         "ticks": "outside",
         "tickwidth": 2,
         "title": {
          "text": "time (s)"
         }
        },
        "xaxis7": {
         "anchor": "y7",
         "autorange": true,
         "domain": [
          0,
          0.45
         ],
         "linecolor": "black",
         "showline": true,
         "tickfont": {
          "size": 12
         },
         "ticklen": 6,
         "ticks": "outside",
         "tickwidth": 2,
         "title": {
          "text": "time (s)"
         }
        },
        "xaxis8": {
         "anchor": "y8",
         "autorange": true,
         "domain": [
          0.55,
          1
         ],
         "linecolor": "black",
         "showline": true,
         "tickfont": {
          "size": 12
         },
         "ticklen": 6,
         "ticks": "outside",
         "tickwidth": 2,
         "title": {
          "text": "time (s)"
         }
        },
        "yaxis": {
         "anchor": "x",
         "domain": [
          0.84375,
          1
         ],
         "linecolor": "black",
         "range": [
          0,
          61
         ],
         "showgrid": true,
         "showline": true,
         "tickfont": {
          "size": 12
         },
         "ticklen": 6,
         "ticks": "outside",
         "tickwidth": 2,
         "title": {
          "text": "trial nb"
         }
        },
        "yaxis2": {
         "anchor": "x2",
         "domain": [
          0.84375,
          1
         ],
         "linecolor": "black",
         "matches": "y",
         "range": [
          0,
          107
         ],
         "showgrid": true,
         "showline": true,
         "showticklabels": false,
         "tickfont": {
          "size": 12
         },
         "ticklen": 6,
         "ticks": "outside",
         "tickwidth": 2,
         "title": {
          "text": "trial nb"
         }
        },
        "yaxis3": {
         "anchor": "x3",
         "domain": [
          0.5625,
          0.71875
         ],
         "linecolor": "black",
         "range": [
          0,
          61
         ],
         "showgrid": true,
         "showline": true,
         "tickfont": {
          "size": 12
         },
         "ticklen": 6,
         "ticks": "outside",
         "tickwidth": 2,
         "title": {
          "text": "trial nb"
         }
        },
        "yaxis4": {
         "anchor": "x4",
         "domain": [
          0.5625,
          0.71875
         ],
         "linecolor": "black",
         "matches": "y3",
         "range": [
          0,
          107
         ],
         "showgrid": true,
         "showline": true,
         "showticklabels": false,
         "tickfont": {
          "size": 12
         },
         "ticklen": 6,
         "ticks": "outside",
         "tickwidth": 2,
         "title": {
          "text": "trial nb"
         }
        },
        "yaxis5": {
         "anchor": "x5",
         "domain": [
          0.28125,
          0.4375
         ],
         "linecolor": "black",
         "range": [
          0,
          61
         ],
         "showgrid": true,
         "showline": true,
         "tickfont": {
          "size": 12
         },
         "ticklen": 6,
         "ticks": "outside",
         "tickwidth": 2,
         "title": {
          "text": "trial nb"
         }
        },
        "yaxis6": {
         "anchor": "x6",
         "domain": [
          0.28125,
          0.4375
         ],
         "linecolor": "black",
         "matches": "y5",
         "range": [
          0,
          106
         ],
         "showgrid": true,
         "showline": true,
         "showticklabels": false,
         "tickfont": {
          "size": 12
         },
         "ticklen": 6,
         "ticks": "outside",
         "tickwidth": 2,
         "title": {
          "text": "trial nb"
         }
        },
        "yaxis7": {
         "anchor": "x7",
         "domain": [
          0,
          0.15625
         ],
         "linecolor": "black",
         "range": [
          0,
          61
         ],
         "showgrid": true,
         "showline": true,
         "tickfont": {
          "size": 12
         },
         "ticklen": 6,
         "ticks": "outside",
         "tickwidth": 2,
         "title": {
          "text": "trial nb"
         }
        },
        "yaxis8": {
         "anchor": "x8",
         "domain": [
          0,
          0.15625
         ],
         "linecolor": "black",
         "matches": "y7",
         "range": [
          0,
          107
         ],
         "showgrid": true,
         "showline": true,
         "showticklabels": false,
         "tickfont": {
          "size": 12
         },
         "ticklen": 6,
         "ticks": "outside",
         "tickwidth": 2,
         "title": {
          "text": "trial nb"
         }
        }
       }
      }
     },
     "metadata": {},
     "output_type": "display_data"
    },
    {
     "ename": "",
     "evalue": "",
     "output_type": "error",
     "traceback": [
      "\u001b[1;31mnotebook controller is DISPOSED. \n",
      "\u001b[1;31mView Jupyter <a href='command:jupyter.viewOutput'>log</a> for further details."
     ]
    },
    {
     "ename": "",
     "evalue": "",
     "output_type": "error",
     "traceback": [
      "\u001b[1;31mnotebook controller is DISPOSED. \n",
      "\u001b[1;31mView Jupyter <a href='command:jupyter.viewOutput'>log</a> for further details."
     ]
    },
    {
     "ename": "",
     "evalue": "",
     "output_type": "error",
     "traceback": [
      "\u001b[1;31mnotebook controller is DISPOSED. \n",
      "\u001b[1;31mView Jupyter <a href='command:jupyter.viewOutput'>log</a> for further details."
     ]
    }
   ],
   "source": [
    "pyc_dataset = Event_Dataset(exp_cohort.sessions[50].df_events, exp_cohort.sessions[50].df_conditions)\n",
    "pyc_dataset.plot_trials()"
   ]
  },
  {
   "cell_type": "code",
   "execution_count": null,
   "metadata": {},
   "outputs": [
    {
     "data": {
      "text/html": [
       "<div>\n",
       "<style scoped>\n",
       "    .dataframe tbody tr th:only-of-type {\n",
       "        vertical-align: middle;\n",
       "    }\n",
       "\n",
       "    .dataframe tbody tr th {\n",
       "        vertical-align: top;\n",
       "    }\n",
       "\n",
       "    .dataframe thead th {\n",
       "        text-align: right;\n",
       "    }\n",
       "</style>\n",
       "<table border=\"1\" class=\"dataframe\">\n",
       "  <thead>\n",
       "    <tr style=\"text-align: right;\">\n",
       "      <th></th>\n",
       "      <th>trigger</th>\n",
       "      <th>success</th>\n",
       "      <th>valid</th>\n",
       "      <th>free_reward_timer</th>\n",
       "      <th>reward spout cued</th>\n",
       "      <th>reward bar cued</th>\n",
       "      <th>reward bar_off</th>\n",
       "      <th>reward spout uncued</th>\n",
       "      <th>reward bar uncued</th>\n",
       "      <th>reward free</th>\n",
       "      <th>reward free_uncued</th>\n",
       "      <th>cued</th>\n",
       "      <th>keep</th>\n",
       "      <th>trial_ID</th>\n",
       "    </tr>\n",
       "    <tr>\n",
       "      <th>trial_nb</th>\n",
       "      <th></th>\n",
       "      <th></th>\n",
       "      <th></th>\n",
       "      <th></th>\n",
       "      <th></th>\n",
       "      <th></th>\n",
       "      <th></th>\n",
       "      <th></th>\n",
       "      <th></th>\n",
       "      <th></th>\n",
       "      <th></th>\n",
       "      <th></th>\n",
       "      <th></th>\n",
       "      <th></th>\n",
       "    </tr>\n",
       "  </thead>\n",
       "  <tbody>\n",
       "    <tr>\n",
       "      <th>1</th>\n",
       "      <td>cued</td>\n",
       "      <td>False</td>\n",
       "      <td>True</td>\n",
       "      <td>False</td>\n",
       "      <td>False</td>\n",
       "      <td>False</td>\n",
       "      <td>False</td>\n",
       "      <td>False</td>\n",
       "      <td>False</td>\n",
       "      <td>True</td>\n",
       "      <td>False</td>\n",
       "      <td>True</td>\n",
       "      <td>True</td>\n",
       "      <td>1</td>\n",
       "    </tr>\n",
       "    <tr>\n",
       "      <th>2</th>\n",
       "      <td>cued</td>\n",
       "      <td>True</td>\n",
       "      <td>True</td>\n",
       "      <td>False</td>\n",
       "      <td>False</td>\n",
       "      <td>True</td>\n",
       "      <td>False</td>\n",
       "      <td>False</td>\n",
       "      <td>False</td>\n",
       "      <td>True</td>\n",
       "      <td>False</td>\n",
       "      <td>True</td>\n",
       "      <td>True</td>\n",
       "      <td>2</td>\n",
       "    </tr>\n",
       "    <tr>\n",
       "      <th>3</th>\n",
       "      <td>cued</td>\n",
       "      <td>False</td>\n",
       "      <td>True</td>\n",
       "      <td>False</td>\n",
       "      <td>False</td>\n",
       "      <td>False</td>\n",
       "      <td>False</td>\n",
       "      <td>False</td>\n",
       "      <td>False</td>\n",
       "      <td>False</td>\n",
       "      <td>False</td>\n",
       "      <td>True</td>\n",
       "      <td>True</td>\n",
       "      <td>3</td>\n",
       "    </tr>\n",
       "    <tr>\n",
       "      <th>4</th>\n",
       "      <td>cued</td>\n",
       "      <td>True</td>\n",
       "      <td>True</td>\n",
       "      <td>False</td>\n",
       "      <td>False</td>\n",
       "      <td>True</td>\n",
       "      <td>True</td>\n",
       "      <td>False</td>\n",
       "      <td>False</td>\n",
       "      <td>False</td>\n",
       "      <td>False</td>\n",
       "      <td>True</td>\n",
       "      <td>True</td>\n",
       "      <td>4</td>\n",
       "    </tr>\n",
       "    <tr>\n",
       "      <th>5</th>\n",
       "      <td>cued</td>\n",
       "      <td>False</td>\n",
       "      <td>True</td>\n",
       "      <td>False</td>\n",
       "      <td>False</td>\n",
       "      <td>False</td>\n",
       "      <td>False</td>\n",
       "      <td>False</td>\n",
       "      <td>False</td>\n",
       "      <td>False</td>\n",
       "      <td>False</td>\n",
       "      <td>True</td>\n",
       "      <td>True</td>\n",
       "      <td>5</td>\n",
       "    </tr>\n",
       "    <tr>\n",
       "      <th>...</th>\n",
       "      <td>...</td>\n",
       "      <td>...</td>\n",
       "      <td>...</td>\n",
       "      <td>...</td>\n",
       "      <td>...</td>\n",
       "      <td>...</td>\n",
       "      <td>...</td>\n",
       "      <td>...</td>\n",
       "      <td>...</td>\n",
       "      <td>...</td>\n",
       "      <td>...</td>\n",
       "      <td>...</td>\n",
       "      <td>...</td>\n",
       "      <td>...</td>\n",
       "    </tr>\n",
       "    <tr>\n",
       "      <th>102</th>\n",
       "      <td>uncued</td>\n",
       "      <td>False</td>\n",
       "      <td>True</td>\n",
       "      <td>False</td>\n",
       "      <td>False</td>\n",
       "      <td>False</td>\n",
       "      <td>True</td>\n",
       "      <td>False</td>\n",
       "      <td>False</td>\n",
       "      <td>False</td>\n",
       "      <td>True</td>\n",
       "      <td>False</td>\n",
       "      <td>True</td>\n",
       "      <td>102</td>\n",
       "    </tr>\n",
       "    <tr>\n",
       "      <th>103</th>\n",
       "      <td>uncued</td>\n",
       "      <td>False</td>\n",
       "      <td>True</td>\n",
       "      <td>False</td>\n",
       "      <td>False</td>\n",
       "      <td>False</td>\n",
       "      <td>False</td>\n",
       "      <td>False</td>\n",
       "      <td>False</td>\n",
       "      <td>False</td>\n",
       "      <td>True</td>\n",
       "      <td>False</td>\n",
       "      <td>True</td>\n",
       "      <td>103</td>\n",
       "    </tr>\n",
       "    <tr>\n",
       "      <th>104</th>\n",
       "      <td>uncued</td>\n",
       "      <td>False</td>\n",
       "      <td>True</td>\n",
       "      <td>False</td>\n",
       "      <td>False</td>\n",
       "      <td>False</td>\n",
       "      <td>False</td>\n",
       "      <td>False</td>\n",
       "      <td>False</td>\n",
       "      <td>False</td>\n",
       "      <td>True</td>\n",
       "      <td>False</td>\n",
       "      <td>True</td>\n",
       "      <td>104</td>\n",
       "    </tr>\n",
       "    <tr>\n",
       "      <th>105</th>\n",
       "      <td>uncued</td>\n",
       "      <td>True</td>\n",
       "      <td>True</td>\n",
       "      <td>False</td>\n",
       "      <td>False</td>\n",
       "      <td>False</td>\n",
       "      <td>True</td>\n",
       "      <td>False</td>\n",
       "      <td>False</td>\n",
       "      <td>False</td>\n",
       "      <td>True</td>\n",
       "      <td>False</td>\n",
       "      <td>True</td>\n",
       "      <td>105</td>\n",
       "    </tr>\n",
       "    <tr>\n",
       "      <th>106</th>\n",
       "      <td>uncued</td>\n",
       "      <td>False</td>\n",
       "      <td>True</td>\n",
       "      <td>False</td>\n",
       "      <td>False</td>\n",
       "      <td>False</td>\n",
       "      <td>True</td>\n",
       "      <td>False</td>\n",
       "      <td>False</td>\n",
       "      <td>False</td>\n",
       "      <td>True</td>\n",
       "      <td>False</td>\n",
       "      <td>True</td>\n",
       "      <td>106</td>\n",
       "    </tr>\n",
       "  </tbody>\n",
       "</table>\n",
       "<p>106 rows × 14 columns</p>\n",
       "</div>"
      ],
      "text/plain": [
       "         trigger  success  valid  free_reward_timer  reward spout cued  \\\n",
       "trial_nb                                                                 \n",
       "1           cued    False   True              False              False   \n",
       "2           cued     True   True              False              False   \n",
       "3           cued    False   True              False              False   \n",
       "4           cued     True   True              False              False   \n",
       "5           cued    False   True              False              False   \n",
       "...          ...      ...    ...                ...                ...   \n",
       "102       uncued    False   True              False              False   \n",
       "103       uncued    False   True              False              False   \n",
       "104       uncued    False   True              False              False   \n",
       "105       uncued     True   True              False              False   \n",
       "106       uncued    False   True              False              False   \n",
       "\n",
       "          reward bar cued  reward bar_off  reward spout uncued  \\\n",
       "trial_nb                                                         \n",
       "1                   False           False                False   \n",
       "2                    True           False                False   \n",
       "3                   False           False                False   \n",
       "4                    True            True                False   \n",
       "5                   False           False                False   \n",
       "...                   ...             ...                  ...   \n",
       "102                 False            True                False   \n",
       "103                 False           False                False   \n",
       "104                 False           False                False   \n",
       "105                 False            True                False   \n",
       "106                 False            True                False   \n",
       "\n",
       "          reward bar uncued  reward free  reward free_uncued   cued  keep  \\\n",
       "trial_nb                                                                    \n",
       "1                     False         True               False   True  True   \n",
       "2                     False         True               False   True  True   \n",
       "3                     False        False               False   True  True   \n",
       "4                     False        False               False   True  True   \n",
       "5                     False        False               False   True  True   \n",
       "...                     ...          ...                 ...    ...   ...   \n",
       "102                   False        False                True  False  True   \n",
       "103                   False        False                True  False  True   \n",
       "104                   False        False                True  False  True   \n",
       "105                   False        False                True  False  True   \n",
       "106                   False        False                True  False  True   \n",
       "\n",
       "          trial_ID  \n",
       "trial_nb            \n",
       "1                1  \n",
       "2                2  \n",
       "3                3  \n",
       "4                4  \n",
       "5                5  \n",
       "...            ...  \n",
       "102            102  \n",
       "103            103  \n",
       "104            104  \n",
       "105            105  \n",
       "106            106  \n",
       "\n",
       "[106 rows x 14 columns]"
      ]
     },
     "execution_count": 173,
     "metadata": {},
     "output_type": "execute_result"
    },
    {
     "ename": "",
     "evalue": "",
     "output_type": "error",
     "traceback": [
      "\u001b[1;31mnotebook controller is DISPOSED. \n",
      "\u001b[1;31mView Jupyter <a href='command:jupyter.viewOutput'>log</a> for further details."
     ]
    },
    {
     "ename": "",
     "evalue": "",
     "output_type": "error",
     "traceback": [
      "\u001b[1;31mnotebook controller is DISPOSED. \n",
      "\u001b[1;31mView Jupyter <a href='command:jupyter.viewOutput'>log</a> for further details."
     ]
    },
    {
     "ename": "",
     "evalue": "",
     "output_type": "error",
     "traceback": [
      "\u001b[1;31mnotebook controller is DISPOSED. \n",
      "\u001b[1;31mView Jupyter <a href='command:jupyter.viewOutput'>log</a> for further details."
     ]
    }
   ],
   "source": [
    "pyc_dataset.metadata_df"
   ]
  }
 ],
 "metadata": {
  "kernelspec": {
   "display_name": "Python 3.8.13 ('trialexp')",
   "language": "python",
   "name": "python3"
  },
  "language_info": {
   "codemirror_mode": {
    "name": "ipython",
    "version": 3
   },
   "file_extension": ".py",
   "mimetype": "text/x-python",
   "name": "python",
   "nbconvert_exporter": "python",
   "pygments_lexer": "ipython3",
   "version": "3.8.13"
  },
  "orig_nbformat": 4,
  "vscode": {
   "interpreter": {
    "hash": "0d1e031f6f376662b97d9f481efb02d044bc4a5d17f5aae0c7d7abfcc2e5ac1c"
   }
  }
 },
 "nbformat": 4,
 "nbformat_minor": 2
}
