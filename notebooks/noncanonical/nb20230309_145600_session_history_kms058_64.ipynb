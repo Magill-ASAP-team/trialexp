{
 "cells": [
  {
   "attachments": {},
   "cell_type": "markdown",
   "metadata": {},
   "source": [
    "```bash\n",
    "jupyter nbconvert \"D:\\OneDrive - Nexus365\\Private_Dropbox\\Projects\\trialexp\\notebooks\\noncanonical\\nb20230309_145600_session_history_kms058_64.ipynb\" --to=\"python\" --output-dir=\"D:\\OneDrive - Nexus365\\Private_Dropbox\\Projects\\trialexp\\notebooks\\noncanonical\" --output=\"nb20230309_145600_session_history_kms058_64\"\n",
    "```\n",
    "\n",
    "Create a plot to follow session history of multiple mice\n",
    "\n",
    "- X axis = datetime\n",
    "- Y axis = mice\n",
    "\n",
    "A session is represented as a box, whose left end shows the time of Beginning of sessions for a task\n",
    "\n",
    "If two sessions of different tasks are run in a short amount of time (eg 1 day), they use different Y values"
   ]
  },
  {
   "attachments": {},
   "cell_type": "markdown",
   "metadata": {},
   "source": [
    "Get pycontrol data files\n",
    "\n",
    "folders and animal_id?"
   ]
  },
  {
   "cell_type": "code",
   "execution_count": 9,
   "metadata": {},
   "outputs": [],
   "source": [
    "import os\n",
    "import re\n",
    "import pandas as pd\n",
    "from datetime import datetime\n",
    "from datetime import timedelta\n",
    "\n",
    "# import tkinter as tk\n",
    "# from tkinter import filedialog\n",
    "\n",
    "\n",
    "homedir = r\"\\\\ettin\\Magill_Lab\\Julien\\Data\\head-fixed\\pycontrol\"\n",
    "\n",
    "\n",
    "# subject_ids = ['RE602','RE603','RE604']\n",
    "\n",
    "# tasks = ['pavlovian_spontanous_reaching_march23',\n",
    "#          ['reaching_go_spout_feb23',\n",
    "#          'reaching_go_spout_nov22'],\n",
    "#          'reaching_go_spout_incr_break2_nov22',\n",
    "#          ['reaching_go_spout_bar_nov22',\n",
    "#           'reaching_go_spout_bar_mar23']]\n",
    "\n",
    "# yalabels = ['Pavlovian lick and instrumental reaching', 'Simple instrumental','Sound and ITI','Bar hold and wait']\n",
    "\n",
    "\n",
    "subject_ids = ['kms058','kms060','kms061','kms062','kms063','kms064']\n",
    "\n",
    "tasks = ['reaching_go_spout_nov22',\n",
    "         'reaching_go_spout_incr_break2_nov22',\n",
    "         ['reaching_go_spout_bar_nov22',\n",
    "         'reaching_go_spout_bar_mar23']]\n",
    "\n",
    "yalabels = ['1. Simple instrumental','2. Sound and ITI','3. Bar hold and wait']\n",
    "\n",
    "# get these by: list(set(df['task_name']))\n",
    "# You can manually specify the order here"
   ]
  },
  {
   "cell_type": "code",
   "execution_count": 10,
   "metadata": {},
   "outputs": [
    {
     "name": "stdout",
     "output_type": "stream",
     "text": [
      "['\\\\\\\\ettin\\\\Magill_Lab\\\\Julien\\\\Data\\\\head-fixed\\\\pycontrol\\\\exp01', '\\\\\\\\ettin\\\\Magill_Lab\\\\Julien\\\\Data\\\\head-fixed\\\\pycontrol\\\\JC301LS', '\\\\\\\\ettin\\\\Magill_Lab\\\\Julien\\\\Data\\\\head-fixed\\\\pycontrol\\\\debug', '\\\\\\\\ettin\\\\Magill_Lab\\\\Julien\\\\Data\\\\head-fixed\\\\pycontrol\\\\pavlovian_nobar_nodelay', '\\\\\\\\ettin\\\\Magill_Lab\\\\Julien\\\\Data\\\\head-fixed\\\\pycontrol\\\\go_rewarding_aversive_2', '\\\\\\\\ettin\\\\Magill_Lab\\\\Julien\\\\Data\\\\head-fixed\\\\pycontrol\\\\go_rewarding_aversive', '\\\\\\\\ettin\\\\Magill_Lab\\\\Julien\\\\Data\\\\head-fixed\\\\pycontrol\\\\reward_calibration', '\\\\\\\\ettin\\\\Magill_Lab\\\\Julien\\\\Data\\\\head-fixed\\\\pycontrol\\\\train_go_pavlovian', '\\\\\\\\ettin\\\\Magill_Lab\\\\Julien\\\\Data\\\\head-fixed\\\\pycontrol\\\\pavlovian_2s_delay', '\\\\\\\\ettin\\\\Magill_Lab\\\\Julien\\\\Data\\\\head-fixed\\\\pycontrol\\\\water_calibration', '\\\\\\\\ettin\\\\Magill_Lab\\\\Julien\\\\Data\\\\head-fixed\\\\pycontrol\\\\ReachTest', '\\\\\\\\ettin\\\\Magill_Lab\\\\Julien\\\\Data\\\\head-fixed\\\\pycontrol\\\\check_light', '\\\\\\\\ettin\\\\Magill_Lab\\\\Julien\\\\Data\\\\head-fixed\\\\pycontrol\\\\train_Go_CS-US_pavalovian_with_bar_pulses', '\\\\\\\\ettin\\\\Magill_Lab\\\\Julien\\\\Data\\\\head-fixed\\\\pycontrol\\\\reaching_go_spout_cued_uncued_opto', '\\\\\\\\ettin\\\\Magill_Lab\\\\Julien\\\\Data\\\\head-fixed\\\\pycontrol\\\\ContinuousRig1&2', '\\\\\\\\ettin\\\\Magill_Lab\\\\Julien\\\\Data\\\\head-fixed\\\\pycontrol\\\\reaching_go_spout_bar_dual_all_reward_dec22', '\\\\\\\\ettin\\\\Magill_Lab\\\\Julien\\\\Data\\\\head-fixed\\\\pycontrol\\\\lick_go_nogo', '\\\\\\\\ettin\\\\Magill_Lab\\\\Julien\\\\Data\\\\head-fixed\\\\pycontrol\\\\open_solenoid', '\\\\\\\\ettin\\\\Magill_Lab\\\\Julien\\\\Data\\\\head-fixed\\\\pycontrol\\\\pavalovian_spontanous_reaching_march23', '\\\\\\\\ettin\\\\Magill_Lab\\\\Julien\\\\Data\\\\head-fixed\\\\pycontrol\\\\calibrate_solenoid', '\\\\\\\\ettin\\\\Magill_Lab\\\\Julien\\\\Data\\\\head-fixed\\\\pycontrol\\\\reach_gonogo_touch_spout', '\\\\\\\\ettin\\\\Magill_Lab\\\\Julien\\\\Data\\\\head-fixed\\\\pycontrol\\\\reaching_go_spout_nov22', '\\\\\\\\ettin\\\\Magill_Lab\\\\Julien\\\\Data\\\\head-fixed\\\\pycontrol\\\\lick', '\\\\\\\\ettin\\\\Magill_Lab\\\\Julien\\\\Data\\\\head-fixed\\\\pycontrol\\\\ContinuousRig3', '\\\\\\\\ettin\\\\Magill_Lab\\\\Julien\\\\Data\\\\head-fixed\\\\pycontrol\\\\reaching_gonogo_reversal_incentive', '\\\\\\\\ettin\\\\Magill_Lab\\\\Julien\\\\Data\\\\head-fixed\\\\pycontrol\\\\run_task-task_files', '\\\\\\\\ettin\\\\Magill_Lab\\\\Julien\\\\Data\\\\head-fixed\\\\pycontrol\\\\reaching_go_spout_feb23', '\\\\\\\\ettin\\\\Magill_Lab\\\\Julien\\\\Data\\\\head-fixed\\\\pycontrol\\\\go_nogo_touch_spout', '\\\\\\\\ettin\\\\Magill_Lab\\\\Julien\\\\Data\\\\head-fixed\\\\pycontrol\\\\reaching_gonogo_nostim', '\\\\\\\\ettin\\\\Magill_Lab\\\\Julien\\\\Data\\\\head-fixed\\\\pycontrol\\\\reaching_gonogo_reversal', '\\\\\\\\ettin\\\\Magill_Lab\\\\Julien\\\\Data\\\\head-fixed\\\\pycontrol\\\\reaching_go_spout_incr_break2_nov22', '\\\\\\\\ettin\\\\Magill_Lab\\\\Julien\\\\Data\\\\head-fixed\\\\pycontrol\\\\cued_uncued_oct22', '\\\\\\\\ettin\\\\Magill_Lab\\\\Julien\\\\Data\\\\head-fixed\\\\pycontrol\\\\ReachTraining', '\\\\\\\\ettin\\\\Magill_Lab\\\\Julien\\\\Data\\\\head-fixed\\\\pycontrol\\\\reaching_go_spout_bar_all_reward_dec22', '\\\\\\\\ettin\\\\Magill_Lab\\\\Julien\\\\Data\\\\head-fixed\\\\pycontrol\\\\go_rewarding_aversive_v1.1', '\\\\\\\\ettin\\\\Magill_Lab\\\\Julien\\\\Data\\\\head-fixed\\\\pycontrol\\\\train_go_pavlovian_with_bar', '\\\\\\\\ettin\\\\Magill_Lab\\\\Julien\\\\Data\\\\head-fixed\\\\pycontrol\\\\horizontal', '\\\\\\\\ettin\\\\Magill_Lab\\\\Julien\\\\Data\\\\head-fixed\\\\pycontrol\\\\Reach_GoNoGo_Spout', '\\\\\\\\ettin\\\\Magill_Lab\\\\Julien\\\\Data\\\\head-fixed\\\\pycontrol\\\\reaching_go_spout_cued_uncued', '\\\\\\\\ettin\\\\Magill_Lab\\\\Julien\\\\Data\\\\head-fixed\\\\pycontrol\\\\lick_go_nogo_unconditionned', '\\\\\\\\ettin\\\\Magill_Lab\\\\Julien\\\\Data\\\\head-fixed\\\\pycontrol\\\\reaching_go_spout_nov22_timewin', '\\\\\\\\ettin\\\\Magill_Lab\\\\Julien\\\\Data\\\\head-fixed\\\\pycontrol\\\\open_solenoids', '\\\\\\\\ettin\\\\Magill_Lab\\\\Julien\\\\Data\\\\head-fixed\\\\pycontrol\\\\task_files', '\\\\\\\\ettin\\\\Magill_Lab\\\\Julien\\\\Data\\\\head-fixed\\\\pycontrol\\\\lick_go_nogo_unconditionned_opto', '\\\\\\\\ettin\\\\Magill_Lab\\\\Julien\\\\Data\\\\head-fixed\\\\pycontrol\\\\reaching_go_spout_bar2tones_nov22', '\\\\\\\\ettin\\\\Magill_Lab\\\\Julien\\\\Data\\\\head-fixed\\\\pycontrol\\\\approach_cued', '\\\\\\\\ettin\\\\Magill_Lab\\\\Julien\\\\Data\\\\head-fixed\\\\pycontrol\\\\pavalovian_spontanous_reacging_march23', '\\\\\\\\ettin\\\\Magill_Lab\\\\Julien\\\\Data\\\\head-fixed\\\\pycontrol\\\\go_rewarding_aversive_nov22_no_abort', '\\\\\\\\ettin\\\\Magill_Lab\\\\Julien\\\\Data\\\\head-fixed\\\\pycontrol\\\\clean_pipes', '\\\\\\\\ettin\\\\Magill_Lab\\\\Julien\\\\Data\\\\head-fixed\\\\pycontrol\\\\reaching_go_nogo_opto_continuous', '\\\\\\\\ettin\\\\Magill_Lab\\\\Julien\\\\Data\\\\head-fixed\\\\pycontrol\\\\reaching_go_spout_bar_nov22', '\\\\\\\\ettin\\\\Magill_Lab\\\\Julien\\\\Data\\\\head-fixed\\\\pycontrol\\\\reaching_go_spout', '\\\\\\\\ettin\\\\Magill_Lab\\\\Julien\\\\Data\\\\head-fixed\\\\pycontrol\\\\GoNoGo_LED_continuous', '\\\\\\\\ettin\\\\Magill_Lab\\\\Julien\\\\Data\\\\head-fixed\\\\pycontrol\\\\Reaching_GoNoGo_stim_continuous_mixed', '\\\\\\\\ettin\\\\Magill_Lab\\\\Julien\\\\Data\\\\head-fixed\\\\pycontrol\\\\approach_reaching_cued', '\\\\\\\\ettin\\\\Magill_Lab\\\\Julien\\\\Data\\\\head-fixed\\\\pycontrol\\\\reaching_go_spout_bar_dual_dec22', '\\\\\\\\ettin\\\\Magill_Lab\\\\Julien\\\\Data\\\\head-fixed\\\\pycontrol\\\\go_nogo', '\\\\\\\\ettin\\\\Magill_Lab\\\\Julien\\\\Data\\\\head-fixed\\\\pycontrol\\\\awdawd', '\\\\\\\\ettin\\\\Magill_Lab\\\\Julien\\\\Data\\\\head-fixed\\\\pycontrol\\\\calibrate_solenoids', '\\\\\\\\ettin\\\\Magill_Lab\\\\Julien\\\\Data\\\\head-fixed\\\\pycontrol\\\\reaching_gonogo_sinusoid', '\\\\\\\\ettin\\\\Magill_Lab\\\\Julien\\\\Data\\\\head-fixed\\\\pycontrol\\\\reaching_gonogo_sinusoid_spout', '\\\\\\\\ettin\\\\Magill_Lab\\\\Julien\\\\Data\\\\head-fixed\\\\pycontrol\\\\sessions_pkl_repos', '\\\\\\\\ettin\\\\Magill_Lab\\\\Julien\\\\Data\\\\head-fixed\\\\pycontrol\\\\stim_test', '\\\\\\\\ettin\\\\Magill_Lab\\\\Julien\\\\Data\\\\head-fixed\\\\pycontrol\\\\reaching_test', '\\\\\\\\ettin\\\\Magill_Lab\\\\Julien\\\\Data\\\\head-fixed\\\\pycontrol\\\\reaching_go_spout_incr_break_nov22', '\\\\\\\\ettin\\\\Magill_Lab\\\\Julien\\\\Data\\\\head-fixed\\\\pycontrol\\\\reaching_go_nogo_opto_sinusoid']\n"
     ]
    }
   ],
   "source": [
    "\n",
    "items = os.listdir(homedir)\n",
    "\n",
    "folders = [os.path.join(homedir, item) for item in items if os.path.isdir(\n",
    "    os.path.join(homedir, item))]\n",
    "\n",
    "print(folders)"
   ]
  },
  {
   "cell_type": "code",
   "execution_count": 11,
   "metadata": {},
   "outputs": [
    {
     "name": "stdout",
     "output_type": "stream",
     "text": [
      "                                                folder  \\\n",
      "0    \\\\ettin\\Magill_Lab\\Julien\\Data\\head-fixed\\pyco...   \n",
      "1    \\\\ettin\\Magill_Lab\\Julien\\Data\\head-fixed\\pyco...   \n",
      "2    \\\\ettin\\Magill_Lab\\Julien\\Data\\head-fixed\\pyco...   \n",
      "3    \\\\ettin\\Magill_Lab\\Julien\\Data\\head-fixed\\pyco...   \n",
      "4    \\\\ettin\\Magill_Lab\\Julien\\Data\\head-fixed\\pyco...   \n",
      "..                                                 ...   \n",
      "275  \\\\ettin\\Magill_Lab\\Julien\\Data\\head-fixed\\pyco...   \n",
      "276  \\\\ettin\\Magill_Lab\\Julien\\Data\\head-fixed\\pyco...   \n",
      "277  \\\\ettin\\Magill_Lab\\Julien\\Data\\head-fixed\\pyco...   \n",
      "278  \\\\ettin\\Magill_Lab\\Julien\\Data\\head-fixed\\pyco...   \n",
      "279  \\\\ettin\\Magill_Lab\\Julien\\Data\\head-fixed\\pyco...   \n",
      "\n",
      "                         filename            datetime  \n",
      "0    kms058-2023-01-26-100537.txt 2023-01-26 10:05:37  \n",
      "1    kms058-2023-01-26-100832.txt 2023-01-26 10:08:32  \n",
      "2    kms058-2023-01-26-103650.txt 2023-01-26 10:36:50  \n",
      "3    kms058-2023-01-26-104822.txt 2023-01-26 10:48:22  \n",
      "4    kms060-2023-01-26-110654.txt 2023-01-26 11:06:54  \n",
      "..                            ...                 ...  \n",
      "275  kms058-2023-03-20-132658.txt 2023-03-20 13:26:58  \n",
      "276  kms063-2023-03-20-151114.txt 2023-03-20 15:11:14  \n",
      "277  kms063-2023-03-21-142332.txt 2023-03-21 14:23:32  \n",
      "278  kms063-2023-03-21-142612.txt 2023-03-21 14:26:12  \n",
      "279  kms063-2023-03-21-142649.txt 2023-03-21 14:26:49  \n",
      "\n",
      "[280 rows x 3 columns]\n"
     ]
    }
   ],
   "source": [
    "# folders = [r'\\\\ettin\\Magill_Lab\\Julien\\Data\\head-fixed\\pycontrol\\reaching_go_spout_bar_nov22']\n",
    "filenames = []\n",
    "folder_paths = []\n",
    "for fld in folders:\n",
    "    files = os.listdir(fld)\n",
    "\n",
    "    # Filter out the files whose names don't match the regular expression pattern\n",
    "    regex = re.compile('^(' + '|'.join(subject_ids) + ').+\\.txt$')\n",
    "    matching_files = [file for file in files if regex.match(file)]\n",
    "    folders_ = [fld for file in files if regex.match(file)]\n",
    "\n",
    "    if matching_files:\n",
    "        filenames = filenames + matching_files\n",
    "        folder_paths = folder_paths + folders_\n",
    "\n",
    "\n",
    "df = pd.DataFrame({'folder':folder_paths,'filename':filenames})\n",
    "\n",
    "def get_date(text):\n",
    "    match = re.search('\\d{4}\\-\\d{2}\\-\\d{2}\\-\\d{6}', text)\n",
    "    date_str = match.group(0)\n",
    "    date_obj = datetime.strptime(date_str, '%Y-%m-%d-%H%M%S')\n",
    "    return date_obj\n",
    "\n",
    "df['datetime'] = df['filename'].apply(get_date)\n",
    "\n",
    "df = df.sort_values(by='datetime', ascending=True)\n",
    "df.reset_index(drop=True, inplace=True)\n",
    "print(df)\n"
   ]
  },
  {
   "attachments": {},
   "cell_type": "markdown",
   "metadata": {},
   "source": [
    "extract datetime and task names"
   ]
  },
  {
   "cell_type": "code",
   "execution_count": 12,
   "metadata": {},
   "outputs": [
    {
     "name": "stdout",
     "output_type": "stream",
     "text": [
      "                                                folder  \\\n",
      "0    \\\\ettin\\Magill_Lab\\Julien\\Data\\head-fixed\\pyco...   \n",
      "1    \\\\ettin\\Magill_Lab\\Julien\\Data\\head-fixed\\pyco...   \n",
      "2    \\\\ettin\\Magill_Lab\\Julien\\Data\\head-fixed\\pyco...   \n",
      "3    \\\\ettin\\Magill_Lab\\Julien\\Data\\head-fixed\\pyco...   \n",
      "4    \\\\ettin\\Magill_Lab\\Julien\\Data\\head-fixed\\pyco...   \n",
      "..                                                 ...   \n",
      "275  \\\\ettin\\Magill_Lab\\Julien\\Data\\head-fixed\\pyco...   \n",
      "276  \\\\ettin\\Magill_Lab\\Julien\\Data\\head-fixed\\pyco...   \n",
      "277  \\\\ettin\\Magill_Lab\\Julien\\Data\\head-fixed\\pyco...   \n",
      "278  \\\\ettin\\Magill_Lab\\Julien\\Data\\head-fixed\\pyco...   \n",
      "279  \\\\ettin\\Magill_Lab\\Julien\\Data\\head-fixed\\pyco...   \n",
      "\n",
      "                         filename            datetime subject_id  \\\n",
      "0    kms058-2023-01-26-100537.txt 2023-01-26 10:05:37     kms058   \n",
      "1    kms058-2023-01-26-100832.txt 2023-01-26 10:08:32     kms058   \n",
      "2    kms058-2023-01-26-103650.txt 2023-01-26 10:36:50     kms058   \n",
      "3    kms058-2023-01-26-104822.txt 2023-01-26 10:48:22     kms058   \n",
      "4    kms060-2023-01-26-110654.txt 2023-01-26 11:06:54     kms060   \n",
      "..                            ...                 ...        ...   \n",
      "275  kms058-2023-03-20-132658.txt 2023-03-20 13:26:58     kms058   \n",
      "276  kms063-2023-03-20-151114.txt 2023-03-20 15:11:14     kms063   \n",
      "277  kms063-2023-03-21-142332.txt 2023-03-21 14:23:32     kms063   \n",
      "278  kms063-2023-03-21-142612.txt 2023-03-21 14:26:12     kms063   \n",
      "279  kms063-2023-03-21-142649.txt 2023-03-21 14:26:49     kms063   \n",
      "\n",
      "                               task_name          start_date  \n",
      "0    reaching_go_spout_incr_break2_nov22 2023-01-26 10:05:37  \n",
      "1    reaching_go_spout_incr_break2_nov22 2023-01-26 10:08:32  \n",
      "2                reaching_go_spout_nov22 2023-01-26 10:36:50  \n",
      "3                reaching_go_spout_nov22 2023-01-26 10:48:22  \n",
      "4                reaching_go_spout_nov22 2023-01-26 11:06:54  \n",
      "..                                   ...                 ...  \n",
      "275          reaching_go_spout_bar_mar23 2023-03-20 13:26:58  \n",
      "276          reaching_go_spout_bar_mar23 2023-03-20 15:11:14  \n",
      "277          reaching_go_spout_bar_mar23 2023-03-21 14:23:32  \n",
      "278          reaching_go_spout_bar_mar23 2023-03-21 14:26:12  \n",
      "279          reaching_go_spout_bar_mar23 2023-03-21 14:26:49  \n",
      "\n",
      "[280 rows x 6 columns]\n"
     ]
    }
   ],
   "source": [
    "# add columns\n",
    "df['subject_id'] = 'kms000'\n",
    "df['task_name'] = 'task'\n",
    "df['start_date'] = datetime.now()\n",
    "\n",
    "for index, row in df.iterrows():\n",
    "\n",
    "    with open(os.path.join(df['folder'][index], df['filename'][index]), 'r') as f:\n",
    "        all_lines = [line.strip() for line in f.readlines() if line.strip()]\n",
    "\n",
    "    m = None\n",
    "    i = 0\n",
    "    while m is None:\n",
    "        m = re.match('^I\\sSubject\\sID\\s\\:\\s(.+)', all_lines[i])\n",
    "        i += 1\n",
    "    subject_id = m.group(1)\n",
    "    # print(f\"{subject_id}\")\n",
    "\n",
    "    m = None\n",
    "    i = 0\n",
    "    while m is None:\n",
    "        m = re.match('^I\\sTask\\sname\\s\\:\\s(.+)', all_lines[i])\n",
    "        i += 1\n",
    "    task_name = m.group(1)\n",
    "    # print(f\"{task_name}\")\n",
    "\n",
    "    m = None\n",
    "    i = 0\n",
    "    while m is None:\n",
    "        m = re.match('^I\\sStart\\sdate\\s\\:\\s(.+)', all_lines[i])\n",
    "        i += 1\n",
    "    start_date = m.group(1)\n",
    "    # print(f\"{start_date}\")\n",
    "\n",
    "    start_datetime = datetime.strptime(start_date, '%Y/%m/%d %H:%M:%S')\n",
    "\n",
    "    df.at[index, 'subject_id'] = subject_id\n",
    "    df.at[index, 'task_name'] = task_name\n",
    "    df.at[index, 'start_date'] = start_datetime\n",
    "\n",
    "print(df)"
   ]
  },
  {
   "cell_type": "code",
   "execution_count": 13,
   "metadata": {},
   "outputs": [
    {
     "data": {
      "text/plain": [
       "datetime.timedelta(days=1)"
      ]
     },
     "execution_count": 13,
     "metadata": {},
     "output_type": "execute_result"
    }
   ],
   "source": [
    "timedelta(days=1)\n"
   ]
  },
  {
   "cell_type": "code",
   "execution_count": 15,
   "metadata": {},
   "outputs": [
    {
     "name": "stderr",
     "output_type": "stream",
     "text": [
      "C:\\Users\\phar0528\\AppData\\Local\\Temp\\ipykernel_45244\\1758466766.py:49: UserWarning: reaching_go_spout_feb23 is not found in tasks\n",
      "  warnings.warn(f\"{df['task_name'].iloc[index]} is not found in tasks\")\n"
     ]
    },
    {
     "data": {
      "image/png": "[encoded data removed]",
      "text/plain": [
       "<Figure size 640x480 with 6 Axes>"
      ]
     },
     "metadata": {},
     "output_type": "display_data"
    }
   ],
   "source": [
    "import matplotlib.pyplot as plt\n",
    "import matplotlib.dates as mdates\n",
    "from matplotlib.patches import Rectangle\n",
    "from math import ceil\n",
    "import warnings\n",
    "\n",
    "plt.rcParams['font.family'] = ['Arial']\n",
    "\n",
    "if not('yalabels' in locals()) and not('yalabels' in globals()):\n",
    "    yalabels = tasks\n",
    "\n",
    "fig, ax = plt.subplots(ceil(len(subject_ids)/2), 2, sharex=True, sharey=True)\n",
    "\n",
    "colors = [u'#1f77b4', u'#ff7f0e', u'#2ca02c', u'#d62728', u'#9467bd',\n",
    "          u'#8c564b', u'#e377c2', u'#7f7f7f', u'#bcbd22', u'#17becf']\n",
    "\n",
    "min_date = min(df.loc[df['subject_id'].isin(subject_ids), 'datetime']).date()\n",
    "max_date = (max(df.loc[df['subject_id'].isin(subject_ids), 'datetime']) + timedelta(days=1)).date()\n",
    "\n",
    "ax_flat = ax.ravel()\n",
    "\n",
    "\n",
    "def find_index(lst, target):\n",
    "    for i, elem in enumerate(lst):\n",
    "        if elem == target:\n",
    "            return i\n",
    "        elif type(elem) == list:\n",
    "            if target in elem:\n",
    "                return i\n",
    "                # add the index of the sublist\n",
    "    raise 'not found'  # target not found\n",
    "\n",
    "\n",
    "i = 0\n",
    "for sbj in subject_ids:\n",
    "    ax_flat[i].set_title(sbj)\n",
    "    i += 1\n",
    "\n",
    "for sbj_idx, sbj in enumerate(subject_ids):\n",
    "\n",
    "    for index, row in df.iterrows():\n",
    "\n",
    "        if df['subject_id'].iloc[index] == sbj:\n",
    "\n",
    "            try:\n",
    "                task_ind = find_index(tasks, df['task_name'].iloc[index])\n",
    "                # task_ind = tasks.index(df['task_name'].iloc[index])\n",
    "            except:\n",
    "                warnings.warn(f\"{df['task_name'].iloc[index]} is not found in tasks\")\n",
    "                continue\n",
    "\n",
    "            start_date = df.start_date[index].date()\n",
    "            width = timedelta(days=1)\n",
    "            height = 1\n",
    "            bottom_left = [start_date, task_ind]\n",
    "\n",
    "            # Create a Rectangle patch with rounded corners\n",
    "            rect = Rectangle(bottom_left, width, height,\n",
    "                linewidth = 2, edgecolor = [0.5, 0.5, 0.5],\n",
    "                facecolor=colors[task_ind], alpha=0.5,\n",
    "                clip_on=True, joinstyle='round')\n",
    "        \n",
    "            # Add the patch to the Axes\n",
    "            ax_flat[sbj_idx].add_patch(rect)\n",
    "\n",
    "  \n",
    "    # ax.set_xlim(auto=True)\n",
    "    ax_flat[sbj_idx].set_xlim(min_date, max_date )\n",
    "    ax_flat[sbj_idx].set_ylim(0,len(tasks))\n",
    "\n",
    "    date_fmt = mdates.DateFormatter('%Y-%m-%d')\n",
    "    ax_flat[sbj_idx].xaxis.set_major_locator(mdates.WeekdayLocator())\n",
    "    ax_flat[sbj_idx].xaxis.set_major_formatter(date_fmt)\n",
    "\n",
    "    ax_flat[sbj_idx].set_yticks([y + 0.5  for y in list(range(0, len(tasks)))])\n",
    "\n",
    "    ax_flat[sbj_idx].spines['top'].set_visible(False)\n",
    "    ax_flat[sbj_idx].spines['right'].set_visible(False)\n",
    "\n",
    "for label in ax[-1,0].get_xticklabels():\n",
    "    label.set_rotation(90)\n",
    "\n",
    "for label in ax[-1,1].get_xticklabels():\n",
    "    label.set_rotation(90)\n",
    "\n",
    "ax[-1,0].set_yticks([y + 0.5  for y in list(range(0, len(yalabels)))], yalabels)\n",
    "plt.subplots_adjust(hspace=0.4)\n",
    "\n",
    "plt.show()\n"
   ]
  }
 ],
 "metadata": {
  "kernelspec": {
   "display_name": "trialexp",
   "language": "python",
   "name": "python3"
  },
  "language_info": {
   "codemirror_mode": {
    "name": "ipython",
    "version": 3
   },
   "file_extension": ".py",
   "mimetype": "text/x-python",
   "name": "python",
   "nbconvert_exporter": "python",
   "pygments_lexer": "ipython3",
   "version": "3.8.13"
  },
  "orig_nbformat": 4,
  "vscode": {
   "interpreter": {
    "hash": "0d1e031f6f376662b97d9f481efb02d044bc4a5d17f5aae0c7d7abfcc2e5ac1c"
   }
  }
 },
 "nbformat": 4,
 "nbformat_minor": 2
}
