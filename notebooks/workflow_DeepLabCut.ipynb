{
 "cells": [
  {
   "cell_type": "markdown",
   "metadata": {},
   "source": [
    "## Workflow to analyze DeepLabCut data"
   ]
  },
  {
   "cell_type": "markdown",
   "metadata": {},
   "source": [
    "### Imports"
   ]
  },
  {
   "cell_type": "code",
   "execution_count": 1,
   "metadata": {},
   "outputs": [
    {
     "name": "stdout",
     "output_type": "stream",
     "text": [
      "Warning : sktime package not installed, this is `only an issue\n",
      "        if you want to export datasets to perform Maching Learning tasks.\n",
      "        To solve, type pip install sktime in your environment\n"
     ]
    }
   ],
   "source": [
    "# Import Session and Experiment class with helper functions\n",
    "%load_ext autoreload\n",
    "%autoreload 2 \n",
    "\n",
    "# Import Session and Experiment class with helper functions\n",
    "from trialexp.process.data_import import *"
   ]
  },
  {
   "cell_type": "markdown",
   "metadata": {},
   "source": [
    "### Variables"
   ]
  },
  {
   "cell_type": "code",
   "execution_count": null,
   "metadata": {},
   "outputs": [],
   "source": [
    "import pandas as pd\n",
    "\n",
    "trial_window = [-2000, 6000] # in ms\n",
    "\n",
    "# time limit around trigger to perform an event\n",
    "# determine successful trials\n",
    "timelim = [0, 4000] # in ms\n",
    "\n",
    "# Digital channel nb of the pyphotometry device\n",
    "# on which rsync signal is sent (from pycontrol device)\n",
    "rsync_chan = 2\n",
    "\n",
    "basefolder, _ = os.path.split(os.getcwd())\n",
    "\n",
    "# These must be absolute paths\n",
    "# use this to use within package tasks files (in params)\n",
    "tasksfile = os.path.join(basefolder,'params/tasks_params.csv')\n",
    "# use this to put a local full path\n",
    "#tasksfile = -r'C:/.../tasks_params.csv' \n",
    "\n",
    "photometry_dir = r'\\\\ettin\\Magill_Lab\\Julien\\Data\\head-fixed\\test_folder\\photometry'\n",
    "video_dir = r'\\\\ettin\\Magill_Lab\\Julien\\Data\\head-fixed\\videos'"
   ]
  },
  {
   "cell_type": "markdown",
   "metadata": {},
   "source": [
    "### Tasks\n",
    "- A tasks definition file (.csv) contains all the information to perform the extractions of behaviorally relevant information from **PyControl** files, for each **task** file. It includes what are the **triggers** of different trial types, what **events** to extract (with time data), and what are events or printed lines that could be relevant to determine the **conditions** (e.g: free reward, optogenetic stimulation type, etc.)\n",
    "- To analyze a new task you need to append task characteristics like **task** filename, **triggers**, **events** and **conditions**"
   ]
  },
  {
   "cell_type": "code",
   "execution_count": null,
   "metadata": {},
   "outputs": [
    {
     "data": {
      "text/html": [
       "<div>\n",
       "<style scoped>\n",
       "    .dataframe tbody tr th:only-of-type {\n",
       "        vertical-align: middle;\n",
       "    }\n",
       "\n",
       "    .dataframe tbody tr th {\n",
       "        vertical-align: top;\n",
       "    }\n",
       "\n",
       "    .dataframe thead th {\n",
       "        text-align: right;\n",
       "    }\n",
       "</style>\n",
       "<table border=\"1\" class=\"dataframe\">\n",
       "  <thead>\n",
       "    <tr style=\"text-align: right;\">\n",
       "      <th></th>\n",
       "      <th>task</th>\n",
       "      <th>triggers</th>\n",
       "      <th>events</th>\n",
       "      <th>conditions</th>\n",
       "    </tr>\n",
       "  </thead>\n",
       "  <tbody>\n",
       "    <tr>\n",
       "      <th>0</th>\n",
       "      <td>lick_go_nogo</td>\n",
       "      <td>go; nogo</td>\n",
       "      <td>bar; bar_off; spout</td>\n",
       "      <td>free_reward</td>\n",
       "    </tr>\n",
       "    <tr>\n",
       "      <th>1</th>\n",
       "      <td>lick_go_nogo_unconditionned</td>\n",
       "      <td>go; nogo</td>\n",
       "      <td>bar; bar_off; spout</td>\n",
       "      <td>free_reward</td>\n",
       "    </tr>\n",
       "    <tr>\n",
       "      <th>2</th>\n",
       "      <td>lick_go_nogo_unconditionned_opto</td>\n",
       "      <td>go; nogo</td>\n",
       "      <td>bar; bar_off; spout</td>\n",
       "      <td>free_reward</td>\n",
       "    </tr>\n",
       "    <tr>\n",
       "      <th>3</th>\n",
       "      <td>reaching_go_nogo</td>\n",
       "      <td>CS_Go; CS_NoGo</td>\n",
       "      <td>bar; bar_off; spout</td>\n",
       "      <td>error bar_off; reward bar_off; error free; rew...</td>\n",
       "    </tr>\n",
       "    <tr>\n",
       "      <th>4</th>\n",
       "      <td>reaching_go_nogo_jc</td>\n",
       "      <td>CS_plus; CS_minus</td>\n",
       "      <td>bar; bar_off; spout</td>\n",
       "      <td>error bar_off; reward bar_off; error free; rew...</td>\n",
       "    </tr>\n",
       "    <tr>\n",
       "      <th>5</th>\n",
       "      <td>reaching_go_nogo_opto_continuous</td>\n",
       "      <td>CS_Go; CS_NoGo</td>\n",
       "      <td>bar; bar_off; spout</td>\n",
       "      <td>s_nogo_sham; s_nogo_cs_onset; s_go_sham; s_go_...</td>\n",
       "    </tr>\n",
       "    <tr>\n",
       "      <th>6</th>\n",
       "      <td>reaching_go_nogo_opto_sinusoid</td>\n",
       "      <td>CS_Go; CS_NoGo</td>\n",
       "      <td>bar; bar_off; spout</td>\n",
       "      <td>s_nogo_sham; s_nogo_cs_onset_2; s_nogo_cs_onse...</td>\n",
       "    </tr>\n",
       "    <tr>\n",
       "      <th>7</th>\n",
       "      <td>reaching_go_nogo_opto_sinusoid_spout</td>\n",
       "      <td>CS_Go; CS_NoGo</td>\n",
       "      <td>bar; bar_off; spout</td>\n",
       "      <td>s_nogo_sham; s_nogo_cs_onset_2; s_nogo_cs_onse...</td>\n",
       "    </tr>\n",
       "    <tr>\n",
       "      <th>8</th>\n",
       "      <td>reaching_go_nogo_reversal</td>\n",
       "      <td>CS_Go; CS_NoGo</td>\n",
       "      <td>bar; bar_off; spout</td>\n",
       "      <td>error bar_off; reward bar_off; error free; rew...</td>\n",
       "    </tr>\n",
       "    <tr>\n",
       "      <th>9</th>\n",
       "      <td>reaching_go_nogo_reversal_incentive</td>\n",
       "      <td>CS_Go; CS_NoGo</td>\n",
       "      <td>bar; bar_off; spout</td>\n",
       "      <td>error bar_off; reward bar_off; error free; rew...</td>\n",
       "    </tr>\n",
       "    <tr>\n",
       "      <th>10</th>\n",
       "      <td>reaching_go_nogo_touch_spout</td>\n",
       "      <td>CS_Go; CS_NoGo</td>\n",
       "      <td>bar; bar_off; spout</td>\n",
       "      <td>error bar_off; reward bar_off; error free; rew...</td>\n",
       "    </tr>\n",
       "    <tr>\n",
       "      <th>11</th>\n",
       "      <td>reaching_test</td>\n",
       "      <td>us_deliver</td>\n",
       "      <td>bar; bar_off; spout</td>\n",
       "      <td>free_reward</td>\n",
       "    </tr>\n",
       "    <tr>\n",
       "      <th>12</th>\n",
       "      <td>reaching_test_CS</td>\n",
       "      <td>CS_plus; CS_minus</td>\n",
       "      <td>bar; bar_off; spout</td>\n",
       "      <td>free_reward</td>\n",
       "    </tr>\n",
       "    <tr>\n",
       "      <th>13</th>\n",
       "      <td>reaching_yp</td>\n",
       "      <td>reward_presentation</td>\n",
       "      <td>bar; bar_off; spout</td>\n",
       "      <td>free_reward</td>\n",
       "    </tr>\n",
       "    <tr>\n",
       "      <th>14</th>\n",
       "      <td>train_CSgo_US_coterminated</td>\n",
       "      <td>Go</td>\n",
       "      <td>bar; bar_off; spout</td>\n",
       "      <td>free_reward</td>\n",
       "    </tr>\n",
       "    <tr>\n",
       "      <th>15</th>\n",
       "      <td>train_Go_CS-US_pavlovian</td>\n",
       "      <td>Go</td>\n",
       "      <td>bar; bar_off; spout</td>\n",
       "      <td>free_reward</td>\n",
       "    </tr>\n",
       "    <tr>\n",
       "      <th>16</th>\n",
       "      <td>train_Go_CS-US_pavlovian_with_bar</td>\n",
       "      <td>CS_Go</td>\n",
       "      <td>bar; bar_off; spout</td>\n",
       "      <td>free_reward</td>\n",
       "    </tr>\n",
       "    <tr>\n",
       "      <th>17</th>\n",
       "      <td>reaching_go_spout_cued_uncued</td>\n",
       "      <td>CS_Go</td>\n",
       "      <td>bar; bar_off; spout</td>\n",
       "      <td>free_reward_timer; reward spout cued; reward b...</td>\n",
       "    </tr>\n",
       "  </tbody>\n",
       "</table>\n",
       "</div>"
      ],
      "text/plain": [
       "                                    task             triggers  \\\n",
       "0                           lick_go_nogo             go; nogo   \n",
       "1            lick_go_nogo_unconditionned             go; nogo   \n",
       "2       lick_go_nogo_unconditionned_opto             go; nogo   \n",
       "3                       reaching_go_nogo       CS_Go; CS_NoGo   \n",
       "4                    reaching_go_nogo_jc    CS_plus; CS_minus   \n",
       "5       reaching_go_nogo_opto_continuous       CS_Go; CS_NoGo   \n",
       "6         reaching_go_nogo_opto_sinusoid       CS_Go; CS_NoGo   \n",
       "7   reaching_go_nogo_opto_sinusoid_spout       CS_Go; CS_NoGo   \n",
       "8              reaching_go_nogo_reversal       CS_Go; CS_NoGo   \n",
       "9    reaching_go_nogo_reversal_incentive       CS_Go; CS_NoGo   \n",
       "10          reaching_go_nogo_touch_spout       CS_Go; CS_NoGo   \n",
       "11                         reaching_test           us_deliver   \n",
       "12                      reaching_test_CS    CS_plus; CS_minus   \n",
       "13                           reaching_yp  reward_presentation   \n",
       "14            train_CSgo_US_coterminated                   Go   \n",
       "15              train_Go_CS-US_pavlovian                   Go   \n",
       "16     train_Go_CS-US_pavlovian_with_bar                CS_Go   \n",
       "17         reaching_go_spout_cued_uncued                CS_Go   \n",
       "\n",
       "                 events                                         conditions  \n",
       "0   bar; bar_off; spout                                        free_reward  \n",
       "1   bar; bar_off; spout                                        free_reward  \n",
       "2   bar; bar_off; spout                                        free_reward  \n",
       "3   bar; bar_off; spout  error bar_off; reward bar_off; error free; rew...  \n",
       "4   bar; bar_off; spout  error bar_off; reward bar_off; error free; rew...  \n",
       "5   bar; bar_off; spout  s_nogo_sham; s_nogo_cs_onset; s_go_sham; s_go_...  \n",
       "6   bar; bar_off; spout  s_nogo_sham; s_nogo_cs_onset_2; s_nogo_cs_onse...  \n",
       "7   bar; bar_off; spout  s_nogo_sham; s_nogo_cs_onset_2; s_nogo_cs_onse...  \n",
       "8   bar; bar_off; spout  error bar_off; reward bar_off; error free; rew...  \n",
       "9   bar; bar_off; spout  error bar_off; reward bar_off; error free; rew...  \n",
       "10  bar; bar_off; spout  error bar_off; reward bar_off; error free; rew...  \n",
       "11  bar; bar_off; spout                                        free_reward  \n",
       "12  bar; bar_off; spout                                        free_reward  \n",
       "13  bar; bar_off; spout                                        free_reward  \n",
       "14  bar; bar_off; spout                                        free_reward  \n",
       "15  bar; bar_off; spout                                        free_reward  \n",
       "16  bar; bar_off; spout                                        free_reward  \n",
       "17  bar; bar_off; spout  free_reward_timer; reward spout cued; reward b...  "
      ]
     },
     "metadata": {},
     "output_type": "display_data"
    }
   ],
   "source": [
    "tasks = pd.read_csv(tasksfile, usecols = [1,2,3,4], index_col = False)\n",
    "tasks"
   ]
  },
  {
   "cell_type": "markdown",
   "metadata": {},
   "source": [
    "### Create an experiment object\n",
    "\n",
    "This will include all the pycontrol files present in the folder_path directory (do not include subdirectories)"
   ]
  },
  {
   "cell_type": "code",
   "execution_count": null,
   "metadata": {},
   "outputs": [],
   "source": [
    "# Folder of a full experimental batch, all animals included\n",
    "\n",
    "# Enter absolute path like this\n",
    "# pycontrol_files_path = r'T:\\Data\\head-fixed\\test_folder\\pycontrol'\n",
    "\n",
    "# or this if you want to use data from the sample_data folder within the package\n",
    "pycontrol_files_path = os.path.join(basefolder,'sample_data/pycontrol')\n",
    "# Load all raw text sessions in the indicated folder or a sessions.pkl file\n",
    "# if already existing in folder_path\n",
    "exp_cohort = Experiment(pycontrol_files_path)\n",
    "\n",
    "# Only use if the Experiment cohort as been processed by trials before\n",
    "# TODO: assess whether this can be removed or not\n",
    "exp_cohort.by_trial = True"
   ]
  },
  {
   "cell_type": "markdown",
   "metadata": {},
   "source": [
    "### Perform extraction of behavioural information by trial"
   ]
  },
  {
   "cell_type": "code",
   "execution_count": null,
   "metadata": {},
   "outputs": [],
   "source": [
    "# Process the whole experimental folder by trials\n",
    "exp_cohort.process_exp_by_trial(trial_window, timelim, tasksfile)\n",
    "\n",
    "# Save the file as sessions.pkl in folder_path\n",
    "exp_cohort.save()"
   ]
  },
  {
   "cell_type": "markdown",
   "metadata": {},
   "source": [
    "### Match with photometry, videos, and DeepLabCut files"
   ]
  },
  {
   "cell_type": "code",
   "execution_count": null,
   "metadata": {},
   "outputs": [],
   "source": [
    "# Find if there is a matching photometry file and if it can be used:\n",
    "# rsync synchronization pulses matching between behaviour and photometry\n",
    "exp_cohort.match_to_photometry_files(photometry_dir, rsync_chan, verbose=False)\n",
    "\n",
    "# Find matching videos\n",
    "exp_cohort.match_sessions_to_files(video_dir, ext='mp4')\n",
    "\n",
    "# FInd matching DeepLabCut outputs files\n",
    "exp_cohort.match_sessions_to_files(video_dir, ext='h5', verbose=True)\n",
    "\n",
    "exp_cohort.save()\n"
   ]
  },
  {
   "cell_type": "markdown",
   "metadata": {},
   "source": [
    "### Define conditions and groups for extraction"
   ]
  },
  {
   "cell_type": "code",
   "execution_count": 5,
   "metadata": {},
   "outputs": [],
   "source": [
    "# Defime each trial type as a dictionary of conditions to be met\n",
    "# Defime each trial type as a dictionary of conditions to be met\n",
    "conditions_dict1 = {'trigger': 'CS_Go', 'valid': True, 'success': True, 'error bar_off': False, 'reward free': False, 'button_press': False}\n",
    "conditions_dict2 = {'trigger': 'CS_Go', 'valid': True, 'success': False, 'error bar_off': False, 'reward free': False, 'button_press': False}\n",
    "conditions_dict3 = {'trigger': 'CS_NoGo', 'valid': True, 'success': True, 'button_press': False}\n",
    "conditions_dict4 = {'trigger': 'CS_NoGo', 'valid': True, 'success': False, 'button_press': False}\n",
    "# Aggregate all condition dictionaries in a list\n",
    "condition_list = [conditions_dict1, conditions_dict2, conditions_dict3, conditions_dict4]\n",
    "# Aliases for conditions\n",
    "cond_aliases = ['Go hit', 'Go miss', 'NoGo hit', 'NoGo miss']\n",
    "# Groups as a list of lists\n",
    "# groups = [[280, 281, 282, 289],[295, 282, 284, 285, 292, 297]]\n",
    "groups = None\n",
    "\n",
    "# Window to exctract (in ms)\n",
    "trial_window = [-2000, 6000]\n",
    "\n",
    "\n",
    "\n"
   ]
  },
  {
   "cell_type": "markdown",
   "metadata": {},
   "source": [
    "Another example, for Go-NoGo optogenetic protocol"
   ]
  },
  {
   "cell_type": "code",
   "execution_count": 117,
   "metadata": {},
   "outputs": [],
   "source": [
    "conditions_dict0 = {'trigger': 'CS_Go', 'valid': True, 's_go_sham': True}\n",
    "conditions_dict1 = {'trigger': 'CS_Go', 'valid': True, 's_go_cs_onset': True}\n",
    "conditions_dict2 = {'trigger': 'CS_Go', 'valid': True, 's_go_bar_off': True}\n",
    "conditions_dict3 = {'trigger': 'CS_Go', 'valid': True, 's_go_spout': True}\n",
    "conditions_dict4 = {'trigger': 'CS_Go', 'valid': True, 's_go_error_sham': True}\n",
    "conditions_dict5 = {'trigger': 'CS_Go', 'valid': True, 's_go_error_bar_off': True}\n",
    "conditions_dict6 = {'trigger': 'CS_NoGo', 'valid': True, 's_nogo_sham': True}\n",
    "conditions_dict7 = {'trigger': 'CS_NoGo', 'valid': True, 's_nogo_cs_onset': True}\n",
    "\n",
    "# Aggregate all condition dictionaries in a list\n",
    "condition_list = [conditions_dict0, conditions_dict1, conditions_dict2, conditions_dict3, \\\n",
    "    conditions_dict4, conditions_dict5, conditions_dict6, conditions_dict7]\n",
    "# Aliases for conditions\n",
    "cond_aliases = ['Go sham', 'Go onset', 'Go bar release', \\\n",
    "    'Go spout', 'Go error sham', 'Go error bar_off', 'NoGo sham', 'NoGo onset']\n",
    "# Groups as a list of lists\n",
    "groups = [[280, 282, 283, 294, 295, 299, 300, 301, 302, 303, 304, 305],\\\n",
    "    [284, 285, 296, 297, 306, 307],[289,290,291,292,293]]\n",
    "\n",
    "# right_handed = [281]\n",
    "# groups = [[280, 282, 299, 300, 301],\\\n",
    "#     [284, 285, 296, 297, 306, 307]]\n",
    "# Window to exctract (in ms)\n",
    "trial_window = [-2000, 6000]"
   ]
  },
  {
   "cell_type": "markdown",
   "metadata": {},
   "source": [
    "Example in progress for Cued-Uncued"
   ]
  },
  {
   "cell_type": "code",
   "execution_count": null,
   "metadata": {},
   "outputs": [],
   "source": [
    "# List of uncued conditions as listed on the tasks .csv file for task reaching_go_spout_cued_uncued:\n",
    "# free_reward_timer; reward spout cued; reward bar cued; reward bar_off; reward spout uncued; reward bar uncued; reward free; reward free_uncued\n",
    "\n",
    "# Many combinations possible\n",
    "conditions_dict0 = {'trigger': 'cued', 'valid': True, 'reward spout cued': True, 'free_reward_timer': False, 'success': True}\n",
    "conditions_dict1 = {'trigger': 'cued', 'valid': True, 'reward bar cued': True, 'free_reward_timer': False, 'success': True}\n",
    "conditions_dict2 = {'trigger': 'cued', 'valid': True, 'success': False}\n",
    "conditions_dict3 = {'trigger': 'uncued', 'valid': True, 'success': False}\n",
    "conditions_dict4 = {'trigger': 'uncued', 'valid': True, 'reward spout uncued': True, 'free_reward_timer': False, 'success': True}\n",
    "conditions_dict5 = {'trigger': 'uncued', 'valid': True, 'reward bar cued': True, 'free_reward_timer': False, 'success': True}\n",
    "\n",
    "# Aggregate all condition dictionaries in a list\n",
    "condition_list = [conditions_dict0, conditions_dict1, conditions_dict2, conditions_dict3, \\\n",
    "    conditions_dict4, conditions_dict5]\n",
    "# Aliases for conditions\n",
    "cond_aliases = ['Cued spout hit', 'Cued bar hit', 'Cued miss', \\\n",
    "    'Uncued miss', 'Uncued spout hit', 'Uncued bar hit']\n",
    "# Groups as a list of lists\n",
    "groups = None\n",
    "\n",
    "# right_handed = [281]\n",
    "# groups = [[280, 282, 299, 300, 301],\\\n",
    "#     [284, 285, 296, 297, 306, 307]]\n",
    "# Window to exctract (in ms)\n",
    "trial_window = [-2000, 6000]"
   ]
  },
  {
   "cell_type": "markdown",
   "metadata": {},
   "source": [
    "### Set DeepLabCut bodyparts to compute paws centroids"
   ]
  },
  {
   "cell_type": "code",
   "execution_count": 158,
   "metadata": {},
   "outputs": [],
   "source": [
    "# Name of the labelled body parts from both upper limbs\n",
    "# The bodyparts from which we draw here are user-defined\n",
    "# when creating a new DeepLabCut project (config.yaml)\n",
    "\n",
    "L_paw_parts  = ['MCP II', 'MCP III', 'MCP IV', 'MCP V', 'IP II', 'IP III', \\\n",
    "    'IP IV', 'IP V', 'tip II', 'tip III', 'tip IV', 'tip V'] \n",
    "\n",
    "R_paw_parts = ['r MCP II', 'r MCP III', 'r MCP IV', 'r MCP V', 'r IP II', \\\n",
    "    'r IP III', 'r IP IV', 'r IP V', 'r tip II', 'r tip III', 'r tip IV', 'r tip V']\n",
    "\n",
    "names_of_ave_regions = ['Left_paw','Right_paw']"
   ]
  },
  {
   "cell_type": "markdown",
   "metadata": {},
   "source": [
    "### Extract DeepLabCut trials and create a Continuous_Dataset"
   ]
  },
  {
   "cell_type": "code",
   "execution_count": null,
   "metadata": {},
   "outputs": [],
   "source": [
    "cont_dataset = exp_cohort.get_deeplabcut_groups(\n",
    "        groups = None,\n",
    "        conditions_list = condition_list,\n",
    "        cond_aliases = cond_aliases,\n",
    "        when='all', \n",
    "        task_names = ['reaching_go_nogo'],\n",
    "        bodyparts_to_ave = [L_paw_parts, R_paw_parts],\n",
    "        names_of_ave_regions = ['Left_paw','Right_paw'], \n",
    "        bodyparts_to_store = ['spout', 'jaw', 'ear', 'tongue', 'tip III',  'IP III', 'MCP III'],\n",
    "        normalize_between = ['Left_paw', 'spout'],\n",
    "        bins_nb = 100,\n",
    "        three_dims = False, \n",
    "        p_thresh = 0.9,\n",
    "        camera_fps = 100, # not yet functional\n",
    "        camera_keyword = 'Side', \n",
    "        trig_on_ev = None, \n",
    "        verbose = True)\n"
   ]
  },
  {
   "cell_type": "markdown",
   "metadata": {},
   "source": [
    "### Save DLC Dataset"
   ]
  },
  {
   "cell_type": "code",
   "execution_count": null,
   "metadata": {},
   "outputs": [],
   "source": [
    "folder_path = r'C:\\Users\\phar0732\\Documents\\GitHub\\pycontrol_share\\outputs'\n",
    "\n",
    "cont_dataset.save(folder_path, 'DLC_dataset_gonogo')"
   ]
  },
  {
   "cell_type": "markdown",
   "metadata": {},
   "source": [
    "### Reload a pre-existing dataset"
   ]
  },
  {
   "cell_type": "code",
   "execution_count": 110,
   "metadata": {},
   "outputs": [],
   "source": [
    "dataset_full_path = r'C:\\Users\\phar0732\\Documents\\GitHub\\pycontrol_share\\outputs\\DLC_dataset_opto_continuous_full.pkl'\n",
    "cont_dataset = load_dataset(dataset_full_path)"
   ]
  },
  {
   "cell_type": "markdown",
   "metadata": {},
   "source": [
    "Metadata preview"
   ]
  },
  {
   "cell_type": "code",
   "execution_count": null,
   "metadata": {},
   "outputs": [],
   "source": [
    "cont_dataset.metadata_df.head()"
   ]
  },
  {
   "cell_type": "markdown",
   "metadata": {},
   "source": [
    "### Optional methods\n",
    "\n",
    "- Implementation of these optional filtering options is first understood as removing subjects, groups, conditions...\n",
    "- It is a non-permanent way of discarding elements for analysis\n",
    "- It is based on a \"keep\" column in the metadata that is True by default and set to False with the filtering function.\n",
    "- At anytime, <trial_dataset>.filter_reset() can be called to re-include all the elements in the analysis (set all \"keep\" to True)\n",
    "- Comment or uncomment lines and fill the lists according to your needs"
   ]
  },
  {
   "cell_type": "code",
   "execution_count": null,
   "metadata": {},
   "outputs": [],
   "source": [
    "# Get a list of the groups\n",
    "cont_dataset.get_groups()\n",
    "# Get a list of the variables\n",
    "cont_dataset.get_col_names()\n",
    "\n",
    "# reset previous filtering of the dataset\n",
    "cont_dataset.filter_reset()\n",
    "\n",
    "# exclude some conditions by IDs\n",
    "cont_dataset.filter_conditions([])\n",
    "\n",
    "# exclude some groups by IDs\n",
    "cont_dataset.filter_groups([])\n",
    "\n",
    "# exclude some subjects\n",
    "cont_dataset.filter_subjects([0, 1])\n",
    "#     subjects_IDs_to_exclude = [289, 290, 293, 294, 295, 299, 301, 303, 304, 305, 306])\n",
    "\n",
    "# filter subjects/sessions with less than x trials (for each condition separately)\n",
    "cont_dataset.filter_min(min_trials = 1)\n",
    "\n",
    "# To remove subjects who do not have trials\n",
    "# in all the conditions, if called after filter_min(),\n",
    "# will discard any subject who do not have the minimum number\n",
    "# of trials in all the conditions\n",
    "\n",
    "# cont_dataset.filter_if_not_in_all_cond()\n"
   ]
  },
  {
   "cell_type": "markdown",
   "metadata": {},
   "source": [
    "### Plot DeepLabCut position by conditions"
   ]
  },
  {
   "cell_type": "code",
   "execution_count": 378,
   "metadata": {},
   "outputs": [
    {
     "name": "stdout",
     "output_type": "stream",
     "text": [
      " conditions Int64Index([0, 1, 2, 3], dtype='int64', name='condition_ID') groups Int64Index([0], dtype='int64', name='group_ID')\n"
     ]
    },
    {
     "data": {
      "image/png": "[encoded data removed]",
      "text/plain": [
       "<Figure size 500x500 with 1 Axes>"
      ]
     },
     "metadata": {
      "needs_background": "light"
     },
     "output_type": "display_data"
    },
    {
     "data": {
      "text/plain": [
       "True     2800\n",
       "False     628\n",
       "Name: keep, dtype: int64"
      ]
     },
     "execution_count": 378,
     "metadata": {},
     "output_type": "execute_result"
    }
   ],
   "source": [
    "### Plot the photometry by condition\n",
    "cont_dataset.set_trial_window([-2, 6], 's')\n",
    "cont_dataset.set_conditions(condition_list, cond_aliases)\n",
    "cont_dataset.lineplot(\n",
    "    vars = ['Left_paw_x'],\n",
    "    time_lim = [-2000, 6000],\n",
    "    time_unit = 'milliseconds',\n",
    "    error = True,\n",
    "    ylim = [[-0.05, 0.8]], #[[-0.1, 1]],#,[-0.005, 0.007]],#[[-0.001, 0.0011],[-0.001, 0.0011]],\n",
    "    colormap = 'jet',\n",
    "    legend = True,\n",
    "    plot_subjects = False,\n",
    "    plot_groups = True,\n",
    "    figsize = (5,5),\n",
    "    dpi = 100,\n",
    "    verbose = False)\n",
    "\n",
    "# Return a count of overall number of trials\n",
    "cont_dataset.metadata_df['keep'].value_counts()\n"
   ]
  },
  {
   "cell_type": "markdown",
   "metadata": {},
   "source": [
    "Example line to count how many trials are included for subject 307"
   ]
  },
  {
   "cell_type": "code",
   "execution_count": 276,
   "metadata": {},
   "outputs": [
    {
     "data": {
      "text/plain": [
       "True     308\n",
       "False    233\n",
       "Name: keep, dtype: int64"
      ]
     },
     "execution_count": 276,
     "metadata": {},
     "output_type": "execute_result"
    }
   ],
   "source": [
    "cont_dataset.metadata_df.keep[cont_dataset.metadata_df.subject_ID == 307].value_counts()"
   ]
  }
 ],
 "metadata": {
  "kernelspec": {
   "display_name": "Python 3.8.13 ('trialexp')",
   "language": "python",
   "name": "python3"
  },
  "language_info": {
   "codemirror_mode": {
    "name": "ipython",
    "version": 3
   },
   "file_extension": ".py",
   "mimetype": "text/x-python",
   "name": "python",
   "nbconvert_exporter": "python",
   "pygments_lexer": "ipython3",
   "version": "3.8.13"
  },
  "orig_nbformat": 4,
  "vscode": {
   "interpreter": {
    "hash": "f8dbe4d204ab54e7ae98709358ed3437388b3add0590ff012afcdf169e30a7e9"
   }
  }
 },
 "nbformat": 4,
 "nbformat_minor": 2
}
