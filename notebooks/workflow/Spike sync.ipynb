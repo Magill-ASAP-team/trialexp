{
 "cells": [
  {
   "cell_type": "markdown",
   "id": "55fe8fb2-bb5b-44c5-8eb4-70d5b4864122",
   "metadata": {},
   "source": [
    "# Syncing spike data with pycontrol"
   ]
  },
  {
   "cell_type": "code",
   "execution_count": 6,
   "id": "4ac9faf2-a4ab-4975-8d6f-f14d7da481a8",
   "metadata": {
    "tags": []
   },
   "outputs": [],
   "source": [
    "import spikeinterface.full as si\n",
    "\n",
    "import numpy as np\n",
    "import matplotlib.pyplot as plt\n",
    "from pathlib import Path"
   ]
  },
  {
   "cell_type": "code",
   "execution_count": 7,
   "id": "da0e857d-9a63-4e51-b57a-4f26ad859e80",
   "metadata": {
    "tags": []
   },
   "outputs": [],
   "source": [
    "base = '/home/MRC.OX.AC.UK/ndcn1330/ettin'\n",
    "path = base+'/Julien/Data/head-fixed/openephys/JC318L_2022-12-15_14-55-31_dual/sorted/recording1/Record Node 101#Neuropix-PXI-100.ProbeA-AP/sorter_output'"
   ]
  },
  {
   "cell_type": "code",
   "execution_count": 8,
   "id": "76615710-395b-46df-979f-6e9198c86dce",
   "metadata": {
    "tags": []
   },
   "outputs": [
    {
     "data": {
      "text/plain": [
       "'/home/MRC.OX.AC.UK/ndcn1330/ettin/Julien/Data/head-fixed/openephys/JC318L_2022-12-15_14-55-31_dual/sorted/recording1/Record Node 101#Neuropix-PXI-100.ProbeA-AP/sorter_output'"
      ]
     },
     "execution_count": 8,
     "metadata": {},
     "output_type": "execute_result"
    }
   ],
   "source": [
    "path"
   ]
  },
  {
   "cell_type": "code",
   "execution_count": 9,
   "id": "ff591310-099b-4383-ac7b-baf24d3bc446",
   "metadata": {},
   "outputs": [
    {
     "ename": "PermissionError",
     "evalue": "[Errno 13] Permission denied: '/home/MRC.OX.AC.UK/phar0732/ettin/Data/Recordings/JC318L_2022-12-15_14-55-31_dual/temp/recording1/Record Node 101#Neuropix-PXI-100.ProbeA-AP/binary.json'",
     "output_type": "error",
     "traceback": [
      "\u001b[0;31m---------------------------------------------------------------------------\u001b[0m",
      "\u001b[0;31mPermissionError\u001b[0m                           Traceback (most recent call last)",
      "Cell \u001b[0;32mIn[9], line 2\u001b[0m\n\u001b[1;32m      1\u001b[0m \u001b[38;5;66;03m#load the spike extractor\u001b[39;00m\n\u001b[0;32m----> 2\u001b[0m extractor \u001b[38;5;241m=\u001b[39m \u001b[43msi\u001b[49m\u001b[38;5;241;43m.\u001b[39;49m\u001b[43mread_sorter_folder\u001b[49m\u001b[43m(\u001b[49m\u001b[43mpath\u001b[49m\u001b[43m)\u001b[49m\n",
      "File \u001b[0;32m~/miniconda3/envs/trialexp/lib/python3.9/site-packages/spikeinterface/sorters/runsorter.py:630\u001b[0m, in \u001b[0;36mread_sorter_folder\u001b[0;34m(output_folder, raise_error)\u001b[0m\n\u001b[1;32m    628\u001b[0m sorter_name \u001b[38;5;241m=\u001b[39m log[\u001b[38;5;124m'\u001b[39m\u001b[38;5;124msorter_name\u001b[39m\u001b[38;5;124m'\u001b[39m]\n\u001b[1;32m    629\u001b[0m SorterClass \u001b[38;5;241m=\u001b[39m sorter_dict[sorter_name]\n\u001b[0;32m--> 630\u001b[0m sorting \u001b[38;5;241m=\u001b[39m \u001b[43mSorterClass\u001b[49m\u001b[38;5;241;43m.\u001b[39;49m\u001b[43mget_result_from_folder\u001b[49m\u001b[43m(\u001b[49m\u001b[43moutput_folder\u001b[49m\u001b[43m)\u001b[49m\n\u001b[1;32m    631\u001b[0m \u001b[38;5;28;01mreturn\u001b[39;00m sorting\n",
      "File \u001b[0;32m~/miniconda3/envs/trialexp/lib/python3.9/site-packages/spikeinterface/sorters/basesorter.py:283\u001b[0m, in \u001b[0;36mBaseSorter.get_result_from_folder\u001b[0;34m(cls, output_folder)\u001b[0m\n\u001b[1;32m    278\u001b[0m     \u001b[38;5;28;01mraise\u001b[39;00m SpikeSortingError(\n\u001b[1;32m    279\u001b[0m         \u001b[38;5;124m\"\u001b[39m\u001b[38;5;124mSpike sorting failed. You can inspect the runtime trace in spikeinterface_log.json\u001b[39m\u001b[38;5;124m\"\u001b[39m)\n\u001b[1;32m    281\u001b[0m sorting \u001b[38;5;241m=\u001b[39m \u001b[38;5;28mcls\u001b[39m\u001b[38;5;241m.\u001b[39m_get_result_from_folder(output_folder)\n\u001b[0;32m--> 283\u001b[0m recording \u001b[38;5;241m=\u001b[39m \u001b[43mload_extractor\u001b[49m\u001b[43m(\u001b[49m\u001b[43moutput_folder\u001b[49m\u001b[43m \u001b[49m\u001b[38;5;241;43m/\u001b[39;49m\u001b[43m \u001b[49m\u001b[38;5;124;43m'\u001b[39;49m\u001b[38;5;124;43mspikeinterface_recording.json\u001b[39;49m\u001b[38;5;124;43m'\u001b[39;49m\u001b[43m)\u001b[49m\n\u001b[1;32m    284\u001b[0m \u001b[38;5;28;01mif\u001b[39;00m recording \u001b[38;5;129;01mis\u001b[39;00m \u001b[38;5;129;01mnot\u001b[39;00m \u001b[38;5;28;01mNone\u001b[39;00m:\n\u001b[1;32m    285\u001b[0m     \u001b[38;5;66;03m# can be None when not dumpable\u001b[39;00m\n\u001b[1;32m    286\u001b[0m     sorting\u001b[38;5;241m.\u001b[39mregister_recording(recording)\n",
      "File \u001b[0;32m~/miniconda3/envs/trialexp/lib/python3.9/site-packages/spikeinterface/core/base.py:906\u001b[0m, in \u001b[0;36mload_extractor\u001b[0;34m(file_or_folder_or_dict, base_folder)\u001b[0m\n\u001b[1;32m    904\u001b[0m     \u001b[38;5;28;01mreturn\u001b[39;00m BaseExtractor\u001b[38;5;241m.\u001b[39mfrom_dict(file_or_folder_or_dict, base_folder\u001b[38;5;241m=\u001b[39mbase_folder)\n\u001b[1;32m    905\u001b[0m \u001b[38;5;28;01melse\u001b[39;00m:\n\u001b[0;32m--> 906\u001b[0m     \u001b[38;5;28;01mreturn\u001b[39;00m \u001b[43mBaseExtractor\u001b[49m\u001b[38;5;241;43m.\u001b[39;49m\u001b[43mload\u001b[49m\u001b[43m(\u001b[49m\u001b[43mfile_or_folder_or_dict\u001b[49m\u001b[43m,\u001b[49m\u001b[43m \u001b[49m\u001b[43mbase_folder\u001b[49m\u001b[38;5;241;43m=\u001b[39;49m\u001b[43mbase_folder\u001b[49m\u001b[43m)\u001b[49m\n",
      "File \u001b[0;32m~/miniconda3/envs/trialexp/lib/python3.9/site-packages/spikeinterface/core/base.py:545\u001b[0m, in \u001b[0;36mBaseExtractor.load\u001b[0;34m(file_path, base_folder)\u001b[0m\n\u001b[1;32m    543\u001b[0m         \u001b[38;5;28mprint\u001b[39m(\u001b[38;5;124m'\u001b[39m\u001b[38;5;124mThe extractor was not dumpable\u001b[39m\u001b[38;5;124m'\u001b[39m)\n\u001b[1;32m    544\u001b[0m         \u001b[38;5;28;01mreturn\u001b[39;00m \u001b[38;5;28;01mNone\u001b[39;00m\n\u001b[0;32m--> 545\u001b[0m     extractor \u001b[38;5;241m=\u001b[39m \u001b[43mBaseExtractor\u001b[49m\u001b[38;5;241;43m.\u001b[39;49m\u001b[43mfrom_dict\u001b[49m\u001b[43m(\u001b[49m\u001b[43md\u001b[49m\u001b[43m,\u001b[49m\u001b[43m \u001b[49m\u001b[43mbase_folder\u001b[49m\u001b[38;5;241;43m=\u001b[39;49m\u001b[43mbase_folder\u001b[49m\u001b[43m)\u001b[49m\n\u001b[1;32m    546\u001b[0m     \u001b[38;5;28;01mreturn\u001b[39;00m extractor\n\u001b[1;32m    548\u001b[0m \u001b[38;5;28;01melif\u001b[39;00m file_path\u001b[38;5;241m.\u001b[39mis_dir():\n\u001b[1;32m    549\u001b[0m     \u001b[38;5;66;03m# case from a folder after a calling extractor.save(...)\u001b[39;00m\n",
      "File \u001b[0;32m~/miniconda3/envs/trialexp/lib/python3.9/site-packages/spikeinterface/core/base.py:372\u001b[0m, in \u001b[0;36mBaseExtractor.from_dict\u001b[0;34m(d, base_folder)\u001b[0m\n\u001b[1;32m    370\u001b[0m     \u001b[38;5;28;01massert\u001b[39;00m base_folder \u001b[38;5;129;01mis\u001b[39;00m \u001b[38;5;129;01mnot\u001b[39;00m \u001b[38;5;28;01mNone\u001b[39;00m, \u001b[38;5;124m'\u001b[39m\u001b[38;5;124mWhen  relative_paths=True, need to provide base_folder\u001b[39m\u001b[38;5;124m'\u001b[39m\n\u001b[1;32m    371\u001b[0m     d \u001b[38;5;241m=\u001b[39m _make_paths_absolute(d, base_folder)\n\u001b[0;32m--> 372\u001b[0m extractor \u001b[38;5;241m=\u001b[39m \u001b[43m_load_extractor_from_dict\u001b[49m\u001b[43m(\u001b[49m\u001b[43md\u001b[49m\u001b[43m)\u001b[49m\n\u001b[1;32m    373\u001b[0m folder_metadata \u001b[38;5;241m=\u001b[39m d\u001b[38;5;241m.\u001b[39mget(\u001b[38;5;124m'\u001b[39m\u001b[38;5;124mfolder_metadata\u001b[39m\u001b[38;5;124m'\u001b[39m, \u001b[38;5;28;01mNone\u001b[39;00m)\n\u001b[1;32m    374\u001b[0m \u001b[38;5;28;01mif\u001b[39;00m folder_metadata \u001b[38;5;129;01mis\u001b[39;00m \u001b[38;5;129;01mnot\u001b[39;00m \u001b[38;5;28;01mNone\u001b[39;00m:\n",
      "File \u001b[0;32m~/miniconda3/envs/trialexp/lib/python3.9/site-packages/spikeinterface/core/base.py:849\u001b[0m, in \u001b[0;36m_load_extractor_from_dict\u001b[0;34m(dic)\u001b[0m\n\u001b[1;32m    845\u001b[0m     \u001b[38;5;28mprint\u001b[39m(\u001b[38;5;124m'\u001b[39m\u001b[38;5;124mVersions are not the same. This might lead to errors. Use \u001b[39m\u001b[38;5;124m'\u001b[39m, class_name\u001b[38;5;241m.\u001b[39msplit(\u001b[38;5;124m'\u001b[39m\u001b[38;5;124m.\u001b[39m\u001b[38;5;124m'\u001b[39m)[\u001b[38;5;241m0\u001b[39m],\n\u001b[1;32m    846\u001b[0m           \u001b[38;5;124m'\u001b[39m\u001b[38;5;124mversion\u001b[39m\u001b[38;5;124m'\u001b[39m, dic[\u001b[38;5;124m'\u001b[39m\u001b[38;5;124mversion\u001b[39m\u001b[38;5;124m'\u001b[39m])\n\u001b[1;32m    848\u001b[0m \u001b[38;5;66;03m# instantiate extrator object\u001b[39;00m\n\u001b[0;32m--> 849\u001b[0m extractor \u001b[38;5;241m=\u001b[39m \u001b[38;5;28;43mcls\u001b[39;49m\u001b[43m(\u001b[49m\u001b[38;5;241;43m*\u001b[39;49m\u001b[38;5;241;43m*\u001b[39;49m\u001b[43mkwargs\u001b[49m\u001b[43m)\u001b[49m\n\u001b[1;32m    851\u001b[0m extractor\u001b[38;5;241m.\u001b[39m_annotations\u001b[38;5;241m.\u001b[39mupdate(dic[\u001b[38;5;124m'\u001b[39m\u001b[38;5;124mannotations\u001b[39m\u001b[38;5;124m'\u001b[39m])\n\u001b[1;32m    852\u001b[0m \u001b[38;5;28;01mfor\u001b[39;00m k, v \u001b[38;5;129;01min\u001b[39;00m dic[\u001b[38;5;124m'\u001b[39m\u001b[38;5;124mproperties\u001b[39m\u001b[38;5;124m'\u001b[39m]\u001b[38;5;241m.\u001b[39mitems():\n\u001b[1;32m    853\u001b[0m     \u001b[38;5;66;03m# print(k, v)\u001b[39;00m\n",
      "File \u001b[0;32m~/miniconda3/envs/trialexp/lib/python3.9/site-packages/spikeinterface/core/binaryfolder.py:37\u001b[0m, in \u001b[0;36mBinaryFolderRecording.__init__\u001b[0;34m(self, folder_path)\u001b[0m\n\u001b[1;32m     33\u001b[0m \u001b[38;5;28;01mdef\u001b[39;00m \u001b[38;5;21m__init__\u001b[39m(\u001b[38;5;28mself\u001b[39m,  folder_path):\n\u001b[1;32m     35\u001b[0m     folder_path \u001b[38;5;241m=\u001b[39m Path(folder_path)\n\u001b[0;32m---> 37\u001b[0m     \u001b[38;5;28;01mwith\u001b[39;00m \u001b[38;5;28;43mopen\u001b[39;49m\u001b[43m(\u001b[49m\u001b[43mfolder_path\u001b[49m\u001b[43m \u001b[49m\u001b[38;5;241;43m/\u001b[39;49m\u001b[43m \u001b[49m\u001b[38;5;124;43m'\u001b[39;49m\u001b[38;5;124;43mbinary.json\u001b[39;49m\u001b[38;5;124;43m'\u001b[39;49m\u001b[43m,\u001b[49m\u001b[43m \u001b[49m\u001b[38;5;124;43m'\u001b[39;49m\u001b[38;5;124;43mr\u001b[39;49m\u001b[38;5;124;43m'\u001b[39;49m\u001b[43m)\u001b[49m \u001b[38;5;28;01mas\u001b[39;00m f:\n\u001b[1;32m     38\u001b[0m         d \u001b[38;5;241m=\u001b[39m json\u001b[38;5;241m.\u001b[39mload(f)\n\u001b[1;32m     40\u001b[0m     \u001b[38;5;28;01mif\u001b[39;00m \u001b[38;5;129;01mnot\u001b[39;00m d[\u001b[38;5;124m'\u001b[39m\u001b[38;5;124mclass\u001b[39m\u001b[38;5;124m'\u001b[39m]\u001b[38;5;241m.\u001b[39mendswith(\u001b[38;5;124m'\u001b[39m\u001b[38;5;124m.BinaryRecordingExtractor\u001b[39m\u001b[38;5;124m'\u001b[39m):\n",
      "\u001b[0;31mPermissionError\u001b[0m: [Errno 13] Permission denied: '/home/MRC.OX.AC.UK/phar0732/ettin/Data/Recordings/JC318L_2022-12-15_14-55-31_dual/temp/recording1/Record Node 101#Neuropix-PXI-100.ProbeA-AP/binary.json'"
     ]
    }
   ],
   "source": [
    "#load the spike extractor\n",
    "extractor = si.read_sorter_folder(path)"
   ]
  },
  {
   "cell_type": "code",
   "execution_count": null,
   "id": "82296a4d-2e39-4ba7-be9a-59553034589d",
   "metadata": {},
   "outputs": [],
   "source": []
  }
 ],
 "metadata": {
  "kernelspec": {
   "display_name": "Python 3 (ipykernel)",
   "language": "python",
   "name": "python3"
  },
  "language_info": {
   "codemirror_mode": {
    "name": "ipython",
    "version": 3
   },
   "file_extension": ".py",
   "mimetype": "text/x-python",
   "name": "python",
   "nbconvert_exporter": "python",
   "pygments_lexer": "ipython3",
   "version": "3.9.16"
  }
 },
 "nbformat": 4,
 "nbformat_minor": 5
}
