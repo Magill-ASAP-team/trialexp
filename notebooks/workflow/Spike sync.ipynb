{
 "cells": [
  {
   "cell_type": "markdown",
   "id": "55fe8fb2-bb5b-44c5-8eb4-70d5b4864122",
   "metadata": {},
   "source": [
    "# Syncing spike data with pycontrol"
   ]
  },
  {
   "cell_type": "code",
   "execution_count": 1,
   "id": "4ac9faf2-a4ab-4975-8d6f-f14d7da481a8",
   "metadata": {
    "tags": []
   },
   "outputs": [],
   "source": [
    "%reload_ext autoreload\n",
    "%autoreload 2\n",
    "\n",
    "import spikeinterface.full as si\n",
    "\n",
    "import numpy as np\n",
    "import matplotlib.pyplot as plt\n",
    "from pathlib import Path\n",
    "import os\n",
    "import matplotlib.pylab as plt \n",
    "from tqdm.auto import tqdm\n",
    "from trialexp.process.pyphotometry.utils import *\n",
    "from trialexp.utils.ephys_utilities import create_sync_photo_ephys\n",
    "import pandas as pd \n",
    "import xarray as xr\n",
    "from trialexp.process.pycontrol import event_filters\n",
    "import seaborn as sns\n",
    "from mpl_toolkits.axes_grid1 import make_axes_locatable\n"
   ]
  },
  {
   "cell_type": "code",
   "execution_count": 2,
   "id": "71bb29bb-0ccb-469c-935c-00c1751f04e0",
   "metadata": {},
   "outputs": [],
   "source": [
    "sel_probe = 'ProbeA'"
   ]
  },
  {
   "cell_type": "code",
   "execution_count": 3,
   "id": "da0e857d-9a63-4e51-b57a-4f26ad859e80",
   "metadata": {
    "tags": []
   },
   "outputs": [],
   "source": [
    "base = Path('/home/MRC.OX.AC.UK/ndcn1330/ettin')\n",
    "path = base / Path('Julien/Data/head-fixed/by_sessions/reaching_go_spout_bar_nov22/kms058-2023-03-23-191740/ephys/sorting')"
   ]
  },
  {
   "cell_type": "code",
   "execution_count": 4,
   "id": "3ac79332-edf4-4cb8-83ce-a49490d38f4b",
   "metadata": {
    "tags": []
   },
   "outputs": [],
   "source": [
    "figure_output = Path('Julien/Data/head-fixed/by_sessions/reaching_go_spout_bar_nov22/kms058-2023-03-23-191740/processed/figures/ephys')"
   ]
  },
  {
   "cell_type": "code",
   "execution_count": 5,
   "id": "e3d35466",
   "metadata": {
    "tags": []
   },
   "outputs": [
    {
     "data": {
      "text/plain": [
       "626.1124"
      ]
     },
     "execution_count": 5,
     "metadata": {},
     "output_type": "execute_result"
    }
   ],
   "source": [
    "# Manualliy find the correct timestamp file for now\n",
    "rec_properties = pd.read_csv(path.parent/'rec_properties.csv')\n",
    "rec_properties.sync_path.iloc[2]\n",
    "\n",
    "# Manually get the start time for now\n",
    "# TODO: fix the bug in create_folder\n",
    "tstart = rec_properties.tstart.iloc[0]\n",
    "tstart"
   ]
  },
  {
   "cell_type": "markdown",
   "id": "9b1e482b",
   "metadata": {},
   "source": [
    "# Data sync"
   ]
  },
  {
   "cell_type": "code",
   "execution_count": null,
   "id": "923477c9",
   "metadata": {
    "tags": []
   },
   "outputs": [],
   "source": [
    "#load and create the sync object\n",
    "# sync to photometry data for now, but later probably should sync everything back to pycontrol\n",
    "\n",
    "photo_file = list((path.parents[1]/'pyphotometry').glob('*.ppd'))[0]\n",
    "photo_data = import_ppd(photo_file)\n",
    "photo_time = photo_data['pulse_times_2']\n",
    "rsync = create_sync_photo_ephys(photo_time, path.parent/'correct')\n",
    "assert rsync is not None"
   ]
  },
  {
   "cell_type": "code",
   "execution_count": null,
   "id": "ff591310-099b-4383-ac7b-baf24d3bc446",
   "metadata": {
    "tags": []
   },
   "outputs": [],
   "source": [
    "#load the spike extractor\n",
    "probe_sorting = si.load_extractor(path/sel_probe)"
   ]
  },
  {
   "cell_type": "code",
   "execution_count": null,
   "id": "82296a4d-2e39-4ba7-be9a-59553034589d",
   "metadata": {
    "tags": []
   },
   "outputs": [],
   "source": [
    "# Sync and  all the sorting to ms\n",
    "# spike time from sorting count from the beginning of the recording\n",
    "# where the rsync time count from the beginning of the open ephys session\n",
    "# so we need to shift the spike time to the ephys rsync time unit first\n",
    "\n",
    "def get_sorting_spiketime(sorting,rsync,tstart, Fs=30000):\n",
    "    spike_times = []\n",
    "    max_time = 0\n",
    "    for id in tqdm(probe_sorting.get_unit_ids()):\n",
    "        spk_time = probe_sorting.get_unit_spike_train(id)\n",
    "        spk_time = (spk_time/Fs+tstart)*1000 #need to shift by the starting time of recording\n",
    "        spk_time = rsync.A_to_B(spk_time)\n",
    "\n",
    "        if len(spk_time)>0:\n",
    "            max_time = max(max_time, spk_time[-1])\n",
    "        spike_times.append(spk_time)\n",
    "    return spike_times\n",
    "\n",
    "spike_times = get_sorting_spiketime(probe_sorting, rsync, tstart)"
   ]
  },
  {
   "cell_type": "code",
   "execution_count": null,
   "id": "ac2bf1ad",
   "metadata": {
    "tags": []
   },
   "outputs": [],
   "source": [
    "# load xarray data and use that to bin the firing rate\n",
    "xr_session = xr.load_dataset(path.parents[1]/'processed'/'xr_session.nc')"
   ]
  },
  {
   "cell_type": "code",
   "execution_count": null,
   "id": "f67aa124",
   "metadata": {
    "tags": []
   },
   "outputs": [],
   "source": [
    "# convert spike timing to firing rate\n",
    "def calculate_spike_rate(spike_times, bins, bin_size):\n",
    "    spike_rates = np.zeros((len(bins)-1, len(spike_times)))\n",
    "    for i in tqdm(range(len(spike_times))):\n",
    "        count, _ = np.histogram(spike_times[i], bins) \n",
    "        spike_rates[:,i] = count * (1000/bin_size)\n",
    "    return spike_rates\n",
    "\n",
    "bin_size = 50\n",
    "bins = np.append(xr_session.time.data, xr_session.time.data[-1]+50) # make sure we cover the whole range\n",
    "\n",
    "spike_rates = calculate_spike_rate(spike_times, bins, bin_size)\n"
   ]
  },
  {
   "cell_type": "code",
   "execution_count": null,
   "id": "b8e4c8d1",
   "metadata": {
    "tags": []
   },
   "outputs": [],
   "source": [
    "fig,ax = plt.subplots(1,1,figsize=(12,8))\n",
    "plt.imshow(spike_rates.T, vmax=10)\n",
    "plt.colorbar()\n",
    "ax.set_aspect(50)\n",
    "xticks = np.linspace(0,spike_rates.shape[0],10).astype(int)\n",
    "ax.set_xticks(xticks);\n",
    "labels = [f'{x:.2f}' for x in bins[xticks]/1000/60]\n",
    "ax.set_xticklabels(labels);"
   ]
  },
  {
   "cell_type": "code",
   "execution_count": null,
   "id": "8f47651a-2396-4193-ad83-e0a8d57fe608",
   "metadata": {
    "tags": []
   },
   "outputs": [],
   "source": [
    "cluster_ids = probe_sorting.get_unit_ids()\n",
    "xa_spike_rate = xr.DataArray(\n",
    "    spike_rates, coords={'time':bins[:-1], \n",
    "                         'cluster_id':cluster_ids},\n",
    "    dims=('time','cluster_id'))\n",
    "\n",
    "xr_session['spike_rate'] = xa_spike_rate"
   ]
  },
  {
   "cell_type": "markdown",
   "id": "c534a80f-f90f-484a-bb36-19ac75af680c",
   "metadata": {},
   "source": [
    "## Align spike data to events"
   ]
  },
  {
   "cell_type": "code",
   "execution_count": null,
   "id": "ae2dfff7-26b3-48e1-9e58-18cc8dee09e4",
   "metadata": {
    "tags": []
   },
   "outputs": [],
   "source": [
    "df_pycontrol = pd.read_pickle(path.parents[1]/'processed'/'df_pycontrol.pkl')\n",
    "rsync_time = df_pycontrol[df_pycontrol.name=='rsync'].time\n",
    "pyphoto_aligner = Rsync_aligner(pulse_times_A= rsync_time, \n",
    "                pulse_times_B= photo_time, plot=False) #align pycontrol time to pyphotometry time\n"
   ]
  },
  {
   "cell_type": "code",
   "execution_count": null,
   "id": "d09a3bab-acaa-41f7-ad5e-a06df4b5d7ac",
   "metadata": {
    "tags": []
   },
   "outputs": [],
   "source": [
    "df_event = pd.read_pickle(path.parents[1]/'processed'/'df_events_cond.pkl')\n",
    "trial_window = df_event.attrs['trial_window']\n",
    "dataset = xr_session.copy()"
   ]
  },
  {
   "cell_type": "code",
   "execution_count": null,
   "id": "f8a6538f-2107-4e51-946f-3b927dae07bc",
   "metadata": {
    "tags": []
   },
   "outputs": [],
   "source": [
    "trigger = df_event.attrs['triggers'][0]\n",
    "event_time_coord = dataset.event_time\n",
    "sampling_rate = dataset.attrs['sampling_rate']/bin_size #the data has already been downsampled\n",
    "add_event_data(df_event, event_filters.get_first_event_from_name,\n",
    "               trial_window, pyphoto_aligner, dataset, event_time_coord, \n",
    "               'spike_rate', trigger, sampling_rate,\n",
    "               filter_func_kwargs={'evt_name':trigger}, \n",
    "               time_tolerance=bin_size, \n",
    "               extra_dimen=['cluster_id'], extra_coord={'cluster_id':cluster_ids})"
   ]
  },
  {
   "cell_type": "code",
   "execution_count": null,
   "id": "3e87a25b-d304-4162-9c9d-7ae8dbb5865a",
   "metadata": {
    "tags": []
   },
   "outputs": [],
   "source": [
    "add_event_data(df_event, event_filters.get_first_bar_off, trial_window,\n",
    "               pyphoto_aligner, dataset, event_time_coord, \n",
    "               'spike_rate', 'first_bar_off', sampling_rate, \n",
    "              time_tolerance=bin_size, filter_func_kwargs={},\n",
    "               extra_dimen=['cluster_id'], extra_coord={'cluster_id':cluster_ids})"
   ]
  },
  {
   "cell_type": "code",
   "execution_count": null,
   "id": "36135ef9-02ad-4ba7-a5ce-61e49f98d3a3",
   "metadata": {
    "tags": []
   },
   "outputs": [],
   "source": [
    "add_event_data(df_event, event_filters.get_first_spout, trial_window,\n",
    "               pyphoto_aligner, dataset, event_time_coord, \n",
    "               'spike_rate', 'first_spout', sampling_rate, \n",
    "              time_tolerance=bin_size, filter_func_kwargs={},\n",
    "               extra_dimen=['cluster_id'], extra_coord={'cluster_id':cluster_ids})"
   ]
  },
  {
   "cell_type": "code",
   "execution_count": null,
   "id": "2f41bb9a-94a2-43d5-8840-2b1d22ac2386",
   "metadata": {},
   "outputs": [],
   "source": [
    "dataset.attrs['spike_times'] = spike_times\n",
    "dataset.to_netcdf(path.parents[1]/'processed'/'xr_spikes.nc', engine='h5netcdf')"
   ]
  },
  {
   "cell_type": "code",
   "execution_count": null,
   "id": "d9f3a2fd-514e-434e-9f74-b2060102cd34",
   "metadata": {
    "tags": []
   },
   "outputs": [],
   "source": [
    "plt.plot(dataset['hold_for_water_analog_1_df_over_f'].data[0,:,:].T);"
   ]
  },
  {
   "cell_type": "code",
   "execution_count": null,
   "id": "314809ee-e77f-4551-8817-8d18e71d23fb",
   "metadata": {
    "tags": []
   },
   "outputs": [],
   "source": [
    "x = np.nanmean(dataset['first_spout_spike_rate'].data,axis=0)\n",
    "\n",
    "def align_peak(x):\n",
    "    # Align the data according to peak location\n",
    "    x = np.nanmean(dataset['first_spout_spike_rate'].data,axis=0)\n",
    "    maxidx = np.argmax(x,axis=0)\n",
    "    idx = np.argsort(maxidx)\n",
    "    \n",
    "    return x[:,idx], idx\n",
    "\n",
    "def plot_rate_map(rates, xlabels, vline_x, nxsticks=10):\n",
    "    # rate is assumed to be a 2D array in the shape (time x channel)\n",
    "    fig,ax = plt.subplots(1,1,figsize=(12,8))\n",
    "    plt.imshow(rates.T, vmax=10)\n",
    "    plt.colorbar()\n",
    "    ax.set_aspect(0.2)\n",
    "    \n",
    "    # figure out the correct tick label\n",
    "    \n",
    "    xticks = np.linspace(0,rates.shape[0]-1,nxsticks).astype(int)\n",
    "    ax.set_xticks(xticks);\n",
    "    labls = np.array([f'{x:.2f}' for x in xlabels])\n",
    "    ax.set_xticklabels(labls[xticks]);\n",
    "    \n",
    "    # find the cloest match 0 point\n",
    "    zero_pt = np.argmin(abs(vline_x-xlabels))\n",
    "    \n",
    "    ax.axvline(zero_pt,color='w')\n",
    "\n",
    "xlabels = np.round(dataset.event_time.data/50)*50 #round to the nearest 10ms\n",
    "xsorted,chan_sort_idx = align_peak(x)\n",
    "plot_rate_map(xsorted, xlabels/1000, 0)"
   ]
  },
  {
   "cell_type": "code",
   "execution_count": null,
   "id": "2200177e-9ee1-4dd6-b321-d78d3574f68a",
   "metadata": {
    "tags": []
   },
   "outputs": [],
   "source": [
    "x = np.nanmean(dataset['first_bar_off_spike_rate'].data,axis=0)\n",
    "xlabels = np.round(dataset.event_time.data/50)*50 #round to the nearest 10ms\n",
    "plot_rate_map(x[:,chan_sort_idx], xlabels/1000, 0)"
   ]
  },
  {
   "cell_type": "code",
   "execution_count": null,
   "id": "e10db0b5-10c2-4a8f-94d1-77c1ca561069",
   "metadata": {
    "tags": []
   },
   "outputs": [],
   "source": [
    "x = np.nanmean(dataset['hold_for_water_spike_rate'].data,axis=0)\n",
    "xlabels = np.round(dataset.event_time.data/50)*50 #round to the nearest 10ms\n",
    "plot_rate_map(x[:,chan_sort_idx], xlabels/1000, 0)"
   ]
  },
  {
   "cell_type": "code",
   "execution_count": null,
   "id": "5dfe956b-658f-4dfb-bcab-d22ef376febb",
   "metadata": {},
   "outputs": [],
   "source": [
    "x = np.nanmean(dataset['first_bar_off_df_over_f'].data,axis=0)\n"
   ]
  }
 ],
 "metadata": {
  "kernelspec": {
   "display_name": "Python 3 (ipykernel)",
   "language": "python",
   "name": "python3"
  },
  "language_info": {
   "codemirror_mode": {
    "name": "ipython",
    "version": 3
   },
   "file_extension": ".py",
   "mimetype": "text/x-python",
   "name": "python",
   "nbconvert_exporter": "python",
   "pygments_lexer": "ipython3",
   "version": "3.9.16"
  }
 },
 "nbformat": 4,
 "nbformat_minor": 5
}
