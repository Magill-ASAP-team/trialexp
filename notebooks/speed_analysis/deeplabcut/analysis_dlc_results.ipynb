{
 "cells": [
  {
   "cell_type": "code",
   "execution_count": 1,
   "id": "3900a68b-0cf2-4049-a3b7-7de2cc1ac932",
   "metadata": {
    "tags": []
   },
   "outputs": [],
   "source": [
    "import pandas as pd\n",
    "import seaborn as sns\n",
    "import cv2\n",
    "import matplotlib.pylab as plt\n",
    "from moviepy.editor import VideoClip\n",
    "from moviepy.video.io.bindings import mplfig_to_npimage\n",
    "import numpy as np\n",
    "from tqdm.auto import tqdm\n",
    "from IPython.display import Video\n",
    "from scipy import signal\n",
    "from trialexp.process.deeplabcut.utils import merge_marker_likelihood, interpolate_bad_points, lowpass_coords"
   ]
  },
  {
   "cell_type": "code",
   "execution_count": 2,
   "id": "bbcfc801-43fa-40e1-b834-059aef02fdb3",
   "metadata": {
    "tags": []
   },
   "outputs": [],
   "source": [
    "# fn = 'short_video_recode'\n",
    "fn = '06-14-23_14-40-49.000_TT002_Rig_3_Side_recode'\n",
    "videofile_path = '/home/MRC.OX.AC.UK/ndcn1330/ettin/Julien/Data/head-fixed/by_sessions/reaching_go_spout_bar_nov22/TT002-2023-06-14-144112/video/'\n",
    "analysis_results = videofile_path +f'{fn}DLC_resnet50_side_2_hands_newobjJuly3shuffle1_200000.h5'\n",
    "df = pd.read_hdf(analysis_results)"
   ]
  },
  {
   "cell_type": "code",
   "execution_count": 3,
   "id": "d0931707-6057-465f-9091-8c24710de25f",
   "metadata": {
    "tags": []
   },
   "outputs": [
    {
     "data": {
      "text/html": [
       "<div>\n",
       "<style scoped>\n",
       "    .dataframe tbody tr th:only-of-type {\n",
       "        vertical-align: middle;\n",
       "    }\n",
       "\n",
       "    .dataframe tbody tr th {\n",
       "        vertical-align: top;\n",
       "    }\n",
       "\n",
       "    .dataframe thead tr th {\n",
       "        text-align: left;\n",
       "    }\n",
       "</style>\n",
       "<table border=\"1\" class=\"dataframe\">\n",
       "  <thead>\n",
       "    <tr>\n",
       "      <th>bodyparts</th>\n",
       "      <th colspan=\"3\" halign=\"left\">shoulder</th>\n",
       "      <th colspan=\"3\" halign=\"left\">elbow</th>\n",
       "      <th colspan=\"3\" halign=\"left\">wrist</th>\n",
       "      <th>MCP II</th>\n",
       "      <th>...</th>\n",
       "      <th>nose tip</th>\n",
       "      <th colspan=\"3\" halign=\"left\">spout</th>\n",
       "      <th colspan=\"3\" halign=\"left\">eye</th>\n",
       "      <th colspan=\"3\" halign=\"left\">ear</th>\n",
       "    </tr>\n",
       "    <tr>\n",
       "      <th>coords</th>\n",
       "      <th>x</th>\n",
       "      <th>y</th>\n",
       "      <th>likelihood</th>\n",
       "      <th>x</th>\n",
       "      <th>y</th>\n",
       "      <th>likelihood</th>\n",
       "      <th>x</th>\n",
       "      <th>y</th>\n",
       "      <th>likelihood</th>\n",
       "      <th>x</th>\n",
       "      <th>...</th>\n",
       "      <th>likelihood</th>\n",
       "      <th>x</th>\n",
       "      <th>y</th>\n",
       "      <th>likelihood</th>\n",
       "      <th>x</th>\n",
       "      <th>y</th>\n",
       "      <th>likelihood</th>\n",
       "      <th>x</th>\n",
       "      <th>y</th>\n",
       "      <th>likelihood</th>\n",
       "    </tr>\n",
       "  </thead>\n",
       "  <tbody>\n",
       "    <tr>\n",
       "      <th>0</th>\n",
       "      <td>991.621338</td>\n",
       "      <td>595.338806</td>\n",
       "      <td>0.127445</td>\n",
       "      <td>918.294617</td>\n",
       "      <td>663.654541</td>\n",
       "      <td>0.503556</td>\n",
       "      <td>847.223755</td>\n",
       "      <td>700.711670</td>\n",
       "      <td>0.969346</td>\n",
       "      <td>768.807861</td>\n",
       "      <td>...</td>\n",
       "      <td>0.556478</td>\n",
       "      <td>383.540253</td>\n",
       "      <td>600.704834</td>\n",
       "      <td>0.969319</td>\n",
       "      <td>532.055115</td>\n",
       "      <td>363.968994</td>\n",
       "      <td>0.186473</td>\n",
       "      <td>810.662659</td>\n",
       "      <td>409.185303</td>\n",
       "      <td>0.994588</td>\n",
       "    </tr>\n",
       "    <tr>\n",
       "      <th>1</th>\n",
       "      <td>1002.902039</td>\n",
       "      <td>582.032837</td>\n",
       "      <td>0.071112</td>\n",
       "      <td>918.675171</td>\n",
       "      <td>664.634338</td>\n",
       "      <td>0.521229</td>\n",
       "      <td>846.968689</td>\n",
       "      <td>700.723328</td>\n",
       "      <td>0.967264</td>\n",
       "      <td>768.723877</td>\n",
       "      <td>...</td>\n",
       "      <td>0.554423</td>\n",
       "      <td>383.372406</td>\n",
       "      <td>600.562012</td>\n",
       "      <td>0.968242</td>\n",
       "      <td>531.857666</td>\n",
       "      <td>363.955688</td>\n",
       "      <td>0.190279</td>\n",
       "      <td>810.597961</td>\n",
       "      <td>409.123322</td>\n",
       "      <td>0.994528</td>\n",
       "    </tr>\n",
       "    <tr>\n",
       "      <th>2</th>\n",
       "      <td>991.756470</td>\n",
       "      <td>594.737549</td>\n",
       "      <td>0.077259</td>\n",
       "      <td>918.891785</td>\n",
       "      <td>664.144958</td>\n",
       "      <td>0.586142</td>\n",
       "      <td>847.393860</td>\n",
       "      <td>700.864197</td>\n",
       "      <td>0.970357</td>\n",
       "      <td>768.684265</td>\n",
       "      <td>...</td>\n",
       "      <td>0.576390</td>\n",
       "      <td>383.696503</td>\n",
       "      <td>601.267212</td>\n",
       "      <td>0.974352</td>\n",
       "      <td>532.015442</td>\n",
       "      <td>363.864105</td>\n",
       "      <td>0.181403</td>\n",
       "      <td>810.625793</td>\n",
       "      <td>409.111481</td>\n",
       "      <td>0.994521</td>\n",
       "    </tr>\n",
       "    <tr>\n",
       "      <th>3</th>\n",
       "      <td>991.955872</td>\n",
       "      <td>594.887695</td>\n",
       "      <td>0.126959</td>\n",
       "      <td>918.397644</td>\n",
       "      <td>664.288269</td>\n",
       "      <td>0.536652</td>\n",
       "      <td>847.225342</td>\n",
       "      <td>700.484619</td>\n",
       "      <td>0.972246</td>\n",
       "      <td>768.901184</td>\n",
       "      <td>...</td>\n",
       "      <td>0.563120</td>\n",
       "      <td>383.146576</td>\n",
       "      <td>600.728638</td>\n",
       "      <td>0.970146</td>\n",
       "      <td>531.975403</td>\n",
       "      <td>363.682831</td>\n",
       "      <td>0.183368</td>\n",
       "      <td>810.412292</td>\n",
       "      <td>408.986298</td>\n",
       "      <td>0.994447</td>\n",
       "    </tr>\n",
       "    <tr>\n",
       "      <th>4</th>\n",
       "      <td>991.847595</td>\n",
       "      <td>596.309631</td>\n",
       "      <td>0.096585</td>\n",
       "      <td>918.299744</td>\n",
       "      <td>663.944031</td>\n",
       "      <td>0.580572</td>\n",
       "      <td>847.443115</td>\n",
       "      <td>700.758545</td>\n",
       "      <td>0.972626</td>\n",
       "      <td>768.779419</td>\n",
       "      <td>...</td>\n",
       "      <td>0.552160</td>\n",
       "      <td>383.099823</td>\n",
       "      <td>600.338440</td>\n",
       "      <td>0.980006</td>\n",
       "      <td>532.080078</td>\n",
       "      <td>363.545959</td>\n",
       "      <td>0.155370</td>\n",
       "      <td>810.637573</td>\n",
       "      <td>409.071716</td>\n",
       "      <td>0.995017</td>\n",
       "    </tr>\n",
       "    <tr>\n",
       "      <th>...</th>\n",
       "      <td>...</td>\n",
       "      <td>...</td>\n",
       "      <td>...</td>\n",
       "      <td>...</td>\n",
       "      <td>...</td>\n",
       "      <td>...</td>\n",
       "      <td>...</td>\n",
       "      <td>...</td>\n",
       "      <td>...</td>\n",
       "      <td>...</td>\n",
       "      <td>...</td>\n",
       "      <td>...</td>\n",
       "      <td>...</td>\n",
       "      <td>...</td>\n",
       "      <td>...</td>\n",
       "      <td>...</td>\n",
       "      <td>...</td>\n",
       "      <td>...</td>\n",
       "      <td>...</td>\n",
       "      <td>...</td>\n",
       "      <td>...</td>\n",
       "    </tr>\n",
       "    <tr>\n",
       "      <th>179994</th>\n",
       "      <td>956.973633</td>\n",
       "      <td>593.197327</td>\n",
       "      <td>0.122980</td>\n",
       "      <td>963.933960</td>\n",
       "      <td>691.228088</td>\n",
       "      <td>0.211754</td>\n",
       "      <td>819.267822</td>\n",
       "      <td>721.483459</td>\n",
       "      <td>0.981399</td>\n",
       "      <td>786.388916</td>\n",
       "      <td>...</td>\n",
       "      <td>0.634877</td>\n",
       "      <td>385.434052</td>\n",
       "      <td>598.303284</td>\n",
       "      <td>0.989263</td>\n",
       "      <td>535.615479</td>\n",
       "      <td>363.955231</td>\n",
       "      <td>0.131899</td>\n",
       "      <td>797.260925</td>\n",
       "      <td>407.608032</td>\n",
       "      <td>0.586787</td>\n",
       "    </tr>\n",
       "    <tr>\n",
       "      <th>179995</th>\n",
       "      <td>957.105042</td>\n",
       "      <td>593.690369</td>\n",
       "      <td>0.198047</td>\n",
       "      <td>959.050720</td>\n",
       "      <td>692.137939</td>\n",
       "      <td>0.202323</td>\n",
       "      <td>819.025208</td>\n",
       "      <td>721.761963</td>\n",
       "      <td>0.982233</td>\n",
       "      <td>786.104675</td>\n",
       "      <td>...</td>\n",
       "      <td>0.630662</td>\n",
       "      <td>385.513519</td>\n",
       "      <td>598.323792</td>\n",
       "      <td>0.989024</td>\n",
       "      <td>535.564758</td>\n",
       "      <td>364.106201</td>\n",
       "      <td>0.130924</td>\n",
       "      <td>797.346497</td>\n",
       "      <td>407.574371</td>\n",
       "      <td>0.593060</td>\n",
       "    </tr>\n",
       "    <tr>\n",
       "      <th>179996</th>\n",
       "      <td>956.741272</td>\n",
       "      <td>593.477783</td>\n",
       "      <td>0.192084</td>\n",
       "      <td>958.899231</td>\n",
       "      <td>692.169312</td>\n",
       "      <td>0.264599</td>\n",
       "      <td>819.036621</td>\n",
       "      <td>721.683777</td>\n",
       "      <td>0.982465</td>\n",
       "      <td>786.385620</td>\n",
       "      <td>...</td>\n",
       "      <td>0.637718</td>\n",
       "      <td>385.701599</td>\n",
       "      <td>598.329102</td>\n",
       "      <td>0.989571</td>\n",
       "      <td>535.512939</td>\n",
       "      <td>364.197723</td>\n",
       "      <td>0.129217</td>\n",
       "      <td>797.363892</td>\n",
       "      <td>407.407959</td>\n",
       "      <td>0.607735</td>\n",
       "    </tr>\n",
       "    <tr>\n",
       "      <th>179997</th>\n",
       "      <td>956.710022</td>\n",
       "      <td>592.642883</td>\n",
       "      <td>0.215794</td>\n",
       "      <td>958.734375</td>\n",
       "      <td>691.945374</td>\n",
       "      <td>0.235406</td>\n",
       "      <td>818.280701</td>\n",
       "      <td>721.692993</td>\n",
       "      <td>0.981747</td>\n",
       "      <td>772.877136</td>\n",
       "      <td>...</td>\n",
       "      <td>0.646773</td>\n",
       "      <td>385.726746</td>\n",
       "      <td>598.331421</td>\n",
       "      <td>0.990234</td>\n",
       "      <td>535.455688</td>\n",
       "      <td>364.151855</td>\n",
       "      <td>0.130029</td>\n",
       "      <td>797.664551</td>\n",
       "      <td>407.119690</td>\n",
       "      <td>0.667080</td>\n",
       "    </tr>\n",
       "    <tr>\n",
       "      <th>179998</th>\n",
       "      <td>956.585632</td>\n",
       "      <td>592.388306</td>\n",
       "      <td>0.194634</td>\n",
       "      <td>958.788513</td>\n",
       "      <td>691.872681</td>\n",
       "      <td>0.264314</td>\n",
       "      <td>818.280579</td>\n",
       "      <td>721.588806</td>\n",
       "      <td>0.981542</td>\n",
       "      <td>773.121887</td>\n",
       "      <td>...</td>\n",
       "      <td>0.631749</td>\n",
       "      <td>385.780334</td>\n",
       "      <td>598.353210</td>\n",
       "      <td>0.989854</td>\n",
       "      <td>535.337402</td>\n",
       "      <td>364.065979</td>\n",
       "      <td>0.145813</td>\n",
       "      <td>797.630859</td>\n",
       "      <td>407.112854</td>\n",
       "      <td>0.657087</td>\n",
       "    </tr>\n",
       "  </tbody>\n",
       "</table>\n",
       "<p>179999 rows × 63 columns</p>\n",
       "</div>"
      ],
      "text/plain": [
       "bodyparts     shoulder                              elbow              \\\n",
       "coords               x           y likelihood           x           y   \n",
       "0           991.621338  595.338806   0.127445  918.294617  663.654541   \n",
       "1          1002.902039  582.032837   0.071112  918.675171  664.634338   \n",
       "2           991.756470  594.737549   0.077259  918.891785  664.144958   \n",
       "3           991.955872  594.887695   0.126959  918.397644  664.288269   \n",
       "4           991.847595  596.309631   0.096585  918.299744  663.944031   \n",
       "...                ...         ...        ...         ...         ...   \n",
       "179994      956.973633  593.197327   0.122980  963.933960  691.228088   \n",
       "179995      957.105042  593.690369   0.198047  959.050720  692.137939   \n",
       "179996      956.741272  593.477783   0.192084  958.899231  692.169312   \n",
       "179997      956.710022  592.642883   0.215794  958.734375  691.945374   \n",
       "179998      956.585632  592.388306   0.194634  958.788513  691.872681   \n",
       "\n",
       "bodyparts                  wrist                             MCP II  ...  \\\n",
       "coords    likelihood           x           y likelihood           x  ...   \n",
       "0           0.503556  847.223755  700.711670   0.969346  768.807861  ...   \n",
       "1           0.521229  846.968689  700.723328   0.967264  768.723877  ...   \n",
       "2           0.586142  847.393860  700.864197   0.970357  768.684265  ...   \n",
       "3           0.536652  847.225342  700.484619   0.972246  768.901184  ...   \n",
       "4           0.580572  847.443115  700.758545   0.972626  768.779419  ...   \n",
       "...              ...         ...         ...        ...         ...  ...   \n",
       "179994      0.211754  819.267822  721.483459   0.981399  786.388916  ...   \n",
       "179995      0.202323  819.025208  721.761963   0.982233  786.104675  ...   \n",
       "179996      0.264599  819.036621  721.683777   0.982465  786.385620  ...   \n",
       "179997      0.235406  818.280701  721.692993   0.981747  772.877136  ...   \n",
       "179998      0.264314  818.280579  721.588806   0.981542  773.121887  ...   \n",
       "\n",
       "bodyparts   nose tip       spout                                eye  \\\n",
       "coords    likelihood           x           y likelihood           x   \n",
       "0           0.556478  383.540253  600.704834   0.969319  532.055115   \n",
       "1           0.554423  383.372406  600.562012   0.968242  531.857666   \n",
       "2           0.576390  383.696503  601.267212   0.974352  532.015442   \n",
       "3           0.563120  383.146576  600.728638   0.970146  531.975403   \n",
       "4           0.552160  383.099823  600.338440   0.980006  532.080078   \n",
       "...              ...         ...         ...        ...         ...   \n",
       "179994      0.634877  385.434052  598.303284   0.989263  535.615479   \n",
       "179995      0.630662  385.513519  598.323792   0.989024  535.564758   \n",
       "179996      0.637718  385.701599  598.329102   0.989571  535.512939   \n",
       "179997      0.646773  385.726746  598.331421   0.990234  535.455688   \n",
       "179998      0.631749  385.780334  598.353210   0.989854  535.337402   \n",
       "\n",
       "bodyparts                                ear                         \n",
       "coords              y likelihood           x           y likelihood  \n",
       "0          363.968994   0.186473  810.662659  409.185303   0.994588  \n",
       "1          363.955688   0.190279  810.597961  409.123322   0.994528  \n",
       "2          363.864105   0.181403  810.625793  409.111481   0.994521  \n",
       "3          363.682831   0.183368  810.412292  408.986298   0.994447  \n",
       "4          363.545959   0.155370  810.637573  409.071716   0.995017  \n",
       "...               ...        ...         ...         ...        ...  \n",
       "179994     363.955231   0.131899  797.260925  407.608032   0.586787  \n",
       "179995     364.106201   0.130924  797.346497  407.574371   0.593060  \n",
       "179996     364.197723   0.129217  797.363892  407.407959   0.607735  \n",
       "179997     364.151855   0.130029  797.664551  407.119690   0.667080  \n",
       "179998     364.065979   0.145813  797.630859  407.112854   0.657087  \n",
       "\n",
       "[179999 rows x 63 columns]"
      ]
     },
     "execution_count": 3,
     "metadata": {},
     "output_type": "execute_result"
    }
   ],
   "source": [
    "df.columns = df.columns.droplevel(level=0)\n",
    "df"
   ]
  },
  {
   "cell_type": "code",
   "execution_count": 4,
   "id": "01c393a7-9bdc-4f11-86da-94f173873a63",
   "metadata": {
    "tags": []
   },
   "outputs": [
    {
     "data": {
      "text/plain": [
       "bodyparts  coords    \n",
       "shoulder   likelihood    0.301538\n",
       "elbow      likelihood    0.406322\n",
       "wrist      likelihood    0.895791\n",
       "MCP II     likelihood    0.379583\n",
       "MCP III    likelihood    0.408112\n",
       "MCP IV     likelihood    0.432008\n",
       "MCP V      likelihood    0.447501\n",
       "IP II      likelihood    0.394233\n",
       "IP III     likelihood    0.423805\n",
       "IP IV      likelihood    0.446453\n",
       "IP V       likelihood    0.358868\n",
       "tip II     likelihood    0.340228\n",
       "tip III    likelihood    0.596437\n",
       "tip IV     likelihood    0.542932\n",
       "tip V      likelihood    0.470448\n",
       "jaw        likelihood    0.703663\n",
       "tongue     likelihood    0.114425\n",
       "nose tip   likelihood    0.727157\n",
       "spout      likelihood    0.899498\n",
       "eye        likelihood    0.277148\n",
       "ear        likelihood    0.947401\n",
       "dtype: float64"
      ]
     },
     "execution_count": 4,
     "metadata": {},
     "output_type": "execute_result"
    }
   ],
   "source": [
    "df_likelihood = df.loc[:,(slice(None), \"likelihood\")]\n",
    "df_likelihood.mean()"
   ]
  },
  {
   "cell_type": "code",
   "execution_count": 5,
   "id": "652aaefd-e5c4-4127-9261-71facccf5e83",
   "metadata": {
    "tags": []
   },
   "outputs": [],
   "source": [
    "dftip = df.loc[:, df.columns.get_level_values(0).isin(['tip II','tip III'])]\n",
    "\n",
    "dfwrist = df.loc[:, df.columns.get_level_values(0).isin(['wrist'])]\n",
    "dfwrist.columns = dfwrist.columns.droplevel(0)"
   ]
  },
  {
   "cell_type": "code",
   "execution_count": 6,
   "id": "46c77a3f-b27b-4d11-98fa-162c8557703c",
   "metadata": {
    "tags": []
   },
   "outputs": [],
   "source": [
    "dftip = merge_marker_likelihood(dftip)"
   ]
  },
  {
   "cell_type": "code",
   "execution_count": 7,
   "id": "9aa515e7-8bab-45de-a484-ac7f2453ba0e",
   "metadata": {
    "tags": []
   },
   "outputs": [],
   "source": [
    "# dftip.loc[dfwrist['wrist','likelihood']<0.8,:] = None\n",
    "dfwrist = interpolate_bad_points(dfwrist,0.7)\n",
    "dftip = interpolate_bad_points(dftip,0.7)"
   ]
  },
  {
   "cell_type": "code",
   "execution_count": 8,
   "id": "91968260-1961-4784-869f-0170fb30ed44",
   "metadata": {
    "tags": []
   },
   "outputs": [],
   "source": [
    "dftipmean_smooth = lowpass_coords(dftip, 100, 20)\n",
    "dfwristmean_smooth = lowpass_coords(dfwrist, 100, 20)"
   ]
  },
  {
   "cell_type": "raw",
   "id": "293667eb-df4e-44e7-af30-3003abb3e3fa",
   "metadata": {
    "tags": []
   },
   "source": [
    "ax = sns.scatterplot(dftipmean_smooth, x='x',y='y', hue='likelihood')\n",
    "ax.set(xlim=[0,1000], ylim=[600,1000])\n",
    "ax.invert_yaxis()"
   ]
  },
  {
   "cell_type": "raw",
   "id": "1fe5f499-958c-4dd6-9063-684e31bfcac5",
   "metadata": {
    "tags": []
   },
   "source": [
    "ax = sns.scatterplot(dfwristmean_smooth, x='x',y='y', hue='likelihood')\n",
    "ax.set(xlim=[0,1000], ylim=[600,1000])\n",
    "ax.invert_yaxis()"
   ]
  },
  {
   "cell_type": "raw",
   "id": "a17b3eb4-f261-475a-aacd-4bc8d95f3790",
   "metadata": {
    "tags": []
   },
   "source": [
    "dfwristmean_smooth.likelihood.plot()"
   ]
  },
  {
   "cell_type": "raw",
   "id": "19713567-aa99-497c-b309-bee0326d6c8a",
   "metadata": {},
   "source": [
    "df['tip III','likelihood'].plot()"
   ]
  },
  {
   "cell_type": "markdown",
   "id": "3357d8e1-fa2e-4afb-9eb7-39634a948061",
   "metadata": {},
   "source": [
    "## Plot coordinate with video"
   ]
  },
  {
   "cell_type": "code",
   "execution_count": 9,
   "id": "df933bc1-8be5-4e7a-badf-11a68293514d",
   "metadata": {
    "tags": []
   },
   "outputs": [],
   "source": [
    "videofile_path = '/home/MRC.OX.AC.UK/ndcn1330/ettin/Julien/Data/head-fixed/by_sessions/reaching_go_spout_bar_nov22/TT002-2023-06-14-144112/video/'\n",
    "videofile = videofile_path +f'{fn}.mp4'"
   ]
  },
  {
   "cell_type": "code",
   "execution_count": 10,
   "id": "a545f7de-a2d6-4dc6-917f-5a1bd24ad000",
   "metadata": {
    "tags": []
   },
   "outputs": [],
   "source": [
    "video = cv2.VideoCapture(videofile)"
   ]
  },
  {
   "cell_type": "code",
   "execution_count": 13,
   "id": "0640e545-6799-4617-be99-2a7e08046f50",
   "metadata": {
    "tags": []
   },
   "outputs": [
    {
     "name": "stdout",
     "output_type": "stream",
     "text": [
      "Moviepy - Building video test_100.mp4.\n",
      "Moviepy - Writing video test_100.mp4\n",
      "\n"
     ]
    },
    {
     "name": "stderr",
     "output_type": "stream",
     "text": [
      "                                                                                                                                                      \r"
     ]
    },
    {
     "name": "stdout",
     "output_type": "stream",
     "text": [
      "Moviepy - Done !\n",
      "Moviepy - video ready test_100.mp4\n"
     ]
    },
    {
     "data": {
      "text/html": [
       "<video src=\"test.mp4\" controls  >\n",
       "      Your browser does not support the <code>video</code> element.\n",
       "    </video>"
      ],
      "text/plain": [
       "<IPython.core.display.Video object>"
      ]
     },
     "execution_count": 13,
     "metadata": {},
     "output_type": "execute_result"
    },
    {
     "data": {
      "image/png": "[encoded data removed]",
      "text/plain": [
       "<Figure size 640x480 with 1 Axes>"
      ]
     },
     "metadata": {},
     "output_type": "display_data"
    }
   ],
   "source": [
    "video = cv2.VideoCapture(videofile)\n",
    "fig, ax = plt.subplots()\n",
    "frame_no = 0\n",
    "fps = 100\n",
    "def make_frame(t):\n",
    "    frame_no = int(t*fps)\n",
    "    success, image = video.read()\n",
    "    df_frame_wrist = dfwristmean_smooth.iloc[frame_no]\n",
    "    df_frame_tip = dftipmean_smooth.iloc[frame_no]\n",
    "\n",
    "    # this is much faster than using matplotlib\n",
    "    image = cv2.circle(image, (int(df_frame_wrist.x), int(df_frame_wrist.y)), radius=10, color=(0, 0, 255), thickness=-1)\n",
    "    image = cv2.circle(image, (int(df_frame_tip.x), int(df_frame_tip.y)), radius=10, color=(255, 0, 0), thickness=-1)\n",
    "\n",
    "    return image\n",
    "\n",
    "\n",
    "duration = np.floor(len(dftipmean_smooth)/fps).astype(int)\n",
    "animation = VideoClip(make_frame, duration=180*100/fps)\n",
    "# animation = VideoClip(make_frame, duration=duration)\n",
    "\n",
    "animation.write_videofile(f'test_{fps}.mp4', fps=fps)\n",
    "Video('test.mp4')\n",
    "# animation.ipython_display(fps=30, loop=True, autoplay=True)"
   ]
  },
  {
   "cell_type": "code",
   "execution_count": 12,
   "id": "65ee6df0-3f2a-4585-a217-d25c783be1a1",
   "metadata": {
    "tags": []
   },
   "outputs": [],
   "source": [
    "dftipmean_smooth.to_pickle('dftip.pkl')\n",
    "dfwristmean_smooth.to_pickle('dfwrist.pkl')"
   ]
  }
 ],
 "metadata": {
  "kernelspec": {
   "display_name": "Python 3 (ipykernel)",
   "language": "python",
   "name": "python3"
  },
  "language_info": {
   "codemirror_mode": {
    "name": "ipython",
    "version": 3
   },
   "file_extension": ".py",
   "mimetype": "text/x-python",
   "name": "python",
   "nbconvert_exporter": "python",
   "pygments_lexer": "ipython3",
   "version": "3.9.16"
  }
 },
 "nbformat": 4,
 "nbformat_minor": 5
}
