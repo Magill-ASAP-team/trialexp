{
 "cells": [
  {
   "cell_type": "markdown",
   "id": "fa4385de-7072-425d-beee-1fd791ee652e",
   "metadata": {},
   "source": [
    "# Batch processing of Sharptrack results"
   ]
  },
  {
   "cell_type": "code",
   "execution_count": 6,
   "id": "037189bc-93c7-4586-a0e9-66ac6611a1a7",
   "metadata": {},
   "outputs": [],
   "source": [
    "import papermill as pm\n",
    "from tqdm.auto import tqdm"
   ]
  },
  {
   "cell_type": "code",
   "execution_count": 11,
   "id": "3cee3489-e4f5-4da8-bf91-5eae0ba89b0a",
   "metadata": {
    "editable": true,
    "slideshow": {
     "slide_type": ""
    },
    "tags": []
   },
   "outputs": [],
   "source": [
    "animal2process = [\n",
    "    'TT004',\n",
    "    'kms058',\n",
    "    'RE607',\n",
    "    'TT002']"
   ]
  },
  {
   "cell_type": "code",
   "execution_count": 12,
   "id": "893ecd7a-34fa-4c5e-9498-313c7211971c",
   "metadata": {},
   "outputs": [
    {
     "data": {
      "application/vnd.jupyter.widget-view+json": {
       "model_id": "a5deac99870b4012b4f7e9e17ff84317",
       "version_major": 2,
       "version_minor": 0
      },
      "text/plain": [
       "  0%|          | 0/4 [00:00<?, ?it/s]"
      ]
     },
     "metadata": {},
     "output_type": "display_data"
    },
    {
     "data": {
      "application/vnd.jupyter.widget-view+json": {
       "model_id": "16a39e498c554d559efa837c6546f03f",
       "version_major": 2,
       "version_minor": 0
      },
      "text/plain": [
       "Executing:   0%|          | 0/25 [00:00<?, ?cell/s]"
      ]
     },
     "metadata": {},
     "output_type": "display_data"
    },
    {
     "data": {
      "application/vnd.jupyter.widget-view+json": {
       "model_id": "5d50a7ba58234335bc0743d4c6ce72c2",
       "version_major": 2,
       "version_minor": 0
      },
      "text/plain": [
       "Executing:   0%|          | 0/25 [00:00<?, ?cell/s]"
      ]
     },
     "metadata": {},
     "output_type": "display_data"
    },
    {
     "data": {
      "application/vnd.jupyter.widget-view+json": {
       "model_id": "17a8579e76ac4ab88676c6bb0f74e1a9",
       "version_major": 2,
       "version_minor": 0
      },
      "text/plain": [
       "Executing:   0%|          | 0/25 [00:00<?, ?cell/s]"
      ]
     },
     "metadata": {},
     "output_type": "display_data"
    },
    {
     "data": {
      "application/vnd.jupyter.widget-view+json": {
       "model_id": "58b15e932dd249f1b3482f8a35be70e5",
       "version_major": 2,
       "version_minor": 0
      },
      "text/plain": [
       "Executing:   0%|          | 0/25 [00:00<?, ?cell/s]"
      ]
     },
     "metadata": {},
     "output_type": "display_data"
    }
   ],
   "source": [
    "for animal_id in tqdm(animal2process):\n",
    "    pm.execute_notebook(\n",
    "        'sharp_track_alignment.ipynb',\n",
    "        'sharp_track_alignment_output.ipynb',\n",
    "        parameters = {'animal_id':animal_id}\n",
    "    )"
   ]
  },
  {
   "cell_type": "code",
   "execution_count": null,
   "id": "30aa8985-54b1-435b-99bb-5e8ab61c73ea",
   "metadata": {},
   "outputs": [],
   "source": []
  }
 ],
 "metadata": {
  "kernelspec": {
   "display_name": "Python 3 (ipykernel)",
   "language": "python",
   "name": "python3"
  },
  "language_info": {
   "codemirror_mode": {
    "name": "ipython",
    "version": 3
   },
   "file_extension": ".py",
   "mimetype": "text/x-python",
   "name": "python",
   "nbconvert_exporter": "python",
   "pygments_lexer": "ipython3",
   "version": "3.9.16"
  }
 },
 "nbformat": 4,
 "nbformat_minor": 5
}
